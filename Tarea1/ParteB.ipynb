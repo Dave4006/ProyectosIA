{
 "cells": [
  {
   "attachments": {},
   "cell_type": "markdown",
   "metadata": {},
   "source": [
    "# Importar Modulos"
   ]
  },
  {
   "cell_type": "code",
   "execution_count": 19,
   "metadata": {},
   "outputs": [],
   "source": [
    "import pandas as pd\n",
    "import numpy as np\n",
    "import random\n",
    "import plotly.express as px\n",
    "import tensorflow as tf\n",
    "\n",
    "from sklearn.utils import shuffle\n",
    "import tensorflow_addons as tfa\n",
    "from IPython.display import display"
   ]
  },
  {
   "attachments": {},
   "cell_type": "markdown",
   "metadata": {},
   "source": [
    "# Importación de Datos"
   ]
  },
  {
   "cell_type": "code",
   "execution_count": 20,
   "metadata": {},
   "outputs": [
    {
     "data": {
      "text/plain": [
       "array([[-1.90091157, -0.95649244, 84.661783  ,  0.        , -5.14111195,\n",
       "         0.        ],\n",
       "       [-1.97916995, -1.02859692, 80.6861193 ,  0.        , -3.94172726,\n",
       "         0.        ],\n",
       "       [-2.06908788, -0.95496617, 76.42199044,  0.        , -4.0400594 ,\n",
       "         0.        ],\n",
       "       ...,\n",
       "       [-0.97407015,  0.96271487, -2.86648999, -3.13154504, -1.92349804,\n",
       "        -3.        ],\n",
       "       [ 0.        , -1.01153882, -4.94835311, -1.00633636,  0.95668863,\n",
       "        -3.        ],\n",
       "       [-1.02420578,  0.97435674,  4.1365242 ,  0.        , -1.00943195,\n",
       "        -3.        ]])"
      ]
     },
     "metadata": {},
     "output_type": "display_data"
    },
    {
     "data": {
      "text/html": [
       "<div>\n",
       "<style scoped>\n",
       "    .dataframe tbody tr th:only-of-type {\n",
       "        vertical-align: middle;\n",
       "    }\n",
       "\n",
       "    .dataframe tbody tr th {\n",
       "        vertical-align: top;\n",
       "    }\n",
       "\n",
       "    .dataframe thead th {\n",
       "        text-align: right;\n",
       "    }\n",
       "</style>\n",
       "<table border=\"1\" class=\"dataframe\">\n",
       "  <thead>\n",
       "    <tr style=\"text-align: right;\">\n",
       "      <th></th>\n",
       "      <th>labels</th>\n",
       "      <th>1</th>\n",
       "      <th>2</th>\n",
       "      <th>3</th>\n",
       "      <th>4</th>\n",
       "      <th>5</th>\n",
       "    </tr>\n",
       "  </thead>\n",
       "  <tbody>\n",
       "    <tr>\n",
       "      <th>0</th>\n",
       "      <td>normal</td>\n",
       "      <td></td>\n",
       "      <td></td>\n",
       "      <td></td>\n",
       "      <td></td>\n",
       "      <td></td>\n",
       "    </tr>\n",
       "    <tr>\n",
       "      <th>1</th>\n",
       "      <td>normal</td>\n",
       "      <td></td>\n",
       "      <td></td>\n",
       "      <td></td>\n",
       "      <td></td>\n",
       "      <td></td>\n",
       "    </tr>\n",
       "    <tr>\n",
       "      <th>2</th>\n",
       "      <td>normal</td>\n",
       "      <td></td>\n",
       "      <td></td>\n",
       "      <td></td>\n",
       "      <td></td>\n",
       "      <td></td>\n",
       "    </tr>\n",
       "    <tr>\n",
       "      <th>3</th>\n",
       "      <td>normal</td>\n",
       "      <td></td>\n",
       "      <td></td>\n",
       "      <td></td>\n",
       "      <td></td>\n",
       "      <td></td>\n",
       "    </tr>\n",
       "    <tr>\n",
       "      <th>4</th>\n",
       "      <td>normal</td>\n",
       "      <td></td>\n",
       "      <td></td>\n",
       "      <td></td>\n",
       "      <td></td>\n",
       "      <td></td>\n",
       "    </tr>\n",
       "    <tr>\n",
       "      <th>...</th>\n",
       "      <td>...</td>\n",
       "      <td>...</td>\n",
       "      <td>...</td>\n",
       "      <td>...</td>\n",
       "      <td>...</td>\n",
       "      <td>...</td>\n",
       "    </tr>\n",
       "    <tr>\n",
       "      <th>159</th>\n",
       "      <td>collision_in_tool</td>\n",
       "      <td></td>\n",
       "      <td></td>\n",
       "      <td></td>\n",
       "      <td></td>\n",
       "      <td></td>\n",
       "    </tr>\n",
       "    <tr>\n",
       "      <th>160</th>\n",
       "      <td>collision_in_tool</td>\n",
       "      <td></td>\n",
       "      <td></td>\n",
       "      <td></td>\n",
       "      <td></td>\n",
       "      <td></td>\n",
       "    </tr>\n",
       "    <tr>\n",
       "      <th>161</th>\n",
       "      <td>collision_in_tool</td>\n",
       "      <td></td>\n",
       "      <td></td>\n",
       "      <td></td>\n",
       "      <td></td>\n",
       "      <td></td>\n",
       "    </tr>\n",
       "    <tr>\n",
       "      <th>162</th>\n",
       "      <td>collision_in_tool</td>\n",
       "      <td></td>\n",
       "      <td></td>\n",
       "      <td></td>\n",
       "      <td></td>\n",
       "      <td></td>\n",
       "    </tr>\n",
       "    <tr>\n",
       "      <th>163</th>\n",
       "      <td>collision_in_tool</td>\n",
       "      <td></td>\n",
       "      <td></td>\n",
       "      <td></td>\n",
       "      <td></td>\n",
       "      <td></td>\n",
       "    </tr>\n",
       "  </tbody>\n",
       "</table>\n",
       "<p>164 rows × 6 columns</p>\n",
       "</div>"
      ],
      "text/plain": [
       "                labels 1  2  3  4  5 \n",
       "0               normal               \n",
       "1               normal               \n",
       "2               normal               \n",
       "3               normal               \n",
       "4               normal               \n",
       "..                 ... .. .. .. .. ..\n",
       "159  collision_in_tool               \n",
       "160  collision_in_tool               \n",
       "161  collision_in_tool               \n",
       "162  collision_in_tool               \n",
       "163  collision_in_tool               \n",
       "\n",
       "[164 rows x 6 columns]"
      ]
     },
     "metadata": {},
     "output_type": "display_data"
    },
    {
     "data": {
      "text/plain": [
       "array([[[ -2.,  -1.,  81.,   0.,  -5.,   0.],\n",
       "        [ -2.,  -1.,  79.,   0.,  -4.,   0.],\n",
       "        [ -2.,  -1.,  79.,   0.,  -4.,   0.],\n",
       "        ...,\n",
       "        [ -2.,  -1.,  78.,   0.,  -5.,   0.],\n",
       "        [ -3.,  -1.,  80.,   1.,  -4.,   1.],\n",
       "        [ -2.,  -1.,  79.,   0.,  -4.,   0.]],\n",
       "\n",
       "       [[  6.,  -1.,  79.,  -2.,   4.,  -3.],\n",
       "        [ 42.,  -3.,  80.,   5.,  53.,   3.],\n",
       "        [ -5.,   4.,  74., -15., -10.,  -1.],\n",
       "        ...,\n",
       "        [ -1.,  -5.,  80.,   6.,  -6.,   0.],\n",
       "        [ -4.,   5.,  78., -14.,  -9.,  -4.],\n",
       "        [ -4.,   1.,  80.,  -3., -12.,   5.]],\n",
       "\n",
       "       [[ -2.,  -6.,  85.,  14.,  -5.,   2.],\n",
       "        [  0.,   2.,  74.,  -7.,   1.,   0.],\n",
       "        [ -4.,  -5.,  76.,   7., -11.,   4.],\n",
       "        ...,\n",
       "        [  0.,  -9.,  87.,  13.,  -5.,   2.],\n",
       "        [ -5.,   5.,  67., -17., -16.,   7.],\n",
       "        [ -6., -10.,  86.,  16., -14.,  -1.]],\n",
       "\n",
       "       ...,\n",
       "\n",
       "       [[-12.,  17.,   3., -19., -10.,  -4.],\n",
       "        [-12.,  12.,  11., -13., -16.,  -4.],\n",
       "        [ -8.,   3.,   6.,   2., -11.,  -4.],\n",
       "        ...,\n",
       "        [  0.,   1.,   3.,   1.,   1.,  -3.],\n",
       "        [  1.,   2.,   9.,   0.,   3.,  -4.],\n",
       "        [  1.,   2.,   9.,   0.,   3.,  -4.]],\n",
       "\n",
       "       [[-41.,  21.,  -5., -23., -59.,  -4.],\n",
       "        [-32.,  21.,  -6., -25., -45.,  -4.],\n",
       "        [-21.,  12.,  -6., -14., -31.,  -4.],\n",
       "        ...,\n",
       "        [ -4.,   4.,   3.,   0.,  -1.,  -3.],\n",
       "        [ -4.,   3.,   2.,   2.,  -3.,  -3.],\n",
       "        [ -2.,   3.,   5.,   0.,  -2.,  -3.]],\n",
       "\n",
       "       [[  9., -10., -11.,  17.,   7.,  -4.],\n",
       "        [  5.,   0.,   4.,   0.,   7.,  -4.],\n",
       "        [ -3.,   6.,  -2.,  -8.,  -8.,  -4.],\n",
       "        ...,\n",
       "        [ -1.,   1.,  -3.,  -3.,  -2.,  -3.],\n",
       "        [  0.,  -1.,  -5.,  -1.,   1.,  -3.],\n",
       "        [ -1.,   1.,   4.,   0.,  -1.,  -3.]]])"
      ]
     },
     "metadata": {},
     "output_type": "display_data"
    },
    {
     "data": {
      "text/plain": [
       "array([[[ -1.90091157,  -0.95649244,  84.661783  ,   0.        ,\n",
       "          -5.14111195,   0.        ],\n",
       "        [ -1.97916995,  -1.02859692,  80.6861193 ,   0.        ,\n",
       "          -3.94172726,   0.        ],\n",
       "        [ -2.06908788,  -0.95496617,  76.42199044,   0.        ,\n",
       "          -4.0400594 ,   0.        ],\n",
       "        ...,\n",
       "        [ -2.05654688,  -0.99667058,  74.60197674,   0.        ,\n",
       "          -4.93022873,   0.        ],\n",
       "        [ -3.05843784,  -0.9744253 ,  80.73856599,   0.9645761 ,\n",
       "          -3.81339313,   1.        ],\n",
       "        [ -2.02688314,  -1.00187858,  78.17440953,   0.        ,\n",
       "          -4.06688821,   0.        ]],\n",
       "\n",
       "       [[  5.99046207,  -1.01732533,  79.94620355,  -2.02683152,\n",
       "           3.93532637,  -3.        ],\n",
       "        [ 42.46353058,  -3.04216732,  81.51809779,   5.10371105,\n",
       "          54.0579936 ,   3.        ],\n",
       "        [ -4.78064892,   3.83877091,  75.99069691, -14.92716389,\n",
       "          -9.89938362,  -1.        ],\n",
       "        ...,\n",
       "        [ -1.0188209 ,  -4.86303271,  81.26932302,   6.15830941,\n",
       "          -5.90922176,   0.        ],\n",
       "        [ -4.0559168 ,   5.23684839,  77.93006531, -14.47084797,\n",
       "          -9.15312795,  -4.        ],\n",
       "        [ -4.01971314,   0.95810391,  81.52759727,  -2.87477992,\n",
       "         -11.90926808,   5.        ]],\n",
       "\n",
       "       [[ -2.06895199,  -6.20443959,  81.12726471,  13.32739332,\n",
       "          -5.18047658,   2.        ],\n",
       "        [  0.        ,   1.93960033,  77.26052127,  -7.09793105,\n",
       "           1.03503249,   0.        ],\n",
       "        [ -4.03640197,  -4.98379536,  76.91737969,   7.21694015,\n",
       "         -10.7521638 ,   4.        ],\n",
       "        ...,\n",
       "        [  0.        ,  -8.75773455,  86.69806382,  13.34267037,\n",
       "          -5.00588902,   2.        ],\n",
       "        [ -4.76826812,   4.95257447,  64.69022887, -16.649017  ,\n",
       "         -15.59408208,   7.        ],\n",
       "        [ -6.11845657,  -9.89141246,  84.00650939,  15.32452475,\n",
       "         -14.37712606,  -1.        ]],\n",
       "\n",
       "       ...,\n",
       "\n",
       "       [[-11.81950777,  17.50628189,   2.92378336, -19.045347  ,\n",
       "          -9.87618378,  -4.        ],\n",
       "        [-12.38108695,  12.02768475,  10.5052017 , -12.64286431,\n",
       "         -15.56871407,  -4.        ],\n",
       "        [ -7.76358875,   2.9185761 ,   6.05930262,   1.95960104,\n",
       "         -10.68571084,  -4.        ],\n",
       "        ...,\n",
       "        [  0.        ,   1.02530582,   2.99326223,   1.00700433,\n",
       "           1.00951254,  -3.        ],\n",
       "        [  1.04225643,   2.09834475,   9.03656181,   0.        ,\n",
       "           3.01127413,  -4.        ],\n",
       "        [  0.98601639,   2.05327719,   9.39444557,   0.        ,\n",
       "           2.89706223,  -4.        ]],\n",
       "\n",
       "       [[-40.15117662,  21.5199111 ,  -4.86421493, -22.07676974,\n",
       "         -56.44545039,  -4.        ],\n",
       "        [-32.65252972,  20.61469827,  -5.75311723, -25.84055151,\n",
       "         -46.98069775,  -4.        ],\n",
       "        [-21.57397986,  12.56075007,  -6.24614175, -14.59476244,\n",
       "         -31.37476032,  -4.        ],\n",
       "        ...,\n",
       "        [ -3.95978771,   3.98429621,   2.90615575,   0.        ,\n",
       "          -1.00836221,  -3.        ],\n",
       "        [ -3.94657798,   2.98100329,   1.95014259,   2.05975334,\n",
       "          -2.97875677,  -3.        ],\n",
       "        [ -2.03471335,   3.02377264,   4.78387348,   0.        ,\n",
       "          -1.90000626,  -3.        ]],\n",
       "\n",
       "       [[  8.93030512,  -9.78967769, -10.86795622,  16.2727766 ,\n",
       "           7.3271641 ,  -4.        ],\n",
       "        [  5.08026683,   0.        ,   4.09333518,   0.        ,\n",
       "           7.03950684,  -4.        ],\n",
       "        [ -3.1400937 ,   5.79493442,  -1.98260791,  -8.0555206 ,\n",
       "          -8.10759512,  -4.        ],\n",
       "        ...,\n",
       "        [ -0.97407015,   0.96271487,  -2.86648999,  -3.13154504,\n",
       "          -1.92349804,  -3.        ],\n",
       "        [  0.        ,  -1.01153882,  -4.94835311,  -1.00633636,\n",
       "           0.95668863,  -3.        ],\n",
       "        [ -1.02420578,   0.97435674,   4.1365242 ,   0.        ,\n",
       "          -1.00943195,  -3.        ]]])"
      ]
     },
     "metadata": {},
     "output_type": "display_data"
    }
   ],
   "source": [
    "#el conj de datos va de 0 a 2623 o sea 2624 datos\n",
    "pd.options.display.max_rows = 10\n",
    "pd.options.display.float_format = \"{:.3f}\".format\n",
    "\n",
    "# Recompila la información de un archivo CSV y lo guarda en un arreglo\n",
    "data_copy = np.loadtxt(\"lp5.csv\", delimiter=\",\", dtype=str)\n",
    "#  Contador de filas en el CSV\n",
    "cont = 16\n",
    "labels = []\n",
    "numbers = []\n",
    "# Arreglo de ceros con las dimensiones de los datos\n",
    "features= np.zeros((164,15,6))\n",
    "test_features= np.zeros((164,15,6))\n",
    "\n",
    "# Ciclo que recorre todos los datos del CSV y guarda los títulos de los datos cuando el contador es 16,\n",
    "# guarda los números en un arreglo aparte y reestablece el contador a su valor original cuando es igual a 0.\n",
    "for i in range(len(data_copy)):\n",
    "    if(cont == 16):\n",
    "        labels.append(data_copy[i])\n",
    "    if(cont<16):\n",
    "        numbers.append(data_copy[i])\n",
    "    cont -= 1\n",
    "    if(cont == 0):\n",
    "        cont = 16\n",
    "        \n",
    "test_numbers = np.array(numbers).astype(float)\n",
    "\n",
    "for i in range(len(test_numbers)):\n",
    "    for j in range(5):\n",
    "        test_numbers[i][j] = test_numbers[i][j] + test_numbers[i][j]*random.uniform(-0.05, 0.05)\n",
    "\n",
    "display(test_numbers)\n",
    "# Ciclos anidados que recorren todas las dimensiones del arreglo de ceros,\n",
    "# agrupa los datos numéricos en conjuntos con forma 15x6 \n",
    "cont = 0\n",
    "for i in range(164):\n",
    "    for j in range(15):\n",
    "        for z in range(6):\n",
    "            features[i][j][z] = numbers[cont][z]\n",
    "            test_features[i][j][z]= test_numbers[cont][z]\n",
    "        cont += 1\n",
    "        \n",
    "# Convierte los datos obtenidos del primer ciclo en un dataframe\n",
    "labels_df = pd.DataFrame(labels, columns=['labels','1','2','3','4','5'])\n",
    "\n",
    "display(labels_df)\n",
    "display(features)\n",
    "display(test_features)"
   ]
  },
  {
   "attachments": {},
   "cell_type": "markdown",
   "metadata": {},
   "source": [
    "# Manejo de Datos y Normalización"
   ]
  },
  {
   "cell_type": "code",
   "execution_count": 21,
   "metadata": {},
   "outputs": [
    {
     "name": "stderr",
     "output_type": "stream",
     "text": [
      "C:\\Users\\dave4\\AppData\\Local\\Temp\\ipykernel_9460\\1604112957.py:11: FutureWarning:\n",
      "\n",
      "In a future version of pandas all arguments of StringMethods.split except for the argument 'pat' will be keyword-only.\n",
      "\n"
     ]
    },
    {
     "data": {
      "text/plain": [
       "array([[[0.78502244, 0.78242509, 0.77006613, 0.77503371, 0.78618342,\n",
       "         0.7847806 ],\n",
       "        [0.7869804 , 0.78271496, 0.75983525, 0.77320042, 0.79319854,\n",
       "         0.78330158],\n",
       "        [0.7867449 , 0.78217168, 0.74608883, 0.77439453, 0.79866353,\n",
       "         0.77992098],\n",
       "        ...,\n",
       "        [0.78264288, 0.78455888, 0.78270316, 0.78139171, 0.7824454 ,\n",
       "         0.78393545],\n",
       "        [0.78352295, 0.78413043, 0.78263191, 0.78197864, 0.78351715,\n",
       "         0.78393545],\n",
       "        [0.78394065, 0.78350366, 0.78269838, 0.78287651, 0.78416222,\n",
       "         0.78414673]],\n",
       "\n",
       "       [[0.77290472, 0.78700998, 0.7801035 , 0.77588944, 0.76262297,\n",
       "         0.77907583],\n",
       "        [0.77350486, 0.78774615, 0.78536657, 0.77727354, 0.77077461,\n",
       "         0.78435802],\n",
       "        [0.77503557, 0.78786614, 0.78638597, 0.777891  , 0.77221254,\n",
       "         0.78330158],\n",
       "        ...,\n",
       "        [0.7845952 , 0.78204781, 0.75037446, 0.78558633, 0.78872161,\n",
       "         0.78266772],\n",
       "        [0.78459181, 0.78174561, 0.74752262, 0.78570908, 0.78876012,\n",
       "         0.78266772],\n",
       "        [0.78476644, 0.78175687, 0.74813679, 0.78519054, 0.78886175,\n",
       "         0.78245643]],\n",
       "\n",
       "       [[0.78700542, 0.77531071, 0.74907338, 0.77966527, 0.76030482,\n",
       "         0.78731605],\n",
       "        [0.78736822, 0.77697902, 0.74870577, 0.77718272, 0.76176595,\n",
       "         0.78689347],\n",
       "        [0.7885396 , 0.777728  , 0.75000644, 0.77454856, 0.76508773,\n",
       "         0.78604832],\n",
       "        ...,\n",
       "        [0.7824216 , 0.78681755, 0.75682964, 0.80472049, 0.78617029,\n",
       "         0.78224515],\n",
       "        [0.78288276, 0.78625972, 0.75598669, 0.80913253, 0.79014739,\n",
       "         0.78161128],\n",
       "        [0.78153815, 0.78752441, 0.75059352, 0.80640701, 0.78839703,\n",
       "         0.7814    ]],\n",
       "\n",
       "       ...,\n",
       "\n",
       "       [[0.78289971, 0.78372416, 0.78527286, 0.78478347, 0.78331875,\n",
       "         0.78414673],\n",
       "        [0.78291791, 0.78372416, 0.78477107, 0.78476525, 0.78310852,\n",
       "         0.78414673],\n",
       "        [0.78289052, 0.78372416, 0.78515297, 0.7848294 , 0.78330316,\n",
       "         0.78414673],\n",
       "        ...,\n",
       "        [0.78285497, 0.78392948, 0.78416683, 0.78350645, 0.78266942,\n",
       "         0.78393545],\n",
       "        [0.78310764, 0.78329559, 0.78524023, 0.78523429, 0.78350802,\n",
       "         0.78393545],\n",
       "        [0.78310138, 0.78394018, 0.78330936, 0.78434749, 0.78286702,\n",
       "         0.78393545]],\n",
       "\n",
       "       [[0.78394072, 0.78434497, 0.78308395, 0.78026709, 0.78109336,\n",
       "         0.78372416],\n",
       "        [0.78438718, 0.78393609, 0.78539078, 0.78291127, 0.78207944,\n",
       "         0.78330158],\n",
       "        [0.77955432, 0.79841545, 0.60426989, 0.75055533, 0.84780293,\n",
       "         0.79407725],\n",
       "        ...,\n",
       "        [0.78516084, 0.78209598, 0.7475936 , 0.78103529, 0.78751754,\n",
       "         0.78393545],\n",
       "        [0.78548607, 0.78208641, 0.74595105, 0.78084857, 0.78825861,\n",
       "         0.78393545],\n",
       "        [0.78543923, 0.78153028, 0.74609248, 0.78096751, 0.78801515,\n",
       "         0.78435802]],\n",
       "\n",
       "       [[0.78332092, 0.78415448, 0.78775629, 0.78481564, 0.78245157,\n",
       "         0.78351287],\n",
       "        [0.78328467, 0.78393328, 0.78808665, 0.78472832, 0.78243617,\n",
       "         0.78372416],\n",
       "        [0.78331388, 0.78394184, 0.78848992, 0.7848333 , 0.78248546,\n",
       "         0.78372416],\n",
       "        ...,\n",
       "        [0.78351713, 0.78412588, 0.78990957, 0.78524114, 0.78246095,\n",
       "         0.78351287],\n",
       "        [0.78393598, 0.78351571, 0.78862114, 0.78554493, 0.7841634 ,\n",
       "         0.78372416],\n",
       "        [0.78328416, 0.78412771, 0.78970483, 0.78435278, 0.78247296,\n",
       "         0.78372416]]])"
      ]
     },
     "metadata": {},
     "output_type": "display_data"
    },
    {
     "data": {
      "text/html": [
       "<div>\n",
       "<style scoped>\n",
       "    .dataframe tbody tr th:only-of-type {\n",
       "        vertical-align: middle;\n",
       "    }\n",
       "\n",
       "    .dataframe tbody tr th {\n",
       "        vertical-align: top;\n",
       "    }\n",
       "\n",
       "    .dataframe thead th {\n",
       "        text-align: right;\n",
       "    }\n",
       "</style>\n",
       "<table border=\"1\" class=\"dataframe\">\n",
       "  <thead>\n",
       "    <tr style=\"text-align: right;\">\n",
       "      <th></th>\n",
       "      <th>1</th>\n",
       "      <th>2</th>\n",
       "      <th>3</th>\n",
       "      <th>4</th>\n",
       "      <th>5</th>\n",
       "    </tr>\n",
       "  </thead>\n",
       "  <tbody>\n",
       "    <tr>\n",
       "      <th>146</th>\n",
       "      <td>0</td>\n",
       "      <td>0</td>\n",
       "      <td>0</td>\n",
       "      <td>1</td>\n",
       "      <td>0</td>\n",
       "    </tr>\n",
       "    <tr>\n",
       "      <th>89</th>\n",
       "      <td>0</td>\n",
       "      <td>0</td>\n",
       "      <td>1</td>\n",
       "      <td>0</td>\n",
       "      <td>0</td>\n",
       "    </tr>\n",
       "    <tr>\n",
       "      <th>106</th>\n",
       "      <td>0</td>\n",
       "      <td>0</td>\n",
       "      <td>0</td>\n",
       "      <td>1</td>\n",
       "      <td>0</td>\n",
       "    </tr>\n",
       "    <tr>\n",
       "      <th>7</th>\n",
       "      <td>1</td>\n",
       "      <td>0</td>\n",
       "      <td>0</td>\n",
       "      <td>0</td>\n",
       "      <td>0</td>\n",
       "    </tr>\n",
       "    <tr>\n",
       "      <th>94</th>\n",
       "      <td>0</td>\n",
       "      <td>1</td>\n",
       "      <td>0</td>\n",
       "      <td>0</td>\n",
       "      <td>0</td>\n",
       "    </tr>\n",
       "    <tr>\n",
       "      <th>...</th>\n",
       "      <td>...</td>\n",
       "      <td>...</td>\n",
       "      <td>...</td>\n",
       "      <td>...</td>\n",
       "      <td>...</td>\n",
       "    </tr>\n",
       "    <tr>\n",
       "      <th>9</th>\n",
       "      <td>1</td>\n",
       "      <td>0</td>\n",
       "      <td>0</td>\n",
       "      <td>0</td>\n",
       "      <td>0</td>\n",
       "    </tr>\n",
       "    <tr>\n",
       "      <th>103</th>\n",
       "      <td>0</td>\n",
       "      <td>0</td>\n",
       "      <td>0</td>\n",
       "      <td>0</td>\n",
       "      <td>1</td>\n",
       "    </tr>\n",
       "    <tr>\n",
       "      <th>67</th>\n",
       "      <td>1</td>\n",
       "      <td>0</td>\n",
       "      <td>0</td>\n",
       "      <td>0</td>\n",
       "      <td>0</td>\n",
       "    </tr>\n",
       "    <tr>\n",
       "      <th>117</th>\n",
       "      <td>0</td>\n",
       "      <td>0</td>\n",
       "      <td>0</td>\n",
       "      <td>0</td>\n",
       "      <td>1</td>\n",
       "    </tr>\n",
       "    <tr>\n",
       "      <th>47</th>\n",
       "      <td>1</td>\n",
       "      <td>0</td>\n",
       "      <td>0</td>\n",
       "      <td>0</td>\n",
       "      <td>0</td>\n",
       "    </tr>\n",
       "  </tbody>\n",
       "</table>\n",
       "<p>164 rows × 5 columns</p>\n",
       "</div>"
      ],
      "text/plain": [
       "     1  2  3  4  5\n",
       "146  0  0  0  1  0\n",
       "89   0  0  1  0  0\n",
       "106  0  0  0  1  0\n",
       "7    1  0  0  0  0\n",
       "94   0  1  0  0  0\n",
       "..  .. .. .. .. ..\n",
       "9    1  0  0  0  0\n",
       "103  0  0  0  0  1\n",
       "67   1  0  0  0  0\n",
       "117  0  0  0  0  1\n",
       "47   1  0  0  0  0\n",
       "\n",
       "[164 rows x 5 columns]"
      ]
     },
     "metadata": {},
     "output_type": "display_data"
    }
   ],
   "source": [
    "# Diccionario que codifica los datos categóricos a un conjunto de números idóneo para la capa de salida.\n",
    "classes_dict = {'normal':'1 0 0 0 0', #1\n",
    "        'collision_in_tool':'0 1 0 0 0', #2\n",
    "        'collision_in_part':'0 0 1 0 0', #3\n",
    "        'bottom_collision':'0 0 0 1 0', #4\n",
    "        'bottom_obstruction':'0 0 0 0 1'} #5\n",
    "\n",
    "# Se reemplazan los datos por lo del diccionario\n",
    "labels_df = labels_df.replace({'labels':classes_dict})\n",
    "# Se separan los datos de manera que se aisle un caractér por columna.\n",
    "labels_df[['1', '2', '3', '4', '5']] = labels_df['labels'].str.split(' ', 4, expand= True)\n",
    "# Se eliminan las columnas, solo dejando las columnas llamadas \"1\", \"2\", \"3\", \"4\", \"5\"\n",
    "labels_df = labels_df.loc[:,['1', '2', '3', '4', '5']]\n",
    "# Se convierten los valores de un tipo String a uno Entero para poder ser utilizados por la red neuronal.\n",
    "labels_df[['1', '2', '3', '4', '5']]=labels_df[['1', '2', '3', '4', '5']].astype(str).astype(int)\n",
    "\n",
    "'''/* \n",
    "Function: norm\n",
    "\n",
    "Normaliza los datos a través de una función min-max entre 0 y 1 para ser alimentados a la red.\n",
    "\n",
    "Parameters:\n",
    "\n",
    "    x - Datos a normalizar.\n",
    "    \n",
    "Returns:\n",
    "\n",
    "    Los datos alimentados ya normalizados.\n",
    "*/'''\n",
    "\n",
    "def norm(x):\n",
    "    x_min = x.min()\n",
    "    x_max = x.max()\n",
    "    range = x_max - x_min  #min max entre 0 y 1\n",
    "    return((x-x_min)/(range))\n",
    "\n",
    "# Normaliza las características.\n",
    "train_features = norm(features)\n",
    "test_features = norm(test_features)\n",
    "# Split para entrenamiento y validacion, con 20% para testeo y se aleatorizan.\n",
    "train_labels = labels_df\n",
    "test_labels = labels_df\n",
    "\n",
    "train_features, train_labels = shuffle(train_features, train_labels, random_state=0)\n",
    "test_features, test_labels = shuffle(test_features, test_labels, random_state= 0)\n",
    "display(test_features)\n",
    "display(test_labels)"
   ]
  },
  {
   "attachments": {},
   "cell_type": "markdown",
   "metadata": {},
   "source": [
    "# Creación del Modelo"
   ]
  },
  {
   "cell_type": "code",
   "execution_count": 22,
   "metadata": {},
   "outputs": [
    {
     "name": "stdout",
     "output_type": "stream",
     "text": [
      "Model: \"sequential_5\"\n",
      "_________________________________________________________________\n",
      " Layer (type)                Output Shape              Param #   \n",
      "=================================================================\n",
      " conv2d_20 (Conv2D)          (None, 15, 6, 8)          80        \n",
      "                                                                 \n",
      " conv2d_21 (Conv2D)          (None, 15, 6, 8)          584       \n",
      "                                                                 \n",
      " max_pooling2d_10 (MaxPoolin  (None, 7, 3, 8)          0         \n",
      " g2D)                                                            \n",
      "                                                                 \n",
      " dropout_10 (Dropout)        (None, 7, 3, 8)           0         \n",
      "                                                                 \n",
      " conv2d_22 (Conv2D)          (None, 7, 3, 16)          1168      \n",
      "                                                                 \n",
      " conv2d_23 (Conv2D)          (None, 7, 3, 16)          2320      \n",
      "                                                                 \n",
      " max_pooling2d_11 (MaxPoolin  (None, 3, 1, 16)         0         \n",
      " g2D)                                                            \n",
      "                                                                 \n",
      " dropout_11 (Dropout)        (None, 3, 1, 16)          0         \n",
      "                                                                 \n",
      " flatten_5 (Flatten)         (None, 48)                0         \n",
      "                                                                 \n",
      " dense_10 (Dense)            (None, 24)                1176      \n",
      "                                                                 \n",
      " dense_11 (Dense)            (None, 5)                 125       \n",
      "                                                                 \n",
      "=================================================================\n",
      "Total params: 5,453\n",
      "Trainable params: 5,453\n",
      "Non-trainable params: 0\n",
      "_________________________________________________________________\n"
     ]
    }
   ],
   "source": [
    "'''/* \n",
    "Function: my_model\n",
    "\n",
    "Genera el modelo categórico convolucional y lo compila. El modelo consiste de lo siguiente:\n",
    "    - Una capa de entradas de forma (15,6,1) que es igual a las dimensiones de la matriz de datos.\n",
    "    \n",
    "    - Una capa de convolución de dos dimensiones que genera 8 filtros, tiene un kernel 3x3, \n",
    "        función de activación ReLu y un padding para que mantenga las dimensiones de la entrada.\n",
    "    - Una capa de convolución de dos dimensiones que genera 8 filtros, tiene un kernel 3x3, \n",
    "        función de activación ReLu y un padding para que mantenga las dimensiones de la entrada.\n",
    "    - Una capa de Max Pooling con un pool de 2x2, un salto de 2 casillas y sin padding.\n",
    "    - Una capa de Dropout razón con una razón de 0.3\n",
    "\n",
    "    - Una capa de convolución de dos dimensiones que genera 16 filtros, tiene un kernel 3x3, \n",
    "        función de activación ReLu y un padding para que mantenga las dimensiones de la entrada.\n",
    "    - Una capa de convolución de dos dimensiones que genera 16 filtros, tiene un kernel 3x3, \n",
    "        función de activación ReLu y un padding para que mantenga las dimensiones de la entrada.\n",
    "    - Una capa de Max Pooling con un pool de 2x2, un salto de 2 casillas y sin padding.\n",
    "    - Una capa de Dropout razón con una razón de 0.2.\n",
    "    \n",
    "    - Una capa de flatten para pasar de varias dimensiones a una.\n",
    "    - Una capa oculta con 24 neuronas y con una función de activación ReLu.\n",
    "    - Una capa de salida con 5 neuronas. Una por categoría.\n",
    "    \n",
    "    - Utiliza ADAM como optimizador.\n",
    "    - La función de pérdida es la Entropía Cruzada Categórica.\n",
    "    - La métrica de evaluación es la exactitud.\n",
    "    \n",
    "Parameters:\n",
    "\n",
    "    my_learning_rate - Razón de aprendizaje.\n",
    "    \n",
    "Returns:\n",
    "\n",
    "    El modelo neuronal ya creado.\n",
    "*/'''\n",
    "\n",
    "def my_model(learning_rate):\n",
    "    model = tf.keras.Sequential([\n",
    "        tf.keras.layers.Conv2D(8, (3,3), activation='relu', input_shape = (15,6,1), padding='same'), # #de feature maps, dimensiones del kernel, kernel entre más pequeño mejor y se prefiere un número impar\n",
    "        tf.keras.layers.Conv2D(8, (3,3), activation='relu', padding='same'),\n",
    "        tf.keras.layers.MaxPooling2D((2,2), strides= 2, padding= 'valid'), # dimensiones del pooling\n",
    "        tf.keras.layers.Dropout(0.3),\n",
    "        tf.keras.layers.Conv2D(16, (3,3), activation='relu', padding='same'),\n",
    "        tf.keras.layers.Conv2D(16, (3,3), activation='relu', padding='same'),# #de feature maps, dimensiones del kernel, kernel entre más pequeño mejor y se prefiere un número impar\n",
    "        tf.keras.layers.MaxPooling2D((2,2), strides= 2, padding='valid'), # dimensiones del pooling\n",
    "        tf.keras.layers.Dropout(0.2),\n",
    "        tf.keras.layers.Flatten(),\n",
    "        tf.keras.layers.Dense(24, activation='relu'),\n",
    "        tf.keras.layers.Dense(5, activation='softmax')])\n",
    "    \n",
    "    model.compile(optimizer=tf.keras.optimizers.Adam(learning_rate), loss=tf.keras.losses.CategoricalCrossentropy(from_logits=True),\n",
    "                metrics=['accuracy'])\n",
    "    \n",
    "    return model\n",
    "\n",
    "model = model = my_model(0.01)\n",
    "model.summary()"
   ]
  },
  {
   "attachments": {},
   "cell_type": "markdown",
   "metadata": {},
   "source": [
    "# Entrenamiento del Modelo"
   ]
  },
  {
   "cell_type": "code",
   "execution_count": 23,
   "metadata": {},
   "outputs": [],
   "source": [
    "'''/* \n",
    "Function: train_model\n",
    "\n",
    "Alimenta los datos correspondientes a las características y etiquetas al modelo y conduce el proceso de entrenamiento y validación.\n",
    "Además de esto, también le establece al modelo la cantidad de ciclos de entrenamiento y el tamaño del batch.\n",
    "Por último crea un subconjunto de validación con un 25% de los datos de entrenamiento.\n",
    "    \n",
    "Parameters:\n",
    "\n",
    "    model - El modelo creado anteriormente.\n",
    "    features - Conjunto que contiene las características.\n",
    "    labels - Conjunto que contiene las etiquetas.\n",
    "    epochs - Cantidad de ciclos de entrenamiento\n",
    "    batch_size - Tamaño del batch.\n",
    "    \n",
    "Returns:\n",
    "\n",
    "    Los resultados del entrenamiento.\n",
    "*/'''\n",
    "\n",
    "\n",
    "def train_model(model, features, labels, epochs, batch_size):\n",
    "    history = model.fit(\n",
    "        x = features,\n",
    "        y = labels,\n",
    "        epochs= epochs,\n",
    "        batch_size= batch_size,\n",
    "        validation_split= 0.25\n",
    "    )\n",
    "    # Guarda los resultados obtenidos del proceso de entrenamiento y validación en un DataFrame.\n",
    "    # Estos resultados son las pérdidas y el número del ciclo correspondiente.\n",
    "    hist= pd.DataFrame(history.history)\n",
    "    # Añade al DataFrame la información sobre los ciclos.\n",
    "    hist['epoch'] = history.epoch\n",
    "    \n",
    "    return hist"
   ]
  },
  {
   "attachments": {},
   "cell_type": "markdown",
   "metadata": {},
   "source": [
    "# Visualizaciones"
   ]
  },
  {
   "cell_type": "code",
   "execution_count": 24,
   "metadata": {},
   "outputs": [],
   "source": [
    "'''/* \n",
    "Function: loss_curve\n",
    "\n",
    "Grafica las curvas de pérdida correspondientes al entrenamiento y la validación.\n",
    "    \n",
    "Parameters:\n",
    "\n",
    "    history - Resultados provenientes del proceso de entrenamiento.\n",
    "    \n",
    "Returns:\n",
    "\n",
    "    Las gráficas ya creadas.\n",
    "*/'''\n",
    "\n",
    "def loss_curves(history):\n",
    "    hist = history\n",
    "    # Cambia los títulos de cada columna que contiene los datos de exactitud por una versión más legible\n",
    "    labels = {\"loss\":\"Training Loss\", \"val_loss\":\"Validation Loss\"}\n",
    "    hist.rename(columns = labels, inplace = True)\n",
    "    \n",
    "    # Crea la figura, establece los títulos de eje y la paleta de colors\n",
    "    fig = px.line(hist, x='epoch', y=['Training Loss', 'Validation Loss'],\n",
    "                title='Gráficas de Pérdida de Entrenamiento y Evaluación',\n",
    "                labels={\"epoch\": \"Epoch\", \"value\":\"Binary Cross Entropy\", \"variable\":\"Curvas de Pérdida\"},\n",
    "                color_discrete_map={\n",
    "                \"Training Loss\": \"#46039f\", \"Validation Loss\": \"#fb9f3a\"})\n",
    "    # Actualiza el tema de la gráfica.\n",
    "    fig.update_layout(template='plotly_white')\n",
    "    fig.show()\n",
    "    \n",
    "'''/* \n",
    "Function: accuracy_curve\n",
    "\n",
    "Grafica las curvas de exactitud correspondientes al entrenamiento y la validación.\n",
    "    \n",
    "Parameters:\n",
    "\n",
    "    history - Resultados provenientes del proceso de entrenamiento.\n",
    "    \n",
    "Returns:\n",
    "\n",
    "    Las gráficas ya creadas.\n",
    "*/'''\n",
    "    \n",
    "def accuracy_curve(history):\n",
    "    hist = history\n",
    "    # Cambia los títulos de cada columna que contiene los datos de exactitud por una versión más legible\n",
    "    labels = {\"val_accuracy\":\"Exactitud de Validación\", \"accuracy\":\"Exactitud de Entrenamiento\"}\n",
    "    hist.rename(columns = labels, inplace = True)\n",
    "    \n",
    "    # Crea la figura, establece los títulos de eje y la paleta de colors\n",
    "    fig = px.line(hist, x='epoch', y=['Exactitud de Entrenamiento', 'Exactitud de Validación'],\n",
    "                title='Gráficas de Exactitud',\n",
    "                labels={\"epoch\": \"Epoch\", \"value\":\"Exactitud\", \"variable\":\"Curvas de Exactitud\"},\n",
    "                color_discrete_map={\n",
    "                \"Training Loss\": \"#46039f\", \"Validation Loss\": \"#fb9f3a\"})\n",
    "    # Actualiza el tema de la gráfica.\n",
    "    fig.update_layout(template='plotly_white')\n",
    "    fig.show()"
   ]
  },
  {
   "attachments": {},
   "cell_type": "markdown",
   "metadata": {},
   "source": [
    "# Se corren las funciones"
   ]
  },
  {
   "cell_type": "code",
   "execution_count": 25,
   "metadata": {},
   "outputs": [
    {
     "name": "stdout",
     "output_type": "stream",
     "text": [
      "Epoch 1/350\n"
     ]
    },
    {
     "name": "stderr",
     "output_type": "stream",
     "text": [
      "C:\\Users\\dave4\\AppData\\Local\\Packages\\PythonSoftwareFoundation.Python.3.10_qbz5n2kfra8p0\\LocalCache\\local-packages\\Python310\\site-packages\\keras\\backend.py:5561: UserWarning:\n",
      "\n",
      "\"`categorical_crossentropy` received `from_logits=True`, but the `output` argument was produced by a Softmax activation and thus does not represent logits. Was this intended?\n",
      "\n"
     ]
    },
    {
     "name": "stdout",
     "output_type": "stream",
     "text": [
      "25/25 [==============================] - 1s 8ms/step - loss: 1.6016 - accuracy: 0.2683 - val_loss: 1.5952 - val_accuracy: 0.1951\n",
      "Epoch 2/350\n",
      "25/25 [==============================] - 0s 3ms/step - loss: 1.5812 - accuracy: 0.2927 - val_loss: 1.5708 - val_accuracy: 0.1951\n",
      "Epoch 3/350\n"
     ]
    },
    {
     "name": "stderr",
     "output_type": "stream",
     "text": [
      "C:\\Users\\dave4\\AppData\\Local\\Packages\\PythonSoftwareFoundation.Python.3.10_qbz5n2kfra8p0\\LocalCache\\local-packages\\Python310\\site-packages\\keras\\backend.py:5561: UserWarning:\n",
      "\n",
      "\"`categorical_crossentropy` received `from_logits=True`, but the `output` argument was produced by a Softmax activation and thus does not represent logits. Was this intended?\n",
      "\n"
     ]
    },
    {
     "name": "stdout",
     "output_type": "stream",
     "text": [
      "25/25 [==============================] - 0s 4ms/step - loss: 1.5881 - accuracy: 0.2846 - val_loss: 1.5701 - val_accuracy: 0.1951\n",
      "Epoch 4/350\n",
      "25/25 [==============================] - 0s 4ms/step - loss: 1.5694 - accuracy: 0.2927 - val_loss: 1.5676 - val_accuracy: 0.1951\n",
      "Epoch 5/350\n",
      "25/25 [==============================] - 0s 4ms/step - loss: 1.5622 - accuracy: 0.2927 - val_loss: 1.5666 - val_accuracy: 0.1951\n",
      "Epoch 6/350\n",
      "25/25 [==============================] - 0s 4ms/step - loss: 1.5689 - accuracy: 0.3008 - val_loss: 1.5679 - val_accuracy: 0.1951\n",
      "Epoch 7/350\n",
      "25/25 [==============================] - 0s 4ms/step - loss: 1.5592 - accuracy: 0.2846 - val_loss: 1.5564 - val_accuracy: 0.3659\n",
      "Epoch 8/350\n",
      "25/25 [==============================] - 0s 4ms/step - loss: 1.5764 - accuracy: 0.2358 - val_loss: 1.5516 - val_accuracy: 0.1951\n",
      "Epoch 9/350\n",
      "25/25 [==============================] - 0s 4ms/step - loss: 1.5796 - accuracy: 0.2764 - val_loss: 1.5621 - val_accuracy: 0.1951\n",
      "Epoch 10/350\n",
      "25/25 [==============================] - 0s 4ms/step - loss: 1.5691 - accuracy: 0.3008 - val_loss: 1.5511 - val_accuracy: 0.1951\n",
      "Epoch 11/350\n",
      "25/25 [==============================] - 0s 4ms/step - loss: 1.5801 - accuracy: 0.2764 - val_loss: 1.5605 - val_accuracy: 0.1951\n",
      "Epoch 12/350\n",
      "25/25 [==============================] - 0s 4ms/step - loss: 1.5622 - accuracy: 0.2846 - val_loss: 1.5507 - val_accuracy: 0.1951\n",
      "Epoch 13/350\n",
      "25/25 [==============================] - 0s 4ms/step - loss: 1.5492 - accuracy: 0.2927 - val_loss: 1.5426 - val_accuracy: 0.1951\n",
      "Epoch 14/350\n",
      "25/25 [==============================] - 0s 4ms/step - loss: 1.5512 - accuracy: 0.2927 - val_loss: 1.5392 - val_accuracy: 0.1951\n",
      "Epoch 15/350\n",
      "25/25 [==============================] - 0s 4ms/step - loss: 1.5591 - accuracy: 0.2846 - val_loss: 1.5422 - val_accuracy: 0.1951\n",
      "Epoch 16/350\n",
      "25/25 [==============================] - 0s 4ms/step - loss: 1.5367 - accuracy: 0.2927 - val_loss: 1.5176 - val_accuracy: 0.1951\n",
      "Epoch 17/350\n",
      "25/25 [==============================] - 0s 4ms/step - loss: 1.5302 - accuracy: 0.2764 - val_loss: 1.5032 - val_accuracy: 0.1951\n",
      "Epoch 18/350\n",
      "25/25 [==============================] - 0s 4ms/step - loss: 1.5022 - accuracy: 0.3252 - val_loss: 1.5010 - val_accuracy: 0.2927\n",
      "Epoch 19/350\n",
      "25/25 [==============================] - 0s 4ms/step - loss: 1.4642 - accuracy: 0.3659 - val_loss: 1.4297 - val_accuracy: 0.2927\n",
      "Epoch 20/350\n",
      "25/25 [==============================] - 0s 4ms/step - loss: 1.4405 - accuracy: 0.3333 - val_loss: 1.3914 - val_accuracy: 0.4634\n",
      "Epoch 21/350\n",
      "25/25 [==============================] - 0s 4ms/step - loss: 1.3971 - accuracy: 0.3252 - val_loss: 1.3014 - val_accuracy: 0.2927\n",
      "Epoch 22/350\n",
      "25/25 [==============================] - 0s 4ms/step - loss: 1.3480 - accuracy: 0.3415 - val_loss: 1.2721 - val_accuracy: 0.4634\n",
      "Epoch 23/350\n",
      "25/25 [==============================] - 0s 4ms/step - loss: 1.3672 - accuracy: 0.4146 - val_loss: 1.2753 - val_accuracy: 0.2927\n",
      "Epoch 24/350\n",
      "25/25 [==============================] - 0s 4ms/step - loss: 1.3057 - accuracy: 0.3740 - val_loss: 1.2608 - val_accuracy: 0.4634\n",
      "Epoch 25/350\n",
      "25/25 [==============================] - 0s 4ms/step - loss: 1.3149 - accuracy: 0.3984 - val_loss: 1.2839 - val_accuracy: 0.2927\n",
      "Epoch 26/350\n",
      "25/25 [==============================] - 0s 4ms/step - loss: 1.3134 - accuracy: 0.4146 - val_loss: 1.2712 - val_accuracy: 0.2927\n",
      "Epoch 27/350\n",
      "25/25 [==============================] - 0s 4ms/step - loss: 1.2957 - accuracy: 0.3902 - val_loss: 1.2660 - val_accuracy: 0.2927\n",
      "Epoch 28/350\n",
      "25/25 [==============================] - 0s 4ms/step - loss: 1.2917 - accuracy: 0.3984 - val_loss: 1.2715 - val_accuracy: 0.2927\n",
      "Epoch 29/350\n",
      "25/25 [==============================] - 0s 4ms/step - loss: 1.2777 - accuracy: 0.4146 - val_loss: 1.2633 - val_accuracy: 0.2927\n",
      "Epoch 30/350\n",
      "25/25 [==============================] - 0s 4ms/step - loss: 1.2726 - accuracy: 0.4309 - val_loss: 1.2528 - val_accuracy: 0.2927\n",
      "Epoch 31/350\n",
      "25/25 [==============================] - 0s 4ms/step - loss: 1.2416 - accuracy: 0.4309 - val_loss: 1.2546 - val_accuracy: 0.3171\n",
      "Epoch 32/350\n",
      "25/25 [==============================] - 0s 4ms/step - loss: 1.2730 - accuracy: 0.4146 - val_loss: 1.2274 - val_accuracy: 0.2927\n",
      "Epoch 33/350\n",
      "25/25 [==============================] - 0s 4ms/step - loss: 1.2664 - accuracy: 0.4390 - val_loss: 1.2560 - val_accuracy: 0.2927\n",
      "Epoch 34/350\n",
      "25/25 [==============================] - 0s 4ms/step - loss: 1.2702 - accuracy: 0.4472 - val_loss: 1.2397 - val_accuracy: 0.3171\n",
      "Epoch 35/350\n",
      "25/25 [==============================] - 0s 4ms/step - loss: 1.2285 - accuracy: 0.4146 - val_loss: 1.2033 - val_accuracy: 0.3171\n",
      "Epoch 36/350\n",
      "25/25 [==============================] - 0s 4ms/step - loss: 1.2509 - accuracy: 0.4309 - val_loss: 1.2215 - val_accuracy: 0.2927\n",
      "Epoch 37/350\n",
      "25/25 [==============================] - 0s 4ms/step - loss: 1.2115 - accuracy: 0.4309 - val_loss: 1.1838 - val_accuracy: 0.3902\n",
      "Epoch 38/350\n",
      "25/25 [==============================] - 0s 4ms/step - loss: 1.2225 - accuracy: 0.3984 - val_loss: 1.1957 - val_accuracy: 0.3171\n",
      "Epoch 39/350\n",
      "25/25 [==============================] - 0s 4ms/step - loss: 1.2010 - accuracy: 0.4472 - val_loss: 1.1791 - val_accuracy: 0.3171\n",
      "Epoch 40/350\n",
      "25/25 [==============================] - 0s 4ms/step - loss: 1.1902 - accuracy: 0.4472 - val_loss: 1.1326 - val_accuracy: 0.3659\n",
      "Epoch 41/350\n",
      "25/25 [==============================] - 0s 4ms/step - loss: 1.1975 - accuracy: 0.4065 - val_loss: 1.1477 - val_accuracy: 0.3415\n",
      "Epoch 42/350\n",
      "25/25 [==============================] - 0s 4ms/step - loss: 1.2218 - accuracy: 0.4146 - val_loss: 1.1965 - val_accuracy: 0.3171\n",
      "Epoch 43/350\n",
      "25/25 [==============================] - 0s 4ms/step - loss: 1.1840 - accuracy: 0.4634 - val_loss: 1.1433 - val_accuracy: 0.3902\n",
      "Epoch 44/350\n",
      "25/25 [==============================] - 0s 4ms/step - loss: 1.1485 - accuracy: 0.4797 - val_loss: 1.2909 - val_accuracy: 0.3171\n",
      "Epoch 45/350\n",
      "25/25 [==============================] - 0s 4ms/step - loss: 1.2002 - accuracy: 0.4634 - val_loss: 1.3021 - val_accuracy: 0.3171\n",
      "Epoch 46/350\n",
      "25/25 [==============================] - 0s 4ms/step - loss: 1.2149 - accuracy: 0.4797 - val_loss: 1.2656 - val_accuracy: 0.3171\n",
      "Epoch 47/350\n",
      "25/25 [==============================] - 0s 4ms/step - loss: 1.1768 - accuracy: 0.4634 - val_loss: 1.1416 - val_accuracy: 0.3415\n",
      "Epoch 48/350\n",
      "25/25 [==============================] - 0s 4ms/step - loss: 1.1791 - accuracy: 0.4715 - val_loss: 1.1061 - val_accuracy: 0.5122\n",
      "Epoch 49/350\n",
      "25/25 [==============================] - 0s 4ms/step - loss: 1.0910 - accuracy: 0.4959 - val_loss: 1.0700 - val_accuracy: 0.3902\n",
      "Epoch 50/350\n",
      "25/25 [==============================] - 0s 4ms/step - loss: 1.1594 - accuracy: 0.5041 - val_loss: 1.0642 - val_accuracy: 0.5610\n",
      "Epoch 51/350\n",
      "25/25 [==============================] - 0s 4ms/step - loss: 1.1551 - accuracy: 0.4634 - val_loss: 1.0883 - val_accuracy: 0.5366\n",
      "Epoch 52/350\n",
      "25/25 [==============================] - 0s 4ms/step - loss: 1.1132 - accuracy: 0.4715 - val_loss: 1.0302 - val_accuracy: 0.5122\n",
      "Epoch 53/350\n",
      "25/25 [==============================] - 0s 4ms/step - loss: 1.1439 - accuracy: 0.4634 - val_loss: 1.0518 - val_accuracy: 0.5122\n",
      "Epoch 54/350\n",
      "25/25 [==============================] - 0s 4ms/step - loss: 1.1089 - accuracy: 0.4797 - val_loss: 1.0163 - val_accuracy: 0.5854\n",
      "Epoch 55/350\n",
      "25/25 [==============================] - 0s 4ms/step - loss: 1.1145 - accuracy: 0.4797 - val_loss: 1.1893 - val_accuracy: 0.3171\n",
      "Epoch 56/350\n",
      "25/25 [==============================] - 0s 4ms/step - loss: 1.0622 - accuracy: 0.4797 - val_loss: 1.0132 - val_accuracy: 0.5366\n",
      "Epoch 57/350\n",
      "25/25 [==============================] - 0s 4ms/step - loss: 1.0427 - accuracy: 0.5366 - val_loss: 1.0072 - val_accuracy: 0.4634\n",
      "Epoch 58/350\n",
      "25/25 [==============================] - 0s 4ms/step - loss: 1.0551 - accuracy: 0.4309 - val_loss: 1.0914 - val_accuracy: 0.3659\n",
      "Epoch 59/350\n",
      "25/25 [==============================] - 0s 4ms/step - loss: 1.1125 - accuracy: 0.4878 - val_loss: 0.9840 - val_accuracy: 0.5854\n",
      "Epoch 60/350\n",
      "25/25 [==============================] - 0s 4ms/step - loss: 1.0273 - accuracy: 0.5772 - val_loss: 0.9666 - val_accuracy: 0.5366\n",
      "Epoch 61/350\n",
      "25/25 [==============================] - 0s 4ms/step - loss: 1.0193 - accuracy: 0.5772 - val_loss: 0.9666 - val_accuracy: 0.5366\n",
      "Epoch 62/350\n",
      "25/25 [==============================] - 0s 5ms/step - loss: 1.0543 - accuracy: 0.4959 - val_loss: 1.0756 - val_accuracy: 0.3902\n",
      "Epoch 63/350\n",
      "25/25 [==============================] - 0s 4ms/step - loss: 1.0807 - accuracy: 0.4959 - val_loss: 1.1449 - val_accuracy: 0.3659\n",
      "Epoch 64/350\n",
      "25/25 [==============================] - 0s 4ms/step - loss: 1.0990 - accuracy: 0.4878 - val_loss: 0.9768 - val_accuracy: 0.5366\n",
      "Epoch 65/350\n",
      "25/25 [==============================] - 0s 4ms/step - loss: 1.0737 - accuracy: 0.4878 - val_loss: 1.0673 - val_accuracy: 0.4146\n",
      "Epoch 66/350\n",
      "25/25 [==============================] - 0s 4ms/step - loss: 1.0834 - accuracy: 0.5122 - val_loss: 1.0763 - val_accuracy: 0.4146\n",
      "Epoch 67/350\n",
      "25/25 [==============================] - 0s 4ms/step - loss: 1.0460 - accuracy: 0.5041 - val_loss: 0.9724 - val_accuracy: 0.5854\n",
      "Epoch 68/350\n",
      "25/25 [==============================] - 0s 4ms/step - loss: 1.0639 - accuracy: 0.5041 - val_loss: 1.0052 - val_accuracy: 0.5366\n",
      "Epoch 69/350\n",
      "25/25 [==============================] - 0s 4ms/step - loss: 1.0982 - accuracy: 0.4959 - val_loss: 0.9687 - val_accuracy: 0.6098\n",
      "Epoch 70/350\n",
      "25/25 [==============================] - 0s 4ms/step - loss: 1.0714 - accuracy: 0.5041 - val_loss: 1.0320 - val_accuracy: 0.3902\n",
      "Epoch 71/350\n",
      "25/25 [==============================] - 0s 4ms/step - loss: 1.0308 - accuracy: 0.5447 - val_loss: 0.9812 - val_accuracy: 0.6098\n",
      "Epoch 72/350\n",
      "25/25 [==============================] - 0s 4ms/step - loss: 1.0136 - accuracy: 0.5285 - val_loss: 1.0056 - val_accuracy: 0.4390\n",
      "Epoch 73/350\n",
      "25/25 [==============================] - 0s 4ms/step - loss: 0.9985 - accuracy: 0.5285 - val_loss: 0.9596 - val_accuracy: 0.5854\n",
      "Epoch 74/350\n",
      "25/25 [==============================] - 0s 4ms/step - loss: 0.9718 - accuracy: 0.5203 - val_loss: 0.9331 - val_accuracy: 0.5366\n",
      "Epoch 75/350\n",
      "25/25 [==============================] - 0s 4ms/step - loss: 1.0018 - accuracy: 0.5772 - val_loss: 1.0249 - val_accuracy: 0.4146\n",
      "Epoch 76/350\n",
      "25/25 [==============================] - 0s 4ms/step - loss: 1.0294 - accuracy: 0.5366 - val_loss: 1.0021 - val_accuracy: 0.4146\n",
      "Epoch 77/350\n",
      "25/25 [==============================] - 0s 4ms/step - loss: 0.9887 - accuracy: 0.5854 - val_loss: 0.9648 - val_accuracy: 0.5610\n",
      "Epoch 78/350\n",
      "25/25 [==============================] - 0s 4ms/step - loss: 1.0547 - accuracy: 0.5610 - val_loss: 1.0009 - val_accuracy: 0.4634\n",
      "Epoch 79/350\n",
      "25/25 [==============================] - 0s 4ms/step - loss: 0.9984 - accuracy: 0.5935 - val_loss: 0.9719 - val_accuracy: 0.5610\n",
      "Epoch 80/350\n",
      "25/25 [==============================] - 0s 4ms/step - loss: 1.0498 - accuracy: 0.5203 - val_loss: 1.1130 - val_accuracy: 0.4390\n",
      "Epoch 81/350\n",
      "25/25 [==============================] - 0s 4ms/step - loss: 1.0242 - accuracy: 0.5691 - val_loss: 0.9436 - val_accuracy: 0.6098\n",
      "Epoch 82/350\n",
      "25/25 [==============================] - 0s 4ms/step - loss: 0.9449 - accuracy: 0.5772 - val_loss: 0.9879 - val_accuracy: 0.4390\n",
      "Epoch 83/350\n",
      "25/25 [==============================] - 0s 4ms/step - loss: 0.9390 - accuracy: 0.6016 - val_loss: 1.0166 - val_accuracy: 0.5366\n",
      "Epoch 84/350\n",
      "25/25 [==============================] - 0s 4ms/step - loss: 1.0739 - accuracy: 0.5041 - val_loss: 1.0398 - val_accuracy: 0.4146\n",
      "Epoch 85/350\n",
      "25/25 [==============================] - 0s 4ms/step - loss: 0.9872 - accuracy: 0.5854 - val_loss: 0.9356 - val_accuracy: 0.6098\n",
      "Epoch 86/350\n",
      "25/25 [==============================] - 0s 4ms/step - loss: 1.0045 - accuracy: 0.5447 - val_loss: 0.9473 - val_accuracy: 0.6098\n",
      "Epoch 87/350\n",
      "25/25 [==============================] - 0s 4ms/step - loss: 0.9172 - accuracy: 0.5935 - val_loss: 0.9751 - val_accuracy: 0.5366\n",
      "Epoch 88/350\n",
      "25/25 [==============================] - 0s 4ms/step - loss: 1.1304 - accuracy: 0.4472 - val_loss: 0.9495 - val_accuracy: 0.5122\n",
      "Epoch 89/350\n",
      "25/25 [==============================] - 0s 4ms/step - loss: 1.0274 - accuracy: 0.5366 - val_loss: 1.1370 - val_accuracy: 0.4146\n",
      "Epoch 90/350\n",
      "25/25 [==============================] - 0s 4ms/step - loss: 1.0277 - accuracy: 0.5691 - val_loss: 0.9701 - val_accuracy: 0.5366\n",
      "Epoch 91/350\n",
      "25/25 [==============================] - 0s 4ms/step - loss: 0.9621 - accuracy: 0.6016 - val_loss: 0.9693 - val_accuracy: 0.5854\n",
      "Epoch 92/350\n",
      "25/25 [==============================] - 0s 4ms/step - loss: 1.0328 - accuracy: 0.4390 - val_loss: 1.1342 - val_accuracy: 0.4146\n",
      "Epoch 93/350\n",
      "25/25 [==============================] - 0s 4ms/step - loss: 0.9768 - accuracy: 0.5041 - val_loss: 1.0028 - val_accuracy: 0.4146\n",
      "Epoch 94/350\n",
      "25/25 [==============================] - 0s 4ms/step - loss: 1.0024 - accuracy: 0.5528 - val_loss: 0.9640 - val_accuracy: 0.5366\n",
      "Epoch 95/350\n",
      "25/25 [==============================] - 0s 4ms/step - loss: 0.9963 - accuracy: 0.5610 - val_loss: 0.9503 - val_accuracy: 0.6098\n",
      "Epoch 96/350\n",
      "25/25 [==============================] - 0s 4ms/step - loss: 1.0037 - accuracy: 0.5772 - val_loss: 0.9644 - val_accuracy: 0.5122\n",
      "Epoch 97/350\n",
      "25/25 [==============================] - 0s 4ms/step - loss: 0.9560 - accuracy: 0.5935 - val_loss: 0.9659 - val_accuracy: 0.4634\n",
      "Epoch 98/350\n",
      "25/25 [==============================] - 0s 4ms/step - loss: 0.9894 - accuracy: 0.5528 - val_loss: 0.9346 - val_accuracy: 0.5366\n",
      "Epoch 99/350\n",
      "25/25 [==============================] - 0s 4ms/step - loss: 0.9041 - accuracy: 0.6179 - val_loss: 0.9364 - val_accuracy: 0.6098\n",
      "Epoch 100/350\n",
      "25/25 [==============================] - 0s 4ms/step - loss: 0.9540 - accuracy: 0.6098 - val_loss: 0.9091 - val_accuracy: 0.6098\n",
      "Epoch 101/350\n",
      "25/25 [==============================] - 0s 4ms/step - loss: 0.9512 - accuracy: 0.6016 - val_loss: 0.9263 - val_accuracy: 0.6098\n",
      "Epoch 102/350\n",
      "25/25 [==============================] - 0s 4ms/step - loss: 0.9288 - accuracy: 0.5772 - val_loss: 0.9481 - val_accuracy: 0.5854\n",
      "Epoch 103/350\n",
      "25/25 [==============================] - 0s 4ms/step - loss: 0.9361 - accuracy: 0.6098 - val_loss: 0.8939 - val_accuracy: 0.5610\n",
      "Epoch 104/350\n",
      "25/25 [==============================] - 0s 4ms/step - loss: 0.9773 - accuracy: 0.6260 - val_loss: 1.0407 - val_accuracy: 0.4146\n",
      "Epoch 105/350\n",
      "25/25 [==============================] - 0s 4ms/step - loss: 1.0047 - accuracy: 0.5610 - val_loss: 1.0302 - val_accuracy: 0.4390\n",
      "Epoch 106/350\n",
      "25/25 [==============================] - 0s 4ms/step - loss: 0.9874 - accuracy: 0.5691 - val_loss: 0.9421 - val_accuracy: 0.5122\n",
      "Epoch 107/350\n",
      "25/25 [==============================] - 0s 4ms/step - loss: 0.9942 - accuracy: 0.5854 - val_loss: 0.9845 - val_accuracy: 0.4146\n",
      "Epoch 108/350\n",
      "25/25 [==============================] - 0s 4ms/step - loss: 0.9788 - accuracy: 0.6016 - val_loss: 1.0300 - val_accuracy: 0.4390\n",
      "Epoch 109/350\n",
      "25/25 [==============================] - 0s 4ms/step - loss: 0.9851 - accuracy: 0.5528 - val_loss: 1.0465 - val_accuracy: 0.4634\n",
      "Epoch 110/350\n",
      "25/25 [==============================] - 0s 4ms/step - loss: 0.9418 - accuracy: 0.5691 - val_loss: 0.9169 - val_accuracy: 0.5854\n",
      "Epoch 111/350\n",
      "25/25 [==============================] - 0s 4ms/step - loss: 0.9776 - accuracy: 0.5528 - val_loss: 0.9368 - val_accuracy: 0.5854\n",
      "Epoch 112/350\n",
      "25/25 [==============================] - 0s 4ms/step - loss: 0.9752 - accuracy: 0.5772 - val_loss: 0.9281 - val_accuracy: 0.6098\n",
      "Epoch 113/350\n",
      "25/25 [==============================] - 0s 4ms/step - loss: 0.9692 - accuracy: 0.5610 - val_loss: 0.9201 - val_accuracy: 0.5854\n",
      "Epoch 114/350\n",
      "25/25 [==============================] - 0s 4ms/step - loss: 0.9268 - accuracy: 0.5610 - val_loss: 0.9231 - val_accuracy: 0.5854\n",
      "Epoch 115/350\n",
      "25/25 [==============================] - 0s 4ms/step - loss: 0.9844 - accuracy: 0.5772 - val_loss: 0.8756 - val_accuracy: 0.6098\n",
      "Epoch 116/350\n",
      "25/25 [==============================] - 0s 4ms/step - loss: 0.9065 - accuracy: 0.6098 - val_loss: 0.9160 - val_accuracy: 0.6098\n",
      "Epoch 117/350\n",
      "25/25 [==============================] - 0s 4ms/step - loss: 0.8938 - accuracy: 0.6260 - val_loss: 0.9237 - val_accuracy: 0.5854\n",
      "Epoch 118/350\n",
      "25/25 [==============================] - 0s 4ms/step - loss: 0.8577 - accuracy: 0.6504 - val_loss: 0.8850 - val_accuracy: 0.6098\n",
      "Epoch 119/350\n",
      "25/25 [==============================] - 0s 3ms/step - loss: 0.8351 - accuracy: 0.6179 - val_loss: 0.8995 - val_accuracy: 0.5854\n",
      "Epoch 120/350\n",
      "25/25 [==============================] - 0s 4ms/step - loss: 0.9078 - accuracy: 0.5528 - val_loss: 0.9416 - val_accuracy: 0.5610\n",
      "Epoch 121/350\n",
      "25/25 [==============================] - 0s 4ms/step - loss: 0.9293 - accuracy: 0.5528 - val_loss: 0.9817 - val_accuracy: 0.4634\n",
      "Epoch 122/350\n",
      "25/25 [==============================] - 0s 4ms/step - loss: 0.8890 - accuracy: 0.6423 - val_loss: 0.9039 - val_accuracy: 0.6098\n",
      "Epoch 123/350\n",
      "25/25 [==============================] - 0s 4ms/step - loss: 0.8941 - accuracy: 0.6260 - val_loss: 0.8934 - val_accuracy: 0.6098\n",
      "Epoch 124/350\n",
      "25/25 [==============================] - 0s 4ms/step - loss: 0.8370 - accuracy: 0.6423 - val_loss: 1.0395 - val_accuracy: 0.4634\n",
      "Epoch 125/350\n",
      "25/25 [==============================] - 0s 4ms/step - loss: 0.9868 - accuracy: 0.5610 - val_loss: 0.9658 - val_accuracy: 0.5366\n",
      "Epoch 126/350\n",
      "25/25 [==============================] - 0s 4ms/step - loss: 0.8637 - accuracy: 0.6341 - val_loss: 0.9883 - val_accuracy: 0.5122\n",
      "Epoch 127/350\n",
      "25/25 [==============================] - 0s 4ms/step - loss: 0.8628 - accuracy: 0.6341 - val_loss: 0.9166 - val_accuracy: 0.6098\n",
      "Epoch 128/350\n",
      "25/25 [==============================] - 0s 4ms/step - loss: 0.8950 - accuracy: 0.6341 - val_loss: 0.8463 - val_accuracy: 0.6341\n",
      "Epoch 129/350\n",
      "25/25 [==============================] - 0s 4ms/step - loss: 0.8257 - accuracy: 0.6992 - val_loss: 0.8651 - val_accuracy: 0.6341\n",
      "Epoch 130/350\n",
      "25/25 [==============================] - 0s 4ms/step - loss: 0.9213 - accuracy: 0.6016 - val_loss: 0.8957 - val_accuracy: 0.6098\n",
      "Epoch 131/350\n",
      "25/25 [==============================] - 0s 4ms/step - loss: 0.9010 - accuracy: 0.5854 - val_loss: 0.8459 - val_accuracy: 0.6341\n",
      "Epoch 132/350\n",
      "25/25 [==============================] - 0s 4ms/step - loss: 0.9044 - accuracy: 0.5935 - val_loss: 0.9207 - val_accuracy: 0.5610\n",
      "Epoch 133/350\n",
      "25/25 [==============================] - 0s 4ms/step - loss: 0.8741 - accuracy: 0.6585 - val_loss: 0.9137 - val_accuracy: 0.6098\n",
      "Epoch 134/350\n",
      "25/25 [==============================] - 0s 4ms/step - loss: 0.8740 - accuracy: 0.5935 - val_loss: 0.8323 - val_accuracy: 0.6341\n",
      "Epoch 135/350\n",
      "25/25 [==============================] - 0s 4ms/step - loss: 0.8542 - accuracy: 0.6016 - val_loss: 0.8756 - val_accuracy: 0.6098\n",
      "Epoch 136/350\n",
      "25/25 [==============================] - 0s 4ms/step - loss: 0.8133 - accuracy: 0.6423 - val_loss: 0.8571 - val_accuracy: 0.6341\n",
      "Epoch 137/350\n",
      "25/25 [==============================] - 0s 4ms/step - loss: 0.7973 - accuracy: 0.6667 - val_loss: 0.8857 - val_accuracy: 0.5854\n",
      "Epoch 138/350\n",
      "25/25 [==============================] - 0s 4ms/step - loss: 0.8744 - accuracy: 0.6098 - val_loss: 0.8774 - val_accuracy: 0.5854\n",
      "Epoch 139/350\n",
      "25/25 [==============================] - 0s 4ms/step - loss: 0.9182 - accuracy: 0.5854 - val_loss: 0.8494 - val_accuracy: 0.6098\n",
      "Epoch 140/350\n",
      "25/25 [==============================] - 0s 4ms/step - loss: 0.8331 - accuracy: 0.6504 - val_loss: 0.8584 - val_accuracy: 0.6341\n",
      "Epoch 141/350\n",
      "25/25 [==============================] - 0s 4ms/step - loss: 0.8140 - accuracy: 0.6992 - val_loss: 0.8800 - val_accuracy: 0.6098\n",
      "Epoch 142/350\n",
      "25/25 [==============================] - 0s 4ms/step - loss: 0.8663 - accuracy: 0.6098 - val_loss: 0.8824 - val_accuracy: 0.6098\n",
      "Epoch 143/350\n",
      "25/25 [==============================] - 0s 4ms/step - loss: 0.8158 - accuracy: 0.6992 - val_loss: 0.8300 - val_accuracy: 0.6341\n",
      "Epoch 144/350\n",
      "25/25 [==============================] - 0s 4ms/step - loss: 0.8375 - accuracy: 0.6423 - val_loss: 0.8432 - val_accuracy: 0.5854\n",
      "Epoch 145/350\n",
      "25/25 [==============================] - 0s 4ms/step - loss: 0.8721 - accuracy: 0.6341 - val_loss: 0.8541 - val_accuracy: 0.6098\n",
      "Epoch 146/350\n",
      "25/25 [==============================] - 0s 4ms/step - loss: 0.8268 - accuracy: 0.6423 - val_loss: 0.8417 - val_accuracy: 0.6341\n",
      "Epoch 147/350\n",
      "25/25 [==============================] - 0s 4ms/step - loss: 0.8600 - accuracy: 0.6179 - val_loss: 0.8622 - val_accuracy: 0.6341\n",
      "Epoch 148/350\n",
      "25/25 [==============================] - 0s 4ms/step - loss: 0.8622 - accuracy: 0.6585 - val_loss: 0.8805 - val_accuracy: 0.6341\n",
      "Epoch 149/350\n",
      "25/25 [==============================] - 0s 4ms/step - loss: 0.8483 - accuracy: 0.6423 - val_loss: 0.8446 - val_accuracy: 0.6341\n",
      "Epoch 150/350\n",
      "25/25 [==============================] - 0s 4ms/step - loss: 0.7947 - accuracy: 0.6667 - val_loss: 0.8351 - val_accuracy: 0.6341\n",
      "Epoch 151/350\n",
      "25/25 [==============================] - 0s 4ms/step - loss: 0.7957 - accuracy: 0.6667 - val_loss: 0.8360 - val_accuracy: 0.6585\n",
      "Epoch 152/350\n",
      "25/25 [==============================] - 0s 4ms/step - loss: 0.8672 - accuracy: 0.6423 - val_loss: 0.8589 - val_accuracy: 0.6341\n",
      "Epoch 153/350\n",
      "25/25 [==============================] - 0s 4ms/step - loss: 0.8139 - accuracy: 0.6748 - val_loss: 0.8546 - val_accuracy: 0.6341\n",
      "Epoch 154/350\n",
      "25/25 [==============================] - 0s 4ms/step - loss: 0.7948 - accuracy: 0.7073 - val_loss: 0.8317 - val_accuracy: 0.6585\n",
      "Epoch 155/350\n",
      "25/25 [==============================] - 0s 4ms/step - loss: 0.7867 - accuracy: 0.6911 - val_loss: 0.8121 - val_accuracy: 0.6585\n",
      "Epoch 156/350\n",
      "25/25 [==============================] - 0s 4ms/step - loss: 0.8330 - accuracy: 0.6911 - val_loss: 0.8337 - val_accuracy: 0.6098\n",
      "Epoch 157/350\n",
      "25/25 [==============================] - 0s 4ms/step - loss: 0.8424 - accuracy: 0.6829 - val_loss: 0.9035 - val_accuracy: 0.6098\n",
      "Epoch 158/350\n",
      "25/25 [==============================] - 0s 4ms/step - loss: 0.7832 - accuracy: 0.6829 - val_loss: 0.8300 - val_accuracy: 0.6341\n",
      "Epoch 159/350\n",
      "25/25 [==============================] - 0s 4ms/step - loss: 0.8202 - accuracy: 0.7073 - val_loss: 0.8088 - val_accuracy: 0.6341\n",
      "Epoch 160/350\n",
      "25/25 [==============================] - 0s 4ms/step - loss: 0.8176 - accuracy: 0.6016 - val_loss: 0.8508 - val_accuracy: 0.6341\n",
      "Epoch 161/350\n",
      "25/25 [==============================] - 0s 4ms/step - loss: 0.7892 - accuracy: 0.6829 - val_loss: 0.8161 - val_accuracy: 0.6341\n",
      "Epoch 162/350\n",
      "25/25 [==============================] - 0s 4ms/step - loss: 0.7958 - accuracy: 0.6667 - val_loss: 0.8461 - val_accuracy: 0.6341\n",
      "Epoch 163/350\n",
      "25/25 [==============================] - 0s 4ms/step - loss: 0.8210 - accuracy: 0.6667 - val_loss: 0.8210 - val_accuracy: 0.6341\n",
      "Epoch 164/350\n",
      "25/25 [==============================] - 0s 4ms/step - loss: 0.7496 - accuracy: 0.7073 - val_loss: 0.8566 - val_accuracy: 0.6098\n",
      "Epoch 165/350\n",
      "25/25 [==============================] - 0s 4ms/step - loss: 0.7849 - accuracy: 0.6829 - val_loss: 0.7990 - val_accuracy: 0.6341\n",
      "Epoch 166/350\n",
      "25/25 [==============================] - 0s 4ms/step - loss: 0.8341 - accuracy: 0.6748 - val_loss: 0.8320 - val_accuracy: 0.6098\n",
      "Epoch 167/350\n",
      "25/25 [==============================] - 0s 4ms/step - loss: 0.7762 - accuracy: 0.6911 - val_loss: 0.8135 - val_accuracy: 0.6341\n",
      "Epoch 168/350\n",
      "25/25 [==============================] - 0s 4ms/step - loss: 0.8078 - accuracy: 0.6585 - val_loss: 0.7736 - val_accuracy: 0.6829\n",
      "Epoch 169/350\n",
      "25/25 [==============================] - 0s 4ms/step - loss: 0.7759 - accuracy: 0.7073 - val_loss: 0.7885 - val_accuracy: 0.7073\n",
      "Epoch 170/350\n",
      "25/25 [==============================] - 0s 4ms/step - loss: 0.8094 - accuracy: 0.6504 - val_loss: 0.8181 - val_accuracy: 0.6098\n",
      "Epoch 171/350\n",
      "25/25 [==============================] - 0s 4ms/step - loss: 0.8689 - accuracy: 0.6016 - val_loss: 0.9593 - val_accuracy: 0.5610\n",
      "Epoch 172/350\n",
      "25/25 [==============================] - 0s 4ms/step - loss: 0.9042 - accuracy: 0.5772 - val_loss: 0.8030 - val_accuracy: 0.6585\n",
      "Epoch 173/350\n",
      "25/25 [==============================] - 0s 4ms/step - loss: 0.8673 - accuracy: 0.6260 - val_loss: 0.8017 - val_accuracy: 0.6341\n",
      "Epoch 174/350\n",
      "25/25 [==============================] - 0s 4ms/step - loss: 0.8450 - accuracy: 0.6179 - val_loss: 0.7838 - val_accuracy: 0.6585\n",
      "Epoch 175/350\n",
      "25/25 [==============================] - 0s 4ms/step - loss: 0.7940 - accuracy: 0.6423 - val_loss: 0.8187 - val_accuracy: 0.6585\n",
      "Epoch 176/350\n",
      "25/25 [==============================] - 0s 4ms/step - loss: 0.7787 - accuracy: 0.7073 - val_loss: 0.8230 - val_accuracy: 0.6585\n",
      "Epoch 177/350\n",
      "25/25 [==============================] - 0s 4ms/step - loss: 0.8580 - accuracy: 0.5935 - val_loss: 0.8537 - val_accuracy: 0.6098\n",
      "Epoch 178/350\n",
      "25/25 [==============================] - 0s 4ms/step - loss: 0.8887 - accuracy: 0.5854 - val_loss: 0.8753 - val_accuracy: 0.6098\n",
      "Epoch 179/350\n",
      "25/25 [==============================] - 0s 4ms/step - loss: 0.8506 - accuracy: 0.6585 - val_loss: 0.8350 - val_accuracy: 0.6341\n",
      "Epoch 180/350\n",
      "25/25 [==============================] - 0s 4ms/step - loss: 0.9161 - accuracy: 0.5772 - val_loss: 1.0087 - val_accuracy: 0.4878\n",
      "Epoch 181/350\n",
      "25/25 [==============================] - 0s 4ms/step - loss: 0.9275 - accuracy: 0.6098 - val_loss: 0.8117 - val_accuracy: 0.6341\n",
      "Epoch 182/350\n",
      "25/25 [==============================] - 0s 4ms/step - loss: 0.7916 - accuracy: 0.6911 - val_loss: 0.8823 - val_accuracy: 0.5610\n",
      "Epoch 183/350\n",
      "25/25 [==============================] - 0s 4ms/step - loss: 0.9328 - accuracy: 0.5366 - val_loss: 0.9185 - val_accuracy: 0.5610\n",
      "Epoch 184/350\n",
      "25/25 [==============================] - 0s 4ms/step - loss: 0.8347 - accuracy: 0.6423 - val_loss: 1.0865 - val_accuracy: 0.4634\n",
      "Epoch 185/350\n",
      "25/25 [==============================] - 0s 4ms/step - loss: 0.9060 - accuracy: 0.6423 - val_loss: 0.8318 - val_accuracy: 0.6098\n",
      "Epoch 186/350\n",
      "25/25 [==============================] - 0s 4ms/step - loss: 0.8789 - accuracy: 0.6179 - val_loss: 0.9668 - val_accuracy: 0.5122\n",
      "Epoch 187/350\n",
      "25/25 [==============================] - 0s 4ms/step - loss: 0.8383 - accuracy: 0.6667 - val_loss: 0.8243 - val_accuracy: 0.6098\n",
      "Epoch 188/350\n",
      "25/25 [==============================] - 0s 4ms/step - loss: 0.7857 - accuracy: 0.6585 - val_loss: 0.8668 - val_accuracy: 0.5854\n",
      "Epoch 189/350\n",
      "25/25 [==============================] - 0s 4ms/step - loss: 0.7826 - accuracy: 0.6504 - val_loss: 0.8358 - val_accuracy: 0.6098\n",
      "Epoch 190/350\n",
      "25/25 [==============================] - 0s 4ms/step - loss: 0.7689 - accuracy: 0.6748 - val_loss: 0.8002 - val_accuracy: 0.6098\n",
      "Epoch 191/350\n",
      "25/25 [==============================] - 0s 4ms/step - loss: 0.7636 - accuracy: 0.6992 - val_loss: 0.7364 - val_accuracy: 0.7073\n",
      "Epoch 192/350\n",
      "25/25 [==============================] - 0s 4ms/step - loss: 0.8041 - accuracy: 0.6748 - val_loss: 0.7664 - val_accuracy: 0.6585\n",
      "Epoch 193/350\n",
      "25/25 [==============================] - 0s 4ms/step - loss: 0.7833 - accuracy: 0.6911 - val_loss: 0.7967 - val_accuracy: 0.6829\n",
      "Epoch 194/350\n",
      "25/25 [==============================] - 0s 4ms/step - loss: 0.7535 - accuracy: 0.7073 - val_loss: 0.7573 - val_accuracy: 0.6585\n",
      "Epoch 195/350\n",
      "25/25 [==============================] - 0s 4ms/step - loss: 0.8483 - accuracy: 0.6341 - val_loss: 0.7737 - val_accuracy: 0.6585\n",
      "Epoch 196/350\n",
      "25/25 [==============================] - 0s 4ms/step - loss: 0.7165 - accuracy: 0.6992 - val_loss: 0.8151 - val_accuracy: 0.6341\n",
      "Epoch 197/350\n",
      "25/25 [==============================] - 0s 4ms/step - loss: 0.8261 - accuracy: 0.6423 - val_loss: 0.7898 - val_accuracy: 0.6098\n",
      "Epoch 198/350\n",
      "25/25 [==============================] - 0s 4ms/step - loss: 0.7559 - accuracy: 0.6911 - val_loss: 0.8108 - val_accuracy: 0.6341\n",
      "Epoch 199/350\n",
      "25/25 [==============================] - 0s 4ms/step - loss: 0.7246 - accuracy: 0.7154 - val_loss: 0.7885 - val_accuracy: 0.6829\n",
      "Epoch 200/350\n",
      "25/25 [==============================] - 0s 4ms/step - loss: 0.8236 - accuracy: 0.6423 - val_loss: 0.8114 - val_accuracy: 0.5854\n",
      "Epoch 201/350\n",
      "25/25 [==============================] - 0s 4ms/step - loss: 0.8157 - accuracy: 0.6504 - val_loss: 0.7724 - val_accuracy: 0.6341\n",
      "Epoch 202/350\n",
      "25/25 [==============================] - 0s 4ms/step - loss: 0.7857 - accuracy: 0.6829 - val_loss: 0.7585 - val_accuracy: 0.6341\n",
      "Epoch 203/350\n",
      "25/25 [==============================] - 0s 4ms/step - loss: 0.9519 - accuracy: 0.6423 - val_loss: 1.1327 - val_accuracy: 0.4634\n",
      "Epoch 204/350\n",
      "25/25 [==============================] - 0s 4ms/step - loss: 0.8645 - accuracy: 0.6098 - val_loss: 0.8299 - val_accuracy: 0.6585\n",
      "Epoch 205/350\n",
      "25/25 [==============================] - 0s 4ms/step - loss: 0.7747 - accuracy: 0.6748 - val_loss: 0.8158 - val_accuracy: 0.6585\n",
      "Epoch 206/350\n",
      "25/25 [==============================] - 0s 4ms/step - loss: 0.8077 - accuracy: 0.6585 - val_loss: 0.8146 - val_accuracy: 0.6098\n",
      "Epoch 207/350\n",
      "25/25 [==============================] - 0s 4ms/step - loss: 0.7416 - accuracy: 0.6911 - val_loss: 0.7661 - val_accuracy: 0.6341\n",
      "Epoch 208/350\n",
      "25/25 [==============================] - 0s 4ms/step - loss: 0.7594 - accuracy: 0.7073 - val_loss: 0.7739 - val_accuracy: 0.6341\n",
      "Epoch 209/350\n",
      "25/25 [==============================] - 0s 4ms/step - loss: 0.9100 - accuracy: 0.6260 - val_loss: 0.9175 - val_accuracy: 0.5854\n",
      "Epoch 210/350\n",
      "25/25 [==============================] - 0s 4ms/step - loss: 0.7759 - accuracy: 0.6829 - val_loss: 0.7899 - val_accuracy: 0.6341\n",
      "Epoch 211/350\n",
      "25/25 [==============================] - 0s 4ms/step - loss: 0.9042 - accuracy: 0.6098 - val_loss: 1.0284 - val_accuracy: 0.5366\n",
      "Epoch 212/350\n",
      "25/25 [==============================] - 0s 4ms/step - loss: 0.9071 - accuracy: 0.5935 - val_loss: 0.7979 - val_accuracy: 0.6098\n",
      "Epoch 213/350\n",
      "25/25 [==============================] - 0s 4ms/step - loss: 0.7630 - accuracy: 0.6829 - val_loss: 0.7965 - val_accuracy: 0.6098\n",
      "Epoch 214/350\n",
      "25/25 [==============================] - 0s 4ms/step - loss: 0.8394 - accuracy: 0.6423 - val_loss: 0.8093 - val_accuracy: 0.6098\n",
      "Epoch 215/350\n",
      "25/25 [==============================] - 0s 4ms/step - loss: 0.7532 - accuracy: 0.7317 - val_loss: 0.7615 - val_accuracy: 0.6341\n",
      "Epoch 216/350\n",
      "25/25 [==============================] - 0s 4ms/step - loss: 0.8443 - accuracy: 0.6341 - val_loss: 0.7320 - val_accuracy: 0.6829\n",
      "Epoch 217/350\n",
      "25/25 [==============================] - 0s 4ms/step - loss: 0.7695 - accuracy: 0.6504 - val_loss: 0.7738 - val_accuracy: 0.6341\n",
      "Epoch 218/350\n",
      "25/25 [==============================] - 0s 4ms/step - loss: 0.7288 - accuracy: 0.7073 - val_loss: 0.7735 - val_accuracy: 0.6341\n",
      "Epoch 219/350\n",
      "25/25 [==============================] - 0s 4ms/step - loss: 0.8314 - accuracy: 0.6016 - val_loss: 0.7718 - val_accuracy: 0.6341\n",
      "Epoch 220/350\n",
      "25/25 [==============================] - 0s 4ms/step - loss: 0.8517 - accuracy: 0.6423 - val_loss: 0.8099 - val_accuracy: 0.6098\n",
      "Epoch 221/350\n",
      "25/25 [==============================] - 0s 4ms/step - loss: 0.7684 - accuracy: 0.7154 - val_loss: 0.7968 - val_accuracy: 0.6341\n",
      "Epoch 222/350\n",
      "25/25 [==============================] - 0s 4ms/step - loss: 0.7646 - accuracy: 0.6504 - val_loss: 0.7431 - val_accuracy: 0.6585\n",
      "Epoch 223/350\n",
      "25/25 [==============================] - 0s 4ms/step - loss: 0.7485 - accuracy: 0.6829 - val_loss: 0.7867 - val_accuracy: 0.6341\n",
      "Epoch 224/350\n",
      "25/25 [==============================] - 0s 4ms/step - loss: 0.7273 - accuracy: 0.7236 - val_loss: 0.7796 - val_accuracy: 0.6098\n",
      "Epoch 225/350\n",
      "25/25 [==============================] - 0s 4ms/step - loss: 0.6864 - accuracy: 0.7154 - val_loss: 0.8028 - val_accuracy: 0.6341\n",
      "Epoch 226/350\n",
      "25/25 [==============================] - 0s 4ms/step - loss: 0.7226 - accuracy: 0.6748 - val_loss: 0.8111 - val_accuracy: 0.6341\n",
      "Epoch 227/350\n",
      "25/25 [==============================] - 0s 4ms/step - loss: 0.7867 - accuracy: 0.6667 - val_loss: 0.8340 - val_accuracy: 0.6098\n",
      "Epoch 228/350\n",
      "25/25 [==============================] - 0s 4ms/step - loss: 0.8117 - accuracy: 0.6829 - val_loss: 0.8134 - val_accuracy: 0.6341\n",
      "Epoch 229/350\n",
      "25/25 [==============================] - 0s 4ms/step - loss: 0.7187 - accuracy: 0.7236 - val_loss: 0.7774 - val_accuracy: 0.6341\n",
      "Epoch 230/350\n",
      "25/25 [==============================] - 0s 4ms/step - loss: 0.7743 - accuracy: 0.6992 - val_loss: 0.7676 - val_accuracy: 0.6341\n",
      "Epoch 231/350\n",
      "25/25 [==============================] - 0s 4ms/step - loss: 0.7163 - accuracy: 0.6992 - val_loss: 0.8167 - val_accuracy: 0.6098\n",
      "Epoch 232/350\n",
      "25/25 [==============================] - 0s 4ms/step - loss: 0.7426 - accuracy: 0.6911 - val_loss: 0.7901 - val_accuracy: 0.6341\n",
      "Epoch 233/350\n",
      "25/25 [==============================] - 0s 4ms/step - loss: 0.7153 - accuracy: 0.6992 - val_loss: 0.7915 - val_accuracy: 0.6585\n",
      "Epoch 234/350\n",
      "25/25 [==============================] - 0s 4ms/step - loss: 0.6918 - accuracy: 0.7480 - val_loss: 0.7748 - val_accuracy: 0.6341\n",
      "Epoch 235/350\n",
      "25/25 [==============================] - 0s 4ms/step - loss: 0.6847 - accuracy: 0.7236 - val_loss: 0.7878 - val_accuracy: 0.6341\n",
      "Epoch 236/350\n",
      "25/25 [==============================] - 0s 4ms/step - loss: 0.8197 - accuracy: 0.6504 - val_loss: 0.7876 - val_accuracy: 0.6341\n",
      "Epoch 237/350\n",
      "25/25 [==============================] - 0s 4ms/step - loss: 0.7111 - accuracy: 0.6748 - val_loss: 0.7887 - val_accuracy: 0.6585\n",
      "Epoch 238/350\n",
      "25/25 [==============================] - 0s 4ms/step - loss: 0.7124 - accuracy: 0.7317 - val_loss: 0.7808 - val_accuracy: 0.6341\n",
      "Epoch 239/350\n",
      "25/25 [==============================] - 0s 4ms/step - loss: 0.6912 - accuracy: 0.7398 - val_loss: 0.7855 - val_accuracy: 0.6098\n",
      "Epoch 240/350\n",
      "25/25 [==============================] - 0s 4ms/step - loss: 0.7988 - accuracy: 0.6829 - val_loss: 0.7598 - val_accuracy: 0.6585\n",
      "Epoch 241/350\n",
      "25/25 [==============================] - 0s 4ms/step - loss: 0.7428 - accuracy: 0.7154 - val_loss: 0.7459 - val_accuracy: 0.6341\n",
      "Epoch 242/350\n",
      "25/25 [==============================] - 0s 4ms/step - loss: 0.6862 - accuracy: 0.7236 - val_loss: 0.7482 - val_accuracy: 0.6585\n",
      "Epoch 243/350\n",
      "25/25 [==============================] - 0s 4ms/step - loss: 0.6967 - accuracy: 0.7480 - val_loss: 0.7625 - val_accuracy: 0.6585\n",
      "Epoch 244/350\n",
      "25/25 [==============================] - 0s 4ms/step - loss: 0.7042 - accuracy: 0.7154 - val_loss: 0.7690 - val_accuracy: 0.6341\n",
      "Epoch 245/350\n",
      "25/25 [==============================] - 0s 4ms/step - loss: 0.7493 - accuracy: 0.7073 - val_loss: 0.8228 - val_accuracy: 0.6098\n",
      "Epoch 246/350\n",
      "25/25 [==============================] - 0s 4ms/step - loss: 0.7619 - accuracy: 0.6992 - val_loss: 0.8224 - val_accuracy: 0.6585\n",
      "Epoch 247/350\n",
      "25/25 [==============================] - 0s 4ms/step - loss: 0.7198 - accuracy: 0.6911 - val_loss: 0.7778 - val_accuracy: 0.6341\n",
      "Epoch 248/350\n",
      "25/25 [==============================] - 0s 4ms/step - loss: 0.7074 - accuracy: 0.7154 - val_loss: 0.7671 - val_accuracy: 0.6341\n",
      "Epoch 249/350\n",
      "25/25 [==============================] - 0s 4ms/step - loss: 0.6961 - accuracy: 0.7154 - val_loss: 0.8699 - val_accuracy: 0.5854\n",
      "Epoch 250/350\n",
      "25/25 [==============================] - 0s 4ms/step - loss: 0.9332 - accuracy: 0.6179 - val_loss: 0.7724 - val_accuracy: 0.6585\n",
      "Epoch 251/350\n",
      "25/25 [==============================] - 0s 4ms/step - loss: 0.8204 - accuracy: 0.6423 - val_loss: 0.7686 - val_accuracy: 0.6098\n",
      "Epoch 252/350\n",
      "25/25 [==============================] - 0s 4ms/step - loss: 0.7257 - accuracy: 0.7073 - val_loss: 0.7649 - val_accuracy: 0.6341\n",
      "Epoch 253/350\n",
      "25/25 [==============================] - 0s 4ms/step - loss: 0.7336 - accuracy: 0.6992 - val_loss: 0.8110 - val_accuracy: 0.6098\n",
      "Epoch 254/350\n",
      "25/25 [==============================] - 0s 4ms/step - loss: 0.7257 - accuracy: 0.7154 - val_loss: 0.8834 - val_accuracy: 0.5610\n",
      "Epoch 255/350\n",
      "25/25 [==============================] - 0s 4ms/step - loss: 0.7412 - accuracy: 0.6667 - val_loss: 0.7407 - val_accuracy: 0.6829\n",
      "Epoch 256/350\n",
      "25/25 [==============================] - 0s 4ms/step - loss: 0.7501 - accuracy: 0.6911 - val_loss: 0.7398 - val_accuracy: 0.6341\n",
      "Epoch 257/350\n",
      "25/25 [==============================] - 0s 4ms/step - loss: 0.7073 - accuracy: 0.7073 - val_loss: 0.7720 - val_accuracy: 0.6098\n",
      "Epoch 258/350\n",
      "25/25 [==============================] - 0s 3ms/step - loss: 0.7141 - accuracy: 0.6911 - val_loss: 0.7719 - val_accuracy: 0.6341\n",
      "Epoch 259/350\n",
      "25/25 [==============================] - 0s 4ms/step - loss: 0.7765 - accuracy: 0.6585 - val_loss: 0.7989 - val_accuracy: 0.6098\n",
      "Epoch 260/350\n",
      "25/25 [==============================] - 0s 4ms/step - loss: 0.7768 - accuracy: 0.6748 - val_loss: 0.8057 - val_accuracy: 0.6098\n",
      "Epoch 261/350\n",
      "25/25 [==============================] - 0s 4ms/step - loss: 0.6534 - accuracy: 0.7398 - val_loss: 0.7602 - val_accuracy: 0.6098\n",
      "Epoch 262/350\n",
      "25/25 [==============================] - 0s 4ms/step - loss: 0.6860 - accuracy: 0.7236 - val_loss: 0.7773 - val_accuracy: 0.6098\n",
      "Epoch 263/350\n",
      "25/25 [==============================] - 0s 4ms/step - loss: 0.8196 - accuracy: 0.6341 - val_loss: 0.7524 - val_accuracy: 0.6341\n",
      "Epoch 264/350\n",
      "25/25 [==============================] - 0s 4ms/step - loss: 0.6793 - accuracy: 0.7073 - val_loss: 0.7712 - val_accuracy: 0.6585\n",
      "Epoch 265/350\n",
      "25/25 [==============================] - 0s 4ms/step - loss: 0.7042 - accuracy: 0.6829 - val_loss: 0.7559 - val_accuracy: 0.6341\n",
      "Epoch 266/350\n",
      "25/25 [==============================] - 0s 4ms/step - loss: 0.7005 - accuracy: 0.6992 - val_loss: 0.8283 - val_accuracy: 0.6098\n",
      "Epoch 267/350\n",
      "25/25 [==============================] - 0s 4ms/step - loss: 0.6537 - accuracy: 0.7480 - val_loss: 0.8850 - val_accuracy: 0.5854\n",
      "Epoch 268/350\n",
      "25/25 [==============================] - 0s 4ms/step - loss: 0.7832 - accuracy: 0.6585 - val_loss: 0.7678 - val_accuracy: 0.6585\n",
      "Epoch 269/350\n",
      "25/25 [==============================] - 0s 3ms/step - loss: 0.8271 - accuracy: 0.6748 - val_loss: 1.2073 - val_accuracy: 0.4878\n",
      "Epoch 270/350\n",
      "25/25 [==============================] - 0s 4ms/step - loss: 0.9755 - accuracy: 0.6179 - val_loss: 0.8982 - val_accuracy: 0.5610\n",
      "Epoch 271/350\n",
      "25/25 [==============================] - 0s 4ms/step - loss: 0.8542 - accuracy: 0.6016 - val_loss: 0.8360 - val_accuracy: 0.5854\n",
      "Epoch 272/350\n",
      "25/25 [==============================] - 0s 4ms/step - loss: 0.8042 - accuracy: 0.6504 - val_loss: 0.7347 - val_accuracy: 0.6098\n",
      "Epoch 273/350\n",
      "25/25 [==============================] - 0s 4ms/step - loss: 0.6517 - accuracy: 0.7642 - val_loss: 0.7633 - val_accuracy: 0.6341\n",
      "Epoch 274/350\n",
      "25/25 [==============================] - 0s 4ms/step - loss: 0.6875 - accuracy: 0.7236 - val_loss: 0.7881 - val_accuracy: 0.6341\n",
      "Epoch 275/350\n",
      "25/25 [==============================] - 0s 4ms/step - loss: 0.7913 - accuracy: 0.6829 - val_loss: 0.7629 - val_accuracy: 0.6341\n",
      "Epoch 276/350\n",
      "25/25 [==============================] - 0s 4ms/step - loss: 0.7450 - accuracy: 0.6992 - val_loss: 0.7679 - val_accuracy: 0.6098\n",
      "Epoch 277/350\n",
      "25/25 [==============================] - 0s 4ms/step - loss: 0.6997 - accuracy: 0.6992 - val_loss: 0.7624 - val_accuracy: 0.6341\n",
      "Epoch 278/350\n",
      "25/25 [==============================] - 0s 4ms/step - loss: 0.7155 - accuracy: 0.6585 - val_loss: 0.7951 - val_accuracy: 0.6098\n",
      "Epoch 279/350\n",
      "25/25 [==============================] - 0s 4ms/step - loss: 0.6994 - accuracy: 0.7073 - val_loss: 0.7246 - val_accuracy: 0.6341\n",
      "Epoch 280/350\n",
      "25/25 [==============================] - 0s 4ms/step - loss: 0.6829 - accuracy: 0.7154 - val_loss: 0.7878 - val_accuracy: 0.6585\n",
      "Epoch 281/350\n",
      "25/25 [==============================] - 0s 4ms/step - loss: 0.6958 - accuracy: 0.7073 - val_loss: 0.7893 - val_accuracy: 0.6098\n",
      "Epoch 282/350\n",
      "25/25 [==============================] - 0s 4ms/step - loss: 0.6756 - accuracy: 0.7154 - val_loss: 0.7793 - val_accuracy: 0.6341\n",
      "Epoch 283/350\n",
      "25/25 [==============================] - 0s 4ms/step - loss: 0.7152 - accuracy: 0.7073 - val_loss: 0.7839 - val_accuracy: 0.6585\n",
      "Epoch 284/350\n",
      "25/25 [==============================] - 0s 4ms/step - loss: 0.7373 - accuracy: 0.6829 - val_loss: 0.7820 - val_accuracy: 0.6098\n",
      "Epoch 285/350\n",
      "25/25 [==============================] - 0s 4ms/step - loss: 0.7912 - accuracy: 0.6585 - val_loss: 0.9924 - val_accuracy: 0.6098\n",
      "Epoch 286/350\n",
      "25/25 [==============================] - 0s 4ms/step - loss: 0.7291 - accuracy: 0.6667 - val_loss: 0.8329 - val_accuracy: 0.6098\n",
      "Epoch 287/350\n",
      "25/25 [==============================] - 0s 4ms/step - loss: 0.7756 - accuracy: 0.6667 - val_loss: 0.7975 - val_accuracy: 0.6341\n",
      "Epoch 288/350\n",
      "25/25 [==============================] - 0s 4ms/step - loss: 0.7622 - accuracy: 0.6829 - val_loss: 0.7876 - val_accuracy: 0.6585\n",
      "Epoch 289/350\n",
      "25/25 [==============================] - 0s 4ms/step - loss: 0.6980 - accuracy: 0.6748 - val_loss: 0.7765 - val_accuracy: 0.6585\n",
      "Epoch 290/350\n",
      "25/25 [==============================] - 0s 4ms/step - loss: 0.6964 - accuracy: 0.7480 - val_loss: 0.7465 - val_accuracy: 0.6341\n",
      "Epoch 291/350\n",
      "25/25 [==============================] - 0s 4ms/step - loss: 0.6614 - accuracy: 0.7236 - val_loss: 0.8280 - val_accuracy: 0.6341\n",
      "Epoch 292/350\n",
      "25/25 [==============================] - 0s 4ms/step - loss: 0.7598 - accuracy: 0.6911 - val_loss: 0.7668 - val_accuracy: 0.6098\n",
      "Epoch 293/350\n",
      "25/25 [==============================] - 0s 4ms/step - loss: 0.7434 - accuracy: 0.7073 - val_loss: 0.9346 - val_accuracy: 0.5610\n",
      "Epoch 294/350\n",
      "25/25 [==============================] - 0s 4ms/step - loss: 0.8549 - accuracy: 0.7073 - val_loss: 0.8385 - val_accuracy: 0.6341\n",
      "Epoch 295/350\n",
      "25/25 [==============================] - 0s 4ms/step - loss: 0.7248 - accuracy: 0.6748 - val_loss: 0.8638 - val_accuracy: 0.5854\n",
      "Epoch 296/350\n",
      "25/25 [==============================] - 0s 4ms/step - loss: 0.7480 - accuracy: 0.6992 - val_loss: 0.8068 - val_accuracy: 0.6341\n",
      "Epoch 297/350\n",
      "25/25 [==============================] - 0s 4ms/step - loss: 0.6633 - accuracy: 0.7236 - val_loss: 0.8101 - val_accuracy: 0.6098\n",
      "Epoch 298/350\n",
      "25/25 [==============================] - 0s 4ms/step - loss: 0.6839 - accuracy: 0.7154 - val_loss: 0.8288 - val_accuracy: 0.6098\n",
      "Epoch 299/350\n",
      "25/25 [==============================] - 0s 4ms/step - loss: 0.7169 - accuracy: 0.7236 - val_loss: 0.8443 - val_accuracy: 0.6098\n",
      "Epoch 300/350\n",
      "25/25 [==============================] - 0s 4ms/step - loss: 0.7154 - accuracy: 0.7317 - val_loss: 0.7977 - val_accuracy: 0.5854\n",
      "Epoch 301/350\n",
      "25/25 [==============================] - 0s 4ms/step - loss: 0.6740 - accuracy: 0.7154 - val_loss: 0.8121 - val_accuracy: 0.5610\n",
      "Epoch 302/350\n",
      "25/25 [==============================] - 0s 4ms/step - loss: 0.6979 - accuracy: 0.7236 - val_loss: 0.7711 - val_accuracy: 0.6098\n",
      "Epoch 303/350\n",
      "25/25 [==============================] - 0s 4ms/step - loss: 0.7019 - accuracy: 0.7073 - val_loss: 0.8497 - val_accuracy: 0.6098\n",
      "Epoch 304/350\n",
      "25/25 [==============================] - 0s 4ms/step - loss: 0.7647 - accuracy: 0.7398 - val_loss: 0.8531 - val_accuracy: 0.6098\n",
      "Epoch 305/350\n",
      "25/25 [==============================] - 0s 4ms/step - loss: 0.6514 - accuracy: 0.7317 - val_loss: 0.7859 - val_accuracy: 0.6341\n",
      "Epoch 306/350\n",
      "25/25 [==============================] - 0s 4ms/step - loss: 0.6200 - accuracy: 0.7317 - val_loss: 0.8148 - val_accuracy: 0.5854\n",
      "Epoch 307/350\n",
      "25/25 [==============================] - 0s 4ms/step - loss: 0.6979 - accuracy: 0.7236 - val_loss: 0.8862 - val_accuracy: 0.6341\n",
      "Epoch 308/350\n",
      "25/25 [==============================] - 0s 4ms/step - loss: 0.8435 - accuracy: 0.6829 - val_loss: 0.7908 - val_accuracy: 0.6341\n",
      "Epoch 309/350\n",
      "25/25 [==============================] - 0s 4ms/step - loss: 0.7179 - accuracy: 0.6992 - val_loss: 0.7964 - val_accuracy: 0.6341\n",
      "Epoch 310/350\n",
      "25/25 [==============================] - 0s 4ms/step - loss: 0.6637 - accuracy: 0.7398 - val_loss: 0.7499 - val_accuracy: 0.6341\n",
      "Epoch 311/350\n",
      "25/25 [==============================] - 0s 4ms/step - loss: 0.6542 - accuracy: 0.7317 - val_loss: 0.7547 - val_accuracy: 0.6098\n",
      "Epoch 312/350\n",
      "25/25 [==============================] - 0s 4ms/step - loss: 0.7112 - accuracy: 0.6829 - val_loss: 0.8211 - val_accuracy: 0.6341\n",
      "Epoch 313/350\n",
      "25/25 [==============================] - 0s 4ms/step - loss: 0.7013 - accuracy: 0.6992 - val_loss: 0.7699 - val_accuracy: 0.6341\n",
      "Epoch 314/350\n",
      "25/25 [==============================] - 0s 4ms/step - loss: 0.6578 - accuracy: 0.7236 - val_loss: 0.8013 - val_accuracy: 0.6098\n",
      "Epoch 315/350\n",
      "25/25 [==============================] - 0s 4ms/step - loss: 0.6309 - accuracy: 0.7805 - val_loss: 0.7405 - val_accuracy: 0.6585\n",
      "Epoch 316/350\n",
      "25/25 [==============================] - 0s 3ms/step - loss: 0.6663 - accuracy: 0.7236 - val_loss: 0.7436 - val_accuracy: 0.6341\n",
      "Epoch 317/350\n",
      "25/25 [==============================] - 0s 4ms/step - loss: 0.6668 - accuracy: 0.6829 - val_loss: 0.9215 - val_accuracy: 0.6098\n",
      "Epoch 318/350\n",
      "25/25 [==============================] - 0s 4ms/step - loss: 0.7423 - accuracy: 0.6667 - val_loss: 0.7370 - val_accuracy: 0.6341\n",
      "Epoch 319/350\n",
      "25/25 [==============================] - 0s 4ms/step - loss: 0.7209 - accuracy: 0.6423 - val_loss: 0.8304 - val_accuracy: 0.6341\n",
      "Epoch 320/350\n",
      "25/25 [==============================] - 0s 4ms/step - loss: 0.7330 - accuracy: 0.6911 - val_loss: 0.7679 - val_accuracy: 0.6341\n",
      "Epoch 321/350\n",
      "25/25 [==============================] - 0s 4ms/step - loss: 0.7407 - accuracy: 0.6829 - val_loss: 0.7710 - val_accuracy: 0.6341\n",
      "Epoch 322/350\n",
      "25/25 [==============================] - 0s 4ms/step - loss: 0.7161 - accuracy: 0.6829 - val_loss: 0.7872 - val_accuracy: 0.6098\n",
      "Epoch 323/350\n",
      "25/25 [==============================] - 0s 4ms/step - loss: 0.6688 - accuracy: 0.7317 - val_loss: 0.8541 - val_accuracy: 0.6098\n",
      "Epoch 324/350\n",
      "25/25 [==============================] - 0s 4ms/step - loss: 0.7032 - accuracy: 0.7317 - val_loss: 0.7830 - val_accuracy: 0.6341\n",
      "Epoch 325/350\n",
      "25/25 [==============================] - 0s 4ms/step - loss: 0.7151 - accuracy: 0.7236 - val_loss: 0.7827 - val_accuracy: 0.6098\n",
      "Epoch 326/350\n",
      "25/25 [==============================] - 0s 4ms/step - loss: 0.6342 - accuracy: 0.7317 - val_loss: 0.8122 - val_accuracy: 0.6098\n",
      "Epoch 327/350\n",
      "25/25 [==============================] - 0s 4ms/step - loss: 0.6634 - accuracy: 0.6992 - val_loss: 0.7644 - val_accuracy: 0.6098\n",
      "Epoch 328/350\n",
      "25/25 [==============================] - 0s 4ms/step - loss: 0.6338 - accuracy: 0.7398 - val_loss: 0.7880 - val_accuracy: 0.5854\n",
      "Epoch 329/350\n",
      "25/25 [==============================] - 0s 4ms/step - loss: 0.6611 - accuracy: 0.7154 - val_loss: 0.8097 - val_accuracy: 0.6585\n",
      "Epoch 330/350\n",
      "25/25 [==============================] - 0s 3ms/step - loss: 0.7278 - accuracy: 0.7236 - val_loss: 0.7748 - val_accuracy: 0.6829\n",
      "Epoch 331/350\n",
      "25/25 [==============================] - 0s 4ms/step - loss: 0.7180 - accuracy: 0.6992 - val_loss: 0.7675 - val_accuracy: 0.6341\n",
      "Epoch 332/350\n",
      "25/25 [==============================] - 0s 4ms/step - loss: 0.6142 - accuracy: 0.7154 - val_loss: 0.7878 - val_accuracy: 0.6098\n",
      "Epoch 333/350\n",
      "25/25 [==============================] - 0s 4ms/step - loss: 0.6383 - accuracy: 0.7480 - val_loss: 0.7800 - val_accuracy: 0.6341\n",
      "Epoch 334/350\n",
      "25/25 [==============================] - 0s 4ms/step - loss: 0.6673 - accuracy: 0.7154 - val_loss: 0.7403 - val_accuracy: 0.6585\n",
      "Epoch 335/350\n",
      "25/25 [==============================] - 0s 4ms/step - loss: 0.6119 - accuracy: 0.7480 - val_loss: 0.8020 - val_accuracy: 0.6341\n",
      "Epoch 336/350\n",
      "25/25 [==============================] - 0s 4ms/step - loss: 0.6981 - accuracy: 0.7236 - val_loss: 0.7775 - val_accuracy: 0.6098\n",
      "Epoch 337/350\n",
      "25/25 [==============================] - 0s 4ms/step - loss: 0.6489 - accuracy: 0.7317 - val_loss: 0.7845 - val_accuracy: 0.6098\n",
      "Epoch 338/350\n",
      "25/25 [==============================] - 0s 4ms/step - loss: 0.6939 - accuracy: 0.6911 - val_loss: 0.7858 - val_accuracy: 0.6585\n",
      "Epoch 339/350\n",
      "25/25 [==============================] - 0s 4ms/step - loss: 0.6372 - accuracy: 0.7398 - val_loss: 0.7585 - val_accuracy: 0.6341\n",
      "Epoch 340/350\n",
      "25/25 [==============================] - 0s 4ms/step - loss: 0.6771 - accuracy: 0.7154 - val_loss: 0.7388 - val_accuracy: 0.6341\n",
      "Epoch 341/350\n",
      "25/25 [==============================] - 0s 4ms/step - loss: 0.6525 - accuracy: 0.7317 - val_loss: 0.7907 - val_accuracy: 0.6585\n",
      "Epoch 342/350\n",
      "25/25 [==============================] - 0s 4ms/step - loss: 0.8991 - accuracy: 0.7236 - val_loss: 0.8023 - val_accuracy: 0.6585\n",
      "Epoch 343/350\n",
      "25/25 [==============================] - 0s 4ms/step - loss: 0.6915 - accuracy: 0.6992 - val_loss: 0.7829 - val_accuracy: 0.6341\n",
      "Epoch 344/350\n",
      "25/25 [==============================] - 0s 4ms/step - loss: 0.6832 - accuracy: 0.7154 - val_loss: 0.7622 - val_accuracy: 0.6098\n",
      "Epoch 345/350\n",
      "25/25 [==============================] - 0s 4ms/step - loss: 0.6132 - accuracy: 0.7480 - val_loss: 0.7889 - val_accuracy: 0.6585\n",
      "Epoch 346/350\n",
      "25/25 [==============================] - 0s 4ms/step - loss: 0.7192 - accuracy: 0.6911 - val_loss: 0.7915 - val_accuracy: 0.6098\n",
      "Epoch 347/350\n",
      "25/25 [==============================] - 0s 4ms/step - loss: 0.6515 - accuracy: 0.7236 - val_loss: 0.8117 - val_accuracy: 0.5854\n",
      "Epoch 348/350\n",
      "25/25 [==============================] - 0s 4ms/step - loss: 0.6132 - accuracy: 0.7398 - val_loss: 0.8894 - val_accuracy: 0.5854\n",
      "Epoch 349/350\n",
      "25/25 [==============================] - 0s 4ms/step - loss: 0.6947 - accuracy: 0.7398 - val_loss: 0.7874 - val_accuracy: 0.6098\n",
      "Epoch 350/350\n",
      "25/25 [==============================] - 0s 4ms/step - loss: 0.6954 - accuracy: 0.6992 - val_loss: 0.8696 - val_accuracy: 0.5854\n"
     ]
    },
    {
     "data": {
      "application/vnd.plotly.v1+json": {
       "config": {
        "plotlyServerURL": "https://plot.ly"
       },
       "data": [
        {
         "hovertemplate": "Curvas de Pérdida=Training Loss<br>Epoch=%{x}<br>Binary Cross Entropy=%{y}<extra></extra>",
         "legendgroup": "Training Loss",
         "line": {
          "color": "#46039f",
          "dash": "solid"
         },
         "marker": {
          "symbol": "circle"
         },
         "mode": "lines",
         "name": "Training Loss",
         "orientation": "v",
         "showlegend": true,
         "type": "scatter",
         "x": [
          0,
          1,
          2,
          3,
          4,
          5,
          6,
          7,
          8,
          9,
          10,
          11,
          12,
          13,
          14,
          15,
          16,
          17,
          18,
          19,
          20,
          21,
          22,
          23,
          24,
          25,
          26,
          27,
          28,
          29,
          30,
          31,
          32,
          33,
          34,
          35,
          36,
          37,
          38,
          39,
          40,
          41,
          42,
          43,
          44,
          45,
          46,
          47,
          48,
          49,
          50,
          51,
          52,
          53,
          54,
          55,
          56,
          57,
          58,
          59,
          60,
          61,
          62,
          63,
          64,
          65,
          66,
          67,
          68,
          69,
          70,
          71,
          72,
          73,
          74,
          75,
          76,
          77,
          78,
          79,
          80,
          81,
          82,
          83,
          84,
          85,
          86,
          87,
          88,
          89,
          90,
          91,
          92,
          93,
          94,
          95,
          96,
          97,
          98,
          99,
          100,
          101,
          102,
          103,
          104,
          105,
          106,
          107,
          108,
          109,
          110,
          111,
          112,
          113,
          114,
          115,
          116,
          117,
          118,
          119,
          120,
          121,
          122,
          123,
          124,
          125,
          126,
          127,
          128,
          129,
          130,
          131,
          132,
          133,
          134,
          135,
          136,
          137,
          138,
          139,
          140,
          141,
          142,
          143,
          144,
          145,
          146,
          147,
          148,
          149,
          150,
          151,
          152,
          153,
          154,
          155,
          156,
          157,
          158,
          159,
          160,
          161,
          162,
          163,
          164,
          165,
          166,
          167,
          168,
          169,
          170,
          171,
          172,
          173,
          174,
          175,
          176,
          177,
          178,
          179,
          180,
          181,
          182,
          183,
          184,
          185,
          186,
          187,
          188,
          189,
          190,
          191,
          192,
          193,
          194,
          195,
          196,
          197,
          198,
          199,
          200,
          201,
          202,
          203,
          204,
          205,
          206,
          207,
          208,
          209,
          210,
          211,
          212,
          213,
          214,
          215,
          216,
          217,
          218,
          219,
          220,
          221,
          222,
          223,
          224,
          225,
          226,
          227,
          228,
          229,
          230,
          231,
          232,
          233,
          234,
          235,
          236,
          237,
          238,
          239,
          240,
          241,
          242,
          243,
          244,
          245,
          246,
          247,
          248,
          249,
          250,
          251,
          252,
          253,
          254,
          255,
          256,
          257,
          258,
          259,
          260,
          261,
          262,
          263,
          264,
          265,
          266,
          267,
          268,
          269,
          270,
          271,
          272,
          273,
          274,
          275,
          276,
          277,
          278,
          279,
          280,
          281,
          282,
          283,
          284,
          285,
          286,
          287,
          288,
          289,
          290,
          291,
          292,
          293,
          294,
          295,
          296,
          297,
          298,
          299,
          300,
          301,
          302,
          303,
          304,
          305,
          306,
          307,
          308,
          309,
          310,
          311,
          312,
          313,
          314,
          315,
          316,
          317,
          318,
          319,
          320,
          321,
          322,
          323,
          324,
          325,
          326,
          327,
          328,
          329,
          330,
          331,
          332,
          333,
          334,
          335,
          336,
          337,
          338,
          339,
          340,
          341,
          342,
          343,
          344,
          345,
          346,
          347,
          348,
          349
         ],
         "xaxis": "x",
         "y": [
          1.6016062498092651,
          1.58120596408844,
          1.588125467300415,
          1.5693724155426025,
          1.5622097253799438,
          1.5689035654067993,
          1.5592434406280518,
          1.5763570070266724,
          1.5795570611953735,
          1.5691412687301636,
          1.580061674118042,
          1.5622457265853882,
          1.5492277145385742,
          1.5512129068374634,
          1.559070110321045,
          1.536728858947754,
          1.5301854610443115,
          1.5022120475769043,
          1.4642287492752075,
          1.4405078887939453,
          1.3971093893051147,
          1.3479928970336914,
          1.3672186136245728,
          1.3057447671890259,
          1.31489098072052,
          1.3133866786956787,
          1.2956969738006592,
          1.2916524410247803,
          1.2777469158172607,
          1.2726280689239502,
          1.2415884733200073,
          1.272971749305725,
          1.266385555267334,
          1.2701714038848877,
          1.2285141944885254,
          1.2509154081344604,
          1.2114851474761963,
          1.22249174118042,
          1.2009999752044678,
          1.1902350187301636,
          1.1974613666534424,
          1.2218143939971924,
          1.1840198040008545,
          1.1485049724578857,
          1.2002485990524292,
          1.214858055114746,
          1.1768418550491333,
          1.1790823936462402,
          1.0909558534622192,
          1.1593645811080933,
          1.1551176309585571,
          1.1131722927093506,
          1.1438946723937988,
          1.1088802814483643,
          1.1145471334457397,
          1.0621988773345947,
          1.0426784753799438,
          1.055107831954956,
          1.1124868392944336,
          1.0272855758666992,
          1.019348382949829,
          1.0543467998504639,
          1.0807276964187622,
          1.0990124940872192,
          1.0736708641052246,
          1.0833748579025269,
          1.0460200309753418,
          1.0639355182647705,
          1.098183512687683,
          1.0714476108551025,
          1.0307908058166504,
          1.0136048793792725,
          0.9985235333442688,
          0.9717627167701721,
          1.001766562461853,
          1.0294262170791626,
          0.9886893630027771,
          1.054650902748108,
          0.9983511567115784,
          1.0498405694961548,
          1.02420973777771,
          0.94490647315979,
          0.938955545425415,
          1.073899745941162,
          0.987185001373291,
          1.0045114755630493,
          0.9172055721282959,
          1.1303555965423584,
          1.0273616313934326,
          1.0276957750320435,
          0.9621210098266602,
          1.03276526927948,
          0.976771891117096,
          1.002366304397583,
          0.9963129758834839,
          1.0037336349487305,
          0.9560418725013733,
          0.9894465804100037,
          0.9041299819946289,
          0.9540078639984131,
          0.9511966109275818,
          0.9287518858909607,
          0.936073362827301,
          0.9772657155990601,
          1.0047370195388794,
          0.9874184727668762,
          0.9941813349723816,
          0.9788177609443665,
          0.9850662350654602,
          0.9417820572853088,
          0.9775987267494202,
          0.9751903414726257,
          0.9692363739013672,
          0.9268273115158081,
          0.9844295382499695,
          0.9065365791320801,
          0.8938143849372864,
          0.8576747179031372,
          0.8350950479507446,
          0.9078221321105957,
          0.9293062686920166,
          0.8889768123626709,
          0.8941383957862854,
          0.8370304107666016,
          0.986820638179779,
          0.8637056350708008,
          0.8628360629081726,
          0.8949630260467529,
          0.8257233500480652,
          0.9212873578071594,
          0.9010317921638489,
          0.904429018497467,
          0.8740799427032471,
          0.8740324378013611,
          0.8541535139083862,
          0.813294529914856,
          0.7972836494445801,
          0.8743869662284851,
          0.9182392954826355,
          0.8330508470535278,
          0.8140316009521484,
          0.8662697672843933,
          0.815812885761261,
          0.8375198841094971,
          0.8720788359642029,
          0.8267931342124939,
          0.8600447773933411,
          0.8621980547904968,
          0.84828782081604,
          0.7946695685386658,
          0.7957438230514526,
          0.8672052025794983,
          0.8139446377754211,
          0.7948321104049683,
          0.7867189645767212,
          0.8330466151237488,
          0.8423532843589783,
          0.7831827402114868,
          0.8202481269836426,
          0.817570686340332,
          0.7891796231269836,
          0.7957887053489685,
          0.8210006952285767,
          0.7496407628059387,
          0.7849043607711792,
          0.8340917825698853,
          0.7762005925178528,
          0.807754635810852,
          0.7758726477622986,
          0.8093914985656738,
          0.8689345121383667,
          0.9042041897773743,
          0.8673017621040344,
          0.8449985980987549,
          0.7940484285354614,
          0.7786969542503357,
          0.8579607009887695,
          0.8886615037918091,
          0.8505736589431763,
          0.9160565733909607,
          0.9274996519088745,
          0.7916296720504761,
          0.9328455924987793,
          0.8347229361534119,
          0.9060282111167908,
          0.8788594007492065,
          0.8383042216300964,
          0.7857366800308228,
          0.7826244831085205,
          0.7688828706741333,
          0.7636284232139587,
          0.8041089773178101,
          0.7832775115966797,
          0.7535169720649719,
          0.8483359217643738,
          0.7164547443389893,
          0.8261063098907471,
          0.7558674216270447,
          0.7245598435401917,
          0.823564350605011,
          0.8156733512878418,
          0.7857248783111572,
          0.9519031643867493,
          0.8645249605178833,
          0.7747185826301575,
          0.8076537847518921,
          0.7415664196014404,
          0.759401261806488,
          0.9099697470664978,
          0.775911808013916,
          0.9041680097579956,
          0.9071164131164551,
          0.7630263566970825,
          0.8394419550895691,
          0.7531960606575012,
          0.8442828059196472,
          0.7695398926734924,
          0.728800892829895,
          0.8313971757888794,
          0.8516542315483093,
          0.7683701515197754,
          0.7645809054374695,
          0.7485412359237671,
          0.7272967100143433,
          0.6863916516304016,
          0.7226356863975525,
          0.7867094278335571,
          0.8117188215255737,
          0.7187105417251587,
          0.774292528629303,
          0.7162596583366394,
          0.7426468729972839,
          0.7153414487838745,
          0.691841721534729,
          0.6847177147865295,
          0.8197053670883179,
          0.7111018300056458,
          0.7124113440513611,
          0.6912329196929932,
          0.798812210559845,
          0.7427510619163513,
          0.6861898303031921,
          0.6967034935951233,
          0.7041536569595337,
          0.7492610812187195,
          0.7619452476501465,
          0.7198207378387451,
          0.7074044346809387,
          0.6960957646369934,
          0.9332408905029297,
          0.8203796148300171,
          0.7257291078567505,
          0.7335789203643799,
          0.7257148027420044,
          0.7411866784095764,
          0.7501373291015625,
          0.7072674632072449,
          0.7140683531761169,
          0.7764810919761658,
          0.7767695188522339,
          0.6533767580986023,
          0.6859534382820129,
          0.8196173310279846,
          0.6792805194854736,
          0.7042490243911743,
          0.7005079388618469,
          0.6536549925804138,
          0.7831640839576721,
          0.8270797729492188,
          0.975493848323822,
          0.8542130589485168,
          0.8041908740997314,
          0.6516616344451904,
          0.6875272393226624,
          0.7912873029708862,
          0.7449941635131836,
          0.6997121572494507,
          0.7154845595359802,
          0.6993938088417053,
          0.6828951835632324,
          0.695827841758728,
          0.6756238341331482,
          0.7152054905891418,
          0.7373176217079163,
          0.7912386059761047,
          0.7290666103363037,
          0.7755548357963562,
          0.7622323632240295,
          0.6980172395706177,
          0.6964060068130493,
          0.6613720655441284,
          0.7597682476043701,
          0.7433919906616211,
          0.8548831343650818,
          0.7247750759124756,
          0.7480068206787109,
          0.6632925868034363,
          0.6838878989219666,
          0.7169088125228882,
          0.7153589129447937,
          0.6740122437477112,
          0.6979311108589172,
          0.7019332647323608,
          0.7647046446800232,
          0.6513612866401672,
          0.620025098323822,
          0.6979269981384277,
          0.8434885740280151,
          0.717947244644165,
          0.6636900305747986,
          0.6541929244995117,
          0.7111998200416565,
          0.7012834548950195,
          0.6577783226966858,
          0.6308899521827698,
          0.6662623882293701,
          0.6667768359184265,
          0.7423029541969299,
          0.7209317088127136,
          0.732972264289856,
          0.7406902313232422,
          0.7161001563072205,
          0.6688326597213745,
          0.7032468318939209,
          0.7151485681533813,
          0.6342073678970337,
          0.6634261608123779,
          0.6337972283363342,
          0.661135196685791,
          0.7278116941452026,
          0.7180415391921997,
          0.614238440990448,
          0.6383123397827148,
          0.6672871708869934,
          0.6118746399879456,
          0.6981067657470703,
          0.648892343044281,
          0.693928599357605,
          0.6372137665748596,
          0.6771265268325806,
          0.6525025963783264,
          0.8991388082504272,
          0.6915284395217896,
          0.6831678152084351,
          0.6132106781005859,
          0.7192452549934387,
          0.6514955163002014,
          0.6131815314292908,
          0.6946612596511841,
          0.6954038143157959
         ],
         "yaxis": "y"
        },
        {
         "hovertemplate": "Curvas de Pérdida=Validation Loss<br>Epoch=%{x}<br>Binary Cross Entropy=%{y}<extra></extra>",
         "legendgroup": "Validation Loss",
         "line": {
          "color": "#fb9f3a",
          "dash": "solid"
         },
         "marker": {
          "symbol": "circle"
         },
         "mode": "lines",
         "name": "Validation Loss",
         "orientation": "v",
         "showlegend": true,
         "type": "scatter",
         "x": [
          0,
          1,
          2,
          3,
          4,
          5,
          6,
          7,
          8,
          9,
          10,
          11,
          12,
          13,
          14,
          15,
          16,
          17,
          18,
          19,
          20,
          21,
          22,
          23,
          24,
          25,
          26,
          27,
          28,
          29,
          30,
          31,
          32,
          33,
          34,
          35,
          36,
          37,
          38,
          39,
          40,
          41,
          42,
          43,
          44,
          45,
          46,
          47,
          48,
          49,
          50,
          51,
          52,
          53,
          54,
          55,
          56,
          57,
          58,
          59,
          60,
          61,
          62,
          63,
          64,
          65,
          66,
          67,
          68,
          69,
          70,
          71,
          72,
          73,
          74,
          75,
          76,
          77,
          78,
          79,
          80,
          81,
          82,
          83,
          84,
          85,
          86,
          87,
          88,
          89,
          90,
          91,
          92,
          93,
          94,
          95,
          96,
          97,
          98,
          99,
          100,
          101,
          102,
          103,
          104,
          105,
          106,
          107,
          108,
          109,
          110,
          111,
          112,
          113,
          114,
          115,
          116,
          117,
          118,
          119,
          120,
          121,
          122,
          123,
          124,
          125,
          126,
          127,
          128,
          129,
          130,
          131,
          132,
          133,
          134,
          135,
          136,
          137,
          138,
          139,
          140,
          141,
          142,
          143,
          144,
          145,
          146,
          147,
          148,
          149,
          150,
          151,
          152,
          153,
          154,
          155,
          156,
          157,
          158,
          159,
          160,
          161,
          162,
          163,
          164,
          165,
          166,
          167,
          168,
          169,
          170,
          171,
          172,
          173,
          174,
          175,
          176,
          177,
          178,
          179,
          180,
          181,
          182,
          183,
          184,
          185,
          186,
          187,
          188,
          189,
          190,
          191,
          192,
          193,
          194,
          195,
          196,
          197,
          198,
          199,
          200,
          201,
          202,
          203,
          204,
          205,
          206,
          207,
          208,
          209,
          210,
          211,
          212,
          213,
          214,
          215,
          216,
          217,
          218,
          219,
          220,
          221,
          222,
          223,
          224,
          225,
          226,
          227,
          228,
          229,
          230,
          231,
          232,
          233,
          234,
          235,
          236,
          237,
          238,
          239,
          240,
          241,
          242,
          243,
          244,
          245,
          246,
          247,
          248,
          249,
          250,
          251,
          252,
          253,
          254,
          255,
          256,
          257,
          258,
          259,
          260,
          261,
          262,
          263,
          264,
          265,
          266,
          267,
          268,
          269,
          270,
          271,
          272,
          273,
          274,
          275,
          276,
          277,
          278,
          279,
          280,
          281,
          282,
          283,
          284,
          285,
          286,
          287,
          288,
          289,
          290,
          291,
          292,
          293,
          294,
          295,
          296,
          297,
          298,
          299,
          300,
          301,
          302,
          303,
          304,
          305,
          306,
          307,
          308,
          309,
          310,
          311,
          312,
          313,
          314,
          315,
          316,
          317,
          318,
          319,
          320,
          321,
          322,
          323,
          324,
          325,
          326,
          327,
          328,
          329,
          330,
          331,
          332,
          333,
          334,
          335,
          336,
          337,
          338,
          339,
          340,
          341,
          342,
          343,
          344,
          345,
          346,
          347,
          348,
          349
         ],
         "xaxis": "x",
         "y": [
          1.5951564311981201,
          1.5707789659500122,
          1.5700910091400146,
          1.5675721168518066,
          1.5665502548217773,
          1.5678632259368896,
          1.556363821029663,
          1.551626443862915,
          1.5620882511138916,
          1.55108642578125,
          1.5604870319366455,
          1.550667405128479,
          1.5425599813461304,
          1.5392178297042847,
          1.5422229766845703,
          1.5176254510879517,
          1.503172755241394,
          1.5010029077529907,
          1.4296622276306152,
          1.3913569450378418,
          1.3014028072357178,
          1.272055983543396,
          1.27530837059021,
          1.2607502937316895,
          1.2838932275772095,
          1.271240472793579,
          1.2660053968429565,
          1.2715283632278442,
          1.263348937034607,
          1.252763271331787,
          1.2545884847640991,
          1.2274366617202759,
          1.2559648752212524,
          1.2396982908248901,
          1.2033356428146362,
          1.2215431928634644,
          1.1838024854660034,
          1.1956734657287598,
          1.1791449785232544,
          1.1326254606246948,
          1.1476637125015259,
          1.1965347528457642,
          1.1433238983154297,
          1.2908539772033691,
          1.3021312952041626,
          1.2655889987945557,
          1.1415777206420898,
          1.1061499118804932,
          1.0699760913848877,
          1.0641613006591797,
          1.088332176208496,
          1.0301845073699951,
          1.0518492460250854,
          1.0162997245788574,
          1.1892629861831665,
          1.0132404565811157,
          1.0072157382965088,
          1.091416835784912,
          0.9840275645256042,
          0.9665799736976624,
          0.9665876030921936,
          1.0755752325057983,
          1.1449288129806519,
          0.9768321514129639,
          1.067319393157959,
          1.0763294696807861,
          0.9724268913269043,
          1.0052376985549927,
          0.9687380790710449,
          1.0319725275039673,
          0.9812489151954651,
          1.0055955648422241,
          0.9596474766731262,
          0.9331140518188477,
          1.0248945951461792,
          1.0020908117294312,
          0.964796781539917,
          1.0009371042251587,
          0.971863329410553,
          1.1130242347717285,
          0.9436320662498474,
          0.9878548383712769,
          1.016632318496704,
          1.0397671461105347,
          0.93558269739151,
          0.947255551815033,
          0.9751333594322205,
          0.9494748115539551,
          1.1370491981506348,
          0.9700850248336792,
          0.9692569971084595,
          1.1341843605041504,
          1.0028374195098877,
          0.964043140411377,
          0.9502640962600708,
          0.9644450545310974,
          0.965852677822113,
          0.9346270561218262,
          0.9364188313484192,
          0.9091383814811707,
          0.9262755513191223,
          0.9480881094932556,
          0.8938999772071838,
          1.0407030582427979,
          1.0301945209503174,
          0.9421018362045288,
          0.9844662547111511,
          1.0300379991531372,
          1.0464603900909424,
          0.9169274568557739,
          0.936792254447937,
          0.9280874729156494,
          0.9200618267059326,
          0.9230586886405945,
          0.8756450414657593,
          0.9159989953041077,
          0.9236618876457214,
          0.8849628567695618,
          0.8995424509048462,
          0.9415674805641174,
          0.9816631078720093,
          0.9039336442947388,
          0.893422544002533,
          1.0394984483718872,
          0.9657691121101379,
          0.988261878490448,
          0.9166249632835388,
          0.8462932705879211,
          0.8650901317596436,
          0.8956843018531799,
          0.845937192440033,
          0.9206656217575073,
          0.9137200117111206,
          0.8322710394859314,
          0.8756464719772339,
          0.8571271300315857,
          0.8857247233390808,
          0.8774378895759583,
          0.8494150042533875,
          0.8584145307540894,
          0.88003009557724,
          0.8824069499969482,
          0.8299992084503174,
          0.8432462811470032,
          0.8540659546852112,
          0.8417307138442993,
          0.8622121214866638,
          0.880473792552948,
          0.8445841073989868,
          0.8350896835327148,
          0.8360232710838318,
          0.858866810798645,
          0.8546388149261475,
          0.8316949009895325,
          0.8121417760848999,
          0.83368980884552,
          0.9035128951072693,
          0.829991340637207,
          0.8087533116340637,
          0.8508439660072327,
          0.8160934448242188,
          0.846078097820282,
          0.8210209012031555,
          0.8566194176673889,
          0.7989578247070312,
          0.8320191502571106,
          0.8135272860527039,
          0.7735674977302551,
          0.7885027527809143,
          0.8180618286132812,
          0.9593055248260498,
          0.8030335307121277,
          0.8016915917396545,
          0.7838467955589294,
          0.8186631798744202,
          0.8229587078094482,
          0.8537043929100037,
          0.8752944469451904,
          0.8350246548652649,
          1.0087336301803589,
          0.8116759061813354,
          0.8823016881942749,
          0.9184878468513489,
          1.0864737033843994,
          0.8318495154380798,
          0.9667525887489319,
          0.8242917656898499,
          0.8668269515037537,
          0.835761547088623,
          0.8002337217330933,
          0.736430823802948,
          0.766416072845459,
          0.7966879606246948,
          0.7573294639587402,
          0.7736752033233643,
          0.8150959610939026,
          0.7897995710372925,
          0.8107829093933105,
          0.7884772419929504,
          0.8113688230514526,
          0.7724447250366211,
          0.7585005164146423,
          1.132658839225769,
          0.8299268484115601,
          0.8158423900604248,
          0.8145514726638794,
          0.7660555243492126,
          0.773888885974884,
          0.9175269603729248,
          0.7898594737052917,
          1.028432846069336,
          0.7979089617729187,
          0.7964541912078857,
          0.8093326687812805,
          0.7615227699279785,
          0.7319726347923279,
          0.7737586498260498,
          0.7734516263008118,
          0.771769106388092,
          0.8099315762519836,
          0.7967610955238342,
          0.7430819272994995,
          0.7866951823234558,
          0.7796446084976196,
          0.802790641784668,
          0.8110823035240173,
          0.8339787721633911,
          0.8134058713912964,
          0.777402400970459,
          0.7676161527633667,
          0.8167182207107544,
          0.7901290059089661,
          0.7915242910385132,
          0.7747968435287476,
          0.7877693176269531,
          0.7875691652297974,
          0.7886818647384644,
          0.7808195948600769,
          0.7855362296104431,
          0.7598023414611816,
          0.7458643317222595,
          0.7482309937477112,
          0.7625210285186768,
          0.7689695358276367,
          0.8227846026420593,
          0.822382926940918,
          0.7777608633041382,
          0.7670804262161255,
          0.8698940873146057,
          0.7724233269691467,
          0.768608033657074,
          0.7648763656616211,
          0.8110140562057495,
          0.8833824992179871,
          0.7406836152076721,
          0.7398073077201843,
          0.7719759941101074,
          0.7719137072563171,
          0.7988974452018738,
          0.8057307004928589,
          0.7601587772369385,
          0.7772775888442993,
          0.7524232864379883,
          0.7712167501449585,
          0.7558774352073669,
          0.8283410668373108,
          0.8849858641624451,
          0.7677800059318542,
          1.2072526216506958,
          0.8981682658195496,
          0.8360183238983154,
          0.7346897721290588,
          0.7633445858955383,
          0.7881134748458862,
          0.7629446387290955,
          0.7678607106208801,
          0.7624236345291138,
          0.7950980067253113,
          0.724601149559021,
          0.7878245115280151,
          0.7892889380455017,
          0.7793189287185669,
          0.7838940620422363,
          0.7819988131523132,
          0.9923872351646423,
          0.8329308032989502,
          0.7974918484687805,
          0.7875638008117676,
          0.776517391204834,
          0.7465253472328186,
          0.8280165791511536,
          0.7668123245239258,
          0.9346276521682739,
          0.8385269641876221,
          0.8637512922286987,
          0.8068261742591858,
          0.8100954294204712,
          0.8287822604179382,
          0.8443454504013062,
          0.7977472543716431,
          0.8121322989463806,
          0.77110755443573,
          0.8496795296669006,
          0.8530870676040649,
          0.7859252095222473,
          0.8148183226585388,
          0.8861864805221558,
          0.7908290028572083,
          0.7963640093803406,
          0.7498757243156433,
          0.7547037601470947,
          0.8210741281509399,
          0.7698528170585632,
          0.8012976050376892,
          0.7405286431312561,
          0.7436433434486389,
          0.921514093875885,
          0.7370230555534363,
          0.8304139375686646,
          0.767852246761322,
          0.7709863185882568,
          0.7872290015220642,
          0.8540698885917664,
          0.7830495834350586,
          0.7826954126358032,
          0.812211275100708,
          0.7643944025039673,
          0.7879936695098877,
          0.8096879124641418,
          0.7747688889503479,
          0.7674944996833801,
          0.787760317325592,
          0.7800045013427734,
          0.7402886748313904,
          0.8020368218421936,
          0.7774841785430908,
          0.7844506502151489,
          0.7857549786567688,
          0.758493959903717,
          0.7387855052947998,
          0.7907321453094482,
          0.8023225665092468,
          0.7829201817512512,
          0.7622122168540955,
          0.7889032363891602,
          0.7914969325065613,
          0.8117250800132751,
          0.8894021511077881,
          0.7873932719230652,
          0.8696033954620361
         ],
         "yaxis": "y"
        }
       ],
       "layout": {
        "legend": {
         "title": {
          "text": "Curvas de Pérdida"
         },
         "tracegroupgap": 0
        },
        "template": {
         "data": {
          "bar": [
           {
            "error_x": {
             "color": "#2a3f5f"
            },
            "error_y": {
             "color": "#2a3f5f"
            },
            "marker": {
             "line": {
              "color": "white",
              "width": 0.5
             },
             "pattern": {
              "fillmode": "overlay",
              "size": 10,
              "solidity": 0.2
             }
            },
            "type": "bar"
           }
          ],
          "barpolar": [
           {
            "marker": {
             "line": {
              "color": "white",
              "width": 0.5
             },
             "pattern": {
              "fillmode": "overlay",
              "size": 10,
              "solidity": 0.2
             }
            },
            "type": "barpolar"
           }
          ],
          "carpet": [
           {
            "aaxis": {
             "endlinecolor": "#2a3f5f",
             "gridcolor": "#C8D4E3",
             "linecolor": "#C8D4E3",
             "minorgridcolor": "#C8D4E3",
             "startlinecolor": "#2a3f5f"
            },
            "baxis": {
             "endlinecolor": "#2a3f5f",
             "gridcolor": "#C8D4E3",
             "linecolor": "#C8D4E3",
             "minorgridcolor": "#C8D4E3",
             "startlinecolor": "#2a3f5f"
            },
            "type": "carpet"
           }
          ],
          "choropleth": [
           {
            "colorbar": {
             "outlinewidth": 0,
             "ticks": ""
            },
            "type": "choropleth"
           }
          ],
          "contour": [
           {
            "colorbar": {
             "outlinewidth": 0,
             "ticks": ""
            },
            "colorscale": [
             [
              0,
              "#0d0887"
             ],
             [
              0.1111111111111111,
              "#46039f"
             ],
             [
              0.2222222222222222,
              "#7201a8"
             ],
             [
              0.3333333333333333,
              "#9c179e"
             ],
             [
              0.4444444444444444,
              "#bd3786"
             ],
             [
              0.5555555555555556,
              "#d8576b"
             ],
             [
              0.6666666666666666,
              "#ed7953"
             ],
             [
              0.7777777777777778,
              "#fb9f3a"
             ],
             [
              0.8888888888888888,
              "#fdca26"
             ],
             [
              1,
              "#f0f921"
             ]
            ],
            "type": "contour"
           }
          ],
          "contourcarpet": [
           {
            "colorbar": {
             "outlinewidth": 0,
             "ticks": ""
            },
            "type": "contourcarpet"
           }
          ],
          "heatmap": [
           {
            "colorbar": {
             "outlinewidth": 0,
             "ticks": ""
            },
            "colorscale": [
             [
              0,
              "#0d0887"
             ],
             [
              0.1111111111111111,
              "#46039f"
             ],
             [
              0.2222222222222222,
              "#7201a8"
             ],
             [
              0.3333333333333333,
              "#9c179e"
             ],
             [
              0.4444444444444444,
              "#bd3786"
             ],
             [
              0.5555555555555556,
              "#d8576b"
             ],
             [
              0.6666666666666666,
              "#ed7953"
             ],
             [
              0.7777777777777778,
              "#fb9f3a"
             ],
             [
              0.8888888888888888,
              "#fdca26"
             ],
             [
              1,
              "#f0f921"
             ]
            ],
            "type": "heatmap"
           }
          ],
          "heatmapgl": [
           {
            "colorbar": {
             "outlinewidth": 0,
             "ticks": ""
            },
            "colorscale": [
             [
              0,
              "#0d0887"
             ],
             [
              0.1111111111111111,
              "#46039f"
             ],
             [
              0.2222222222222222,
              "#7201a8"
             ],
             [
              0.3333333333333333,
              "#9c179e"
             ],
             [
              0.4444444444444444,
              "#bd3786"
             ],
             [
              0.5555555555555556,
              "#d8576b"
             ],
             [
              0.6666666666666666,
              "#ed7953"
             ],
             [
              0.7777777777777778,
              "#fb9f3a"
             ],
             [
              0.8888888888888888,
              "#fdca26"
             ],
             [
              1,
              "#f0f921"
             ]
            ],
            "type": "heatmapgl"
           }
          ],
          "histogram": [
           {
            "marker": {
             "pattern": {
              "fillmode": "overlay",
              "size": 10,
              "solidity": 0.2
             }
            },
            "type": "histogram"
           }
          ],
          "histogram2d": [
           {
            "colorbar": {
             "outlinewidth": 0,
             "ticks": ""
            },
            "colorscale": [
             [
              0,
              "#0d0887"
             ],
             [
              0.1111111111111111,
              "#46039f"
             ],
             [
              0.2222222222222222,
              "#7201a8"
             ],
             [
              0.3333333333333333,
              "#9c179e"
             ],
             [
              0.4444444444444444,
              "#bd3786"
             ],
             [
              0.5555555555555556,
              "#d8576b"
             ],
             [
              0.6666666666666666,
              "#ed7953"
             ],
             [
              0.7777777777777778,
              "#fb9f3a"
             ],
             [
              0.8888888888888888,
              "#fdca26"
             ],
             [
              1,
              "#f0f921"
             ]
            ],
            "type": "histogram2d"
           }
          ],
          "histogram2dcontour": [
           {
            "colorbar": {
             "outlinewidth": 0,
             "ticks": ""
            },
            "colorscale": [
             [
              0,
              "#0d0887"
             ],
             [
              0.1111111111111111,
              "#46039f"
             ],
             [
              0.2222222222222222,
              "#7201a8"
             ],
             [
              0.3333333333333333,
              "#9c179e"
             ],
             [
              0.4444444444444444,
              "#bd3786"
             ],
             [
              0.5555555555555556,
              "#d8576b"
             ],
             [
              0.6666666666666666,
              "#ed7953"
             ],
             [
              0.7777777777777778,
              "#fb9f3a"
             ],
             [
              0.8888888888888888,
              "#fdca26"
             ],
             [
              1,
              "#f0f921"
             ]
            ],
            "type": "histogram2dcontour"
           }
          ],
          "mesh3d": [
           {
            "colorbar": {
             "outlinewidth": 0,
             "ticks": ""
            },
            "type": "mesh3d"
           }
          ],
          "parcoords": [
           {
            "line": {
             "colorbar": {
              "outlinewidth": 0,
              "ticks": ""
             }
            },
            "type": "parcoords"
           }
          ],
          "pie": [
           {
            "automargin": true,
            "type": "pie"
           }
          ],
          "scatter": [
           {
            "fillpattern": {
             "fillmode": "overlay",
             "size": 10,
             "solidity": 0.2
            },
            "type": "scatter"
           }
          ],
          "scatter3d": [
           {
            "line": {
             "colorbar": {
              "outlinewidth": 0,
              "ticks": ""
             }
            },
            "marker": {
             "colorbar": {
              "outlinewidth": 0,
              "ticks": ""
             }
            },
            "type": "scatter3d"
           }
          ],
          "scattercarpet": [
           {
            "marker": {
             "colorbar": {
              "outlinewidth": 0,
              "ticks": ""
             }
            },
            "type": "scattercarpet"
           }
          ],
          "scattergeo": [
           {
            "marker": {
             "colorbar": {
              "outlinewidth": 0,
              "ticks": ""
             }
            },
            "type": "scattergeo"
           }
          ],
          "scattergl": [
           {
            "marker": {
             "colorbar": {
              "outlinewidth": 0,
              "ticks": ""
             }
            },
            "type": "scattergl"
           }
          ],
          "scattermapbox": [
           {
            "marker": {
             "colorbar": {
              "outlinewidth": 0,
              "ticks": ""
             }
            },
            "type": "scattermapbox"
           }
          ],
          "scatterpolar": [
           {
            "marker": {
             "colorbar": {
              "outlinewidth": 0,
              "ticks": ""
             }
            },
            "type": "scatterpolar"
           }
          ],
          "scatterpolargl": [
           {
            "marker": {
             "colorbar": {
              "outlinewidth": 0,
              "ticks": ""
             }
            },
            "type": "scatterpolargl"
           }
          ],
          "scatterternary": [
           {
            "marker": {
             "colorbar": {
              "outlinewidth": 0,
              "ticks": ""
             }
            },
            "type": "scatterternary"
           }
          ],
          "surface": [
           {
            "colorbar": {
             "outlinewidth": 0,
             "ticks": ""
            },
            "colorscale": [
             [
              0,
              "#0d0887"
             ],
             [
              0.1111111111111111,
              "#46039f"
             ],
             [
              0.2222222222222222,
              "#7201a8"
             ],
             [
              0.3333333333333333,
              "#9c179e"
             ],
             [
              0.4444444444444444,
              "#bd3786"
             ],
             [
              0.5555555555555556,
              "#d8576b"
             ],
             [
              0.6666666666666666,
              "#ed7953"
             ],
             [
              0.7777777777777778,
              "#fb9f3a"
             ],
             [
              0.8888888888888888,
              "#fdca26"
             ],
             [
              1,
              "#f0f921"
             ]
            ],
            "type": "surface"
           }
          ],
          "table": [
           {
            "cells": {
             "fill": {
              "color": "#EBF0F8"
             },
             "line": {
              "color": "white"
             }
            },
            "header": {
             "fill": {
              "color": "#C8D4E3"
             },
             "line": {
              "color": "white"
             }
            },
            "type": "table"
           }
          ]
         },
         "layout": {
          "annotationdefaults": {
           "arrowcolor": "#2a3f5f",
           "arrowhead": 0,
           "arrowwidth": 1
          },
          "autotypenumbers": "strict",
          "coloraxis": {
           "colorbar": {
            "outlinewidth": 0,
            "ticks": ""
           }
          },
          "colorscale": {
           "diverging": [
            [
             0,
             "#8e0152"
            ],
            [
             0.1,
             "#c51b7d"
            ],
            [
             0.2,
             "#de77ae"
            ],
            [
             0.3,
             "#f1b6da"
            ],
            [
             0.4,
             "#fde0ef"
            ],
            [
             0.5,
             "#f7f7f7"
            ],
            [
             0.6,
             "#e6f5d0"
            ],
            [
             0.7,
             "#b8e186"
            ],
            [
             0.8,
             "#7fbc41"
            ],
            [
             0.9,
             "#4d9221"
            ],
            [
             1,
             "#276419"
            ]
           ],
           "sequential": [
            [
             0,
             "#0d0887"
            ],
            [
             0.1111111111111111,
             "#46039f"
            ],
            [
             0.2222222222222222,
             "#7201a8"
            ],
            [
             0.3333333333333333,
             "#9c179e"
            ],
            [
             0.4444444444444444,
             "#bd3786"
            ],
            [
             0.5555555555555556,
             "#d8576b"
            ],
            [
             0.6666666666666666,
             "#ed7953"
            ],
            [
             0.7777777777777778,
             "#fb9f3a"
            ],
            [
             0.8888888888888888,
             "#fdca26"
            ],
            [
             1,
             "#f0f921"
            ]
           ],
           "sequentialminus": [
            [
             0,
             "#0d0887"
            ],
            [
             0.1111111111111111,
             "#46039f"
            ],
            [
             0.2222222222222222,
             "#7201a8"
            ],
            [
             0.3333333333333333,
             "#9c179e"
            ],
            [
             0.4444444444444444,
             "#bd3786"
            ],
            [
             0.5555555555555556,
             "#d8576b"
            ],
            [
             0.6666666666666666,
             "#ed7953"
            ],
            [
             0.7777777777777778,
             "#fb9f3a"
            ],
            [
             0.8888888888888888,
             "#fdca26"
            ],
            [
             1,
             "#f0f921"
            ]
           ]
          },
          "colorway": [
           "#636efa",
           "#EF553B",
           "#00cc96",
           "#ab63fa",
           "#FFA15A",
           "#19d3f3",
           "#FF6692",
           "#B6E880",
           "#FF97FF",
           "#FECB52"
          ],
          "font": {
           "color": "#2a3f5f"
          },
          "geo": {
           "bgcolor": "white",
           "lakecolor": "white",
           "landcolor": "white",
           "showlakes": true,
           "showland": true,
           "subunitcolor": "#C8D4E3"
          },
          "hoverlabel": {
           "align": "left"
          },
          "hovermode": "closest",
          "mapbox": {
           "style": "light"
          },
          "paper_bgcolor": "white",
          "plot_bgcolor": "white",
          "polar": {
           "angularaxis": {
            "gridcolor": "#EBF0F8",
            "linecolor": "#EBF0F8",
            "ticks": ""
           },
           "bgcolor": "white",
           "radialaxis": {
            "gridcolor": "#EBF0F8",
            "linecolor": "#EBF0F8",
            "ticks": ""
           }
          },
          "scene": {
           "xaxis": {
            "backgroundcolor": "white",
            "gridcolor": "#DFE8F3",
            "gridwidth": 2,
            "linecolor": "#EBF0F8",
            "showbackground": true,
            "ticks": "",
            "zerolinecolor": "#EBF0F8"
           },
           "yaxis": {
            "backgroundcolor": "white",
            "gridcolor": "#DFE8F3",
            "gridwidth": 2,
            "linecolor": "#EBF0F8",
            "showbackground": true,
            "ticks": "",
            "zerolinecolor": "#EBF0F8"
           },
           "zaxis": {
            "backgroundcolor": "white",
            "gridcolor": "#DFE8F3",
            "gridwidth": 2,
            "linecolor": "#EBF0F8",
            "showbackground": true,
            "ticks": "",
            "zerolinecolor": "#EBF0F8"
           }
          },
          "shapedefaults": {
           "line": {
            "color": "#2a3f5f"
           }
          },
          "ternary": {
           "aaxis": {
            "gridcolor": "#DFE8F3",
            "linecolor": "#A2B1C6",
            "ticks": ""
           },
           "baxis": {
            "gridcolor": "#DFE8F3",
            "linecolor": "#A2B1C6",
            "ticks": ""
           },
           "bgcolor": "white",
           "caxis": {
            "gridcolor": "#DFE8F3",
            "linecolor": "#A2B1C6",
            "ticks": ""
           }
          },
          "title": {
           "x": 0.05
          },
          "xaxis": {
           "automargin": true,
           "gridcolor": "#EBF0F8",
           "linecolor": "#EBF0F8",
           "ticks": "",
           "title": {
            "standoff": 15
           },
           "zerolinecolor": "#EBF0F8",
           "zerolinewidth": 2
          },
          "yaxis": {
           "automargin": true,
           "gridcolor": "#EBF0F8",
           "linecolor": "#EBF0F8",
           "ticks": "",
           "title": {
            "standoff": 15
           },
           "zerolinecolor": "#EBF0F8",
           "zerolinewidth": 2
          }
         }
        },
        "title": {
         "text": "Gráficas de Pérdida de Entrenamiento y Evaluación"
        },
        "xaxis": {
         "anchor": "y",
         "domain": [
          0,
          1
         ],
         "title": {
          "text": "Epoch"
         }
        },
        "yaxis": {
         "anchor": "x",
         "domain": [
          0,
          1
         ],
         "title": {
          "text": "Binary Cross Entropy"
         }
        }
       }
      }
     },
     "metadata": {},
     "output_type": "display_data"
    },
    {
     "data": {
      "application/vnd.plotly.v1+json": {
       "config": {
        "plotlyServerURL": "https://plot.ly"
       },
       "data": [
        {
         "hovertemplate": "Curvas de Exactitud=Exactitud de Entrenamiento<br>Epoch=%{x}<br>Exactitud=%{y}<extra></extra>",
         "legendgroup": "Exactitud de Entrenamiento",
         "line": {
          "color": "#00cc96",
          "dash": "solid"
         },
         "marker": {
          "symbol": "circle"
         },
         "mode": "lines",
         "name": "Exactitud de Entrenamiento",
         "orientation": "v",
         "showlegend": true,
         "type": "scatter",
         "x": [
          0,
          1,
          2,
          3,
          4,
          5,
          6,
          7,
          8,
          9,
          10,
          11,
          12,
          13,
          14,
          15,
          16,
          17,
          18,
          19,
          20,
          21,
          22,
          23,
          24,
          25,
          26,
          27,
          28,
          29,
          30,
          31,
          32,
          33,
          34,
          35,
          36,
          37,
          38,
          39,
          40,
          41,
          42,
          43,
          44,
          45,
          46,
          47,
          48,
          49,
          50,
          51,
          52,
          53,
          54,
          55,
          56,
          57,
          58,
          59,
          60,
          61,
          62,
          63,
          64,
          65,
          66,
          67,
          68,
          69,
          70,
          71,
          72,
          73,
          74,
          75,
          76,
          77,
          78,
          79,
          80,
          81,
          82,
          83,
          84,
          85,
          86,
          87,
          88,
          89,
          90,
          91,
          92,
          93,
          94,
          95,
          96,
          97,
          98,
          99,
          100,
          101,
          102,
          103,
          104,
          105,
          106,
          107,
          108,
          109,
          110,
          111,
          112,
          113,
          114,
          115,
          116,
          117,
          118,
          119,
          120,
          121,
          122,
          123,
          124,
          125,
          126,
          127,
          128,
          129,
          130,
          131,
          132,
          133,
          134,
          135,
          136,
          137,
          138,
          139,
          140,
          141,
          142,
          143,
          144,
          145,
          146,
          147,
          148,
          149,
          150,
          151,
          152,
          153,
          154,
          155,
          156,
          157,
          158,
          159,
          160,
          161,
          162,
          163,
          164,
          165,
          166,
          167,
          168,
          169,
          170,
          171,
          172,
          173,
          174,
          175,
          176,
          177,
          178,
          179,
          180,
          181,
          182,
          183,
          184,
          185,
          186,
          187,
          188,
          189,
          190,
          191,
          192,
          193,
          194,
          195,
          196,
          197,
          198,
          199,
          200,
          201,
          202,
          203,
          204,
          205,
          206,
          207,
          208,
          209,
          210,
          211,
          212,
          213,
          214,
          215,
          216,
          217,
          218,
          219,
          220,
          221,
          222,
          223,
          224,
          225,
          226,
          227,
          228,
          229,
          230,
          231,
          232,
          233,
          234,
          235,
          236,
          237,
          238,
          239,
          240,
          241,
          242,
          243,
          244,
          245,
          246,
          247,
          248,
          249,
          250,
          251,
          252,
          253,
          254,
          255,
          256,
          257,
          258,
          259,
          260,
          261,
          262,
          263,
          264,
          265,
          266,
          267,
          268,
          269,
          270,
          271,
          272,
          273,
          274,
          275,
          276,
          277,
          278,
          279,
          280,
          281,
          282,
          283,
          284,
          285,
          286,
          287,
          288,
          289,
          290,
          291,
          292,
          293,
          294,
          295,
          296,
          297,
          298,
          299,
          300,
          301,
          302,
          303,
          304,
          305,
          306,
          307,
          308,
          309,
          310,
          311,
          312,
          313,
          314,
          315,
          316,
          317,
          318,
          319,
          320,
          321,
          322,
          323,
          324,
          325,
          326,
          327,
          328,
          329,
          330,
          331,
          332,
          333,
          334,
          335,
          336,
          337,
          338,
          339,
          340,
          341,
          342,
          343,
          344,
          345,
          346,
          347,
          348,
          349
         ],
         "xaxis": "x",
         "y": [
          0.26829269528388977,
          0.2926829159259796,
          0.28455284237861633,
          0.2926829159259796,
          0.2926829159259796,
          0.3008130192756653,
          0.28455284237861633,
          0.23577235639095306,
          0.27642276883125305,
          0.3008130192756653,
          0.27642276883125305,
          0.28455284237861633,
          0.2926829159259796,
          0.2926829159259796,
          0.28455284237861633,
          0.2926829159259796,
          0.27642276883125305,
          0.3252032399177551,
          0.3658536672592163,
          0.3333333432674408,
          0.3252032399177551,
          0.3414634168148041,
          0.4146341383457184,
          0.3739837408065796,
          0.3983739912509918,
          0.4146341383457184,
          0.39024388790130615,
          0.3983739912509918,
          0.4146341383457184,
          0.43089431524276733,
          0.43089431524276733,
          0.4146341383457184,
          0.4390243887901306,
          0.4471544623374939,
          0.4146341383457184,
          0.43089431524276733,
          0.43089431524276733,
          0.3983739912509918,
          0.4471544623374939,
          0.4471544623374939,
          0.4065040647983551,
          0.4146341383457184,
          0.46341463923454285,
          0.4796747863292694,
          0.46341463923454285,
          0.4796747863292694,
          0.46341463923454285,
          0.47154471278190613,
          0.49593496322631836,
          0.5040650367736816,
          0.46341463923454285,
          0.47154471278190613,
          0.46341463923454285,
          0.4796747863292694,
          0.4796747863292694,
          0.4796747863292694,
          0.5365853905677795,
          0.43089431524276733,
          0.4878048896789551,
          0.577235758304596,
          0.577235758304596,
          0.49593496322631836,
          0.49593496322631836,
          0.4878048896789551,
          0.4878048896789551,
          0.5121951103210449,
          0.5040650367736816,
          0.5040650367736816,
          0.49593496322631836,
          0.5040650367736816,
          0.5447154641151428,
          0.5284552574157715,
          0.5284552574157715,
          0.5203251838684082,
          0.577235758304596,
          0.5365853905677795,
          0.5853658318519592,
          0.5609756112098694,
          0.5934959053993225,
          0.5203251838684082,
          0.5691056847572327,
          0.577235758304596,
          0.6016260385513306,
          0.5040650367736816,
          0.5853658318519592,
          0.5447154641151428,
          0.5934959053993225,
          0.4471544623374939,
          0.5365853905677795,
          0.5691056847572327,
          0.6016260385513306,
          0.4390243887901306,
          0.5040650367736816,
          0.5528455376625061,
          0.5609756112098694,
          0.577235758304596,
          0.5934959053993225,
          0.5528455376625061,
          0.6178861856460571,
          0.6097561120986938,
          0.6016260385513306,
          0.577235758304596,
          0.6097561120986938,
          0.6260162591934204,
          0.5609756112098694,
          0.5691056847572327,
          0.5853658318519592,
          0.6016260385513306,
          0.5528455376625061,
          0.5691056847572327,
          0.5528455376625061,
          0.577235758304596,
          0.5609756112098694,
          0.5609756112098694,
          0.577235758304596,
          0.6097561120986938,
          0.6260162591934204,
          0.6504064798355103,
          0.6178861856460571,
          0.5528455376625061,
          0.5528455376625061,
          0.642276406288147,
          0.6260162591934204,
          0.642276406288147,
          0.5609756112098694,
          0.6341463327407837,
          0.6341463327407837,
          0.6341463327407837,
          0.6991869807243347,
          0.6016260385513306,
          0.5853658318519592,
          0.5934959053993225,
          0.6585366129875183,
          0.5934959053993225,
          0.6016260385513306,
          0.642276406288147,
          0.6666666865348816,
          0.6097561120986938,
          0.5853658318519592,
          0.6504064798355103,
          0.6991869807243347,
          0.6097561120986938,
          0.6991869807243347,
          0.642276406288147,
          0.6341463327407837,
          0.642276406288147,
          0.6178861856460571,
          0.6585366129875183,
          0.642276406288147,
          0.6666666865348816,
          0.6666666865348816,
          0.642276406288147,
          0.6747967600822449,
          0.707317054271698,
          0.6910569071769714,
          0.6910569071769714,
          0.6829268336296082,
          0.6829268336296082,
          0.707317054271698,
          0.6016260385513306,
          0.6829268336296082,
          0.6666666865348816,
          0.6666666865348816,
          0.707317054271698,
          0.6829268336296082,
          0.6747967600822449,
          0.6910569071769714,
          0.6585366129875183,
          0.707317054271698,
          0.6504064798355103,
          0.6016260385513306,
          0.577235758304596,
          0.6260162591934204,
          0.6178861856460571,
          0.642276406288147,
          0.707317054271698,
          0.5934959053993225,
          0.5853658318519592,
          0.6585366129875183,
          0.577235758304596,
          0.6097561120986938,
          0.6910569071769714,
          0.5365853905677795,
          0.642276406288147,
          0.642276406288147,
          0.6178861856460571,
          0.6666666865348816,
          0.6585366129875183,
          0.6504064798355103,
          0.6747967600822449,
          0.6991869807243347,
          0.6747967600822449,
          0.6910569071769714,
          0.707317054271698,
          0.6341463327407837,
          0.6991869807243347,
          0.642276406288147,
          0.6910569071769714,
          0.7154471278190613,
          0.642276406288147,
          0.6504064798355103,
          0.6829268336296082,
          0.642276406288147,
          0.6097561120986938,
          0.6747967600822449,
          0.6585366129875183,
          0.6910569071769714,
          0.707317054271698,
          0.6260162591934204,
          0.6829268336296082,
          0.6097561120986938,
          0.5934959053993225,
          0.6829268336296082,
          0.642276406288147,
          0.7317073345184326,
          0.6341463327407837,
          0.6504064798355103,
          0.707317054271698,
          0.6016260385513306,
          0.642276406288147,
          0.7154471278190613,
          0.6504064798355103,
          0.6829268336296082,
          0.7235772609710693,
          0.7154471278190613,
          0.6747967600822449,
          0.6666666865348816,
          0.6829268336296082,
          0.7235772609710693,
          0.6991869807243347,
          0.6991869807243347,
          0.6910569071769714,
          0.6991869807243347,
          0.7479674816131592,
          0.7235772609710693,
          0.6504064798355103,
          0.6747967600822449,
          0.7317073345184326,
          0.7398374080657959,
          0.6829268336296082,
          0.7154471278190613,
          0.7235772609710693,
          0.7479674816131592,
          0.7154471278190613,
          0.707317054271698,
          0.6991869807243347,
          0.6910569071769714,
          0.7154471278190613,
          0.7154471278190613,
          0.6178861856460571,
          0.642276406288147,
          0.707317054271698,
          0.6991869807243347,
          0.7154471278190613,
          0.6666666865348816,
          0.6910569071769714,
          0.707317054271698,
          0.6910569071769714,
          0.6585366129875183,
          0.6747967600822449,
          0.7398374080657959,
          0.7235772609710693,
          0.6341463327407837,
          0.707317054271698,
          0.6829268336296082,
          0.6991869807243347,
          0.7479674816131592,
          0.6585366129875183,
          0.6747967600822449,
          0.6178861856460571,
          0.6016260385513306,
          0.6504064798355103,
          0.7642276287078857,
          0.7235772609710693,
          0.6829268336296082,
          0.6991869807243347,
          0.6991869807243347,
          0.6585366129875183,
          0.707317054271698,
          0.7154471278190613,
          0.707317054271698,
          0.7154471278190613,
          0.707317054271698,
          0.6829268336296082,
          0.6585366129875183,
          0.6666666865348816,
          0.6666666865348816,
          0.6829268336296082,
          0.6747967600822449,
          0.7479674816131592,
          0.7235772609710693,
          0.6910569071769714,
          0.707317054271698,
          0.707317054271698,
          0.6747967600822449,
          0.6991869807243347,
          0.7235772609710693,
          0.7154471278190613,
          0.7235772609710693,
          0.7317073345184326,
          0.7154471278190613,
          0.7235772609710693,
          0.707317054271698,
          0.7398374080657959,
          0.7317073345184326,
          0.7317073345184326,
          0.7235772609710693,
          0.6829268336296082,
          0.6991869807243347,
          0.7398374080657959,
          0.7317073345184326,
          0.6829268336296082,
          0.6991869807243347,
          0.7235772609710693,
          0.7804877758026123,
          0.7235772609710693,
          0.6829268336296082,
          0.6666666865348816,
          0.642276406288147,
          0.6910569071769714,
          0.6829268336296082,
          0.6829268336296082,
          0.7317073345184326,
          0.7317073345184326,
          0.7235772609710693,
          0.7317073345184326,
          0.6991869807243347,
          0.7398374080657959,
          0.7154471278190613,
          0.7235772609710693,
          0.6991869807243347,
          0.7154471278190613,
          0.7479674816131592,
          0.7154471278190613,
          0.7479674816131592,
          0.7235772609710693,
          0.7317073345184326,
          0.6910569071769714,
          0.7398374080657959,
          0.7154471278190613,
          0.7317073345184326,
          0.7235772609710693,
          0.6991869807243347,
          0.7154471278190613,
          0.7479674816131592,
          0.6910569071769714,
          0.7235772609710693,
          0.7398374080657959,
          0.7398374080657959,
          0.6991869807243347
         ],
         "yaxis": "y"
        },
        {
         "hovertemplate": "Curvas de Exactitud=Exactitud de Validación<br>Epoch=%{x}<br>Exactitud=%{y}<extra></extra>",
         "legendgroup": "Exactitud de Validación",
         "line": {
          "color": "#ab63fa",
          "dash": "solid"
         },
         "marker": {
          "symbol": "circle"
         },
         "mode": "lines",
         "name": "Exactitud de Validación",
         "orientation": "v",
         "showlegend": true,
         "type": "scatter",
         "x": [
          0,
          1,
          2,
          3,
          4,
          5,
          6,
          7,
          8,
          9,
          10,
          11,
          12,
          13,
          14,
          15,
          16,
          17,
          18,
          19,
          20,
          21,
          22,
          23,
          24,
          25,
          26,
          27,
          28,
          29,
          30,
          31,
          32,
          33,
          34,
          35,
          36,
          37,
          38,
          39,
          40,
          41,
          42,
          43,
          44,
          45,
          46,
          47,
          48,
          49,
          50,
          51,
          52,
          53,
          54,
          55,
          56,
          57,
          58,
          59,
          60,
          61,
          62,
          63,
          64,
          65,
          66,
          67,
          68,
          69,
          70,
          71,
          72,
          73,
          74,
          75,
          76,
          77,
          78,
          79,
          80,
          81,
          82,
          83,
          84,
          85,
          86,
          87,
          88,
          89,
          90,
          91,
          92,
          93,
          94,
          95,
          96,
          97,
          98,
          99,
          100,
          101,
          102,
          103,
          104,
          105,
          106,
          107,
          108,
          109,
          110,
          111,
          112,
          113,
          114,
          115,
          116,
          117,
          118,
          119,
          120,
          121,
          122,
          123,
          124,
          125,
          126,
          127,
          128,
          129,
          130,
          131,
          132,
          133,
          134,
          135,
          136,
          137,
          138,
          139,
          140,
          141,
          142,
          143,
          144,
          145,
          146,
          147,
          148,
          149,
          150,
          151,
          152,
          153,
          154,
          155,
          156,
          157,
          158,
          159,
          160,
          161,
          162,
          163,
          164,
          165,
          166,
          167,
          168,
          169,
          170,
          171,
          172,
          173,
          174,
          175,
          176,
          177,
          178,
          179,
          180,
          181,
          182,
          183,
          184,
          185,
          186,
          187,
          188,
          189,
          190,
          191,
          192,
          193,
          194,
          195,
          196,
          197,
          198,
          199,
          200,
          201,
          202,
          203,
          204,
          205,
          206,
          207,
          208,
          209,
          210,
          211,
          212,
          213,
          214,
          215,
          216,
          217,
          218,
          219,
          220,
          221,
          222,
          223,
          224,
          225,
          226,
          227,
          228,
          229,
          230,
          231,
          232,
          233,
          234,
          235,
          236,
          237,
          238,
          239,
          240,
          241,
          242,
          243,
          244,
          245,
          246,
          247,
          248,
          249,
          250,
          251,
          252,
          253,
          254,
          255,
          256,
          257,
          258,
          259,
          260,
          261,
          262,
          263,
          264,
          265,
          266,
          267,
          268,
          269,
          270,
          271,
          272,
          273,
          274,
          275,
          276,
          277,
          278,
          279,
          280,
          281,
          282,
          283,
          284,
          285,
          286,
          287,
          288,
          289,
          290,
          291,
          292,
          293,
          294,
          295,
          296,
          297,
          298,
          299,
          300,
          301,
          302,
          303,
          304,
          305,
          306,
          307,
          308,
          309,
          310,
          311,
          312,
          313,
          314,
          315,
          316,
          317,
          318,
          319,
          320,
          321,
          322,
          323,
          324,
          325,
          326,
          327,
          328,
          329,
          330,
          331,
          332,
          333,
          334,
          335,
          336,
          337,
          338,
          339,
          340,
          341,
          342,
          343,
          344,
          345,
          346,
          347,
          348,
          349
         ],
         "xaxis": "x",
         "y": [
          0.19512194395065308,
          0.19512194395065308,
          0.19512194395065308,
          0.19512194395065308,
          0.19512194395065308,
          0.19512194395065308,
          0.3658536672592163,
          0.19512194395065308,
          0.19512194395065308,
          0.19512194395065308,
          0.19512194395065308,
          0.19512194395065308,
          0.19512194395065308,
          0.19512194395065308,
          0.19512194395065308,
          0.19512194395065308,
          0.19512194395065308,
          0.2926829159259796,
          0.2926829159259796,
          0.46341463923454285,
          0.2926829159259796,
          0.46341463923454285,
          0.2926829159259796,
          0.46341463923454285,
          0.2926829159259796,
          0.2926829159259796,
          0.2926829159259796,
          0.2926829159259796,
          0.2926829159259796,
          0.2926829159259796,
          0.31707316637039185,
          0.2926829159259796,
          0.2926829159259796,
          0.31707316637039185,
          0.31707316637039185,
          0.2926829159259796,
          0.39024388790130615,
          0.31707316637039185,
          0.31707316637039185,
          0.3658536672592163,
          0.3414634168148041,
          0.31707316637039185,
          0.39024388790130615,
          0.31707316637039185,
          0.31707316637039185,
          0.31707316637039185,
          0.3414634168148041,
          0.5121951103210449,
          0.39024388790130615,
          0.5609756112098694,
          0.5365853905677795,
          0.5121951103210449,
          0.5121951103210449,
          0.5853658318519592,
          0.31707316637039185,
          0.5365853905677795,
          0.46341463923454285,
          0.3658536672592163,
          0.5853658318519592,
          0.5365853905677795,
          0.5365853905677795,
          0.39024388790130615,
          0.3658536672592163,
          0.5365853905677795,
          0.4146341383457184,
          0.4146341383457184,
          0.5853658318519592,
          0.5365853905677795,
          0.6097561120986938,
          0.39024388790130615,
          0.6097561120986938,
          0.4390243887901306,
          0.5853658318519592,
          0.5365853905677795,
          0.4146341383457184,
          0.4146341383457184,
          0.5609756112098694,
          0.46341463923454285,
          0.5609756112098694,
          0.4390243887901306,
          0.6097561120986938,
          0.4390243887901306,
          0.5365853905677795,
          0.4146341383457184,
          0.6097561120986938,
          0.6097561120986938,
          0.5365853905677795,
          0.5121951103210449,
          0.4146341383457184,
          0.5365853905677795,
          0.5853658318519592,
          0.4146341383457184,
          0.4146341383457184,
          0.5365853905677795,
          0.6097561120986938,
          0.5121951103210449,
          0.46341463923454285,
          0.5365853905677795,
          0.6097561120986938,
          0.6097561120986938,
          0.6097561120986938,
          0.5853658318519592,
          0.5609756112098694,
          0.4146341383457184,
          0.4390243887901306,
          0.5121951103210449,
          0.4146341383457184,
          0.4390243887901306,
          0.46341463923454285,
          0.5853658318519592,
          0.5853658318519592,
          0.6097561120986938,
          0.5853658318519592,
          0.5853658318519592,
          0.6097561120986938,
          0.6097561120986938,
          0.5853658318519592,
          0.6097561120986938,
          0.5853658318519592,
          0.5609756112098694,
          0.46341463923454285,
          0.6097561120986938,
          0.6097561120986938,
          0.46341463923454285,
          0.5365853905677795,
          0.5121951103210449,
          0.6097561120986938,
          0.6341463327407837,
          0.6341463327407837,
          0.6097561120986938,
          0.6341463327407837,
          0.5609756112098694,
          0.6097561120986938,
          0.6341463327407837,
          0.6097561120986938,
          0.6341463327407837,
          0.5853658318519592,
          0.5853658318519592,
          0.6097561120986938,
          0.6341463327407837,
          0.6097561120986938,
          0.6097561120986938,
          0.6341463327407837,
          0.5853658318519592,
          0.6097561120986938,
          0.6341463327407837,
          0.6341463327407837,
          0.6341463327407837,
          0.6341463327407837,
          0.6341463327407837,
          0.6585366129875183,
          0.6341463327407837,
          0.6341463327407837,
          0.6585366129875183,
          0.6585366129875183,
          0.6097561120986938,
          0.6097561120986938,
          0.6341463327407837,
          0.6341463327407837,
          0.6341463327407837,
          0.6341463327407837,
          0.6341463327407837,
          0.6341463327407837,
          0.6097561120986938,
          0.6341463327407837,
          0.6097561120986938,
          0.6341463327407837,
          0.6829268336296082,
          0.707317054271698,
          0.6097561120986938,
          0.5609756112098694,
          0.6585366129875183,
          0.6341463327407837,
          0.6585366129875183,
          0.6585366129875183,
          0.6585366129875183,
          0.6097561120986938,
          0.6097561120986938,
          0.6341463327407837,
          0.4878048896789551,
          0.6341463327407837,
          0.5609756112098694,
          0.5609756112098694,
          0.46341463923454285,
          0.6097561120986938,
          0.5121951103210449,
          0.6097561120986938,
          0.5853658318519592,
          0.6097561120986938,
          0.6097561120986938,
          0.707317054271698,
          0.6585366129875183,
          0.6829268336296082,
          0.6585366129875183,
          0.6585366129875183,
          0.6341463327407837,
          0.6097561120986938,
          0.6341463327407837,
          0.6829268336296082,
          0.5853658318519592,
          0.6341463327407837,
          0.6341463327407837,
          0.46341463923454285,
          0.6585366129875183,
          0.6585366129875183,
          0.6097561120986938,
          0.6341463327407837,
          0.6341463327407837,
          0.5853658318519592,
          0.6341463327407837,
          0.5365853905677795,
          0.6097561120986938,
          0.6097561120986938,
          0.6097561120986938,
          0.6341463327407837,
          0.6829268336296082,
          0.6341463327407837,
          0.6341463327407837,
          0.6341463327407837,
          0.6097561120986938,
          0.6341463327407837,
          0.6585366129875183,
          0.6341463327407837,
          0.6097561120986938,
          0.6341463327407837,
          0.6341463327407837,
          0.6097561120986938,
          0.6341463327407837,
          0.6341463327407837,
          0.6341463327407837,
          0.6097561120986938,
          0.6341463327407837,
          0.6585366129875183,
          0.6341463327407837,
          0.6341463327407837,
          0.6341463327407837,
          0.6585366129875183,
          0.6341463327407837,
          0.6097561120986938,
          0.6585366129875183,
          0.6341463327407837,
          0.6585366129875183,
          0.6585366129875183,
          0.6341463327407837,
          0.6097561120986938,
          0.6585366129875183,
          0.6341463327407837,
          0.6341463327407837,
          0.5853658318519592,
          0.6585366129875183,
          0.6097561120986938,
          0.6341463327407837,
          0.6097561120986938,
          0.5609756112098694,
          0.6829268336296082,
          0.6341463327407837,
          0.6097561120986938,
          0.6341463327407837,
          0.6097561120986938,
          0.6097561120986938,
          0.6097561120986938,
          0.6097561120986938,
          0.6341463327407837,
          0.6585366129875183,
          0.6341463327407837,
          0.6097561120986938,
          0.5853658318519592,
          0.6585366129875183,
          0.4878048896789551,
          0.5609756112098694,
          0.5853658318519592,
          0.6097561120986938,
          0.6341463327407837,
          0.6341463327407837,
          0.6341463327407837,
          0.6097561120986938,
          0.6341463327407837,
          0.6097561120986938,
          0.6341463327407837,
          0.6585366129875183,
          0.6097561120986938,
          0.6341463327407837,
          0.6585366129875183,
          0.6097561120986938,
          0.6097561120986938,
          0.6097561120986938,
          0.6341463327407837,
          0.6585366129875183,
          0.6585366129875183,
          0.6341463327407837,
          0.6341463327407837,
          0.6097561120986938,
          0.5609756112098694,
          0.6341463327407837,
          0.5853658318519592,
          0.6341463327407837,
          0.6097561120986938,
          0.6097561120986938,
          0.6097561120986938,
          0.5853658318519592,
          0.5609756112098694,
          0.6097561120986938,
          0.6097561120986938,
          0.6097561120986938,
          0.6341463327407837,
          0.5853658318519592,
          0.6341463327407837,
          0.6341463327407837,
          0.6341463327407837,
          0.6341463327407837,
          0.6097561120986938,
          0.6341463327407837,
          0.6341463327407837,
          0.6097561120986938,
          0.6585366129875183,
          0.6341463327407837,
          0.6097561120986938,
          0.6341463327407837,
          0.6341463327407837,
          0.6341463327407837,
          0.6341463327407837,
          0.6097561120986938,
          0.6097561120986938,
          0.6341463327407837,
          0.6097561120986938,
          0.6097561120986938,
          0.6097561120986938,
          0.5853658318519592,
          0.6585366129875183,
          0.6829268336296082,
          0.6341463327407837,
          0.6097561120986938,
          0.6341463327407837,
          0.6585366129875183,
          0.6341463327407837,
          0.6097561120986938,
          0.6097561120986938,
          0.6585366129875183,
          0.6341463327407837,
          0.6341463327407837,
          0.6585366129875183,
          0.6585366129875183,
          0.6341463327407837,
          0.6097561120986938,
          0.6585366129875183,
          0.6097561120986938,
          0.5853658318519592,
          0.5853658318519592,
          0.6097561120986938,
          0.5853658318519592
         ],
         "yaxis": "y"
        }
       ],
       "layout": {
        "legend": {
         "title": {
          "text": "Curvas de Exactitud"
         },
         "tracegroupgap": 0
        },
        "template": {
         "data": {
          "bar": [
           {
            "error_x": {
             "color": "#2a3f5f"
            },
            "error_y": {
             "color": "#2a3f5f"
            },
            "marker": {
             "line": {
              "color": "white",
              "width": 0.5
             },
             "pattern": {
              "fillmode": "overlay",
              "size": 10,
              "solidity": 0.2
             }
            },
            "type": "bar"
           }
          ],
          "barpolar": [
           {
            "marker": {
             "line": {
              "color": "white",
              "width": 0.5
             },
             "pattern": {
              "fillmode": "overlay",
              "size": 10,
              "solidity": 0.2
             }
            },
            "type": "barpolar"
           }
          ],
          "carpet": [
           {
            "aaxis": {
             "endlinecolor": "#2a3f5f",
             "gridcolor": "#C8D4E3",
             "linecolor": "#C8D4E3",
             "minorgridcolor": "#C8D4E3",
             "startlinecolor": "#2a3f5f"
            },
            "baxis": {
             "endlinecolor": "#2a3f5f",
             "gridcolor": "#C8D4E3",
             "linecolor": "#C8D4E3",
             "minorgridcolor": "#C8D4E3",
             "startlinecolor": "#2a3f5f"
            },
            "type": "carpet"
           }
          ],
          "choropleth": [
           {
            "colorbar": {
             "outlinewidth": 0,
             "ticks": ""
            },
            "type": "choropleth"
           }
          ],
          "contour": [
           {
            "colorbar": {
             "outlinewidth": 0,
             "ticks": ""
            },
            "colorscale": [
             [
              0,
              "#0d0887"
             ],
             [
              0.1111111111111111,
              "#46039f"
             ],
             [
              0.2222222222222222,
              "#7201a8"
             ],
             [
              0.3333333333333333,
              "#9c179e"
             ],
             [
              0.4444444444444444,
              "#bd3786"
             ],
             [
              0.5555555555555556,
              "#d8576b"
             ],
             [
              0.6666666666666666,
              "#ed7953"
             ],
             [
              0.7777777777777778,
              "#fb9f3a"
             ],
             [
              0.8888888888888888,
              "#fdca26"
             ],
             [
              1,
              "#f0f921"
             ]
            ],
            "type": "contour"
           }
          ],
          "contourcarpet": [
           {
            "colorbar": {
             "outlinewidth": 0,
             "ticks": ""
            },
            "type": "contourcarpet"
           }
          ],
          "heatmap": [
           {
            "colorbar": {
             "outlinewidth": 0,
             "ticks": ""
            },
            "colorscale": [
             [
              0,
              "#0d0887"
             ],
             [
              0.1111111111111111,
              "#46039f"
             ],
             [
              0.2222222222222222,
              "#7201a8"
             ],
             [
              0.3333333333333333,
              "#9c179e"
             ],
             [
              0.4444444444444444,
              "#bd3786"
             ],
             [
              0.5555555555555556,
              "#d8576b"
             ],
             [
              0.6666666666666666,
              "#ed7953"
             ],
             [
              0.7777777777777778,
              "#fb9f3a"
             ],
             [
              0.8888888888888888,
              "#fdca26"
             ],
             [
              1,
              "#f0f921"
             ]
            ],
            "type": "heatmap"
           }
          ],
          "heatmapgl": [
           {
            "colorbar": {
             "outlinewidth": 0,
             "ticks": ""
            },
            "colorscale": [
             [
              0,
              "#0d0887"
             ],
             [
              0.1111111111111111,
              "#46039f"
             ],
             [
              0.2222222222222222,
              "#7201a8"
             ],
             [
              0.3333333333333333,
              "#9c179e"
             ],
             [
              0.4444444444444444,
              "#bd3786"
             ],
             [
              0.5555555555555556,
              "#d8576b"
             ],
             [
              0.6666666666666666,
              "#ed7953"
             ],
             [
              0.7777777777777778,
              "#fb9f3a"
             ],
             [
              0.8888888888888888,
              "#fdca26"
             ],
             [
              1,
              "#f0f921"
             ]
            ],
            "type": "heatmapgl"
           }
          ],
          "histogram": [
           {
            "marker": {
             "pattern": {
              "fillmode": "overlay",
              "size": 10,
              "solidity": 0.2
             }
            },
            "type": "histogram"
           }
          ],
          "histogram2d": [
           {
            "colorbar": {
             "outlinewidth": 0,
             "ticks": ""
            },
            "colorscale": [
             [
              0,
              "#0d0887"
             ],
             [
              0.1111111111111111,
              "#46039f"
             ],
             [
              0.2222222222222222,
              "#7201a8"
             ],
             [
              0.3333333333333333,
              "#9c179e"
             ],
             [
              0.4444444444444444,
              "#bd3786"
             ],
             [
              0.5555555555555556,
              "#d8576b"
             ],
             [
              0.6666666666666666,
              "#ed7953"
             ],
             [
              0.7777777777777778,
              "#fb9f3a"
             ],
             [
              0.8888888888888888,
              "#fdca26"
             ],
             [
              1,
              "#f0f921"
             ]
            ],
            "type": "histogram2d"
           }
          ],
          "histogram2dcontour": [
           {
            "colorbar": {
             "outlinewidth": 0,
             "ticks": ""
            },
            "colorscale": [
             [
              0,
              "#0d0887"
             ],
             [
              0.1111111111111111,
              "#46039f"
             ],
             [
              0.2222222222222222,
              "#7201a8"
             ],
             [
              0.3333333333333333,
              "#9c179e"
             ],
             [
              0.4444444444444444,
              "#bd3786"
             ],
             [
              0.5555555555555556,
              "#d8576b"
             ],
             [
              0.6666666666666666,
              "#ed7953"
             ],
             [
              0.7777777777777778,
              "#fb9f3a"
             ],
             [
              0.8888888888888888,
              "#fdca26"
             ],
             [
              1,
              "#f0f921"
             ]
            ],
            "type": "histogram2dcontour"
           }
          ],
          "mesh3d": [
           {
            "colorbar": {
             "outlinewidth": 0,
             "ticks": ""
            },
            "type": "mesh3d"
           }
          ],
          "parcoords": [
           {
            "line": {
             "colorbar": {
              "outlinewidth": 0,
              "ticks": ""
             }
            },
            "type": "parcoords"
           }
          ],
          "pie": [
           {
            "automargin": true,
            "type": "pie"
           }
          ],
          "scatter": [
           {
            "fillpattern": {
             "fillmode": "overlay",
             "size": 10,
             "solidity": 0.2
            },
            "type": "scatter"
           }
          ],
          "scatter3d": [
           {
            "line": {
             "colorbar": {
              "outlinewidth": 0,
              "ticks": ""
             }
            },
            "marker": {
             "colorbar": {
              "outlinewidth": 0,
              "ticks": ""
             }
            },
            "type": "scatter3d"
           }
          ],
          "scattercarpet": [
           {
            "marker": {
             "colorbar": {
              "outlinewidth": 0,
              "ticks": ""
             }
            },
            "type": "scattercarpet"
           }
          ],
          "scattergeo": [
           {
            "marker": {
             "colorbar": {
              "outlinewidth": 0,
              "ticks": ""
             }
            },
            "type": "scattergeo"
           }
          ],
          "scattergl": [
           {
            "marker": {
             "colorbar": {
              "outlinewidth": 0,
              "ticks": ""
             }
            },
            "type": "scattergl"
           }
          ],
          "scattermapbox": [
           {
            "marker": {
             "colorbar": {
              "outlinewidth": 0,
              "ticks": ""
             }
            },
            "type": "scattermapbox"
           }
          ],
          "scatterpolar": [
           {
            "marker": {
             "colorbar": {
              "outlinewidth": 0,
              "ticks": ""
             }
            },
            "type": "scatterpolar"
           }
          ],
          "scatterpolargl": [
           {
            "marker": {
             "colorbar": {
              "outlinewidth": 0,
              "ticks": ""
             }
            },
            "type": "scatterpolargl"
           }
          ],
          "scatterternary": [
           {
            "marker": {
             "colorbar": {
              "outlinewidth": 0,
              "ticks": ""
             }
            },
            "type": "scatterternary"
           }
          ],
          "surface": [
           {
            "colorbar": {
             "outlinewidth": 0,
             "ticks": ""
            },
            "colorscale": [
             [
              0,
              "#0d0887"
             ],
             [
              0.1111111111111111,
              "#46039f"
             ],
             [
              0.2222222222222222,
              "#7201a8"
             ],
             [
              0.3333333333333333,
              "#9c179e"
             ],
             [
              0.4444444444444444,
              "#bd3786"
             ],
             [
              0.5555555555555556,
              "#d8576b"
             ],
             [
              0.6666666666666666,
              "#ed7953"
             ],
             [
              0.7777777777777778,
              "#fb9f3a"
             ],
             [
              0.8888888888888888,
              "#fdca26"
             ],
             [
              1,
              "#f0f921"
             ]
            ],
            "type": "surface"
           }
          ],
          "table": [
           {
            "cells": {
             "fill": {
              "color": "#EBF0F8"
             },
             "line": {
              "color": "white"
             }
            },
            "header": {
             "fill": {
              "color": "#C8D4E3"
             },
             "line": {
              "color": "white"
             }
            },
            "type": "table"
           }
          ]
         },
         "layout": {
          "annotationdefaults": {
           "arrowcolor": "#2a3f5f",
           "arrowhead": 0,
           "arrowwidth": 1
          },
          "autotypenumbers": "strict",
          "coloraxis": {
           "colorbar": {
            "outlinewidth": 0,
            "ticks": ""
           }
          },
          "colorscale": {
           "diverging": [
            [
             0,
             "#8e0152"
            ],
            [
             0.1,
             "#c51b7d"
            ],
            [
             0.2,
             "#de77ae"
            ],
            [
             0.3,
             "#f1b6da"
            ],
            [
             0.4,
             "#fde0ef"
            ],
            [
             0.5,
             "#f7f7f7"
            ],
            [
             0.6,
             "#e6f5d0"
            ],
            [
             0.7,
             "#b8e186"
            ],
            [
             0.8,
             "#7fbc41"
            ],
            [
             0.9,
             "#4d9221"
            ],
            [
             1,
             "#276419"
            ]
           ],
           "sequential": [
            [
             0,
             "#0d0887"
            ],
            [
             0.1111111111111111,
             "#46039f"
            ],
            [
             0.2222222222222222,
             "#7201a8"
            ],
            [
             0.3333333333333333,
             "#9c179e"
            ],
            [
             0.4444444444444444,
             "#bd3786"
            ],
            [
             0.5555555555555556,
             "#d8576b"
            ],
            [
             0.6666666666666666,
             "#ed7953"
            ],
            [
             0.7777777777777778,
             "#fb9f3a"
            ],
            [
             0.8888888888888888,
             "#fdca26"
            ],
            [
             1,
             "#f0f921"
            ]
           ],
           "sequentialminus": [
            [
             0,
             "#0d0887"
            ],
            [
             0.1111111111111111,
             "#46039f"
            ],
            [
             0.2222222222222222,
             "#7201a8"
            ],
            [
             0.3333333333333333,
             "#9c179e"
            ],
            [
             0.4444444444444444,
             "#bd3786"
            ],
            [
             0.5555555555555556,
             "#d8576b"
            ],
            [
             0.6666666666666666,
             "#ed7953"
            ],
            [
             0.7777777777777778,
             "#fb9f3a"
            ],
            [
             0.8888888888888888,
             "#fdca26"
            ],
            [
             1,
             "#f0f921"
            ]
           ]
          },
          "colorway": [
           "#636efa",
           "#EF553B",
           "#00cc96",
           "#ab63fa",
           "#FFA15A",
           "#19d3f3",
           "#FF6692",
           "#B6E880",
           "#FF97FF",
           "#FECB52"
          ],
          "font": {
           "color": "#2a3f5f"
          },
          "geo": {
           "bgcolor": "white",
           "lakecolor": "white",
           "landcolor": "white",
           "showlakes": true,
           "showland": true,
           "subunitcolor": "#C8D4E3"
          },
          "hoverlabel": {
           "align": "left"
          },
          "hovermode": "closest",
          "mapbox": {
           "style": "light"
          },
          "paper_bgcolor": "white",
          "plot_bgcolor": "white",
          "polar": {
           "angularaxis": {
            "gridcolor": "#EBF0F8",
            "linecolor": "#EBF0F8",
            "ticks": ""
           },
           "bgcolor": "white",
           "radialaxis": {
            "gridcolor": "#EBF0F8",
            "linecolor": "#EBF0F8",
            "ticks": ""
           }
          },
          "scene": {
           "xaxis": {
            "backgroundcolor": "white",
            "gridcolor": "#DFE8F3",
            "gridwidth": 2,
            "linecolor": "#EBF0F8",
            "showbackground": true,
            "ticks": "",
            "zerolinecolor": "#EBF0F8"
           },
           "yaxis": {
            "backgroundcolor": "white",
            "gridcolor": "#DFE8F3",
            "gridwidth": 2,
            "linecolor": "#EBF0F8",
            "showbackground": true,
            "ticks": "",
            "zerolinecolor": "#EBF0F8"
           },
           "zaxis": {
            "backgroundcolor": "white",
            "gridcolor": "#DFE8F3",
            "gridwidth": 2,
            "linecolor": "#EBF0F8",
            "showbackground": true,
            "ticks": "",
            "zerolinecolor": "#EBF0F8"
           }
          },
          "shapedefaults": {
           "line": {
            "color": "#2a3f5f"
           }
          },
          "ternary": {
           "aaxis": {
            "gridcolor": "#DFE8F3",
            "linecolor": "#A2B1C6",
            "ticks": ""
           },
           "baxis": {
            "gridcolor": "#DFE8F3",
            "linecolor": "#A2B1C6",
            "ticks": ""
           },
           "bgcolor": "white",
           "caxis": {
            "gridcolor": "#DFE8F3",
            "linecolor": "#A2B1C6",
            "ticks": ""
           }
          },
          "title": {
           "x": 0.05
          },
          "xaxis": {
           "automargin": true,
           "gridcolor": "#EBF0F8",
           "linecolor": "#EBF0F8",
           "ticks": "",
           "title": {
            "standoff": 15
           },
           "zerolinecolor": "#EBF0F8",
           "zerolinewidth": 2
          },
          "yaxis": {
           "automargin": true,
           "gridcolor": "#EBF0F8",
           "linecolor": "#EBF0F8",
           "ticks": "",
           "title": {
            "standoff": 15
           },
           "zerolinecolor": "#EBF0F8",
           "zerolinewidth": 2
          }
         }
        },
        "title": {
         "text": "Gráficas de Exactitud"
        },
        "xaxis": {
         "anchor": "y",
         "domain": [
          0,
          1
         ],
         "title": {
          "text": "Epoch"
         }
        },
        "yaxis": {
         "anchor": "x",
         "domain": [
          0,
          1
         ],
         "title": {
          "text": "Exactitud"
         }
        }
       }
      }
     },
     "metadata": {},
     "output_type": "display_data"
    },
    {
     "data": {
      "text/html": [
       "<div>\n",
       "<style scoped>\n",
       "    .dataframe tbody tr th:only-of-type {\n",
       "        vertical-align: middle;\n",
       "    }\n",
       "\n",
       "    .dataframe tbody tr th {\n",
       "        vertical-align: top;\n",
       "    }\n",
       "\n",
       "    .dataframe thead th {\n",
       "        text-align: right;\n",
       "    }\n",
       "</style>\n",
       "<table border=\"1\" class=\"dataframe\">\n",
       "  <thead>\n",
       "    <tr style=\"text-align: right;\">\n",
       "      <th></th>\n",
       "      <th>Training Loss</th>\n",
       "      <th>Exactitud de Entrenamiento</th>\n",
       "      <th>Validation Loss</th>\n",
       "      <th>Exactitud de Validación</th>\n",
       "      <th>epoch</th>\n",
       "    </tr>\n",
       "  </thead>\n",
       "  <tbody>\n",
       "    <tr>\n",
       "      <th>0</th>\n",
       "      <td>1.602</td>\n",
       "      <td>0.268</td>\n",
       "      <td>1.595</td>\n",
       "      <td>0.195</td>\n",
       "      <td>0</td>\n",
       "    </tr>\n",
       "    <tr>\n",
       "      <th>1</th>\n",
       "      <td>1.581</td>\n",
       "      <td>0.293</td>\n",
       "      <td>1.571</td>\n",
       "      <td>0.195</td>\n",
       "      <td>1</td>\n",
       "    </tr>\n",
       "    <tr>\n",
       "      <th>2</th>\n",
       "      <td>1.588</td>\n",
       "      <td>0.285</td>\n",
       "      <td>1.570</td>\n",
       "      <td>0.195</td>\n",
       "      <td>2</td>\n",
       "    </tr>\n",
       "    <tr>\n",
       "      <th>3</th>\n",
       "      <td>1.569</td>\n",
       "      <td>0.293</td>\n",
       "      <td>1.568</td>\n",
       "      <td>0.195</td>\n",
       "      <td>3</td>\n",
       "    </tr>\n",
       "    <tr>\n",
       "      <th>4</th>\n",
       "      <td>1.562</td>\n",
       "      <td>0.293</td>\n",
       "      <td>1.567</td>\n",
       "      <td>0.195</td>\n",
       "      <td>4</td>\n",
       "    </tr>\n",
       "    <tr>\n",
       "      <th>...</th>\n",
       "      <td>...</td>\n",
       "      <td>...</td>\n",
       "      <td>...</td>\n",
       "      <td>...</td>\n",
       "      <td>...</td>\n",
       "    </tr>\n",
       "    <tr>\n",
       "      <th>345</th>\n",
       "      <td>0.719</td>\n",
       "      <td>0.691</td>\n",
       "      <td>0.791</td>\n",
       "      <td>0.610</td>\n",
       "      <td>345</td>\n",
       "    </tr>\n",
       "    <tr>\n",
       "      <th>346</th>\n",
       "      <td>0.651</td>\n",
       "      <td>0.724</td>\n",
       "      <td>0.812</td>\n",
       "      <td>0.585</td>\n",
       "      <td>346</td>\n",
       "    </tr>\n",
       "    <tr>\n",
       "      <th>347</th>\n",
       "      <td>0.613</td>\n",
       "      <td>0.740</td>\n",
       "      <td>0.889</td>\n",
       "      <td>0.585</td>\n",
       "      <td>347</td>\n",
       "    </tr>\n",
       "    <tr>\n",
       "      <th>348</th>\n",
       "      <td>0.695</td>\n",
       "      <td>0.740</td>\n",
       "      <td>0.787</td>\n",
       "      <td>0.610</td>\n",
       "      <td>348</td>\n",
       "    </tr>\n",
       "    <tr>\n",
       "      <th>349</th>\n",
       "      <td>0.695</td>\n",
       "      <td>0.699</td>\n",
       "      <td>0.870</td>\n",
       "      <td>0.585</td>\n",
       "      <td>349</td>\n",
       "    </tr>\n",
       "  </tbody>\n",
       "</table>\n",
       "<p>350 rows × 5 columns</p>\n",
       "</div>"
      ],
      "text/plain": [
       "     Training Loss  Exactitud de Entrenamiento  Validation Loss  \\\n",
       "0            1.602                       0.268            1.595   \n",
       "1            1.581                       0.293            1.571   \n",
       "2            1.588                       0.285            1.570   \n",
       "3            1.569                       0.293            1.568   \n",
       "4            1.562                       0.293            1.567   \n",
       "..             ...                         ...              ...   \n",
       "345          0.719                       0.691            0.791   \n",
       "346          0.651                       0.724            0.812   \n",
       "347          0.613                       0.740            0.889   \n",
       "348          0.695                       0.740            0.787   \n",
       "349          0.695                       0.699            0.870   \n",
       "\n",
       "     Exactitud de Validación  epoch  \n",
       "0                      0.195      0  \n",
       "1                      0.195      1  \n",
       "2                      0.195      2  \n",
       "3                      0.195      3  \n",
       "4                      0.195      4  \n",
       "..                       ...    ...  \n",
       "345                    0.610    345  \n",
       "346                    0.585    346  \n",
       "347                    0.585    347  \n",
       "348                    0.610    348  \n",
       "349                    0.585    349  \n",
       "\n",
       "[350 rows x 5 columns]"
      ]
     },
     "metadata": {},
     "output_type": "display_data"
    }
   ],
   "source": [
    "# Hiperparámetros\n",
    "learning_rate = 0.001\n",
    "epochs = 350\n",
    "batch_size = 5\n",
    "# Llama a la función para crear el modelo y lo guarda.\n",
    "model = my_model(learning_rate)\n",
    "# Invoca a la función de entrenamiento y guarda los resultados.\n",
    "history= train_model(model, train_features, train_labels, epochs, batch_size)\n",
    "# Llama a la función de las gráficas.\n",
    "loss_curves(history)\n",
    "accuracy_curve(history)\n",
    "display(history)"
   ]
  },
  {
   "attachments": {},
   "cell_type": "markdown",
   "metadata": {},
   "source": [
    "# Predicciones"
   ]
  },
  {
   "cell_type": "code",
   "execution_count": 26,
   "metadata": {},
   "outputs": [
    {
     "name": "stdout",
     "output_type": "stream",
     "text": [
      "6/6 [==============================] - 0s 2ms/step\n"
     ]
    },
    {
     "data": {
      "text/html": [
       "<div>\n",
       "<style scoped>\n",
       "    .dataframe tbody tr th:only-of-type {\n",
       "        vertical-align: middle;\n",
       "    }\n",
       "\n",
       "    .dataframe tbody tr th {\n",
       "        vertical-align: top;\n",
       "    }\n",
       "\n",
       "    .dataframe thead th {\n",
       "        text-align: right;\n",
       "    }\n",
       "</style>\n",
       "<table border=\"1\" class=\"dataframe\">\n",
       "  <thead>\n",
       "    <tr style=\"text-align: right;\">\n",
       "      <th></th>\n",
       "      <th>normal</th>\n",
       "      <th>collision_in_tool</th>\n",
       "      <th>collision_in_part</th>\n",
       "      <th>bottom_collision</th>\n",
       "      <th>bottom_obstruction</th>\n",
       "    </tr>\n",
       "  </thead>\n",
       "  <tbody>\n",
       "    <tr>\n",
       "      <th>0</th>\n",
       "      <td>0</td>\n",
       "      <td>0</td>\n",
       "      <td>0</td>\n",
       "      <td>1</td>\n",
       "      <td>0</td>\n",
       "    </tr>\n",
       "    <tr>\n",
       "      <th>1</th>\n",
       "      <td>0</td>\n",
       "      <td>0</td>\n",
       "      <td>0</td>\n",
       "      <td>1</td>\n",
       "      <td>0</td>\n",
       "    </tr>\n",
       "    <tr>\n",
       "      <th>2</th>\n",
       "      <td>0</td>\n",
       "      <td>0</td>\n",
       "      <td>0</td>\n",
       "      <td>1</td>\n",
       "      <td>0</td>\n",
       "    </tr>\n",
       "    <tr>\n",
       "      <th>3</th>\n",
       "      <td>1</td>\n",
       "      <td>0</td>\n",
       "      <td>0</td>\n",
       "      <td>0</td>\n",
       "      <td>0</td>\n",
       "    </tr>\n",
       "    <tr>\n",
       "      <th>4</th>\n",
       "      <td>0</td>\n",
       "      <td>1</td>\n",
       "      <td>0</td>\n",
       "      <td>0</td>\n",
       "      <td>0</td>\n",
       "    </tr>\n",
       "    <tr>\n",
       "      <th>...</th>\n",
       "      <td>...</td>\n",
       "      <td>...</td>\n",
       "      <td>...</td>\n",
       "      <td>...</td>\n",
       "      <td>...</td>\n",
       "    </tr>\n",
       "    <tr>\n",
       "      <th>159</th>\n",
       "      <td>1</td>\n",
       "      <td>0</td>\n",
       "      <td>0</td>\n",
       "      <td>0</td>\n",
       "      <td>0</td>\n",
       "    </tr>\n",
       "    <tr>\n",
       "      <th>160</th>\n",
       "      <td>0</td>\n",
       "      <td>0</td>\n",
       "      <td>0</td>\n",
       "      <td>0</td>\n",
       "      <td>1</td>\n",
       "    </tr>\n",
       "    <tr>\n",
       "      <th>161</th>\n",
       "      <td>1</td>\n",
       "      <td>0</td>\n",
       "      <td>0</td>\n",
       "      <td>0</td>\n",
       "      <td>0</td>\n",
       "    </tr>\n",
       "    <tr>\n",
       "      <th>162</th>\n",
       "      <td>0</td>\n",
       "      <td>0</td>\n",
       "      <td>0</td>\n",
       "      <td>0</td>\n",
       "      <td>1</td>\n",
       "    </tr>\n",
       "    <tr>\n",
       "      <th>163</th>\n",
       "      <td>1</td>\n",
       "      <td>0</td>\n",
       "      <td>0</td>\n",
       "      <td>0</td>\n",
       "      <td>0</td>\n",
       "    </tr>\n",
       "  </tbody>\n",
       "</table>\n",
       "<p>164 rows × 5 columns</p>\n",
       "</div>"
      ],
      "text/plain": [
       "     normal  collision_in_tool  collision_in_part  bottom_collision  \\\n",
       "0         0                  0                  0                 1   \n",
       "1         0                  0                  0                 1   \n",
       "2         0                  0                  0                 1   \n",
       "3         1                  0                  0                 0   \n",
       "4         0                  1                  0                 0   \n",
       "..      ...                ...                ...               ...   \n",
       "159       1                  0                  0                 0   \n",
       "160       0                  0                  0                 0   \n",
       "161       1                  0                  0                 0   \n",
       "162       0                  0                  0                 0   \n",
       "163       1                  0                  0                 0   \n",
       "\n",
       "     bottom_obstruction  \n",
       "0                     0  \n",
       "1                     0  \n",
       "2                     0  \n",
       "3                     0  \n",
       "4                     0  \n",
       "..                  ...  \n",
       "159                   0  \n",
       "160                   1  \n",
       "161                   0  \n",
       "162                   1  \n",
       "163                   0  \n",
       "\n",
       "[164 rows x 5 columns]"
      ]
     },
     "metadata": {},
     "output_type": "display_data"
    },
    {
     "data": {
      "text/html": [
       "<div>\n",
       "<style scoped>\n",
       "    .dataframe tbody tr th:only-of-type {\n",
       "        vertical-align: middle;\n",
       "    }\n",
       "\n",
       "    .dataframe tbody tr th {\n",
       "        vertical-align: top;\n",
       "    }\n",
       "\n",
       "    .dataframe thead th {\n",
       "        text-align: right;\n",
       "    }\n",
       "</style>\n",
       "<table border=\"1\" class=\"dataframe\">\n",
       "  <thead>\n",
       "    <tr style=\"text-align: right;\">\n",
       "      <th></th>\n",
       "      <th>1</th>\n",
       "      <th>2</th>\n",
       "      <th>3</th>\n",
       "      <th>4</th>\n",
       "      <th>5</th>\n",
       "    </tr>\n",
       "  </thead>\n",
       "  <tbody>\n",
       "    <tr>\n",
       "      <th>146</th>\n",
       "      <td>0</td>\n",
       "      <td>0</td>\n",
       "      <td>0</td>\n",
       "      <td>1</td>\n",
       "      <td>0</td>\n",
       "    </tr>\n",
       "    <tr>\n",
       "      <th>89</th>\n",
       "      <td>0</td>\n",
       "      <td>0</td>\n",
       "      <td>1</td>\n",
       "      <td>0</td>\n",
       "      <td>0</td>\n",
       "    </tr>\n",
       "    <tr>\n",
       "      <th>106</th>\n",
       "      <td>0</td>\n",
       "      <td>0</td>\n",
       "      <td>0</td>\n",
       "      <td>1</td>\n",
       "      <td>0</td>\n",
       "    </tr>\n",
       "    <tr>\n",
       "      <th>7</th>\n",
       "      <td>1</td>\n",
       "      <td>0</td>\n",
       "      <td>0</td>\n",
       "      <td>0</td>\n",
       "      <td>0</td>\n",
       "    </tr>\n",
       "    <tr>\n",
       "      <th>94</th>\n",
       "      <td>0</td>\n",
       "      <td>1</td>\n",
       "      <td>0</td>\n",
       "      <td>0</td>\n",
       "      <td>0</td>\n",
       "    </tr>\n",
       "    <tr>\n",
       "      <th>...</th>\n",
       "      <td>...</td>\n",
       "      <td>...</td>\n",
       "      <td>...</td>\n",
       "      <td>...</td>\n",
       "      <td>...</td>\n",
       "    </tr>\n",
       "    <tr>\n",
       "      <th>9</th>\n",
       "      <td>1</td>\n",
       "      <td>0</td>\n",
       "      <td>0</td>\n",
       "      <td>0</td>\n",
       "      <td>0</td>\n",
       "    </tr>\n",
       "    <tr>\n",
       "      <th>103</th>\n",
       "      <td>0</td>\n",
       "      <td>0</td>\n",
       "      <td>0</td>\n",
       "      <td>0</td>\n",
       "      <td>1</td>\n",
       "    </tr>\n",
       "    <tr>\n",
       "      <th>67</th>\n",
       "      <td>1</td>\n",
       "      <td>0</td>\n",
       "      <td>0</td>\n",
       "      <td>0</td>\n",
       "      <td>0</td>\n",
       "    </tr>\n",
       "    <tr>\n",
       "      <th>117</th>\n",
       "      <td>0</td>\n",
       "      <td>0</td>\n",
       "      <td>0</td>\n",
       "      <td>0</td>\n",
       "      <td>1</td>\n",
       "    </tr>\n",
       "    <tr>\n",
       "      <th>47</th>\n",
       "      <td>1</td>\n",
       "      <td>0</td>\n",
       "      <td>0</td>\n",
       "      <td>0</td>\n",
       "      <td>0</td>\n",
       "    </tr>\n",
       "  </tbody>\n",
       "</table>\n",
       "<p>164 rows × 5 columns</p>\n",
       "</div>"
      ],
      "text/plain": [
       "     1  2  3  4  5\n",
       "146  0  0  0  1  0\n",
       "89   0  0  1  0  0\n",
       "106  0  0  0  1  0\n",
       "7    1  0  0  0  0\n",
       "94   0  1  0  0  0\n",
       "..  .. .. .. .. ..\n",
       "9    1  0  0  0  0\n",
       "103  0  0  0  0  1\n",
       "67   1  0  0  0  0\n",
       "117  0  0  0  0  1\n",
       "47   1  0  0  0  0\n",
       "\n",
       "[164 rows x 5 columns]"
      ]
     },
     "metadata": {},
     "output_type": "display_data"
    },
    {
     "data": {
      "text/plain": [
       "array([[[ 85.,  35.],\n",
       "        [  0.,  44.]],\n",
       "\n",
       "       [[129.,   9.],\n",
       "        [ 17.,   9.]],\n",
       "\n",
       "       [[109.,   8.],\n",
       "        [ 34.,  13.]],\n",
       "\n",
       "       [[132.,   6.],\n",
       "        [  3.,  23.]],\n",
       "\n",
       "       [[143.,   0.],\n",
       "        [  4.,  17.]]], dtype=float32)"
      ]
     },
     "metadata": {},
     "output_type": "display_data"
    },
    {
     "data": {
      "application/vnd.plotly.v1+json": {
       "config": {
        "plotlyServerURL": "https://plot.ly"
       },
       "data": [
        {
         "coloraxis": "coloraxis",
         "hovertemplate": "normal (Predicted): %{x}<br>normal: %{y}<br>color: %{z}<extra></extra>",
         "name": "0",
         "texttemplate": "%{z}",
         "type": "heatmap",
         "x": [
          "Negative",
          "-Positive"
         ],
         "xaxis": "x",
         "y": [
          "True",
          "False"
         ],
         "yaxis": "y",
         "z": [
          [
           85,
           35
          ],
          [
           0,
           44
          ]
         ]
        }
       ],
       "layout": {
        "coloraxis": {
         "colorscale": [
          [
           0,
           "rgb(255,255,255)"
          ],
          [
           0.125,
           "rgb(240,240,240)"
          ],
          [
           0.25,
           "rgb(217,217,217)"
          ],
          [
           0.375,
           "rgb(189,189,189)"
          ],
          [
           0.5,
           "rgb(150,150,150)"
          ],
          [
           0.625,
           "rgb(115,115,115)"
          ],
          [
           0.75,
           "rgb(82,82,82)"
          ],
          [
           0.875,
           "rgb(37,37,37)"
          ],
          [
           1,
           "rgb(0,0,0)"
          ]
         ]
        },
        "margin": {
         "t": 60
        },
        "template": {
         "data": {
          "bar": [
           {
            "error_x": {
             "color": "#2a3f5f"
            },
            "error_y": {
             "color": "#2a3f5f"
            },
            "marker": {
             "line": {
              "color": "#E5ECF6",
              "width": 0.5
             },
             "pattern": {
              "fillmode": "overlay",
              "size": 10,
              "solidity": 0.2
             }
            },
            "type": "bar"
           }
          ],
          "barpolar": [
           {
            "marker": {
             "line": {
              "color": "#E5ECF6",
              "width": 0.5
             },
             "pattern": {
              "fillmode": "overlay",
              "size": 10,
              "solidity": 0.2
             }
            },
            "type": "barpolar"
           }
          ],
          "carpet": [
           {
            "aaxis": {
             "endlinecolor": "#2a3f5f",
             "gridcolor": "white",
             "linecolor": "white",
             "minorgridcolor": "white",
             "startlinecolor": "#2a3f5f"
            },
            "baxis": {
             "endlinecolor": "#2a3f5f",
             "gridcolor": "white",
             "linecolor": "white",
             "minorgridcolor": "white",
             "startlinecolor": "#2a3f5f"
            },
            "type": "carpet"
           }
          ],
          "choropleth": [
           {
            "colorbar": {
             "outlinewidth": 0,
             "ticks": ""
            },
            "type": "choropleth"
           }
          ],
          "contour": [
           {
            "colorbar": {
             "outlinewidth": 0,
             "ticks": ""
            },
            "colorscale": [
             [
              0,
              "#0d0887"
             ],
             [
              0.1111111111111111,
              "#46039f"
             ],
             [
              0.2222222222222222,
              "#7201a8"
             ],
             [
              0.3333333333333333,
              "#9c179e"
             ],
             [
              0.4444444444444444,
              "#bd3786"
             ],
             [
              0.5555555555555556,
              "#d8576b"
             ],
             [
              0.6666666666666666,
              "#ed7953"
             ],
             [
              0.7777777777777778,
              "#fb9f3a"
             ],
             [
              0.8888888888888888,
              "#fdca26"
             ],
             [
              1,
              "#f0f921"
             ]
            ],
            "type": "contour"
           }
          ],
          "contourcarpet": [
           {
            "colorbar": {
             "outlinewidth": 0,
             "ticks": ""
            },
            "type": "contourcarpet"
           }
          ],
          "heatmap": [
           {
            "colorbar": {
             "outlinewidth": 0,
             "ticks": ""
            },
            "colorscale": [
             [
              0,
              "#0d0887"
             ],
             [
              0.1111111111111111,
              "#46039f"
             ],
             [
              0.2222222222222222,
              "#7201a8"
             ],
             [
              0.3333333333333333,
              "#9c179e"
             ],
             [
              0.4444444444444444,
              "#bd3786"
             ],
             [
              0.5555555555555556,
              "#d8576b"
             ],
             [
              0.6666666666666666,
              "#ed7953"
             ],
             [
              0.7777777777777778,
              "#fb9f3a"
             ],
             [
              0.8888888888888888,
              "#fdca26"
             ],
             [
              1,
              "#f0f921"
             ]
            ],
            "type": "heatmap"
           }
          ],
          "heatmapgl": [
           {
            "colorbar": {
             "outlinewidth": 0,
             "ticks": ""
            },
            "colorscale": [
             [
              0,
              "#0d0887"
             ],
             [
              0.1111111111111111,
              "#46039f"
             ],
             [
              0.2222222222222222,
              "#7201a8"
             ],
             [
              0.3333333333333333,
              "#9c179e"
             ],
             [
              0.4444444444444444,
              "#bd3786"
             ],
             [
              0.5555555555555556,
              "#d8576b"
             ],
             [
              0.6666666666666666,
              "#ed7953"
             ],
             [
              0.7777777777777778,
              "#fb9f3a"
             ],
             [
              0.8888888888888888,
              "#fdca26"
             ],
             [
              1,
              "#f0f921"
             ]
            ],
            "type": "heatmapgl"
           }
          ],
          "histogram": [
           {
            "marker": {
             "pattern": {
              "fillmode": "overlay",
              "size": 10,
              "solidity": 0.2
             }
            },
            "type": "histogram"
           }
          ],
          "histogram2d": [
           {
            "colorbar": {
             "outlinewidth": 0,
             "ticks": ""
            },
            "colorscale": [
             [
              0,
              "#0d0887"
             ],
             [
              0.1111111111111111,
              "#46039f"
             ],
             [
              0.2222222222222222,
              "#7201a8"
             ],
             [
              0.3333333333333333,
              "#9c179e"
             ],
             [
              0.4444444444444444,
              "#bd3786"
             ],
             [
              0.5555555555555556,
              "#d8576b"
             ],
             [
              0.6666666666666666,
              "#ed7953"
             ],
             [
              0.7777777777777778,
              "#fb9f3a"
             ],
             [
              0.8888888888888888,
              "#fdca26"
             ],
             [
              1,
              "#f0f921"
             ]
            ],
            "type": "histogram2d"
           }
          ],
          "histogram2dcontour": [
           {
            "colorbar": {
             "outlinewidth": 0,
             "ticks": ""
            },
            "colorscale": [
             [
              0,
              "#0d0887"
             ],
             [
              0.1111111111111111,
              "#46039f"
             ],
             [
              0.2222222222222222,
              "#7201a8"
             ],
             [
              0.3333333333333333,
              "#9c179e"
             ],
             [
              0.4444444444444444,
              "#bd3786"
             ],
             [
              0.5555555555555556,
              "#d8576b"
             ],
             [
              0.6666666666666666,
              "#ed7953"
             ],
             [
              0.7777777777777778,
              "#fb9f3a"
             ],
             [
              0.8888888888888888,
              "#fdca26"
             ],
             [
              1,
              "#f0f921"
             ]
            ],
            "type": "histogram2dcontour"
           }
          ],
          "mesh3d": [
           {
            "colorbar": {
             "outlinewidth": 0,
             "ticks": ""
            },
            "type": "mesh3d"
           }
          ],
          "parcoords": [
           {
            "line": {
             "colorbar": {
              "outlinewidth": 0,
              "ticks": ""
             }
            },
            "type": "parcoords"
           }
          ],
          "pie": [
           {
            "automargin": true,
            "type": "pie"
           }
          ],
          "scatter": [
           {
            "fillpattern": {
             "fillmode": "overlay",
             "size": 10,
             "solidity": 0.2
            },
            "type": "scatter"
           }
          ],
          "scatter3d": [
           {
            "line": {
             "colorbar": {
              "outlinewidth": 0,
              "ticks": ""
             }
            },
            "marker": {
             "colorbar": {
              "outlinewidth": 0,
              "ticks": ""
             }
            },
            "type": "scatter3d"
           }
          ],
          "scattercarpet": [
           {
            "marker": {
             "colorbar": {
              "outlinewidth": 0,
              "ticks": ""
             }
            },
            "type": "scattercarpet"
           }
          ],
          "scattergeo": [
           {
            "marker": {
             "colorbar": {
              "outlinewidth": 0,
              "ticks": ""
             }
            },
            "type": "scattergeo"
           }
          ],
          "scattergl": [
           {
            "marker": {
             "colorbar": {
              "outlinewidth": 0,
              "ticks": ""
             }
            },
            "type": "scattergl"
           }
          ],
          "scattermapbox": [
           {
            "marker": {
             "colorbar": {
              "outlinewidth": 0,
              "ticks": ""
             }
            },
            "type": "scattermapbox"
           }
          ],
          "scatterpolar": [
           {
            "marker": {
             "colorbar": {
              "outlinewidth": 0,
              "ticks": ""
             }
            },
            "type": "scatterpolar"
           }
          ],
          "scatterpolargl": [
           {
            "marker": {
             "colorbar": {
              "outlinewidth": 0,
              "ticks": ""
             }
            },
            "type": "scatterpolargl"
           }
          ],
          "scatterternary": [
           {
            "marker": {
             "colorbar": {
              "outlinewidth": 0,
              "ticks": ""
             }
            },
            "type": "scatterternary"
           }
          ],
          "surface": [
           {
            "colorbar": {
             "outlinewidth": 0,
             "ticks": ""
            },
            "colorscale": [
             [
              0,
              "#0d0887"
             ],
             [
              0.1111111111111111,
              "#46039f"
             ],
             [
              0.2222222222222222,
              "#7201a8"
             ],
             [
              0.3333333333333333,
              "#9c179e"
             ],
             [
              0.4444444444444444,
              "#bd3786"
             ],
             [
              0.5555555555555556,
              "#d8576b"
             ],
             [
              0.6666666666666666,
              "#ed7953"
             ],
             [
              0.7777777777777778,
              "#fb9f3a"
             ],
             [
              0.8888888888888888,
              "#fdca26"
             ],
             [
              1,
              "#f0f921"
             ]
            ],
            "type": "surface"
           }
          ],
          "table": [
           {
            "cells": {
             "fill": {
              "color": "#EBF0F8"
             },
             "line": {
              "color": "white"
             }
            },
            "header": {
             "fill": {
              "color": "#C8D4E3"
             },
             "line": {
              "color": "white"
             }
            },
            "type": "table"
           }
          ]
         },
         "layout": {
          "annotationdefaults": {
           "arrowcolor": "#2a3f5f",
           "arrowhead": 0,
           "arrowwidth": 1
          },
          "autotypenumbers": "strict",
          "coloraxis": {
           "colorbar": {
            "outlinewidth": 0,
            "ticks": ""
           }
          },
          "colorscale": {
           "diverging": [
            [
             0,
             "#8e0152"
            ],
            [
             0.1,
             "#c51b7d"
            ],
            [
             0.2,
             "#de77ae"
            ],
            [
             0.3,
             "#f1b6da"
            ],
            [
             0.4,
             "#fde0ef"
            ],
            [
             0.5,
             "#f7f7f7"
            ],
            [
             0.6,
             "#e6f5d0"
            ],
            [
             0.7,
             "#b8e186"
            ],
            [
             0.8,
             "#7fbc41"
            ],
            [
             0.9,
             "#4d9221"
            ],
            [
             1,
             "#276419"
            ]
           ],
           "sequential": [
            [
             0,
             "#0d0887"
            ],
            [
             0.1111111111111111,
             "#46039f"
            ],
            [
             0.2222222222222222,
             "#7201a8"
            ],
            [
             0.3333333333333333,
             "#9c179e"
            ],
            [
             0.4444444444444444,
             "#bd3786"
            ],
            [
             0.5555555555555556,
             "#d8576b"
            ],
            [
             0.6666666666666666,
             "#ed7953"
            ],
            [
             0.7777777777777778,
             "#fb9f3a"
            ],
            [
             0.8888888888888888,
             "#fdca26"
            ],
            [
             1,
             "#f0f921"
            ]
           ],
           "sequentialminus": [
            [
             0,
             "#0d0887"
            ],
            [
             0.1111111111111111,
             "#46039f"
            ],
            [
             0.2222222222222222,
             "#7201a8"
            ],
            [
             0.3333333333333333,
             "#9c179e"
            ],
            [
             0.4444444444444444,
             "#bd3786"
            ],
            [
             0.5555555555555556,
             "#d8576b"
            ],
            [
             0.6666666666666666,
             "#ed7953"
            ],
            [
             0.7777777777777778,
             "#fb9f3a"
            ],
            [
             0.8888888888888888,
             "#fdca26"
            ],
            [
             1,
             "#f0f921"
            ]
           ]
          },
          "colorway": [
           "#636efa",
           "#EF553B",
           "#00cc96",
           "#ab63fa",
           "#FFA15A",
           "#19d3f3",
           "#FF6692",
           "#B6E880",
           "#FF97FF",
           "#FECB52"
          ],
          "font": {
           "color": "#2a3f5f"
          },
          "geo": {
           "bgcolor": "white",
           "lakecolor": "white",
           "landcolor": "#E5ECF6",
           "showlakes": true,
           "showland": true,
           "subunitcolor": "white"
          },
          "hoverlabel": {
           "align": "left"
          },
          "hovermode": "closest",
          "mapbox": {
           "style": "light"
          },
          "paper_bgcolor": "white",
          "plot_bgcolor": "#E5ECF6",
          "polar": {
           "angularaxis": {
            "gridcolor": "white",
            "linecolor": "white",
            "ticks": ""
           },
           "bgcolor": "#E5ECF6",
           "radialaxis": {
            "gridcolor": "white",
            "linecolor": "white",
            "ticks": ""
           }
          },
          "scene": {
           "xaxis": {
            "backgroundcolor": "#E5ECF6",
            "gridcolor": "white",
            "gridwidth": 2,
            "linecolor": "white",
            "showbackground": true,
            "ticks": "",
            "zerolinecolor": "white"
           },
           "yaxis": {
            "backgroundcolor": "#E5ECF6",
            "gridcolor": "white",
            "gridwidth": 2,
            "linecolor": "white",
            "showbackground": true,
            "ticks": "",
            "zerolinecolor": "white"
           },
           "zaxis": {
            "backgroundcolor": "#E5ECF6",
            "gridcolor": "white",
            "gridwidth": 2,
            "linecolor": "white",
            "showbackground": true,
            "ticks": "",
            "zerolinecolor": "white"
           }
          },
          "shapedefaults": {
           "line": {
            "color": "#2a3f5f"
           }
          },
          "ternary": {
           "aaxis": {
            "gridcolor": "white",
            "linecolor": "white",
            "ticks": ""
           },
           "baxis": {
            "gridcolor": "white",
            "linecolor": "white",
            "ticks": ""
           },
           "bgcolor": "#E5ECF6",
           "caxis": {
            "gridcolor": "white",
            "linecolor": "white",
            "ticks": ""
           }
          },
          "title": {
           "x": 0.05
          },
          "xaxis": {
           "automargin": true,
           "gridcolor": "white",
           "linecolor": "white",
           "ticks": "",
           "title": {
            "standoff": 15
           },
           "zerolinecolor": "white",
           "zerolinewidth": 2
          },
          "yaxis": {
           "automargin": true,
           "gridcolor": "white",
           "linecolor": "white",
           "ticks": "",
           "title": {
            "standoff": 15
           },
           "zerolinecolor": "white",
           "zerolinewidth": 2
          }
         }
        },
        "xaxis": {
         "anchor": "y",
         "constrain": "domain",
         "domain": [
          0,
          1
         ],
         "scaleanchor": "y",
         "side": "top",
         "title": {
          "text": "normal (Predicted)"
         }
        },
        "yaxis": {
         "anchor": "x",
         "autorange": "reversed",
         "constrain": "domain",
         "domain": [
          0,
          1
         ],
         "title": {
          "text": "normal"
         }
        }
       }
      }
     },
     "metadata": {},
     "output_type": "display_data"
    },
    {
     "data": {
      "application/vnd.plotly.v1+json": {
       "config": {
        "plotlyServerURL": "https://plot.ly"
       },
       "data": [
        {
         "coloraxis": "coloraxis",
         "hovertemplate": "collision_in_tool (Predicted): %{x}<br>collision_in_tool: %{y}<br>color: %{z}<extra></extra>",
         "name": "0",
         "texttemplate": "%{z}",
         "type": "heatmap",
         "x": [
          "Negative",
          "-Positive"
         ],
         "xaxis": "x",
         "y": [
          "True",
          "False"
         ],
         "yaxis": "y",
         "z": [
          [
           85,
           35
          ],
          [
           0,
           44
          ]
         ]
        }
       ],
       "layout": {
        "coloraxis": {
         "colorscale": [
          [
           0,
           "rgb(255,255,255)"
          ],
          [
           0.125,
           "rgb(240,240,240)"
          ],
          [
           0.25,
           "rgb(217,217,217)"
          ],
          [
           0.375,
           "rgb(189,189,189)"
          ],
          [
           0.5,
           "rgb(150,150,150)"
          ],
          [
           0.625,
           "rgb(115,115,115)"
          ],
          [
           0.75,
           "rgb(82,82,82)"
          ],
          [
           0.875,
           "rgb(37,37,37)"
          ],
          [
           1,
           "rgb(0,0,0)"
          ]
         ]
        },
        "margin": {
         "t": 60
        },
        "template": {
         "data": {
          "bar": [
           {
            "error_x": {
             "color": "#2a3f5f"
            },
            "error_y": {
             "color": "#2a3f5f"
            },
            "marker": {
             "line": {
              "color": "#E5ECF6",
              "width": 0.5
             },
             "pattern": {
              "fillmode": "overlay",
              "size": 10,
              "solidity": 0.2
             }
            },
            "type": "bar"
           }
          ],
          "barpolar": [
           {
            "marker": {
             "line": {
              "color": "#E5ECF6",
              "width": 0.5
             },
             "pattern": {
              "fillmode": "overlay",
              "size": 10,
              "solidity": 0.2
             }
            },
            "type": "barpolar"
           }
          ],
          "carpet": [
           {
            "aaxis": {
             "endlinecolor": "#2a3f5f",
             "gridcolor": "white",
             "linecolor": "white",
             "minorgridcolor": "white",
             "startlinecolor": "#2a3f5f"
            },
            "baxis": {
             "endlinecolor": "#2a3f5f",
             "gridcolor": "white",
             "linecolor": "white",
             "minorgridcolor": "white",
             "startlinecolor": "#2a3f5f"
            },
            "type": "carpet"
           }
          ],
          "choropleth": [
           {
            "colorbar": {
             "outlinewidth": 0,
             "ticks": ""
            },
            "type": "choropleth"
           }
          ],
          "contour": [
           {
            "colorbar": {
             "outlinewidth": 0,
             "ticks": ""
            },
            "colorscale": [
             [
              0,
              "#0d0887"
             ],
             [
              0.1111111111111111,
              "#46039f"
             ],
             [
              0.2222222222222222,
              "#7201a8"
             ],
             [
              0.3333333333333333,
              "#9c179e"
             ],
             [
              0.4444444444444444,
              "#bd3786"
             ],
             [
              0.5555555555555556,
              "#d8576b"
             ],
             [
              0.6666666666666666,
              "#ed7953"
             ],
             [
              0.7777777777777778,
              "#fb9f3a"
             ],
             [
              0.8888888888888888,
              "#fdca26"
             ],
             [
              1,
              "#f0f921"
             ]
            ],
            "type": "contour"
           }
          ],
          "contourcarpet": [
           {
            "colorbar": {
             "outlinewidth": 0,
             "ticks": ""
            },
            "type": "contourcarpet"
           }
          ],
          "heatmap": [
           {
            "colorbar": {
             "outlinewidth": 0,
             "ticks": ""
            },
            "colorscale": [
             [
              0,
              "#0d0887"
             ],
             [
              0.1111111111111111,
              "#46039f"
             ],
             [
              0.2222222222222222,
              "#7201a8"
             ],
             [
              0.3333333333333333,
              "#9c179e"
             ],
             [
              0.4444444444444444,
              "#bd3786"
             ],
             [
              0.5555555555555556,
              "#d8576b"
             ],
             [
              0.6666666666666666,
              "#ed7953"
             ],
             [
              0.7777777777777778,
              "#fb9f3a"
             ],
             [
              0.8888888888888888,
              "#fdca26"
             ],
             [
              1,
              "#f0f921"
             ]
            ],
            "type": "heatmap"
           }
          ],
          "heatmapgl": [
           {
            "colorbar": {
             "outlinewidth": 0,
             "ticks": ""
            },
            "colorscale": [
             [
              0,
              "#0d0887"
             ],
             [
              0.1111111111111111,
              "#46039f"
             ],
             [
              0.2222222222222222,
              "#7201a8"
             ],
             [
              0.3333333333333333,
              "#9c179e"
             ],
             [
              0.4444444444444444,
              "#bd3786"
             ],
             [
              0.5555555555555556,
              "#d8576b"
             ],
             [
              0.6666666666666666,
              "#ed7953"
             ],
             [
              0.7777777777777778,
              "#fb9f3a"
             ],
             [
              0.8888888888888888,
              "#fdca26"
             ],
             [
              1,
              "#f0f921"
             ]
            ],
            "type": "heatmapgl"
           }
          ],
          "histogram": [
           {
            "marker": {
             "pattern": {
              "fillmode": "overlay",
              "size": 10,
              "solidity": 0.2
             }
            },
            "type": "histogram"
           }
          ],
          "histogram2d": [
           {
            "colorbar": {
             "outlinewidth": 0,
             "ticks": ""
            },
            "colorscale": [
             [
              0,
              "#0d0887"
             ],
             [
              0.1111111111111111,
              "#46039f"
             ],
             [
              0.2222222222222222,
              "#7201a8"
             ],
             [
              0.3333333333333333,
              "#9c179e"
             ],
             [
              0.4444444444444444,
              "#bd3786"
             ],
             [
              0.5555555555555556,
              "#d8576b"
             ],
             [
              0.6666666666666666,
              "#ed7953"
             ],
             [
              0.7777777777777778,
              "#fb9f3a"
             ],
             [
              0.8888888888888888,
              "#fdca26"
             ],
             [
              1,
              "#f0f921"
             ]
            ],
            "type": "histogram2d"
           }
          ],
          "histogram2dcontour": [
           {
            "colorbar": {
             "outlinewidth": 0,
             "ticks": ""
            },
            "colorscale": [
             [
              0,
              "#0d0887"
             ],
             [
              0.1111111111111111,
              "#46039f"
             ],
             [
              0.2222222222222222,
              "#7201a8"
             ],
             [
              0.3333333333333333,
              "#9c179e"
             ],
             [
              0.4444444444444444,
              "#bd3786"
             ],
             [
              0.5555555555555556,
              "#d8576b"
             ],
             [
              0.6666666666666666,
              "#ed7953"
             ],
             [
              0.7777777777777778,
              "#fb9f3a"
             ],
             [
              0.8888888888888888,
              "#fdca26"
             ],
             [
              1,
              "#f0f921"
             ]
            ],
            "type": "histogram2dcontour"
           }
          ],
          "mesh3d": [
           {
            "colorbar": {
             "outlinewidth": 0,
             "ticks": ""
            },
            "type": "mesh3d"
           }
          ],
          "parcoords": [
           {
            "line": {
             "colorbar": {
              "outlinewidth": 0,
              "ticks": ""
             }
            },
            "type": "parcoords"
           }
          ],
          "pie": [
           {
            "automargin": true,
            "type": "pie"
           }
          ],
          "scatter": [
           {
            "fillpattern": {
             "fillmode": "overlay",
             "size": 10,
             "solidity": 0.2
            },
            "type": "scatter"
           }
          ],
          "scatter3d": [
           {
            "line": {
             "colorbar": {
              "outlinewidth": 0,
              "ticks": ""
             }
            },
            "marker": {
             "colorbar": {
              "outlinewidth": 0,
              "ticks": ""
             }
            },
            "type": "scatter3d"
           }
          ],
          "scattercarpet": [
           {
            "marker": {
             "colorbar": {
              "outlinewidth": 0,
              "ticks": ""
             }
            },
            "type": "scattercarpet"
           }
          ],
          "scattergeo": [
           {
            "marker": {
             "colorbar": {
              "outlinewidth": 0,
              "ticks": ""
             }
            },
            "type": "scattergeo"
           }
          ],
          "scattergl": [
           {
            "marker": {
             "colorbar": {
              "outlinewidth": 0,
              "ticks": ""
             }
            },
            "type": "scattergl"
           }
          ],
          "scattermapbox": [
           {
            "marker": {
             "colorbar": {
              "outlinewidth": 0,
              "ticks": ""
             }
            },
            "type": "scattermapbox"
           }
          ],
          "scatterpolar": [
           {
            "marker": {
             "colorbar": {
              "outlinewidth": 0,
              "ticks": ""
             }
            },
            "type": "scatterpolar"
           }
          ],
          "scatterpolargl": [
           {
            "marker": {
             "colorbar": {
              "outlinewidth": 0,
              "ticks": ""
             }
            },
            "type": "scatterpolargl"
           }
          ],
          "scatterternary": [
           {
            "marker": {
             "colorbar": {
              "outlinewidth": 0,
              "ticks": ""
             }
            },
            "type": "scatterternary"
           }
          ],
          "surface": [
           {
            "colorbar": {
             "outlinewidth": 0,
             "ticks": ""
            },
            "colorscale": [
             [
              0,
              "#0d0887"
             ],
             [
              0.1111111111111111,
              "#46039f"
             ],
             [
              0.2222222222222222,
              "#7201a8"
             ],
             [
              0.3333333333333333,
              "#9c179e"
             ],
             [
              0.4444444444444444,
              "#bd3786"
             ],
             [
              0.5555555555555556,
              "#d8576b"
             ],
             [
              0.6666666666666666,
              "#ed7953"
             ],
             [
              0.7777777777777778,
              "#fb9f3a"
             ],
             [
              0.8888888888888888,
              "#fdca26"
             ],
             [
              1,
              "#f0f921"
             ]
            ],
            "type": "surface"
           }
          ],
          "table": [
           {
            "cells": {
             "fill": {
              "color": "#EBF0F8"
             },
             "line": {
              "color": "white"
             }
            },
            "header": {
             "fill": {
              "color": "#C8D4E3"
             },
             "line": {
              "color": "white"
             }
            },
            "type": "table"
           }
          ]
         },
         "layout": {
          "annotationdefaults": {
           "arrowcolor": "#2a3f5f",
           "arrowhead": 0,
           "arrowwidth": 1
          },
          "autotypenumbers": "strict",
          "coloraxis": {
           "colorbar": {
            "outlinewidth": 0,
            "ticks": ""
           }
          },
          "colorscale": {
           "diverging": [
            [
             0,
             "#8e0152"
            ],
            [
             0.1,
             "#c51b7d"
            ],
            [
             0.2,
             "#de77ae"
            ],
            [
             0.3,
             "#f1b6da"
            ],
            [
             0.4,
             "#fde0ef"
            ],
            [
             0.5,
             "#f7f7f7"
            ],
            [
             0.6,
             "#e6f5d0"
            ],
            [
             0.7,
             "#b8e186"
            ],
            [
             0.8,
             "#7fbc41"
            ],
            [
             0.9,
             "#4d9221"
            ],
            [
             1,
             "#276419"
            ]
           ],
           "sequential": [
            [
             0,
             "#0d0887"
            ],
            [
             0.1111111111111111,
             "#46039f"
            ],
            [
             0.2222222222222222,
             "#7201a8"
            ],
            [
             0.3333333333333333,
             "#9c179e"
            ],
            [
             0.4444444444444444,
             "#bd3786"
            ],
            [
             0.5555555555555556,
             "#d8576b"
            ],
            [
             0.6666666666666666,
             "#ed7953"
            ],
            [
             0.7777777777777778,
             "#fb9f3a"
            ],
            [
             0.8888888888888888,
             "#fdca26"
            ],
            [
             1,
             "#f0f921"
            ]
           ],
           "sequentialminus": [
            [
             0,
             "#0d0887"
            ],
            [
             0.1111111111111111,
             "#46039f"
            ],
            [
             0.2222222222222222,
             "#7201a8"
            ],
            [
             0.3333333333333333,
             "#9c179e"
            ],
            [
             0.4444444444444444,
             "#bd3786"
            ],
            [
             0.5555555555555556,
             "#d8576b"
            ],
            [
             0.6666666666666666,
             "#ed7953"
            ],
            [
             0.7777777777777778,
             "#fb9f3a"
            ],
            [
             0.8888888888888888,
             "#fdca26"
            ],
            [
             1,
             "#f0f921"
            ]
           ]
          },
          "colorway": [
           "#636efa",
           "#EF553B",
           "#00cc96",
           "#ab63fa",
           "#FFA15A",
           "#19d3f3",
           "#FF6692",
           "#B6E880",
           "#FF97FF",
           "#FECB52"
          ],
          "font": {
           "color": "#2a3f5f"
          },
          "geo": {
           "bgcolor": "white",
           "lakecolor": "white",
           "landcolor": "#E5ECF6",
           "showlakes": true,
           "showland": true,
           "subunitcolor": "white"
          },
          "hoverlabel": {
           "align": "left"
          },
          "hovermode": "closest",
          "mapbox": {
           "style": "light"
          },
          "paper_bgcolor": "white",
          "plot_bgcolor": "#E5ECF6",
          "polar": {
           "angularaxis": {
            "gridcolor": "white",
            "linecolor": "white",
            "ticks": ""
           },
           "bgcolor": "#E5ECF6",
           "radialaxis": {
            "gridcolor": "white",
            "linecolor": "white",
            "ticks": ""
           }
          },
          "scene": {
           "xaxis": {
            "backgroundcolor": "#E5ECF6",
            "gridcolor": "white",
            "gridwidth": 2,
            "linecolor": "white",
            "showbackground": true,
            "ticks": "",
            "zerolinecolor": "white"
           },
           "yaxis": {
            "backgroundcolor": "#E5ECF6",
            "gridcolor": "white",
            "gridwidth": 2,
            "linecolor": "white",
            "showbackground": true,
            "ticks": "",
            "zerolinecolor": "white"
           },
           "zaxis": {
            "backgroundcolor": "#E5ECF6",
            "gridcolor": "white",
            "gridwidth": 2,
            "linecolor": "white",
            "showbackground": true,
            "ticks": "",
            "zerolinecolor": "white"
           }
          },
          "shapedefaults": {
           "line": {
            "color": "#2a3f5f"
           }
          },
          "ternary": {
           "aaxis": {
            "gridcolor": "white",
            "linecolor": "white",
            "ticks": ""
           },
           "baxis": {
            "gridcolor": "white",
            "linecolor": "white",
            "ticks": ""
           },
           "bgcolor": "#E5ECF6",
           "caxis": {
            "gridcolor": "white",
            "linecolor": "white",
            "ticks": ""
           }
          },
          "title": {
           "x": 0.05
          },
          "xaxis": {
           "automargin": true,
           "gridcolor": "white",
           "linecolor": "white",
           "ticks": "",
           "title": {
            "standoff": 15
           },
           "zerolinecolor": "white",
           "zerolinewidth": 2
          },
          "yaxis": {
           "automargin": true,
           "gridcolor": "white",
           "linecolor": "white",
           "ticks": "",
           "title": {
            "standoff": 15
           },
           "zerolinecolor": "white",
           "zerolinewidth": 2
          }
         }
        },
        "xaxis": {
         "anchor": "y",
         "constrain": "domain",
         "domain": [
          0,
          1
         ],
         "scaleanchor": "y",
         "side": "top",
         "title": {
          "text": "collision_in_tool (Predicted)"
         }
        },
        "yaxis": {
         "anchor": "x",
         "autorange": "reversed",
         "constrain": "domain",
         "domain": [
          0,
          1
         ],
         "title": {
          "text": "collision_in_tool"
         }
        }
       }
      }
     },
     "metadata": {},
     "output_type": "display_data"
    },
    {
     "data": {
      "application/vnd.plotly.v1+json": {
       "config": {
        "plotlyServerURL": "https://plot.ly"
       },
       "data": [
        {
         "coloraxis": "coloraxis",
         "hovertemplate": "collision_in_part (Predicted): %{x}<br>collision_in_part: %{y}<br>color: %{z}<extra></extra>",
         "name": "0",
         "texttemplate": "%{z}",
         "type": "heatmap",
         "x": [
          "Negative",
          "-Positive"
         ],
         "xaxis": "x",
         "y": [
          "True",
          "False"
         ],
         "yaxis": "y",
         "z": [
          [
           85,
           35
          ],
          [
           0,
           44
          ]
         ]
        }
       ],
       "layout": {
        "coloraxis": {
         "colorscale": [
          [
           0,
           "rgb(255,255,255)"
          ],
          [
           0.125,
           "rgb(240,240,240)"
          ],
          [
           0.25,
           "rgb(217,217,217)"
          ],
          [
           0.375,
           "rgb(189,189,189)"
          ],
          [
           0.5,
           "rgb(150,150,150)"
          ],
          [
           0.625,
           "rgb(115,115,115)"
          ],
          [
           0.75,
           "rgb(82,82,82)"
          ],
          [
           0.875,
           "rgb(37,37,37)"
          ],
          [
           1,
           "rgb(0,0,0)"
          ]
         ]
        },
        "margin": {
         "t": 60
        },
        "template": {
         "data": {
          "bar": [
           {
            "error_x": {
             "color": "#2a3f5f"
            },
            "error_y": {
             "color": "#2a3f5f"
            },
            "marker": {
             "line": {
              "color": "#E5ECF6",
              "width": 0.5
             },
             "pattern": {
              "fillmode": "overlay",
              "size": 10,
              "solidity": 0.2
             }
            },
            "type": "bar"
           }
          ],
          "barpolar": [
           {
            "marker": {
             "line": {
              "color": "#E5ECF6",
              "width": 0.5
             },
             "pattern": {
              "fillmode": "overlay",
              "size": 10,
              "solidity": 0.2
             }
            },
            "type": "barpolar"
           }
          ],
          "carpet": [
           {
            "aaxis": {
             "endlinecolor": "#2a3f5f",
             "gridcolor": "white",
             "linecolor": "white",
             "minorgridcolor": "white",
             "startlinecolor": "#2a3f5f"
            },
            "baxis": {
             "endlinecolor": "#2a3f5f",
             "gridcolor": "white",
             "linecolor": "white",
             "minorgridcolor": "white",
             "startlinecolor": "#2a3f5f"
            },
            "type": "carpet"
           }
          ],
          "choropleth": [
           {
            "colorbar": {
             "outlinewidth": 0,
             "ticks": ""
            },
            "type": "choropleth"
           }
          ],
          "contour": [
           {
            "colorbar": {
             "outlinewidth": 0,
             "ticks": ""
            },
            "colorscale": [
             [
              0,
              "#0d0887"
             ],
             [
              0.1111111111111111,
              "#46039f"
             ],
             [
              0.2222222222222222,
              "#7201a8"
             ],
             [
              0.3333333333333333,
              "#9c179e"
             ],
             [
              0.4444444444444444,
              "#bd3786"
             ],
             [
              0.5555555555555556,
              "#d8576b"
             ],
             [
              0.6666666666666666,
              "#ed7953"
             ],
             [
              0.7777777777777778,
              "#fb9f3a"
             ],
             [
              0.8888888888888888,
              "#fdca26"
             ],
             [
              1,
              "#f0f921"
             ]
            ],
            "type": "contour"
           }
          ],
          "contourcarpet": [
           {
            "colorbar": {
             "outlinewidth": 0,
             "ticks": ""
            },
            "type": "contourcarpet"
           }
          ],
          "heatmap": [
           {
            "colorbar": {
             "outlinewidth": 0,
             "ticks": ""
            },
            "colorscale": [
             [
              0,
              "#0d0887"
             ],
             [
              0.1111111111111111,
              "#46039f"
             ],
             [
              0.2222222222222222,
              "#7201a8"
             ],
             [
              0.3333333333333333,
              "#9c179e"
             ],
             [
              0.4444444444444444,
              "#bd3786"
             ],
             [
              0.5555555555555556,
              "#d8576b"
             ],
             [
              0.6666666666666666,
              "#ed7953"
             ],
             [
              0.7777777777777778,
              "#fb9f3a"
             ],
             [
              0.8888888888888888,
              "#fdca26"
             ],
             [
              1,
              "#f0f921"
             ]
            ],
            "type": "heatmap"
           }
          ],
          "heatmapgl": [
           {
            "colorbar": {
             "outlinewidth": 0,
             "ticks": ""
            },
            "colorscale": [
             [
              0,
              "#0d0887"
             ],
             [
              0.1111111111111111,
              "#46039f"
             ],
             [
              0.2222222222222222,
              "#7201a8"
             ],
             [
              0.3333333333333333,
              "#9c179e"
             ],
             [
              0.4444444444444444,
              "#bd3786"
             ],
             [
              0.5555555555555556,
              "#d8576b"
             ],
             [
              0.6666666666666666,
              "#ed7953"
             ],
             [
              0.7777777777777778,
              "#fb9f3a"
             ],
             [
              0.8888888888888888,
              "#fdca26"
             ],
             [
              1,
              "#f0f921"
             ]
            ],
            "type": "heatmapgl"
           }
          ],
          "histogram": [
           {
            "marker": {
             "pattern": {
              "fillmode": "overlay",
              "size": 10,
              "solidity": 0.2
             }
            },
            "type": "histogram"
           }
          ],
          "histogram2d": [
           {
            "colorbar": {
             "outlinewidth": 0,
             "ticks": ""
            },
            "colorscale": [
             [
              0,
              "#0d0887"
             ],
             [
              0.1111111111111111,
              "#46039f"
             ],
             [
              0.2222222222222222,
              "#7201a8"
             ],
             [
              0.3333333333333333,
              "#9c179e"
             ],
             [
              0.4444444444444444,
              "#bd3786"
             ],
             [
              0.5555555555555556,
              "#d8576b"
             ],
             [
              0.6666666666666666,
              "#ed7953"
             ],
             [
              0.7777777777777778,
              "#fb9f3a"
             ],
             [
              0.8888888888888888,
              "#fdca26"
             ],
             [
              1,
              "#f0f921"
             ]
            ],
            "type": "histogram2d"
           }
          ],
          "histogram2dcontour": [
           {
            "colorbar": {
             "outlinewidth": 0,
             "ticks": ""
            },
            "colorscale": [
             [
              0,
              "#0d0887"
             ],
             [
              0.1111111111111111,
              "#46039f"
             ],
             [
              0.2222222222222222,
              "#7201a8"
             ],
             [
              0.3333333333333333,
              "#9c179e"
             ],
             [
              0.4444444444444444,
              "#bd3786"
             ],
             [
              0.5555555555555556,
              "#d8576b"
             ],
             [
              0.6666666666666666,
              "#ed7953"
             ],
             [
              0.7777777777777778,
              "#fb9f3a"
             ],
             [
              0.8888888888888888,
              "#fdca26"
             ],
             [
              1,
              "#f0f921"
             ]
            ],
            "type": "histogram2dcontour"
           }
          ],
          "mesh3d": [
           {
            "colorbar": {
             "outlinewidth": 0,
             "ticks": ""
            },
            "type": "mesh3d"
           }
          ],
          "parcoords": [
           {
            "line": {
             "colorbar": {
              "outlinewidth": 0,
              "ticks": ""
             }
            },
            "type": "parcoords"
           }
          ],
          "pie": [
           {
            "automargin": true,
            "type": "pie"
           }
          ],
          "scatter": [
           {
            "fillpattern": {
             "fillmode": "overlay",
             "size": 10,
             "solidity": 0.2
            },
            "type": "scatter"
           }
          ],
          "scatter3d": [
           {
            "line": {
             "colorbar": {
              "outlinewidth": 0,
              "ticks": ""
             }
            },
            "marker": {
             "colorbar": {
              "outlinewidth": 0,
              "ticks": ""
             }
            },
            "type": "scatter3d"
           }
          ],
          "scattercarpet": [
           {
            "marker": {
             "colorbar": {
              "outlinewidth": 0,
              "ticks": ""
             }
            },
            "type": "scattercarpet"
           }
          ],
          "scattergeo": [
           {
            "marker": {
             "colorbar": {
              "outlinewidth": 0,
              "ticks": ""
             }
            },
            "type": "scattergeo"
           }
          ],
          "scattergl": [
           {
            "marker": {
             "colorbar": {
              "outlinewidth": 0,
              "ticks": ""
             }
            },
            "type": "scattergl"
           }
          ],
          "scattermapbox": [
           {
            "marker": {
             "colorbar": {
              "outlinewidth": 0,
              "ticks": ""
             }
            },
            "type": "scattermapbox"
           }
          ],
          "scatterpolar": [
           {
            "marker": {
             "colorbar": {
              "outlinewidth": 0,
              "ticks": ""
             }
            },
            "type": "scatterpolar"
           }
          ],
          "scatterpolargl": [
           {
            "marker": {
             "colorbar": {
              "outlinewidth": 0,
              "ticks": ""
             }
            },
            "type": "scatterpolargl"
           }
          ],
          "scatterternary": [
           {
            "marker": {
             "colorbar": {
              "outlinewidth": 0,
              "ticks": ""
             }
            },
            "type": "scatterternary"
           }
          ],
          "surface": [
           {
            "colorbar": {
             "outlinewidth": 0,
             "ticks": ""
            },
            "colorscale": [
             [
              0,
              "#0d0887"
             ],
             [
              0.1111111111111111,
              "#46039f"
             ],
             [
              0.2222222222222222,
              "#7201a8"
             ],
             [
              0.3333333333333333,
              "#9c179e"
             ],
             [
              0.4444444444444444,
              "#bd3786"
             ],
             [
              0.5555555555555556,
              "#d8576b"
             ],
             [
              0.6666666666666666,
              "#ed7953"
             ],
             [
              0.7777777777777778,
              "#fb9f3a"
             ],
             [
              0.8888888888888888,
              "#fdca26"
             ],
             [
              1,
              "#f0f921"
             ]
            ],
            "type": "surface"
           }
          ],
          "table": [
           {
            "cells": {
             "fill": {
              "color": "#EBF0F8"
             },
             "line": {
              "color": "white"
             }
            },
            "header": {
             "fill": {
              "color": "#C8D4E3"
             },
             "line": {
              "color": "white"
             }
            },
            "type": "table"
           }
          ]
         },
         "layout": {
          "annotationdefaults": {
           "arrowcolor": "#2a3f5f",
           "arrowhead": 0,
           "arrowwidth": 1
          },
          "autotypenumbers": "strict",
          "coloraxis": {
           "colorbar": {
            "outlinewidth": 0,
            "ticks": ""
           }
          },
          "colorscale": {
           "diverging": [
            [
             0,
             "#8e0152"
            ],
            [
             0.1,
             "#c51b7d"
            ],
            [
             0.2,
             "#de77ae"
            ],
            [
             0.3,
             "#f1b6da"
            ],
            [
             0.4,
             "#fde0ef"
            ],
            [
             0.5,
             "#f7f7f7"
            ],
            [
             0.6,
             "#e6f5d0"
            ],
            [
             0.7,
             "#b8e186"
            ],
            [
             0.8,
             "#7fbc41"
            ],
            [
             0.9,
             "#4d9221"
            ],
            [
             1,
             "#276419"
            ]
           ],
           "sequential": [
            [
             0,
             "#0d0887"
            ],
            [
             0.1111111111111111,
             "#46039f"
            ],
            [
             0.2222222222222222,
             "#7201a8"
            ],
            [
             0.3333333333333333,
             "#9c179e"
            ],
            [
             0.4444444444444444,
             "#bd3786"
            ],
            [
             0.5555555555555556,
             "#d8576b"
            ],
            [
             0.6666666666666666,
             "#ed7953"
            ],
            [
             0.7777777777777778,
             "#fb9f3a"
            ],
            [
             0.8888888888888888,
             "#fdca26"
            ],
            [
             1,
             "#f0f921"
            ]
           ],
           "sequentialminus": [
            [
             0,
             "#0d0887"
            ],
            [
             0.1111111111111111,
             "#46039f"
            ],
            [
             0.2222222222222222,
             "#7201a8"
            ],
            [
             0.3333333333333333,
             "#9c179e"
            ],
            [
             0.4444444444444444,
             "#bd3786"
            ],
            [
             0.5555555555555556,
             "#d8576b"
            ],
            [
             0.6666666666666666,
             "#ed7953"
            ],
            [
             0.7777777777777778,
             "#fb9f3a"
            ],
            [
             0.8888888888888888,
             "#fdca26"
            ],
            [
             1,
             "#f0f921"
            ]
           ]
          },
          "colorway": [
           "#636efa",
           "#EF553B",
           "#00cc96",
           "#ab63fa",
           "#FFA15A",
           "#19d3f3",
           "#FF6692",
           "#B6E880",
           "#FF97FF",
           "#FECB52"
          ],
          "font": {
           "color": "#2a3f5f"
          },
          "geo": {
           "bgcolor": "white",
           "lakecolor": "white",
           "landcolor": "#E5ECF6",
           "showlakes": true,
           "showland": true,
           "subunitcolor": "white"
          },
          "hoverlabel": {
           "align": "left"
          },
          "hovermode": "closest",
          "mapbox": {
           "style": "light"
          },
          "paper_bgcolor": "white",
          "plot_bgcolor": "#E5ECF6",
          "polar": {
           "angularaxis": {
            "gridcolor": "white",
            "linecolor": "white",
            "ticks": ""
           },
           "bgcolor": "#E5ECF6",
           "radialaxis": {
            "gridcolor": "white",
            "linecolor": "white",
            "ticks": ""
           }
          },
          "scene": {
           "xaxis": {
            "backgroundcolor": "#E5ECF6",
            "gridcolor": "white",
            "gridwidth": 2,
            "linecolor": "white",
            "showbackground": true,
            "ticks": "",
            "zerolinecolor": "white"
           },
           "yaxis": {
            "backgroundcolor": "#E5ECF6",
            "gridcolor": "white",
            "gridwidth": 2,
            "linecolor": "white",
            "showbackground": true,
            "ticks": "",
            "zerolinecolor": "white"
           },
           "zaxis": {
            "backgroundcolor": "#E5ECF6",
            "gridcolor": "white",
            "gridwidth": 2,
            "linecolor": "white",
            "showbackground": true,
            "ticks": "",
            "zerolinecolor": "white"
           }
          },
          "shapedefaults": {
           "line": {
            "color": "#2a3f5f"
           }
          },
          "ternary": {
           "aaxis": {
            "gridcolor": "white",
            "linecolor": "white",
            "ticks": ""
           },
           "baxis": {
            "gridcolor": "white",
            "linecolor": "white",
            "ticks": ""
           },
           "bgcolor": "#E5ECF6",
           "caxis": {
            "gridcolor": "white",
            "linecolor": "white",
            "ticks": ""
           }
          },
          "title": {
           "x": 0.05
          },
          "xaxis": {
           "automargin": true,
           "gridcolor": "white",
           "linecolor": "white",
           "ticks": "",
           "title": {
            "standoff": 15
           },
           "zerolinecolor": "white",
           "zerolinewidth": 2
          },
          "yaxis": {
           "automargin": true,
           "gridcolor": "white",
           "linecolor": "white",
           "ticks": "",
           "title": {
            "standoff": 15
           },
           "zerolinecolor": "white",
           "zerolinewidth": 2
          }
         }
        },
        "xaxis": {
         "anchor": "y",
         "constrain": "domain",
         "domain": [
          0,
          1
         ],
         "scaleanchor": "y",
         "side": "top",
         "title": {
          "text": "collision_in_part (Predicted)"
         }
        },
        "yaxis": {
         "anchor": "x",
         "autorange": "reversed",
         "constrain": "domain",
         "domain": [
          0,
          1
         ],
         "title": {
          "text": "collision_in_part"
         }
        }
       }
      }
     },
     "metadata": {},
     "output_type": "display_data"
    },
    {
     "data": {
      "application/vnd.plotly.v1+json": {
       "config": {
        "plotlyServerURL": "https://plot.ly"
       },
       "data": [
        {
         "coloraxis": "coloraxis",
         "hovertemplate": "bottom_collision (Predicted): %{x}<br>bottom_collision: %{y}<br>color: %{z}<extra></extra>",
         "name": "0",
         "texttemplate": "%{z}",
         "type": "heatmap",
         "x": [
          "Negative",
          "-Positive"
         ],
         "xaxis": "x",
         "y": [
          "True",
          "False"
         ],
         "yaxis": "y",
         "z": [
          [
           85,
           35
          ],
          [
           0,
           44
          ]
         ]
        }
       ],
       "layout": {
        "coloraxis": {
         "colorscale": [
          [
           0,
           "rgb(255,255,255)"
          ],
          [
           0.125,
           "rgb(240,240,240)"
          ],
          [
           0.25,
           "rgb(217,217,217)"
          ],
          [
           0.375,
           "rgb(189,189,189)"
          ],
          [
           0.5,
           "rgb(150,150,150)"
          ],
          [
           0.625,
           "rgb(115,115,115)"
          ],
          [
           0.75,
           "rgb(82,82,82)"
          ],
          [
           0.875,
           "rgb(37,37,37)"
          ],
          [
           1,
           "rgb(0,0,0)"
          ]
         ]
        },
        "margin": {
         "t": 60
        },
        "template": {
         "data": {
          "bar": [
           {
            "error_x": {
             "color": "#2a3f5f"
            },
            "error_y": {
             "color": "#2a3f5f"
            },
            "marker": {
             "line": {
              "color": "#E5ECF6",
              "width": 0.5
             },
             "pattern": {
              "fillmode": "overlay",
              "size": 10,
              "solidity": 0.2
             }
            },
            "type": "bar"
           }
          ],
          "barpolar": [
           {
            "marker": {
             "line": {
              "color": "#E5ECF6",
              "width": 0.5
             },
             "pattern": {
              "fillmode": "overlay",
              "size": 10,
              "solidity": 0.2
             }
            },
            "type": "barpolar"
           }
          ],
          "carpet": [
           {
            "aaxis": {
             "endlinecolor": "#2a3f5f",
             "gridcolor": "white",
             "linecolor": "white",
             "minorgridcolor": "white",
             "startlinecolor": "#2a3f5f"
            },
            "baxis": {
             "endlinecolor": "#2a3f5f",
             "gridcolor": "white",
             "linecolor": "white",
             "minorgridcolor": "white",
             "startlinecolor": "#2a3f5f"
            },
            "type": "carpet"
           }
          ],
          "choropleth": [
           {
            "colorbar": {
             "outlinewidth": 0,
             "ticks": ""
            },
            "type": "choropleth"
           }
          ],
          "contour": [
           {
            "colorbar": {
             "outlinewidth": 0,
             "ticks": ""
            },
            "colorscale": [
             [
              0,
              "#0d0887"
             ],
             [
              0.1111111111111111,
              "#46039f"
             ],
             [
              0.2222222222222222,
              "#7201a8"
             ],
             [
              0.3333333333333333,
              "#9c179e"
             ],
             [
              0.4444444444444444,
              "#bd3786"
             ],
             [
              0.5555555555555556,
              "#d8576b"
             ],
             [
              0.6666666666666666,
              "#ed7953"
             ],
             [
              0.7777777777777778,
              "#fb9f3a"
             ],
             [
              0.8888888888888888,
              "#fdca26"
             ],
             [
              1,
              "#f0f921"
             ]
            ],
            "type": "contour"
           }
          ],
          "contourcarpet": [
           {
            "colorbar": {
             "outlinewidth": 0,
             "ticks": ""
            },
            "type": "contourcarpet"
           }
          ],
          "heatmap": [
           {
            "colorbar": {
             "outlinewidth": 0,
             "ticks": ""
            },
            "colorscale": [
             [
              0,
              "#0d0887"
             ],
             [
              0.1111111111111111,
              "#46039f"
             ],
             [
              0.2222222222222222,
              "#7201a8"
             ],
             [
              0.3333333333333333,
              "#9c179e"
             ],
             [
              0.4444444444444444,
              "#bd3786"
             ],
             [
              0.5555555555555556,
              "#d8576b"
             ],
             [
              0.6666666666666666,
              "#ed7953"
             ],
             [
              0.7777777777777778,
              "#fb9f3a"
             ],
             [
              0.8888888888888888,
              "#fdca26"
             ],
             [
              1,
              "#f0f921"
             ]
            ],
            "type": "heatmap"
           }
          ],
          "heatmapgl": [
           {
            "colorbar": {
             "outlinewidth": 0,
             "ticks": ""
            },
            "colorscale": [
             [
              0,
              "#0d0887"
             ],
             [
              0.1111111111111111,
              "#46039f"
             ],
             [
              0.2222222222222222,
              "#7201a8"
             ],
             [
              0.3333333333333333,
              "#9c179e"
             ],
             [
              0.4444444444444444,
              "#bd3786"
             ],
             [
              0.5555555555555556,
              "#d8576b"
             ],
             [
              0.6666666666666666,
              "#ed7953"
             ],
             [
              0.7777777777777778,
              "#fb9f3a"
             ],
             [
              0.8888888888888888,
              "#fdca26"
             ],
             [
              1,
              "#f0f921"
             ]
            ],
            "type": "heatmapgl"
           }
          ],
          "histogram": [
           {
            "marker": {
             "pattern": {
              "fillmode": "overlay",
              "size": 10,
              "solidity": 0.2
             }
            },
            "type": "histogram"
           }
          ],
          "histogram2d": [
           {
            "colorbar": {
             "outlinewidth": 0,
             "ticks": ""
            },
            "colorscale": [
             [
              0,
              "#0d0887"
             ],
             [
              0.1111111111111111,
              "#46039f"
             ],
             [
              0.2222222222222222,
              "#7201a8"
             ],
             [
              0.3333333333333333,
              "#9c179e"
             ],
             [
              0.4444444444444444,
              "#bd3786"
             ],
             [
              0.5555555555555556,
              "#d8576b"
             ],
             [
              0.6666666666666666,
              "#ed7953"
             ],
             [
              0.7777777777777778,
              "#fb9f3a"
             ],
             [
              0.8888888888888888,
              "#fdca26"
             ],
             [
              1,
              "#f0f921"
             ]
            ],
            "type": "histogram2d"
           }
          ],
          "histogram2dcontour": [
           {
            "colorbar": {
             "outlinewidth": 0,
             "ticks": ""
            },
            "colorscale": [
             [
              0,
              "#0d0887"
             ],
             [
              0.1111111111111111,
              "#46039f"
             ],
             [
              0.2222222222222222,
              "#7201a8"
             ],
             [
              0.3333333333333333,
              "#9c179e"
             ],
             [
              0.4444444444444444,
              "#bd3786"
             ],
             [
              0.5555555555555556,
              "#d8576b"
             ],
             [
              0.6666666666666666,
              "#ed7953"
             ],
             [
              0.7777777777777778,
              "#fb9f3a"
             ],
             [
              0.8888888888888888,
              "#fdca26"
             ],
             [
              1,
              "#f0f921"
             ]
            ],
            "type": "histogram2dcontour"
           }
          ],
          "mesh3d": [
           {
            "colorbar": {
             "outlinewidth": 0,
             "ticks": ""
            },
            "type": "mesh3d"
           }
          ],
          "parcoords": [
           {
            "line": {
             "colorbar": {
              "outlinewidth": 0,
              "ticks": ""
             }
            },
            "type": "parcoords"
           }
          ],
          "pie": [
           {
            "automargin": true,
            "type": "pie"
           }
          ],
          "scatter": [
           {
            "fillpattern": {
             "fillmode": "overlay",
             "size": 10,
             "solidity": 0.2
            },
            "type": "scatter"
           }
          ],
          "scatter3d": [
           {
            "line": {
             "colorbar": {
              "outlinewidth": 0,
              "ticks": ""
             }
            },
            "marker": {
             "colorbar": {
              "outlinewidth": 0,
              "ticks": ""
             }
            },
            "type": "scatter3d"
           }
          ],
          "scattercarpet": [
           {
            "marker": {
             "colorbar": {
              "outlinewidth": 0,
              "ticks": ""
             }
            },
            "type": "scattercarpet"
           }
          ],
          "scattergeo": [
           {
            "marker": {
             "colorbar": {
              "outlinewidth": 0,
              "ticks": ""
             }
            },
            "type": "scattergeo"
           }
          ],
          "scattergl": [
           {
            "marker": {
             "colorbar": {
              "outlinewidth": 0,
              "ticks": ""
             }
            },
            "type": "scattergl"
           }
          ],
          "scattermapbox": [
           {
            "marker": {
             "colorbar": {
              "outlinewidth": 0,
              "ticks": ""
             }
            },
            "type": "scattermapbox"
           }
          ],
          "scatterpolar": [
           {
            "marker": {
             "colorbar": {
              "outlinewidth": 0,
              "ticks": ""
             }
            },
            "type": "scatterpolar"
           }
          ],
          "scatterpolargl": [
           {
            "marker": {
             "colorbar": {
              "outlinewidth": 0,
              "ticks": ""
             }
            },
            "type": "scatterpolargl"
           }
          ],
          "scatterternary": [
           {
            "marker": {
             "colorbar": {
              "outlinewidth": 0,
              "ticks": ""
             }
            },
            "type": "scatterternary"
           }
          ],
          "surface": [
           {
            "colorbar": {
             "outlinewidth": 0,
             "ticks": ""
            },
            "colorscale": [
             [
              0,
              "#0d0887"
             ],
             [
              0.1111111111111111,
              "#46039f"
             ],
             [
              0.2222222222222222,
              "#7201a8"
             ],
             [
              0.3333333333333333,
              "#9c179e"
             ],
             [
              0.4444444444444444,
              "#bd3786"
             ],
             [
              0.5555555555555556,
              "#d8576b"
             ],
             [
              0.6666666666666666,
              "#ed7953"
             ],
             [
              0.7777777777777778,
              "#fb9f3a"
             ],
             [
              0.8888888888888888,
              "#fdca26"
             ],
             [
              1,
              "#f0f921"
             ]
            ],
            "type": "surface"
           }
          ],
          "table": [
           {
            "cells": {
             "fill": {
              "color": "#EBF0F8"
             },
             "line": {
              "color": "white"
             }
            },
            "header": {
             "fill": {
              "color": "#C8D4E3"
             },
             "line": {
              "color": "white"
             }
            },
            "type": "table"
           }
          ]
         },
         "layout": {
          "annotationdefaults": {
           "arrowcolor": "#2a3f5f",
           "arrowhead": 0,
           "arrowwidth": 1
          },
          "autotypenumbers": "strict",
          "coloraxis": {
           "colorbar": {
            "outlinewidth": 0,
            "ticks": ""
           }
          },
          "colorscale": {
           "diverging": [
            [
             0,
             "#8e0152"
            ],
            [
             0.1,
             "#c51b7d"
            ],
            [
             0.2,
             "#de77ae"
            ],
            [
             0.3,
             "#f1b6da"
            ],
            [
             0.4,
             "#fde0ef"
            ],
            [
             0.5,
             "#f7f7f7"
            ],
            [
             0.6,
             "#e6f5d0"
            ],
            [
             0.7,
             "#b8e186"
            ],
            [
             0.8,
             "#7fbc41"
            ],
            [
             0.9,
             "#4d9221"
            ],
            [
             1,
             "#276419"
            ]
           ],
           "sequential": [
            [
             0,
             "#0d0887"
            ],
            [
             0.1111111111111111,
             "#46039f"
            ],
            [
             0.2222222222222222,
             "#7201a8"
            ],
            [
             0.3333333333333333,
             "#9c179e"
            ],
            [
             0.4444444444444444,
             "#bd3786"
            ],
            [
             0.5555555555555556,
             "#d8576b"
            ],
            [
             0.6666666666666666,
             "#ed7953"
            ],
            [
             0.7777777777777778,
             "#fb9f3a"
            ],
            [
             0.8888888888888888,
             "#fdca26"
            ],
            [
             1,
             "#f0f921"
            ]
           ],
           "sequentialminus": [
            [
             0,
             "#0d0887"
            ],
            [
             0.1111111111111111,
             "#46039f"
            ],
            [
             0.2222222222222222,
             "#7201a8"
            ],
            [
             0.3333333333333333,
             "#9c179e"
            ],
            [
             0.4444444444444444,
             "#bd3786"
            ],
            [
             0.5555555555555556,
             "#d8576b"
            ],
            [
             0.6666666666666666,
             "#ed7953"
            ],
            [
             0.7777777777777778,
             "#fb9f3a"
            ],
            [
             0.8888888888888888,
             "#fdca26"
            ],
            [
             1,
             "#f0f921"
            ]
           ]
          },
          "colorway": [
           "#636efa",
           "#EF553B",
           "#00cc96",
           "#ab63fa",
           "#FFA15A",
           "#19d3f3",
           "#FF6692",
           "#B6E880",
           "#FF97FF",
           "#FECB52"
          ],
          "font": {
           "color": "#2a3f5f"
          },
          "geo": {
           "bgcolor": "white",
           "lakecolor": "white",
           "landcolor": "#E5ECF6",
           "showlakes": true,
           "showland": true,
           "subunitcolor": "white"
          },
          "hoverlabel": {
           "align": "left"
          },
          "hovermode": "closest",
          "mapbox": {
           "style": "light"
          },
          "paper_bgcolor": "white",
          "plot_bgcolor": "#E5ECF6",
          "polar": {
           "angularaxis": {
            "gridcolor": "white",
            "linecolor": "white",
            "ticks": ""
           },
           "bgcolor": "#E5ECF6",
           "radialaxis": {
            "gridcolor": "white",
            "linecolor": "white",
            "ticks": ""
           }
          },
          "scene": {
           "xaxis": {
            "backgroundcolor": "#E5ECF6",
            "gridcolor": "white",
            "gridwidth": 2,
            "linecolor": "white",
            "showbackground": true,
            "ticks": "",
            "zerolinecolor": "white"
           },
           "yaxis": {
            "backgroundcolor": "#E5ECF6",
            "gridcolor": "white",
            "gridwidth": 2,
            "linecolor": "white",
            "showbackground": true,
            "ticks": "",
            "zerolinecolor": "white"
           },
           "zaxis": {
            "backgroundcolor": "#E5ECF6",
            "gridcolor": "white",
            "gridwidth": 2,
            "linecolor": "white",
            "showbackground": true,
            "ticks": "",
            "zerolinecolor": "white"
           }
          },
          "shapedefaults": {
           "line": {
            "color": "#2a3f5f"
           }
          },
          "ternary": {
           "aaxis": {
            "gridcolor": "white",
            "linecolor": "white",
            "ticks": ""
           },
           "baxis": {
            "gridcolor": "white",
            "linecolor": "white",
            "ticks": ""
           },
           "bgcolor": "#E5ECF6",
           "caxis": {
            "gridcolor": "white",
            "linecolor": "white",
            "ticks": ""
           }
          },
          "title": {
           "x": 0.05
          },
          "xaxis": {
           "automargin": true,
           "gridcolor": "white",
           "linecolor": "white",
           "ticks": "",
           "title": {
            "standoff": 15
           },
           "zerolinecolor": "white",
           "zerolinewidth": 2
          },
          "yaxis": {
           "automargin": true,
           "gridcolor": "white",
           "linecolor": "white",
           "ticks": "",
           "title": {
            "standoff": 15
           },
           "zerolinecolor": "white",
           "zerolinewidth": 2
          }
         }
        },
        "xaxis": {
         "anchor": "y",
         "constrain": "domain",
         "domain": [
          0,
          1
         ],
         "scaleanchor": "y",
         "side": "top",
         "title": {
          "text": "bottom_collision (Predicted)"
         }
        },
        "yaxis": {
         "anchor": "x",
         "autorange": "reversed",
         "constrain": "domain",
         "domain": [
          0,
          1
         ],
         "title": {
          "text": "bottom_collision"
         }
        }
       }
      }
     },
     "metadata": {},
     "output_type": "display_data"
    },
    {
     "data": {
      "application/vnd.plotly.v1+json": {
       "config": {
        "plotlyServerURL": "https://plot.ly"
       },
       "data": [
        {
         "coloraxis": "coloraxis",
         "hovertemplate": "bottom_obstruction (Predicted): %{x}<br>bottom_obstruction: %{y}<br>color: %{z}<extra></extra>",
         "name": "0",
         "texttemplate": "%{z}",
         "type": "heatmap",
         "x": [
          "Negative",
          "-Positive"
         ],
         "xaxis": "x",
         "y": [
          "True",
          "False"
         ],
         "yaxis": "y",
         "z": [
          [
           85,
           35
          ],
          [
           0,
           44
          ]
         ]
        }
       ],
       "layout": {
        "coloraxis": {
         "colorscale": [
          [
           0,
           "rgb(255,255,255)"
          ],
          [
           0.125,
           "rgb(240,240,240)"
          ],
          [
           0.25,
           "rgb(217,217,217)"
          ],
          [
           0.375,
           "rgb(189,189,189)"
          ],
          [
           0.5,
           "rgb(150,150,150)"
          ],
          [
           0.625,
           "rgb(115,115,115)"
          ],
          [
           0.75,
           "rgb(82,82,82)"
          ],
          [
           0.875,
           "rgb(37,37,37)"
          ],
          [
           1,
           "rgb(0,0,0)"
          ]
         ]
        },
        "margin": {
         "t": 60
        },
        "template": {
         "data": {
          "bar": [
           {
            "error_x": {
             "color": "#2a3f5f"
            },
            "error_y": {
             "color": "#2a3f5f"
            },
            "marker": {
             "line": {
              "color": "#E5ECF6",
              "width": 0.5
             },
             "pattern": {
              "fillmode": "overlay",
              "size": 10,
              "solidity": 0.2
             }
            },
            "type": "bar"
           }
          ],
          "barpolar": [
           {
            "marker": {
             "line": {
              "color": "#E5ECF6",
              "width": 0.5
             },
             "pattern": {
              "fillmode": "overlay",
              "size": 10,
              "solidity": 0.2
             }
            },
            "type": "barpolar"
           }
          ],
          "carpet": [
           {
            "aaxis": {
             "endlinecolor": "#2a3f5f",
             "gridcolor": "white",
             "linecolor": "white",
             "minorgridcolor": "white",
             "startlinecolor": "#2a3f5f"
            },
            "baxis": {
             "endlinecolor": "#2a3f5f",
             "gridcolor": "white",
             "linecolor": "white",
             "minorgridcolor": "white",
             "startlinecolor": "#2a3f5f"
            },
            "type": "carpet"
           }
          ],
          "choropleth": [
           {
            "colorbar": {
             "outlinewidth": 0,
             "ticks": ""
            },
            "type": "choropleth"
           }
          ],
          "contour": [
           {
            "colorbar": {
             "outlinewidth": 0,
             "ticks": ""
            },
            "colorscale": [
             [
              0,
              "#0d0887"
             ],
             [
              0.1111111111111111,
              "#46039f"
             ],
             [
              0.2222222222222222,
              "#7201a8"
             ],
             [
              0.3333333333333333,
              "#9c179e"
             ],
             [
              0.4444444444444444,
              "#bd3786"
             ],
             [
              0.5555555555555556,
              "#d8576b"
             ],
             [
              0.6666666666666666,
              "#ed7953"
             ],
             [
              0.7777777777777778,
              "#fb9f3a"
             ],
             [
              0.8888888888888888,
              "#fdca26"
             ],
             [
              1,
              "#f0f921"
             ]
            ],
            "type": "contour"
           }
          ],
          "contourcarpet": [
           {
            "colorbar": {
             "outlinewidth": 0,
             "ticks": ""
            },
            "type": "contourcarpet"
           }
          ],
          "heatmap": [
           {
            "colorbar": {
             "outlinewidth": 0,
             "ticks": ""
            },
            "colorscale": [
             [
              0,
              "#0d0887"
             ],
             [
              0.1111111111111111,
              "#46039f"
             ],
             [
              0.2222222222222222,
              "#7201a8"
             ],
             [
              0.3333333333333333,
              "#9c179e"
             ],
             [
              0.4444444444444444,
              "#bd3786"
             ],
             [
              0.5555555555555556,
              "#d8576b"
             ],
             [
              0.6666666666666666,
              "#ed7953"
             ],
             [
              0.7777777777777778,
              "#fb9f3a"
             ],
             [
              0.8888888888888888,
              "#fdca26"
             ],
             [
              1,
              "#f0f921"
             ]
            ],
            "type": "heatmap"
           }
          ],
          "heatmapgl": [
           {
            "colorbar": {
             "outlinewidth": 0,
             "ticks": ""
            },
            "colorscale": [
             [
              0,
              "#0d0887"
             ],
             [
              0.1111111111111111,
              "#46039f"
             ],
             [
              0.2222222222222222,
              "#7201a8"
             ],
             [
              0.3333333333333333,
              "#9c179e"
             ],
             [
              0.4444444444444444,
              "#bd3786"
             ],
             [
              0.5555555555555556,
              "#d8576b"
             ],
             [
              0.6666666666666666,
              "#ed7953"
             ],
             [
              0.7777777777777778,
              "#fb9f3a"
             ],
             [
              0.8888888888888888,
              "#fdca26"
             ],
             [
              1,
              "#f0f921"
             ]
            ],
            "type": "heatmapgl"
           }
          ],
          "histogram": [
           {
            "marker": {
             "pattern": {
              "fillmode": "overlay",
              "size": 10,
              "solidity": 0.2
             }
            },
            "type": "histogram"
           }
          ],
          "histogram2d": [
           {
            "colorbar": {
             "outlinewidth": 0,
             "ticks": ""
            },
            "colorscale": [
             [
              0,
              "#0d0887"
             ],
             [
              0.1111111111111111,
              "#46039f"
             ],
             [
              0.2222222222222222,
              "#7201a8"
             ],
             [
              0.3333333333333333,
              "#9c179e"
             ],
             [
              0.4444444444444444,
              "#bd3786"
             ],
             [
              0.5555555555555556,
              "#d8576b"
             ],
             [
              0.6666666666666666,
              "#ed7953"
             ],
             [
              0.7777777777777778,
              "#fb9f3a"
             ],
             [
              0.8888888888888888,
              "#fdca26"
             ],
             [
              1,
              "#f0f921"
             ]
            ],
            "type": "histogram2d"
           }
          ],
          "histogram2dcontour": [
           {
            "colorbar": {
             "outlinewidth": 0,
             "ticks": ""
            },
            "colorscale": [
             [
              0,
              "#0d0887"
             ],
             [
              0.1111111111111111,
              "#46039f"
             ],
             [
              0.2222222222222222,
              "#7201a8"
             ],
             [
              0.3333333333333333,
              "#9c179e"
             ],
             [
              0.4444444444444444,
              "#bd3786"
             ],
             [
              0.5555555555555556,
              "#d8576b"
             ],
             [
              0.6666666666666666,
              "#ed7953"
             ],
             [
              0.7777777777777778,
              "#fb9f3a"
             ],
             [
              0.8888888888888888,
              "#fdca26"
             ],
             [
              1,
              "#f0f921"
             ]
            ],
            "type": "histogram2dcontour"
           }
          ],
          "mesh3d": [
           {
            "colorbar": {
             "outlinewidth": 0,
             "ticks": ""
            },
            "type": "mesh3d"
           }
          ],
          "parcoords": [
           {
            "line": {
             "colorbar": {
              "outlinewidth": 0,
              "ticks": ""
             }
            },
            "type": "parcoords"
           }
          ],
          "pie": [
           {
            "automargin": true,
            "type": "pie"
           }
          ],
          "scatter": [
           {
            "fillpattern": {
             "fillmode": "overlay",
             "size": 10,
             "solidity": 0.2
            },
            "type": "scatter"
           }
          ],
          "scatter3d": [
           {
            "line": {
             "colorbar": {
              "outlinewidth": 0,
              "ticks": ""
             }
            },
            "marker": {
             "colorbar": {
              "outlinewidth": 0,
              "ticks": ""
             }
            },
            "type": "scatter3d"
           }
          ],
          "scattercarpet": [
           {
            "marker": {
             "colorbar": {
              "outlinewidth": 0,
              "ticks": ""
             }
            },
            "type": "scattercarpet"
           }
          ],
          "scattergeo": [
           {
            "marker": {
             "colorbar": {
              "outlinewidth": 0,
              "ticks": ""
             }
            },
            "type": "scattergeo"
           }
          ],
          "scattergl": [
           {
            "marker": {
             "colorbar": {
              "outlinewidth": 0,
              "ticks": ""
             }
            },
            "type": "scattergl"
           }
          ],
          "scattermapbox": [
           {
            "marker": {
             "colorbar": {
              "outlinewidth": 0,
              "ticks": ""
             }
            },
            "type": "scattermapbox"
           }
          ],
          "scatterpolar": [
           {
            "marker": {
             "colorbar": {
              "outlinewidth": 0,
              "ticks": ""
             }
            },
            "type": "scatterpolar"
           }
          ],
          "scatterpolargl": [
           {
            "marker": {
             "colorbar": {
              "outlinewidth": 0,
              "ticks": ""
             }
            },
            "type": "scatterpolargl"
           }
          ],
          "scatterternary": [
           {
            "marker": {
             "colorbar": {
              "outlinewidth": 0,
              "ticks": ""
             }
            },
            "type": "scatterternary"
           }
          ],
          "surface": [
           {
            "colorbar": {
             "outlinewidth": 0,
             "ticks": ""
            },
            "colorscale": [
             [
              0,
              "#0d0887"
             ],
             [
              0.1111111111111111,
              "#46039f"
             ],
             [
              0.2222222222222222,
              "#7201a8"
             ],
             [
              0.3333333333333333,
              "#9c179e"
             ],
             [
              0.4444444444444444,
              "#bd3786"
             ],
             [
              0.5555555555555556,
              "#d8576b"
             ],
             [
              0.6666666666666666,
              "#ed7953"
             ],
             [
              0.7777777777777778,
              "#fb9f3a"
             ],
             [
              0.8888888888888888,
              "#fdca26"
             ],
             [
              1,
              "#f0f921"
             ]
            ],
            "type": "surface"
           }
          ],
          "table": [
           {
            "cells": {
             "fill": {
              "color": "#EBF0F8"
             },
             "line": {
              "color": "white"
             }
            },
            "header": {
             "fill": {
              "color": "#C8D4E3"
             },
             "line": {
              "color": "white"
             }
            },
            "type": "table"
           }
          ]
         },
         "layout": {
          "annotationdefaults": {
           "arrowcolor": "#2a3f5f",
           "arrowhead": 0,
           "arrowwidth": 1
          },
          "autotypenumbers": "strict",
          "coloraxis": {
           "colorbar": {
            "outlinewidth": 0,
            "ticks": ""
           }
          },
          "colorscale": {
           "diverging": [
            [
             0,
             "#8e0152"
            ],
            [
             0.1,
             "#c51b7d"
            ],
            [
             0.2,
             "#de77ae"
            ],
            [
             0.3,
             "#f1b6da"
            ],
            [
             0.4,
             "#fde0ef"
            ],
            [
             0.5,
             "#f7f7f7"
            ],
            [
             0.6,
             "#e6f5d0"
            ],
            [
             0.7,
             "#b8e186"
            ],
            [
             0.8,
             "#7fbc41"
            ],
            [
             0.9,
             "#4d9221"
            ],
            [
             1,
             "#276419"
            ]
           ],
           "sequential": [
            [
             0,
             "#0d0887"
            ],
            [
             0.1111111111111111,
             "#46039f"
            ],
            [
             0.2222222222222222,
             "#7201a8"
            ],
            [
             0.3333333333333333,
             "#9c179e"
            ],
            [
             0.4444444444444444,
             "#bd3786"
            ],
            [
             0.5555555555555556,
             "#d8576b"
            ],
            [
             0.6666666666666666,
             "#ed7953"
            ],
            [
             0.7777777777777778,
             "#fb9f3a"
            ],
            [
             0.8888888888888888,
             "#fdca26"
            ],
            [
             1,
             "#f0f921"
            ]
           ],
           "sequentialminus": [
            [
             0,
             "#0d0887"
            ],
            [
             0.1111111111111111,
             "#46039f"
            ],
            [
             0.2222222222222222,
             "#7201a8"
            ],
            [
             0.3333333333333333,
             "#9c179e"
            ],
            [
             0.4444444444444444,
             "#bd3786"
            ],
            [
             0.5555555555555556,
             "#d8576b"
            ],
            [
             0.6666666666666666,
             "#ed7953"
            ],
            [
             0.7777777777777778,
             "#fb9f3a"
            ],
            [
             0.8888888888888888,
             "#fdca26"
            ],
            [
             1,
             "#f0f921"
            ]
           ]
          },
          "colorway": [
           "#636efa",
           "#EF553B",
           "#00cc96",
           "#ab63fa",
           "#FFA15A",
           "#19d3f3",
           "#FF6692",
           "#B6E880",
           "#FF97FF",
           "#FECB52"
          ],
          "font": {
           "color": "#2a3f5f"
          },
          "geo": {
           "bgcolor": "white",
           "lakecolor": "white",
           "landcolor": "#E5ECF6",
           "showlakes": true,
           "showland": true,
           "subunitcolor": "white"
          },
          "hoverlabel": {
           "align": "left"
          },
          "hovermode": "closest",
          "mapbox": {
           "style": "light"
          },
          "paper_bgcolor": "white",
          "plot_bgcolor": "#E5ECF6",
          "polar": {
           "angularaxis": {
            "gridcolor": "white",
            "linecolor": "white",
            "ticks": ""
           },
           "bgcolor": "#E5ECF6",
           "radialaxis": {
            "gridcolor": "white",
            "linecolor": "white",
            "ticks": ""
           }
          },
          "scene": {
           "xaxis": {
            "backgroundcolor": "#E5ECF6",
            "gridcolor": "white",
            "gridwidth": 2,
            "linecolor": "white",
            "showbackground": true,
            "ticks": "",
            "zerolinecolor": "white"
           },
           "yaxis": {
            "backgroundcolor": "#E5ECF6",
            "gridcolor": "white",
            "gridwidth": 2,
            "linecolor": "white",
            "showbackground": true,
            "ticks": "",
            "zerolinecolor": "white"
           },
           "zaxis": {
            "backgroundcolor": "#E5ECF6",
            "gridcolor": "white",
            "gridwidth": 2,
            "linecolor": "white",
            "showbackground": true,
            "ticks": "",
            "zerolinecolor": "white"
           }
          },
          "shapedefaults": {
           "line": {
            "color": "#2a3f5f"
           }
          },
          "ternary": {
           "aaxis": {
            "gridcolor": "white",
            "linecolor": "white",
            "ticks": ""
           },
           "baxis": {
            "gridcolor": "white",
            "linecolor": "white",
            "ticks": ""
           },
           "bgcolor": "#E5ECF6",
           "caxis": {
            "gridcolor": "white",
            "linecolor": "white",
            "ticks": ""
           }
          },
          "title": {
           "x": 0.05
          },
          "xaxis": {
           "automargin": true,
           "gridcolor": "white",
           "linecolor": "white",
           "ticks": "",
           "title": {
            "standoff": 15
           },
           "zerolinecolor": "white",
           "zerolinewidth": 2
          },
          "yaxis": {
           "automargin": true,
           "gridcolor": "white",
           "linecolor": "white",
           "ticks": "",
           "title": {
            "standoff": 15
           },
           "zerolinecolor": "white",
           "zerolinewidth": 2
          }
         }
        },
        "xaxis": {
         "anchor": "y",
         "constrain": "domain",
         "domain": [
          0,
          1
         ],
         "scaleanchor": "y",
         "side": "top",
         "title": {
          "text": "bottom_obstruction (Predicted)"
         }
        },
        "yaxis": {
         "anchor": "x",
         "autorange": "reversed",
         "constrain": "domain",
         "domain": [
          0,
          1
         ],
         "title": {
          "text": "bottom_obstruction"
         }
        }
       }
      }
     },
     "metadata": {},
     "output_type": "display_data"
    }
   ],
   "source": [
    "# Hace predicciones usando el conjunto de datos de prueba.\n",
    "pd.options.display.float_format = \"{:.0f}\".format\n",
    "predictions = model.predict(test_features)\n",
    "for i in range(len(predictions)):\n",
    "    if(predictions[i].max() != 1):\n",
    "        row, col = np.where(predictions == predictions[i].max())\n",
    "        predictions[i][col[0]] = 1\n",
    "predictions[predictions!=1] = 0 \n",
    "    \n",
    "# Convierte el arreglo de predicciones en un DataFrame\n",
    "predictions_df = pd.DataFrame(predictions, columns=['normal', 'collision_in_tool', 'collision_in_part', 'bottom_collision', 'bottom_obstruction'])\n",
    "display(predictions_df)\n",
    "display(test_labels)\n",
    "CM = tfa.metrics.MultiLabelConfusionMatrix(num_classes=5)\n",
    "CM.update_state(test_labels, predictions_df)\n",
    "result = CM.result().numpy()\n",
    "display(result)\n",
    "\n",
    "normal = px.imshow(result[0], \n",
    "                labels = dict(x='normal (Predicted)', y='normal'),\n",
    "                x = ['Negative', '-Positive'], y=['True', 'False'],text_auto=True, color_continuous_scale='greys')\n",
    "normal.update_xaxes(side=\"top\")\n",
    "normal.show()\n",
    "\n",
    "collision_in_tool = px.imshow(result[0], \n",
    "                labels = dict(x='collision_in_tool (Predicted)', y='collision_in_tool'),\n",
    "                x = ['Negative', '-Positive'], y=['True', 'False'], text_auto=True, color_continuous_scale='greys')\n",
    "collision_in_tool.update_xaxes(side=\"top\")\n",
    "collision_in_tool.show()\n",
    "\n",
    "collision_in_part = px.imshow(result[0], \n",
    "                labels = dict(x='collision_in_part (Predicted)', y='collision_in_part'),\n",
    "                x = ['Negative', '-Positive'], y=['True', 'False'], text_auto=True, color_continuous_scale='greys')\n",
    "collision_in_part.update_xaxes(side=\"top\")\n",
    "collision_in_part.show()\n",
    "\n",
    "bottom_collision = px.imshow(result[0], \n",
    "                labels = dict(x='bottom_collision (Predicted)', y='bottom_collision'),\n",
    "                x = ['Negative', '-Positive'], y=['True', 'False'], text_auto=True, color_continuous_scale='greys')\n",
    "bottom_collision.update_xaxes(side=\"top\")\n",
    "bottom_collision.show()\n",
    "\n",
    "bottom_obstruction = px.imshow(result[0], \n",
    "                labels = dict(x='bottom_obstruction (Predicted)', y='bottom_obstruction'),\n",
    "                x = ['Negative', '-Positive'], y=['True', 'False'], text_auto=True, color_continuous_scale='greys')\n",
    "bottom_obstruction.update_xaxes(side=\"top\")\n",
    "bottom_obstruction.show()\n",
    "#model.save('ModeloConvolucion_A0.75')"
   ]
  }
 ],
 "metadata": {
  "kernelspec": {
   "display_name": "Python 3",
   "language": "python",
   "name": "python3"
  },
  "language_info": {
   "codemirror_mode": {
    "name": "ipython",
    "version": 3
   },
   "file_extension": ".py",
   "mimetype": "text/x-python",
   "name": "python",
   "nbconvert_exporter": "python",
   "pygments_lexer": "ipython3",
   "version": "3.10.11"
  },
  "orig_nbformat": 4
 },
 "nbformat": 4,
 "nbformat_minor": 2
}
