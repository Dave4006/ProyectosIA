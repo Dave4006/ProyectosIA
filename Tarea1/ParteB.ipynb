{
 "cells": [
  {
   "attachments": {},
   "cell_type": "markdown",
   "metadata": {},
   "source": [
    "# Importar Modulos"
   ]
  },
  {
   "cell_type": "code",
   "execution_count": 20,
   "metadata": {},
   "outputs": [],
   "source": [
    "import pandas as pd\n",
    "import numpy as np\n",
    "import random\n",
    "import plotly.express as px\n",
    "import tensorflow as tf\n",
    "\n",
    "from sklearn.utils import shuffle\n",
    "import tensorflow_addons as tfa\n",
    "from IPython.display import display"
   ]
  },
  {
   "attachments": {},
   "cell_type": "markdown",
   "metadata": {},
   "source": [
    "# Importación de Datos"
   ]
  },
  {
   "cell_type": "code",
   "execution_count": 21,
   "metadata": {},
   "outputs": [
    {
     "data": {
      "text/plain": [
       "array([[-2.00175981, -0.99904757, 80.70481387,  0.        , -5.18342042,\n",
       "         0.        ],\n",
       "       [-1.90875708, -0.99221199, 75.85446689,  0.        , -4.12855428,\n",
       "         0.        ],\n",
       "       [-1.91715659, -1.04121398, 80.44832595,  0.        , -4.18281499,\n",
       "         0.        ],\n",
       "       ...,\n",
       "       [-1.01848385,  0.98671777, -3.0692865 , -3.14003685, -2.04784257,\n",
       "        -3.        ],\n",
       "       [ 0.        , -1.03538201, -4.98332287, -1.03089166,  0.95236601,\n",
       "        -3.        ],\n",
       "       [-1.03043875,  1.01841724,  4.0863681 ,  0.        , -0.98412836,\n",
       "        -3.        ]])"
      ]
     },
     "metadata": {},
     "output_type": "display_data"
    },
    {
     "data": {
      "text/html": [
       "<div>\n",
       "<style scoped>\n",
       "    .dataframe tbody tr th:only-of-type {\n",
       "        vertical-align: middle;\n",
       "    }\n",
       "\n",
       "    .dataframe tbody tr th {\n",
       "        vertical-align: top;\n",
       "    }\n",
       "\n",
       "    .dataframe thead th {\n",
       "        text-align: right;\n",
       "    }\n",
       "</style>\n",
       "<table border=\"1\" class=\"dataframe\">\n",
       "  <thead>\n",
       "    <tr style=\"text-align: right;\">\n",
       "      <th></th>\n",
       "      <th>labels</th>\n",
       "      <th>1</th>\n",
       "      <th>2</th>\n",
       "      <th>3</th>\n",
       "      <th>4</th>\n",
       "      <th>5</th>\n",
       "    </tr>\n",
       "  </thead>\n",
       "  <tbody>\n",
       "    <tr>\n",
       "      <th>0</th>\n",
       "      <td>normal</td>\n",
       "      <td></td>\n",
       "      <td></td>\n",
       "      <td></td>\n",
       "      <td></td>\n",
       "      <td></td>\n",
       "    </tr>\n",
       "    <tr>\n",
       "      <th>1</th>\n",
       "      <td>normal</td>\n",
       "      <td></td>\n",
       "      <td></td>\n",
       "      <td></td>\n",
       "      <td></td>\n",
       "      <td></td>\n",
       "    </tr>\n",
       "    <tr>\n",
       "      <th>2</th>\n",
       "      <td>normal</td>\n",
       "      <td></td>\n",
       "      <td></td>\n",
       "      <td></td>\n",
       "      <td></td>\n",
       "      <td></td>\n",
       "    </tr>\n",
       "    <tr>\n",
       "      <th>3</th>\n",
       "      <td>normal</td>\n",
       "      <td></td>\n",
       "      <td></td>\n",
       "      <td></td>\n",
       "      <td></td>\n",
       "      <td></td>\n",
       "    </tr>\n",
       "    <tr>\n",
       "      <th>4</th>\n",
       "      <td>normal</td>\n",
       "      <td></td>\n",
       "      <td></td>\n",
       "      <td></td>\n",
       "      <td></td>\n",
       "      <td></td>\n",
       "    </tr>\n",
       "    <tr>\n",
       "      <th>...</th>\n",
       "      <td>...</td>\n",
       "      <td>...</td>\n",
       "      <td>...</td>\n",
       "      <td>...</td>\n",
       "      <td>...</td>\n",
       "      <td>...</td>\n",
       "    </tr>\n",
       "    <tr>\n",
       "      <th>159</th>\n",
       "      <td>collision_in_tool</td>\n",
       "      <td></td>\n",
       "      <td></td>\n",
       "      <td></td>\n",
       "      <td></td>\n",
       "      <td></td>\n",
       "    </tr>\n",
       "    <tr>\n",
       "      <th>160</th>\n",
       "      <td>collision_in_tool</td>\n",
       "      <td></td>\n",
       "      <td></td>\n",
       "      <td></td>\n",
       "      <td></td>\n",
       "      <td></td>\n",
       "    </tr>\n",
       "    <tr>\n",
       "      <th>161</th>\n",
       "      <td>collision_in_tool</td>\n",
       "      <td></td>\n",
       "      <td></td>\n",
       "      <td></td>\n",
       "      <td></td>\n",
       "      <td></td>\n",
       "    </tr>\n",
       "    <tr>\n",
       "      <th>162</th>\n",
       "      <td>collision_in_tool</td>\n",
       "      <td></td>\n",
       "      <td></td>\n",
       "      <td></td>\n",
       "      <td></td>\n",
       "      <td></td>\n",
       "    </tr>\n",
       "    <tr>\n",
       "      <th>163</th>\n",
       "      <td>collision_in_tool</td>\n",
       "      <td></td>\n",
       "      <td></td>\n",
       "      <td></td>\n",
       "      <td></td>\n",
       "      <td></td>\n",
       "    </tr>\n",
       "  </tbody>\n",
       "</table>\n",
       "<p>164 rows × 6 columns</p>\n",
       "</div>"
      ],
      "text/plain": [
       "                labels 1  2  3  4  5 \n",
       "0               normal               \n",
       "1               normal               \n",
       "2               normal               \n",
       "3               normal               \n",
       "4               normal               \n",
       "..                 ... .. .. .. .. ..\n",
       "159  collision_in_tool               \n",
       "160  collision_in_tool               \n",
       "161  collision_in_tool               \n",
       "162  collision_in_tool               \n",
       "163  collision_in_tool               \n",
       "\n",
       "[164 rows x 6 columns]"
      ]
     },
     "metadata": {},
     "output_type": "display_data"
    },
    {
     "data": {
      "text/plain": [
       "array([[[ -2.,  -1.,  81.,   0.,  -5.,   0.],\n",
       "        [ -2.,  -1.,  79.,   0.,  -4.,   0.],\n",
       "        [ -2.,  -1.,  79.,   0.,  -4.,   0.],\n",
       "        ...,\n",
       "        [ -2.,  -1.,  78.,   0.,  -5.,   0.],\n",
       "        [ -3.,  -1.,  80.,   1.,  -4.,   1.],\n",
       "        [ -2.,  -1.,  79.,   0.,  -4.,   0.]],\n",
       "\n",
       "       [[  6.,  -1.,  79.,  -2.,   4.,  -3.],\n",
       "        [ 42.,  -3.,  80.,   5.,  53.,   3.],\n",
       "        [ -5.,   4.,  74., -15., -10.,  -1.],\n",
       "        ...,\n",
       "        [ -1.,  -5.,  80.,   6.,  -6.,   0.],\n",
       "        [ -4.,   5.,  78., -14.,  -9.,  -4.],\n",
       "        [ -4.,   1.,  80.,  -3., -12.,   5.]],\n",
       "\n",
       "       [[ -2.,  -6.,  85.,  14.,  -5.,   2.],\n",
       "        [  0.,   2.,  74.,  -7.,   1.,   0.],\n",
       "        [ -4.,  -5.,  76.,   7., -11.,   4.],\n",
       "        ...,\n",
       "        [  0.,  -9.,  87.,  13.,  -5.,   2.],\n",
       "        [ -5.,   5.,  67., -17., -16.,   7.],\n",
       "        [ -6., -10.,  86.,  16., -14.,  -1.]],\n",
       "\n",
       "       ...,\n",
       "\n",
       "       [[-12.,  17.,   3., -19., -10.,  -4.],\n",
       "        [-12.,  12.,  11., -13., -16.,  -4.],\n",
       "        [ -8.,   3.,   6.,   2., -11.,  -4.],\n",
       "        ...,\n",
       "        [  0.,   1.,   3.,   1.,   1.,  -3.],\n",
       "        [  1.,   2.,   9.,   0.,   3.,  -4.],\n",
       "        [  1.,   2.,   9.,   0.,   3.,  -4.]],\n",
       "\n",
       "       [[-41.,  21.,  -5., -23., -59.,  -4.],\n",
       "        [-32.,  21.,  -6., -25., -45.,  -4.],\n",
       "        [-21.,  12.,  -6., -14., -31.,  -4.],\n",
       "        ...,\n",
       "        [ -4.,   4.,   3.,   0.,  -1.,  -3.],\n",
       "        [ -4.,   3.,   2.,   2.,  -3.,  -3.],\n",
       "        [ -2.,   3.,   5.,   0.,  -2.,  -3.]],\n",
       "\n",
       "       [[  9., -10., -11.,  17.,   7.,  -4.],\n",
       "        [  5.,   0.,   4.,   0.,   7.,  -4.],\n",
       "        [ -3.,   6.,  -2.,  -8.,  -8.,  -4.],\n",
       "        ...,\n",
       "        [ -1.,   1.,  -3.,  -3.,  -2.,  -3.],\n",
       "        [  0.,  -1.,  -5.,  -1.,   1.,  -3.],\n",
       "        [ -1.,   1.,   4.,   0.,  -1.,  -3.]]])"
      ]
     },
     "metadata": {},
     "output_type": "display_data"
    },
    {
     "data": {
      "text/plain": [
       "array([[[ -2.00175981,  -0.99904757,  80.70481387,   0.        ,\n",
       "          -5.18342042,   0.        ],\n",
       "        [ -1.90875708,  -0.99221199,  75.85446689,   0.        ,\n",
       "          -4.12855428,   0.        ],\n",
       "        [ -1.91715659,  -1.04121398,  80.44832595,   0.        ,\n",
       "          -4.18281499,   0.        ],\n",
       "        ...,\n",
       "        [ -1.94818179,  -1.00809908,  80.83271502,   0.        ,\n",
       "          -5.09576656,   0.        ],\n",
       "        [ -3.12399606,  -1.01140174,  76.53995493,   1.03646789,\n",
       "          -3.93079519,   1.        ],\n",
       "        [ -1.98005037,  -0.96383895,  79.55441   ,   0.        ,\n",
       "          -3.89694551,   0.        ]],\n",
       "\n",
       "       [[  6.11318653,  -0.99517169,  77.70912426,  -1.98601607,\n",
       "           4.15241922,  -3.        ],\n",
       "        [ 40.01840993,  -3.07288516,  80.3023623 ,   5.15148992,\n",
       "          53.4030016 ,   3.        ],\n",
       "        [ -4.91745111,   4.18035261,  77.3922113 , -15.42341435,\n",
       "          -9.75079981,  -1.        ],\n",
       "        ...,\n",
       "        [ -1.01866173,  -4.92672602,  78.79906288,   5.70123391,\n",
       "          -6.13184018,   0.        ],\n",
       "        [ -3.90916672,   4.85125188,  74.17734965, -14.01938066,\n",
       "          -9.38947899,  -4.        ],\n",
       "        [ -4.07077893,   1.02614662,  82.08977036,  -3.13748641,\n",
       "         -12.06928934,   5.        ]],\n",
       "\n",
       "       [[ -1.97871328,  -6.00465229,  81.65716503,  13.89607071,\n",
       "          -5.10510448,   2.        ],\n",
       "        [  0.        ,   2.09439853,  70.97898431,  -6.8143276 ,\n",
       "           0.96194426,   0.        ],\n",
       "        [ -3.94931128,  -5.16617535,  73.14768238,   6.66096022,\n",
       "         -11.46504388,   4.        ],\n",
       "        ...,\n",
       "        [  0.        ,  -8.80552893,  83.98926087,  13.3561899 ,\n",
       "          -4.79459329,   2.        ],\n",
       "        [ -4.83258564,   5.23174563,  67.78630655, -17.21480786,\n",
       "         -16.75010293,   7.        ],\n",
       "        [ -5.80085425,  -9.80088939,  83.55805748,  15.3363146 ,\n",
       "         -13.81240482,  -1.        ]],\n",
       "\n",
       "       ...,\n",
       "\n",
       "       [[-12.22674854,  17.32218855,   3.04831621, -19.04328844,\n",
       "         -10.46701986,  -4.        ],\n",
       "        [-11.586315  ,  11.60634378,  10.74728381, -13.01865853,\n",
       "         -15.27303346,  -4.        ],\n",
       "        [ -8.07701259,   2.8897692 ,   5.76924071,   2.04991953,\n",
       "         -11.22145941,  -4.        ],\n",
       "        ...,\n",
       "        [  0.        ,   1.01558559,   3.04293071,   1.03538139,\n",
       "           1.03863103,  -3.        ],\n",
       "        [  0.98164669,   1.96237718,   9.1614318 ,   0.        ,\n",
       "           2.89336821,  -4.        ],\n",
       "        [  1.03522587,   2.04380733,   8.76242893,   0.        ,\n",
       "           3.01843616,  -4.        ]],\n",
       "\n",
       "       [[-40.94221898,  20.96258693,  -5.2027534 , -23.98023216,\n",
       "         -56.35575198,  -4.        ],\n",
       "        [-30.5327567 ,  20.56286149,  -6.10436856, -25.48486919,\n",
       "         -44.76754111,  -4.        ],\n",
       "        [-21.78724921,  11.83137771,  -6.17164983, -13.6673444 ,\n",
       "         -31.74752114,  -4.        ],\n",
       "        ...,\n",
       "        [ -3.96956351,   3.90737818,   2.91099791,   0.        ,\n",
       "          -1.0098674 ,  -3.        ],\n",
       "        [ -3.85820145,   2.97064794,   1.93669501,   2.0333804 ,\n",
       "          -3.06726007,  -3.        ],\n",
       "        [ -2.06471622,   3.07663634,   4.98971013,   0.        ,\n",
       "          -1.90394088,  -3.        ]],\n",
       "\n",
       "       [[  8.62040848, -10.49421409, -10.52646373,  17.60327816,\n",
       "           6.7493039 ,  -4.        ],\n",
       "        [  5.1810651 ,   0.        ,   4.08347214,   0.        ,\n",
       "           7.31072838,  -4.        ],\n",
       "        [ -3.03576291,   6.25510713,  -1.90674193,  -7.91843156,\n",
       "          -8.22241522,  -4.        ],\n",
       "        ...,\n",
       "        [ -1.01848385,   0.98671777,  -3.0692865 ,  -3.14003685,\n",
       "          -2.04784257,  -3.        ],\n",
       "        [  0.        ,  -1.03538201,  -4.98332287,  -1.03089166,\n",
       "           0.95236601,  -3.        ],\n",
       "        [ -1.03043875,   1.01841724,   4.0863681 ,   0.        ,\n",
       "          -0.98412836,  -3.        ]]])"
      ]
     },
     "metadata": {},
     "output_type": "display_data"
    }
   ],
   "source": [
    "#el conj de datos va de 0 a 2623 o sea 2624 datos\n",
    "pd.options.display.max_rows = 10\n",
    "pd.options.display.float_format = \"{:.3f}\".format\n",
    "\n",
    "# Recompila la información de un archivo CSV y lo guarda en un arreglo\n",
    "data_copy = np.loadtxt(\"lp5.csv\", delimiter=\",\", dtype=str)\n",
    "#  Contador de filas en el CSV\n",
    "cont = 16\n",
    "labels = []\n",
    "numbers = []\n",
    "# Arreglo de ceros con las dimensiones de los datos\n",
    "features= np.zeros((164,15,6))\n",
    "test_features= np.zeros((164,15,6))\n",
    "\n",
    "# Ciclo que recorre todos los datos del CSV y guarda los títulos de los datos cuando el contador es 16,\n",
    "# guarda los números en un arreglo aparte y reestablece el contador a su valor original cuando es igual a 0.\n",
    "for i in range(len(data_copy)):\n",
    "    if(cont == 16):\n",
    "        labels.append(data_copy[i])\n",
    "    if(cont<16):\n",
    "        numbers.append(data_copy[i])\n",
    "    cont -= 1\n",
    "    if(cont == 0):\n",
    "        cont = 16\n",
    "        \n",
    "test_numbers = np.array(numbers).astype(float)\n",
    "\n",
    "for i in range(len(test_numbers)):\n",
    "    for j in range(5):\n",
    "        test_numbers[i][j] = test_numbers[i][j] + test_numbers[i][j]*random.uniform(-0.05, 0.05)\n",
    "\n",
    "display(test_numbers)\n",
    "# Ciclos anidados que recorren todas las dimensiones del arreglo de ceros,\n",
    "# agrupa los datos numéricos en conjuntos con forma 15x6 \n",
    "cont = 0\n",
    "for i in range(164):\n",
    "    for j in range(15):\n",
    "        for z in range(6):\n",
    "            features[i][j][z] = numbers[cont][z]\n",
    "            test_features[i][j][z]= test_numbers[cont][z]\n",
    "        cont += 1\n",
    "        \n",
    "# Convierte los datos obtenidos del primer ciclo en un dataframe\n",
    "labels_df = pd.DataFrame(labels, columns=['labels','1','2','3','4','5'])\n",
    "\n",
    "display(labels_df)\n",
    "display(features)\n",
    "display(test_features)"
   ]
  },
  {
   "attachments": {},
   "cell_type": "markdown",
   "metadata": {},
   "source": [
    "# Manejo de Datos y Normalización"
   ]
  },
  {
   "cell_type": "code",
   "execution_count": 22,
   "metadata": {},
   "outputs": [
    {
     "name": "stderr",
     "output_type": "stream",
     "text": [
      "C:\\Users\\dave4\\AppData\\Local\\Temp\\ipykernel_24348\\1604112957.py:11: FutureWarning:\n",
      "\n",
      "In a future version of pandas all arguments of StringMethods.split except for the argument 'pat' will be keyword-only.\n",
      "\n"
     ]
    },
    {
     "data": {
      "text/plain": [
       "array([[[0.79437566, 0.79190459, 0.77899705, 0.78454539, 0.79573187,\n",
       "         0.79415277],\n",
       "        [0.79632758, 0.79208801, 0.7703915 , 0.78312497, 0.80285895,\n",
       "         0.79268338],\n",
       "        [0.79594525, 0.7915656 , 0.75519724, 0.78415529, 0.80827603,\n",
       "         0.78932478],\n",
       "        ...,\n",
       "        [0.79209134, 0.79390323, 0.79205003, 0.79076358, 0.79188755,\n",
       "         0.79331312],\n",
       "        [0.79290042, 0.79351586, 0.79201512, 0.79138684, 0.79289625,\n",
       "         0.79331312],\n",
       "        [0.79332257, 0.7928996 , 0.79205681, 0.79229696, 0.7935401 ,\n",
       "         0.79352304]],\n",
       "\n",
       "       [[0.78153541, 0.79649568, 0.78955736, 0.78464666, 0.77343903,\n",
       "         0.78848513],\n",
       "        [0.78274539, 0.79702124, 0.79478513, 0.78614903, 0.7804503 ,\n",
       "         0.79373295],\n",
       "        [0.78473458, 0.79694238, 0.79560509, 0.78677423, 0.78170148,\n",
       "         0.79268338],\n",
       "        ...,\n",
       "        [0.79398196, 0.79145386, 0.75960895, 0.7950415 , 0.79814213,\n",
       "         0.79205365],\n",
       "        [0.79396083, 0.79118879, 0.76013024, 0.79498984, 0.79823162,\n",
       "         0.79205365],\n",
       "        [0.79411787, 0.79114581, 0.75769662, 0.79463707, 0.79821609,\n",
       "         0.79184373]],\n",
       "\n",
       "       [[0.79650533, 0.78512917, 0.75675577, 0.78888113, 0.76895119,\n",
       "         0.79667173],\n",
       "        [0.79681801, 0.78649685, 0.758948  , 0.78639328, 0.77109551,\n",
       "         0.7962519 ],\n",
       "        [0.79815033, 0.78714895, 0.76027979, 0.78406446, 0.7741494 ,\n",
       "         0.79541225],\n",
       "        ...,\n",
       "        [0.79180368, 0.79623973, 0.76714861, 0.81221259, 0.79550427,\n",
       "         0.79163382],\n",
       "        [0.7922312 , 0.79566672, 0.76457792, 0.81820984, 0.79937915,\n",
       "         0.79100408],\n",
       "        [0.79092731, 0.79683697, 0.75748224, 0.8156553 , 0.79776823,\n",
       "         0.79079417]],\n",
       "\n",
       "       ...,\n",
       "\n",
       "       [[0.79227726, 0.79310321, 0.79462096, 0.79412018, 0.79268448,\n",
       "         0.79352304],\n",
       "        [0.79226839, 0.79310321, 0.79414153, 0.79411459, 0.79246924,\n",
       "         0.79352304],\n",
       "        [0.79226615, 0.79310321, 0.79453009, 0.7941657 , 0.79266441,\n",
       "         0.79352304],\n",
       "        ...,\n",
       "        [0.79228232, 0.79330648, 0.7935217 , 0.79288894, 0.79209959,\n",
       "         0.79331312],\n",
       "        [0.79244325, 0.79268575, 0.79462125, 0.79450189, 0.79289139,\n",
       "         0.79331312],\n",
       "        [0.79245496, 0.79330528, 0.79267708, 0.79371963, 0.79224762,\n",
       "         0.79331312]],\n",
       "\n",
       "       [[0.79330899, 0.79374026, 0.79244387, 0.78986011, 0.79050128,\n",
       "         0.79310321],\n",
       "        [0.79376045, 0.79331879, 0.79473842, 0.79226259, 0.79143108,\n",
       "         0.79268338],\n",
       "        [0.78877191, 0.80721328, 0.60979875, 0.76074653, 0.85340711,\n",
       "         0.80338894],\n",
       "        ...,\n",
       "        [0.79453849, 0.79144377, 0.75664384, 0.79033857, 0.79689312,\n",
       "         0.79331312],\n",
       "        [0.7947144 , 0.79144178, 0.75600774, 0.79010455, 0.79772762,\n",
       "         0.79331312],\n",
       "        [0.79473499, 0.79102644, 0.75634809, 0.79039645, 0.79745603,\n",
       "         0.79373295]],\n",
       "\n",
       "       [[0.79268295, 0.79352112, 0.79709335, 0.79417584, 0.79187614,\n",
       "         0.7928933 ],\n",
       "        [0.79268823, 0.79331031, 0.79721947, 0.79411952, 0.79188748,\n",
       "         0.79310321],\n",
       "        [0.79269544, 0.79331247, 0.79777003, 0.79410825, 0.79190086,\n",
       "         0.79310321],\n",
       "        ...,\n",
       "        [0.79289489, 0.7935033 , 0.798936  , 0.79453412, 0.79185656,\n",
       "         0.7928933 ],\n",
       "        [0.79330319, 0.79288667, 0.79772909, 0.79503867, 0.79350239,\n",
       "         0.79310321],\n",
       "        [0.79267273, 0.79353186, 0.79906514, 0.79373132, 0.79187999,\n",
       "         0.79310321]]])"
      ]
     },
     "metadata": {},
     "output_type": "display_data"
    },
    {
     "data": {
      "text/html": [
       "<div>\n",
       "<style scoped>\n",
       "    .dataframe tbody tr th:only-of-type {\n",
       "        vertical-align: middle;\n",
       "    }\n",
       "\n",
       "    .dataframe tbody tr th {\n",
       "        vertical-align: top;\n",
       "    }\n",
       "\n",
       "    .dataframe thead th {\n",
       "        text-align: right;\n",
       "    }\n",
       "</style>\n",
       "<table border=\"1\" class=\"dataframe\">\n",
       "  <thead>\n",
       "    <tr style=\"text-align: right;\">\n",
       "      <th></th>\n",
       "      <th>1</th>\n",
       "      <th>2</th>\n",
       "      <th>3</th>\n",
       "      <th>4</th>\n",
       "      <th>5</th>\n",
       "    </tr>\n",
       "  </thead>\n",
       "  <tbody>\n",
       "    <tr>\n",
       "      <th>146</th>\n",
       "      <td>0</td>\n",
       "      <td>0</td>\n",
       "      <td>0</td>\n",
       "      <td>1</td>\n",
       "      <td>0</td>\n",
       "    </tr>\n",
       "    <tr>\n",
       "      <th>89</th>\n",
       "      <td>0</td>\n",
       "      <td>0</td>\n",
       "      <td>1</td>\n",
       "      <td>0</td>\n",
       "      <td>0</td>\n",
       "    </tr>\n",
       "    <tr>\n",
       "      <th>106</th>\n",
       "      <td>0</td>\n",
       "      <td>0</td>\n",
       "      <td>0</td>\n",
       "      <td>1</td>\n",
       "      <td>0</td>\n",
       "    </tr>\n",
       "    <tr>\n",
       "      <th>7</th>\n",
       "      <td>1</td>\n",
       "      <td>0</td>\n",
       "      <td>0</td>\n",
       "      <td>0</td>\n",
       "      <td>0</td>\n",
       "    </tr>\n",
       "    <tr>\n",
       "      <th>94</th>\n",
       "      <td>0</td>\n",
       "      <td>1</td>\n",
       "      <td>0</td>\n",
       "      <td>0</td>\n",
       "      <td>0</td>\n",
       "    </tr>\n",
       "    <tr>\n",
       "      <th>...</th>\n",
       "      <td>...</td>\n",
       "      <td>...</td>\n",
       "      <td>...</td>\n",
       "      <td>...</td>\n",
       "      <td>...</td>\n",
       "    </tr>\n",
       "    <tr>\n",
       "      <th>9</th>\n",
       "      <td>1</td>\n",
       "      <td>0</td>\n",
       "      <td>0</td>\n",
       "      <td>0</td>\n",
       "      <td>0</td>\n",
       "    </tr>\n",
       "    <tr>\n",
       "      <th>103</th>\n",
       "      <td>0</td>\n",
       "      <td>0</td>\n",
       "      <td>0</td>\n",
       "      <td>0</td>\n",
       "      <td>1</td>\n",
       "    </tr>\n",
       "    <tr>\n",
       "      <th>67</th>\n",
       "      <td>1</td>\n",
       "      <td>0</td>\n",
       "      <td>0</td>\n",
       "      <td>0</td>\n",
       "      <td>0</td>\n",
       "    </tr>\n",
       "    <tr>\n",
       "      <th>117</th>\n",
       "      <td>0</td>\n",
       "      <td>0</td>\n",
       "      <td>0</td>\n",
       "      <td>0</td>\n",
       "      <td>1</td>\n",
       "    </tr>\n",
       "    <tr>\n",
       "      <th>47</th>\n",
       "      <td>1</td>\n",
       "      <td>0</td>\n",
       "      <td>0</td>\n",
       "      <td>0</td>\n",
       "      <td>0</td>\n",
       "    </tr>\n",
       "  </tbody>\n",
       "</table>\n",
       "<p>164 rows × 5 columns</p>\n",
       "</div>"
      ],
      "text/plain": [
       "     1  2  3  4  5\n",
       "146  0  0  0  1  0\n",
       "89   0  0  1  0  0\n",
       "106  0  0  0  1  0\n",
       "7    1  0  0  0  0\n",
       "94   0  1  0  0  0\n",
       "..  .. .. .. .. ..\n",
       "9    1  0  0  0  0\n",
       "103  0  0  0  0  1\n",
       "67   1  0  0  0  0\n",
       "117  0  0  0  0  1\n",
       "47   1  0  0  0  0\n",
       "\n",
       "[164 rows x 5 columns]"
      ]
     },
     "metadata": {},
     "output_type": "display_data"
    }
   ],
   "source": [
    "# Diccionario que codifica los datos categóricos a un conjunto de números idóneo para la capa de salida.\n",
    "classes_dict = {'normal':'1 0 0 0 0', #1\n",
    "        'collision_in_tool':'0 1 0 0 0', #2\n",
    "        'collision_in_part':'0 0 1 0 0', #3\n",
    "        'bottom_collision':'0 0 0 1 0', #4\n",
    "        'bottom_obstruction':'0 0 0 0 1'} #5\n",
    "\n",
    "# Se reemplazan los datos por lo del diccionario\n",
    "labels_df = labels_df.replace({'labels':classes_dict})\n",
    "# Se separan los datos de manera que se aisle un caractér por columna.\n",
    "labels_df[['1', '2', '3', '4', '5']] = labels_df['labels'].str.split(' ', 4, expand= True)\n",
    "# Se eliminan las columnas, solo dejando las columnas llamadas \"1\", \"2\", \"3\", \"4\", \"5\"\n",
    "labels_df = labels_df.loc[:,['1', '2', '3', '4', '5']]\n",
    "# Se convierten los valores de un tipo String a uno Entero para poder ser utilizados por la red neuronal.\n",
    "labels_df[['1', '2', '3', '4', '5']]=labels_df[['1', '2', '3', '4', '5']].astype(str).astype(int)\n",
    "\n",
    "'''/* \n",
    "Function: norm\n",
    "\n",
    "Normaliza los datos a través de una función min-max entre 0 y 1 para ser alimentados a la red.\n",
    "\n",
    "Parameters:\n",
    "\n",
    "    x - Datos a normalizar.\n",
    "    \n",
    "Returns:\n",
    "\n",
    "    Los datos alimentados ya normalizados.\n",
    "*/'''\n",
    "\n",
    "def norm(x):\n",
    "    x_min = x.min()\n",
    "    x_max = x.max()\n",
    "    range = x_max - x_min  #min max entre 0 y 1\n",
    "    return((x-x_min)/(range))\n",
    "\n",
    "# Normaliza las características.\n",
    "train_features = norm(features)\n",
    "test_features = norm(test_features)\n",
    "# Split para entrenamiento y validacion, con 20% para testeo y se aleatorizan.\n",
    "train_labels = labels_df\n",
    "test_labels = labels_df\n",
    "\n",
    "train_features, train_labels = shuffle(train_features, train_labels, random_state=0)\n",
    "test_features, test_labels = shuffle(test_features, test_labels, random_state= 0)\n",
    "display(test_features)\n",
    "display(test_labels)"
   ]
  },
  {
   "attachments": {},
   "cell_type": "markdown",
   "metadata": {},
   "source": [
    "# Creación del Modelo"
   ]
  },
  {
   "cell_type": "code",
   "execution_count": 23,
   "metadata": {},
   "outputs": [
    {
     "name": "stdout",
     "output_type": "stream",
     "text": [
      "Model: \"sequential_4\"\n",
      "_________________________________________________________________\n",
      " Layer (type)                Output Shape              Param #   \n",
      "=================================================================\n",
      " conv2d_16 (Conv2D)          (None, 15, 6, 8)          80        \n",
      "                                                                 \n",
      " conv2d_17 (Conv2D)          (None, 15, 6, 8)          584       \n",
      "                                                                 \n",
      " max_pooling2d_8 (MaxPooling  (None, 7, 3, 8)          0         \n",
      " 2D)                                                             \n",
      "                                                                 \n",
      " dropout_8 (Dropout)         (None, 7, 3, 8)           0         \n",
      "                                                                 \n",
      " conv2d_18 (Conv2D)          (None, 7, 3, 16)          1168      \n",
      "                                                                 \n",
      " conv2d_19 (Conv2D)          (None, 7, 3, 16)          2320      \n",
      "                                                                 \n",
      " max_pooling2d_9 (MaxPooling  (None, 3, 1, 16)         0         \n",
      " 2D)                                                             \n",
      "                                                                 \n",
      " dropout_9 (Dropout)         (None, 3, 1, 16)          0         \n",
      "                                                                 \n",
      " flatten_4 (Flatten)         (None, 48)                0         \n",
      "                                                                 \n",
      " dense_8 (Dense)             (None, 24)                1176      \n",
      "                                                                 \n",
      " dense_9 (Dense)             (None, 5)                 125       \n",
      "                                                                 \n",
      "=================================================================\n",
      "Total params: 5,453\n",
      "Trainable params: 5,453\n",
      "Non-trainable params: 0\n",
      "_________________________________________________________________\n"
     ]
    }
   ],
   "source": [
    "'''/* \n",
    "Function: my_model\n",
    "\n",
    "Genera el modelo categórico convolucional y lo compila. El modelo consiste de lo siguiente:\n",
    "    - Una capa de entradas de forma (15,6,1) que es igual a las dimensiones de la matriz de datos.\n",
    "    \n",
    "    - Una capa de convolución de dos dimensiones que genera 8 filtros, tiene un kernel 3x3, \n",
    "        función de activación ReLu y un padding para que mantenga las dimensiones de la entrada.\n",
    "    - Una capa de convolución de dos dimensiones que genera 8 filtros, tiene un kernel 3x3, \n",
    "        función de activación ReLu y un padding para que mantenga las dimensiones de la entrada.\n",
    "    - Una capa de Max Pooling con un pool de 2x2, un salto de 2 casillas y sin padding.\n",
    "    - Una capa de Dropout razón con una razón de 0.3\n",
    "\n",
    "    - Una capa de convolución de dos dimensiones que genera 16 filtros, tiene un kernel 3x3, \n",
    "        función de activación ReLu y un padding para que mantenga las dimensiones de la entrada.\n",
    "    - Una capa de convolución de dos dimensiones que genera 16 filtros, tiene un kernel 3x3, \n",
    "        función de activación ReLu y un padding para que mantenga las dimensiones de la entrada.\n",
    "    - Una capa de Max Pooling con un pool de 2x2, un salto de 2 casillas y sin padding.\n",
    "    - Una capa de Dropout razón con una razón de 0.2.\n",
    "    \n",
    "    - Una capa de flatten para pasar de varias dimensiones a una.\n",
    "    - Una capa oculta con 24 neuronas y con una función de activación ReLu.\n",
    "    - Una capa de salida con 5 neuronas. Una por categoría.\n",
    "    \n",
    "    - Utiliza ADAM como optimizador.\n",
    "    - La función de pérdida es la Entropía Cruzada Categórica.\n",
    "    - La métrica de evaluación es la exactitud.\n",
    "    \n",
    "Parameters:\n",
    "\n",
    "    my_learning_rate - Razón de aprendizaje.\n",
    "    \n",
    "Returns:\n",
    "\n",
    "    El modelo neuronal ya creado.\n",
    "*/'''\n",
    "\n",
    "def my_model(learning_rate):\n",
    "    model = tf.keras.Sequential([\n",
    "        tf.keras.layers.Conv2D(8, (3,3), activation='relu', input_shape = (15,6,1), padding='same'), # #de feature maps, dimensiones del kernel, kernel entre más pequeño mejor y se prefiere un número impar\n",
    "        tf.keras.layers.Conv2D(8, (3,3), activation='relu', padding='same'),\n",
    "        tf.keras.layers.MaxPooling2D((2,2), strides= 2, padding= 'valid'), # dimensiones del pooling\n",
    "        tf.keras.layers.Dropout(0.3),\n",
    "        tf.keras.layers.Conv2D(16, (3,3), activation='relu', padding='same'),\n",
    "        tf.keras.layers.Conv2D(16, (3,3), activation='relu', padding='same'),# #de feature maps, dimensiones del kernel, kernel entre más pequeño mejor y se prefiere un número impar\n",
    "        tf.keras.layers.MaxPooling2D((2,2), strides= 2, padding='valid'), # dimensiones del pooling\n",
    "        tf.keras.layers.Dropout(0.2),\n",
    "        tf.keras.layers.Flatten(),\n",
    "        tf.keras.layers.Dense(24, activation='relu'),\n",
    "        tf.keras.layers.Dense(5, activation='softmax')])\n",
    "    \n",
    "    model.compile(optimizer=tf.keras.optimizers.Adam(learning_rate), loss=tf.keras.losses.CategoricalCrossentropy(from_logits=True),\n",
    "                metrics=['accuracy'])\n",
    "    \n",
    "    return model\n",
    "\n",
    "model = model = my_model(0.01)\n",
    "model.summary()"
   ]
  },
  {
   "attachments": {},
   "cell_type": "markdown",
   "metadata": {},
   "source": [
    "# Entrenamiento del Modelo"
   ]
  },
  {
   "cell_type": "code",
   "execution_count": 24,
   "metadata": {},
   "outputs": [],
   "source": [
    "'''/* \n",
    "Function: train_model\n",
    "\n",
    "Alimenta los datos correspondientes a las características y etiquetas al modelo y conduce el proceso de entrenamiento y validación.\n",
    "Además de esto, también le establece al modelo la cantidad de ciclos de entrenamiento y el tamaño del batch.\n",
    "Por último crea un subconjunto de validación con un 25% de los datos de entrenamiento.\n",
    "    \n",
    "Parameters:\n",
    "\n",
    "    model - El modelo creado anteriormente.\n",
    "    features - Conjunto que contiene las características.\n",
    "    labels - Conjunto que contiene las etiquetas.\n",
    "    epochs - Cantidad de ciclos de entrenamiento\n",
    "    batch_size - Tamaño del batch.\n",
    "    \n",
    "Returns:\n",
    "\n",
    "    Los resultados del entrenamiento.\n",
    "*/'''\n",
    "\n",
    "\n",
    "def train_model(model, features, labels, epochs, batch_size):\n",
    "    history = model.fit(\n",
    "        x = features,\n",
    "        y = labels,\n",
    "        epochs= epochs,\n",
    "        batch_size= batch_size,\n",
    "        validation_split= 0.25\n",
    "    )\n",
    "    # Guarda los resultados obtenidos del proceso de entrenamiento y validación en un DataFrame.\n",
    "    # Estos resultados son las pérdidas y el número del ciclo correspondiente.\n",
    "    hist= pd.DataFrame(history.history)\n",
    "    # Añade al DataFrame la información sobre los ciclos.\n",
    "    hist['epoch'] = history.epoch\n",
    "    \n",
    "    return hist"
   ]
  },
  {
   "attachments": {},
   "cell_type": "markdown",
   "metadata": {},
   "source": [
    "# Visualizaciones"
   ]
  },
  {
   "cell_type": "code",
   "execution_count": 25,
   "metadata": {},
   "outputs": [],
   "source": [
    "'''/* \n",
    "Function: loss_curve\n",
    "\n",
    "Grafica las curvas de pérdida correspondientes al entrenamiento y la validación.\n",
    "    \n",
    "Parameters:\n",
    "\n",
    "    history - Resultados provenientes del proceso de entrenamiento.\n",
    "    \n",
    "Returns:\n",
    "\n",
    "    Las gráficas ya creadas.\n",
    "*/'''\n",
    "\n",
    "def loss_curves(history):\n",
    "    hist = history\n",
    "    # Cambia los títulos de cada columna que contiene los datos de exactitud por una versión más legible\n",
    "    labels = {\"loss\":\"Training Loss\", \"val_loss\":\"Validation Loss\"}\n",
    "    hist.rename(columns = labels, inplace = True)\n",
    "    \n",
    "    # Crea la figura, establece los títulos de eje y la paleta de colors\n",
    "    fig = px.line(hist, x='epoch', y=['Training Loss', 'Validation Loss'],\n",
    "                title='Gráficas de Pérdida de Entrenamiento y Evaluación',\n",
    "                labels={\"epoch\": \"Epoch\", \"value\":\"Binary Cross Entropy\", \"variable\":\"Curvas de Pérdida\"},\n",
    "                color_discrete_map={\n",
    "                \"Training Loss\": \"#46039f\", \"Validation Loss\": \"#fb9f3a\"})\n",
    "    # Actualiza el tema de la gráfica.\n",
    "    fig.update_layout(template='plotly_white')\n",
    "    fig.show()\n",
    "    \n",
    "'''/* \n",
    "Function: accuracy_curve\n",
    "\n",
    "Grafica las curvas de exactitud correspondientes al entrenamiento y la validación.\n",
    "    \n",
    "Parameters:\n",
    "\n",
    "    history - Resultados provenientes del proceso de entrenamiento.\n",
    "    \n",
    "Returns:\n",
    "\n",
    "    Las gráficas ya creadas.\n",
    "*/'''\n",
    "    \n",
    "def accuracy_curve(history):\n",
    "    hist = history\n",
    "    # Cambia los títulos de cada columna que contiene los datos de exactitud por una versión más legible\n",
    "    labels = {\"val_accuracy\":\"Exactitud de Validación\", \"accuracy\":\"Exactitud de Entrenamiento\"}\n",
    "    hist.rename(columns = labels, inplace = True)\n",
    "    \n",
    "    # Crea la figura, establece los títulos de eje y la paleta de colors\n",
    "    fig = px.line(hist, x='epoch', y=['Exactitud de Entrenamiento', 'Exactitud de Validación'],\n",
    "                title='Gráficas de Exactitud',\n",
    "                labels={\"epoch\": \"Epoch\", \"value\":\"Exactitud\", \"variable\":\"Curvas de Exactitud\"},\n",
    "                color_discrete_map={\n",
    "                \"Training Loss\": \"#46039f\", \"Validation Loss\": \"#fb9f3a\"})\n",
    "    # Actualiza el tema de la gráfica.\n",
    "    fig.update_layout(template='plotly_white')\n",
    "    fig.show()"
   ]
  },
  {
   "attachments": {},
   "cell_type": "markdown",
   "metadata": {},
   "source": [
    "# Se corren las funciones"
   ]
  },
  {
   "cell_type": "code",
   "execution_count": 26,
   "metadata": {},
   "outputs": [
    {
     "name": "stdout",
     "output_type": "stream",
     "text": [
      "Epoch 1/350\n"
     ]
    },
    {
     "name": "stderr",
     "output_type": "stream",
     "text": [
      "C:\\Users\\dave4\\AppData\\Local\\Packages\\PythonSoftwareFoundation.Python.3.10_qbz5n2kfra8p0\\LocalCache\\local-packages\\Python310\\site-packages\\keras\\backend.py:5561: UserWarning:\n",
      "\n",
      "\"`categorical_crossentropy` received `from_logits=True`, but the `output` argument was produced by a Softmax activation and thus does not represent logits. Was this intended?\n",
      "\n"
     ]
    },
    {
     "name": "stdout",
     "output_type": "stream",
     "text": [
      "25/25 [==============================] - 1s 9ms/step - loss: 1.6130 - accuracy: 0.1870 - val_loss: 1.6039 - val_accuracy: 0.1951\n",
      "Epoch 2/350\n",
      "20/25 [=======================>......] - ETA: 0s - loss: 1.6050 - accuracy: 0.2500"
     ]
    },
    {
     "name": "stderr",
     "output_type": "stream",
     "text": [
      "C:\\Users\\dave4\\AppData\\Local\\Packages\\PythonSoftwareFoundation.Python.3.10_qbz5n2kfra8p0\\LocalCache\\local-packages\\Python310\\site-packages\\keras\\backend.py:5561: UserWarning:\n",
      "\n",
      "\"`categorical_crossentropy` received `from_logits=True`, but the `output` argument was produced by a Softmax activation and thus does not represent logits. Was this intended?\n",
      "\n"
     ]
    },
    {
     "name": "stdout",
     "output_type": "stream",
     "text": [
      "25/25 [==============================] - 0s 4ms/step - loss: 1.6011 - accuracy: 0.2439 - val_loss: 1.5949 - val_accuracy: 0.1951\n",
      "Epoch 3/350\n",
      "25/25 [==============================] - 0s 4ms/step - loss: 1.5861 - accuracy: 0.2602 - val_loss: 1.5667 - val_accuracy: 0.3659\n",
      "Epoch 4/350\n",
      "25/25 [==============================] - 0s 4ms/step - loss: 1.5712 - accuracy: 0.2520 - val_loss: 1.5602 - val_accuracy: 0.1951\n",
      "Epoch 5/350\n",
      "25/25 [==============================] - 0s 4ms/step - loss: 1.5654 - accuracy: 0.2846 - val_loss: 1.5552 - val_accuracy: 0.1951\n",
      "Epoch 6/350\n",
      "25/25 [==============================] - 0s 4ms/step - loss: 1.5677 - accuracy: 0.3089 - val_loss: 1.5626 - val_accuracy: 0.1951\n",
      "Epoch 7/350\n",
      "25/25 [==============================] - 0s 4ms/step - loss: 1.5601 - accuracy: 0.2439 - val_loss: 1.5418 - val_accuracy: 0.1951\n",
      "Epoch 8/350\n",
      "25/25 [==============================] - 0s 4ms/step - loss: 1.5521 - accuracy: 0.2520 - val_loss: 1.5409 - val_accuracy: 0.1951\n",
      "Epoch 9/350\n",
      "25/25 [==============================] - 0s 4ms/step - loss: 1.5323 - accuracy: 0.3089 - val_loss: 1.4969 - val_accuracy: 0.2195\n",
      "Epoch 10/350\n",
      "25/25 [==============================] - 0s 4ms/step - loss: 1.4826 - accuracy: 0.3333 - val_loss: 1.4441 - val_accuracy: 0.2927\n",
      "Epoch 11/350\n",
      "25/25 [==============================] - 0s 4ms/step - loss: 1.4551 - accuracy: 0.2846 - val_loss: 1.4707 - val_accuracy: 0.2927\n",
      "Epoch 12/350\n",
      "25/25 [==============================] - 0s 5ms/step - loss: 1.4026 - accuracy: 0.4228 - val_loss: 1.3298 - val_accuracy: 0.2927\n",
      "Epoch 13/350\n",
      "25/25 [==============================] - 0s 4ms/step - loss: 1.3445 - accuracy: 0.3821 - val_loss: 1.3107 - val_accuracy: 0.4634\n",
      "Epoch 14/350\n",
      "25/25 [==============================] - 0s 4ms/step - loss: 1.3430 - accuracy: 0.4146 - val_loss: 1.2880 - val_accuracy: 0.4390\n",
      "Epoch 15/350\n",
      "25/25 [==============================] - 0s 4ms/step - loss: 1.3230 - accuracy: 0.3333 - val_loss: 1.2815 - val_accuracy: 0.2927\n",
      "Epoch 16/350\n",
      "25/25 [==============================] - 0s 4ms/step - loss: 1.2982 - accuracy: 0.4309 - val_loss: 1.2814 - val_accuracy: 0.2927\n",
      "Epoch 17/350\n",
      "25/25 [==============================] - 0s 4ms/step - loss: 1.2998 - accuracy: 0.3902 - val_loss: 1.2776 - val_accuracy: 0.2927\n",
      "Epoch 18/350\n",
      "25/25 [==============================] - 0s 4ms/step - loss: 1.2748 - accuracy: 0.4309 - val_loss: 1.2591 - val_accuracy: 0.2927\n",
      "Epoch 19/350\n",
      "25/25 [==============================] - 0s 4ms/step - loss: 1.2982 - accuracy: 0.4309 - val_loss: 1.2704 - val_accuracy: 0.2927\n",
      "Epoch 20/350\n",
      "25/25 [==============================] - 0s 4ms/step - loss: 1.2742 - accuracy: 0.3821 - val_loss: 1.2734 - val_accuracy: 0.2927\n",
      "Epoch 21/350\n",
      "25/25 [==============================] - 0s 4ms/step - loss: 1.2436 - accuracy: 0.4065 - val_loss: 1.2504 - val_accuracy: 0.3171\n",
      "Epoch 22/350\n",
      "25/25 [==============================] - 0s 4ms/step - loss: 1.2357 - accuracy: 0.4228 - val_loss: 1.2805 - val_accuracy: 0.2927\n",
      "Epoch 23/350\n",
      "25/25 [==============================] - 0s 4ms/step - loss: 1.2514 - accuracy: 0.3659 - val_loss: 1.2065 - val_accuracy: 0.3659\n",
      "Epoch 24/350\n",
      "25/25 [==============================] - 0s 4ms/step - loss: 1.2227 - accuracy: 0.3902 - val_loss: 1.1930 - val_accuracy: 0.3171\n",
      "Epoch 25/350\n",
      "25/25 [==============================] - 0s 4ms/step - loss: 1.2304 - accuracy: 0.4390 - val_loss: 1.2530 - val_accuracy: 0.3171\n",
      "Epoch 26/350\n",
      "25/25 [==============================] - 0s 4ms/step - loss: 1.2032 - accuracy: 0.4553 - val_loss: 1.2110 - val_accuracy: 0.3415\n",
      "Epoch 27/350\n",
      "25/25 [==============================] - 0s 4ms/step - loss: 1.2178 - accuracy: 0.4065 - val_loss: 1.2073 - val_accuracy: 0.3415\n",
      "Epoch 28/350\n",
      "25/25 [==============================] - 0s 4ms/step - loss: 1.1624 - accuracy: 0.4878 - val_loss: 1.1695 - val_accuracy: 0.3415\n",
      "Epoch 29/350\n",
      "25/25 [==============================] - 0s 4ms/step - loss: 1.1369 - accuracy: 0.4797 - val_loss: 1.2179 - val_accuracy: 0.3171\n",
      "Epoch 30/350\n",
      "25/25 [==============================] - 0s 4ms/step - loss: 1.2511 - accuracy: 0.3984 - val_loss: 1.2809 - val_accuracy: 0.3171\n",
      "Epoch 31/350\n",
      "25/25 [==============================] - 0s 4ms/step - loss: 1.2256 - accuracy: 0.3902 - val_loss: 1.1921 - val_accuracy: 0.3415\n",
      "Epoch 32/350\n",
      "25/25 [==============================] - 0s 4ms/step - loss: 1.2106 - accuracy: 0.4472 - val_loss: 1.2637 - val_accuracy: 0.3171\n",
      "Epoch 33/350\n",
      "25/25 [==============================] - 0s 4ms/step - loss: 1.2493 - accuracy: 0.4228 - val_loss: 1.1877 - val_accuracy: 0.3415\n",
      "Epoch 34/350\n",
      "25/25 [==============================] - 0s 4ms/step - loss: 1.1653 - accuracy: 0.4959 - val_loss: 1.2246 - val_accuracy: 0.3415\n",
      "Epoch 35/350\n",
      "25/25 [==============================] - 0s 4ms/step - loss: 1.1766 - accuracy: 0.4797 - val_loss: 1.1226 - val_accuracy: 0.3902\n",
      "Epoch 36/350\n",
      "25/25 [==============================] - 0s 4ms/step - loss: 1.1360 - accuracy: 0.4878 - val_loss: 1.1458 - val_accuracy: 0.3659\n",
      "Epoch 37/350\n",
      "25/25 [==============================] - 0s 4ms/step - loss: 1.1359 - accuracy: 0.4797 - val_loss: 1.0694 - val_accuracy: 0.4878\n",
      "Epoch 38/350\n",
      "25/25 [==============================] - 0s 4ms/step - loss: 1.0971 - accuracy: 0.5203 - val_loss: 1.0427 - val_accuracy: 0.5610\n",
      "Epoch 39/350\n",
      "25/25 [==============================] - 0s 4ms/step - loss: 1.1207 - accuracy: 0.4959 - val_loss: 1.1131 - val_accuracy: 0.3659\n",
      "Epoch 40/350\n",
      "25/25 [==============================] - 0s 4ms/step - loss: 1.1325 - accuracy: 0.4878 - val_loss: 1.0922 - val_accuracy: 0.4146\n",
      "Epoch 41/350\n",
      "25/25 [==============================] - 0s 4ms/step - loss: 1.1281 - accuracy: 0.4797 - val_loss: 1.1525 - val_accuracy: 0.3415\n",
      "Epoch 42/350\n",
      "25/25 [==============================] - 0s 4ms/step - loss: 1.1030 - accuracy: 0.5285 - val_loss: 1.0183 - val_accuracy: 0.5610\n",
      "Epoch 43/350\n",
      "25/25 [==============================] - 0s 4ms/step - loss: 1.0661 - accuracy: 0.5203 - val_loss: 1.0320 - val_accuracy: 0.4146\n",
      "Epoch 44/350\n",
      "25/25 [==============================] - 0s 4ms/step - loss: 1.1519 - accuracy: 0.4472 - val_loss: 1.1911 - val_accuracy: 0.3415\n",
      "Epoch 45/350\n",
      "25/25 [==============================] - 0s 4ms/step - loss: 1.1515 - accuracy: 0.4390 - val_loss: 1.0819 - val_accuracy: 0.3902\n",
      "Epoch 46/350\n",
      "25/25 [==============================] - 0s 4ms/step - loss: 1.1257 - accuracy: 0.4472 - val_loss: 1.0816 - val_accuracy: 0.5854\n",
      "Epoch 47/350\n",
      "25/25 [==============================] - 0s 4ms/step - loss: 1.1163 - accuracy: 0.5122 - val_loss: 1.0707 - val_accuracy: 0.3902\n",
      "Epoch 48/350\n",
      "25/25 [==============================] - 0s 4ms/step - loss: 1.0717 - accuracy: 0.5122 - val_loss: 1.0123 - val_accuracy: 0.5366\n",
      "Epoch 49/350\n",
      "25/25 [==============================] - 0s 4ms/step - loss: 1.0731 - accuracy: 0.5610 - val_loss: 1.0066 - val_accuracy: 0.5122\n",
      "Epoch 50/350\n",
      "25/25 [==============================] - 0s 4ms/step - loss: 1.0359 - accuracy: 0.5285 - val_loss: 1.1069 - val_accuracy: 0.3659\n",
      "Epoch 51/350\n",
      "25/25 [==============================] - 0s 4ms/step - loss: 1.1108 - accuracy: 0.5285 - val_loss: 1.0050 - val_accuracy: 0.5610\n",
      "Epoch 52/350\n",
      "25/25 [==============================] - 0s 4ms/step - loss: 1.0681 - accuracy: 0.5122 - val_loss: 1.0649 - val_accuracy: 0.4146\n",
      "Epoch 53/350\n",
      "25/25 [==============================] - 0s 4ms/step - loss: 1.0460 - accuracy: 0.5366 - val_loss: 0.9816 - val_accuracy: 0.5366\n",
      "Epoch 54/350\n",
      "25/25 [==============================] - 0s 4ms/step - loss: 1.0204 - accuracy: 0.5610 - val_loss: 0.9740 - val_accuracy: 0.5610\n",
      "Epoch 55/350\n",
      "25/25 [==============================] - 0s 4ms/step - loss: 1.0459 - accuracy: 0.4878 - val_loss: 0.9661 - val_accuracy: 0.5854\n",
      "Epoch 56/350\n",
      "25/25 [==============================] - 0s 4ms/step - loss: 0.9857 - accuracy: 0.6260 - val_loss: 0.9606 - val_accuracy: 0.5610\n",
      "Epoch 57/350\n",
      "25/25 [==============================] - 0s 4ms/step - loss: 1.0649 - accuracy: 0.5122 - val_loss: 0.9725 - val_accuracy: 0.5610\n",
      "Epoch 58/350\n",
      "25/25 [==============================] - 0s 4ms/step - loss: 1.0365 - accuracy: 0.5447 - val_loss: 1.1224 - val_accuracy: 0.3902\n",
      "Epoch 59/350\n",
      "25/25 [==============================] - 0s 5ms/step - loss: 1.0313 - accuracy: 0.5041 - val_loss: 0.9610 - val_accuracy: 0.5854\n",
      "Epoch 60/350\n",
      "25/25 [==============================] - 0s 4ms/step - loss: 1.0464 - accuracy: 0.5528 - val_loss: 1.0019 - val_accuracy: 0.4634\n",
      "Epoch 61/350\n",
      "25/25 [==============================] - 0s 4ms/step - loss: 0.9986 - accuracy: 0.5285 - val_loss: 0.9810 - val_accuracy: 0.5122\n",
      "Epoch 62/350\n",
      "25/25 [==============================] - 0s 4ms/step - loss: 1.0091 - accuracy: 0.5285 - val_loss: 0.9377 - val_accuracy: 0.6098\n",
      "Epoch 63/350\n",
      "25/25 [==============================] - 0s 4ms/step - loss: 1.0368 - accuracy: 0.5285 - val_loss: 0.9493 - val_accuracy: 0.5366\n",
      "Epoch 64/350\n",
      "25/25 [==============================] - 0s 4ms/step - loss: 0.9921 - accuracy: 0.6016 - val_loss: 0.9411 - val_accuracy: 0.5366\n",
      "Epoch 65/350\n",
      "25/25 [==============================] - 0s 4ms/step - loss: 0.9874 - accuracy: 0.5854 - val_loss: 0.9527 - val_accuracy: 0.5610\n",
      "Epoch 66/350\n",
      "25/25 [==============================] - 0s 4ms/step - loss: 1.0583 - accuracy: 0.5122 - val_loss: 0.9689 - val_accuracy: 0.5366\n",
      "Epoch 67/350\n",
      "25/25 [==============================] - 0s 4ms/step - loss: 1.0402 - accuracy: 0.5203 - val_loss: 1.1445 - val_accuracy: 0.3902\n",
      "Epoch 68/350\n",
      "25/25 [==============================] - 0s 4ms/step - loss: 1.0740 - accuracy: 0.4878 - val_loss: 0.9150 - val_accuracy: 0.5610\n",
      "Epoch 69/350\n",
      "25/25 [==============================] - 0s 4ms/step - loss: 0.9987 - accuracy: 0.5854 - val_loss: 0.9516 - val_accuracy: 0.5854\n",
      "Epoch 70/350\n",
      "25/25 [==============================] - 0s 4ms/step - loss: 0.9857 - accuracy: 0.5691 - val_loss: 0.9465 - val_accuracy: 0.6098\n",
      "Epoch 71/350\n",
      "25/25 [==============================] - 0s 4ms/step - loss: 0.9807 - accuracy: 0.5285 - val_loss: 0.9341 - val_accuracy: 0.6098\n",
      "Epoch 72/350\n",
      "25/25 [==============================] - 0s 4ms/step - loss: 1.0000 - accuracy: 0.5935 - val_loss: 0.9283 - val_accuracy: 0.5610\n",
      "Epoch 73/350\n",
      "25/25 [==============================] - 0s 4ms/step - loss: 1.0038 - accuracy: 0.6179 - val_loss: 0.9409 - val_accuracy: 0.5854\n",
      "Epoch 74/350\n",
      "25/25 [==============================] - 0s 4ms/step - loss: 0.9571 - accuracy: 0.5772 - val_loss: 0.9898 - val_accuracy: 0.4634\n",
      "Epoch 75/350\n",
      "25/25 [==============================] - 0s 4ms/step - loss: 0.9601 - accuracy: 0.6423 - val_loss: 0.9967 - val_accuracy: 0.4878\n",
      "Epoch 76/350\n",
      "25/25 [==============================] - 0s 4ms/step - loss: 1.0240 - accuracy: 0.5772 - val_loss: 0.9476 - val_accuracy: 0.5610\n",
      "Epoch 77/350\n",
      "25/25 [==============================] - 0s 4ms/step - loss: 0.9833 - accuracy: 0.5772 - val_loss: 1.0277 - val_accuracy: 0.4390\n",
      "Epoch 78/350\n",
      "25/25 [==============================] - 0s 4ms/step - loss: 0.9688 - accuracy: 0.6098 - val_loss: 1.0337 - val_accuracy: 0.3902\n",
      "Epoch 79/350\n",
      "25/25 [==============================] - 0s 4ms/step - loss: 0.9567 - accuracy: 0.5691 - val_loss: 0.9132 - val_accuracy: 0.5854\n",
      "Epoch 80/350\n",
      "25/25 [==============================] - 0s 3ms/step - loss: 0.9386 - accuracy: 0.6260 - val_loss: 0.9198 - val_accuracy: 0.6098\n",
      "Epoch 81/350\n",
      "25/25 [==============================] - 0s 4ms/step - loss: 0.9076 - accuracy: 0.6504 - val_loss: 0.9308 - val_accuracy: 0.5610\n",
      "Epoch 82/350\n",
      "25/25 [==============================] - 0s 4ms/step - loss: 0.9096 - accuracy: 0.6341 - val_loss: 0.9215 - val_accuracy: 0.5610\n",
      "Epoch 83/350\n",
      "25/25 [==============================] - 0s 4ms/step - loss: 0.9297 - accuracy: 0.5610 - val_loss: 1.0030 - val_accuracy: 0.4878\n",
      "Epoch 84/350\n",
      "25/25 [==============================] - 0s 4ms/step - loss: 0.8972 - accuracy: 0.6179 - val_loss: 0.9687 - val_accuracy: 0.5854\n",
      "Epoch 85/350\n",
      "25/25 [==============================] - 0s 4ms/step - loss: 0.8969 - accuracy: 0.5935 - val_loss: 0.9501 - val_accuracy: 0.5366\n",
      "Epoch 86/350\n",
      "25/25 [==============================] - 0s 4ms/step - loss: 0.9926 - accuracy: 0.5447 - val_loss: 1.1086 - val_accuracy: 0.4146\n",
      "Epoch 87/350\n",
      "25/25 [==============================] - 0s 4ms/step - loss: 0.9735 - accuracy: 0.5203 - val_loss: 0.8701 - val_accuracy: 0.6098\n",
      "Epoch 88/350\n",
      "25/25 [==============================] - 0s 4ms/step - loss: 0.8883 - accuracy: 0.6504 - val_loss: 0.8926 - val_accuracy: 0.5854\n",
      "Epoch 89/350\n",
      "25/25 [==============================] - 0s 4ms/step - loss: 0.8857 - accuracy: 0.6504 - val_loss: 0.9466 - val_accuracy: 0.5854\n",
      "Epoch 90/350\n",
      "25/25 [==============================] - 0s 4ms/step - loss: 0.9153 - accuracy: 0.6098 - val_loss: 0.9334 - val_accuracy: 0.5610\n",
      "Epoch 91/350\n",
      "25/25 [==============================] - 0s 3ms/step - loss: 0.9315 - accuracy: 0.5854 - val_loss: 1.0371 - val_accuracy: 0.3902\n",
      "Epoch 92/350\n",
      "25/25 [==============================] - 0s 4ms/step - loss: 0.9717 - accuracy: 0.5935 - val_loss: 0.9219 - val_accuracy: 0.6098\n",
      "Epoch 93/350\n",
      "25/25 [==============================] - 0s 4ms/step - loss: 0.9179 - accuracy: 0.5772 - val_loss: 0.8922 - val_accuracy: 0.6341\n",
      "Epoch 94/350\n",
      "25/25 [==============================] - 0s 4ms/step - loss: 0.8723 - accuracy: 0.6423 - val_loss: 0.8622 - val_accuracy: 0.6098\n",
      "Epoch 95/350\n",
      "25/25 [==============================] - 0s 4ms/step - loss: 0.9343 - accuracy: 0.5935 - val_loss: 0.8720 - val_accuracy: 0.6341\n",
      "Epoch 96/350\n",
      "25/25 [==============================] - 0s 4ms/step - loss: 0.9595 - accuracy: 0.5691 - val_loss: 0.9021 - val_accuracy: 0.5854\n",
      "Epoch 97/350\n",
      "25/25 [==============================] - 0s 4ms/step - loss: 0.8860 - accuracy: 0.6179 - val_loss: 0.8802 - val_accuracy: 0.6341\n",
      "Epoch 98/350\n",
      "25/25 [==============================] - 0s 4ms/step - loss: 0.9037 - accuracy: 0.6585 - val_loss: 0.8774 - val_accuracy: 0.6341\n",
      "Epoch 99/350\n",
      "25/25 [==============================] - 0s 4ms/step - loss: 0.8961 - accuracy: 0.6179 - val_loss: 0.8991 - val_accuracy: 0.6098\n",
      "Epoch 100/350\n",
      "25/25 [==============================] - 0s 4ms/step - loss: 0.9237 - accuracy: 0.6179 - val_loss: 0.8960 - val_accuracy: 0.6098\n",
      "Epoch 101/350\n",
      "25/25 [==============================] - 0s 4ms/step - loss: 0.8634 - accuracy: 0.6504 - val_loss: 0.9645 - val_accuracy: 0.5366\n",
      "Epoch 102/350\n",
      "25/25 [==============================] - 0s 3ms/step - loss: 0.9379 - accuracy: 0.6098 - val_loss: 0.8502 - val_accuracy: 0.6098\n",
      "Epoch 103/350\n",
      "25/25 [==============================] - 0s 4ms/step - loss: 0.9113 - accuracy: 0.6179 - val_loss: 0.8533 - val_accuracy: 0.6341\n",
      "Epoch 104/350\n",
      "25/25 [==============================] - 0s 4ms/step - loss: 0.7994 - accuracy: 0.7154 - val_loss: 0.8723 - val_accuracy: 0.6341\n",
      "Epoch 105/350\n",
      "25/25 [==============================] - 0s 4ms/step - loss: 0.8180 - accuracy: 0.6504 - val_loss: 0.8673 - val_accuracy: 0.6341\n",
      "Epoch 106/350\n",
      "25/25 [==============================] - 0s 4ms/step - loss: 0.8828 - accuracy: 0.5691 - val_loss: 0.8835 - val_accuracy: 0.6341\n",
      "Epoch 107/350\n",
      "25/25 [==============================] - 0s 4ms/step - loss: 0.9319 - accuracy: 0.5691 - val_loss: 0.9077 - val_accuracy: 0.6098\n",
      "Epoch 108/350\n",
      "25/25 [==============================] - 0s 4ms/step - loss: 0.8596 - accuracy: 0.6260 - val_loss: 0.8409 - val_accuracy: 0.6341\n",
      "Epoch 109/350\n",
      "25/25 [==============================] - 0s 4ms/step - loss: 0.8656 - accuracy: 0.6504 - val_loss: 0.8677 - val_accuracy: 0.6098\n",
      "Epoch 110/350\n",
      "25/25 [==============================] - 0s 4ms/step - loss: 0.8612 - accuracy: 0.6423 - val_loss: 0.8688 - val_accuracy: 0.5854\n",
      "Epoch 111/350\n",
      "25/25 [==============================] - 0s 4ms/step - loss: 0.9402 - accuracy: 0.5854 - val_loss: 0.8923 - val_accuracy: 0.5854\n",
      "Epoch 112/350\n",
      "25/25 [==============================] - 0s 4ms/step - loss: 0.8262 - accuracy: 0.6667 - val_loss: 0.8418 - val_accuracy: 0.6585\n",
      "Epoch 113/350\n",
      "25/25 [==============================] - 0s 4ms/step - loss: 0.8495 - accuracy: 0.6504 - val_loss: 0.8813 - val_accuracy: 0.6341\n",
      "Epoch 114/350\n",
      "25/25 [==============================] - 0s 4ms/step - loss: 0.8023 - accuracy: 0.6585 - val_loss: 0.8846 - val_accuracy: 0.5854\n",
      "Epoch 115/350\n",
      "25/25 [==============================] - 0s 4ms/step - loss: 0.7811 - accuracy: 0.6829 - val_loss: 0.8671 - val_accuracy: 0.6341\n",
      "Epoch 116/350\n",
      "25/25 [==============================] - 0s 4ms/step - loss: 0.7798 - accuracy: 0.6667 - val_loss: 0.8610 - val_accuracy: 0.6341\n",
      "Epoch 117/350\n",
      "25/25 [==============================] - 0s 4ms/step - loss: 0.7789 - accuracy: 0.6992 - val_loss: 0.8694 - val_accuracy: 0.5854\n",
      "Epoch 118/350\n",
      "25/25 [==============================] - 0s 4ms/step - loss: 0.8302 - accuracy: 0.6504 - val_loss: 0.8456 - val_accuracy: 0.6585\n",
      "Epoch 119/350\n",
      "25/25 [==============================] - 0s 4ms/step - loss: 0.8184 - accuracy: 0.6748 - val_loss: 0.8491 - val_accuracy: 0.6341\n",
      "Epoch 120/350\n",
      "25/25 [==============================] - 0s 4ms/step - loss: 0.8209 - accuracy: 0.6992 - val_loss: 0.8572 - val_accuracy: 0.6585\n",
      "Epoch 121/350\n",
      "25/25 [==============================] - 0s 4ms/step - loss: 0.8130 - accuracy: 0.6585 - val_loss: 0.8407 - val_accuracy: 0.6585\n",
      "Epoch 122/350\n",
      "25/25 [==============================] - 0s 4ms/step - loss: 0.7818 - accuracy: 0.6992 - val_loss: 0.8497 - val_accuracy: 0.6098\n",
      "Epoch 123/350\n",
      "25/25 [==============================] - 0s 4ms/step - loss: 0.7944 - accuracy: 0.6829 - val_loss: 0.8428 - val_accuracy: 0.6341\n",
      "Epoch 124/350\n",
      "25/25 [==============================] - 0s 4ms/step - loss: 0.8321 - accuracy: 0.6504 - val_loss: 0.8237 - val_accuracy: 0.6585\n",
      "Epoch 125/350\n",
      "25/25 [==============================] - 0s 4ms/step - loss: 0.7473 - accuracy: 0.6748 - val_loss: 0.8134 - val_accuracy: 0.6585\n",
      "Epoch 126/350\n",
      "25/25 [==============================] - 0s 4ms/step - loss: 0.7639 - accuracy: 0.6748 - val_loss: 0.8696 - val_accuracy: 0.6098\n",
      "Epoch 127/350\n",
      "25/25 [==============================] - 0s 4ms/step - loss: 0.8119 - accuracy: 0.6341 - val_loss: 0.8168 - val_accuracy: 0.6585\n",
      "Epoch 128/350\n",
      "25/25 [==============================] - 0s 4ms/step - loss: 0.8040 - accuracy: 0.6585 - val_loss: 0.8253 - val_accuracy: 0.6341\n",
      "Epoch 129/350\n",
      "25/25 [==============================] - 0s 4ms/step - loss: 0.8275 - accuracy: 0.6423 - val_loss: 0.8069 - val_accuracy: 0.5854\n",
      "Epoch 130/350\n",
      "25/25 [==============================] - 0s 4ms/step - loss: 0.7516 - accuracy: 0.6748 - val_loss: 0.8200 - val_accuracy: 0.6341\n",
      "Epoch 131/350\n",
      "25/25 [==============================] - 0s 3ms/step - loss: 0.9054 - accuracy: 0.6179 - val_loss: 0.8794 - val_accuracy: 0.5610\n",
      "Epoch 132/350\n",
      "25/25 [==============================] - 0s 4ms/step - loss: 0.8321 - accuracy: 0.6585 - val_loss: 0.8403 - val_accuracy: 0.6341\n",
      "Epoch 133/350\n",
      "25/25 [==============================] - 0s 4ms/step - loss: 0.8962 - accuracy: 0.6179 - val_loss: 0.8678 - val_accuracy: 0.5610\n",
      "Epoch 134/350\n",
      "25/25 [==============================] - 0s 4ms/step - loss: 0.8552 - accuracy: 0.6585 - val_loss: 0.8647 - val_accuracy: 0.6585\n",
      "Epoch 135/350\n",
      "25/25 [==============================] - 0s 3ms/step - loss: 0.8102 - accuracy: 0.6911 - val_loss: 0.8246 - val_accuracy: 0.6341\n",
      "Epoch 136/350\n",
      "25/25 [==============================] - 0s 4ms/step - loss: 0.8693 - accuracy: 0.6504 - val_loss: 0.8789 - val_accuracy: 0.6341\n",
      "Epoch 137/350\n",
      "25/25 [==============================] - 0s 4ms/step - loss: 0.8621 - accuracy: 0.6585 - val_loss: 0.8760 - val_accuracy: 0.6098\n",
      "Epoch 138/350\n",
      "25/25 [==============================] - 0s 4ms/step - loss: 0.8099 - accuracy: 0.7317 - val_loss: 0.8129 - val_accuracy: 0.5854\n",
      "Epoch 139/350\n",
      "25/25 [==============================] - 0s 4ms/step - loss: 0.7806 - accuracy: 0.7073 - val_loss: 0.8577 - val_accuracy: 0.6098\n",
      "Epoch 140/350\n",
      "25/25 [==============================] - 0s 4ms/step - loss: 0.8122 - accuracy: 0.6667 - val_loss: 0.8954 - val_accuracy: 0.5854\n",
      "Epoch 141/350\n",
      "25/25 [==============================] - 0s 4ms/step - loss: 0.8256 - accuracy: 0.6260 - val_loss: 0.9336 - val_accuracy: 0.5854\n",
      "Epoch 142/350\n",
      "25/25 [==============================] - 0s 4ms/step - loss: 0.7800 - accuracy: 0.6829 - val_loss: 0.8397 - val_accuracy: 0.6098\n",
      "Epoch 143/350\n",
      "25/25 [==============================] - 0s 4ms/step - loss: 0.8492 - accuracy: 0.6585 - val_loss: 0.8619 - val_accuracy: 0.6585\n",
      "Epoch 144/350\n",
      "25/25 [==============================] - 0s 4ms/step - loss: 0.8791 - accuracy: 0.6260 - val_loss: 1.0646 - val_accuracy: 0.5366\n",
      "Epoch 145/350\n",
      "25/25 [==============================] - 0s 4ms/step - loss: 0.9308 - accuracy: 0.5935 - val_loss: 0.8812 - val_accuracy: 0.6098\n",
      "Epoch 146/350\n",
      "25/25 [==============================] - 0s 3ms/step - loss: 0.9520 - accuracy: 0.5610 - val_loss: 0.8627 - val_accuracy: 0.6341\n",
      "Epoch 147/350\n",
      "25/25 [==============================] - 0s 4ms/step - loss: 0.8323 - accuracy: 0.6423 - val_loss: 0.9222 - val_accuracy: 0.5610\n",
      "Epoch 148/350\n",
      "25/25 [==============================] - 0s 4ms/step - loss: 0.8707 - accuracy: 0.6260 - val_loss: 0.9519 - val_accuracy: 0.5610\n",
      "Epoch 149/350\n",
      "25/25 [==============================] - 0s 4ms/step - loss: 0.8394 - accuracy: 0.6585 - val_loss: 0.8151 - val_accuracy: 0.6585\n",
      "Epoch 150/350\n",
      "25/25 [==============================] - 0s 4ms/step - loss: 0.7906 - accuracy: 0.7317 - val_loss: 0.8377 - val_accuracy: 0.6585\n",
      "Epoch 151/350\n",
      "25/25 [==============================] - 0s 4ms/step - loss: 0.8049 - accuracy: 0.6504 - val_loss: 0.8470 - val_accuracy: 0.5854\n",
      "Epoch 152/350\n",
      "25/25 [==============================] - 0s 4ms/step - loss: 0.8078 - accuracy: 0.6992 - val_loss: 0.8749 - val_accuracy: 0.6585\n",
      "Epoch 153/350\n",
      "25/25 [==============================] - 0s 4ms/step - loss: 0.8188 - accuracy: 0.6504 - val_loss: 0.8553 - val_accuracy: 0.6585\n",
      "Epoch 154/350\n",
      "25/25 [==============================] - 0s 3ms/step - loss: 0.9201 - accuracy: 0.6098 - val_loss: 1.0014 - val_accuracy: 0.5366\n",
      "Epoch 155/350\n",
      "25/25 [==============================] - 0s 4ms/step - loss: 0.8502 - accuracy: 0.6098 - val_loss: 0.8325 - val_accuracy: 0.6585\n",
      "Epoch 156/350\n",
      "25/25 [==============================] - 0s 4ms/step - loss: 0.8236 - accuracy: 0.6423 - val_loss: 0.8239 - val_accuracy: 0.6098\n",
      "Epoch 157/350\n",
      "25/25 [==============================] - 0s 4ms/step - loss: 0.8005 - accuracy: 0.6911 - val_loss: 0.9395 - val_accuracy: 0.5854\n",
      "Epoch 158/350\n",
      "25/25 [==============================] - 0s 3ms/step - loss: 0.8101 - accuracy: 0.6667 - val_loss: 0.8338 - val_accuracy: 0.6098\n",
      "Epoch 159/350\n",
      "25/25 [==============================] - 0s 3ms/step - loss: 0.7610 - accuracy: 0.6667 - val_loss: 0.8218 - val_accuracy: 0.6585\n",
      "Epoch 160/350\n",
      "25/25 [==============================] - 0s 3ms/step - loss: 0.7604 - accuracy: 0.6992 - val_loss: 0.8721 - val_accuracy: 0.5854\n",
      "Epoch 161/350\n",
      "25/25 [==============================] - 0s 4ms/step - loss: 0.6981 - accuracy: 0.7236 - val_loss: 0.7822 - val_accuracy: 0.6585\n",
      "Epoch 162/350\n",
      "25/25 [==============================] - 0s 4ms/step - loss: 0.7863 - accuracy: 0.6423 - val_loss: 0.8493 - val_accuracy: 0.6341\n",
      "Epoch 163/350\n",
      "25/25 [==============================] - 0s 4ms/step - loss: 0.8121 - accuracy: 0.6585 - val_loss: 0.8180 - val_accuracy: 0.6341\n",
      "Epoch 164/350\n",
      "25/25 [==============================] - 0s 4ms/step - loss: 0.7488 - accuracy: 0.6585 - val_loss: 0.7644 - val_accuracy: 0.6585\n",
      "Epoch 165/350\n",
      "25/25 [==============================] - 0s 4ms/step - loss: 0.8351 - accuracy: 0.6341 - val_loss: 0.9156 - val_accuracy: 0.5610\n",
      "Epoch 166/350\n",
      "25/25 [==============================] - 0s 4ms/step - loss: 0.7968 - accuracy: 0.6911 - val_loss: 0.8204 - val_accuracy: 0.5610\n",
      "Epoch 167/350\n",
      "25/25 [==============================] - 0s 4ms/step - loss: 0.7747 - accuracy: 0.6585 - val_loss: 0.8004 - val_accuracy: 0.6585\n",
      "Epoch 168/350\n",
      "25/25 [==============================] - 0s 4ms/step - loss: 0.8217 - accuracy: 0.6260 - val_loss: 0.7924 - val_accuracy: 0.6341\n",
      "Epoch 169/350\n",
      "25/25 [==============================] - 0s 4ms/step - loss: 0.7807 - accuracy: 0.6829 - val_loss: 0.7895 - val_accuracy: 0.6829\n",
      "Epoch 170/350\n",
      "25/25 [==============================] - 0s 4ms/step - loss: 0.7538 - accuracy: 0.6829 - val_loss: 0.7793 - val_accuracy: 0.6341\n",
      "Epoch 171/350\n",
      "25/25 [==============================] - 0s 4ms/step - loss: 0.7381 - accuracy: 0.6911 - val_loss: 0.8453 - val_accuracy: 0.6585\n",
      "Epoch 172/350\n",
      "25/25 [==============================] - 0s 4ms/step - loss: 0.6969 - accuracy: 0.7236 - val_loss: 0.8087 - val_accuracy: 0.6341\n",
      "Epoch 173/350\n",
      "25/25 [==============================] - 0s 4ms/step - loss: 0.7385 - accuracy: 0.7073 - val_loss: 0.7848 - val_accuracy: 0.6098\n",
      "Epoch 174/350\n",
      "25/25 [==============================] - 0s 3ms/step - loss: 0.7258 - accuracy: 0.7073 - val_loss: 0.7586 - val_accuracy: 0.6585\n",
      "Epoch 175/350\n",
      "25/25 [==============================] - 0s 3ms/step - loss: 0.7909 - accuracy: 0.6423 - val_loss: 0.8429 - val_accuracy: 0.6341\n",
      "Epoch 176/350\n",
      "25/25 [==============================] - 0s 3ms/step - loss: 0.8538 - accuracy: 0.6016 - val_loss: 0.7744 - val_accuracy: 0.6341\n",
      "Epoch 177/350\n",
      "25/25 [==============================] - 0s 4ms/step - loss: 0.7538 - accuracy: 0.6829 - val_loss: 1.0574 - val_accuracy: 0.5610\n",
      "Epoch 178/350\n",
      "25/25 [==============================] - 0s 3ms/step - loss: 0.8738 - accuracy: 0.6098 - val_loss: 0.7814 - val_accuracy: 0.6341\n",
      "Epoch 179/350\n",
      "25/25 [==============================] - 0s 3ms/step - loss: 0.7113 - accuracy: 0.7236 - val_loss: 0.8148 - val_accuracy: 0.6341\n",
      "Epoch 180/350\n",
      "25/25 [==============================] - 0s 3ms/step - loss: 0.7393 - accuracy: 0.6667 - val_loss: 0.7707 - val_accuracy: 0.6341\n",
      "Epoch 181/350\n",
      "25/25 [==============================] - 0s 3ms/step - loss: 0.7771 - accuracy: 0.6667 - val_loss: 0.7975 - val_accuracy: 0.6098\n",
      "Epoch 182/350\n",
      "25/25 [==============================] - 0s 3ms/step - loss: 0.8528 - accuracy: 0.6341 - val_loss: 0.8092 - val_accuracy: 0.6098\n",
      "Epoch 183/350\n",
      "25/25 [==============================] - 0s 4ms/step - loss: 0.8210 - accuracy: 0.6341 - val_loss: 0.8198 - val_accuracy: 0.6341\n",
      "Epoch 184/350\n",
      "25/25 [==============================] - 0s 4ms/step - loss: 0.7223 - accuracy: 0.7154 - val_loss: 0.9856 - val_accuracy: 0.5854\n",
      "Epoch 185/350\n",
      "25/25 [==============================] - 0s 4ms/step - loss: 0.7873 - accuracy: 0.6911 - val_loss: 0.8125 - val_accuracy: 0.6341\n",
      "Epoch 186/350\n",
      "25/25 [==============================] - 0s 4ms/step - loss: 0.7521 - accuracy: 0.6992 - val_loss: 0.8370 - val_accuracy: 0.6098\n",
      "Epoch 187/350\n",
      "25/25 [==============================] - 0s 3ms/step - loss: 0.7474 - accuracy: 0.7073 - val_loss: 0.7656 - val_accuracy: 0.6585\n",
      "Epoch 188/350\n",
      "25/25 [==============================] - 0s 4ms/step - loss: 0.7244 - accuracy: 0.7236 - val_loss: 0.8724 - val_accuracy: 0.5854\n",
      "Epoch 189/350\n",
      "25/25 [==============================] - 0s 4ms/step - loss: 0.6950 - accuracy: 0.6829 - val_loss: 0.7681 - val_accuracy: 0.6341\n",
      "Epoch 190/350\n",
      "25/25 [==============================] - 0s 3ms/step - loss: 0.7886 - accuracy: 0.6748 - val_loss: 0.8810 - val_accuracy: 0.6098\n",
      "Epoch 191/350\n",
      "25/25 [==============================] - 0s 4ms/step - loss: 0.8222 - accuracy: 0.6585 - val_loss: 0.7974 - val_accuracy: 0.6098\n",
      "Epoch 192/350\n",
      "25/25 [==============================] - 0s 4ms/step - loss: 0.7099 - accuracy: 0.7236 - val_loss: 0.7695 - val_accuracy: 0.6341\n",
      "Epoch 193/350\n",
      "25/25 [==============================] - 0s 3ms/step - loss: 0.6984 - accuracy: 0.7154 - val_loss: 0.7634 - val_accuracy: 0.6341\n",
      "Epoch 194/350\n",
      "25/25 [==============================] - 0s 3ms/step - loss: 0.7831 - accuracy: 0.6260 - val_loss: 0.7991 - val_accuracy: 0.6098\n",
      "Epoch 195/350\n",
      "25/25 [==============================] - 0s 3ms/step - loss: 0.7472 - accuracy: 0.7317 - val_loss: 0.7782 - val_accuracy: 0.6341\n",
      "Epoch 196/350\n",
      "25/25 [==============================] - 0s 4ms/step - loss: 0.6909 - accuracy: 0.6992 - val_loss: 0.8329 - val_accuracy: 0.6098\n",
      "Epoch 197/350\n",
      "25/25 [==============================] - 0s 3ms/step - loss: 0.7862 - accuracy: 0.6911 - val_loss: 0.7496 - val_accuracy: 0.6585\n",
      "Epoch 198/350\n",
      "25/25 [==============================] - 0s 3ms/step - loss: 0.7182 - accuracy: 0.6829 - val_loss: 0.8221 - val_accuracy: 0.6098\n",
      "Epoch 199/350\n",
      "25/25 [==============================] - 0s 4ms/step - loss: 0.8151 - accuracy: 0.5854 - val_loss: 1.0445 - val_accuracy: 0.5854\n",
      "Epoch 200/350\n",
      "25/25 [==============================] - 0s 3ms/step - loss: 1.2389 - accuracy: 0.5122 - val_loss: 1.0904 - val_accuracy: 0.4634\n",
      "Epoch 201/350\n",
      "25/25 [==============================] - 0s 3ms/step - loss: 1.1077 - accuracy: 0.4959 - val_loss: 0.9702 - val_accuracy: 0.5366\n",
      "Epoch 202/350\n",
      "25/25 [==============================] - 0s 3ms/step - loss: 0.9624 - accuracy: 0.5447 - val_loss: 0.9752 - val_accuracy: 0.4878\n",
      "Epoch 203/350\n",
      "25/25 [==============================] - 0s 4ms/step - loss: 1.0919 - accuracy: 0.4878 - val_loss: 1.1324 - val_accuracy: 0.4634\n",
      "Epoch 204/350\n",
      "25/25 [==============================] - 0s 3ms/step - loss: 1.0131 - accuracy: 0.5122 - val_loss: 0.8643 - val_accuracy: 0.6585\n",
      "Epoch 205/350\n",
      "25/25 [==============================] - 0s 3ms/step - loss: 0.9150 - accuracy: 0.6098 - val_loss: 0.9097 - val_accuracy: 0.6098\n",
      "Epoch 206/350\n",
      "25/25 [==============================] - 0s 3ms/step - loss: 0.7814 - accuracy: 0.6748 - val_loss: 0.8519 - val_accuracy: 0.6341\n",
      "Epoch 207/350\n",
      "25/25 [==============================] - 0s 3ms/step - loss: 0.9279 - accuracy: 0.6585 - val_loss: 0.8287 - val_accuracy: 0.6585\n",
      "Epoch 208/350\n",
      "25/25 [==============================] - 0s 4ms/step - loss: 0.7159 - accuracy: 0.7480 - val_loss: 0.8191 - val_accuracy: 0.6098\n",
      "Epoch 209/350\n",
      "25/25 [==============================] - 0s 3ms/step - loss: 0.8025 - accuracy: 0.6341 - val_loss: 0.7901 - val_accuracy: 0.6098\n",
      "Epoch 210/350\n",
      "25/25 [==============================] - 0s 4ms/step - loss: 0.7851 - accuracy: 0.6504 - val_loss: 0.8427 - val_accuracy: 0.6341\n",
      "Epoch 211/350\n",
      "25/25 [==============================] - 0s 4ms/step - loss: 0.8140 - accuracy: 0.6667 - val_loss: 0.8337 - val_accuracy: 0.6098\n",
      "Epoch 212/350\n",
      "25/25 [==============================] - 0s 3ms/step - loss: 0.7939 - accuracy: 0.6667 - val_loss: 0.8037 - val_accuracy: 0.6341\n",
      "Epoch 213/350\n",
      "25/25 [==============================] - 0s 4ms/step - loss: 0.7001 - accuracy: 0.7236 - val_loss: 0.8038 - val_accuracy: 0.6341\n",
      "Epoch 214/350\n",
      "25/25 [==============================] - 0s 4ms/step - loss: 0.7705 - accuracy: 0.6667 - val_loss: 0.9278 - val_accuracy: 0.5854\n",
      "Epoch 215/350\n",
      "25/25 [==============================] - 0s 3ms/step - loss: 0.7519 - accuracy: 0.6748 - val_loss: 0.7815 - val_accuracy: 0.6341\n",
      "Epoch 216/350\n",
      "25/25 [==============================] - 0s 4ms/step - loss: 0.7789 - accuracy: 0.7480 - val_loss: 0.7824 - val_accuracy: 0.6098\n",
      "Epoch 217/350\n",
      "25/25 [==============================] - 0s 3ms/step - loss: 0.7282 - accuracy: 0.6911 - val_loss: 0.8222 - val_accuracy: 0.6341\n",
      "Epoch 218/350\n",
      "25/25 [==============================] - 0s 4ms/step - loss: 0.7334 - accuracy: 0.6992 - val_loss: 0.7939 - val_accuracy: 0.6341\n",
      "Epoch 219/350\n",
      "25/25 [==============================] - 0s 3ms/step - loss: 0.7853 - accuracy: 0.6911 - val_loss: 0.7908 - val_accuracy: 0.6341\n",
      "Epoch 220/350\n",
      "25/25 [==============================] - 0s 3ms/step - loss: 0.6926 - accuracy: 0.7398 - val_loss: 0.8004 - val_accuracy: 0.6341\n",
      "Epoch 221/350\n",
      "25/25 [==============================] - 0s 3ms/step - loss: 0.6902 - accuracy: 0.7480 - val_loss: 0.8062 - val_accuracy: 0.6098\n",
      "Epoch 222/350\n",
      "25/25 [==============================] - 0s 3ms/step - loss: 0.7648 - accuracy: 0.6992 - val_loss: 0.7609 - val_accuracy: 0.6341\n",
      "Epoch 223/350\n",
      "25/25 [==============================] - 0s 4ms/step - loss: 0.7045 - accuracy: 0.7073 - val_loss: 0.7658 - val_accuracy: 0.6098\n",
      "Epoch 224/350\n",
      "25/25 [==============================] - 0s 3ms/step - loss: 0.7328 - accuracy: 0.6911 - val_loss: 0.7529 - val_accuracy: 0.6098\n",
      "Epoch 225/350\n",
      "25/25 [==============================] - 0s 3ms/step - loss: 0.7929 - accuracy: 0.6341 - val_loss: 0.7848 - val_accuracy: 0.6341\n",
      "Epoch 226/350\n",
      "25/25 [==============================] - 0s 3ms/step - loss: 0.7804 - accuracy: 0.6992 - val_loss: 0.7576 - val_accuracy: 0.6341\n",
      "Epoch 227/350\n",
      "25/25 [==============================] - 0s 3ms/step - loss: 0.7013 - accuracy: 0.6911 - val_loss: 0.7521 - val_accuracy: 0.6341\n",
      "Epoch 228/350\n",
      "25/25 [==============================] - 0s 3ms/step - loss: 0.7586 - accuracy: 0.6748 - val_loss: 0.7836 - val_accuracy: 0.6341\n",
      "Epoch 229/350\n",
      "25/25 [==============================] - 0s 4ms/step - loss: 0.7643 - accuracy: 0.6911 - val_loss: 0.7641 - val_accuracy: 0.6341\n",
      "Epoch 230/350\n",
      "25/25 [==============================] - 0s 4ms/step - loss: 0.7211 - accuracy: 0.6911 - val_loss: 0.8325 - val_accuracy: 0.5610\n",
      "Epoch 231/350\n",
      "25/25 [==============================] - 0s 3ms/step - loss: 0.6964 - accuracy: 0.6992 - val_loss: 0.8950 - val_accuracy: 0.5610\n",
      "Epoch 232/350\n",
      "25/25 [==============================] - 0s 3ms/step - loss: 0.7434 - accuracy: 0.6667 - val_loss: 0.7709 - val_accuracy: 0.5854\n",
      "Epoch 233/350\n",
      "25/25 [==============================] - 0s 4ms/step - loss: 0.6964 - accuracy: 0.7236 - val_loss: 0.7436 - val_accuracy: 0.6585\n",
      "Epoch 234/350\n",
      "25/25 [==============================] - 0s 3ms/step - loss: 0.6844 - accuracy: 0.6992 - val_loss: 0.7709 - val_accuracy: 0.6341\n",
      "Epoch 235/350\n",
      "25/25 [==============================] - 0s 3ms/step - loss: 0.7431 - accuracy: 0.7236 - val_loss: 0.7274 - val_accuracy: 0.7073\n",
      "Epoch 236/350\n",
      "25/25 [==============================] - 0s 3ms/step - loss: 0.7835 - accuracy: 0.6748 - val_loss: 0.7714 - val_accuracy: 0.6341\n",
      "Epoch 237/350\n",
      "25/25 [==============================] - 0s 4ms/step - loss: 0.7852 - accuracy: 0.6667 - val_loss: 0.7771 - val_accuracy: 0.6341\n",
      "Epoch 238/350\n",
      "25/25 [==============================] - 0s 3ms/step - loss: 0.7665 - accuracy: 0.6667 - val_loss: 0.7589 - val_accuracy: 0.6098\n",
      "Epoch 239/350\n",
      "25/25 [==============================] - 0s 3ms/step - loss: 0.7513 - accuracy: 0.7398 - val_loss: 0.8377 - val_accuracy: 0.5854\n",
      "Epoch 240/350\n",
      "25/25 [==============================] - 0s 3ms/step - loss: 0.7178 - accuracy: 0.7073 - val_loss: 0.8418 - val_accuracy: 0.5854\n",
      "Epoch 241/350\n",
      "25/25 [==============================] - 0s 3ms/step - loss: 0.7640 - accuracy: 0.7154 - val_loss: 0.8644 - val_accuracy: 0.5366\n",
      "Epoch 242/350\n",
      "25/25 [==============================] - 0s 3ms/step - loss: 0.7973 - accuracy: 0.6667 - val_loss: 0.8455 - val_accuracy: 0.5854\n",
      "Epoch 243/350\n",
      "25/25 [==============================] - 0s 3ms/step - loss: 0.8695 - accuracy: 0.6098 - val_loss: 0.7230 - val_accuracy: 0.6585\n",
      "Epoch 244/350\n",
      "25/25 [==============================] - 0s 3ms/step - loss: 0.6897 - accuracy: 0.7236 - val_loss: 0.7719 - val_accuracy: 0.6585\n",
      "Epoch 245/350\n",
      "25/25 [==============================] - 0s 4ms/step - loss: 0.7520 - accuracy: 0.6504 - val_loss: 0.7779 - val_accuracy: 0.6341\n",
      "Epoch 246/350\n",
      "25/25 [==============================] - 0s 3ms/step - loss: 0.6906 - accuracy: 0.7317 - val_loss: 0.7703 - val_accuracy: 0.6585\n",
      "Epoch 247/350\n",
      "25/25 [==============================] - 0s 4ms/step - loss: 0.6507 - accuracy: 0.7073 - val_loss: 0.7433 - val_accuracy: 0.6341\n",
      "Epoch 248/350\n",
      "25/25 [==============================] - 0s 4ms/step - loss: 0.6414 - accuracy: 0.7317 - val_loss: 0.7256 - val_accuracy: 0.6829\n",
      "Epoch 249/350\n",
      "25/25 [==============================] - 0s 4ms/step - loss: 0.6248 - accuracy: 0.7154 - val_loss: 0.7359 - val_accuracy: 0.6585\n",
      "Epoch 250/350\n",
      "25/25 [==============================] - 0s 3ms/step - loss: 0.7073 - accuracy: 0.6992 - val_loss: 0.7396 - val_accuracy: 0.6585\n",
      "Epoch 251/350\n",
      "25/25 [==============================] - 0s 3ms/step - loss: 0.7345 - accuracy: 0.6992 - val_loss: 0.7382 - val_accuracy: 0.6829\n",
      "Epoch 252/350\n",
      "25/25 [==============================] - 0s 3ms/step - loss: 1.2279 - accuracy: 0.5854 - val_loss: 1.4023 - val_accuracy: 0.4146\n",
      "Epoch 253/350\n",
      "25/25 [==============================] - 0s 3ms/step - loss: 1.1074 - accuracy: 0.5285 - val_loss: 1.0021 - val_accuracy: 0.5610\n",
      "Epoch 254/350\n",
      "25/25 [==============================] - 0s 3ms/step - loss: 0.8650 - accuracy: 0.6179 - val_loss: 1.1778 - val_accuracy: 0.4390\n",
      "Epoch 255/350\n",
      "25/25 [==============================] - 0s 4ms/step - loss: 1.0682 - accuracy: 0.5528 - val_loss: 0.8584 - val_accuracy: 0.6585\n",
      "Epoch 256/350\n",
      "25/25 [==============================] - 0s 4ms/step - loss: 0.9343 - accuracy: 0.5935 - val_loss: 0.8587 - val_accuracy: 0.6585\n",
      "Epoch 257/350\n",
      "25/25 [==============================] - 0s 3ms/step - loss: 0.8711 - accuracy: 0.6098 - val_loss: 0.9448 - val_accuracy: 0.5366\n",
      "Epoch 258/350\n",
      "25/25 [==============================] - 0s 3ms/step - loss: 0.9144 - accuracy: 0.6423 - val_loss: 0.8256 - val_accuracy: 0.6585\n",
      "Epoch 259/350\n",
      "25/25 [==============================] - 0s 3ms/step - loss: 0.7878 - accuracy: 0.6911 - val_loss: 0.8692 - val_accuracy: 0.6341\n",
      "Epoch 260/350\n",
      "25/25 [==============================] - 0s 4ms/step - loss: 0.8702 - accuracy: 0.6179 - val_loss: 1.0657 - val_accuracy: 0.5122\n",
      "Epoch 261/350\n",
      "25/25 [==============================] - 0s 3ms/step - loss: 0.9824 - accuracy: 0.5610 - val_loss: 0.9014 - val_accuracy: 0.5854\n",
      "Epoch 262/350\n",
      "25/25 [==============================] - 0s 3ms/step - loss: 0.8019 - accuracy: 0.6098 - val_loss: 0.7546 - val_accuracy: 0.6829\n",
      "Epoch 263/350\n",
      "25/25 [==============================] - 0s 3ms/step - loss: 0.7428 - accuracy: 0.6992 - val_loss: 0.8470 - val_accuracy: 0.6098\n",
      "Epoch 264/350\n",
      "25/25 [==============================] - 0s 3ms/step - loss: 0.7255 - accuracy: 0.7154 - val_loss: 0.8148 - val_accuracy: 0.5854\n",
      "Epoch 265/350\n",
      "25/25 [==============================] - 0s 4ms/step - loss: 0.6993 - accuracy: 0.6829 - val_loss: 0.7260 - val_accuracy: 0.6341\n",
      "Epoch 266/350\n",
      "25/25 [==============================] - 0s 3ms/step - loss: 0.7677 - accuracy: 0.6911 - val_loss: 0.7475 - val_accuracy: 0.6829\n",
      "Epoch 267/350\n",
      "25/25 [==============================] - 0s 3ms/step - loss: 0.6936 - accuracy: 0.7154 - val_loss: 0.7555 - val_accuracy: 0.6585\n",
      "Epoch 268/350\n",
      "25/25 [==============================] - 0s 3ms/step - loss: 0.6847 - accuracy: 0.7073 - val_loss: 0.7331 - val_accuracy: 0.6829\n",
      "Epoch 269/350\n",
      "25/25 [==============================] - 0s 4ms/step - loss: 0.7135 - accuracy: 0.6911 - val_loss: 0.7168 - val_accuracy: 0.6098\n",
      "Epoch 270/350\n",
      "25/25 [==============================] - 0s 4ms/step - loss: 0.7079 - accuracy: 0.7561 - val_loss: 0.7519 - val_accuracy: 0.6829\n",
      "Epoch 271/350\n",
      "25/25 [==============================] - 0s 4ms/step - loss: 0.6381 - accuracy: 0.7154 - val_loss: 0.7683 - val_accuracy: 0.6098\n",
      "Epoch 272/350\n",
      "25/25 [==============================] - 0s 3ms/step - loss: 0.6712 - accuracy: 0.6992 - val_loss: 0.7631 - val_accuracy: 0.6585\n",
      "Epoch 273/350\n",
      "25/25 [==============================] - 0s 4ms/step - loss: 0.6810 - accuracy: 0.7317 - val_loss: 0.7307 - val_accuracy: 0.6829\n",
      "Epoch 274/350\n",
      "25/25 [==============================] - 0s 3ms/step - loss: 0.6722 - accuracy: 0.7236 - val_loss: 1.0219 - val_accuracy: 0.5366\n",
      "Epoch 275/350\n",
      "25/25 [==============================] - 0s 3ms/step - loss: 0.7702 - accuracy: 0.6748 - val_loss: 0.8055 - val_accuracy: 0.6585\n",
      "Epoch 276/350\n",
      "25/25 [==============================] - 0s 3ms/step - loss: 0.7650 - accuracy: 0.6423 - val_loss: 0.7102 - val_accuracy: 0.7073\n",
      "Epoch 277/350\n",
      "25/25 [==============================] - 0s 3ms/step - loss: 0.6562 - accuracy: 0.6992 - val_loss: 0.8392 - val_accuracy: 0.5610\n",
      "Epoch 278/350\n",
      "25/25 [==============================] - 0s 3ms/step - loss: 0.6404 - accuracy: 0.7236 - val_loss: 0.7513 - val_accuracy: 0.6585\n",
      "Epoch 279/350\n",
      "25/25 [==============================] - 0s 3ms/step - loss: 0.6472 - accuracy: 0.6911 - val_loss: 0.6921 - val_accuracy: 0.6829\n",
      "Epoch 280/350\n",
      "25/25 [==============================] - 0s 3ms/step - loss: 0.7056 - accuracy: 0.6585 - val_loss: 0.7393 - val_accuracy: 0.6098\n",
      "Epoch 281/350\n",
      "25/25 [==============================] - 0s 4ms/step - loss: 0.7149 - accuracy: 0.6748 - val_loss: 0.7237 - val_accuracy: 0.6829\n",
      "Epoch 282/350\n",
      "25/25 [==============================] - 0s 4ms/step - loss: 0.7115 - accuracy: 0.6992 - val_loss: 0.8289 - val_accuracy: 0.5854\n",
      "Epoch 283/350\n",
      "25/25 [==============================] - 0s 3ms/step - loss: 0.6812 - accuracy: 0.7073 - val_loss: 0.7541 - val_accuracy: 0.6829\n",
      "Epoch 284/350\n",
      "25/25 [==============================] - 0s 3ms/step - loss: 0.6115 - accuracy: 0.7480 - val_loss: 0.6972 - val_accuracy: 0.7073\n",
      "Epoch 285/350\n",
      "25/25 [==============================] - 0s 3ms/step - loss: 0.6483 - accuracy: 0.7236 - val_loss: 0.7811 - val_accuracy: 0.6341\n",
      "Epoch 286/350\n",
      "25/25 [==============================] - 0s 4ms/step - loss: 0.5901 - accuracy: 0.7154 - val_loss: 0.7677 - val_accuracy: 0.6098\n",
      "Epoch 287/350\n",
      "25/25 [==============================] - 0s 3ms/step - loss: 0.6807 - accuracy: 0.7561 - val_loss: 0.9332 - val_accuracy: 0.5366\n",
      "Epoch 288/350\n",
      "25/25 [==============================] - 0s 4ms/step - loss: 0.6644 - accuracy: 0.6992 - val_loss: 0.7724 - val_accuracy: 0.6585\n",
      "Epoch 289/350\n",
      "25/25 [==============================] - 0s 3ms/step - loss: 0.6335 - accuracy: 0.7317 - val_loss: 0.8574 - val_accuracy: 0.5854\n",
      "Epoch 290/350\n",
      "25/25 [==============================] - 0s 3ms/step - loss: 1.0532 - accuracy: 0.6341 - val_loss: 0.9813 - val_accuracy: 0.5122\n",
      "Epoch 291/350\n",
      "25/25 [==============================] - 0s 3ms/step - loss: 1.0101 - accuracy: 0.6423 - val_loss: 0.8468 - val_accuracy: 0.5610\n",
      "Epoch 292/350\n",
      "25/25 [==============================] - 0s 3ms/step - loss: 0.7875 - accuracy: 0.6585 - val_loss: 0.8195 - val_accuracy: 0.5610\n",
      "Epoch 293/350\n",
      "25/25 [==============================] - 0s 4ms/step - loss: 0.6925 - accuracy: 0.7073 - val_loss: 0.7835 - val_accuracy: 0.5854\n",
      "Epoch 294/350\n",
      "25/25 [==============================] - 0s 3ms/step - loss: 0.7306 - accuracy: 0.7073 - val_loss: 0.7715 - val_accuracy: 0.6585\n",
      "Epoch 295/350\n",
      "25/25 [==============================] - 0s 3ms/step - loss: 0.6631 - accuracy: 0.6992 - val_loss: 0.7557 - val_accuracy: 0.6829\n",
      "Epoch 296/350\n",
      "25/25 [==============================] - 0s 3ms/step - loss: 0.6388 - accuracy: 0.7236 - val_loss: 0.7084 - val_accuracy: 0.7317\n",
      "Epoch 297/350\n",
      "25/25 [==============================] - 0s 3ms/step - loss: 0.7584 - accuracy: 0.6911 - val_loss: 0.8776 - val_accuracy: 0.5366\n",
      "Epoch 298/350\n",
      "25/25 [==============================] - 0s 4ms/step - loss: 0.9236 - accuracy: 0.6016 - val_loss: 0.7488 - val_accuracy: 0.6829\n",
      "Epoch 299/350\n",
      "25/25 [==============================] - 0s 3ms/step - loss: 0.8559 - accuracy: 0.6341 - val_loss: 1.1069 - val_accuracy: 0.5366\n",
      "Epoch 300/350\n",
      "25/25 [==============================] - 0s 3ms/step - loss: 0.8557 - accuracy: 0.6667 - val_loss: 0.8269 - val_accuracy: 0.6341\n",
      "Epoch 301/350\n",
      "25/25 [==============================] - 0s 4ms/step - loss: 0.7944 - accuracy: 0.6504 - val_loss: 0.8302 - val_accuracy: 0.5854\n",
      "Epoch 302/350\n",
      "25/25 [==============================] - 0s 3ms/step - loss: 0.7960 - accuracy: 0.6585 - val_loss: 0.8191 - val_accuracy: 0.6098\n",
      "Epoch 303/350\n",
      "25/25 [==============================] - 0s 4ms/step - loss: 0.7177 - accuracy: 0.6911 - val_loss: 0.8420 - val_accuracy: 0.5366\n",
      "Epoch 304/350\n",
      "25/25 [==============================] - 0s 3ms/step - loss: 0.8035 - accuracy: 0.6504 - val_loss: 0.9415 - val_accuracy: 0.5366\n",
      "Epoch 305/350\n",
      "25/25 [==============================] - 0s 3ms/step - loss: 0.8023 - accuracy: 0.6748 - val_loss: 0.7411 - val_accuracy: 0.6829\n",
      "Epoch 306/350\n",
      "25/25 [==============================] - 0s 3ms/step - loss: 0.7886 - accuracy: 0.7073 - val_loss: 0.8100 - val_accuracy: 0.5610\n",
      "Epoch 307/350\n",
      "25/25 [==============================] - 0s 3ms/step - loss: 0.7657 - accuracy: 0.6911 - val_loss: 0.7754 - val_accuracy: 0.6341\n",
      "Epoch 308/350\n",
      "25/25 [==============================] - 0s 3ms/step - loss: 0.7584 - accuracy: 0.6748 - val_loss: 0.8564 - val_accuracy: 0.5610\n",
      "Epoch 309/350\n",
      "25/25 [==============================] - 0s 3ms/step - loss: 0.7225 - accuracy: 0.6667 - val_loss: 0.7473 - val_accuracy: 0.6585\n",
      "Epoch 310/350\n",
      "25/25 [==============================] - 0s 4ms/step - loss: 0.6478 - accuracy: 0.7154 - val_loss: 0.7886 - val_accuracy: 0.6341\n",
      "Epoch 311/350\n",
      "25/25 [==============================] - 0s 3ms/step - loss: 0.6988 - accuracy: 0.7154 - val_loss: 0.7879 - val_accuracy: 0.6098\n",
      "Epoch 312/350\n",
      "25/25 [==============================] - 0s 3ms/step - loss: 0.6768 - accuracy: 0.7154 - val_loss: 0.7710 - val_accuracy: 0.6098\n",
      "Epoch 313/350\n",
      "25/25 [==============================] - 0s 4ms/step - loss: 0.6480 - accuracy: 0.7642 - val_loss: 0.7946 - val_accuracy: 0.6341\n",
      "Epoch 314/350\n",
      "25/25 [==============================] - 0s 4ms/step - loss: 0.6035 - accuracy: 0.7561 - val_loss: 0.7213 - val_accuracy: 0.6341\n",
      "Epoch 315/350\n",
      "25/25 [==============================] - 0s 4ms/step - loss: 0.6099 - accuracy: 0.7642 - val_loss: 0.7603 - val_accuracy: 0.6341\n",
      "Epoch 316/350\n",
      "25/25 [==============================] - 0s 3ms/step - loss: 0.6585 - accuracy: 0.6748 - val_loss: 0.7699 - val_accuracy: 0.6098\n",
      "Epoch 317/350\n",
      "25/25 [==============================] - 0s 4ms/step - loss: 0.6175 - accuracy: 0.7236 - val_loss: 0.7896 - val_accuracy: 0.6098\n",
      "Epoch 318/350\n",
      "25/25 [==============================] - 0s 4ms/step - loss: 0.6075 - accuracy: 0.7154 - val_loss: 0.8616 - val_accuracy: 0.6341\n",
      "Epoch 319/350\n",
      "25/25 [==============================] - 0s 4ms/step - loss: 0.7158 - accuracy: 0.6992 - val_loss: 0.7812 - val_accuracy: 0.6098\n",
      "Epoch 320/350\n",
      "25/25 [==============================] - 0s 4ms/step - loss: 0.7174 - accuracy: 0.6585 - val_loss: 0.8154 - val_accuracy: 0.5854\n",
      "Epoch 321/350\n",
      "25/25 [==============================] - 0s 4ms/step - loss: 0.8639 - accuracy: 0.5935 - val_loss: 0.8834 - val_accuracy: 0.5122\n",
      "Epoch 322/350\n",
      "25/25 [==============================] - 0s 4ms/step - loss: 0.7423 - accuracy: 0.6585 - val_loss: 0.7484 - val_accuracy: 0.7073\n",
      "Epoch 323/350\n",
      "25/25 [==============================] - 0s 4ms/step - loss: 0.6417 - accuracy: 0.7561 - val_loss: 0.8485 - val_accuracy: 0.5610\n",
      "Epoch 324/350\n",
      "25/25 [==============================] - 0s 4ms/step - loss: 0.6300 - accuracy: 0.7236 - val_loss: 0.7470 - val_accuracy: 0.6585\n",
      "Epoch 325/350\n",
      "25/25 [==============================] - 0s 4ms/step - loss: 0.5898 - accuracy: 0.7317 - val_loss: 0.7223 - val_accuracy: 0.6585\n",
      "Epoch 326/350\n",
      "25/25 [==============================] - 0s 4ms/step - loss: 0.6421 - accuracy: 0.7236 - val_loss: 0.8250 - val_accuracy: 0.6341\n",
      "Epoch 327/350\n",
      "25/25 [==============================] - 0s 4ms/step - loss: 0.6443 - accuracy: 0.7236 - val_loss: 0.6941 - val_accuracy: 0.7073\n",
      "Epoch 328/350\n",
      "25/25 [==============================] - 0s 3ms/step - loss: 0.5632 - accuracy: 0.7642 - val_loss: 0.8200 - val_accuracy: 0.5854\n",
      "Epoch 329/350\n",
      "25/25 [==============================] - 0s 3ms/step - loss: 0.6453 - accuracy: 0.6667 - val_loss: 0.7745 - val_accuracy: 0.6585\n",
      "Epoch 330/350\n",
      "25/25 [==============================] - 0s 3ms/step - loss: 0.6848 - accuracy: 0.7073 - val_loss: 0.7278 - val_accuracy: 0.7073\n",
      "Epoch 331/350\n",
      "25/25 [==============================] - 0s 4ms/step - loss: 0.6036 - accuracy: 0.7561 - val_loss: 0.7807 - val_accuracy: 0.6585\n",
      "Epoch 332/350\n",
      "25/25 [==============================] - 0s 4ms/step - loss: 0.5809 - accuracy: 0.7642 - val_loss: 0.7391 - val_accuracy: 0.6829\n",
      "Epoch 333/350\n",
      "25/25 [==============================] - 0s 4ms/step - loss: 0.6141 - accuracy: 0.7561 - val_loss: 0.7394 - val_accuracy: 0.6098\n",
      "Epoch 334/350\n",
      "25/25 [==============================] - 0s 4ms/step - loss: 0.6035 - accuracy: 0.7154 - val_loss: 0.8562 - val_accuracy: 0.5854\n",
      "Epoch 335/350\n",
      "25/25 [==============================] - 0s 3ms/step - loss: 0.6401 - accuracy: 0.6992 - val_loss: 0.8242 - val_accuracy: 0.5854\n",
      "Epoch 336/350\n",
      "25/25 [==============================] - 0s 4ms/step - loss: 0.6365 - accuracy: 0.7561 - val_loss: 0.7745 - val_accuracy: 0.5854\n",
      "Epoch 337/350\n",
      "25/25 [==============================] - 0s 3ms/step - loss: 0.6194 - accuracy: 0.7398 - val_loss: 0.7187 - val_accuracy: 0.6585\n",
      "Epoch 338/350\n",
      "25/25 [==============================] - 0s 3ms/step - loss: 0.6870 - accuracy: 0.6911 - val_loss: 0.7265 - val_accuracy: 0.6341\n",
      "Epoch 339/350\n",
      "25/25 [==============================] - 0s 3ms/step - loss: 0.6402 - accuracy: 0.7317 - val_loss: 0.7177 - val_accuracy: 0.6341\n",
      "Epoch 340/350\n",
      "25/25 [==============================] - 0s 3ms/step - loss: 0.6210 - accuracy: 0.7236 - val_loss: 0.6942 - val_accuracy: 0.6829\n",
      "Epoch 341/350\n",
      "25/25 [==============================] - 0s 3ms/step - loss: 0.6239 - accuracy: 0.7480 - val_loss: 0.7926 - val_accuracy: 0.5854\n",
      "Epoch 342/350\n",
      "25/25 [==============================] - 0s 3ms/step - loss: 0.6620 - accuracy: 0.6667 - val_loss: 0.7067 - val_accuracy: 0.6341\n",
      "Epoch 343/350\n",
      "25/25 [==============================] - 0s 4ms/step - loss: 0.5980 - accuracy: 0.7480 - val_loss: 0.7898 - val_accuracy: 0.6098\n",
      "Epoch 344/350\n",
      "25/25 [==============================] - 0s 4ms/step - loss: 0.6536 - accuracy: 0.7236 - val_loss: 0.8351 - val_accuracy: 0.6098\n",
      "Epoch 345/350\n",
      "25/25 [==============================] - 0s 3ms/step - loss: 0.5755 - accuracy: 0.7398 - val_loss: 0.7508 - val_accuracy: 0.5854\n",
      "Epoch 346/350\n",
      "25/25 [==============================] - 0s 3ms/step - loss: 0.6472 - accuracy: 0.6911 - val_loss: 0.6995 - val_accuracy: 0.6341\n",
      "Epoch 347/350\n",
      "25/25 [==============================] - 0s 3ms/step - loss: 0.6201 - accuracy: 0.7561 - val_loss: 0.8303 - val_accuracy: 0.6098\n",
      "Epoch 348/350\n",
      "25/25 [==============================] - 0s 4ms/step - loss: 0.6876 - accuracy: 0.7317 - val_loss: 0.7707 - val_accuracy: 0.6098\n",
      "Epoch 349/350\n",
      "25/25 [==============================] - 0s 3ms/step - loss: 0.5997 - accuracy: 0.7398 - val_loss: 0.7691 - val_accuracy: 0.6341\n",
      "Epoch 350/350\n",
      "25/25 [==============================] - 0s 3ms/step - loss: 0.5550 - accuracy: 0.7642 - val_loss: 0.7215 - val_accuracy: 0.6341\n"
     ]
    },
    {
     "data": {
      "application/vnd.plotly.v1+json": {
       "config": {
        "plotlyServerURL": "https://plot.ly"
       },
       "data": [
        {
         "hovertemplate": "Curvas de Pérdida=Training Loss<br>Epoch=%{x}<br>Binary Cross Entropy=%{y}<extra></extra>",
         "legendgroup": "Training Loss",
         "line": {
          "color": "#46039f",
          "dash": "solid"
         },
         "marker": {
          "symbol": "circle"
         },
         "mode": "lines",
         "name": "Training Loss",
         "orientation": "v",
         "showlegend": true,
         "type": "scatter",
         "x": [
          0,
          1,
          2,
          3,
          4,
          5,
          6,
          7,
          8,
          9,
          10,
          11,
          12,
          13,
          14,
          15,
          16,
          17,
          18,
          19,
          20,
          21,
          22,
          23,
          24,
          25,
          26,
          27,
          28,
          29,
          30,
          31,
          32,
          33,
          34,
          35,
          36,
          37,
          38,
          39,
          40,
          41,
          42,
          43,
          44,
          45,
          46,
          47,
          48,
          49,
          50,
          51,
          52,
          53,
          54,
          55,
          56,
          57,
          58,
          59,
          60,
          61,
          62,
          63,
          64,
          65,
          66,
          67,
          68,
          69,
          70,
          71,
          72,
          73,
          74,
          75,
          76,
          77,
          78,
          79,
          80,
          81,
          82,
          83,
          84,
          85,
          86,
          87,
          88,
          89,
          90,
          91,
          92,
          93,
          94,
          95,
          96,
          97,
          98,
          99,
          100,
          101,
          102,
          103,
          104,
          105,
          106,
          107,
          108,
          109,
          110,
          111,
          112,
          113,
          114,
          115,
          116,
          117,
          118,
          119,
          120,
          121,
          122,
          123,
          124,
          125,
          126,
          127,
          128,
          129,
          130,
          131,
          132,
          133,
          134,
          135,
          136,
          137,
          138,
          139,
          140,
          141,
          142,
          143,
          144,
          145,
          146,
          147,
          148,
          149,
          150,
          151,
          152,
          153,
          154,
          155,
          156,
          157,
          158,
          159,
          160,
          161,
          162,
          163,
          164,
          165,
          166,
          167,
          168,
          169,
          170,
          171,
          172,
          173,
          174,
          175,
          176,
          177,
          178,
          179,
          180,
          181,
          182,
          183,
          184,
          185,
          186,
          187,
          188,
          189,
          190,
          191,
          192,
          193,
          194,
          195,
          196,
          197,
          198,
          199,
          200,
          201,
          202,
          203,
          204,
          205,
          206,
          207,
          208,
          209,
          210,
          211,
          212,
          213,
          214,
          215,
          216,
          217,
          218,
          219,
          220,
          221,
          222,
          223,
          224,
          225,
          226,
          227,
          228,
          229,
          230,
          231,
          232,
          233,
          234,
          235,
          236,
          237,
          238,
          239,
          240,
          241,
          242,
          243,
          244,
          245,
          246,
          247,
          248,
          249,
          250,
          251,
          252,
          253,
          254,
          255,
          256,
          257,
          258,
          259,
          260,
          261,
          262,
          263,
          264,
          265,
          266,
          267,
          268,
          269,
          270,
          271,
          272,
          273,
          274,
          275,
          276,
          277,
          278,
          279,
          280,
          281,
          282,
          283,
          284,
          285,
          286,
          287,
          288,
          289,
          290,
          291,
          292,
          293,
          294,
          295,
          296,
          297,
          298,
          299,
          300,
          301,
          302,
          303,
          304,
          305,
          306,
          307,
          308,
          309,
          310,
          311,
          312,
          313,
          314,
          315,
          316,
          317,
          318,
          319,
          320,
          321,
          322,
          323,
          324,
          325,
          326,
          327,
          328,
          329,
          330,
          331,
          332,
          333,
          334,
          335,
          336,
          337,
          338,
          339,
          340,
          341,
          342,
          343,
          344,
          345,
          346,
          347,
          348,
          349
         ],
         "xaxis": "x",
         "y": [
          1.6130268573760986,
          1.6010655164718628,
          1.5860669612884521,
          1.5712352991104126,
          1.5654122829437256,
          1.5677300691604614,
          1.560078740119934,
          1.5520784854888916,
          1.5322818756103516,
          1.482588529586792,
          1.4550961256027222,
          1.402585744857788,
          1.344483733177185,
          1.3429961204528809,
          1.3230425119400024,
          1.2981922626495361,
          1.2997795343399048,
          1.274802565574646,
          1.2981892824172974,
          1.274247407913208,
          1.2436240911483765,
          1.2356970310211182,
          1.2514019012451172,
          1.222681999206543,
          1.2303507328033447,
          1.2031996250152588,
          1.2178151607513428,
          1.1623625755310059,
          1.1369209289550781,
          1.2510749101638794,
          1.2256402969360352,
          1.2105547189712524,
          1.2493109703063965,
          1.1652840375900269,
          1.1765538454055786,
          1.1360218524932861,
          1.1359163522720337,
          1.0971105098724365,
          1.1207160949707031,
          1.1325359344482422,
          1.1280683279037476,
          1.1029999256134033,
          1.0660547018051147,
          1.1519076824188232,
          1.1515429019927979,
          1.1256626844406128,
          1.1162774562835693,
          1.0716922283172607,
          1.073143482208252,
          1.035901427268982,
          1.1107763051986694,
          1.0680809020996094,
          1.0460472106933594,
          1.0204284191131592,
          1.0458576679229736,
          0.9857118129730225,
          1.0648912191390991,
          1.0364973545074463,
          1.0312963724136353,
          1.046445369720459,
          0.9986302852630615,
          1.0091230869293213,
          1.0368342399597168,
          0.9921056628227234,
          0.9874327182769775,
          1.0583192110061646,
          1.0402333736419678,
          1.0739576816558838,
          0.9987315535545349,
          0.9856844544410706,
          0.9807420372962952,
          1.0000160932540894,
          1.0037822723388672,
          0.9571132063865662,
          0.9600748419761658,
          1.0240068435668945,
          0.9833179712295532,
          0.9688208103179932,
          0.9566987752914429,
          0.9386246204376221,
          0.9075706005096436,
          0.9096357822418213,
          0.9296621680259705,
          0.8971604704856873,
          0.8969090580940247,
          0.9926310181617737,
          0.9735193848609924,
          0.8882946372032166,
          0.8856997489929199,
          0.9152950048446655,
          0.9314621090888977,
          0.9717245101928711,
          0.9179227948188782,
          0.8722981214523315,
          0.9342707991600037,
          0.9595018029212952,
          0.8860176801681519,
          0.903706967830658,
          0.8960767984390259,
          0.9236519932746887,
          0.8633792400360107,
          0.9378876090049744,
          0.9113425612449646,
          0.7993834614753723,
          0.8179765343666077,
          0.8827844858169556,
          0.9318775534629822,
          0.859635055065155,
          0.8656066656112671,
          0.8611775636672974,
          0.940207839012146,
          0.8261531591415405,
          0.8495333790779114,
          0.8023198843002319,
          0.7811177372932434,
          0.7798044681549072,
          0.7789322733879089,
          0.8301665782928467,
          0.818437397480011,
          0.8209455013275146,
          0.8129822015762329,
          0.7818307876586914,
          0.7944419384002686,
          0.8320710062980652,
          0.7473187446594238,
          0.7639201879501343,
          0.8118600249290466,
          0.8040081262588501,
          0.8275076746940613,
          0.7516164183616638,
          0.9053634405136108,
          0.832082986831665,
          0.8961853384971619,
          0.8551984429359436,
          0.8102084994316101,
          0.8692865967750549,
          0.862089991569519,
          0.8098866939544678,
          0.780615508556366,
          0.8122221827507019,
          0.8256085515022278,
          0.7799578309059143,
          0.8491668105125427,
          0.879122793674469,
          0.9307549595832825,
          0.9520087242126465,
          0.8322757482528687,
          0.8706839680671692,
          0.8393620252609253,
          0.7906418442726135,
          0.8048784732818604,
          0.8078027963638306,
          0.8187983632087708,
          0.9200945496559143,
          0.8501654863357544,
          0.8236470222473145,
          0.8005310297012329,
          0.8101474046707153,
          0.7610157132148743,
          0.7603539824485779,
          0.6980696320533752,
          0.7863255143165588,
          0.8120924830436707,
          0.7487647533416748,
          0.8351079225540161,
          0.7967632412910461,
          0.7746896147727966,
          0.821678876876831,
          0.7806752324104309,
          0.7538313269615173,
          0.7381258010864258,
          0.6968809962272644,
          0.738543689250946,
          0.7257755994796753,
          0.7908693552017212,
          0.8538026809692383,
          0.7537604570388794,
          0.8737521171569824,
          0.7113245129585266,
          0.739278256893158,
          0.7771191596984863,
          0.8527807593345642,
          0.8210485577583313,
          0.7222786545753479,
          0.7872651219367981,
          0.7520592212677002,
          0.7473756670951843,
          0.7244458198547363,
          0.6950437426567078,
          0.7885631918907166,
          0.8222018480300903,
          0.7099354267120361,
          0.6984079480171204,
          0.7830899953842163,
          0.7472002506256104,
          0.6909117698669434,
          0.7862499356269836,
          0.7181708812713623,
          0.8151321411132812,
          1.2388919591903687,
          1.107666015625,
          0.9624317288398743,
          1.091880202293396,
          1.013095498085022,
          0.9149690270423889,
          0.7814044952392578,
          0.9278549551963806,
          0.7159207463264465,
          0.802495002746582,
          0.7851494550704956,
          0.8140023350715637,
          0.7938993573188782,
          0.7000845074653625,
          0.7705254554748535,
          0.7519425749778748,
          0.7788646817207336,
          0.7281938195228577,
          0.7334045171737671,
          0.7852548360824585,
          0.6925965547561646,
          0.6901729702949524,
          0.7648269534111023,
          0.7044568657875061,
          0.7327852845191956,
          0.7928582429885864,
          0.7804409861564636,
          0.7012736797332764,
          0.7586327195167542,
          0.7643216252326965,
          0.7210630178451538,
          0.6963680982589722,
          0.7434083223342896,
          0.6963704824447632,
          0.6843846440315247,
          0.7430846095085144,
          0.7834931015968323,
          0.7851928472518921,
          0.7665421962738037,
          0.751283586025238,
          0.7178231477737427,
          0.7639740109443665,
          0.797258198261261,
          0.869473934173584,
          0.6897420287132263,
          0.7519910931587219,
          0.6905606389045715,
          0.65069580078125,
          0.6413912177085876,
          0.6248113512992859,
          0.707265317440033,
          0.734535813331604,
          1.2279082536697388,
          1.1073774099349976,
          0.8650261759757996,
          1.068205714225769,
          0.934281051158905,
          0.871103048324585,
          0.9144018888473511,
          0.787783682346344,
          0.8701969981193542,
          0.9824233651161194,
          0.8019008040428162,
          0.7427656054496765,
          0.7254719138145447,
          0.699344277381897,
          0.7676791548728943,
          0.6936404705047607,
          0.684734046459198,
          0.7135488390922546,
          0.7078794836997986,
          0.6380998492240906,
          0.6712024211883545,
          0.6810336112976074,
          0.672240674495697,
          0.7701922059059143,
          0.7650091648101807,
          0.6561909317970276,
          0.6404154896736145,
          0.6471554040908813,
          0.7055649757385254,
          0.7149280309677124,
          0.711536169052124,
          0.6811866164207458,
          0.6114506125450134,
          0.6482739448547363,
          0.5901297926902771,
          0.6806687116622925,
          0.6643757224082947,
          0.6334996819496155,
          1.0531796216964722,
          1.0101397037506104,
          0.7874734401702881,
          0.6925467848777771,
          0.7305678129196167,
          0.6630774140357971,
          0.6388449668884277,
          0.7584371566772461,
          0.9235691428184509,
          0.8559408783912659,
          0.8557232618331909,
          0.7944422364234924,
          0.7959625720977783,
          0.7176640033721924,
          0.8035441637039185,
          0.8022968769073486,
          0.7886050939559937,
          0.7656839489936829,
          0.7583644390106201,
          0.7224560379981995,
          0.6478267908096313,
          0.698823094367981,
          0.6768410205841064,
          0.6480151414871216,
          0.6035416722297668,
          0.6099198460578918,
          0.6585394740104675,
          0.6175040006637573,
          0.6075400114059448,
          0.715786337852478,
          0.7174418568611145,
          0.8639017343521118,
          0.7422596216201782,
          0.6417436599731445,
          0.6299569606781006,
          0.5897993445396423,
          0.6421216726303101,
          0.6442949175834656,
          0.5631989240646362,
          0.6453284621238708,
          0.6847838759422302,
          0.6036254167556763,
          0.580898642539978,
          0.6140908002853394,
          0.603509783744812,
          0.6401378512382507,
          0.6365216970443726,
          0.6193724274635315,
          0.6870121359825134,
          0.6401557326316833,
          0.6210077404975891,
          0.6238875389099121,
          0.6619641184806824,
          0.5979601740837097,
          0.6536496877670288,
          0.5754596590995789,
          0.6471827626228333,
          0.6201098561286926,
          0.6875545978546143,
          0.5996626615524292,
          0.5550307631492615
         ],
         "yaxis": "y"
        },
        {
         "hovertemplate": "Curvas de Pérdida=Validation Loss<br>Epoch=%{x}<br>Binary Cross Entropy=%{y}<extra></extra>",
         "legendgroup": "Validation Loss",
         "line": {
          "color": "#fb9f3a",
          "dash": "solid"
         },
         "marker": {
          "symbol": "circle"
         },
         "mode": "lines",
         "name": "Validation Loss",
         "orientation": "v",
         "showlegend": true,
         "type": "scatter",
         "x": [
          0,
          1,
          2,
          3,
          4,
          5,
          6,
          7,
          8,
          9,
          10,
          11,
          12,
          13,
          14,
          15,
          16,
          17,
          18,
          19,
          20,
          21,
          22,
          23,
          24,
          25,
          26,
          27,
          28,
          29,
          30,
          31,
          32,
          33,
          34,
          35,
          36,
          37,
          38,
          39,
          40,
          41,
          42,
          43,
          44,
          45,
          46,
          47,
          48,
          49,
          50,
          51,
          52,
          53,
          54,
          55,
          56,
          57,
          58,
          59,
          60,
          61,
          62,
          63,
          64,
          65,
          66,
          67,
          68,
          69,
          70,
          71,
          72,
          73,
          74,
          75,
          76,
          77,
          78,
          79,
          80,
          81,
          82,
          83,
          84,
          85,
          86,
          87,
          88,
          89,
          90,
          91,
          92,
          93,
          94,
          95,
          96,
          97,
          98,
          99,
          100,
          101,
          102,
          103,
          104,
          105,
          106,
          107,
          108,
          109,
          110,
          111,
          112,
          113,
          114,
          115,
          116,
          117,
          118,
          119,
          120,
          121,
          122,
          123,
          124,
          125,
          126,
          127,
          128,
          129,
          130,
          131,
          132,
          133,
          134,
          135,
          136,
          137,
          138,
          139,
          140,
          141,
          142,
          143,
          144,
          145,
          146,
          147,
          148,
          149,
          150,
          151,
          152,
          153,
          154,
          155,
          156,
          157,
          158,
          159,
          160,
          161,
          162,
          163,
          164,
          165,
          166,
          167,
          168,
          169,
          170,
          171,
          172,
          173,
          174,
          175,
          176,
          177,
          178,
          179,
          180,
          181,
          182,
          183,
          184,
          185,
          186,
          187,
          188,
          189,
          190,
          191,
          192,
          193,
          194,
          195,
          196,
          197,
          198,
          199,
          200,
          201,
          202,
          203,
          204,
          205,
          206,
          207,
          208,
          209,
          210,
          211,
          212,
          213,
          214,
          215,
          216,
          217,
          218,
          219,
          220,
          221,
          222,
          223,
          224,
          225,
          226,
          227,
          228,
          229,
          230,
          231,
          232,
          233,
          234,
          235,
          236,
          237,
          238,
          239,
          240,
          241,
          242,
          243,
          244,
          245,
          246,
          247,
          248,
          249,
          250,
          251,
          252,
          253,
          254,
          255,
          256,
          257,
          258,
          259,
          260,
          261,
          262,
          263,
          264,
          265,
          266,
          267,
          268,
          269,
          270,
          271,
          272,
          273,
          274,
          275,
          276,
          277,
          278,
          279,
          280,
          281,
          282,
          283,
          284,
          285,
          286,
          287,
          288,
          289,
          290,
          291,
          292,
          293,
          294,
          295,
          296,
          297,
          298,
          299,
          300,
          301,
          302,
          303,
          304,
          305,
          306,
          307,
          308,
          309,
          310,
          311,
          312,
          313,
          314,
          315,
          316,
          317,
          318,
          319,
          320,
          321,
          322,
          323,
          324,
          325,
          326,
          327,
          328,
          329,
          330,
          331,
          332,
          333,
          334,
          335,
          336,
          337,
          338,
          339,
          340,
          341,
          342,
          343,
          344,
          345,
          346,
          347,
          348,
          349
         ],
         "xaxis": "x",
         "y": [
          1.6039175987243652,
          1.594851016998291,
          1.5667266845703125,
          1.5602370500564575,
          1.5551954507827759,
          1.5625852346420288,
          1.5417604446411133,
          1.5409382581710815,
          1.4969056844711304,
          1.4441360235214233,
          1.4706547260284424,
          1.329805850982666,
          1.3107250928878784,
          1.2880351543426514,
          1.2815090417861938,
          1.2814202308654785,
          1.277607798576355,
          1.2590852975845337,
          1.270384669303894,
          1.2734160423278809,
          1.2504459619522095,
          1.2805148363113403,
          1.2065088748931885,
          1.1930351257324219,
          1.2530409097671509,
          1.2110137939453125,
          1.2073277235031128,
          1.1695326566696167,
          1.217913031578064,
          1.2808785438537598,
          1.1921367645263672,
          1.2637475728988647,
          1.1876888275146484,
          1.2245641946792603,
          1.1225965023040771,
          1.1458139419555664,
          1.0694355964660645,
          1.0426676273345947,
          1.1130849123001099,
          1.0921975374221802,
          1.1525352001190186,
          1.0183391571044922,
          1.0319703817367554,
          1.1910796165466309,
          1.0819429159164429,
          1.081569790840149,
          1.0706623792648315,
          1.0123035907745361,
          1.0065973997116089,
          1.1069166660308838,
          1.005039930343628,
          1.0649493932724,
          0.9815859198570251,
          0.9740056395530701,
          0.9660987854003906,
          0.9606080651283264,
          0.9725263714790344,
          1.122395396232605,
          0.9609948992729187,
          1.0019299983978271,
          0.9809536933898926,
          0.9377353191375732,
          0.9492862224578857,
          0.9410642385482788,
          0.9527184963226318,
          0.9689393639564514,
          1.1444940567016602,
          0.9150286316871643,
          0.9515951871871948,
          0.9464521408081055,
          0.9340965747833252,
          0.9282594919204712,
          0.9408885836601257,
          0.989753007888794,
          0.9966967701911926,
          0.9476200342178345,
          1.0276926755905151,
          1.0336899757385254,
          0.9132034778594971,
          0.9197528958320618,
          0.93076092004776,
          0.9214775562286377,
          1.0030392408370972,
          0.968745231628418,
          0.9501318335533142,
          1.1085575819015503,
          0.8700974583625793,
          0.8926090002059937,
          0.9466409683227539,
          0.933373212814331,
          1.0370793342590332,
          0.9218707084655762,
          0.8922142386436462,
          0.86219322681427,
          0.8719651699066162,
          0.9020747542381287,
          0.8802072405815125,
          0.8774163126945496,
          0.8991342782974243,
          0.8960059285163879,
          0.9644530415534973,
          0.8501553535461426,
          0.8532719612121582,
          0.8723174333572388,
          0.8672762513160706,
          0.8835309743881226,
          0.9077332019805908,
          0.8409439921379089,
          0.8676978349685669,
          0.8687716126441956,
          0.8922542333602905,
          0.8418461084365845,
          0.8813391923904419,
          0.8846181631088257,
          0.8670876026153564,
          0.8609597086906433,
          0.8694103360176086,
          0.8456104397773743,
          0.8490987420082092,
          0.8572070598602295,
          0.8406768441200256,
          0.8496778607368469,
          0.8428076505661011,
          0.8236777782440186,
          0.8133922815322876,
          0.8695940375328064,
          0.8167542219161987,
          0.8253321051597595,
          0.8069486021995544,
          0.8199784755706787,
          0.879362165927887,
          0.8402608633041382,
          0.8678147792816162,
          0.8647343516349792,
          0.8246088027954102,
          0.8788999915122986,
          0.8760498762130737,
          0.8129491209983826,
          0.8577486276626587,
          0.8954452872276306,
          0.9335912466049194,
          0.8397325873374939,
          0.8618799448013306,
          1.064597487449646,
          0.8812199831008911,
          0.8626642227172852,
          0.9222216606140137,
          0.9519495368003845,
          0.8151395916938782,
          0.83765709400177,
          0.8469699621200562,
          0.8748642802238464,
          0.8553247451782227,
          1.0013952255249023,
          0.8325137495994568,
          0.8239235281944275,
          0.9394524693489075,
          0.8337569832801819,
          0.8217876553535461,
          0.8720981478691101,
          0.7822449803352356,
          0.8493362069129944,
          0.8180150389671326,
          0.7644259929656982,
          0.915611743927002,
          0.8203929662704468,
          0.8004360795021057,
          0.7924039959907532,
          0.7894629240036011,
          0.7793311476707458,
          0.8452572822570801,
          0.8086864948272705,
          0.7848002910614014,
          0.7585878968238831,
          0.8428598642349243,
          0.7744304537773132,
          1.0574456453323364,
          0.7813704609870911,
          0.8148016333580017,
          0.7707198262214661,
          0.7974975109100342,
          0.8091566562652588,
          0.8198489546775818,
          0.9855743050575256,
          0.8125192523002625,
          0.8370400667190552,
          0.7656120657920837,
          0.8723503947257996,
          0.7680640816688538,
          0.8810136318206787,
          0.797438383102417,
          0.769478976726532,
          0.7633947134017944,
          0.7990899682044983,
          0.778221070766449,
          0.8328875303268433,
          0.749589741230011,
          0.8220955729484558,
          1.0445045232772827,
          1.0903551578521729,
          0.9701559543609619,
          0.9751557111740112,
          1.1324211359024048,
          0.8642674684524536,
          0.9097269773483276,
          0.8519120812416077,
          0.82872474193573,
          0.8191424012184143,
          0.7901430130004883,
          0.8426682353019714,
          0.8337007761001587,
          0.8036941885948181,
          0.8037789463996887,
          0.9277922511100769,
          0.7815048694610596,
          0.7824101448059082,
          0.8221815824508667,
          0.7939010262489319,
          0.7907527685165405,
          0.8003933429718018,
          0.8061807155609131,
          0.7608518600463867,
          0.7657714486122131,
          0.7528810501098633,
          0.7848124504089355,
          0.757597804069519,
          0.7521116137504578,
          0.7835533618927002,
          0.7640620470046997,
          0.8324512243270874,
          0.8949722647666931,
          0.7709338068962097,
          0.7435982823371887,
          0.770923912525177,
          0.7274482846260071,
          0.7714087963104248,
          0.7771443128585815,
          0.758876621723175,
          0.8377223014831543,
          0.8417867422103882,
          0.8643590211868286,
          0.845547080039978,
          0.7229615449905396,
          0.7718561887741089,
          0.777902364730835,
          0.7703421711921692,
          0.7433483600616455,
          0.7255519032478333,
          0.7359014749526978,
          0.7395747303962708,
          0.7382151484489441,
          1.4023357629776,
          1.0020896196365356,
          1.1778186559677124,
          0.8583873510360718,
          0.8586706519126892,
          0.9448124170303345,
          0.8255828022956848,
          0.8691890239715576,
          1.0656660795211792,
          0.9013912677764893,
          0.7546428442001343,
          0.8470216393470764,
          0.8148238062858582,
          0.7259532809257507,
          0.7475352883338928,
          0.7554888725280762,
          0.7330969572067261,
          0.7168013453483582,
          0.7519471645355225,
          0.7682557702064514,
          0.7630777359008789,
          0.7307419180870056,
          1.021881103515625,
          0.8055170774459839,
          0.7102120518684387,
          0.8392229080200195,
          0.7512723207473755,
          0.6921237111091614,
          0.7392526268959045,
          0.7236903309822083,
          0.8289169669151306,
          0.7541385293006897,
          0.6972267627716064,
          0.7811006903648376,
          0.7677369117736816,
          0.9331876039505005,
          0.7724376916885376,
          0.8573943376541138,
          0.9812936782836914,
          0.8467861413955688,
          0.8195256590843201,
          0.7834582328796387,
          0.7714757323265076,
          0.7557071447372437,
          0.708352267742157,
          0.877613365650177,
          0.7488280534744263,
          1.1068512201309204,
          0.8268664479255676,
          0.8301631808280945,
          0.8191255927085876,
          0.8419710397720337,
          0.9414631724357605,
          0.741108238697052,
          0.8100307583808899,
          0.775442361831665,
          0.8563826084136963,
          0.7473328113555908,
          0.7886223196983337,
          0.7879025340080261,
          0.770986795425415,
          0.7945621609687805,
          0.7212668657302856,
          0.7603141665458679,
          0.7699064612388611,
          0.789570689201355,
          0.8615612983703613,
          0.7811803221702576,
          0.8154261708259583,
          0.8833847045898438,
          0.7484182119369507,
          0.8485158681869507,
          0.7469955086708069,
          0.7222824692726135,
          0.8249614834785461,
          0.6940539479255676,
          0.820013165473938,
          0.7745044231414795,
          0.7278134226799011,
          0.7806795835494995,
          0.7390695810317993,
          0.7394436597824097,
          0.8562146425247192,
          0.8242160677909851,
          0.7745360136032104,
          0.7186692953109741,
          0.7264514565467834,
          0.7176852822303772,
          0.6941759586334229,
          0.7926106452941895,
          0.7066915035247803,
          0.7897937297821045,
          0.835102915763855,
          0.7507730722427368,
          0.6995214819908142,
          0.8303083181381226,
          0.7706745862960815,
          0.7690596580505371,
          0.7215245962142944
         ],
         "yaxis": "y"
        }
       ],
       "layout": {
        "legend": {
         "title": {
          "text": "Curvas de Pérdida"
         },
         "tracegroupgap": 0
        },
        "template": {
         "data": {
          "bar": [
           {
            "error_x": {
             "color": "#2a3f5f"
            },
            "error_y": {
             "color": "#2a3f5f"
            },
            "marker": {
             "line": {
              "color": "white",
              "width": 0.5
             },
             "pattern": {
              "fillmode": "overlay",
              "size": 10,
              "solidity": 0.2
             }
            },
            "type": "bar"
           }
          ],
          "barpolar": [
           {
            "marker": {
             "line": {
              "color": "white",
              "width": 0.5
             },
             "pattern": {
              "fillmode": "overlay",
              "size": 10,
              "solidity": 0.2
             }
            },
            "type": "barpolar"
           }
          ],
          "carpet": [
           {
            "aaxis": {
             "endlinecolor": "#2a3f5f",
             "gridcolor": "#C8D4E3",
             "linecolor": "#C8D4E3",
             "minorgridcolor": "#C8D4E3",
             "startlinecolor": "#2a3f5f"
            },
            "baxis": {
             "endlinecolor": "#2a3f5f",
             "gridcolor": "#C8D4E3",
             "linecolor": "#C8D4E3",
             "minorgridcolor": "#C8D4E3",
             "startlinecolor": "#2a3f5f"
            },
            "type": "carpet"
           }
          ],
          "choropleth": [
           {
            "colorbar": {
             "outlinewidth": 0,
             "ticks": ""
            },
            "type": "choropleth"
           }
          ],
          "contour": [
           {
            "colorbar": {
             "outlinewidth": 0,
             "ticks": ""
            },
            "colorscale": [
             [
              0,
              "#0d0887"
             ],
             [
              0.1111111111111111,
              "#46039f"
             ],
             [
              0.2222222222222222,
              "#7201a8"
             ],
             [
              0.3333333333333333,
              "#9c179e"
             ],
             [
              0.4444444444444444,
              "#bd3786"
             ],
             [
              0.5555555555555556,
              "#d8576b"
             ],
             [
              0.6666666666666666,
              "#ed7953"
             ],
             [
              0.7777777777777778,
              "#fb9f3a"
             ],
             [
              0.8888888888888888,
              "#fdca26"
             ],
             [
              1,
              "#f0f921"
             ]
            ],
            "type": "contour"
           }
          ],
          "contourcarpet": [
           {
            "colorbar": {
             "outlinewidth": 0,
             "ticks": ""
            },
            "type": "contourcarpet"
           }
          ],
          "heatmap": [
           {
            "colorbar": {
             "outlinewidth": 0,
             "ticks": ""
            },
            "colorscale": [
             [
              0,
              "#0d0887"
             ],
             [
              0.1111111111111111,
              "#46039f"
             ],
             [
              0.2222222222222222,
              "#7201a8"
             ],
             [
              0.3333333333333333,
              "#9c179e"
             ],
             [
              0.4444444444444444,
              "#bd3786"
             ],
             [
              0.5555555555555556,
              "#d8576b"
             ],
             [
              0.6666666666666666,
              "#ed7953"
             ],
             [
              0.7777777777777778,
              "#fb9f3a"
             ],
             [
              0.8888888888888888,
              "#fdca26"
             ],
             [
              1,
              "#f0f921"
             ]
            ],
            "type": "heatmap"
           }
          ],
          "heatmapgl": [
           {
            "colorbar": {
             "outlinewidth": 0,
             "ticks": ""
            },
            "colorscale": [
             [
              0,
              "#0d0887"
             ],
             [
              0.1111111111111111,
              "#46039f"
             ],
             [
              0.2222222222222222,
              "#7201a8"
             ],
             [
              0.3333333333333333,
              "#9c179e"
             ],
             [
              0.4444444444444444,
              "#bd3786"
             ],
             [
              0.5555555555555556,
              "#d8576b"
             ],
             [
              0.6666666666666666,
              "#ed7953"
             ],
             [
              0.7777777777777778,
              "#fb9f3a"
             ],
             [
              0.8888888888888888,
              "#fdca26"
             ],
             [
              1,
              "#f0f921"
             ]
            ],
            "type": "heatmapgl"
           }
          ],
          "histogram": [
           {
            "marker": {
             "pattern": {
              "fillmode": "overlay",
              "size": 10,
              "solidity": 0.2
             }
            },
            "type": "histogram"
           }
          ],
          "histogram2d": [
           {
            "colorbar": {
             "outlinewidth": 0,
             "ticks": ""
            },
            "colorscale": [
             [
              0,
              "#0d0887"
             ],
             [
              0.1111111111111111,
              "#46039f"
             ],
             [
              0.2222222222222222,
              "#7201a8"
             ],
             [
              0.3333333333333333,
              "#9c179e"
             ],
             [
              0.4444444444444444,
              "#bd3786"
             ],
             [
              0.5555555555555556,
              "#d8576b"
             ],
             [
              0.6666666666666666,
              "#ed7953"
             ],
             [
              0.7777777777777778,
              "#fb9f3a"
             ],
             [
              0.8888888888888888,
              "#fdca26"
             ],
             [
              1,
              "#f0f921"
             ]
            ],
            "type": "histogram2d"
           }
          ],
          "histogram2dcontour": [
           {
            "colorbar": {
             "outlinewidth": 0,
             "ticks": ""
            },
            "colorscale": [
             [
              0,
              "#0d0887"
             ],
             [
              0.1111111111111111,
              "#46039f"
             ],
             [
              0.2222222222222222,
              "#7201a8"
             ],
             [
              0.3333333333333333,
              "#9c179e"
             ],
             [
              0.4444444444444444,
              "#bd3786"
             ],
             [
              0.5555555555555556,
              "#d8576b"
             ],
             [
              0.6666666666666666,
              "#ed7953"
             ],
             [
              0.7777777777777778,
              "#fb9f3a"
             ],
             [
              0.8888888888888888,
              "#fdca26"
             ],
             [
              1,
              "#f0f921"
             ]
            ],
            "type": "histogram2dcontour"
           }
          ],
          "mesh3d": [
           {
            "colorbar": {
             "outlinewidth": 0,
             "ticks": ""
            },
            "type": "mesh3d"
           }
          ],
          "parcoords": [
           {
            "line": {
             "colorbar": {
              "outlinewidth": 0,
              "ticks": ""
             }
            },
            "type": "parcoords"
           }
          ],
          "pie": [
           {
            "automargin": true,
            "type": "pie"
           }
          ],
          "scatter": [
           {
            "fillpattern": {
             "fillmode": "overlay",
             "size": 10,
             "solidity": 0.2
            },
            "type": "scatter"
           }
          ],
          "scatter3d": [
           {
            "line": {
             "colorbar": {
              "outlinewidth": 0,
              "ticks": ""
             }
            },
            "marker": {
             "colorbar": {
              "outlinewidth": 0,
              "ticks": ""
             }
            },
            "type": "scatter3d"
           }
          ],
          "scattercarpet": [
           {
            "marker": {
             "colorbar": {
              "outlinewidth": 0,
              "ticks": ""
             }
            },
            "type": "scattercarpet"
           }
          ],
          "scattergeo": [
           {
            "marker": {
             "colorbar": {
              "outlinewidth": 0,
              "ticks": ""
             }
            },
            "type": "scattergeo"
           }
          ],
          "scattergl": [
           {
            "marker": {
             "colorbar": {
              "outlinewidth": 0,
              "ticks": ""
             }
            },
            "type": "scattergl"
           }
          ],
          "scattermapbox": [
           {
            "marker": {
             "colorbar": {
              "outlinewidth": 0,
              "ticks": ""
             }
            },
            "type": "scattermapbox"
           }
          ],
          "scatterpolar": [
           {
            "marker": {
             "colorbar": {
              "outlinewidth": 0,
              "ticks": ""
             }
            },
            "type": "scatterpolar"
           }
          ],
          "scatterpolargl": [
           {
            "marker": {
             "colorbar": {
              "outlinewidth": 0,
              "ticks": ""
             }
            },
            "type": "scatterpolargl"
           }
          ],
          "scatterternary": [
           {
            "marker": {
             "colorbar": {
              "outlinewidth": 0,
              "ticks": ""
             }
            },
            "type": "scatterternary"
           }
          ],
          "surface": [
           {
            "colorbar": {
             "outlinewidth": 0,
             "ticks": ""
            },
            "colorscale": [
             [
              0,
              "#0d0887"
             ],
             [
              0.1111111111111111,
              "#46039f"
             ],
             [
              0.2222222222222222,
              "#7201a8"
             ],
             [
              0.3333333333333333,
              "#9c179e"
             ],
             [
              0.4444444444444444,
              "#bd3786"
             ],
             [
              0.5555555555555556,
              "#d8576b"
             ],
             [
              0.6666666666666666,
              "#ed7953"
             ],
             [
              0.7777777777777778,
              "#fb9f3a"
             ],
             [
              0.8888888888888888,
              "#fdca26"
             ],
             [
              1,
              "#f0f921"
             ]
            ],
            "type": "surface"
           }
          ],
          "table": [
           {
            "cells": {
             "fill": {
              "color": "#EBF0F8"
             },
             "line": {
              "color": "white"
             }
            },
            "header": {
             "fill": {
              "color": "#C8D4E3"
             },
             "line": {
              "color": "white"
             }
            },
            "type": "table"
           }
          ]
         },
         "layout": {
          "annotationdefaults": {
           "arrowcolor": "#2a3f5f",
           "arrowhead": 0,
           "arrowwidth": 1
          },
          "autotypenumbers": "strict",
          "coloraxis": {
           "colorbar": {
            "outlinewidth": 0,
            "ticks": ""
           }
          },
          "colorscale": {
           "diverging": [
            [
             0,
             "#8e0152"
            ],
            [
             0.1,
             "#c51b7d"
            ],
            [
             0.2,
             "#de77ae"
            ],
            [
             0.3,
             "#f1b6da"
            ],
            [
             0.4,
             "#fde0ef"
            ],
            [
             0.5,
             "#f7f7f7"
            ],
            [
             0.6,
             "#e6f5d0"
            ],
            [
             0.7,
             "#b8e186"
            ],
            [
             0.8,
             "#7fbc41"
            ],
            [
             0.9,
             "#4d9221"
            ],
            [
             1,
             "#276419"
            ]
           ],
           "sequential": [
            [
             0,
             "#0d0887"
            ],
            [
             0.1111111111111111,
             "#46039f"
            ],
            [
             0.2222222222222222,
             "#7201a8"
            ],
            [
             0.3333333333333333,
             "#9c179e"
            ],
            [
             0.4444444444444444,
             "#bd3786"
            ],
            [
             0.5555555555555556,
             "#d8576b"
            ],
            [
             0.6666666666666666,
             "#ed7953"
            ],
            [
             0.7777777777777778,
             "#fb9f3a"
            ],
            [
             0.8888888888888888,
             "#fdca26"
            ],
            [
             1,
             "#f0f921"
            ]
           ],
           "sequentialminus": [
            [
             0,
             "#0d0887"
            ],
            [
             0.1111111111111111,
             "#46039f"
            ],
            [
             0.2222222222222222,
             "#7201a8"
            ],
            [
             0.3333333333333333,
             "#9c179e"
            ],
            [
             0.4444444444444444,
             "#bd3786"
            ],
            [
             0.5555555555555556,
             "#d8576b"
            ],
            [
             0.6666666666666666,
             "#ed7953"
            ],
            [
             0.7777777777777778,
             "#fb9f3a"
            ],
            [
             0.8888888888888888,
             "#fdca26"
            ],
            [
             1,
             "#f0f921"
            ]
           ]
          },
          "colorway": [
           "#636efa",
           "#EF553B",
           "#00cc96",
           "#ab63fa",
           "#FFA15A",
           "#19d3f3",
           "#FF6692",
           "#B6E880",
           "#FF97FF",
           "#FECB52"
          ],
          "font": {
           "color": "#2a3f5f"
          },
          "geo": {
           "bgcolor": "white",
           "lakecolor": "white",
           "landcolor": "white",
           "showlakes": true,
           "showland": true,
           "subunitcolor": "#C8D4E3"
          },
          "hoverlabel": {
           "align": "left"
          },
          "hovermode": "closest",
          "mapbox": {
           "style": "light"
          },
          "paper_bgcolor": "white",
          "plot_bgcolor": "white",
          "polar": {
           "angularaxis": {
            "gridcolor": "#EBF0F8",
            "linecolor": "#EBF0F8",
            "ticks": ""
           },
           "bgcolor": "white",
           "radialaxis": {
            "gridcolor": "#EBF0F8",
            "linecolor": "#EBF0F8",
            "ticks": ""
           }
          },
          "scene": {
           "xaxis": {
            "backgroundcolor": "white",
            "gridcolor": "#DFE8F3",
            "gridwidth": 2,
            "linecolor": "#EBF0F8",
            "showbackground": true,
            "ticks": "",
            "zerolinecolor": "#EBF0F8"
           },
           "yaxis": {
            "backgroundcolor": "white",
            "gridcolor": "#DFE8F3",
            "gridwidth": 2,
            "linecolor": "#EBF0F8",
            "showbackground": true,
            "ticks": "",
            "zerolinecolor": "#EBF0F8"
           },
           "zaxis": {
            "backgroundcolor": "white",
            "gridcolor": "#DFE8F3",
            "gridwidth": 2,
            "linecolor": "#EBF0F8",
            "showbackground": true,
            "ticks": "",
            "zerolinecolor": "#EBF0F8"
           }
          },
          "shapedefaults": {
           "line": {
            "color": "#2a3f5f"
           }
          },
          "ternary": {
           "aaxis": {
            "gridcolor": "#DFE8F3",
            "linecolor": "#A2B1C6",
            "ticks": ""
           },
           "baxis": {
            "gridcolor": "#DFE8F3",
            "linecolor": "#A2B1C6",
            "ticks": ""
           },
           "bgcolor": "white",
           "caxis": {
            "gridcolor": "#DFE8F3",
            "linecolor": "#A2B1C6",
            "ticks": ""
           }
          },
          "title": {
           "x": 0.05
          },
          "xaxis": {
           "automargin": true,
           "gridcolor": "#EBF0F8",
           "linecolor": "#EBF0F8",
           "ticks": "",
           "title": {
            "standoff": 15
           },
           "zerolinecolor": "#EBF0F8",
           "zerolinewidth": 2
          },
          "yaxis": {
           "automargin": true,
           "gridcolor": "#EBF0F8",
           "linecolor": "#EBF0F8",
           "ticks": "",
           "title": {
            "standoff": 15
           },
           "zerolinecolor": "#EBF0F8",
           "zerolinewidth": 2
          }
         }
        },
        "title": {
         "text": "Gráficas de Pérdida de Entrenamiento y Evaluación"
        },
        "xaxis": {
         "anchor": "y",
         "domain": [
          0,
          1
         ],
         "title": {
          "text": "Epoch"
         }
        },
        "yaxis": {
         "anchor": "x",
         "domain": [
          0,
          1
         ],
         "title": {
          "text": "Binary Cross Entropy"
         }
        }
       }
      }
     },
     "metadata": {},
     "output_type": "display_data"
    },
    {
     "data": {
      "application/vnd.plotly.v1+json": {
       "config": {
        "plotlyServerURL": "https://plot.ly"
       },
       "data": [
        {
         "hovertemplate": "Curvas de Exactitud=Exactitud de Entrenamiento<br>Epoch=%{x}<br>Exactitud=%{y}<extra></extra>",
         "legendgroup": "Exactitud de Entrenamiento",
         "line": {
          "color": "#00cc96",
          "dash": "solid"
         },
         "marker": {
          "symbol": "circle"
         },
         "mode": "lines",
         "name": "Exactitud de Entrenamiento",
         "orientation": "v",
         "showlegend": true,
         "type": "scatter",
         "x": [
          0,
          1,
          2,
          3,
          4,
          5,
          6,
          7,
          8,
          9,
          10,
          11,
          12,
          13,
          14,
          15,
          16,
          17,
          18,
          19,
          20,
          21,
          22,
          23,
          24,
          25,
          26,
          27,
          28,
          29,
          30,
          31,
          32,
          33,
          34,
          35,
          36,
          37,
          38,
          39,
          40,
          41,
          42,
          43,
          44,
          45,
          46,
          47,
          48,
          49,
          50,
          51,
          52,
          53,
          54,
          55,
          56,
          57,
          58,
          59,
          60,
          61,
          62,
          63,
          64,
          65,
          66,
          67,
          68,
          69,
          70,
          71,
          72,
          73,
          74,
          75,
          76,
          77,
          78,
          79,
          80,
          81,
          82,
          83,
          84,
          85,
          86,
          87,
          88,
          89,
          90,
          91,
          92,
          93,
          94,
          95,
          96,
          97,
          98,
          99,
          100,
          101,
          102,
          103,
          104,
          105,
          106,
          107,
          108,
          109,
          110,
          111,
          112,
          113,
          114,
          115,
          116,
          117,
          118,
          119,
          120,
          121,
          122,
          123,
          124,
          125,
          126,
          127,
          128,
          129,
          130,
          131,
          132,
          133,
          134,
          135,
          136,
          137,
          138,
          139,
          140,
          141,
          142,
          143,
          144,
          145,
          146,
          147,
          148,
          149,
          150,
          151,
          152,
          153,
          154,
          155,
          156,
          157,
          158,
          159,
          160,
          161,
          162,
          163,
          164,
          165,
          166,
          167,
          168,
          169,
          170,
          171,
          172,
          173,
          174,
          175,
          176,
          177,
          178,
          179,
          180,
          181,
          182,
          183,
          184,
          185,
          186,
          187,
          188,
          189,
          190,
          191,
          192,
          193,
          194,
          195,
          196,
          197,
          198,
          199,
          200,
          201,
          202,
          203,
          204,
          205,
          206,
          207,
          208,
          209,
          210,
          211,
          212,
          213,
          214,
          215,
          216,
          217,
          218,
          219,
          220,
          221,
          222,
          223,
          224,
          225,
          226,
          227,
          228,
          229,
          230,
          231,
          232,
          233,
          234,
          235,
          236,
          237,
          238,
          239,
          240,
          241,
          242,
          243,
          244,
          245,
          246,
          247,
          248,
          249,
          250,
          251,
          252,
          253,
          254,
          255,
          256,
          257,
          258,
          259,
          260,
          261,
          262,
          263,
          264,
          265,
          266,
          267,
          268,
          269,
          270,
          271,
          272,
          273,
          274,
          275,
          276,
          277,
          278,
          279,
          280,
          281,
          282,
          283,
          284,
          285,
          286,
          287,
          288,
          289,
          290,
          291,
          292,
          293,
          294,
          295,
          296,
          297,
          298,
          299,
          300,
          301,
          302,
          303,
          304,
          305,
          306,
          307,
          308,
          309,
          310,
          311,
          312,
          313,
          314,
          315,
          316,
          317,
          318,
          319,
          320,
          321,
          322,
          323,
          324,
          325,
          326,
          327,
          328,
          329,
          330,
          331,
          332,
          333,
          334,
          335,
          336,
          337,
          338,
          339,
          340,
          341,
          342,
          343,
          344,
          345,
          346,
          347,
          348,
          349
         ],
         "xaxis": "x",
         "y": [
          0.1869918704032898,
          0.24390244483947754,
          0.2601625919342041,
          0.2520325183868408,
          0.28455284237861633,
          0.30894309282302856,
          0.24390244483947754,
          0.2520325183868408,
          0.30894309282302856,
          0.3333333432674408,
          0.28455284237861633,
          0.42276424169540405,
          0.38211381435394287,
          0.4146341383457184,
          0.3333333432674408,
          0.43089431524276733,
          0.39024388790130615,
          0.43089431524276733,
          0.43089431524276733,
          0.38211381435394287,
          0.4065040647983551,
          0.42276424169540405,
          0.3658536672592163,
          0.39024388790130615,
          0.4390243887901306,
          0.45528456568717957,
          0.4065040647983551,
          0.4878048896789551,
          0.4796747863292694,
          0.3983739912509918,
          0.39024388790130615,
          0.4471544623374939,
          0.42276424169540405,
          0.49593496322631836,
          0.4796747863292694,
          0.4878048896789551,
          0.4796747863292694,
          0.5203251838684082,
          0.49593496322631836,
          0.4878048896789551,
          0.4796747863292694,
          0.5284552574157715,
          0.5203251838684082,
          0.4471544623374939,
          0.4390243887901306,
          0.4471544623374939,
          0.5121951103210449,
          0.5121951103210449,
          0.5609756112098694,
          0.5284552574157715,
          0.5284552574157715,
          0.5121951103210449,
          0.5365853905677795,
          0.5609756112098694,
          0.4878048896789551,
          0.6260162591934204,
          0.5121951103210449,
          0.5447154641151428,
          0.5040650367736816,
          0.5528455376625061,
          0.5284552574157715,
          0.5284552574157715,
          0.5284552574157715,
          0.6016260385513306,
          0.5853658318519592,
          0.5121951103210449,
          0.5203251838684082,
          0.4878048896789551,
          0.5853658318519592,
          0.5691056847572327,
          0.5284552574157715,
          0.5934959053993225,
          0.6178861856460571,
          0.577235758304596,
          0.642276406288147,
          0.577235758304596,
          0.577235758304596,
          0.6097561120986938,
          0.5691056847572327,
          0.6260162591934204,
          0.6504064798355103,
          0.6341463327407837,
          0.5609756112098694,
          0.6178861856460571,
          0.5934959053993225,
          0.5447154641151428,
          0.5203251838684082,
          0.6504064798355103,
          0.6504064798355103,
          0.6097561120986938,
          0.5853658318519592,
          0.5934959053993225,
          0.577235758304596,
          0.642276406288147,
          0.5934959053993225,
          0.5691056847572327,
          0.6178861856460571,
          0.6585366129875183,
          0.6178861856460571,
          0.6178861856460571,
          0.6504064798355103,
          0.6097561120986938,
          0.6178861856460571,
          0.7154471278190613,
          0.6504064798355103,
          0.5691056847572327,
          0.5691056847572327,
          0.6260162591934204,
          0.6504064798355103,
          0.642276406288147,
          0.5853658318519592,
          0.6666666865348816,
          0.6504064798355103,
          0.6585366129875183,
          0.6829268336296082,
          0.6666666865348816,
          0.6991869807243347,
          0.6504064798355103,
          0.6747967600822449,
          0.6991869807243347,
          0.6585366129875183,
          0.6991869807243347,
          0.6829268336296082,
          0.6504064798355103,
          0.6747967600822449,
          0.6747967600822449,
          0.6341463327407837,
          0.6585366129875183,
          0.642276406288147,
          0.6747967600822449,
          0.6178861856460571,
          0.6585366129875183,
          0.6178861856460571,
          0.6585366129875183,
          0.6910569071769714,
          0.6504064798355103,
          0.6585366129875183,
          0.7317073345184326,
          0.707317054271698,
          0.6666666865348816,
          0.6260162591934204,
          0.6829268336296082,
          0.6585366129875183,
          0.6260162591934204,
          0.5934959053993225,
          0.5609756112098694,
          0.642276406288147,
          0.6260162591934204,
          0.6585366129875183,
          0.7317073345184326,
          0.6504064798355103,
          0.6991869807243347,
          0.6504064798355103,
          0.6097561120986938,
          0.6097561120986938,
          0.642276406288147,
          0.6910569071769714,
          0.6666666865348816,
          0.6666666865348816,
          0.6991869807243347,
          0.7235772609710693,
          0.642276406288147,
          0.6585366129875183,
          0.6585366129875183,
          0.6341463327407837,
          0.6910569071769714,
          0.6585366129875183,
          0.6260162591934204,
          0.6829268336296082,
          0.6829268336296082,
          0.6910569071769714,
          0.7235772609710693,
          0.707317054271698,
          0.707317054271698,
          0.642276406288147,
          0.6016260385513306,
          0.6829268336296082,
          0.6097561120986938,
          0.7235772609710693,
          0.6666666865348816,
          0.6666666865348816,
          0.6341463327407837,
          0.6341463327407837,
          0.7154471278190613,
          0.6910569071769714,
          0.6991869807243347,
          0.707317054271698,
          0.7235772609710693,
          0.6829268336296082,
          0.6747967600822449,
          0.6585366129875183,
          0.7235772609710693,
          0.7154471278190613,
          0.6260162591934204,
          0.7317073345184326,
          0.6991869807243347,
          0.6910569071769714,
          0.6829268336296082,
          0.5853658318519592,
          0.5121951103210449,
          0.49593496322631836,
          0.5447154641151428,
          0.4878048896789551,
          0.5121951103210449,
          0.6097561120986938,
          0.6747967600822449,
          0.6585366129875183,
          0.7479674816131592,
          0.6341463327407837,
          0.6504064798355103,
          0.6666666865348816,
          0.6666666865348816,
          0.7235772609710693,
          0.6666666865348816,
          0.6747967600822449,
          0.7479674816131592,
          0.6910569071769714,
          0.6991869807243347,
          0.6910569071769714,
          0.7398374080657959,
          0.7479674816131592,
          0.6991869807243347,
          0.707317054271698,
          0.6910569071769714,
          0.6341463327407837,
          0.6991869807243347,
          0.6910569071769714,
          0.6747967600822449,
          0.6910569071769714,
          0.6910569071769714,
          0.6991869807243347,
          0.6666666865348816,
          0.7235772609710693,
          0.6991869807243347,
          0.7235772609710693,
          0.6747967600822449,
          0.6666666865348816,
          0.6666666865348816,
          0.7398374080657959,
          0.707317054271698,
          0.7154471278190613,
          0.6666666865348816,
          0.6097561120986938,
          0.7235772609710693,
          0.6504064798355103,
          0.7317073345184326,
          0.707317054271698,
          0.7317073345184326,
          0.7154471278190613,
          0.6991869807243347,
          0.6991869807243347,
          0.5853658318519592,
          0.5284552574157715,
          0.6178861856460571,
          0.5528455376625061,
          0.5934959053993225,
          0.6097561120986938,
          0.642276406288147,
          0.6910569071769714,
          0.6178861856460571,
          0.5609756112098694,
          0.6097561120986938,
          0.6991869807243347,
          0.7154471278190613,
          0.6829268336296082,
          0.6910569071769714,
          0.7154471278190613,
          0.707317054271698,
          0.6910569071769714,
          0.7560975551605225,
          0.7154471278190613,
          0.6991869807243347,
          0.7317073345184326,
          0.7235772609710693,
          0.6747967600822449,
          0.642276406288147,
          0.6991869807243347,
          0.7235772609710693,
          0.6910569071769714,
          0.6585366129875183,
          0.6747967600822449,
          0.6991869807243347,
          0.707317054271698,
          0.7479674816131592,
          0.7235772609710693,
          0.7154471278190613,
          0.7560975551605225,
          0.6991869807243347,
          0.7317073345184326,
          0.6341463327407837,
          0.642276406288147,
          0.6585366129875183,
          0.707317054271698,
          0.707317054271698,
          0.6991869807243347,
          0.7235772609710693,
          0.6910569071769714,
          0.6016260385513306,
          0.6341463327407837,
          0.6666666865348816,
          0.6504064798355103,
          0.6585366129875183,
          0.6910569071769714,
          0.6504064798355103,
          0.6747967600822449,
          0.707317054271698,
          0.6910569071769714,
          0.6747967600822449,
          0.6666666865348816,
          0.7154471278190613,
          0.7154471278190613,
          0.7154471278190613,
          0.7642276287078857,
          0.7560975551605225,
          0.7642276287078857,
          0.6747967600822449,
          0.7235772609710693,
          0.7154471278190613,
          0.6991869807243347,
          0.6585366129875183,
          0.5934959053993225,
          0.6585366129875183,
          0.7560975551605225,
          0.7235772609710693,
          0.7317073345184326,
          0.7235772609710693,
          0.7235772609710693,
          0.7642276287078857,
          0.6666666865348816,
          0.707317054271698,
          0.7560975551605225,
          0.7642276287078857,
          0.7560975551605225,
          0.7154471278190613,
          0.6991869807243347,
          0.7560975551605225,
          0.7398374080657959,
          0.6910569071769714,
          0.7317073345184326,
          0.7235772609710693,
          0.7479674816131592,
          0.6666666865348816,
          0.7479674816131592,
          0.7235772609710693,
          0.7398374080657959,
          0.6910569071769714,
          0.7560975551605225,
          0.7317073345184326,
          0.7398374080657959,
          0.7642276287078857
         ],
         "yaxis": "y"
        },
        {
         "hovertemplate": "Curvas de Exactitud=Exactitud de Validación<br>Epoch=%{x}<br>Exactitud=%{y}<extra></extra>",
         "legendgroup": "Exactitud de Validación",
         "line": {
          "color": "#ab63fa",
          "dash": "solid"
         },
         "marker": {
          "symbol": "circle"
         },
         "mode": "lines",
         "name": "Exactitud de Validación",
         "orientation": "v",
         "showlegend": true,
         "type": "scatter",
         "x": [
          0,
          1,
          2,
          3,
          4,
          5,
          6,
          7,
          8,
          9,
          10,
          11,
          12,
          13,
          14,
          15,
          16,
          17,
          18,
          19,
          20,
          21,
          22,
          23,
          24,
          25,
          26,
          27,
          28,
          29,
          30,
          31,
          32,
          33,
          34,
          35,
          36,
          37,
          38,
          39,
          40,
          41,
          42,
          43,
          44,
          45,
          46,
          47,
          48,
          49,
          50,
          51,
          52,
          53,
          54,
          55,
          56,
          57,
          58,
          59,
          60,
          61,
          62,
          63,
          64,
          65,
          66,
          67,
          68,
          69,
          70,
          71,
          72,
          73,
          74,
          75,
          76,
          77,
          78,
          79,
          80,
          81,
          82,
          83,
          84,
          85,
          86,
          87,
          88,
          89,
          90,
          91,
          92,
          93,
          94,
          95,
          96,
          97,
          98,
          99,
          100,
          101,
          102,
          103,
          104,
          105,
          106,
          107,
          108,
          109,
          110,
          111,
          112,
          113,
          114,
          115,
          116,
          117,
          118,
          119,
          120,
          121,
          122,
          123,
          124,
          125,
          126,
          127,
          128,
          129,
          130,
          131,
          132,
          133,
          134,
          135,
          136,
          137,
          138,
          139,
          140,
          141,
          142,
          143,
          144,
          145,
          146,
          147,
          148,
          149,
          150,
          151,
          152,
          153,
          154,
          155,
          156,
          157,
          158,
          159,
          160,
          161,
          162,
          163,
          164,
          165,
          166,
          167,
          168,
          169,
          170,
          171,
          172,
          173,
          174,
          175,
          176,
          177,
          178,
          179,
          180,
          181,
          182,
          183,
          184,
          185,
          186,
          187,
          188,
          189,
          190,
          191,
          192,
          193,
          194,
          195,
          196,
          197,
          198,
          199,
          200,
          201,
          202,
          203,
          204,
          205,
          206,
          207,
          208,
          209,
          210,
          211,
          212,
          213,
          214,
          215,
          216,
          217,
          218,
          219,
          220,
          221,
          222,
          223,
          224,
          225,
          226,
          227,
          228,
          229,
          230,
          231,
          232,
          233,
          234,
          235,
          236,
          237,
          238,
          239,
          240,
          241,
          242,
          243,
          244,
          245,
          246,
          247,
          248,
          249,
          250,
          251,
          252,
          253,
          254,
          255,
          256,
          257,
          258,
          259,
          260,
          261,
          262,
          263,
          264,
          265,
          266,
          267,
          268,
          269,
          270,
          271,
          272,
          273,
          274,
          275,
          276,
          277,
          278,
          279,
          280,
          281,
          282,
          283,
          284,
          285,
          286,
          287,
          288,
          289,
          290,
          291,
          292,
          293,
          294,
          295,
          296,
          297,
          298,
          299,
          300,
          301,
          302,
          303,
          304,
          305,
          306,
          307,
          308,
          309,
          310,
          311,
          312,
          313,
          314,
          315,
          316,
          317,
          318,
          319,
          320,
          321,
          322,
          323,
          324,
          325,
          326,
          327,
          328,
          329,
          330,
          331,
          332,
          333,
          334,
          335,
          336,
          337,
          338,
          339,
          340,
          341,
          342,
          343,
          344,
          345,
          346,
          347,
          348,
          349
         ],
         "xaxis": "x",
         "y": [
          0.19512194395065308,
          0.19512194395065308,
          0.3658536672592163,
          0.19512194395065308,
          0.19512194395065308,
          0.19512194395065308,
          0.19512194395065308,
          0.19512194395065308,
          0.2195121943950653,
          0.2926829159259796,
          0.2926829159259796,
          0.2926829159259796,
          0.46341463923454285,
          0.4390243887901306,
          0.2926829159259796,
          0.2926829159259796,
          0.2926829159259796,
          0.2926829159259796,
          0.2926829159259796,
          0.2926829159259796,
          0.31707316637039185,
          0.2926829159259796,
          0.3658536672592163,
          0.31707316637039185,
          0.31707316637039185,
          0.3414634168148041,
          0.3414634168148041,
          0.3414634168148041,
          0.31707316637039185,
          0.31707316637039185,
          0.3414634168148041,
          0.31707316637039185,
          0.3414634168148041,
          0.3414634168148041,
          0.39024388790130615,
          0.3658536672592163,
          0.4878048896789551,
          0.5609756112098694,
          0.3658536672592163,
          0.4146341383457184,
          0.3414634168148041,
          0.5609756112098694,
          0.4146341383457184,
          0.3414634168148041,
          0.39024388790130615,
          0.5853658318519592,
          0.39024388790130615,
          0.5365853905677795,
          0.5121951103210449,
          0.3658536672592163,
          0.5609756112098694,
          0.4146341383457184,
          0.5365853905677795,
          0.5609756112098694,
          0.5853658318519592,
          0.5609756112098694,
          0.5609756112098694,
          0.39024388790130615,
          0.5853658318519592,
          0.46341463923454285,
          0.5121951103210449,
          0.6097561120986938,
          0.5365853905677795,
          0.5365853905677795,
          0.5609756112098694,
          0.5365853905677795,
          0.39024388790130615,
          0.5609756112098694,
          0.5853658318519592,
          0.6097561120986938,
          0.6097561120986938,
          0.5609756112098694,
          0.5853658318519592,
          0.46341463923454285,
          0.4878048896789551,
          0.5609756112098694,
          0.4390243887901306,
          0.39024388790130615,
          0.5853658318519592,
          0.6097561120986938,
          0.5609756112098694,
          0.5609756112098694,
          0.4878048896789551,
          0.5853658318519592,
          0.5365853905677795,
          0.4146341383457184,
          0.6097561120986938,
          0.5853658318519592,
          0.5853658318519592,
          0.5609756112098694,
          0.39024388790130615,
          0.6097561120986938,
          0.6341463327407837,
          0.6097561120986938,
          0.6341463327407837,
          0.5853658318519592,
          0.6341463327407837,
          0.6341463327407837,
          0.6097561120986938,
          0.6097561120986938,
          0.5365853905677795,
          0.6097561120986938,
          0.6341463327407837,
          0.6341463327407837,
          0.6341463327407837,
          0.6341463327407837,
          0.6097561120986938,
          0.6341463327407837,
          0.6097561120986938,
          0.5853658318519592,
          0.5853658318519592,
          0.6585366129875183,
          0.6341463327407837,
          0.5853658318519592,
          0.6341463327407837,
          0.6341463327407837,
          0.5853658318519592,
          0.6585366129875183,
          0.6341463327407837,
          0.6585366129875183,
          0.6585366129875183,
          0.6097561120986938,
          0.6341463327407837,
          0.6585366129875183,
          0.6585366129875183,
          0.6097561120986938,
          0.6585366129875183,
          0.6341463327407837,
          0.5853658318519592,
          0.6341463327407837,
          0.5609756112098694,
          0.6341463327407837,
          0.5609756112098694,
          0.6585366129875183,
          0.6341463327407837,
          0.6341463327407837,
          0.6097561120986938,
          0.5853658318519592,
          0.6097561120986938,
          0.5853658318519592,
          0.5853658318519592,
          0.6097561120986938,
          0.6585366129875183,
          0.5365853905677795,
          0.6097561120986938,
          0.6341463327407837,
          0.5609756112098694,
          0.5609756112098694,
          0.6585366129875183,
          0.6585366129875183,
          0.5853658318519592,
          0.6585366129875183,
          0.6585366129875183,
          0.5365853905677795,
          0.6585366129875183,
          0.6097561120986938,
          0.5853658318519592,
          0.6097561120986938,
          0.6585366129875183,
          0.5853658318519592,
          0.6585366129875183,
          0.6341463327407837,
          0.6341463327407837,
          0.6585366129875183,
          0.5609756112098694,
          0.5609756112098694,
          0.6585366129875183,
          0.6341463327407837,
          0.6829268336296082,
          0.6341463327407837,
          0.6585366129875183,
          0.6341463327407837,
          0.6097561120986938,
          0.6585366129875183,
          0.6341463327407837,
          0.6341463327407837,
          0.5609756112098694,
          0.6341463327407837,
          0.6341463327407837,
          0.6341463327407837,
          0.6097561120986938,
          0.6097561120986938,
          0.6341463327407837,
          0.5853658318519592,
          0.6341463327407837,
          0.6097561120986938,
          0.6585366129875183,
          0.5853658318519592,
          0.6341463327407837,
          0.6097561120986938,
          0.6097561120986938,
          0.6341463327407837,
          0.6341463327407837,
          0.6097561120986938,
          0.6341463327407837,
          0.6097561120986938,
          0.6585366129875183,
          0.6097561120986938,
          0.5853658318519592,
          0.46341463923454285,
          0.5365853905677795,
          0.4878048896789551,
          0.46341463923454285,
          0.6585366129875183,
          0.6097561120986938,
          0.6341463327407837,
          0.6585366129875183,
          0.6097561120986938,
          0.6097561120986938,
          0.6341463327407837,
          0.6097561120986938,
          0.6341463327407837,
          0.6341463327407837,
          0.5853658318519592,
          0.6341463327407837,
          0.6097561120986938,
          0.6341463327407837,
          0.6341463327407837,
          0.6341463327407837,
          0.6341463327407837,
          0.6097561120986938,
          0.6341463327407837,
          0.6097561120986938,
          0.6097561120986938,
          0.6341463327407837,
          0.6341463327407837,
          0.6341463327407837,
          0.6341463327407837,
          0.6341463327407837,
          0.5609756112098694,
          0.5609756112098694,
          0.5853658318519592,
          0.6585366129875183,
          0.6341463327407837,
          0.707317054271698,
          0.6341463327407837,
          0.6341463327407837,
          0.6097561120986938,
          0.5853658318519592,
          0.5853658318519592,
          0.5365853905677795,
          0.5853658318519592,
          0.6585366129875183,
          0.6585366129875183,
          0.6341463327407837,
          0.6585366129875183,
          0.6341463327407837,
          0.6829268336296082,
          0.6585366129875183,
          0.6585366129875183,
          0.6829268336296082,
          0.4146341383457184,
          0.5609756112098694,
          0.4390243887901306,
          0.6585366129875183,
          0.6585366129875183,
          0.5365853905677795,
          0.6585366129875183,
          0.6341463327407837,
          0.5121951103210449,
          0.5853658318519592,
          0.6829268336296082,
          0.6097561120986938,
          0.5853658318519592,
          0.6341463327407837,
          0.6829268336296082,
          0.6585366129875183,
          0.6829268336296082,
          0.6097561120986938,
          0.6829268336296082,
          0.6097561120986938,
          0.6585366129875183,
          0.6829268336296082,
          0.5365853905677795,
          0.6585366129875183,
          0.707317054271698,
          0.5609756112098694,
          0.6585366129875183,
          0.6829268336296082,
          0.6097561120986938,
          0.6829268336296082,
          0.5853658318519592,
          0.6829268336296082,
          0.707317054271698,
          0.6341463327407837,
          0.6097561120986938,
          0.5365853905677795,
          0.6585366129875183,
          0.5853658318519592,
          0.5121951103210449,
          0.5609756112098694,
          0.5609756112098694,
          0.5853658318519592,
          0.6585366129875183,
          0.6829268336296082,
          0.7317073345184326,
          0.5365853905677795,
          0.6829268336296082,
          0.5365853905677795,
          0.6341463327407837,
          0.5853658318519592,
          0.6097561120986938,
          0.5365853905677795,
          0.5365853905677795,
          0.6829268336296082,
          0.5609756112098694,
          0.6341463327407837,
          0.5609756112098694,
          0.6585366129875183,
          0.6341463327407837,
          0.6097561120986938,
          0.6097561120986938,
          0.6341463327407837,
          0.6341463327407837,
          0.6341463327407837,
          0.6097561120986938,
          0.6097561120986938,
          0.6341463327407837,
          0.6097561120986938,
          0.5853658318519592,
          0.5121951103210449,
          0.707317054271698,
          0.5609756112098694,
          0.6585366129875183,
          0.6585366129875183,
          0.6341463327407837,
          0.707317054271698,
          0.5853658318519592,
          0.6585366129875183,
          0.707317054271698,
          0.6585366129875183,
          0.6829268336296082,
          0.6097561120986938,
          0.5853658318519592,
          0.5853658318519592,
          0.5853658318519592,
          0.6585366129875183,
          0.6341463327407837,
          0.6341463327407837,
          0.6829268336296082,
          0.5853658318519592,
          0.6341463327407837,
          0.6097561120986938,
          0.6097561120986938,
          0.5853658318519592,
          0.6341463327407837,
          0.6097561120986938,
          0.6097561120986938,
          0.6341463327407837,
          0.6341463327407837
         ],
         "yaxis": "y"
        }
       ],
       "layout": {
        "legend": {
         "title": {
          "text": "Curvas de Exactitud"
         },
         "tracegroupgap": 0
        },
        "template": {
         "data": {
          "bar": [
           {
            "error_x": {
             "color": "#2a3f5f"
            },
            "error_y": {
             "color": "#2a3f5f"
            },
            "marker": {
             "line": {
              "color": "white",
              "width": 0.5
             },
             "pattern": {
              "fillmode": "overlay",
              "size": 10,
              "solidity": 0.2
             }
            },
            "type": "bar"
           }
          ],
          "barpolar": [
           {
            "marker": {
             "line": {
              "color": "white",
              "width": 0.5
             },
             "pattern": {
              "fillmode": "overlay",
              "size": 10,
              "solidity": 0.2
             }
            },
            "type": "barpolar"
           }
          ],
          "carpet": [
           {
            "aaxis": {
             "endlinecolor": "#2a3f5f",
             "gridcolor": "#C8D4E3",
             "linecolor": "#C8D4E3",
             "minorgridcolor": "#C8D4E3",
             "startlinecolor": "#2a3f5f"
            },
            "baxis": {
             "endlinecolor": "#2a3f5f",
             "gridcolor": "#C8D4E3",
             "linecolor": "#C8D4E3",
             "minorgridcolor": "#C8D4E3",
             "startlinecolor": "#2a3f5f"
            },
            "type": "carpet"
           }
          ],
          "choropleth": [
           {
            "colorbar": {
             "outlinewidth": 0,
             "ticks": ""
            },
            "type": "choropleth"
           }
          ],
          "contour": [
           {
            "colorbar": {
             "outlinewidth": 0,
             "ticks": ""
            },
            "colorscale": [
             [
              0,
              "#0d0887"
             ],
             [
              0.1111111111111111,
              "#46039f"
             ],
             [
              0.2222222222222222,
              "#7201a8"
             ],
             [
              0.3333333333333333,
              "#9c179e"
             ],
             [
              0.4444444444444444,
              "#bd3786"
             ],
             [
              0.5555555555555556,
              "#d8576b"
             ],
             [
              0.6666666666666666,
              "#ed7953"
             ],
             [
              0.7777777777777778,
              "#fb9f3a"
             ],
             [
              0.8888888888888888,
              "#fdca26"
             ],
             [
              1,
              "#f0f921"
             ]
            ],
            "type": "contour"
           }
          ],
          "contourcarpet": [
           {
            "colorbar": {
             "outlinewidth": 0,
             "ticks": ""
            },
            "type": "contourcarpet"
           }
          ],
          "heatmap": [
           {
            "colorbar": {
             "outlinewidth": 0,
             "ticks": ""
            },
            "colorscale": [
             [
              0,
              "#0d0887"
             ],
             [
              0.1111111111111111,
              "#46039f"
             ],
             [
              0.2222222222222222,
              "#7201a8"
             ],
             [
              0.3333333333333333,
              "#9c179e"
             ],
             [
              0.4444444444444444,
              "#bd3786"
             ],
             [
              0.5555555555555556,
              "#d8576b"
             ],
             [
              0.6666666666666666,
              "#ed7953"
             ],
             [
              0.7777777777777778,
              "#fb9f3a"
             ],
             [
              0.8888888888888888,
              "#fdca26"
             ],
             [
              1,
              "#f0f921"
             ]
            ],
            "type": "heatmap"
           }
          ],
          "heatmapgl": [
           {
            "colorbar": {
             "outlinewidth": 0,
             "ticks": ""
            },
            "colorscale": [
             [
              0,
              "#0d0887"
             ],
             [
              0.1111111111111111,
              "#46039f"
             ],
             [
              0.2222222222222222,
              "#7201a8"
             ],
             [
              0.3333333333333333,
              "#9c179e"
             ],
             [
              0.4444444444444444,
              "#bd3786"
             ],
             [
              0.5555555555555556,
              "#d8576b"
             ],
             [
              0.6666666666666666,
              "#ed7953"
             ],
             [
              0.7777777777777778,
              "#fb9f3a"
             ],
             [
              0.8888888888888888,
              "#fdca26"
             ],
             [
              1,
              "#f0f921"
             ]
            ],
            "type": "heatmapgl"
           }
          ],
          "histogram": [
           {
            "marker": {
             "pattern": {
              "fillmode": "overlay",
              "size": 10,
              "solidity": 0.2
             }
            },
            "type": "histogram"
           }
          ],
          "histogram2d": [
           {
            "colorbar": {
             "outlinewidth": 0,
             "ticks": ""
            },
            "colorscale": [
             [
              0,
              "#0d0887"
             ],
             [
              0.1111111111111111,
              "#46039f"
             ],
             [
              0.2222222222222222,
              "#7201a8"
             ],
             [
              0.3333333333333333,
              "#9c179e"
             ],
             [
              0.4444444444444444,
              "#bd3786"
             ],
             [
              0.5555555555555556,
              "#d8576b"
             ],
             [
              0.6666666666666666,
              "#ed7953"
             ],
             [
              0.7777777777777778,
              "#fb9f3a"
             ],
             [
              0.8888888888888888,
              "#fdca26"
             ],
             [
              1,
              "#f0f921"
             ]
            ],
            "type": "histogram2d"
           }
          ],
          "histogram2dcontour": [
           {
            "colorbar": {
             "outlinewidth": 0,
             "ticks": ""
            },
            "colorscale": [
             [
              0,
              "#0d0887"
             ],
             [
              0.1111111111111111,
              "#46039f"
             ],
             [
              0.2222222222222222,
              "#7201a8"
             ],
             [
              0.3333333333333333,
              "#9c179e"
             ],
             [
              0.4444444444444444,
              "#bd3786"
             ],
             [
              0.5555555555555556,
              "#d8576b"
             ],
             [
              0.6666666666666666,
              "#ed7953"
             ],
             [
              0.7777777777777778,
              "#fb9f3a"
             ],
             [
              0.8888888888888888,
              "#fdca26"
             ],
             [
              1,
              "#f0f921"
             ]
            ],
            "type": "histogram2dcontour"
           }
          ],
          "mesh3d": [
           {
            "colorbar": {
             "outlinewidth": 0,
             "ticks": ""
            },
            "type": "mesh3d"
           }
          ],
          "parcoords": [
           {
            "line": {
             "colorbar": {
              "outlinewidth": 0,
              "ticks": ""
             }
            },
            "type": "parcoords"
           }
          ],
          "pie": [
           {
            "automargin": true,
            "type": "pie"
           }
          ],
          "scatter": [
           {
            "fillpattern": {
             "fillmode": "overlay",
             "size": 10,
             "solidity": 0.2
            },
            "type": "scatter"
           }
          ],
          "scatter3d": [
           {
            "line": {
             "colorbar": {
              "outlinewidth": 0,
              "ticks": ""
             }
            },
            "marker": {
             "colorbar": {
              "outlinewidth": 0,
              "ticks": ""
             }
            },
            "type": "scatter3d"
           }
          ],
          "scattercarpet": [
           {
            "marker": {
             "colorbar": {
              "outlinewidth": 0,
              "ticks": ""
             }
            },
            "type": "scattercarpet"
           }
          ],
          "scattergeo": [
           {
            "marker": {
             "colorbar": {
              "outlinewidth": 0,
              "ticks": ""
             }
            },
            "type": "scattergeo"
           }
          ],
          "scattergl": [
           {
            "marker": {
             "colorbar": {
              "outlinewidth": 0,
              "ticks": ""
             }
            },
            "type": "scattergl"
           }
          ],
          "scattermapbox": [
           {
            "marker": {
             "colorbar": {
              "outlinewidth": 0,
              "ticks": ""
             }
            },
            "type": "scattermapbox"
           }
          ],
          "scatterpolar": [
           {
            "marker": {
             "colorbar": {
              "outlinewidth": 0,
              "ticks": ""
             }
            },
            "type": "scatterpolar"
           }
          ],
          "scatterpolargl": [
           {
            "marker": {
             "colorbar": {
              "outlinewidth": 0,
              "ticks": ""
             }
            },
            "type": "scatterpolargl"
           }
          ],
          "scatterternary": [
           {
            "marker": {
             "colorbar": {
              "outlinewidth": 0,
              "ticks": ""
             }
            },
            "type": "scatterternary"
           }
          ],
          "surface": [
           {
            "colorbar": {
             "outlinewidth": 0,
             "ticks": ""
            },
            "colorscale": [
             [
              0,
              "#0d0887"
             ],
             [
              0.1111111111111111,
              "#46039f"
             ],
             [
              0.2222222222222222,
              "#7201a8"
             ],
             [
              0.3333333333333333,
              "#9c179e"
             ],
             [
              0.4444444444444444,
              "#bd3786"
             ],
             [
              0.5555555555555556,
              "#d8576b"
             ],
             [
              0.6666666666666666,
              "#ed7953"
             ],
             [
              0.7777777777777778,
              "#fb9f3a"
             ],
             [
              0.8888888888888888,
              "#fdca26"
             ],
             [
              1,
              "#f0f921"
             ]
            ],
            "type": "surface"
           }
          ],
          "table": [
           {
            "cells": {
             "fill": {
              "color": "#EBF0F8"
             },
             "line": {
              "color": "white"
             }
            },
            "header": {
             "fill": {
              "color": "#C8D4E3"
             },
             "line": {
              "color": "white"
             }
            },
            "type": "table"
           }
          ]
         },
         "layout": {
          "annotationdefaults": {
           "arrowcolor": "#2a3f5f",
           "arrowhead": 0,
           "arrowwidth": 1
          },
          "autotypenumbers": "strict",
          "coloraxis": {
           "colorbar": {
            "outlinewidth": 0,
            "ticks": ""
           }
          },
          "colorscale": {
           "diverging": [
            [
             0,
             "#8e0152"
            ],
            [
             0.1,
             "#c51b7d"
            ],
            [
             0.2,
             "#de77ae"
            ],
            [
             0.3,
             "#f1b6da"
            ],
            [
             0.4,
             "#fde0ef"
            ],
            [
             0.5,
             "#f7f7f7"
            ],
            [
             0.6,
             "#e6f5d0"
            ],
            [
             0.7,
             "#b8e186"
            ],
            [
             0.8,
             "#7fbc41"
            ],
            [
             0.9,
             "#4d9221"
            ],
            [
             1,
             "#276419"
            ]
           ],
           "sequential": [
            [
             0,
             "#0d0887"
            ],
            [
             0.1111111111111111,
             "#46039f"
            ],
            [
             0.2222222222222222,
             "#7201a8"
            ],
            [
             0.3333333333333333,
             "#9c179e"
            ],
            [
             0.4444444444444444,
             "#bd3786"
            ],
            [
             0.5555555555555556,
             "#d8576b"
            ],
            [
             0.6666666666666666,
             "#ed7953"
            ],
            [
             0.7777777777777778,
             "#fb9f3a"
            ],
            [
             0.8888888888888888,
             "#fdca26"
            ],
            [
             1,
             "#f0f921"
            ]
           ],
           "sequentialminus": [
            [
             0,
             "#0d0887"
            ],
            [
             0.1111111111111111,
             "#46039f"
            ],
            [
             0.2222222222222222,
             "#7201a8"
            ],
            [
             0.3333333333333333,
             "#9c179e"
            ],
            [
             0.4444444444444444,
             "#bd3786"
            ],
            [
             0.5555555555555556,
             "#d8576b"
            ],
            [
             0.6666666666666666,
             "#ed7953"
            ],
            [
             0.7777777777777778,
             "#fb9f3a"
            ],
            [
             0.8888888888888888,
             "#fdca26"
            ],
            [
             1,
             "#f0f921"
            ]
           ]
          },
          "colorway": [
           "#636efa",
           "#EF553B",
           "#00cc96",
           "#ab63fa",
           "#FFA15A",
           "#19d3f3",
           "#FF6692",
           "#B6E880",
           "#FF97FF",
           "#FECB52"
          ],
          "font": {
           "color": "#2a3f5f"
          },
          "geo": {
           "bgcolor": "white",
           "lakecolor": "white",
           "landcolor": "white",
           "showlakes": true,
           "showland": true,
           "subunitcolor": "#C8D4E3"
          },
          "hoverlabel": {
           "align": "left"
          },
          "hovermode": "closest",
          "mapbox": {
           "style": "light"
          },
          "paper_bgcolor": "white",
          "plot_bgcolor": "white",
          "polar": {
           "angularaxis": {
            "gridcolor": "#EBF0F8",
            "linecolor": "#EBF0F8",
            "ticks": ""
           },
           "bgcolor": "white",
           "radialaxis": {
            "gridcolor": "#EBF0F8",
            "linecolor": "#EBF0F8",
            "ticks": ""
           }
          },
          "scene": {
           "xaxis": {
            "backgroundcolor": "white",
            "gridcolor": "#DFE8F3",
            "gridwidth": 2,
            "linecolor": "#EBF0F8",
            "showbackground": true,
            "ticks": "",
            "zerolinecolor": "#EBF0F8"
           },
           "yaxis": {
            "backgroundcolor": "white",
            "gridcolor": "#DFE8F3",
            "gridwidth": 2,
            "linecolor": "#EBF0F8",
            "showbackground": true,
            "ticks": "",
            "zerolinecolor": "#EBF0F8"
           },
           "zaxis": {
            "backgroundcolor": "white",
            "gridcolor": "#DFE8F3",
            "gridwidth": 2,
            "linecolor": "#EBF0F8",
            "showbackground": true,
            "ticks": "",
            "zerolinecolor": "#EBF0F8"
           }
          },
          "shapedefaults": {
           "line": {
            "color": "#2a3f5f"
           }
          },
          "ternary": {
           "aaxis": {
            "gridcolor": "#DFE8F3",
            "linecolor": "#A2B1C6",
            "ticks": ""
           },
           "baxis": {
            "gridcolor": "#DFE8F3",
            "linecolor": "#A2B1C6",
            "ticks": ""
           },
           "bgcolor": "white",
           "caxis": {
            "gridcolor": "#DFE8F3",
            "linecolor": "#A2B1C6",
            "ticks": ""
           }
          },
          "title": {
           "x": 0.05
          },
          "xaxis": {
           "automargin": true,
           "gridcolor": "#EBF0F8",
           "linecolor": "#EBF0F8",
           "ticks": "",
           "title": {
            "standoff": 15
           },
           "zerolinecolor": "#EBF0F8",
           "zerolinewidth": 2
          },
          "yaxis": {
           "automargin": true,
           "gridcolor": "#EBF0F8",
           "linecolor": "#EBF0F8",
           "ticks": "",
           "title": {
            "standoff": 15
           },
           "zerolinecolor": "#EBF0F8",
           "zerolinewidth": 2
          }
         }
        },
        "title": {
         "text": "Gráficas de Exactitud"
        },
        "xaxis": {
         "anchor": "y",
         "domain": [
          0,
          1
         ],
         "title": {
          "text": "Epoch"
         }
        },
        "yaxis": {
         "anchor": "x",
         "domain": [
          0,
          1
         ],
         "title": {
          "text": "Exactitud"
         }
        }
       }
      }
     },
     "metadata": {},
     "output_type": "display_data"
    },
    {
     "data": {
      "text/html": [
       "<div>\n",
       "<style scoped>\n",
       "    .dataframe tbody tr th:only-of-type {\n",
       "        vertical-align: middle;\n",
       "    }\n",
       "\n",
       "    .dataframe tbody tr th {\n",
       "        vertical-align: top;\n",
       "    }\n",
       "\n",
       "    .dataframe thead th {\n",
       "        text-align: right;\n",
       "    }\n",
       "</style>\n",
       "<table border=\"1\" class=\"dataframe\">\n",
       "  <thead>\n",
       "    <tr style=\"text-align: right;\">\n",
       "      <th></th>\n",
       "      <th>Training Loss</th>\n",
       "      <th>Exactitud de Entrenamiento</th>\n",
       "      <th>Validation Loss</th>\n",
       "      <th>Exactitud de Validación</th>\n",
       "      <th>epoch</th>\n",
       "    </tr>\n",
       "  </thead>\n",
       "  <tbody>\n",
       "    <tr>\n",
       "      <th>0</th>\n",
       "      <td>1.613</td>\n",
       "      <td>0.187</td>\n",
       "      <td>1.604</td>\n",
       "      <td>0.195</td>\n",
       "      <td>0</td>\n",
       "    </tr>\n",
       "    <tr>\n",
       "      <th>1</th>\n",
       "      <td>1.601</td>\n",
       "      <td>0.244</td>\n",
       "      <td>1.595</td>\n",
       "      <td>0.195</td>\n",
       "      <td>1</td>\n",
       "    </tr>\n",
       "    <tr>\n",
       "      <th>2</th>\n",
       "      <td>1.586</td>\n",
       "      <td>0.260</td>\n",
       "      <td>1.567</td>\n",
       "      <td>0.366</td>\n",
       "      <td>2</td>\n",
       "    </tr>\n",
       "    <tr>\n",
       "      <th>3</th>\n",
       "      <td>1.571</td>\n",
       "      <td>0.252</td>\n",
       "      <td>1.560</td>\n",
       "      <td>0.195</td>\n",
       "      <td>3</td>\n",
       "    </tr>\n",
       "    <tr>\n",
       "      <th>4</th>\n",
       "      <td>1.565</td>\n",
       "      <td>0.285</td>\n",
       "      <td>1.555</td>\n",
       "      <td>0.195</td>\n",
       "      <td>4</td>\n",
       "    </tr>\n",
       "    <tr>\n",
       "      <th>...</th>\n",
       "      <td>...</td>\n",
       "      <td>...</td>\n",
       "      <td>...</td>\n",
       "      <td>...</td>\n",
       "      <td>...</td>\n",
       "    </tr>\n",
       "    <tr>\n",
       "      <th>345</th>\n",
       "      <td>0.647</td>\n",
       "      <td>0.691</td>\n",
       "      <td>0.700</td>\n",
       "      <td>0.634</td>\n",
       "      <td>345</td>\n",
       "    </tr>\n",
       "    <tr>\n",
       "      <th>346</th>\n",
       "      <td>0.620</td>\n",
       "      <td>0.756</td>\n",
       "      <td>0.830</td>\n",
       "      <td>0.610</td>\n",
       "      <td>346</td>\n",
       "    </tr>\n",
       "    <tr>\n",
       "      <th>347</th>\n",
       "      <td>0.688</td>\n",
       "      <td>0.732</td>\n",
       "      <td>0.771</td>\n",
       "      <td>0.610</td>\n",
       "      <td>347</td>\n",
       "    </tr>\n",
       "    <tr>\n",
       "      <th>348</th>\n",
       "      <td>0.600</td>\n",
       "      <td>0.740</td>\n",
       "      <td>0.769</td>\n",
       "      <td>0.634</td>\n",
       "      <td>348</td>\n",
       "    </tr>\n",
       "    <tr>\n",
       "      <th>349</th>\n",
       "      <td>0.555</td>\n",
       "      <td>0.764</td>\n",
       "      <td>0.722</td>\n",
       "      <td>0.634</td>\n",
       "      <td>349</td>\n",
       "    </tr>\n",
       "  </tbody>\n",
       "</table>\n",
       "<p>350 rows × 5 columns</p>\n",
       "</div>"
      ],
      "text/plain": [
       "     Training Loss  Exactitud de Entrenamiento  Validation Loss  \\\n",
       "0            1.613                       0.187            1.604   \n",
       "1            1.601                       0.244            1.595   \n",
       "2            1.586                       0.260            1.567   \n",
       "3            1.571                       0.252            1.560   \n",
       "4            1.565                       0.285            1.555   \n",
       "..             ...                         ...              ...   \n",
       "345          0.647                       0.691            0.700   \n",
       "346          0.620                       0.756            0.830   \n",
       "347          0.688                       0.732            0.771   \n",
       "348          0.600                       0.740            0.769   \n",
       "349          0.555                       0.764            0.722   \n",
       "\n",
       "     Exactitud de Validación  epoch  \n",
       "0                      0.195      0  \n",
       "1                      0.195      1  \n",
       "2                      0.366      2  \n",
       "3                      0.195      3  \n",
       "4                      0.195      4  \n",
       "..                       ...    ...  \n",
       "345                    0.634    345  \n",
       "346                    0.610    346  \n",
       "347                    0.610    347  \n",
       "348                    0.634    348  \n",
       "349                    0.634    349  \n",
       "\n",
       "[350 rows x 5 columns]"
      ]
     },
     "metadata": {},
     "output_type": "display_data"
    }
   ],
   "source": [
    "# Hiperparámetros\n",
    "learning_rate = 0.001\n",
    "epochs = 350\n",
    "batch_size = 5\n",
    "# Llama a la función para crear el modelo y lo guarda.\n",
    "model = my_model(learning_rate)\n",
    "# Invoca a la función de entrenamiento y guarda los resultados.\n",
    "history= train_model(model, train_features, train_labels, epochs, batch_size)\n",
    "# Llama a la función de las gráficas.\n",
    "loss_curves(history)\n",
    "accuracy_curve(history)\n",
    "display(history)"
   ]
  },
  {
   "attachments": {},
   "cell_type": "markdown",
   "metadata": {},
   "source": [
    "# Predicciones"
   ]
  },
  {
   "cell_type": "code",
   "execution_count": 27,
   "metadata": {},
   "outputs": [
    {
     "name": "stdout",
     "output_type": "stream",
     "text": [
      "6/6 [==============================] - 0s 2ms/step\n"
     ]
    },
    {
     "data": {
      "text/html": [
       "<div>\n",
       "<style scoped>\n",
       "    .dataframe tbody tr th:only-of-type {\n",
       "        vertical-align: middle;\n",
       "    }\n",
       "\n",
       "    .dataframe tbody tr th {\n",
       "        vertical-align: top;\n",
       "    }\n",
       "\n",
       "    .dataframe thead th {\n",
       "        text-align: right;\n",
       "    }\n",
       "</style>\n",
       "<table border=\"1\" class=\"dataframe\">\n",
       "  <thead>\n",
       "    <tr style=\"text-align: right;\">\n",
       "      <th></th>\n",
       "      <th>normal</th>\n",
       "      <th>collision_in_tool</th>\n",
       "      <th>collision_in_part</th>\n",
       "      <th>bottom_collision</th>\n",
       "      <th>bottom_obstruction</th>\n",
       "    </tr>\n",
       "  </thead>\n",
       "  <tbody>\n",
       "    <tr>\n",
       "      <th>0</th>\n",
       "      <td>0</td>\n",
       "      <td>0</td>\n",
       "      <td>0</td>\n",
       "      <td>1</td>\n",
       "      <td>0</td>\n",
       "    </tr>\n",
       "    <tr>\n",
       "      <th>1</th>\n",
       "      <td>0</td>\n",
       "      <td>0</td>\n",
       "      <td>0</td>\n",
       "      <td>1</td>\n",
       "      <td>0</td>\n",
       "    </tr>\n",
       "    <tr>\n",
       "      <th>2</th>\n",
       "      <td>0</td>\n",
       "      <td>0</td>\n",
       "      <td>0</td>\n",
       "      <td>1</td>\n",
       "      <td>0</td>\n",
       "    </tr>\n",
       "    <tr>\n",
       "      <th>3</th>\n",
       "      <td>1</td>\n",
       "      <td>0</td>\n",
       "      <td>0</td>\n",
       "      <td>0</td>\n",
       "      <td>0</td>\n",
       "    </tr>\n",
       "    <tr>\n",
       "      <th>4</th>\n",
       "      <td>0</td>\n",
       "      <td>0</td>\n",
       "      <td>1</td>\n",
       "      <td>0</td>\n",
       "      <td>0</td>\n",
       "    </tr>\n",
       "    <tr>\n",
       "      <th>...</th>\n",
       "      <td>...</td>\n",
       "      <td>...</td>\n",
       "      <td>...</td>\n",
       "      <td>...</td>\n",
       "      <td>...</td>\n",
       "    </tr>\n",
       "    <tr>\n",
       "      <th>159</th>\n",
       "      <td>1</td>\n",
       "      <td>0</td>\n",
       "      <td>0</td>\n",
       "      <td>0</td>\n",
       "      <td>0</td>\n",
       "    </tr>\n",
       "    <tr>\n",
       "      <th>160</th>\n",
       "      <td>0</td>\n",
       "      <td>0</td>\n",
       "      <td>0</td>\n",
       "      <td>0</td>\n",
       "      <td>1</td>\n",
       "    </tr>\n",
       "    <tr>\n",
       "      <th>161</th>\n",
       "      <td>1</td>\n",
       "      <td>0</td>\n",
       "      <td>0</td>\n",
       "      <td>0</td>\n",
       "      <td>0</td>\n",
       "    </tr>\n",
       "    <tr>\n",
       "      <th>162</th>\n",
       "      <td>0</td>\n",
       "      <td>0</td>\n",
       "      <td>0</td>\n",
       "      <td>0</td>\n",
       "      <td>1</td>\n",
       "    </tr>\n",
       "    <tr>\n",
       "      <th>163</th>\n",
       "      <td>1</td>\n",
       "      <td>0</td>\n",
       "      <td>0</td>\n",
       "      <td>0</td>\n",
       "      <td>0</td>\n",
       "    </tr>\n",
       "  </tbody>\n",
       "</table>\n",
       "<p>164 rows × 5 columns</p>\n",
       "</div>"
      ],
      "text/plain": [
       "     normal  collision_in_tool  collision_in_part  bottom_collision  \\\n",
       "0         0                  0                  0                 1   \n",
       "1         0                  0                  0                 1   \n",
       "2         0                  0                  0                 1   \n",
       "3         1                  0                  0                 0   \n",
       "4         0                  0                  1                 0   \n",
       "..      ...                ...                ...               ...   \n",
       "159       1                  0                  0                 0   \n",
       "160       0                  0                  0                 0   \n",
       "161       1                  0                  0                 0   \n",
       "162       0                  0                  0                 0   \n",
       "163       1                  0                  0                 0   \n",
       "\n",
       "     bottom_obstruction  \n",
       "0                     0  \n",
       "1                     0  \n",
       "2                     0  \n",
       "3                     0  \n",
       "4                     0  \n",
       "..                  ...  \n",
       "159                   0  \n",
       "160                   1  \n",
       "161                   0  \n",
       "162                   1  \n",
       "163                   0  \n",
       "\n",
       "[164 rows x 5 columns]"
      ]
     },
     "metadata": {},
     "output_type": "display_data"
    },
    {
     "data": {
      "text/html": [
       "<div>\n",
       "<style scoped>\n",
       "    .dataframe tbody tr th:only-of-type {\n",
       "        vertical-align: middle;\n",
       "    }\n",
       "\n",
       "    .dataframe tbody tr th {\n",
       "        vertical-align: top;\n",
       "    }\n",
       "\n",
       "    .dataframe thead th {\n",
       "        text-align: right;\n",
       "    }\n",
       "</style>\n",
       "<table border=\"1\" class=\"dataframe\">\n",
       "  <thead>\n",
       "    <tr style=\"text-align: right;\">\n",
       "      <th></th>\n",
       "      <th>1</th>\n",
       "      <th>2</th>\n",
       "      <th>3</th>\n",
       "      <th>4</th>\n",
       "      <th>5</th>\n",
       "    </tr>\n",
       "  </thead>\n",
       "  <tbody>\n",
       "    <tr>\n",
       "      <th>146</th>\n",
       "      <td>0</td>\n",
       "      <td>0</td>\n",
       "      <td>0</td>\n",
       "      <td>1</td>\n",
       "      <td>0</td>\n",
       "    </tr>\n",
       "    <tr>\n",
       "      <th>89</th>\n",
       "      <td>0</td>\n",
       "      <td>0</td>\n",
       "      <td>1</td>\n",
       "      <td>0</td>\n",
       "      <td>0</td>\n",
       "    </tr>\n",
       "    <tr>\n",
       "      <th>106</th>\n",
       "      <td>0</td>\n",
       "      <td>0</td>\n",
       "      <td>0</td>\n",
       "      <td>1</td>\n",
       "      <td>0</td>\n",
       "    </tr>\n",
       "    <tr>\n",
       "      <th>7</th>\n",
       "      <td>1</td>\n",
       "      <td>0</td>\n",
       "      <td>0</td>\n",
       "      <td>0</td>\n",
       "      <td>0</td>\n",
       "    </tr>\n",
       "    <tr>\n",
       "      <th>94</th>\n",
       "      <td>0</td>\n",
       "      <td>1</td>\n",
       "      <td>0</td>\n",
       "      <td>0</td>\n",
       "      <td>0</td>\n",
       "    </tr>\n",
       "    <tr>\n",
       "      <th>...</th>\n",
       "      <td>...</td>\n",
       "      <td>...</td>\n",
       "      <td>...</td>\n",
       "      <td>...</td>\n",
       "      <td>...</td>\n",
       "    </tr>\n",
       "    <tr>\n",
       "      <th>9</th>\n",
       "      <td>1</td>\n",
       "      <td>0</td>\n",
       "      <td>0</td>\n",
       "      <td>0</td>\n",
       "      <td>0</td>\n",
       "    </tr>\n",
       "    <tr>\n",
       "      <th>103</th>\n",
       "      <td>0</td>\n",
       "      <td>0</td>\n",
       "      <td>0</td>\n",
       "      <td>0</td>\n",
       "      <td>1</td>\n",
       "    </tr>\n",
       "    <tr>\n",
       "      <th>67</th>\n",
       "      <td>1</td>\n",
       "      <td>0</td>\n",
       "      <td>0</td>\n",
       "      <td>0</td>\n",
       "      <td>0</td>\n",
       "    </tr>\n",
       "    <tr>\n",
       "      <th>117</th>\n",
       "      <td>0</td>\n",
       "      <td>0</td>\n",
       "      <td>0</td>\n",
       "      <td>0</td>\n",
       "      <td>1</td>\n",
       "    </tr>\n",
       "    <tr>\n",
       "      <th>47</th>\n",
       "      <td>1</td>\n",
       "      <td>0</td>\n",
       "      <td>0</td>\n",
       "      <td>0</td>\n",
       "      <td>0</td>\n",
       "    </tr>\n",
       "  </tbody>\n",
       "</table>\n",
       "<p>164 rows × 5 columns</p>\n",
       "</div>"
      ],
      "text/plain": [
       "     1  2  3  4  5\n",
       "146  0  0  0  1  0\n",
       "89   0  0  1  0  0\n",
       "106  0  0  0  1  0\n",
       "7    1  0  0  0  0\n",
       "94   0  1  0  0  0\n",
       "..  .. .. .. .. ..\n",
       "9    1  0  0  0  0\n",
       "103  0  0  0  0  1\n",
       "67   1  0  0  0  0\n",
       "117  0  0  0  0  1\n",
       "47   1  0  0  0  0\n",
       "\n",
       "[164 rows x 5 columns]"
      ]
     },
     "metadata": {},
     "output_type": "display_data"
    },
    {
     "data": {
      "text/plain": [
       "array([[[109.,  11.],\n",
       "        [  1.,  43.]],\n",
       "\n",
       "       [[132.,   6.],\n",
       "        [ 18.,   8.]],\n",
       "\n",
       "       [[ 98.,  19.],\n",
       "        [ 16.,  31.]],\n",
       "\n",
       "       [[134.,   4.],\n",
       "        [  3.,  23.]],\n",
       "\n",
       "       [[143.,   0.],\n",
       "        [  2.,  19.]]], dtype=float32)"
      ]
     },
     "metadata": {},
     "output_type": "display_data"
    },
    {
     "data": {
      "application/vnd.plotly.v1+json": {
       "config": {
        "plotlyServerURL": "https://plot.ly"
       },
       "data": [
        {
         "coloraxis": "coloraxis",
         "hovertemplate": "normal (Predicted): %{x}<br>normal: %{y}<br>color: %{z}<extra></extra>",
         "name": "0",
         "texttemplate": "%{z}",
         "type": "heatmap",
         "x": [
          "Negative",
          "-Positive"
         ],
         "xaxis": "x",
         "y": [
          "True",
          "False"
         ],
         "yaxis": "y",
         "z": [
          [
           109,
           11
          ],
          [
           1,
           43
          ]
         ]
        }
       ],
       "layout": {
        "coloraxis": {
         "colorscale": [
          [
           0,
           "rgb(255,255,255)"
          ],
          [
           0.125,
           "rgb(240,240,240)"
          ],
          [
           0.25,
           "rgb(217,217,217)"
          ],
          [
           0.375,
           "rgb(189,189,189)"
          ],
          [
           0.5,
           "rgb(150,150,150)"
          ],
          [
           0.625,
           "rgb(115,115,115)"
          ],
          [
           0.75,
           "rgb(82,82,82)"
          ],
          [
           0.875,
           "rgb(37,37,37)"
          ],
          [
           1,
           "rgb(0,0,0)"
          ]
         ]
        },
        "margin": {
         "t": 60
        },
        "template": {
         "data": {
          "bar": [
           {
            "error_x": {
             "color": "#2a3f5f"
            },
            "error_y": {
             "color": "#2a3f5f"
            },
            "marker": {
             "line": {
              "color": "#E5ECF6",
              "width": 0.5
             },
             "pattern": {
              "fillmode": "overlay",
              "size": 10,
              "solidity": 0.2
             }
            },
            "type": "bar"
           }
          ],
          "barpolar": [
           {
            "marker": {
             "line": {
              "color": "#E5ECF6",
              "width": 0.5
             },
             "pattern": {
              "fillmode": "overlay",
              "size": 10,
              "solidity": 0.2
             }
            },
            "type": "barpolar"
           }
          ],
          "carpet": [
           {
            "aaxis": {
             "endlinecolor": "#2a3f5f",
             "gridcolor": "white",
             "linecolor": "white",
             "minorgridcolor": "white",
             "startlinecolor": "#2a3f5f"
            },
            "baxis": {
             "endlinecolor": "#2a3f5f",
             "gridcolor": "white",
             "linecolor": "white",
             "minorgridcolor": "white",
             "startlinecolor": "#2a3f5f"
            },
            "type": "carpet"
           }
          ],
          "choropleth": [
           {
            "colorbar": {
             "outlinewidth": 0,
             "ticks": ""
            },
            "type": "choropleth"
           }
          ],
          "contour": [
           {
            "colorbar": {
             "outlinewidth": 0,
             "ticks": ""
            },
            "colorscale": [
             [
              0,
              "#0d0887"
             ],
             [
              0.1111111111111111,
              "#46039f"
             ],
             [
              0.2222222222222222,
              "#7201a8"
             ],
             [
              0.3333333333333333,
              "#9c179e"
             ],
             [
              0.4444444444444444,
              "#bd3786"
             ],
             [
              0.5555555555555556,
              "#d8576b"
             ],
             [
              0.6666666666666666,
              "#ed7953"
             ],
             [
              0.7777777777777778,
              "#fb9f3a"
             ],
             [
              0.8888888888888888,
              "#fdca26"
             ],
             [
              1,
              "#f0f921"
             ]
            ],
            "type": "contour"
           }
          ],
          "contourcarpet": [
           {
            "colorbar": {
             "outlinewidth": 0,
             "ticks": ""
            },
            "type": "contourcarpet"
           }
          ],
          "heatmap": [
           {
            "colorbar": {
             "outlinewidth": 0,
             "ticks": ""
            },
            "colorscale": [
             [
              0,
              "#0d0887"
             ],
             [
              0.1111111111111111,
              "#46039f"
             ],
             [
              0.2222222222222222,
              "#7201a8"
             ],
             [
              0.3333333333333333,
              "#9c179e"
             ],
             [
              0.4444444444444444,
              "#bd3786"
             ],
             [
              0.5555555555555556,
              "#d8576b"
             ],
             [
              0.6666666666666666,
              "#ed7953"
             ],
             [
              0.7777777777777778,
              "#fb9f3a"
             ],
             [
              0.8888888888888888,
              "#fdca26"
             ],
             [
              1,
              "#f0f921"
             ]
            ],
            "type": "heatmap"
           }
          ],
          "heatmapgl": [
           {
            "colorbar": {
             "outlinewidth": 0,
             "ticks": ""
            },
            "colorscale": [
             [
              0,
              "#0d0887"
             ],
             [
              0.1111111111111111,
              "#46039f"
             ],
             [
              0.2222222222222222,
              "#7201a8"
             ],
             [
              0.3333333333333333,
              "#9c179e"
             ],
             [
              0.4444444444444444,
              "#bd3786"
             ],
             [
              0.5555555555555556,
              "#d8576b"
             ],
             [
              0.6666666666666666,
              "#ed7953"
             ],
             [
              0.7777777777777778,
              "#fb9f3a"
             ],
             [
              0.8888888888888888,
              "#fdca26"
             ],
             [
              1,
              "#f0f921"
             ]
            ],
            "type": "heatmapgl"
           }
          ],
          "histogram": [
           {
            "marker": {
             "pattern": {
              "fillmode": "overlay",
              "size": 10,
              "solidity": 0.2
             }
            },
            "type": "histogram"
           }
          ],
          "histogram2d": [
           {
            "colorbar": {
             "outlinewidth": 0,
             "ticks": ""
            },
            "colorscale": [
             [
              0,
              "#0d0887"
             ],
             [
              0.1111111111111111,
              "#46039f"
             ],
             [
              0.2222222222222222,
              "#7201a8"
             ],
             [
              0.3333333333333333,
              "#9c179e"
             ],
             [
              0.4444444444444444,
              "#bd3786"
             ],
             [
              0.5555555555555556,
              "#d8576b"
             ],
             [
              0.6666666666666666,
              "#ed7953"
             ],
             [
              0.7777777777777778,
              "#fb9f3a"
             ],
             [
              0.8888888888888888,
              "#fdca26"
             ],
             [
              1,
              "#f0f921"
             ]
            ],
            "type": "histogram2d"
           }
          ],
          "histogram2dcontour": [
           {
            "colorbar": {
             "outlinewidth": 0,
             "ticks": ""
            },
            "colorscale": [
             [
              0,
              "#0d0887"
             ],
             [
              0.1111111111111111,
              "#46039f"
             ],
             [
              0.2222222222222222,
              "#7201a8"
             ],
             [
              0.3333333333333333,
              "#9c179e"
             ],
             [
              0.4444444444444444,
              "#bd3786"
             ],
             [
              0.5555555555555556,
              "#d8576b"
             ],
             [
              0.6666666666666666,
              "#ed7953"
             ],
             [
              0.7777777777777778,
              "#fb9f3a"
             ],
             [
              0.8888888888888888,
              "#fdca26"
             ],
             [
              1,
              "#f0f921"
             ]
            ],
            "type": "histogram2dcontour"
           }
          ],
          "mesh3d": [
           {
            "colorbar": {
             "outlinewidth": 0,
             "ticks": ""
            },
            "type": "mesh3d"
           }
          ],
          "parcoords": [
           {
            "line": {
             "colorbar": {
              "outlinewidth": 0,
              "ticks": ""
             }
            },
            "type": "parcoords"
           }
          ],
          "pie": [
           {
            "automargin": true,
            "type": "pie"
           }
          ],
          "scatter": [
           {
            "fillpattern": {
             "fillmode": "overlay",
             "size": 10,
             "solidity": 0.2
            },
            "type": "scatter"
           }
          ],
          "scatter3d": [
           {
            "line": {
             "colorbar": {
              "outlinewidth": 0,
              "ticks": ""
             }
            },
            "marker": {
             "colorbar": {
              "outlinewidth": 0,
              "ticks": ""
             }
            },
            "type": "scatter3d"
           }
          ],
          "scattercarpet": [
           {
            "marker": {
             "colorbar": {
              "outlinewidth": 0,
              "ticks": ""
             }
            },
            "type": "scattercarpet"
           }
          ],
          "scattergeo": [
           {
            "marker": {
             "colorbar": {
              "outlinewidth": 0,
              "ticks": ""
             }
            },
            "type": "scattergeo"
           }
          ],
          "scattergl": [
           {
            "marker": {
             "colorbar": {
              "outlinewidth": 0,
              "ticks": ""
             }
            },
            "type": "scattergl"
           }
          ],
          "scattermapbox": [
           {
            "marker": {
             "colorbar": {
              "outlinewidth": 0,
              "ticks": ""
             }
            },
            "type": "scattermapbox"
           }
          ],
          "scatterpolar": [
           {
            "marker": {
             "colorbar": {
              "outlinewidth": 0,
              "ticks": ""
             }
            },
            "type": "scatterpolar"
           }
          ],
          "scatterpolargl": [
           {
            "marker": {
             "colorbar": {
              "outlinewidth": 0,
              "ticks": ""
             }
            },
            "type": "scatterpolargl"
           }
          ],
          "scatterternary": [
           {
            "marker": {
             "colorbar": {
              "outlinewidth": 0,
              "ticks": ""
             }
            },
            "type": "scatterternary"
           }
          ],
          "surface": [
           {
            "colorbar": {
             "outlinewidth": 0,
             "ticks": ""
            },
            "colorscale": [
             [
              0,
              "#0d0887"
             ],
             [
              0.1111111111111111,
              "#46039f"
             ],
             [
              0.2222222222222222,
              "#7201a8"
             ],
             [
              0.3333333333333333,
              "#9c179e"
             ],
             [
              0.4444444444444444,
              "#bd3786"
             ],
             [
              0.5555555555555556,
              "#d8576b"
             ],
             [
              0.6666666666666666,
              "#ed7953"
             ],
             [
              0.7777777777777778,
              "#fb9f3a"
             ],
             [
              0.8888888888888888,
              "#fdca26"
             ],
             [
              1,
              "#f0f921"
             ]
            ],
            "type": "surface"
           }
          ],
          "table": [
           {
            "cells": {
             "fill": {
              "color": "#EBF0F8"
             },
             "line": {
              "color": "white"
             }
            },
            "header": {
             "fill": {
              "color": "#C8D4E3"
             },
             "line": {
              "color": "white"
             }
            },
            "type": "table"
           }
          ]
         },
         "layout": {
          "annotationdefaults": {
           "arrowcolor": "#2a3f5f",
           "arrowhead": 0,
           "arrowwidth": 1
          },
          "autotypenumbers": "strict",
          "coloraxis": {
           "colorbar": {
            "outlinewidth": 0,
            "ticks": ""
           }
          },
          "colorscale": {
           "diverging": [
            [
             0,
             "#8e0152"
            ],
            [
             0.1,
             "#c51b7d"
            ],
            [
             0.2,
             "#de77ae"
            ],
            [
             0.3,
             "#f1b6da"
            ],
            [
             0.4,
             "#fde0ef"
            ],
            [
             0.5,
             "#f7f7f7"
            ],
            [
             0.6,
             "#e6f5d0"
            ],
            [
             0.7,
             "#b8e186"
            ],
            [
             0.8,
             "#7fbc41"
            ],
            [
             0.9,
             "#4d9221"
            ],
            [
             1,
             "#276419"
            ]
           ],
           "sequential": [
            [
             0,
             "#0d0887"
            ],
            [
             0.1111111111111111,
             "#46039f"
            ],
            [
             0.2222222222222222,
             "#7201a8"
            ],
            [
             0.3333333333333333,
             "#9c179e"
            ],
            [
             0.4444444444444444,
             "#bd3786"
            ],
            [
             0.5555555555555556,
             "#d8576b"
            ],
            [
             0.6666666666666666,
             "#ed7953"
            ],
            [
             0.7777777777777778,
             "#fb9f3a"
            ],
            [
             0.8888888888888888,
             "#fdca26"
            ],
            [
             1,
             "#f0f921"
            ]
           ],
           "sequentialminus": [
            [
             0,
             "#0d0887"
            ],
            [
             0.1111111111111111,
             "#46039f"
            ],
            [
             0.2222222222222222,
             "#7201a8"
            ],
            [
             0.3333333333333333,
             "#9c179e"
            ],
            [
             0.4444444444444444,
             "#bd3786"
            ],
            [
             0.5555555555555556,
             "#d8576b"
            ],
            [
             0.6666666666666666,
             "#ed7953"
            ],
            [
             0.7777777777777778,
             "#fb9f3a"
            ],
            [
             0.8888888888888888,
             "#fdca26"
            ],
            [
             1,
             "#f0f921"
            ]
           ]
          },
          "colorway": [
           "#636efa",
           "#EF553B",
           "#00cc96",
           "#ab63fa",
           "#FFA15A",
           "#19d3f3",
           "#FF6692",
           "#B6E880",
           "#FF97FF",
           "#FECB52"
          ],
          "font": {
           "color": "#2a3f5f"
          },
          "geo": {
           "bgcolor": "white",
           "lakecolor": "white",
           "landcolor": "#E5ECF6",
           "showlakes": true,
           "showland": true,
           "subunitcolor": "white"
          },
          "hoverlabel": {
           "align": "left"
          },
          "hovermode": "closest",
          "mapbox": {
           "style": "light"
          },
          "paper_bgcolor": "white",
          "plot_bgcolor": "#E5ECF6",
          "polar": {
           "angularaxis": {
            "gridcolor": "white",
            "linecolor": "white",
            "ticks": ""
           },
           "bgcolor": "#E5ECF6",
           "radialaxis": {
            "gridcolor": "white",
            "linecolor": "white",
            "ticks": ""
           }
          },
          "scene": {
           "xaxis": {
            "backgroundcolor": "#E5ECF6",
            "gridcolor": "white",
            "gridwidth": 2,
            "linecolor": "white",
            "showbackground": true,
            "ticks": "",
            "zerolinecolor": "white"
           },
           "yaxis": {
            "backgroundcolor": "#E5ECF6",
            "gridcolor": "white",
            "gridwidth": 2,
            "linecolor": "white",
            "showbackground": true,
            "ticks": "",
            "zerolinecolor": "white"
           },
           "zaxis": {
            "backgroundcolor": "#E5ECF6",
            "gridcolor": "white",
            "gridwidth": 2,
            "linecolor": "white",
            "showbackground": true,
            "ticks": "",
            "zerolinecolor": "white"
           }
          },
          "shapedefaults": {
           "line": {
            "color": "#2a3f5f"
           }
          },
          "ternary": {
           "aaxis": {
            "gridcolor": "white",
            "linecolor": "white",
            "ticks": ""
           },
           "baxis": {
            "gridcolor": "white",
            "linecolor": "white",
            "ticks": ""
           },
           "bgcolor": "#E5ECF6",
           "caxis": {
            "gridcolor": "white",
            "linecolor": "white",
            "ticks": ""
           }
          },
          "title": {
           "x": 0.05
          },
          "xaxis": {
           "automargin": true,
           "gridcolor": "white",
           "linecolor": "white",
           "ticks": "",
           "title": {
            "standoff": 15
           },
           "zerolinecolor": "white",
           "zerolinewidth": 2
          },
          "yaxis": {
           "automargin": true,
           "gridcolor": "white",
           "linecolor": "white",
           "ticks": "",
           "title": {
            "standoff": 15
           },
           "zerolinecolor": "white",
           "zerolinewidth": 2
          }
         }
        },
        "xaxis": {
         "anchor": "y",
         "constrain": "domain",
         "domain": [
          0,
          1
         ],
         "scaleanchor": "y",
         "side": "top",
         "title": {
          "text": "normal (Predicted)"
         }
        },
        "yaxis": {
         "anchor": "x",
         "autorange": "reversed",
         "constrain": "domain",
         "domain": [
          0,
          1
         ],
         "title": {
          "text": "normal"
         }
        }
       }
      }
     },
     "metadata": {},
     "output_type": "display_data"
    },
    {
     "data": {
      "application/vnd.plotly.v1+json": {
       "config": {
        "plotlyServerURL": "https://plot.ly"
       },
       "data": [
        {
         "coloraxis": "coloraxis",
         "hovertemplate": "collision_in_tool (Predicted): %{x}<br>collision_in_tool: %{y}<br>color: %{z}<extra></extra>",
         "name": "0",
         "texttemplate": "%{z}",
         "type": "heatmap",
         "x": [
          "Negative",
          "-Positive"
         ],
         "xaxis": "x",
         "y": [
          "True",
          "False"
         ],
         "yaxis": "y",
         "z": [
          [
           109,
           11
          ],
          [
           1,
           43
          ]
         ]
        }
       ],
       "layout": {
        "coloraxis": {
         "colorscale": [
          [
           0,
           "rgb(255,255,255)"
          ],
          [
           0.125,
           "rgb(240,240,240)"
          ],
          [
           0.25,
           "rgb(217,217,217)"
          ],
          [
           0.375,
           "rgb(189,189,189)"
          ],
          [
           0.5,
           "rgb(150,150,150)"
          ],
          [
           0.625,
           "rgb(115,115,115)"
          ],
          [
           0.75,
           "rgb(82,82,82)"
          ],
          [
           0.875,
           "rgb(37,37,37)"
          ],
          [
           1,
           "rgb(0,0,0)"
          ]
         ]
        },
        "margin": {
         "t": 60
        },
        "template": {
         "data": {
          "bar": [
           {
            "error_x": {
             "color": "#2a3f5f"
            },
            "error_y": {
             "color": "#2a3f5f"
            },
            "marker": {
             "line": {
              "color": "#E5ECF6",
              "width": 0.5
             },
             "pattern": {
              "fillmode": "overlay",
              "size": 10,
              "solidity": 0.2
             }
            },
            "type": "bar"
           }
          ],
          "barpolar": [
           {
            "marker": {
             "line": {
              "color": "#E5ECF6",
              "width": 0.5
             },
             "pattern": {
              "fillmode": "overlay",
              "size": 10,
              "solidity": 0.2
             }
            },
            "type": "barpolar"
           }
          ],
          "carpet": [
           {
            "aaxis": {
             "endlinecolor": "#2a3f5f",
             "gridcolor": "white",
             "linecolor": "white",
             "minorgridcolor": "white",
             "startlinecolor": "#2a3f5f"
            },
            "baxis": {
             "endlinecolor": "#2a3f5f",
             "gridcolor": "white",
             "linecolor": "white",
             "minorgridcolor": "white",
             "startlinecolor": "#2a3f5f"
            },
            "type": "carpet"
           }
          ],
          "choropleth": [
           {
            "colorbar": {
             "outlinewidth": 0,
             "ticks": ""
            },
            "type": "choropleth"
           }
          ],
          "contour": [
           {
            "colorbar": {
             "outlinewidth": 0,
             "ticks": ""
            },
            "colorscale": [
             [
              0,
              "#0d0887"
             ],
             [
              0.1111111111111111,
              "#46039f"
             ],
             [
              0.2222222222222222,
              "#7201a8"
             ],
             [
              0.3333333333333333,
              "#9c179e"
             ],
             [
              0.4444444444444444,
              "#bd3786"
             ],
             [
              0.5555555555555556,
              "#d8576b"
             ],
             [
              0.6666666666666666,
              "#ed7953"
             ],
             [
              0.7777777777777778,
              "#fb9f3a"
             ],
             [
              0.8888888888888888,
              "#fdca26"
             ],
             [
              1,
              "#f0f921"
             ]
            ],
            "type": "contour"
           }
          ],
          "contourcarpet": [
           {
            "colorbar": {
             "outlinewidth": 0,
             "ticks": ""
            },
            "type": "contourcarpet"
           }
          ],
          "heatmap": [
           {
            "colorbar": {
             "outlinewidth": 0,
             "ticks": ""
            },
            "colorscale": [
             [
              0,
              "#0d0887"
             ],
             [
              0.1111111111111111,
              "#46039f"
             ],
             [
              0.2222222222222222,
              "#7201a8"
             ],
             [
              0.3333333333333333,
              "#9c179e"
             ],
             [
              0.4444444444444444,
              "#bd3786"
             ],
             [
              0.5555555555555556,
              "#d8576b"
             ],
             [
              0.6666666666666666,
              "#ed7953"
             ],
             [
              0.7777777777777778,
              "#fb9f3a"
             ],
             [
              0.8888888888888888,
              "#fdca26"
             ],
             [
              1,
              "#f0f921"
             ]
            ],
            "type": "heatmap"
           }
          ],
          "heatmapgl": [
           {
            "colorbar": {
             "outlinewidth": 0,
             "ticks": ""
            },
            "colorscale": [
             [
              0,
              "#0d0887"
             ],
             [
              0.1111111111111111,
              "#46039f"
             ],
             [
              0.2222222222222222,
              "#7201a8"
             ],
             [
              0.3333333333333333,
              "#9c179e"
             ],
             [
              0.4444444444444444,
              "#bd3786"
             ],
             [
              0.5555555555555556,
              "#d8576b"
             ],
             [
              0.6666666666666666,
              "#ed7953"
             ],
             [
              0.7777777777777778,
              "#fb9f3a"
             ],
             [
              0.8888888888888888,
              "#fdca26"
             ],
             [
              1,
              "#f0f921"
             ]
            ],
            "type": "heatmapgl"
           }
          ],
          "histogram": [
           {
            "marker": {
             "pattern": {
              "fillmode": "overlay",
              "size": 10,
              "solidity": 0.2
             }
            },
            "type": "histogram"
           }
          ],
          "histogram2d": [
           {
            "colorbar": {
             "outlinewidth": 0,
             "ticks": ""
            },
            "colorscale": [
             [
              0,
              "#0d0887"
             ],
             [
              0.1111111111111111,
              "#46039f"
             ],
             [
              0.2222222222222222,
              "#7201a8"
             ],
             [
              0.3333333333333333,
              "#9c179e"
             ],
             [
              0.4444444444444444,
              "#bd3786"
             ],
             [
              0.5555555555555556,
              "#d8576b"
             ],
             [
              0.6666666666666666,
              "#ed7953"
             ],
             [
              0.7777777777777778,
              "#fb9f3a"
             ],
             [
              0.8888888888888888,
              "#fdca26"
             ],
             [
              1,
              "#f0f921"
             ]
            ],
            "type": "histogram2d"
           }
          ],
          "histogram2dcontour": [
           {
            "colorbar": {
             "outlinewidth": 0,
             "ticks": ""
            },
            "colorscale": [
             [
              0,
              "#0d0887"
             ],
             [
              0.1111111111111111,
              "#46039f"
             ],
             [
              0.2222222222222222,
              "#7201a8"
             ],
             [
              0.3333333333333333,
              "#9c179e"
             ],
             [
              0.4444444444444444,
              "#bd3786"
             ],
             [
              0.5555555555555556,
              "#d8576b"
             ],
             [
              0.6666666666666666,
              "#ed7953"
             ],
             [
              0.7777777777777778,
              "#fb9f3a"
             ],
             [
              0.8888888888888888,
              "#fdca26"
             ],
             [
              1,
              "#f0f921"
             ]
            ],
            "type": "histogram2dcontour"
           }
          ],
          "mesh3d": [
           {
            "colorbar": {
             "outlinewidth": 0,
             "ticks": ""
            },
            "type": "mesh3d"
           }
          ],
          "parcoords": [
           {
            "line": {
             "colorbar": {
              "outlinewidth": 0,
              "ticks": ""
             }
            },
            "type": "parcoords"
           }
          ],
          "pie": [
           {
            "automargin": true,
            "type": "pie"
           }
          ],
          "scatter": [
           {
            "fillpattern": {
             "fillmode": "overlay",
             "size": 10,
             "solidity": 0.2
            },
            "type": "scatter"
           }
          ],
          "scatter3d": [
           {
            "line": {
             "colorbar": {
              "outlinewidth": 0,
              "ticks": ""
             }
            },
            "marker": {
             "colorbar": {
              "outlinewidth": 0,
              "ticks": ""
             }
            },
            "type": "scatter3d"
           }
          ],
          "scattercarpet": [
           {
            "marker": {
             "colorbar": {
              "outlinewidth": 0,
              "ticks": ""
             }
            },
            "type": "scattercarpet"
           }
          ],
          "scattergeo": [
           {
            "marker": {
             "colorbar": {
              "outlinewidth": 0,
              "ticks": ""
             }
            },
            "type": "scattergeo"
           }
          ],
          "scattergl": [
           {
            "marker": {
             "colorbar": {
              "outlinewidth": 0,
              "ticks": ""
             }
            },
            "type": "scattergl"
           }
          ],
          "scattermapbox": [
           {
            "marker": {
             "colorbar": {
              "outlinewidth": 0,
              "ticks": ""
             }
            },
            "type": "scattermapbox"
           }
          ],
          "scatterpolar": [
           {
            "marker": {
             "colorbar": {
              "outlinewidth": 0,
              "ticks": ""
             }
            },
            "type": "scatterpolar"
           }
          ],
          "scatterpolargl": [
           {
            "marker": {
             "colorbar": {
              "outlinewidth": 0,
              "ticks": ""
             }
            },
            "type": "scatterpolargl"
           }
          ],
          "scatterternary": [
           {
            "marker": {
             "colorbar": {
              "outlinewidth": 0,
              "ticks": ""
             }
            },
            "type": "scatterternary"
           }
          ],
          "surface": [
           {
            "colorbar": {
             "outlinewidth": 0,
             "ticks": ""
            },
            "colorscale": [
             [
              0,
              "#0d0887"
             ],
             [
              0.1111111111111111,
              "#46039f"
             ],
             [
              0.2222222222222222,
              "#7201a8"
             ],
             [
              0.3333333333333333,
              "#9c179e"
             ],
             [
              0.4444444444444444,
              "#bd3786"
             ],
             [
              0.5555555555555556,
              "#d8576b"
             ],
             [
              0.6666666666666666,
              "#ed7953"
             ],
             [
              0.7777777777777778,
              "#fb9f3a"
             ],
             [
              0.8888888888888888,
              "#fdca26"
             ],
             [
              1,
              "#f0f921"
             ]
            ],
            "type": "surface"
           }
          ],
          "table": [
           {
            "cells": {
             "fill": {
              "color": "#EBF0F8"
             },
             "line": {
              "color": "white"
             }
            },
            "header": {
             "fill": {
              "color": "#C8D4E3"
             },
             "line": {
              "color": "white"
             }
            },
            "type": "table"
           }
          ]
         },
         "layout": {
          "annotationdefaults": {
           "arrowcolor": "#2a3f5f",
           "arrowhead": 0,
           "arrowwidth": 1
          },
          "autotypenumbers": "strict",
          "coloraxis": {
           "colorbar": {
            "outlinewidth": 0,
            "ticks": ""
           }
          },
          "colorscale": {
           "diverging": [
            [
             0,
             "#8e0152"
            ],
            [
             0.1,
             "#c51b7d"
            ],
            [
             0.2,
             "#de77ae"
            ],
            [
             0.3,
             "#f1b6da"
            ],
            [
             0.4,
             "#fde0ef"
            ],
            [
             0.5,
             "#f7f7f7"
            ],
            [
             0.6,
             "#e6f5d0"
            ],
            [
             0.7,
             "#b8e186"
            ],
            [
             0.8,
             "#7fbc41"
            ],
            [
             0.9,
             "#4d9221"
            ],
            [
             1,
             "#276419"
            ]
           ],
           "sequential": [
            [
             0,
             "#0d0887"
            ],
            [
             0.1111111111111111,
             "#46039f"
            ],
            [
             0.2222222222222222,
             "#7201a8"
            ],
            [
             0.3333333333333333,
             "#9c179e"
            ],
            [
             0.4444444444444444,
             "#bd3786"
            ],
            [
             0.5555555555555556,
             "#d8576b"
            ],
            [
             0.6666666666666666,
             "#ed7953"
            ],
            [
             0.7777777777777778,
             "#fb9f3a"
            ],
            [
             0.8888888888888888,
             "#fdca26"
            ],
            [
             1,
             "#f0f921"
            ]
           ],
           "sequentialminus": [
            [
             0,
             "#0d0887"
            ],
            [
             0.1111111111111111,
             "#46039f"
            ],
            [
             0.2222222222222222,
             "#7201a8"
            ],
            [
             0.3333333333333333,
             "#9c179e"
            ],
            [
             0.4444444444444444,
             "#bd3786"
            ],
            [
             0.5555555555555556,
             "#d8576b"
            ],
            [
             0.6666666666666666,
             "#ed7953"
            ],
            [
             0.7777777777777778,
             "#fb9f3a"
            ],
            [
             0.8888888888888888,
             "#fdca26"
            ],
            [
             1,
             "#f0f921"
            ]
           ]
          },
          "colorway": [
           "#636efa",
           "#EF553B",
           "#00cc96",
           "#ab63fa",
           "#FFA15A",
           "#19d3f3",
           "#FF6692",
           "#B6E880",
           "#FF97FF",
           "#FECB52"
          ],
          "font": {
           "color": "#2a3f5f"
          },
          "geo": {
           "bgcolor": "white",
           "lakecolor": "white",
           "landcolor": "#E5ECF6",
           "showlakes": true,
           "showland": true,
           "subunitcolor": "white"
          },
          "hoverlabel": {
           "align": "left"
          },
          "hovermode": "closest",
          "mapbox": {
           "style": "light"
          },
          "paper_bgcolor": "white",
          "plot_bgcolor": "#E5ECF6",
          "polar": {
           "angularaxis": {
            "gridcolor": "white",
            "linecolor": "white",
            "ticks": ""
           },
           "bgcolor": "#E5ECF6",
           "radialaxis": {
            "gridcolor": "white",
            "linecolor": "white",
            "ticks": ""
           }
          },
          "scene": {
           "xaxis": {
            "backgroundcolor": "#E5ECF6",
            "gridcolor": "white",
            "gridwidth": 2,
            "linecolor": "white",
            "showbackground": true,
            "ticks": "",
            "zerolinecolor": "white"
           },
           "yaxis": {
            "backgroundcolor": "#E5ECF6",
            "gridcolor": "white",
            "gridwidth": 2,
            "linecolor": "white",
            "showbackground": true,
            "ticks": "",
            "zerolinecolor": "white"
           },
           "zaxis": {
            "backgroundcolor": "#E5ECF6",
            "gridcolor": "white",
            "gridwidth": 2,
            "linecolor": "white",
            "showbackground": true,
            "ticks": "",
            "zerolinecolor": "white"
           }
          },
          "shapedefaults": {
           "line": {
            "color": "#2a3f5f"
           }
          },
          "ternary": {
           "aaxis": {
            "gridcolor": "white",
            "linecolor": "white",
            "ticks": ""
           },
           "baxis": {
            "gridcolor": "white",
            "linecolor": "white",
            "ticks": ""
           },
           "bgcolor": "#E5ECF6",
           "caxis": {
            "gridcolor": "white",
            "linecolor": "white",
            "ticks": ""
           }
          },
          "title": {
           "x": 0.05
          },
          "xaxis": {
           "automargin": true,
           "gridcolor": "white",
           "linecolor": "white",
           "ticks": "",
           "title": {
            "standoff": 15
           },
           "zerolinecolor": "white",
           "zerolinewidth": 2
          },
          "yaxis": {
           "automargin": true,
           "gridcolor": "white",
           "linecolor": "white",
           "ticks": "",
           "title": {
            "standoff": 15
           },
           "zerolinecolor": "white",
           "zerolinewidth": 2
          }
         }
        },
        "xaxis": {
         "anchor": "y",
         "constrain": "domain",
         "domain": [
          0,
          1
         ],
         "scaleanchor": "y",
         "side": "top",
         "title": {
          "text": "collision_in_tool (Predicted)"
         }
        },
        "yaxis": {
         "anchor": "x",
         "autorange": "reversed",
         "constrain": "domain",
         "domain": [
          0,
          1
         ],
         "title": {
          "text": "collision_in_tool"
         }
        }
       }
      }
     },
     "metadata": {},
     "output_type": "display_data"
    },
    {
     "data": {
      "application/vnd.plotly.v1+json": {
       "config": {
        "plotlyServerURL": "https://plot.ly"
       },
       "data": [
        {
         "coloraxis": "coloraxis",
         "hovertemplate": "collision_in_part (Predicted): %{x}<br>collision_in_part: %{y}<br>color: %{z}<extra></extra>",
         "name": "0",
         "texttemplate": "%{z}",
         "type": "heatmap",
         "x": [
          "Negative",
          "-Positive"
         ],
         "xaxis": "x",
         "y": [
          "True",
          "False"
         ],
         "yaxis": "y",
         "z": [
          [
           109,
           11
          ],
          [
           1,
           43
          ]
         ]
        }
       ],
       "layout": {
        "coloraxis": {
         "colorscale": [
          [
           0,
           "rgb(255,255,255)"
          ],
          [
           0.125,
           "rgb(240,240,240)"
          ],
          [
           0.25,
           "rgb(217,217,217)"
          ],
          [
           0.375,
           "rgb(189,189,189)"
          ],
          [
           0.5,
           "rgb(150,150,150)"
          ],
          [
           0.625,
           "rgb(115,115,115)"
          ],
          [
           0.75,
           "rgb(82,82,82)"
          ],
          [
           0.875,
           "rgb(37,37,37)"
          ],
          [
           1,
           "rgb(0,0,0)"
          ]
         ]
        },
        "margin": {
         "t": 60
        },
        "template": {
         "data": {
          "bar": [
           {
            "error_x": {
             "color": "#2a3f5f"
            },
            "error_y": {
             "color": "#2a3f5f"
            },
            "marker": {
             "line": {
              "color": "#E5ECF6",
              "width": 0.5
             },
             "pattern": {
              "fillmode": "overlay",
              "size": 10,
              "solidity": 0.2
             }
            },
            "type": "bar"
           }
          ],
          "barpolar": [
           {
            "marker": {
             "line": {
              "color": "#E5ECF6",
              "width": 0.5
             },
             "pattern": {
              "fillmode": "overlay",
              "size": 10,
              "solidity": 0.2
             }
            },
            "type": "barpolar"
           }
          ],
          "carpet": [
           {
            "aaxis": {
             "endlinecolor": "#2a3f5f",
             "gridcolor": "white",
             "linecolor": "white",
             "minorgridcolor": "white",
             "startlinecolor": "#2a3f5f"
            },
            "baxis": {
             "endlinecolor": "#2a3f5f",
             "gridcolor": "white",
             "linecolor": "white",
             "minorgridcolor": "white",
             "startlinecolor": "#2a3f5f"
            },
            "type": "carpet"
           }
          ],
          "choropleth": [
           {
            "colorbar": {
             "outlinewidth": 0,
             "ticks": ""
            },
            "type": "choropleth"
           }
          ],
          "contour": [
           {
            "colorbar": {
             "outlinewidth": 0,
             "ticks": ""
            },
            "colorscale": [
             [
              0,
              "#0d0887"
             ],
             [
              0.1111111111111111,
              "#46039f"
             ],
             [
              0.2222222222222222,
              "#7201a8"
             ],
             [
              0.3333333333333333,
              "#9c179e"
             ],
             [
              0.4444444444444444,
              "#bd3786"
             ],
             [
              0.5555555555555556,
              "#d8576b"
             ],
             [
              0.6666666666666666,
              "#ed7953"
             ],
             [
              0.7777777777777778,
              "#fb9f3a"
             ],
             [
              0.8888888888888888,
              "#fdca26"
             ],
             [
              1,
              "#f0f921"
             ]
            ],
            "type": "contour"
           }
          ],
          "contourcarpet": [
           {
            "colorbar": {
             "outlinewidth": 0,
             "ticks": ""
            },
            "type": "contourcarpet"
           }
          ],
          "heatmap": [
           {
            "colorbar": {
             "outlinewidth": 0,
             "ticks": ""
            },
            "colorscale": [
             [
              0,
              "#0d0887"
             ],
             [
              0.1111111111111111,
              "#46039f"
             ],
             [
              0.2222222222222222,
              "#7201a8"
             ],
             [
              0.3333333333333333,
              "#9c179e"
             ],
             [
              0.4444444444444444,
              "#bd3786"
             ],
             [
              0.5555555555555556,
              "#d8576b"
             ],
             [
              0.6666666666666666,
              "#ed7953"
             ],
             [
              0.7777777777777778,
              "#fb9f3a"
             ],
             [
              0.8888888888888888,
              "#fdca26"
             ],
             [
              1,
              "#f0f921"
             ]
            ],
            "type": "heatmap"
           }
          ],
          "heatmapgl": [
           {
            "colorbar": {
             "outlinewidth": 0,
             "ticks": ""
            },
            "colorscale": [
             [
              0,
              "#0d0887"
             ],
             [
              0.1111111111111111,
              "#46039f"
             ],
             [
              0.2222222222222222,
              "#7201a8"
             ],
             [
              0.3333333333333333,
              "#9c179e"
             ],
             [
              0.4444444444444444,
              "#bd3786"
             ],
             [
              0.5555555555555556,
              "#d8576b"
             ],
             [
              0.6666666666666666,
              "#ed7953"
             ],
             [
              0.7777777777777778,
              "#fb9f3a"
             ],
             [
              0.8888888888888888,
              "#fdca26"
             ],
             [
              1,
              "#f0f921"
             ]
            ],
            "type": "heatmapgl"
           }
          ],
          "histogram": [
           {
            "marker": {
             "pattern": {
              "fillmode": "overlay",
              "size": 10,
              "solidity": 0.2
             }
            },
            "type": "histogram"
           }
          ],
          "histogram2d": [
           {
            "colorbar": {
             "outlinewidth": 0,
             "ticks": ""
            },
            "colorscale": [
             [
              0,
              "#0d0887"
             ],
             [
              0.1111111111111111,
              "#46039f"
             ],
             [
              0.2222222222222222,
              "#7201a8"
             ],
             [
              0.3333333333333333,
              "#9c179e"
             ],
             [
              0.4444444444444444,
              "#bd3786"
             ],
             [
              0.5555555555555556,
              "#d8576b"
             ],
             [
              0.6666666666666666,
              "#ed7953"
             ],
             [
              0.7777777777777778,
              "#fb9f3a"
             ],
             [
              0.8888888888888888,
              "#fdca26"
             ],
             [
              1,
              "#f0f921"
             ]
            ],
            "type": "histogram2d"
           }
          ],
          "histogram2dcontour": [
           {
            "colorbar": {
             "outlinewidth": 0,
             "ticks": ""
            },
            "colorscale": [
             [
              0,
              "#0d0887"
             ],
             [
              0.1111111111111111,
              "#46039f"
             ],
             [
              0.2222222222222222,
              "#7201a8"
             ],
             [
              0.3333333333333333,
              "#9c179e"
             ],
             [
              0.4444444444444444,
              "#bd3786"
             ],
             [
              0.5555555555555556,
              "#d8576b"
             ],
             [
              0.6666666666666666,
              "#ed7953"
             ],
             [
              0.7777777777777778,
              "#fb9f3a"
             ],
             [
              0.8888888888888888,
              "#fdca26"
             ],
             [
              1,
              "#f0f921"
             ]
            ],
            "type": "histogram2dcontour"
           }
          ],
          "mesh3d": [
           {
            "colorbar": {
             "outlinewidth": 0,
             "ticks": ""
            },
            "type": "mesh3d"
           }
          ],
          "parcoords": [
           {
            "line": {
             "colorbar": {
              "outlinewidth": 0,
              "ticks": ""
             }
            },
            "type": "parcoords"
           }
          ],
          "pie": [
           {
            "automargin": true,
            "type": "pie"
           }
          ],
          "scatter": [
           {
            "fillpattern": {
             "fillmode": "overlay",
             "size": 10,
             "solidity": 0.2
            },
            "type": "scatter"
           }
          ],
          "scatter3d": [
           {
            "line": {
             "colorbar": {
              "outlinewidth": 0,
              "ticks": ""
             }
            },
            "marker": {
             "colorbar": {
              "outlinewidth": 0,
              "ticks": ""
             }
            },
            "type": "scatter3d"
           }
          ],
          "scattercarpet": [
           {
            "marker": {
             "colorbar": {
              "outlinewidth": 0,
              "ticks": ""
             }
            },
            "type": "scattercarpet"
           }
          ],
          "scattergeo": [
           {
            "marker": {
             "colorbar": {
              "outlinewidth": 0,
              "ticks": ""
             }
            },
            "type": "scattergeo"
           }
          ],
          "scattergl": [
           {
            "marker": {
             "colorbar": {
              "outlinewidth": 0,
              "ticks": ""
             }
            },
            "type": "scattergl"
           }
          ],
          "scattermapbox": [
           {
            "marker": {
             "colorbar": {
              "outlinewidth": 0,
              "ticks": ""
             }
            },
            "type": "scattermapbox"
           }
          ],
          "scatterpolar": [
           {
            "marker": {
             "colorbar": {
              "outlinewidth": 0,
              "ticks": ""
             }
            },
            "type": "scatterpolar"
           }
          ],
          "scatterpolargl": [
           {
            "marker": {
             "colorbar": {
              "outlinewidth": 0,
              "ticks": ""
             }
            },
            "type": "scatterpolargl"
           }
          ],
          "scatterternary": [
           {
            "marker": {
             "colorbar": {
              "outlinewidth": 0,
              "ticks": ""
             }
            },
            "type": "scatterternary"
           }
          ],
          "surface": [
           {
            "colorbar": {
             "outlinewidth": 0,
             "ticks": ""
            },
            "colorscale": [
             [
              0,
              "#0d0887"
             ],
             [
              0.1111111111111111,
              "#46039f"
             ],
             [
              0.2222222222222222,
              "#7201a8"
             ],
             [
              0.3333333333333333,
              "#9c179e"
             ],
             [
              0.4444444444444444,
              "#bd3786"
             ],
             [
              0.5555555555555556,
              "#d8576b"
             ],
             [
              0.6666666666666666,
              "#ed7953"
             ],
             [
              0.7777777777777778,
              "#fb9f3a"
             ],
             [
              0.8888888888888888,
              "#fdca26"
             ],
             [
              1,
              "#f0f921"
             ]
            ],
            "type": "surface"
           }
          ],
          "table": [
           {
            "cells": {
             "fill": {
              "color": "#EBF0F8"
             },
             "line": {
              "color": "white"
             }
            },
            "header": {
             "fill": {
              "color": "#C8D4E3"
             },
             "line": {
              "color": "white"
             }
            },
            "type": "table"
           }
          ]
         },
         "layout": {
          "annotationdefaults": {
           "arrowcolor": "#2a3f5f",
           "arrowhead": 0,
           "arrowwidth": 1
          },
          "autotypenumbers": "strict",
          "coloraxis": {
           "colorbar": {
            "outlinewidth": 0,
            "ticks": ""
           }
          },
          "colorscale": {
           "diverging": [
            [
             0,
             "#8e0152"
            ],
            [
             0.1,
             "#c51b7d"
            ],
            [
             0.2,
             "#de77ae"
            ],
            [
             0.3,
             "#f1b6da"
            ],
            [
             0.4,
             "#fde0ef"
            ],
            [
             0.5,
             "#f7f7f7"
            ],
            [
             0.6,
             "#e6f5d0"
            ],
            [
             0.7,
             "#b8e186"
            ],
            [
             0.8,
             "#7fbc41"
            ],
            [
             0.9,
             "#4d9221"
            ],
            [
             1,
             "#276419"
            ]
           ],
           "sequential": [
            [
             0,
             "#0d0887"
            ],
            [
             0.1111111111111111,
             "#46039f"
            ],
            [
             0.2222222222222222,
             "#7201a8"
            ],
            [
             0.3333333333333333,
             "#9c179e"
            ],
            [
             0.4444444444444444,
             "#bd3786"
            ],
            [
             0.5555555555555556,
             "#d8576b"
            ],
            [
             0.6666666666666666,
             "#ed7953"
            ],
            [
             0.7777777777777778,
             "#fb9f3a"
            ],
            [
             0.8888888888888888,
             "#fdca26"
            ],
            [
             1,
             "#f0f921"
            ]
           ],
           "sequentialminus": [
            [
             0,
             "#0d0887"
            ],
            [
             0.1111111111111111,
             "#46039f"
            ],
            [
             0.2222222222222222,
             "#7201a8"
            ],
            [
             0.3333333333333333,
             "#9c179e"
            ],
            [
             0.4444444444444444,
             "#bd3786"
            ],
            [
             0.5555555555555556,
             "#d8576b"
            ],
            [
             0.6666666666666666,
             "#ed7953"
            ],
            [
             0.7777777777777778,
             "#fb9f3a"
            ],
            [
             0.8888888888888888,
             "#fdca26"
            ],
            [
             1,
             "#f0f921"
            ]
           ]
          },
          "colorway": [
           "#636efa",
           "#EF553B",
           "#00cc96",
           "#ab63fa",
           "#FFA15A",
           "#19d3f3",
           "#FF6692",
           "#B6E880",
           "#FF97FF",
           "#FECB52"
          ],
          "font": {
           "color": "#2a3f5f"
          },
          "geo": {
           "bgcolor": "white",
           "lakecolor": "white",
           "landcolor": "#E5ECF6",
           "showlakes": true,
           "showland": true,
           "subunitcolor": "white"
          },
          "hoverlabel": {
           "align": "left"
          },
          "hovermode": "closest",
          "mapbox": {
           "style": "light"
          },
          "paper_bgcolor": "white",
          "plot_bgcolor": "#E5ECF6",
          "polar": {
           "angularaxis": {
            "gridcolor": "white",
            "linecolor": "white",
            "ticks": ""
           },
           "bgcolor": "#E5ECF6",
           "radialaxis": {
            "gridcolor": "white",
            "linecolor": "white",
            "ticks": ""
           }
          },
          "scene": {
           "xaxis": {
            "backgroundcolor": "#E5ECF6",
            "gridcolor": "white",
            "gridwidth": 2,
            "linecolor": "white",
            "showbackground": true,
            "ticks": "",
            "zerolinecolor": "white"
           },
           "yaxis": {
            "backgroundcolor": "#E5ECF6",
            "gridcolor": "white",
            "gridwidth": 2,
            "linecolor": "white",
            "showbackground": true,
            "ticks": "",
            "zerolinecolor": "white"
           },
           "zaxis": {
            "backgroundcolor": "#E5ECF6",
            "gridcolor": "white",
            "gridwidth": 2,
            "linecolor": "white",
            "showbackground": true,
            "ticks": "",
            "zerolinecolor": "white"
           }
          },
          "shapedefaults": {
           "line": {
            "color": "#2a3f5f"
           }
          },
          "ternary": {
           "aaxis": {
            "gridcolor": "white",
            "linecolor": "white",
            "ticks": ""
           },
           "baxis": {
            "gridcolor": "white",
            "linecolor": "white",
            "ticks": ""
           },
           "bgcolor": "#E5ECF6",
           "caxis": {
            "gridcolor": "white",
            "linecolor": "white",
            "ticks": ""
           }
          },
          "title": {
           "x": 0.05
          },
          "xaxis": {
           "automargin": true,
           "gridcolor": "white",
           "linecolor": "white",
           "ticks": "",
           "title": {
            "standoff": 15
           },
           "zerolinecolor": "white",
           "zerolinewidth": 2
          },
          "yaxis": {
           "automargin": true,
           "gridcolor": "white",
           "linecolor": "white",
           "ticks": "",
           "title": {
            "standoff": 15
           },
           "zerolinecolor": "white",
           "zerolinewidth": 2
          }
         }
        },
        "xaxis": {
         "anchor": "y",
         "constrain": "domain",
         "domain": [
          0,
          1
         ],
         "scaleanchor": "y",
         "side": "top",
         "title": {
          "text": "collision_in_part (Predicted)"
         }
        },
        "yaxis": {
         "anchor": "x",
         "autorange": "reversed",
         "constrain": "domain",
         "domain": [
          0,
          1
         ],
         "title": {
          "text": "collision_in_part"
         }
        }
       }
      }
     },
     "metadata": {},
     "output_type": "display_data"
    },
    {
     "data": {
      "application/vnd.plotly.v1+json": {
       "config": {
        "plotlyServerURL": "https://plot.ly"
       },
       "data": [
        {
         "coloraxis": "coloraxis",
         "hovertemplate": "bottom_collision (Predicted): %{x}<br>bottom_collision: %{y}<br>color: %{z}<extra></extra>",
         "name": "0",
         "texttemplate": "%{z}",
         "type": "heatmap",
         "x": [
          "Negative",
          "-Positive"
         ],
         "xaxis": "x",
         "y": [
          "True",
          "False"
         ],
         "yaxis": "y",
         "z": [
          [
           109,
           11
          ],
          [
           1,
           43
          ]
         ]
        }
       ],
       "layout": {
        "coloraxis": {
         "colorscale": [
          [
           0,
           "rgb(255,255,255)"
          ],
          [
           0.125,
           "rgb(240,240,240)"
          ],
          [
           0.25,
           "rgb(217,217,217)"
          ],
          [
           0.375,
           "rgb(189,189,189)"
          ],
          [
           0.5,
           "rgb(150,150,150)"
          ],
          [
           0.625,
           "rgb(115,115,115)"
          ],
          [
           0.75,
           "rgb(82,82,82)"
          ],
          [
           0.875,
           "rgb(37,37,37)"
          ],
          [
           1,
           "rgb(0,0,0)"
          ]
         ]
        },
        "margin": {
         "t": 60
        },
        "template": {
         "data": {
          "bar": [
           {
            "error_x": {
             "color": "#2a3f5f"
            },
            "error_y": {
             "color": "#2a3f5f"
            },
            "marker": {
             "line": {
              "color": "#E5ECF6",
              "width": 0.5
             },
             "pattern": {
              "fillmode": "overlay",
              "size": 10,
              "solidity": 0.2
             }
            },
            "type": "bar"
           }
          ],
          "barpolar": [
           {
            "marker": {
             "line": {
              "color": "#E5ECF6",
              "width": 0.5
             },
             "pattern": {
              "fillmode": "overlay",
              "size": 10,
              "solidity": 0.2
             }
            },
            "type": "barpolar"
           }
          ],
          "carpet": [
           {
            "aaxis": {
             "endlinecolor": "#2a3f5f",
             "gridcolor": "white",
             "linecolor": "white",
             "minorgridcolor": "white",
             "startlinecolor": "#2a3f5f"
            },
            "baxis": {
             "endlinecolor": "#2a3f5f",
             "gridcolor": "white",
             "linecolor": "white",
             "minorgridcolor": "white",
             "startlinecolor": "#2a3f5f"
            },
            "type": "carpet"
           }
          ],
          "choropleth": [
           {
            "colorbar": {
             "outlinewidth": 0,
             "ticks": ""
            },
            "type": "choropleth"
           }
          ],
          "contour": [
           {
            "colorbar": {
             "outlinewidth": 0,
             "ticks": ""
            },
            "colorscale": [
             [
              0,
              "#0d0887"
             ],
             [
              0.1111111111111111,
              "#46039f"
             ],
             [
              0.2222222222222222,
              "#7201a8"
             ],
             [
              0.3333333333333333,
              "#9c179e"
             ],
             [
              0.4444444444444444,
              "#bd3786"
             ],
             [
              0.5555555555555556,
              "#d8576b"
             ],
             [
              0.6666666666666666,
              "#ed7953"
             ],
             [
              0.7777777777777778,
              "#fb9f3a"
             ],
             [
              0.8888888888888888,
              "#fdca26"
             ],
             [
              1,
              "#f0f921"
             ]
            ],
            "type": "contour"
           }
          ],
          "contourcarpet": [
           {
            "colorbar": {
             "outlinewidth": 0,
             "ticks": ""
            },
            "type": "contourcarpet"
           }
          ],
          "heatmap": [
           {
            "colorbar": {
             "outlinewidth": 0,
             "ticks": ""
            },
            "colorscale": [
             [
              0,
              "#0d0887"
             ],
             [
              0.1111111111111111,
              "#46039f"
             ],
             [
              0.2222222222222222,
              "#7201a8"
             ],
             [
              0.3333333333333333,
              "#9c179e"
             ],
             [
              0.4444444444444444,
              "#bd3786"
             ],
             [
              0.5555555555555556,
              "#d8576b"
             ],
             [
              0.6666666666666666,
              "#ed7953"
             ],
             [
              0.7777777777777778,
              "#fb9f3a"
             ],
             [
              0.8888888888888888,
              "#fdca26"
             ],
             [
              1,
              "#f0f921"
             ]
            ],
            "type": "heatmap"
           }
          ],
          "heatmapgl": [
           {
            "colorbar": {
             "outlinewidth": 0,
             "ticks": ""
            },
            "colorscale": [
             [
              0,
              "#0d0887"
             ],
             [
              0.1111111111111111,
              "#46039f"
             ],
             [
              0.2222222222222222,
              "#7201a8"
             ],
             [
              0.3333333333333333,
              "#9c179e"
             ],
             [
              0.4444444444444444,
              "#bd3786"
             ],
             [
              0.5555555555555556,
              "#d8576b"
             ],
             [
              0.6666666666666666,
              "#ed7953"
             ],
             [
              0.7777777777777778,
              "#fb9f3a"
             ],
             [
              0.8888888888888888,
              "#fdca26"
             ],
             [
              1,
              "#f0f921"
             ]
            ],
            "type": "heatmapgl"
           }
          ],
          "histogram": [
           {
            "marker": {
             "pattern": {
              "fillmode": "overlay",
              "size": 10,
              "solidity": 0.2
             }
            },
            "type": "histogram"
           }
          ],
          "histogram2d": [
           {
            "colorbar": {
             "outlinewidth": 0,
             "ticks": ""
            },
            "colorscale": [
             [
              0,
              "#0d0887"
             ],
             [
              0.1111111111111111,
              "#46039f"
             ],
             [
              0.2222222222222222,
              "#7201a8"
             ],
             [
              0.3333333333333333,
              "#9c179e"
             ],
             [
              0.4444444444444444,
              "#bd3786"
             ],
             [
              0.5555555555555556,
              "#d8576b"
             ],
             [
              0.6666666666666666,
              "#ed7953"
             ],
             [
              0.7777777777777778,
              "#fb9f3a"
             ],
             [
              0.8888888888888888,
              "#fdca26"
             ],
             [
              1,
              "#f0f921"
             ]
            ],
            "type": "histogram2d"
           }
          ],
          "histogram2dcontour": [
           {
            "colorbar": {
             "outlinewidth": 0,
             "ticks": ""
            },
            "colorscale": [
             [
              0,
              "#0d0887"
             ],
             [
              0.1111111111111111,
              "#46039f"
             ],
             [
              0.2222222222222222,
              "#7201a8"
             ],
             [
              0.3333333333333333,
              "#9c179e"
             ],
             [
              0.4444444444444444,
              "#bd3786"
             ],
             [
              0.5555555555555556,
              "#d8576b"
             ],
             [
              0.6666666666666666,
              "#ed7953"
             ],
             [
              0.7777777777777778,
              "#fb9f3a"
             ],
             [
              0.8888888888888888,
              "#fdca26"
             ],
             [
              1,
              "#f0f921"
             ]
            ],
            "type": "histogram2dcontour"
           }
          ],
          "mesh3d": [
           {
            "colorbar": {
             "outlinewidth": 0,
             "ticks": ""
            },
            "type": "mesh3d"
           }
          ],
          "parcoords": [
           {
            "line": {
             "colorbar": {
              "outlinewidth": 0,
              "ticks": ""
             }
            },
            "type": "parcoords"
           }
          ],
          "pie": [
           {
            "automargin": true,
            "type": "pie"
           }
          ],
          "scatter": [
           {
            "fillpattern": {
             "fillmode": "overlay",
             "size": 10,
             "solidity": 0.2
            },
            "type": "scatter"
           }
          ],
          "scatter3d": [
           {
            "line": {
             "colorbar": {
              "outlinewidth": 0,
              "ticks": ""
             }
            },
            "marker": {
             "colorbar": {
              "outlinewidth": 0,
              "ticks": ""
             }
            },
            "type": "scatter3d"
           }
          ],
          "scattercarpet": [
           {
            "marker": {
             "colorbar": {
              "outlinewidth": 0,
              "ticks": ""
             }
            },
            "type": "scattercarpet"
           }
          ],
          "scattergeo": [
           {
            "marker": {
             "colorbar": {
              "outlinewidth": 0,
              "ticks": ""
             }
            },
            "type": "scattergeo"
           }
          ],
          "scattergl": [
           {
            "marker": {
             "colorbar": {
              "outlinewidth": 0,
              "ticks": ""
             }
            },
            "type": "scattergl"
           }
          ],
          "scattermapbox": [
           {
            "marker": {
             "colorbar": {
              "outlinewidth": 0,
              "ticks": ""
             }
            },
            "type": "scattermapbox"
           }
          ],
          "scatterpolar": [
           {
            "marker": {
             "colorbar": {
              "outlinewidth": 0,
              "ticks": ""
             }
            },
            "type": "scatterpolar"
           }
          ],
          "scatterpolargl": [
           {
            "marker": {
             "colorbar": {
              "outlinewidth": 0,
              "ticks": ""
             }
            },
            "type": "scatterpolargl"
           }
          ],
          "scatterternary": [
           {
            "marker": {
             "colorbar": {
              "outlinewidth": 0,
              "ticks": ""
             }
            },
            "type": "scatterternary"
           }
          ],
          "surface": [
           {
            "colorbar": {
             "outlinewidth": 0,
             "ticks": ""
            },
            "colorscale": [
             [
              0,
              "#0d0887"
             ],
             [
              0.1111111111111111,
              "#46039f"
             ],
             [
              0.2222222222222222,
              "#7201a8"
             ],
             [
              0.3333333333333333,
              "#9c179e"
             ],
             [
              0.4444444444444444,
              "#bd3786"
             ],
             [
              0.5555555555555556,
              "#d8576b"
             ],
             [
              0.6666666666666666,
              "#ed7953"
             ],
             [
              0.7777777777777778,
              "#fb9f3a"
             ],
             [
              0.8888888888888888,
              "#fdca26"
             ],
             [
              1,
              "#f0f921"
             ]
            ],
            "type": "surface"
           }
          ],
          "table": [
           {
            "cells": {
             "fill": {
              "color": "#EBF0F8"
             },
             "line": {
              "color": "white"
             }
            },
            "header": {
             "fill": {
              "color": "#C8D4E3"
             },
             "line": {
              "color": "white"
             }
            },
            "type": "table"
           }
          ]
         },
         "layout": {
          "annotationdefaults": {
           "arrowcolor": "#2a3f5f",
           "arrowhead": 0,
           "arrowwidth": 1
          },
          "autotypenumbers": "strict",
          "coloraxis": {
           "colorbar": {
            "outlinewidth": 0,
            "ticks": ""
           }
          },
          "colorscale": {
           "diverging": [
            [
             0,
             "#8e0152"
            ],
            [
             0.1,
             "#c51b7d"
            ],
            [
             0.2,
             "#de77ae"
            ],
            [
             0.3,
             "#f1b6da"
            ],
            [
             0.4,
             "#fde0ef"
            ],
            [
             0.5,
             "#f7f7f7"
            ],
            [
             0.6,
             "#e6f5d0"
            ],
            [
             0.7,
             "#b8e186"
            ],
            [
             0.8,
             "#7fbc41"
            ],
            [
             0.9,
             "#4d9221"
            ],
            [
             1,
             "#276419"
            ]
           ],
           "sequential": [
            [
             0,
             "#0d0887"
            ],
            [
             0.1111111111111111,
             "#46039f"
            ],
            [
             0.2222222222222222,
             "#7201a8"
            ],
            [
             0.3333333333333333,
             "#9c179e"
            ],
            [
             0.4444444444444444,
             "#bd3786"
            ],
            [
             0.5555555555555556,
             "#d8576b"
            ],
            [
             0.6666666666666666,
             "#ed7953"
            ],
            [
             0.7777777777777778,
             "#fb9f3a"
            ],
            [
             0.8888888888888888,
             "#fdca26"
            ],
            [
             1,
             "#f0f921"
            ]
           ],
           "sequentialminus": [
            [
             0,
             "#0d0887"
            ],
            [
             0.1111111111111111,
             "#46039f"
            ],
            [
             0.2222222222222222,
             "#7201a8"
            ],
            [
             0.3333333333333333,
             "#9c179e"
            ],
            [
             0.4444444444444444,
             "#bd3786"
            ],
            [
             0.5555555555555556,
             "#d8576b"
            ],
            [
             0.6666666666666666,
             "#ed7953"
            ],
            [
             0.7777777777777778,
             "#fb9f3a"
            ],
            [
             0.8888888888888888,
             "#fdca26"
            ],
            [
             1,
             "#f0f921"
            ]
           ]
          },
          "colorway": [
           "#636efa",
           "#EF553B",
           "#00cc96",
           "#ab63fa",
           "#FFA15A",
           "#19d3f3",
           "#FF6692",
           "#B6E880",
           "#FF97FF",
           "#FECB52"
          ],
          "font": {
           "color": "#2a3f5f"
          },
          "geo": {
           "bgcolor": "white",
           "lakecolor": "white",
           "landcolor": "#E5ECF6",
           "showlakes": true,
           "showland": true,
           "subunitcolor": "white"
          },
          "hoverlabel": {
           "align": "left"
          },
          "hovermode": "closest",
          "mapbox": {
           "style": "light"
          },
          "paper_bgcolor": "white",
          "plot_bgcolor": "#E5ECF6",
          "polar": {
           "angularaxis": {
            "gridcolor": "white",
            "linecolor": "white",
            "ticks": ""
           },
           "bgcolor": "#E5ECF6",
           "radialaxis": {
            "gridcolor": "white",
            "linecolor": "white",
            "ticks": ""
           }
          },
          "scene": {
           "xaxis": {
            "backgroundcolor": "#E5ECF6",
            "gridcolor": "white",
            "gridwidth": 2,
            "linecolor": "white",
            "showbackground": true,
            "ticks": "",
            "zerolinecolor": "white"
           },
           "yaxis": {
            "backgroundcolor": "#E5ECF6",
            "gridcolor": "white",
            "gridwidth": 2,
            "linecolor": "white",
            "showbackground": true,
            "ticks": "",
            "zerolinecolor": "white"
           },
           "zaxis": {
            "backgroundcolor": "#E5ECF6",
            "gridcolor": "white",
            "gridwidth": 2,
            "linecolor": "white",
            "showbackground": true,
            "ticks": "",
            "zerolinecolor": "white"
           }
          },
          "shapedefaults": {
           "line": {
            "color": "#2a3f5f"
           }
          },
          "ternary": {
           "aaxis": {
            "gridcolor": "white",
            "linecolor": "white",
            "ticks": ""
           },
           "baxis": {
            "gridcolor": "white",
            "linecolor": "white",
            "ticks": ""
           },
           "bgcolor": "#E5ECF6",
           "caxis": {
            "gridcolor": "white",
            "linecolor": "white",
            "ticks": ""
           }
          },
          "title": {
           "x": 0.05
          },
          "xaxis": {
           "automargin": true,
           "gridcolor": "white",
           "linecolor": "white",
           "ticks": "",
           "title": {
            "standoff": 15
           },
           "zerolinecolor": "white",
           "zerolinewidth": 2
          },
          "yaxis": {
           "automargin": true,
           "gridcolor": "white",
           "linecolor": "white",
           "ticks": "",
           "title": {
            "standoff": 15
           },
           "zerolinecolor": "white",
           "zerolinewidth": 2
          }
         }
        },
        "xaxis": {
         "anchor": "y",
         "constrain": "domain",
         "domain": [
          0,
          1
         ],
         "scaleanchor": "y",
         "side": "top",
         "title": {
          "text": "bottom_collision (Predicted)"
         }
        },
        "yaxis": {
         "anchor": "x",
         "autorange": "reversed",
         "constrain": "domain",
         "domain": [
          0,
          1
         ],
         "title": {
          "text": "bottom_collision"
         }
        }
       }
      }
     },
     "metadata": {},
     "output_type": "display_data"
    },
    {
     "data": {
      "application/vnd.plotly.v1+json": {
       "config": {
        "plotlyServerURL": "https://plot.ly"
       },
       "data": [
        {
         "coloraxis": "coloraxis",
         "hovertemplate": "bottom_obstruction (Predicted): %{x}<br>bottom_obstruction: %{y}<br>color: %{z}<extra></extra>",
         "name": "0",
         "texttemplate": "%{z}",
         "type": "heatmap",
         "x": [
          "Negative",
          "-Positive"
         ],
         "xaxis": "x",
         "y": [
          "True",
          "False"
         ],
         "yaxis": "y",
         "z": [
          [
           109,
           11
          ],
          [
           1,
           43
          ]
         ]
        }
       ],
       "layout": {
        "coloraxis": {
         "colorscale": [
          [
           0,
           "rgb(255,255,255)"
          ],
          [
           0.125,
           "rgb(240,240,240)"
          ],
          [
           0.25,
           "rgb(217,217,217)"
          ],
          [
           0.375,
           "rgb(189,189,189)"
          ],
          [
           0.5,
           "rgb(150,150,150)"
          ],
          [
           0.625,
           "rgb(115,115,115)"
          ],
          [
           0.75,
           "rgb(82,82,82)"
          ],
          [
           0.875,
           "rgb(37,37,37)"
          ],
          [
           1,
           "rgb(0,0,0)"
          ]
         ]
        },
        "margin": {
         "t": 60
        },
        "template": {
         "data": {
          "bar": [
           {
            "error_x": {
             "color": "#2a3f5f"
            },
            "error_y": {
             "color": "#2a3f5f"
            },
            "marker": {
             "line": {
              "color": "#E5ECF6",
              "width": 0.5
             },
             "pattern": {
              "fillmode": "overlay",
              "size": 10,
              "solidity": 0.2
             }
            },
            "type": "bar"
           }
          ],
          "barpolar": [
           {
            "marker": {
             "line": {
              "color": "#E5ECF6",
              "width": 0.5
             },
             "pattern": {
              "fillmode": "overlay",
              "size": 10,
              "solidity": 0.2
             }
            },
            "type": "barpolar"
           }
          ],
          "carpet": [
           {
            "aaxis": {
             "endlinecolor": "#2a3f5f",
             "gridcolor": "white",
             "linecolor": "white",
             "minorgridcolor": "white",
             "startlinecolor": "#2a3f5f"
            },
            "baxis": {
             "endlinecolor": "#2a3f5f",
             "gridcolor": "white",
             "linecolor": "white",
             "minorgridcolor": "white",
             "startlinecolor": "#2a3f5f"
            },
            "type": "carpet"
           }
          ],
          "choropleth": [
           {
            "colorbar": {
             "outlinewidth": 0,
             "ticks": ""
            },
            "type": "choropleth"
           }
          ],
          "contour": [
           {
            "colorbar": {
             "outlinewidth": 0,
             "ticks": ""
            },
            "colorscale": [
             [
              0,
              "#0d0887"
             ],
             [
              0.1111111111111111,
              "#46039f"
             ],
             [
              0.2222222222222222,
              "#7201a8"
             ],
             [
              0.3333333333333333,
              "#9c179e"
             ],
             [
              0.4444444444444444,
              "#bd3786"
             ],
             [
              0.5555555555555556,
              "#d8576b"
             ],
             [
              0.6666666666666666,
              "#ed7953"
             ],
             [
              0.7777777777777778,
              "#fb9f3a"
             ],
             [
              0.8888888888888888,
              "#fdca26"
             ],
             [
              1,
              "#f0f921"
             ]
            ],
            "type": "contour"
           }
          ],
          "contourcarpet": [
           {
            "colorbar": {
             "outlinewidth": 0,
             "ticks": ""
            },
            "type": "contourcarpet"
           }
          ],
          "heatmap": [
           {
            "colorbar": {
             "outlinewidth": 0,
             "ticks": ""
            },
            "colorscale": [
             [
              0,
              "#0d0887"
             ],
             [
              0.1111111111111111,
              "#46039f"
             ],
             [
              0.2222222222222222,
              "#7201a8"
             ],
             [
              0.3333333333333333,
              "#9c179e"
             ],
             [
              0.4444444444444444,
              "#bd3786"
             ],
             [
              0.5555555555555556,
              "#d8576b"
             ],
             [
              0.6666666666666666,
              "#ed7953"
             ],
             [
              0.7777777777777778,
              "#fb9f3a"
             ],
             [
              0.8888888888888888,
              "#fdca26"
             ],
             [
              1,
              "#f0f921"
             ]
            ],
            "type": "heatmap"
           }
          ],
          "heatmapgl": [
           {
            "colorbar": {
             "outlinewidth": 0,
             "ticks": ""
            },
            "colorscale": [
             [
              0,
              "#0d0887"
             ],
             [
              0.1111111111111111,
              "#46039f"
             ],
             [
              0.2222222222222222,
              "#7201a8"
             ],
             [
              0.3333333333333333,
              "#9c179e"
             ],
             [
              0.4444444444444444,
              "#bd3786"
             ],
             [
              0.5555555555555556,
              "#d8576b"
             ],
             [
              0.6666666666666666,
              "#ed7953"
             ],
             [
              0.7777777777777778,
              "#fb9f3a"
             ],
             [
              0.8888888888888888,
              "#fdca26"
             ],
             [
              1,
              "#f0f921"
             ]
            ],
            "type": "heatmapgl"
           }
          ],
          "histogram": [
           {
            "marker": {
             "pattern": {
              "fillmode": "overlay",
              "size": 10,
              "solidity": 0.2
             }
            },
            "type": "histogram"
           }
          ],
          "histogram2d": [
           {
            "colorbar": {
             "outlinewidth": 0,
             "ticks": ""
            },
            "colorscale": [
             [
              0,
              "#0d0887"
             ],
             [
              0.1111111111111111,
              "#46039f"
             ],
             [
              0.2222222222222222,
              "#7201a8"
             ],
             [
              0.3333333333333333,
              "#9c179e"
             ],
             [
              0.4444444444444444,
              "#bd3786"
             ],
             [
              0.5555555555555556,
              "#d8576b"
             ],
             [
              0.6666666666666666,
              "#ed7953"
             ],
             [
              0.7777777777777778,
              "#fb9f3a"
             ],
             [
              0.8888888888888888,
              "#fdca26"
             ],
             [
              1,
              "#f0f921"
             ]
            ],
            "type": "histogram2d"
           }
          ],
          "histogram2dcontour": [
           {
            "colorbar": {
             "outlinewidth": 0,
             "ticks": ""
            },
            "colorscale": [
             [
              0,
              "#0d0887"
             ],
             [
              0.1111111111111111,
              "#46039f"
             ],
             [
              0.2222222222222222,
              "#7201a8"
             ],
             [
              0.3333333333333333,
              "#9c179e"
             ],
             [
              0.4444444444444444,
              "#bd3786"
             ],
             [
              0.5555555555555556,
              "#d8576b"
             ],
             [
              0.6666666666666666,
              "#ed7953"
             ],
             [
              0.7777777777777778,
              "#fb9f3a"
             ],
             [
              0.8888888888888888,
              "#fdca26"
             ],
             [
              1,
              "#f0f921"
             ]
            ],
            "type": "histogram2dcontour"
           }
          ],
          "mesh3d": [
           {
            "colorbar": {
             "outlinewidth": 0,
             "ticks": ""
            },
            "type": "mesh3d"
           }
          ],
          "parcoords": [
           {
            "line": {
             "colorbar": {
              "outlinewidth": 0,
              "ticks": ""
             }
            },
            "type": "parcoords"
           }
          ],
          "pie": [
           {
            "automargin": true,
            "type": "pie"
           }
          ],
          "scatter": [
           {
            "fillpattern": {
             "fillmode": "overlay",
             "size": 10,
             "solidity": 0.2
            },
            "type": "scatter"
           }
          ],
          "scatter3d": [
           {
            "line": {
             "colorbar": {
              "outlinewidth": 0,
              "ticks": ""
             }
            },
            "marker": {
             "colorbar": {
              "outlinewidth": 0,
              "ticks": ""
             }
            },
            "type": "scatter3d"
           }
          ],
          "scattercarpet": [
           {
            "marker": {
             "colorbar": {
              "outlinewidth": 0,
              "ticks": ""
             }
            },
            "type": "scattercarpet"
           }
          ],
          "scattergeo": [
           {
            "marker": {
             "colorbar": {
              "outlinewidth": 0,
              "ticks": ""
             }
            },
            "type": "scattergeo"
           }
          ],
          "scattergl": [
           {
            "marker": {
             "colorbar": {
              "outlinewidth": 0,
              "ticks": ""
             }
            },
            "type": "scattergl"
           }
          ],
          "scattermapbox": [
           {
            "marker": {
             "colorbar": {
              "outlinewidth": 0,
              "ticks": ""
             }
            },
            "type": "scattermapbox"
           }
          ],
          "scatterpolar": [
           {
            "marker": {
             "colorbar": {
              "outlinewidth": 0,
              "ticks": ""
             }
            },
            "type": "scatterpolar"
           }
          ],
          "scatterpolargl": [
           {
            "marker": {
             "colorbar": {
              "outlinewidth": 0,
              "ticks": ""
             }
            },
            "type": "scatterpolargl"
           }
          ],
          "scatterternary": [
           {
            "marker": {
             "colorbar": {
              "outlinewidth": 0,
              "ticks": ""
             }
            },
            "type": "scatterternary"
           }
          ],
          "surface": [
           {
            "colorbar": {
             "outlinewidth": 0,
             "ticks": ""
            },
            "colorscale": [
             [
              0,
              "#0d0887"
             ],
             [
              0.1111111111111111,
              "#46039f"
             ],
             [
              0.2222222222222222,
              "#7201a8"
             ],
             [
              0.3333333333333333,
              "#9c179e"
             ],
             [
              0.4444444444444444,
              "#bd3786"
             ],
             [
              0.5555555555555556,
              "#d8576b"
             ],
             [
              0.6666666666666666,
              "#ed7953"
             ],
             [
              0.7777777777777778,
              "#fb9f3a"
             ],
             [
              0.8888888888888888,
              "#fdca26"
             ],
             [
              1,
              "#f0f921"
             ]
            ],
            "type": "surface"
           }
          ],
          "table": [
           {
            "cells": {
             "fill": {
              "color": "#EBF0F8"
             },
             "line": {
              "color": "white"
             }
            },
            "header": {
             "fill": {
              "color": "#C8D4E3"
             },
             "line": {
              "color": "white"
             }
            },
            "type": "table"
           }
          ]
         },
         "layout": {
          "annotationdefaults": {
           "arrowcolor": "#2a3f5f",
           "arrowhead": 0,
           "arrowwidth": 1
          },
          "autotypenumbers": "strict",
          "coloraxis": {
           "colorbar": {
            "outlinewidth": 0,
            "ticks": ""
           }
          },
          "colorscale": {
           "diverging": [
            [
             0,
             "#8e0152"
            ],
            [
             0.1,
             "#c51b7d"
            ],
            [
             0.2,
             "#de77ae"
            ],
            [
             0.3,
             "#f1b6da"
            ],
            [
             0.4,
             "#fde0ef"
            ],
            [
             0.5,
             "#f7f7f7"
            ],
            [
             0.6,
             "#e6f5d0"
            ],
            [
             0.7,
             "#b8e186"
            ],
            [
             0.8,
             "#7fbc41"
            ],
            [
             0.9,
             "#4d9221"
            ],
            [
             1,
             "#276419"
            ]
           ],
           "sequential": [
            [
             0,
             "#0d0887"
            ],
            [
             0.1111111111111111,
             "#46039f"
            ],
            [
             0.2222222222222222,
             "#7201a8"
            ],
            [
             0.3333333333333333,
             "#9c179e"
            ],
            [
             0.4444444444444444,
             "#bd3786"
            ],
            [
             0.5555555555555556,
             "#d8576b"
            ],
            [
             0.6666666666666666,
             "#ed7953"
            ],
            [
             0.7777777777777778,
             "#fb9f3a"
            ],
            [
             0.8888888888888888,
             "#fdca26"
            ],
            [
             1,
             "#f0f921"
            ]
           ],
           "sequentialminus": [
            [
             0,
             "#0d0887"
            ],
            [
             0.1111111111111111,
             "#46039f"
            ],
            [
             0.2222222222222222,
             "#7201a8"
            ],
            [
             0.3333333333333333,
             "#9c179e"
            ],
            [
             0.4444444444444444,
             "#bd3786"
            ],
            [
             0.5555555555555556,
             "#d8576b"
            ],
            [
             0.6666666666666666,
             "#ed7953"
            ],
            [
             0.7777777777777778,
             "#fb9f3a"
            ],
            [
             0.8888888888888888,
             "#fdca26"
            ],
            [
             1,
             "#f0f921"
            ]
           ]
          },
          "colorway": [
           "#636efa",
           "#EF553B",
           "#00cc96",
           "#ab63fa",
           "#FFA15A",
           "#19d3f3",
           "#FF6692",
           "#B6E880",
           "#FF97FF",
           "#FECB52"
          ],
          "font": {
           "color": "#2a3f5f"
          },
          "geo": {
           "bgcolor": "white",
           "lakecolor": "white",
           "landcolor": "#E5ECF6",
           "showlakes": true,
           "showland": true,
           "subunitcolor": "white"
          },
          "hoverlabel": {
           "align": "left"
          },
          "hovermode": "closest",
          "mapbox": {
           "style": "light"
          },
          "paper_bgcolor": "white",
          "plot_bgcolor": "#E5ECF6",
          "polar": {
           "angularaxis": {
            "gridcolor": "white",
            "linecolor": "white",
            "ticks": ""
           },
           "bgcolor": "#E5ECF6",
           "radialaxis": {
            "gridcolor": "white",
            "linecolor": "white",
            "ticks": ""
           }
          },
          "scene": {
           "xaxis": {
            "backgroundcolor": "#E5ECF6",
            "gridcolor": "white",
            "gridwidth": 2,
            "linecolor": "white",
            "showbackground": true,
            "ticks": "",
            "zerolinecolor": "white"
           },
           "yaxis": {
            "backgroundcolor": "#E5ECF6",
            "gridcolor": "white",
            "gridwidth": 2,
            "linecolor": "white",
            "showbackground": true,
            "ticks": "",
            "zerolinecolor": "white"
           },
           "zaxis": {
            "backgroundcolor": "#E5ECF6",
            "gridcolor": "white",
            "gridwidth": 2,
            "linecolor": "white",
            "showbackground": true,
            "ticks": "",
            "zerolinecolor": "white"
           }
          },
          "shapedefaults": {
           "line": {
            "color": "#2a3f5f"
           }
          },
          "ternary": {
           "aaxis": {
            "gridcolor": "white",
            "linecolor": "white",
            "ticks": ""
           },
           "baxis": {
            "gridcolor": "white",
            "linecolor": "white",
            "ticks": ""
           },
           "bgcolor": "#E5ECF6",
           "caxis": {
            "gridcolor": "white",
            "linecolor": "white",
            "ticks": ""
           }
          },
          "title": {
           "x": 0.05
          },
          "xaxis": {
           "automargin": true,
           "gridcolor": "white",
           "linecolor": "white",
           "ticks": "",
           "title": {
            "standoff": 15
           },
           "zerolinecolor": "white",
           "zerolinewidth": 2
          },
          "yaxis": {
           "automargin": true,
           "gridcolor": "white",
           "linecolor": "white",
           "ticks": "",
           "title": {
            "standoff": 15
           },
           "zerolinecolor": "white",
           "zerolinewidth": 2
          }
         }
        },
        "xaxis": {
         "anchor": "y",
         "constrain": "domain",
         "domain": [
          0,
          1
         ],
         "scaleanchor": "y",
         "side": "top",
         "title": {
          "text": "bottom_obstruction (Predicted)"
         }
        },
        "yaxis": {
         "anchor": "x",
         "autorange": "reversed",
         "constrain": "domain",
         "domain": [
          0,
          1
         ],
         "title": {
          "text": "bottom_obstruction"
         }
        }
       }
      }
     },
     "metadata": {},
     "output_type": "display_data"
    }
   ],
   "source": [
    "# Hace predicciones usando el conjunto de datos de prueba.\n",
    "pd.options.display.float_format = \"{:.0f}\".format\n",
    "predictions = model.predict(test_features)\n",
    "for i in range(len(predictions)):\n",
    "    if(predictions[i].max() != 1):\n",
    "        row, col = np.where(predictions == predictions[i].max())\n",
    "        predictions[i][col[0]] = 1\n",
    "predictions[predictions!=1] = 0 \n",
    "    \n",
    "# Convierte el arreglo de predicciones en un DataFrame\n",
    "predictions_df = pd.DataFrame(predictions, columns=['normal', 'collision_in_tool', 'collision_in_part', 'bottom_collision', 'bottom_obstruction'])\n",
    "display(predictions_df)\n",
    "display(test_labels)\n",
    "CM = tfa.metrics.MultiLabelConfusionMatrix(num_classes=5)\n",
    "CM.update_state(test_labels, predictions_df)\n",
    "result = CM.result().numpy()\n",
    "display(result)\n",
    "\n",
    "normal = px.imshow(result[0], \n",
    "                labels = dict(x='normal (Predicted)', y='normal'),\n",
    "                x = ['Negative', '-Positive'], y=['True', 'False'],text_auto=True, color_continuous_scale='greys')\n",
    "normal.update_xaxes(side=\"top\")\n",
    "normal.show()\n",
    "\n",
    "collision_in_tool = px.imshow(result[0], \n",
    "                labels = dict(x='collision_in_tool (Predicted)', y='collision_in_tool'),\n",
    "                x = ['Negative', '-Positive'], y=['True', 'False'], text_auto=True, color_continuous_scale='greys')\n",
    "collision_in_tool.update_xaxes(side=\"top\")\n",
    "collision_in_tool.show()\n",
    "\n",
    "collision_in_part = px.imshow(result[0], \n",
    "                labels = dict(x='collision_in_part (Predicted)', y='collision_in_part'),\n",
    "                x = ['Negative', '-Positive'], y=['True', 'False'], text_auto=True, color_continuous_scale='greys')\n",
    "collision_in_part.update_xaxes(side=\"top\")\n",
    "collision_in_part.show()\n",
    "\n",
    "bottom_collision = px.imshow(result[0], \n",
    "                labels = dict(x='bottom_collision (Predicted)', y='bottom_collision'),\n",
    "                x = ['Negative', '-Positive'], y=['True', 'False'], text_auto=True, color_continuous_scale='greys')\n",
    "bottom_collision.update_xaxes(side=\"top\")\n",
    "bottom_collision.show()\n",
    "\n",
    "bottom_obstruction = px.imshow(result[0], \n",
    "                labels = dict(x='bottom_obstruction (Predicted)', y='bottom_obstruction'),\n",
    "                x = ['Negative', '-Positive'], y=['True', 'False'], text_auto=True, color_continuous_scale='greys')\n",
    "bottom_obstruction.update_xaxes(side=\"top\")\n",
    "bottom_obstruction.show()\n",
    "#model.save('ModeloConvolucion_A0.75')"
   ]
  }
 ],
 "metadata": {
  "kernelspec": {
   "display_name": "Python 3",
   "language": "python",
   "name": "python3"
  },
  "language_info": {
   "codemirror_mode": {
    "name": "ipython",
    "version": 3
   },
   "file_extension": ".py",
   "mimetype": "text/x-python",
   "name": "python",
   "nbconvert_exporter": "python",
   "pygments_lexer": "ipython3",
   "version": "3.10.11"
  },
  "orig_nbformat": 4
 },
 "nbformat": 4,
 "nbformat_minor": 2
}
