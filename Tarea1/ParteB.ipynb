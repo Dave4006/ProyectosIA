{
 "cells": [
  {
   "attachments": {},
   "cell_type": "markdown",
   "metadata": {},
   "source": [
    "# Importar Modulos"
   ]
  },
  {
   "cell_type": "code",
   "execution_count": 45,
   "metadata": {},
   "outputs": [],
   "source": [
    "import pandas as pd\n",
    "import numpy as np\n",
    "import random\n",
    "import plotly.express as px\n",
    "import tensorflow as tf\n",
    "\n",
    "from sklearn.utils import shuffle\n",
    "import tensorflow_addons as tfa\n",
    "from IPython.display import display"
   ]
  },
  {
   "attachments": {},
   "cell_type": "markdown",
   "metadata": {},
   "source": [
    "# Importación de Datos"
   ]
  },
  {
   "cell_type": "code",
   "execution_count": 46,
   "metadata": {},
   "outputs": [
    {
     "data": {
      "text/html": [
       "<div>\n",
       "<style scoped>\n",
       "    .dataframe tbody tr th:only-of-type {\n",
       "        vertical-align: middle;\n",
       "    }\n",
       "\n",
       "    .dataframe tbody tr th {\n",
       "        vertical-align: top;\n",
       "    }\n",
       "\n",
       "    .dataframe thead th {\n",
       "        text-align: right;\n",
       "    }\n",
       "</style>\n",
       "<table border=\"1\" class=\"dataframe\">\n",
       "  <thead>\n",
       "    <tr style=\"text-align: right;\">\n",
       "      <th></th>\n",
       "      <th>labels</th>\n",
       "      <th>1</th>\n",
       "      <th>2</th>\n",
       "      <th>3</th>\n",
       "      <th>4</th>\n",
       "      <th>5</th>\n",
       "    </tr>\n",
       "  </thead>\n",
       "  <tbody>\n",
       "    <tr>\n",
       "      <th>0</th>\n",
       "      <td>normal</td>\n",
       "      <td></td>\n",
       "      <td></td>\n",
       "      <td></td>\n",
       "      <td></td>\n",
       "      <td></td>\n",
       "    </tr>\n",
       "    <tr>\n",
       "      <th>1</th>\n",
       "      <td>normal</td>\n",
       "      <td></td>\n",
       "      <td></td>\n",
       "      <td></td>\n",
       "      <td></td>\n",
       "      <td></td>\n",
       "    </tr>\n",
       "    <tr>\n",
       "      <th>2</th>\n",
       "      <td>normal</td>\n",
       "      <td></td>\n",
       "      <td></td>\n",
       "      <td></td>\n",
       "      <td></td>\n",
       "      <td></td>\n",
       "    </tr>\n",
       "    <tr>\n",
       "      <th>3</th>\n",
       "      <td>normal</td>\n",
       "      <td></td>\n",
       "      <td></td>\n",
       "      <td></td>\n",
       "      <td></td>\n",
       "      <td></td>\n",
       "    </tr>\n",
       "    <tr>\n",
       "      <th>4</th>\n",
       "      <td>normal</td>\n",
       "      <td></td>\n",
       "      <td></td>\n",
       "      <td></td>\n",
       "      <td></td>\n",
       "      <td></td>\n",
       "    </tr>\n",
       "    <tr>\n",
       "      <th>...</th>\n",
       "      <td>...</td>\n",
       "      <td>...</td>\n",
       "      <td>...</td>\n",
       "      <td>...</td>\n",
       "      <td>...</td>\n",
       "      <td>...</td>\n",
       "    </tr>\n",
       "    <tr>\n",
       "      <th>159</th>\n",
       "      <td>collision_in_tool</td>\n",
       "      <td></td>\n",
       "      <td></td>\n",
       "      <td></td>\n",
       "      <td></td>\n",
       "      <td></td>\n",
       "    </tr>\n",
       "    <tr>\n",
       "      <th>160</th>\n",
       "      <td>collision_in_tool</td>\n",
       "      <td></td>\n",
       "      <td></td>\n",
       "      <td></td>\n",
       "      <td></td>\n",
       "      <td></td>\n",
       "    </tr>\n",
       "    <tr>\n",
       "      <th>161</th>\n",
       "      <td>collision_in_tool</td>\n",
       "      <td></td>\n",
       "      <td></td>\n",
       "      <td></td>\n",
       "      <td></td>\n",
       "      <td></td>\n",
       "    </tr>\n",
       "    <tr>\n",
       "      <th>162</th>\n",
       "      <td>collision_in_tool</td>\n",
       "      <td></td>\n",
       "      <td></td>\n",
       "      <td></td>\n",
       "      <td></td>\n",
       "      <td></td>\n",
       "    </tr>\n",
       "    <tr>\n",
       "      <th>163</th>\n",
       "      <td>collision_in_tool</td>\n",
       "      <td></td>\n",
       "      <td></td>\n",
       "      <td></td>\n",
       "      <td></td>\n",
       "      <td></td>\n",
       "    </tr>\n",
       "  </tbody>\n",
       "</table>\n",
       "<p>164 rows × 6 columns</p>\n",
       "</div>"
      ],
      "text/plain": [
       "                labels 1  2  3  4  5 \n",
       "0               normal               \n",
       "1               normal               \n",
       "2               normal               \n",
       "3               normal               \n",
       "4               normal               \n",
       "..                 ... .. .. .. .. ..\n",
       "159  collision_in_tool               \n",
       "160  collision_in_tool               \n",
       "161  collision_in_tool               \n",
       "162  collision_in_tool               \n",
       "163  collision_in_tool               \n",
       "\n",
       "[164 rows x 6 columns]"
      ]
     },
     "metadata": {},
     "output_type": "display_data"
    },
    {
     "data": {
      "text/plain": [
       "array([[[ -2.,  -1.,  81.,   0.,  -5.,   0.],\n",
       "        [ -2.,  -1.,  79.,   0.,  -4.,   0.],\n",
       "        [ -2.,  -1.,  79.,   0.,  -4.,   0.],\n",
       "        ...,\n",
       "        [ -2.,  -1.,  78.,   0.,  -5.,   0.],\n",
       "        [ -3.,  -1.,  80.,   1.,  -4.,   1.],\n",
       "        [ -2.,  -1.,  79.,   0.,  -4.,   0.]],\n",
       "\n",
       "       [[  6.,  -1.,  79.,  -2.,   4.,  -3.],\n",
       "        [ 42.,  -3.,  80.,   5.,  53.,   3.],\n",
       "        [ -5.,   4.,  74., -15., -10.,  -1.],\n",
       "        ...,\n",
       "        [ -1.,  -5.,  80.,   6.,  -6.,   0.],\n",
       "        [ -4.,   5.,  78., -14.,  -9.,  -4.],\n",
       "        [ -4.,   1.,  80.,  -3., -12.,   5.]],\n",
       "\n",
       "       [[ -2.,  -6.,  85.,  14.,  -5.,   2.],\n",
       "        [  0.,   2.,  74.,  -7.,   1.,   0.],\n",
       "        [ -4.,  -5.,  76.,   7., -11.,   4.],\n",
       "        ...,\n",
       "        [  0.,  -9.,  87.,  13.,  -5.,   2.],\n",
       "        [ -5.,   5.,  67., -17., -16.,   7.],\n",
       "        [ -6., -10.,  86.,  16., -14.,  -1.]],\n",
       "\n",
       "       ...,\n",
       "\n",
       "       [[-12.,  17.,   3., -19., -10.,  -4.],\n",
       "        [-12.,  12.,  11., -13., -16.,  -4.],\n",
       "        [ -8.,   3.,   6.,   2., -11.,  -4.],\n",
       "        ...,\n",
       "        [  0.,   1.,   3.,   1.,   1.,  -3.],\n",
       "        [  1.,   2.,   9.,   0.,   3.,  -4.],\n",
       "        [  1.,   2.,   9.,   0.,   3.,  -4.]],\n",
       "\n",
       "       [[-41.,  21.,  -5., -23., -59.,  -4.],\n",
       "        [-32.,  21.,  -6., -25., -45.,  -4.],\n",
       "        [-21.,  12.,  -6., -14., -31.,  -4.],\n",
       "        ...,\n",
       "        [ -4.,   4.,   3.,   0.,  -1.,  -3.],\n",
       "        [ -4.,   3.,   2.,   2.,  -3.,  -3.],\n",
       "        [ -2.,   3.,   5.,   0.,  -2.,  -3.]],\n",
       "\n",
       "       [[  9., -10., -11.,  17.,   7.,  -4.],\n",
       "        [  5.,   0.,   4.,   0.,   7.,  -4.],\n",
       "        [ -3.,   6.,  -2.,  -8.,  -8.,  -4.],\n",
       "        ...,\n",
       "        [ -1.,   1.,  -3.,  -3.,  -2.,  -3.],\n",
       "        [  0.,  -1.,  -5.,  -1.,   1.,  -3.],\n",
       "        [ -1.,   1.,   4.,   0.,  -1.,  -3.]]])"
      ]
     },
     "metadata": {},
     "output_type": "display_data"
    },
    {
     "data": {
      "text/plain": [
       "array([[[ -1.91179695,  -0.95589848,  77.42777652,   0.        ,\n",
       "          -4.77949238,   0.        ],\n",
       "        [ -1.91179695,  -0.95589848,  75.51597957,   0.        ,\n",
       "          -3.8235939 ,   0.        ],\n",
       "        [ -1.91179695,  -0.95589848,  75.51597957,   0.        ,\n",
       "          -3.8235939 ,   0.        ],\n",
       "        ...,\n",
       "        [ -1.91179695,  -0.95589848,  74.56008109,   0.        ,\n",
       "          -4.77949238,   0.        ],\n",
       "        [ -2.86769543,  -0.95589848,  76.47187804,   0.95589848,\n",
       "          -3.8235939 ,   0.95589848],\n",
       "        [ -1.91179695,  -0.95589848,  75.51597957,   0.        ,\n",
       "          -3.8235939 ,   0.        ]],\n",
       "\n",
       "       [[  5.73539085,  -0.95589848,  75.51597957,  -1.91179695,\n",
       "           3.8235939 ,  -2.86769543],\n",
       "        [ 40.14773597,  -2.86769543,  76.47187804,   4.77949238,\n",
       "          50.6626192 ,   2.86769543],\n",
       "        [ -4.77949238,   3.8235939 ,  70.73648719, -14.33847713,\n",
       "          -9.55898476,  -0.95589848],\n",
       "        ...,\n",
       "        [ -0.95589848,  -4.77949238,  76.47187804,   5.73539085,\n",
       "          -5.73539085,   0.        ],\n",
       "        [ -3.8235939 ,   4.77949238,  74.56008109, -13.38257866,\n",
       "          -8.60308628,  -3.8235939 ],\n",
       "        [ -3.8235939 ,   0.95589848,  76.47187804,  -2.86769543,\n",
       "         -11.47078171,   4.77949238]],\n",
       "\n",
       "       [[ -1.91179695,  -5.73539085,  81.25137042,  13.38257866,\n",
       "          -4.77949238,   1.91179695],\n",
       "        [  0.        ,   1.91179695,  70.73648719,  -6.69128933,\n",
       "           0.95589848,   0.        ],\n",
       "        [ -3.8235939 ,  -4.77949238,  72.64828414,   6.69128933,\n",
       "         -10.51488323,   3.8235939 ],\n",
       "        ...,\n",
       "        [  0.        ,  -8.60308628,  83.16316737,  12.42668018,\n",
       "          -4.77949238,   1.91179695],\n",
       "        [ -4.77949238,   4.77949238,  64.04519786, -16.25027408,\n",
       "         -15.29437561,   6.69128933],\n",
       "        [ -5.73539085,  -9.55898476,  82.20726889,  15.29437561,\n",
       "         -13.38257866,  -0.95589848]],\n",
       "\n",
       "       ...,\n",
       "\n",
       "       [[-11.47078171,  16.25027408,   2.86769543, -18.16207103,\n",
       "          -9.55898476,  -3.8235939 ],\n",
       "        [-11.47078171,  11.47078171,  10.51488323, -12.42668018,\n",
       "         -15.29437561,  -3.8235939 ],\n",
       "        [ -7.6471878 ,   2.86769543,   5.73539085,   1.91179695,\n",
       "         -10.51488323,  -3.8235939 ],\n",
       "        ...,\n",
       "        [  0.        ,   0.95589848,   2.86769543,   0.95589848,\n",
       "           0.95589848,  -2.86769543],\n",
       "        [  0.95589848,   1.91179695,   8.60308628,   0.        ,\n",
       "           2.86769543,  -3.8235939 ],\n",
       "        [  0.95589848,   1.91179695,   8.60308628,   0.        ,\n",
       "           2.86769543,  -3.8235939 ]],\n",
       "\n",
       "       [[-39.1918375 ,  20.07386799,  -4.77949238, -21.98566494,\n",
       "         -56.39801006,  -3.8235939 ],\n",
       "        [-30.58875122,  20.07386799,  -5.73539085, -23.89746189,\n",
       "         -43.0154314 ,  -3.8235939 ],\n",
       "        [-20.07386799,  11.47078171,  -5.73539085, -13.38257866,\n",
       "         -29.63285274,  -3.8235939 ],\n",
       "        ...,\n",
       "        [ -3.8235939 ,   3.8235939 ,   2.86769543,   0.        ,\n",
       "          -0.95589848,  -2.86769543],\n",
       "        [ -3.8235939 ,   2.86769543,   1.91179695,   1.91179695,\n",
       "          -2.86769543,  -2.86769543],\n",
       "        [ -1.91179695,   2.86769543,   4.77949238,   0.        ,\n",
       "          -1.91179695,  -2.86769543]],\n",
       "\n",
       "       [[  8.60308628,  -9.55898476, -10.51488323,  16.25027408,\n",
       "           6.69128933,  -3.8235939 ],\n",
       "        [  4.77949238,   0.        ,   3.8235939 ,   0.        ,\n",
       "           6.69128933,  -3.8235939 ],\n",
       "        [ -2.86769543,   5.73539085,  -1.91179695,  -7.6471878 ,\n",
       "          -7.6471878 ,  -3.8235939 ],\n",
       "        ...,\n",
       "        [ -0.95589848,   0.95589848,  -2.86769543,  -2.86769543,\n",
       "          -1.91179695,  -2.86769543],\n",
       "        [  0.        ,  -0.95589848,  -4.77949238,  -0.95589848,\n",
       "           0.95589848,  -2.86769543],\n",
       "        [ -0.95589848,   0.95589848,   3.8235939 ,   0.        ,\n",
       "          -0.95589848,  -2.86769543]]])"
      ]
     },
     "metadata": {},
     "output_type": "display_data"
    }
   ],
   "source": [
    "#el conj de datos va de 0 a 2623 o sea 2624 datos\n",
    "pd.options.display.max_rows = 10\n",
    "pd.options.display.float_format = \"{:.3f}\".format\n",
    "\n",
    "# Recompila la información de un archivo CSV y lo guarda en un arreglo\n",
    "data_copy = np.loadtxt(\"lp5.csv\", delimiter=\",\", dtype=str)\n",
    "\n",
    "#  Contador de filas en el CSV\n",
    "cont = 16\n",
    "labels = []\n",
    "numbers = []\n",
    "# Arreglo de ceros con las dimensiones de los datos\n",
    "features= np.zeros((164,15,6))\n",
    "test_features= np.zeros((164,15,6))\n",
    "\n",
    "# Ciclo que recorre todos los datos del CSV y guarda los títulos de los datos cuando el contador es 16,\n",
    "# guarda los números en un arreglo aparte y reestablece el contador a su valor original cuando es igual a 0.\n",
    "for i in range(len(data_copy)):\n",
    "    if(cont == 16):\n",
    "        labels.append(data_copy[i])\n",
    "    if(cont<16):\n",
    "        numbers.append(data_copy[i])\n",
    "    cont -= 1\n",
    "    if(cont == 0):\n",
    "        cont = 16\n",
    "        \n",
    "test_numbers = np.array(numbers).astype(float)\n",
    "\n",
    "# Añade el +- 5% de ruido a los datos.\n",
    "test_numbers = test_numbers + test_numbers*random.uniform(-0.05, 0.05)\n",
    "\n",
    "# Ciclos anidados que recorren todas las dimensiones del arreglo de ceros,\n",
    "# agrupa los datos numéricos en conjuntos con forma 15x6 \n",
    "cont = 0\n",
    "for i in range(164):\n",
    "    for j in range(15):\n",
    "        for z in range(6):\n",
    "            features[i][j][z] = numbers[cont][z]\n",
    "            test_features[i][j][z]= test_numbers[cont][z]\n",
    "        cont += 1\n",
    "        \n",
    "# Convierte los datos obtenidos del primer ciclo en un dataframe\n",
    "labels_df = pd.DataFrame(labels, columns=['labels','1','2','3','4','5'])\n",
    "\n",
    "display(labels_df)\n",
    "display(features)\n",
    "display(test_features)"
   ]
  },
  {
   "attachments": {},
   "cell_type": "markdown",
   "metadata": {},
   "source": [
    "# Manejo de Datos y Normalización"
   ]
  },
  {
   "cell_type": "code",
   "execution_count": 47,
   "metadata": {},
   "outputs": [
    {
     "name": "stderr",
     "output_type": "stream",
     "text": [
      "C:\\Users\\dave4\\AppData\\Local\\Temp\\ipykernel_8696\\2086093543.py:11: FutureWarning:\n",
      "\n",
      "In a future version of pandas all arguments of StringMethods.split except for the argument 'pat' will be keyword-only.\n",
      "\n"
     ]
    }
   ],
   "source": [
    "# Diccionario que codifica los datos categóricos a un conjunto de números idóneo para la capa de salida.\n",
    "classes_dict = {'normal':'1 0 0 0 0', #1\n",
    "        'collision_in_tool':'0 1 0 0 0', #2\n",
    "        'collision_in_part':'0 0 1 0 0', #3\n",
    "        'bottom_collision':'0 0 0 1 0', #4\n",
    "        'bottom_obstruction':'0 0 0 0 1'} #5\n",
    "\n",
    "# Se reemplazan los datos por lo del diccionario\n",
    "labels_df = labels_df.replace({'labels':classes_dict})\n",
    "# Se separan los datos de manera que se aisle un caractér por columna.\n",
    "labels_df[['1', '2', '3', '4', '5']] = labels_df['labels'].str.split(' ', 4, expand= True)\n",
    "# Se eliminan las columnas, solo dejando las columnas llamadas \"1\", \"2\", \"3\", \"4\", \"5\"\n",
    "labels_df = labels_df.loc[:,['1', '2', '3', '4', '5']]\n",
    "# Se convierten los valores de un tipo String a uno Entero para poder ser utilizados por la red neuronal.\n",
    "labels_df[['1', '2', '3', '4', '5']]=labels_df[['1', '2', '3', '4', '5']].astype(str).astype(int)\n",
    "\n",
    "'''/* \n",
    "Function: norm\n",
    "\n",
    "Normaliza los datos a través de una función min-max entre 0 y 1 para ser alimentados a la red.\n",
    "\n",
    "Parameters:\n",
    "\n",
    "    x - Datos a normalizar.\n",
    "    \n",
    "Returns:\n",
    "\n",
    "    Los datos alimentados ya normalizados.\n",
    "*/'''\n",
    "\n",
    "def norm(x):\n",
    "    x_min = x.min()\n",
    "    x_max = x.max()\n",
    "    range = x_max - x_min  #min max entre 0 y 1\n",
    "    return((x-x_min)/(range))\n",
    "\n",
    "# Normaliza las características.\n",
    "train_features = norm(features)\n",
    "test_features = norm(test_features)\n",
    "# Split para entrenamiento y validacion, con 20% para testeo y se aleatorizan.\n",
    "train_labels = labels_df\n",
    "test_labels = labels_df\n",
    "\n",
    "train_features, train_labels = shuffle(train_features, train_labels, random_state=0)\n",
    "test_features, test_labels = shuffle(test_features, test_labels, random_state= 0)"
   ]
  },
  {
   "attachments": {},
   "cell_type": "markdown",
   "metadata": {},
   "source": [
    "# Creación del Modelo"
   ]
  },
  {
   "cell_type": "code",
   "execution_count": 48,
   "metadata": {},
   "outputs": [],
   "source": [
    "'''/* \n",
    "Function: my_model\n",
    "\n",
    "Genera el modelo categórico convolucional y lo compila. El modelo consiste de lo siguiente:\n",
    "    - Una capa de entradas de forma (15,6,1) que es igual a las dimensiones de la matriz de datos.\n",
    "    \n",
    "    - Una capa de convolución de dos dimensiones que genera 8 filtros, tiene un kernel 3x3, \n",
    "        función de activación ReLu y un padding para que mantenga las dimensiones de la entrada.\n",
    "    - Una capa de convolución de dos dimensiones que genera 8 filtros, tiene un kernel 3x3, \n",
    "        función de activación ReLu y un padding para que mantenga las dimensiones de la entrada.\n",
    "    - Una capa de Max Pooling con un pool de 2x2, un salto de 2 casillas y sin padding.\n",
    "    - Una capa de Dropout razón con una razón de 0.25\n",
    "\n",
    "    - Una capa de convolución de dos dimensiones que genera 16 filtros, tiene un kernel 3x3, \n",
    "        función de activación ReLu y un padding para que mantenga las dimensiones de la entrada.\n",
    "    - Una capa de convolución de dos dimensiones que genera 16 filtros, tiene un kernel 3x3, \n",
    "        función de activación ReLu y un padding para que mantenga las dimensiones de la entrada.\n",
    "    - Una capa de Max Pooling con un pool de 2x2, un salto de 2 casillas y sin padding.\n",
    "    - Una capa de Dropout razón con una razón de 0.457.\n",
    "    \n",
    "    - Una capa de flatten para pasar de varias dimensiones a una.\n",
    "    - Una capa oculta con 24 neuronas y con una función de activación ReLu.\n",
    "    - Una capa de salida con 5 neuronas. Una por categoría.\n",
    "    \n",
    "    - Utiliza ADAM como optimizador.\n",
    "    - La función de pérdida es la Entropía Cruzada Categórica.\n",
    "    - La métrica de evaluación es la exactitud.\n",
    "    \n",
    "Parameters:\n",
    "\n",
    "    my_learning_rate - Razón de aprendizaje.\n",
    "    \n",
    "Returns:\n",
    "\n",
    "    El modelo neuronal ya creado.\n",
    "*/'''\n",
    "\n",
    "def my_model(learning_rate):\n",
    "    model = tf.keras.Sequential([\n",
    "        tf.keras.layers.Conv2D(8, (3,3), activation='relu', input_shape = (15,6,1), padding='same'), # cant de filtros, dimensiones del kernel, kernel entre más pequeño mejor y se prefiere un número impar\n",
    "        tf.keras.layers.Conv2D(8, (3,3), activation='relu', padding='same'),\n",
    "        tf.keras.layers.MaxPooling2D((2,2), strides= 2, padding= 'valid'), # dimensiones del pooling, stride\n",
    "        tf.keras.layers.Dropout(0.25),\n",
    "        tf.keras.layers.Conv2D(16, (3,3), activation='relu', padding='same'),\n",
    "        tf.keras.layers.Conv2D(16, (3,3), activation='relu', padding='same'),\n",
    "        tf.keras.layers.MaxPooling2D((2,2), strides= 2, padding='valid'), # dimensiones del pooling, stride\n",
    "        tf.keras.layers.Dropout(0.457),\n",
    "        tf.keras.layers.Flatten(),\n",
    "        tf.keras.layers.Dense(24, activation='relu'),\n",
    "        tf.keras.layers.Dense(5, activation='softmax')])\n",
    "    \n",
    "    model.compile(optimizer=tf.keras.optimizers.Adam(learning_rate), loss=tf.keras.losses.CategoricalCrossentropy(from_logits=True),\n",
    "                metrics=['accuracy'])\n",
    "    \n",
    "    return model"
   ]
  },
  {
   "attachments": {},
   "cell_type": "markdown",
   "metadata": {},
   "source": [
    "# Entrenamiento del Modelo"
   ]
  },
  {
   "cell_type": "code",
   "execution_count": 49,
   "metadata": {},
   "outputs": [],
   "source": [
    "'''/* \n",
    "Function: train_model\n",
    "\n",
    "Alimenta los datos correspondientes a las características y etiquetas al modelo y conduce el proceso de entrenamiento y validación.\n",
    "Además de esto, también le establece al modelo la cantidad de ciclos de entrenamiento y el tamaño del batch.\n",
    "Por último crea un subconjunto de validación con un 25% de los datos de entrenamiento.\n",
    "    \n",
    "Parameters:\n",
    "\n",
    "    model - El modelo creado anteriormente.\n",
    "    features - Conjunto que contiene las características.\n",
    "    labels - Conjunto que contiene las etiquetas.\n",
    "    epochs - Cantidad de ciclos de entrenamiento\n",
    "    batch_size - Tamaño del batch.\n",
    "    \n",
    "Returns:\n",
    "\n",
    "    Los resultados del entrenamiento.\n",
    "*/'''\n",
    "\n",
    "\n",
    "def train_model(model, features, labels, epochs, batch_size):\n",
    "    history = model.fit(\n",
    "        x = features,\n",
    "        y = labels,\n",
    "        epochs= epochs,\n",
    "        batch_size= batch_size,\n",
    "        validation_split= 0.25\n",
    "    )\n",
    "    # Guarda los resultados obtenidos del proceso de entrenamiento y validación en un DataFrame.\n",
    "    # Estos resultados son las pérdidas y el número del ciclo correspondiente.\n",
    "    hist= pd.DataFrame(history.history)\n",
    "    # Añade al DataFrame la información sobre los ciclos.\n",
    "    hist['epoch'] = history.epoch\n",
    "    \n",
    "    return hist"
   ]
  },
  {
   "attachments": {},
   "cell_type": "markdown",
   "metadata": {},
   "source": [
    "# Visualizaciones"
   ]
  },
  {
   "cell_type": "code",
   "execution_count": 50,
   "metadata": {},
   "outputs": [],
   "source": [
    "'''/* \n",
    "Function: loss_curve\n",
    "\n",
    "Grafica las curvas de pérdida correspondientes al entrenamiento y la validación.\n",
    "    \n",
    "Parameters:\n",
    "\n",
    "    history - Resultados provenientes del proceso de entrenamiento.\n",
    "    \n",
    "Returns:\n",
    "\n",
    "    Las gráficas ya creadas.\n",
    "*/'''\n",
    "\n",
    "def loss_curves(history):\n",
    "    hist = history\n",
    "    # Cambia los títulos de cada columna que contiene los datos de exactitud por una versión más legible\n",
    "    labels = {\"loss\":\"Training Loss\", \"val_loss\":\"Validation Loss\"}\n",
    "    hist.rename(columns = labels, inplace = True)\n",
    "    \n",
    "    # Crea la figura, establece los títulos de eje y la paleta de colors\n",
    "    fig = px.line(hist, x='epoch', y=['Training Loss', 'Validation Loss'],\n",
    "                title='Gráficas de Pérdida de Entrenamiento y Evaluación',\n",
    "                labels={\"epoch\": \"Epoch\", \"value\":\"Binary Cross Entropy\", \"variable\":\"Curvas de Pérdida\"},\n",
    "                color_discrete_map={\n",
    "                \"Training Loss\": \"#46039f\", \"Validation Loss\": \"#fb9f3a\"})\n",
    "    # Actualiza el tema de la gráfica.\n",
    "    fig.update_layout(template='plotly_white')\n",
    "    fig.show()\n",
    "    \n",
    "'''/* \n",
    "Function: accuracy_curve\n",
    "\n",
    "Grafica las curvas de exactitud correspondientes al entrenamiento y la validación.\n",
    "    \n",
    "Parameters:\n",
    "\n",
    "    history - Resultados provenientes del proceso de entrenamiento.\n",
    "    \n",
    "Returns:\n",
    "\n",
    "    Las gráficas ya creadas.\n",
    "*/'''\n",
    "    \n",
    "def accuracy_curve(history):\n",
    "    hist = history\n",
    "    # Cambia los títulos de cada columna que contiene los datos de exactitud por una versión más legible\n",
    "    labels = {\"val_accuracy\":\"Exactitud de Validación\", \"accuracy\":\"Exactitud de Entrenamiento\"}\n",
    "    hist.rename(columns = labels, inplace = True)\n",
    "    \n",
    "    # Crea la figura, establece los títulos de eje y la paleta de colors\n",
    "    fig = px.line(hist, x='epoch', y=['Exactitud de Entrenamiento', 'Exactitud de Validación'],\n",
    "                title='Gráficas de Exactitud',\n",
    "                labels={\"epoch\": \"Epoch\", \"value\":\"Exactitud\", \"variable\":\"Curvas de Exactitud\"},\n",
    "                color_discrete_map={\n",
    "                \"Training Loss\": \"#46039f\", \"Validation Loss\": \"#fb9f3a\"})\n",
    "    # Actualiza el tema de la gráfica.\n",
    "    fig.update_layout(template='plotly_white')\n",
    "    fig.show()"
   ]
  },
  {
   "attachments": {},
   "cell_type": "markdown",
   "metadata": {},
   "source": [
    "# Se corren las funciones"
   ]
  },
  {
   "cell_type": "code",
   "execution_count": 51,
   "metadata": {},
   "outputs": [
    {
     "name": "stdout",
     "output_type": "stream",
     "text": [
      "Epoch 1/350\n"
     ]
    },
    {
     "name": "stderr",
     "output_type": "stream",
     "text": [
      "C:\\Users\\dave4\\AppData\\Local\\Packages\\PythonSoftwareFoundation.Python.3.10_qbz5n2kfra8p0\\LocalCache\\local-packages\\Python310\\site-packages\\keras\\backend.py:5561: UserWarning:\n",
      "\n",
      "\"`categorical_crossentropy` received `from_logits=True`, but the `output` argument was produced by a Softmax activation and thus does not represent logits. Was this intended?\n",
      "\n"
     ]
    },
    {
     "name": "stdout",
     "output_type": "stream",
     "text": [
      "25/25 [==============================] - 1s 11ms/step - loss: 1.6151 - accuracy: 0.2114 - val_loss: 1.5992 - val_accuracy: 0.3659\n",
      "Epoch 2/350\n",
      "22/25 [=========================>....] - ETA: 0s - loss: 1.6027 - accuracy: 0.2364"
     ]
    },
    {
     "name": "stderr",
     "output_type": "stream",
     "text": [
      "C:\\Users\\dave4\\AppData\\Local\\Packages\\PythonSoftwareFoundation.Python.3.10_qbz5n2kfra8p0\\LocalCache\\local-packages\\Python310\\site-packages\\keras\\backend.py:5561: UserWarning:\n",
      "\n",
      "\"`categorical_crossentropy` received `from_logits=True`, but the `output` argument was produced by a Softmax activation and thus does not represent logits. Was this intended?\n",
      "\n"
     ]
    },
    {
     "name": "stdout",
     "output_type": "stream",
     "text": [
      "25/25 [==============================] - 0s 4ms/step - loss: 1.6056 - accuracy: 0.2358 - val_loss: 1.5979 - val_accuracy: 0.3659\n",
      "Epoch 3/350\n",
      "25/25 [==============================] - 0s 4ms/step - loss: 1.5903 - accuracy: 0.2033 - val_loss: 1.5847 - val_accuracy: 0.3659\n",
      "Epoch 4/350\n",
      "25/25 [==============================] - 0s 4ms/step - loss: 1.6000 - accuracy: 0.2846 - val_loss: 1.5783 - val_accuracy: 0.1951\n",
      "Epoch 5/350\n",
      "25/25 [==============================] - 0s 4ms/step - loss: 1.5809 - accuracy: 0.2764 - val_loss: 1.5839 - val_accuracy: 0.1951\n",
      "Epoch 6/350\n",
      "25/25 [==============================] - 0s 4ms/step - loss: 1.5753 - accuracy: 0.2602 - val_loss: 1.5821 - val_accuracy: 0.1951\n",
      "Epoch 7/350\n",
      "25/25 [==============================] - 0s 4ms/step - loss: 1.5734 - accuracy: 0.2846 - val_loss: 1.5778 - val_accuracy: 0.1951\n",
      "Epoch 8/350\n",
      "25/25 [==============================] - 0s 4ms/step - loss: 1.5703 - accuracy: 0.2602 - val_loss: 1.5829 - val_accuracy: 0.1951\n",
      "Epoch 9/350\n",
      "25/25 [==============================] - 0s 5ms/step - loss: 1.5586 - accuracy: 0.2846 - val_loss: 1.5802 - val_accuracy: 0.1951\n",
      "Epoch 10/350\n",
      "25/25 [==============================] - 0s 4ms/step - loss: 1.5671 - accuracy: 0.2927 - val_loss: 1.5656 - val_accuracy: 0.1951\n",
      "Epoch 11/350\n",
      "25/25 [==============================] - 0s 4ms/step - loss: 1.5608 - accuracy: 0.2602 - val_loss: 1.5693 - val_accuracy: 0.1951\n",
      "Epoch 12/350\n",
      "25/25 [==============================] - 0s 4ms/step - loss: 1.5718 - accuracy: 0.2602 - val_loss: 1.5750 - val_accuracy: 0.1951\n",
      "Epoch 13/350\n",
      "25/25 [==============================] - 0s 4ms/step - loss: 1.5533 - accuracy: 0.3171 - val_loss: 1.5727 - val_accuracy: 0.1951\n",
      "Epoch 14/350\n",
      "25/25 [==============================] - 0s 4ms/step - loss: 1.5733 - accuracy: 0.2846 - val_loss: 1.5702 - val_accuracy: 0.1951\n",
      "Epoch 15/350\n",
      "25/25 [==============================] - 0s 4ms/step - loss: 1.5709 - accuracy: 0.2927 - val_loss: 1.5738 - val_accuracy: 0.1951\n",
      "Epoch 16/350\n",
      "25/25 [==============================] - 0s 3ms/step - loss: 1.5615 - accuracy: 0.3171 - val_loss: 1.5693 - val_accuracy: 0.1951\n",
      "Epoch 17/350\n",
      "25/25 [==============================] - 0s 4ms/step - loss: 1.5639 - accuracy: 0.3171 - val_loss: 1.5719 - val_accuracy: 0.1951\n",
      "Epoch 18/350\n",
      "25/25 [==============================] - 0s 4ms/step - loss: 1.5551 - accuracy: 0.2927 - val_loss: 1.5695 - val_accuracy: 0.1951\n",
      "Epoch 19/350\n",
      "25/25 [==============================] - 0s 3ms/step - loss: 1.5687 - accuracy: 0.2846 - val_loss: 1.5662 - val_accuracy: 0.1951\n",
      "Epoch 20/350\n",
      "25/25 [==============================] - 0s 4ms/step - loss: 1.5686 - accuracy: 0.2846 - val_loss: 1.5647 - val_accuracy: 0.1951\n",
      "Epoch 21/350\n",
      "25/25 [==============================] - 0s 4ms/step - loss: 1.5699 - accuracy: 0.2846 - val_loss: 1.5692 - val_accuracy: 0.1951\n",
      "Epoch 22/350\n",
      "25/25 [==============================] - 0s 3ms/step - loss: 1.5665 - accuracy: 0.2846 - val_loss: 1.5658 - val_accuracy: 0.1951\n",
      "Epoch 23/350\n",
      "25/25 [==============================] - 0s 4ms/step - loss: 1.5678 - accuracy: 0.2764 - val_loss: 1.5635 - val_accuracy: 0.1951\n",
      "Epoch 24/350\n",
      "25/25 [==============================] - 0s 4ms/step - loss: 1.5592 - accuracy: 0.3008 - val_loss: 1.5614 - val_accuracy: 0.1951\n",
      "Epoch 25/350\n",
      "25/25 [==============================] - 0s 3ms/step - loss: 1.5618 - accuracy: 0.2683 - val_loss: 1.5584 - val_accuracy: 0.1951\n",
      "Epoch 26/350\n",
      "25/25 [==============================] - 0s 4ms/step - loss: 1.5652 - accuracy: 0.2683 - val_loss: 1.5574 - val_accuracy: 0.1951\n",
      "Epoch 27/350\n",
      "25/25 [==============================] - 0s 4ms/step - loss: 1.5660 - accuracy: 0.3089 - val_loss: 1.5560 - val_accuracy: 0.1951\n",
      "Epoch 28/350\n",
      "25/25 [==============================] - 0s 4ms/step - loss: 1.5589 - accuracy: 0.3089 - val_loss: 1.5580 - val_accuracy: 0.1951\n",
      "Epoch 29/350\n",
      "25/25 [==============================] - 0s 4ms/step - loss: 1.5601 - accuracy: 0.2846 - val_loss: 1.5505 - val_accuracy: 0.1951\n",
      "Epoch 30/350\n",
      "25/25 [==============================] - 0s 4ms/step - loss: 1.5671 - accuracy: 0.2846 - val_loss: 1.5548 - val_accuracy: 0.1951\n",
      "Epoch 31/350\n",
      "25/25 [==============================] - 0s 4ms/step - loss: 1.5552 - accuracy: 0.3008 - val_loss: 1.5486 - val_accuracy: 0.1951\n",
      "Epoch 32/350\n",
      "25/25 [==============================] - 0s 4ms/step - loss: 1.5424 - accuracy: 0.2927 - val_loss: 1.5499 - val_accuracy: 0.1951\n",
      "Epoch 33/350\n",
      "25/25 [==============================] - 0s 5ms/step - loss: 1.5436 - accuracy: 0.3089 - val_loss: 1.5493 - val_accuracy: 0.1951\n",
      "Epoch 34/350\n",
      "25/25 [==============================] - 0s 4ms/step - loss: 1.5592 - accuracy: 0.2927 - val_loss: 1.5635 - val_accuracy: 0.1951\n",
      "Epoch 35/350\n",
      "25/25 [==============================] - 0s 4ms/step - loss: 1.5426 - accuracy: 0.3008 - val_loss: 1.5538 - val_accuracy: 0.1951\n",
      "Epoch 36/350\n",
      "25/25 [==============================] - 0s 5ms/step - loss: 1.5537 - accuracy: 0.2846 - val_loss: 1.5464 - val_accuracy: 0.1951\n",
      "Epoch 37/350\n",
      "25/25 [==============================] - 0s 4ms/step - loss: 1.5594 - accuracy: 0.2927 - val_loss: 1.5484 - val_accuracy: 0.1951\n",
      "Epoch 38/350\n",
      "25/25 [==============================] - 0s 4ms/step - loss: 1.5467 - accuracy: 0.2846 - val_loss: 1.5400 - val_accuracy: 0.1951\n",
      "Epoch 39/350\n",
      "25/25 [==============================] - 0s 4ms/step - loss: 1.5539 - accuracy: 0.2846 - val_loss: 1.5457 - val_accuracy: 0.1951\n",
      "Epoch 40/350\n",
      "25/25 [==============================] - 0s 4ms/step - loss: 1.5303 - accuracy: 0.3089 - val_loss: 1.5366 - val_accuracy: 0.1951\n",
      "Epoch 41/350\n",
      "25/25 [==============================] - 0s 4ms/step - loss: 1.5364 - accuracy: 0.2846 - val_loss: 1.5294 - val_accuracy: 0.1951\n",
      "Epoch 42/350\n",
      "25/25 [==============================] - 0s 4ms/step - loss: 1.5341 - accuracy: 0.2927 - val_loss: 1.5268 - val_accuracy: 0.1951\n",
      "Epoch 43/350\n",
      "25/25 [==============================] - 0s 4ms/step - loss: 1.5206 - accuracy: 0.3089 - val_loss: 1.5335 - val_accuracy: 0.1951\n",
      "Epoch 44/350\n",
      "25/25 [==============================] - 0s 4ms/step - loss: 1.5365 - accuracy: 0.3089 - val_loss: 1.5278 - val_accuracy: 0.1951\n",
      "Epoch 45/350\n",
      "25/25 [==============================] - 0s 4ms/step - loss: 1.5258 - accuracy: 0.2927 - val_loss: 1.5048 - val_accuracy: 0.1951\n",
      "Epoch 46/350\n",
      "25/25 [==============================] - 0s 4ms/step - loss: 1.4995 - accuracy: 0.2846 - val_loss: 1.4934 - val_accuracy: 0.1951\n",
      "Epoch 47/350\n",
      "25/25 [==============================] - 0s 4ms/step - loss: 1.5112 - accuracy: 0.3089 - val_loss: 1.4818 - val_accuracy: 0.1951\n",
      "Epoch 48/350\n",
      "25/25 [==============================] - 0s 3ms/step - loss: 1.4751 - accuracy: 0.2602 - val_loss: 1.4600 - val_accuracy: 0.2683\n",
      "Epoch 49/350\n",
      "25/25 [==============================] - 0s 3ms/step - loss: 1.4608 - accuracy: 0.3659 - val_loss: 1.4938 - val_accuracy: 0.3171\n",
      "Epoch 50/350\n",
      "25/25 [==============================] - 0s 3ms/step - loss: 1.3941 - accuracy: 0.3902 - val_loss: 1.3765 - val_accuracy: 0.2927\n",
      "Epoch 51/350\n",
      "25/25 [==============================] - 0s 3ms/step - loss: 1.3634 - accuracy: 0.3984 - val_loss: 1.3441 - val_accuracy: 0.2927\n",
      "Epoch 52/350\n",
      "25/25 [==============================] - 0s 3ms/step - loss: 1.3692 - accuracy: 0.4065 - val_loss: 1.3124 - val_accuracy: 0.2927\n",
      "Epoch 53/350\n",
      "25/25 [==============================] - 0s 5ms/step - loss: 1.3816 - accuracy: 0.3659 - val_loss: 1.3097 - val_accuracy: 0.2927\n",
      "Epoch 54/350\n",
      "25/25 [==============================] - 0s 5ms/step - loss: 1.3234 - accuracy: 0.3740 - val_loss: 1.2988 - val_accuracy: 0.2927\n",
      "Epoch 55/350\n",
      "25/25 [==============================] - 0s 4ms/step - loss: 1.2602 - accuracy: 0.3902 - val_loss: 1.2815 - val_accuracy: 0.2927\n",
      "Epoch 56/350\n",
      "25/25 [==============================] - 0s 4ms/step - loss: 1.3029 - accuracy: 0.4390 - val_loss: 1.2711 - val_accuracy: 0.2927\n",
      "Epoch 57/350\n",
      "25/25 [==============================] - 0s 4ms/step - loss: 1.2609 - accuracy: 0.3740 - val_loss: 1.2385 - val_accuracy: 0.3171\n",
      "Epoch 58/350\n",
      "25/25 [==============================] - 0s 4ms/step - loss: 1.3005 - accuracy: 0.4065 - val_loss: 1.2355 - val_accuracy: 0.3171\n",
      "Epoch 59/350\n",
      "25/25 [==============================] - 0s 4ms/step - loss: 1.2316 - accuracy: 0.4065 - val_loss: 1.2207 - val_accuracy: 0.3171\n",
      "Epoch 60/350\n",
      "25/25 [==============================] - 0s 4ms/step - loss: 1.2798 - accuracy: 0.4472 - val_loss: 1.2870 - val_accuracy: 0.3171\n",
      "Epoch 61/350\n",
      "25/25 [==============================] - 0s 4ms/step - loss: 1.2268 - accuracy: 0.4146 - val_loss: 1.2206 - val_accuracy: 0.3171\n",
      "Epoch 62/350\n",
      "25/25 [==============================] - 0s 4ms/step - loss: 1.2321 - accuracy: 0.3902 - val_loss: 1.2003 - val_accuracy: 0.3171\n",
      "Epoch 63/350\n",
      "25/25 [==============================] - 0s 4ms/step - loss: 1.2135 - accuracy: 0.4390 - val_loss: 1.2855 - val_accuracy: 0.3171\n",
      "Epoch 64/350\n",
      "25/25 [==============================] - 0s 4ms/step - loss: 1.2143 - accuracy: 0.4634 - val_loss: 1.2134 - val_accuracy: 0.4146\n",
      "Epoch 65/350\n",
      "25/25 [==============================] - 0s 4ms/step - loss: 1.2585 - accuracy: 0.4390 - val_loss: 1.2396 - val_accuracy: 0.3171\n",
      "Epoch 66/350\n",
      "25/25 [==============================] - 0s 4ms/step - loss: 1.2334 - accuracy: 0.4472 - val_loss: 1.2046 - val_accuracy: 0.3902\n",
      "Epoch 67/350\n",
      "25/25 [==============================] - 0s 4ms/step - loss: 1.2510 - accuracy: 0.4309 - val_loss: 1.1536 - val_accuracy: 0.4146\n",
      "Epoch 68/350\n",
      "25/25 [==============================] - 0s 4ms/step - loss: 1.1920 - accuracy: 0.4472 - val_loss: 1.1425 - val_accuracy: 0.4146\n",
      "Epoch 69/350\n",
      "25/25 [==============================] - 0s 4ms/step - loss: 1.2326 - accuracy: 0.4065 - val_loss: 1.1531 - val_accuracy: 0.3659\n",
      "Epoch 70/350\n",
      "25/25 [==============================] - 0s 4ms/step - loss: 1.1546 - accuracy: 0.4553 - val_loss: 1.1233 - val_accuracy: 0.3902\n",
      "Epoch 71/350\n",
      "25/25 [==============================] - 0s 4ms/step - loss: 1.2011 - accuracy: 0.5122 - val_loss: 1.1148 - val_accuracy: 0.4146\n",
      "Epoch 72/350\n",
      "25/25 [==============================] - 0s 4ms/step - loss: 1.2018 - accuracy: 0.4634 - val_loss: 1.1967 - val_accuracy: 0.3171\n",
      "Epoch 73/350\n",
      "25/25 [==============================] - 0s 3ms/step - loss: 1.2005 - accuracy: 0.4228 - val_loss: 1.2325 - val_accuracy: 0.3415\n",
      "Epoch 74/350\n",
      "25/25 [==============================] - 0s 4ms/step - loss: 1.2162 - accuracy: 0.4390 - val_loss: 1.1535 - val_accuracy: 0.3902\n",
      "Epoch 75/350\n",
      "25/25 [==============================] - 0s 4ms/step - loss: 1.2005 - accuracy: 0.4390 - val_loss: 1.1428 - val_accuracy: 0.3902\n",
      "Epoch 76/350\n",
      "25/25 [==============================] - 0s 3ms/step - loss: 1.1349 - accuracy: 0.4553 - val_loss: 1.1448 - val_accuracy: 0.4390\n",
      "Epoch 77/350\n",
      "25/25 [==============================] - 0s 3ms/step - loss: 1.1665 - accuracy: 0.4553 - val_loss: 1.0938 - val_accuracy: 0.4390\n",
      "Epoch 78/350\n",
      "25/25 [==============================] - 0s 3ms/step - loss: 1.1388 - accuracy: 0.4797 - val_loss: 1.1031 - val_accuracy: 0.3902\n",
      "Epoch 79/350\n",
      "25/25 [==============================] - 0s 3ms/step - loss: 1.1546 - accuracy: 0.4715 - val_loss: 1.1880 - val_accuracy: 0.3659\n",
      "Epoch 80/350\n",
      "25/25 [==============================] - 0s 4ms/step - loss: 1.1521 - accuracy: 0.4715 - val_loss: 1.0762 - val_accuracy: 0.4634\n",
      "Epoch 81/350\n",
      "25/25 [==============================] - 0s 4ms/step - loss: 1.1221 - accuracy: 0.4797 - val_loss: 1.0481 - val_accuracy: 0.4390\n",
      "Epoch 82/350\n",
      "25/25 [==============================] - 0s 3ms/step - loss: 1.0985 - accuracy: 0.4878 - val_loss: 1.0386 - val_accuracy: 0.4878\n",
      "Epoch 83/350\n",
      "25/25 [==============================] - 0s 4ms/step - loss: 1.1676 - accuracy: 0.5122 - val_loss: 1.1708 - val_accuracy: 0.3902\n",
      "Epoch 84/350\n",
      "25/25 [==============================] - 0s 4ms/step - loss: 1.1165 - accuracy: 0.5041 - val_loss: 1.0443 - val_accuracy: 0.4634\n",
      "Epoch 85/350\n",
      "25/25 [==============================] - 0s 4ms/step - loss: 1.2212 - accuracy: 0.4553 - val_loss: 1.0893 - val_accuracy: 0.5610\n",
      "Epoch 86/350\n",
      "25/25 [==============================] - 0s 3ms/step - loss: 1.1396 - accuracy: 0.5122 - val_loss: 1.0750 - val_accuracy: 0.4634\n",
      "Epoch 87/350\n",
      "25/25 [==============================] - 0s 3ms/step - loss: 1.0859 - accuracy: 0.4797 - val_loss: 1.0583 - val_accuracy: 0.4634\n",
      "Epoch 88/350\n",
      "25/25 [==============================] - 0s 3ms/step - loss: 1.0562 - accuracy: 0.5447 - val_loss: 1.0578 - val_accuracy: 0.4146\n",
      "Epoch 89/350\n",
      "25/25 [==============================] - 0s 4ms/step - loss: 1.0666 - accuracy: 0.5041 - val_loss: 1.1271 - val_accuracy: 0.4146\n",
      "Epoch 90/350\n",
      "25/25 [==============================] - 0s 4ms/step - loss: 1.1229 - accuracy: 0.5041 - val_loss: 1.0591 - val_accuracy: 0.4390\n",
      "Epoch 91/350\n",
      "25/25 [==============================] - 0s 4ms/step - loss: 1.0665 - accuracy: 0.5691 - val_loss: 1.0848 - val_accuracy: 0.4390\n",
      "Epoch 92/350\n",
      "25/25 [==============================] - 0s 3ms/step - loss: 1.0767 - accuracy: 0.5854 - val_loss: 1.0530 - val_accuracy: 0.5366\n",
      "Epoch 93/350\n",
      "25/25 [==============================] - 0s 4ms/step - loss: 1.0017 - accuracy: 0.5528 - val_loss: 1.0157 - val_accuracy: 0.6341\n",
      "Epoch 94/350\n",
      "25/25 [==============================] - 0s 3ms/step - loss: 1.0421 - accuracy: 0.5122 - val_loss: 1.0778 - val_accuracy: 0.4146\n",
      "Epoch 95/350\n",
      "25/25 [==============================] - 0s 4ms/step - loss: 1.0658 - accuracy: 0.5122 - val_loss: 1.0038 - val_accuracy: 0.5610\n",
      "Epoch 96/350\n",
      "25/25 [==============================] - 0s 3ms/step - loss: 1.0457 - accuracy: 0.5610 - val_loss: 1.0145 - val_accuracy: 0.5366\n",
      "Epoch 97/350\n",
      "25/25 [==============================] - 0s 3ms/step - loss: 1.1172 - accuracy: 0.4878 - val_loss: 1.0039 - val_accuracy: 0.6341\n",
      "Epoch 98/350\n",
      "25/25 [==============================] - 0s 4ms/step - loss: 0.9965 - accuracy: 0.5447 - val_loss: 1.0677 - val_accuracy: 0.4146\n",
      "Epoch 99/350\n",
      "25/25 [==============================] - 0s 3ms/step - loss: 1.0434 - accuracy: 0.5366 - val_loss: 1.0132 - val_accuracy: 0.5610\n",
      "Epoch 100/350\n",
      "25/25 [==============================] - 0s 3ms/step - loss: 1.0692 - accuracy: 0.4634 - val_loss: 1.0310 - val_accuracy: 0.4390\n",
      "Epoch 101/350\n",
      "25/25 [==============================] - 0s 4ms/step - loss: 1.0975 - accuracy: 0.4715 - val_loss: 0.9868 - val_accuracy: 0.6585\n",
      "Epoch 102/350\n",
      "25/25 [==============================] - 0s 4ms/step - loss: 1.0383 - accuracy: 0.5203 - val_loss: 0.9853 - val_accuracy: 0.5854\n",
      "Epoch 103/350\n",
      "25/25 [==============================] - 0s 4ms/step - loss: 1.0026 - accuracy: 0.6098 - val_loss: 1.0240 - val_accuracy: 0.5854\n",
      "Epoch 104/350\n",
      "25/25 [==============================] - 0s 3ms/step - loss: 1.0758 - accuracy: 0.5366 - val_loss: 0.9710 - val_accuracy: 0.6341\n",
      "Epoch 105/350\n",
      "25/25 [==============================] - 0s 3ms/step - loss: 1.0564 - accuracy: 0.5528 - val_loss: 1.0047 - val_accuracy: 0.5854\n",
      "Epoch 106/350\n",
      "25/25 [==============================] - 0s 4ms/step - loss: 0.9740 - accuracy: 0.5772 - val_loss: 1.0029 - val_accuracy: 0.5610\n",
      "Epoch 107/350\n",
      "25/25 [==============================] - 0s 3ms/step - loss: 0.9686 - accuracy: 0.5854 - val_loss: 0.9860 - val_accuracy: 0.5854\n",
      "Epoch 108/350\n",
      "25/25 [==============================] - 0s 4ms/step - loss: 0.9659 - accuracy: 0.5935 - val_loss: 0.9962 - val_accuracy: 0.5610\n",
      "Epoch 109/350\n",
      "25/25 [==============================] - 0s 3ms/step - loss: 1.1020 - accuracy: 0.5203 - val_loss: 1.0430 - val_accuracy: 0.5122\n",
      "Epoch 110/350\n",
      "25/25 [==============================] - 0s 3ms/step - loss: 0.9974 - accuracy: 0.5935 - val_loss: 0.9741 - val_accuracy: 0.6098\n",
      "Epoch 111/350\n",
      "25/25 [==============================] - 0s 3ms/step - loss: 1.0956 - accuracy: 0.4959 - val_loss: 1.0967 - val_accuracy: 0.4878\n",
      "Epoch 112/350\n",
      "25/25 [==============================] - 0s 4ms/step - loss: 1.0531 - accuracy: 0.5854 - val_loss: 0.9800 - val_accuracy: 0.5366\n",
      "Epoch 113/350\n",
      "25/25 [==============================] - 0s 3ms/step - loss: 0.9886 - accuracy: 0.5935 - val_loss: 1.0158 - val_accuracy: 0.4878\n",
      "Epoch 114/350\n",
      "25/25 [==============================] - 0s 3ms/step - loss: 1.0179 - accuracy: 0.5691 - val_loss: 0.9614 - val_accuracy: 0.5854\n",
      "Epoch 115/350\n",
      "25/25 [==============================] - 0s 3ms/step - loss: 0.9747 - accuracy: 0.5772 - val_loss: 0.9527 - val_accuracy: 0.6341\n",
      "Epoch 116/350\n",
      "25/25 [==============================] - 0s 4ms/step - loss: 0.9296 - accuracy: 0.5935 - val_loss: 0.9711 - val_accuracy: 0.5122\n",
      "Epoch 117/350\n",
      "25/25 [==============================] - 0s 3ms/step - loss: 0.9818 - accuracy: 0.5447 - val_loss: 0.9404 - val_accuracy: 0.5610\n",
      "Epoch 118/350\n",
      "25/25 [==============================] - 0s 3ms/step - loss: 0.9712 - accuracy: 0.5772 - val_loss: 0.9397 - val_accuracy: 0.5854\n",
      "Epoch 119/350\n",
      "25/25 [==============================] - 0s 3ms/step - loss: 0.9969 - accuracy: 0.5447 - val_loss: 0.9531 - val_accuracy: 0.5366\n",
      "Epoch 120/350\n",
      "25/25 [==============================] - 0s 3ms/step - loss: 1.0122 - accuracy: 0.5285 - val_loss: 0.9168 - val_accuracy: 0.6585\n",
      "Epoch 121/350\n",
      "25/25 [==============================] - 0s 4ms/step - loss: 0.9193 - accuracy: 0.5854 - val_loss: 0.9641 - val_accuracy: 0.5610\n",
      "Epoch 122/350\n",
      "25/25 [==============================] - 0s 3ms/step - loss: 0.9728 - accuracy: 0.5691 - val_loss: 0.9474 - val_accuracy: 0.5610\n",
      "Epoch 123/350\n",
      "25/25 [==============================] - 0s 3ms/step - loss: 0.9421 - accuracy: 0.5610 - val_loss: 1.0170 - val_accuracy: 0.5610\n",
      "Epoch 124/350\n",
      "25/25 [==============================] - 0s 4ms/step - loss: 1.0379 - accuracy: 0.5610 - val_loss: 0.9724 - val_accuracy: 0.6098\n",
      "Epoch 125/350\n",
      "25/25 [==============================] - 0s 3ms/step - loss: 1.1379 - accuracy: 0.4715 - val_loss: 0.9913 - val_accuracy: 0.5610\n",
      "Epoch 126/350\n",
      "25/25 [==============================] - 0s 3ms/step - loss: 1.0187 - accuracy: 0.6098 - val_loss: 0.9524 - val_accuracy: 0.6098\n",
      "Epoch 127/350\n",
      "25/25 [==============================] - 0s 3ms/step - loss: 0.9606 - accuracy: 0.5366 - val_loss: 0.9145 - val_accuracy: 0.6098\n",
      "Epoch 128/350\n",
      "25/25 [==============================] - 0s 3ms/step - loss: 0.9153 - accuracy: 0.6098 - val_loss: 0.9635 - val_accuracy: 0.5122\n",
      "Epoch 129/350\n",
      "25/25 [==============================] - 0s 4ms/step - loss: 0.9289 - accuracy: 0.5935 - val_loss: 0.8970 - val_accuracy: 0.5854\n",
      "Epoch 130/350\n",
      "25/25 [==============================] - 0s 3ms/step - loss: 0.9047 - accuracy: 0.6341 - val_loss: 0.9261 - val_accuracy: 0.5610\n",
      "Epoch 131/350\n",
      "25/25 [==============================] - 0s 3ms/step - loss: 0.9744 - accuracy: 0.5772 - val_loss: 1.0771 - val_accuracy: 0.4146\n",
      "Epoch 132/350\n",
      "25/25 [==============================] - 0s 4ms/step - loss: 0.9145 - accuracy: 0.6585 - val_loss: 0.9063 - val_accuracy: 0.6341\n",
      "Epoch 133/350\n",
      "25/25 [==============================] - 0s 3ms/step - loss: 0.9845 - accuracy: 0.6098 - val_loss: 0.9115 - val_accuracy: 0.5854\n",
      "Epoch 134/350\n",
      "25/25 [==============================] - 0s 3ms/step - loss: 0.9803 - accuracy: 0.5772 - val_loss: 0.9485 - val_accuracy: 0.5610\n",
      "Epoch 135/350\n",
      "25/25 [==============================] - 0s 4ms/step - loss: 0.8832 - accuracy: 0.6341 - val_loss: 0.8989 - val_accuracy: 0.6585\n",
      "Epoch 136/350\n",
      "25/25 [==============================] - 0s 3ms/step - loss: 0.9520 - accuracy: 0.5691 - val_loss: 0.9063 - val_accuracy: 0.6098\n",
      "Epoch 137/350\n",
      "25/25 [==============================] - 0s 3ms/step - loss: 0.8588 - accuracy: 0.6667 - val_loss: 0.9470 - val_accuracy: 0.5366\n",
      "Epoch 138/350\n",
      "25/25 [==============================] - 0s 3ms/step - loss: 0.9285 - accuracy: 0.5935 - val_loss: 0.8885 - val_accuracy: 0.6585\n",
      "Epoch 139/350\n",
      "25/25 [==============================] - 0s 4ms/step - loss: 0.9778 - accuracy: 0.6016 - val_loss: 1.0053 - val_accuracy: 0.4878\n",
      "Epoch 140/350\n",
      "25/25 [==============================] - 0s 3ms/step - loss: 0.9203 - accuracy: 0.5854 - val_loss: 1.1247 - val_accuracy: 0.3902\n",
      "Epoch 141/350\n",
      "25/25 [==============================] - 0s 3ms/step - loss: 1.0202 - accuracy: 0.5528 - val_loss: 1.0083 - val_accuracy: 0.5122\n",
      "Epoch 142/350\n",
      "25/25 [==============================] - 0s 3ms/step - loss: 0.9382 - accuracy: 0.6179 - val_loss: 0.8559 - val_accuracy: 0.6585\n",
      "Epoch 143/350\n",
      "25/25 [==============================] - 0s 3ms/step - loss: 0.9639 - accuracy: 0.5854 - val_loss: 0.8593 - val_accuracy: 0.6585\n",
      "Epoch 144/350\n",
      "25/25 [==============================] - 0s 3ms/step - loss: 0.8892 - accuracy: 0.6423 - val_loss: 1.1484 - val_accuracy: 0.5122\n",
      "Epoch 145/350\n",
      "25/25 [==============================] - 0s 3ms/step - loss: 1.0564 - accuracy: 0.5285 - val_loss: 0.8538 - val_accuracy: 0.7073\n",
      "Epoch 146/350\n",
      "25/25 [==============================] - 0s 3ms/step - loss: 0.8902 - accuracy: 0.6260 - val_loss: 0.9154 - val_accuracy: 0.5854\n",
      "Epoch 147/350\n",
      "25/25 [==============================] - 0s 4ms/step - loss: 0.9415 - accuracy: 0.6179 - val_loss: 0.9732 - val_accuracy: 0.5122\n",
      "Epoch 148/350\n",
      "25/25 [==============================] - 0s 3ms/step - loss: 0.8581 - accuracy: 0.6423 - val_loss: 0.8949 - val_accuracy: 0.6098\n",
      "Epoch 149/350\n",
      "25/25 [==============================] - 0s 4ms/step - loss: 0.8675 - accuracy: 0.5935 - val_loss: 0.8796 - val_accuracy: 0.6098\n",
      "Epoch 150/350\n",
      "25/25 [==============================] - 0s 4ms/step - loss: 0.8690 - accuracy: 0.6341 - val_loss: 0.8636 - val_accuracy: 0.6341\n",
      "Epoch 151/350\n",
      "25/25 [==============================] - 0s 4ms/step - loss: 0.9007 - accuracy: 0.6423 - val_loss: 0.8954 - val_accuracy: 0.5854\n",
      "Epoch 152/350\n",
      "25/25 [==============================] - 0s 3ms/step - loss: 0.7881 - accuracy: 0.6585 - val_loss: 0.9031 - val_accuracy: 0.6341\n",
      "Epoch 153/350\n",
      "25/25 [==============================] - 0s 4ms/step - loss: 0.8540 - accuracy: 0.6667 - val_loss: 0.8315 - val_accuracy: 0.6341\n",
      "Epoch 154/350\n",
      "25/25 [==============================] - 0s 3ms/step - loss: 0.9050 - accuracy: 0.5528 - val_loss: 0.8268 - val_accuracy: 0.6585\n",
      "Epoch 155/350\n",
      "25/25 [==============================] - 0s 4ms/step - loss: 0.8444 - accuracy: 0.6260 - val_loss: 0.8166 - val_accuracy: 0.6341\n",
      "Epoch 156/350\n",
      "25/25 [==============================] - 0s 3ms/step - loss: 0.8155 - accuracy: 0.6504 - val_loss: 0.8191 - val_accuracy: 0.6585\n",
      "Epoch 157/350\n",
      "25/25 [==============================] - 0s 3ms/step - loss: 0.7806 - accuracy: 0.6585 - val_loss: 0.8691 - val_accuracy: 0.6098\n",
      "Epoch 158/350\n",
      "25/25 [==============================] - 0s 3ms/step - loss: 0.8660 - accuracy: 0.6016 - val_loss: 0.8267 - val_accuracy: 0.6585\n",
      "Epoch 159/350\n",
      "25/25 [==============================] - 0s 3ms/step - loss: 0.8324 - accuracy: 0.6504 - val_loss: 0.8235 - val_accuracy: 0.6585\n",
      "Epoch 160/350\n",
      "25/25 [==============================] - 0s 4ms/step - loss: 0.8343 - accuracy: 0.6829 - val_loss: 0.7931 - val_accuracy: 0.6585\n",
      "Epoch 161/350\n",
      "25/25 [==============================] - 0s 3ms/step - loss: 0.8615 - accuracy: 0.6341 - val_loss: 0.8043 - val_accuracy: 0.6341\n",
      "Epoch 162/350\n",
      "25/25 [==============================] - 0s 4ms/step - loss: 0.8582 - accuracy: 0.6341 - val_loss: 0.9462 - val_accuracy: 0.4878\n",
      "Epoch 163/350\n",
      "25/25 [==============================] - 0s 4ms/step - loss: 0.9187 - accuracy: 0.5854 - val_loss: 0.8805 - val_accuracy: 0.5854\n",
      "Epoch 164/350\n",
      "25/25 [==============================] - 0s 4ms/step - loss: 0.8694 - accuracy: 0.6585 - val_loss: 0.9082 - val_accuracy: 0.5610\n",
      "Epoch 165/350\n",
      "25/25 [==============================] - 0s 3ms/step - loss: 0.8555 - accuracy: 0.6341 - val_loss: 0.8486 - val_accuracy: 0.6341\n",
      "Epoch 166/350\n",
      "25/25 [==============================] - 0s 3ms/step - loss: 0.8154 - accuracy: 0.6504 - val_loss: 0.8353 - val_accuracy: 0.6341\n",
      "Epoch 167/350\n",
      "25/25 [==============================] - 0s 3ms/step - loss: 0.8215 - accuracy: 0.6423 - val_loss: 0.8427 - val_accuracy: 0.6341\n",
      "Epoch 168/350\n",
      "25/25 [==============================] - 0s 3ms/step - loss: 0.7996 - accuracy: 0.6423 - val_loss: 0.8491 - val_accuracy: 0.6098\n",
      "Epoch 169/350\n",
      "25/25 [==============================] - 0s 4ms/step - loss: 0.7249 - accuracy: 0.6992 - val_loss: 0.8691 - val_accuracy: 0.6098\n",
      "Epoch 170/350\n",
      "25/25 [==============================] - 0s 4ms/step - loss: 0.8301 - accuracy: 0.6341 - val_loss: 0.8286 - val_accuracy: 0.6341\n",
      "Epoch 171/350\n",
      "25/25 [==============================] - 0s 3ms/step - loss: 0.8628 - accuracy: 0.6260 - val_loss: 0.7743 - val_accuracy: 0.6341\n",
      "Epoch 172/350\n",
      "25/25 [==============================] - 0s 3ms/step - loss: 0.8435 - accuracy: 0.7073 - val_loss: 0.8373 - val_accuracy: 0.6098\n",
      "Epoch 173/350\n",
      "25/25 [==============================] - 0s 4ms/step - loss: 0.8323 - accuracy: 0.6748 - val_loss: 0.9378 - val_accuracy: 0.5610\n",
      "Epoch 174/350\n",
      "25/25 [==============================] - 0s 4ms/step - loss: 0.8033 - accuracy: 0.6504 - val_loss: 0.8873 - val_accuracy: 0.6098\n",
      "Epoch 175/350\n",
      "25/25 [==============================] - 0s 3ms/step - loss: 0.8076 - accuracy: 0.6341 - val_loss: 0.7945 - val_accuracy: 0.6585\n",
      "Epoch 176/350\n",
      "25/25 [==============================] - 0s 4ms/step - loss: 0.8168 - accuracy: 0.6260 - val_loss: 0.8067 - val_accuracy: 0.6585\n",
      "Epoch 177/350\n",
      "25/25 [==============================] - 0s 4ms/step - loss: 0.8534 - accuracy: 0.6829 - val_loss: 0.8058 - val_accuracy: 0.6585\n",
      "Epoch 178/350\n",
      "25/25 [==============================] - 0s 4ms/step - loss: 1.0113 - accuracy: 0.5366 - val_loss: 0.7709 - val_accuracy: 0.6829\n",
      "Epoch 179/350\n",
      "25/25 [==============================] - 0s 3ms/step - loss: 0.8521 - accuracy: 0.6585 - val_loss: 0.7886 - val_accuracy: 0.6585\n",
      "Epoch 180/350\n",
      "25/25 [==============================] - 0s 3ms/step - loss: 0.7890 - accuracy: 0.6667 - val_loss: 0.9224 - val_accuracy: 0.5122\n",
      "Epoch 181/350\n",
      "25/25 [==============================] - 0s 3ms/step - loss: 0.8581 - accuracy: 0.6341 - val_loss: 0.7697 - val_accuracy: 0.6585\n",
      "Epoch 182/350\n",
      "25/25 [==============================] - 0s 3ms/step - loss: 0.7977 - accuracy: 0.6992 - val_loss: 0.8693 - val_accuracy: 0.5854\n",
      "Epoch 183/350\n",
      "25/25 [==============================] - 0s 3ms/step - loss: 0.8739 - accuracy: 0.6585 - val_loss: 0.7946 - val_accuracy: 0.6341\n",
      "Epoch 184/350\n",
      "25/25 [==============================] - 0s 3ms/step - loss: 0.7631 - accuracy: 0.7236 - val_loss: 0.8270 - val_accuracy: 0.6098\n",
      "Epoch 185/350\n",
      "25/25 [==============================] - 0s 4ms/step - loss: 0.8029 - accuracy: 0.6341 - val_loss: 0.7924 - val_accuracy: 0.6829\n",
      "Epoch 186/350\n",
      "25/25 [==============================] - 0s 3ms/step - loss: 0.8205 - accuracy: 0.6667 - val_loss: 0.7739 - val_accuracy: 0.6585\n",
      "Epoch 187/350\n",
      "25/25 [==============================] - 0s 3ms/step - loss: 0.8182 - accuracy: 0.6179 - val_loss: 0.7965 - val_accuracy: 0.6585\n",
      "Epoch 188/350\n",
      "25/25 [==============================] - 0s 4ms/step - loss: 0.8492 - accuracy: 0.6748 - val_loss: 0.7731 - val_accuracy: 0.6585\n",
      "Epoch 189/350\n",
      "25/25 [==============================] - 0s 4ms/step - loss: 0.7394 - accuracy: 0.7480 - val_loss: 0.7771 - val_accuracy: 0.6585\n",
      "Epoch 190/350\n",
      "25/25 [==============================] - 0s 3ms/step - loss: 0.8279 - accuracy: 0.6667 - val_loss: 0.7883 - val_accuracy: 0.6341\n",
      "Epoch 191/350\n",
      "25/25 [==============================] - 0s 4ms/step - loss: 0.7345 - accuracy: 0.6829 - val_loss: 0.8645 - val_accuracy: 0.5854\n",
      "Epoch 192/350\n",
      "25/25 [==============================] - 0s 4ms/step - loss: 0.8325 - accuracy: 0.7154 - val_loss: 0.8025 - val_accuracy: 0.6341\n",
      "Epoch 193/350\n",
      "25/25 [==============================] - 0s 4ms/step - loss: 0.8075 - accuracy: 0.6423 - val_loss: 0.7458 - val_accuracy: 0.6341\n",
      "Epoch 194/350\n",
      "25/25 [==============================] - 0s 4ms/step - loss: 0.8085 - accuracy: 0.6829 - val_loss: 0.7601 - val_accuracy: 0.6585\n",
      "Epoch 195/350\n",
      "25/25 [==============================] - 0s 3ms/step - loss: 0.6938 - accuracy: 0.7398 - val_loss: 0.8007 - val_accuracy: 0.6098\n",
      "Epoch 196/350\n",
      "25/25 [==============================] - 0s 3ms/step - loss: 0.8464 - accuracy: 0.6504 - val_loss: 0.7848 - val_accuracy: 0.6585\n",
      "Epoch 197/350\n",
      "25/25 [==============================] - 0s 3ms/step - loss: 0.8091 - accuracy: 0.6667 - val_loss: 0.7910 - val_accuracy: 0.6341\n",
      "Epoch 198/350\n",
      "25/25 [==============================] - 0s 3ms/step - loss: 0.7951 - accuracy: 0.6504 - val_loss: 0.8926 - val_accuracy: 0.6098\n",
      "Epoch 199/350\n",
      "25/25 [==============================] - 0s 3ms/step - loss: 0.8552 - accuracy: 0.6341 - val_loss: 0.8763 - val_accuracy: 0.5854\n",
      "Epoch 200/350\n",
      "25/25 [==============================] - 0s 3ms/step - loss: 0.8292 - accuracy: 0.6667 - val_loss: 0.7433 - val_accuracy: 0.6585\n",
      "Epoch 201/350\n",
      "25/25 [==============================] - 0s 4ms/step - loss: 0.7493 - accuracy: 0.6992 - val_loss: 0.9193 - val_accuracy: 0.5854\n",
      "Epoch 202/350\n",
      "25/25 [==============================] - 0s 4ms/step - loss: 0.7244 - accuracy: 0.6992 - val_loss: 0.8124 - val_accuracy: 0.6098\n",
      "Epoch 203/350\n",
      "25/25 [==============================] - 0s 4ms/step - loss: 0.7327 - accuracy: 0.7154 - val_loss: 0.7687 - val_accuracy: 0.6585\n",
      "Epoch 204/350\n",
      "25/25 [==============================] - 0s 4ms/step - loss: 0.7433 - accuracy: 0.6667 - val_loss: 0.7828 - val_accuracy: 0.6585\n",
      "Epoch 205/350\n",
      "25/25 [==============================] - 0s 3ms/step - loss: 0.8024 - accuracy: 0.6748 - val_loss: 0.8170 - val_accuracy: 0.6585\n",
      "Epoch 206/350\n",
      "25/25 [==============================] - 0s 3ms/step - loss: 0.8264 - accuracy: 0.6341 - val_loss: 0.7695 - val_accuracy: 0.6341\n",
      "Epoch 207/350\n",
      "25/25 [==============================] - 0s 3ms/step - loss: 0.7499 - accuracy: 0.6829 - val_loss: 0.8517 - val_accuracy: 0.5854\n",
      "Epoch 208/350\n",
      "25/25 [==============================] - 0s 3ms/step - loss: 0.8044 - accuracy: 0.6667 - val_loss: 0.7644 - val_accuracy: 0.6341\n",
      "Epoch 209/350\n",
      "25/25 [==============================] - 0s 3ms/step - loss: 0.7629 - accuracy: 0.6748 - val_loss: 0.7804 - val_accuracy: 0.6585\n",
      "Epoch 210/350\n",
      "25/25 [==============================] - 0s 3ms/step - loss: 0.7449 - accuracy: 0.6911 - val_loss: 0.7812 - val_accuracy: 0.6585\n",
      "Epoch 211/350\n",
      "25/25 [==============================] - 0s 3ms/step - loss: 0.7620 - accuracy: 0.6829 - val_loss: 0.7752 - val_accuracy: 0.6341\n",
      "Epoch 212/350\n",
      "25/25 [==============================] - 0s 3ms/step - loss: 0.8462 - accuracy: 0.6748 - val_loss: 0.7598 - val_accuracy: 0.6341\n",
      "Epoch 213/350\n",
      "25/25 [==============================] - 0s 3ms/step - loss: 0.7739 - accuracy: 0.6667 - val_loss: 0.8049 - val_accuracy: 0.6341\n",
      "Epoch 214/350\n",
      "25/25 [==============================] - 0s 4ms/step - loss: 0.7404 - accuracy: 0.6829 - val_loss: 0.7953 - val_accuracy: 0.6341\n",
      "Epoch 215/350\n",
      "25/25 [==============================] - 0s 3ms/step - loss: 0.6972 - accuracy: 0.7480 - val_loss: 0.8115 - val_accuracy: 0.6341\n",
      "Epoch 216/350\n",
      "25/25 [==============================] - 0s 4ms/step - loss: 0.8712 - accuracy: 0.6098 - val_loss: 0.8620 - val_accuracy: 0.6098\n",
      "Epoch 217/350\n",
      "25/25 [==============================] - 0s 3ms/step - loss: 0.7989 - accuracy: 0.6423 - val_loss: 0.7464 - val_accuracy: 0.6341\n",
      "Epoch 218/350\n",
      "25/25 [==============================] - 0s 3ms/step - loss: 0.7099 - accuracy: 0.7317 - val_loss: 0.8727 - val_accuracy: 0.5854\n",
      "Epoch 219/350\n",
      "25/25 [==============================] - 0s 4ms/step - loss: 0.8264 - accuracy: 0.6748 - val_loss: 0.7480 - val_accuracy: 0.6585\n",
      "Epoch 220/350\n",
      "25/25 [==============================] - 0s 4ms/step - loss: 0.7811 - accuracy: 0.6829 - val_loss: 0.9338 - val_accuracy: 0.5122\n",
      "Epoch 221/350\n",
      "25/25 [==============================] - 0s 4ms/step - loss: 0.8447 - accuracy: 0.6504 - val_loss: 0.9204 - val_accuracy: 0.5366\n",
      "Epoch 222/350\n",
      "25/25 [==============================] - 0s 3ms/step - loss: 0.9437 - accuracy: 0.6098 - val_loss: 0.8303 - val_accuracy: 0.6341\n",
      "Epoch 223/350\n",
      "25/25 [==============================] - 0s 3ms/step - loss: 0.8663 - accuracy: 0.6585 - val_loss: 0.7779 - val_accuracy: 0.6585\n",
      "Epoch 224/350\n",
      "25/25 [==============================] - 0s 4ms/step - loss: 0.7609 - accuracy: 0.6911 - val_loss: 0.8015 - val_accuracy: 0.6585\n",
      "Epoch 225/350\n",
      "25/25 [==============================] - 0s 4ms/step - loss: 0.6863 - accuracy: 0.6748 - val_loss: 0.8360 - val_accuracy: 0.6341\n",
      "Epoch 226/350\n",
      "25/25 [==============================] - 0s 4ms/step - loss: 0.8083 - accuracy: 0.6748 - val_loss: 0.7601 - val_accuracy: 0.6341\n",
      "Epoch 227/350\n",
      "25/25 [==============================] - 0s 3ms/step - loss: 0.7064 - accuracy: 0.7480 - val_loss: 0.7658 - val_accuracy: 0.6585\n",
      "Epoch 228/350\n",
      "25/25 [==============================] - 0s 3ms/step - loss: 0.7288 - accuracy: 0.6829 - val_loss: 0.7559 - val_accuracy: 0.6585\n",
      "Epoch 229/350\n",
      "25/25 [==============================] - 0s 4ms/step - loss: 0.7737 - accuracy: 0.6829 - val_loss: 0.7645 - val_accuracy: 0.6341\n",
      "Epoch 230/350\n",
      "25/25 [==============================] - 0s 4ms/step - loss: 0.7355 - accuracy: 0.6911 - val_loss: 0.7727 - val_accuracy: 0.6098\n",
      "Epoch 231/350\n",
      "25/25 [==============================] - 0s 4ms/step - loss: 0.7148 - accuracy: 0.7073 - val_loss: 0.7810 - val_accuracy: 0.6098\n",
      "Epoch 232/350\n",
      "25/25 [==============================] - 0s 3ms/step - loss: 0.6946 - accuracy: 0.7561 - val_loss: 0.7509 - val_accuracy: 0.6341\n",
      "Epoch 233/350\n",
      "25/25 [==============================] - 0s 3ms/step - loss: 0.7360 - accuracy: 0.6829 - val_loss: 0.7694 - val_accuracy: 0.6341\n",
      "Epoch 234/350\n",
      "25/25 [==============================] - 0s 3ms/step - loss: 0.7166 - accuracy: 0.6829 - val_loss: 0.7601 - val_accuracy: 0.6098\n",
      "Epoch 235/350\n",
      "25/25 [==============================] - 0s 4ms/step - loss: 0.7686 - accuracy: 0.6504 - val_loss: 0.7016 - val_accuracy: 0.6341\n",
      "Epoch 236/350\n",
      "25/25 [==============================] - 0s 3ms/step - loss: 0.7471 - accuracy: 0.6748 - val_loss: 0.7644 - val_accuracy: 0.6098\n",
      "Epoch 237/350\n",
      "25/25 [==============================] - 0s 3ms/step - loss: 0.8005 - accuracy: 0.6585 - val_loss: 0.7774 - val_accuracy: 0.6341\n",
      "Epoch 238/350\n",
      "25/25 [==============================] - 0s 3ms/step - loss: 0.7026 - accuracy: 0.6667 - val_loss: 0.7932 - val_accuracy: 0.6585\n",
      "Epoch 239/350\n",
      "25/25 [==============================] - 0s 3ms/step - loss: 0.8348 - accuracy: 0.6179 - val_loss: 0.7916 - val_accuracy: 0.6098\n",
      "Epoch 240/350\n",
      "25/25 [==============================] - 0s 3ms/step - loss: 0.7448 - accuracy: 0.6992 - val_loss: 0.7409 - val_accuracy: 0.6585\n",
      "Epoch 241/350\n",
      "25/25 [==============================] - 0s 4ms/step - loss: 0.7279 - accuracy: 0.6911 - val_loss: 0.7443 - val_accuracy: 0.6098\n",
      "Epoch 242/350\n",
      "25/25 [==============================] - 0s 3ms/step - loss: 0.7808 - accuracy: 0.6992 - val_loss: 0.7408 - val_accuracy: 0.6341\n",
      "Epoch 243/350\n",
      "25/25 [==============================] - 0s 4ms/step - loss: 0.7876 - accuracy: 0.7154 - val_loss: 0.8312 - val_accuracy: 0.5854\n",
      "Epoch 244/350\n",
      "25/25 [==============================] - 0s 3ms/step - loss: 0.7361 - accuracy: 0.7154 - val_loss: 0.7657 - val_accuracy: 0.6341\n",
      "Epoch 245/350\n",
      "25/25 [==============================] - 0s 3ms/step - loss: 0.6999 - accuracy: 0.7398 - val_loss: 0.7793 - val_accuracy: 0.6341\n",
      "Epoch 246/350\n",
      "25/25 [==============================] - 0s 4ms/step - loss: 0.7054 - accuracy: 0.6911 - val_loss: 0.7875 - val_accuracy: 0.6829\n",
      "Epoch 247/350\n",
      "25/25 [==============================] - 0s 3ms/step - loss: 0.6972 - accuracy: 0.6911 - val_loss: 0.7243 - val_accuracy: 0.6341\n",
      "Epoch 248/350\n",
      "25/25 [==============================] - 0s 3ms/step - loss: 1.4037 - accuracy: 0.4959 - val_loss: 1.2758 - val_accuracy: 0.4146\n",
      "Epoch 249/350\n",
      "25/25 [==============================] - 0s 3ms/step - loss: 1.3654 - accuracy: 0.4228 - val_loss: 1.1520 - val_accuracy: 0.4146\n",
      "Epoch 250/350\n",
      "25/25 [==============================] - 0s 3ms/step - loss: 1.0504 - accuracy: 0.5366 - val_loss: 0.8959 - val_accuracy: 0.5854\n",
      "Epoch 251/350\n",
      "25/25 [==============================] - 0s 4ms/step - loss: 0.7568 - accuracy: 0.6992 - val_loss: 0.9451 - val_accuracy: 0.5122\n",
      "Epoch 252/350\n",
      "25/25 [==============================] - 0s 4ms/step - loss: 0.8282 - accuracy: 0.6016 - val_loss: 0.8229 - val_accuracy: 0.5854\n",
      "Epoch 253/350\n",
      "25/25 [==============================] - 0s 4ms/step - loss: 0.8134 - accuracy: 0.6829 - val_loss: 0.8552 - val_accuracy: 0.6098\n",
      "Epoch 254/350\n",
      "25/25 [==============================] - 0s 4ms/step - loss: 0.8454 - accuracy: 0.6748 - val_loss: 0.7471 - val_accuracy: 0.6341\n",
      "Epoch 255/350\n",
      "25/25 [==============================] - 0s 4ms/step - loss: 0.7804 - accuracy: 0.6992 - val_loss: 0.7616 - val_accuracy: 0.6585\n",
      "Epoch 256/350\n",
      "25/25 [==============================] - 0s 3ms/step - loss: 0.8063 - accuracy: 0.6992 - val_loss: 0.7542 - val_accuracy: 0.6585\n",
      "Epoch 257/350\n",
      "25/25 [==============================] - 0s 3ms/step - loss: 0.7572 - accuracy: 0.7073 - val_loss: 0.7463 - val_accuracy: 0.6341\n",
      "Epoch 258/350\n",
      "25/25 [==============================] - 0s 4ms/step - loss: 0.7113 - accuracy: 0.6667 - val_loss: 0.7714 - val_accuracy: 0.6585\n",
      "Epoch 259/350\n",
      "25/25 [==============================] - 0s 3ms/step - loss: 0.7811 - accuracy: 0.6423 - val_loss: 0.8262 - val_accuracy: 0.6585\n",
      "Epoch 260/350\n",
      "25/25 [==============================] - 0s 3ms/step - loss: 0.7938 - accuracy: 0.6585 - val_loss: 0.7987 - val_accuracy: 0.6341\n",
      "Epoch 261/350\n",
      "25/25 [==============================] - 0s 3ms/step - loss: 0.7130 - accuracy: 0.6748 - val_loss: 0.7746 - val_accuracy: 0.6585\n",
      "Epoch 262/350\n",
      "25/25 [==============================] - 0s 3ms/step - loss: 0.7023 - accuracy: 0.6992 - val_loss: 0.7600 - val_accuracy: 0.6341\n",
      "Epoch 263/350\n",
      "25/25 [==============================] - 0s 3ms/step - loss: 0.7169 - accuracy: 0.6992 - val_loss: 0.8096 - val_accuracy: 0.6341\n",
      "Epoch 264/350\n",
      "25/25 [==============================] - 0s 3ms/step - loss: 0.7652 - accuracy: 0.6585 - val_loss: 0.7426 - val_accuracy: 0.6341\n",
      "Epoch 265/350\n",
      "25/25 [==============================] - 0s 3ms/step - loss: 0.7009 - accuracy: 0.6992 - val_loss: 0.7547 - val_accuracy: 0.6341\n",
      "Epoch 266/350\n",
      "25/25 [==============================] - 0s 4ms/step - loss: 0.6972 - accuracy: 0.6911 - val_loss: 0.7643 - val_accuracy: 0.6341\n",
      "Epoch 267/350\n",
      "25/25 [==============================] - 0s 3ms/step - loss: 0.7442 - accuracy: 0.7398 - val_loss: 0.7624 - val_accuracy: 0.6341\n",
      "Epoch 268/350\n",
      "25/25 [==============================] - 0s 3ms/step - loss: 0.7645 - accuracy: 0.6667 - val_loss: 0.7677 - val_accuracy: 0.6341\n",
      "Epoch 269/350\n",
      "25/25 [==============================] - 0s 3ms/step - loss: 0.8119 - accuracy: 0.6829 - val_loss: 0.7361 - val_accuracy: 0.6341\n",
      "Epoch 270/350\n",
      "25/25 [==============================] - 0s 3ms/step - loss: 0.7152 - accuracy: 0.7073 - val_loss: 0.7657 - val_accuracy: 0.6341\n",
      "Epoch 271/350\n",
      "25/25 [==============================] - 0s 4ms/step - loss: 0.7159 - accuracy: 0.7398 - val_loss: 0.7311 - val_accuracy: 0.6341\n",
      "Epoch 272/350\n",
      "25/25 [==============================] - 0s 3ms/step - loss: 0.7590 - accuracy: 0.6748 - val_loss: 0.7278 - val_accuracy: 0.6585\n",
      "Epoch 273/350\n",
      "25/25 [==============================] - 0s 4ms/step - loss: 0.7682 - accuracy: 0.7073 - val_loss: 0.7549 - val_accuracy: 0.6341\n",
      "Epoch 274/350\n",
      "25/25 [==============================] - 0s 4ms/step - loss: 0.7322 - accuracy: 0.7480 - val_loss: 0.7738 - val_accuracy: 0.6829\n",
      "Epoch 275/350\n",
      "25/25 [==============================] - 0s 4ms/step - loss: 0.7146 - accuracy: 0.7154 - val_loss: 0.7399 - val_accuracy: 0.6585\n",
      "Epoch 276/350\n",
      "25/25 [==============================] - 0s 4ms/step - loss: 0.7702 - accuracy: 0.6911 - val_loss: 0.7671 - val_accuracy: 0.6585\n",
      "Epoch 277/350\n",
      "25/25 [==============================] - 0s 4ms/step - loss: 0.7400 - accuracy: 0.7154 - val_loss: 0.8207 - val_accuracy: 0.6585\n",
      "Epoch 278/350\n",
      "25/25 [==============================] - 0s 4ms/step - loss: 0.7220 - accuracy: 0.7073 - val_loss: 0.8211 - val_accuracy: 0.6098\n",
      "Epoch 279/350\n",
      "25/25 [==============================] - 0s 4ms/step - loss: 0.7420 - accuracy: 0.6667 - val_loss: 0.7377 - val_accuracy: 0.6341\n",
      "Epoch 280/350\n",
      "25/25 [==============================] - 0s 3ms/step - loss: 0.8082 - accuracy: 0.6829 - val_loss: 0.7352 - val_accuracy: 0.6341\n",
      "Epoch 281/350\n",
      "25/25 [==============================] - 0s 3ms/step - loss: 0.8101 - accuracy: 0.6423 - val_loss: 0.7252 - val_accuracy: 0.6585\n",
      "Epoch 282/350\n",
      "25/25 [==============================] - 0s 3ms/step - loss: 0.8056 - accuracy: 0.6504 - val_loss: 0.7560 - val_accuracy: 0.6341\n",
      "Epoch 283/350\n",
      "25/25 [==============================] - 0s 4ms/step - loss: 0.7010 - accuracy: 0.7073 - val_loss: 0.7714 - val_accuracy: 0.6585\n",
      "Epoch 284/350\n",
      "25/25 [==============================] - 0s 4ms/step - loss: 0.7187 - accuracy: 0.6992 - val_loss: 0.7465 - val_accuracy: 0.6585\n",
      "Epoch 285/350\n",
      "25/25 [==============================] - 0s 4ms/step - loss: 0.6741 - accuracy: 0.7154 - val_loss: 0.7345 - val_accuracy: 0.6098\n",
      "Epoch 286/350\n",
      "25/25 [==============================] - 0s 4ms/step - loss: 0.6949 - accuracy: 0.7073 - val_loss: 0.7433 - val_accuracy: 0.6585\n",
      "Epoch 287/350\n",
      "25/25 [==============================] - 0s 4ms/step - loss: 0.6550 - accuracy: 0.7398 - val_loss: 0.7457 - val_accuracy: 0.6585\n",
      "Epoch 288/350\n",
      "25/25 [==============================] - 0s 3ms/step - loss: 0.8264 - accuracy: 0.7073 - val_loss: 0.7146 - val_accuracy: 0.6585\n",
      "Epoch 289/350\n",
      "25/25 [==============================] - 0s 4ms/step - loss: 0.6640 - accuracy: 0.7480 - val_loss: 0.7702 - val_accuracy: 0.6098\n",
      "Epoch 290/350\n",
      "25/25 [==============================] - 0s 4ms/step - loss: 0.7352 - accuracy: 0.6667 - val_loss: 0.7702 - val_accuracy: 0.6341\n",
      "Epoch 291/350\n",
      "25/25 [==============================] - 0s 3ms/step - loss: 0.7664 - accuracy: 0.7073 - val_loss: 0.7421 - val_accuracy: 0.6585\n",
      "Epoch 292/350\n",
      "25/25 [==============================] - 0s 3ms/step - loss: 0.7729 - accuracy: 0.6911 - val_loss: 0.7237 - val_accuracy: 0.6341\n",
      "Epoch 293/350\n",
      "25/25 [==============================] - 0s 3ms/step - loss: 0.7760 - accuracy: 0.6748 - val_loss: 0.7317 - val_accuracy: 0.6829\n",
      "Epoch 294/350\n",
      "25/25 [==============================] - 0s 3ms/step - loss: 0.7700 - accuracy: 0.6423 - val_loss: 0.7653 - val_accuracy: 0.6585\n",
      "Epoch 295/350\n",
      "25/25 [==============================] - 0s 3ms/step - loss: 0.7177 - accuracy: 0.7154 - val_loss: 0.8173 - val_accuracy: 0.6341\n",
      "Epoch 296/350\n",
      "25/25 [==============================] - 0s 4ms/step - loss: 0.6968 - accuracy: 0.6748 - val_loss: 0.7277 - val_accuracy: 0.6341\n",
      "Epoch 297/350\n",
      "25/25 [==============================] - 0s 4ms/step - loss: 0.7785 - accuracy: 0.7236 - val_loss: 0.7290 - val_accuracy: 0.6585\n",
      "Epoch 298/350\n",
      "25/25 [==============================] - 0s 4ms/step - loss: 0.7648 - accuracy: 0.6423 - val_loss: 0.7946 - val_accuracy: 0.6098\n",
      "Epoch 299/350\n",
      "25/25 [==============================] - 0s 4ms/step - loss: 0.7314 - accuracy: 0.6829 - val_loss: 0.7443 - val_accuracy: 0.6585\n",
      "Epoch 300/350\n",
      "25/25 [==============================] - 0s 4ms/step - loss: 0.6960 - accuracy: 0.7236 - val_loss: 0.7643 - val_accuracy: 0.6341\n",
      "Epoch 301/350\n",
      "25/25 [==============================] - 0s 4ms/step - loss: 0.7113 - accuracy: 0.6911 - val_loss: 0.7513 - val_accuracy: 0.6585\n",
      "Epoch 302/350\n",
      "25/25 [==============================] - 0s 4ms/step - loss: 0.8666 - accuracy: 0.6179 - val_loss: 0.8140 - val_accuracy: 0.6341\n",
      "Epoch 303/350\n",
      "25/25 [==============================] - 0s 4ms/step - loss: 0.9231 - accuracy: 0.6423 - val_loss: 0.7475 - val_accuracy: 0.7073\n",
      "Epoch 304/350\n",
      "25/25 [==============================] - 0s 4ms/step - loss: 0.7006 - accuracy: 0.7398 - val_loss: 0.7548 - val_accuracy: 0.6585\n",
      "Epoch 305/350\n",
      "25/25 [==============================] - 0s 4ms/step - loss: 0.8072 - accuracy: 0.6667 - val_loss: 0.8059 - val_accuracy: 0.6098\n",
      "Epoch 306/350\n",
      "25/25 [==============================] - 0s 3ms/step - loss: 0.7894 - accuracy: 0.6098 - val_loss: 0.7358 - val_accuracy: 0.6829\n",
      "Epoch 307/350\n",
      "25/25 [==============================] - 0s 3ms/step - loss: 0.7033 - accuracy: 0.7480 - val_loss: 0.7775 - val_accuracy: 0.6585\n",
      "Epoch 308/350\n",
      "25/25 [==============================] - 0s 4ms/step - loss: 0.8528 - accuracy: 0.6179 - val_loss: 0.7374 - val_accuracy: 0.6585\n",
      "Epoch 309/350\n",
      "25/25 [==============================] - 0s 4ms/step - loss: 0.7374 - accuracy: 0.6829 - val_loss: 0.7390 - val_accuracy: 0.6341\n",
      "Epoch 310/350\n",
      "25/25 [==============================] - 0s 4ms/step - loss: 0.7334 - accuracy: 0.6911 - val_loss: 0.7354 - val_accuracy: 0.6585\n",
      "Epoch 311/350\n",
      "25/25 [==============================] - 0s 4ms/step - loss: 0.7279 - accuracy: 0.6748 - val_loss: 0.7386 - val_accuracy: 0.6098\n",
      "Epoch 312/350\n",
      "25/25 [==============================] - 0s 4ms/step - loss: 0.7591 - accuracy: 0.6829 - val_loss: 0.7465 - val_accuracy: 0.6829\n",
      "Epoch 313/350\n",
      "25/25 [==============================] - 0s 4ms/step - loss: 0.7603 - accuracy: 0.7398 - val_loss: 0.7118 - val_accuracy: 0.6585\n",
      "Epoch 314/350\n",
      "25/25 [==============================] - 0s 4ms/step - loss: 0.6569 - accuracy: 0.7154 - val_loss: 0.7520 - val_accuracy: 0.6585\n",
      "Epoch 315/350\n",
      "25/25 [==============================] - 0s 4ms/step - loss: 0.7193 - accuracy: 0.6911 - val_loss: 0.7660 - val_accuracy: 0.6341\n",
      "Epoch 316/350\n",
      "25/25 [==============================] - 0s 4ms/step - loss: 0.7116 - accuracy: 0.6829 - val_loss: 0.7680 - val_accuracy: 0.6341\n",
      "Epoch 317/350\n",
      "25/25 [==============================] - 0s 3ms/step - loss: 0.6491 - accuracy: 0.7073 - val_loss: 0.7409 - val_accuracy: 0.6341\n",
      "Epoch 318/350\n",
      "25/25 [==============================] - 0s 3ms/step - loss: 0.7208 - accuracy: 0.6992 - val_loss: 0.7048 - val_accuracy: 0.6585\n",
      "Epoch 319/350\n",
      "25/25 [==============================] - 0s 4ms/step - loss: 0.7060 - accuracy: 0.6829 - val_loss: 0.7479 - val_accuracy: 0.6341\n",
      "Epoch 320/350\n",
      "25/25 [==============================] - 0s 3ms/step - loss: 0.7241 - accuracy: 0.6423 - val_loss: 0.7197 - val_accuracy: 0.6829\n",
      "Epoch 321/350\n",
      "25/25 [==============================] - 0s 4ms/step - loss: 0.7993 - accuracy: 0.6179 - val_loss: 0.7810 - val_accuracy: 0.5854\n",
      "Epoch 322/350\n",
      "25/25 [==============================] - 0s 3ms/step - loss: 0.7293 - accuracy: 0.6829 - val_loss: 0.7373 - val_accuracy: 0.6341\n",
      "Epoch 323/350\n",
      "25/25 [==============================] - 0s 3ms/step - loss: 0.6738 - accuracy: 0.7480 - val_loss: 0.7545 - val_accuracy: 0.6585\n",
      "Epoch 324/350\n",
      "25/25 [==============================] - 0s 4ms/step - loss: 0.6638 - accuracy: 0.7317 - val_loss: 0.7374 - val_accuracy: 0.6341\n",
      "Epoch 325/350\n",
      "25/25 [==============================] - 0s 3ms/step - loss: 0.7370 - accuracy: 0.7154 - val_loss: 0.7226 - val_accuracy: 0.6585\n",
      "Epoch 326/350\n",
      "25/25 [==============================] - 0s 3ms/step - loss: 0.6488 - accuracy: 0.7480 - val_loss: 0.7534 - val_accuracy: 0.6585\n",
      "Epoch 327/350\n",
      "25/25 [==============================] - 0s 3ms/step - loss: 0.7376 - accuracy: 0.6992 - val_loss: 0.7444 - val_accuracy: 0.6341\n",
      "Epoch 328/350\n",
      "25/25 [==============================] - 0s 3ms/step - loss: 0.7142 - accuracy: 0.6829 - val_loss: 0.7286 - val_accuracy: 0.6341\n",
      "Epoch 329/350\n",
      "25/25 [==============================] - 0s 3ms/step - loss: 0.7678 - accuracy: 0.6748 - val_loss: 0.7849 - val_accuracy: 0.6098\n",
      "Epoch 330/350\n",
      "25/25 [==============================] - 0s 4ms/step - loss: 0.7076 - accuracy: 0.7236 - val_loss: 0.7163 - val_accuracy: 0.6585\n",
      "Epoch 331/350\n",
      "25/25 [==============================] - 0s 3ms/step - loss: 0.6362 - accuracy: 0.7317 - val_loss: 0.7319 - val_accuracy: 0.6829\n",
      "Epoch 332/350\n",
      "25/25 [==============================] - 0s 3ms/step - loss: 0.7351 - accuracy: 0.6911 - val_loss: 0.7531 - val_accuracy: 0.6585\n",
      "Epoch 333/350\n",
      "25/25 [==============================] - 0s 4ms/step - loss: 0.8035 - accuracy: 0.6829 - val_loss: 0.7227 - val_accuracy: 0.6829\n",
      "Epoch 334/350\n",
      "25/25 [==============================] - 0s 5ms/step - loss: 0.7293 - accuracy: 0.6829 - val_loss: 0.7436 - val_accuracy: 0.6585\n",
      "Epoch 335/350\n",
      "25/25 [==============================] - 0s 5ms/step - loss: 0.7132 - accuracy: 0.7073 - val_loss: 0.7174 - val_accuracy: 0.6585\n",
      "Epoch 336/350\n",
      "25/25 [==============================] - 0s 4ms/step - loss: 0.7130 - accuracy: 0.6911 - val_loss: 0.7238 - val_accuracy: 0.6585\n",
      "Epoch 337/350\n",
      "25/25 [==============================] - 0s 4ms/step - loss: 0.6949 - accuracy: 0.7073 - val_loss: 0.7223 - val_accuracy: 0.6585\n",
      "Epoch 338/350\n",
      "25/25 [==============================] - 0s 4ms/step - loss: 0.7209 - accuracy: 0.7317 - val_loss: 0.6963 - val_accuracy: 0.6585\n",
      "Epoch 339/350\n",
      "25/25 [==============================] - 0s 4ms/step - loss: 0.6584 - accuracy: 0.7317 - val_loss: 0.7352 - val_accuracy: 0.6341\n",
      "Epoch 340/350\n",
      "25/25 [==============================] - 0s 4ms/step - loss: 0.6422 - accuracy: 0.6911 - val_loss: 0.7453 - val_accuracy: 0.6341\n",
      "Epoch 341/350\n",
      "25/25 [==============================] - 0s 4ms/step - loss: 0.6991 - accuracy: 0.7398 - val_loss: 0.7595 - val_accuracy: 0.6341\n",
      "Epoch 342/350\n",
      "25/25 [==============================] - 0s 4ms/step - loss: 0.6568 - accuracy: 0.6992 - val_loss: 0.7518 - val_accuracy: 0.6341\n",
      "Epoch 343/350\n",
      "25/25 [==============================] - 0s 3ms/step - loss: 0.6751 - accuracy: 0.7317 - val_loss: 0.7526 - val_accuracy: 0.6341\n",
      "Epoch 344/350\n",
      "25/25 [==============================] - 0s 4ms/step - loss: 0.7437 - accuracy: 0.6829 - val_loss: 0.7422 - val_accuracy: 0.6585\n",
      "Epoch 345/350\n",
      "25/25 [==============================] - 0s 3ms/step - loss: 0.6944 - accuracy: 0.7480 - val_loss: 0.7315 - val_accuracy: 0.6585\n",
      "Epoch 346/350\n",
      "25/25 [==============================] - 0s 4ms/step - loss: 0.6775 - accuracy: 0.7724 - val_loss: 0.7738 - val_accuracy: 0.6341\n",
      "Epoch 347/350\n",
      "25/25 [==============================] - 0s 4ms/step - loss: 0.7519 - accuracy: 0.6667 - val_loss: 0.7487 - val_accuracy: 0.6585\n",
      "Epoch 348/350\n",
      "25/25 [==============================] - 0s 4ms/step - loss: 0.6655 - accuracy: 0.7236 - val_loss: 0.7311 - val_accuracy: 0.6098\n",
      "Epoch 349/350\n",
      "25/25 [==============================] - 0s 3ms/step - loss: 0.6892 - accuracy: 0.7236 - val_loss: 0.7292 - val_accuracy: 0.6341\n",
      "Epoch 350/350\n",
      "25/25 [==============================] - 0s 3ms/step - loss: 0.7411 - accuracy: 0.7236 - val_loss: 0.7658 - val_accuracy: 0.6341\n"
     ]
    },
    {
     "data": {
      "application/vnd.plotly.v1+json": {
       "config": {
        "plotlyServerURL": "https://plot.ly"
       },
       "data": [
        {
         "hovertemplate": "Curvas de Pérdida=Training Loss<br>Epoch=%{x}<br>Binary Cross Entropy=%{y}<extra></extra>",
         "legendgroup": "Training Loss",
         "line": {
          "color": "#46039f",
          "dash": "solid"
         },
         "marker": {
          "symbol": "circle"
         },
         "mode": "lines",
         "name": "Training Loss",
         "orientation": "v",
         "showlegend": true,
         "type": "scatter",
         "x": [
          0,
          1,
          2,
          3,
          4,
          5,
          6,
          7,
          8,
          9,
          10,
          11,
          12,
          13,
          14,
          15,
          16,
          17,
          18,
          19,
          20,
          21,
          22,
          23,
          24,
          25,
          26,
          27,
          28,
          29,
          30,
          31,
          32,
          33,
          34,
          35,
          36,
          37,
          38,
          39,
          40,
          41,
          42,
          43,
          44,
          45,
          46,
          47,
          48,
          49,
          50,
          51,
          52,
          53,
          54,
          55,
          56,
          57,
          58,
          59,
          60,
          61,
          62,
          63,
          64,
          65,
          66,
          67,
          68,
          69,
          70,
          71,
          72,
          73,
          74,
          75,
          76,
          77,
          78,
          79,
          80,
          81,
          82,
          83,
          84,
          85,
          86,
          87,
          88,
          89,
          90,
          91,
          92,
          93,
          94,
          95,
          96,
          97,
          98,
          99,
          100,
          101,
          102,
          103,
          104,
          105,
          106,
          107,
          108,
          109,
          110,
          111,
          112,
          113,
          114,
          115,
          116,
          117,
          118,
          119,
          120,
          121,
          122,
          123,
          124,
          125,
          126,
          127,
          128,
          129,
          130,
          131,
          132,
          133,
          134,
          135,
          136,
          137,
          138,
          139,
          140,
          141,
          142,
          143,
          144,
          145,
          146,
          147,
          148,
          149,
          150,
          151,
          152,
          153,
          154,
          155,
          156,
          157,
          158,
          159,
          160,
          161,
          162,
          163,
          164,
          165,
          166,
          167,
          168,
          169,
          170,
          171,
          172,
          173,
          174,
          175,
          176,
          177,
          178,
          179,
          180,
          181,
          182,
          183,
          184,
          185,
          186,
          187,
          188,
          189,
          190,
          191,
          192,
          193,
          194,
          195,
          196,
          197,
          198,
          199,
          200,
          201,
          202,
          203,
          204,
          205,
          206,
          207,
          208,
          209,
          210,
          211,
          212,
          213,
          214,
          215,
          216,
          217,
          218,
          219,
          220,
          221,
          222,
          223,
          224,
          225,
          226,
          227,
          228,
          229,
          230,
          231,
          232,
          233,
          234,
          235,
          236,
          237,
          238,
          239,
          240,
          241,
          242,
          243,
          244,
          245,
          246,
          247,
          248,
          249,
          250,
          251,
          252,
          253,
          254,
          255,
          256,
          257,
          258,
          259,
          260,
          261,
          262,
          263,
          264,
          265,
          266,
          267,
          268,
          269,
          270,
          271,
          272,
          273,
          274,
          275,
          276,
          277,
          278,
          279,
          280,
          281,
          282,
          283,
          284,
          285,
          286,
          287,
          288,
          289,
          290,
          291,
          292,
          293,
          294,
          295,
          296,
          297,
          298,
          299,
          300,
          301,
          302,
          303,
          304,
          305,
          306,
          307,
          308,
          309,
          310,
          311,
          312,
          313,
          314,
          315,
          316,
          317,
          318,
          319,
          320,
          321,
          322,
          323,
          324,
          325,
          326,
          327,
          328,
          329,
          330,
          331,
          332,
          333,
          334,
          335,
          336,
          337,
          338,
          339,
          340,
          341,
          342,
          343,
          344,
          345,
          346,
          347,
          348,
          349
         ],
         "xaxis": "x",
         "y": [
          1.6150966882705688,
          1.605610966682434,
          1.5903266668319702,
          1.599951982498169,
          1.5809361934661865,
          1.575344443321228,
          1.5733586549758911,
          1.570281744003296,
          1.5586143732070923,
          1.56714928150177,
          1.5607938766479492,
          1.5718213319778442,
          1.553275227546692,
          1.5732860565185547,
          1.5708991289138794,
          1.5614598989486694,
          1.563910722732544,
          1.5551263093948364,
          1.5686984062194824,
          1.568647861480713,
          1.569949746131897,
          1.5665181875228882,
          1.5678333044052124,
          1.55919349193573,
          1.5617626905441284,
          1.565170168876648,
          1.566038966178894,
          1.5588865280151367,
          1.5600508451461792,
          1.567108154296875,
          1.5551904439926147,
          1.5423997640609741,
          1.543582558631897,
          1.5592116117477417,
          1.542608618736267,
          1.553667426109314,
          1.5593602657318115,
          1.5467458963394165,
          1.5539309978485107,
          1.5303326845169067,
          1.5363889932632446,
          1.53412926197052,
          1.5206395387649536,
          1.536468505859375,
          1.525795340538025,
          1.499525785446167,
          1.5111669301986694,
          1.4750674962997437,
          1.460762858390808,
          1.3940868377685547,
          1.3633989095687866,
          1.3691645860671997,
          1.3816306591033936,
          1.3234041929244995,
          1.2601701021194458,
          1.3028804063796997,
          1.2609184980392456,
          1.3004844188690186,
          1.2316433191299438,
          1.2798360586166382,
          1.2267818450927734,
          1.23211669921875,
          1.2134952545166016,
          1.2143375873565674,
          1.25848388671875,
          1.2334269285202026,
          1.2509944438934326,
          1.1919828653335571,
          1.2326298952102661,
          1.154561996459961,
          1.2010977268218994,
          1.2017717361450195,
          1.20045804977417,
          1.2161742448806763,
          1.200514316558838,
          1.1348873376846313,
          1.1665352582931519,
          1.1388440132141113,
          1.1546392440795898,
          1.1521093845367432,
          1.1220537424087524,
          1.0985161066055298,
          1.167604684829712,
          1.116478681564331,
          1.2212247848510742,
          1.139573335647583,
          1.085902214050293,
          1.056188941001892,
          1.0665538311004639,
          1.1228923797607422,
          1.066506266593933,
          1.0766990184783936,
          1.0016590356826782,
          1.0420976877212524,
          1.0657845735549927,
          1.045697569847107,
          1.1172027587890625,
          0.9965305328369141,
          1.0434174537658691,
          1.069217324256897,
          1.0975298881530762,
          1.0383127927780151,
          1.0025795698165894,
          1.0758482217788696,
          1.0564477443695068,
          0.9740094542503357,
          0.9685624241828918,
          0.9658722877502441,
          1.1020225286483765,
          0.9973873496055603,
          1.095577597618103,
          1.0531237125396729,
          0.9885680079460144,
          1.0178591012954712,
          0.974711000919342,
          0.9295791983604431,
          0.9817622303962708,
          0.9712148904800415,
          0.9969099164009094,
          1.0122463703155518,
          0.9192566871643066,
          0.972806453704834,
          0.9421370625495911,
          1.037863850593567,
          1.1379475593566895,
          1.018670916557312,
          0.9606459140777588,
          0.9153477549552917,
          0.9288824796676636,
          0.9047499895095825,
          0.9744124412536621,
          0.9144701361656189,
          0.9844609498977661,
          0.9802902340888977,
          0.8831843733787537,
          0.9520294070243835,
          0.8587862253189087,
          0.9284883141517639,
          0.9777646064758301,
          0.9202862977981567,
          1.020163655281067,
          0.9381923079490662,
          0.9639448523521423,
          0.8892498016357422,
          1.0563727617263794,
          0.8902295827865601,
          0.9415009021759033,
          0.858050525188446,
          0.8674961924552917,
          0.8690246939659119,
          0.9006606340408325,
          0.7880852222442627,
          0.8540136218070984,
          0.9049577116966248,
          0.8443603515625,
          0.8155286312103271,
          0.7805507779121399,
          0.8659754991531372,
          0.8323507308959961,
          0.8343309760093689,
          0.861544132232666,
          0.8581587672233582,
          0.9186663627624512,
          0.8694456815719604,
          0.8554805517196655,
          0.8154499530792236,
          0.821541428565979,
          0.7995909452438354,
          0.7248542308807373,
          0.8300713896751404,
          0.8628205060958862,
          0.843528151512146,
          0.8322539329528809,
          0.8033120036125183,
          0.807606041431427,
          0.8168251514434814,
          0.853410542011261,
          1.0113463401794434,
          0.8521283268928528,
          0.7889819741249084,
          0.8580995202064514,
          0.7977272868156433,
          0.87392258644104,
          0.7630524635314941,
          0.8029325604438782,
          0.8204687833786011,
          0.8181535601615906,
          0.8491827249526978,
          0.7393612265586853,
          0.8279314041137695,
          0.734534502029419,
          0.8325225710868835,
          0.8075466752052307,
          0.80854731798172,
          0.6938180327415466,
          0.8463841080665588,
          0.8091130256652832,
          0.7951033711433411,
          0.8551655411720276,
          0.8291960954666138,
          0.7493462562561035,
          0.7243842482566833,
          0.7327312231063843,
          0.743349015712738,
          0.8023859858512878,
          0.8264340162277222,
          0.7498792409896851,
          0.8044124841690063,
          0.7629455924034119,
          0.7449011206626892,
          0.7620479464530945,
          0.8461735248565674,
          0.7739031910896301,
          0.7404323220252991,
          0.6971610188484192,
          0.8712024092674255,
          0.7988706827163696,
          0.7098899483680725,
          0.8263919353485107,
          0.7811208367347717,
          0.8447117805480957,
          0.9437304735183716,
          0.8662859201431274,
          0.7608770132064819,
          0.6863150000572205,
          0.8083484768867493,
          0.7063676118850708,
          0.7287550568580627,
          0.7737123966217041,
          0.735457718372345,
          0.7147658467292786,
          0.6945770978927612,
          0.7360362410545349,
          0.7166396379470825,
          0.7685969471931458,
          0.7471067309379578,
          0.8005102872848511,
          0.7025716304779053,
          0.834835410118103,
          0.744786262512207,
          0.7279362082481384,
          0.78080815076828,
          0.7875512838363647,
          0.736096203327179,
          0.6998793482780457,
          0.7054404020309448,
          0.6972083449363708,
          1.4036579132080078,
          1.3653672933578491,
          1.0503532886505127,
          0.7568462491035461,
          0.8281770348548889,
          0.8134252429008484,
          0.8453540802001953,
          0.7804484963417053,
          0.8063303232192993,
          0.757238507270813,
          0.7112866640090942,
          0.7810782790184021,
          0.7938494086265564,
          0.7129828333854675,
          0.7022659778594971,
          0.7169416546821594,
          0.7651747465133667,
          0.700883150100708,
          0.6972239017486572,
          0.7441704273223877,
          0.7644610404968262,
          0.8119378685951233,
          0.7152169346809387,
          0.7159428000450134,
          0.75895094871521,
          0.7681716084480286,
          0.7322480082511902,
          0.7145814895629883,
          0.7702311873435974,
          0.7399942278862,
          0.7220423817634583,
          0.7419734001159668,
          0.8082177639007568,
          0.8100794553756714,
          0.8055523633956909,
          0.7009908556938171,
          0.718687117099762,
          0.6741232872009277,
          0.6948751211166382,
          0.6549782156944275,
          0.826439619064331,
          0.6639794111251831,
          0.7351725101470947,
          0.7663842439651489,
          0.772930383682251,
          0.7759645581245422,
          0.7700405716896057,
          0.7177359461784363,
          0.6968280673027039,
          0.7785477638244629,
          0.7648183107376099,
          0.7313981056213379,
          0.6959887146949768,
          0.7112547159194946,
          0.8666155934333801,
          0.9230640530586243,
          0.7005815505981445,
          0.8071792125701904,
          0.789445161819458,
          0.7033445239067078,
          0.8527669310569763,
          0.7373785972595215,
          0.7334273457527161,
          0.7278507947921753,
          0.7591186761856079,
          0.760317325592041,
          0.6569085717201233,
          0.719276487827301,
          0.711645781993866,
          0.6490843892097473,
          0.7207996249198914,
          0.7059603333473206,
          0.7241489887237549,
          0.7993423938751221,
          0.7293362021446228,
          0.6738024353981018,
          0.663765549659729,
          0.7370104193687439,
          0.6488288044929504,
          0.7376335859298706,
          0.714189350605011,
          0.7677504420280457,
          0.7076421976089478,
          0.6361587047576904,
          0.7350890636444092,
          0.8034749031066895,
          0.7293063402175903,
          0.7132167816162109,
          0.7130311727523804,
          0.6949484944343567,
          0.7209300994873047,
          0.6584051251411438,
          0.6421770453453064,
          0.6990680694580078,
          0.6568487882614136,
          0.6750951409339905,
          0.7436850070953369,
          0.6944159269332886,
          0.6775259375572205,
          0.7518526315689087,
          0.6655316948890686,
          0.6892098188400269,
          0.7411404252052307
         ],
         "yaxis": "y"
        },
        {
         "hovertemplate": "Curvas de Pérdida=Validation Loss<br>Epoch=%{x}<br>Binary Cross Entropy=%{y}<extra></extra>",
         "legendgroup": "Validation Loss",
         "line": {
          "color": "#fb9f3a",
          "dash": "solid"
         },
         "marker": {
          "symbol": "circle"
         },
         "mode": "lines",
         "name": "Validation Loss",
         "orientation": "v",
         "showlegend": true,
         "type": "scatter",
         "x": [
          0,
          1,
          2,
          3,
          4,
          5,
          6,
          7,
          8,
          9,
          10,
          11,
          12,
          13,
          14,
          15,
          16,
          17,
          18,
          19,
          20,
          21,
          22,
          23,
          24,
          25,
          26,
          27,
          28,
          29,
          30,
          31,
          32,
          33,
          34,
          35,
          36,
          37,
          38,
          39,
          40,
          41,
          42,
          43,
          44,
          45,
          46,
          47,
          48,
          49,
          50,
          51,
          52,
          53,
          54,
          55,
          56,
          57,
          58,
          59,
          60,
          61,
          62,
          63,
          64,
          65,
          66,
          67,
          68,
          69,
          70,
          71,
          72,
          73,
          74,
          75,
          76,
          77,
          78,
          79,
          80,
          81,
          82,
          83,
          84,
          85,
          86,
          87,
          88,
          89,
          90,
          91,
          92,
          93,
          94,
          95,
          96,
          97,
          98,
          99,
          100,
          101,
          102,
          103,
          104,
          105,
          106,
          107,
          108,
          109,
          110,
          111,
          112,
          113,
          114,
          115,
          116,
          117,
          118,
          119,
          120,
          121,
          122,
          123,
          124,
          125,
          126,
          127,
          128,
          129,
          130,
          131,
          132,
          133,
          134,
          135,
          136,
          137,
          138,
          139,
          140,
          141,
          142,
          143,
          144,
          145,
          146,
          147,
          148,
          149,
          150,
          151,
          152,
          153,
          154,
          155,
          156,
          157,
          158,
          159,
          160,
          161,
          162,
          163,
          164,
          165,
          166,
          167,
          168,
          169,
          170,
          171,
          172,
          173,
          174,
          175,
          176,
          177,
          178,
          179,
          180,
          181,
          182,
          183,
          184,
          185,
          186,
          187,
          188,
          189,
          190,
          191,
          192,
          193,
          194,
          195,
          196,
          197,
          198,
          199,
          200,
          201,
          202,
          203,
          204,
          205,
          206,
          207,
          208,
          209,
          210,
          211,
          212,
          213,
          214,
          215,
          216,
          217,
          218,
          219,
          220,
          221,
          222,
          223,
          224,
          225,
          226,
          227,
          228,
          229,
          230,
          231,
          232,
          233,
          234,
          235,
          236,
          237,
          238,
          239,
          240,
          241,
          242,
          243,
          244,
          245,
          246,
          247,
          248,
          249,
          250,
          251,
          252,
          253,
          254,
          255,
          256,
          257,
          258,
          259,
          260,
          261,
          262,
          263,
          264,
          265,
          266,
          267,
          268,
          269,
          270,
          271,
          272,
          273,
          274,
          275,
          276,
          277,
          278,
          279,
          280,
          281,
          282,
          283,
          284,
          285,
          286,
          287,
          288,
          289,
          290,
          291,
          292,
          293,
          294,
          295,
          296,
          297,
          298,
          299,
          300,
          301,
          302,
          303,
          304,
          305,
          306,
          307,
          308,
          309,
          310,
          311,
          312,
          313,
          314,
          315,
          316,
          317,
          318,
          319,
          320,
          321,
          322,
          323,
          324,
          325,
          326,
          327,
          328,
          329,
          330,
          331,
          332,
          333,
          334,
          335,
          336,
          337,
          338,
          339,
          340,
          341,
          342,
          343,
          344,
          345,
          346,
          347,
          348,
          349
         ],
         "xaxis": "x",
         "y": [
          1.59921395778656,
          1.5978851318359375,
          1.5846918821334839,
          1.578346848487854,
          1.5838507413864136,
          1.5821008682250977,
          1.5777767896652222,
          1.5829405784606934,
          1.5802329778671265,
          1.565603256225586,
          1.5692658424377441,
          1.575034499168396,
          1.5727323293685913,
          1.5702464580535889,
          1.5737632513046265,
          1.569348931312561,
          1.5718822479248047,
          1.5694622993469238,
          1.5661784410476685,
          1.564705491065979,
          1.5691653490066528,
          1.5657873153686523,
          1.563459873199463,
          1.5613757371902466,
          1.5584198236465454,
          1.5574395656585693,
          1.5559931993484497,
          1.5580103397369385,
          1.550506830215454,
          1.554750919342041,
          1.5485897064208984,
          1.5499398708343506,
          1.5493097305297852,
          1.563486933708191,
          1.5538209676742554,
          1.54642653465271,
          1.5483641624450684,
          1.5400290489196777,
          1.5457106828689575,
          1.5366036891937256,
          1.529448390007019,
          1.52681565284729,
          1.5334662199020386,
          1.5278047323226929,
          1.5047876834869385,
          1.4933778047561646,
          1.4817571640014648,
          1.4600107669830322,
          1.4938191175460815,
          1.3764557838439941,
          1.344115972518921,
          1.312377691268921,
          1.3097456693649292,
          1.2987706661224365,
          1.2815096378326416,
          1.2710696458816528,
          1.2384507656097412,
          1.2355448007583618,
          1.2207138538360596,
          1.2870116233825684,
          1.2206227779388428,
          1.2003048658370972,
          1.2855488061904907,
          1.213433027267456,
          1.239625096321106,
          1.2046326398849487,
          1.1535769701004028,
          1.1425198316574097,
          1.1531281471252441,
          1.1233102083206177,
          1.1148324012756348,
          1.1966614723205566,
          1.2325019836425781,
          1.153547763824463,
          1.1428093910217285,
          1.1448185443878174,
          1.093808650970459,
          1.103061318397522,
          1.1880240440368652,
          1.0761786699295044,
          1.0480906963348389,
          1.0385946035385132,
          1.170790672302246,
          1.044338583946228,
          1.0892925262451172,
          1.0750473737716675,
          1.058339238166809,
          1.0578222274780273,
          1.1270971298217773,
          1.059122085571289,
          1.0848227739334106,
          1.0530273914337158,
          1.0156879425048828,
          1.077783465385437,
          1.0037603378295898,
          1.014525055885315,
          1.0038844347000122,
          1.0676885843276978,
          1.013161301612854,
          1.0310306549072266,
          0.9867878556251526,
          0.9853202104568481,
          1.0240341424942017,
          0.9710386395454407,
          1.0046790838241577,
          1.0028860569000244,
          0.9860406517982483,
          0.9962159395217896,
          1.0430009365081787,
          0.9740950465202332,
          1.0967459678649902,
          0.980015754699707,
          1.0158257484436035,
          0.9613807201385498,
          0.9527075886726379,
          0.9711010456085205,
          0.940424919128418,
          0.9396606087684631,
          0.9531053900718689,
          0.9167503714561462,
          0.96408611536026,
          0.9473769664764404,
          1.0170316696166992,
          0.9724372029304504,
          0.9913140535354614,
          0.9523914456367493,
          0.914522111415863,
          0.9635029435157776,
          0.8970265984535217,
          0.9261038899421692,
          1.0771491527557373,
          0.9063238501548767,
          0.9114667177200317,
          0.9484686255455017,
          0.8989015817642212,
          0.9062978029251099,
          0.9469574689865112,
          0.8885100483894348,
          1.0052547454833984,
          1.1246662139892578,
          1.0082762241363525,
          0.8558534979820251,
          0.8593308925628662,
          1.1483832597732544,
          0.8537896275520325,
          0.9153811931610107,
          0.9732455015182495,
          0.8948596715927124,
          0.8796446323394775,
          0.8636162281036377,
          0.8953934907913208,
          0.9031444787979126,
          0.831498384475708,
          0.8268372416496277,
          0.8165807127952576,
          0.8191196322441101,
          0.8690692782402039,
          0.8267385959625244,
          0.8234739303588867,
          0.7931462526321411,
          0.8043475151062012,
          0.9461736679077148,
          0.8804516792297363,
          0.9082142114639282,
          0.8486090898513794,
          0.8353219628334045,
          0.8427442312240601,
          0.8490943908691406,
          0.8691166043281555,
          0.8286392688751221,
          0.7743164896965027,
          0.8372772932052612,
          0.9377791881561279,
          0.8872965574264526,
          0.7944702506065369,
          0.8067055940628052,
          0.8057515025138855,
          0.7709143757820129,
          0.7885711193084717,
          0.9223749041557312,
          0.7697046995162964,
          0.8693156242370605,
          0.7946237921714783,
          0.8270421624183655,
          0.7923904061317444,
          0.7739405035972595,
          0.7964661121368408,
          0.7731158137321472,
          0.7771292328834534,
          0.7883424758911133,
          0.8644633293151855,
          0.8024925589561462,
          0.7457737922668457,
          0.7601261734962463,
          0.800664484500885,
          0.7848018407821655,
          0.7909737825393677,
          0.892619252204895,
          0.8762922286987305,
          0.7433146834373474,
          0.9192735552787781,
          0.8124215602874756,
          0.7687098383903503,
          0.7827934622764587,
          0.817043662071228,
          0.7694699168205261,
          0.851679801940918,
          0.7643994092941284,
          0.7804116606712341,
          0.7811851501464844,
          0.7752021551132202,
          0.7597576379776001,
          0.8048929572105408,
          0.7952955365180969,
          0.81149822473526,
          0.8620285391807556,
          0.7463898062705994,
          0.8727098703384399,
          0.7479811906814575,
          0.9337576031684875,
          0.9203931093215942,
          0.8303254246711731,
          0.7779081463813782,
          0.8015164732933044,
          0.8360354900360107,
          0.7600601315498352,
          0.7658354640007019,
          0.7559018731117249,
          0.7645490169525146,
          0.7726640105247498,
          0.7809994220733643,
          0.7509338855743408,
          0.7694152593612671,
          0.76007479429245,
          0.701643705368042,
          0.7643761038780212,
          0.7773659229278564,
          0.7932180166244507,
          0.79160076379776,
          0.7409018278121948,
          0.7443316578865051,
          0.7408275008201599,
          0.8311767578125,
          0.7656859159469604,
          0.7793194055557251,
          0.787453830242157,
          0.7243074178695679,
          1.2757933139801025,
          1.151982307434082,
          0.8959083557128906,
          0.9450525641441345,
          0.8229399919509888,
          0.8552029132843018,
          0.7470943927764893,
          0.761579692363739,
          0.754240870475769,
          0.7462700605392456,
          0.7714197039604187,
          0.8261966109275818,
          0.7986879348754883,
          0.7745591402053833,
          0.7599731683731079,
          0.8096333146095276,
          0.7425963878631592,
          0.7546804547309875,
          0.7642913460731506,
          0.7623531818389893,
          0.7677278518676758,
          0.7360535264015198,
          0.7656562328338623,
          0.7311135530471802,
          0.7278261780738831,
          0.7549007534980774,
          0.7737812399864197,
          0.7399249076843262,
          0.7670844197273254,
          0.8207289576530457,
          0.8210945129394531,
          0.7377057671546936,
          0.7351565361022949,
          0.7252410054206848,
          0.7560244202613831,
          0.7713698148727417,
          0.7464504241943359,
          0.7344963550567627,
          0.7433183193206787,
          0.745696485042572,
          0.714561939239502,
          0.7701529264450073,
          0.77018141746521,
          0.74208003282547,
          0.7237206101417542,
          0.7317482233047485,
          0.765349805355072,
          0.8172807693481445,
          0.7276901602745056,
          0.7290228605270386,
          0.7946236729621887,
          0.7443459033966064,
          0.764319121837616,
          0.7512998580932617,
          0.8140144348144531,
          0.7475179433822632,
          0.7548021674156189,
          0.8058859705924988,
          0.7358497381210327,
          0.7774636149406433,
          0.7374147176742554,
          0.7390090227127075,
          0.735369086265564,
          0.7385954856872559,
          0.746476411819458,
          0.7117549180984497,
          0.7520337104797363,
          0.7660326957702637,
          0.7680180072784424,
          0.7409306764602661,
          0.7047908306121826,
          0.7478548288345337,
          0.7196798920631409,
          0.7809998989105225,
          0.7372665405273438,
          0.7544501423835754,
          0.7374311685562134,
          0.7225997447967529,
          0.753359854221344,
          0.7444106340408325,
          0.7285924553871155,
          0.7849162220954895,
          0.7163187265396118,
          0.7318598628044128,
          0.7530723214149475,
          0.7226987481117249,
          0.7436272501945496,
          0.7174444794654846,
          0.7237972021102905,
          0.722265362739563,
          0.6963334679603577,
          0.7352040410041809,
          0.745304524898529,
          0.7594563364982605,
          0.7518016695976257,
          0.7525904178619385,
          0.7422083020210266,
          0.7314748167991638,
          0.7738432288169861,
          0.7487000823020935,
          0.7310791611671448,
          0.729166567325592,
          0.7658486366271973
         ],
         "yaxis": "y"
        }
       ],
       "layout": {
        "legend": {
         "title": {
          "text": "Curvas de Pérdida"
         },
         "tracegroupgap": 0
        },
        "template": {
         "data": {
          "bar": [
           {
            "error_x": {
             "color": "#2a3f5f"
            },
            "error_y": {
             "color": "#2a3f5f"
            },
            "marker": {
             "line": {
              "color": "white",
              "width": 0.5
             },
             "pattern": {
              "fillmode": "overlay",
              "size": 10,
              "solidity": 0.2
             }
            },
            "type": "bar"
           }
          ],
          "barpolar": [
           {
            "marker": {
             "line": {
              "color": "white",
              "width": 0.5
             },
             "pattern": {
              "fillmode": "overlay",
              "size": 10,
              "solidity": 0.2
             }
            },
            "type": "barpolar"
           }
          ],
          "carpet": [
           {
            "aaxis": {
             "endlinecolor": "#2a3f5f",
             "gridcolor": "#C8D4E3",
             "linecolor": "#C8D4E3",
             "minorgridcolor": "#C8D4E3",
             "startlinecolor": "#2a3f5f"
            },
            "baxis": {
             "endlinecolor": "#2a3f5f",
             "gridcolor": "#C8D4E3",
             "linecolor": "#C8D4E3",
             "minorgridcolor": "#C8D4E3",
             "startlinecolor": "#2a3f5f"
            },
            "type": "carpet"
           }
          ],
          "choropleth": [
           {
            "colorbar": {
             "outlinewidth": 0,
             "ticks": ""
            },
            "type": "choropleth"
           }
          ],
          "contour": [
           {
            "colorbar": {
             "outlinewidth": 0,
             "ticks": ""
            },
            "colorscale": [
             [
              0,
              "#0d0887"
             ],
             [
              0.1111111111111111,
              "#46039f"
             ],
             [
              0.2222222222222222,
              "#7201a8"
             ],
             [
              0.3333333333333333,
              "#9c179e"
             ],
             [
              0.4444444444444444,
              "#bd3786"
             ],
             [
              0.5555555555555556,
              "#d8576b"
             ],
             [
              0.6666666666666666,
              "#ed7953"
             ],
             [
              0.7777777777777778,
              "#fb9f3a"
             ],
             [
              0.8888888888888888,
              "#fdca26"
             ],
             [
              1,
              "#f0f921"
             ]
            ],
            "type": "contour"
           }
          ],
          "contourcarpet": [
           {
            "colorbar": {
             "outlinewidth": 0,
             "ticks": ""
            },
            "type": "contourcarpet"
           }
          ],
          "heatmap": [
           {
            "colorbar": {
             "outlinewidth": 0,
             "ticks": ""
            },
            "colorscale": [
             [
              0,
              "#0d0887"
             ],
             [
              0.1111111111111111,
              "#46039f"
             ],
             [
              0.2222222222222222,
              "#7201a8"
             ],
             [
              0.3333333333333333,
              "#9c179e"
             ],
             [
              0.4444444444444444,
              "#bd3786"
             ],
             [
              0.5555555555555556,
              "#d8576b"
             ],
             [
              0.6666666666666666,
              "#ed7953"
             ],
             [
              0.7777777777777778,
              "#fb9f3a"
             ],
             [
              0.8888888888888888,
              "#fdca26"
             ],
             [
              1,
              "#f0f921"
             ]
            ],
            "type": "heatmap"
           }
          ],
          "heatmapgl": [
           {
            "colorbar": {
             "outlinewidth": 0,
             "ticks": ""
            },
            "colorscale": [
             [
              0,
              "#0d0887"
             ],
             [
              0.1111111111111111,
              "#46039f"
             ],
             [
              0.2222222222222222,
              "#7201a8"
             ],
             [
              0.3333333333333333,
              "#9c179e"
             ],
             [
              0.4444444444444444,
              "#bd3786"
             ],
             [
              0.5555555555555556,
              "#d8576b"
             ],
             [
              0.6666666666666666,
              "#ed7953"
             ],
             [
              0.7777777777777778,
              "#fb9f3a"
             ],
             [
              0.8888888888888888,
              "#fdca26"
             ],
             [
              1,
              "#f0f921"
             ]
            ],
            "type": "heatmapgl"
           }
          ],
          "histogram": [
           {
            "marker": {
             "pattern": {
              "fillmode": "overlay",
              "size": 10,
              "solidity": 0.2
             }
            },
            "type": "histogram"
           }
          ],
          "histogram2d": [
           {
            "colorbar": {
             "outlinewidth": 0,
             "ticks": ""
            },
            "colorscale": [
             [
              0,
              "#0d0887"
             ],
             [
              0.1111111111111111,
              "#46039f"
             ],
             [
              0.2222222222222222,
              "#7201a8"
             ],
             [
              0.3333333333333333,
              "#9c179e"
             ],
             [
              0.4444444444444444,
              "#bd3786"
             ],
             [
              0.5555555555555556,
              "#d8576b"
             ],
             [
              0.6666666666666666,
              "#ed7953"
             ],
             [
              0.7777777777777778,
              "#fb9f3a"
             ],
             [
              0.8888888888888888,
              "#fdca26"
             ],
             [
              1,
              "#f0f921"
             ]
            ],
            "type": "histogram2d"
           }
          ],
          "histogram2dcontour": [
           {
            "colorbar": {
             "outlinewidth": 0,
             "ticks": ""
            },
            "colorscale": [
             [
              0,
              "#0d0887"
             ],
             [
              0.1111111111111111,
              "#46039f"
             ],
             [
              0.2222222222222222,
              "#7201a8"
             ],
             [
              0.3333333333333333,
              "#9c179e"
             ],
             [
              0.4444444444444444,
              "#bd3786"
             ],
             [
              0.5555555555555556,
              "#d8576b"
             ],
             [
              0.6666666666666666,
              "#ed7953"
             ],
             [
              0.7777777777777778,
              "#fb9f3a"
             ],
             [
              0.8888888888888888,
              "#fdca26"
             ],
             [
              1,
              "#f0f921"
             ]
            ],
            "type": "histogram2dcontour"
           }
          ],
          "mesh3d": [
           {
            "colorbar": {
             "outlinewidth": 0,
             "ticks": ""
            },
            "type": "mesh3d"
           }
          ],
          "parcoords": [
           {
            "line": {
             "colorbar": {
              "outlinewidth": 0,
              "ticks": ""
             }
            },
            "type": "parcoords"
           }
          ],
          "pie": [
           {
            "automargin": true,
            "type": "pie"
           }
          ],
          "scatter": [
           {
            "fillpattern": {
             "fillmode": "overlay",
             "size": 10,
             "solidity": 0.2
            },
            "type": "scatter"
           }
          ],
          "scatter3d": [
           {
            "line": {
             "colorbar": {
              "outlinewidth": 0,
              "ticks": ""
             }
            },
            "marker": {
             "colorbar": {
              "outlinewidth": 0,
              "ticks": ""
             }
            },
            "type": "scatter3d"
           }
          ],
          "scattercarpet": [
           {
            "marker": {
             "colorbar": {
              "outlinewidth": 0,
              "ticks": ""
             }
            },
            "type": "scattercarpet"
           }
          ],
          "scattergeo": [
           {
            "marker": {
             "colorbar": {
              "outlinewidth": 0,
              "ticks": ""
             }
            },
            "type": "scattergeo"
           }
          ],
          "scattergl": [
           {
            "marker": {
             "colorbar": {
              "outlinewidth": 0,
              "ticks": ""
             }
            },
            "type": "scattergl"
           }
          ],
          "scattermapbox": [
           {
            "marker": {
             "colorbar": {
              "outlinewidth": 0,
              "ticks": ""
             }
            },
            "type": "scattermapbox"
           }
          ],
          "scatterpolar": [
           {
            "marker": {
             "colorbar": {
              "outlinewidth": 0,
              "ticks": ""
             }
            },
            "type": "scatterpolar"
           }
          ],
          "scatterpolargl": [
           {
            "marker": {
             "colorbar": {
              "outlinewidth": 0,
              "ticks": ""
             }
            },
            "type": "scatterpolargl"
           }
          ],
          "scatterternary": [
           {
            "marker": {
             "colorbar": {
              "outlinewidth": 0,
              "ticks": ""
             }
            },
            "type": "scatterternary"
           }
          ],
          "surface": [
           {
            "colorbar": {
             "outlinewidth": 0,
             "ticks": ""
            },
            "colorscale": [
             [
              0,
              "#0d0887"
             ],
             [
              0.1111111111111111,
              "#46039f"
             ],
             [
              0.2222222222222222,
              "#7201a8"
             ],
             [
              0.3333333333333333,
              "#9c179e"
             ],
             [
              0.4444444444444444,
              "#bd3786"
             ],
             [
              0.5555555555555556,
              "#d8576b"
             ],
             [
              0.6666666666666666,
              "#ed7953"
             ],
             [
              0.7777777777777778,
              "#fb9f3a"
             ],
             [
              0.8888888888888888,
              "#fdca26"
             ],
             [
              1,
              "#f0f921"
             ]
            ],
            "type": "surface"
           }
          ],
          "table": [
           {
            "cells": {
             "fill": {
              "color": "#EBF0F8"
             },
             "line": {
              "color": "white"
             }
            },
            "header": {
             "fill": {
              "color": "#C8D4E3"
             },
             "line": {
              "color": "white"
             }
            },
            "type": "table"
           }
          ]
         },
         "layout": {
          "annotationdefaults": {
           "arrowcolor": "#2a3f5f",
           "arrowhead": 0,
           "arrowwidth": 1
          },
          "autotypenumbers": "strict",
          "coloraxis": {
           "colorbar": {
            "outlinewidth": 0,
            "ticks": ""
           }
          },
          "colorscale": {
           "diverging": [
            [
             0,
             "#8e0152"
            ],
            [
             0.1,
             "#c51b7d"
            ],
            [
             0.2,
             "#de77ae"
            ],
            [
             0.3,
             "#f1b6da"
            ],
            [
             0.4,
             "#fde0ef"
            ],
            [
             0.5,
             "#f7f7f7"
            ],
            [
             0.6,
             "#e6f5d0"
            ],
            [
             0.7,
             "#b8e186"
            ],
            [
             0.8,
             "#7fbc41"
            ],
            [
             0.9,
             "#4d9221"
            ],
            [
             1,
             "#276419"
            ]
           ],
           "sequential": [
            [
             0,
             "#0d0887"
            ],
            [
             0.1111111111111111,
             "#46039f"
            ],
            [
             0.2222222222222222,
             "#7201a8"
            ],
            [
             0.3333333333333333,
             "#9c179e"
            ],
            [
             0.4444444444444444,
             "#bd3786"
            ],
            [
             0.5555555555555556,
             "#d8576b"
            ],
            [
             0.6666666666666666,
             "#ed7953"
            ],
            [
             0.7777777777777778,
             "#fb9f3a"
            ],
            [
             0.8888888888888888,
             "#fdca26"
            ],
            [
             1,
             "#f0f921"
            ]
           ],
           "sequentialminus": [
            [
             0,
             "#0d0887"
            ],
            [
             0.1111111111111111,
             "#46039f"
            ],
            [
             0.2222222222222222,
             "#7201a8"
            ],
            [
             0.3333333333333333,
             "#9c179e"
            ],
            [
             0.4444444444444444,
             "#bd3786"
            ],
            [
             0.5555555555555556,
             "#d8576b"
            ],
            [
             0.6666666666666666,
             "#ed7953"
            ],
            [
             0.7777777777777778,
             "#fb9f3a"
            ],
            [
             0.8888888888888888,
             "#fdca26"
            ],
            [
             1,
             "#f0f921"
            ]
           ]
          },
          "colorway": [
           "#636efa",
           "#EF553B",
           "#00cc96",
           "#ab63fa",
           "#FFA15A",
           "#19d3f3",
           "#FF6692",
           "#B6E880",
           "#FF97FF",
           "#FECB52"
          ],
          "font": {
           "color": "#2a3f5f"
          },
          "geo": {
           "bgcolor": "white",
           "lakecolor": "white",
           "landcolor": "white",
           "showlakes": true,
           "showland": true,
           "subunitcolor": "#C8D4E3"
          },
          "hoverlabel": {
           "align": "left"
          },
          "hovermode": "closest",
          "mapbox": {
           "style": "light"
          },
          "paper_bgcolor": "white",
          "plot_bgcolor": "white",
          "polar": {
           "angularaxis": {
            "gridcolor": "#EBF0F8",
            "linecolor": "#EBF0F8",
            "ticks": ""
           },
           "bgcolor": "white",
           "radialaxis": {
            "gridcolor": "#EBF0F8",
            "linecolor": "#EBF0F8",
            "ticks": ""
           }
          },
          "scene": {
           "xaxis": {
            "backgroundcolor": "white",
            "gridcolor": "#DFE8F3",
            "gridwidth": 2,
            "linecolor": "#EBF0F8",
            "showbackground": true,
            "ticks": "",
            "zerolinecolor": "#EBF0F8"
           },
           "yaxis": {
            "backgroundcolor": "white",
            "gridcolor": "#DFE8F3",
            "gridwidth": 2,
            "linecolor": "#EBF0F8",
            "showbackground": true,
            "ticks": "",
            "zerolinecolor": "#EBF0F8"
           },
           "zaxis": {
            "backgroundcolor": "white",
            "gridcolor": "#DFE8F3",
            "gridwidth": 2,
            "linecolor": "#EBF0F8",
            "showbackground": true,
            "ticks": "",
            "zerolinecolor": "#EBF0F8"
           }
          },
          "shapedefaults": {
           "line": {
            "color": "#2a3f5f"
           }
          },
          "ternary": {
           "aaxis": {
            "gridcolor": "#DFE8F3",
            "linecolor": "#A2B1C6",
            "ticks": ""
           },
           "baxis": {
            "gridcolor": "#DFE8F3",
            "linecolor": "#A2B1C6",
            "ticks": ""
           },
           "bgcolor": "white",
           "caxis": {
            "gridcolor": "#DFE8F3",
            "linecolor": "#A2B1C6",
            "ticks": ""
           }
          },
          "title": {
           "x": 0.05
          },
          "xaxis": {
           "automargin": true,
           "gridcolor": "#EBF0F8",
           "linecolor": "#EBF0F8",
           "ticks": "",
           "title": {
            "standoff": 15
           },
           "zerolinecolor": "#EBF0F8",
           "zerolinewidth": 2
          },
          "yaxis": {
           "automargin": true,
           "gridcolor": "#EBF0F8",
           "linecolor": "#EBF0F8",
           "ticks": "",
           "title": {
            "standoff": 15
           },
           "zerolinecolor": "#EBF0F8",
           "zerolinewidth": 2
          }
         }
        },
        "title": {
         "text": "Gráficas de Pérdida de Entrenamiento y Evaluación"
        },
        "xaxis": {
         "anchor": "y",
         "domain": [
          0,
          1
         ],
         "title": {
          "text": "Epoch"
         }
        },
        "yaxis": {
         "anchor": "x",
         "domain": [
          0,
          1
         ],
         "title": {
          "text": "Binary Cross Entropy"
         }
        }
       }
      }
     },
     "metadata": {},
     "output_type": "display_data"
    },
    {
     "data": {
      "application/vnd.plotly.v1+json": {
       "config": {
        "plotlyServerURL": "https://plot.ly"
       },
       "data": [
        {
         "hovertemplate": "Curvas de Exactitud=Exactitud de Entrenamiento<br>Epoch=%{x}<br>Exactitud=%{y}<extra></extra>",
         "legendgroup": "Exactitud de Entrenamiento",
         "line": {
          "color": "#00cc96",
          "dash": "solid"
         },
         "marker": {
          "symbol": "circle"
         },
         "mode": "lines",
         "name": "Exactitud de Entrenamiento",
         "orientation": "v",
         "showlegend": true,
         "type": "scatter",
         "x": [
          0,
          1,
          2,
          3,
          4,
          5,
          6,
          7,
          8,
          9,
          10,
          11,
          12,
          13,
          14,
          15,
          16,
          17,
          18,
          19,
          20,
          21,
          22,
          23,
          24,
          25,
          26,
          27,
          28,
          29,
          30,
          31,
          32,
          33,
          34,
          35,
          36,
          37,
          38,
          39,
          40,
          41,
          42,
          43,
          44,
          45,
          46,
          47,
          48,
          49,
          50,
          51,
          52,
          53,
          54,
          55,
          56,
          57,
          58,
          59,
          60,
          61,
          62,
          63,
          64,
          65,
          66,
          67,
          68,
          69,
          70,
          71,
          72,
          73,
          74,
          75,
          76,
          77,
          78,
          79,
          80,
          81,
          82,
          83,
          84,
          85,
          86,
          87,
          88,
          89,
          90,
          91,
          92,
          93,
          94,
          95,
          96,
          97,
          98,
          99,
          100,
          101,
          102,
          103,
          104,
          105,
          106,
          107,
          108,
          109,
          110,
          111,
          112,
          113,
          114,
          115,
          116,
          117,
          118,
          119,
          120,
          121,
          122,
          123,
          124,
          125,
          126,
          127,
          128,
          129,
          130,
          131,
          132,
          133,
          134,
          135,
          136,
          137,
          138,
          139,
          140,
          141,
          142,
          143,
          144,
          145,
          146,
          147,
          148,
          149,
          150,
          151,
          152,
          153,
          154,
          155,
          156,
          157,
          158,
          159,
          160,
          161,
          162,
          163,
          164,
          165,
          166,
          167,
          168,
          169,
          170,
          171,
          172,
          173,
          174,
          175,
          176,
          177,
          178,
          179,
          180,
          181,
          182,
          183,
          184,
          185,
          186,
          187,
          188,
          189,
          190,
          191,
          192,
          193,
          194,
          195,
          196,
          197,
          198,
          199,
          200,
          201,
          202,
          203,
          204,
          205,
          206,
          207,
          208,
          209,
          210,
          211,
          212,
          213,
          214,
          215,
          216,
          217,
          218,
          219,
          220,
          221,
          222,
          223,
          224,
          225,
          226,
          227,
          228,
          229,
          230,
          231,
          232,
          233,
          234,
          235,
          236,
          237,
          238,
          239,
          240,
          241,
          242,
          243,
          244,
          245,
          246,
          247,
          248,
          249,
          250,
          251,
          252,
          253,
          254,
          255,
          256,
          257,
          258,
          259,
          260,
          261,
          262,
          263,
          264,
          265,
          266,
          267,
          268,
          269,
          270,
          271,
          272,
          273,
          274,
          275,
          276,
          277,
          278,
          279,
          280,
          281,
          282,
          283,
          284,
          285,
          286,
          287,
          288,
          289,
          290,
          291,
          292,
          293,
          294,
          295,
          296,
          297,
          298,
          299,
          300,
          301,
          302,
          303,
          304,
          305,
          306,
          307,
          308,
          309,
          310,
          311,
          312,
          313,
          314,
          315,
          316,
          317,
          318,
          319,
          320,
          321,
          322,
          323,
          324,
          325,
          326,
          327,
          328,
          329,
          330,
          331,
          332,
          333,
          334,
          335,
          336,
          337,
          338,
          339,
          340,
          341,
          342,
          343,
          344,
          345,
          346,
          347,
          348,
          349
         ],
         "xaxis": "x",
         "y": [
          0.21138212084770203,
          0.23577235639095306,
          0.20325203239917755,
          0.28455284237861633,
          0.27642276883125305,
          0.2601625919342041,
          0.28455284237861633,
          0.2601625919342041,
          0.28455284237861633,
          0.2926829159259796,
          0.2601625919342041,
          0.2601625919342041,
          0.31707316637039185,
          0.28455284237861633,
          0.2926829159259796,
          0.31707316637039185,
          0.31707316637039185,
          0.2926829159259796,
          0.28455284237861633,
          0.28455284237861633,
          0.28455284237861633,
          0.28455284237861633,
          0.27642276883125305,
          0.3008130192756653,
          0.26829269528388977,
          0.26829269528388977,
          0.30894309282302856,
          0.30894309282302856,
          0.28455284237861633,
          0.28455284237861633,
          0.3008130192756653,
          0.2926829159259796,
          0.30894309282302856,
          0.2926829159259796,
          0.3008130192756653,
          0.28455284237861633,
          0.2926829159259796,
          0.28455284237861633,
          0.28455284237861633,
          0.30894309282302856,
          0.28455284237861633,
          0.2926829159259796,
          0.30894309282302856,
          0.30894309282302856,
          0.2926829159259796,
          0.28455284237861633,
          0.30894309282302856,
          0.2601625919342041,
          0.3658536672592163,
          0.39024388790130615,
          0.3983739912509918,
          0.4065040647983551,
          0.3658536672592163,
          0.3739837408065796,
          0.39024388790130615,
          0.4390243887901306,
          0.3739837408065796,
          0.4065040647983551,
          0.4065040647983551,
          0.4471544623374939,
          0.4146341383457184,
          0.39024388790130615,
          0.4390243887901306,
          0.46341463923454285,
          0.4390243887901306,
          0.4471544623374939,
          0.43089431524276733,
          0.4471544623374939,
          0.4065040647983551,
          0.45528456568717957,
          0.5121951103210449,
          0.46341463923454285,
          0.42276424169540405,
          0.4390243887901306,
          0.4390243887901306,
          0.45528456568717957,
          0.45528456568717957,
          0.4796747863292694,
          0.47154471278190613,
          0.47154471278190613,
          0.4796747863292694,
          0.4878048896789551,
          0.5121951103210449,
          0.5040650367736816,
          0.45528456568717957,
          0.5121951103210449,
          0.4796747863292694,
          0.5447154641151428,
          0.5040650367736816,
          0.5040650367736816,
          0.5691056847572327,
          0.5853658318519592,
          0.5528455376625061,
          0.5121951103210449,
          0.5121951103210449,
          0.5609756112098694,
          0.4878048896789551,
          0.5447154641151428,
          0.5365853905677795,
          0.46341463923454285,
          0.47154471278190613,
          0.5203251838684082,
          0.6097561120986938,
          0.5365853905677795,
          0.5528455376625061,
          0.577235758304596,
          0.5853658318519592,
          0.5934959053993225,
          0.5203251838684082,
          0.5934959053993225,
          0.49593496322631836,
          0.5853658318519592,
          0.5934959053993225,
          0.5691056847572327,
          0.577235758304596,
          0.5934959053993225,
          0.5447154641151428,
          0.577235758304596,
          0.5447154641151428,
          0.5284552574157715,
          0.5853658318519592,
          0.5691056847572327,
          0.5609756112098694,
          0.5609756112098694,
          0.47154471278190613,
          0.6097561120986938,
          0.5365853905677795,
          0.6097561120986938,
          0.5934959053993225,
          0.6341463327407837,
          0.577235758304596,
          0.6585366129875183,
          0.6097561120986938,
          0.577235758304596,
          0.6341463327407837,
          0.5691056847572327,
          0.6666666865348816,
          0.5934959053993225,
          0.6016260385513306,
          0.5853658318519592,
          0.5528455376625061,
          0.6178861856460571,
          0.5853658318519592,
          0.642276406288147,
          0.5284552574157715,
          0.6260162591934204,
          0.6178861856460571,
          0.642276406288147,
          0.5934959053993225,
          0.6341463327407837,
          0.642276406288147,
          0.6585366129875183,
          0.6666666865348816,
          0.5528455376625061,
          0.6260162591934204,
          0.6504064798355103,
          0.6585366129875183,
          0.6016260385513306,
          0.6504064798355103,
          0.6829268336296082,
          0.6341463327407837,
          0.6341463327407837,
          0.5853658318519592,
          0.6585366129875183,
          0.6341463327407837,
          0.6504064798355103,
          0.642276406288147,
          0.642276406288147,
          0.6991869807243347,
          0.6341463327407837,
          0.6260162591934204,
          0.707317054271698,
          0.6747967600822449,
          0.6504064798355103,
          0.6341463327407837,
          0.6260162591934204,
          0.6829268336296082,
          0.5365853905677795,
          0.6585366129875183,
          0.6666666865348816,
          0.6341463327407837,
          0.6991869807243347,
          0.6585366129875183,
          0.7235772609710693,
          0.6341463327407837,
          0.6666666865348816,
          0.6178861856460571,
          0.6747967600822449,
          0.7479674816131592,
          0.6666666865348816,
          0.6829268336296082,
          0.7154471278190613,
          0.642276406288147,
          0.6829268336296082,
          0.7398374080657959,
          0.6504064798355103,
          0.6666666865348816,
          0.6504064798355103,
          0.6341463327407837,
          0.6666666865348816,
          0.6991869807243347,
          0.6991869807243347,
          0.7154471278190613,
          0.6666666865348816,
          0.6747967600822449,
          0.6341463327407837,
          0.6829268336296082,
          0.6666666865348816,
          0.6747967600822449,
          0.6910569071769714,
          0.6829268336296082,
          0.6747967600822449,
          0.6666666865348816,
          0.6829268336296082,
          0.7479674816131592,
          0.6097561120986938,
          0.642276406288147,
          0.7317073345184326,
          0.6747967600822449,
          0.6829268336296082,
          0.6504064798355103,
          0.6097561120986938,
          0.6585366129875183,
          0.6910569071769714,
          0.6747967600822449,
          0.6747967600822449,
          0.7479674816131592,
          0.6829268336296082,
          0.6829268336296082,
          0.6910569071769714,
          0.707317054271698,
          0.7560975551605225,
          0.6829268336296082,
          0.6829268336296082,
          0.6504064798355103,
          0.6747967600822449,
          0.6585366129875183,
          0.6666666865348816,
          0.6178861856460571,
          0.6991869807243347,
          0.6910569071769714,
          0.6991869807243347,
          0.7154471278190613,
          0.7154471278190613,
          0.7398374080657959,
          0.6910569071769714,
          0.6910569071769714,
          0.49593496322631836,
          0.42276424169540405,
          0.5365853905677795,
          0.6991869807243347,
          0.6016260385513306,
          0.6829268336296082,
          0.6747967600822449,
          0.6991869807243347,
          0.6991869807243347,
          0.707317054271698,
          0.6666666865348816,
          0.642276406288147,
          0.6585366129875183,
          0.6747967600822449,
          0.6991869807243347,
          0.6991869807243347,
          0.6585366129875183,
          0.6991869807243347,
          0.6910569071769714,
          0.7398374080657959,
          0.6666666865348816,
          0.6829268336296082,
          0.707317054271698,
          0.7398374080657959,
          0.6747967600822449,
          0.707317054271698,
          0.7479674816131592,
          0.7154471278190613,
          0.6910569071769714,
          0.7154471278190613,
          0.707317054271698,
          0.6666666865348816,
          0.6829268336296082,
          0.642276406288147,
          0.6504064798355103,
          0.707317054271698,
          0.6991869807243347,
          0.7154471278190613,
          0.707317054271698,
          0.7398374080657959,
          0.707317054271698,
          0.7479674816131592,
          0.6666666865348816,
          0.707317054271698,
          0.6910569071769714,
          0.6747967600822449,
          0.642276406288147,
          0.7154471278190613,
          0.6747967600822449,
          0.7235772609710693,
          0.642276406288147,
          0.6829268336296082,
          0.7235772609710693,
          0.6910569071769714,
          0.6178861856460571,
          0.642276406288147,
          0.7398374080657959,
          0.6666666865348816,
          0.6097561120986938,
          0.7479674816131592,
          0.6178861856460571,
          0.6829268336296082,
          0.6910569071769714,
          0.6747967600822449,
          0.6829268336296082,
          0.7398374080657959,
          0.7154471278190613,
          0.6910569071769714,
          0.6829268336296082,
          0.707317054271698,
          0.6991869807243347,
          0.6829268336296082,
          0.642276406288147,
          0.6178861856460571,
          0.6829268336296082,
          0.7479674816131592,
          0.7317073345184326,
          0.7154471278190613,
          0.7479674816131592,
          0.6991869807243347,
          0.6829268336296082,
          0.6747967600822449,
          0.7235772609710693,
          0.7317073345184326,
          0.6910569071769714,
          0.6829268336296082,
          0.6829268336296082,
          0.707317054271698,
          0.6910569071769714,
          0.707317054271698,
          0.7317073345184326,
          0.7317073345184326,
          0.6910569071769714,
          0.7398374080657959,
          0.6991869807243347,
          0.7317073345184326,
          0.6829268336296082,
          0.7479674816131592,
          0.772357702255249,
          0.6666666865348816,
          0.7235772609710693,
          0.7235772609710693,
          0.7235772609710693
         ],
         "yaxis": "y"
        },
        {
         "hovertemplate": "Curvas de Exactitud=Exactitud de Validación<br>Epoch=%{x}<br>Exactitud=%{y}<extra></extra>",
         "legendgroup": "Exactitud de Validación",
         "line": {
          "color": "#ab63fa",
          "dash": "solid"
         },
         "marker": {
          "symbol": "circle"
         },
         "mode": "lines",
         "name": "Exactitud de Validación",
         "orientation": "v",
         "showlegend": true,
         "type": "scatter",
         "x": [
          0,
          1,
          2,
          3,
          4,
          5,
          6,
          7,
          8,
          9,
          10,
          11,
          12,
          13,
          14,
          15,
          16,
          17,
          18,
          19,
          20,
          21,
          22,
          23,
          24,
          25,
          26,
          27,
          28,
          29,
          30,
          31,
          32,
          33,
          34,
          35,
          36,
          37,
          38,
          39,
          40,
          41,
          42,
          43,
          44,
          45,
          46,
          47,
          48,
          49,
          50,
          51,
          52,
          53,
          54,
          55,
          56,
          57,
          58,
          59,
          60,
          61,
          62,
          63,
          64,
          65,
          66,
          67,
          68,
          69,
          70,
          71,
          72,
          73,
          74,
          75,
          76,
          77,
          78,
          79,
          80,
          81,
          82,
          83,
          84,
          85,
          86,
          87,
          88,
          89,
          90,
          91,
          92,
          93,
          94,
          95,
          96,
          97,
          98,
          99,
          100,
          101,
          102,
          103,
          104,
          105,
          106,
          107,
          108,
          109,
          110,
          111,
          112,
          113,
          114,
          115,
          116,
          117,
          118,
          119,
          120,
          121,
          122,
          123,
          124,
          125,
          126,
          127,
          128,
          129,
          130,
          131,
          132,
          133,
          134,
          135,
          136,
          137,
          138,
          139,
          140,
          141,
          142,
          143,
          144,
          145,
          146,
          147,
          148,
          149,
          150,
          151,
          152,
          153,
          154,
          155,
          156,
          157,
          158,
          159,
          160,
          161,
          162,
          163,
          164,
          165,
          166,
          167,
          168,
          169,
          170,
          171,
          172,
          173,
          174,
          175,
          176,
          177,
          178,
          179,
          180,
          181,
          182,
          183,
          184,
          185,
          186,
          187,
          188,
          189,
          190,
          191,
          192,
          193,
          194,
          195,
          196,
          197,
          198,
          199,
          200,
          201,
          202,
          203,
          204,
          205,
          206,
          207,
          208,
          209,
          210,
          211,
          212,
          213,
          214,
          215,
          216,
          217,
          218,
          219,
          220,
          221,
          222,
          223,
          224,
          225,
          226,
          227,
          228,
          229,
          230,
          231,
          232,
          233,
          234,
          235,
          236,
          237,
          238,
          239,
          240,
          241,
          242,
          243,
          244,
          245,
          246,
          247,
          248,
          249,
          250,
          251,
          252,
          253,
          254,
          255,
          256,
          257,
          258,
          259,
          260,
          261,
          262,
          263,
          264,
          265,
          266,
          267,
          268,
          269,
          270,
          271,
          272,
          273,
          274,
          275,
          276,
          277,
          278,
          279,
          280,
          281,
          282,
          283,
          284,
          285,
          286,
          287,
          288,
          289,
          290,
          291,
          292,
          293,
          294,
          295,
          296,
          297,
          298,
          299,
          300,
          301,
          302,
          303,
          304,
          305,
          306,
          307,
          308,
          309,
          310,
          311,
          312,
          313,
          314,
          315,
          316,
          317,
          318,
          319,
          320,
          321,
          322,
          323,
          324,
          325,
          326,
          327,
          328,
          329,
          330,
          331,
          332,
          333,
          334,
          335,
          336,
          337,
          338,
          339,
          340,
          341,
          342,
          343,
          344,
          345,
          346,
          347,
          348,
          349
         ],
         "xaxis": "x",
         "y": [
          0.3658536672592163,
          0.3658536672592163,
          0.3658536672592163,
          0.19512194395065308,
          0.19512194395065308,
          0.19512194395065308,
          0.19512194395065308,
          0.19512194395065308,
          0.19512194395065308,
          0.19512194395065308,
          0.19512194395065308,
          0.19512194395065308,
          0.19512194395065308,
          0.19512194395065308,
          0.19512194395065308,
          0.19512194395065308,
          0.19512194395065308,
          0.19512194395065308,
          0.19512194395065308,
          0.19512194395065308,
          0.19512194395065308,
          0.19512194395065308,
          0.19512194395065308,
          0.19512194395065308,
          0.19512194395065308,
          0.19512194395065308,
          0.19512194395065308,
          0.19512194395065308,
          0.19512194395065308,
          0.19512194395065308,
          0.19512194395065308,
          0.19512194395065308,
          0.19512194395065308,
          0.19512194395065308,
          0.19512194395065308,
          0.19512194395065308,
          0.19512194395065308,
          0.19512194395065308,
          0.19512194395065308,
          0.19512194395065308,
          0.19512194395065308,
          0.19512194395065308,
          0.19512194395065308,
          0.19512194395065308,
          0.19512194395065308,
          0.19512194395065308,
          0.19512194395065308,
          0.26829269528388977,
          0.31707316637039185,
          0.2926829159259796,
          0.2926829159259796,
          0.2926829159259796,
          0.2926829159259796,
          0.2926829159259796,
          0.2926829159259796,
          0.2926829159259796,
          0.31707316637039185,
          0.31707316637039185,
          0.31707316637039185,
          0.31707316637039185,
          0.31707316637039185,
          0.31707316637039185,
          0.31707316637039185,
          0.4146341383457184,
          0.31707316637039185,
          0.39024388790130615,
          0.4146341383457184,
          0.4146341383457184,
          0.3658536672592163,
          0.39024388790130615,
          0.4146341383457184,
          0.31707316637039185,
          0.3414634168148041,
          0.39024388790130615,
          0.39024388790130615,
          0.4390243887901306,
          0.4390243887901306,
          0.39024388790130615,
          0.3658536672592163,
          0.46341463923454285,
          0.4390243887901306,
          0.4878048896789551,
          0.39024388790130615,
          0.46341463923454285,
          0.5609756112098694,
          0.46341463923454285,
          0.46341463923454285,
          0.4146341383457184,
          0.4146341383457184,
          0.4390243887901306,
          0.4390243887901306,
          0.5365853905677795,
          0.6341463327407837,
          0.4146341383457184,
          0.5609756112098694,
          0.5365853905677795,
          0.6341463327407837,
          0.4146341383457184,
          0.5609756112098694,
          0.4390243887901306,
          0.6585366129875183,
          0.5853658318519592,
          0.5853658318519592,
          0.6341463327407837,
          0.5853658318519592,
          0.5609756112098694,
          0.5853658318519592,
          0.5609756112098694,
          0.5121951103210449,
          0.6097561120986938,
          0.4878048896789551,
          0.5365853905677795,
          0.4878048896789551,
          0.5853658318519592,
          0.6341463327407837,
          0.5121951103210449,
          0.5609756112098694,
          0.5853658318519592,
          0.5365853905677795,
          0.6585366129875183,
          0.5609756112098694,
          0.5609756112098694,
          0.5609756112098694,
          0.6097561120986938,
          0.5609756112098694,
          0.6097561120986938,
          0.6097561120986938,
          0.5121951103210449,
          0.5853658318519592,
          0.5609756112098694,
          0.4146341383457184,
          0.6341463327407837,
          0.5853658318519592,
          0.5609756112098694,
          0.6585366129875183,
          0.6097561120986938,
          0.5365853905677795,
          0.6585366129875183,
          0.4878048896789551,
          0.39024388790130615,
          0.5121951103210449,
          0.6585366129875183,
          0.6585366129875183,
          0.5121951103210449,
          0.707317054271698,
          0.5853658318519592,
          0.5121951103210449,
          0.6097561120986938,
          0.6097561120986938,
          0.6341463327407837,
          0.5853658318519592,
          0.6341463327407837,
          0.6341463327407837,
          0.6585366129875183,
          0.6341463327407837,
          0.6585366129875183,
          0.6097561120986938,
          0.6585366129875183,
          0.6585366129875183,
          0.6585366129875183,
          0.6341463327407837,
          0.4878048896789551,
          0.5853658318519592,
          0.5609756112098694,
          0.6341463327407837,
          0.6341463327407837,
          0.6341463327407837,
          0.6097561120986938,
          0.6097561120986938,
          0.6341463327407837,
          0.6341463327407837,
          0.6097561120986938,
          0.5609756112098694,
          0.6097561120986938,
          0.6585366129875183,
          0.6585366129875183,
          0.6585366129875183,
          0.6829268336296082,
          0.6585366129875183,
          0.5121951103210449,
          0.6585366129875183,
          0.5853658318519592,
          0.6341463327407837,
          0.6097561120986938,
          0.6829268336296082,
          0.6585366129875183,
          0.6585366129875183,
          0.6585366129875183,
          0.6585366129875183,
          0.6341463327407837,
          0.5853658318519592,
          0.6341463327407837,
          0.6341463327407837,
          0.6585366129875183,
          0.6097561120986938,
          0.6585366129875183,
          0.6341463327407837,
          0.6097561120986938,
          0.5853658318519592,
          0.6585366129875183,
          0.5853658318519592,
          0.6097561120986938,
          0.6585366129875183,
          0.6585366129875183,
          0.6585366129875183,
          0.6341463327407837,
          0.5853658318519592,
          0.6341463327407837,
          0.6585366129875183,
          0.6585366129875183,
          0.6341463327407837,
          0.6341463327407837,
          0.6341463327407837,
          0.6341463327407837,
          0.6341463327407837,
          0.6097561120986938,
          0.6341463327407837,
          0.5853658318519592,
          0.6585366129875183,
          0.5121951103210449,
          0.5365853905677795,
          0.6341463327407837,
          0.6585366129875183,
          0.6585366129875183,
          0.6341463327407837,
          0.6341463327407837,
          0.6585366129875183,
          0.6585366129875183,
          0.6341463327407837,
          0.6097561120986938,
          0.6097561120986938,
          0.6341463327407837,
          0.6341463327407837,
          0.6097561120986938,
          0.6341463327407837,
          0.6097561120986938,
          0.6341463327407837,
          0.6585366129875183,
          0.6097561120986938,
          0.6585366129875183,
          0.6097561120986938,
          0.6341463327407837,
          0.5853658318519592,
          0.6341463327407837,
          0.6341463327407837,
          0.6829268336296082,
          0.6341463327407837,
          0.4146341383457184,
          0.4146341383457184,
          0.5853658318519592,
          0.5121951103210449,
          0.5853658318519592,
          0.6097561120986938,
          0.6341463327407837,
          0.6585366129875183,
          0.6585366129875183,
          0.6341463327407837,
          0.6585366129875183,
          0.6585366129875183,
          0.6341463327407837,
          0.6585366129875183,
          0.6341463327407837,
          0.6341463327407837,
          0.6341463327407837,
          0.6341463327407837,
          0.6341463327407837,
          0.6341463327407837,
          0.6341463327407837,
          0.6341463327407837,
          0.6341463327407837,
          0.6341463327407837,
          0.6585366129875183,
          0.6341463327407837,
          0.6829268336296082,
          0.6585366129875183,
          0.6585366129875183,
          0.6585366129875183,
          0.6097561120986938,
          0.6341463327407837,
          0.6341463327407837,
          0.6585366129875183,
          0.6341463327407837,
          0.6585366129875183,
          0.6585366129875183,
          0.6097561120986938,
          0.6585366129875183,
          0.6585366129875183,
          0.6585366129875183,
          0.6097561120986938,
          0.6341463327407837,
          0.6585366129875183,
          0.6341463327407837,
          0.6829268336296082,
          0.6585366129875183,
          0.6341463327407837,
          0.6341463327407837,
          0.6585366129875183,
          0.6097561120986938,
          0.6585366129875183,
          0.6341463327407837,
          0.6585366129875183,
          0.6341463327407837,
          0.707317054271698,
          0.6585366129875183,
          0.6097561120986938,
          0.6829268336296082,
          0.6585366129875183,
          0.6585366129875183,
          0.6341463327407837,
          0.6585366129875183,
          0.6097561120986938,
          0.6829268336296082,
          0.6585366129875183,
          0.6585366129875183,
          0.6341463327407837,
          0.6341463327407837,
          0.6341463327407837,
          0.6585366129875183,
          0.6341463327407837,
          0.6829268336296082,
          0.5853658318519592,
          0.6341463327407837,
          0.6585366129875183,
          0.6341463327407837,
          0.6585366129875183,
          0.6585366129875183,
          0.6341463327407837,
          0.6341463327407837,
          0.6097561120986938,
          0.6585366129875183,
          0.6829268336296082,
          0.6585366129875183,
          0.6829268336296082,
          0.6585366129875183,
          0.6585366129875183,
          0.6585366129875183,
          0.6585366129875183,
          0.6585366129875183,
          0.6341463327407837,
          0.6341463327407837,
          0.6341463327407837,
          0.6341463327407837,
          0.6341463327407837,
          0.6585366129875183,
          0.6585366129875183,
          0.6341463327407837,
          0.6585366129875183,
          0.6097561120986938,
          0.6341463327407837,
          0.6341463327407837
         ],
         "yaxis": "y"
        }
       ],
       "layout": {
        "legend": {
         "title": {
          "text": "Curvas de Exactitud"
         },
         "tracegroupgap": 0
        },
        "template": {
         "data": {
          "bar": [
           {
            "error_x": {
             "color": "#2a3f5f"
            },
            "error_y": {
             "color": "#2a3f5f"
            },
            "marker": {
             "line": {
              "color": "white",
              "width": 0.5
             },
             "pattern": {
              "fillmode": "overlay",
              "size": 10,
              "solidity": 0.2
             }
            },
            "type": "bar"
           }
          ],
          "barpolar": [
           {
            "marker": {
             "line": {
              "color": "white",
              "width": 0.5
             },
             "pattern": {
              "fillmode": "overlay",
              "size": 10,
              "solidity": 0.2
             }
            },
            "type": "barpolar"
           }
          ],
          "carpet": [
           {
            "aaxis": {
             "endlinecolor": "#2a3f5f",
             "gridcolor": "#C8D4E3",
             "linecolor": "#C8D4E3",
             "minorgridcolor": "#C8D4E3",
             "startlinecolor": "#2a3f5f"
            },
            "baxis": {
             "endlinecolor": "#2a3f5f",
             "gridcolor": "#C8D4E3",
             "linecolor": "#C8D4E3",
             "minorgridcolor": "#C8D4E3",
             "startlinecolor": "#2a3f5f"
            },
            "type": "carpet"
           }
          ],
          "choropleth": [
           {
            "colorbar": {
             "outlinewidth": 0,
             "ticks": ""
            },
            "type": "choropleth"
           }
          ],
          "contour": [
           {
            "colorbar": {
             "outlinewidth": 0,
             "ticks": ""
            },
            "colorscale": [
             [
              0,
              "#0d0887"
             ],
             [
              0.1111111111111111,
              "#46039f"
             ],
             [
              0.2222222222222222,
              "#7201a8"
             ],
             [
              0.3333333333333333,
              "#9c179e"
             ],
             [
              0.4444444444444444,
              "#bd3786"
             ],
             [
              0.5555555555555556,
              "#d8576b"
             ],
             [
              0.6666666666666666,
              "#ed7953"
             ],
             [
              0.7777777777777778,
              "#fb9f3a"
             ],
             [
              0.8888888888888888,
              "#fdca26"
             ],
             [
              1,
              "#f0f921"
             ]
            ],
            "type": "contour"
           }
          ],
          "contourcarpet": [
           {
            "colorbar": {
             "outlinewidth": 0,
             "ticks": ""
            },
            "type": "contourcarpet"
           }
          ],
          "heatmap": [
           {
            "colorbar": {
             "outlinewidth": 0,
             "ticks": ""
            },
            "colorscale": [
             [
              0,
              "#0d0887"
             ],
             [
              0.1111111111111111,
              "#46039f"
             ],
             [
              0.2222222222222222,
              "#7201a8"
             ],
             [
              0.3333333333333333,
              "#9c179e"
             ],
             [
              0.4444444444444444,
              "#bd3786"
             ],
             [
              0.5555555555555556,
              "#d8576b"
             ],
             [
              0.6666666666666666,
              "#ed7953"
             ],
             [
              0.7777777777777778,
              "#fb9f3a"
             ],
             [
              0.8888888888888888,
              "#fdca26"
             ],
             [
              1,
              "#f0f921"
             ]
            ],
            "type": "heatmap"
           }
          ],
          "heatmapgl": [
           {
            "colorbar": {
             "outlinewidth": 0,
             "ticks": ""
            },
            "colorscale": [
             [
              0,
              "#0d0887"
             ],
             [
              0.1111111111111111,
              "#46039f"
             ],
             [
              0.2222222222222222,
              "#7201a8"
             ],
             [
              0.3333333333333333,
              "#9c179e"
             ],
             [
              0.4444444444444444,
              "#bd3786"
             ],
             [
              0.5555555555555556,
              "#d8576b"
             ],
             [
              0.6666666666666666,
              "#ed7953"
             ],
             [
              0.7777777777777778,
              "#fb9f3a"
             ],
             [
              0.8888888888888888,
              "#fdca26"
             ],
             [
              1,
              "#f0f921"
             ]
            ],
            "type": "heatmapgl"
           }
          ],
          "histogram": [
           {
            "marker": {
             "pattern": {
              "fillmode": "overlay",
              "size": 10,
              "solidity": 0.2
             }
            },
            "type": "histogram"
           }
          ],
          "histogram2d": [
           {
            "colorbar": {
             "outlinewidth": 0,
             "ticks": ""
            },
            "colorscale": [
             [
              0,
              "#0d0887"
             ],
             [
              0.1111111111111111,
              "#46039f"
             ],
             [
              0.2222222222222222,
              "#7201a8"
             ],
             [
              0.3333333333333333,
              "#9c179e"
             ],
             [
              0.4444444444444444,
              "#bd3786"
             ],
             [
              0.5555555555555556,
              "#d8576b"
             ],
             [
              0.6666666666666666,
              "#ed7953"
             ],
             [
              0.7777777777777778,
              "#fb9f3a"
             ],
             [
              0.8888888888888888,
              "#fdca26"
             ],
             [
              1,
              "#f0f921"
             ]
            ],
            "type": "histogram2d"
           }
          ],
          "histogram2dcontour": [
           {
            "colorbar": {
             "outlinewidth": 0,
             "ticks": ""
            },
            "colorscale": [
             [
              0,
              "#0d0887"
             ],
             [
              0.1111111111111111,
              "#46039f"
             ],
             [
              0.2222222222222222,
              "#7201a8"
             ],
             [
              0.3333333333333333,
              "#9c179e"
             ],
             [
              0.4444444444444444,
              "#bd3786"
             ],
             [
              0.5555555555555556,
              "#d8576b"
             ],
             [
              0.6666666666666666,
              "#ed7953"
             ],
             [
              0.7777777777777778,
              "#fb9f3a"
             ],
             [
              0.8888888888888888,
              "#fdca26"
             ],
             [
              1,
              "#f0f921"
             ]
            ],
            "type": "histogram2dcontour"
           }
          ],
          "mesh3d": [
           {
            "colorbar": {
             "outlinewidth": 0,
             "ticks": ""
            },
            "type": "mesh3d"
           }
          ],
          "parcoords": [
           {
            "line": {
             "colorbar": {
              "outlinewidth": 0,
              "ticks": ""
             }
            },
            "type": "parcoords"
           }
          ],
          "pie": [
           {
            "automargin": true,
            "type": "pie"
           }
          ],
          "scatter": [
           {
            "fillpattern": {
             "fillmode": "overlay",
             "size": 10,
             "solidity": 0.2
            },
            "type": "scatter"
           }
          ],
          "scatter3d": [
           {
            "line": {
             "colorbar": {
              "outlinewidth": 0,
              "ticks": ""
             }
            },
            "marker": {
             "colorbar": {
              "outlinewidth": 0,
              "ticks": ""
             }
            },
            "type": "scatter3d"
           }
          ],
          "scattercarpet": [
           {
            "marker": {
             "colorbar": {
              "outlinewidth": 0,
              "ticks": ""
             }
            },
            "type": "scattercarpet"
           }
          ],
          "scattergeo": [
           {
            "marker": {
             "colorbar": {
              "outlinewidth": 0,
              "ticks": ""
             }
            },
            "type": "scattergeo"
           }
          ],
          "scattergl": [
           {
            "marker": {
             "colorbar": {
              "outlinewidth": 0,
              "ticks": ""
             }
            },
            "type": "scattergl"
           }
          ],
          "scattermapbox": [
           {
            "marker": {
             "colorbar": {
              "outlinewidth": 0,
              "ticks": ""
             }
            },
            "type": "scattermapbox"
           }
          ],
          "scatterpolar": [
           {
            "marker": {
             "colorbar": {
              "outlinewidth": 0,
              "ticks": ""
             }
            },
            "type": "scatterpolar"
           }
          ],
          "scatterpolargl": [
           {
            "marker": {
             "colorbar": {
              "outlinewidth": 0,
              "ticks": ""
             }
            },
            "type": "scatterpolargl"
           }
          ],
          "scatterternary": [
           {
            "marker": {
             "colorbar": {
              "outlinewidth": 0,
              "ticks": ""
             }
            },
            "type": "scatterternary"
           }
          ],
          "surface": [
           {
            "colorbar": {
             "outlinewidth": 0,
             "ticks": ""
            },
            "colorscale": [
             [
              0,
              "#0d0887"
             ],
             [
              0.1111111111111111,
              "#46039f"
             ],
             [
              0.2222222222222222,
              "#7201a8"
             ],
             [
              0.3333333333333333,
              "#9c179e"
             ],
             [
              0.4444444444444444,
              "#bd3786"
             ],
             [
              0.5555555555555556,
              "#d8576b"
             ],
             [
              0.6666666666666666,
              "#ed7953"
             ],
             [
              0.7777777777777778,
              "#fb9f3a"
             ],
             [
              0.8888888888888888,
              "#fdca26"
             ],
             [
              1,
              "#f0f921"
             ]
            ],
            "type": "surface"
           }
          ],
          "table": [
           {
            "cells": {
             "fill": {
              "color": "#EBF0F8"
             },
             "line": {
              "color": "white"
             }
            },
            "header": {
             "fill": {
              "color": "#C8D4E3"
             },
             "line": {
              "color": "white"
             }
            },
            "type": "table"
           }
          ]
         },
         "layout": {
          "annotationdefaults": {
           "arrowcolor": "#2a3f5f",
           "arrowhead": 0,
           "arrowwidth": 1
          },
          "autotypenumbers": "strict",
          "coloraxis": {
           "colorbar": {
            "outlinewidth": 0,
            "ticks": ""
           }
          },
          "colorscale": {
           "diverging": [
            [
             0,
             "#8e0152"
            ],
            [
             0.1,
             "#c51b7d"
            ],
            [
             0.2,
             "#de77ae"
            ],
            [
             0.3,
             "#f1b6da"
            ],
            [
             0.4,
             "#fde0ef"
            ],
            [
             0.5,
             "#f7f7f7"
            ],
            [
             0.6,
             "#e6f5d0"
            ],
            [
             0.7,
             "#b8e186"
            ],
            [
             0.8,
             "#7fbc41"
            ],
            [
             0.9,
             "#4d9221"
            ],
            [
             1,
             "#276419"
            ]
           ],
           "sequential": [
            [
             0,
             "#0d0887"
            ],
            [
             0.1111111111111111,
             "#46039f"
            ],
            [
             0.2222222222222222,
             "#7201a8"
            ],
            [
             0.3333333333333333,
             "#9c179e"
            ],
            [
             0.4444444444444444,
             "#bd3786"
            ],
            [
             0.5555555555555556,
             "#d8576b"
            ],
            [
             0.6666666666666666,
             "#ed7953"
            ],
            [
             0.7777777777777778,
             "#fb9f3a"
            ],
            [
             0.8888888888888888,
             "#fdca26"
            ],
            [
             1,
             "#f0f921"
            ]
           ],
           "sequentialminus": [
            [
             0,
             "#0d0887"
            ],
            [
             0.1111111111111111,
             "#46039f"
            ],
            [
             0.2222222222222222,
             "#7201a8"
            ],
            [
             0.3333333333333333,
             "#9c179e"
            ],
            [
             0.4444444444444444,
             "#bd3786"
            ],
            [
             0.5555555555555556,
             "#d8576b"
            ],
            [
             0.6666666666666666,
             "#ed7953"
            ],
            [
             0.7777777777777778,
             "#fb9f3a"
            ],
            [
             0.8888888888888888,
             "#fdca26"
            ],
            [
             1,
             "#f0f921"
            ]
           ]
          },
          "colorway": [
           "#636efa",
           "#EF553B",
           "#00cc96",
           "#ab63fa",
           "#FFA15A",
           "#19d3f3",
           "#FF6692",
           "#B6E880",
           "#FF97FF",
           "#FECB52"
          ],
          "font": {
           "color": "#2a3f5f"
          },
          "geo": {
           "bgcolor": "white",
           "lakecolor": "white",
           "landcolor": "white",
           "showlakes": true,
           "showland": true,
           "subunitcolor": "#C8D4E3"
          },
          "hoverlabel": {
           "align": "left"
          },
          "hovermode": "closest",
          "mapbox": {
           "style": "light"
          },
          "paper_bgcolor": "white",
          "plot_bgcolor": "white",
          "polar": {
           "angularaxis": {
            "gridcolor": "#EBF0F8",
            "linecolor": "#EBF0F8",
            "ticks": ""
           },
           "bgcolor": "white",
           "radialaxis": {
            "gridcolor": "#EBF0F8",
            "linecolor": "#EBF0F8",
            "ticks": ""
           }
          },
          "scene": {
           "xaxis": {
            "backgroundcolor": "white",
            "gridcolor": "#DFE8F3",
            "gridwidth": 2,
            "linecolor": "#EBF0F8",
            "showbackground": true,
            "ticks": "",
            "zerolinecolor": "#EBF0F8"
           },
           "yaxis": {
            "backgroundcolor": "white",
            "gridcolor": "#DFE8F3",
            "gridwidth": 2,
            "linecolor": "#EBF0F8",
            "showbackground": true,
            "ticks": "",
            "zerolinecolor": "#EBF0F8"
           },
           "zaxis": {
            "backgroundcolor": "white",
            "gridcolor": "#DFE8F3",
            "gridwidth": 2,
            "linecolor": "#EBF0F8",
            "showbackground": true,
            "ticks": "",
            "zerolinecolor": "#EBF0F8"
           }
          },
          "shapedefaults": {
           "line": {
            "color": "#2a3f5f"
           }
          },
          "ternary": {
           "aaxis": {
            "gridcolor": "#DFE8F3",
            "linecolor": "#A2B1C6",
            "ticks": ""
           },
           "baxis": {
            "gridcolor": "#DFE8F3",
            "linecolor": "#A2B1C6",
            "ticks": ""
           },
           "bgcolor": "white",
           "caxis": {
            "gridcolor": "#DFE8F3",
            "linecolor": "#A2B1C6",
            "ticks": ""
           }
          },
          "title": {
           "x": 0.05
          },
          "xaxis": {
           "automargin": true,
           "gridcolor": "#EBF0F8",
           "linecolor": "#EBF0F8",
           "ticks": "",
           "title": {
            "standoff": 15
           },
           "zerolinecolor": "#EBF0F8",
           "zerolinewidth": 2
          },
          "yaxis": {
           "automargin": true,
           "gridcolor": "#EBF0F8",
           "linecolor": "#EBF0F8",
           "ticks": "",
           "title": {
            "standoff": 15
           },
           "zerolinecolor": "#EBF0F8",
           "zerolinewidth": 2
          }
         }
        },
        "title": {
         "text": "Gráficas de Exactitud"
        },
        "xaxis": {
         "anchor": "y",
         "domain": [
          0,
          1
         ],
         "title": {
          "text": "Epoch"
         }
        },
        "yaxis": {
         "anchor": "x",
         "domain": [
          0,
          1
         ],
         "title": {
          "text": "Exactitud"
         }
        }
       }
      }
     },
     "metadata": {},
     "output_type": "display_data"
    }
   ],
   "source": [
    "# Hiperparámetros\n",
    "learning_rate = 0.001\n",
    "epochs = 350\n",
    "batch_size = 5\n",
    "# Llama a la función para crear el modelo y lo guarda.\n",
    "model = my_model(learning_rate)\n",
    "# Invoca a la función de entrenamiento y guarda los resultados.\n",
    "history= train_model(model, train_features, train_labels, epochs, batch_size)\n",
    "# Llama a la función de las gráficas.\n",
    "loss_curves(history)\n",
    "accuracy_curve(history)\n"
   ]
  },
  {
   "attachments": {},
   "cell_type": "markdown",
   "metadata": {},
   "source": [
    "# Predicciones"
   ]
  },
  {
   "cell_type": "code",
   "execution_count": 52,
   "metadata": {},
   "outputs": [
    {
     "name": "stdout",
     "output_type": "stream",
     "text": [
      "6/6 [==============================] - 0s 1ms/step\n"
     ]
    },
    {
     "data": {
      "application/vnd.plotly.v1+json": {
       "config": {
        "plotlyServerURL": "https://plot.ly"
       },
       "data": [
        {
         "coloraxis": "coloraxis",
         "hovertemplate": "normal (Predicted): %{x}<br>normal: %{y}<br>color: %{z}<extra></extra>",
         "name": "0",
         "texttemplate": "%{z}",
         "type": "heatmap",
         "x": [
          "Negative",
          "-Positive"
         ],
         "xaxis": "x",
         "y": [
          "True",
          "False"
         ],
         "yaxis": "y",
         "z": [
          [
           106,
           14
          ],
          [
           1,
           43
          ]
         ]
        }
       ],
       "layout": {
        "coloraxis": {
         "colorscale": [
          [
           0,
           "rgb(255,255,255)"
          ],
          [
           0.125,
           "rgb(240,240,240)"
          ],
          [
           0.25,
           "rgb(217,217,217)"
          ],
          [
           0.375,
           "rgb(189,189,189)"
          ],
          [
           0.5,
           "rgb(150,150,150)"
          ],
          [
           0.625,
           "rgb(115,115,115)"
          ],
          [
           0.75,
           "rgb(82,82,82)"
          ],
          [
           0.875,
           "rgb(37,37,37)"
          ],
          [
           1,
           "rgb(0,0,0)"
          ]
         ]
        },
        "margin": {
         "t": 60
        },
        "template": {
         "data": {
          "bar": [
           {
            "error_x": {
             "color": "#2a3f5f"
            },
            "error_y": {
             "color": "#2a3f5f"
            },
            "marker": {
             "line": {
              "color": "#E5ECF6",
              "width": 0.5
             },
             "pattern": {
              "fillmode": "overlay",
              "size": 10,
              "solidity": 0.2
             }
            },
            "type": "bar"
           }
          ],
          "barpolar": [
           {
            "marker": {
             "line": {
              "color": "#E5ECF6",
              "width": 0.5
             },
             "pattern": {
              "fillmode": "overlay",
              "size": 10,
              "solidity": 0.2
             }
            },
            "type": "barpolar"
           }
          ],
          "carpet": [
           {
            "aaxis": {
             "endlinecolor": "#2a3f5f",
             "gridcolor": "white",
             "linecolor": "white",
             "minorgridcolor": "white",
             "startlinecolor": "#2a3f5f"
            },
            "baxis": {
             "endlinecolor": "#2a3f5f",
             "gridcolor": "white",
             "linecolor": "white",
             "minorgridcolor": "white",
             "startlinecolor": "#2a3f5f"
            },
            "type": "carpet"
           }
          ],
          "choropleth": [
           {
            "colorbar": {
             "outlinewidth": 0,
             "ticks": ""
            },
            "type": "choropleth"
           }
          ],
          "contour": [
           {
            "colorbar": {
             "outlinewidth": 0,
             "ticks": ""
            },
            "colorscale": [
             [
              0,
              "#0d0887"
             ],
             [
              0.1111111111111111,
              "#46039f"
             ],
             [
              0.2222222222222222,
              "#7201a8"
             ],
             [
              0.3333333333333333,
              "#9c179e"
             ],
             [
              0.4444444444444444,
              "#bd3786"
             ],
             [
              0.5555555555555556,
              "#d8576b"
             ],
             [
              0.6666666666666666,
              "#ed7953"
             ],
             [
              0.7777777777777778,
              "#fb9f3a"
             ],
             [
              0.8888888888888888,
              "#fdca26"
             ],
             [
              1,
              "#f0f921"
             ]
            ],
            "type": "contour"
           }
          ],
          "contourcarpet": [
           {
            "colorbar": {
             "outlinewidth": 0,
             "ticks": ""
            },
            "type": "contourcarpet"
           }
          ],
          "heatmap": [
           {
            "colorbar": {
             "outlinewidth": 0,
             "ticks": ""
            },
            "colorscale": [
             [
              0,
              "#0d0887"
             ],
             [
              0.1111111111111111,
              "#46039f"
             ],
             [
              0.2222222222222222,
              "#7201a8"
             ],
             [
              0.3333333333333333,
              "#9c179e"
             ],
             [
              0.4444444444444444,
              "#bd3786"
             ],
             [
              0.5555555555555556,
              "#d8576b"
             ],
             [
              0.6666666666666666,
              "#ed7953"
             ],
             [
              0.7777777777777778,
              "#fb9f3a"
             ],
             [
              0.8888888888888888,
              "#fdca26"
             ],
             [
              1,
              "#f0f921"
             ]
            ],
            "type": "heatmap"
           }
          ],
          "heatmapgl": [
           {
            "colorbar": {
             "outlinewidth": 0,
             "ticks": ""
            },
            "colorscale": [
             [
              0,
              "#0d0887"
             ],
             [
              0.1111111111111111,
              "#46039f"
             ],
             [
              0.2222222222222222,
              "#7201a8"
             ],
             [
              0.3333333333333333,
              "#9c179e"
             ],
             [
              0.4444444444444444,
              "#bd3786"
             ],
             [
              0.5555555555555556,
              "#d8576b"
             ],
             [
              0.6666666666666666,
              "#ed7953"
             ],
             [
              0.7777777777777778,
              "#fb9f3a"
             ],
             [
              0.8888888888888888,
              "#fdca26"
             ],
             [
              1,
              "#f0f921"
             ]
            ],
            "type": "heatmapgl"
           }
          ],
          "histogram": [
           {
            "marker": {
             "pattern": {
              "fillmode": "overlay",
              "size": 10,
              "solidity": 0.2
             }
            },
            "type": "histogram"
           }
          ],
          "histogram2d": [
           {
            "colorbar": {
             "outlinewidth": 0,
             "ticks": ""
            },
            "colorscale": [
             [
              0,
              "#0d0887"
             ],
             [
              0.1111111111111111,
              "#46039f"
             ],
             [
              0.2222222222222222,
              "#7201a8"
             ],
             [
              0.3333333333333333,
              "#9c179e"
             ],
             [
              0.4444444444444444,
              "#bd3786"
             ],
             [
              0.5555555555555556,
              "#d8576b"
             ],
             [
              0.6666666666666666,
              "#ed7953"
             ],
             [
              0.7777777777777778,
              "#fb9f3a"
             ],
             [
              0.8888888888888888,
              "#fdca26"
             ],
             [
              1,
              "#f0f921"
             ]
            ],
            "type": "histogram2d"
           }
          ],
          "histogram2dcontour": [
           {
            "colorbar": {
             "outlinewidth": 0,
             "ticks": ""
            },
            "colorscale": [
             [
              0,
              "#0d0887"
             ],
             [
              0.1111111111111111,
              "#46039f"
             ],
             [
              0.2222222222222222,
              "#7201a8"
             ],
             [
              0.3333333333333333,
              "#9c179e"
             ],
             [
              0.4444444444444444,
              "#bd3786"
             ],
             [
              0.5555555555555556,
              "#d8576b"
             ],
             [
              0.6666666666666666,
              "#ed7953"
             ],
             [
              0.7777777777777778,
              "#fb9f3a"
             ],
             [
              0.8888888888888888,
              "#fdca26"
             ],
             [
              1,
              "#f0f921"
             ]
            ],
            "type": "histogram2dcontour"
           }
          ],
          "mesh3d": [
           {
            "colorbar": {
             "outlinewidth": 0,
             "ticks": ""
            },
            "type": "mesh3d"
           }
          ],
          "parcoords": [
           {
            "line": {
             "colorbar": {
              "outlinewidth": 0,
              "ticks": ""
             }
            },
            "type": "parcoords"
           }
          ],
          "pie": [
           {
            "automargin": true,
            "type": "pie"
           }
          ],
          "scatter": [
           {
            "fillpattern": {
             "fillmode": "overlay",
             "size": 10,
             "solidity": 0.2
            },
            "type": "scatter"
           }
          ],
          "scatter3d": [
           {
            "line": {
             "colorbar": {
              "outlinewidth": 0,
              "ticks": ""
             }
            },
            "marker": {
             "colorbar": {
              "outlinewidth": 0,
              "ticks": ""
             }
            },
            "type": "scatter3d"
           }
          ],
          "scattercarpet": [
           {
            "marker": {
             "colorbar": {
              "outlinewidth": 0,
              "ticks": ""
             }
            },
            "type": "scattercarpet"
           }
          ],
          "scattergeo": [
           {
            "marker": {
             "colorbar": {
              "outlinewidth": 0,
              "ticks": ""
             }
            },
            "type": "scattergeo"
           }
          ],
          "scattergl": [
           {
            "marker": {
             "colorbar": {
              "outlinewidth": 0,
              "ticks": ""
             }
            },
            "type": "scattergl"
           }
          ],
          "scattermapbox": [
           {
            "marker": {
             "colorbar": {
              "outlinewidth": 0,
              "ticks": ""
             }
            },
            "type": "scattermapbox"
           }
          ],
          "scatterpolar": [
           {
            "marker": {
             "colorbar": {
              "outlinewidth": 0,
              "ticks": ""
             }
            },
            "type": "scatterpolar"
           }
          ],
          "scatterpolargl": [
           {
            "marker": {
             "colorbar": {
              "outlinewidth": 0,
              "ticks": ""
             }
            },
            "type": "scatterpolargl"
           }
          ],
          "scatterternary": [
           {
            "marker": {
             "colorbar": {
              "outlinewidth": 0,
              "ticks": ""
             }
            },
            "type": "scatterternary"
           }
          ],
          "surface": [
           {
            "colorbar": {
             "outlinewidth": 0,
             "ticks": ""
            },
            "colorscale": [
             [
              0,
              "#0d0887"
             ],
             [
              0.1111111111111111,
              "#46039f"
             ],
             [
              0.2222222222222222,
              "#7201a8"
             ],
             [
              0.3333333333333333,
              "#9c179e"
             ],
             [
              0.4444444444444444,
              "#bd3786"
             ],
             [
              0.5555555555555556,
              "#d8576b"
             ],
             [
              0.6666666666666666,
              "#ed7953"
             ],
             [
              0.7777777777777778,
              "#fb9f3a"
             ],
             [
              0.8888888888888888,
              "#fdca26"
             ],
             [
              1,
              "#f0f921"
             ]
            ],
            "type": "surface"
           }
          ],
          "table": [
           {
            "cells": {
             "fill": {
              "color": "#EBF0F8"
             },
             "line": {
              "color": "white"
             }
            },
            "header": {
             "fill": {
              "color": "#C8D4E3"
             },
             "line": {
              "color": "white"
             }
            },
            "type": "table"
           }
          ]
         },
         "layout": {
          "annotationdefaults": {
           "arrowcolor": "#2a3f5f",
           "arrowhead": 0,
           "arrowwidth": 1
          },
          "autotypenumbers": "strict",
          "coloraxis": {
           "colorbar": {
            "outlinewidth": 0,
            "ticks": ""
           }
          },
          "colorscale": {
           "diverging": [
            [
             0,
             "#8e0152"
            ],
            [
             0.1,
             "#c51b7d"
            ],
            [
             0.2,
             "#de77ae"
            ],
            [
             0.3,
             "#f1b6da"
            ],
            [
             0.4,
             "#fde0ef"
            ],
            [
             0.5,
             "#f7f7f7"
            ],
            [
             0.6,
             "#e6f5d0"
            ],
            [
             0.7,
             "#b8e186"
            ],
            [
             0.8,
             "#7fbc41"
            ],
            [
             0.9,
             "#4d9221"
            ],
            [
             1,
             "#276419"
            ]
           ],
           "sequential": [
            [
             0,
             "#0d0887"
            ],
            [
             0.1111111111111111,
             "#46039f"
            ],
            [
             0.2222222222222222,
             "#7201a8"
            ],
            [
             0.3333333333333333,
             "#9c179e"
            ],
            [
             0.4444444444444444,
             "#bd3786"
            ],
            [
             0.5555555555555556,
             "#d8576b"
            ],
            [
             0.6666666666666666,
             "#ed7953"
            ],
            [
             0.7777777777777778,
             "#fb9f3a"
            ],
            [
             0.8888888888888888,
             "#fdca26"
            ],
            [
             1,
             "#f0f921"
            ]
           ],
           "sequentialminus": [
            [
             0,
             "#0d0887"
            ],
            [
             0.1111111111111111,
             "#46039f"
            ],
            [
             0.2222222222222222,
             "#7201a8"
            ],
            [
             0.3333333333333333,
             "#9c179e"
            ],
            [
             0.4444444444444444,
             "#bd3786"
            ],
            [
             0.5555555555555556,
             "#d8576b"
            ],
            [
             0.6666666666666666,
             "#ed7953"
            ],
            [
             0.7777777777777778,
             "#fb9f3a"
            ],
            [
             0.8888888888888888,
             "#fdca26"
            ],
            [
             1,
             "#f0f921"
            ]
           ]
          },
          "colorway": [
           "#636efa",
           "#EF553B",
           "#00cc96",
           "#ab63fa",
           "#FFA15A",
           "#19d3f3",
           "#FF6692",
           "#B6E880",
           "#FF97FF",
           "#FECB52"
          ],
          "font": {
           "color": "#2a3f5f"
          },
          "geo": {
           "bgcolor": "white",
           "lakecolor": "white",
           "landcolor": "#E5ECF6",
           "showlakes": true,
           "showland": true,
           "subunitcolor": "white"
          },
          "hoverlabel": {
           "align": "left"
          },
          "hovermode": "closest",
          "mapbox": {
           "style": "light"
          },
          "paper_bgcolor": "white",
          "plot_bgcolor": "#E5ECF6",
          "polar": {
           "angularaxis": {
            "gridcolor": "white",
            "linecolor": "white",
            "ticks": ""
           },
           "bgcolor": "#E5ECF6",
           "radialaxis": {
            "gridcolor": "white",
            "linecolor": "white",
            "ticks": ""
           }
          },
          "scene": {
           "xaxis": {
            "backgroundcolor": "#E5ECF6",
            "gridcolor": "white",
            "gridwidth": 2,
            "linecolor": "white",
            "showbackground": true,
            "ticks": "",
            "zerolinecolor": "white"
           },
           "yaxis": {
            "backgroundcolor": "#E5ECF6",
            "gridcolor": "white",
            "gridwidth": 2,
            "linecolor": "white",
            "showbackground": true,
            "ticks": "",
            "zerolinecolor": "white"
           },
           "zaxis": {
            "backgroundcolor": "#E5ECF6",
            "gridcolor": "white",
            "gridwidth": 2,
            "linecolor": "white",
            "showbackground": true,
            "ticks": "",
            "zerolinecolor": "white"
           }
          },
          "shapedefaults": {
           "line": {
            "color": "#2a3f5f"
           }
          },
          "ternary": {
           "aaxis": {
            "gridcolor": "white",
            "linecolor": "white",
            "ticks": ""
           },
           "baxis": {
            "gridcolor": "white",
            "linecolor": "white",
            "ticks": ""
           },
           "bgcolor": "#E5ECF6",
           "caxis": {
            "gridcolor": "white",
            "linecolor": "white",
            "ticks": ""
           }
          },
          "title": {
           "x": 0.05
          },
          "xaxis": {
           "automargin": true,
           "gridcolor": "white",
           "linecolor": "white",
           "ticks": "",
           "title": {
            "standoff": 15
           },
           "zerolinecolor": "white",
           "zerolinewidth": 2
          },
          "yaxis": {
           "automargin": true,
           "gridcolor": "white",
           "linecolor": "white",
           "ticks": "",
           "title": {
            "standoff": 15
           },
           "zerolinecolor": "white",
           "zerolinewidth": 2
          }
         }
        },
        "xaxis": {
         "anchor": "y",
         "constrain": "domain",
         "domain": [
          0,
          1
         ],
         "scaleanchor": "y",
         "side": "top",
         "title": {
          "text": "normal (Predicted)"
         }
        },
        "yaxis": {
         "anchor": "x",
         "autorange": "reversed",
         "constrain": "domain",
         "domain": [
          0,
          1
         ],
         "title": {
          "text": "normal"
         }
        }
       }
      }
     },
     "metadata": {},
     "output_type": "display_data"
    },
    {
     "data": {
      "application/vnd.plotly.v1+json": {
       "config": {
        "plotlyServerURL": "https://plot.ly"
       },
       "data": [
        {
         "coloraxis": "coloraxis",
         "hovertemplate": "collision_in_tool (Predicted): %{x}<br>collision_in_tool: %{y}<br>color: %{z}<extra></extra>",
         "name": "0",
         "texttemplate": "%{z}",
         "type": "heatmap",
         "x": [
          "Negative",
          "-Positive"
         ],
         "xaxis": "x",
         "y": [
          "True",
          "False"
         ],
         "yaxis": "y",
         "z": [
          [
           131,
           7
          ],
          [
           18,
           8
          ]
         ]
        }
       ],
       "layout": {
        "coloraxis": {
         "colorscale": [
          [
           0,
           "rgb(255,255,255)"
          ],
          [
           0.125,
           "rgb(240,240,240)"
          ],
          [
           0.25,
           "rgb(217,217,217)"
          ],
          [
           0.375,
           "rgb(189,189,189)"
          ],
          [
           0.5,
           "rgb(150,150,150)"
          ],
          [
           0.625,
           "rgb(115,115,115)"
          ],
          [
           0.75,
           "rgb(82,82,82)"
          ],
          [
           0.875,
           "rgb(37,37,37)"
          ],
          [
           1,
           "rgb(0,0,0)"
          ]
         ]
        },
        "margin": {
         "t": 60
        },
        "template": {
         "data": {
          "bar": [
           {
            "error_x": {
             "color": "#2a3f5f"
            },
            "error_y": {
             "color": "#2a3f5f"
            },
            "marker": {
             "line": {
              "color": "#E5ECF6",
              "width": 0.5
             },
             "pattern": {
              "fillmode": "overlay",
              "size": 10,
              "solidity": 0.2
             }
            },
            "type": "bar"
           }
          ],
          "barpolar": [
           {
            "marker": {
             "line": {
              "color": "#E5ECF6",
              "width": 0.5
             },
             "pattern": {
              "fillmode": "overlay",
              "size": 10,
              "solidity": 0.2
             }
            },
            "type": "barpolar"
           }
          ],
          "carpet": [
           {
            "aaxis": {
             "endlinecolor": "#2a3f5f",
             "gridcolor": "white",
             "linecolor": "white",
             "minorgridcolor": "white",
             "startlinecolor": "#2a3f5f"
            },
            "baxis": {
             "endlinecolor": "#2a3f5f",
             "gridcolor": "white",
             "linecolor": "white",
             "minorgridcolor": "white",
             "startlinecolor": "#2a3f5f"
            },
            "type": "carpet"
           }
          ],
          "choropleth": [
           {
            "colorbar": {
             "outlinewidth": 0,
             "ticks": ""
            },
            "type": "choropleth"
           }
          ],
          "contour": [
           {
            "colorbar": {
             "outlinewidth": 0,
             "ticks": ""
            },
            "colorscale": [
             [
              0,
              "#0d0887"
             ],
             [
              0.1111111111111111,
              "#46039f"
             ],
             [
              0.2222222222222222,
              "#7201a8"
             ],
             [
              0.3333333333333333,
              "#9c179e"
             ],
             [
              0.4444444444444444,
              "#bd3786"
             ],
             [
              0.5555555555555556,
              "#d8576b"
             ],
             [
              0.6666666666666666,
              "#ed7953"
             ],
             [
              0.7777777777777778,
              "#fb9f3a"
             ],
             [
              0.8888888888888888,
              "#fdca26"
             ],
             [
              1,
              "#f0f921"
             ]
            ],
            "type": "contour"
           }
          ],
          "contourcarpet": [
           {
            "colorbar": {
             "outlinewidth": 0,
             "ticks": ""
            },
            "type": "contourcarpet"
           }
          ],
          "heatmap": [
           {
            "colorbar": {
             "outlinewidth": 0,
             "ticks": ""
            },
            "colorscale": [
             [
              0,
              "#0d0887"
             ],
             [
              0.1111111111111111,
              "#46039f"
             ],
             [
              0.2222222222222222,
              "#7201a8"
             ],
             [
              0.3333333333333333,
              "#9c179e"
             ],
             [
              0.4444444444444444,
              "#bd3786"
             ],
             [
              0.5555555555555556,
              "#d8576b"
             ],
             [
              0.6666666666666666,
              "#ed7953"
             ],
             [
              0.7777777777777778,
              "#fb9f3a"
             ],
             [
              0.8888888888888888,
              "#fdca26"
             ],
             [
              1,
              "#f0f921"
             ]
            ],
            "type": "heatmap"
           }
          ],
          "heatmapgl": [
           {
            "colorbar": {
             "outlinewidth": 0,
             "ticks": ""
            },
            "colorscale": [
             [
              0,
              "#0d0887"
             ],
             [
              0.1111111111111111,
              "#46039f"
             ],
             [
              0.2222222222222222,
              "#7201a8"
             ],
             [
              0.3333333333333333,
              "#9c179e"
             ],
             [
              0.4444444444444444,
              "#bd3786"
             ],
             [
              0.5555555555555556,
              "#d8576b"
             ],
             [
              0.6666666666666666,
              "#ed7953"
             ],
             [
              0.7777777777777778,
              "#fb9f3a"
             ],
             [
              0.8888888888888888,
              "#fdca26"
             ],
             [
              1,
              "#f0f921"
             ]
            ],
            "type": "heatmapgl"
           }
          ],
          "histogram": [
           {
            "marker": {
             "pattern": {
              "fillmode": "overlay",
              "size": 10,
              "solidity": 0.2
             }
            },
            "type": "histogram"
           }
          ],
          "histogram2d": [
           {
            "colorbar": {
             "outlinewidth": 0,
             "ticks": ""
            },
            "colorscale": [
             [
              0,
              "#0d0887"
             ],
             [
              0.1111111111111111,
              "#46039f"
             ],
             [
              0.2222222222222222,
              "#7201a8"
             ],
             [
              0.3333333333333333,
              "#9c179e"
             ],
             [
              0.4444444444444444,
              "#bd3786"
             ],
             [
              0.5555555555555556,
              "#d8576b"
             ],
             [
              0.6666666666666666,
              "#ed7953"
             ],
             [
              0.7777777777777778,
              "#fb9f3a"
             ],
             [
              0.8888888888888888,
              "#fdca26"
             ],
             [
              1,
              "#f0f921"
             ]
            ],
            "type": "histogram2d"
           }
          ],
          "histogram2dcontour": [
           {
            "colorbar": {
             "outlinewidth": 0,
             "ticks": ""
            },
            "colorscale": [
             [
              0,
              "#0d0887"
             ],
             [
              0.1111111111111111,
              "#46039f"
             ],
             [
              0.2222222222222222,
              "#7201a8"
             ],
             [
              0.3333333333333333,
              "#9c179e"
             ],
             [
              0.4444444444444444,
              "#bd3786"
             ],
             [
              0.5555555555555556,
              "#d8576b"
             ],
             [
              0.6666666666666666,
              "#ed7953"
             ],
             [
              0.7777777777777778,
              "#fb9f3a"
             ],
             [
              0.8888888888888888,
              "#fdca26"
             ],
             [
              1,
              "#f0f921"
             ]
            ],
            "type": "histogram2dcontour"
           }
          ],
          "mesh3d": [
           {
            "colorbar": {
             "outlinewidth": 0,
             "ticks": ""
            },
            "type": "mesh3d"
           }
          ],
          "parcoords": [
           {
            "line": {
             "colorbar": {
              "outlinewidth": 0,
              "ticks": ""
             }
            },
            "type": "parcoords"
           }
          ],
          "pie": [
           {
            "automargin": true,
            "type": "pie"
           }
          ],
          "scatter": [
           {
            "fillpattern": {
             "fillmode": "overlay",
             "size": 10,
             "solidity": 0.2
            },
            "type": "scatter"
           }
          ],
          "scatter3d": [
           {
            "line": {
             "colorbar": {
              "outlinewidth": 0,
              "ticks": ""
             }
            },
            "marker": {
             "colorbar": {
              "outlinewidth": 0,
              "ticks": ""
             }
            },
            "type": "scatter3d"
           }
          ],
          "scattercarpet": [
           {
            "marker": {
             "colorbar": {
              "outlinewidth": 0,
              "ticks": ""
             }
            },
            "type": "scattercarpet"
           }
          ],
          "scattergeo": [
           {
            "marker": {
             "colorbar": {
              "outlinewidth": 0,
              "ticks": ""
             }
            },
            "type": "scattergeo"
           }
          ],
          "scattergl": [
           {
            "marker": {
             "colorbar": {
              "outlinewidth": 0,
              "ticks": ""
             }
            },
            "type": "scattergl"
           }
          ],
          "scattermapbox": [
           {
            "marker": {
             "colorbar": {
              "outlinewidth": 0,
              "ticks": ""
             }
            },
            "type": "scattermapbox"
           }
          ],
          "scatterpolar": [
           {
            "marker": {
             "colorbar": {
              "outlinewidth": 0,
              "ticks": ""
             }
            },
            "type": "scatterpolar"
           }
          ],
          "scatterpolargl": [
           {
            "marker": {
             "colorbar": {
              "outlinewidth": 0,
              "ticks": ""
             }
            },
            "type": "scatterpolargl"
           }
          ],
          "scatterternary": [
           {
            "marker": {
             "colorbar": {
              "outlinewidth": 0,
              "ticks": ""
             }
            },
            "type": "scatterternary"
           }
          ],
          "surface": [
           {
            "colorbar": {
             "outlinewidth": 0,
             "ticks": ""
            },
            "colorscale": [
             [
              0,
              "#0d0887"
             ],
             [
              0.1111111111111111,
              "#46039f"
             ],
             [
              0.2222222222222222,
              "#7201a8"
             ],
             [
              0.3333333333333333,
              "#9c179e"
             ],
             [
              0.4444444444444444,
              "#bd3786"
             ],
             [
              0.5555555555555556,
              "#d8576b"
             ],
             [
              0.6666666666666666,
              "#ed7953"
             ],
             [
              0.7777777777777778,
              "#fb9f3a"
             ],
             [
              0.8888888888888888,
              "#fdca26"
             ],
             [
              1,
              "#f0f921"
             ]
            ],
            "type": "surface"
           }
          ],
          "table": [
           {
            "cells": {
             "fill": {
              "color": "#EBF0F8"
             },
             "line": {
              "color": "white"
             }
            },
            "header": {
             "fill": {
              "color": "#C8D4E3"
             },
             "line": {
              "color": "white"
             }
            },
            "type": "table"
           }
          ]
         },
         "layout": {
          "annotationdefaults": {
           "arrowcolor": "#2a3f5f",
           "arrowhead": 0,
           "arrowwidth": 1
          },
          "autotypenumbers": "strict",
          "coloraxis": {
           "colorbar": {
            "outlinewidth": 0,
            "ticks": ""
           }
          },
          "colorscale": {
           "diverging": [
            [
             0,
             "#8e0152"
            ],
            [
             0.1,
             "#c51b7d"
            ],
            [
             0.2,
             "#de77ae"
            ],
            [
             0.3,
             "#f1b6da"
            ],
            [
             0.4,
             "#fde0ef"
            ],
            [
             0.5,
             "#f7f7f7"
            ],
            [
             0.6,
             "#e6f5d0"
            ],
            [
             0.7,
             "#b8e186"
            ],
            [
             0.8,
             "#7fbc41"
            ],
            [
             0.9,
             "#4d9221"
            ],
            [
             1,
             "#276419"
            ]
           ],
           "sequential": [
            [
             0,
             "#0d0887"
            ],
            [
             0.1111111111111111,
             "#46039f"
            ],
            [
             0.2222222222222222,
             "#7201a8"
            ],
            [
             0.3333333333333333,
             "#9c179e"
            ],
            [
             0.4444444444444444,
             "#bd3786"
            ],
            [
             0.5555555555555556,
             "#d8576b"
            ],
            [
             0.6666666666666666,
             "#ed7953"
            ],
            [
             0.7777777777777778,
             "#fb9f3a"
            ],
            [
             0.8888888888888888,
             "#fdca26"
            ],
            [
             1,
             "#f0f921"
            ]
           ],
           "sequentialminus": [
            [
             0,
             "#0d0887"
            ],
            [
             0.1111111111111111,
             "#46039f"
            ],
            [
             0.2222222222222222,
             "#7201a8"
            ],
            [
             0.3333333333333333,
             "#9c179e"
            ],
            [
             0.4444444444444444,
             "#bd3786"
            ],
            [
             0.5555555555555556,
             "#d8576b"
            ],
            [
             0.6666666666666666,
             "#ed7953"
            ],
            [
             0.7777777777777778,
             "#fb9f3a"
            ],
            [
             0.8888888888888888,
             "#fdca26"
            ],
            [
             1,
             "#f0f921"
            ]
           ]
          },
          "colorway": [
           "#636efa",
           "#EF553B",
           "#00cc96",
           "#ab63fa",
           "#FFA15A",
           "#19d3f3",
           "#FF6692",
           "#B6E880",
           "#FF97FF",
           "#FECB52"
          ],
          "font": {
           "color": "#2a3f5f"
          },
          "geo": {
           "bgcolor": "white",
           "lakecolor": "white",
           "landcolor": "#E5ECF6",
           "showlakes": true,
           "showland": true,
           "subunitcolor": "white"
          },
          "hoverlabel": {
           "align": "left"
          },
          "hovermode": "closest",
          "mapbox": {
           "style": "light"
          },
          "paper_bgcolor": "white",
          "plot_bgcolor": "#E5ECF6",
          "polar": {
           "angularaxis": {
            "gridcolor": "white",
            "linecolor": "white",
            "ticks": ""
           },
           "bgcolor": "#E5ECF6",
           "radialaxis": {
            "gridcolor": "white",
            "linecolor": "white",
            "ticks": ""
           }
          },
          "scene": {
           "xaxis": {
            "backgroundcolor": "#E5ECF6",
            "gridcolor": "white",
            "gridwidth": 2,
            "linecolor": "white",
            "showbackground": true,
            "ticks": "",
            "zerolinecolor": "white"
           },
           "yaxis": {
            "backgroundcolor": "#E5ECF6",
            "gridcolor": "white",
            "gridwidth": 2,
            "linecolor": "white",
            "showbackground": true,
            "ticks": "",
            "zerolinecolor": "white"
           },
           "zaxis": {
            "backgroundcolor": "#E5ECF6",
            "gridcolor": "white",
            "gridwidth": 2,
            "linecolor": "white",
            "showbackground": true,
            "ticks": "",
            "zerolinecolor": "white"
           }
          },
          "shapedefaults": {
           "line": {
            "color": "#2a3f5f"
           }
          },
          "ternary": {
           "aaxis": {
            "gridcolor": "white",
            "linecolor": "white",
            "ticks": ""
           },
           "baxis": {
            "gridcolor": "white",
            "linecolor": "white",
            "ticks": ""
           },
           "bgcolor": "#E5ECF6",
           "caxis": {
            "gridcolor": "white",
            "linecolor": "white",
            "ticks": ""
           }
          },
          "title": {
           "x": 0.05
          },
          "xaxis": {
           "automargin": true,
           "gridcolor": "white",
           "linecolor": "white",
           "ticks": "",
           "title": {
            "standoff": 15
           },
           "zerolinecolor": "white",
           "zerolinewidth": 2
          },
          "yaxis": {
           "automargin": true,
           "gridcolor": "white",
           "linecolor": "white",
           "ticks": "",
           "title": {
            "standoff": 15
           },
           "zerolinecolor": "white",
           "zerolinewidth": 2
          }
         }
        },
        "xaxis": {
         "anchor": "y",
         "constrain": "domain",
         "domain": [
          0,
          1
         ],
         "scaleanchor": "y",
         "side": "top",
         "title": {
          "text": "collision_in_tool (Predicted)"
         }
        },
        "yaxis": {
         "anchor": "x",
         "autorange": "reversed",
         "constrain": "domain",
         "domain": [
          0,
          1
         ],
         "title": {
          "text": "collision_in_tool"
         }
        }
       }
      }
     },
     "metadata": {},
     "output_type": "display_data"
    },
    {
     "data": {
      "application/vnd.plotly.v1+json": {
       "config": {
        "plotlyServerURL": "https://plot.ly"
       },
       "data": [
        {
         "coloraxis": "coloraxis",
         "hovertemplate": "collision_in_part (Predicted): %{x}<br>collision_in_part: %{y}<br>color: %{z}<extra></extra>",
         "name": "0",
         "texttemplate": "%{z}",
         "type": "heatmap",
         "x": [
          "Negative",
          "-Positive"
         ],
         "xaxis": "x",
         "y": [
          "True",
          "False"
         ],
         "yaxis": "y",
         "z": [
          [
           102,
           15
          ],
          [
           20,
           27
          ]
         ]
        }
       ],
       "layout": {
        "coloraxis": {
         "colorscale": [
          [
           0,
           "rgb(255,255,255)"
          ],
          [
           0.125,
           "rgb(240,240,240)"
          ],
          [
           0.25,
           "rgb(217,217,217)"
          ],
          [
           0.375,
           "rgb(189,189,189)"
          ],
          [
           0.5,
           "rgb(150,150,150)"
          ],
          [
           0.625,
           "rgb(115,115,115)"
          ],
          [
           0.75,
           "rgb(82,82,82)"
          ],
          [
           0.875,
           "rgb(37,37,37)"
          ],
          [
           1,
           "rgb(0,0,0)"
          ]
         ]
        },
        "margin": {
         "t": 60
        },
        "template": {
         "data": {
          "bar": [
           {
            "error_x": {
             "color": "#2a3f5f"
            },
            "error_y": {
             "color": "#2a3f5f"
            },
            "marker": {
             "line": {
              "color": "#E5ECF6",
              "width": 0.5
             },
             "pattern": {
              "fillmode": "overlay",
              "size": 10,
              "solidity": 0.2
             }
            },
            "type": "bar"
           }
          ],
          "barpolar": [
           {
            "marker": {
             "line": {
              "color": "#E5ECF6",
              "width": 0.5
             },
             "pattern": {
              "fillmode": "overlay",
              "size": 10,
              "solidity": 0.2
             }
            },
            "type": "barpolar"
           }
          ],
          "carpet": [
           {
            "aaxis": {
             "endlinecolor": "#2a3f5f",
             "gridcolor": "white",
             "linecolor": "white",
             "minorgridcolor": "white",
             "startlinecolor": "#2a3f5f"
            },
            "baxis": {
             "endlinecolor": "#2a3f5f",
             "gridcolor": "white",
             "linecolor": "white",
             "minorgridcolor": "white",
             "startlinecolor": "#2a3f5f"
            },
            "type": "carpet"
           }
          ],
          "choropleth": [
           {
            "colorbar": {
             "outlinewidth": 0,
             "ticks": ""
            },
            "type": "choropleth"
           }
          ],
          "contour": [
           {
            "colorbar": {
             "outlinewidth": 0,
             "ticks": ""
            },
            "colorscale": [
             [
              0,
              "#0d0887"
             ],
             [
              0.1111111111111111,
              "#46039f"
             ],
             [
              0.2222222222222222,
              "#7201a8"
             ],
             [
              0.3333333333333333,
              "#9c179e"
             ],
             [
              0.4444444444444444,
              "#bd3786"
             ],
             [
              0.5555555555555556,
              "#d8576b"
             ],
             [
              0.6666666666666666,
              "#ed7953"
             ],
             [
              0.7777777777777778,
              "#fb9f3a"
             ],
             [
              0.8888888888888888,
              "#fdca26"
             ],
             [
              1,
              "#f0f921"
             ]
            ],
            "type": "contour"
           }
          ],
          "contourcarpet": [
           {
            "colorbar": {
             "outlinewidth": 0,
             "ticks": ""
            },
            "type": "contourcarpet"
           }
          ],
          "heatmap": [
           {
            "colorbar": {
             "outlinewidth": 0,
             "ticks": ""
            },
            "colorscale": [
             [
              0,
              "#0d0887"
             ],
             [
              0.1111111111111111,
              "#46039f"
             ],
             [
              0.2222222222222222,
              "#7201a8"
             ],
             [
              0.3333333333333333,
              "#9c179e"
             ],
             [
              0.4444444444444444,
              "#bd3786"
             ],
             [
              0.5555555555555556,
              "#d8576b"
             ],
             [
              0.6666666666666666,
              "#ed7953"
             ],
             [
              0.7777777777777778,
              "#fb9f3a"
             ],
             [
              0.8888888888888888,
              "#fdca26"
             ],
             [
              1,
              "#f0f921"
             ]
            ],
            "type": "heatmap"
           }
          ],
          "heatmapgl": [
           {
            "colorbar": {
             "outlinewidth": 0,
             "ticks": ""
            },
            "colorscale": [
             [
              0,
              "#0d0887"
             ],
             [
              0.1111111111111111,
              "#46039f"
             ],
             [
              0.2222222222222222,
              "#7201a8"
             ],
             [
              0.3333333333333333,
              "#9c179e"
             ],
             [
              0.4444444444444444,
              "#bd3786"
             ],
             [
              0.5555555555555556,
              "#d8576b"
             ],
             [
              0.6666666666666666,
              "#ed7953"
             ],
             [
              0.7777777777777778,
              "#fb9f3a"
             ],
             [
              0.8888888888888888,
              "#fdca26"
             ],
             [
              1,
              "#f0f921"
             ]
            ],
            "type": "heatmapgl"
           }
          ],
          "histogram": [
           {
            "marker": {
             "pattern": {
              "fillmode": "overlay",
              "size": 10,
              "solidity": 0.2
             }
            },
            "type": "histogram"
           }
          ],
          "histogram2d": [
           {
            "colorbar": {
             "outlinewidth": 0,
             "ticks": ""
            },
            "colorscale": [
             [
              0,
              "#0d0887"
             ],
             [
              0.1111111111111111,
              "#46039f"
             ],
             [
              0.2222222222222222,
              "#7201a8"
             ],
             [
              0.3333333333333333,
              "#9c179e"
             ],
             [
              0.4444444444444444,
              "#bd3786"
             ],
             [
              0.5555555555555556,
              "#d8576b"
             ],
             [
              0.6666666666666666,
              "#ed7953"
             ],
             [
              0.7777777777777778,
              "#fb9f3a"
             ],
             [
              0.8888888888888888,
              "#fdca26"
             ],
             [
              1,
              "#f0f921"
             ]
            ],
            "type": "histogram2d"
           }
          ],
          "histogram2dcontour": [
           {
            "colorbar": {
             "outlinewidth": 0,
             "ticks": ""
            },
            "colorscale": [
             [
              0,
              "#0d0887"
             ],
             [
              0.1111111111111111,
              "#46039f"
             ],
             [
              0.2222222222222222,
              "#7201a8"
             ],
             [
              0.3333333333333333,
              "#9c179e"
             ],
             [
              0.4444444444444444,
              "#bd3786"
             ],
             [
              0.5555555555555556,
              "#d8576b"
             ],
             [
              0.6666666666666666,
              "#ed7953"
             ],
             [
              0.7777777777777778,
              "#fb9f3a"
             ],
             [
              0.8888888888888888,
              "#fdca26"
             ],
             [
              1,
              "#f0f921"
             ]
            ],
            "type": "histogram2dcontour"
           }
          ],
          "mesh3d": [
           {
            "colorbar": {
             "outlinewidth": 0,
             "ticks": ""
            },
            "type": "mesh3d"
           }
          ],
          "parcoords": [
           {
            "line": {
             "colorbar": {
              "outlinewidth": 0,
              "ticks": ""
             }
            },
            "type": "parcoords"
           }
          ],
          "pie": [
           {
            "automargin": true,
            "type": "pie"
           }
          ],
          "scatter": [
           {
            "fillpattern": {
             "fillmode": "overlay",
             "size": 10,
             "solidity": 0.2
            },
            "type": "scatter"
           }
          ],
          "scatter3d": [
           {
            "line": {
             "colorbar": {
              "outlinewidth": 0,
              "ticks": ""
             }
            },
            "marker": {
             "colorbar": {
              "outlinewidth": 0,
              "ticks": ""
             }
            },
            "type": "scatter3d"
           }
          ],
          "scattercarpet": [
           {
            "marker": {
             "colorbar": {
              "outlinewidth": 0,
              "ticks": ""
             }
            },
            "type": "scattercarpet"
           }
          ],
          "scattergeo": [
           {
            "marker": {
             "colorbar": {
              "outlinewidth": 0,
              "ticks": ""
             }
            },
            "type": "scattergeo"
           }
          ],
          "scattergl": [
           {
            "marker": {
             "colorbar": {
              "outlinewidth": 0,
              "ticks": ""
             }
            },
            "type": "scattergl"
           }
          ],
          "scattermapbox": [
           {
            "marker": {
             "colorbar": {
              "outlinewidth": 0,
              "ticks": ""
             }
            },
            "type": "scattermapbox"
           }
          ],
          "scatterpolar": [
           {
            "marker": {
             "colorbar": {
              "outlinewidth": 0,
              "ticks": ""
             }
            },
            "type": "scatterpolar"
           }
          ],
          "scatterpolargl": [
           {
            "marker": {
             "colorbar": {
              "outlinewidth": 0,
              "ticks": ""
             }
            },
            "type": "scatterpolargl"
           }
          ],
          "scatterternary": [
           {
            "marker": {
             "colorbar": {
              "outlinewidth": 0,
              "ticks": ""
             }
            },
            "type": "scatterternary"
           }
          ],
          "surface": [
           {
            "colorbar": {
             "outlinewidth": 0,
             "ticks": ""
            },
            "colorscale": [
             [
              0,
              "#0d0887"
             ],
             [
              0.1111111111111111,
              "#46039f"
             ],
             [
              0.2222222222222222,
              "#7201a8"
             ],
             [
              0.3333333333333333,
              "#9c179e"
             ],
             [
              0.4444444444444444,
              "#bd3786"
             ],
             [
              0.5555555555555556,
              "#d8576b"
             ],
             [
              0.6666666666666666,
              "#ed7953"
             ],
             [
              0.7777777777777778,
              "#fb9f3a"
             ],
             [
              0.8888888888888888,
              "#fdca26"
             ],
             [
              1,
              "#f0f921"
             ]
            ],
            "type": "surface"
           }
          ],
          "table": [
           {
            "cells": {
             "fill": {
              "color": "#EBF0F8"
             },
             "line": {
              "color": "white"
             }
            },
            "header": {
             "fill": {
              "color": "#C8D4E3"
             },
             "line": {
              "color": "white"
             }
            },
            "type": "table"
           }
          ]
         },
         "layout": {
          "annotationdefaults": {
           "arrowcolor": "#2a3f5f",
           "arrowhead": 0,
           "arrowwidth": 1
          },
          "autotypenumbers": "strict",
          "coloraxis": {
           "colorbar": {
            "outlinewidth": 0,
            "ticks": ""
           }
          },
          "colorscale": {
           "diverging": [
            [
             0,
             "#8e0152"
            ],
            [
             0.1,
             "#c51b7d"
            ],
            [
             0.2,
             "#de77ae"
            ],
            [
             0.3,
             "#f1b6da"
            ],
            [
             0.4,
             "#fde0ef"
            ],
            [
             0.5,
             "#f7f7f7"
            ],
            [
             0.6,
             "#e6f5d0"
            ],
            [
             0.7,
             "#b8e186"
            ],
            [
             0.8,
             "#7fbc41"
            ],
            [
             0.9,
             "#4d9221"
            ],
            [
             1,
             "#276419"
            ]
           ],
           "sequential": [
            [
             0,
             "#0d0887"
            ],
            [
             0.1111111111111111,
             "#46039f"
            ],
            [
             0.2222222222222222,
             "#7201a8"
            ],
            [
             0.3333333333333333,
             "#9c179e"
            ],
            [
             0.4444444444444444,
             "#bd3786"
            ],
            [
             0.5555555555555556,
             "#d8576b"
            ],
            [
             0.6666666666666666,
             "#ed7953"
            ],
            [
             0.7777777777777778,
             "#fb9f3a"
            ],
            [
             0.8888888888888888,
             "#fdca26"
            ],
            [
             1,
             "#f0f921"
            ]
           ],
           "sequentialminus": [
            [
             0,
             "#0d0887"
            ],
            [
             0.1111111111111111,
             "#46039f"
            ],
            [
             0.2222222222222222,
             "#7201a8"
            ],
            [
             0.3333333333333333,
             "#9c179e"
            ],
            [
             0.4444444444444444,
             "#bd3786"
            ],
            [
             0.5555555555555556,
             "#d8576b"
            ],
            [
             0.6666666666666666,
             "#ed7953"
            ],
            [
             0.7777777777777778,
             "#fb9f3a"
            ],
            [
             0.8888888888888888,
             "#fdca26"
            ],
            [
             1,
             "#f0f921"
            ]
           ]
          },
          "colorway": [
           "#636efa",
           "#EF553B",
           "#00cc96",
           "#ab63fa",
           "#FFA15A",
           "#19d3f3",
           "#FF6692",
           "#B6E880",
           "#FF97FF",
           "#FECB52"
          ],
          "font": {
           "color": "#2a3f5f"
          },
          "geo": {
           "bgcolor": "white",
           "lakecolor": "white",
           "landcolor": "#E5ECF6",
           "showlakes": true,
           "showland": true,
           "subunitcolor": "white"
          },
          "hoverlabel": {
           "align": "left"
          },
          "hovermode": "closest",
          "mapbox": {
           "style": "light"
          },
          "paper_bgcolor": "white",
          "plot_bgcolor": "#E5ECF6",
          "polar": {
           "angularaxis": {
            "gridcolor": "white",
            "linecolor": "white",
            "ticks": ""
           },
           "bgcolor": "#E5ECF6",
           "radialaxis": {
            "gridcolor": "white",
            "linecolor": "white",
            "ticks": ""
           }
          },
          "scene": {
           "xaxis": {
            "backgroundcolor": "#E5ECF6",
            "gridcolor": "white",
            "gridwidth": 2,
            "linecolor": "white",
            "showbackground": true,
            "ticks": "",
            "zerolinecolor": "white"
           },
           "yaxis": {
            "backgroundcolor": "#E5ECF6",
            "gridcolor": "white",
            "gridwidth": 2,
            "linecolor": "white",
            "showbackground": true,
            "ticks": "",
            "zerolinecolor": "white"
           },
           "zaxis": {
            "backgroundcolor": "#E5ECF6",
            "gridcolor": "white",
            "gridwidth": 2,
            "linecolor": "white",
            "showbackground": true,
            "ticks": "",
            "zerolinecolor": "white"
           }
          },
          "shapedefaults": {
           "line": {
            "color": "#2a3f5f"
           }
          },
          "ternary": {
           "aaxis": {
            "gridcolor": "white",
            "linecolor": "white",
            "ticks": ""
           },
           "baxis": {
            "gridcolor": "white",
            "linecolor": "white",
            "ticks": ""
           },
           "bgcolor": "#E5ECF6",
           "caxis": {
            "gridcolor": "white",
            "linecolor": "white",
            "ticks": ""
           }
          },
          "title": {
           "x": 0.05
          },
          "xaxis": {
           "automargin": true,
           "gridcolor": "white",
           "linecolor": "white",
           "ticks": "",
           "title": {
            "standoff": 15
           },
           "zerolinecolor": "white",
           "zerolinewidth": 2
          },
          "yaxis": {
           "automargin": true,
           "gridcolor": "white",
           "linecolor": "white",
           "ticks": "",
           "title": {
            "standoff": 15
           },
           "zerolinecolor": "white",
           "zerolinewidth": 2
          }
         }
        },
        "xaxis": {
         "anchor": "y",
         "constrain": "domain",
         "domain": [
          0,
          1
         ],
         "scaleanchor": "y",
         "side": "top",
         "title": {
          "text": "collision_in_part (Predicted)"
         }
        },
        "yaxis": {
         "anchor": "x",
         "autorange": "reversed",
         "constrain": "domain",
         "domain": [
          0,
          1
         ],
         "title": {
          "text": "collision_in_part"
         }
        }
       }
      }
     },
     "metadata": {},
     "output_type": "display_data"
    },
    {
     "data": {
      "application/vnd.plotly.v1+json": {
       "config": {
        "plotlyServerURL": "https://plot.ly"
       },
       "data": [
        {
         "coloraxis": "coloraxis",
         "hovertemplate": "bottom_collision (Predicted): %{x}<br>bottom_collision: %{y}<br>color: %{z}<extra></extra>",
         "name": "0",
         "texttemplate": "%{z}",
         "type": "heatmap",
         "x": [
          "Negative",
          "-Positive"
         ],
         "xaxis": "x",
         "y": [
          "True",
          "False"
         ],
         "yaxis": "y",
         "z": [
          [
           130,
           8
          ],
          [
           0,
           26
          ]
         ]
        }
       ],
       "layout": {
        "coloraxis": {
         "colorscale": [
          [
           0,
           "rgb(255,255,255)"
          ],
          [
           0.125,
           "rgb(240,240,240)"
          ],
          [
           0.25,
           "rgb(217,217,217)"
          ],
          [
           0.375,
           "rgb(189,189,189)"
          ],
          [
           0.5,
           "rgb(150,150,150)"
          ],
          [
           0.625,
           "rgb(115,115,115)"
          ],
          [
           0.75,
           "rgb(82,82,82)"
          ],
          [
           0.875,
           "rgb(37,37,37)"
          ],
          [
           1,
           "rgb(0,0,0)"
          ]
         ]
        },
        "margin": {
         "t": 60
        },
        "template": {
         "data": {
          "bar": [
           {
            "error_x": {
             "color": "#2a3f5f"
            },
            "error_y": {
             "color": "#2a3f5f"
            },
            "marker": {
             "line": {
              "color": "#E5ECF6",
              "width": 0.5
             },
             "pattern": {
              "fillmode": "overlay",
              "size": 10,
              "solidity": 0.2
             }
            },
            "type": "bar"
           }
          ],
          "barpolar": [
           {
            "marker": {
             "line": {
              "color": "#E5ECF6",
              "width": 0.5
             },
             "pattern": {
              "fillmode": "overlay",
              "size": 10,
              "solidity": 0.2
             }
            },
            "type": "barpolar"
           }
          ],
          "carpet": [
           {
            "aaxis": {
             "endlinecolor": "#2a3f5f",
             "gridcolor": "white",
             "linecolor": "white",
             "minorgridcolor": "white",
             "startlinecolor": "#2a3f5f"
            },
            "baxis": {
             "endlinecolor": "#2a3f5f",
             "gridcolor": "white",
             "linecolor": "white",
             "minorgridcolor": "white",
             "startlinecolor": "#2a3f5f"
            },
            "type": "carpet"
           }
          ],
          "choropleth": [
           {
            "colorbar": {
             "outlinewidth": 0,
             "ticks": ""
            },
            "type": "choropleth"
           }
          ],
          "contour": [
           {
            "colorbar": {
             "outlinewidth": 0,
             "ticks": ""
            },
            "colorscale": [
             [
              0,
              "#0d0887"
             ],
             [
              0.1111111111111111,
              "#46039f"
             ],
             [
              0.2222222222222222,
              "#7201a8"
             ],
             [
              0.3333333333333333,
              "#9c179e"
             ],
             [
              0.4444444444444444,
              "#bd3786"
             ],
             [
              0.5555555555555556,
              "#d8576b"
             ],
             [
              0.6666666666666666,
              "#ed7953"
             ],
             [
              0.7777777777777778,
              "#fb9f3a"
             ],
             [
              0.8888888888888888,
              "#fdca26"
             ],
             [
              1,
              "#f0f921"
             ]
            ],
            "type": "contour"
           }
          ],
          "contourcarpet": [
           {
            "colorbar": {
             "outlinewidth": 0,
             "ticks": ""
            },
            "type": "contourcarpet"
           }
          ],
          "heatmap": [
           {
            "colorbar": {
             "outlinewidth": 0,
             "ticks": ""
            },
            "colorscale": [
             [
              0,
              "#0d0887"
             ],
             [
              0.1111111111111111,
              "#46039f"
             ],
             [
              0.2222222222222222,
              "#7201a8"
             ],
             [
              0.3333333333333333,
              "#9c179e"
             ],
             [
              0.4444444444444444,
              "#bd3786"
             ],
             [
              0.5555555555555556,
              "#d8576b"
             ],
             [
              0.6666666666666666,
              "#ed7953"
             ],
             [
              0.7777777777777778,
              "#fb9f3a"
             ],
             [
              0.8888888888888888,
              "#fdca26"
             ],
             [
              1,
              "#f0f921"
             ]
            ],
            "type": "heatmap"
           }
          ],
          "heatmapgl": [
           {
            "colorbar": {
             "outlinewidth": 0,
             "ticks": ""
            },
            "colorscale": [
             [
              0,
              "#0d0887"
             ],
             [
              0.1111111111111111,
              "#46039f"
             ],
             [
              0.2222222222222222,
              "#7201a8"
             ],
             [
              0.3333333333333333,
              "#9c179e"
             ],
             [
              0.4444444444444444,
              "#bd3786"
             ],
             [
              0.5555555555555556,
              "#d8576b"
             ],
             [
              0.6666666666666666,
              "#ed7953"
             ],
             [
              0.7777777777777778,
              "#fb9f3a"
             ],
             [
              0.8888888888888888,
              "#fdca26"
             ],
             [
              1,
              "#f0f921"
             ]
            ],
            "type": "heatmapgl"
           }
          ],
          "histogram": [
           {
            "marker": {
             "pattern": {
              "fillmode": "overlay",
              "size": 10,
              "solidity": 0.2
             }
            },
            "type": "histogram"
           }
          ],
          "histogram2d": [
           {
            "colorbar": {
             "outlinewidth": 0,
             "ticks": ""
            },
            "colorscale": [
             [
              0,
              "#0d0887"
             ],
             [
              0.1111111111111111,
              "#46039f"
             ],
             [
              0.2222222222222222,
              "#7201a8"
             ],
             [
              0.3333333333333333,
              "#9c179e"
             ],
             [
              0.4444444444444444,
              "#bd3786"
             ],
             [
              0.5555555555555556,
              "#d8576b"
             ],
             [
              0.6666666666666666,
              "#ed7953"
             ],
             [
              0.7777777777777778,
              "#fb9f3a"
             ],
             [
              0.8888888888888888,
              "#fdca26"
             ],
             [
              1,
              "#f0f921"
             ]
            ],
            "type": "histogram2d"
           }
          ],
          "histogram2dcontour": [
           {
            "colorbar": {
             "outlinewidth": 0,
             "ticks": ""
            },
            "colorscale": [
             [
              0,
              "#0d0887"
             ],
             [
              0.1111111111111111,
              "#46039f"
             ],
             [
              0.2222222222222222,
              "#7201a8"
             ],
             [
              0.3333333333333333,
              "#9c179e"
             ],
             [
              0.4444444444444444,
              "#bd3786"
             ],
             [
              0.5555555555555556,
              "#d8576b"
             ],
             [
              0.6666666666666666,
              "#ed7953"
             ],
             [
              0.7777777777777778,
              "#fb9f3a"
             ],
             [
              0.8888888888888888,
              "#fdca26"
             ],
             [
              1,
              "#f0f921"
             ]
            ],
            "type": "histogram2dcontour"
           }
          ],
          "mesh3d": [
           {
            "colorbar": {
             "outlinewidth": 0,
             "ticks": ""
            },
            "type": "mesh3d"
           }
          ],
          "parcoords": [
           {
            "line": {
             "colorbar": {
              "outlinewidth": 0,
              "ticks": ""
             }
            },
            "type": "parcoords"
           }
          ],
          "pie": [
           {
            "automargin": true,
            "type": "pie"
           }
          ],
          "scatter": [
           {
            "fillpattern": {
             "fillmode": "overlay",
             "size": 10,
             "solidity": 0.2
            },
            "type": "scatter"
           }
          ],
          "scatter3d": [
           {
            "line": {
             "colorbar": {
              "outlinewidth": 0,
              "ticks": ""
             }
            },
            "marker": {
             "colorbar": {
              "outlinewidth": 0,
              "ticks": ""
             }
            },
            "type": "scatter3d"
           }
          ],
          "scattercarpet": [
           {
            "marker": {
             "colorbar": {
              "outlinewidth": 0,
              "ticks": ""
             }
            },
            "type": "scattercarpet"
           }
          ],
          "scattergeo": [
           {
            "marker": {
             "colorbar": {
              "outlinewidth": 0,
              "ticks": ""
             }
            },
            "type": "scattergeo"
           }
          ],
          "scattergl": [
           {
            "marker": {
             "colorbar": {
              "outlinewidth": 0,
              "ticks": ""
             }
            },
            "type": "scattergl"
           }
          ],
          "scattermapbox": [
           {
            "marker": {
             "colorbar": {
              "outlinewidth": 0,
              "ticks": ""
             }
            },
            "type": "scattermapbox"
           }
          ],
          "scatterpolar": [
           {
            "marker": {
             "colorbar": {
              "outlinewidth": 0,
              "ticks": ""
             }
            },
            "type": "scatterpolar"
           }
          ],
          "scatterpolargl": [
           {
            "marker": {
             "colorbar": {
              "outlinewidth": 0,
              "ticks": ""
             }
            },
            "type": "scatterpolargl"
           }
          ],
          "scatterternary": [
           {
            "marker": {
             "colorbar": {
              "outlinewidth": 0,
              "ticks": ""
             }
            },
            "type": "scatterternary"
           }
          ],
          "surface": [
           {
            "colorbar": {
             "outlinewidth": 0,
             "ticks": ""
            },
            "colorscale": [
             [
              0,
              "#0d0887"
             ],
             [
              0.1111111111111111,
              "#46039f"
             ],
             [
              0.2222222222222222,
              "#7201a8"
             ],
             [
              0.3333333333333333,
              "#9c179e"
             ],
             [
              0.4444444444444444,
              "#bd3786"
             ],
             [
              0.5555555555555556,
              "#d8576b"
             ],
             [
              0.6666666666666666,
              "#ed7953"
             ],
             [
              0.7777777777777778,
              "#fb9f3a"
             ],
             [
              0.8888888888888888,
              "#fdca26"
             ],
             [
              1,
              "#f0f921"
             ]
            ],
            "type": "surface"
           }
          ],
          "table": [
           {
            "cells": {
             "fill": {
              "color": "#EBF0F8"
             },
             "line": {
              "color": "white"
             }
            },
            "header": {
             "fill": {
              "color": "#C8D4E3"
             },
             "line": {
              "color": "white"
             }
            },
            "type": "table"
           }
          ]
         },
         "layout": {
          "annotationdefaults": {
           "arrowcolor": "#2a3f5f",
           "arrowhead": 0,
           "arrowwidth": 1
          },
          "autotypenumbers": "strict",
          "coloraxis": {
           "colorbar": {
            "outlinewidth": 0,
            "ticks": ""
           }
          },
          "colorscale": {
           "diverging": [
            [
             0,
             "#8e0152"
            ],
            [
             0.1,
             "#c51b7d"
            ],
            [
             0.2,
             "#de77ae"
            ],
            [
             0.3,
             "#f1b6da"
            ],
            [
             0.4,
             "#fde0ef"
            ],
            [
             0.5,
             "#f7f7f7"
            ],
            [
             0.6,
             "#e6f5d0"
            ],
            [
             0.7,
             "#b8e186"
            ],
            [
             0.8,
             "#7fbc41"
            ],
            [
             0.9,
             "#4d9221"
            ],
            [
             1,
             "#276419"
            ]
           ],
           "sequential": [
            [
             0,
             "#0d0887"
            ],
            [
             0.1111111111111111,
             "#46039f"
            ],
            [
             0.2222222222222222,
             "#7201a8"
            ],
            [
             0.3333333333333333,
             "#9c179e"
            ],
            [
             0.4444444444444444,
             "#bd3786"
            ],
            [
             0.5555555555555556,
             "#d8576b"
            ],
            [
             0.6666666666666666,
             "#ed7953"
            ],
            [
             0.7777777777777778,
             "#fb9f3a"
            ],
            [
             0.8888888888888888,
             "#fdca26"
            ],
            [
             1,
             "#f0f921"
            ]
           ],
           "sequentialminus": [
            [
             0,
             "#0d0887"
            ],
            [
             0.1111111111111111,
             "#46039f"
            ],
            [
             0.2222222222222222,
             "#7201a8"
            ],
            [
             0.3333333333333333,
             "#9c179e"
            ],
            [
             0.4444444444444444,
             "#bd3786"
            ],
            [
             0.5555555555555556,
             "#d8576b"
            ],
            [
             0.6666666666666666,
             "#ed7953"
            ],
            [
             0.7777777777777778,
             "#fb9f3a"
            ],
            [
             0.8888888888888888,
             "#fdca26"
            ],
            [
             1,
             "#f0f921"
            ]
           ]
          },
          "colorway": [
           "#636efa",
           "#EF553B",
           "#00cc96",
           "#ab63fa",
           "#FFA15A",
           "#19d3f3",
           "#FF6692",
           "#B6E880",
           "#FF97FF",
           "#FECB52"
          ],
          "font": {
           "color": "#2a3f5f"
          },
          "geo": {
           "bgcolor": "white",
           "lakecolor": "white",
           "landcolor": "#E5ECF6",
           "showlakes": true,
           "showland": true,
           "subunitcolor": "white"
          },
          "hoverlabel": {
           "align": "left"
          },
          "hovermode": "closest",
          "mapbox": {
           "style": "light"
          },
          "paper_bgcolor": "white",
          "plot_bgcolor": "#E5ECF6",
          "polar": {
           "angularaxis": {
            "gridcolor": "white",
            "linecolor": "white",
            "ticks": ""
           },
           "bgcolor": "#E5ECF6",
           "radialaxis": {
            "gridcolor": "white",
            "linecolor": "white",
            "ticks": ""
           }
          },
          "scene": {
           "xaxis": {
            "backgroundcolor": "#E5ECF6",
            "gridcolor": "white",
            "gridwidth": 2,
            "linecolor": "white",
            "showbackground": true,
            "ticks": "",
            "zerolinecolor": "white"
           },
           "yaxis": {
            "backgroundcolor": "#E5ECF6",
            "gridcolor": "white",
            "gridwidth": 2,
            "linecolor": "white",
            "showbackground": true,
            "ticks": "",
            "zerolinecolor": "white"
           },
           "zaxis": {
            "backgroundcolor": "#E5ECF6",
            "gridcolor": "white",
            "gridwidth": 2,
            "linecolor": "white",
            "showbackground": true,
            "ticks": "",
            "zerolinecolor": "white"
           }
          },
          "shapedefaults": {
           "line": {
            "color": "#2a3f5f"
           }
          },
          "ternary": {
           "aaxis": {
            "gridcolor": "white",
            "linecolor": "white",
            "ticks": ""
           },
           "baxis": {
            "gridcolor": "white",
            "linecolor": "white",
            "ticks": ""
           },
           "bgcolor": "#E5ECF6",
           "caxis": {
            "gridcolor": "white",
            "linecolor": "white",
            "ticks": ""
           }
          },
          "title": {
           "x": 0.05
          },
          "xaxis": {
           "automargin": true,
           "gridcolor": "white",
           "linecolor": "white",
           "ticks": "",
           "title": {
            "standoff": 15
           },
           "zerolinecolor": "white",
           "zerolinewidth": 2
          },
          "yaxis": {
           "automargin": true,
           "gridcolor": "white",
           "linecolor": "white",
           "ticks": "",
           "title": {
            "standoff": 15
           },
           "zerolinecolor": "white",
           "zerolinewidth": 2
          }
         }
        },
        "xaxis": {
         "anchor": "y",
         "constrain": "domain",
         "domain": [
          0,
          1
         ],
         "scaleanchor": "y",
         "side": "top",
         "title": {
          "text": "bottom_collision (Predicted)"
         }
        },
        "yaxis": {
         "anchor": "x",
         "autorange": "reversed",
         "constrain": "domain",
         "domain": [
          0,
          1
         ],
         "title": {
          "text": "bottom_collision"
         }
        }
       }
      }
     },
     "metadata": {},
     "output_type": "display_data"
    },
    {
     "data": {
      "application/vnd.plotly.v1+json": {
       "config": {
        "plotlyServerURL": "https://plot.ly"
       },
       "data": [
        {
         "coloraxis": "coloraxis",
         "hovertemplate": "bottom_obstruction (Predicted): %{x}<br>bottom_obstruction: %{y}<br>color: %{z}<extra></extra>",
         "name": "0",
         "texttemplate": "%{z}",
         "type": "heatmap",
         "x": [
          "Negative",
          "-Positive"
         ],
         "xaxis": "x",
         "y": [
          "True",
          "False"
         ],
         "yaxis": "y",
         "z": [
          [
           143,
           0
          ],
          [
           5,
           16
          ]
         ]
        }
       ],
       "layout": {
        "coloraxis": {
         "colorscale": [
          [
           0,
           "rgb(255,255,255)"
          ],
          [
           0.125,
           "rgb(240,240,240)"
          ],
          [
           0.25,
           "rgb(217,217,217)"
          ],
          [
           0.375,
           "rgb(189,189,189)"
          ],
          [
           0.5,
           "rgb(150,150,150)"
          ],
          [
           0.625,
           "rgb(115,115,115)"
          ],
          [
           0.75,
           "rgb(82,82,82)"
          ],
          [
           0.875,
           "rgb(37,37,37)"
          ],
          [
           1,
           "rgb(0,0,0)"
          ]
         ]
        },
        "margin": {
         "t": 60
        },
        "template": {
         "data": {
          "bar": [
           {
            "error_x": {
             "color": "#2a3f5f"
            },
            "error_y": {
             "color": "#2a3f5f"
            },
            "marker": {
             "line": {
              "color": "#E5ECF6",
              "width": 0.5
             },
             "pattern": {
              "fillmode": "overlay",
              "size": 10,
              "solidity": 0.2
             }
            },
            "type": "bar"
           }
          ],
          "barpolar": [
           {
            "marker": {
             "line": {
              "color": "#E5ECF6",
              "width": 0.5
             },
             "pattern": {
              "fillmode": "overlay",
              "size": 10,
              "solidity": 0.2
             }
            },
            "type": "barpolar"
           }
          ],
          "carpet": [
           {
            "aaxis": {
             "endlinecolor": "#2a3f5f",
             "gridcolor": "white",
             "linecolor": "white",
             "minorgridcolor": "white",
             "startlinecolor": "#2a3f5f"
            },
            "baxis": {
             "endlinecolor": "#2a3f5f",
             "gridcolor": "white",
             "linecolor": "white",
             "minorgridcolor": "white",
             "startlinecolor": "#2a3f5f"
            },
            "type": "carpet"
           }
          ],
          "choropleth": [
           {
            "colorbar": {
             "outlinewidth": 0,
             "ticks": ""
            },
            "type": "choropleth"
           }
          ],
          "contour": [
           {
            "colorbar": {
             "outlinewidth": 0,
             "ticks": ""
            },
            "colorscale": [
             [
              0,
              "#0d0887"
             ],
             [
              0.1111111111111111,
              "#46039f"
             ],
             [
              0.2222222222222222,
              "#7201a8"
             ],
             [
              0.3333333333333333,
              "#9c179e"
             ],
             [
              0.4444444444444444,
              "#bd3786"
             ],
             [
              0.5555555555555556,
              "#d8576b"
             ],
             [
              0.6666666666666666,
              "#ed7953"
             ],
             [
              0.7777777777777778,
              "#fb9f3a"
             ],
             [
              0.8888888888888888,
              "#fdca26"
             ],
             [
              1,
              "#f0f921"
             ]
            ],
            "type": "contour"
           }
          ],
          "contourcarpet": [
           {
            "colorbar": {
             "outlinewidth": 0,
             "ticks": ""
            },
            "type": "contourcarpet"
           }
          ],
          "heatmap": [
           {
            "colorbar": {
             "outlinewidth": 0,
             "ticks": ""
            },
            "colorscale": [
             [
              0,
              "#0d0887"
             ],
             [
              0.1111111111111111,
              "#46039f"
             ],
             [
              0.2222222222222222,
              "#7201a8"
             ],
             [
              0.3333333333333333,
              "#9c179e"
             ],
             [
              0.4444444444444444,
              "#bd3786"
             ],
             [
              0.5555555555555556,
              "#d8576b"
             ],
             [
              0.6666666666666666,
              "#ed7953"
             ],
             [
              0.7777777777777778,
              "#fb9f3a"
             ],
             [
              0.8888888888888888,
              "#fdca26"
             ],
             [
              1,
              "#f0f921"
             ]
            ],
            "type": "heatmap"
           }
          ],
          "heatmapgl": [
           {
            "colorbar": {
             "outlinewidth": 0,
             "ticks": ""
            },
            "colorscale": [
             [
              0,
              "#0d0887"
             ],
             [
              0.1111111111111111,
              "#46039f"
             ],
             [
              0.2222222222222222,
              "#7201a8"
             ],
             [
              0.3333333333333333,
              "#9c179e"
             ],
             [
              0.4444444444444444,
              "#bd3786"
             ],
             [
              0.5555555555555556,
              "#d8576b"
             ],
             [
              0.6666666666666666,
              "#ed7953"
             ],
             [
              0.7777777777777778,
              "#fb9f3a"
             ],
             [
              0.8888888888888888,
              "#fdca26"
             ],
             [
              1,
              "#f0f921"
             ]
            ],
            "type": "heatmapgl"
           }
          ],
          "histogram": [
           {
            "marker": {
             "pattern": {
              "fillmode": "overlay",
              "size": 10,
              "solidity": 0.2
             }
            },
            "type": "histogram"
           }
          ],
          "histogram2d": [
           {
            "colorbar": {
             "outlinewidth": 0,
             "ticks": ""
            },
            "colorscale": [
             [
              0,
              "#0d0887"
             ],
             [
              0.1111111111111111,
              "#46039f"
             ],
             [
              0.2222222222222222,
              "#7201a8"
             ],
             [
              0.3333333333333333,
              "#9c179e"
             ],
             [
              0.4444444444444444,
              "#bd3786"
             ],
             [
              0.5555555555555556,
              "#d8576b"
             ],
             [
              0.6666666666666666,
              "#ed7953"
             ],
             [
              0.7777777777777778,
              "#fb9f3a"
             ],
             [
              0.8888888888888888,
              "#fdca26"
             ],
             [
              1,
              "#f0f921"
             ]
            ],
            "type": "histogram2d"
           }
          ],
          "histogram2dcontour": [
           {
            "colorbar": {
             "outlinewidth": 0,
             "ticks": ""
            },
            "colorscale": [
             [
              0,
              "#0d0887"
             ],
             [
              0.1111111111111111,
              "#46039f"
             ],
             [
              0.2222222222222222,
              "#7201a8"
             ],
             [
              0.3333333333333333,
              "#9c179e"
             ],
             [
              0.4444444444444444,
              "#bd3786"
             ],
             [
              0.5555555555555556,
              "#d8576b"
             ],
             [
              0.6666666666666666,
              "#ed7953"
             ],
             [
              0.7777777777777778,
              "#fb9f3a"
             ],
             [
              0.8888888888888888,
              "#fdca26"
             ],
             [
              1,
              "#f0f921"
             ]
            ],
            "type": "histogram2dcontour"
           }
          ],
          "mesh3d": [
           {
            "colorbar": {
             "outlinewidth": 0,
             "ticks": ""
            },
            "type": "mesh3d"
           }
          ],
          "parcoords": [
           {
            "line": {
             "colorbar": {
              "outlinewidth": 0,
              "ticks": ""
             }
            },
            "type": "parcoords"
           }
          ],
          "pie": [
           {
            "automargin": true,
            "type": "pie"
           }
          ],
          "scatter": [
           {
            "fillpattern": {
             "fillmode": "overlay",
             "size": 10,
             "solidity": 0.2
            },
            "type": "scatter"
           }
          ],
          "scatter3d": [
           {
            "line": {
             "colorbar": {
              "outlinewidth": 0,
              "ticks": ""
             }
            },
            "marker": {
             "colorbar": {
              "outlinewidth": 0,
              "ticks": ""
             }
            },
            "type": "scatter3d"
           }
          ],
          "scattercarpet": [
           {
            "marker": {
             "colorbar": {
              "outlinewidth": 0,
              "ticks": ""
             }
            },
            "type": "scattercarpet"
           }
          ],
          "scattergeo": [
           {
            "marker": {
             "colorbar": {
              "outlinewidth": 0,
              "ticks": ""
             }
            },
            "type": "scattergeo"
           }
          ],
          "scattergl": [
           {
            "marker": {
             "colorbar": {
              "outlinewidth": 0,
              "ticks": ""
             }
            },
            "type": "scattergl"
           }
          ],
          "scattermapbox": [
           {
            "marker": {
             "colorbar": {
              "outlinewidth": 0,
              "ticks": ""
             }
            },
            "type": "scattermapbox"
           }
          ],
          "scatterpolar": [
           {
            "marker": {
             "colorbar": {
              "outlinewidth": 0,
              "ticks": ""
             }
            },
            "type": "scatterpolar"
           }
          ],
          "scatterpolargl": [
           {
            "marker": {
             "colorbar": {
              "outlinewidth": 0,
              "ticks": ""
             }
            },
            "type": "scatterpolargl"
           }
          ],
          "scatterternary": [
           {
            "marker": {
             "colorbar": {
              "outlinewidth": 0,
              "ticks": ""
             }
            },
            "type": "scatterternary"
           }
          ],
          "surface": [
           {
            "colorbar": {
             "outlinewidth": 0,
             "ticks": ""
            },
            "colorscale": [
             [
              0,
              "#0d0887"
             ],
             [
              0.1111111111111111,
              "#46039f"
             ],
             [
              0.2222222222222222,
              "#7201a8"
             ],
             [
              0.3333333333333333,
              "#9c179e"
             ],
             [
              0.4444444444444444,
              "#bd3786"
             ],
             [
              0.5555555555555556,
              "#d8576b"
             ],
             [
              0.6666666666666666,
              "#ed7953"
             ],
             [
              0.7777777777777778,
              "#fb9f3a"
             ],
             [
              0.8888888888888888,
              "#fdca26"
             ],
             [
              1,
              "#f0f921"
             ]
            ],
            "type": "surface"
           }
          ],
          "table": [
           {
            "cells": {
             "fill": {
              "color": "#EBF0F8"
             },
             "line": {
              "color": "white"
             }
            },
            "header": {
             "fill": {
              "color": "#C8D4E3"
             },
             "line": {
              "color": "white"
             }
            },
            "type": "table"
           }
          ]
         },
         "layout": {
          "annotationdefaults": {
           "arrowcolor": "#2a3f5f",
           "arrowhead": 0,
           "arrowwidth": 1
          },
          "autotypenumbers": "strict",
          "coloraxis": {
           "colorbar": {
            "outlinewidth": 0,
            "ticks": ""
           }
          },
          "colorscale": {
           "diverging": [
            [
             0,
             "#8e0152"
            ],
            [
             0.1,
             "#c51b7d"
            ],
            [
             0.2,
             "#de77ae"
            ],
            [
             0.3,
             "#f1b6da"
            ],
            [
             0.4,
             "#fde0ef"
            ],
            [
             0.5,
             "#f7f7f7"
            ],
            [
             0.6,
             "#e6f5d0"
            ],
            [
             0.7,
             "#b8e186"
            ],
            [
             0.8,
             "#7fbc41"
            ],
            [
             0.9,
             "#4d9221"
            ],
            [
             1,
             "#276419"
            ]
           ],
           "sequential": [
            [
             0,
             "#0d0887"
            ],
            [
             0.1111111111111111,
             "#46039f"
            ],
            [
             0.2222222222222222,
             "#7201a8"
            ],
            [
             0.3333333333333333,
             "#9c179e"
            ],
            [
             0.4444444444444444,
             "#bd3786"
            ],
            [
             0.5555555555555556,
             "#d8576b"
            ],
            [
             0.6666666666666666,
             "#ed7953"
            ],
            [
             0.7777777777777778,
             "#fb9f3a"
            ],
            [
             0.8888888888888888,
             "#fdca26"
            ],
            [
             1,
             "#f0f921"
            ]
           ],
           "sequentialminus": [
            [
             0,
             "#0d0887"
            ],
            [
             0.1111111111111111,
             "#46039f"
            ],
            [
             0.2222222222222222,
             "#7201a8"
            ],
            [
             0.3333333333333333,
             "#9c179e"
            ],
            [
             0.4444444444444444,
             "#bd3786"
            ],
            [
             0.5555555555555556,
             "#d8576b"
            ],
            [
             0.6666666666666666,
             "#ed7953"
            ],
            [
             0.7777777777777778,
             "#fb9f3a"
            ],
            [
             0.8888888888888888,
             "#fdca26"
            ],
            [
             1,
             "#f0f921"
            ]
           ]
          },
          "colorway": [
           "#636efa",
           "#EF553B",
           "#00cc96",
           "#ab63fa",
           "#FFA15A",
           "#19d3f3",
           "#FF6692",
           "#B6E880",
           "#FF97FF",
           "#FECB52"
          ],
          "font": {
           "color": "#2a3f5f"
          },
          "geo": {
           "bgcolor": "white",
           "lakecolor": "white",
           "landcolor": "#E5ECF6",
           "showlakes": true,
           "showland": true,
           "subunitcolor": "white"
          },
          "hoverlabel": {
           "align": "left"
          },
          "hovermode": "closest",
          "mapbox": {
           "style": "light"
          },
          "paper_bgcolor": "white",
          "plot_bgcolor": "#E5ECF6",
          "polar": {
           "angularaxis": {
            "gridcolor": "white",
            "linecolor": "white",
            "ticks": ""
           },
           "bgcolor": "#E5ECF6",
           "radialaxis": {
            "gridcolor": "white",
            "linecolor": "white",
            "ticks": ""
           }
          },
          "scene": {
           "xaxis": {
            "backgroundcolor": "#E5ECF6",
            "gridcolor": "white",
            "gridwidth": 2,
            "linecolor": "white",
            "showbackground": true,
            "ticks": "",
            "zerolinecolor": "white"
           },
           "yaxis": {
            "backgroundcolor": "#E5ECF6",
            "gridcolor": "white",
            "gridwidth": 2,
            "linecolor": "white",
            "showbackground": true,
            "ticks": "",
            "zerolinecolor": "white"
           },
           "zaxis": {
            "backgroundcolor": "#E5ECF6",
            "gridcolor": "white",
            "gridwidth": 2,
            "linecolor": "white",
            "showbackground": true,
            "ticks": "",
            "zerolinecolor": "white"
           }
          },
          "shapedefaults": {
           "line": {
            "color": "#2a3f5f"
           }
          },
          "ternary": {
           "aaxis": {
            "gridcolor": "white",
            "linecolor": "white",
            "ticks": ""
           },
           "baxis": {
            "gridcolor": "white",
            "linecolor": "white",
            "ticks": ""
           },
           "bgcolor": "#E5ECF6",
           "caxis": {
            "gridcolor": "white",
            "linecolor": "white",
            "ticks": ""
           }
          },
          "title": {
           "x": 0.05
          },
          "xaxis": {
           "automargin": true,
           "gridcolor": "white",
           "linecolor": "white",
           "ticks": "",
           "title": {
            "standoff": 15
           },
           "zerolinecolor": "white",
           "zerolinewidth": 2
          },
          "yaxis": {
           "automargin": true,
           "gridcolor": "white",
           "linecolor": "white",
           "ticks": "",
           "title": {
            "standoff": 15
           },
           "zerolinecolor": "white",
           "zerolinewidth": 2
          }
         }
        },
        "xaxis": {
         "anchor": "y",
         "constrain": "domain",
         "domain": [
          0,
          1
         ],
         "scaleanchor": "y",
         "side": "top",
         "title": {
          "text": "bottom_obstruction (Predicted)"
         }
        },
        "yaxis": {
         "anchor": "x",
         "autorange": "reversed",
         "constrain": "domain",
         "domain": [
          0,
          1
         ],
         "title": {
          "text": "bottom_obstruction"
         }
        }
       }
      }
     },
     "metadata": {},
     "output_type": "display_data"
    }
   ],
   "source": [
    "# Hace predicciones usando el conjunto de datos de prueba.\n",
    "pd.options.display.float_format = \"{:.0f}\".format\n",
    "predictions = model.predict(test_features)\n",
    "\n",
    "# For que itera por filas las predicciones, encuentra el valor máximo y lo cambia por 1. Si este es diferente que 1.\n",
    "for i in range(len(predictions)):\n",
    "    if(predictions[i].max() != 1):\n",
    "        row, col = np.where(predictions == predictions[i].max())\n",
    "        predictions[i][col[0]] = 1\n",
    "#Cambia todos los números que no son 1 por 0.\n",
    "predictions[predictions!=1] = 0 \n",
    "    \n",
    "# Convierte el arreglo de predicciones en un DataFrame\n",
    "predictions_df = pd.DataFrame(predictions, columns=['normal', 'collision_in_tool', 'collision_in_part', 'bottom_collision', 'bottom_obstruction'])\n",
    "\n",
    "# Crea las matrices de confusión para 5 clases.\n",
    "CM = tfa.metrics.MultiLabelConfusionMatrix(num_classes=5)\n",
    "# Se le pasan los datos \n",
    "CM.update_state(test_labels, predictions_df)\n",
    "# Se guarda el resultado\n",
    "result = CM.result().numpy()\n",
    "\n",
    "# Grafica matriz de confusión para la clase normal.\n",
    "normal = px.imshow(result[0], \n",
    "                labels = dict(x='normal (Predicted)', y='normal'),\n",
    "                x = ['Negative', '-Positive'], y=['True', 'False'],text_auto=True, color_continuous_scale='greys')\n",
    "normal.update_xaxes(side=\"top\")\n",
    "normal.show()\n",
    "\n",
    "# Grafica matriz de confusión para la clase collision_in_tool.\n",
    "collision_in_tool = px.imshow(result[1], \n",
    "                labels = dict(x='collision_in_tool (Predicted)', y='collision_in_tool'),\n",
    "                x = ['Negative', '-Positive'], y=['True', 'False'], text_auto=True, color_continuous_scale='greys')\n",
    "collision_in_tool.update_xaxes(side=\"top\")\n",
    "collision_in_tool.show()\n",
    "\n",
    "# Grafica matriz de confusión para la clase collision_in_part.\n",
    "collision_in_part = px.imshow(result[2], \n",
    "                labels = dict(x='collision_in_part (Predicted)', y='collision_in_part'),\n",
    "                x = ['Negative', '-Positive'], y=['True', 'False'], text_auto=True, color_continuous_scale='greys')\n",
    "collision_in_part.update_xaxes(side=\"top\")\n",
    "collision_in_part.show()\n",
    "\n",
    "# Grafica matriz de confusión para la clase bottom_collision.\n",
    "bottom_collision = px.imshow(result[3], \n",
    "                labels = dict(x='bottom_collision (Predicted)', y='bottom_collision'),\n",
    "                x = ['Negative', '-Positive'], y=['True', 'False'], text_auto=True, color_continuous_scale='greys')\n",
    "bottom_collision.update_xaxes(side=\"top\")\n",
    "bottom_collision.show()\n",
    "\n",
    "# Grafica matriz de confusión para la clase bottom_obstruction.\n",
    "bottom_obstruction = px.imshow(result[4], \n",
    "                labels = dict(x='bottom_obstruction (Predicted)', y='bottom_obstruction'),\n",
    "                x = ['Negative', '-Positive'], y=['True', 'False'], text_auto=True, color_continuous_scale='greys')\n",
    "bottom_obstruction.update_xaxes(side=\"top\")\n",
    "bottom_obstruction.show()\n",
    "\n",
    "model.save('ModeloConvolucion')"
   ]
  }
 ],
 "metadata": {
  "kernelspec": {
   "display_name": "Python 3",
   "language": "python",
   "name": "python3"
  },
  "language_info": {
   "codemirror_mode": {
    "name": "ipython",
    "version": 3
   },
   "file_extension": ".py",
   "mimetype": "text/x-python",
   "name": "python",
   "nbconvert_exporter": "python",
   "pygments_lexer": "ipython3",
   "version": "3.10.11"
  },
  "orig_nbformat": 4
 },
 "nbformat": 4,
 "nbformat_minor": 2
}
