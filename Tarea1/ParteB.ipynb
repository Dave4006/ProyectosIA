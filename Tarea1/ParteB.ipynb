{
 "cells": [
  {
   "attachments": {},
   "cell_type": "markdown",
   "metadata": {},
   "source": [
    "# Importar Modulos"
   ]
  },
  {
   "cell_type": "code",
   "execution_count": 2,
   "metadata": {},
   "outputs": [
    {
     "name": "stderr",
     "output_type": "stream",
     "text": [
      "C:\\Users\\dave4\\AppData\\Local\\Packages\\PythonSoftwareFoundation.Python.3.10_qbz5n2kfra8p0\\LocalCache\\local-packages\\Python310\\site-packages\\tensorflow_addons\\utils\\tfa_eol_msg.py:23: UserWarning: \n",
      "\n",
      "TensorFlow Addons (TFA) has ended development and introduction of new features.\n",
      "TFA has entered a minimal maintenance and release mode until a planned end of life in May 2024.\n",
      "Please modify downstream libraries to take dependencies from other repositories in our TensorFlow community (e.g. Keras, Keras-CV, and Keras-NLP). \n",
      "\n",
      "For more information see: https://github.com/tensorflow/addons/issues/2807 \n",
      "\n",
      "  warnings.warn(\n"
     ]
    }
   ],
   "source": [
    "import pandas as pd\n",
    "import numpy as np\n",
    "import seaborn as sn\n",
    "import plotly.express as px\n",
    "import plotly.graph_objs as go\n",
    "import tensorflow as tf\n",
    "\n",
    "from sklearn.model_selection import train_test_split\n",
    "from sklearn.metrics import multilabel_confusion_matrix\n",
    "import tensorflow_addons as tfa\n",
    "from IPython.display import display\n",
    "import keras_tuner as kt"
   ]
  },
  {
   "attachments": {},
   "cell_type": "markdown",
   "metadata": {},
   "source": [
    "# Importación de Datos"
   ]
  },
  {
   "cell_type": "code",
   "execution_count": 3,
   "metadata": {},
   "outputs": [
    {
     "data": {
      "text/html": [
       "<div>\n",
       "<style scoped>\n",
       "    .dataframe tbody tr th:only-of-type {\n",
       "        vertical-align: middle;\n",
       "    }\n",
       "\n",
       "    .dataframe tbody tr th {\n",
       "        vertical-align: top;\n",
       "    }\n",
       "\n",
       "    .dataframe thead th {\n",
       "        text-align: right;\n",
       "    }\n",
       "</style>\n",
       "<table border=\"1\" class=\"dataframe\">\n",
       "  <thead>\n",
       "    <tr style=\"text-align: right;\">\n",
       "      <th></th>\n",
       "      <th>labels</th>\n",
       "      <th>1</th>\n",
       "      <th>2</th>\n",
       "      <th>3</th>\n",
       "      <th>4</th>\n",
       "      <th>5</th>\n",
       "    </tr>\n",
       "  </thead>\n",
       "  <tbody>\n",
       "    <tr>\n",
       "      <th>0</th>\n",
       "      <td>normal</td>\n",
       "      <td></td>\n",
       "      <td></td>\n",
       "      <td></td>\n",
       "      <td></td>\n",
       "      <td></td>\n",
       "    </tr>\n",
       "    <tr>\n",
       "      <th>1</th>\n",
       "      <td>normal</td>\n",
       "      <td></td>\n",
       "      <td></td>\n",
       "      <td></td>\n",
       "      <td></td>\n",
       "      <td></td>\n",
       "    </tr>\n",
       "    <tr>\n",
       "      <th>2</th>\n",
       "      <td>normal</td>\n",
       "      <td></td>\n",
       "      <td></td>\n",
       "      <td></td>\n",
       "      <td></td>\n",
       "      <td></td>\n",
       "    </tr>\n",
       "    <tr>\n",
       "      <th>3</th>\n",
       "      <td>normal</td>\n",
       "      <td></td>\n",
       "      <td></td>\n",
       "      <td></td>\n",
       "      <td></td>\n",
       "      <td></td>\n",
       "    </tr>\n",
       "    <tr>\n",
       "      <th>4</th>\n",
       "      <td>normal</td>\n",
       "      <td></td>\n",
       "      <td></td>\n",
       "      <td></td>\n",
       "      <td></td>\n",
       "      <td></td>\n",
       "    </tr>\n",
       "    <tr>\n",
       "      <th>...</th>\n",
       "      <td>...</td>\n",
       "      <td>...</td>\n",
       "      <td>...</td>\n",
       "      <td>...</td>\n",
       "      <td>...</td>\n",
       "      <td>...</td>\n",
       "    </tr>\n",
       "    <tr>\n",
       "      <th>159</th>\n",
       "      <td>collision_in_tool</td>\n",
       "      <td></td>\n",
       "      <td></td>\n",
       "      <td></td>\n",
       "      <td></td>\n",
       "      <td></td>\n",
       "    </tr>\n",
       "    <tr>\n",
       "      <th>160</th>\n",
       "      <td>collision_in_tool</td>\n",
       "      <td></td>\n",
       "      <td></td>\n",
       "      <td></td>\n",
       "      <td></td>\n",
       "      <td></td>\n",
       "    </tr>\n",
       "    <tr>\n",
       "      <th>161</th>\n",
       "      <td>collision_in_tool</td>\n",
       "      <td></td>\n",
       "      <td></td>\n",
       "      <td></td>\n",
       "      <td></td>\n",
       "      <td></td>\n",
       "    </tr>\n",
       "    <tr>\n",
       "      <th>162</th>\n",
       "      <td>collision_in_tool</td>\n",
       "      <td></td>\n",
       "      <td></td>\n",
       "      <td></td>\n",
       "      <td></td>\n",
       "      <td></td>\n",
       "    </tr>\n",
       "    <tr>\n",
       "      <th>163</th>\n",
       "      <td>collision_in_tool</td>\n",
       "      <td></td>\n",
       "      <td></td>\n",
       "      <td></td>\n",
       "      <td></td>\n",
       "      <td></td>\n",
       "    </tr>\n",
       "  </tbody>\n",
       "</table>\n",
       "<p>164 rows × 6 columns</p>\n",
       "</div>"
      ],
      "text/plain": [
       "                labels 1  2  3  4  5 \n",
       "0               normal               \n",
       "1               normal               \n",
       "2               normal               \n",
       "3               normal               \n",
       "4               normal               \n",
       "..                 ... .. .. .. .. ..\n",
       "159  collision_in_tool               \n",
       "160  collision_in_tool               \n",
       "161  collision_in_tool               \n",
       "162  collision_in_tool               \n",
       "163  collision_in_tool               \n",
       "\n",
       "[164 rows x 6 columns]"
      ]
     },
     "metadata": {},
     "output_type": "display_data"
    },
    {
     "data": {
      "text/plain": [
       "array([[[ -2.,  -1.,  81.,   0.,  -5.,   0.],\n",
       "        [ -2.,  -1.,  79.,   0.,  -4.,   0.],\n",
       "        [ -2.,  -1.,  79.,   0.,  -4.,   0.],\n",
       "        ...,\n",
       "        [ -2.,  -1.,  78.,   0.,  -5.,   0.],\n",
       "        [ -3.,  -1.,  80.,   1.,  -4.,   1.],\n",
       "        [ -2.,  -1.,  79.,   0.,  -4.,   0.]],\n",
       "\n",
       "       [[  6.,  -1.,  79.,  -2.,   4.,  -3.],\n",
       "        [ 42.,  -3.,  80.,   5.,  53.,   3.],\n",
       "        [ -5.,   4.,  74., -15., -10.,  -1.],\n",
       "        ...,\n",
       "        [ -1.,  -5.,  80.,   6.,  -6.,   0.],\n",
       "        [ -4.,   5.,  78., -14.,  -9.,  -4.],\n",
       "        [ -4.,   1.,  80.,  -3., -12.,   5.]],\n",
       "\n",
       "       [[ -2.,  -6.,  85.,  14.,  -5.,   2.],\n",
       "        [  0.,   2.,  74.,  -7.,   1.,   0.],\n",
       "        [ -4.,  -5.,  76.,   7., -11.,   4.],\n",
       "        ...,\n",
       "        [  0.,  -9.,  87.,  13.,  -5.,   2.],\n",
       "        [ -5.,   5.,  67., -17., -16.,   7.],\n",
       "        [ -6., -10.,  86.,  16., -14.,  -1.]],\n",
       "\n",
       "       ...,\n",
       "\n",
       "       [[-12.,  17.,   3., -19., -10.,  -4.],\n",
       "        [-12.,  12.,  11., -13., -16.,  -4.],\n",
       "        [ -8.,   3.,   6.,   2., -11.,  -4.],\n",
       "        ...,\n",
       "        [  0.,   1.,   3.,   1.,   1.,  -3.],\n",
       "        [  1.,   2.,   9.,   0.,   3.,  -4.],\n",
       "        [  1.,   2.,   9.,   0.,   3.,  -4.]],\n",
       "\n",
       "       [[-41.,  21.,  -5., -23., -59.,  -4.],\n",
       "        [-32.,  21.,  -6., -25., -45.,  -4.],\n",
       "        [-21.,  12.,  -6., -14., -31.,  -4.],\n",
       "        ...,\n",
       "        [ -4.,   4.,   3.,   0.,  -1.,  -3.],\n",
       "        [ -4.,   3.,   2.,   2.,  -3.,  -3.],\n",
       "        [ -2.,   3.,   5.,   0.,  -2.,  -3.]],\n",
       "\n",
       "       [[  9., -10., -11.,  17.,   7.,  -4.],\n",
       "        [  5.,   0.,   4.,   0.,   7.,  -4.],\n",
       "        [ -3.,   6.,  -2.,  -8.,  -8.,  -4.],\n",
       "        ...,\n",
       "        [ -1.,   1.,  -3.,  -3.,  -2.,  -3.],\n",
       "        [  0.,  -1.,  -5.,  -1.,   1.,  -3.],\n",
       "        [ -1.,   1.,   4.,   0.,  -1.,  -3.]]])"
      ]
     },
     "metadata": {},
     "output_type": "display_data"
    }
   ],
   "source": [
    "#el conj de datos va de 0 a 2623 o sea 2624 datos\n",
    "pd.options.display.max_rows = 10\n",
    "pd.options.display.float_format = \"{:.3f}\".format\n",
    "\n",
    "# Recompila la información de un archivo CSV y lo guarda en un arreglo\n",
    "data_copy = np.loadtxt(\"lp5.csv\", delimiter=\",\", dtype=str)\n",
    "#  Contador de filas en el CSV\n",
    "cont = 16\n",
    "labels = []\n",
    "numbers = []\n",
    "# Arreglo de ceros con las dimensiones de los datos\n",
    "features= np.zeros((164,15,6))\n",
    "\n",
    "# Ciclo que recorre todos los datos del CSV y guarda los títulos de los datos cuando el contador es 16,\n",
    "# guarda los números en un arreglo aparte y reestablece el contador a su valor original cuando es igual a 0.\n",
    "for i in range(len(data_copy)):\n",
    "    if(cont == 16):\n",
    "        labels.append(data_copy[i])\n",
    "    if(cont<16):\n",
    "        numbers.append(data_copy[i])\n",
    "    cont -= 1\n",
    "    if(cont == 0):\n",
    "        cont = 16\n",
    "        \n",
    "# Ciclos anidados que recorren todas las dimensiones del arreglo de ceros,\n",
    "# agrupa los datos numéricos en conjuntos con forma 15x6 \n",
    "cont = 0\n",
    "for i in range(164):\n",
    "    for j in range(15):\n",
    "        for z in range(6):\n",
    "            features[i][j][z] = numbers[cont][z]\n",
    "        cont += 1\n",
    "# Convierte los datos obtenidos del primer ciclo en un dataframe\n",
    "labels_df = pd.DataFrame(labels, columns=['labels','1','2','3','4','5'])\n",
    "display(labels_df)\n",
    "display(features)"
   ]
  },
  {
   "attachments": {},
   "cell_type": "markdown",
   "metadata": {},
   "source": [
    "# Manejo de Datos y Normalización"
   ]
  },
  {
   "cell_type": "code",
   "execution_count": 4,
   "metadata": {},
   "outputs": [
    {
     "name": "stderr",
     "output_type": "stream",
     "text": [
      "C:\\Users\\dave4\\AppData\\Local\\Temp\\ipykernel_14640\\2653365139.py:11: FutureWarning: In a future version of pandas all arguments of StringMethods.split except for the argument 'pat' will be keyword-only.\n",
      "  labels_df[['1', '2', '3', '4', '5']] = labels_df['labels'].str.split(' ', 4, expand= True)\n"
     ]
    },
    {
     "data": {
      "text/plain": [
       "array([[[0.77660263, 0.78156702, 0.79084826, 0.77055903, 0.7684006 ,\n",
       "         0.77422836],\n",
       "        [0.77466005, 0.78739478, 0.78717893, 0.75156486, 0.7638679 ,\n",
       "         0.77206993],\n",
       "        [0.77401252, 0.78804231, 0.79041658, 0.74465789, 0.76106195,\n",
       "         0.77012735],\n",
       "        ...,\n",
       "        [0.78005612, 0.7804878 , 0.78437298, 0.78135118, 0.78113533,\n",
       "         0.78027196],\n",
       "        [0.78027196, 0.78091949, 0.77962443, 0.78091949, 0.78027196,\n",
       "         0.78027196],\n",
       "        [0.78027196, 0.78070365, 0.78286208, 0.78156702, 0.78091949,\n",
       "         0.78005612]],\n",
       "\n",
       "       [[0.78027196, 0.77940859, 0.79905029, 0.78372545, 0.77962443,\n",
       "         0.78113533],\n",
       "        [0.78070365, 0.78113533, 0.79667602, 0.77919275, 0.78091949,\n",
       "         0.78070365],\n",
       "        [0.77984028, 0.77962443, 0.79710771, 0.78221455, 0.77832938,\n",
       "         0.78156702],\n",
       "        ...,\n",
       "        [0.78070365, 0.77876106, 0.79948198, 0.78350961, 0.77962443,\n",
       "         0.78113533],\n",
       "        [0.77962443, 0.78178286, 0.79516512, 0.77703432, 0.77725016,\n",
       "         0.78221455],\n",
       "        [0.77940859, 0.77854522, 0.79926613, 0.78415713, 0.77768185,\n",
       "         0.7804878 ]],\n",
       "\n",
       "       [[0.78502051, 0.77725016, 0.78264623, 0.78631556, 0.78696309,\n",
       "         0.7804878 ],\n",
       "        [0.78588388, 0.78005612, 0.78717893, 0.78243039, 0.78890568,\n",
       "         0.77984028],\n",
       "        [0.78653141, 0.77876106, 0.78027196, 0.78480466, 0.78933736,\n",
       "         0.78027196],\n",
       "        ...,\n",
       "        [0.78005612, 0.78135118, 0.77962443, 0.7804878 , 0.77962443,\n",
       "         0.77962443],\n",
       "        [0.78005612, 0.78091949, 0.7789769 , 0.78091949, 0.78027196,\n",
       "         0.77962443],\n",
       "        [0.7804878 , 0.78091949, 0.78005612, 0.78156702, 0.78070365,\n",
       "         0.77962443]],\n",
       "\n",
       "       ...,\n",
       "\n",
       "       [[0.78005612, 0.78070365, 0.79689186, 0.77919275, 0.77660263,\n",
       "         0.77984028],\n",
       "        [0.77962443, 0.77832938, 0.79883445, 0.78307792, 0.77617095,\n",
       "         0.77811353],\n",
       "        [0.78005612, 0.78264623, 0.79516512, 0.77487589, 0.77681848,\n",
       "         0.7789769 ],\n",
       "        ...,\n",
       "        [0.7804878 , 0.77832938, 0.79969782, 0.78307792, 0.777466  ,\n",
       "         0.77854522],\n",
       "        [0.77940859, 0.77984028, 0.79710771, 0.77962443, 0.77573926,\n",
       "         0.77984028],\n",
       "        [0.77940859, 0.78243039, 0.79710771, 0.77530758, 0.77617095,\n",
       "         0.77940859]],\n",
       "\n",
       "       [[0.77077488, 0.79494928, 0.77617095, 0.75588172, 0.77832938,\n",
       "         0.7804878 ],\n",
       "        [0.7653788 , 0.78135118, 0.78243039, 0.777466  , 0.7638679 ,\n",
       "         0.78027196],\n",
       "        [0.76365206, 0.78264623, 0.78350961, 0.78005612, 0.75674509,\n",
       "         0.78027196],\n",
       "        ...,\n",
       "        [0.77984028, 0.78113533, 0.78243039, 0.78113533, 0.78005612,\n",
       "         0.78005612],\n",
       "        [0.78027196, 0.78113533, 0.78350961, 0.78091949, 0.78070365,\n",
       "         0.78027196],\n",
       "        [0.7804878 , 0.78091949, 0.78480466, 0.78221455, 0.78156702,\n",
       "         0.78005612]],\n",
       "\n",
       "       [[0.77789769, 0.77789769, 0.7744442 , 0.78696309, 0.78653141,\n",
       "         0.77789769],\n",
       "        [0.77832938, 0.77811353, 0.77422836, 0.78631556, 0.78868983,\n",
       "         0.7789769 ],\n",
       "        [0.77832938, 0.77789769, 0.77466005, 0.78696309, 0.78804231,\n",
       "         0.77768185],\n",
       "        ...,\n",
       "        [0.67882581, 0.70472696, 0.09842435, 0.7759551 , 0.85732787,\n",
       "         0.74940643],\n",
       "        [0.69933089, 0.73796676, 0.34448521, 0.77099072, 0.81674941,\n",
       "         0.77530758],\n",
       "        [0.72199439, 0.73170732, 0.7155191 , 0.81804446, 0.69156054,\n",
       "         0.77012735]]])"
      ]
     },
     "metadata": {},
     "output_type": "display_data"
    },
    {
     "data": {
      "text/html": [
       "<div>\n",
       "<style scoped>\n",
       "    .dataframe tbody tr th:only-of-type {\n",
       "        vertical-align: middle;\n",
       "    }\n",
       "\n",
       "    .dataframe tbody tr th {\n",
       "        vertical-align: top;\n",
       "    }\n",
       "\n",
       "    .dataframe thead th {\n",
       "        text-align: right;\n",
       "    }\n",
       "</style>\n",
       "<table border=\"1\" class=\"dataframe\">\n",
       "  <thead>\n",
       "    <tr style=\"text-align: right;\">\n",
       "      <th></th>\n",
       "      <th>1</th>\n",
       "      <th>2</th>\n",
       "      <th>3</th>\n",
       "      <th>4</th>\n",
       "      <th>5</th>\n",
       "    </tr>\n",
       "  </thead>\n",
       "  <tbody>\n",
       "    <tr>\n",
       "      <th>84</th>\n",
       "      <td>0</td>\n",
       "      <td>0</td>\n",
       "      <td>1</td>\n",
       "      <td>0</td>\n",
       "      <td>0</td>\n",
       "    </tr>\n",
       "    <tr>\n",
       "      <th>2</th>\n",
       "      <td>1</td>\n",
       "      <td>0</td>\n",
       "      <td>0</td>\n",
       "      <td>0</td>\n",
       "      <td>0</td>\n",
       "    </tr>\n",
       "    <tr>\n",
       "      <th>94</th>\n",
       "      <td>0</td>\n",
       "      <td>1</td>\n",
       "      <td>0</td>\n",
       "      <td>0</td>\n",
       "      <td>0</td>\n",
       "    </tr>\n",
       "    <tr>\n",
       "      <th>45</th>\n",
       "      <td>0</td>\n",
       "      <td>0</td>\n",
       "      <td>1</td>\n",
       "      <td>0</td>\n",
       "      <td>0</td>\n",
       "    </tr>\n",
       "    <tr>\n",
       "      <th>42</th>\n",
       "      <td>0</td>\n",
       "      <td>0</td>\n",
       "      <td>1</td>\n",
       "      <td>0</td>\n",
       "      <td>0</td>\n",
       "    </tr>\n",
       "    <tr>\n",
       "      <th>...</th>\n",
       "      <td>...</td>\n",
       "      <td>...</td>\n",
       "      <td>...</td>\n",
       "      <td>...</td>\n",
       "      <td>...</td>\n",
       "    </tr>\n",
       "    <tr>\n",
       "      <th>71</th>\n",
       "      <td>0</td>\n",
       "      <td>0</td>\n",
       "      <td>1</td>\n",
       "      <td>0</td>\n",
       "      <td>0</td>\n",
       "    </tr>\n",
       "    <tr>\n",
       "      <th>106</th>\n",
       "      <td>0</td>\n",
       "      <td>0</td>\n",
       "      <td>0</td>\n",
       "      <td>1</td>\n",
       "      <td>0</td>\n",
       "    </tr>\n",
       "    <tr>\n",
       "      <th>14</th>\n",
       "      <td>1</td>\n",
       "      <td>0</td>\n",
       "      <td>0</td>\n",
       "      <td>0</td>\n",
       "      <td>0</td>\n",
       "    </tr>\n",
       "    <tr>\n",
       "      <th>92</th>\n",
       "      <td>0</td>\n",
       "      <td>1</td>\n",
       "      <td>0</td>\n",
       "      <td>0</td>\n",
       "      <td>0</td>\n",
       "    </tr>\n",
       "    <tr>\n",
       "      <th>102</th>\n",
       "      <td>0</td>\n",
       "      <td>0</td>\n",
       "      <td>0</td>\n",
       "      <td>0</td>\n",
       "      <td>1</td>\n",
       "    </tr>\n",
       "  </tbody>\n",
       "</table>\n",
       "<p>131 rows × 5 columns</p>\n",
       "</div>"
      ],
      "text/plain": [
       "     1  2  3  4  5\n",
       "84   0  0  1  0  0\n",
       "2    1  0  0  0  0\n",
       "94   0  1  0  0  0\n",
       "45   0  0  1  0  0\n",
       "42   0  0  1  0  0\n",
       "..  .. .. .. .. ..\n",
       "71   0  0  1  0  0\n",
       "106  0  0  0  1  0\n",
       "14   1  0  0  0  0\n",
       "92   0  1  0  0  0\n",
       "102  0  0  0  0  1\n",
       "\n",
       "[131 rows x 5 columns]"
      ]
     },
     "metadata": {},
     "output_type": "display_data"
    }
   ],
   "source": [
    "# Diccionario que codifica los datos categóricos a un conjunto de números idóneo para la capa de salida.\n",
    "classes_dict = {'normal':'1 0 0 0 0', #1\n",
    "        'collision_in_tool':'0 1 0 0 0', #2\n",
    "        'collision_in_part':'0 0 1 0 0', #3\n",
    "        'bottom_collision':'0 0 0 1 0', #4\n",
    "        'bottom_obstruction':'0 0 0 0 1'} #5\n",
    "\n",
    "# Se reemplazan los datos por lo del diccionario\n",
    "labels_df = labels_df.replace({'labels':classes_dict})\n",
    "# Se separan los datos de manera que se aisle un caractér por columna.\n",
    "labels_df[['1', '2', '3', '4', '5']] = labels_df['labels'].str.split(' ', 4, expand= True)\n",
    "# Se eliminan las columnas, solo dejando las columnas llamadas \"1\", \"2\", \"3\", \"4\", \"5\"\n",
    "labels_df = labels_df.loc[:,['1', '2', '3', '4', '5']]\n",
    "# Se convierten los valores de un tipo String a uno Entero para poder ser utilizados por la red neuronal.\n",
    "labels_df[['1', '2', '3', '4', '5']]=labels_df[['1', '2', '3', '4', '5']].astype(str).astype(int)\n",
    "\n",
    "'''/* \n",
    "Function: norm\n",
    "\n",
    "Normaliza los datos a través de una función min-max entre 0 y 1 para ser alimentados a la red.\n",
    "\n",
    "Parameters:\n",
    "\n",
    "    x - Datos a normalizar.\n",
    "    \n",
    "Returns:\n",
    "\n",
    "    Los datos alimentados ya normalizados.\n",
    "*/'''\n",
    "\n",
    "def norm(x):\n",
    "    x_min = x.min()\n",
    "    x_max = x.max()\n",
    "    range = x_max - x_min  #min max entre 0 y 1\n",
    "    return((x-x_min)/(range))\n",
    "\n",
    "# Normaliza las características.\n",
    "norm_features = norm(features)\n",
    "# Split para entrenamiento y validacion, con 20% para testeo y se aleatorizan.\n",
    "train_features, test_features, train_labels, test_labels  = train_test_split(norm_features, labels_df, test_size=0.2, random_state= 42)\n",
    "display(train_features)\n",
    "display(train_labels)"
   ]
  },
  {
   "attachments": {},
   "cell_type": "markdown",
   "metadata": {},
   "source": [
    "# Creación del Modelo"
   ]
  },
  {
   "cell_type": "code",
   "execution_count": 5,
   "metadata": {},
   "outputs": [
    {
     "name": "stdout",
     "output_type": "stream",
     "text": [
      "Model: \"sequential\"\n",
      "_________________________________________________________________\n",
      " Layer (type)                Output Shape              Param #   \n",
      "=================================================================\n",
      " conv2d (Conv2D)             (None, 15, 6, 8)          80        \n",
      "                                                                 \n",
      " conv2d_1 (Conv2D)           (None, 15, 6, 8)          584       \n",
      "                                                                 \n",
      " max_pooling2d (MaxPooling2D  (None, 7, 3, 8)          0         \n",
      " )                                                               \n",
      "                                                                 \n",
      " dropout (Dropout)           (None, 7, 3, 8)           0         \n",
      "                                                                 \n",
      " conv2d_2 (Conv2D)           (None, 7, 3, 16)          1168      \n",
      "                                                                 \n",
      " conv2d_3 (Conv2D)           (None, 7, 3, 16)          2320      \n",
      "                                                                 \n",
      " max_pooling2d_1 (MaxPooling  (None, 3, 1, 16)         0         \n",
      " 2D)                                                             \n",
      "                                                                 \n",
      " dropout_1 (Dropout)         (None, 3, 1, 16)          0         \n",
      "                                                                 \n",
      " flatten (Flatten)           (None, 48)                0         \n",
      "                                                                 \n",
      " dense (Dense)               (None, 24)                1176      \n",
      "                                                                 \n",
      " dense_1 (Dense)             (None, 5)                 125       \n",
      "                                                                 \n",
      "=================================================================\n",
      "Total params: 5,453\n",
      "Trainable params: 5,453\n",
      "Non-trainable params: 0\n",
      "_________________________________________________________________\n"
     ]
    }
   ],
   "source": [
    "'''/* \n",
    "Function: my_model\n",
    "\n",
    "Genera el modelo categórico convolucional y lo compila. El modelo consiste de lo siguiente:\n",
    "    - Una capa de entradas de forma (15,6,1) que es igual a las dimensiones de la matriz de datos.\n",
    "    \n",
    "    - Una capa de convolución de dos dimensiones que genera 8 filtros, tiene un kernel 3x3, \n",
    "        función de activación ReLu y un padding para que mantenga las dimensiones de la entrada.\n",
    "    - Una capa de convolución de dos dimensiones que genera 8 filtros, tiene un kernel 3x3, \n",
    "        función de activación ReLu y un padding para que mantenga las dimensiones de la entrada.\n",
    "    - Una capa de Max Pooling con un pool de 2x2, un salto de 2 casillas y sin padding.\n",
    "    - Una capa de Dropout razón con una razón de 0.3\n",
    "\n",
    "    - Una capa de convolución de dos dimensiones que genera 16 filtros, tiene un kernel 3x3, \n",
    "        función de activación ReLu y un padding para que mantenga las dimensiones de la entrada.\n",
    "    - Una capa de convolución de dos dimensiones que genera 16 filtros, tiene un kernel 3x3, \n",
    "        función de activación ReLu y un padding para que mantenga las dimensiones de la entrada.\n",
    "    - Una capa de Max Pooling con un pool de 2x2, un salto de 2 casillas y sin padding.\n",
    "    - Una capa de Dropout razón con una razón de 0.2.\n",
    "    \n",
    "    - Una capa de flatten para pasar de varias dimensiones a una.\n",
    "    - Una capa oculta con 24 neuronas y con una función de activación ReLu.\n",
    "    - Una capa de salida con 5 neuronas. Una por categoría.\n",
    "    \n",
    "    - Utiliza ADAM como optimizador.\n",
    "    - La función de pérdida es la Entropía Cruzada Categórica.\n",
    "    - La métrica de evaluación es la exactitud.\n",
    "    \n",
    "Parameters:\n",
    "\n",
    "    my_learning_rate - Razón de aprendizaje.\n",
    "    \n",
    "Returns:\n",
    "\n",
    "    El modelo neuronal ya creado.\n",
    "*/'''\n",
    "\n",
    "def my_model(learning_rate):\n",
    "    model = tf.keras.Sequential([\n",
    "        tf.keras.layers.Conv2D(8, (3,3), activation='relu', input_shape = (15,6,1), padding='same'), # #de feature maps, dimensiones del kernel, kernel entre más pequeño mejor y se prefiere un número impar\n",
    "        tf.keras.layers.Conv2D(8, (3,3), activation='relu', padding='same'),\n",
    "        tf.keras.layers.MaxPooling2D((2,2), strides= 2, padding= 'valid'), # dimensiones del pooling\n",
    "        tf.keras.layers.Dropout(0.3),\n",
    "        tf.keras.layers.Conv2D(16, (3,3), activation='relu', padding='same'),\n",
    "        tf.keras.layers.Conv2D(16, (3,3), activation='relu', padding='same'),# #de feature maps, dimensiones del kernel, kernel entre más pequeño mejor y se prefiere un número impar\n",
    "        tf.keras.layers.MaxPooling2D((2,2), strides= 2, padding='valid'), # dimensiones del pooling\n",
    "        tf.keras.layers.Dropout(0.2),\n",
    "        tf.keras.layers.Flatten(),\n",
    "        tf.keras.layers.Dense(24, activation='relu'),\n",
    "        tf.keras.layers.Dense(5, activation='softmax')])\n",
    "    \n",
    "    model.compile(optimizer=tf.keras.optimizers.Adam(learning_rate), loss=tf.keras.losses.CategoricalCrossentropy(from_logits=True),\n",
    "                metrics=['accuracy'])\n",
    "    \n",
    "    return model\n",
    "\n",
    "model = model = my_model(0.01)\n",
    "model.summary()"
   ]
  },
  {
   "attachments": {},
   "cell_type": "markdown",
   "metadata": {},
   "source": [
    "# Entrenamiento del Modelo"
   ]
  },
  {
   "cell_type": "code",
   "execution_count": 6,
   "metadata": {},
   "outputs": [],
   "source": [
    "'''/* \n",
    "Function: train_model\n",
    "\n",
    "Alimenta los datos correspondientes a las características y etiquetas al modelo y conduce el proceso de entrenamiento y validación.\n",
    "Además de esto, también le establece al modelo la cantidad de ciclos de entrenamiento y el tamaño del batch.\n",
    "Por último crea un subconjunto de validación con un 25% de los datos de entrenamiento.\n",
    "    \n",
    "Parameters:\n",
    "\n",
    "    model - El modelo creado anteriormente.\n",
    "    features - Conjunto que contiene las características.\n",
    "    labels - Conjunto que contiene las etiquetas.\n",
    "    epochs - Cantidad de ciclos de entrenamiento\n",
    "    batch_size - Tamaño del batch.\n",
    "    \n",
    "Returns:\n",
    "\n",
    "    Los resultados del entrenamiento.\n",
    "*/'''\n",
    "\n",
    "\n",
    "def train_model(model, features, labels, epochs, batch_size):\n",
    "    history = model.fit(\n",
    "        x = features,\n",
    "        y = labels,\n",
    "        epochs= epochs,\n",
    "        batch_size= batch_size,\n",
    "        validation_split= 0.25\n",
    "    )\n",
    "    # Guarda los resultados obtenidos del proceso de entrenamiento y validación en un DataFrame.\n",
    "    # Estos resultados son las pérdidas y el número del ciclo correspondiente.\n",
    "    hist= pd.DataFrame(history.history)\n",
    "    # Añade al DataFrame la información sobre los ciclos.\n",
    "    hist['epoch'] = history.epoch\n",
    "    \n",
    "    return hist"
   ]
  },
  {
   "attachments": {},
   "cell_type": "markdown",
   "metadata": {},
   "source": [
    "# Visualizaciones"
   ]
  },
  {
   "cell_type": "code",
   "execution_count": 7,
   "metadata": {},
   "outputs": [],
   "source": [
    "'''/* \n",
    "Function: loss_curve\n",
    "\n",
    "Grafica las curvas de pérdida correspondientes al entrenamiento y la validación.\n",
    "    \n",
    "Parameters:\n",
    "\n",
    "    history - Resultados provenientes del proceso de entrenamiento.\n",
    "    \n",
    "Returns:\n",
    "\n",
    "    Las gráficas ya creadas.\n",
    "*/'''\n",
    "\n",
    "def loss_curves(history):\n",
    "    hist = history\n",
    "    # Cambia los títulos de cada columna que contiene los datos de exactitud por una versión más legible\n",
    "    labels = {\"loss\":\"Training Loss\", \"val_loss\":\"Validation Loss\"}\n",
    "    hist.rename(columns = labels, inplace = True)\n",
    "    \n",
    "    # Crea la figura, establece los títulos de eje y la paleta de colors\n",
    "    fig = px.line(hist, x='epoch', y=['Training Loss', 'Validation Loss'],\n",
    "                title='Gráficas de Pérdida de Entrenamiento y Evaluación',\n",
    "                labels={\"epoch\": \"Epoch\", \"value\":\"Binary Cross Entropy\", \"variable\":\"Curvas de Pérdida\"},\n",
    "                color_discrete_map={\n",
    "                \"Training Loss\": \"#46039f\", \"Validation Loss\": \"#fb9f3a\"})\n",
    "    # Actualiza el tema de la gráfica.\n",
    "    fig.update_layout(template='plotly_white')\n",
    "    fig.show()\n",
    "    \n",
    "'''/* \n",
    "Function: accuracy_curve\n",
    "\n",
    "Grafica las curvas de exactitud correspondientes al entrenamiento y la validación.\n",
    "    \n",
    "Parameters:\n",
    "\n",
    "    history - Resultados provenientes del proceso de entrenamiento.\n",
    "    \n",
    "Returns:\n",
    "\n",
    "    Las gráficas ya creadas.\n",
    "*/'''\n",
    "    \n",
    "def accuracy_curve(history):\n",
    "    hist = history\n",
    "    # Cambia los títulos de cada columna que contiene los datos de exactitud por una versión más legible\n",
    "    labels = {\"val_accuracy\":\"Exactitud de Validación\", \"accuracy\":\"Exactitud de Entrenamiento\"}\n",
    "    hist.rename(columns = labels, inplace = True)\n",
    "    \n",
    "    # Crea la figura, establece los títulos de eje y la paleta de colors\n",
    "    fig = px.line(hist, x='epoch', y=['Exactitud de Entrenamiento', 'Exactitud de Validación'],\n",
    "                title='Gráficas de Exactitud',\n",
    "                labels={\"epoch\": \"Epoch\", \"value\":\"Exactitud\", \"variable\":\"Curvas de Exactitud\"},\n",
    "                color_discrete_map={\n",
    "                \"Training Loss\": \"#46039f\", \"Validation Loss\": \"#fb9f3a\"})\n",
    "    # Actualiza el tema de la gráfica.\n",
    "    fig.update_layout(template='plotly_white')\n",
    "    fig.show()"
   ]
  },
  {
   "attachments": {},
   "cell_type": "markdown",
   "metadata": {},
   "source": [
    "# Se corren las funciones"
   ]
  },
  {
   "cell_type": "code",
   "execution_count": 8,
   "metadata": {},
   "outputs": [
    {
     "name": "stdout",
     "output_type": "stream",
     "text": [
      "Epoch 1/300\n"
     ]
    },
    {
     "name": "stderr",
     "output_type": "stream",
     "text": [
      "C:\\Users\\dave4\\AppData\\Local\\Packages\\PythonSoftwareFoundation.Python.3.10_qbz5n2kfra8p0\\LocalCache\\local-packages\\Python310\\site-packages\\keras\\backend.py:5561: UserWarning: \"`categorical_crossentropy` received `from_logits=True`, but the `output` argument was produced by a Softmax activation and thus does not represent logits. Was this intended?\n",
      "  output, from_logits = _get_logits(\n"
     ]
    },
    {
     "name": "stdout",
     "output_type": "stream",
     "text": [
      "20/20 [==============================] - 1s 12ms/step - loss: 1.6037 - accuracy: 0.2347 - val_loss: 1.5828 - val_accuracy: 0.2727\n",
      "Epoch 2/300\n",
      "20/20 [==============================] - 0s 4ms/step - loss: 1.5887 - accuracy: 0.3163 - val_loss: 1.5707 - val_accuracy: 0.2727\n",
      "Epoch 3/300\n",
      " 1/20 [>.............................] - ETA: 0s - loss: 1.5515 - accuracy: 0.4000"
     ]
    },
    {
     "name": "stderr",
     "output_type": "stream",
     "text": [
      "C:\\Users\\dave4\\AppData\\Local\\Packages\\PythonSoftwareFoundation.Python.3.10_qbz5n2kfra8p0\\LocalCache\\local-packages\\Python310\\site-packages\\keras\\backend.py:5561: UserWarning: \"`categorical_crossentropy` received `from_logits=True`, but the `output` argument was produced by a Softmax activation and thus does not represent logits. Was this intended?\n",
      "  output, from_logits = _get_logits(\n"
     ]
    },
    {
     "name": "stdout",
     "output_type": "stream",
     "text": [
      "20/20 [==============================] - 0s 4ms/step - loss: 1.5816 - accuracy: 0.3163 - val_loss: 1.5691 - val_accuracy: 0.2727\n",
      "Epoch 4/300\n",
      "20/20 [==============================] - 0s 4ms/step - loss: 1.5590 - accuracy: 0.3163 - val_loss: 1.5661 - val_accuracy: 0.2727\n",
      "Epoch 5/300\n",
      "20/20 [==============================] - 0s 4ms/step - loss: 1.5437 - accuracy: 0.3163 - val_loss: 1.5744 - val_accuracy: 0.2727\n",
      "Epoch 6/300\n",
      "20/20 [==============================] - 0s 4ms/step - loss: 1.5681 - accuracy: 0.3163 - val_loss: 1.5636 - val_accuracy: 0.2727\n",
      "Epoch 7/300\n",
      "20/20 [==============================] - 0s 4ms/step - loss: 1.5592 - accuracy: 0.3163 - val_loss: 1.5695 - val_accuracy: 0.2727\n",
      "Epoch 8/300\n",
      "20/20 [==============================] - 0s 4ms/step - loss: 1.5552 - accuracy: 0.3163 - val_loss: 1.5680 - val_accuracy: 0.2727\n",
      "Epoch 9/300\n",
      "20/20 [==============================] - 0s 4ms/step - loss: 1.5725 - accuracy: 0.2959 - val_loss: 1.5768 - val_accuracy: 0.2727\n",
      "Epoch 10/300\n",
      "20/20 [==============================] - 0s 4ms/step - loss: 1.5497 - accuracy: 0.3163 - val_loss: 1.5696 - val_accuracy: 0.2727\n",
      "Epoch 11/300\n",
      "20/20 [==============================] - 0s 5ms/step - loss: 1.5583 - accuracy: 0.3163 - val_loss: 1.5715 - val_accuracy: 0.2727\n",
      "Epoch 12/300\n",
      "20/20 [==============================] - 0s 4ms/step - loss: 1.5558 - accuracy: 0.3163 - val_loss: 1.5715 - val_accuracy: 0.2727\n",
      "Epoch 13/300\n",
      "20/20 [==============================] - 0s 4ms/step - loss: 1.5512 - accuracy: 0.3163 - val_loss: 1.5680 - val_accuracy: 0.2727\n",
      "Epoch 14/300\n",
      "20/20 [==============================] - 0s 4ms/step - loss: 1.5569 - accuracy: 0.3163 - val_loss: 1.5709 - val_accuracy: 0.2727\n",
      "Epoch 15/300\n",
      "20/20 [==============================] - 0s 4ms/step - loss: 1.5441 - accuracy: 0.3265 - val_loss: 1.5604 - val_accuracy: 0.2727\n",
      "Epoch 16/300\n",
      "20/20 [==============================] - 0s 4ms/step - loss: 1.5486 - accuracy: 0.3163 - val_loss: 1.5601 - val_accuracy: 0.2727\n",
      "Epoch 17/300\n",
      "20/20 [==============================] - 0s 4ms/step - loss: 1.5449 - accuracy: 0.3163 - val_loss: 1.5591 - val_accuracy: 0.2727\n",
      "Epoch 18/300\n",
      "20/20 [==============================] - 0s 4ms/step - loss: 1.5437 - accuracy: 0.3163 - val_loss: 1.5513 - val_accuracy: 0.2727\n",
      "Epoch 19/300\n",
      "20/20 [==============================] - 0s 4ms/step - loss: 1.5207 - accuracy: 0.3163 - val_loss: 1.5491 - val_accuracy: 0.2727\n",
      "Epoch 20/300\n",
      "20/20 [==============================] - 0s 4ms/step - loss: 1.5031 - accuracy: 0.3571 - val_loss: 1.5423 - val_accuracy: 0.2727\n",
      "Epoch 21/300\n",
      "20/20 [==============================] - 0s 4ms/step - loss: 1.5012 - accuracy: 0.3571 - val_loss: 1.5324 - val_accuracy: 0.3333\n",
      "Epoch 22/300\n",
      "20/20 [==============================] - 0s 4ms/step - loss: 1.4670 - accuracy: 0.4082 - val_loss: 1.5237 - val_accuracy: 0.2727\n",
      "Epoch 23/300\n",
      "20/20 [==============================] - 0s 5ms/step - loss: 1.4622 - accuracy: 0.3776 - val_loss: 1.4745 - val_accuracy: 0.3333\n",
      "Epoch 24/300\n",
      "20/20 [==============================] - 0s 5ms/step - loss: 1.3892 - accuracy: 0.4286 - val_loss: 1.4456 - val_accuracy: 0.3333\n",
      "Epoch 25/300\n",
      "20/20 [==============================] - 0s 5ms/step - loss: 1.3404 - accuracy: 0.4286 - val_loss: 1.4118 - val_accuracy: 0.3333\n",
      "Epoch 26/300\n",
      "20/20 [==============================] - 0s 6ms/step - loss: 1.3419 - accuracy: 0.4082 - val_loss: 1.4047 - val_accuracy: 0.3333\n",
      "Epoch 27/300\n",
      "20/20 [==============================] - 0s 5ms/step - loss: 1.2654 - accuracy: 0.4490 - val_loss: 1.4122 - val_accuracy: 0.3333\n",
      "Epoch 28/300\n",
      "20/20 [==============================] - 0s 4ms/step - loss: 1.3105 - accuracy: 0.4286 - val_loss: 1.3661 - val_accuracy: 0.3333\n",
      "Epoch 29/300\n",
      "20/20 [==============================] - 0s 4ms/step - loss: 1.2744 - accuracy: 0.4388 - val_loss: 1.3614 - val_accuracy: 0.3333\n",
      "Epoch 30/300\n",
      "20/20 [==============================] - 0s 4ms/step - loss: 1.2969 - accuracy: 0.4490 - val_loss: 1.3568 - val_accuracy: 0.3333\n",
      "Epoch 31/300\n",
      "20/20 [==============================] - 0s 4ms/step - loss: 1.2804 - accuracy: 0.4490 - val_loss: 1.3531 - val_accuracy: 0.3333\n",
      "Epoch 32/300\n",
      "20/20 [==============================] - 0s 4ms/step - loss: 1.2477 - accuracy: 0.4490 - val_loss: 1.4702 - val_accuracy: 0.3333\n",
      "Epoch 33/300\n",
      "20/20 [==============================] - 0s 4ms/step - loss: 1.2686 - accuracy: 0.4286 - val_loss: 1.3640 - val_accuracy: 0.3333\n",
      "Epoch 34/300\n",
      "20/20 [==============================] - 0s 4ms/step - loss: 1.2476 - accuracy: 0.4490 - val_loss: 1.4272 - val_accuracy: 0.3333\n",
      "Epoch 35/300\n",
      "20/20 [==============================] - 0s 4ms/step - loss: 1.2264 - accuracy: 0.4490 - val_loss: 1.3367 - val_accuracy: 0.3333\n",
      "Epoch 36/300\n",
      "20/20 [==============================] - 0s 4ms/step - loss: 1.2598 - accuracy: 0.4388 - val_loss: 1.3299 - val_accuracy: 0.3333\n",
      "Epoch 37/300\n",
      "20/20 [==============================] - 0s 4ms/step - loss: 1.2584 - accuracy: 0.4388 - val_loss: 1.3293 - val_accuracy: 0.3333\n",
      "Epoch 38/300\n",
      "20/20 [==============================] - 0s 4ms/step - loss: 1.2461 - accuracy: 0.4490 - val_loss: 1.4120 - val_accuracy: 0.3333\n",
      "Epoch 39/300\n",
      "20/20 [==============================] - 0s 4ms/step - loss: 1.2507 - accuracy: 0.4490 - val_loss: 1.3165 - val_accuracy: 0.3333\n",
      "Epoch 40/300\n",
      "20/20 [==============================] - 0s 4ms/step - loss: 1.2290 - accuracy: 0.4490 - val_loss: 1.4499 - val_accuracy: 0.3333\n",
      "Epoch 41/300\n",
      "20/20 [==============================] - 0s 4ms/step - loss: 1.2463 - accuracy: 0.4388 - val_loss: 1.3305 - val_accuracy: 0.3333\n",
      "Epoch 42/300\n",
      "20/20 [==============================] - 0s 4ms/step - loss: 1.2330 - accuracy: 0.4490 - val_loss: 1.4030 - val_accuracy: 0.3333\n",
      "Epoch 43/300\n",
      "20/20 [==============================] - 0s 4ms/step - loss: 1.2140 - accuracy: 0.4490 - val_loss: 1.3617 - val_accuracy: 0.3333\n",
      "Epoch 44/300\n",
      "20/20 [==============================] - 0s 4ms/step - loss: 1.2267 - accuracy: 0.4286 - val_loss: 1.3240 - val_accuracy: 0.3333\n",
      "Epoch 45/300\n",
      "20/20 [==============================] - 0s 4ms/step - loss: 1.2529 - accuracy: 0.4184 - val_loss: 1.4339 - val_accuracy: 0.3333\n",
      "Epoch 46/300\n",
      "20/20 [==============================] - 0s 4ms/step - loss: 1.2084 - accuracy: 0.4592 - val_loss: 1.4303 - val_accuracy: 0.3333\n",
      "Epoch 47/300\n",
      "20/20 [==============================] - 0s 4ms/step - loss: 1.1998 - accuracy: 0.4490 - val_loss: 1.3757 - val_accuracy: 0.3333\n",
      "Epoch 48/300\n",
      "20/20 [==============================] - 0s 4ms/step - loss: 1.2262 - accuracy: 0.4592 - val_loss: 1.3245 - val_accuracy: 0.3333\n",
      "Epoch 49/300\n",
      "20/20 [==============================] - 0s 4ms/step - loss: 1.1992 - accuracy: 0.4898 - val_loss: 1.2851 - val_accuracy: 0.3333\n",
      "Epoch 50/300\n",
      "20/20 [==============================] - 0s 4ms/step - loss: 1.2416 - accuracy: 0.4388 - val_loss: 1.2868 - val_accuracy: 0.3333\n",
      "Epoch 51/300\n",
      "20/20 [==============================] - 0s 4ms/step - loss: 1.1852 - accuracy: 0.4694 - val_loss: 1.6363 - val_accuracy: 0.1818\n",
      "Epoch 52/300\n",
      "20/20 [==============================] - 0s 4ms/step - loss: 1.1963 - accuracy: 0.4490 - val_loss: 1.2962 - val_accuracy: 0.3939\n",
      "Epoch 53/300\n",
      "20/20 [==============================] - 0s 4ms/step - loss: 1.1495 - accuracy: 0.4796 - val_loss: 1.2384 - val_accuracy: 0.3939\n",
      "Epoch 54/300\n",
      "20/20 [==============================] - 0s 4ms/step - loss: 1.2451 - accuracy: 0.4286 - val_loss: 1.3360 - val_accuracy: 0.4242\n",
      "Epoch 55/300\n",
      "20/20 [==============================] - 0s 4ms/step - loss: 1.1903 - accuracy: 0.4694 - val_loss: 1.2749 - val_accuracy: 0.3333\n",
      "Epoch 56/300\n",
      "20/20 [==============================] - 0s 4ms/step - loss: 1.1237 - accuracy: 0.4694 - val_loss: 1.3026 - val_accuracy: 0.3636\n",
      "Epoch 57/300\n",
      "20/20 [==============================] - 0s 4ms/step - loss: 1.2151 - accuracy: 0.4388 - val_loss: 1.2390 - val_accuracy: 0.3333\n",
      "Epoch 58/300\n",
      "20/20 [==============================] - 0s 4ms/step - loss: 1.2639 - accuracy: 0.4592 - val_loss: 1.2610 - val_accuracy: 0.3939\n",
      "Epoch 59/300\n",
      "20/20 [==============================] - 0s 4ms/step - loss: 1.2119 - accuracy: 0.4592 - val_loss: 1.2669 - val_accuracy: 0.3939\n",
      "Epoch 60/300\n",
      "20/20 [==============================] - 0s 4ms/step - loss: 1.1567 - accuracy: 0.4796 - val_loss: 1.2364 - val_accuracy: 0.3939\n",
      "Epoch 61/300\n",
      "20/20 [==============================] - 0s 4ms/step - loss: 1.1379 - accuracy: 0.4796 - val_loss: 1.2216 - val_accuracy: 0.3333\n",
      "Epoch 62/300\n",
      "20/20 [==============================] - 0s 4ms/step - loss: 1.1835 - accuracy: 0.4592 - val_loss: 1.2526 - val_accuracy: 0.3939\n",
      "Epoch 63/300\n",
      "20/20 [==============================] - 0s 4ms/step - loss: 1.1049 - accuracy: 0.4796 - val_loss: 1.2039 - val_accuracy: 0.3939\n",
      "Epoch 64/300\n",
      "20/20 [==============================] - 0s 4ms/step - loss: 1.2070 - accuracy: 0.4286 - val_loss: 1.2509 - val_accuracy: 0.3939\n",
      "Epoch 65/300\n",
      "20/20 [==============================] - 0s 4ms/step - loss: 1.2208 - accuracy: 0.4694 - val_loss: 1.2100 - val_accuracy: 0.3333\n",
      "Epoch 66/300\n",
      "20/20 [==============================] - 0s 4ms/step - loss: 1.1540 - accuracy: 0.4898 - val_loss: 1.2686 - val_accuracy: 0.3333\n",
      "Epoch 67/300\n",
      "20/20 [==============================] - 0s 4ms/step - loss: 1.1935 - accuracy: 0.4388 - val_loss: 1.2323 - val_accuracy: 0.3636\n",
      "Epoch 68/300\n",
      "20/20 [==============================] - 0s 4ms/step - loss: 1.1855 - accuracy: 0.4286 - val_loss: 1.2247 - val_accuracy: 0.3333\n",
      "Epoch 69/300\n",
      "20/20 [==============================] - 0s 4ms/step - loss: 1.1473 - accuracy: 0.4796 - val_loss: 1.1801 - val_accuracy: 0.4242\n",
      "Epoch 70/300\n",
      "20/20 [==============================] - 0s 4ms/step - loss: 1.1433 - accuracy: 0.4286 - val_loss: 1.1908 - val_accuracy: 0.3939\n",
      "Epoch 71/300\n",
      "20/20 [==============================] - 0s 4ms/step - loss: 1.1556 - accuracy: 0.4898 - val_loss: 1.1846 - val_accuracy: 0.3333\n",
      "Epoch 72/300\n",
      "20/20 [==============================] - 0s 4ms/step - loss: 1.1786 - accuracy: 0.4694 - val_loss: 1.2293 - val_accuracy: 0.3333\n",
      "Epoch 73/300\n",
      "20/20 [==============================] - 0s 4ms/step - loss: 1.2198 - accuracy: 0.4286 - val_loss: 1.2499 - val_accuracy: 0.3333\n",
      "Epoch 74/300\n",
      "20/20 [==============================] - 0s 4ms/step - loss: 1.2385 - accuracy: 0.4490 - val_loss: 1.2670 - val_accuracy: 0.3333\n",
      "Epoch 75/300\n",
      "20/20 [==============================] - 0s 4ms/step - loss: 1.1408 - accuracy: 0.4694 - val_loss: 1.2070 - val_accuracy: 0.3636\n",
      "Epoch 76/300\n",
      "20/20 [==============================] - 0s 4ms/step - loss: 1.1475 - accuracy: 0.5000 - val_loss: 1.1651 - val_accuracy: 0.4848\n",
      "Epoch 77/300\n",
      "20/20 [==============================] - 0s 4ms/step - loss: 1.1786 - accuracy: 0.4388 - val_loss: 1.1285 - val_accuracy: 0.4545\n",
      "Epoch 78/300\n",
      "20/20 [==============================] - 0s 4ms/step - loss: 1.1339 - accuracy: 0.4490 - val_loss: 1.1271 - val_accuracy: 0.3939\n",
      "Epoch 79/300\n",
      "20/20 [==============================] - 0s 4ms/step - loss: 1.1206 - accuracy: 0.4796 - val_loss: 1.1750 - val_accuracy: 0.3939\n",
      "Epoch 80/300\n",
      "20/20 [==============================] - 0s 4ms/step - loss: 1.1835 - accuracy: 0.4592 - val_loss: 1.2078 - val_accuracy: 0.3333\n",
      "Epoch 81/300\n",
      "20/20 [==============================] - 0s 4ms/step - loss: 1.0412 - accuracy: 0.5408 - val_loss: 1.1416 - val_accuracy: 0.4848\n",
      "Epoch 82/300\n",
      "20/20 [==============================] - 0s 4ms/step - loss: 1.1436 - accuracy: 0.4388 - val_loss: 1.1906 - val_accuracy: 0.3636\n",
      "Epoch 83/300\n",
      "20/20 [==============================] - 0s 4ms/step - loss: 1.1422 - accuracy: 0.4592 - val_loss: 1.0868 - val_accuracy: 0.4242\n",
      "Epoch 84/300\n",
      "20/20 [==============================] - 0s 5ms/step - loss: 1.0575 - accuracy: 0.5000 - val_loss: 1.0998 - val_accuracy: 0.4242\n",
      "Epoch 85/300\n",
      "20/20 [==============================] - 0s 4ms/step - loss: 1.1280 - accuracy: 0.5204 - val_loss: 1.0876 - val_accuracy: 0.4545\n",
      "Epoch 86/300\n",
      "20/20 [==============================] - 0s 4ms/step - loss: 1.0818 - accuracy: 0.4694 - val_loss: 1.0488 - val_accuracy: 0.5152\n",
      "Epoch 87/300\n",
      "20/20 [==============================] - 0s 4ms/step - loss: 1.1314 - accuracy: 0.4694 - val_loss: 1.0707 - val_accuracy: 0.4545\n",
      "Epoch 88/300\n",
      "20/20 [==============================] - 0s 4ms/step - loss: 1.0205 - accuracy: 0.5102 - val_loss: 1.0565 - val_accuracy: 0.4242\n",
      "Epoch 89/300\n",
      "20/20 [==============================] - 0s 4ms/step - loss: 1.1290 - accuracy: 0.4592 - val_loss: 1.1421 - val_accuracy: 0.4848\n",
      "Epoch 90/300\n",
      "20/20 [==============================] - 0s 4ms/step - loss: 1.0875 - accuracy: 0.4694 - val_loss: 1.1538 - val_accuracy: 0.4242\n",
      "Epoch 91/300\n",
      "20/20 [==============================] - 0s 4ms/step - loss: 1.1054 - accuracy: 0.4694 - val_loss: 1.0494 - val_accuracy: 0.5152\n",
      "Epoch 92/300\n",
      "20/20 [==============================] - 0s 4ms/step - loss: 1.1807 - accuracy: 0.4388 - val_loss: 1.2172 - val_accuracy: 0.3939\n",
      "Epoch 93/300\n",
      "20/20 [==============================] - 0s 4ms/step - loss: 1.1310 - accuracy: 0.4388 - val_loss: 1.2091 - val_accuracy: 0.3636\n",
      "Epoch 94/300\n",
      "20/20 [==============================] - 0s 4ms/step - loss: 1.0680 - accuracy: 0.4796 - val_loss: 1.1482 - val_accuracy: 0.3636\n",
      "Epoch 95/300\n",
      "20/20 [==============================] - 0s 5ms/step - loss: 1.0354 - accuracy: 0.4694 - val_loss: 1.0318 - val_accuracy: 0.4545\n",
      "Epoch 96/300\n",
      "20/20 [==============================] - 0s 4ms/step - loss: 1.1007 - accuracy: 0.5000 - val_loss: 1.0817 - val_accuracy: 0.4848\n",
      "Epoch 97/300\n",
      "20/20 [==============================] - 0s 4ms/step - loss: 1.1675 - accuracy: 0.4286 - val_loss: 1.1225 - val_accuracy: 0.4848\n",
      "Epoch 98/300\n",
      "20/20 [==============================] - 0s 4ms/step - loss: 1.1086 - accuracy: 0.5000 - val_loss: 1.1538 - val_accuracy: 0.3939\n",
      "Epoch 99/300\n",
      "20/20 [==============================] - 0s 4ms/step - loss: 1.0809 - accuracy: 0.5000 - val_loss: 1.0963 - val_accuracy: 0.3939\n",
      "Epoch 100/300\n",
      "20/20 [==============================] - 0s 4ms/step - loss: 1.0336 - accuracy: 0.5306 - val_loss: 1.0053 - val_accuracy: 0.5152\n",
      "Epoch 101/300\n",
      "20/20 [==============================] - 0s 5ms/step - loss: 1.1096 - accuracy: 0.4694 - val_loss: 1.0223 - val_accuracy: 0.4848\n",
      "Epoch 102/300\n",
      "20/20 [==============================] - 0s 4ms/step - loss: 1.0852 - accuracy: 0.4796 - val_loss: 1.0429 - val_accuracy: 0.4848\n",
      "Epoch 103/300\n",
      "20/20 [==============================] - 0s 5ms/step - loss: 1.0979 - accuracy: 0.4796 - val_loss: 1.0463 - val_accuracy: 0.4545\n",
      "Epoch 104/300\n",
      "20/20 [==============================] - 0s 5ms/step - loss: 1.0635 - accuracy: 0.5204 - val_loss: 1.0649 - val_accuracy: 0.4848\n",
      "Epoch 105/300\n",
      "20/20 [==============================] - 0s 4ms/step - loss: 1.2140 - accuracy: 0.4490 - val_loss: 1.2258 - val_accuracy: 0.5455\n",
      "Epoch 106/300\n",
      "20/20 [==============================] - 0s 4ms/step - loss: 1.1077 - accuracy: 0.5000 - val_loss: 1.1159 - val_accuracy: 0.3939\n",
      "Epoch 107/300\n",
      "20/20 [==============================] - 0s 4ms/step - loss: 1.1164 - accuracy: 0.4898 - val_loss: 1.0222 - val_accuracy: 0.4545\n",
      "Epoch 108/300\n",
      "20/20 [==============================] - 0s 4ms/step - loss: 1.0445 - accuracy: 0.5204 - val_loss: 1.0897 - val_accuracy: 0.4242\n",
      "Epoch 109/300\n",
      "20/20 [==============================] - 0s 4ms/step - loss: 1.0548 - accuracy: 0.4694 - val_loss: 1.1093 - val_accuracy: 0.4848\n",
      "Epoch 110/300\n",
      "20/20 [==============================] - 0s 4ms/step - loss: 1.0419 - accuracy: 0.5000 - val_loss: 1.0787 - val_accuracy: 0.4545\n",
      "Epoch 111/300\n",
      "20/20 [==============================] - 0s 5ms/step - loss: 1.0713 - accuracy: 0.5000 - val_loss: 1.0691 - val_accuracy: 0.4848\n",
      "Epoch 112/300\n",
      "20/20 [==============================] - 0s 4ms/step - loss: 1.1365 - accuracy: 0.4490 - val_loss: 1.0194 - val_accuracy: 0.4545\n",
      "Epoch 113/300\n",
      "20/20 [==============================] - 0s 4ms/step - loss: 1.0101 - accuracy: 0.5510 - val_loss: 0.9865 - val_accuracy: 0.5152\n",
      "Epoch 114/300\n",
      "20/20 [==============================] - 0s 4ms/step - loss: 1.0605 - accuracy: 0.4796 - val_loss: 1.0656 - val_accuracy: 0.4545\n",
      "Epoch 115/300\n",
      "20/20 [==============================] - 0s 4ms/step - loss: 1.0611 - accuracy: 0.4898 - val_loss: 1.1075 - val_accuracy: 0.3939\n",
      "Epoch 116/300\n",
      "20/20 [==============================] - 0s 4ms/step - loss: 1.0612 - accuracy: 0.5000 - val_loss: 1.1438 - val_accuracy: 0.3939\n",
      "Epoch 117/300\n",
      "20/20 [==============================] - 0s 4ms/step - loss: 1.0861 - accuracy: 0.4796 - val_loss: 1.1824 - val_accuracy: 0.3939\n",
      "Epoch 118/300\n",
      "20/20 [==============================] - 0s 4ms/step - loss: 1.1388 - accuracy: 0.4796 - val_loss: 1.0424 - val_accuracy: 0.5455\n",
      "Epoch 119/300\n",
      "20/20 [==============================] - 0s 4ms/step - loss: 1.0467 - accuracy: 0.5306 - val_loss: 1.0034 - val_accuracy: 0.4848\n",
      "Epoch 120/300\n",
      "20/20 [==============================] - 0s 6ms/step - loss: 1.0112 - accuracy: 0.4796 - val_loss: 0.9806 - val_accuracy: 0.5455\n",
      "Epoch 121/300\n",
      "20/20 [==============================] - 0s 5ms/step - loss: 1.1245 - accuracy: 0.4490 - val_loss: 1.1137 - val_accuracy: 0.4242\n",
      "Epoch 122/300\n",
      "20/20 [==============================] - 0s 5ms/step - loss: 1.0598 - accuracy: 0.5204 - val_loss: 1.0592 - val_accuracy: 0.4545\n",
      "Epoch 123/300\n",
      "20/20 [==============================] - 0s 5ms/step - loss: 1.0096 - accuracy: 0.5204 - val_loss: 0.9874 - val_accuracy: 0.4848\n",
      "Epoch 124/300\n",
      "20/20 [==============================] - 0s 6ms/step - loss: 0.9979 - accuracy: 0.5408 - val_loss: 0.9591 - val_accuracy: 0.4848\n",
      "Epoch 125/300\n",
      "20/20 [==============================] - 0s 6ms/step - loss: 1.0190 - accuracy: 0.4898 - val_loss: 0.9570 - val_accuracy: 0.5455\n",
      "Epoch 126/300\n",
      "20/20 [==============================] - 0s 5ms/step - loss: 0.9642 - accuracy: 0.5510 - val_loss: 0.9326 - val_accuracy: 0.4848\n",
      "Epoch 127/300\n",
      "20/20 [==============================] - 0s 5ms/step - loss: 1.0013 - accuracy: 0.5000 - val_loss: 1.0141 - val_accuracy: 0.6364\n",
      "Epoch 128/300\n",
      "20/20 [==============================] - 0s 4ms/step - loss: 1.0253 - accuracy: 0.5408 - val_loss: 0.9240 - val_accuracy: 0.5455\n",
      "Epoch 129/300\n",
      "20/20 [==============================] - 0s 4ms/step - loss: 0.9438 - accuracy: 0.5408 - val_loss: 0.9445 - val_accuracy: 0.5152\n",
      "Epoch 130/300\n",
      "20/20 [==============================] - 0s 4ms/step - loss: 1.0040 - accuracy: 0.5102 - val_loss: 0.9858 - val_accuracy: 0.5152\n",
      "Epoch 131/300\n",
      "20/20 [==============================] - 0s 4ms/step - loss: 0.9827 - accuracy: 0.5204 - val_loss: 0.9787 - val_accuracy: 0.4848\n",
      "Epoch 132/300\n",
      "20/20 [==============================] - 0s 4ms/step - loss: 1.0637 - accuracy: 0.4082 - val_loss: 1.0507 - val_accuracy: 0.4545\n",
      "Epoch 133/300\n",
      "20/20 [==============================] - 0s 4ms/step - loss: 1.0120 - accuracy: 0.5306 - val_loss: 1.0142 - val_accuracy: 0.4545\n",
      "Epoch 134/300\n",
      "20/20 [==============================] - 0s 4ms/step - loss: 0.9521 - accuracy: 0.5102 - val_loss: 1.0084 - val_accuracy: 0.4848\n",
      "Epoch 135/300\n",
      "20/20 [==============================] - 0s 4ms/step - loss: 0.9942 - accuracy: 0.5612 - val_loss: 1.0089 - val_accuracy: 0.4848\n",
      "Epoch 136/300\n",
      "20/20 [==============================] - 0s 4ms/step - loss: 0.9962 - accuracy: 0.5000 - val_loss: 1.0290 - val_accuracy: 0.5455\n",
      "Epoch 137/300\n",
      "20/20 [==============================] - 0s 4ms/step - loss: 1.0511 - accuracy: 0.5102 - val_loss: 0.9483 - val_accuracy: 0.4848\n",
      "Epoch 138/300\n",
      "20/20 [==============================] - 0s 4ms/step - loss: 0.9836 - accuracy: 0.5816 - val_loss: 1.0044 - val_accuracy: 0.5455\n",
      "Epoch 139/300\n",
      "20/20 [==============================] - 0s 4ms/step - loss: 0.9330 - accuracy: 0.5204 - val_loss: 0.9260 - val_accuracy: 0.5152\n",
      "Epoch 140/300\n",
      "20/20 [==============================] - 0s 4ms/step - loss: 1.0231 - accuracy: 0.4796 - val_loss: 0.9292 - val_accuracy: 0.5455\n",
      "Epoch 141/300\n",
      "20/20 [==============================] - 0s 5ms/step - loss: 1.0109 - accuracy: 0.5714 - val_loss: 1.0507 - val_accuracy: 0.4545\n",
      "Epoch 142/300\n",
      "20/20 [==============================] - 0s 5ms/step - loss: 1.1061 - accuracy: 0.5204 - val_loss: 1.0842 - val_accuracy: 0.4848\n",
      "Epoch 143/300\n",
      "20/20 [==============================] - 0s 4ms/step - loss: 1.0580 - accuracy: 0.5816 - val_loss: 1.0240 - val_accuracy: 0.4848\n",
      "Epoch 144/300\n",
      "20/20 [==============================] - 0s 4ms/step - loss: 0.9788 - accuracy: 0.5612 - val_loss: 0.9779 - val_accuracy: 0.4848\n",
      "Epoch 145/300\n",
      "20/20 [==============================] - 0s 4ms/step - loss: 1.0349 - accuracy: 0.5102 - val_loss: 0.9092 - val_accuracy: 0.5152\n",
      "Epoch 146/300\n",
      "20/20 [==============================] - 0s 5ms/step - loss: 0.9515 - accuracy: 0.5714 - val_loss: 0.8922 - val_accuracy: 0.5455\n",
      "Epoch 147/300\n",
      "20/20 [==============================] - 0s 4ms/step - loss: 1.0373 - accuracy: 0.4694 - val_loss: 1.0244 - val_accuracy: 0.6061\n",
      "Epoch 148/300\n",
      "20/20 [==============================] - 0s 4ms/step - loss: 0.9538 - accuracy: 0.5714 - val_loss: 0.9594 - val_accuracy: 0.4545\n",
      "Epoch 149/300\n",
      "20/20 [==============================] - 0s 4ms/step - loss: 1.0313 - accuracy: 0.5000 - val_loss: 0.9641 - val_accuracy: 0.4848\n",
      "Epoch 150/300\n",
      "20/20 [==============================] - 0s 4ms/step - loss: 0.9563 - accuracy: 0.5510 - val_loss: 0.9192 - val_accuracy: 0.5152\n",
      "Epoch 151/300\n",
      "20/20 [==============================] - 0s 4ms/step - loss: 0.9181 - accuracy: 0.5306 - val_loss: 0.9535 - val_accuracy: 0.5758\n",
      "Epoch 152/300\n",
      "20/20 [==============================] - 0s 4ms/step - loss: 0.9875 - accuracy: 0.5612 - val_loss: 0.9539 - val_accuracy: 0.5152\n",
      "Epoch 153/300\n",
      "20/20 [==============================] - 0s 4ms/step - loss: 0.9755 - accuracy: 0.5408 - val_loss: 0.9269 - val_accuracy: 0.5152\n",
      "Epoch 154/300\n",
      "20/20 [==============================] - 0s 4ms/step - loss: 0.9610 - accuracy: 0.5204 - val_loss: 0.9071 - val_accuracy: 0.5152\n",
      "Epoch 155/300\n",
      "20/20 [==============================] - 0s 4ms/step - loss: 0.9573 - accuracy: 0.5510 - val_loss: 0.8933 - val_accuracy: 0.5455\n",
      "Epoch 156/300\n",
      "20/20 [==============================] - 0s 4ms/step - loss: 0.9842 - accuracy: 0.5204 - val_loss: 0.9107 - val_accuracy: 0.4848\n",
      "Epoch 157/300\n",
      "20/20 [==============================] - 0s 4ms/step - loss: 1.0311 - accuracy: 0.4796 - val_loss: 0.9168 - val_accuracy: 0.5152\n",
      "Epoch 158/300\n",
      "20/20 [==============================] - 0s 4ms/step - loss: 1.0484 - accuracy: 0.5000 - val_loss: 1.0249 - val_accuracy: 0.5152\n",
      "Epoch 159/300\n",
      "20/20 [==============================] - 0s 4ms/step - loss: 1.0246 - accuracy: 0.5102 - val_loss: 0.9861 - val_accuracy: 0.4545\n",
      "Epoch 160/300\n",
      "20/20 [==============================] - 0s 4ms/step - loss: 0.9894 - accuracy: 0.5102 - val_loss: 0.9220 - val_accuracy: 0.5455\n",
      "Epoch 161/300\n",
      "20/20 [==============================] - 0s 4ms/step - loss: 0.9937 - accuracy: 0.4694 - val_loss: 0.8951 - val_accuracy: 0.5455\n",
      "Epoch 162/300\n",
      "20/20 [==============================] - 0s 4ms/step - loss: 1.0019 - accuracy: 0.5000 - val_loss: 0.9683 - val_accuracy: 0.5455\n",
      "Epoch 163/300\n",
      "20/20 [==============================] - 0s 4ms/step - loss: 0.9740 - accuracy: 0.5510 - val_loss: 0.9456 - val_accuracy: 0.5455\n",
      "Epoch 164/300\n",
      "20/20 [==============================] - 0s 5ms/step - loss: 0.9974 - accuracy: 0.5204 - val_loss: 1.0492 - val_accuracy: 0.4848\n",
      "Epoch 165/300\n",
      "20/20 [==============================] - 0s 5ms/step - loss: 0.9313 - accuracy: 0.5408 - val_loss: 0.9727 - val_accuracy: 0.4848\n",
      "Epoch 166/300\n",
      "20/20 [==============================] - 0s 4ms/step - loss: 0.9653 - accuracy: 0.5918 - val_loss: 0.9587 - val_accuracy: 0.4848\n",
      "Epoch 167/300\n",
      "20/20 [==============================] - 0s 4ms/step - loss: 0.9973 - accuracy: 0.5204 - val_loss: 1.0996 - val_accuracy: 0.4848\n",
      "Epoch 168/300\n",
      "20/20 [==============================] - 0s 4ms/step - loss: 0.9813 - accuracy: 0.5306 - val_loss: 0.8996 - val_accuracy: 0.5455\n",
      "Epoch 169/300\n",
      "20/20 [==============================] - 0s 4ms/step - loss: 0.9561 - accuracy: 0.5000 - val_loss: 0.9329 - val_accuracy: 0.6364\n",
      "Epoch 170/300\n",
      "20/20 [==============================] - 0s 4ms/step - loss: 0.9364 - accuracy: 0.4796 - val_loss: 0.9250 - val_accuracy: 0.4848\n",
      "Epoch 171/300\n",
      "20/20 [==============================] - 0s 5ms/step - loss: 0.9946 - accuracy: 0.4796 - val_loss: 0.9729 - val_accuracy: 0.5455\n",
      "Epoch 172/300\n",
      "20/20 [==============================] - 0s 5ms/step - loss: 0.9491 - accuracy: 0.5306 - val_loss: 0.8999 - val_accuracy: 0.5455\n",
      "Epoch 173/300\n",
      "20/20 [==============================] - 0s 4ms/step - loss: 0.9481 - accuracy: 0.5000 - val_loss: 0.8676 - val_accuracy: 0.5455\n",
      "Epoch 174/300\n",
      "20/20 [==============================] - 0s 4ms/step - loss: 0.9114 - accuracy: 0.5612 - val_loss: 0.9017 - val_accuracy: 0.5455\n",
      "Epoch 175/300\n",
      "20/20 [==============================] - 0s 4ms/step - loss: 1.0239 - accuracy: 0.4898 - val_loss: 0.9082 - val_accuracy: 0.5152\n",
      "Epoch 176/300\n",
      "20/20 [==============================] - 0s 4ms/step - loss: 0.9875 - accuracy: 0.5000 - val_loss: 0.8787 - val_accuracy: 0.6970\n",
      "Epoch 177/300\n",
      "20/20 [==============================] - 0s 5ms/step - loss: 0.9304 - accuracy: 0.5714 - val_loss: 0.8908 - val_accuracy: 0.5455\n",
      "Epoch 178/300\n",
      "20/20 [==============================] - 0s 4ms/step - loss: 0.9172 - accuracy: 0.5408 - val_loss: 0.9195 - val_accuracy: 0.4848\n",
      "Epoch 179/300\n",
      "20/20 [==============================] - 0s 4ms/step - loss: 0.9527 - accuracy: 0.5000 - val_loss: 0.8497 - val_accuracy: 0.7576\n",
      "Epoch 180/300\n",
      "20/20 [==============================] - 0s 5ms/step - loss: 1.0089 - accuracy: 0.5306 - val_loss: 1.0570 - val_accuracy: 0.4848\n",
      "Epoch 181/300\n",
      "20/20 [==============================] - 0s 5ms/step - loss: 0.9581 - accuracy: 0.5102 - val_loss: 0.8954 - val_accuracy: 0.5455\n",
      "Epoch 182/300\n",
      "20/20 [==============================] - 0s 4ms/step - loss: 0.9114 - accuracy: 0.5714 - val_loss: 0.8680 - val_accuracy: 0.6970\n",
      "Epoch 183/300\n",
      "20/20 [==============================] - 0s 4ms/step - loss: 0.8882 - accuracy: 0.5816 - val_loss: 0.8862 - val_accuracy: 0.5455\n",
      "Epoch 184/300\n",
      "20/20 [==============================] - 0s 4ms/step - loss: 0.9011 - accuracy: 0.5204 - val_loss: 0.8878 - val_accuracy: 0.5455\n",
      "Epoch 185/300\n",
      "20/20 [==============================] - 0s 5ms/step - loss: 0.9216 - accuracy: 0.5408 - val_loss: 0.8991 - val_accuracy: 0.5758\n",
      "Epoch 186/300\n",
      "20/20 [==============================] - 0s 5ms/step - loss: 0.9053 - accuracy: 0.5102 - val_loss: 0.9058 - val_accuracy: 0.5152\n",
      "Epoch 187/300\n",
      "20/20 [==============================] - 0s 4ms/step - loss: 0.8511 - accuracy: 0.6224 - val_loss: 0.8550 - val_accuracy: 0.5455\n",
      "Epoch 188/300\n",
      "20/20 [==============================] - 0s 4ms/step - loss: 0.8943 - accuracy: 0.5918 - val_loss: 0.8404 - val_accuracy: 0.7273\n",
      "Epoch 189/300\n",
      "20/20 [==============================] - 0s 5ms/step - loss: 0.8979 - accuracy: 0.5306 - val_loss: 0.8442 - val_accuracy: 0.6970\n",
      "Epoch 190/300\n",
      "20/20 [==============================] - 0s 4ms/step - loss: 0.8883 - accuracy: 0.6122 - val_loss: 0.8334 - val_accuracy: 0.7879\n",
      "Epoch 191/300\n",
      "20/20 [==============================] - 0s 4ms/step - loss: 0.8852 - accuracy: 0.5612 - val_loss: 0.8464 - val_accuracy: 0.5758\n",
      "Epoch 192/300\n",
      "20/20 [==============================] - 0s 4ms/step - loss: 0.9155 - accuracy: 0.5714 - val_loss: 0.8871 - val_accuracy: 0.6061\n",
      "Epoch 193/300\n",
      "20/20 [==============================] - 0s 4ms/step - loss: 0.9410 - accuracy: 0.4694 - val_loss: 0.9032 - val_accuracy: 0.4848\n",
      "Epoch 194/300\n",
      "20/20 [==============================] - 0s 4ms/step - loss: 1.0310 - accuracy: 0.4898 - val_loss: 0.9474 - val_accuracy: 0.5758\n",
      "Epoch 195/300\n",
      "20/20 [==============================] - 0s 4ms/step - loss: 0.9349 - accuracy: 0.5918 - val_loss: 0.8598 - val_accuracy: 0.6061\n",
      "Epoch 196/300\n",
      "20/20 [==============================] - 0s 4ms/step - loss: 0.8589 - accuracy: 0.5612 - val_loss: 0.8471 - val_accuracy: 0.6970\n",
      "Epoch 197/300\n",
      "20/20 [==============================] - 0s 4ms/step - loss: 0.8884 - accuracy: 0.5408 - val_loss: 0.8390 - val_accuracy: 0.6667\n",
      "Epoch 198/300\n",
      "20/20 [==============================] - 0s 4ms/step - loss: 0.9217 - accuracy: 0.5306 - val_loss: 0.8599 - val_accuracy: 0.6970\n",
      "Epoch 199/300\n",
      "20/20 [==============================] - 0s 4ms/step - loss: 0.8264 - accuracy: 0.5918 - val_loss: 0.8320 - val_accuracy: 0.5455\n",
      "Epoch 200/300\n",
      "20/20 [==============================] - 0s 4ms/step - loss: 0.9443 - accuracy: 0.5612 - val_loss: 0.8692 - val_accuracy: 0.5455\n",
      "Epoch 201/300\n",
      "20/20 [==============================] - 0s 4ms/step - loss: 0.8644 - accuracy: 0.5918 - val_loss: 0.9068 - val_accuracy: 0.5758\n",
      "Epoch 202/300\n",
      "20/20 [==============================] - 0s 4ms/step - loss: 0.9393 - accuracy: 0.4898 - val_loss: 0.8333 - val_accuracy: 0.6970\n",
      "Epoch 203/300\n",
      "20/20 [==============================] - 0s 4ms/step - loss: 0.9596 - accuracy: 0.5714 - val_loss: 1.1272 - val_accuracy: 0.3939\n",
      "Epoch 204/300\n",
      "20/20 [==============================] - 0s 4ms/step - loss: 1.0921 - accuracy: 0.5204 - val_loss: 0.9797 - val_accuracy: 0.4545\n",
      "Epoch 205/300\n",
      "20/20 [==============================] - 0s 4ms/step - loss: 0.9824 - accuracy: 0.5306 - val_loss: 0.9050 - val_accuracy: 0.5152\n",
      "Epoch 206/300\n",
      "20/20 [==============================] - 0s 4ms/step - loss: 1.0182 - accuracy: 0.5306 - val_loss: 0.8503 - val_accuracy: 0.5758\n",
      "Epoch 207/300\n",
      "20/20 [==============================] - 0s 4ms/step - loss: 0.9678 - accuracy: 0.4796 - val_loss: 0.8529 - val_accuracy: 0.6970\n",
      "Epoch 208/300\n",
      "20/20 [==============================] - 0s 4ms/step - loss: 0.9371 - accuracy: 0.5102 - val_loss: 0.8575 - val_accuracy: 0.7273\n",
      "Epoch 209/300\n",
      "20/20 [==============================] - 0s 4ms/step - loss: 0.9611 - accuracy: 0.5102 - val_loss: 1.0796 - val_accuracy: 0.6364\n",
      "Epoch 210/300\n",
      "20/20 [==============================] - 0s 4ms/step - loss: 0.9147 - accuracy: 0.5000 - val_loss: 0.8826 - val_accuracy: 0.5455\n",
      "Epoch 211/300\n",
      "20/20 [==============================] - 0s 4ms/step - loss: 0.8937 - accuracy: 0.5612 - val_loss: 0.8915 - val_accuracy: 0.5758\n",
      "Epoch 212/300\n",
      "20/20 [==============================] - 0s 4ms/step - loss: 0.9198 - accuracy: 0.5918 - val_loss: 0.8591 - val_accuracy: 0.5455\n",
      "Epoch 213/300\n",
      "20/20 [==============================] - 0s 4ms/step - loss: 0.9023 - accuracy: 0.5102 - val_loss: 0.8531 - val_accuracy: 0.7273\n",
      "Epoch 214/300\n",
      "20/20 [==============================] - 0s 4ms/step - loss: 0.9243 - accuracy: 0.5408 - val_loss: 0.8377 - val_accuracy: 0.7576\n",
      "Epoch 215/300\n",
      "20/20 [==============================] - 0s 4ms/step - loss: 0.8867 - accuracy: 0.6122 - val_loss: 0.8367 - val_accuracy: 0.7273\n",
      "Epoch 216/300\n",
      "20/20 [==============================] - 0s 4ms/step - loss: 0.8614 - accuracy: 0.5510 - val_loss: 0.8406 - val_accuracy: 0.6970\n",
      "Epoch 217/300\n",
      "20/20 [==============================] - 0s 4ms/step - loss: 0.8828 - accuracy: 0.5714 - val_loss: 0.9234 - val_accuracy: 0.4848\n",
      "Epoch 218/300\n",
      "20/20 [==============================] - 0s 4ms/step - loss: 0.9638 - accuracy: 0.4592 - val_loss: 0.8548 - val_accuracy: 0.6364\n",
      "Epoch 219/300\n",
      "20/20 [==============================] - 0s 4ms/step - loss: 0.8681 - accuracy: 0.5306 - val_loss: 0.8806 - val_accuracy: 0.6061\n",
      "Epoch 220/300\n",
      "20/20 [==============================] - 0s 4ms/step - loss: 0.8992 - accuracy: 0.5816 - val_loss: 0.8434 - val_accuracy: 0.5152\n",
      "Epoch 221/300\n",
      "20/20 [==============================] - 0s 4ms/step - loss: 0.8614 - accuracy: 0.5510 - val_loss: 0.8274 - val_accuracy: 0.7576\n",
      "Epoch 222/300\n",
      "20/20 [==============================] - 0s 4ms/step - loss: 0.8532 - accuracy: 0.6122 - val_loss: 0.8171 - val_accuracy: 0.6970\n",
      "Epoch 223/300\n",
      "20/20 [==============================] - 0s 4ms/step - loss: 0.8732 - accuracy: 0.5612 - val_loss: 0.8448 - val_accuracy: 0.6061\n",
      "Epoch 224/300\n",
      "20/20 [==============================] - 0s 4ms/step - loss: 0.9312 - accuracy: 0.6327 - val_loss: 0.8319 - val_accuracy: 0.7576\n",
      "Epoch 225/300\n",
      "20/20 [==============================] - 0s 4ms/step - loss: 0.9158 - accuracy: 0.5000 - val_loss: 0.8448 - val_accuracy: 0.6061\n",
      "Epoch 226/300\n",
      "20/20 [==============================] - 0s 4ms/step - loss: 0.8777 - accuracy: 0.5510 - val_loss: 0.8250 - val_accuracy: 0.6667\n",
      "Epoch 227/300\n",
      "20/20 [==============================] - 0s 4ms/step - loss: 0.8966 - accuracy: 0.5714 - val_loss: 0.8362 - val_accuracy: 0.7273\n",
      "Epoch 228/300\n",
      "20/20 [==============================] - 0s 4ms/step - loss: 0.8364 - accuracy: 0.6122 - val_loss: 0.8476 - val_accuracy: 0.6061\n",
      "Epoch 229/300\n",
      "20/20 [==============================] - 0s 4ms/step - loss: 0.8653 - accuracy: 0.5510 - val_loss: 0.8206 - val_accuracy: 0.7273\n",
      "Epoch 230/300\n",
      "20/20 [==============================] - 0s 4ms/step - loss: 0.8920 - accuracy: 0.5510 - val_loss: 0.8443 - val_accuracy: 0.6970\n",
      "Epoch 231/300\n",
      "20/20 [==============================] - 0s 4ms/step - loss: 0.9253 - accuracy: 0.5408 - val_loss: 0.8042 - val_accuracy: 0.6970\n",
      "Epoch 232/300\n",
      "20/20 [==============================] - 0s 4ms/step - loss: 0.8878 - accuracy: 0.5714 - val_loss: 0.8310 - val_accuracy: 0.6667\n",
      "Epoch 233/300\n",
      "20/20 [==============================] - 0s 4ms/step - loss: 0.8891 - accuracy: 0.5204 - val_loss: 0.8182 - val_accuracy: 0.7273\n",
      "Epoch 234/300\n",
      "20/20 [==============================] - 0s 4ms/step - loss: 0.8474 - accuracy: 0.5000 - val_loss: 0.8290 - val_accuracy: 0.7576\n",
      "Epoch 235/300\n",
      "20/20 [==============================] - 0s 4ms/step - loss: 0.8829 - accuracy: 0.5714 - val_loss: 0.8675 - val_accuracy: 0.6061\n",
      "Epoch 236/300\n",
      "20/20 [==============================] - 0s 4ms/step - loss: 0.9000 - accuracy: 0.5612 - val_loss: 0.8621 - val_accuracy: 0.5152\n",
      "Epoch 237/300\n",
      "20/20 [==============================] - 0s 4ms/step - loss: 0.9061 - accuracy: 0.5510 - val_loss: 0.8832 - val_accuracy: 0.5758\n",
      "Epoch 238/300\n",
      "20/20 [==============================] - 0s 4ms/step - loss: 1.1486 - accuracy: 0.4184 - val_loss: 1.2518 - val_accuracy: 0.6364\n",
      "Epoch 239/300\n",
      "20/20 [==============================] - 0s 4ms/step - loss: 0.9727 - accuracy: 0.5408 - val_loss: 0.9503 - val_accuracy: 0.6667\n",
      "Epoch 240/300\n",
      "20/20 [==============================] - 0s 4ms/step - loss: 0.9977 - accuracy: 0.4592 - val_loss: 0.9315 - val_accuracy: 0.7273\n",
      "Epoch 241/300\n",
      "20/20 [==============================] - 0s 4ms/step - loss: 0.9209 - accuracy: 0.5102 - val_loss: 0.9190 - val_accuracy: 0.6061\n",
      "Epoch 242/300\n",
      "20/20 [==============================] - 0s 4ms/step - loss: 0.9462 - accuracy: 0.5306 - val_loss: 0.8840 - val_accuracy: 0.5758\n",
      "Epoch 243/300\n",
      "20/20 [==============================] - 0s 4ms/step - loss: 0.9041 - accuracy: 0.5612 - val_loss: 0.9560 - val_accuracy: 0.5455\n",
      "Epoch 244/300\n",
      "20/20 [==============================] - 0s 4ms/step - loss: 0.9065 - accuracy: 0.5204 - val_loss: 0.8822 - val_accuracy: 0.6364\n",
      "Epoch 245/300\n",
      "20/20 [==============================] - 0s 4ms/step - loss: 0.9090 - accuracy: 0.5510 - val_loss: 0.8832 - val_accuracy: 0.6061\n",
      "Epoch 246/300\n",
      "20/20 [==============================] - 0s 5ms/step - loss: 0.8790 - accuracy: 0.6020 - val_loss: 0.8603 - val_accuracy: 0.5455\n",
      "Epoch 247/300\n",
      "20/20 [==============================] - 0s 4ms/step - loss: 0.8925 - accuracy: 0.5102 - val_loss: 0.8720 - val_accuracy: 0.6970\n",
      "Epoch 248/300\n",
      "20/20 [==============================] - 0s 4ms/step - loss: 0.8763 - accuracy: 0.5612 - val_loss: 0.8324 - val_accuracy: 0.5455\n",
      "Epoch 249/300\n",
      "20/20 [==============================] - 0s 5ms/step - loss: 0.8959 - accuracy: 0.5408 - val_loss: 0.8710 - val_accuracy: 0.6061\n",
      "Epoch 250/300\n",
      "20/20 [==============================] - 0s 5ms/step - loss: 0.9172 - accuracy: 0.5204 - val_loss: 0.8491 - val_accuracy: 0.5152\n",
      "Epoch 251/300\n",
      "20/20 [==============================] - 0s 4ms/step - loss: 0.8213 - accuracy: 0.6020 - val_loss: 0.8440 - val_accuracy: 0.6970\n",
      "Epoch 252/300\n",
      "20/20 [==============================] - 0s 4ms/step - loss: 0.9141 - accuracy: 0.5918 - val_loss: 0.9333 - val_accuracy: 0.4545\n",
      "Epoch 253/300\n",
      "20/20 [==============================] - 0s 4ms/step - loss: 1.0620 - accuracy: 0.4694 - val_loss: 0.9013 - val_accuracy: 0.5455\n",
      "Epoch 254/300\n",
      "20/20 [==============================] - 0s 4ms/step - loss: 0.9389 - accuracy: 0.5102 - val_loss: 0.8565 - val_accuracy: 0.5758\n",
      "Epoch 255/300\n",
      "20/20 [==============================] - 0s 4ms/step - loss: 0.8797 - accuracy: 0.5510 - val_loss: 0.8437 - val_accuracy: 0.7273\n",
      "Epoch 256/300\n",
      "20/20 [==============================] - 0s 6ms/step - loss: 0.8805 - accuracy: 0.5918 - val_loss: 0.8306 - val_accuracy: 0.6667\n",
      "Epoch 257/300\n",
      "20/20 [==============================] - 0s 4ms/step - loss: 0.8762 - accuracy: 0.5306 - val_loss: 0.8540 - val_accuracy: 0.5758\n",
      "Epoch 258/300\n",
      "20/20 [==============================] - 0s 4ms/step - loss: 0.8504 - accuracy: 0.5510 - val_loss: 0.8306 - val_accuracy: 0.6667\n",
      "Epoch 259/300\n",
      "20/20 [==============================] - 0s 4ms/step - loss: 0.8233 - accuracy: 0.6224 - val_loss: 0.8654 - val_accuracy: 0.5758\n",
      "Epoch 260/300\n",
      "20/20 [==============================] - 0s 4ms/step - loss: 0.9147 - accuracy: 0.4898 - val_loss: 0.8803 - val_accuracy: 0.6061\n",
      "Epoch 261/300\n",
      "20/20 [==============================] - 0s 4ms/step - loss: 0.9124 - accuracy: 0.5510 - val_loss: 0.9029 - val_accuracy: 0.5455\n",
      "Epoch 262/300\n",
      "20/20 [==============================] - 0s 4ms/step - loss: 0.9728 - accuracy: 0.5918 - val_loss: 1.2537 - val_accuracy: 0.5758\n",
      "Epoch 263/300\n",
      "20/20 [==============================] - 0s 4ms/step - loss: 0.9864 - accuracy: 0.4898 - val_loss: 1.0593 - val_accuracy: 0.5455\n",
      "Epoch 264/300\n",
      "20/20 [==============================] - 0s 4ms/step - loss: 1.0347 - accuracy: 0.5204 - val_loss: 1.1199 - val_accuracy: 0.3333\n",
      "Epoch 265/300\n",
      "20/20 [==============================] - 0s 4ms/step - loss: 0.9363 - accuracy: 0.5000 - val_loss: 0.8934 - val_accuracy: 0.5758\n",
      "Epoch 266/300\n",
      "20/20 [==============================] - 0s 4ms/step - loss: 0.9014 - accuracy: 0.5714 - val_loss: 0.8675 - val_accuracy: 0.5152\n",
      "Epoch 267/300\n",
      "20/20 [==============================] - 0s 4ms/step - loss: 0.9336 - accuracy: 0.5816 - val_loss: 0.8605 - val_accuracy: 0.6061\n",
      "Epoch 268/300\n",
      "20/20 [==============================] - 0s 4ms/step - loss: 0.9546 - accuracy: 0.5204 - val_loss: 0.8625 - val_accuracy: 0.7879\n",
      "Epoch 269/300\n",
      "20/20 [==============================] - 0s 4ms/step - loss: 0.9154 - accuracy: 0.6327 - val_loss: 0.8684 - val_accuracy: 0.5758\n",
      "Epoch 270/300\n",
      "20/20 [==============================] - 0s 4ms/step - loss: 0.9106 - accuracy: 0.5306 - val_loss: 0.8591 - val_accuracy: 0.5455\n",
      "Epoch 271/300\n",
      "20/20 [==============================] - 0s 4ms/step - loss: 0.8787 - accuracy: 0.5918 - val_loss: 0.8428 - val_accuracy: 0.5455\n",
      "Epoch 272/300\n",
      "20/20 [==============================] - 0s 4ms/step - loss: 0.8801 - accuracy: 0.5816 - val_loss: 0.8585 - val_accuracy: 0.7273\n",
      "Epoch 273/300\n",
      "20/20 [==============================] - 0s 4ms/step - loss: 0.8521 - accuracy: 0.5510 - val_loss: 0.8514 - val_accuracy: 0.6667\n",
      "Epoch 274/300\n",
      "20/20 [==============================] - 0s 4ms/step - loss: 0.8839 - accuracy: 0.6122 - val_loss: 0.8728 - val_accuracy: 0.5758\n",
      "Epoch 275/300\n",
      "20/20 [==============================] - 0s 4ms/step - loss: 0.8848 - accuracy: 0.5102 - val_loss: 0.8465 - val_accuracy: 0.7879\n",
      "Epoch 276/300\n",
      "20/20 [==============================] - 0s 4ms/step - loss: 0.9052 - accuracy: 0.5816 - val_loss: 0.8374 - val_accuracy: 0.7879\n",
      "Epoch 277/300\n",
      "20/20 [==============================] - 0s 4ms/step - loss: 0.8305 - accuracy: 0.6020 - val_loss: 0.8255 - val_accuracy: 0.7879\n",
      "Epoch 278/300\n",
      "20/20 [==============================] - 0s 4ms/step - loss: 0.8575 - accuracy: 0.5204 - val_loss: 0.8310 - val_accuracy: 0.6364\n",
      "Epoch 279/300\n",
      "20/20 [==============================] - 0s 4ms/step - loss: 0.8443 - accuracy: 0.6020 - val_loss: 0.8162 - val_accuracy: 0.6970\n",
      "Epoch 280/300\n",
      "20/20 [==============================] - 0s 4ms/step - loss: 0.9028 - accuracy: 0.4796 - val_loss: 0.8278 - val_accuracy: 0.7273\n",
      "Epoch 281/300\n",
      "20/20 [==============================] - 0s 5ms/step - loss: 0.8389 - accuracy: 0.6020 - val_loss: 0.8234 - val_accuracy: 0.7576\n",
      "Epoch 282/300\n",
      "20/20 [==============================] - 0s 4ms/step - loss: 0.9685 - accuracy: 0.5306 - val_loss: 0.9089 - val_accuracy: 0.5152\n",
      "Epoch 283/300\n",
      "20/20 [==============================] - 0s 4ms/step - loss: 0.9086 - accuracy: 0.5612 - val_loss: 0.8552 - val_accuracy: 0.6970\n",
      "Epoch 284/300\n",
      "20/20 [==============================] - 0s 4ms/step - loss: 0.8776 - accuracy: 0.5408 - val_loss: 0.8410 - val_accuracy: 0.6970\n",
      "Epoch 285/300\n",
      "20/20 [==============================] - 0s 4ms/step - loss: 0.8770 - accuracy: 0.5714 - val_loss: 0.8626 - val_accuracy: 0.5758\n",
      "Epoch 286/300\n",
      "20/20 [==============================] - 0s 4ms/step - loss: 0.8797 - accuracy: 0.6020 - val_loss: 0.9472 - val_accuracy: 0.5758\n",
      "Epoch 287/300\n",
      "20/20 [==============================] - 0s 4ms/step - loss: 0.8624 - accuracy: 0.6122 - val_loss: 0.8293 - val_accuracy: 0.6061\n",
      "Epoch 288/300\n",
      "20/20 [==============================] - 0s 4ms/step - loss: 0.8894 - accuracy: 0.5612 - val_loss: 0.8157 - val_accuracy: 0.6667\n",
      "Epoch 289/300\n",
      "20/20 [==============================] - 0s 4ms/step - loss: 0.8731 - accuracy: 0.6020 - val_loss: 0.8219 - val_accuracy: 0.7273\n",
      "Epoch 290/300\n",
      "20/20 [==============================] - 0s 4ms/step - loss: 0.8378 - accuracy: 0.6531 - val_loss: 0.8255 - val_accuracy: 0.6364\n",
      "Epoch 291/300\n",
      "20/20 [==============================] - 0s 4ms/step - loss: 0.8664 - accuracy: 0.5612 - val_loss: 0.8419 - val_accuracy: 0.6061\n",
      "Epoch 292/300\n",
      "20/20 [==============================] - 0s 4ms/step - loss: 0.9259 - accuracy: 0.5102 - val_loss: 0.8209 - val_accuracy: 0.6667\n",
      "Epoch 293/300\n",
      "20/20 [==============================] - 0s 5ms/step - loss: 0.9004 - accuracy: 0.6224 - val_loss: 0.8084 - val_accuracy: 0.7273\n",
      "Epoch 294/300\n",
      "20/20 [==============================] - 0s 4ms/step - loss: 0.9556 - accuracy: 0.5102 - val_loss: 0.8522 - val_accuracy: 0.5758\n",
      "Epoch 295/300\n",
      "20/20 [==============================] - 0s 4ms/step - loss: 0.8954 - accuracy: 0.5612 - val_loss: 0.8367 - val_accuracy: 0.7576\n",
      "Epoch 296/300\n",
      "20/20 [==============================] - 0s 5ms/step - loss: 0.8664 - accuracy: 0.5612 - val_loss: 0.8164 - val_accuracy: 0.6970\n",
      "Epoch 297/300\n",
      "20/20 [==============================] - 0s 5ms/step - loss: 0.8441 - accuracy: 0.5408 - val_loss: 0.8074 - val_accuracy: 0.6970\n",
      "Epoch 298/300\n",
      "20/20 [==============================] - 0s 5ms/step - loss: 0.8452 - accuracy: 0.6020 - val_loss: 0.8384 - val_accuracy: 0.5758\n",
      "Epoch 299/300\n",
      "20/20 [==============================] - 0s 4ms/step - loss: 0.8426 - accuracy: 0.6020 - val_loss: 0.8230 - val_accuracy: 0.6667\n",
      "Epoch 300/300\n",
      "20/20 [==============================] - 0s 5ms/step - loss: 0.8991 - accuracy: 0.5510 - val_loss: 0.8172 - val_accuracy: 0.6970\n"
     ]
    },
    {
     "data": {
      "application/vnd.plotly.v1+json": {
       "config": {
        "plotlyServerURL": "https://plot.ly"
       },
       "data": [
        {
         "hovertemplate": "Curvas de Pérdida=Training Loss<br>Epoch=%{x}<br>Binary Cross Entropy=%{y}<extra></extra>",
         "legendgroup": "Training Loss",
         "line": {
          "color": "#46039f",
          "dash": "solid"
         },
         "marker": {
          "symbol": "circle"
         },
         "mode": "lines",
         "name": "Training Loss",
         "orientation": "v",
         "showlegend": true,
         "type": "scatter",
         "x": [
          0,
          1,
          2,
          3,
          4,
          5,
          6,
          7,
          8,
          9,
          10,
          11,
          12,
          13,
          14,
          15,
          16,
          17,
          18,
          19,
          20,
          21,
          22,
          23,
          24,
          25,
          26,
          27,
          28,
          29,
          30,
          31,
          32,
          33,
          34,
          35,
          36,
          37,
          38,
          39,
          40,
          41,
          42,
          43,
          44,
          45,
          46,
          47,
          48,
          49,
          50,
          51,
          52,
          53,
          54,
          55,
          56,
          57,
          58,
          59,
          60,
          61,
          62,
          63,
          64,
          65,
          66,
          67,
          68,
          69,
          70,
          71,
          72,
          73,
          74,
          75,
          76,
          77,
          78,
          79,
          80,
          81,
          82,
          83,
          84,
          85,
          86,
          87,
          88,
          89,
          90,
          91,
          92,
          93,
          94,
          95,
          96,
          97,
          98,
          99,
          100,
          101,
          102,
          103,
          104,
          105,
          106,
          107,
          108,
          109,
          110,
          111,
          112,
          113,
          114,
          115,
          116,
          117,
          118,
          119,
          120,
          121,
          122,
          123,
          124,
          125,
          126,
          127,
          128,
          129,
          130,
          131,
          132,
          133,
          134,
          135,
          136,
          137,
          138,
          139,
          140,
          141,
          142,
          143,
          144,
          145,
          146,
          147,
          148,
          149,
          150,
          151,
          152,
          153,
          154,
          155,
          156,
          157,
          158,
          159,
          160,
          161,
          162,
          163,
          164,
          165,
          166,
          167,
          168,
          169,
          170,
          171,
          172,
          173,
          174,
          175,
          176,
          177,
          178,
          179,
          180,
          181,
          182,
          183,
          184,
          185,
          186,
          187,
          188,
          189,
          190,
          191,
          192,
          193,
          194,
          195,
          196,
          197,
          198,
          199,
          200,
          201,
          202,
          203,
          204,
          205,
          206,
          207,
          208,
          209,
          210,
          211,
          212,
          213,
          214,
          215,
          216,
          217,
          218,
          219,
          220,
          221,
          222,
          223,
          224,
          225,
          226,
          227,
          228,
          229,
          230,
          231,
          232,
          233,
          234,
          235,
          236,
          237,
          238,
          239,
          240,
          241,
          242,
          243,
          244,
          245,
          246,
          247,
          248,
          249,
          250,
          251,
          252,
          253,
          254,
          255,
          256,
          257,
          258,
          259,
          260,
          261,
          262,
          263,
          264,
          265,
          266,
          267,
          268,
          269,
          270,
          271,
          272,
          273,
          274,
          275,
          276,
          277,
          278,
          279,
          280,
          281,
          282,
          283,
          284,
          285,
          286,
          287,
          288,
          289,
          290,
          291,
          292,
          293,
          294,
          295,
          296,
          297,
          298,
          299
         ],
         "xaxis": "x",
         "y": [
          1.6037415266036987,
          1.588696837425232,
          1.581624984741211,
          1.558982014656067,
          1.5436996221542358,
          1.5681328773498535,
          1.55916428565979,
          1.5552022457122803,
          1.5725393295288086,
          1.5496931076049805,
          1.5583463907241821,
          1.5558253526687622,
          1.5512241125106812,
          1.5568691492080688,
          1.544050693511963,
          1.548640251159668,
          1.5449341535568237,
          1.543715238571167,
          1.5206547975540161,
          1.5030653476715088,
          1.5012233257293701,
          1.4670294523239136,
          1.4621596336364746,
          1.3891910314559937,
          1.3404252529144287,
          1.3418519496917725,
          1.2653820514678955,
          1.3105063438415527,
          1.2743566036224365,
          1.2968809604644775,
          1.2803505659103394,
          1.2477185726165771,
          1.268568992614746,
          1.2475690841674805,
          1.2264269590377808,
          1.2597650289535522,
          1.2584357261657715,
          1.2461150884628296,
          1.250692367553711,
          1.2289879322052002,
          1.2463301420211792,
          1.232981562614441,
          1.2139662504196167,
          1.2267353534698486,
          1.2528719902038574,
          1.2084344625473022,
          1.1998299360275269,
          1.226239800453186,
          1.1991609334945679,
          1.2416203022003174,
          1.1852130889892578,
          1.1962854862213135,
          1.1495013236999512,
          1.2451262474060059,
          1.1903091669082642,
          1.1237101554870605,
          1.215132713317871,
          1.263885736465454,
          1.211933970451355,
          1.1566935777664185,
          1.1378521919250488,
          1.183538556098938,
          1.1048694849014282,
          1.2070319652557373,
          1.2208375930786133,
          1.1540422439575195,
          1.1935415267944336,
          1.1855182647705078,
          1.1473312377929688,
          1.1432863473892212,
          1.1555914878845215,
          1.1785762310028076,
          1.219767689704895,
          1.2384629249572754,
          1.1408038139343262,
          1.1475034952163696,
          1.178613305091858,
          1.133852481842041,
          1.1206245422363281,
          1.1835415363311768,
          1.0411818027496338,
          1.1436140537261963,
          1.1421791315078735,
          1.05752432346344,
          1.1280293464660645,
          1.081808090209961,
          1.1314380168914795,
          1.0205081701278687,
          1.1289618015289307,
          1.0874663591384888,
          1.1053755283355713,
          1.1806674003601074,
          1.1310075521469116,
          1.0679664611816406,
          1.0353785753250122,
          1.1007063388824463,
          1.167475938796997,
          1.1085885763168335,
          1.0809024572372437,
          1.0335710048675537,
          1.1095738410949707,
          1.0852022171020508,
          1.0978590250015259,
          1.0634526014328003,
          1.2140344381332397,
          1.1076809167861938,
          1.1163643598556519,
          1.0445291996002197,
          1.054848074913025,
          1.0418787002563477,
          1.0712593793869019,
          1.1364693641662598,
          1.0100743770599365,
          1.060509443283081,
          1.061069369316101,
          1.0612316131591797,
          1.086137056350708,
          1.138836145401001,
          1.046718716621399,
          1.0111751556396484,
          1.124529242515564,
          1.0597567558288574,
          1.0096272230148315,
          0.9979262948036194,
          1.0189666748046875,
          0.9641534686088562,
          1.0012576580047607,
          1.0252747535705566,
          0.9437634944915771,
          1.0039875507354736,
          0.9827410578727722,
          1.063681960105896,
          1.0120002031326294,
          0.9520792365074158,
          0.9942173957824707,
          0.9961605668067932,
          1.051093578338623,
          0.9835530519485474,
          0.9330482482910156,
          1.0231003761291504,
          1.0108897686004639,
          1.106095552444458,
          1.0579956769943237,
          0.9788323044776917,
          1.0349396467208862,
          0.9515487551689148,
          1.037294864654541,
          0.9538273215293884,
          1.03134024143219,
          0.9563480019569397,
          0.9181129336357117,
          0.987454891204834,
          0.9754781723022461,
          0.9610384702682495,
          0.9573354125022888,
          0.9841745495796204,
          1.0310546159744263,
          1.0483922958374023,
          1.0245802402496338,
          0.9893529415130615,
          0.9937099814414978,
          1.0018670558929443,
          0.9739978313446045,
          0.9973539113998413,
          0.9312871098518372,
          0.9653065800666809,
          0.9973218441009521,
          0.9813216924667358,
          0.9561412334442139,
          0.9364253282546997,
          0.9946060180664062,
          0.9490842223167419,
          0.9480527639389038,
          0.9113932251930237,
          1.0238852500915527,
          0.9875496029853821,
          0.9303574562072754,
          0.9171966910362244,
          0.9527162313461304,
          1.0088951587677002,
          0.958088755607605,
          0.9113593697547913,
          0.8881515860557556,
          0.9010769724845886,
          0.9216172099113464,
          0.9052504897117615,
          0.851062536239624,
          0.8943077325820923,
          0.897886335849762,
          0.8882547616958618,
          0.8852327466011047,
          0.9154554009437561,
          0.9410109519958496,
          1.030973196029663,
          0.9348608255386353,
          0.8589265942573547,
          0.8883553147315979,
          0.9216750264167786,
          0.8263605833053589,
          0.9442790150642395,
          0.8643838763237,
          0.939339280128479,
          0.9596108198165894,
          1.092065453529358,
          0.9824396967887878,
          1.0181593894958496,
          0.9678230285644531,
          0.9370974898338318,
          0.9610676765441895,
          0.9147468209266663,
          0.8936541080474854,
          0.9197984933853149,
          0.9023399949073792,
          0.9243025779724121,
          0.8867096900939941,
          0.8613811135292053,
          0.8827561140060425,
          0.9638102054595947,
          0.8681206703186035,
          0.8992152810096741,
          0.861356258392334,
          0.8531953692436218,
          0.8731898069381714,
          0.9311656355857849,
          0.9158152937889099,
          0.877690851688385,
          0.8965665102005005,
          0.8364298343658447,
          0.8653302788734436,
          0.8920114636421204,
          0.9253316521644592,
          0.8878239393234253,
          0.8890591859817505,
          0.8473769426345825,
          0.8828660845756531,
          0.9000487327575684,
          0.9061471819877625,
          1.1485610008239746,
          0.9726823568344116,
          0.9977116584777832,
          0.9208740592002869,
          0.9462172985076904,
          0.9041202068328857,
          0.9064748883247375,
          0.9089841246604919,
          0.8790339827537537,
          0.8924726247787476,
          0.8762797117233276,
          0.8959343433380127,
          0.9171518087387085,
          0.821341872215271,
          0.9141075611114502,
          1.0619523525238037,
          0.93893963098526,
          0.879658043384552,
          0.8804818987846375,
          0.876197874546051,
          0.850396990776062,
          0.8233199119567871,
          0.914650022983551,
          0.91240394115448,
          0.9727533459663391,
          0.9864124655723572,
          1.0347275733947754,
          0.9362873435020447,
          0.901398241519928,
          0.9336110353469849,
          0.9545912742614746,
          0.915370523929596,
          0.9106440544128418,
          0.8787488341331482,
          0.8800535202026367,
          0.8521313667297363,
          0.8839422464370728,
          0.8848350048065186,
          0.9051716327667236,
          0.8304774761199951,
          0.8575087785720825,
          0.8443121910095215,
          0.9028350114822388,
          0.8388592600822449,
          0.9685038328170776,
          0.9085693359375,
          0.8775675296783447,
          0.8770039677619934,
          0.8796951174736023,
          0.8623972535133362,
          0.8894116282463074,
          0.8731191158294678,
          0.8378194570541382,
          0.8664274215698242,
          0.9259160161018372,
          0.9003853797912598,
          0.9555611610412598,
          0.8954341411590576,
          0.8663730025291443,
          0.8440521359443665,
          0.845226526260376,
          0.8425559997558594,
          0.8991383910179138
         ],
         "yaxis": "y"
        },
        {
         "hovertemplate": "Curvas de Pérdida=Validation Loss<br>Epoch=%{x}<br>Binary Cross Entropy=%{y}<extra></extra>",
         "legendgroup": "Validation Loss",
         "line": {
          "color": "#fb9f3a",
          "dash": "solid"
         },
         "marker": {
          "symbol": "circle"
         },
         "mode": "lines",
         "name": "Validation Loss",
         "orientation": "v",
         "showlegend": true,
         "type": "scatter",
         "x": [
          0,
          1,
          2,
          3,
          4,
          5,
          6,
          7,
          8,
          9,
          10,
          11,
          12,
          13,
          14,
          15,
          16,
          17,
          18,
          19,
          20,
          21,
          22,
          23,
          24,
          25,
          26,
          27,
          28,
          29,
          30,
          31,
          32,
          33,
          34,
          35,
          36,
          37,
          38,
          39,
          40,
          41,
          42,
          43,
          44,
          45,
          46,
          47,
          48,
          49,
          50,
          51,
          52,
          53,
          54,
          55,
          56,
          57,
          58,
          59,
          60,
          61,
          62,
          63,
          64,
          65,
          66,
          67,
          68,
          69,
          70,
          71,
          72,
          73,
          74,
          75,
          76,
          77,
          78,
          79,
          80,
          81,
          82,
          83,
          84,
          85,
          86,
          87,
          88,
          89,
          90,
          91,
          92,
          93,
          94,
          95,
          96,
          97,
          98,
          99,
          100,
          101,
          102,
          103,
          104,
          105,
          106,
          107,
          108,
          109,
          110,
          111,
          112,
          113,
          114,
          115,
          116,
          117,
          118,
          119,
          120,
          121,
          122,
          123,
          124,
          125,
          126,
          127,
          128,
          129,
          130,
          131,
          132,
          133,
          134,
          135,
          136,
          137,
          138,
          139,
          140,
          141,
          142,
          143,
          144,
          145,
          146,
          147,
          148,
          149,
          150,
          151,
          152,
          153,
          154,
          155,
          156,
          157,
          158,
          159,
          160,
          161,
          162,
          163,
          164,
          165,
          166,
          167,
          168,
          169,
          170,
          171,
          172,
          173,
          174,
          175,
          176,
          177,
          178,
          179,
          180,
          181,
          182,
          183,
          184,
          185,
          186,
          187,
          188,
          189,
          190,
          191,
          192,
          193,
          194,
          195,
          196,
          197,
          198,
          199,
          200,
          201,
          202,
          203,
          204,
          205,
          206,
          207,
          208,
          209,
          210,
          211,
          212,
          213,
          214,
          215,
          216,
          217,
          218,
          219,
          220,
          221,
          222,
          223,
          224,
          225,
          226,
          227,
          228,
          229,
          230,
          231,
          232,
          233,
          234,
          235,
          236,
          237,
          238,
          239,
          240,
          241,
          242,
          243,
          244,
          245,
          246,
          247,
          248,
          249,
          250,
          251,
          252,
          253,
          254,
          255,
          256,
          257,
          258,
          259,
          260,
          261,
          262,
          263,
          264,
          265,
          266,
          267,
          268,
          269,
          270,
          271,
          272,
          273,
          274,
          275,
          276,
          277,
          278,
          279,
          280,
          281,
          282,
          283,
          284,
          285,
          286,
          287,
          288,
          289,
          290,
          291,
          292,
          293,
          294,
          295,
          296,
          297,
          298,
          299
         ],
         "xaxis": "x",
         "y": [
          1.5828245878219604,
          1.5706955194473267,
          1.5690938234329224,
          1.5660675764083862,
          1.5743622779846191,
          1.5636305809020996,
          1.5695388317108154,
          1.5680255889892578,
          1.5768482685089111,
          1.5696182250976562,
          1.5715395212173462,
          1.5714893341064453,
          1.5679987668991089,
          1.570879578590393,
          1.5603697299957275,
          1.5600723028182983,
          1.5591312646865845,
          1.5513362884521484,
          1.5491251945495605,
          1.5423072576522827,
          1.532379388809204,
          1.5237326622009277,
          1.4745192527770996,
          1.4455697536468506,
          1.4117908477783203,
          1.4047152996063232,
          1.4121612310409546,
          1.3661195039749146,
          1.361365556716919,
          1.3568428754806519,
          1.3531341552734375,
          1.47016441822052,
          1.3640326261520386,
          1.4271594285964966,
          1.3366868495941162,
          1.3298892974853516,
          1.329293966293335,
          1.4120099544525146,
          1.3165465593338013,
          1.449850082397461,
          1.3305244445800781,
          1.4030084609985352,
          1.3616725206375122,
          1.3240294456481934,
          1.4339230060577393,
          1.430344581604004,
          1.3757416009902954,
          1.3244832754135132,
          1.2851008176803589,
          1.2867586612701416,
          1.6363288164138794,
          1.2962055206298828,
          1.2383934259414673,
          1.3359582424163818,
          1.2749358415603638,
          1.3025583028793335,
          1.2389580011367798,
          1.2609821557998657,
          1.26688551902771,
          1.236364483833313,
          1.2216477394104004,
          1.2526322603225708,
          1.2038971185684204,
          1.2508926391601562,
          1.2099543809890747,
          1.268568992614746,
          1.2323092222213745,
          1.2247263193130493,
          1.1801193952560425,
          1.1907957792282104,
          1.1846129894256592,
          1.229267954826355,
          1.2498539686203003,
          1.2670166492462158,
          1.2070327997207642,
          1.165063500404358,
          1.128529667854309,
          1.1270891427993774,
          1.1750304698944092,
          1.2078125476837158,
          1.1416382789611816,
          1.1906142234802246,
          1.0868178606033325,
          1.099752426147461,
          1.087562918663025,
          1.048809289932251,
          1.070737600326538,
          1.0564625263214111,
          1.142084002494812,
          1.1537678241729736,
          1.0494290590286255,
          1.2172279357910156,
          1.2091082334518433,
          1.1482430696487427,
          1.031812310218811,
          1.0817410945892334,
          1.1225039958953857,
          1.153772234916687,
          1.0962615013122559,
          1.0052733421325684,
          1.022332787513733,
          1.0429019927978516,
          1.0463428497314453,
          1.0648694038391113,
          1.2258195877075195,
          1.1159189939498901,
          1.0221781730651855,
          1.089705228805542,
          1.1093196868896484,
          1.0787115097045898,
          1.0690546035766602,
          1.0194106101989746,
          0.9865013957023621,
          1.0656368732452393,
          1.107546329498291,
          1.1437671184539795,
          1.182366967201233,
          1.0424096584320068,
          1.0033655166625977,
          0.9805560111999512,
          1.113654375076294,
          1.0591793060302734,
          0.987406849861145,
          0.9590941667556763,
          0.9569600820541382,
          0.9325899481773376,
          1.014124870300293,
          0.9239861369132996,
          0.9444501399993896,
          0.9857829809188843,
          0.9787161946296692,
          1.050713062286377,
          1.0142103433609009,
          1.008399248123169,
          1.0088748931884766,
          1.0289995670318604,
          0.9482724070549011,
          1.0043665170669556,
          0.9260371923446655,
          0.9292187690734863,
          1.050681233406067,
          1.0842254161834717,
          1.0239648818969727,
          0.9778738021850586,
          0.9092336297035217,
          0.8922172784805298,
          1.0244039297103882,
          0.9593712687492371,
          0.9640673398971558,
          0.9191640019416809,
          0.9534544348716736,
          0.9539492130279541,
          0.9269258975982666,
          0.9071300625801086,
          0.8932955861091614,
          0.9107028245925903,
          0.9167745113372803,
          1.02489173412323,
          0.9861266613006592,
          0.9220182299613953,
          0.8951190114021301,
          0.96830815076828,
          0.9456040263175964,
          1.0492215156555176,
          0.9727270007133484,
          0.9587129354476929,
          1.099622130393982,
          0.8996488451957703,
          0.9329206943511963,
          0.9250299334526062,
          0.9729207158088684,
          0.8999433517456055,
          0.8676319122314453,
          0.9017040133476257,
          0.9081770777702332,
          0.8786733150482178,
          0.8908431529998779,
          0.9194702506065369,
          0.8497275114059448,
          1.056966781616211,
          0.8954365849494934,
          0.8679562211036682,
          0.8861956000328064,
          0.8877700567245483,
          0.899116039276123,
          0.9057964086532593,
          0.8549965023994446,
          0.8403933048248291,
          0.8441502451896667,
          0.833439826965332,
          0.8463804125785828,
          0.8871288895606995,
          0.9031912088394165,
          0.9474337100982666,
          0.8598438501358032,
          0.847122311592102,
          0.8389599919319153,
          0.8599028587341309,
          0.8320236802101135,
          0.8691798448562622,
          0.9067884683609009,
          0.8332642316818237,
          1.1271523237228394,
          0.9797425866127014,
          0.9049683213233948,
          0.8503177762031555,
          0.852927029132843,
          0.8574950098991394,
          1.079599142074585,
          0.8826330304145813,
          0.89149010181427,
          0.859127938747406,
          0.853053092956543,
          0.8377261161804199,
          0.8366875648498535,
          0.8405995965003967,
          0.923382580280304,
          0.8547719717025757,
          0.8806406259536743,
          0.8433523178100586,
          0.8274272084236145,
          0.8170556426048279,
          0.8448041677474976,
          0.8319369554519653,
          0.8447651267051697,
          0.8249936103820801,
          0.8362186551094055,
          0.8475545644760132,
          0.8205604553222656,
          0.8443341255187988,
          0.8042360544204712,
          0.8310064673423767,
          0.8182494640350342,
          0.8290199637413025,
          0.8674620389938354,
          0.8621180057525635,
          0.883170485496521,
          1.2517585754394531,
          0.9502687454223633,
          0.9315110445022583,
          0.9190208315849304,
          0.8839865326881409,
          0.9560046792030334,
          0.8821624517440796,
          0.8832206726074219,
          0.8602780699729919,
          0.8720496296882629,
          0.8324282765388489,
          0.8710203170776367,
          0.849083423614502,
          0.8439719676971436,
          0.9332685470581055,
          0.9013217687606812,
          0.8564645648002625,
          0.8437126278877258,
          0.8305732607841492,
          0.8540427684783936,
          0.8305901885032654,
          0.8654226660728455,
          0.8803024888038635,
          0.9028829336166382,
          1.253685474395752,
          1.0592517852783203,
          1.1199116706848145,
          0.8934463858604431,
          0.8674930334091187,
          0.8605470657348633,
          0.8625250458717346,
          0.8683500289916992,
          0.8590707778930664,
          0.8428050875663757,
          0.8584801554679871,
          0.8513503670692444,
          0.8728262186050415,
          0.8465089201927185,
          0.8374419808387756,
          0.825450599193573,
          0.8310160636901855,
          0.8161980509757996,
          0.827802300453186,
          0.8233674764633179,
          0.908855140209198,
          0.8552123308181763,
          0.8409566879272461,
          0.8625507354736328,
          0.9472023844718933,
          0.8293216228485107,
          0.8157454133033752,
          0.8218738436698914,
          0.8254924416542053,
          0.8418773412704468,
          0.8208907246589661,
          0.8083845376968384,
          0.8521773815155029,
          0.8367469310760498,
          0.8163613080978394,
          0.8073838353157043,
          0.8384295701980591,
          0.8230168223381042,
          0.8171654939651489
         ],
         "yaxis": "y"
        }
       ],
       "layout": {
        "legend": {
         "title": {
          "text": "Curvas de Pérdida"
         },
         "tracegroupgap": 0
        },
        "template": {
         "data": {
          "bar": [
           {
            "error_x": {
             "color": "#2a3f5f"
            },
            "error_y": {
             "color": "#2a3f5f"
            },
            "marker": {
             "line": {
              "color": "white",
              "width": 0.5
             },
             "pattern": {
              "fillmode": "overlay",
              "size": 10,
              "solidity": 0.2
             }
            },
            "type": "bar"
           }
          ],
          "barpolar": [
           {
            "marker": {
             "line": {
              "color": "white",
              "width": 0.5
             },
             "pattern": {
              "fillmode": "overlay",
              "size": 10,
              "solidity": 0.2
             }
            },
            "type": "barpolar"
           }
          ],
          "carpet": [
           {
            "aaxis": {
             "endlinecolor": "#2a3f5f",
             "gridcolor": "#C8D4E3",
             "linecolor": "#C8D4E3",
             "minorgridcolor": "#C8D4E3",
             "startlinecolor": "#2a3f5f"
            },
            "baxis": {
             "endlinecolor": "#2a3f5f",
             "gridcolor": "#C8D4E3",
             "linecolor": "#C8D4E3",
             "minorgridcolor": "#C8D4E3",
             "startlinecolor": "#2a3f5f"
            },
            "type": "carpet"
           }
          ],
          "choropleth": [
           {
            "colorbar": {
             "outlinewidth": 0,
             "ticks": ""
            },
            "type": "choropleth"
           }
          ],
          "contour": [
           {
            "colorbar": {
             "outlinewidth": 0,
             "ticks": ""
            },
            "colorscale": [
             [
              0,
              "#0d0887"
             ],
             [
              0.1111111111111111,
              "#46039f"
             ],
             [
              0.2222222222222222,
              "#7201a8"
             ],
             [
              0.3333333333333333,
              "#9c179e"
             ],
             [
              0.4444444444444444,
              "#bd3786"
             ],
             [
              0.5555555555555556,
              "#d8576b"
             ],
             [
              0.6666666666666666,
              "#ed7953"
             ],
             [
              0.7777777777777778,
              "#fb9f3a"
             ],
             [
              0.8888888888888888,
              "#fdca26"
             ],
             [
              1,
              "#f0f921"
             ]
            ],
            "type": "contour"
           }
          ],
          "contourcarpet": [
           {
            "colorbar": {
             "outlinewidth": 0,
             "ticks": ""
            },
            "type": "contourcarpet"
           }
          ],
          "heatmap": [
           {
            "colorbar": {
             "outlinewidth": 0,
             "ticks": ""
            },
            "colorscale": [
             [
              0,
              "#0d0887"
             ],
             [
              0.1111111111111111,
              "#46039f"
             ],
             [
              0.2222222222222222,
              "#7201a8"
             ],
             [
              0.3333333333333333,
              "#9c179e"
             ],
             [
              0.4444444444444444,
              "#bd3786"
             ],
             [
              0.5555555555555556,
              "#d8576b"
             ],
             [
              0.6666666666666666,
              "#ed7953"
             ],
             [
              0.7777777777777778,
              "#fb9f3a"
             ],
             [
              0.8888888888888888,
              "#fdca26"
             ],
             [
              1,
              "#f0f921"
             ]
            ],
            "type": "heatmap"
           }
          ],
          "heatmapgl": [
           {
            "colorbar": {
             "outlinewidth": 0,
             "ticks": ""
            },
            "colorscale": [
             [
              0,
              "#0d0887"
             ],
             [
              0.1111111111111111,
              "#46039f"
             ],
             [
              0.2222222222222222,
              "#7201a8"
             ],
             [
              0.3333333333333333,
              "#9c179e"
             ],
             [
              0.4444444444444444,
              "#bd3786"
             ],
             [
              0.5555555555555556,
              "#d8576b"
             ],
             [
              0.6666666666666666,
              "#ed7953"
             ],
             [
              0.7777777777777778,
              "#fb9f3a"
             ],
             [
              0.8888888888888888,
              "#fdca26"
             ],
             [
              1,
              "#f0f921"
             ]
            ],
            "type": "heatmapgl"
           }
          ],
          "histogram": [
           {
            "marker": {
             "pattern": {
              "fillmode": "overlay",
              "size": 10,
              "solidity": 0.2
             }
            },
            "type": "histogram"
           }
          ],
          "histogram2d": [
           {
            "colorbar": {
             "outlinewidth": 0,
             "ticks": ""
            },
            "colorscale": [
             [
              0,
              "#0d0887"
             ],
             [
              0.1111111111111111,
              "#46039f"
             ],
             [
              0.2222222222222222,
              "#7201a8"
             ],
             [
              0.3333333333333333,
              "#9c179e"
             ],
             [
              0.4444444444444444,
              "#bd3786"
             ],
             [
              0.5555555555555556,
              "#d8576b"
             ],
             [
              0.6666666666666666,
              "#ed7953"
             ],
             [
              0.7777777777777778,
              "#fb9f3a"
             ],
             [
              0.8888888888888888,
              "#fdca26"
             ],
             [
              1,
              "#f0f921"
             ]
            ],
            "type": "histogram2d"
           }
          ],
          "histogram2dcontour": [
           {
            "colorbar": {
             "outlinewidth": 0,
             "ticks": ""
            },
            "colorscale": [
             [
              0,
              "#0d0887"
             ],
             [
              0.1111111111111111,
              "#46039f"
             ],
             [
              0.2222222222222222,
              "#7201a8"
             ],
             [
              0.3333333333333333,
              "#9c179e"
             ],
             [
              0.4444444444444444,
              "#bd3786"
             ],
             [
              0.5555555555555556,
              "#d8576b"
             ],
             [
              0.6666666666666666,
              "#ed7953"
             ],
             [
              0.7777777777777778,
              "#fb9f3a"
             ],
             [
              0.8888888888888888,
              "#fdca26"
             ],
             [
              1,
              "#f0f921"
             ]
            ],
            "type": "histogram2dcontour"
           }
          ],
          "mesh3d": [
           {
            "colorbar": {
             "outlinewidth": 0,
             "ticks": ""
            },
            "type": "mesh3d"
           }
          ],
          "parcoords": [
           {
            "line": {
             "colorbar": {
              "outlinewidth": 0,
              "ticks": ""
             }
            },
            "type": "parcoords"
           }
          ],
          "pie": [
           {
            "automargin": true,
            "type": "pie"
           }
          ],
          "scatter": [
           {
            "fillpattern": {
             "fillmode": "overlay",
             "size": 10,
             "solidity": 0.2
            },
            "type": "scatter"
           }
          ],
          "scatter3d": [
           {
            "line": {
             "colorbar": {
              "outlinewidth": 0,
              "ticks": ""
             }
            },
            "marker": {
             "colorbar": {
              "outlinewidth": 0,
              "ticks": ""
             }
            },
            "type": "scatter3d"
           }
          ],
          "scattercarpet": [
           {
            "marker": {
             "colorbar": {
              "outlinewidth": 0,
              "ticks": ""
             }
            },
            "type": "scattercarpet"
           }
          ],
          "scattergeo": [
           {
            "marker": {
             "colorbar": {
              "outlinewidth": 0,
              "ticks": ""
             }
            },
            "type": "scattergeo"
           }
          ],
          "scattergl": [
           {
            "marker": {
             "colorbar": {
              "outlinewidth": 0,
              "ticks": ""
             }
            },
            "type": "scattergl"
           }
          ],
          "scattermapbox": [
           {
            "marker": {
             "colorbar": {
              "outlinewidth": 0,
              "ticks": ""
             }
            },
            "type": "scattermapbox"
           }
          ],
          "scatterpolar": [
           {
            "marker": {
             "colorbar": {
              "outlinewidth": 0,
              "ticks": ""
             }
            },
            "type": "scatterpolar"
           }
          ],
          "scatterpolargl": [
           {
            "marker": {
             "colorbar": {
              "outlinewidth": 0,
              "ticks": ""
             }
            },
            "type": "scatterpolargl"
           }
          ],
          "scatterternary": [
           {
            "marker": {
             "colorbar": {
              "outlinewidth": 0,
              "ticks": ""
             }
            },
            "type": "scatterternary"
           }
          ],
          "surface": [
           {
            "colorbar": {
             "outlinewidth": 0,
             "ticks": ""
            },
            "colorscale": [
             [
              0,
              "#0d0887"
             ],
             [
              0.1111111111111111,
              "#46039f"
             ],
             [
              0.2222222222222222,
              "#7201a8"
             ],
             [
              0.3333333333333333,
              "#9c179e"
             ],
             [
              0.4444444444444444,
              "#bd3786"
             ],
             [
              0.5555555555555556,
              "#d8576b"
             ],
             [
              0.6666666666666666,
              "#ed7953"
             ],
             [
              0.7777777777777778,
              "#fb9f3a"
             ],
             [
              0.8888888888888888,
              "#fdca26"
             ],
             [
              1,
              "#f0f921"
             ]
            ],
            "type": "surface"
           }
          ],
          "table": [
           {
            "cells": {
             "fill": {
              "color": "#EBF0F8"
             },
             "line": {
              "color": "white"
             }
            },
            "header": {
             "fill": {
              "color": "#C8D4E3"
             },
             "line": {
              "color": "white"
             }
            },
            "type": "table"
           }
          ]
         },
         "layout": {
          "annotationdefaults": {
           "arrowcolor": "#2a3f5f",
           "arrowhead": 0,
           "arrowwidth": 1
          },
          "autotypenumbers": "strict",
          "coloraxis": {
           "colorbar": {
            "outlinewidth": 0,
            "ticks": ""
           }
          },
          "colorscale": {
           "diverging": [
            [
             0,
             "#8e0152"
            ],
            [
             0.1,
             "#c51b7d"
            ],
            [
             0.2,
             "#de77ae"
            ],
            [
             0.3,
             "#f1b6da"
            ],
            [
             0.4,
             "#fde0ef"
            ],
            [
             0.5,
             "#f7f7f7"
            ],
            [
             0.6,
             "#e6f5d0"
            ],
            [
             0.7,
             "#b8e186"
            ],
            [
             0.8,
             "#7fbc41"
            ],
            [
             0.9,
             "#4d9221"
            ],
            [
             1,
             "#276419"
            ]
           ],
           "sequential": [
            [
             0,
             "#0d0887"
            ],
            [
             0.1111111111111111,
             "#46039f"
            ],
            [
             0.2222222222222222,
             "#7201a8"
            ],
            [
             0.3333333333333333,
             "#9c179e"
            ],
            [
             0.4444444444444444,
             "#bd3786"
            ],
            [
             0.5555555555555556,
             "#d8576b"
            ],
            [
             0.6666666666666666,
             "#ed7953"
            ],
            [
             0.7777777777777778,
             "#fb9f3a"
            ],
            [
             0.8888888888888888,
             "#fdca26"
            ],
            [
             1,
             "#f0f921"
            ]
           ],
           "sequentialminus": [
            [
             0,
             "#0d0887"
            ],
            [
             0.1111111111111111,
             "#46039f"
            ],
            [
             0.2222222222222222,
             "#7201a8"
            ],
            [
             0.3333333333333333,
             "#9c179e"
            ],
            [
             0.4444444444444444,
             "#bd3786"
            ],
            [
             0.5555555555555556,
             "#d8576b"
            ],
            [
             0.6666666666666666,
             "#ed7953"
            ],
            [
             0.7777777777777778,
             "#fb9f3a"
            ],
            [
             0.8888888888888888,
             "#fdca26"
            ],
            [
             1,
             "#f0f921"
            ]
           ]
          },
          "colorway": [
           "#636efa",
           "#EF553B",
           "#00cc96",
           "#ab63fa",
           "#FFA15A",
           "#19d3f3",
           "#FF6692",
           "#B6E880",
           "#FF97FF",
           "#FECB52"
          ],
          "font": {
           "color": "#2a3f5f"
          },
          "geo": {
           "bgcolor": "white",
           "lakecolor": "white",
           "landcolor": "white",
           "showlakes": true,
           "showland": true,
           "subunitcolor": "#C8D4E3"
          },
          "hoverlabel": {
           "align": "left"
          },
          "hovermode": "closest",
          "mapbox": {
           "style": "light"
          },
          "paper_bgcolor": "white",
          "plot_bgcolor": "white",
          "polar": {
           "angularaxis": {
            "gridcolor": "#EBF0F8",
            "linecolor": "#EBF0F8",
            "ticks": ""
           },
           "bgcolor": "white",
           "radialaxis": {
            "gridcolor": "#EBF0F8",
            "linecolor": "#EBF0F8",
            "ticks": ""
           }
          },
          "scene": {
           "xaxis": {
            "backgroundcolor": "white",
            "gridcolor": "#DFE8F3",
            "gridwidth": 2,
            "linecolor": "#EBF0F8",
            "showbackground": true,
            "ticks": "",
            "zerolinecolor": "#EBF0F8"
           },
           "yaxis": {
            "backgroundcolor": "white",
            "gridcolor": "#DFE8F3",
            "gridwidth": 2,
            "linecolor": "#EBF0F8",
            "showbackground": true,
            "ticks": "",
            "zerolinecolor": "#EBF0F8"
           },
           "zaxis": {
            "backgroundcolor": "white",
            "gridcolor": "#DFE8F3",
            "gridwidth": 2,
            "linecolor": "#EBF0F8",
            "showbackground": true,
            "ticks": "",
            "zerolinecolor": "#EBF0F8"
           }
          },
          "shapedefaults": {
           "line": {
            "color": "#2a3f5f"
           }
          },
          "ternary": {
           "aaxis": {
            "gridcolor": "#DFE8F3",
            "linecolor": "#A2B1C6",
            "ticks": ""
           },
           "baxis": {
            "gridcolor": "#DFE8F3",
            "linecolor": "#A2B1C6",
            "ticks": ""
           },
           "bgcolor": "white",
           "caxis": {
            "gridcolor": "#DFE8F3",
            "linecolor": "#A2B1C6",
            "ticks": ""
           }
          },
          "title": {
           "x": 0.05
          },
          "xaxis": {
           "automargin": true,
           "gridcolor": "#EBF0F8",
           "linecolor": "#EBF0F8",
           "ticks": "",
           "title": {
            "standoff": 15
           },
           "zerolinecolor": "#EBF0F8",
           "zerolinewidth": 2
          },
          "yaxis": {
           "automargin": true,
           "gridcolor": "#EBF0F8",
           "linecolor": "#EBF0F8",
           "ticks": "",
           "title": {
            "standoff": 15
           },
           "zerolinecolor": "#EBF0F8",
           "zerolinewidth": 2
          }
         }
        },
        "title": {
         "text": "Gráficas de Pérdida de Entrenamiento y Evaluación"
        },
        "xaxis": {
         "anchor": "y",
         "domain": [
          0,
          1
         ],
         "title": {
          "text": "Epoch"
         }
        },
        "yaxis": {
         "anchor": "x",
         "domain": [
          0,
          1
         ],
         "title": {
          "text": "Binary Cross Entropy"
         }
        }
       }
      }
     },
     "metadata": {},
     "output_type": "display_data"
    },
    {
     "data": {
      "application/vnd.plotly.v1+json": {
       "config": {
        "plotlyServerURL": "https://plot.ly"
       },
       "data": [
        {
         "hovertemplate": "Curvas de Exactitud=Exactitud de Entrenamiento<br>Epoch=%{x}<br>Exactitud=%{y}<extra></extra>",
         "legendgroup": "Exactitud de Entrenamiento",
         "line": {
          "color": "#00cc96",
          "dash": "solid"
         },
         "marker": {
          "symbol": "circle"
         },
         "mode": "lines",
         "name": "Exactitud de Entrenamiento",
         "orientation": "v",
         "showlegend": true,
         "type": "scatter",
         "x": [
          0,
          1,
          2,
          3,
          4,
          5,
          6,
          7,
          8,
          9,
          10,
          11,
          12,
          13,
          14,
          15,
          16,
          17,
          18,
          19,
          20,
          21,
          22,
          23,
          24,
          25,
          26,
          27,
          28,
          29,
          30,
          31,
          32,
          33,
          34,
          35,
          36,
          37,
          38,
          39,
          40,
          41,
          42,
          43,
          44,
          45,
          46,
          47,
          48,
          49,
          50,
          51,
          52,
          53,
          54,
          55,
          56,
          57,
          58,
          59,
          60,
          61,
          62,
          63,
          64,
          65,
          66,
          67,
          68,
          69,
          70,
          71,
          72,
          73,
          74,
          75,
          76,
          77,
          78,
          79,
          80,
          81,
          82,
          83,
          84,
          85,
          86,
          87,
          88,
          89,
          90,
          91,
          92,
          93,
          94,
          95,
          96,
          97,
          98,
          99,
          100,
          101,
          102,
          103,
          104,
          105,
          106,
          107,
          108,
          109,
          110,
          111,
          112,
          113,
          114,
          115,
          116,
          117,
          118,
          119,
          120,
          121,
          122,
          123,
          124,
          125,
          126,
          127,
          128,
          129,
          130,
          131,
          132,
          133,
          134,
          135,
          136,
          137,
          138,
          139,
          140,
          141,
          142,
          143,
          144,
          145,
          146,
          147,
          148,
          149,
          150,
          151,
          152,
          153,
          154,
          155,
          156,
          157,
          158,
          159,
          160,
          161,
          162,
          163,
          164,
          165,
          166,
          167,
          168,
          169,
          170,
          171,
          172,
          173,
          174,
          175,
          176,
          177,
          178,
          179,
          180,
          181,
          182,
          183,
          184,
          185,
          186,
          187,
          188,
          189,
          190,
          191,
          192,
          193,
          194,
          195,
          196,
          197,
          198,
          199,
          200,
          201,
          202,
          203,
          204,
          205,
          206,
          207,
          208,
          209,
          210,
          211,
          212,
          213,
          214,
          215,
          216,
          217,
          218,
          219,
          220,
          221,
          222,
          223,
          224,
          225,
          226,
          227,
          228,
          229,
          230,
          231,
          232,
          233,
          234,
          235,
          236,
          237,
          238,
          239,
          240,
          241,
          242,
          243,
          244,
          245,
          246,
          247,
          248,
          249,
          250,
          251,
          252,
          253,
          254,
          255,
          256,
          257,
          258,
          259,
          260,
          261,
          262,
          263,
          264,
          265,
          266,
          267,
          268,
          269,
          270,
          271,
          272,
          273,
          274,
          275,
          276,
          277,
          278,
          279,
          280,
          281,
          282,
          283,
          284,
          285,
          286,
          287,
          288,
          289,
          290,
          291,
          292,
          293,
          294,
          295,
          296,
          297,
          298,
          299
         ],
         "xaxis": "x",
         "y": [
          0.23469388484954834,
          0.3163265287876129,
          0.3163265287876129,
          0.3163265287876129,
          0.3163265287876129,
          0.3163265287876129,
          0.3163265287876129,
          0.3163265287876129,
          0.29591837525367737,
          0.3163265287876129,
          0.3163265287876129,
          0.3163265287876129,
          0.3163265287876129,
          0.3163265287876129,
          0.3265306055545807,
          0.3163265287876129,
          0.3163265287876129,
          0.3163265287876129,
          0.3163265287876129,
          0.3571428656578064,
          0.3571428656578064,
          0.40816327929496765,
          0.37755101919174194,
          0.4285714328289032,
          0.4285714328289032,
          0.40816327929496765,
          0.44897958636283875,
          0.4285714328289032,
          0.43877550959587097,
          0.44897958636283875,
          0.44897958636283875,
          0.44897958636283875,
          0.4285714328289032,
          0.44897958636283875,
          0.44897958636283875,
          0.43877550959587097,
          0.43877550959587097,
          0.44897958636283875,
          0.44897958636283875,
          0.44897958636283875,
          0.43877550959587097,
          0.44897958636283875,
          0.44897958636283875,
          0.4285714328289032,
          0.4183673560619354,
          0.4591836631298065,
          0.44897958636283875,
          0.4591836631298065,
          0.4897959232330322,
          0.43877550959587097,
          0.4693877696990967,
          0.44897958636283875,
          0.47959184646606445,
          0.4285714328289032,
          0.4693877696990967,
          0.4693877696990967,
          0.43877550959587097,
          0.4591836631298065,
          0.4591836631298065,
          0.47959184646606445,
          0.47959184646606445,
          0.4591836631298065,
          0.47959184646606445,
          0.4285714328289032,
          0.4693877696990967,
          0.4897959232330322,
          0.43877550959587097,
          0.4285714328289032,
          0.47959184646606445,
          0.4285714328289032,
          0.4897959232330322,
          0.4693877696990967,
          0.4285714328289032,
          0.44897958636283875,
          0.4693877696990967,
          0.5,
          0.43877550959587097,
          0.44897958636283875,
          0.47959184646606445,
          0.4591836631298065,
          0.5408163070678711,
          0.43877550959587097,
          0.4591836631298065,
          0.5,
          0.5204081535339355,
          0.4693877696990967,
          0.4693877696990967,
          0.5102040767669678,
          0.4591836631298065,
          0.4693877696990967,
          0.4693877696990967,
          0.43877550959587097,
          0.43877550959587097,
          0.47959184646606445,
          0.4693877696990967,
          0.5,
          0.4285714328289032,
          0.5,
          0.5,
          0.5306122303009033,
          0.4693877696990967,
          0.47959184646606445,
          0.47959184646606445,
          0.5204081535339355,
          0.44897958636283875,
          0.5,
          0.4897959232330322,
          0.5204081535339355,
          0.4693877696990967,
          0.5,
          0.5,
          0.44897958636283875,
          0.5510203838348389,
          0.47959184646606445,
          0.4897959232330322,
          0.5,
          0.47959184646606445,
          0.47959184646606445,
          0.5306122303009033,
          0.47959184646606445,
          0.44897958636283875,
          0.5204081535339355,
          0.5204081535339355,
          0.5408163070678711,
          0.4897959232330322,
          0.5510203838348389,
          0.5,
          0.5408163070678711,
          0.5408163070678711,
          0.5102040767669678,
          0.5204081535339355,
          0.40816327929496765,
          0.5306122303009033,
          0.5102040767669678,
          0.5612244606018066,
          0.5,
          0.5102040767669678,
          0.581632673740387,
          0.5204081535339355,
          0.47959184646606445,
          0.5714285969734192,
          0.5204081535339355,
          0.581632673740387,
          0.5612244606018066,
          0.5102040767669678,
          0.5714285969734192,
          0.4693877696990967,
          0.5714285969734192,
          0.5,
          0.5510203838348389,
          0.5306122303009033,
          0.5612244606018066,
          0.5408163070678711,
          0.5204081535339355,
          0.5510203838348389,
          0.5204081535339355,
          0.47959184646606445,
          0.5,
          0.5102040767669678,
          0.5102040767669678,
          0.4693877696990967,
          0.5,
          0.5510203838348389,
          0.5204081535339355,
          0.5408163070678711,
          0.5918367505073547,
          0.5204081535339355,
          0.5306122303009033,
          0.5,
          0.47959184646606445,
          0.47959184646606445,
          0.5306122303009033,
          0.5,
          0.5612244606018066,
          0.4897959232330322,
          0.5,
          0.5714285969734192,
          0.5408163070678711,
          0.5,
          0.5306122303009033,
          0.5102040767669678,
          0.5714285969734192,
          0.581632673740387,
          0.5204081535339355,
          0.5408163070678711,
          0.5102040767669678,
          0.6224489808082581,
          0.5918367505073547,
          0.5306122303009033,
          0.6122449040412903,
          0.5612244606018066,
          0.5714285969734192,
          0.4693877696990967,
          0.4897959232330322,
          0.5918367505073547,
          0.5612244606018066,
          0.5408163070678711,
          0.5306122303009033,
          0.5918367505073547,
          0.5612244606018066,
          0.5918367505073547,
          0.4897959232330322,
          0.5714285969734192,
          0.5204081535339355,
          0.5306122303009033,
          0.5306122303009033,
          0.47959184646606445,
          0.5102040767669678,
          0.5102040767669678,
          0.5,
          0.5612244606018066,
          0.5918367505073547,
          0.5102040767669678,
          0.5408163070678711,
          0.6122449040412903,
          0.5510203838348389,
          0.5714285969734192,
          0.4591836631298065,
          0.5306122303009033,
          0.581632673740387,
          0.5510203838348389,
          0.6122449040412903,
          0.5612244606018066,
          0.6326530575752258,
          0.5,
          0.5510203838348389,
          0.5714285969734192,
          0.6122449040412903,
          0.5510203838348389,
          0.5510203838348389,
          0.5408163070678711,
          0.5714285969734192,
          0.5204081535339355,
          0.5,
          0.5714285969734192,
          0.5612244606018066,
          0.5510203838348389,
          0.4183673560619354,
          0.5408163070678711,
          0.4591836631298065,
          0.5102040767669678,
          0.5306122303009033,
          0.5612244606018066,
          0.5204081535339355,
          0.5510203838348389,
          0.6020408272743225,
          0.5102040767669678,
          0.5612244606018066,
          0.5408163070678711,
          0.5204081535339355,
          0.6020408272743225,
          0.5918367505073547,
          0.4693877696990967,
          0.5102040767669678,
          0.5510203838348389,
          0.5918367505073547,
          0.5306122303009033,
          0.5510203838348389,
          0.6224489808082581,
          0.4897959232330322,
          0.5510203838348389,
          0.5918367505073547,
          0.4897959232330322,
          0.5204081535339355,
          0.5,
          0.5714285969734192,
          0.581632673740387,
          0.5204081535339355,
          0.6326530575752258,
          0.5306122303009033,
          0.5918367505073547,
          0.581632673740387,
          0.5510203838348389,
          0.6122449040412903,
          0.5102040767669678,
          0.581632673740387,
          0.6020408272743225,
          0.5204081535339355,
          0.6020408272743225,
          0.47959184646606445,
          0.6020408272743225,
          0.5306122303009033,
          0.5612244606018066,
          0.5408163070678711,
          0.5714285969734192,
          0.6020408272743225,
          0.6122449040412903,
          0.5612244606018066,
          0.6020408272743225,
          0.6530612111091614,
          0.5612244606018066,
          0.5102040767669678,
          0.6224489808082581,
          0.5102040767669678,
          0.5612244606018066,
          0.5612244606018066,
          0.5408163070678711,
          0.6020408272743225,
          0.6020408272743225,
          0.5510203838348389
         ],
         "yaxis": "y"
        },
        {
         "hovertemplate": "Curvas de Exactitud=Exactitud de Validación<br>Epoch=%{x}<br>Exactitud=%{y}<extra></extra>",
         "legendgroup": "Exactitud de Validación",
         "line": {
          "color": "#ab63fa",
          "dash": "solid"
         },
         "marker": {
          "symbol": "circle"
         },
         "mode": "lines",
         "name": "Exactitud de Validación",
         "orientation": "v",
         "showlegend": true,
         "type": "scatter",
         "x": [
          0,
          1,
          2,
          3,
          4,
          5,
          6,
          7,
          8,
          9,
          10,
          11,
          12,
          13,
          14,
          15,
          16,
          17,
          18,
          19,
          20,
          21,
          22,
          23,
          24,
          25,
          26,
          27,
          28,
          29,
          30,
          31,
          32,
          33,
          34,
          35,
          36,
          37,
          38,
          39,
          40,
          41,
          42,
          43,
          44,
          45,
          46,
          47,
          48,
          49,
          50,
          51,
          52,
          53,
          54,
          55,
          56,
          57,
          58,
          59,
          60,
          61,
          62,
          63,
          64,
          65,
          66,
          67,
          68,
          69,
          70,
          71,
          72,
          73,
          74,
          75,
          76,
          77,
          78,
          79,
          80,
          81,
          82,
          83,
          84,
          85,
          86,
          87,
          88,
          89,
          90,
          91,
          92,
          93,
          94,
          95,
          96,
          97,
          98,
          99,
          100,
          101,
          102,
          103,
          104,
          105,
          106,
          107,
          108,
          109,
          110,
          111,
          112,
          113,
          114,
          115,
          116,
          117,
          118,
          119,
          120,
          121,
          122,
          123,
          124,
          125,
          126,
          127,
          128,
          129,
          130,
          131,
          132,
          133,
          134,
          135,
          136,
          137,
          138,
          139,
          140,
          141,
          142,
          143,
          144,
          145,
          146,
          147,
          148,
          149,
          150,
          151,
          152,
          153,
          154,
          155,
          156,
          157,
          158,
          159,
          160,
          161,
          162,
          163,
          164,
          165,
          166,
          167,
          168,
          169,
          170,
          171,
          172,
          173,
          174,
          175,
          176,
          177,
          178,
          179,
          180,
          181,
          182,
          183,
          184,
          185,
          186,
          187,
          188,
          189,
          190,
          191,
          192,
          193,
          194,
          195,
          196,
          197,
          198,
          199,
          200,
          201,
          202,
          203,
          204,
          205,
          206,
          207,
          208,
          209,
          210,
          211,
          212,
          213,
          214,
          215,
          216,
          217,
          218,
          219,
          220,
          221,
          222,
          223,
          224,
          225,
          226,
          227,
          228,
          229,
          230,
          231,
          232,
          233,
          234,
          235,
          236,
          237,
          238,
          239,
          240,
          241,
          242,
          243,
          244,
          245,
          246,
          247,
          248,
          249,
          250,
          251,
          252,
          253,
          254,
          255,
          256,
          257,
          258,
          259,
          260,
          261,
          262,
          263,
          264,
          265,
          266,
          267,
          268,
          269,
          270,
          271,
          272,
          273,
          274,
          275,
          276,
          277,
          278,
          279,
          280,
          281,
          282,
          283,
          284,
          285,
          286,
          287,
          288,
          289,
          290,
          291,
          292,
          293,
          294,
          295,
          296,
          297,
          298,
          299
         ],
         "xaxis": "x",
         "y": [
          0.27272728085517883,
          0.27272728085517883,
          0.27272728085517883,
          0.27272728085517883,
          0.27272728085517883,
          0.27272728085517883,
          0.27272728085517883,
          0.27272728085517883,
          0.27272728085517883,
          0.27272728085517883,
          0.27272728085517883,
          0.27272728085517883,
          0.27272728085517883,
          0.27272728085517883,
          0.27272728085517883,
          0.27272728085517883,
          0.27272728085517883,
          0.27272728085517883,
          0.27272728085517883,
          0.27272728085517883,
          0.3333333432674408,
          0.27272728085517883,
          0.3333333432674408,
          0.3333333432674408,
          0.3333333432674408,
          0.3333333432674408,
          0.3333333432674408,
          0.3333333432674408,
          0.3333333432674408,
          0.3333333432674408,
          0.3333333432674408,
          0.3333333432674408,
          0.3333333432674408,
          0.3333333432674408,
          0.3333333432674408,
          0.3333333432674408,
          0.3333333432674408,
          0.3333333432674408,
          0.3333333432674408,
          0.3333333432674408,
          0.3333333432674408,
          0.3333333432674408,
          0.3333333432674408,
          0.3333333432674408,
          0.3333333432674408,
          0.3333333432674408,
          0.3333333432674408,
          0.3333333432674408,
          0.3333333432674408,
          0.3333333432674408,
          0.1818181872367859,
          0.39393940567970276,
          0.39393940567970276,
          0.42424243688583374,
          0.3333333432674408,
          0.3636363744735718,
          0.3333333432674408,
          0.39393940567970276,
          0.39393940567970276,
          0.39393940567970276,
          0.3333333432674408,
          0.39393940567970276,
          0.39393940567970276,
          0.39393940567970276,
          0.3333333432674408,
          0.3333333432674408,
          0.3636363744735718,
          0.3333333432674408,
          0.42424243688583374,
          0.39393940567970276,
          0.3333333432674408,
          0.3333333432674408,
          0.3333333432674408,
          0.3333333432674408,
          0.3636363744735718,
          0.4848484992980957,
          0.4545454680919647,
          0.39393940567970276,
          0.39393940567970276,
          0.3333333432674408,
          0.4848484992980957,
          0.3636363744735718,
          0.42424243688583374,
          0.42424243688583374,
          0.4545454680919647,
          0.5151515007019043,
          0.4545454680919647,
          0.42424243688583374,
          0.4848484992980957,
          0.42424243688583374,
          0.5151515007019043,
          0.39393940567970276,
          0.3636363744735718,
          0.3636363744735718,
          0.4545454680919647,
          0.4848484992980957,
          0.4848484992980957,
          0.39393940567970276,
          0.39393940567970276,
          0.5151515007019043,
          0.4848484992980957,
          0.4848484992980957,
          0.4545454680919647,
          0.4848484992980957,
          0.5454545617103577,
          0.39393940567970276,
          0.4545454680919647,
          0.42424243688583374,
          0.4848484992980957,
          0.4545454680919647,
          0.4848484992980957,
          0.4545454680919647,
          0.5151515007019043,
          0.4545454680919647,
          0.39393940567970276,
          0.39393940567970276,
          0.39393940567970276,
          0.5454545617103577,
          0.4848484992980957,
          0.5454545617103577,
          0.42424243688583374,
          0.4545454680919647,
          0.4848484992980957,
          0.4848484992980957,
          0.5454545617103577,
          0.4848484992980957,
          0.6363636255264282,
          0.5454545617103577,
          0.5151515007019043,
          0.5151515007019043,
          0.4848484992980957,
          0.4545454680919647,
          0.4545454680919647,
          0.4848484992980957,
          0.4848484992980957,
          0.5454545617103577,
          0.4848484992980957,
          0.5454545617103577,
          0.5151515007019043,
          0.5454545617103577,
          0.4545454680919647,
          0.4848484992980957,
          0.4848484992980957,
          0.4848484992980957,
          0.5151515007019043,
          0.5454545617103577,
          0.6060606241226196,
          0.4545454680919647,
          0.4848484992980957,
          0.5151515007019043,
          0.5757575631141663,
          0.5151515007019043,
          0.5151515007019043,
          0.5151515007019043,
          0.5454545617103577,
          0.4848484992980957,
          0.5151515007019043,
          0.5151515007019043,
          0.4545454680919647,
          0.5454545617103577,
          0.5454545617103577,
          0.5454545617103577,
          0.5454545617103577,
          0.4848484992980957,
          0.4848484992980957,
          0.4848484992980957,
          0.4848484992980957,
          0.5454545617103577,
          0.6363636255264282,
          0.4848484992980957,
          0.5454545617103577,
          0.5454545617103577,
          0.5454545617103577,
          0.5454545617103577,
          0.5151515007019043,
          0.6969696879386902,
          0.5454545617103577,
          0.4848484992980957,
          0.7575757503509521,
          0.4848484992980957,
          0.5454545617103577,
          0.6969696879386902,
          0.5454545617103577,
          0.5454545617103577,
          0.5757575631141663,
          0.5151515007019043,
          0.5454545617103577,
          0.7272727489471436,
          0.6969696879386902,
          0.7878788113594055,
          0.5757575631141663,
          0.6060606241226196,
          0.4848484992980957,
          0.5757575631141663,
          0.6060606241226196,
          0.6969696879386902,
          0.6666666865348816,
          0.6969696879386902,
          0.5454545617103577,
          0.5454545617103577,
          0.5757575631141663,
          0.6969696879386902,
          0.39393940567970276,
          0.4545454680919647,
          0.5151515007019043,
          0.5757575631141663,
          0.6969696879386902,
          0.7272727489471436,
          0.6363636255264282,
          0.5454545617103577,
          0.5757575631141663,
          0.5454545617103577,
          0.7272727489471436,
          0.7575757503509521,
          0.7272727489471436,
          0.6969696879386902,
          0.4848484992980957,
          0.6363636255264282,
          0.6060606241226196,
          0.5151515007019043,
          0.7575757503509521,
          0.6969696879386902,
          0.6060606241226196,
          0.7575757503509521,
          0.6060606241226196,
          0.6666666865348816,
          0.7272727489471436,
          0.6060606241226196,
          0.7272727489471436,
          0.6969696879386902,
          0.6969696879386902,
          0.6666666865348816,
          0.7272727489471436,
          0.7575757503509521,
          0.6060606241226196,
          0.5151515007019043,
          0.5757575631141663,
          0.6363636255264282,
          0.6666666865348816,
          0.7272727489471436,
          0.6060606241226196,
          0.5757575631141663,
          0.5454545617103577,
          0.6363636255264282,
          0.6060606241226196,
          0.5454545617103577,
          0.6969696879386902,
          0.5454545617103577,
          0.6060606241226196,
          0.5151515007019043,
          0.6969696879386902,
          0.4545454680919647,
          0.5454545617103577,
          0.5757575631141663,
          0.7272727489471436,
          0.6666666865348816,
          0.5757575631141663,
          0.6666666865348816,
          0.5757575631141663,
          0.6060606241226196,
          0.5454545617103577,
          0.5757575631141663,
          0.5454545617103577,
          0.3333333432674408,
          0.5757575631141663,
          0.5151515007019043,
          0.6060606241226196,
          0.7878788113594055,
          0.5757575631141663,
          0.5454545617103577,
          0.5454545617103577,
          0.7272727489471436,
          0.6666666865348816,
          0.5757575631141663,
          0.7878788113594055,
          0.7878788113594055,
          0.7878788113594055,
          0.6363636255264282,
          0.6969696879386902,
          0.7272727489471436,
          0.7575757503509521,
          0.5151515007019043,
          0.6969696879386902,
          0.6969696879386902,
          0.5757575631141663,
          0.5757575631141663,
          0.6060606241226196,
          0.6666666865348816,
          0.7272727489471436,
          0.6363636255264282,
          0.6060606241226196,
          0.6666666865348816,
          0.7272727489471436,
          0.5757575631141663,
          0.7575757503509521,
          0.6969696879386902,
          0.6969696879386902,
          0.5757575631141663,
          0.6666666865348816,
          0.6969696879386902
         ],
         "yaxis": "y"
        }
       ],
       "layout": {
        "legend": {
         "title": {
          "text": "Curvas de Exactitud"
         },
         "tracegroupgap": 0
        },
        "template": {
         "data": {
          "bar": [
           {
            "error_x": {
             "color": "#2a3f5f"
            },
            "error_y": {
             "color": "#2a3f5f"
            },
            "marker": {
             "line": {
              "color": "white",
              "width": 0.5
             },
             "pattern": {
              "fillmode": "overlay",
              "size": 10,
              "solidity": 0.2
             }
            },
            "type": "bar"
           }
          ],
          "barpolar": [
           {
            "marker": {
             "line": {
              "color": "white",
              "width": 0.5
             },
             "pattern": {
              "fillmode": "overlay",
              "size": 10,
              "solidity": 0.2
             }
            },
            "type": "barpolar"
           }
          ],
          "carpet": [
           {
            "aaxis": {
             "endlinecolor": "#2a3f5f",
             "gridcolor": "#C8D4E3",
             "linecolor": "#C8D4E3",
             "minorgridcolor": "#C8D4E3",
             "startlinecolor": "#2a3f5f"
            },
            "baxis": {
             "endlinecolor": "#2a3f5f",
             "gridcolor": "#C8D4E3",
             "linecolor": "#C8D4E3",
             "minorgridcolor": "#C8D4E3",
             "startlinecolor": "#2a3f5f"
            },
            "type": "carpet"
           }
          ],
          "choropleth": [
           {
            "colorbar": {
             "outlinewidth": 0,
             "ticks": ""
            },
            "type": "choropleth"
           }
          ],
          "contour": [
           {
            "colorbar": {
             "outlinewidth": 0,
             "ticks": ""
            },
            "colorscale": [
             [
              0,
              "#0d0887"
             ],
             [
              0.1111111111111111,
              "#46039f"
             ],
             [
              0.2222222222222222,
              "#7201a8"
             ],
             [
              0.3333333333333333,
              "#9c179e"
             ],
             [
              0.4444444444444444,
              "#bd3786"
             ],
             [
              0.5555555555555556,
              "#d8576b"
             ],
             [
              0.6666666666666666,
              "#ed7953"
             ],
             [
              0.7777777777777778,
              "#fb9f3a"
             ],
             [
              0.8888888888888888,
              "#fdca26"
             ],
             [
              1,
              "#f0f921"
             ]
            ],
            "type": "contour"
           }
          ],
          "contourcarpet": [
           {
            "colorbar": {
             "outlinewidth": 0,
             "ticks": ""
            },
            "type": "contourcarpet"
           }
          ],
          "heatmap": [
           {
            "colorbar": {
             "outlinewidth": 0,
             "ticks": ""
            },
            "colorscale": [
             [
              0,
              "#0d0887"
             ],
             [
              0.1111111111111111,
              "#46039f"
             ],
             [
              0.2222222222222222,
              "#7201a8"
             ],
             [
              0.3333333333333333,
              "#9c179e"
             ],
             [
              0.4444444444444444,
              "#bd3786"
             ],
             [
              0.5555555555555556,
              "#d8576b"
             ],
             [
              0.6666666666666666,
              "#ed7953"
             ],
             [
              0.7777777777777778,
              "#fb9f3a"
             ],
             [
              0.8888888888888888,
              "#fdca26"
             ],
             [
              1,
              "#f0f921"
             ]
            ],
            "type": "heatmap"
           }
          ],
          "heatmapgl": [
           {
            "colorbar": {
             "outlinewidth": 0,
             "ticks": ""
            },
            "colorscale": [
             [
              0,
              "#0d0887"
             ],
             [
              0.1111111111111111,
              "#46039f"
             ],
             [
              0.2222222222222222,
              "#7201a8"
             ],
             [
              0.3333333333333333,
              "#9c179e"
             ],
             [
              0.4444444444444444,
              "#bd3786"
             ],
             [
              0.5555555555555556,
              "#d8576b"
             ],
             [
              0.6666666666666666,
              "#ed7953"
             ],
             [
              0.7777777777777778,
              "#fb9f3a"
             ],
             [
              0.8888888888888888,
              "#fdca26"
             ],
             [
              1,
              "#f0f921"
             ]
            ],
            "type": "heatmapgl"
           }
          ],
          "histogram": [
           {
            "marker": {
             "pattern": {
              "fillmode": "overlay",
              "size": 10,
              "solidity": 0.2
             }
            },
            "type": "histogram"
           }
          ],
          "histogram2d": [
           {
            "colorbar": {
             "outlinewidth": 0,
             "ticks": ""
            },
            "colorscale": [
             [
              0,
              "#0d0887"
             ],
             [
              0.1111111111111111,
              "#46039f"
             ],
             [
              0.2222222222222222,
              "#7201a8"
             ],
             [
              0.3333333333333333,
              "#9c179e"
             ],
             [
              0.4444444444444444,
              "#bd3786"
             ],
             [
              0.5555555555555556,
              "#d8576b"
             ],
             [
              0.6666666666666666,
              "#ed7953"
             ],
             [
              0.7777777777777778,
              "#fb9f3a"
             ],
             [
              0.8888888888888888,
              "#fdca26"
             ],
             [
              1,
              "#f0f921"
             ]
            ],
            "type": "histogram2d"
           }
          ],
          "histogram2dcontour": [
           {
            "colorbar": {
             "outlinewidth": 0,
             "ticks": ""
            },
            "colorscale": [
             [
              0,
              "#0d0887"
             ],
             [
              0.1111111111111111,
              "#46039f"
             ],
             [
              0.2222222222222222,
              "#7201a8"
             ],
             [
              0.3333333333333333,
              "#9c179e"
             ],
             [
              0.4444444444444444,
              "#bd3786"
             ],
             [
              0.5555555555555556,
              "#d8576b"
             ],
             [
              0.6666666666666666,
              "#ed7953"
             ],
             [
              0.7777777777777778,
              "#fb9f3a"
             ],
             [
              0.8888888888888888,
              "#fdca26"
             ],
             [
              1,
              "#f0f921"
             ]
            ],
            "type": "histogram2dcontour"
           }
          ],
          "mesh3d": [
           {
            "colorbar": {
             "outlinewidth": 0,
             "ticks": ""
            },
            "type": "mesh3d"
           }
          ],
          "parcoords": [
           {
            "line": {
             "colorbar": {
              "outlinewidth": 0,
              "ticks": ""
             }
            },
            "type": "parcoords"
           }
          ],
          "pie": [
           {
            "automargin": true,
            "type": "pie"
           }
          ],
          "scatter": [
           {
            "fillpattern": {
             "fillmode": "overlay",
             "size": 10,
             "solidity": 0.2
            },
            "type": "scatter"
           }
          ],
          "scatter3d": [
           {
            "line": {
             "colorbar": {
              "outlinewidth": 0,
              "ticks": ""
             }
            },
            "marker": {
             "colorbar": {
              "outlinewidth": 0,
              "ticks": ""
             }
            },
            "type": "scatter3d"
           }
          ],
          "scattercarpet": [
           {
            "marker": {
             "colorbar": {
              "outlinewidth": 0,
              "ticks": ""
             }
            },
            "type": "scattercarpet"
           }
          ],
          "scattergeo": [
           {
            "marker": {
             "colorbar": {
              "outlinewidth": 0,
              "ticks": ""
             }
            },
            "type": "scattergeo"
           }
          ],
          "scattergl": [
           {
            "marker": {
             "colorbar": {
              "outlinewidth": 0,
              "ticks": ""
             }
            },
            "type": "scattergl"
           }
          ],
          "scattermapbox": [
           {
            "marker": {
             "colorbar": {
              "outlinewidth": 0,
              "ticks": ""
             }
            },
            "type": "scattermapbox"
           }
          ],
          "scatterpolar": [
           {
            "marker": {
             "colorbar": {
              "outlinewidth": 0,
              "ticks": ""
             }
            },
            "type": "scatterpolar"
           }
          ],
          "scatterpolargl": [
           {
            "marker": {
             "colorbar": {
              "outlinewidth": 0,
              "ticks": ""
             }
            },
            "type": "scatterpolargl"
           }
          ],
          "scatterternary": [
           {
            "marker": {
             "colorbar": {
              "outlinewidth": 0,
              "ticks": ""
             }
            },
            "type": "scatterternary"
           }
          ],
          "surface": [
           {
            "colorbar": {
             "outlinewidth": 0,
             "ticks": ""
            },
            "colorscale": [
             [
              0,
              "#0d0887"
             ],
             [
              0.1111111111111111,
              "#46039f"
             ],
             [
              0.2222222222222222,
              "#7201a8"
             ],
             [
              0.3333333333333333,
              "#9c179e"
             ],
             [
              0.4444444444444444,
              "#bd3786"
             ],
             [
              0.5555555555555556,
              "#d8576b"
             ],
             [
              0.6666666666666666,
              "#ed7953"
             ],
             [
              0.7777777777777778,
              "#fb9f3a"
             ],
             [
              0.8888888888888888,
              "#fdca26"
             ],
             [
              1,
              "#f0f921"
             ]
            ],
            "type": "surface"
           }
          ],
          "table": [
           {
            "cells": {
             "fill": {
              "color": "#EBF0F8"
             },
             "line": {
              "color": "white"
             }
            },
            "header": {
             "fill": {
              "color": "#C8D4E3"
             },
             "line": {
              "color": "white"
             }
            },
            "type": "table"
           }
          ]
         },
         "layout": {
          "annotationdefaults": {
           "arrowcolor": "#2a3f5f",
           "arrowhead": 0,
           "arrowwidth": 1
          },
          "autotypenumbers": "strict",
          "coloraxis": {
           "colorbar": {
            "outlinewidth": 0,
            "ticks": ""
           }
          },
          "colorscale": {
           "diverging": [
            [
             0,
             "#8e0152"
            ],
            [
             0.1,
             "#c51b7d"
            ],
            [
             0.2,
             "#de77ae"
            ],
            [
             0.3,
             "#f1b6da"
            ],
            [
             0.4,
             "#fde0ef"
            ],
            [
             0.5,
             "#f7f7f7"
            ],
            [
             0.6,
             "#e6f5d0"
            ],
            [
             0.7,
             "#b8e186"
            ],
            [
             0.8,
             "#7fbc41"
            ],
            [
             0.9,
             "#4d9221"
            ],
            [
             1,
             "#276419"
            ]
           ],
           "sequential": [
            [
             0,
             "#0d0887"
            ],
            [
             0.1111111111111111,
             "#46039f"
            ],
            [
             0.2222222222222222,
             "#7201a8"
            ],
            [
             0.3333333333333333,
             "#9c179e"
            ],
            [
             0.4444444444444444,
             "#bd3786"
            ],
            [
             0.5555555555555556,
             "#d8576b"
            ],
            [
             0.6666666666666666,
             "#ed7953"
            ],
            [
             0.7777777777777778,
             "#fb9f3a"
            ],
            [
             0.8888888888888888,
             "#fdca26"
            ],
            [
             1,
             "#f0f921"
            ]
           ],
           "sequentialminus": [
            [
             0,
             "#0d0887"
            ],
            [
             0.1111111111111111,
             "#46039f"
            ],
            [
             0.2222222222222222,
             "#7201a8"
            ],
            [
             0.3333333333333333,
             "#9c179e"
            ],
            [
             0.4444444444444444,
             "#bd3786"
            ],
            [
             0.5555555555555556,
             "#d8576b"
            ],
            [
             0.6666666666666666,
             "#ed7953"
            ],
            [
             0.7777777777777778,
             "#fb9f3a"
            ],
            [
             0.8888888888888888,
             "#fdca26"
            ],
            [
             1,
             "#f0f921"
            ]
           ]
          },
          "colorway": [
           "#636efa",
           "#EF553B",
           "#00cc96",
           "#ab63fa",
           "#FFA15A",
           "#19d3f3",
           "#FF6692",
           "#B6E880",
           "#FF97FF",
           "#FECB52"
          ],
          "font": {
           "color": "#2a3f5f"
          },
          "geo": {
           "bgcolor": "white",
           "lakecolor": "white",
           "landcolor": "white",
           "showlakes": true,
           "showland": true,
           "subunitcolor": "#C8D4E3"
          },
          "hoverlabel": {
           "align": "left"
          },
          "hovermode": "closest",
          "mapbox": {
           "style": "light"
          },
          "paper_bgcolor": "white",
          "plot_bgcolor": "white",
          "polar": {
           "angularaxis": {
            "gridcolor": "#EBF0F8",
            "linecolor": "#EBF0F8",
            "ticks": ""
           },
           "bgcolor": "white",
           "radialaxis": {
            "gridcolor": "#EBF0F8",
            "linecolor": "#EBF0F8",
            "ticks": ""
           }
          },
          "scene": {
           "xaxis": {
            "backgroundcolor": "white",
            "gridcolor": "#DFE8F3",
            "gridwidth": 2,
            "linecolor": "#EBF0F8",
            "showbackground": true,
            "ticks": "",
            "zerolinecolor": "#EBF0F8"
           },
           "yaxis": {
            "backgroundcolor": "white",
            "gridcolor": "#DFE8F3",
            "gridwidth": 2,
            "linecolor": "#EBF0F8",
            "showbackground": true,
            "ticks": "",
            "zerolinecolor": "#EBF0F8"
           },
           "zaxis": {
            "backgroundcolor": "white",
            "gridcolor": "#DFE8F3",
            "gridwidth": 2,
            "linecolor": "#EBF0F8",
            "showbackground": true,
            "ticks": "",
            "zerolinecolor": "#EBF0F8"
           }
          },
          "shapedefaults": {
           "line": {
            "color": "#2a3f5f"
           }
          },
          "ternary": {
           "aaxis": {
            "gridcolor": "#DFE8F3",
            "linecolor": "#A2B1C6",
            "ticks": ""
           },
           "baxis": {
            "gridcolor": "#DFE8F3",
            "linecolor": "#A2B1C6",
            "ticks": ""
           },
           "bgcolor": "white",
           "caxis": {
            "gridcolor": "#DFE8F3",
            "linecolor": "#A2B1C6",
            "ticks": ""
           }
          },
          "title": {
           "x": 0.05
          },
          "xaxis": {
           "automargin": true,
           "gridcolor": "#EBF0F8",
           "linecolor": "#EBF0F8",
           "ticks": "",
           "title": {
            "standoff": 15
           },
           "zerolinecolor": "#EBF0F8",
           "zerolinewidth": 2
          },
          "yaxis": {
           "automargin": true,
           "gridcolor": "#EBF0F8",
           "linecolor": "#EBF0F8",
           "ticks": "",
           "title": {
            "standoff": 15
           },
           "zerolinecolor": "#EBF0F8",
           "zerolinewidth": 2
          }
         }
        },
        "title": {
         "text": "Gráficas de Exactitud"
        },
        "xaxis": {
         "anchor": "y",
         "domain": [
          0,
          1
         ],
         "title": {
          "text": "Epoch"
         }
        },
        "yaxis": {
         "anchor": "x",
         "domain": [
          0,
          1
         ],
         "title": {
          "text": "Exactitud"
         }
        }
       }
      }
     },
     "metadata": {},
     "output_type": "display_data"
    },
    {
     "data": {
      "text/html": [
       "<div>\n",
       "<style scoped>\n",
       "    .dataframe tbody tr th:only-of-type {\n",
       "        vertical-align: middle;\n",
       "    }\n",
       "\n",
       "    .dataframe tbody tr th {\n",
       "        vertical-align: top;\n",
       "    }\n",
       "\n",
       "    .dataframe thead th {\n",
       "        text-align: right;\n",
       "    }\n",
       "</style>\n",
       "<table border=\"1\" class=\"dataframe\">\n",
       "  <thead>\n",
       "    <tr style=\"text-align: right;\">\n",
       "      <th></th>\n",
       "      <th>Training Loss</th>\n",
       "      <th>Exactitud de Entrenamiento</th>\n",
       "      <th>Validation Loss</th>\n",
       "      <th>Exactitud de Validación</th>\n",
       "      <th>epoch</th>\n",
       "    </tr>\n",
       "  </thead>\n",
       "  <tbody>\n",
       "    <tr>\n",
       "      <th>0</th>\n",
       "      <td>1.604</td>\n",
       "      <td>0.235</td>\n",
       "      <td>1.583</td>\n",
       "      <td>0.273</td>\n",
       "      <td>0</td>\n",
       "    </tr>\n",
       "    <tr>\n",
       "      <th>1</th>\n",
       "      <td>1.589</td>\n",
       "      <td>0.316</td>\n",
       "      <td>1.571</td>\n",
       "      <td>0.273</td>\n",
       "      <td>1</td>\n",
       "    </tr>\n",
       "    <tr>\n",
       "      <th>2</th>\n",
       "      <td>1.582</td>\n",
       "      <td>0.316</td>\n",
       "      <td>1.569</td>\n",
       "      <td>0.273</td>\n",
       "      <td>2</td>\n",
       "    </tr>\n",
       "    <tr>\n",
       "      <th>3</th>\n",
       "      <td>1.559</td>\n",
       "      <td>0.316</td>\n",
       "      <td>1.566</td>\n",
       "      <td>0.273</td>\n",
       "      <td>3</td>\n",
       "    </tr>\n",
       "    <tr>\n",
       "      <th>4</th>\n",
       "      <td>1.544</td>\n",
       "      <td>0.316</td>\n",
       "      <td>1.574</td>\n",
       "      <td>0.273</td>\n",
       "      <td>4</td>\n",
       "    </tr>\n",
       "    <tr>\n",
       "      <th>...</th>\n",
       "      <td>...</td>\n",
       "      <td>...</td>\n",
       "      <td>...</td>\n",
       "      <td>...</td>\n",
       "      <td>...</td>\n",
       "    </tr>\n",
       "    <tr>\n",
       "      <th>295</th>\n",
       "      <td>0.866</td>\n",
       "      <td>0.561</td>\n",
       "      <td>0.816</td>\n",
       "      <td>0.697</td>\n",
       "      <td>295</td>\n",
       "    </tr>\n",
       "    <tr>\n",
       "      <th>296</th>\n",
       "      <td>0.844</td>\n",
       "      <td>0.541</td>\n",
       "      <td>0.807</td>\n",
       "      <td>0.697</td>\n",
       "      <td>296</td>\n",
       "    </tr>\n",
       "    <tr>\n",
       "      <th>297</th>\n",
       "      <td>0.845</td>\n",
       "      <td>0.602</td>\n",
       "      <td>0.838</td>\n",
       "      <td>0.576</td>\n",
       "      <td>297</td>\n",
       "    </tr>\n",
       "    <tr>\n",
       "      <th>298</th>\n",
       "      <td>0.843</td>\n",
       "      <td>0.602</td>\n",
       "      <td>0.823</td>\n",
       "      <td>0.667</td>\n",
       "      <td>298</td>\n",
       "    </tr>\n",
       "    <tr>\n",
       "      <th>299</th>\n",
       "      <td>0.899</td>\n",
       "      <td>0.551</td>\n",
       "      <td>0.817</td>\n",
       "      <td>0.697</td>\n",
       "      <td>299</td>\n",
       "    </tr>\n",
       "  </tbody>\n",
       "</table>\n",
       "<p>300 rows × 5 columns</p>\n",
       "</div>"
      ],
      "text/plain": [
       "     Training Loss  Exactitud de Entrenamiento  Validation Loss  \\\n",
       "0            1.604                       0.235            1.583   \n",
       "1            1.589                       0.316            1.571   \n",
       "2            1.582                       0.316            1.569   \n",
       "3            1.559                       0.316            1.566   \n",
       "4            1.544                       0.316            1.574   \n",
       "..             ...                         ...              ...   \n",
       "295          0.866                       0.561            0.816   \n",
       "296          0.844                       0.541            0.807   \n",
       "297          0.845                       0.602            0.838   \n",
       "298          0.843                       0.602            0.823   \n",
       "299          0.899                       0.551            0.817   \n",
       "\n",
       "     Exactitud de Validación  epoch  \n",
       "0                      0.273      0  \n",
       "1                      0.273      1  \n",
       "2                      0.273      2  \n",
       "3                      0.273      3  \n",
       "4                      0.273      4  \n",
       "..                       ...    ...  \n",
       "295                    0.697    295  \n",
       "296                    0.697    296  \n",
       "297                    0.576    297  \n",
       "298                    0.667    298  \n",
       "299                    0.697    299  \n",
       "\n",
       "[300 rows x 5 columns]"
      ]
     },
     "metadata": {},
     "output_type": "display_data"
    }
   ],
   "source": [
    "# Hiperparámetros\n",
    "learning_rate = 0.001\n",
    "epochs = 300\n",
    "batch_size = 5\n",
    "# Llama a la función para crear el modelo y lo guarda.\n",
    "model = my_model(learning_rate)\n",
    "# Invoca a la función de entrenamiento y guarda los resultados.\n",
    "history= train_model(model, train_features, train_labels, epochs, batch_size)\n",
    "# Llama a la función de las gráficas.\n",
    "loss_curves(history)\n",
    "accuracy_curve(history)\n",
    "display(history)"
   ]
  },
  {
   "attachments": {},
   "cell_type": "markdown",
   "metadata": {},
   "source": [
    "# Predicciones"
   ]
  },
  {
   "cell_type": "code",
   "execution_count": 24,
   "metadata": {},
   "outputs": [
    {
     "name": "stdout",
     "output_type": "stream",
     "text": [
      "2/2 [==============================] - 0s 3ms/step\n"
     ]
    },
    {
     "data": {
      "text/html": [
       "<div>\n",
       "<style scoped>\n",
       "    .dataframe tbody tr th:only-of-type {\n",
       "        vertical-align: middle;\n",
       "    }\n",
       "\n",
       "    .dataframe tbody tr th {\n",
       "        vertical-align: top;\n",
       "    }\n",
       "\n",
       "    .dataframe thead th {\n",
       "        text-align: right;\n",
       "    }\n",
       "</style>\n",
       "<table border=\"1\" class=\"dataframe\">\n",
       "  <thead>\n",
       "    <tr style=\"text-align: right;\">\n",
       "      <th></th>\n",
       "      <th>normal</th>\n",
       "      <th>collision_in_tool</th>\n",
       "      <th>collision_in_part</th>\n",
       "      <th>bottom_collision</th>\n",
       "      <th>bottom_obstruction</th>\n",
       "    </tr>\n",
       "  </thead>\n",
       "  <tbody>\n",
       "    <tr>\n",
       "      <th>0</th>\n",
       "      <td>0</td>\n",
       "      <td>0</td>\n",
       "      <td>1</td>\n",
       "      <td>0</td>\n",
       "      <td>0</td>\n",
       "    </tr>\n",
       "    <tr>\n",
       "      <th>1</th>\n",
       "      <td>0</td>\n",
       "      <td>0</td>\n",
       "      <td>0</td>\n",
       "      <td>0</td>\n",
       "      <td>1</td>\n",
       "    </tr>\n",
       "    <tr>\n",
       "      <th>2</th>\n",
       "      <td>0</td>\n",
       "      <td>0</td>\n",
       "      <td>0</td>\n",
       "      <td>1</td>\n",
       "      <td>0</td>\n",
       "    </tr>\n",
       "    <tr>\n",
       "      <th>3</th>\n",
       "      <td>1</td>\n",
       "      <td>0</td>\n",
       "      <td>0</td>\n",
       "      <td>0</td>\n",
       "      <td>0</td>\n",
       "    </tr>\n",
       "    <tr>\n",
       "      <th>4</th>\n",
       "      <td>0</td>\n",
       "      <td>0</td>\n",
       "      <td>0</td>\n",
       "      <td>1</td>\n",
       "      <td>0</td>\n",
       "    </tr>\n",
       "    <tr>\n",
       "      <th>...</th>\n",
       "      <td>...</td>\n",
       "      <td>...</td>\n",
       "      <td>...</td>\n",
       "      <td>...</td>\n",
       "      <td>...</td>\n",
       "    </tr>\n",
       "    <tr>\n",
       "      <th>28</th>\n",
       "      <td>0</td>\n",
       "      <td>0</td>\n",
       "      <td>0</td>\n",
       "      <td>1</td>\n",
       "      <td>0</td>\n",
       "    </tr>\n",
       "    <tr>\n",
       "      <th>29</th>\n",
       "      <td>0</td>\n",
       "      <td>0</td>\n",
       "      <td>1</td>\n",
       "      <td>0</td>\n",
       "      <td>0</td>\n",
       "    </tr>\n",
       "    <tr>\n",
       "      <th>30</th>\n",
       "      <td>0</td>\n",
       "      <td>0</td>\n",
       "      <td>0</td>\n",
       "      <td>1</td>\n",
       "      <td>0</td>\n",
       "    </tr>\n",
       "    <tr>\n",
       "      <th>31</th>\n",
       "      <td>0</td>\n",
       "      <td>0</td>\n",
       "      <td>1</td>\n",
       "      <td>0</td>\n",
       "      <td>0</td>\n",
       "    </tr>\n",
       "    <tr>\n",
       "      <th>32</th>\n",
       "      <td>1</td>\n",
       "      <td>0</td>\n",
       "      <td>0</td>\n",
       "      <td>0</td>\n",
       "      <td>0</td>\n",
       "    </tr>\n",
       "  </tbody>\n",
       "</table>\n",
       "<p>33 rows × 5 columns</p>\n",
       "</div>"
      ],
      "text/plain": [
       "    normal  collision_in_tool  collision_in_part  bottom_collision  \\\n",
       "0        0                  0                  1                 0   \n",
       "1        0                  0                  0                 0   \n",
       "2        0                  0                  0                 1   \n",
       "3        1                  0                  0                 0   \n",
       "4        0                  0                  0                 1   \n",
       "..     ...                ...                ...               ...   \n",
       "28       0                  0                  0                 1   \n",
       "29       0                  0                  1                 0   \n",
       "30       0                  0                  0                 1   \n",
       "31       0                  0                  1                 0   \n",
       "32       1                  0                  0                 0   \n",
       "\n",
       "    bottom_obstruction  \n",
       "0                    0  \n",
       "1                    1  \n",
       "2                    0  \n",
       "3                    0  \n",
       "4                    0  \n",
       "..                 ...  \n",
       "28                   0  \n",
       "29                   0  \n",
       "30                   0  \n",
       "31                   0  \n",
       "32                   0  \n",
       "\n",
       "[33 rows x 5 columns]"
      ]
     },
     "metadata": {},
     "output_type": "display_data"
    },
    {
     "data": {
      "text/html": [
       "<div>\n",
       "<style scoped>\n",
       "    .dataframe tbody tr th:only-of-type {\n",
       "        vertical-align: middle;\n",
       "    }\n",
       "\n",
       "    .dataframe tbody tr th {\n",
       "        vertical-align: top;\n",
       "    }\n",
       "\n",
       "    .dataframe thead th {\n",
       "        text-align: right;\n",
       "    }\n",
       "</style>\n",
       "<table border=\"1\" class=\"dataframe\">\n",
       "  <thead>\n",
       "    <tr style=\"text-align: right;\">\n",
       "      <th></th>\n",
       "      <th>1</th>\n",
       "      <th>2</th>\n",
       "      <th>3</th>\n",
       "      <th>4</th>\n",
       "      <th>5</th>\n",
       "    </tr>\n",
       "  </thead>\n",
       "  <tbody>\n",
       "    <tr>\n",
       "      <th>135</th>\n",
       "      <td>0</td>\n",
       "      <td>0</td>\n",
       "      <td>0</td>\n",
       "      <td>1</td>\n",
       "      <td>0</td>\n",
       "    </tr>\n",
       "    <tr>\n",
       "      <th>115</th>\n",
       "      <td>0</td>\n",
       "      <td>0</td>\n",
       "      <td>0</td>\n",
       "      <td>0</td>\n",
       "      <td>1</td>\n",
       "    </tr>\n",
       "    <tr>\n",
       "      <th>131</th>\n",
       "      <td>0</td>\n",
       "      <td>0</td>\n",
       "      <td>0</td>\n",
       "      <td>0</td>\n",
       "      <td>1</td>\n",
       "    </tr>\n",
       "    <tr>\n",
       "      <th>55</th>\n",
       "      <td>1</td>\n",
       "      <td>0</td>\n",
       "      <td>0</td>\n",
       "      <td>0</td>\n",
       "      <td>0</td>\n",
       "    </tr>\n",
       "    <tr>\n",
       "      <th>95</th>\n",
       "      <td>0</td>\n",
       "      <td>1</td>\n",
       "      <td>0</td>\n",
       "      <td>0</td>\n",
       "      <td>0</td>\n",
       "    </tr>\n",
       "    <tr>\n",
       "      <th>...</th>\n",
       "      <td>...</td>\n",
       "      <td>...</td>\n",
       "      <td>...</td>\n",
       "      <td>...</td>\n",
       "      <td>...</td>\n",
       "    </tr>\n",
       "    <tr>\n",
       "      <th>134</th>\n",
       "      <td>0</td>\n",
       "      <td>0</td>\n",
       "      <td>0</td>\n",
       "      <td>1</td>\n",
       "      <td>0</td>\n",
       "    </tr>\n",
       "    <tr>\n",
       "      <th>160</th>\n",
       "      <td>0</td>\n",
       "      <td>1</td>\n",
       "      <td>0</td>\n",
       "      <td>0</td>\n",
       "      <td>0</td>\n",
       "    </tr>\n",
       "    <tr>\n",
       "      <th>139</th>\n",
       "      <td>0</td>\n",
       "      <td>0</td>\n",
       "      <td>0</td>\n",
       "      <td>1</td>\n",
       "      <td>0</td>\n",
       "    </tr>\n",
       "    <tr>\n",
       "      <th>78</th>\n",
       "      <td>0</td>\n",
       "      <td>0</td>\n",
       "      <td>1</td>\n",
       "      <td>0</td>\n",
       "      <td>0</td>\n",
       "    </tr>\n",
       "    <tr>\n",
       "      <th>60</th>\n",
       "      <td>1</td>\n",
       "      <td>0</td>\n",
       "      <td>0</td>\n",
       "      <td>0</td>\n",
       "      <td>0</td>\n",
       "    </tr>\n",
       "  </tbody>\n",
       "</table>\n",
       "<p>33 rows × 5 columns</p>\n",
       "</div>"
      ],
      "text/plain": [
       "     1  2  3  4  5\n",
       "135  0  0  0  1  0\n",
       "115  0  0  0  0  1\n",
       "131  0  0  0  0  1\n",
       "55   1  0  0  0  0\n",
       "95   0  1  0  0  0\n",
       "..  .. .. .. .. ..\n",
       "134  0  0  0  1  0\n",
       "160  0  1  0  0  0\n",
       "139  0  0  0  1  0\n",
       "78   0  0  1  0  0\n",
       "60   1  0  0  0  0\n",
       "\n",
       "[33 rows x 5 columns]"
      ]
     },
     "metadata": {},
     "output_type": "display_data"
    },
    {
     "data": {
      "text/plain": [
       "array([[[19.,  3.],\n",
       "        [ 4.,  7.]],\n",
       "\n",
       "       [[27.,  0.],\n",
       "        [ 6.,  0.]],\n",
       "\n",
       "       [[17.,  9.],\n",
       "        [ 3.,  4.]],\n",
       "\n",
       "       [[25.,  3.],\n",
       "        [ 2.,  3.]],\n",
       "\n",
       "       [[28.,  1.],\n",
       "        [ 1.,  3.]]], dtype=float32)"
      ]
     },
     "metadata": {},
     "output_type": "display_data"
    },
    {
     "data": {
      "application/vnd.plotly.v1+json": {
       "config": {
        "plotlyServerURL": "https://plot.ly"
       },
       "data": [
        {
         "coloraxis": "coloraxis",
         "hovertemplate": "normal (Predicted): %{x}<br>normal: %{y}<br>color: %{z}<extra></extra>",
         "name": "0",
         "texttemplate": "%{z}",
         "type": "heatmap",
         "x": [
          "Negative",
          "-Positive"
         ],
         "xaxis": "x",
         "y": [
          "True",
          "False"
         ],
         "yaxis": "y",
         "z": [
          [
           19,
           3
          ],
          [
           4,
           7
          ]
         ]
        }
       ],
       "layout": {
        "coloraxis": {
         "colorscale": [
          [
           0,
           "rgb(255,255,255)"
          ],
          [
           0.125,
           "rgb(240,240,240)"
          ],
          [
           0.25,
           "rgb(217,217,217)"
          ],
          [
           0.375,
           "rgb(189,189,189)"
          ],
          [
           0.5,
           "rgb(150,150,150)"
          ],
          [
           0.625,
           "rgb(115,115,115)"
          ],
          [
           0.75,
           "rgb(82,82,82)"
          ],
          [
           0.875,
           "rgb(37,37,37)"
          ],
          [
           1,
           "rgb(0,0,0)"
          ]
         ]
        },
        "margin": {
         "t": 60
        },
        "template": {
         "data": {
          "bar": [
           {
            "error_x": {
             "color": "#2a3f5f"
            },
            "error_y": {
             "color": "#2a3f5f"
            },
            "marker": {
             "line": {
              "color": "#E5ECF6",
              "width": 0.5
             },
             "pattern": {
              "fillmode": "overlay",
              "size": 10,
              "solidity": 0.2
             }
            },
            "type": "bar"
           }
          ],
          "barpolar": [
           {
            "marker": {
             "line": {
              "color": "#E5ECF6",
              "width": 0.5
             },
             "pattern": {
              "fillmode": "overlay",
              "size": 10,
              "solidity": 0.2
             }
            },
            "type": "barpolar"
           }
          ],
          "carpet": [
           {
            "aaxis": {
             "endlinecolor": "#2a3f5f",
             "gridcolor": "white",
             "linecolor": "white",
             "minorgridcolor": "white",
             "startlinecolor": "#2a3f5f"
            },
            "baxis": {
             "endlinecolor": "#2a3f5f",
             "gridcolor": "white",
             "linecolor": "white",
             "minorgridcolor": "white",
             "startlinecolor": "#2a3f5f"
            },
            "type": "carpet"
           }
          ],
          "choropleth": [
           {
            "colorbar": {
             "outlinewidth": 0,
             "ticks": ""
            },
            "type": "choropleth"
           }
          ],
          "contour": [
           {
            "colorbar": {
             "outlinewidth": 0,
             "ticks": ""
            },
            "colorscale": [
             [
              0,
              "#0d0887"
             ],
             [
              0.1111111111111111,
              "#46039f"
             ],
             [
              0.2222222222222222,
              "#7201a8"
             ],
             [
              0.3333333333333333,
              "#9c179e"
             ],
             [
              0.4444444444444444,
              "#bd3786"
             ],
             [
              0.5555555555555556,
              "#d8576b"
             ],
             [
              0.6666666666666666,
              "#ed7953"
             ],
             [
              0.7777777777777778,
              "#fb9f3a"
             ],
             [
              0.8888888888888888,
              "#fdca26"
             ],
             [
              1,
              "#f0f921"
             ]
            ],
            "type": "contour"
           }
          ],
          "contourcarpet": [
           {
            "colorbar": {
             "outlinewidth": 0,
             "ticks": ""
            },
            "type": "contourcarpet"
           }
          ],
          "heatmap": [
           {
            "colorbar": {
             "outlinewidth": 0,
             "ticks": ""
            },
            "colorscale": [
             [
              0,
              "#0d0887"
             ],
             [
              0.1111111111111111,
              "#46039f"
             ],
             [
              0.2222222222222222,
              "#7201a8"
             ],
             [
              0.3333333333333333,
              "#9c179e"
             ],
             [
              0.4444444444444444,
              "#bd3786"
             ],
             [
              0.5555555555555556,
              "#d8576b"
             ],
             [
              0.6666666666666666,
              "#ed7953"
             ],
             [
              0.7777777777777778,
              "#fb9f3a"
             ],
             [
              0.8888888888888888,
              "#fdca26"
             ],
             [
              1,
              "#f0f921"
             ]
            ],
            "type": "heatmap"
           }
          ],
          "heatmapgl": [
           {
            "colorbar": {
             "outlinewidth": 0,
             "ticks": ""
            },
            "colorscale": [
             [
              0,
              "#0d0887"
             ],
             [
              0.1111111111111111,
              "#46039f"
             ],
             [
              0.2222222222222222,
              "#7201a8"
             ],
             [
              0.3333333333333333,
              "#9c179e"
             ],
             [
              0.4444444444444444,
              "#bd3786"
             ],
             [
              0.5555555555555556,
              "#d8576b"
             ],
             [
              0.6666666666666666,
              "#ed7953"
             ],
             [
              0.7777777777777778,
              "#fb9f3a"
             ],
             [
              0.8888888888888888,
              "#fdca26"
             ],
             [
              1,
              "#f0f921"
             ]
            ],
            "type": "heatmapgl"
           }
          ],
          "histogram": [
           {
            "marker": {
             "pattern": {
              "fillmode": "overlay",
              "size": 10,
              "solidity": 0.2
             }
            },
            "type": "histogram"
           }
          ],
          "histogram2d": [
           {
            "colorbar": {
             "outlinewidth": 0,
             "ticks": ""
            },
            "colorscale": [
             [
              0,
              "#0d0887"
             ],
             [
              0.1111111111111111,
              "#46039f"
             ],
             [
              0.2222222222222222,
              "#7201a8"
             ],
             [
              0.3333333333333333,
              "#9c179e"
             ],
             [
              0.4444444444444444,
              "#bd3786"
             ],
             [
              0.5555555555555556,
              "#d8576b"
             ],
             [
              0.6666666666666666,
              "#ed7953"
             ],
             [
              0.7777777777777778,
              "#fb9f3a"
             ],
             [
              0.8888888888888888,
              "#fdca26"
             ],
             [
              1,
              "#f0f921"
             ]
            ],
            "type": "histogram2d"
           }
          ],
          "histogram2dcontour": [
           {
            "colorbar": {
             "outlinewidth": 0,
             "ticks": ""
            },
            "colorscale": [
             [
              0,
              "#0d0887"
             ],
             [
              0.1111111111111111,
              "#46039f"
             ],
             [
              0.2222222222222222,
              "#7201a8"
             ],
             [
              0.3333333333333333,
              "#9c179e"
             ],
             [
              0.4444444444444444,
              "#bd3786"
             ],
             [
              0.5555555555555556,
              "#d8576b"
             ],
             [
              0.6666666666666666,
              "#ed7953"
             ],
             [
              0.7777777777777778,
              "#fb9f3a"
             ],
             [
              0.8888888888888888,
              "#fdca26"
             ],
             [
              1,
              "#f0f921"
             ]
            ],
            "type": "histogram2dcontour"
           }
          ],
          "mesh3d": [
           {
            "colorbar": {
             "outlinewidth": 0,
             "ticks": ""
            },
            "type": "mesh3d"
           }
          ],
          "parcoords": [
           {
            "line": {
             "colorbar": {
              "outlinewidth": 0,
              "ticks": ""
             }
            },
            "type": "parcoords"
           }
          ],
          "pie": [
           {
            "automargin": true,
            "type": "pie"
           }
          ],
          "scatter": [
           {
            "fillpattern": {
             "fillmode": "overlay",
             "size": 10,
             "solidity": 0.2
            },
            "type": "scatter"
           }
          ],
          "scatter3d": [
           {
            "line": {
             "colorbar": {
              "outlinewidth": 0,
              "ticks": ""
             }
            },
            "marker": {
             "colorbar": {
              "outlinewidth": 0,
              "ticks": ""
             }
            },
            "type": "scatter3d"
           }
          ],
          "scattercarpet": [
           {
            "marker": {
             "colorbar": {
              "outlinewidth": 0,
              "ticks": ""
             }
            },
            "type": "scattercarpet"
           }
          ],
          "scattergeo": [
           {
            "marker": {
             "colorbar": {
              "outlinewidth": 0,
              "ticks": ""
             }
            },
            "type": "scattergeo"
           }
          ],
          "scattergl": [
           {
            "marker": {
             "colorbar": {
              "outlinewidth": 0,
              "ticks": ""
             }
            },
            "type": "scattergl"
           }
          ],
          "scattermapbox": [
           {
            "marker": {
             "colorbar": {
              "outlinewidth": 0,
              "ticks": ""
             }
            },
            "type": "scattermapbox"
           }
          ],
          "scatterpolar": [
           {
            "marker": {
             "colorbar": {
              "outlinewidth": 0,
              "ticks": ""
             }
            },
            "type": "scatterpolar"
           }
          ],
          "scatterpolargl": [
           {
            "marker": {
             "colorbar": {
              "outlinewidth": 0,
              "ticks": ""
             }
            },
            "type": "scatterpolargl"
           }
          ],
          "scatterternary": [
           {
            "marker": {
             "colorbar": {
              "outlinewidth": 0,
              "ticks": ""
             }
            },
            "type": "scatterternary"
           }
          ],
          "surface": [
           {
            "colorbar": {
             "outlinewidth": 0,
             "ticks": ""
            },
            "colorscale": [
             [
              0,
              "#0d0887"
             ],
             [
              0.1111111111111111,
              "#46039f"
             ],
             [
              0.2222222222222222,
              "#7201a8"
             ],
             [
              0.3333333333333333,
              "#9c179e"
             ],
             [
              0.4444444444444444,
              "#bd3786"
             ],
             [
              0.5555555555555556,
              "#d8576b"
             ],
             [
              0.6666666666666666,
              "#ed7953"
             ],
             [
              0.7777777777777778,
              "#fb9f3a"
             ],
             [
              0.8888888888888888,
              "#fdca26"
             ],
             [
              1,
              "#f0f921"
             ]
            ],
            "type": "surface"
           }
          ],
          "table": [
           {
            "cells": {
             "fill": {
              "color": "#EBF0F8"
             },
             "line": {
              "color": "white"
             }
            },
            "header": {
             "fill": {
              "color": "#C8D4E3"
             },
             "line": {
              "color": "white"
             }
            },
            "type": "table"
           }
          ]
         },
         "layout": {
          "annotationdefaults": {
           "arrowcolor": "#2a3f5f",
           "arrowhead": 0,
           "arrowwidth": 1
          },
          "autotypenumbers": "strict",
          "coloraxis": {
           "colorbar": {
            "outlinewidth": 0,
            "ticks": ""
           }
          },
          "colorscale": {
           "diverging": [
            [
             0,
             "#8e0152"
            ],
            [
             0.1,
             "#c51b7d"
            ],
            [
             0.2,
             "#de77ae"
            ],
            [
             0.3,
             "#f1b6da"
            ],
            [
             0.4,
             "#fde0ef"
            ],
            [
             0.5,
             "#f7f7f7"
            ],
            [
             0.6,
             "#e6f5d0"
            ],
            [
             0.7,
             "#b8e186"
            ],
            [
             0.8,
             "#7fbc41"
            ],
            [
             0.9,
             "#4d9221"
            ],
            [
             1,
             "#276419"
            ]
           ],
           "sequential": [
            [
             0,
             "#0d0887"
            ],
            [
             0.1111111111111111,
             "#46039f"
            ],
            [
             0.2222222222222222,
             "#7201a8"
            ],
            [
             0.3333333333333333,
             "#9c179e"
            ],
            [
             0.4444444444444444,
             "#bd3786"
            ],
            [
             0.5555555555555556,
             "#d8576b"
            ],
            [
             0.6666666666666666,
             "#ed7953"
            ],
            [
             0.7777777777777778,
             "#fb9f3a"
            ],
            [
             0.8888888888888888,
             "#fdca26"
            ],
            [
             1,
             "#f0f921"
            ]
           ],
           "sequentialminus": [
            [
             0,
             "#0d0887"
            ],
            [
             0.1111111111111111,
             "#46039f"
            ],
            [
             0.2222222222222222,
             "#7201a8"
            ],
            [
             0.3333333333333333,
             "#9c179e"
            ],
            [
             0.4444444444444444,
             "#bd3786"
            ],
            [
             0.5555555555555556,
             "#d8576b"
            ],
            [
             0.6666666666666666,
             "#ed7953"
            ],
            [
             0.7777777777777778,
             "#fb9f3a"
            ],
            [
             0.8888888888888888,
             "#fdca26"
            ],
            [
             1,
             "#f0f921"
            ]
           ]
          },
          "colorway": [
           "#636efa",
           "#EF553B",
           "#00cc96",
           "#ab63fa",
           "#FFA15A",
           "#19d3f3",
           "#FF6692",
           "#B6E880",
           "#FF97FF",
           "#FECB52"
          ],
          "font": {
           "color": "#2a3f5f"
          },
          "geo": {
           "bgcolor": "white",
           "lakecolor": "white",
           "landcolor": "#E5ECF6",
           "showlakes": true,
           "showland": true,
           "subunitcolor": "white"
          },
          "hoverlabel": {
           "align": "left"
          },
          "hovermode": "closest",
          "mapbox": {
           "style": "light"
          },
          "paper_bgcolor": "white",
          "plot_bgcolor": "#E5ECF6",
          "polar": {
           "angularaxis": {
            "gridcolor": "white",
            "linecolor": "white",
            "ticks": ""
           },
           "bgcolor": "#E5ECF6",
           "radialaxis": {
            "gridcolor": "white",
            "linecolor": "white",
            "ticks": ""
           }
          },
          "scene": {
           "xaxis": {
            "backgroundcolor": "#E5ECF6",
            "gridcolor": "white",
            "gridwidth": 2,
            "linecolor": "white",
            "showbackground": true,
            "ticks": "",
            "zerolinecolor": "white"
           },
           "yaxis": {
            "backgroundcolor": "#E5ECF6",
            "gridcolor": "white",
            "gridwidth": 2,
            "linecolor": "white",
            "showbackground": true,
            "ticks": "",
            "zerolinecolor": "white"
           },
           "zaxis": {
            "backgroundcolor": "#E5ECF6",
            "gridcolor": "white",
            "gridwidth": 2,
            "linecolor": "white",
            "showbackground": true,
            "ticks": "",
            "zerolinecolor": "white"
           }
          },
          "shapedefaults": {
           "line": {
            "color": "#2a3f5f"
           }
          },
          "ternary": {
           "aaxis": {
            "gridcolor": "white",
            "linecolor": "white",
            "ticks": ""
           },
           "baxis": {
            "gridcolor": "white",
            "linecolor": "white",
            "ticks": ""
           },
           "bgcolor": "#E5ECF6",
           "caxis": {
            "gridcolor": "white",
            "linecolor": "white",
            "ticks": ""
           }
          },
          "title": {
           "x": 0.05
          },
          "xaxis": {
           "automargin": true,
           "gridcolor": "white",
           "linecolor": "white",
           "ticks": "",
           "title": {
            "standoff": 15
           },
           "zerolinecolor": "white",
           "zerolinewidth": 2
          },
          "yaxis": {
           "automargin": true,
           "gridcolor": "white",
           "linecolor": "white",
           "ticks": "",
           "title": {
            "standoff": 15
           },
           "zerolinecolor": "white",
           "zerolinewidth": 2
          }
         }
        },
        "xaxis": {
         "anchor": "y",
         "constrain": "domain",
         "domain": [
          0,
          1
         ],
         "scaleanchor": "y",
         "side": "top",
         "title": {
          "text": "normal (Predicted)"
         }
        },
        "yaxis": {
         "anchor": "x",
         "autorange": "reversed",
         "constrain": "domain",
         "domain": [
          0,
          1
         ],
         "title": {
          "text": "normal"
         }
        }
       }
      }
     },
     "metadata": {},
     "output_type": "display_data"
    },
    {
     "data": {
      "application/vnd.plotly.v1+json": {
       "config": {
        "plotlyServerURL": "https://plot.ly"
       },
       "data": [
        {
         "coloraxis": "coloraxis",
         "hovertemplate": "collision_in_tool (Predicted): %{x}<br>collision_in_tool: %{y}<br>color: %{z}<extra></extra>",
         "name": "0",
         "texttemplate": "%{z}",
         "type": "heatmap",
         "x": [
          "Negative",
          "-Positive"
         ],
         "xaxis": "x",
         "y": [
          "True",
          "False"
         ],
         "yaxis": "y",
         "z": [
          [
           19,
           3
          ],
          [
           4,
           7
          ]
         ]
        }
       ],
       "layout": {
        "coloraxis": {
         "colorscale": [
          [
           0,
           "rgb(255,255,255)"
          ],
          [
           0.125,
           "rgb(240,240,240)"
          ],
          [
           0.25,
           "rgb(217,217,217)"
          ],
          [
           0.375,
           "rgb(189,189,189)"
          ],
          [
           0.5,
           "rgb(150,150,150)"
          ],
          [
           0.625,
           "rgb(115,115,115)"
          ],
          [
           0.75,
           "rgb(82,82,82)"
          ],
          [
           0.875,
           "rgb(37,37,37)"
          ],
          [
           1,
           "rgb(0,0,0)"
          ]
         ]
        },
        "margin": {
         "t": 60
        },
        "template": {
         "data": {
          "bar": [
           {
            "error_x": {
             "color": "#2a3f5f"
            },
            "error_y": {
             "color": "#2a3f5f"
            },
            "marker": {
             "line": {
              "color": "#E5ECF6",
              "width": 0.5
             },
             "pattern": {
              "fillmode": "overlay",
              "size": 10,
              "solidity": 0.2
             }
            },
            "type": "bar"
           }
          ],
          "barpolar": [
           {
            "marker": {
             "line": {
              "color": "#E5ECF6",
              "width": 0.5
             },
             "pattern": {
              "fillmode": "overlay",
              "size": 10,
              "solidity": 0.2
             }
            },
            "type": "barpolar"
           }
          ],
          "carpet": [
           {
            "aaxis": {
             "endlinecolor": "#2a3f5f",
             "gridcolor": "white",
             "linecolor": "white",
             "minorgridcolor": "white",
             "startlinecolor": "#2a3f5f"
            },
            "baxis": {
             "endlinecolor": "#2a3f5f",
             "gridcolor": "white",
             "linecolor": "white",
             "minorgridcolor": "white",
             "startlinecolor": "#2a3f5f"
            },
            "type": "carpet"
           }
          ],
          "choropleth": [
           {
            "colorbar": {
             "outlinewidth": 0,
             "ticks": ""
            },
            "type": "choropleth"
           }
          ],
          "contour": [
           {
            "colorbar": {
             "outlinewidth": 0,
             "ticks": ""
            },
            "colorscale": [
             [
              0,
              "#0d0887"
             ],
             [
              0.1111111111111111,
              "#46039f"
             ],
             [
              0.2222222222222222,
              "#7201a8"
             ],
             [
              0.3333333333333333,
              "#9c179e"
             ],
             [
              0.4444444444444444,
              "#bd3786"
             ],
             [
              0.5555555555555556,
              "#d8576b"
             ],
             [
              0.6666666666666666,
              "#ed7953"
             ],
             [
              0.7777777777777778,
              "#fb9f3a"
             ],
             [
              0.8888888888888888,
              "#fdca26"
             ],
             [
              1,
              "#f0f921"
             ]
            ],
            "type": "contour"
           }
          ],
          "contourcarpet": [
           {
            "colorbar": {
             "outlinewidth": 0,
             "ticks": ""
            },
            "type": "contourcarpet"
           }
          ],
          "heatmap": [
           {
            "colorbar": {
             "outlinewidth": 0,
             "ticks": ""
            },
            "colorscale": [
             [
              0,
              "#0d0887"
             ],
             [
              0.1111111111111111,
              "#46039f"
             ],
             [
              0.2222222222222222,
              "#7201a8"
             ],
             [
              0.3333333333333333,
              "#9c179e"
             ],
             [
              0.4444444444444444,
              "#bd3786"
             ],
             [
              0.5555555555555556,
              "#d8576b"
             ],
             [
              0.6666666666666666,
              "#ed7953"
             ],
             [
              0.7777777777777778,
              "#fb9f3a"
             ],
             [
              0.8888888888888888,
              "#fdca26"
             ],
             [
              1,
              "#f0f921"
             ]
            ],
            "type": "heatmap"
           }
          ],
          "heatmapgl": [
           {
            "colorbar": {
             "outlinewidth": 0,
             "ticks": ""
            },
            "colorscale": [
             [
              0,
              "#0d0887"
             ],
             [
              0.1111111111111111,
              "#46039f"
             ],
             [
              0.2222222222222222,
              "#7201a8"
             ],
             [
              0.3333333333333333,
              "#9c179e"
             ],
             [
              0.4444444444444444,
              "#bd3786"
             ],
             [
              0.5555555555555556,
              "#d8576b"
             ],
             [
              0.6666666666666666,
              "#ed7953"
             ],
             [
              0.7777777777777778,
              "#fb9f3a"
             ],
             [
              0.8888888888888888,
              "#fdca26"
             ],
             [
              1,
              "#f0f921"
             ]
            ],
            "type": "heatmapgl"
           }
          ],
          "histogram": [
           {
            "marker": {
             "pattern": {
              "fillmode": "overlay",
              "size": 10,
              "solidity": 0.2
             }
            },
            "type": "histogram"
           }
          ],
          "histogram2d": [
           {
            "colorbar": {
             "outlinewidth": 0,
             "ticks": ""
            },
            "colorscale": [
             [
              0,
              "#0d0887"
             ],
             [
              0.1111111111111111,
              "#46039f"
             ],
             [
              0.2222222222222222,
              "#7201a8"
             ],
             [
              0.3333333333333333,
              "#9c179e"
             ],
             [
              0.4444444444444444,
              "#bd3786"
             ],
             [
              0.5555555555555556,
              "#d8576b"
             ],
             [
              0.6666666666666666,
              "#ed7953"
             ],
             [
              0.7777777777777778,
              "#fb9f3a"
             ],
             [
              0.8888888888888888,
              "#fdca26"
             ],
             [
              1,
              "#f0f921"
             ]
            ],
            "type": "histogram2d"
           }
          ],
          "histogram2dcontour": [
           {
            "colorbar": {
             "outlinewidth": 0,
             "ticks": ""
            },
            "colorscale": [
             [
              0,
              "#0d0887"
             ],
             [
              0.1111111111111111,
              "#46039f"
             ],
             [
              0.2222222222222222,
              "#7201a8"
             ],
             [
              0.3333333333333333,
              "#9c179e"
             ],
             [
              0.4444444444444444,
              "#bd3786"
             ],
             [
              0.5555555555555556,
              "#d8576b"
             ],
             [
              0.6666666666666666,
              "#ed7953"
             ],
             [
              0.7777777777777778,
              "#fb9f3a"
             ],
             [
              0.8888888888888888,
              "#fdca26"
             ],
             [
              1,
              "#f0f921"
             ]
            ],
            "type": "histogram2dcontour"
           }
          ],
          "mesh3d": [
           {
            "colorbar": {
             "outlinewidth": 0,
             "ticks": ""
            },
            "type": "mesh3d"
           }
          ],
          "parcoords": [
           {
            "line": {
             "colorbar": {
              "outlinewidth": 0,
              "ticks": ""
             }
            },
            "type": "parcoords"
           }
          ],
          "pie": [
           {
            "automargin": true,
            "type": "pie"
           }
          ],
          "scatter": [
           {
            "fillpattern": {
             "fillmode": "overlay",
             "size": 10,
             "solidity": 0.2
            },
            "type": "scatter"
           }
          ],
          "scatter3d": [
           {
            "line": {
             "colorbar": {
              "outlinewidth": 0,
              "ticks": ""
             }
            },
            "marker": {
             "colorbar": {
              "outlinewidth": 0,
              "ticks": ""
             }
            },
            "type": "scatter3d"
           }
          ],
          "scattercarpet": [
           {
            "marker": {
             "colorbar": {
              "outlinewidth": 0,
              "ticks": ""
             }
            },
            "type": "scattercarpet"
           }
          ],
          "scattergeo": [
           {
            "marker": {
             "colorbar": {
              "outlinewidth": 0,
              "ticks": ""
             }
            },
            "type": "scattergeo"
           }
          ],
          "scattergl": [
           {
            "marker": {
             "colorbar": {
              "outlinewidth": 0,
              "ticks": ""
             }
            },
            "type": "scattergl"
           }
          ],
          "scattermapbox": [
           {
            "marker": {
             "colorbar": {
              "outlinewidth": 0,
              "ticks": ""
             }
            },
            "type": "scattermapbox"
           }
          ],
          "scatterpolar": [
           {
            "marker": {
             "colorbar": {
              "outlinewidth": 0,
              "ticks": ""
             }
            },
            "type": "scatterpolar"
           }
          ],
          "scatterpolargl": [
           {
            "marker": {
             "colorbar": {
              "outlinewidth": 0,
              "ticks": ""
             }
            },
            "type": "scatterpolargl"
           }
          ],
          "scatterternary": [
           {
            "marker": {
             "colorbar": {
              "outlinewidth": 0,
              "ticks": ""
             }
            },
            "type": "scatterternary"
           }
          ],
          "surface": [
           {
            "colorbar": {
             "outlinewidth": 0,
             "ticks": ""
            },
            "colorscale": [
             [
              0,
              "#0d0887"
             ],
             [
              0.1111111111111111,
              "#46039f"
             ],
             [
              0.2222222222222222,
              "#7201a8"
             ],
             [
              0.3333333333333333,
              "#9c179e"
             ],
             [
              0.4444444444444444,
              "#bd3786"
             ],
             [
              0.5555555555555556,
              "#d8576b"
             ],
             [
              0.6666666666666666,
              "#ed7953"
             ],
             [
              0.7777777777777778,
              "#fb9f3a"
             ],
             [
              0.8888888888888888,
              "#fdca26"
             ],
             [
              1,
              "#f0f921"
             ]
            ],
            "type": "surface"
           }
          ],
          "table": [
           {
            "cells": {
             "fill": {
              "color": "#EBF0F8"
             },
             "line": {
              "color": "white"
             }
            },
            "header": {
             "fill": {
              "color": "#C8D4E3"
             },
             "line": {
              "color": "white"
             }
            },
            "type": "table"
           }
          ]
         },
         "layout": {
          "annotationdefaults": {
           "arrowcolor": "#2a3f5f",
           "arrowhead": 0,
           "arrowwidth": 1
          },
          "autotypenumbers": "strict",
          "coloraxis": {
           "colorbar": {
            "outlinewidth": 0,
            "ticks": ""
           }
          },
          "colorscale": {
           "diverging": [
            [
             0,
             "#8e0152"
            ],
            [
             0.1,
             "#c51b7d"
            ],
            [
             0.2,
             "#de77ae"
            ],
            [
             0.3,
             "#f1b6da"
            ],
            [
             0.4,
             "#fde0ef"
            ],
            [
             0.5,
             "#f7f7f7"
            ],
            [
             0.6,
             "#e6f5d0"
            ],
            [
             0.7,
             "#b8e186"
            ],
            [
             0.8,
             "#7fbc41"
            ],
            [
             0.9,
             "#4d9221"
            ],
            [
             1,
             "#276419"
            ]
           ],
           "sequential": [
            [
             0,
             "#0d0887"
            ],
            [
             0.1111111111111111,
             "#46039f"
            ],
            [
             0.2222222222222222,
             "#7201a8"
            ],
            [
             0.3333333333333333,
             "#9c179e"
            ],
            [
             0.4444444444444444,
             "#bd3786"
            ],
            [
             0.5555555555555556,
             "#d8576b"
            ],
            [
             0.6666666666666666,
             "#ed7953"
            ],
            [
             0.7777777777777778,
             "#fb9f3a"
            ],
            [
             0.8888888888888888,
             "#fdca26"
            ],
            [
             1,
             "#f0f921"
            ]
           ],
           "sequentialminus": [
            [
             0,
             "#0d0887"
            ],
            [
             0.1111111111111111,
             "#46039f"
            ],
            [
             0.2222222222222222,
             "#7201a8"
            ],
            [
             0.3333333333333333,
             "#9c179e"
            ],
            [
             0.4444444444444444,
             "#bd3786"
            ],
            [
             0.5555555555555556,
             "#d8576b"
            ],
            [
             0.6666666666666666,
             "#ed7953"
            ],
            [
             0.7777777777777778,
             "#fb9f3a"
            ],
            [
             0.8888888888888888,
             "#fdca26"
            ],
            [
             1,
             "#f0f921"
            ]
           ]
          },
          "colorway": [
           "#636efa",
           "#EF553B",
           "#00cc96",
           "#ab63fa",
           "#FFA15A",
           "#19d3f3",
           "#FF6692",
           "#B6E880",
           "#FF97FF",
           "#FECB52"
          ],
          "font": {
           "color": "#2a3f5f"
          },
          "geo": {
           "bgcolor": "white",
           "lakecolor": "white",
           "landcolor": "#E5ECF6",
           "showlakes": true,
           "showland": true,
           "subunitcolor": "white"
          },
          "hoverlabel": {
           "align": "left"
          },
          "hovermode": "closest",
          "mapbox": {
           "style": "light"
          },
          "paper_bgcolor": "white",
          "plot_bgcolor": "#E5ECF6",
          "polar": {
           "angularaxis": {
            "gridcolor": "white",
            "linecolor": "white",
            "ticks": ""
           },
           "bgcolor": "#E5ECF6",
           "radialaxis": {
            "gridcolor": "white",
            "linecolor": "white",
            "ticks": ""
           }
          },
          "scene": {
           "xaxis": {
            "backgroundcolor": "#E5ECF6",
            "gridcolor": "white",
            "gridwidth": 2,
            "linecolor": "white",
            "showbackground": true,
            "ticks": "",
            "zerolinecolor": "white"
           },
           "yaxis": {
            "backgroundcolor": "#E5ECF6",
            "gridcolor": "white",
            "gridwidth": 2,
            "linecolor": "white",
            "showbackground": true,
            "ticks": "",
            "zerolinecolor": "white"
           },
           "zaxis": {
            "backgroundcolor": "#E5ECF6",
            "gridcolor": "white",
            "gridwidth": 2,
            "linecolor": "white",
            "showbackground": true,
            "ticks": "",
            "zerolinecolor": "white"
           }
          },
          "shapedefaults": {
           "line": {
            "color": "#2a3f5f"
           }
          },
          "ternary": {
           "aaxis": {
            "gridcolor": "white",
            "linecolor": "white",
            "ticks": ""
           },
           "baxis": {
            "gridcolor": "white",
            "linecolor": "white",
            "ticks": ""
           },
           "bgcolor": "#E5ECF6",
           "caxis": {
            "gridcolor": "white",
            "linecolor": "white",
            "ticks": ""
           }
          },
          "title": {
           "x": 0.05
          },
          "xaxis": {
           "automargin": true,
           "gridcolor": "white",
           "linecolor": "white",
           "ticks": "",
           "title": {
            "standoff": 15
           },
           "zerolinecolor": "white",
           "zerolinewidth": 2
          },
          "yaxis": {
           "automargin": true,
           "gridcolor": "white",
           "linecolor": "white",
           "ticks": "",
           "title": {
            "standoff": 15
           },
           "zerolinecolor": "white",
           "zerolinewidth": 2
          }
         }
        },
        "xaxis": {
         "anchor": "y",
         "constrain": "domain",
         "domain": [
          0,
          1
         ],
         "scaleanchor": "y",
         "side": "top",
         "title": {
          "text": "collision_in_tool (Predicted)"
         }
        },
        "yaxis": {
         "anchor": "x",
         "autorange": "reversed",
         "constrain": "domain",
         "domain": [
          0,
          1
         ],
         "title": {
          "text": "collision_in_tool"
         }
        }
       }
      }
     },
     "metadata": {},
     "output_type": "display_data"
    },
    {
     "data": {
      "application/vnd.plotly.v1+json": {
       "config": {
        "plotlyServerURL": "https://plot.ly"
       },
       "data": [
        {
         "coloraxis": "coloraxis",
         "hovertemplate": "collision_in_part (Predicted): %{x}<br>collision_in_part: %{y}<br>color: %{z}<extra></extra>",
         "name": "0",
         "texttemplate": "%{z}",
         "type": "heatmap",
         "x": [
          "Negative",
          "-Positive"
         ],
         "xaxis": "x",
         "y": [
          "True",
          "False"
         ],
         "yaxis": "y",
         "z": [
          [
           19,
           3
          ],
          [
           4,
           7
          ]
         ]
        }
       ],
       "layout": {
        "coloraxis": {
         "colorscale": [
          [
           0,
           "rgb(255,255,255)"
          ],
          [
           0.125,
           "rgb(240,240,240)"
          ],
          [
           0.25,
           "rgb(217,217,217)"
          ],
          [
           0.375,
           "rgb(189,189,189)"
          ],
          [
           0.5,
           "rgb(150,150,150)"
          ],
          [
           0.625,
           "rgb(115,115,115)"
          ],
          [
           0.75,
           "rgb(82,82,82)"
          ],
          [
           0.875,
           "rgb(37,37,37)"
          ],
          [
           1,
           "rgb(0,0,0)"
          ]
         ]
        },
        "margin": {
         "t": 60
        },
        "template": {
         "data": {
          "bar": [
           {
            "error_x": {
             "color": "#2a3f5f"
            },
            "error_y": {
             "color": "#2a3f5f"
            },
            "marker": {
             "line": {
              "color": "#E5ECF6",
              "width": 0.5
             },
             "pattern": {
              "fillmode": "overlay",
              "size": 10,
              "solidity": 0.2
             }
            },
            "type": "bar"
           }
          ],
          "barpolar": [
           {
            "marker": {
             "line": {
              "color": "#E5ECF6",
              "width": 0.5
             },
             "pattern": {
              "fillmode": "overlay",
              "size": 10,
              "solidity": 0.2
             }
            },
            "type": "barpolar"
           }
          ],
          "carpet": [
           {
            "aaxis": {
             "endlinecolor": "#2a3f5f",
             "gridcolor": "white",
             "linecolor": "white",
             "minorgridcolor": "white",
             "startlinecolor": "#2a3f5f"
            },
            "baxis": {
             "endlinecolor": "#2a3f5f",
             "gridcolor": "white",
             "linecolor": "white",
             "minorgridcolor": "white",
             "startlinecolor": "#2a3f5f"
            },
            "type": "carpet"
           }
          ],
          "choropleth": [
           {
            "colorbar": {
             "outlinewidth": 0,
             "ticks": ""
            },
            "type": "choropleth"
           }
          ],
          "contour": [
           {
            "colorbar": {
             "outlinewidth": 0,
             "ticks": ""
            },
            "colorscale": [
             [
              0,
              "#0d0887"
             ],
             [
              0.1111111111111111,
              "#46039f"
             ],
             [
              0.2222222222222222,
              "#7201a8"
             ],
             [
              0.3333333333333333,
              "#9c179e"
             ],
             [
              0.4444444444444444,
              "#bd3786"
             ],
             [
              0.5555555555555556,
              "#d8576b"
             ],
             [
              0.6666666666666666,
              "#ed7953"
             ],
             [
              0.7777777777777778,
              "#fb9f3a"
             ],
             [
              0.8888888888888888,
              "#fdca26"
             ],
             [
              1,
              "#f0f921"
             ]
            ],
            "type": "contour"
           }
          ],
          "contourcarpet": [
           {
            "colorbar": {
             "outlinewidth": 0,
             "ticks": ""
            },
            "type": "contourcarpet"
           }
          ],
          "heatmap": [
           {
            "colorbar": {
             "outlinewidth": 0,
             "ticks": ""
            },
            "colorscale": [
             [
              0,
              "#0d0887"
             ],
             [
              0.1111111111111111,
              "#46039f"
             ],
             [
              0.2222222222222222,
              "#7201a8"
             ],
             [
              0.3333333333333333,
              "#9c179e"
             ],
             [
              0.4444444444444444,
              "#bd3786"
             ],
             [
              0.5555555555555556,
              "#d8576b"
             ],
             [
              0.6666666666666666,
              "#ed7953"
             ],
             [
              0.7777777777777778,
              "#fb9f3a"
             ],
             [
              0.8888888888888888,
              "#fdca26"
             ],
             [
              1,
              "#f0f921"
             ]
            ],
            "type": "heatmap"
           }
          ],
          "heatmapgl": [
           {
            "colorbar": {
             "outlinewidth": 0,
             "ticks": ""
            },
            "colorscale": [
             [
              0,
              "#0d0887"
             ],
             [
              0.1111111111111111,
              "#46039f"
             ],
             [
              0.2222222222222222,
              "#7201a8"
             ],
             [
              0.3333333333333333,
              "#9c179e"
             ],
             [
              0.4444444444444444,
              "#bd3786"
             ],
             [
              0.5555555555555556,
              "#d8576b"
             ],
             [
              0.6666666666666666,
              "#ed7953"
             ],
             [
              0.7777777777777778,
              "#fb9f3a"
             ],
             [
              0.8888888888888888,
              "#fdca26"
             ],
             [
              1,
              "#f0f921"
             ]
            ],
            "type": "heatmapgl"
           }
          ],
          "histogram": [
           {
            "marker": {
             "pattern": {
              "fillmode": "overlay",
              "size": 10,
              "solidity": 0.2
             }
            },
            "type": "histogram"
           }
          ],
          "histogram2d": [
           {
            "colorbar": {
             "outlinewidth": 0,
             "ticks": ""
            },
            "colorscale": [
             [
              0,
              "#0d0887"
             ],
             [
              0.1111111111111111,
              "#46039f"
             ],
             [
              0.2222222222222222,
              "#7201a8"
             ],
             [
              0.3333333333333333,
              "#9c179e"
             ],
             [
              0.4444444444444444,
              "#bd3786"
             ],
             [
              0.5555555555555556,
              "#d8576b"
             ],
             [
              0.6666666666666666,
              "#ed7953"
             ],
             [
              0.7777777777777778,
              "#fb9f3a"
             ],
             [
              0.8888888888888888,
              "#fdca26"
             ],
             [
              1,
              "#f0f921"
             ]
            ],
            "type": "histogram2d"
           }
          ],
          "histogram2dcontour": [
           {
            "colorbar": {
             "outlinewidth": 0,
             "ticks": ""
            },
            "colorscale": [
             [
              0,
              "#0d0887"
             ],
             [
              0.1111111111111111,
              "#46039f"
             ],
             [
              0.2222222222222222,
              "#7201a8"
             ],
             [
              0.3333333333333333,
              "#9c179e"
             ],
             [
              0.4444444444444444,
              "#bd3786"
             ],
             [
              0.5555555555555556,
              "#d8576b"
             ],
             [
              0.6666666666666666,
              "#ed7953"
             ],
             [
              0.7777777777777778,
              "#fb9f3a"
             ],
             [
              0.8888888888888888,
              "#fdca26"
             ],
             [
              1,
              "#f0f921"
             ]
            ],
            "type": "histogram2dcontour"
           }
          ],
          "mesh3d": [
           {
            "colorbar": {
             "outlinewidth": 0,
             "ticks": ""
            },
            "type": "mesh3d"
           }
          ],
          "parcoords": [
           {
            "line": {
             "colorbar": {
              "outlinewidth": 0,
              "ticks": ""
             }
            },
            "type": "parcoords"
           }
          ],
          "pie": [
           {
            "automargin": true,
            "type": "pie"
           }
          ],
          "scatter": [
           {
            "fillpattern": {
             "fillmode": "overlay",
             "size": 10,
             "solidity": 0.2
            },
            "type": "scatter"
           }
          ],
          "scatter3d": [
           {
            "line": {
             "colorbar": {
              "outlinewidth": 0,
              "ticks": ""
             }
            },
            "marker": {
             "colorbar": {
              "outlinewidth": 0,
              "ticks": ""
             }
            },
            "type": "scatter3d"
           }
          ],
          "scattercarpet": [
           {
            "marker": {
             "colorbar": {
              "outlinewidth": 0,
              "ticks": ""
             }
            },
            "type": "scattercarpet"
           }
          ],
          "scattergeo": [
           {
            "marker": {
             "colorbar": {
              "outlinewidth": 0,
              "ticks": ""
             }
            },
            "type": "scattergeo"
           }
          ],
          "scattergl": [
           {
            "marker": {
             "colorbar": {
              "outlinewidth": 0,
              "ticks": ""
             }
            },
            "type": "scattergl"
           }
          ],
          "scattermapbox": [
           {
            "marker": {
             "colorbar": {
              "outlinewidth": 0,
              "ticks": ""
             }
            },
            "type": "scattermapbox"
           }
          ],
          "scatterpolar": [
           {
            "marker": {
             "colorbar": {
              "outlinewidth": 0,
              "ticks": ""
             }
            },
            "type": "scatterpolar"
           }
          ],
          "scatterpolargl": [
           {
            "marker": {
             "colorbar": {
              "outlinewidth": 0,
              "ticks": ""
             }
            },
            "type": "scatterpolargl"
           }
          ],
          "scatterternary": [
           {
            "marker": {
             "colorbar": {
              "outlinewidth": 0,
              "ticks": ""
             }
            },
            "type": "scatterternary"
           }
          ],
          "surface": [
           {
            "colorbar": {
             "outlinewidth": 0,
             "ticks": ""
            },
            "colorscale": [
             [
              0,
              "#0d0887"
             ],
             [
              0.1111111111111111,
              "#46039f"
             ],
             [
              0.2222222222222222,
              "#7201a8"
             ],
             [
              0.3333333333333333,
              "#9c179e"
             ],
             [
              0.4444444444444444,
              "#bd3786"
             ],
             [
              0.5555555555555556,
              "#d8576b"
             ],
             [
              0.6666666666666666,
              "#ed7953"
             ],
             [
              0.7777777777777778,
              "#fb9f3a"
             ],
             [
              0.8888888888888888,
              "#fdca26"
             ],
             [
              1,
              "#f0f921"
             ]
            ],
            "type": "surface"
           }
          ],
          "table": [
           {
            "cells": {
             "fill": {
              "color": "#EBF0F8"
             },
             "line": {
              "color": "white"
             }
            },
            "header": {
             "fill": {
              "color": "#C8D4E3"
             },
             "line": {
              "color": "white"
             }
            },
            "type": "table"
           }
          ]
         },
         "layout": {
          "annotationdefaults": {
           "arrowcolor": "#2a3f5f",
           "arrowhead": 0,
           "arrowwidth": 1
          },
          "autotypenumbers": "strict",
          "coloraxis": {
           "colorbar": {
            "outlinewidth": 0,
            "ticks": ""
           }
          },
          "colorscale": {
           "diverging": [
            [
             0,
             "#8e0152"
            ],
            [
             0.1,
             "#c51b7d"
            ],
            [
             0.2,
             "#de77ae"
            ],
            [
             0.3,
             "#f1b6da"
            ],
            [
             0.4,
             "#fde0ef"
            ],
            [
             0.5,
             "#f7f7f7"
            ],
            [
             0.6,
             "#e6f5d0"
            ],
            [
             0.7,
             "#b8e186"
            ],
            [
             0.8,
             "#7fbc41"
            ],
            [
             0.9,
             "#4d9221"
            ],
            [
             1,
             "#276419"
            ]
           ],
           "sequential": [
            [
             0,
             "#0d0887"
            ],
            [
             0.1111111111111111,
             "#46039f"
            ],
            [
             0.2222222222222222,
             "#7201a8"
            ],
            [
             0.3333333333333333,
             "#9c179e"
            ],
            [
             0.4444444444444444,
             "#bd3786"
            ],
            [
             0.5555555555555556,
             "#d8576b"
            ],
            [
             0.6666666666666666,
             "#ed7953"
            ],
            [
             0.7777777777777778,
             "#fb9f3a"
            ],
            [
             0.8888888888888888,
             "#fdca26"
            ],
            [
             1,
             "#f0f921"
            ]
           ],
           "sequentialminus": [
            [
             0,
             "#0d0887"
            ],
            [
             0.1111111111111111,
             "#46039f"
            ],
            [
             0.2222222222222222,
             "#7201a8"
            ],
            [
             0.3333333333333333,
             "#9c179e"
            ],
            [
             0.4444444444444444,
             "#bd3786"
            ],
            [
             0.5555555555555556,
             "#d8576b"
            ],
            [
             0.6666666666666666,
             "#ed7953"
            ],
            [
             0.7777777777777778,
             "#fb9f3a"
            ],
            [
             0.8888888888888888,
             "#fdca26"
            ],
            [
             1,
             "#f0f921"
            ]
           ]
          },
          "colorway": [
           "#636efa",
           "#EF553B",
           "#00cc96",
           "#ab63fa",
           "#FFA15A",
           "#19d3f3",
           "#FF6692",
           "#B6E880",
           "#FF97FF",
           "#FECB52"
          ],
          "font": {
           "color": "#2a3f5f"
          },
          "geo": {
           "bgcolor": "white",
           "lakecolor": "white",
           "landcolor": "#E5ECF6",
           "showlakes": true,
           "showland": true,
           "subunitcolor": "white"
          },
          "hoverlabel": {
           "align": "left"
          },
          "hovermode": "closest",
          "mapbox": {
           "style": "light"
          },
          "paper_bgcolor": "white",
          "plot_bgcolor": "#E5ECF6",
          "polar": {
           "angularaxis": {
            "gridcolor": "white",
            "linecolor": "white",
            "ticks": ""
           },
           "bgcolor": "#E5ECF6",
           "radialaxis": {
            "gridcolor": "white",
            "linecolor": "white",
            "ticks": ""
           }
          },
          "scene": {
           "xaxis": {
            "backgroundcolor": "#E5ECF6",
            "gridcolor": "white",
            "gridwidth": 2,
            "linecolor": "white",
            "showbackground": true,
            "ticks": "",
            "zerolinecolor": "white"
           },
           "yaxis": {
            "backgroundcolor": "#E5ECF6",
            "gridcolor": "white",
            "gridwidth": 2,
            "linecolor": "white",
            "showbackground": true,
            "ticks": "",
            "zerolinecolor": "white"
           },
           "zaxis": {
            "backgroundcolor": "#E5ECF6",
            "gridcolor": "white",
            "gridwidth": 2,
            "linecolor": "white",
            "showbackground": true,
            "ticks": "",
            "zerolinecolor": "white"
           }
          },
          "shapedefaults": {
           "line": {
            "color": "#2a3f5f"
           }
          },
          "ternary": {
           "aaxis": {
            "gridcolor": "white",
            "linecolor": "white",
            "ticks": ""
           },
           "baxis": {
            "gridcolor": "white",
            "linecolor": "white",
            "ticks": ""
           },
           "bgcolor": "#E5ECF6",
           "caxis": {
            "gridcolor": "white",
            "linecolor": "white",
            "ticks": ""
           }
          },
          "title": {
           "x": 0.05
          },
          "xaxis": {
           "automargin": true,
           "gridcolor": "white",
           "linecolor": "white",
           "ticks": "",
           "title": {
            "standoff": 15
           },
           "zerolinecolor": "white",
           "zerolinewidth": 2
          },
          "yaxis": {
           "automargin": true,
           "gridcolor": "white",
           "linecolor": "white",
           "ticks": "",
           "title": {
            "standoff": 15
           },
           "zerolinecolor": "white",
           "zerolinewidth": 2
          }
         }
        },
        "xaxis": {
         "anchor": "y",
         "constrain": "domain",
         "domain": [
          0,
          1
         ],
         "scaleanchor": "y",
         "side": "top",
         "title": {
          "text": "collision_in_part (Predicted)"
         }
        },
        "yaxis": {
         "anchor": "x",
         "autorange": "reversed",
         "constrain": "domain",
         "domain": [
          0,
          1
         ],
         "title": {
          "text": "collision_in_part"
         }
        }
       }
      }
     },
     "metadata": {},
     "output_type": "display_data"
    },
    {
     "data": {
      "application/vnd.plotly.v1+json": {
       "config": {
        "plotlyServerURL": "https://plot.ly"
       },
       "data": [
        {
         "coloraxis": "coloraxis",
         "hovertemplate": "bottom_collision (Predicted): %{x}<br>bottom_collision: %{y}<br>color: %{z}<extra></extra>",
         "name": "0",
         "texttemplate": "%{z}",
         "type": "heatmap",
         "x": [
          "Negative",
          "-Positive"
         ],
         "xaxis": "x",
         "y": [
          "True",
          "False"
         ],
         "yaxis": "y",
         "z": [
          [
           19,
           3
          ],
          [
           4,
           7
          ]
         ]
        }
       ],
       "layout": {
        "coloraxis": {
         "colorscale": [
          [
           0,
           "rgb(255,255,255)"
          ],
          [
           0.125,
           "rgb(240,240,240)"
          ],
          [
           0.25,
           "rgb(217,217,217)"
          ],
          [
           0.375,
           "rgb(189,189,189)"
          ],
          [
           0.5,
           "rgb(150,150,150)"
          ],
          [
           0.625,
           "rgb(115,115,115)"
          ],
          [
           0.75,
           "rgb(82,82,82)"
          ],
          [
           0.875,
           "rgb(37,37,37)"
          ],
          [
           1,
           "rgb(0,0,0)"
          ]
         ]
        },
        "margin": {
         "t": 60
        },
        "template": {
         "data": {
          "bar": [
           {
            "error_x": {
             "color": "#2a3f5f"
            },
            "error_y": {
             "color": "#2a3f5f"
            },
            "marker": {
             "line": {
              "color": "#E5ECF6",
              "width": 0.5
             },
             "pattern": {
              "fillmode": "overlay",
              "size": 10,
              "solidity": 0.2
             }
            },
            "type": "bar"
           }
          ],
          "barpolar": [
           {
            "marker": {
             "line": {
              "color": "#E5ECF6",
              "width": 0.5
             },
             "pattern": {
              "fillmode": "overlay",
              "size": 10,
              "solidity": 0.2
             }
            },
            "type": "barpolar"
           }
          ],
          "carpet": [
           {
            "aaxis": {
             "endlinecolor": "#2a3f5f",
             "gridcolor": "white",
             "linecolor": "white",
             "minorgridcolor": "white",
             "startlinecolor": "#2a3f5f"
            },
            "baxis": {
             "endlinecolor": "#2a3f5f",
             "gridcolor": "white",
             "linecolor": "white",
             "minorgridcolor": "white",
             "startlinecolor": "#2a3f5f"
            },
            "type": "carpet"
           }
          ],
          "choropleth": [
           {
            "colorbar": {
             "outlinewidth": 0,
             "ticks": ""
            },
            "type": "choropleth"
           }
          ],
          "contour": [
           {
            "colorbar": {
             "outlinewidth": 0,
             "ticks": ""
            },
            "colorscale": [
             [
              0,
              "#0d0887"
             ],
             [
              0.1111111111111111,
              "#46039f"
             ],
             [
              0.2222222222222222,
              "#7201a8"
             ],
             [
              0.3333333333333333,
              "#9c179e"
             ],
             [
              0.4444444444444444,
              "#bd3786"
             ],
             [
              0.5555555555555556,
              "#d8576b"
             ],
             [
              0.6666666666666666,
              "#ed7953"
             ],
             [
              0.7777777777777778,
              "#fb9f3a"
             ],
             [
              0.8888888888888888,
              "#fdca26"
             ],
             [
              1,
              "#f0f921"
             ]
            ],
            "type": "contour"
           }
          ],
          "contourcarpet": [
           {
            "colorbar": {
             "outlinewidth": 0,
             "ticks": ""
            },
            "type": "contourcarpet"
           }
          ],
          "heatmap": [
           {
            "colorbar": {
             "outlinewidth": 0,
             "ticks": ""
            },
            "colorscale": [
             [
              0,
              "#0d0887"
             ],
             [
              0.1111111111111111,
              "#46039f"
             ],
             [
              0.2222222222222222,
              "#7201a8"
             ],
             [
              0.3333333333333333,
              "#9c179e"
             ],
             [
              0.4444444444444444,
              "#bd3786"
             ],
             [
              0.5555555555555556,
              "#d8576b"
             ],
             [
              0.6666666666666666,
              "#ed7953"
             ],
             [
              0.7777777777777778,
              "#fb9f3a"
             ],
             [
              0.8888888888888888,
              "#fdca26"
             ],
             [
              1,
              "#f0f921"
             ]
            ],
            "type": "heatmap"
           }
          ],
          "heatmapgl": [
           {
            "colorbar": {
             "outlinewidth": 0,
             "ticks": ""
            },
            "colorscale": [
             [
              0,
              "#0d0887"
             ],
             [
              0.1111111111111111,
              "#46039f"
             ],
             [
              0.2222222222222222,
              "#7201a8"
             ],
             [
              0.3333333333333333,
              "#9c179e"
             ],
             [
              0.4444444444444444,
              "#bd3786"
             ],
             [
              0.5555555555555556,
              "#d8576b"
             ],
             [
              0.6666666666666666,
              "#ed7953"
             ],
             [
              0.7777777777777778,
              "#fb9f3a"
             ],
             [
              0.8888888888888888,
              "#fdca26"
             ],
             [
              1,
              "#f0f921"
             ]
            ],
            "type": "heatmapgl"
           }
          ],
          "histogram": [
           {
            "marker": {
             "pattern": {
              "fillmode": "overlay",
              "size": 10,
              "solidity": 0.2
             }
            },
            "type": "histogram"
           }
          ],
          "histogram2d": [
           {
            "colorbar": {
             "outlinewidth": 0,
             "ticks": ""
            },
            "colorscale": [
             [
              0,
              "#0d0887"
             ],
             [
              0.1111111111111111,
              "#46039f"
             ],
             [
              0.2222222222222222,
              "#7201a8"
             ],
             [
              0.3333333333333333,
              "#9c179e"
             ],
             [
              0.4444444444444444,
              "#bd3786"
             ],
             [
              0.5555555555555556,
              "#d8576b"
             ],
             [
              0.6666666666666666,
              "#ed7953"
             ],
             [
              0.7777777777777778,
              "#fb9f3a"
             ],
             [
              0.8888888888888888,
              "#fdca26"
             ],
             [
              1,
              "#f0f921"
             ]
            ],
            "type": "histogram2d"
           }
          ],
          "histogram2dcontour": [
           {
            "colorbar": {
             "outlinewidth": 0,
             "ticks": ""
            },
            "colorscale": [
             [
              0,
              "#0d0887"
             ],
             [
              0.1111111111111111,
              "#46039f"
             ],
             [
              0.2222222222222222,
              "#7201a8"
             ],
             [
              0.3333333333333333,
              "#9c179e"
             ],
             [
              0.4444444444444444,
              "#bd3786"
             ],
             [
              0.5555555555555556,
              "#d8576b"
             ],
             [
              0.6666666666666666,
              "#ed7953"
             ],
             [
              0.7777777777777778,
              "#fb9f3a"
             ],
             [
              0.8888888888888888,
              "#fdca26"
             ],
             [
              1,
              "#f0f921"
             ]
            ],
            "type": "histogram2dcontour"
           }
          ],
          "mesh3d": [
           {
            "colorbar": {
             "outlinewidth": 0,
             "ticks": ""
            },
            "type": "mesh3d"
           }
          ],
          "parcoords": [
           {
            "line": {
             "colorbar": {
              "outlinewidth": 0,
              "ticks": ""
             }
            },
            "type": "parcoords"
           }
          ],
          "pie": [
           {
            "automargin": true,
            "type": "pie"
           }
          ],
          "scatter": [
           {
            "fillpattern": {
             "fillmode": "overlay",
             "size": 10,
             "solidity": 0.2
            },
            "type": "scatter"
           }
          ],
          "scatter3d": [
           {
            "line": {
             "colorbar": {
              "outlinewidth": 0,
              "ticks": ""
             }
            },
            "marker": {
             "colorbar": {
              "outlinewidth": 0,
              "ticks": ""
             }
            },
            "type": "scatter3d"
           }
          ],
          "scattercarpet": [
           {
            "marker": {
             "colorbar": {
              "outlinewidth": 0,
              "ticks": ""
             }
            },
            "type": "scattercarpet"
           }
          ],
          "scattergeo": [
           {
            "marker": {
             "colorbar": {
              "outlinewidth": 0,
              "ticks": ""
             }
            },
            "type": "scattergeo"
           }
          ],
          "scattergl": [
           {
            "marker": {
             "colorbar": {
              "outlinewidth": 0,
              "ticks": ""
             }
            },
            "type": "scattergl"
           }
          ],
          "scattermapbox": [
           {
            "marker": {
             "colorbar": {
              "outlinewidth": 0,
              "ticks": ""
             }
            },
            "type": "scattermapbox"
           }
          ],
          "scatterpolar": [
           {
            "marker": {
             "colorbar": {
              "outlinewidth": 0,
              "ticks": ""
             }
            },
            "type": "scatterpolar"
           }
          ],
          "scatterpolargl": [
           {
            "marker": {
             "colorbar": {
              "outlinewidth": 0,
              "ticks": ""
             }
            },
            "type": "scatterpolargl"
           }
          ],
          "scatterternary": [
           {
            "marker": {
             "colorbar": {
              "outlinewidth": 0,
              "ticks": ""
             }
            },
            "type": "scatterternary"
           }
          ],
          "surface": [
           {
            "colorbar": {
             "outlinewidth": 0,
             "ticks": ""
            },
            "colorscale": [
             [
              0,
              "#0d0887"
             ],
             [
              0.1111111111111111,
              "#46039f"
             ],
             [
              0.2222222222222222,
              "#7201a8"
             ],
             [
              0.3333333333333333,
              "#9c179e"
             ],
             [
              0.4444444444444444,
              "#bd3786"
             ],
             [
              0.5555555555555556,
              "#d8576b"
             ],
             [
              0.6666666666666666,
              "#ed7953"
             ],
             [
              0.7777777777777778,
              "#fb9f3a"
             ],
             [
              0.8888888888888888,
              "#fdca26"
             ],
             [
              1,
              "#f0f921"
             ]
            ],
            "type": "surface"
           }
          ],
          "table": [
           {
            "cells": {
             "fill": {
              "color": "#EBF0F8"
             },
             "line": {
              "color": "white"
             }
            },
            "header": {
             "fill": {
              "color": "#C8D4E3"
             },
             "line": {
              "color": "white"
             }
            },
            "type": "table"
           }
          ]
         },
         "layout": {
          "annotationdefaults": {
           "arrowcolor": "#2a3f5f",
           "arrowhead": 0,
           "arrowwidth": 1
          },
          "autotypenumbers": "strict",
          "coloraxis": {
           "colorbar": {
            "outlinewidth": 0,
            "ticks": ""
           }
          },
          "colorscale": {
           "diverging": [
            [
             0,
             "#8e0152"
            ],
            [
             0.1,
             "#c51b7d"
            ],
            [
             0.2,
             "#de77ae"
            ],
            [
             0.3,
             "#f1b6da"
            ],
            [
             0.4,
             "#fde0ef"
            ],
            [
             0.5,
             "#f7f7f7"
            ],
            [
             0.6,
             "#e6f5d0"
            ],
            [
             0.7,
             "#b8e186"
            ],
            [
             0.8,
             "#7fbc41"
            ],
            [
             0.9,
             "#4d9221"
            ],
            [
             1,
             "#276419"
            ]
           ],
           "sequential": [
            [
             0,
             "#0d0887"
            ],
            [
             0.1111111111111111,
             "#46039f"
            ],
            [
             0.2222222222222222,
             "#7201a8"
            ],
            [
             0.3333333333333333,
             "#9c179e"
            ],
            [
             0.4444444444444444,
             "#bd3786"
            ],
            [
             0.5555555555555556,
             "#d8576b"
            ],
            [
             0.6666666666666666,
             "#ed7953"
            ],
            [
             0.7777777777777778,
             "#fb9f3a"
            ],
            [
             0.8888888888888888,
             "#fdca26"
            ],
            [
             1,
             "#f0f921"
            ]
           ],
           "sequentialminus": [
            [
             0,
             "#0d0887"
            ],
            [
             0.1111111111111111,
             "#46039f"
            ],
            [
             0.2222222222222222,
             "#7201a8"
            ],
            [
             0.3333333333333333,
             "#9c179e"
            ],
            [
             0.4444444444444444,
             "#bd3786"
            ],
            [
             0.5555555555555556,
             "#d8576b"
            ],
            [
             0.6666666666666666,
             "#ed7953"
            ],
            [
             0.7777777777777778,
             "#fb9f3a"
            ],
            [
             0.8888888888888888,
             "#fdca26"
            ],
            [
             1,
             "#f0f921"
            ]
           ]
          },
          "colorway": [
           "#636efa",
           "#EF553B",
           "#00cc96",
           "#ab63fa",
           "#FFA15A",
           "#19d3f3",
           "#FF6692",
           "#B6E880",
           "#FF97FF",
           "#FECB52"
          ],
          "font": {
           "color": "#2a3f5f"
          },
          "geo": {
           "bgcolor": "white",
           "lakecolor": "white",
           "landcolor": "#E5ECF6",
           "showlakes": true,
           "showland": true,
           "subunitcolor": "white"
          },
          "hoverlabel": {
           "align": "left"
          },
          "hovermode": "closest",
          "mapbox": {
           "style": "light"
          },
          "paper_bgcolor": "white",
          "plot_bgcolor": "#E5ECF6",
          "polar": {
           "angularaxis": {
            "gridcolor": "white",
            "linecolor": "white",
            "ticks": ""
           },
           "bgcolor": "#E5ECF6",
           "radialaxis": {
            "gridcolor": "white",
            "linecolor": "white",
            "ticks": ""
           }
          },
          "scene": {
           "xaxis": {
            "backgroundcolor": "#E5ECF6",
            "gridcolor": "white",
            "gridwidth": 2,
            "linecolor": "white",
            "showbackground": true,
            "ticks": "",
            "zerolinecolor": "white"
           },
           "yaxis": {
            "backgroundcolor": "#E5ECF6",
            "gridcolor": "white",
            "gridwidth": 2,
            "linecolor": "white",
            "showbackground": true,
            "ticks": "",
            "zerolinecolor": "white"
           },
           "zaxis": {
            "backgroundcolor": "#E5ECF6",
            "gridcolor": "white",
            "gridwidth": 2,
            "linecolor": "white",
            "showbackground": true,
            "ticks": "",
            "zerolinecolor": "white"
           }
          },
          "shapedefaults": {
           "line": {
            "color": "#2a3f5f"
           }
          },
          "ternary": {
           "aaxis": {
            "gridcolor": "white",
            "linecolor": "white",
            "ticks": ""
           },
           "baxis": {
            "gridcolor": "white",
            "linecolor": "white",
            "ticks": ""
           },
           "bgcolor": "#E5ECF6",
           "caxis": {
            "gridcolor": "white",
            "linecolor": "white",
            "ticks": ""
           }
          },
          "title": {
           "x": 0.05
          },
          "xaxis": {
           "automargin": true,
           "gridcolor": "white",
           "linecolor": "white",
           "ticks": "",
           "title": {
            "standoff": 15
           },
           "zerolinecolor": "white",
           "zerolinewidth": 2
          },
          "yaxis": {
           "automargin": true,
           "gridcolor": "white",
           "linecolor": "white",
           "ticks": "",
           "title": {
            "standoff": 15
           },
           "zerolinecolor": "white",
           "zerolinewidth": 2
          }
         }
        },
        "xaxis": {
         "anchor": "y",
         "constrain": "domain",
         "domain": [
          0,
          1
         ],
         "scaleanchor": "y",
         "side": "top",
         "title": {
          "text": "bottom_collision (Predicted)"
         }
        },
        "yaxis": {
         "anchor": "x",
         "autorange": "reversed",
         "constrain": "domain",
         "domain": [
          0,
          1
         ],
         "title": {
          "text": "bottom_collision"
         }
        }
       }
      }
     },
     "metadata": {},
     "output_type": "display_data"
    },
    {
     "data": {
      "application/vnd.plotly.v1+json": {
       "config": {
        "plotlyServerURL": "https://plot.ly"
       },
       "data": [
        {
         "coloraxis": "coloraxis",
         "hovertemplate": "bottom_obstruction (Predicted): %{x}<br>bottom_obstruction: %{y}<br>color: %{z}<extra></extra>",
         "name": "0",
         "texttemplate": "%{z}",
         "type": "heatmap",
         "x": [
          "Negative",
          "-Positive"
         ],
         "xaxis": "x",
         "y": [
          "True",
          "False"
         ],
         "yaxis": "y",
         "z": [
          [
           19,
           3
          ],
          [
           4,
           7
          ]
         ]
        }
       ],
       "layout": {
        "coloraxis": {
         "colorscale": [
          [
           0,
           "rgb(255,255,255)"
          ],
          [
           0.125,
           "rgb(240,240,240)"
          ],
          [
           0.25,
           "rgb(217,217,217)"
          ],
          [
           0.375,
           "rgb(189,189,189)"
          ],
          [
           0.5,
           "rgb(150,150,150)"
          ],
          [
           0.625,
           "rgb(115,115,115)"
          ],
          [
           0.75,
           "rgb(82,82,82)"
          ],
          [
           0.875,
           "rgb(37,37,37)"
          ],
          [
           1,
           "rgb(0,0,0)"
          ]
         ]
        },
        "margin": {
         "t": 60
        },
        "template": {
         "data": {
          "bar": [
           {
            "error_x": {
             "color": "#2a3f5f"
            },
            "error_y": {
             "color": "#2a3f5f"
            },
            "marker": {
             "line": {
              "color": "#E5ECF6",
              "width": 0.5
             },
             "pattern": {
              "fillmode": "overlay",
              "size": 10,
              "solidity": 0.2
             }
            },
            "type": "bar"
           }
          ],
          "barpolar": [
           {
            "marker": {
             "line": {
              "color": "#E5ECF6",
              "width": 0.5
             },
             "pattern": {
              "fillmode": "overlay",
              "size": 10,
              "solidity": 0.2
             }
            },
            "type": "barpolar"
           }
          ],
          "carpet": [
           {
            "aaxis": {
             "endlinecolor": "#2a3f5f",
             "gridcolor": "white",
             "linecolor": "white",
             "minorgridcolor": "white",
             "startlinecolor": "#2a3f5f"
            },
            "baxis": {
             "endlinecolor": "#2a3f5f",
             "gridcolor": "white",
             "linecolor": "white",
             "minorgridcolor": "white",
             "startlinecolor": "#2a3f5f"
            },
            "type": "carpet"
           }
          ],
          "choropleth": [
           {
            "colorbar": {
             "outlinewidth": 0,
             "ticks": ""
            },
            "type": "choropleth"
           }
          ],
          "contour": [
           {
            "colorbar": {
             "outlinewidth": 0,
             "ticks": ""
            },
            "colorscale": [
             [
              0,
              "#0d0887"
             ],
             [
              0.1111111111111111,
              "#46039f"
             ],
             [
              0.2222222222222222,
              "#7201a8"
             ],
             [
              0.3333333333333333,
              "#9c179e"
             ],
             [
              0.4444444444444444,
              "#bd3786"
             ],
             [
              0.5555555555555556,
              "#d8576b"
             ],
             [
              0.6666666666666666,
              "#ed7953"
             ],
             [
              0.7777777777777778,
              "#fb9f3a"
             ],
             [
              0.8888888888888888,
              "#fdca26"
             ],
             [
              1,
              "#f0f921"
             ]
            ],
            "type": "contour"
           }
          ],
          "contourcarpet": [
           {
            "colorbar": {
             "outlinewidth": 0,
             "ticks": ""
            },
            "type": "contourcarpet"
           }
          ],
          "heatmap": [
           {
            "colorbar": {
             "outlinewidth": 0,
             "ticks": ""
            },
            "colorscale": [
             [
              0,
              "#0d0887"
             ],
             [
              0.1111111111111111,
              "#46039f"
             ],
             [
              0.2222222222222222,
              "#7201a8"
             ],
             [
              0.3333333333333333,
              "#9c179e"
             ],
             [
              0.4444444444444444,
              "#bd3786"
             ],
             [
              0.5555555555555556,
              "#d8576b"
             ],
             [
              0.6666666666666666,
              "#ed7953"
             ],
             [
              0.7777777777777778,
              "#fb9f3a"
             ],
             [
              0.8888888888888888,
              "#fdca26"
             ],
             [
              1,
              "#f0f921"
             ]
            ],
            "type": "heatmap"
           }
          ],
          "heatmapgl": [
           {
            "colorbar": {
             "outlinewidth": 0,
             "ticks": ""
            },
            "colorscale": [
             [
              0,
              "#0d0887"
             ],
             [
              0.1111111111111111,
              "#46039f"
             ],
             [
              0.2222222222222222,
              "#7201a8"
             ],
             [
              0.3333333333333333,
              "#9c179e"
             ],
             [
              0.4444444444444444,
              "#bd3786"
             ],
             [
              0.5555555555555556,
              "#d8576b"
             ],
             [
              0.6666666666666666,
              "#ed7953"
             ],
             [
              0.7777777777777778,
              "#fb9f3a"
             ],
             [
              0.8888888888888888,
              "#fdca26"
             ],
             [
              1,
              "#f0f921"
             ]
            ],
            "type": "heatmapgl"
           }
          ],
          "histogram": [
           {
            "marker": {
             "pattern": {
              "fillmode": "overlay",
              "size": 10,
              "solidity": 0.2
             }
            },
            "type": "histogram"
           }
          ],
          "histogram2d": [
           {
            "colorbar": {
             "outlinewidth": 0,
             "ticks": ""
            },
            "colorscale": [
             [
              0,
              "#0d0887"
             ],
             [
              0.1111111111111111,
              "#46039f"
             ],
             [
              0.2222222222222222,
              "#7201a8"
             ],
             [
              0.3333333333333333,
              "#9c179e"
             ],
             [
              0.4444444444444444,
              "#bd3786"
             ],
             [
              0.5555555555555556,
              "#d8576b"
             ],
             [
              0.6666666666666666,
              "#ed7953"
             ],
             [
              0.7777777777777778,
              "#fb9f3a"
             ],
             [
              0.8888888888888888,
              "#fdca26"
             ],
             [
              1,
              "#f0f921"
             ]
            ],
            "type": "histogram2d"
           }
          ],
          "histogram2dcontour": [
           {
            "colorbar": {
             "outlinewidth": 0,
             "ticks": ""
            },
            "colorscale": [
             [
              0,
              "#0d0887"
             ],
             [
              0.1111111111111111,
              "#46039f"
             ],
             [
              0.2222222222222222,
              "#7201a8"
             ],
             [
              0.3333333333333333,
              "#9c179e"
             ],
             [
              0.4444444444444444,
              "#bd3786"
             ],
             [
              0.5555555555555556,
              "#d8576b"
             ],
             [
              0.6666666666666666,
              "#ed7953"
             ],
             [
              0.7777777777777778,
              "#fb9f3a"
             ],
             [
              0.8888888888888888,
              "#fdca26"
             ],
             [
              1,
              "#f0f921"
             ]
            ],
            "type": "histogram2dcontour"
           }
          ],
          "mesh3d": [
           {
            "colorbar": {
             "outlinewidth": 0,
             "ticks": ""
            },
            "type": "mesh3d"
           }
          ],
          "parcoords": [
           {
            "line": {
             "colorbar": {
              "outlinewidth": 0,
              "ticks": ""
             }
            },
            "type": "parcoords"
           }
          ],
          "pie": [
           {
            "automargin": true,
            "type": "pie"
           }
          ],
          "scatter": [
           {
            "fillpattern": {
             "fillmode": "overlay",
             "size": 10,
             "solidity": 0.2
            },
            "type": "scatter"
           }
          ],
          "scatter3d": [
           {
            "line": {
             "colorbar": {
              "outlinewidth": 0,
              "ticks": ""
             }
            },
            "marker": {
             "colorbar": {
              "outlinewidth": 0,
              "ticks": ""
             }
            },
            "type": "scatter3d"
           }
          ],
          "scattercarpet": [
           {
            "marker": {
             "colorbar": {
              "outlinewidth": 0,
              "ticks": ""
             }
            },
            "type": "scattercarpet"
           }
          ],
          "scattergeo": [
           {
            "marker": {
             "colorbar": {
              "outlinewidth": 0,
              "ticks": ""
             }
            },
            "type": "scattergeo"
           }
          ],
          "scattergl": [
           {
            "marker": {
             "colorbar": {
              "outlinewidth": 0,
              "ticks": ""
             }
            },
            "type": "scattergl"
           }
          ],
          "scattermapbox": [
           {
            "marker": {
             "colorbar": {
              "outlinewidth": 0,
              "ticks": ""
             }
            },
            "type": "scattermapbox"
           }
          ],
          "scatterpolar": [
           {
            "marker": {
             "colorbar": {
              "outlinewidth": 0,
              "ticks": ""
             }
            },
            "type": "scatterpolar"
           }
          ],
          "scatterpolargl": [
           {
            "marker": {
             "colorbar": {
              "outlinewidth": 0,
              "ticks": ""
             }
            },
            "type": "scatterpolargl"
           }
          ],
          "scatterternary": [
           {
            "marker": {
             "colorbar": {
              "outlinewidth": 0,
              "ticks": ""
             }
            },
            "type": "scatterternary"
           }
          ],
          "surface": [
           {
            "colorbar": {
             "outlinewidth": 0,
             "ticks": ""
            },
            "colorscale": [
             [
              0,
              "#0d0887"
             ],
             [
              0.1111111111111111,
              "#46039f"
             ],
             [
              0.2222222222222222,
              "#7201a8"
             ],
             [
              0.3333333333333333,
              "#9c179e"
             ],
             [
              0.4444444444444444,
              "#bd3786"
             ],
             [
              0.5555555555555556,
              "#d8576b"
             ],
             [
              0.6666666666666666,
              "#ed7953"
             ],
             [
              0.7777777777777778,
              "#fb9f3a"
             ],
             [
              0.8888888888888888,
              "#fdca26"
             ],
             [
              1,
              "#f0f921"
             ]
            ],
            "type": "surface"
           }
          ],
          "table": [
           {
            "cells": {
             "fill": {
              "color": "#EBF0F8"
             },
             "line": {
              "color": "white"
             }
            },
            "header": {
             "fill": {
              "color": "#C8D4E3"
             },
             "line": {
              "color": "white"
             }
            },
            "type": "table"
           }
          ]
         },
         "layout": {
          "annotationdefaults": {
           "arrowcolor": "#2a3f5f",
           "arrowhead": 0,
           "arrowwidth": 1
          },
          "autotypenumbers": "strict",
          "coloraxis": {
           "colorbar": {
            "outlinewidth": 0,
            "ticks": ""
           }
          },
          "colorscale": {
           "diverging": [
            [
             0,
             "#8e0152"
            ],
            [
             0.1,
             "#c51b7d"
            ],
            [
             0.2,
             "#de77ae"
            ],
            [
             0.3,
             "#f1b6da"
            ],
            [
             0.4,
             "#fde0ef"
            ],
            [
             0.5,
             "#f7f7f7"
            ],
            [
             0.6,
             "#e6f5d0"
            ],
            [
             0.7,
             "#b8e186"
            ],
            [
             0.8,
             "#7fbc41"
            ],
            [
             0.9,
             "#4d9221"
            ],
            [
             1,
             "#276419"
            ]
           ],
           "sequential": [
            [
             0,
             "#0d0887"
            ],
            [
             0.1111111111111111,
             "#46039f"
            ],
            [
             0.2222222222222222,
             "#7201a8"
            ],
            [
             0.3333333333333333,
             "#9c179e"
            ],
            [
             0.4444444444444444,
             "#bd3786"
            ],
            [
             0.5555555555555556,
             "#d8576b"
            ],
            [
             0.6666666666666666,
             "#ed7953"
            ],
            [
             0.7777777777777778,
             "#fb9f3a"
            ],
            [
             0.8888888888888888,
             "#fdca26"
            ],
            [
             1,
             "#f0f921"
            ]
           ],
           "sequentialminus": [
            [
             0,
             "#0d0887"
            ],
            [
             0.1111111111111111,
             "#46039f"
            ],
            [
             0.2222222222222222,
             "#7201a8"
            ],
            [
             0.3333333333333333,
             "#9c179e"
            ],
            [
             0.4444444444444444,
             "#bd3786"
            ],
            [
             0.5555555555555556,
             "#d8576b"
            ],
            [
             0.6666666666666666,
             "#ed7953"
            ],
            [
             0.7777777777777778,
             "#fb9f3a"
            ],
            [
             0.8888888888888888,
             "#fdca26"
            ],
            [
             1,
             "#f0f921"
            ]
           ]
          },
          "colorway": [
           "#636efa",
           "#EF553B",
           "#00cc96",
           "#ab63fa",
           "#FFA15A",
           "#19d3f3",
           "#FF6692",
           "#B6E880",
           "#FF97FF",
           "#FECB52"
          ],
          "font": {
           "color": "#2a3f5f"
          },
          "geo": {
           "bgcolor": "white",
           "lakecolor": "white",
           "landcolor": "#E5ECF6",
           "showlakes": true,
           "showland": true,
           "subunitcolor": "white"
          },
          "hoverlabel": {
           "align": "left"
          },
          "hovermode": "closest",
          "mapbox": {
           "style": "light"
          },
          "paper_bgcolor": "white",
          "plot_bgcolor": "#E5ECF6",
          "polar": {
           "angularaxis": {
            "gridcolor": "white",
            "linecolor": "white",
            "ticks": ""
           },
           "bgcolor": "#E5ECF6",
           "radialaxis": {
            "gridcolor": "white",
            "linecolor": "white",
            "ticks": ""
           }
          },
          "scene": {
           "xaxis": {
            "backgroundcolor": "#E5ECF6",
            "gridcolor": "white",
            "gridwidth": 2,
            "linecolor": "white",
            "showbackground": true,
            "ticks": "",
            "zerolinecolor": "white"
           },
           "yaxis": {
            "backgroundcolor": "#E5ECF6",
            "gridcolor": "white",
            "gridwidth": 2,
            "linecolor": "white",
            "showbackground": true,
            "ticks": "",
            "zerolinecolor": "white"
           },
           "zaxis": {
            "backgroundcolor": "#E5ECF6",
            "gridcolor": "white",
            "gridwidth": 2,
            "linecolor": "white",
            "showbackground": true,
            "ticks": "",
            "zerolinecolor": "white"
           }
          },
          "shapedefaults": {
           "line": {
            "color": "#2a3f5f"
           }
          },
          "ternary": {
           "aaxis": {
            "gridcolor": "white",
            "linecolor": "white",
            "ticks": ""
           },
           "baxis": {
            "gridcolor": "white",
            "linecolor": "white",
            "ticks": ""
           },
           "bgcolor": "#E5ECF6",
           "caxis": {
            "gridcolor": "white",
            "linecolor": "white",
            "ticks": ""
           }
          },
          "title": {
           "x": 0.05
          },
          "xaxis": {
           "automargin": true,
           "gridcolor": "white",
           "linecolor": "white",
           "ticks": "",
           "title": {
            "standoff": 15
           },
           "zerolinecolor": "white",
           "zerolinewidth": 2
          },
          "yaxis": {
           "automargin": true,
           "gridcolor": "white",
           "linecolor": "white",
           "ticks": "",
           "title": {
            "standoff": 15
           },
           "zerolinecolor": "white",
           "zerolinewidth": 2
          }
         }
        },
        "xaxis": {
         "anchor": "y",
         "constrain": "domain",
         "domain": [
          0,
          1
         ],
         "scaleanchor": "y",
         "side": "top",
         "title": {
          "text": "bottom_obstruction (Predicted)"
         }
        },
        "yaxis": {
         "anchor": "x",
         "autorange": "reversed",
         "constrain": "domain",
         "domain": [
          0,
          1
         ],
         "title": {
          "text": "bottom_obstruction"
         }
        }
       }
      }
     },
     "metadata": {},
     "output_type": "display_data"
    }
   ],
   "source": [
    "# Hace predicciones usando el conjunto de datos de prueba.\n",
    "pd.options.display.float_format = \"{:.0f}\".format\n",
    "predictions = model.predict(test_features)\n",
    "for i in range(len(predictions)):\n",
    "    if(predictions[i].max() != 1):\n",
    "        row, col = np.where(predictions == predictions[i].max())\n",
    "        predictions[i][col[0]] = 1\n",
    "predictions[predictions!=1] = 0 \n",
    "    \n",
    "# Convierte el arreglo de predicciones en un DataFrame\n",
    "predictions_df = pd.DataFrame(predictions, columns=['normal', 'collision_in_tool', 'collision_in_part', 'bottom_collision', 'bottom_obstruction'])\n",
    "display(predictions_df)\n",
    "display(test_labels)\n",
    "CM = tfa.metrics.MultiLabelConfusionMatrix(num_classes=5)\n",
    "CM.update_state(test_labels, predictions_df)\n",
    "result = CM.result().numpy()\n",
    "display(result)\n",
    "\n",
    "normal = px.imshow(result[0], \n",
    "                labels = dict(x='normal (Predicted)', y='normal'),\n",
    "                x = ['Negative', '-Positive'], y=['True', 'False'],text_auto=True, color_continuous_scale='greys')\n",
    "normal.update_xaxes(side=\"top\")\n",
    "normal.show()\n",
    "\n",
    "collision_in_tool = px.imshow(result[0], \n",
    "                labels = dict(x='collision_in_tool (Predicted)', y='collision_in_tool'),\n",
    "                x = ['Negative', '-Positive'], y=['True', 'False'], text_auto=True, color_continuous_scale='greys')\n",
    "collision_in_tool.update_xaxes(side=\"top\")\n",
    "collision_in_tool.show()\n",
    "\n",
    "collision_in_part = px.imshow(result[0], \n",
    "                labels = dict(x='collision_in_part (Predicted)', y='collision_in_part'),\n",
    "                x = ['Negative', '-Positive'], y=['True', 'False'], text_auto=True, color_continuous_scale='greys')\n",
    "collision_in_part.update_xaxes(side=\"top\")\n",
    "collision_in_part.show()\n",
    "\n",
    "bottom_collision = px.imshow(result[0], \n",
    "                labels = dict(x='bottom_collision (Predicted)', y='bottom_collision'),\n",
    "                x = ['Negative', '-Positive'], y=['True', 'False'], text_auto=True, color_continuous_scale='greys')\n",
    "bottom_collision.update_xaxes(side=\"top\")\n",
    "bottom_collision.show()\n",
    "\n",
    "bottom_obstruction = px.imshow(result[0], \n",
    "                labels = dict(x='bottom_obstruction (Predicted)', y='bottom_obstruction'),\n",
    "                x = ['Negative', '-Positive'], y=['True', 'False'], text_auto=True, color_continuous_scale='greys')\n",
    "bottom_obstruction.update_xaxes(side=\"top\")\n",
    "bottom_obstruction.show()\n",
    "#model.save('ModeloConvolucion_A0.75')"
   ]
  }
 ],
 "metadata": {
  "kernelspec": {
   "display_name": "Python 3",
   "language": "python",
   "name": "python3"
  },
  "language_info": {
   "codemirror_mode": {
    "name": "ipython",
    "version": 3
   },
   "file_extension": ".py",
   "mimetype": "text/x-python",
   "name": "python",
   "nbconvert_exporter": "python",
   "pygments_lexer": "ipython3",
   "version": "3.10.11"
  },
  "orig_nbformat": 4
 },
 "nbformat": 4,
 "nbformat_minor": 2
}
