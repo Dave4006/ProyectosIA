{
 "cells": [
  {
   "attachments": {},
   "cell_type": "markdown",
   "metadata": {},
   "source": [
    "# Importación de módulos"
   ]
  },
  {
   "cell_type": "code",
   "execution_count": 17,
   "metadata": {},
   "outputs": [],
   "source": [
    "import pandas as pd\n",
    "import numpy as np\n",
    "import plotly.express as px\n",
    "import tensorflow as tf\n",
    "\n",
    "from sklearn.metrics import mean_squared_error\n",
    "from IPython.display import display\n",
    "import plotly.graph_objects as go\n",
    "from plotly.subplots import make_subplots"
   ]
  },
  {
   "attachments": {},
   "cell_type": "markdown",
   "metadata": {},
   "source": [
    "# Importación de datos"
   ]
  },
  {
   "cell_type": "code",
   "execution_count": 2,
   "metadata": {},
   "outputs": [
    {
     "data": {
      "text/html": [
       "<div>\n",
       "<style scoped>\n",
       "    .dataframe tbody tr th:only-of-type {\n",
       "        vertical-align: middle;\n",
       "    }\n",
       "\n",
       "    .dataframe tbody tr th {\n",
       "        vertical-align: top;\n",
       "    }\n",
       "\n",
       "    .dataframe thead th {\n",
       "        text-align: right;\n",
       "    }\n",
       "</style>\n",
       "<table border=\"1\" class=\"dataframe\">\n",
       "  <thead>\n",
       "    <tr style=\"text-align: right;\">\n",
       "      <th></th>\n",
       "      <th>Iy</th>\n",
       "      <th>PF</th>\n",
       "      <th>e</th>\n",
       "      <th>dIf</th>\n",
       "      <th>If</th>\n",
       "    </tr>\n",
       "  </thead>\n",
       "  <tbody>\n",
       "    <tr>\n",
       "      <th>0</th>\n",
       "      <td>3.0</td>\n",
       "      <td>0.66</td>\n",
       "      <td>0.34</td>\n",
       "      <td>0.383</td>\n",
       "      <td>1.563</td>\n",
       "    </tr>\n",
       "    <tr>\n",
       "      <th>1</th>\n",
       "      <td>3.0</td>\n",
       "      <td>0.68</td>\n",
       "      <td>0.32</td>\n",
       "      <td>0.372</td>\n",
       "      <td>1.552</td>\n",
       "    </tr>\n",
       "    <tr>\n",
       "      <th>2</th>\n",
       "      <td>3.0</td>\n",
       "      <td>0.70</td>\n",
       "      <td>0.30</td>\n",
       "      <td>0.360</td>\n",
       "      <td>1.540</td>\n",
       "    </tr>\n",
       "    <tr>\n",
       "      <th>3</th>\n",
       "      <td>3.0</td>\n",
       "      <td>0.72</td>\n",
       "      <td>0.28</td>\n",
       "      <td>0.338</td>\n",
       "      <td>1.518</td>\n",
       "    </tr>\n",
       "    <tr>\n",
       "      <th>4</th>\n",
       "      <td>3.0</td>\n",
       "      <td>0.74</td>\n",
       "      <td>0.26</td>\n",
       "      <td>0.317</td>\n",
       "      <td>1.497</td>\n",
       "    </tr>\n",
       "    <tr>\n",
       "      <th>...</th>\n",
       "      <td>...</td>\n",
       "      <td>...</td>\n",
       "      <td>...</td>\n",
       "      <td>...</td>\n",
       "      <td>...</td>\n",
       "    </tr>\n",
       "    <tr>\n",
       "      <th>552</th>\n",
       "      <td>6.0</td>\n",
       "      <td>0.91</td>\n",
       "      <td>0.09</td>\n",
       "      <td>0.142</td>\n",
       "      <td>1.322</td>\n",
       "    </tr>\n",
       "    <tr>\n",
       "      <th>553</th>\n",
       "      <td>6.0</td>\n",
       "      <td>0.93</td>\n",
       "      <td>0.07</td>\n",
       "      <td>0.151</td>\n",
       "      <td>1.331</td>\n",
       "    </tr>\n",
       "    <tr>\n",
       "      <th>554</th>\n",
       "      <td>6.0</td>\n",
       "      <td>0.95</td>\n",
       "      <td>0.05</td>\n",
       "      <td>0.160</td>\n",
       "      <td>1.340</td>\n",
       "    </tr>\n",
       "    <tr>\n",
       "      <th>555</th>\n",
       "      <td>6.0</td>\n",
       "      <td>0.97</td>\n",
       "      <td>0.03</td>\n",
       "      <td>0.160</td>\n",
       "      <td>1.340</td>\n",
       "    </tr>\n",
       "    <tr>\n",
       "      <th>556</th>\n",
       "      <td>6.0</td>\n",
       "      <td>0.99</td>\n",
       "      <td>0.01</td>\n",
       "      <td>0.160</td>\n",
       "      <td>1.340</td>\n",
       "    </tr>\n",
       "  </tbody>\n",
       "</table>\n",
       "<p>557 rows × 5 columns</p>\n",
       "</div>"
      ],
      "text/plain": [
       "      Iy    PF     e    dIf     If\n",
       "0    3.0  0.66  0.34  0.383  1.563\n",
       "1    3.0  0.68  0.32  0.372  1.552\n",
       "2    3.0  0.70  0.30  0.360  1.540\n",
       "3    3.0  0.72  0.28  0.338  1.518\n",
       "4    3.0  0.74  0.26  0.317  1.497\n",
       "..   ...   ...   ...    ...    ...\n",
       "552  6.0  0.91  0.09  0.142  1.322\n",
       "553  6.0  0.93  0.07  0.151  1.331\n",
       "554  6.0  0.95  0.05  0.160  1.340\n",
       "555  6.0  0.97  0.03  0.160  1.340\n",
       "556  6.0  0.99  0.01  0.160  1.340\n",
       "\n",
       "[557 rows x 5 columns]"
      ]
     },
     "execution_count": 2,
     "metadata": {},
     "output_type": "execute_result"
    }
   ],
   "source": [
    "# Copia los datos de un documento CSV en un DataFrame.\n",
    "data_df = pd.read_csv('synchronous_machine.csv')\n",
    "data_df"
   ]
  },
  {
   "attachments": {},
   "cell_type": "markdown",
   "metadata": {},
   "source": [
    "# Análisis de los datos"
   ]
  },
  {
   "cell_type": "code",
   "execution_count": 3,
   "metadata": {},
   "outputs": [
    {
     "data": {
      "text/html": [
       "<div>\n",
       "<style scoped>\n",
       "    .dataframe tbody tr th:only-of-type {\n",
       "        vertical-align: middle;\n",
       "    }\n",
       "\n",
       "    .dataframe tbody tr th {\n",
       "        vertical-align: top;\n",
       "    }\n",
       "\n",
       "    .dataframe thead th {\n",
       "        text-align: right;\n",
       "    }\n",
       "</style>\n",
       "<table border=\"1\" class=\"dataframe\">\n",
       "  <thead>\n",
       "    <tr style=\"text-align: right;\">\n",
       "      <th></th>\n",
       "      <th>Iy</th>\n",
       "      <th>PF</th>\n",
       "      <th>e</th>\n",
       "      <th>dIf</th>\n",
       "      <th>If</th>\n",
       "    </tr>\n",
       "  </thead>\n",
       "  <tbody>\n",
       "    <tr>\n",
       "      <th>count</th>\n",
       "      <td>557.000000</td>\n",
       "      <td>557.000000</td>\n",
       "      <td>557.000000</td>\n",
       "      <td>557.000000</td>\n",
       "      <td>557.000000</td>\n",
       "    </tr>\n",
       "    <tr>\n",
       "      <th>mean</th>\n",
       "      <td>4.499820</td>\n",
       "      <td>0.825296</td>\n",
       "      <td>0.174704</td>\n",
       "      <td>0.350659</td>\n",
       "      <td>1.530659</td>\n",
       "    </tr>\n",
       "    <tr>\n",
       "      <th>std</th>\n",
       "      <td>0.896024</td>\n",
       "      <td>0.103925</td>\n",
       "      <td>0.103925</td>\n",
       "      <td>0.180566</td>\n",
       "      <td>0.180566</td>\n",
       "    </tr>\n",
       "    <tr>\n",
       "      <th>min</th>\n",
       "      <td>3.000000</td>\n",
       "      <td>0.650000</td>\n",
       "      <td>0.000000</td>\n",
       "      <td>0.037000</td>\n",
       "      <td>1.217000</td>\n",
       "    </tr>\n",
       "    <tr>\n",
       "      <th>25%</th>\n",
       "      <td>3.700000</td>\n",
       "      <td>0.740000</td>\n",
       "      <td>0.080000</td>\n",
       "      <td>0.189000</td>\n",
       "      <td>1.369000</td>\n",
       "    </tr>\n",
       "    <tr>\n",
       "      <th>50%</th>\n",
       "      <td>4.500000</td>\n",
       "      <td>0.820000</td>\n",
       "      <td>0.180000</td>\n",
       "      <td>0.345000</td>\n",
       "      <td>1.525000</td>\n",
       "    </tr>\n",
       "    <tr>\n",
       "      <th>75%</th>\n",
       "      <td>5.300000</td>\n",
       "      <td>0.920000</td>\n",
       "      <td>0.260000</td>\n",
       "      <td>0.486000</td>\n",
       "      <td>1.666000</td>\n",
       "    </tr>\n",
       "    <tr>\n",
       "      <th>max</th>\n",
       "      <td>6.000000</td>\n",
       "      <td>1.000000</td>\n",
       "      <td>0.350000</td>\n",
       "      <td>0.769000</td>\n",
       "      <td>1.949000</td>\n",
       "    </tr>\n",
       "  </tbody>\n",
       "</table>\n",
       "</div>"
      ],
      "text/plain": [
       "               Iy          PF           e         dIf          If\n",
       "count  557.000000  557.000000  557.000000  557.000000  557.000000\n",
       "mean     4.499820    0.825296    0.174704    0.350659    1.530659\n",
       "std      0.896024    0.103925    0.103925    0.180566    0.180566\n",
       "min      3.000000    0.650000    0.000000    0.037000    1.217000\n",
       "25%      3.700000    0.740000    0.080000    0.189000    1.369000\n",
       "50%      4.500000    0.820000    0.180000    0.345000    1.525000\n",
       "75%      5.300000    0.920000    0.260000    0.486000    1.666000\n",
       "max      6.000000    1.000000    0.350000    0.769000    1.949000"
      ]
     },
     "metadata": {},
     "output_type": "display_data"
    },
    {
     "data": {
      "text/plain": [
       "Iy     0\n",
       "PF     0\n",
       "e      0\n",
       "dIf    0\n",
       "If     0\n",
       "dtype: int64"
      ]
     },
     "metadata": {},
     "output_type": "display_data"
    },
    {
     "data": {
      "application/vnd.plotly.v1+json": {
       "config": {
        "plotlyServerURL": "https://plot.ly"
       },
       "data": [
        {
         "alignmentgroup": "True",
         "hovertemplate": "Iy=%{y}<extra></extra>",
         "legendgroup": "",
         "marker": {
          "color": "#636efa"
         },
         "name": "",
         "notched": false,
         "offsetgroup": "",
         "orientation": "v",
         "showlegend": false,
         "type": "box",
         "x0": " ",
         "xaxis": "x",
         "y": [
          3,
          3,
          3,
          3,
          3,
          3,
          3,
          3,
          3,
          3,
          3,
          3,
          3,
          3,
          3,
          3,
          3,
          3,
          3.1,
          3.1,
          3.1,
          3.1,
          3.1,
          3.1,
          3.1,
          3.1,
          3.1,
          3.1,
          3.1,
          3.1,
          3.1,
          3.1,
          3.1,
          3.1,
          3.1,
          3.1,
          3.2,
          3.2,
          3.2,
          3.2,
          3.2,
          3.2,
          3.2,
          3.2,
          3.2,
          3.2,
          3.2,
          3.2,
          3.2,
          3.2,
          3.2,
          3.2,
          3.2,
          3.2,
          3.3,
          3.3,
          3.3,
          3.3,
          3.3,
          3.3,
          3.3,
          3.3,
          3.3,
          3.3,
          3.3,
          3.3,
          3.3,
          3.3,
          3.3,
          3.3,
          3.3,
          3.3,
          3.4,
          3.4,
          3.4,
          3.4,
          3.4,
          3.4,
          3.4,
          3.4,
          3.4,
          3.4,
          3.4,
          3.4,
          3.4,
          3.4,
          3.4,
          3.4,
          3.4,
          3.4,
          3.5,
          3.5,
          3.5,
          3.5,
          3.5,
          3.5,
          3.5,
          3.5,
          3.5,
          3.5,
          3.5,
          3.5,
          3.5,
          3.5,
          3.5,
          3.5,
          3.5,
          3.5,
          3.6,
          3.6,
          3.8,
          3.8,
          3.8,
          3.8,
          3.8,
          3.7,
          3.7,
          3.6,
          3.7,
          3.7,
          3.7,
          3.6,
          3.6,
          3.6,
          3.6,
          3.8,
          3.7,
          3.8,
          3.6,
          3.7,
          3.8,
          3.6,
          3.7,
          3.6,
          3.8,
          3.7,
          3.8,
          3.6,
          3.7,
          3.6,
          3.8,
          3.7,
          3.6,
          3.8,
          3.7,
          3.6,
          3.8,
          3.7,
          3.6,
          3.8,
          3.7,
          3.6,
          3.8,
          3.7,
          3.9,
          3.6,
          3.8,
          3.7,
          3.9,
          3.8,
          3.7,
          3.9,
          3.8,
          3.7,
          3.6,
          3.9,
          3.9,
          3.9,
          3.9,
          3.9,
          3.9,
          3.9,
          4,
          4,
          4,
          4,
          4,
          3.9,
          3.9,
          3.9,
          3.9,
          3.9,
          4.1,
          4,
          4.1,
          4,
          4,
          4.1,
          4.1,
          4.1,
          3.9,
          3.9,
          3.9,
          4,
          4.1,
          4,
          4.1,
          4.1,
          4,
          4,
          4,
          4.1,
          4.1,
          4,
          4,
          4.1,
          4,
          4.1,
          4,
          4.1,
          4,
          4.1,
          4.1,
          4.2,
          4.1,
          4.2,
          4.1,
          4.1,
          4.3,
          4.3,
          4.3,
          4.3,
          4.3,
          4.2,
          4.2,
          4.2,
          4.2,
          4.2,
          4.3,
          4.3,
          4.2,
          4.3,
          4.2,
          4.2,
          4.3,
          4.2,
          4.3,
          4.2,
          4.3,
          4.2,
          4.3,
          4.2,
          4.3,
          4.2,
          4.3,
          4.2,
          4.3,
          4.2,
          4.3,
          4.3,
          4.3,
          4.2,
          4.4,
          4.4,
          4.4,
          4.4,
          4.4,
          4.4,
          4.4,
          4.4,
          4.4,
          4.4,
          4.4,
          4.4,
          4.4,
          4.4,
          4.4,
          4.4,
          4.4,
          4.4,
          4.5,
          4.5,
          4.5,
          4.5,
          4.5,
          4.5,
          4.5,
          4.5,
          4.5,
          4.5,
          4.5,
          4.5,
          4.5,
          4.5,
          4.5,
          4.5,
          4.5,
          4.5,
          4.6,
          4.6,
          4.6,
          4.6,
          4.6,
          4.6,
          4.6,
          4.6,
          4.6,
          4.6,
          4.6,
          4.6,
          4.6,
          4.6,
          4.6,
          4.6,
          4.6,
          4.7,
          4.7,
          4.7,
          4.7,
          4.7,
          4.7,
          4.7,
          4.7,
          4.7,
          4.7,
          4.7,
          4.7,
          4.7,
          4.7,
          4.7,
          4.7,
          4.7,
          4.7,
          4.8,
          4.8,
          4.8,
          4.8,
          4.8,
          4.8,
          4.8,
          4.8,
          4.8,
          4.8,
          4.8,
          4.8,
          4.8,
          4.8,
          4.8,
          4.8,
          4.8,
          4.8,
          4.9,
          4.9,
          4.9,
          4.9,
          4.9,
          4.9,
          4.9,
          4.9,
          4.9,
          4.9,
          4.9,
          4.9,
          4.9,
          4.9,
          4.9,
          4.9,
          4.9,
          4.9,
          5,
          5,
          5,
          5,
          5,
          5,
          5,
          5,
          5,
          5,
          5,
          5,
          5,
          5,
          5,
          5,
          5,
          5,
          5.1,
          5.1,
          5.1,
          5.1,
          5.1,
          5.1,
          5.1,
          5.1,
          5.1,
          5.1,
          5.1,
          5.1,
          5.1,
          5.1,
          5.1,
          5.1,
          5.1,
          5.1,
          5.2,
          5.2,
          5.2,
          5.2,
          5.2,
          5.2,
          5.2,
          5.2,
          5.2,
          5.2,
          5.2,
          5.2,
          5.2,
          5.2,
          5.2,
          5.2,
          5.2,
          5.2,
          5.3,
          5.3,
          5.3,
          5.3,
          5.3,
          5.3,
          5.3,
          5.3,
          5.3,
          5.3,
          5.3,
          5.3,
          5.3,
          5.3,
          5.3,
          5.3,
          5.3,
          5.3,
          5.4,
          5.4,
          5.4,
          5.4,
          5.4,
          5.4,
          5.4,
          5.4,
          5.4,
          5.4,
          5.4,
          5.4,
          5.4,
          5.4,
          5.4,
          5.4,
          5.4,
          5.4,
          5.5,
          5.5,
          5.5,
          5.5,
          5.5,
          5.5,
          5.5,
          5.5,
          5.5,
          5.5,
          5.5,
          5.5,
          5.5,
          5.5,
          5.5,
          5.5,
          5.5,
          5.5,
          5.6,
          5.6,
          5.6,
          5.6,
          5.6,
          5.6,
          5.6,
          5.6,
          5.6,
          5.6,
          5.6,
          5.6,
          5.6,
          5.6,
          5.6,
          5.6,
          5.6,
          5.6,
          5.7,
          5.7,
          5.7,
          5.7,
          5.7,
          5.7,
          5.7,
          5.7,
          5.7,
          5.7,
          5.7,
          5.7,
          5.7,
          5.7,
          5.7,
          5.7,
          5.7,
          5.7,
          5.8,
          5.8,
          5.8,
          5.8,
          5.8,
          5.8,
          5.8,
          5.8,
          5.8,
          5.8,
          5.8,
          5.8,
          5.8,
          5.8,
          5.8,
          5.8,
          5.8,
          5.8,
          5.9,
          5.9,
          5.9,
          5.9,
          5.9,
          5.9,
          5.9,
          5.9,
          5.9,
          5.9,
          5.9,
          5.9,
          5.9,
          5.9,
          5.9,
          5.9,
          5.9,
          5.9,
          6,
          6,
          6,
          6,
          6,
          6,
          6,
          6,
          6,
          6,
          6,
          6,
          6,
          6,
          6,
          6,
          6,
          6
         ],
         "y0": " ",
         "yaxis": "y"
        }
       ],
       "layout": {
        "boxmode": "group",
        "legend": {
         "tracegroupgap": 0
        },
        "margin": {
         "t": 60
        },
        "template": {
         "data": {
          "bar": [
           {
            "error_x": {
             "color": "#2a3f5f"
            },
            "error_y": {
             "color": "#2a3f5f"
            },
            "marker": {
             "line": {
              "color": "#E5ECF6",
              "width": 0.5
             },
             "pattern": {
              "fillmode": "overlay",
              "size": 10,
              "solidity": 0.2
             }
            },
            "type": "bar"
           }
          ],
          "barpolar": [
           {
            "marker": {
             "line": {
              "color": "#E5ECF6",
              "width": 0.5
             },
             "pattern": {
              "fillmode": "overlay",
              "size": 10,
              "solidity": 0.2
             }
            },
            "type": "barpolar"
           }
          ],
          "carpet": [
           {
            "aaxis": {
             "endlinecolor": "#2a3f5f",
             "gridcolor": "white",
             "linecolor": "white",
             "minorgridcolor": "white",
             "startlinecolor": "#2a3f5f"
            },
            "baxis": {
             "endlinecolor": "#2a3f5f",
             "gridcolor": "white",
             "linecolor": "white",
             "minorgridcolor": "white",
             "startlinecolor": "#2a3f5f"
            },
            "type": "carpet"
           }
          ],
          "choropleth": [
           {
            "colorbar": {
             "outlinewidth": 0,
             "ticks": ""
            },
            "type": "choropleth"
           }
          ],
          "contour": [
           {
            "colorbar": {
             "outlinewidth": 0,
             "ticks": ""
            },
            "colorscale": [
             [
              0,
              "#0d0887"
             ],
             [
              0.1111111111111111,
              "#46039f"
             ],
             [
              0.2222222222222222,
              "#7201a8"
             ],
             [
              0.3333333333333333,
              "#9c179e"
             ],
             [
              0.4444444444444444,
              "#bd3786"
             ],
             [
              0.5555555555555556,
              "#d8576b"
             ],
             [
              0.6666666666666666,
              "#ed7953"
             ],
             [
              0.7777777777777778,
              "#fb9f3a"
             ],
             [
              0.8888888888888888,
              "#fdca26"
             ],
             [
              1,
              "#f0f921"
             ]
            ],
            "type": "contour"
           }
          ],
          "contourcarpet": [
           {
            "colorbar": {
             "outlinewidth": 0,
             "ticks": ""
            },
            "type": "contourcarpet"
           }
          ],
          "heatmap": [
           {
            "colorbar": {
             "outlinewidth": 0,
             "ticks": ""
            },
            "colorscale": [
             [
              0,
              "#0d0887"
             ],
             [
              0.1111111111111111,
              "#46039f"
             ],
             [
              0.2222222222222222,
              "#7201a8"
             ],
             [
              0.3333333333333333,
              "#9c179e"
             ],
             [
              0.4444444444444444,
              "#bd3786"
             ],
             [
              0.5555555555555556,
              "#d8576b"
             ],
             [
              0.6666666666666666,
              "#ed7953"
             ],
             [
              0.7777777777777778,
              "#fb9f3a"
             ],
             [
              0.8888888888888888,
              "#fdca26"
             ],
             [
              1,
              "#f0f921"
             ]
            ],
            "type": "heatmap"
           }
          ],
          "heatmapgl": [
           {
            "colorbar": {
             "outlinewidth": 0,
             "ticks": ""
            },
            "colorscale": [
             [
              0,
              "#0d0887"
             ],
             [
              0.1111111111111111,
              "#46039f"
             ],
             [
              0.2222222222222222,
              "#7201a8"
             ],
             [
              0.3333333333333333,
              "#9c179e"
             ],
             [
              0.4444444444444444,
              "#bd3786"
             ],
             [
              0.5555555555555556,
              "#d8576b"
             ],
             [
              0.6666666666666666,
              "#ed7953"
             ],
             [
              0.7777777777777778,
              "#fb9f3a"
             ],
             [
              0.8888888888888888,
              "#fdca26"
             ],
             [
              1,
              "#f0f921"
             ]
            ],
            "type": "heatmapgl"
           }
          ],
          "histogram": [
           {
            "marker": {
             "pattern": {
              "fillmode": "overlay",
              "size": 10,
              "solidity": 0.2
             }
            },
            "type": "histogram"
           }
          ],
          "histogram2d": [
           {
            "colorbar": {
             "outlinewidth": 0,
             "ticks": ""
            },
            "colorscale": [
             [
              0,
              "#0d0887"
             ],
             [
              0.1111111111111111,
              "#46039f"
             ],
             [
              0.2222222222222222,
              "#7201a8"
             ],
             [
              0.3333333333333333,
              "#9c179e"
             ],
             [
              0.4444444444444444,
              "#bd3786"
             ],
             [
              0.5555555555555556,
              "#d8576b"
             ],
             [
              0.6666666666666666,
              "#ed7953"
             ],
             [
              0.7777777777777778,
              "#fb9f3a"
             ],
             [
              0.8888888888888888,
              "#fdca26"
             ],
             [
              1,
              "#f0f921"
             ]
            ],
            "type": "histogram2d"
           }
          ],
          "histogram2dcontour": [
           {
            "colorbar": {
             "outlinewidth": 0,
             "ticks": ""
            },
            "colorscale": [
             [
              0,
              "#0d0887"
             ],
             [
              0.1111111111111111,
              "#46039f"
             ],
             [
              0.2222222222222222,
              "#7201a8"
             ],
             [
              0.3333333333333333,
              "#9c179e"
             ],
             [
              0.4444444444444444,
              "#bd3786"
             ],
             [
              0.5555555555555556,
              "#d8576b"
             ],
             [
              0.6666666666666666,
              "#ed7953"
             ],
             [
              0.7777777777777778,
              "#fb9f3a"
             ],
             [
              0.8888888888888888,
              "#fdca26"
             ],
             [
              1,
              "#f0f921"
             ]
            ],
            "type": "histogram2dcontour"
           }
          ],
          "mesh3d": [
           {
            "colorbar": {
             "outlinewidth": 0,
             "ticks": ""
            },
            "type": "mesh3d"
           }
          ],
          "parcoords": [
           {
            "line": {
             "colorbar": {
              "outlinewidth": 0,
              "ticks": ""
             }
            },
            "type": "parcoords"
           }
          ],
          "pie": [
           {
            "automargin": true,
            "type": "pie"
           }
          ],
          "scatter": [
           {
            "fillpattern": {
             "fillmode": "overlay",
             "size": 10,
             "solidity": 0.2
            },
            "type": "scatter"
           }
          ],
          "scatter3d": [
           {
            "line": {
             "colorbar": {
              "outlinewidth": 0,
              "ticks": ""
             }
            },
            "marker": {
             "colorbar": {
              "outlinewidth": 0,
              "ticks": ""
             }
            },
            "type": "scatter3d"
           }
          ],
          "scattercarpet": [
           {
            "marker": {
             "colorbar": {
              "outlinewidth": 0,
              "ticks": ""
             }
            },
            "type": "scattercarpet"
           }
          ],
          "scattergeo": [
           {
            "marker": {
             "colorbar": {
              "outlinewidth": 0,
              "ticks": ""
             }
            },
            "type": "scattergeo"
           }
          ],
          "scattergl": [
           {
            "marker": {
             "colorbar": {
              "outlinewidth": 0,
              "ticks": ""
             }
            },
            "type": "scattergl"
           }
          ],
          "scattermapbox": [
           {
            "marker": {
             "colorbar": {
              "outlinewidth": 0,
              "ticks": ""
             }
            },
            "type": "scattermapbox"
           }
          ],
          "scatterpolar": [
           {
            "marker": {
             "colorbar": {
              "outlinewidth": 0,
              "ticks": ""
             }
            },
            "type": "scatterpolar"
           }
          ],
          "scatterpolargl": [
           {
            "marker": {
             "colorbar": {
              "outlinewidth": 0,
              "ticks": ""
             }
            },
            "type": "scatterpolargl"
           }
          ],
          "scatterternary": [
           {
            "marker": {
             "colorbar": {
              "outlinewidth": 0,
              "ticks": ""
             }
            },
            "type": "scatterternary"
           }
          ],
          "surface": [
           {
            "colorbar": {
             "outlinewidth": 0,
             "ticks": ""
            },
            "colorscale": [
             [
              0,
              "#0d0887"
             ],
             [
              0.1111111111111111,
              "#46039f"
             ],
             [
              0.2222222222222222,
              "#7201a8"
             ],
             [
              0.3333333333333333,
              "#9c179e"
             ],
             [
              0.4444444444444444,
              "#bd3786"
             ],
             [
              0.5555555555555556,
              "#d8576b"
             ],
             [
              0.6666666666666666,
              "#ed7953"
             ],
             [
              0.7777777777777778,
              "#fb9f3a"
             ],
             [
              0.8888888888888888,
              "#fdca26"
             ],
             [
              1,
              "#f0f921"
             ]
            ],
            "type": "surface"
           }
          ],
          "table": [
           {
            "cells": {
             "fill": {
              "color": "#EBF0F8"
             },
             "line": {
              "color": "white"
             }
            },
            "header": {
             "fill": {
              "color": "#C8D4E3"
             },
             "line": {
              "color": "white"
             }
            },
            "type": "table"
           }
          ]
         },
         "layout": {
          "annotationdefaults": {
           "arrowcolor": "#2a3f5f",
           "arrowhead": 0,
           "arrowwidth": 1
          },
          "autotypenumbers": "strict",
          "coloraxis": {
           "colorbar": {
            "outlinewidth": 0,
            "ticks": ""
           }
          },
          "colorscale": {
           "diverging": [
            [
             0,
             "#8e0152"
            ],
            [
             0.1,
             "#c51b7d"
            ],
            [
             0.2,
             "#de77ae"
            ],
            [
             0.3,
             "#f1b6da"
            ],
            [
             0.4,
             "#fde0ef"
            ],
            [
             0.5,
             "#f7f7f7"
            ],
            [
             0.6,
             "#e6f5d0"
            ],
            [
             0.7,
             "#b8e186"
            ],
            [
             0.8,
             "#7fbc41"
            ],
            [
             0.9,
             "#4d9221"
            ],
            [
             1,
             "#276419"
            ]
           ],
           "sequential": [
            [
             0,
             "#0d0887"
            ],
            [
             0.1111111111111111,
             "#46039f"
            ],
            [
             0.2222222222222222,
             "#7201a8"
            ],
            [
             0.3333333333333333,
             "#9c179e"
            ],
            [
             0.4444444444444444,
             "#bd3786"
            ],
            [
             0.5555555555555556,
             "#d8576b"
            ],
            [
             0.6666666666666666,
             "#ed7953"
            ],
            [
             0.7777777777777778,
             "#fb9f3a"
            ],
            [
             0.8888888888888888,
             "#fdca26"
            ],
            [
             1,
             "#f0f921"
            ]
           ],
           "sequentialminus": [
            [
             0,
             "#0d0887"
            ],
            [
             0.1111111111111111,
             "#46039f"
            ],
            [
             0.2222222222222222,
             "#7201a8"
            ],
            [
             0.3333333333333333,
             "#9c179e"
            ],
            [
             0.4444444444444444,
             "#bd3786"
            ],
            [
             0.5555555555555556,
             "#d8576b"
            ],
            [
             0.6666666666666666,
             "#ed7953"
            ],
            [
             0.7777777777777778,
             "#fb9f3a"
            ],
            [
             0.8888888888888888,
             "#fdca26"
            ],
            [
             1,
             "#f0f921"
            ]
           ]
          },
          "colorway": [
           "#636efa",
           "#EF553B",
           "#00cc96",
           "#ab63fa",
           "#FFA15A",
           "#19d3f3",
           "#FF6692",
           "#B6E880",
           "#FF97FF",
           "#FECB52"
          ],
          "font": {
           "color": "#2a3f5f"
          },
          "geo": {
           "bgcolor": "white",
           "lakecolor": "white",
           "landcolor": "#E5ECF6",
           "showlakes": true,
           "showland": true,
           "subunitcolor": "white"
          },
          "hoverlabel": {
           "align": "left"
          },
          "hovermode": "closest",
          "mapbox": {
           "style": "light"
          },
          "paper_bgcolor": "white",
          "plot_bgcolor": "#E5ECF6",
          "polar": {
           "angularaxis": {
            "gridcolor": "white",
            "linecolor": "white",
            "ticks": ""
           },
           "bgcolor": "#E5ECF6",
           "radialaxis": {
            "gridcolor": "white",
            "linecolor": "white",
            "ticks": ""
           }
          },
          "scene": {
           "xaxis": {
            "backgroundcolor": "#E5ECF6",
            "gridcolor": "white",
            "gridwidth": 2,
            "linecolor": "white",
            "showbackground": true,
            "ticks": "",
            "zerolinecolor": "white"
           },
           "yaxis": {
            "backgroundcolor": "#E5ECF6",
            "gridcolor": "white",
            "gridwidth": 2,
            "linecolor": "white",
            "showbackground": true,
            "ticks": "",
            "zerolinecolor": "white"
           },
           "zaxis": {
            "backgroundcolor": "#E5ECF6",
            "gridcolor": "white",
            "gridwidth": 2,
            "linecolor": "white",
            "showbackground": true,
            "ticks": "",
            "zerolinecolor": "white"
           }
          },
          "shapedefaults": {
           "line": {
            "color": "#2a3f5f"
           }
          },
          "ternary": {
           "aaxis": {
            "gridcolor": "white",
            "linecolor": "white",
            "ticks": ""
           },
           "baxis": {
            "gridcolor": "white",
            "linecolor": "white",
            "ticks": ""
           },
           "bgcolor": "#E5ECF6",
           "caxis": {
            "gridcolor": "white",
            "linecolor": "white",
            "ticks": ""
           }
          },
          "title": {
           "x": 0.05
          },
          "xaxis": {
           "automargin": true,
           "gridcolor": "white",
           "linecolor": "white",
           "ticks": "",
           "title": {
            "standoff": 15
           },
           "zerolinecolor": "white",
           "zerolinewidth": 2
          },
          "yaxis": {
           "automargin": true,
           "gridcolor": "white",
           "linecolor": "white",
           "ticks": "",
           "title": {
            "standoff": 15
           },
           "zerolinecolor": "white",
           "zerolinewidth": 2
          }
         }
        },
        "xaxis": {
         "anchor": "y",
         "domain": [
          0,
          1
         ]
        },
        "yaxis": {
         "anchor": "x",
         "domain": [
          0,
          1
         ],
         "title": {
          "text": "Iy"
         }
        }
       }
      }
     },
     "metadata": {},
     "output_type": "display_data"
    },
    {
     "data": {
      "application/vnd.plotly.v1+json": {
       "config": {
        "plotlyServerURL": "https://plot.ly"
       },
       "data": [
        {
         "alignmentgroup": "True",
         "hovertemplate": "PF=%{y}<extra></extra>",
         "legendgroup": "",
         "marker": {
          "color": "#636efa"
         },
         "name": "",
         "notched": false,
         "offsetgroup": "",
         "orientation": "v",
         "showlegend": false,
         "type": "box",
         "x0": " ",
         "xaxis": "x",
         "y": [
          0.66,
          0.68,
          0.7,
          0.72,
          0.74,
          0.76,
          0.78,
          0.8,
          0.82,
          0.84,
          0.86,
          0.88,
          0.9,
          0.92,
          0.94,
          0.96,
          0.98,
          1,
          0.66,
          0.68,
          0.7,
          0.72,
          0.74,
          0.76,
          0.78,
          0.8,
          0.82,
          0.84,
          0.86,
          0.88,
          0.9,
          0.92,
          0.94,
          0.96,
          0.98,
          1,
          0.66,
          0.68,
          0.7,
          0.72,
          0.74,
          0.76,
          0.78,
          0.8,
          0.82,
          0.84,
          0.86,
          0.88,
          0.9,
          0.92,
          0.94,
          0.96,
          0.98,
          1,
          0.66,
          0.68,
          0.7,
          0.72,
          0.74,
          0.76,
          0.78,
          0.8,
          0.82,
          0.84,
          0.86,
          0.88,
          0.9,
          0.92,
          0.94,
          0.96,
          0.98,
          1,
          0.66,
          0.68,
          0.7,
          0.72,
          0.74,
          0.76,
          0.78,
          0.8,
          0.82,
          0.84,
          0.86,
          0.88,
          0.9,
          0.92,
          0.94,
          0.96,
          0.98,
          1,
          0.66,
          0.68,
          0.7,
          0.72,
          0.74,
          0.76,
          0.78,
          0.8,
          0.82,
          0.84,
          0.86,
          0.88,
          0.9,
          0.92,
          0.94,
          0.96,
          0.98,
          1,
          0.66,
          0.68,
          0.92,
          0.94,
          0.96,
          0.98,
          1,
          0.92,
          0.94,
          0.92,
          0.96,
          0.98,
          1,
          0.94,
          0.96,
          0.98,
          1,
          0.86,
          0.86,
          0.88,
          0.86,
          0.88,
          0.9,
          0.88,
          0.9,
          0.9,
          0.82,
          0.82,
          0.84,
          0.82,
          0.84,
          0.84,
          0.76,
          0.76,
          0.76,
          0.78,
          0.78,
          0.78,
          0.8,
          0.8,
          0.8,
          0.72,
          0.72,
          0.72,
          0.74,
          0.74,
          0.66,
          0.74,
          0.66,
          0.66,
          0.68,
          0.68,
          0.68,
          0.7,
          0.7,
          0.7,
          0.7,
          0.72,
          0.74,
          0.76,
          0.78,
          0.8,
          0.82,
          0.84,
          0.92,
          0.94,
          0.96,
          0.98,
          1,
          0.92,
          0.96,
          0.98,
          1,
          0.94,
          0.92,
          0.86,
          0.94,
          0.88,
          0.9,
          0.96,
          0.98,
          1,
          0.86,
          0.88,
          0.9,
          0.82,
          0.86,
          0.84,
          0.88,
          0.9,
          0.76,
          0.78,
          0.8,
          0.82,
          0.84,
          0.72,
          0.74,
          0.76,
          0.66,
          0.78,
          0.68,
          0.8,
          0.7,
          0.72,
          0.74,
          0.66,
          0.66,
          0.68,
          0.68,
          0.7,
          0.92,
          0.94,
          0.96,
          0.98,
          1,
          0.92,
          0.94,
          0.96,
          0.98,
          1,
          0.86,
          0.88,
          0.86,
          0.9,
          0.88,
          0.9,
          0.82,
          0.82,
          0.84,
          0.84,
          0.76,
          0.76,
          0.78,
          0.78,
          0.8,
          0.8,
          0.72,
          0.72,
          0.74,
          0.74,
          0.66,
          0.68,
          0.7,
          0.7,
          0.66,
          0.68,
          0.7,
          0.72,
          0.74,
          0.76,
          0.78,
          0.8,
          0.82,
          0.84,
          0.86,
          0.88,
          0.9,
          0.92,
          0.94,
          0.96,
          0.98,
          1,
          0.66,
          0.68,
          0.7,
          0.72,
          0.74,
          0.76,
          0.78,
          0.8,
          0.82,
          0.84,
          0.86,
          0.88,
          0.9,
          0.92,
          0.94,
          0.96,
          0.98,
          1,
          0.66,
          0.68,
          0.7,
          0.72,
          0.74,
          0.76,
          0.78,
          0.8,
          0.82,
          0.84,
          0.87,
          0.89,
          0.91,
          0.93,
          0.95,
          0.97,
          0.99,
          0.65,
          0.67,
          0.69,
          0.71,
          0.73,
          0.75,
          0.77,
          0.79,
          0.81,
          0.83,
          0.85,
          0.87,
          0.89,
          0.91,
          0.93,
          0.95,
          0.97,
          0.99,
          0.65,
          0.67,
          0.69,
          0.71,
          0.73,
          0.75,
          0.77,
          0.79,
          0.81,
          0.83,
          0.85,
          0.87,
          0.89,
          0.91,
          0.93,
          0.95,
          0.97,
          0.99,
          0.65,
          0.67,
          0.69,
          0.71,
          0.73,
          0.75,
          0.77,
          0.79,
          0.81,
          0.83,
          0.85,
          0.87,
          0.89,
          0.91,
          0.93,
          0.95,
          0.97,
          0.99,
          0.65,
          0.67,
          0.69,
          0.71,
          0.73,
          0.75,
          0.77,
          0.79,
          0.81,
          0.83,
          0.85,
          0.87,
          0.89,
          0.91,
          0.93,
          0.95,
          0.97,
          0.99,
          0.65,
          0.67,
          0.69,
          0.71,
          0.73,
          0.75,
          0.77,
          0.79,
          0.81,
          0.83,
          0.85,
          0.87,
          0.89,
          0.91,
          0.93,
          0.95,
          0.97,
          0.99,
          0.65,
          0.67,
          0.69,
          0.71,
          0.73,
          0.75,
          0.77,
          0.79,
          0.81,
          0.83,
          0.85,
          0.87,
          0.89,
          0.91,
          0.93,
          0.95,
          0.97,
          0.99,
          0.65,
          0.67,
          0.69,
          0.71,
          0.73,
          0.75,
          0.77,
          0.79,
          0.81,
          0.83,
          0.85,
          0.87,
          0.89,
          0.91,
          0.93,
          0.95,
          0.97,
          0.99,
          0.65,
          0.67,
          0.69,
          0.71,
          0.73,
          0.75,
          0.77,
          0.79,
          0.81,
          0.83,
          0.85,
          0.87,
          0.89,
          0.91,
          0.93,
          0.95,
          0.97,
          0.99,
          0.65,
          0.67,
          0.69,
          0.71,
          0.73,
          0.75,
          0.77,
          0.79,
          0.81,
          0.83,
          0.85,
          0.87,
          0.89,
          0.91,
          0.93,
          0.95,
          0.97,
          0.99,
          0.65,
          0.67,
          0.69,
          0.71,
          0.73,
          0.75,
          0.77,
          0.79,
          0.81,
          0.83,
          0.85,
          0.87,
          0.89,
          0.91,
          0.93,
          0.95,
          0.97,
          0.99,
          0.65,
          0.67,
          0.69,
          0.71,
          0.73,
          0.75,
          0.77,
          0.79,
          0.81,
          0.83,
          0.85,
          0.87,
          0.89,
          0.91,
          0.93,
          0.95,
          0.97,
          0.99,
          0.65,
          0.67,
          0.69,
          0.71,
          0.73,
          0.75,
          0.77,
          0.79,
          0.81,
          0.83,
          0.85,
          0.87,
          0.89,
          0.91,
          0.93,
          0.95,
          0.97,
          0.99,
          0.65,
          0.67,
          0.69,
          0.71,
          0.73,
          0.75,
          0.77,
          0.79,
          0.81,
          0.83,
          0.85,
          0.87,
          0.89,
          0.91,
          0.93,
          0.95,
          0.97,
          0.99,
          0.65,
          0.67,
          0.69,
          0.71,
          0.73,
          0.75,
          0.77,
          0.79,
          0.81,
          0.83,
          0.85,
          0.87,
          0.89,
          0.91,
          0.93,
          0.95,
          0.97,
          0.99
         ],
         "y0": " ",
         "yaxis": "y"
        }
       ],
       "layout": {
        "boxmode": "group",
        "legend": {
         "tracegroupgap": 0
        },
        "margin": {
         "t": 60
        },
        "template": {
         "data": {
          "bar": [
           {
            "error_x": {
             "color": "#2a3f5f"
            },
            "error_y": {
             "color": "#2a3f5f"
            },
            "marker": {
             "line": {
              "color": "#E5ECF6",
              "width": 0.5
             },
             "pattern": {
              "fillmode": "overlay",
              "size": 10,
              "solidity": 0.2
             }
            },
            "type": "bar"
           }
          ],
          "barpolar": [
           {
            "marker": {
             "line": {
              "color": "#E5ECF6",
              "width": 0.5
             },
             "pattern": {
              "fillmode": "overlay",
              "size": 10,
              "solidity": 0.2
             }
            },
            "type": "barpolar"
           }
          ],
          "carpet": [
           {
            "aaxis": {
             "endlinecolor": "#2a3f5f",
             "gridcolor": "white",
             "linecolor": "white",
             "minorgridcolor": "white",
             "startlinecolor": "#2a3f5f"
            },
            "baxis": {
             "endlinecolor": "#2a3f5f",
             "gridcolor": "white",
             "linecolor": "white",
             "minorgridcolor": "white",
             "startlinecolor": "#2a3f5f"
            },
            "type": "carpet"
           }
          ],
          "choropleth": [
           {
            "colorbar": {
             "outlinewidth": 0,
             "ticks": ""
            },
            "type": "choropleth"
           }
          ],
          "contour": [
           {
            "colorbar": {
             "outlinewidth": 0,
             "ticks": ""
            },
            "colorscale": [
             [
              0,
              "#0d0887"
             ],
             [
              0.1111111111111111,
              "#46039f"
             ],
             [
              0.2222222222222222,
              "#7201a8"
             ],
             [
              0.3333333333333333,
              "#9c179e"
             ],
             [
              0.4444444444444444,
              "#bd3786"
             ],
             [
              0.5555555555555556,
              "#d8576b"
             ],
             [
              0.6666666666666666,
              "#ed7953"
             ],
             [
              0.7777777777777778,
              "#fb9f3a"
             ],
             [
              0.8888888888888888,
              "#fdca26"
             ],
             [
              1,
              "#f0f921"
             ]
            ],
            "type": "contour"
           }
          ],
          "contourcarpet": [
           {
            "colorbar": {
             "outlinewidth": 0,
             "ticks": ""
            },
            "type": "contourcarpet"
           }
          ],
          "heatmap": [
           {
            "colorbar": {
             "outlinewidth": 0,
             "ticks": ""
            },
            "colorscale": [
             [
              0,
              "#0d0887"
             ],
             [
              0.1111111111111111,
              "#46039f"
             ],
             [
              0.2222222222222222,
              "#7201a8"
             ],
             [
              0.3333333333333333,
              "#9c179e"
             ],
             [
              0.4444444444444444,
              "#bd3786"
             ],
             [
              0.5555555555555556,
              "#d8576b"
             ],
             [
              0.6666666666666666,
              "#ed7953"
             ],
             [
              0.7777777777777778,
              "#fb9f3a"
             ],
             [
              0.8888888888888888,
              "#fdca26"
             ],
             [
              1,
              "#f0f921"
             ]
            ],
            "type": "heatmap"
           }
          ],
          "heatmapgl": [
           {
            "colorbar": {
             "outlinewidth": 0,
             "ticks": ""
            },
            "colorscale": [
             [
              0,
              "#0d0887"
             ],
             [
              0.1111111111111111,
              "#46039f"
             ],
             [
              0.2222222222222222,
              "#7201a8"
             ],
             [
              0.3333333333333333,
              "#9c179e"
             ],
             [
              0.4444444444444444,
              "#bd3786"
             ],
             [
              0.5555555555555556,
              "#d8576b"
             ],
             [
              0.6666666666666666,
              "#ed7953"
             ],
             [
              0.7777777777777778,
              "#fb9f3a"
             ],
             [
              0.8888888888888888,
              "#fdca26"
             ],
             [
              1,
              "#f0f921"
             ]
            ],
            "type": "heatmapgl"
           }
          ],
          "histogram": [
           {
            "marker": {
             "pattern": {
              "fillmode": "overlay",
              "size": 10,
              "solidity": 0.2
             }
            },
            "type": "histogram"
           }
          ],
          "histogram2d": [
           {
            "colorbar": {
             "outlinewidth": 0,
             "ticks": ""
            },
            "colorscale": [
             [
              0,
              "#0d0887"
             ],
             [
              0.1111111111111111,
              "#46039f"
             ],
             [
              0.2222222222222222,
              "#7201a8"
             ],
             [
              0.3333333333333333,
              "#9c179e"
             ],
             [
              0.4444444444444444,
              "#bd3786"
             ],
             [
              0.5555555555555556,
              "#d8576b"
             ],
             [
              0.6666666666666666,
              "#ed7953"
             ],
             [
              0.7777777777777778,
              "#fb9f3a"
             ],
             [
              0.8888888888888888,
              "#fdca26"
             ],
             [
              1,
              "#f0f921"
             ]
            ],
            "type": "histogram2d"
           }
          ],
          "histogram2dcontour": [
           {
            "colorbar": {
             "outlinewidth": 0,
             "ticks": ""
            },
            "colorscale": [
             [
              0,
              "#0d0887"
             ],
             [
              0.1111111111111111,
              "#46039f"
             ],
             [
              0.2222222222222222,
              "#7201a8"
             ],
             [
              0.3333333333333333,
              "#9c179e"
             ],
             [
              0.4444444444444444,
              "#bd3786"
             ],
             [
              0.5555555555555556,
              "#d8576b"
             ],
             [
              0.6666666666666666,
              "#ed7953"
             ],
             [
              0.7777777777777778,
              "#fb9f3a"
             ],
             [
              0.8888888888888888,
              "#fdca26"
             ],
             [
              1,
              "#f0f921"
             ]
            ],
            "type": "histogram2dcontour"
           }
          ],
          "mesh3d": [
           {
            "colorbar": {
             "outlinewidth": 0,
             "ticks": ""
            },
            "type": "mesh3d"
           }
          ],
          "parcoords": [
           {
            "line": {
             "colorbar": {
              "outlinewidth": 0,
              "ticks": ""
             }
            },
            "type": "parcoords"
           }
          ],
          "pie": [
           {
            "automargin": true,
            "type": "pie"
           }
          ],
          "scatter": [
           {
            "fillpattern": {
             "fillmode": "overlay",
             "size": 10,
             "solidity": 0.2
            },
            "type": "scatter"
           }
          ],
          "scatter3d": [
           {
            "line": {
             "colorbar": {
              "outlinewidth": 0,
              "ticks": ""
             }
            },
            "marker": {
             "colorbar": {
              "outlinewidth": 0,
              "ticks": ""
             }
            },
            "type": "scatter3d"
           }
          ],
          "scattercarpet": [
           {
            "marker": {
             "colorbar": {
              "outlinewidth": 0,
              "ticks": ""
             }
            },
            "type": "scattercarpet"
           }
          ],
          "scattergeo": [
           {
            "marker": {
             "colorbar": {
              "outlinewidth": 0,
              "ticks": ""
             }
            },
            "type": "scattergeo"
           }
          ],
          "scattergl": [
           {
            "marker": {
             "colorbar": {
              "outlinewidth": 0,
              "ticks": ""
             }
            },
            "type": "scattergl"
           }
          ],
          "scattermapbox": [
           {
            "marker": {
             "colorbar": {
              "outlinewidth": 0,
              "ticks": ""
             }
            },
            "type": "scattermapbox"
           }
          ],
          "scatterpolar": [
           {
            "marker": {
             "colorbar": {
              "outlinewidth": 0,
              "ticks": ""
             }
            },
            "type": "scatterpolar"
           }
          ],
          "scatterpolargl": [
           {
            "marker": {
             "colorbar": {
              "outlinewidth": 0,
              "ticks": ""
             }
            },
            "type": "scatterpolargl"
           }
          ],
          "scatterternary": [
           {
            "marker": {
             "colorbar": {
              "outlinewidth": 0,
              "ticks": ""
             }
            },
            "type": "scatterternary"
           }
          ],
          "surface": [
           {
            "colorbar": {
             "outlinewidth": 0,
             "ticks": ""
            },
            "colorscale": [
             [
              0,
              "#0d0887"
             ],
             [
              0.1111111111111111,
              "#46039f"
             ],
             [
              0.2222222222222222,
              "#7201a8"
             ],
             [
              0.3333333333333333,
              "#9c179e"
             ],
             [
              0.4444444444444444,
              "#bd3786"
             ],
             [
              0.5555555555555556,
              "#d8576b"
             ],
             [
              0.6666666666666666,
              "#ed7953"
             ],
             [
              0.7777777777777778,
              "#fb9f3a"
             ],
             [
              0.8888888888888888,
              "#fdca26"
             ],
             [
              1,
              "#f0f921"
             ]
            ],
            "type": "surface"
           }
          ],
          "table": [
           {
            "cells": {
             "fill": {
              "color": "#EBF0F8"
             },
             "line": {
              "color": "white"
             }
            },
            "header": {
             "fill": {
              "color": "#C8D4E3"
             },
             "line": {
              "color": "white"
             }
            },
            "type": "table"
           }
          ]
         },
         "layout": {
          "annotationdefaults": {
           "arrowcolor": "#2a3f5f",
           "arrowhead": 0,
           "arrowwidth": 1
          },
          "autotypenumbers": "strict",
          "coloraxis": {
           "colorbar": {
            "outlinewidth": 0,
            "ticks": ""
           }
          },
          "colorscale": {
           "diverging": [
            [
             0,
             "#8e0152"
            ],
            [
             0.1,
             "#c51b7d"
            ],
            [
             0.2,
             "#de77ae"
            ],
            [
             0.3,
             "#f1b6da"
            ],
            [
             0.4,
             "#fde0ef"
            ],
            [
             0.5,
             "#f7f7f7"
            ],
            [
             0.6,
             "#e6f5d0"
            ],
            [
             0.7,
             "#b8e186"
            ],
            [
             0.8,
             "#7fbc41"
            ],
            [
             0.9,
             "#4d9221"
            ],
            [
             1,
             "#276419"
            ]
           ],
           "sequential": [
            [
             0,
             "#0d0887"
            ],
            [
             0.1111111111111111,
             "#46039f"
            ],
            [
             0.2222222222222222,
             "#7201a8"
            ],
            [
             0.3333333333333333,
             "#9c179e"
            ],
            [
             0.4444444444444444,
             "#bd3786"
            ],
            [
             0.5555555555555556,
             "#d8576b"
            ],
            [
             0.6666666666666666,
             "#ed7953"
            ],
            [
             0.7777777777777778,
             "#fb9f3a"
            ],
            [
             0.8888888888888888,
             "#fdca26"
            ],
            [
             1,
             "#f0f921"
            ]
           ],
           "sequentialminus": [
            [
             0,
             "#0d0887"
            ],
            [
             0.1111111111111111,
             "#46039f"
            ],
            [
             0.2222222222222222,
             "#7201a8"
            ],
            [
             0.3333333333333333,
             "#9c179e"
            ],
            [
             0.4444444444444444,
             "#bd3786"
            ],
            [
             0.5555555555555556,
             "#d8576b"
            ],
            [
             0.6666666666666666,
             "#ed7953"
            ],
            [
             0.7777777777777778,
             "#fb9f3a"
            ],
            [
             0.8888888888888888,
             "#fdca26"
            ],
            [
             1,
             "#f0f921"
            ]
           ]
          },
          "colorway": [
           "#636efa",
           "#EF553B",
           "#00cc96",
           "#ab63fa",
           "#FFA15A",
           "#19d3f3",
           "#FF6692",
           "#B6E880",
           "#FF97FF",
           "#FECB52"
          ],
          "font": {
           "color": "#2a3f5f"
          },
          "geo": {
           "bgcolor": "white",
           "lakecolor": "white",
           "landcolor": "#E5ECF6",
           "showlakes": true,
           "showland": true,
           "subunitcolor": "white"
          },
          "hoverlabel": {
           "align": "left"
          },
          "hovermode": "closest",
          "mapbox": {
           "style": "light"
          },
          "paper_bgcolor": "white",
          "plot_bgcolor": "#E5ECF6",
          "polar": {
           "angularaxis": {
            "gridcolor": "white",
            "linecolor": "white",
            "ticks": ""
           },
           "bgcolor": "#E5ECF6",
           "radialaxis": {
            "gridcolor": "white",
            "linecolor": "white",
            "ticks": ""
           }
          },
          "scene": {
           "xaxis": {
            "backgroundcolor": "#E5ECF6",
            "gridcolor": "white",
            "gridwidth": 2,
            "linecolor": "white",
            "showbackground": true,
            "ticks": "",
            "zerolinecolor": "white"
           },
           "yaxis": {
            "backgroundcolor": "#E5ECF6",
            "gridcolor": "white",
            "gridwidth": 2,
            "linecolor": "white",
            "showbackground": true,
            "ticks": "",
            "zerolinecolor": "white"
           },
           "zaxis": {
            "backgroundcolor": "#E5ECF6",
            "gridcolor": "white",
            "gridwidth": 2,
            "linecolor": "white",
            "showbackground": true,
            "ticks": "",
            "zerolinecolor": "white"
           }
          },
          "shapedefaults": {
           "line": {
            "color": "#2a3f5f"
           }
          },
          "ternary": {
           "aaxis": {
            "gridcolor": "white",
            "linecolor": "white",
            "ticks": ""
           },
           "baxis": {
            "gridcolor": "white",
            "linecolor": "white",
            "ticks": ""
           },
           "bgcolor": "#E5ECF6",
           "caxis": {
            "gridcolor": "white",
            "linecolor": "white",
            "ticks": ""
           }
          },
          "title": {
           "x": 0.05
          },
          "xaxis": {
           "automargin": true,
           "gridcolor": "white",
           "linecolor": "white",
           "ticks": "",
           "title": {
            "standoff": 15
           },
           "zerolinecolor": "white",
           "zerolinewidth": 2
          },
          "yaxis": {
           "automargin": true,
           "gridcolor": "white",
           "linecolor": "white",
           "ticks": "",
           "title": {
            "standoff": 15
           },
           "zerolinecolor": "white",
           "zerolinewidth": 2
          }
         }
        },
        "xaxis": {
         "anchor": "y",
         "domain": [
          0,
          1
         ]
        },
        "yaxis": {
         "anchor": "x",
         "domain": [
          0,
          1
         ],
         "title": {
          "text": "PF"
         }
        }
       }
      }
     },
     "metadata": {},
     "output_type": "display_data"
    },
    {
     "data": {
      "application/vnd.plotly.v1+json": {
       "config": {
        "plotlyServerURL": "https://plot.ly"
       },
       "data": [
        {
         "alignmentgroup": "True",
         "hovertemplate": "e=%{y}<extra></extra>",
         "legendgroup": "",
         "marker": {
          "color": "#636efa"
         },
         "name": "",
         "notched": false,
         "offsetgroup": "",
         "orientation": "v",
         "showlegend": false,
         "type": "box",
         "x0": " ",
         "xaxis": "x",
         "y": [
          0.34,
          0.32,
          0.3,
          0.28,
          0.26,
          0.24,
          0.22,
          0.2,
          0.18,
          0.16,
          0.14,
          0.12,
          0.1,
          0.08,
          0.06,
          0.04,
          0.02,
          0,
          0.34,
          0.32,
          0.3,
          0.28,
          0.26,
          0.24,
          0.22,
          0.2,
          0.18,
          0.16,
          0.14,
          0.12,
          0.1,
          0.08,
          0.06,
          0.04,
          0.02,
          0,
          0.34,
          0.32,
          0.3,
          0.28,
          0.26,
          0.24,
          0.22,
          0.2,
          0.18,
          0.16,
          0.14,
          0.12,
          0.1,
          0.08,
          0.06,
          0.04,
          0.02,
          0,
          0.34,
          0.32,
          0.3,
          0.28,
          0.26,
          0.24,
          0.22,
          0.2,
          0.18,
          0.16,
          0.14,
          0.12,
          0.1,
          0.08,
          0.06,
          0.04,
          0.02,
          0,
          0.34,
          0.32,
          0.3,
          0.28,
          0.26,
          0.24,
          0.22,
          0.2,
          0.18,
          0.16,
          0.14,
          0.12,
          0.1,
          0.08,
          0.06,
          0.04,
          0.02,
          0,
          0.34,
          0.32,
          0.3,
          0.28,
          0.26,
          0.24,
          0.22,
          0.2,
          0.18,
          0.16,
          0.14,
          0.12,
          0.1,
          0.08,
          0.06,
          0.04,
          0.02,
          0,
          0.34,
          0.32,
          0.08,
          0.06,
          0.04,
          0.02,
          0,
          0.08,
          0.06,
          0.08,
          0.04,
          0.02,
          0,
          0.06,
          0.04,
          0.02,
          0,
          0.14,
          0.14,
          0.12,
          0.14,
          0.12,
          0.1,
          0.12,
          0.1,
          0.1,
          0.18,
          0.18,
          0.16,
          0.18,
          0.16,
          0.16,
          0.24,
          0.24,
          0.24,
          0.22,
          0.22,
          0.22,
          0.2,
          0.2,
          0.2,
          0.28,
          0.28,
          0.28,
          0.26,
          0.26,
          0.34,
          0.26,
          0.34,
          0.34,
          0.32,
          0.32,
          0.32,
          0.3,
          0.3,
          0.3,
          0.3,
          0.28,
          0.26,
          0.24,
          0.22,
          0.2,
          0.18,
          0.16,
          0.08,
          0.06,
          0.04,
          0.02,
          0,
          0.08,
          0.04,
          0.02,
          0,
          0.06,
          0.08,
          0.14,
          0.06,
          0.12,
          0.1,
          0.04,
          0.02,
          0,
          0.14,
          0.12,
          0.1,
          0.18,
          0.14,
          0.16,
          0.12,
          0.1,
          0.24,
          0.22,
          0.2,
          0.18,
          0.16,
          0.28,
          0.26,
          0.24,
          0.34,
          0.22,
          0.32,
          0.2,
          0.3,
          0.28,
          0.26,
          0.34,
          0.34,
          0.32,
          0.32,
          0.3,
          0.08,
          0.06,
          0.04,
          0.02,
          0,
          0.08,
          0.06,
          0.04,
          0.02,
          0,
          0.14,
          0.12,
          0.14,
          0.1,
          0.12,
          0.1,
          0.18,
          0.18,
          0.16,
          0.16,
          0.24,
          0.24,
          0.22,
          0.22,
          0.2,
          0.2,
          0.28,
          0.28,
          0.26,
          0.26,
          0.34,
          0.32,
          0.3,
          0.3,
          0.34,
          0.32,
          0.3,
          0.28,
          0.26,
          0.24,
          0.22,
          0.2,
          0.18,
          0.16,
          0.14,
          0.12,
          0.1,
          0.08,
          0.06,
          0.04,
          0.02,
          0,
          0.34,
          0.32,
          0.3,
          0.28,
          0.26,
          0.24,
          0.22,
          0.2,
          0.18,
          0.16,
          0.14,
          0.12,
          0.1,
          0.08,
          0.06,
          0.04,
          0.02,
          0,
          0.34,
          0.32,
          0.3,
          0.28,
          0.26,
          0.24,
          0.22,
          0.2,
          0.18,
          0.16,
          0.13,
          0.11,
          0.09,
          0.07,
          0.05,
          0.03,
          0.01,
          0.35,
          0.33,
          0.31,
          0.29,
          0.27,
          0.25,
          0.23,
          0.21,
          0.19,
          0.17,
          0.15,
          0.13,
          0.11,
          0.09,
          0.07,
          0.05,
          0.03,
          0.01,
          0.35,
          0.33,
          0.31,
          0.29,
          0.27,
          0.25,
          0.23,
          0.21,
          0.19,
          0.17,
          0.15,
          0.13,
          0.11,
          0.09,
          0.07,
          0.05,
          0.03,
          0.01,
          0.35,
          0.33,
          0.31,
          0.29,
          0.27,
          0.25,
          0.23,
          0.21,
          0.19,
          0.17,
          0.15,
          0.13,
          0.11,
          0.09,
          0.07,
          0.05,
          0.03,
          0.01,
          0.35,
          0.33,
          0.31,
          0.29,
          0.27,
          0.25,
          0.23,
          0.21,
          0.19,
          0.17,
          0.15,
          0.13,
          0.11,
          0.09,
          0.07,
          0.05,
          0.03,
          0.01,
          0.35,
          0.33,
          0.31,
          0.29,
          0.27,
          0.25,
          0.23,
          0.21,
          0.19,
          0.17,
          0.15,
          0.13,
          0.11,
          0.09,
          0.07,
          0.05,
          0.03,
          0.01,
          0.35,
          0.33,
          0.31,
          0.29,
          0.27,
          0.25,
          0.23,
          0.21,
          0.19,
          0.17,
          0.15,
          0.13,
          0.11,
          0.09,
          0.07,
          0.05,
          0.03,
          0.01,
          0.35,
          0.33,
          0.31,
          0.29,
          0.27,
          0.25,
          0.23,
          0.21,
          0.19,
          0.17,
          0.15,
          0.13,
          0.11,
          0.09,
          0.07,
          0.05,
          0.03,
          0.01,
          0.35,
          0.33,
          0.31,
          0.29,
          0.27,
          0.25,
          0.23,
          0.21,
          0.19,
          0.17,
          0.15,
          0.13,
          0.11,
          0.09,
          0.07,
          0.05,
          0.03,
          0.01,
          0.35,
          0.33,
          0.31,
          0.29,
          0.27,
          0.25,
          0.23,
          0.21,
          0.19,
          0.17,
          0.15,
          0.13,
          0.11,
          0.09,
          0.07,
          0.05,
          0.03,
          0.01,
          0.35,
          0.33,
          0.31,
          0.29,
          0.27,
          0.25,
          0.23,
          0.21,
          0.19,
          0.17,
          0.15,
          0.13,
          0.11,
          0.09,
          0.07,
          0.05,
          0.03,
          0.01,
          0.35,
          0.33,
          0.31,
          0.29,
          0.27,
          0.25,
          0.23,
          0.21,
          0.19,
          0.17,
          0.15,
          0.13,
          0.11,
          0.09,
          0.07,
          0.05,
          0.03,
          0.01,
          0.35,
          0.33,
          0.31,
          0.29,
          0.27,
          0.25,
          0.23,
          0.21,
          0.19,
          0.17,
          0.15,
          0.13,
          0.11,
          0.09,
          0.07,
          0.05,
          0.03,
          0.01,
          0.35,
          0.33,
          0.31,
          0.29,
          0.27,
          0.25,
          0.23,
          0.21,
          0.19,
          0.17,
          0.15,
          0.13,
          0.11,
          0.09,
          0.07,
          0.05,
          0.03,
          0.01,
          0.35,
          0.33,
          0.31,
          0.29,
          0.27,
          0.25,
          0.23,
          0.21,
          0.19,
          0.17,
          0.15,
          0.13,
          0.11,
          0.09,
          0.07,
          0.05,
          0.03,
          0.01
         ],
         "y0": " ",
         "yaxis": "y"
        }
       ],
       "layout": {
        "boxmode": "group",
        "legend": {
         "tracegroupgap": 0
        },
        "margin": {
         "t": 60
        },
        "template": {
         "data": {
          "bar": [
           {
            "error_x": {
             "color": "#2a3f5f"
            },
            "error_y": {
             "color": "#2a3f5f"
            },
            "marker": {
             "line": {
              "color": "#E5ECF6",
              "width": 0.5
             },
             "pattern": {
              "fillmode": "overlay",
              "size": 10,
              "solidity": 0.2
             }
            },
            "type": "bar"
           }
          ],
          "barpolar": [
           {
            "marker": {
             "line": {
              "color": "#E5ECF6",
              "width": 0.5
             },
             "pattern": {
              "fillmode": "overlay",
              "size": 10,
              "solidity": 0.2
             }
            },
            "type": "barpolar"
           }
          ],
          "carpet": [
           {
            "aaxis": {
             "endlinecolor": "#2a3f5f",
             "gridcolor": "white",
             "linecolor": "white",
             "minorgridcolor": "white",
             "startlinecolor": "#2a3f5f"
            },
            "baxis": {
             "endlinecolor": "#2a3f5f",
             "gridcolor": "white",
             "linecolor": "white",
             "minorgridcolor": "white",
             "startlinecolor": "#2a3f5f"
            },
            "type": "carpet"
           }
          ],
          "choropleth": [
           {
            "colorbar": {
             "outlinewidth": 0,
             "ticks": ""
            },
            "type": "choropleth"
           }
          ],
          "contour": [
           {
            "colorbar": {
             "outlinewidth": 0,
             "ticks": ""
            },
            "colorscale": [
             [
              0,
              "#0d0887"
             ],
             [
              0.1111111111111111,
              "#46039f"
             ],
             [
              0.2222222222222222,
              "#7201a8"
             ],
             [
              0.3333333333333333,
              "#9c179e"
             ],
             [
              0.4444444444444444,
              "#bd3786"
             ],
             [
              0.5555555555555556,
              "#d8576b"
             ],
             [
              0.6666666666666666,
              "#ed7953"
             ],
             [
              0.7777777777777778,
              "#fb9f3a"
             ],
             [
              0.8888888888888888,
              "#fdca26"
             ],
             [
              1,
              "#f0f921"
             ]
            ],
            "type": "contour"
           }
          ],
          "contourcarpet": [
           {
            "colorbar": {
             "outlinewidth": 0,
             "ticks": ""
            },
            "type": "contourcarpet"
           }
          ],
          "heatmap": [
           {
            "colorbar": {
             "outlinewidth": 0,
             "ticks": ""
            },
            "colorscale": [
             [
              0,
              "#0d0887"
             ],
             [
              0.1111111111111111,
              "#46039f"
             ],
             [
              0.2222222222222222,
              "#7201a8"
             ],
             [
              0.3333333333333333,
              "#9c179e"
             ],
             [
              0.4444444444444444,
              "#bd3786"
             ],
             [
              0.5555555555555556,
              "#d8576b"
             ],
             [
              0.6666666666666666,
              "#ed7953"
             ],
             [
              0.7777777777777778,
              "#fb9f3a"
             ],
             [
              0.8888888888888888,
              "#fdca26"
             ],
             [
              1,
              "#f0f921"
             ]
            ],
            "type": "heatmap"
           }
          ],
          "heatmapgl": [
           {
            "colorbar": {
             "outlinewidth": 0,
             "ticks": ""
            },
            "colorscale": [
             [
              0,
              "#0d0887"
             ],
             [
              0.1111111111111111,
              "#46039f"
             ],
             [
              0.2222222222222222,
              "#7201a8"
             ],
             [
              0.3333333333333333,
              "#9c179e"
             ],
             [
              0.4444444444444444,
              "#bd3786"
             ],
             [
              0.5555555555555556,
              "#d8576b"
             ],
             [
              0.6666666666666666,
              "#ed7953"
             ],
             [
              0.7777777777777778,
              "#fb9f3a"
             ],
             [
              0.8888888888888888,
              "#fdca26"
             ],
             [
              1,
              "#f0f921"
             ]
            ],
            "type": "heatmapgl"
           }
          ],
          "histogram": [
           {
            "marker": {
             "pattern": {
              "fillmode": "overlay",
              "size": 10,
              "solidity": 0.2
             }
            },
            "type": "histogram"
           }
          ],
          "histogram2d": [
           {
            "colorbar": {
             "outlinewidth": 0,
             "ticks": ""
            },
            "colorscale": [
             [
              0,
              "#0d0887"
             ],
             [
              0.1111111111111111,
              "#46039f"
             ],
             [
              0.2222222222222222,
              "#7201a8"
             ],
             [
              0.3333333333333333,
              "#9c179e"
             ],
             [
              0.4444444444444444,
              "#bd3786"
             ],
             [
              0.5555555555555556,
              "#d8576b"
             ],
             [
              0.6666666666666666,
              "#ed7953"
             ],
             [
              0.7777777777777778,
              "#fb9f3a"
             ],
             [
              0.8888888888888888,
              "#fdca26"
             ],
             [
              1,
              "#f0f921"
             ]
            ],
            "type": "histogram2d"
           }
          ],
          "histogram2dcontour": [
           {
            "colorbar": {
             "outlinewidth": 0,
             "ticks": ""
            },
            "colorscale": [
             [
              0,
              "#0d0887"
             ],
             [
              0.1111111111111111,
              "#46039f"
             ],
             [
              0.2222222222222222,
              "#7201a8"
             ],
             [
              0.3333333333333333,
              "#9c179e"
             ],
             [
              0.4444444444444444,
              "#bd3786"
             ],
             [
              0.5555555555555556,
              "#d8576b"
             ],
             [
              0.6666666666666666,
              "#ed7953"
             ],
             [
              0.7777777777777778,
              "#fb9f3a"
             ],
             [
              0.8888888888888888,
              "#fdca26"
             ],
             [
              1,
              "#f0f921"
             ]
            ],
            "type": "histogram2dcontour"
           }
          ],
          "mesh3d": [
           {
            "colorbar": {
             "outlinewidth": 0,
             "ticks": ""
            },
            "type": "mesh3d"
           }
          ],
          "parcoords": [
           {
            "line": {
             "colorbar": {
              "outlinewidth": 0,
              "ticks": ""
             }
            },
            "type": "parcoords"
           }
          ],
          "pie": [
           {
            "automargin": true,
            "type": "pie"
           }
          ],
          "scatter": [
           {
            "fillpattern": {
             "fillmode": "overlay",
             "size": 10,
             "solidity": 0.2
            },
            "type": "scatter"
           }
          ],
          "scatter3d": [
           {
            "line": {
             "colorbar": {
              "outlinewidth": 0,
              "ticks": ""
             }
            },
            "marker": {
             "colorbar": {
              "outlinewidth": 0,
              "ticks": ""
             }
            },
            "type": "scatter3d"
           }
          ],
          "scattercarpet": [
           {
            "marker": {
             "colorbar": {
              "outlinewidth": 0,
              "ticks": ""
             }
            },
            "type": "scattercarpet"
           }
          ],
          "scattergeo": [
           {
            "marker": {
             "colorbar": {
              "outlinewidth": 0,
              "ticks": ""
             }
            },
            "type": "scattergeo"
           }
          ],
          "scattergl": [
           {
            "marker": {
             "colorbar": {
              "outlinewidth": 0,
              "ticks": ""
             }
            },
            "type": "scattergl"
           }
          ],
          "scattermapbox": [
           {
            "marker": {
             "colorbar": {
              "outlinewidth": 0,
              "ticks": ""
             }
            },
            "type": "scattermapbox"
           }
          ],
          "scatterpolar": [
           {
            "marker": {
             "colorbar": {
              "outlinewidth": 0,
              "ticks": ""
             }
            },
            "type": "scatterpolar"
           }
          ],
          "scatterpolargl": [
           {
            "marker": {
             "colorbar": {
              "outlinewidth": 0,
              "ticks": ""
             }
            },
            "type": "scatterpolargl"
           }
          ],
          "scatterternary": [
           {
            "marker": {
             "colorbar": {
              "outlinewidth": 0,
              "ticks": ""
             }
            },
            "type": "scatterternary"
           }
          ],
          "surface": [
           {
            "colorbar": {
             "outlinewidth": 0,
             "ticks": ""
            },
            "colorscale": [
             [
              0,
              "#0d0887"
             ],
             [
              0.1111111111111111,
              "#46039f"
             ],
             [
              0.2222222222222222,
              "#7201a8"
             ],
             [
              0.3333333333333333,
              "#9c179e"
             ],
             [
              0.4444444444444444,
              "#bd3786"
             ],
             [
              0.5555555555555556,
              "#d8576b"
             ],
             [
              0.6666666666666666,
              "#ed7953"
             ],
             [
              0.7777777777777778,
              "#fb9f3a"
             ],
             [
              0.8888888888888888,
              "#fdca26"
             ],
             [
              1,
              "#f0f921"
             ]
            ],
            "type": "surface"
           }
          ],
          "table": [
           {
            "cells": {
             "fill": {
              "color": "#EBF0F8"
             },
             "line": {
              "color": "white"
             }
            },
            "header": {
             "fill": {
              "color": "#C8D4E3"
             },
             "line": {
              "color": "white"
             }
            },
            "type": "table"
           }
          ]
         },
         "layout": {
          "annotationdefaults": {
           "arrowcolor": "#2a3f5f",
           "arrowhead": 0,
           "arrowwidth": 1
          },
          "autotypenumbers": "strict",
          "coloraxis": {
           "colorbar": {
            "outlinewidth": 0,
            "ticks": ""
           }
          },
          "colorscale": {
           "diverging": [
            [
             0,
             "#8e0152"
            ],
            [
             0.1,
             "#c51b7d"
            ],
            [
             0.2,
             "#de77ae"
            ],
            [
             0.3,
             "#f1b6da"
            ],
            [
             0.4,
             "#fde0ef"
            ],
            [
             0.5,
             "#f7f7f7"
            ],
            [
             0.6,
             "#e6f5d0"
            ],
            [
             0.7,
             "#b8e186"
            ],
            [
             0.8,
             "#7fbc41"
            ],
            [
             0.9,
             "#4d9221"
            ],
            [
             1,
             "#276419"
            ]
           ],
           "sequential": [
            [
             0,
             "#0d0887"
            ],
            [
             0.1111111111111111,
             "#46039f"
            ],
            [
             0.2222222222222222,
             "#7201a8"
            ],
            [
             0.3333333333333333,
             "#9c179e"
            ],
            [
             0.4444444444444444,
             "#bd3786"
            ],
            [
             0.5555555555555556,
             "#d8576b"
            ],
            [
             0.6666666666666666,
             "#ed7953"
            ],
            [
             0.7777777777777778,
             "#fb9f3a"
            ],
            [
             0.8888888888888888,
             "#fdca26"
            ],
            [
             1,
             "#f0f921"
            ]
           ],
           "sequentialminus": [
            [
             0,
             "#0d0887"
            ],
            [
             0.1111111111111111,
             "#46039f"
            ],
            [
             0.2222222222222222,
             "#7201a8"
            ],
            [
             0.3333333333333333,
             "#9c179e"
            ],
            [
             0.4444444444444444,
             "#bd3786"
            ],
            [
             0.5555555555555556,
             "#d8576b"
            ],
            [
             0.6666666666666666,
             "#ed7953"
            ],
            [
             0.7777777777777778,
             "#fb9f3a"
            ],
            [
             0.8888888888888888,
             "#fdca26"
            ],
            [
             1,
             "#f0f921"
            ]
           ]
          },
          "colorway": [
           "#636efa",
           "#EF553B",
           "#00cc96",
           "#ab63fa",
           "#FFA15A",
           "#19d3f3",
           "#FF6692",
           "#B6E880",
           "#FF97FF",
           "#FECB52"
          ],
          "font": {
           "color": "#2a3f5f"
          },
          "geo": {
           "bgcolor": "white",
           "lakecolor": "white",
           "landcolor": "#E5ECF6",
           "showlakes": true,
           "showland": true,
           "subunitcolor": "white"
          },
          "hoverlabel": {
           "align": "left"
          },
          "hovermode": "closest",
          "mapbox": {
           "style": "light"
          },
          "paper_bgcolor": "white",
          "plot_bgcolor": "#E5ECF6",
          "polar": {
           "angularaxis": {
            "gridcolor": "white",
            "linecolor": "white",
            "ticks": ""
           },
           "bgcolor": "#E5ECF6",
           "radialaxis": {
            "gridcolor": "white",
            "linecolor": "white",
            "ticks": ""
           }
          },
          "scene": {
           "xaxis": {
            "backgroundcolor": "#E5ECF6",
            "gridcolor": "white",
            "gridwidth": 2,
            "linecolor": "white",
            "showbackground": true,
            "ticks": "",
            "zerolinecolor": "white"
           },
           "yaxis": {
            "backgroundcolor": "#E5ECF6",
            "gridcolor": "white",
            "gridwidth": 2,
            "linecolor": "white",
            "showbackground": true,
            "ticks": "",
            "zerolinecolor": "white"
           },
           "zaxis": {
            "backgroundcolor": "#E5ECF6",
            "gridcolor": "white",
            "gridwidth": 2,
            "linecolor": "white",
            "showbackground": true,
            "ticks": "",
            "zerolinecolor": "white"
           }
          },
          "shapedefaults": {
           "line": {
            "color": "#2a3f5f"
           }
          },
          "ternary": {
           "aaxis": {
            "gridcolor": "white",
            "linecolor": "white",
            "ticks": ""
           },
           "baxis": {
            "gridcolor": "white",
            "linecolor": "white",
            "ticks": ""
           },
           "bgcolor": "#E5ECF6",
           "caxis": {
            "gridcolor": "white",
            "linecolor": "white",
            "ticks": ""
           }
          },
          "title": {
           "x": 0.05
          },
          "xaxis": {
           "automargin": true,
           "gridcolor": "white",
           "linecolor": "white",
           "ticks": "",
           "title": {
            "standoff": 15
           },
           "zerolinecolor": "white",
           "zerolinewidth": 2
          },
          "yaxis": {
           "automargin": true,
           "gridcolor": "white",
           "linecolor": "white",
           "ticks": "",
           "title": {
            "standoff": 15
           },
           "zerolinecolor": "white",
           "zerolinewidth": 2
          }
         }
        },
        "xaxis": {
         "anchor": "y",
         "domain": [
          0,
          1
         ]
        },
        "yaxis": {
         "anchor": "x",
         "domain": [
          0,
          1
         ],
         "title": {
          "text": "e"
         }
        }
       }
      }
     },
     "metadata": {},
     "output_type": "display_data"
    },
    {
     "data": {
      "application/vnd.plotly.v1+json": {
       "config": {
        "plotlyServerURL": "https://plot.ly"
       },
       "data": [
        {
         "alignmentgroup": "True",
         "hovertemplate": "dIf=%{y}<extra></extra>",
         "legendgroup": "",
         "marker": {
          "color": "#636efa"
         },
         "name": "",
         "notched": false,
         "offsetgroup": "",
         "orientation": "v",
         "showlegend": false,
         "type": "box",
         "x0": " ",
         "xaxis": "x",
         "y": [
          0.383,
          0.372,
          0.36,
          0.338,
          0.317,
          0.301,
          0.29,
          0.28,
          0.25,
          0.221,
          0.192,
          0.165,
          0.138,
          0.098,
          0.057,
          0.037,
          0.037,
          0.037,
          0.397,
          0.414,
          0.442,
          0.369,
          0.385,
          0.31,
          0.325,
          0.349,
          0.27,
          0.277,
          0.193,
          0.2,
          0.216,
          0.118,
          0.124,
          0.139,
          0.139,
          0.139,
          0.393,
          0.409,
          0.436,
          0.361,
          0.377,
          0.306,
          0.318,
          0.338,
          0.258,
          0.266,
          0.183,
          0.189,
          0.202,
          0.102,
          0.11,
          0.118,
          0.118,
          0.118,
          0.389,
          0.405,
          0.43,
          0.355,
          0.369,
          0.303,
          0.312,
          0.328,
          0.25,
          0.255,
          0.174,
          0.181,
          0.188,
          0.091,
          0.095,
          0.098,
          0.098,
          0.098,
          0.385,
          0.402,
          0.424,
          0.345,
          0.361,
          0.299,
          0.306,
          0.317,
          0.238,
          0.245,
          0.164,
          0.17,
          0.174,
          0.074,
          0.08,
          0.077,
          0.077,
          0.077,
          0.372,
          0.395,
          0.418,
          0.328,
          0.349,
          0.285,
          0.296,
          0.306,
          0.216,
          0.225,
          0.142,
          0.151,
          0.16,
          0.045,
          0.052,
          0.056,
          0.056,
          0.056,
          0.457,
          0.476,
          0.112,
          0.116,
          0.119,
          0.119,
          0.119,
          0.123,
          0.131,
          0.14,
          0.14,
          0.14,
          0.14,
          0.146,
          0.162,
          0.162,
          0.162,
          0.2,
          0.21,
          0.21,
          0.22,
          0.221,
          0.222,
          0.235,
          0.241,
          0.261,
          0.287,
          0.295,
          0.299,
          0.307,
          0.311,
          0.322,
          0.345,
          0.353,
          0.361,
          0.361,
          0.367,
          0.377,
          0.383,
          0.395,
          0.406,
          0.412,
          0.419,
          0.427,
          0.427,
          0.436,
          0.444,
          0.445,
          0.449,
          0.453,
          0.462,
          0.466,
          0.47,
          0.486,
          0.492,
          0.499,
          0.505,
          0.402,
          0.418,
          0.337,
          0.353,
          0.372,
          0.274,
          0.288,
          0.064,
          0.072,
          0.076,
          0.076,
          0.076,
          0.095,
          0.097,
          0.097,
          0.097,
          0.1,
          0.162,
          0.165,
          0.168,
          0.174,
          0.183,
          0.184,
          0.184,
          0.184,
          0.19,
          0.197,
          0.202,
          0.25,
          0.263,
          0.27,
          0.278,
          0.308,
          0.317,
          0.338,
          0.36,
          0.361,
          0.378,
          0.383,
          0.406,
          0.418,
          0.43,
          0.436,
          0.455,
          0.467,
          0.479,
          0.489,
          0.508,
          0.517,
          0.522,
          0.534,
          0.541,
          0.572,
          0.133,
          0.137,
          0.14,
          0.14,
          0.14,
          0.145,
          0.153,
          0.162,
          0.162,
          0.162,
          0.235,
          0.246,
          0.249,
          0.257,
          0.26,
          0.282,
          0.34,
          0.349,
          0.354,
          0.366,
          0.402,
          0.41,
          0.419,
          0.425,
          0.442,
          0.455,
          0.473,
          0.48,
          0.489,
          0.499,
          0.512,
          0.531,
          0.559,
          0.565,
          0.507,
          0.526,
          0.552,
          0.462,
          0.48,
          0.394,
          0.41,
          0.43,
          0.326,
          0.341,
          0.222,
          0.228,
          0.231,
          0.116,
          0.121,
          0.118,
          0.118,
          0.118,
          0.492,
          0.519,
          0.545,
          0.442,
          0.467,
          0.372,
          0.395,
          0.418,
          0.301,
          0.322,
          0.188,
          0.197,
          0.206,
          0.084,
          0.092,
          0.096,
          0.096,
          0.096,
          0.59,
          0.61,
          0.644,
          0.556,
          0.576,
          0.475,
          0.494,
          0.526,
          0.406,
          0.415,
          0.308,
          0.316,
          0.181,
          0.188,
          0.207,
          0.207,
          0.207,
          0.608,
          0.595,
          0.615,
          0.536,
          0.554,
          0.587,
          0.473,
          0.49,
          0.39,
          0.396,
          0.413,
          0.288,
          0.297,
          0.165,
          0.17,
          0.185,
          0.185,
          0.185,
          0.622,
          0.592,
          0.61,
          0.527,
          0.546,
          0.573,
          0.466,
          0.476,
          0.378,
          0.386,
          0.395,
          0.274,
          0.278,
          0.15,
          0.157,
          0.162,
          0.162,
          0.162,
          0.637,
          0.585,
          0.605,
          0.517,
          0.536,
          0.559,
          0.453,
          0.462,
          0.365,
          0.373,
          0.378,
          0.253,
          0.26,
          0.134,
          0.14,
          0.14,
          0.14,
          0.14,
          0.651,
          0.573,
          0.601,
          0.492,
          0.519,
          0.545,
          0.43,
          0.442,
          0.338,
          0.349,
          0.36,
          0.216,
          0.225,
          0.1,
          0.109,
          0.117,
          0.117,
          0.117,
          0.666,
          0.668,
          0.69,
          0.605,
          0.615,
          0.637,
          0.536,
          0.546,
          0.436,
          0.454,
          0.487,
          0.338,
          0.347,
          0.208,
          0.222,
          0.252,
          0.252,
          0.252,
          0.682,
          0.66,
          0.679,
          0.595,
          0.603,
          0.622,
          0.524,
          0.536,
          0.424,
          0.437,
          0.463,
          0.32,
          0.331,
          0.192,
          0.201,
          0.223,
          0.223,
          0.223,
          0.697,
          0.656,
          0.668,
          0.585,
          0.595,
          0.608,
          0.513,
          0.527,
          0.411,
          0.423,
          0.438,
          0.305,
          0.315,
          0.176,
          0.185,
          0.195,
          0.195,
          0.195,
          0.713,
          0.647,
          0.657,
          0.575,
          0.585,
          0.593,
          0.499,
          0.517,
          0.398,
          0.407,
          0.414,
          0.286,
          0.3,
          0.159,
          0.165,
          0.166,
          0.166,
          0.166,
          0.728,
          0.629,
          0.644,
          0.552,
          0.565,
          0.579,
          0.474,
          0.499,
          0.366,
          0.377,
          0.389,
          0.25,
          0.27,
          0.121,
          0.13,
          0.138,
          0.138,
          0.138,
          0.736,
          0.729,
          0.74,
          0.652,
          0.674,
          0.713,
          0.585,
          0.606,
          0.49,
          0.499,
          0.526,
          0.378,
          0.395,
          0.246,
          0.254,
          0.277,
          0.277,
          0.277,
          0.744,
          0.72,
          0.735,
          0.641,
          0.661,
          0.697,
          0.573,
          0.591,
          0.472,
          0.481,
          0.506,
          0.359,
          0.375,
          0.226,
          0.23,
          0.248,
          0.248,
          0.248,
          0.753,
          0.711,
          0.729,
          0.631,
          0.652,
          0.682,
          0.565,
          0.575,
          0.455,
          0.471,
          0.487,
          0.347,
          0.355,
          0.206,
          0.214,
          0.218,
          0.218,
          0.218,
          0.761,
          0.701,
          0.723,
          0.621,
          0.641,
          0.666,
          0.551,
          0.56,
          0.437,
          0.454,
          0.467,
          0.327,
          0.334,
          0.185,
          0.192,
          0.189,
          0.189,
          0.189,
          0.769,
          0.682,
          0.713,
          0.593,
          0.622,
          0.651,
          0.525,
          0.538,
          0.401,
          0.424,
          0.448,
          0.29,
          0.301,
          0.142,
          0.151,
          0.16,
          0.16,
          0.16
         ],
         "y0": " ",
         "yaxis": "y"
        }
       ],
       "layout": {
        "boxmode": "group",
        "legend": {
         "tracegroupgap": 0
        },
        "margin": {
         "t": 60
        },
        "template": {
         "data": {
          "bar": [
           {
            "error_x": {
             "color": "#2a3f5f"
            },
            "error_y": {
             "color": "#2a3f5f"
            },
            "marker": {
             "line": {
              "color": "#E5ECF6",
              "width": 0.5
             },
             "pattern": {
              "fillmode": "overlay",
              "size": 10,
              "solidity": 0.2
             }
            },
            "type": "bar"
           }
          ],
          "barpolar": [
           {
            "marker": {
             "line": {
              "color": "#E5ECF6",
              "width": 0.5
             },
             "pattern": {
              "fillmode": "overlay",
              "size": 10,
              "solidity": 0.2
             }
            },
            "type": "barpolar"
           }
          ],
          "carpet": [
           {
            "aaxis": {
             "endlinecolor": "#2a3f5f",
             "gridcolor": "white",
             "linecolor": "white",
             "minorgridcolor": "white",
             "startlinecolor": "#2a3f5f"
            },
            "baxis": {
             "endlinecolor": "#2a3f5f",
             "gridcolor": "white",
             "linecolor": "white",
             "minorgridcolor": "white",
             "startlinecolor": "#2a3f5f"
            },
            "type": "carpet"
           }
          ],
          "choropleth": [
           {
            "colorbar": {
             "outlinewidth": 0,
             "ticks": ""
            },
            "type": "choropleth"
           }
          ],
          "contour": [
           {
            "colorbar": {
             "outlinewidth": 0,
             "ticks": ""
            },
            "colorscale": [
             [
              0,
              "#0d0887"
             ],
             [
              0.1111111111111111,
              "#46039f"
             ],
             [
              0.2222222222222222,
              "#7201a8"
             ],
             [
              0.3333333333333333,
              "#9c179e"
             ],
             [
              0.4444444444444444,
              "#bd3786"
             ],
             [
              0.5555555555555556,
              "#d8576b"
             ],
             [
              0.6666666666666666,
              "#ed7953"
             ],
             [
              0.7777777777777778,
              "#fb9f3a"
             ],
             [
              0.8888888888888888,
              "#fdca26"
             ],
             [
              1,
              "#f0f921"
             ]
            ],
            "type": "contour"
           }
          ],
          "contourcarpet": [
           {
            "colorbar": {
             "outlinewidth": 0,
             "ticks": ""
            },
            "type": "contourcarpet"
           }
          ],
          "heatmap": [
           {
            "colorbar": {
             "outlinewidth": 0,
             "ticks": ""
            },
            "colorscale": [
             [
              0,
              "#0d0887"
             ],
             [
              0.1111111111111111,
              "#46039f"
             ],
             [
              0.2222222222222222,
              "#7201a8"
             ],
             [
              0.3333333333333333,
              "#9c179e"
             ],
             [
              0.4444444444444444,
              "#bd3786"
             ],
             [
              0.5555555555555556,
              "#d8576b"
             ],
             [
              0.6666666666666666,
              "#ed7953"
             ],
             [
              0.7777777777777778,
              "#fb9f3a"
             ],
             [
              0.8888888888888888,
              "#fdca26"
             ],
             [
              1,
              "#f0f921"
             ]
            ],
            "type": "heatmap"
           }
          ],
          "heatmapgl": [
           {
            "colorbar": {
             "outlinewidth": 0,
             "ticks": ""
            },
            "colorscale": [
             [
              0,
              "#0d0887"
             ],
             [
              0.1111111111111111,
              "#46039f"
             ],
             [
              0.2222222222222222,
              "#7201a8"
             ],
             [
              0.3333333333333333,
              "#9c179e"
             ],
             [
              0.4444444444444444,
              "#bd3786"
             ],
             [
              0.5555555555555556,
              "#d8576b"
             ],
             [
              0.6666666666666666,
              "#ed7953"
             ],
             [
              0.7777777777777778,
              "#fb9f3a"
             ],
             [
              0.8888888888888888,
              "#fdca26"
             ],
             [
              1,
              "#f0f921"
             ]
            ],
            "type": "heatmapgl"
           }
          ],
          "histogram": [
           {
            "marker": {
             "pattern": {
              "fillmode": "overlay",
              "size": 10,
              "solidity": 0.2
             }
            },
            "type": "histogram"
           }
          ],
          "histogram2d": [
           {
            "colorbar": {
             "outlinewidth": 0,
             "ticks": ""
            },
            "colorscale": [
             [
              0,
              "#0d0887"
             ],
             [
              0.1111111111111111,
              "#46039f"
             ],
             [
              0.2222222222222222,
              "#7201a8"
             ],
             [
              0.3333333333333333,
              "#9c179e"
             ],
             [
              0.4444444444444444,
              "#bd3786"
             ],
             [
              0.5555555555555556,
              "#d8576b"
             ],
             [
              0.6666666666666666,
              "#ed7953"
             ],
             [
              0.7777777777777778,
              "#fb9f3a"
             ],
             [
              0.8888888888888888,
              "#fdca26"
             ],
             [
              1,
              "#f0f921"
             ]
            ],
            "type": "histogram2d"
           }
          ],
          "histogram2dcontour": [
           {
            "colorbar": {
             "outlinewidth": 0,
             "ticks": ""
            },
            "colorscale": [
             [
              0,
              "#0d0887"
             ],
             [
              0.1111111111111111,
              "#46039f"
             ],
             [
              0.2222222222222222,
              "#7201a8"
             ],
             [
              0.3333333333333333,
              "#9c179e"
             ],
             [
              0.4444444444444444,
              "#bd3786"
             ],
             [
              0.5555555555555556,
              "#d8576b"
             ],
             [
              0.6666666666666666,
              "#ed7953"
             ],
             [
              0.7777777777777778,
              "#fb9f3a"
             ],
             [
              0.8888888888888888,
              "#fdca26"
             ],
             [
              1,
              "#f0f921"
             ]
            ],
            "type": "histogram2dcontour"
           }
          ],
          "mesh3d": [
           {
            "colorbar": {
             "outlinewidth": 0,
             "ticks": ""
            },
            "type": "mesh3d"
           }
          ],
          "parcoords": [
           {
            "line": {
             "colorbar": {
              "outlinewidth": 0,
              "ticks": ""
             }
            },
            "type": "parcoords"
           }
          ],
          "pie": [
           {
            "automargin": true,
            "type": "pie"
           }
          ],
          "scatter": [
           {
            "fillpattern": {
             "fillmode": "overlay",
             "size": 10,
             "solidity": 0.2
            },
            "type": "scatter"
           }
          ],
          "scatter3d": [
           {
            "line": {
             "colorbar": {
              "outlinewidth": 0,
              "ticks": ""
             }
            },
            "marker": {
             "colorbar": {
              "outlinewidth": 0,
              "ticks": ""
             }
            },
            "type": "scatter3d"
           }
          ],
          "scattercarpet": [
           {
            "marker": {
             "colorbar": {
              "outlinewidth": 0,
              "ticks": ""
             }
            },
            "type": "scattercarpet"
           }
          ],
          "scattergeo": [
           {
            "marker": {
             "colorbar": {
              "outlinewidth": 0,
              "ticks": ""
             }
            },
            "type": "scattergeo"
           }
          ],
          "scattergl": [
           {
            "marker": {
             "colorbar": {
              "outlinewidth": 0,
              "ticks": ""
             }
            },
            "type": "scattergl"
           }
          ],
          "scattermapbox": [
           {
            "marker": {
             "colorbar": {
              "outlinewidth": 0,
              "ticks": ""
             }
            },
            "type": "scattermapbox"
           }
          ],
          "scatterpolar": [
           {
            "marker": {
             "colorbar": {
              "outlinewidth": 0,
              "ticks": ""
             }
            },
            "type": "scatterpolar"
           }
          ],
          "scatterpolargl": [
           {
            "marker": {
             "colorbar": {
              "outlinewidth": 0,
              "ticks": ""
             }
            },
            "type": "scatterpolargl"
           }
          ],
          "scatterternary": [
           {
            "marker": {
             "colorbar": {
              "outlinewidth": 0,
              "ticks": ""
             }
            },
            "type": "scatterternary"
           }
          ],
          "surface": [
           {
            "colorbar": {
             "outlinewidth": 0,
             "ticks": ""
            },
            "colorscale": [
             [
              0,
              "#0d0887"
             ],
             [
              0.1111111111111111,
              "#46039f"
             ],
             [
              0.2222222222222222,
              "#7201a8"
             ],
             [
              0.3333333333333333,
              "#9c179e"
             ],
             [
              0.4444444444444444,
              "#bd3786"
             ],
             [
              0.5555555555555556,
              "#d8576b"
             ],
             [
              0.6666666666666666,
              "#ed7953"
             ],
             [
              0.7777777777777778,
              "#fb9f3a"
             ],
             [
              0.8888888888888888,
              "#fdca26"
             ],
             [
              1,
              "#f0f921"
             ]
            ],
            "type": "surface"
           }
          ],
          "table": [
           {
            "cells": {
             "fill": {
              "color": "#EBF0F8"
             },
             "line": {
              "color": "white"
             }
            },
            "header": {
             "fill": {
              "color": "#C8D4E3"
             },
             "line": {
              "color": "white"
             }
            },
            "type": "table"
           }
          ]
         },
         "layout": {
          "annotationdefaults": {
           "arrowcolor": "#2a3f5f",
           "arrowhead": 0,
           "arrowwidth": 1
          },
          "autotypenumbers": "strict",
          "coloraxis": {
           "colorbar": {
            "outlinewidth": 0,
            "ticks": ""
           }
          },
          "colorscale": {
           "diverging": [
            [
             0,
             "#8e0152"
            ],
            [
             0.1,
             "#c51b7d"
            ],
            [
             0.2,
             "#de77ae"
            ],
            [
             0.3,
             "#f1b6da"
            ],
            [
             0.4,
             "#fde0ef"
            ],
            [
             0.5,
             "#f7f7f7"
            ],
            [
             0.6,
             "#e6f5d0"
            ],
            [
             0.7,
             "#b8e186"
            ],
            [
             0.8,
             "#7fbc41"
            ],
            [
             0.9,
             "#4d9221"
            ],
            [
             1,
             "#276419"
            ]
           ],
           "sequential": [
            [
             0,
             "#0d0887"
            ],
            [
             0.1111111111111111,
             "#46039f"
            ],
            [
             0.2222222222222222,
             "#7201a8"
            ],
            [
             0.3333333333333333,
             "#9c179e"
            ],
            [
             0.4444444444444444,
             "#bd3786"
            ],
            [
             0.5555555555555556,
             "#d8576b"
            ],
            [
             0.6666666666666666,
             "#ed7953"
            ],
            [
             0.7777777777777778,
             "#fb9f3a"
            ],
            [
             0.8888888888888888,
             "#fdca26"
            ],
            [
             1,
             "#f0f921"
            ]
           ],
           "sequentialminus": [
            [
             0,
             "#0d0887"
            ],
            [
             0.1111111111111111,
             "#46039f"
            ],
            [
             0.2222222222222222,
             "#7201a8"
            ],
            [
             0.3333333333333333,
             "#9c179e"
            ],
            [
             0.4444444444444444,
             "#bd3786"
            ],
            [
             0.5555555555555556,
             "#d8576b"
            ],
            [
             0.6666666666666666,
             "#ed7953"
            ],
            [
             0.7777777777777778,
             "#fb9f3a"
            ],
            [
             0.8888888888888888,
             "#fdca26"
            ],
            [
             1,
             "#f0f921"
            ]
           ]
          },
          "colorway": [
           "#636efa",
           "#EF553B",
           "#00cc96",
           "#ab63fa",
           "#FFA15A",
           "#19d3f3",
           "#FF6692",
           "#B6E880",
           "#FF97FF",
           "#FECB52"
          ],
          "font": {
           "color": "#2a3f5f"
          },
          "geo": {
           "bgcolor": "white",
           "lakecolor": "white",
           "landcolor": "#E5ECF6",
           "showlakes": true,
           "showland": true,
           "subunitcolor": "white"
          },
          "hoverlabel": {
           "align": "left"
          },
          "hovermode": "closest",
          "mapbox": {
           "style": "light"
          },
          "paper_bgcolor": "white",
          "plot_bgcolor": "#E5ECF6",
          "polar": {
           "angularaxis": {
            "gridcolor": "white",
            "linecolor": "white",
            "ticks": ""
           },
           "bgcolor": "#E5ECF6",
           "radialaxis": {
            "gridcolor": "white",
            "linecolor": "white",
            "ticks": ""
           }
          },
          "scene": {
           "xaxis": {
            "backgroundcolor": "#E5ECF6",
            "gridcolor": "white",
            "gridwidth": 2,
            "linecolor": "white",
            "showbackground": true,
            "ticks": "",
            "zerolinecolor": "white"
           },
           "yaxis": {
            "backgroundcolor": "#E5ECF6",
            "gridcolor": "white",
            "gridwidth": 2,
            "linecolor": "white",
            "showbackground": true,
            "ticks": "",
            "zerolinecolor": "white"
           },
           "zaxis": {
            "backgroundcolor": "#E5ECF6",
            "gridcolor": "white",
            "gridwidth": 2,
            "linecolor": "white",
            "showbackground": true,
            "ticks": "",
            "zerolinecolor": "white"
           }
          },
          "shapedefaults": {
           "line": {
            "color": "#2a3f5f"
           }
          },
          "ternary": {
           "aaxis": {
            "gridcolor": "white",
            "linecolor": "white",
            "ticks": ""
           },
           "baxis": {
            "gridcolor": "white",
            "linecolor": "white",
            "ticks": ""
           },
           "bgcolor": "#E5ECF6",
           "caxis": {
            "gridcolor": "white",
            "linecolor": "white",
            "ticks": ""
           }
          },
          "title": {
           "x": 0.05
          },
          "xaxis": {
           "automargin": true,
           "gridcolor": "white",
           "linecolor": "white",
           "ticks": "",
           "title": {
            "standoff": 15
           },
           "zerolinecolor": "white",
           "zerolinewidth": 2
          },
          "yaxis": {
           "automargin": true,
           "gridcolor": "white",
           "linecolor": "white",
           "ticks": "",
           "title": {
            "standoff": 15
           },
           "zerolinecolor": "white",
           "zerolinewidth": 2
          }
         }
        },
        "xaxis": {
         "anchor": "y",
         "domain": [
          0,
          1
         ]
        },
        "yaxis": {
         "anchor": "x",
         "domain": [
          0,
          1
         ],
         "title": {
          "text": "dIf"
         }
        }
       }
      }
     },
     "metadata": {},
     "output_type": "display_data"
    },
    {
     "data": {
      "application/vnd.plotly.v1+json": {
       "config": {
        "plotlyServerURL": "https://plot.ly"
       },
       "data": [
        {
         "alignmentgroup": "True",
         "hovertemplate": "If=%{y}<extra></extra>",
         "legendgroup": "",
         "marker": {
          "color": "#636efa"
         },
         "name": "",
         "notched": false,
         "offsetgroup": "",
         "orientation": "v",
         "showlegend": false,
         "type": "box",
         "x0": " ",
         "xaxis": "x",
         "y": [
          1.563,
          1.552,
          1.54,
          1.518,
          1.497,
          1.481,
          1.47,
          1.46,
          1.43,
          1.401,
          1.372,
          1.345,
          1.318,
          1.278,
          1.237,
          1.217,
          1.217,
          1.217,
          1.577,
          1.594,
          1.622,
          1.549,
          1.565,
          1.49,
          1.505,
          1.529,
          1.45,
          1.457,
          1.373,
          1.38,
          1.396,
          1.298,
          1.304,
          1.319,
          1.319,
          1.319,
          1.573,
          1.589,
          1.616,
          1.541,
          1.557,
          1.486,
          1.498,
          1.518,
          1.438,
          1.446,
          1.363,
          1.369,
          1.382,
          1.282,
          1.29,
          1.298,
          1.298,
          1.298,
          1.569,
          1.585,
          1.61,
          1.535,
          1.549,
          1.483,
          1.492,
          1.508,
          1.43,
          1.435,
          1.354,
          1.361,
          1.368,
          1.271,
          1.275,
          1.278,
          1.278,
          1.278,
          1.565,
          1.582,
          1.604,
          1.525,
          1.541,
          1.479,
          1.486,
          1.497,
          1.418,
          1.425,
          1.344,
          1.35,
          1.354,
          1.254,
          1.26,
          1.257,
          1.257,
          1.257,
          1.552,
          1.575,
          1.598,
          1.508,
          1.529,
          1.465,
          1.476,
          1.486,
          1.396,
          1.405,
          1.322,
          1.331,
          1.34,
          1.225,
          1.232,
          1.236,
          1.236,
          1.236,
          1.637,
          1.656,
          1.292,
          1.296,
          1.299,
          1.299,
          1.299,
          1.303,
          1.311,
          1.32,
          1.32,
          1.32,
          1.32,
          1.326,
          1.342,
          1.342,
          1.342,
          1.38,
          1.39,
          1.39,
          1.4,
          1.401,
          1.402,
          1.415,
          1.421,
          1.441,
          1.467,
          1.475,
          1.479,
          1.487,
          1.491,
          1.502,
          1.525,
          1.533,
          1.541,
          1.541,
          1.547,
          1.557,
          1.563,
          1.575,
          1.586,
          1.592,
          1.599,
          1.607,
          1.607,
          1.616,
          1.624,
          1.625,
          1.629,
          1.633,
          1.642,
          1.646,
          1.65,
          1.666,
          1.672,
          1.679,
          1.685,
          1.582,
          1.598,
          1.517,
          1.533,
          1.552,
          1.454,
          1.468,
          1.244,
          1.252,
          1.256,
          1.256,
          1.256,
          1.275,
          1.277,
          1.277,
          1.277,
          1.28,
          1.342,
          1.345,
          1.348,
          1.354,
          1.363,
          1.364,
          1.364,
          1.364,
          1.37,
          1.377,
          1.382,
          1.43,
          1.443,
          1.45,
          1.458,
          1.488,
          1.497,
          1.518,
          1.54,
          1.541,
          1.558,
          1.563,
          1.586,
          1.598,
          1.61,
          1.616,
          1.635,
          1.647,
          1.659,
          1.669,
          1.688,
          1.697,
          1.702,
          1.714,
          1.721,
          1.752,
          1.313,
          1.317,
          1.32,
          1.32,
          1.32,
          1.325,
          1.333,
          1.342,
          1.342,
          1.342,
          1.415,
          1.426,
          1.429,
          1.437,
          1.44,
          1.462,
          1.52,
          1.529,
          1.534,
          1.546,
          1.582,
          1.59,
          1.599,
          1.605,
          1.622,
          1.635,
          1.653,
          1.66,
          1.669,
          1.679,
          1.692,
          1.711,
          1.739,
          1.745,
          1.687,
          1.706,
          1.732,
          1.642,
          1.66,
          1.574,
          1.59,
          1.61,
          1.506,
          1.521,
          1.402,
          1.408,
          1.411,
          1.296,
          1.301,
          1.298,
          1.298,
          1.298,
          1.672,
          1.699,
          1.725,
          1.622,
          1.647,
          1.552,
          1.575,
          1.598,
          1.481,
          1.502,
          1.368,
          1.377,
          1.386,
          1.264,
          1.272,
          1.276,
          1.276,
          1.276,
          1.77,
          1.79,
          1.824,
          1.736,
          1.756,
          1.655,
          1.674,
          1.706,
          1.586,
          1.595,
          1.488,
          1.496,
          1.361,
          1.368,
          1.387,
          1.387,
          1.387,
          1.788,
          1.775,
          1.795,
          1.716,
          1.734,
          1.767,
          1.653,
          1.67,
          1.57,
          1.576,
          1.593,
          1.468,
          1.477,
          1.345,
          1.35,
          1.365,
          1.365,
          1.365,
          1.802,
          1.772,
          1.79,
          1.707,
          1.726,
          1.753,
          1.646,
          1.656,
          1.558,
          1.566,
          1.575,
          1.454,
          1.458,
          1.33,
          1.337,
          1.342,
          1.342,
          1.342,
          1.817,
          1.765,
          1.785,
          1.697,
          1.716,
          1.739,
          1.633,
          1.642,
          1.545,
          1.553,
          1.558,
          1.433,
          1.44,
          1.314,
          1.32,
          1.32,
          1.32,
          1.32,
          1.831,
          1.753,
          1.781,
          1.672,
          1.699,
          1.725,
          1.61,
          1.622,
          1.518,
          1.529,
          1.54,
          1.396,
          1.405,
          1.28,
          1.289,
          1.297,
          1.297,
          1.297,
          1.846,
          1.848,
          1.87,
          1.785,
          1.795,
          1.817,
          1.716,
          1.726,
          1.616,
          1.634,
          1.667,
          1.518,
          1.527,
          1.388,
          1.402,
          1.432,
          1.432,
          1.432,
          1.862,
          1.84,
          1.859,
          1.775,
          1.783,
          1.802,
          1.704,
          1.716,
          1.604,
          1.617,
          1.643,
          1.5,
          1.511,
          1.372,
          1.381,
          1.403,
          1.403,
          1.403,
          1.877,
          1.836,
          1.848,
          1.765,
          1.775,
          1.788,
          1.693,
          1.707,
          1.591,
          1.603,
          1.618,
          1.485,
          1.495,
          1.356,
          1.365,
          1.375,
          1.375,
          1.375,
          1.893,
          1.827,
          1.837,
          1.755,
          1.765,
          1.773,
          1.679,
          1.697,
          1.578,
          1.587,
          1.594,
          1.466,
          1.48,
          1.339,
          1.345,
          1.346,
          1.346,
          1.346,
          1.908,
          1.809,
          1.824,
          1.732,
          1.745,
          1.759,
          1.654,
          1.679,
          1.546,
          1.557,
          1.569,
          1.43,
          1.45,
          1.301,
          1.31,
          1.318,
          1.318,
          1.318,
          1.916,
          1.909,
          1.92,
          1.832,
          1.854,
          1.893,
          1.765,
          1.786,
          1.67,
          1.679,
          1.706,
          1.558,
          1.575,
          1.426,
          1.434,
          1.457,
          1.457,
          1.457,
          1.924,
          1.9,
          1.915,
          1.821,
          1.841,
          1.877,
          1.753,
          1.771,
          1.652,
          1.661,
          1.686,
          1.539,
          1.555,
          1.406,
          1.41,
          1.428,
          1.428,
          1.428,
          1.933,
          1.891,
          1.909,
          1.811,
          1.832,
          1.862,
          1.745,
          1.755,
          1.635,
          1.651,
          1.667,
          1.527,
          1.535,
          1.386,
          1.394,
          1.398,
          1.398,
          1.398,
          1.941,
          1.881,
          1.903,
          1.801,
          1.821,
          1.846,
          1.731,
          1.74,
          1.617,
          1.634,
          1.647,
          1.507,
          1.514,
          1.365,
          1.372,
          1.369,
          1.369,
          1.369,
          1.949,
          1.862,
          1.893,
          1.773,
          1.802,
          1.831,
          1.705,
          1.718,
          1.581,
          1.604,
          1.628,
          1.47,
          1.481,
          1.322,
          1.331,
          1.34,
          1.34,
          1.34
         ],
         "y0": " ",
         "yaxis": "y"
        }
       ],
       "layout": {
        "boxmode": "group",
        "legend": {
         "tracegroupgap": 0
        },
        "margin": {
         "t": 60
        },
        "template": {
         "data": {
          "bar": [
           {
            "error_x": {
             "color": "#2a3f5f"
            },
            "error_y": {
             "color": "#2a3f5f"
            },
            "marker": {
             "line": {
              "color": "#E5ECF6",
              "width": 0.5
             },
             "pattern": {
              "fillmode": "overlay",
              "size": 10,
              "solidity": 0.2
             }
            },
            "type": "bar"
           }
          ],
          "barpolar": [
           {
            "marker": {
             "line": {
              "color": "#E5ECF6",
              "width": 0.5
             },
             "pattern": {
              "fillmode": "overlay",
              "size": 10,
              "solidity": 0.2
             }
            },
            "type": "barpolar"
           }
          ],
          "carpet": [
           {
            "aaxis": {
             "endlinecolor": "#2a3f5f",
             "gridcolor": "white",
             "linecolor": "white",
             "minorgridcolor": "white",
             "startlinecolor": "#2a3f5f"
            },
            "baxis": {
             "endlinecolor": "#2a3f5f",
             "gridcolor": "white",
             "linecolor": "white",
             "minorgridcolor": "white",
             "startlinecolor": "#2a3f5f"
            },
            "type": "carpet"
           }
          ],
          "choropleth": [
           {
            "colorbar": {
             "outlinewidth": 0,
             "ticks": ""
            },
            "type": "choropleth"
           }
          ],
          "contour": [
           {
            "colorbar": {
             "outlinewidth": 0,
             "ticks": ""
            },
            "colorscale": [
             [
              0,
              "#0d0887"
             ],
             [
              0.1111111111111111,
              "#46039f"
             ],
             [
              0.2222222222222222,
              "#7201a8"
             ],
             [
              0.3333333333333333,
              "#9c179e"
             ],
             [
              0.4444444444444444,
              "#bd3786"
             ],
             [
              0.5555555555555556,
              "#d8576b"
             ],
             [
              0.6666666666666666,
              "#ed7953"
             ],
             [
              0.7777777777777778,
              "#fb9f3a"
             ],
             [
              0.8888888888888888,
              "#fdca26"
             ],
             [
              1,
              "#f0f921"
             ]
            ],
            "type": "contour"
           }
          ],
          "contourcarpet": [
           {
            "colorbar": {
             "outlinewidth": 0,
             "ticks": ""
            },
            "type": "contourcarpet"
           }
          ],
          "heatmap": [
           {
            "colorbar": {
             "outlinewidth": 0,
             "ticks": ""
            },
            "colorscale": [
             [
              0,
              "#0d0887"
             ],
             [
              0.1111111111111111,
              "#46039f"
             ],
             [
              0.2222222222222222,
              "#7201a8"
             ],
             [
              0.3333333333333333,
              "#9c179e"
             ],
             [
              0.4444444444444444,
              "#bd3786"
             ],
             [
              0.5555555555555556,
              "#d8576b"
             ],
             [
              0.6666666666666666,
              "#ed7953"
             ],
             [
              0.7777777777777778,
              "#fb9f3a"
             ],
             [
              0.8888888888888888,
              "#fdca26"
             ],
             [
              1,
              "#f0f921"
             ]
            ],
            "type": "heatmap"
           }
          ],
          "heatmapgl": [
           {
            "colorbar": {
             "outlinewidth": 0,
             "ticks": ""
            },
            "colorscale": [
             [
              0,
              "#0d0887"
             ],
             [
              0.1111111111111111,
              "#46039f"
             ],
             [
              0.2222222222222222,
              "#7201a8"
             ],
             [
              0.3333333333333333,
              "#9c179e"
             ],
             [
              0.4444444444444444,
              "#bd3786"
             ],
             [
              0.5555555555555556,
              "#d8576b"
             ],
             [
              0.6666666666666666,
              "#ed7953"
             ],
             [
              0.7777777777777778,
              "#fb9f3a"
             ],
             [
              0.8888888888888888,
              "#fdca26"
             ],
             [
              1,
              "#f0f921"
             ]
            ],
            "type": "heatmapgl"
           }
          ],
          "histogram": [
           {
            "marker": {
             "pattern": {
              "fillmode": "overlay",
              "size": 10,
              "solidity": 0.2
             }
            },
            "type": "histogram"
           }
          ],
          "histogram2d": [
           {
            "colorbar": {
             "outlinewidth": 0,
             "ticks": ""
            },
            "colorscale": [
             [
              0,
              "#0d0887"
             ],
             [
              0.1111111111111111,
              "#46039f"
             ],
             [
              0.2222222222222222,
              "#7201a8"
             ],
             [
              0.3333333333333333,
              "#9c179e"
             ],
             [
              0.4444444444444444,
              "#bd3786"
             ],
             [
              0.5555555555555556,
              "#d8576b"
             ],
             [
              0.6666666666666666,
              "#ed7953"
             ],
             [
              0.7777777777777778,
              "#fb9f3a"
             ],
             [
              0.8888888888888888,
              "#fdca26"
             ],
             [
              1,
              "#f0f921"
             ]
            ],
            "type": "histogram2d"
           }
          ],
          "histogram2dcontour": [
           {
            "colorbar": {
             "outlinewidth": 0,
             "ticks": ""
            },
            "colorscale": [
             [
              0,
              "#0d0887"
             ],
             [
              0.1111111111111111,
              "#46039f"
             ],
             [
              0.2222222222222222,
              "#7201a8"
             ],
             [
              0.3333333333333333,
              "#9c179e"
             ],
             [
              0.4444444444444444,
              "#bd3786"
             ],
             [
              0.5555555555555556,
              "#d8576b"
             ],
             [
              0.6666666666666666,
              "#ed7953"
             ],
             [
              0.7777777777777778,
              "#fb9f3a"
             ],
             [
              0.8888888888888888,
              "#fdca26"
             ],
             [
              1,
              "#f0f921"
             ]
            ],
            "type": "histogram2dcontour"
           }
          ],
          "mesh3d": [
           {
            "colorbar": {
             "outlinewidth": 0,
             "ticks": ""
            },
            "type": "mesh3d"
           }
          ],
          "parcoords": [
           {
            "line": {
             "colorbar": {
              "outlinewidth": 0,
              "ticks": ""
             }
            },
            "type": "parcoords"
           }
          ],
          "pie": [
           {
            "automargin": true,
            "type": "pie"
           }
          ],
          "scatter": [
           {
            "fillpattern": {
             "fillmode": "overlay",
             "size": 10,
             "solidity": 0.2
            },
            "type": "scatter"
           }
          ],
          "scatter3d": [
           {
            "line": {
             "colorbar": {
              "outlinewidth": 0,
              "ticks": ""
             }
            },
            "marker": {
             "colorbar": {
              "outlinewidth": 0,
              "ticks": ""
             }
            },
            "type": "scatter3d"
           }
          ],
          "scattercarpet": [
           {
            "marker": {
             "colorbar": {
              "outlinewidth": 0,
              "ticks": ""
             }
            },
            "type": "scattercarpet"
           }
          ],
          "scattergeo": [
           {
            "marker": {
             "colorbar": {
              "outlinewidth": 0,
              "ticks": ""
             }
            },
            "type": "scattergeo"
           }
          ],
          "scattergl": [
           {
            "marker": {
             "colorbar": {
              "outlinewidth": 0,
              "ticks": ""
             }
            },
            "type": "scattergl"
           }
          ],
          "scattermapbox": [
           {
            "marker": {
             "colorbar": {
              "outlinewidth": 0,
              "ticks": ""
             }
            },
            "type": "scattermapbox"
           }
          ],
          "scatterpolar": [
           {
            "marker": {
             "colorbar": {
              "outlinewidth": 0,
              "ticks": ""
             }
            },
            "type": "scatterpolar"
           }
          ],
          "scatterpolargl": [
           {
            "marker": {
             "colorbar": {
              "outlinewidth": 0,
              "ticks": ""
             }
            },
            "type": "scatterpolargl"
           }
          ],
          "scatterternary": [
           {
            "marker": {
             "colorbar": {
              "outlinewidth": 0,
              "ticks": ""
             }
            },
            "type": "scatterternary"
           }
          ],
          "surface": [
           {
            "colorbar": {
             "outlinewidth": 0,
             "ticks": ""
            },
            "colorscale": [
             [
              0,
              "#0d0887"
             ],
             [
              0.1111111111111111,
              "#46039f"
             ],
             [
              0.2222222222222222,
              "#7201a8"
             ],
             [
              0.3333333333333333,
              "#9c179e"
             ],
             [
              0.4444444444444444,
              "#bd3786"
             ],
             [
              0.5555555555555556,
              "#d8576b"
             ],
             [
              0.6666666666666666,
              "#ed7953"
             ],
             [
              0.7777777777777778,
              "#fb9f3a"
             ],
             [
              0.8888888888888888,
              "#fdca26"
             ],
             [
              1,
              "#f0f921"
             ]
            ],
            "type": "surface"
           }
          ],
          "table": [
           {
            "cells": {
             "fill": {
              "color": "#EBF0F8"
             },
             "line": {
              "color": "white"
             }
            },
            "header": {
             "fill": {
              "color": "#C8D4E3"
             },
             "line": {
              "color": "white"
             }
            },
            "type": "table"
           }
          ]
         },
         "layout": {
          "annotationdefaults": {
           "arrowcolor": "#2a3f5f",
           "arrowhead": 0,
           "arrowwidth": 1
          },
          "autotypenumbers": "strict",
          "coloraxis": {
           "colorbar": {
            "outlinewidth": 0,
            "ticks": ""
           }
          },
          "colorscale": {
           "diverging": [
            [
             0,
             "#8e0152"
            ],
            [
             0.1,
             "#c51b7d"
            ],
            [
             0.2,
             "#de77ae"
            ],
            [
             0.3,
             "#f1b6da"
            ],
            [
             0.4,
             "#fde0ef"
            ],
            [
             0.5,
             "#f7f7f7"
            ],
            [
             0.6,
             "#e6f5d0"
            ],
            [
             0.7,
             "#b8e186"
            ],
            [
             0.8,
             "#7fbc41"
            ],
            [
             0.9,
             "#4d9221"
            ],
            [
             1,
             "#276419"
            ]
           ],
           "sequential": [
            [
             0,
             "#0d0887"
            ],
            [
             0.1111111111111111,
             "#46039f"
            ],
            [
             0.2222222222222222,
             "#7201a8"
            ],
            [
             0.3333333333333333,
             "#9c179e"
            ],
            [
             0.4444444444444444,
             "#bd3786"
            ],
            [
             0.5555555555555556,
             "#d8576b"
            ],
            [
             0.6666666666666666,
             "#ed7953"
            ],
            [
             0.7777777777777778,
             "#fb9f3a"
            ],
            [
             0.8888888888888888,
             "#fdca26"
            ],
            [
             1,
             "#f0f921"
            ]
           ],
           "sequentialminus": [
            [
             0,
             "#0d0887"
            ],
            [
             0.1111111111111111,
             "#46039f"
            ],
            [
             0.2222222222222222,
             "#7201a8"
            ],
            [
             0.3333333333333333,
             "#9c179e"
            ],
            [
             0.4444444444444444,
             "#bd3786"
            ],
            [
             0.5555555555555556,
             "#d8576b"
            ],
            [
             0.6666666666666666,
             "#ed7953"
            ],
            [
             0.7777777777777778,
             "#fb9f3a"
            ],
            [
             0.8888888888888888,
             "#fdca26"
            ],
            [
             1,
             "#f0f921"
            ]
           ]
          },
          "colorway": [
           "#636efa",
           "#EF553B",
           "#00cc96",
           "#ab63fa",
           "#FFA15A",
           "#19d3f3",
           "#FF6692",
           "#B6E880",
           "#FF97FF",
           "#FECB52"
          ],
          "font": {
           "color": "#2a3f5f"
          },
          "geo": {
           "bgcolor": "white",
           "lakecolor": "white",
           "landcolor": "#E5ECF6",
           "showlakes": true,
           "showland": true,
           "subunitcolor": "white"
          },
          "hoverlabel": {
           "align": "left"
          },
          "hovermode": "closest",
          "mapbox": {
           "style": "light"
          },
          "paper_bgcolor": "white",
          "plot_bgcolor": "#E5ECF6",
          "polar": {
           "angularaxis": {
            "gridcolor": "white",
            "linecolor": "white",
            "ticks": ""
           },
           "bgcolor": "#E5ECF6",
           "radialaxis": {
            "gridcolor": "white",
            "linecolor": "white",
            "ticks": ""
           }
          },
          "scene": {
           "xaxis": {
            "backgroundcolor": "#E5ECF6",
            "gridcolor": "white",
            "gridwidth": 2,
            "linecolor": "white",
            "showbackground": true,
            "ticks": "",
            "zerolinecolor": "white"
           },
           "yaxis": {
            "backgroundcolor": "#E5ECF6",
            "gridcolor": "white",
            "gridwidth": 2,
            "linecolor": "white",
            "showbackground": true,
            "ticks": "",
            "zerolinecolor": "white"
           },
           "zaxis": {
            "backgroundcolor": "#E5ECF6",
            "gridcolor": "white",
            "gridwidth": 2,
            "linecolor": "white",
            "showbackground": true,
            "ticks": "",
            "zerolinecolor": "white"
           }
          },
          "shapedefaults": {
           "line": {
            "color": "#2a3f5f"
           }
          },
          "ternary": {
           "aaxis": {
            "gridcolor": "white",
            "linecolor": "white",
            "ticks": ""
           },
           "baxis": {
            "gridcolor": "white",
            "linecolor": "white",
            "ticks": ""
           },
           "bgcolor": "#E5ECF6",
           "caxis": {
            "gridcolor": "white",
            "linecolor": "white",
            "ticks": ""
           }
          },
          "title": {
           "x": 0.05
          },
          "xaxis": {
           "automargin": true,
           "gridcolor": "white",
           "linecolor": "white",
           "ticks": "",
           "title": {
            "standoff": 15
           },
           "zerolinecolor": "white",
           "zerolinewidth": 2
          },
          "yaxis": {
           "automargin": true,
           "gridcolor": "white",
           "linecolor": "white",
           "ticks": "",
           "title": {
            "standoff": 15
           },
           "zerolinecolor": "white",
           "zerolinewidth": 2
          }
         }
        },
        "xaxis": {
         "anchor": "y",
         "domain": [
          0,
          1
         ]
        },
        "yaxis": {
         "anchor": "x",
         "domain": [
          0,
          1
         ],
         "title": {
          "text": "If"
         }
        }
       }
      }
     },
     "metadata": {},
     "output_type": "display_data"
    },
    {
     "name": "stdout",
     "output_type": "stream",
     "text": [
      "     Iy  PF   e  dIf  If\n",
      "0   NaN NaN NaN  NaN NaN\n",
      "1   NaN NaN NaN  NaN NaN\n",
      "2   NaN NaN NaN  NaN NaN\n",
      "3   NaN NaN NaN  NaN NaN\n",
      "4   NaN NaN NaN  NaN NaN\n",
      "..   ..  ..  ..  ...  ..\n",
      "552 NaN NaN NaN  NaN NaN\n",
      "553 NaN NaN NaN  NaN NaN\n",
      "554 NaN NaN NaN  NaN NaN\n",
      "555 NaN NaN NaN  NaN NaN\n",
      "556 NaN NaN NaN  NaN NaN\n",
      "\n",
      "[557 rows x 5 columns]\n"
     ]
    }
   ],
   "source": [
    "'''/* \n",
    "Recopila y muestra la información necesaria para conocer si hay outliers.\n",
    "*/'''\n",
    "\n",
    "# Retorna media, desviación estándar, min, cuantiles 25,50,75% y max.\n",
    "display(data_df.describe())\n",
    "# Retorna si hay valores en blanco o no numericos.\n",
    "display(data_df.isna().sum())\n",
    "\n",
    "# Establece los datos necesarios y títulos de eje para mostrar varias gráficas de caja.\n",
    "figIy = px.box(data_df, y='Iy')\n",
    "figIy.show()\n",
    "figPF = px.box(data_df, y='PF')\n",
    "figPF.show()\n",
    "fige = px.box(data_df, y='e')\n",
    "fige.show()\n",
    "figdIf = px.box(data_df, y='dIf')\n",
    "figdIf.show()\n",
    "figIf = px.box(data_df, y='If')\n",
    "figIf.show()\n",
    "\n",
    "'''/* \n",
    "Function: IQR_outlier\n",
    "\n",
    "Confirma de manera numérica la existencia de outliers.\n",
    "\n",
    "Parameters:\n",
    "\n",
    "    data_df - Datos recopilados del CSV.\n",
    "    \n",
    "Returns:\n",
    "\n",
    "    Un DataFrame que contiene si un dato se sale de los límites calculados.\n",
    "    Si un valor es igual a NaN significa que no es un outliers.\n",
    "*/'''\n",
    "\n",
    "def IQR_outlier(data_df):\n",
    "    \n",
    "    # Guarda el resultado del cuantil del 25%\n",
    "    q1 = data_df.quantile(0.25)\n",
    "    # Guarda el resultado del cuantil del 75%\n",
    "    q3 = data_df.quantile(0.75)\n",
    "    \n",
    "    # Calcula el rango entre cuantiles\n",
    "    IQR = q3-q1 \n",
    "    \n",
    "    ''' \n",
    "    Revisa si hay datos afuera de cada límite.\n",
    "    Los limites se calculan de la siguiente manera: \n",
    "        Límite superior: q3 + (1.5*IQR)\n",
    "        Límite inferior: q1 - (1.5*IQR)\n",
    "    '''\n",
    "    \n",
    "    outliers = data_df[((data_df<(q1-1.5*IQR)) | (data_df>(q3+1.5*IQR)))]\n",
    "\n",
    "    return outliers\n",
    "\n",
    "# Iprime el resultado de la función anterior.\n",
    "print(IQR_outlier(data_df))"
   ]
  },
  {
   "attachments": {},
   "cell_type": "markdown",
   "metadata": {},
   "source": [
    "# Separación de los set de datos y normalizacón\n",
    "### Se va a usar una función de activación sigmoide"
   ]
  },
  {
   "cell_type": "code",
   "execution_count": 4,
   "metadata": {},
   "outputs": [
    {
     "data": {
      "text/html": [
       "<div>\n",
       "<style scoped>\n",
       "    .dataframe tbody tr th:only-of-type {\n",
       "        vertical-align: middle;\n",
       "    }\n",
       "\n",
       "    .dataframe tbody tr th {\n",
       "        vertical-align: top;\n",
       "    }\n",
       "\n",
       "    .dataframe thead th {\n",
       "        text-align: right;\n",
       "    }\n",
       "</style>\n",
       "<table border=\"1\" class=\"dataframe\">\n",
       "  <thead>\n",
       "    <tr style=\"text-align: right;\">\n",
       "      <th></th>\n",
       "      <th>count</th>\n",
       "      <th>mean</th>\n",
       "      <th>std</th>\n",
       "      <th>min</th>\n",
       "      <th>25%</th>\n",
       "      <th>50%</th>\n",
       "      <th>75%</th>\n",
       "      <th>max</th>\n",
       "    </tr>\n",
       "  </thead>\n",
       "  <tbody>\n",
       "    <tr>\n",
       "      <th>Iy</th>\n",
       "      <td>557.0</td>\n",
       "      <td>4.499820</td>\n",
       "      <td>0.896024</td>\n",
       "      <td>3.000</td>\n",
       "      <td>3.700</td>\n",
       "      <td>4.500</td>\n",
       "      <td>5.300</td>\n",
       "      <td>6.000</td>\n",
       "    </tr>\n",
       "    <tr>\n",
       "      <th>PF</th>\n",
       "      <td>557.0</td>\n",
       "      <td>0.825296</td>\n",
       "      <td>0.103925</td>\n",
       "      <td>0.650</td>\n",
       "      <td>0.740</td>\n",
       "      <td>0.820</td>\n",
       "      <td>0.920</td>\n",
       "      <td>1.000</td>\n",
       "    </tr>\n",
       "    <tr>\n",
       "      <th>e</th>\n",
       "      <td>557.0</td>\n",
       "      <td>0.174704</td>\n",
       "      <td>0.103925</td>\n",
       "      <td>0.000</td>\n",
       "      <td>0.080</td>\n",
       "      <td>0.180</td>\n",
       "      <td>0.260</td>\n",
       "      <td>0.350</td>\n",
       "    </tr>\n",
       "    <tr>\n",
       "      <th>dIf</th>\n",
       "      <td>557.0</td>\n",
       "      <td>0.350659</td>\n",
       "      <td>0.180566</td>\n",
       "      <td>0.037</td>\n",
       "      <td>0.189</td>\n",
       "      <td>0.345</td>\n",
       "      <td>0.486</td>\n",
       "      <td>0.769</td>\n",
       "    </tr>\n",
       "    <tr>\n",
       "      <th>If</th>\n",
       "      <td>557.0</td>\n",
       "      <td>1.530659</td>\n",
       "      <td>0.180566</td>\n",
       "      <td>1.217</td>\n",
       "      <td>1.369</td>\n",
       "      <td>1.525</td>\n",
       "      <td>1.666</td>\n",
       "      <td>1.949</td>\n",
       "    </tr>\n",
       "  </tbody>\n",
       "</table>\n",
       "</div>"
      ],
      "text/plain": [
       "     count      mean       std    min    25%    50%    75%    max\n",
       "Iy   557.0  4.499820  0.896024  3.000  3.700  4.500  5.300  6.000\n",
       "PF   557.0  0.825296  0.103925  0.650  0.740  0.820  0.920  1.000\n",
       "e    557.0  0.174704  0.103925  0.000  0.080  0.180  0.260  0.350\n",
       "dIf  557.0  0.350659  0.180566  0.037  0.189  0.345  0.486  0.769\n",
       "If   557.0  1.530659  0.180566  1.217  1.369  1.525  1.666  1.949"
      ]
     },
     "metadata": {},
     "output_type": "display_data"
    }
   ],
   "source": [
    "'''/* \n",
    "Esta sección prepara los datos recopilados anteriormente en subsecciones para entrenamieto y prueba.\n",
    "Además de esto, normaliza los datos para poder ser ingresados a una función sigmoide.\n",
    "*/'''\n",
    "\n",
    "# Arreglo que contiene los datos de prueba dados por el profresor.\n",
    "tarea_data = [[3, 0.64, 0.01, 0.031], [4.38, 0.78, 0.14, 0.402], [6, 1.01, 0.35,0.799]]\n",
    "# Convierte un arreglo en DataFrame con las columnas llamadas: 'Iy', 'PF', 'e', 'dIf'.\n",
    "tarea_data = pd.DataFrame(tarea_data, columns=['Iy', 'PF', 'e', 'dIf'])\n",
    "\n",
    "# Guarda las características del conjunto de datos antes de normalizar.\n",
    "train_stats = data_df.describe()\n",
    "\n",
    "# Se transpone el DataFrame para que las columnas y filas se inviertan entre ellas.\n",
    "train_stats = train_stats.transpose()\n",
    "display(train_stats)\n",
    "\n",
    "'''/* \n",
    "Function: norm\n",
    "\n",
    "Normaliza los datos a través de una función min-max entre 0 y 1 para ser alimentados a una función sigmoide.\n",
    "\n",
    "Parameters:\n",
    "\n",
    "    x - Datos a normalizar.\n",
    "    \n",
    "Returns:\n",
    "\n",
    "    Los datos alimentados ya normalizados.\n",
    "*/'''\n",
    "\n",
    "def norm(x):\n",
    "    return((x-train_stats['min'])/(train_stats['max']-train_stats['min'])) #min-max norm\n",
    "\n",
    "'''/* \n",
    "Function: reverse_norm\n",
    "\n",
    "Desnormaliza los datos a través de la funcion inversa de la min-max.\n",
    "\n",
    "Parameters:\n",
    "\n",
    "    x - Datos normalizados a revertir.\n",
    "    \n",
    "Returns:\n",
    "\n",
    "    Los datos alimentados ya desnormalizados.\n",
    "*/'''\n",
    "\n",
    "def reverse_norm(x):\n",
    "    return(x*(train_stats['max']-train_stats['min'])+train_stats['min'])\n",
    "\n",
    "# Normaliza todo el conjunto de datos\n",
    "data_df = norm(data_df)\n",
    "\n",
    "# Mueve 80% de los datos en un subconjuto de entrenamiento y los aleatoriza.\n",
    "train_df = data_df.sample(frac=0.8, random_state=0)\n",
    "# Mueve el restante de los datos en un subconjuto de prueba y los aleatoriza.\n",
    "test_df = data_df.drop(train_df.index)\n",
    "# Guarda los datos de la comlumna If en una variable para las etiquetas de entrenamiento.\n",
    "train_labels = train_df.pop('If')\n",
    "# Guarda los datos de la comlumna If en una variable para las etiquetas de prueba.\n",
    "test_labels = test_df.pop('If')\n"
   ]
  },
  {
   "attachments": {},
   "cell_type": "markdown",
   "metadata": {},
   "source": [
    "# Creación del modelo"
   ]
  },
  {
   "cell_type": "code",
   "execution_count": 11,
   "metadata": {},
   "outputs": [
    {
     "name": "stdout",
     "output_type": "stream",
     "text": [
      "Model: \"sequential_2\"\n",
      "_________________________________________________________________\n",
      " Layer (type)                Output Shape              Param #   \n",
      "=================================================================\n",
      " dense_6 (Dense)             (None, 2)                 10        \n",
      "                                                                 \n",
      " dense_7 (Dense)             (None, 2)                 6         \n",
      "                                                                 \n",
      " dense_8 (Dense)             (None, 1)                 3         \n",
      "                                                                 \n",
      "=================================================================\n",
      "Total params: 19\n",
      "Trainable params: 19\n",
      "Non-trainable params: 0\n",
      "_________________________________________________________________\n",
      "1/1 [==============================] - 0s 88ms/step\n"
     ]
    },
    {
     "data": {
      "text/plain": [
       "array([[0.5268237 ],\n",
       "       [0.5285471 ],\n",
       "       [0.52345854],\n",
       "       [0.534289  ],\n",
       "       [0.5338392 ],\n",
       "       [0.5350744 ],\n",
       "       [0.5243406 ],\n",
       "       [0.5288432 ],\n",
       "       [0.52799946],\n",
       "       [0.5222033 ]], dtype=float32)"
      ]
     },
     "execution_count": 11,
     "metadata": {},
     "output_type": "execute_result"
    }
   ],
   "source": [
    "'''/* \n",
    "Function: my_model\n",
    "\n",
    "Genera el modelo de regresión MLP y lo compila. El modelo consiste de lo siguiente:\n",
    "    - Una capa de entradas de forma train_df.keys() que es igual a la cantidad de características.\n",
    "    - Una capa oculta con ocho neuronas y como función de activación una función sigmoide.\n",
    "    - Una capa oculta con ocho neuronas y como función de activación una función sigmoide.\n",
    "    - Una capa de salida con una neurona y como función de activación una función sigmoide.\n",
    "    - Utiliza ADAM como optimizador.\n",
    "    - La función de pérdida es la Suma Cuadrática del Error.\n",
    "    \n",
    "Parameters:\n",
    "\n",
    "    my_learning_rate - Razón de aprendizaje.\n",
    "    \n",
    "Returns:\n",
    "\n",
    "    El modelo neuronal ya creado.\n",
    "*/'''\n",
    "\n",
    "def my_model(my_learning_rate):\n",
    "    model = tf.keras.Sequential([\n",
    "        tf.keras.layers.Dense(2, input_shape=[len(train_df.keys())], activation='sigmoid'),\n",
    "        tf.keras.layers.Dense(2, activation='sigmoid'),#se hace una hidden layer de 3 neuronas con activacion sigmoid\n",
    "        tf.keras.layers.Dense(1, activation='sigmoid') #capa de output\n",
    "    ])\n",
    "    \n",
    "    model.compile(optimizer=tf.keras.optimizers.Adam(learning_rate=my_learning_rate),\n",
    "                loss=\"mean_squared_error\", #funcion de perdida\n",
    "                metrics=[tf.keras.metrics.MeanSquaredError()] #funcion de metricas para evaluar\n",
    "                )\n",
    "    \n",
    "    return model\n",
    "\n",
    "model = my_model(0.01)\n",
    "model.summary()\n",
    "\n",
    "example_batch = train_df[:10]\n",
    "example_result = model.predict(example_batch)\n",
    "example_result"
   ]
  },
  {
   "attachments": {},
   "cell_type": "markdown",
   "metadata": {},
   "source": [
    "# Entrenamiento del modelo"
   ]
  },
  {
   "cell_type": "code",
   "execution_count": 12,
   "metadata": {},
   "outputs": [],
   "source": [
    "'''/* \n",
    "Function: train_model\n",
    "\n",
    "Alimenta los datos correspondientes a las características y etiquetas al modelo y conduce el proceso de entrenamiento y validación.\n",
    "Además de esto, también le establece al modelo la cantidad de ciclos de entrenamiento y el tamaño del batch.\n",
    "Por último crea un subconjunto de validación con un 25% de los datos de entrenamiento.\n",
    "    \n",
    "Parameters:\n",
    "\n",
    "    model - El modelo creado anteriormente.\n",
    "    features - Conjunto que contiene las características.\n",
    "    labels - Conjunto que contiene las etiquetas.\n",
    "    epochs - Cantidad de ciclos de entrenamiento\n",
    "    batch_size - Tamaño del batch.\n",
    "    \n",
    "Returns:\n",
    "\n",
    "    Los resultados del entrenamiento.\n",
    "*/'''\n",
    "\n",
    "def train_model(model, features, labels, epochs, batch_size):\n",
    "    early_stop= tf.keras.callbacks.EarlyStopping(monitor='val_loss', patience=10) #patience es la cant de epochs antes de chequear el improvement\n",
    "    history = model.fit(\n",
    "        x=features,\n",
    "        y=labels,\n",
    "        epochs=epochs,\n",
    "        batch_size = batch_size,\n",
    "        validation_split=0.25,\n",
    "        callbacks = early_stop\n",
    "    )\n",
    "    \n",
    "    # Guarda los resultados obtenidos del proceso de entrenamiento y validación en un DataFrame.\n",
    "    # Estos resultados son las pérdidas y el número del ciclo correspondiente.\n",
    "    hist= pd.DataFrame(history.history) #se guardan los valores de errores y metricas en un diccionario\n",
    "    # Añade al DataFrame la información sobre los ciclos.\n",
    "    hist['epoch'] = history.epoch\n",
    "    # Guarda los datos de error en una variable para uso futuro.\n",
    "    mse = hist['mean_squared_error']\n",
    "    \n",
    "    return hist, mse"
   ]
  },
  {
   "attachments": {},
   "cell_type": "markdown",
   "metadata": {},
   "source": [
    "# Ploteo de gráficas"
   ]
  },
  {
   "cell_type": "code",
   "execution_count": 7,
   "metadata": {},
   "outputs": [],
   "source": [
    "'''/* \n",
    "Function: plot_loss_curve\n",
    "\n",
    "Grafica las curvas de pérdida correspondientes al entrenamiento y la validación.\n",
    "    \n",
    "Parameters:\n",
    "\n",
    "    history - Resultados provenientes del proceso de entrenamiento.\n",
    "    \n",
    "Returns:\n",
    "\n",
    "    Las gráficas ya creadas.\n",
    "*/'''\n",
    "\n",
    "def plot_loss_curve(history):\n",
    "    hist = history\n",
    "    # Cambia los títulos de cada columna que contiene los pérdida por una versión más legible.  \n",
    "    labels = {\"mean_squared_error\":\"Training Loss\", \"val_mean_squared_error\":\"Validation Loss\"}\n",
    "    hist.rename(columns = labels, inplace = True)\n",
    "    \n",
    "    # Crea la figura, establece los títulos de eje y la paleta de colors\n",
    "    fig = px.line(hist, x='epoch', y=['Training Loss', 'Validation Loss'],\n",
    "                title='Gráficas de Pérdida de Entrenamiento y Evaluación',\n",
    "                labels={\"epoch\": \"Epoch\", \"value\":\"Mean Square Error\", \"variable\":\"Curvas de Pérdida\"},\n",
    "                color_discrete_map={ # replaces default color mapping by value\n",
    "                \"Training Loss\": \"#46039f\", \"Validation Loss\": \"#fb9f3a\"})\n",
    "    # Actualiza el tema de la gráfica.\n",
    "    fig.update_layout(template='plotly_white')\n",
    "    fig.show()\n",
    "\n",
    "'''/* \n",
    "Function: plot_predictions\n",
    "\n",
    "Grafica las etiquetas de prueba contra las predicciones hechas por la red neuronal.\n",
    "    \n",
    "Parameters:\n",
    "\n",
    "    predictions - Datos por graficar.\n",
    "    \n",
    "Returns:\n",
    "\n",
    "    La gráfica ya creada.\n",
    "*/'''\n",
    "\n",
    "def plot_predictions(predictions):\n",
    "    \n",
    "    # Se crea una traza de puntos.\n",
    "    trace1 = go.Scatter(\n",
    "        x = predictions['If'],\n",
    "        y = predictions['If Predictions'],\n",
    "        name = 'Predicciones',\n",
    "        mode='markers',\n",
    "    )\n",
    "    \n",
    "    # Se crea una traza de línea.\n",
    "    trace2 = go.Line(\n",
    "        x= predictions['If'],\n",
    "        y = predictions['If'],\n",
    "        name = 'Datos Reales',\n",
    "        yaxis='y2'\n",
    "    )\n",
    "    \n",
    "    # Se crea la figura \n",
    "    fig = make_subplots(specs=[[{\"secondary_y\": True}]], x_title='If', y_title='Predicción de If')\n",
    "    # Se le agrega un título.\n",
    "    fig.update_layout(title_text=\"Gráfica De Predicciones Contra Datos Reales\")\n",
    "    # Se le agrega la primera traza.\n",
    "    fig.add_trace(trace1)\n",
    "    # Se le agrega la segunda traza.\n",
    "    fig.add_trace(trace2,secondary_y=False)\n",
    "    fig.update_layout(template='plotly_white')\n",
    "    \n",
    "    fig.show()\n",
    "    "
   ]
  },
  {
   "attachments": {},
   "cell_type": "markdown",
   "metadata": {},
   "source": [
    "# Hyperparámetros"
   ]
  },
  {
   "cell_type": "code",
   "execution_count": 13,
   "metadata": {},
   "outputs": [],
   "source": [
    "learning_rate = 0.01\n",
    "epochs = 1000\n",
    "batch_size = 7"
   ]
  },
  {
   "attachments": {},
   "cell_type": "markdown",
   "metadata": {},
   "source": [
    "# Llamado de funciones"
   ]
  },
  {
   "cell_type": "code",
   "execution_count": 15,
   "metadata": {},
   "outputs": [
    {
     "name": "stdout",
     "output_type": "stream",
     "text": [
      "Epoch 1/1000\n",
      "48/48 [==============================] - 1s 7ms/step - loss: 0.0595 - mean_squared_error: 0.0595 - val_loss: 0.0641 - val_mean_squared_error: 0.0641\n",
      "Epoch 2/1000\n",
      "48/48 [==============================] - 0s 3ms/step - loss: 0.0565 - mean_squared_error: 0.0565 - val_loss: 0.0619 - val_mean_squared_error: 0.0619\n",
      "Epoch 3/1000\n",
      "48/48 [==============================] - 0s 3ms/step - loss: 0.0522 - mean_squared_error: 0.0522 - val_loss: 0.0548 - val_mean_squared_error: 0.0548\n",
      "Epoch 4/1000\n",
      "48/48 [==============================] - 0s 3ms/step - loss: 0.0432 - mean_squared_error: 0.0432 - val_loss: 0.0423 - val_mean_squared_error: 0.0423\n",
      "Epoch 5/1000\n",
      "48/48 [==============================] - 0s 4ms/step - loss: 0.0309 - mean_squared_error: 0.0309 - val_loss: 0.0285 - val_mean_squared_error: 0.0285\n",
      "Epoch 6/1000\n",
      "48/48 [==============================] - 0s 3ms/step - loss: 0.0208 - mean_squared_error: 0.0208 - val_loss: 0.0193 - val_mean_squared_error: 0.0193\n",
      "Epoch 7/1000\n",
      "48/48 [==============================] - 0s 3ms/step - loss: 0.0151 - mean_squared_error: 0.0151 - val_loss: 0.0141 - val_mean_squared_error: 0.0141\n",
      "Epoch 8/1000\n",
      "48/48 [==============================] - 0s 3ms/step - loss: 0.0123 - mean_squared_error: 0.0123 - val_loss: 0.0113 - val_mean_squared_error: 0.0113\n",
      "Epoch 9/1000\n",
      "48/48 [==============================] - 0s 3ms/step - loss: 0.0106 - mean_squared_error: 0.0106 - val_loss: 0.0097 - val_mean_squared_error: 0.0097\n",
      "Epoch 10/1000\n",
      "48/48 [==============================] - 0s 3ms/step - loss: 0.0095 - mean_squared_error: 0.0095 - val_loss: 0.0085 - val_mean_squared_error: 0.0085\n",
      "Epoch 11/1000\n",
      "48/48 [==============================] - 0s 3ms/step - loss: 0.0087 - mean_squared_error: 0.0087 - val_loss: 0.0077 - val_mean_squared_error: 0.0077\n",
      "Epoch 12/1000\n",
      "48/48 [==============================] - 0s 3ms/step - loss: 0.0082 - mean_squared_error: 0.0082 - val_loss: 0.0072 - val_mean_squared_error: 0.0072\n",
      "Epoch 13/1000\n",
      "48/48 [==============================] - 0s 3ms/step - loss: 0.0074 - mean_squared_error: 0.0074 - val_loss: 0.0067 - val_mean_squared_error: 0.0067\n",
      "Epoch 14/1000\n",
      "48/48 [==============================] - 0s 2ms/step - loss: 0.0069 - mean_squared_error: 0.0069 - val_loss: 0.0063 - val_mean_squared_error: 0.0063\n",
      "Epoch 15/1000\n",
      "48/48 [==============================] - 0s 3ms/step - loss: 0.0066 - mean_squared_error: 0.0066 - val_loss: 0.0059 - val_mean_squared_error: 0.0059\n",
      "Epoch 16/1000\n",
      "48/48 [==============================] - 0s 3ms/step - loss: 0.0062 - mean_squared_error: 0.0062 - val_loss: 0.0057 - val_mean_squared_error: 0.0057\n",
      "Epoch 17/1000\n",
      "48/48 [==============================] - 0s 2ms/step - loss: 0.0058 - mean_squared_error: 0.0058 - val_loss: 0.0051 - val_mean_squared_error: 0.0051\n",
      "Epoch 18/1000\n",
      "48/48 [==============================] - 0s 3ms/step - loss: 0.0053 - mean_squared_error: 0.0053 - val_loss: 0.0048 - val_mean_squared_error: 0.0048\n",
      "Epoch 19/1000\n",
      "48/48 [==============================] - 0s 2ms/step - loss: 0.0049 - mean_squared_error: 0.0049 - val_loss: 0.0044 - val_mean_squared_error: 0.0044\n",
      "Epoch 20/1000\n",
      "48/48 [==============================] - 0s 2ms/step - loss: 0.0046 - mean_squared_error: 0.0046 - val_loss: 0.0041 - val_mean_squared_error: 0.0041\n",
      "Epoch 21/1000\n",
      "48/48 [==============================] - 0s 2ms/step - loss: 0.0042 - mean_squared_error: 0.0042 - val_loss: 0.0038 - val_mean_squared_error: 0.0038\n",
      "Epoch 22/1000\n",
      "48/48 [==============================] - 0s 3ms/step - loss: 0.0040 - mean_squared_error: 0.0040 - val_loss: 0.0036 - val_mean_squared_error: 0.0036\n",
      "Epoch 23/1000\n",
      "48/48 [==============================] - 0s 4ms/step - loss: 0.0036 - mean_squared_error: 0.0036 - val_loss: 0.0033 - val_mean_squared_error: 0.0033\n",
      "Epoch 24/1000\n",
      "48/48 [==============================] - 0s 3ms/step - loss: 0.0034 - mean_squared_error: 0.0034 - val_loss: 0.0030 - val_mean_squared_error: 0.0030\n",
      "Epoch 25/1000\n",
      "48/48 [==============================] - 0s 3ms/step - loss: 0.0031 - mean_squared_error: 0.0031 - val_loss: 0.0028 - val_mean_squared_error: 0.0028\n",
      "Epoch 26/1000\n",
      "48/48 [==============================] - 0s 2ms/step - loss: 0.0029 - mean_squared_error: 0.0029 - val_loss: 0.0027 - val_mean_squared_error: 0.0027\n",
      "Epoch 27/1000\n",
      "48/48 [==============================] - 0s 3ms/step - loss: 0.0027 - mean_squared_error: 0.0027 - val_loss: 0.0025 - val_mean_squared_error: 0.0025\n",
      "Epoch 28/1000\n",
      "48/48 [==============================] - 0s 2ms/step - loss: 0.0025 - mean_squared_error: 0.0025 - val_loss: 0.0023 - val_mean_squared_error: 0.0023\n",
      "Epoch 29/1000\n",
      "48/48 [==============================] - 0s 2ms/step - loss: 0.0023 - mean_squared_error: 0.0023 - val_loss: 0.0021 - val_mean_squared_error: 0.0021\n",
      "Epoch 30/1000\n",
      "48/48 [==============================] - 0s 2ms/step - loss: 0.0022 - mean_squared_error: 0.0022 - val_loss: 0.0021 - val_mean_squared_error: 0.0021\n",
      "Epoch 31/1000\n",
      "48/48 [==============================] - 0s 2ms/step - loss: 0.0020 - mean_squared_error: 0.0020 - val_loss: 0.0019 - val_mean_squared_error: 0.0019\n",
      "Epoch 32/1000\n",
      "48/48 [==============================] - 0s 2ms/step - loss: 0.0019 - mean_squared_error: 0.0019 - val_loss: 0.0018 - val_mean_squared_error: 0.0018\n",
      "Epoch 33/1000\n",
      "48/48 [==============================] - 0s 2ms/step - loss: 0.0018 - mean_squared_error: 0.0018 - val_loss: 0.0017 - val_mean_squared_error: 0.0017\n",
      "Epoch 34/1000\n",
      "48/48 [==============================] - 0s 2ms/step - loss: 0.0017 - mean_squared_error: 0.0017 - val_loss: 0.0016 - val_mean_squared_error: 0.0016\n",
      "Epoch 35/1000\n",
      "48/48 [==============================] - 0s 2ms/step - loss: 0.0016 - mean_squared_error: 0.0016 - val_loss: 0.0016 - val_mean_squared_error: 0.0016\n",
      "Epoch 36/1000\n",
      "48/48 [==============================] - 0s 2ms/step - loss: 0.0016 - mean_squared_error: 0.0016 - val_loss: 0.0014 - val_mean_squared_error: 0.0014\n",
      "Epoch 37/1000\n",
      "48/48 [==============================] - 0s 3ms/step - loss: 0.0014 - mean_squared_error: 0.0014 - val_loss: 0.0014 - val_mean_squared_error: 0.0014\n",
      "Epoch 38/1000\n",
      "48/48 [==============================] - 0s 4ms/step - loss: 0.0013 - mean_squared_error: 0.0013 - val_loss: 0.0013 - val_mean_squared_error: 0.0013\n",
      "Epoch 39/1000\n",
      "48/48 [==============================] - 0s 3ms/step - loss: 0.0012 - mean_squared_error: 0.0012 - val_loss: 0.0012 - val_mean_squared_error: 0.0012\n",
      "Epoch 40/1000\n",
      "48/48 [==============================] - 0s 3ms/step - loss: 0.0012 - mean_squared_error: 0.0012 - val_loss: 0.0013 - val_mean_squared_error: 0.0013\n",
      "Epoch 41/1000\n",
      "48/48 [==============================] - 0s 4ms/step - loss: 0.0011 - mean_squared_error: 0.0011 - val_loss: 0.0011 - val_mean_squared_error: 0.0011\n",
      "Epoch 42/1000\n",
      "48/48 [==============================] - 0s 3ms/step - loss: 0.0011 - mean_squared_error: 0.0011 - val_loss: 0.0010 - val_mean_squared_error: 0.0010\n",
      "Epoch 43/1000\n",
      "48/48 [==============================] - 0s 3ms/step - loss: 9.8940e-04 - mean_squared_error: 9.8940e-04 - val_loss: 9.9001e-04 - val_mean_squared_error: 9.9001e-04\n",
      "Epoch 44/1000\n",
      "48/48 [==============================] - 0s 3ms/step - loss: 9.4315e-04 - mean_squared_error: 9.4315e-04 - val_loss: 9.5389e-04 - val_mean_squared_error: 9.5389e-04\n",
      "Epoch 45/1000\n",
      "48/48 [==============================] - 0s 3ms/step - loss: 8.7611e-04 - mean_squared_error: 8.7611e-04 - val_loss: 9.7506e-04 - val_mean_squared_error: 9.7506e-04\n",
      "Epoch 46/1000\n",
      "48/48 [==============================] - 0s 3ms/step - loss: 8.4272e-04 - mean_squared_error: 8.4272e-04 - val_loss: 9.0892e-04 - val_mean_squared_error: 9.0892e-04\n",
      "Epoch 47/1000\n",
      "48/48 [==============================] - 0s 3ms/step - loss: 8.4334e-04 - mean_squared_error: 8.4334e-04 - val_loss: 8.1739e-04 - val_mean_squared_error: 8.1739e-04\n",
      "Epoch 48/1000\n",
      "48/48 [==============================] - 0s 3ms/step - loss: 8.0305e-04 - mean_squared_error: 8.0305e-04 - val_loss: 8.3696e-04 - val_mean_squared_error: 8.3696e-04\n",
      "Epoch 49/1000\n",
      "48/48 [==============================] - 0s 2ms/step - loss: 7.5035e-04 - mean_squared_error: 7.5035e-04 - val_loss: 7.9126e-04 - val_mean_squared_error: 7.9126e-04\n",
      "Epoch 50/1000\n",
      "48/48 [==============================] - 0s 2ms/step - loss: 7.0103e-04 - mean_squared_error: 7.0103e-04 - val_loss: 7.5514e-04 - val_mean_squared_error: 7.5514e-04\n",
      "Epoch 51/1000\n",
      "48/48 [==============================] - 0s 2ms/step - loss: 6.7507e-04 - mean_squared_error: 6.7507e-04 - val_loss: 6.7645e-04 - val_mean_squared_error: 6.7645e-04\n",
      "Epoch 52/1000\n",
      "48/48 [==============================] - 0s 2ms/step - loss: 6.3653e-04 - mean_squared_error: 6.3653e-04 - val_loss: 6.4969e-04 - val_mean_squared_error: 6.4969e-04\n",
      "Epoch 53/1000\n",
      "48/48 [==============================] - 0s 2ms/step - loss: 6.0643e-04 - mean_squared_error: 6.0643e-04 - val_loss: 6.2359e-04 - val_mean_squared_error: 6.2359e-04\n",
      "Epoch 54/1000\n",
      "48/48 [==============================] - 0s 2ms/step - loss: 5.9909e-04 - mean_squared_error: 5.9909e-04 - val_loss: 5.9675e-04 - val_mean_squared_error: 5.9675e-04\n",
      "Epoch 55/1000\n",
      "48/48 [==============================] - 0s 2ms/step - loss: 5.5895e-04 - mean_squared_error: 5.5895e-04 - val_loss: 5.7406e-04 - val_mean_squared_error: 5.7406e-04\n",
      "Epoch 56/1000\n",
      "48/48 [==============================] - 0s 2ms/step - loss: 5.4162e-04 - mean_squared_error: 5.4162e-04 - val_loss: 5.6983e-04 - val_mean_squared_error: 5.6983e-04\n",
      "Epoch 57/1000\n",
      "48/48 [==============================] - 0s 2ms/step - loss: 5.2741e-04 - mean_squared_error: 5.2741e-04 - val_loss: 5.3702e-04 - val_mean_squared_error: 5.3702e-04\n",
      "Epoch 58/1000\n",
      "48/48 [==============================] - 0s 2ms/step - loss: 5.1833e-04 - mean_squared_error: 5.1833e-04 - val_loss: 5.5221e-04 - val_mean_squared_error: 5.5221e-04\n",
      "Epoch 59/1000\n",
      "48/48 [==============================] - 0s 2ms/step - loss: 4.8332e-04 - mean_squared_error: 4.8332e-04 - val_loss: 5.0321e-04 - val_mean_squared_error: 5.0321e-04\n",
      "Epoch 60/1000\n",
      "48/48 [==============================] - 0s 3ms/step - loss: 4.5758e-04 - mean_squared_error: 4.5758e-04 - val_loss: 4.9403e-04 - val_mean_squared_error: 4.9403e-04\n",
      "Epoch 61/1000\n",
      "48/48 [==============================] - 0s 2ms/step - loss: 4.4002e-04 - mean_squared_error: 4.4002e-04 - val_loss: 4.5774e-04 - val_mean_squared_error: 4.5774e-04\n",
      "Epoch 62/1000\n",
      "48/48 [==============================] - 0s 2ms/step - loss: 4.5442e-04 - mean_squared_error: 4.5442e-04 - val_loss: 4.7600e-04 - val_mean_squared_error: 4.7600e-04\n",
      "Epoch 63/1000\n",
      "48/48 [==============================] - 0s 2ms/step - loss: 4.1887e-04 - mean_squared_error: 4.1887e-04 - val_loss: 4.2878e-04 - val_mean_squared_error: 4.2878e-04\n",
      "Epoch 64/1000\n",
      "48/48 [==============================] - 0s 2ms/step - loss: 4.1528e-04 - mean_squared_error: 4.1528e-04 - val_loss: 4.1035e-04 - val_mean_squared_error: 4.1035e-04\n",
      "Epoch 65/1000\n",
      "48/48 [==============================] - 0s 2ms/step - loss: 3.8411e-04 - mean_squared_error: 3.8411e-04 - val_loss: 3.9981e-04 - val_mean_squared_error: 3.9981e-04\n",
      "Epoch 66/1000\n",
      "48/48 [==============================] - 0s 2ms/step - loss: 3.7259e-04 - mean_squared_error: 3.7259e-04 - val_loss: 3.8412e-04 - val_mean_squared_error: 3.8412e-04\n",
      "Epoch 67/1000\n",
      "48/48 [==============================] - 0s 2ms/step - loss: 3.6655e-04 - mean_squared_error: 3.6655e-04 - val_loss: 3.7700e-04 - val_mean_squared_error: 3.7700e-04\n",
      "Epoch 68/1000\n",
      "48/48 [==============================] - 0s 2ms/step - loss: 3.5094e-04 - mean_squared_error: 3.5094e-04 - val_loss: 3.7832e-04 - val_mean_squared_error: 3.7832e-04\n",
      "Epoch 69/1000\n",
      "48/48 [==============================] - 0s 2ms/step - loss: 3.4470e-04 - mean_squared_error: 3.4470e-04 - val_loss: 3.4647e-04 - val_mean_squared_error: 3.4647e-04\n",
      "Epoch 70/1000\n",
      "48/48 [==============================] - 0s 3ms/step - loss: 3.3738e-04 - mean_squared_error: 3.3738e-04 - val_loss: 3.4346e-04 - val_mean_squared_error: 3.4346e-04\n",
      "Epoch 71/1000\n",
      "48/48 [==============================] - 0s 3ms/step - loss: 3.1808e-04 - mean_squared_error: 3.1808e-04 - val_loss: 3.4628e-04 - val_mean_squared_error: 3.4628e-04\n",
      "Epoch 72/1000\n",
      "48/48 [==============================] - 0s 2ms/step - loss: 3.1611e-04 - mean_squared_error: 3.1611e-04 - val_loss: 3.1256e-04 - val_mean_squared_error: 3.1256e-04\n",
      "Epoch 73/1000\n",
      "48/48 [==============================] - 0s 2ms/step - loss: 3.0689e-04 - mean_squared_error: 3.0689e-04 - val_loss: 2.9290e-04 - val_mean_squared_error: 2.9290e-04\n",
      "Epoch 74/1000\n",
      "48/48 [==============================] - 0s 2ms/step - loss: 3.0135e-04 - mean_squared_error: 3.0135e-04 - val_loss: 3.0311e-04 - val_mean_squared_error: 3.0311e-04\n",
      "Epoch 75/1000\n",
      "48/48 [==============================] - 0s 3ms/step - loss: 2.8316e-04 - mean_squared_error: 2.8316e-04 - val_loss: 2.8248e-04 - val_mean_squared_error: 2.8248e-04\n",
      "Epoch 76/1000\n",
      "48/48 [==============================] - 0s 2ms/step - loss: 2.8503e-04 - mean_squared_error: 2.8503e-04 - val_loss: 3.4833e-04 - val_mean_squared_error: 3.4833e-04\n",
      "Epoch 77/1000\n",
      "48/48 [==============================] - 0s 2ms/step - loss: 2.8554e-04 - mean_squared_error: 2.8554e-04 - val_loss: 2.6927e-04 - val_mean_squared_error: 2.6927e-04\n",
      "Epoch 78/1000\n",
      "48/48 [==============================] - 0s 2ms/step - loss: 2.6820e-04 - mean_squared_error: 2.6820e-04 - val_loss: 2.6104e-04 - val_mean_squared_error: 2.6104e-04\n",
      "Epoch 79/1000\n",
      "48/48 [==============================] - 0s 3ms/step - loss: 2.5883e-04 - mean_squared_error: 2.5883e-04 - val_loss: 2.4550e-04 - val_mean_squared_error: 2.4550e-04\n",
      "Epoch 80/1000\n",
      "48/48 [==============================] - 0s 2ms/step - loss: 2.5012e-04 - mean_squared_error: 2.5012e-04 - val_loss: 2.5595e-04 - val_mean_squared_error: 2.5595e-04\n",
      "Epoch 81/1000\n",
      "48/48 [==============================] - 0s 2ms/step - loss: 2.4803e-04 - mean_squared_error: 2.4803e-04 - val_loss: 2.3985e-04 - val_mean_squared_error: 2.3985e-04\n",
      "Epoch 82/1000\n",
      "48/48 [==============================] - 0s 2ms/step - loss: 2.4192e-04 - mean_squared_error: 2.4192e-04 - val_loss: 2.2884e-04 - val_mean_squared_error: 2.2884e-04\n",
      "Epoch 83/1000\n",
      "48/48 [==============================] - 0s 2ms/step - loss: 2.3771e-04 - mean_squared_error: 2.3771e-04 - val_loss: 2.1984e-04 - val_mean_squared_error: 2.1984e-04\n",
      "Epoch 84/1000\n",
      "48/48 [==============================] - 0s 2ms/step - loss: 2.3474e-04 - mean_squared_error: 2.3474e-04 - val_loss: 2.1916e-04 - val_mean_squared_error: 2.1916e-04\n",
      "Epoch 85/1000\n",
      "48/48 [==============================] - 0s 2ms/step - loss: 2.2001e-04 - mean_squared_error: 2.2001e-04 - val_loss: 2.0148e-04 - val_mean_squared_error: 2.0148e-04\n",
      "Epoch 86/1000\n",
      "48/48 [==============================] - 0s 2ms/step - loss: 2.2052e-04 - mean_squared_error: 2.2052e-04 - val_loss: 2.1650e-04 - val_mean_squared_error: 2.1650e-04\n",
      "Epoch 87/1000\n",
      "48/48 [==============================] - 0s 4ms/step - loss: 2.1941e-04 - mean_squared_error: 2.1941e-04 - val_loss: 1.9432e-04 - val_mean_squared_error: 1.9432e-04\n",
      "Epoch 88/1000\n",
      "48/48 [==============================] - 0s 2ms/step - loss: 2.1715e-04 - mean_squared_error: 2.1715e-04 - val_loss: 1.8835e-04 - val_mean_squared_error: 1.8835e-04\n",
      "Epoch 89/1000\n",
      "48/48 [==============================] - 0s 2ms/step - loss: 2.0997e-04 - mean_squared_error: 2.0997e-04 - val_loss: 1.9140e-04 - val_mean_squared_error: 1.9140e-04\n",
      "Epoch 90/1000\n",
      "48/48 [==============================] - 0s 2ms/step - loss: 2.1006e-04 - mean_squared_error: 2.1006e-04 - val_loss: 2.0687e-04 - val_mean_squared_error: 2.0687e-04\n",
      "Epoch 91/1000\n",
      "48/48 [==============================] - 0s 2ms/step - loss: 2.1830e-04 - mean_squared_error: 2.1830e-04 - val_loss: 1.8759e-04 - val_mean_squared_error: 1.8759e-04\n",
      "Epoch 92/1000\n",
      "48/48 [==============================] - 0s 3ms/step - loss: 1.9792e-04 - mean_squared_error: 1.9792e-04 - val_loss: 1.8533e-04 - val_mean_squared_error: 1.8533e-04\n",
      "Epoch 93/1000\n",
      "48/48 [==============================] - 0s 3ms/step - loss: 2.0144e-04 - mean_squared_error: 2.0144e-04 - val_loss: 1.9147e-04 - val_mean_squared_error: 1.9147e-04\n",
      "Epoch 94/1000\n",
      "48/48 [==============================] - 0s 2ms/step - loss: 2.0474e-04 - mean_squared_error: 2.0474e-04 - val_loss: 1.7111e-04 - val_mean_squared_error: 1.7111e-04\n",
      "Epoch 95/1000\n",
      "48/48 [==============================] - 0s 2ms/step - loss: 1.8766e-04 - mean_squared_error: 1.8766e-04 - val_loss: 1.6439e-04 - val_mean_squared_error: 1.6439e-04\n",
      "Epoch 96/1000\n",
      "48/48 [==============================] - 0s 2ms/step - loss: 1.9174e-04 - mean_squared_error: 1.9174e-04 - val_loss: 1.6145e-04 - val_mean_squared_error: 1.6145e-04\n",
      "Epoch 97/1000\n",
      "48/48 [==============================] - 0s 2ms/step - loss: 1.8519e-04 - mean_squared_error: 1.8519e-04 - val_loss: 1.6116e-04 - val_mean_squared_error: 1.6116e-04\n",
      "Epoch 98/1000\n",
      "48/48 [==============================] - 0s 2ms/step - loss: 1.8223e-04 - mean_squared_error: 1.8223e-04 - val_loss: 1.5371e-04 - val_mean_squared_error: 1.5371e-04\n",
      "Epoch 99/1000\n",
      "48/48 [==============================] - 0s 3ms/step - loss: 1.7855e-04 - mean_squared_error: 1.7855e-04 - val_loss: 1.4959e-04 - val_mean_squared_error: 1.4959e-04\n",
      "Epoch 100/1000\n",
      "48/48 [==============================] - 0s 2ms/step - loss: 1.7577e-04 - mean_squared_error: 1.7577e-04 - val_loss: 1.4659e-04 - val_mean_squared_error: 1.4659e-04\n",
      "Epoch 101/1000\n",
      "48/48 [==============================] - 0s 3ms/step - loss: 1.7400e-04 - mean_squared_error: 1.7400e-04 - val_loss: 1.4958e-04 - val_mean_squared_error: 1.4958e-04\n",
      "Epoch 102/1000\n",
      "48/48 [==============================] - 0s 2ms/step - loss: 1.7314e-04 - mean_squared_error: 1.7314e-04 - val_loss: 1.4402e-04 - val_mean_squared_error: 1.4402e-04\n",
      "Epoch 103/1000\n",
      "48/48 [==============================] - 0s 2ms/step - loss: 1.7669e-04 - mean_squared_error: 1.7669e-04 - val_loss: 1.4510e-04 - val_mean_squared_error: 1.4510e-04\n",
      "Epoch 104/1000\n",
      "48/48 [==============================] - 0s 2ms/step - loss: 1.7514e-04 - mean_squared_error: 1.7514e-04 - val_loss: 1.4225e-04 - val_mean_squared_error: 1.4225e-04\n",
      "Epoch 105/1000\n",
      "48/48 [==============================] - 0s 2ms/step - loss: 1.7206e-04 - mean_squared_error: 1.7206e-04 - val_loss: 1.3860e-04 - val_mean_squared_error: 1.3860e-04\n",
      "Epoch 106/1000\n",
      "48/48 [==============================] - 0s 2ms/step - loss: 1.6653e-04 - mean_squared_error: 1.6653e-04 - val_loss: 1.4776e-04 - val_mean_squared_error: 1.4776e-04\n",
      "Epoch 107/1000\n",
      "48/48 [==============================] - 0s 2ms/step - loss: 1.6218e-04 - mean_squared_error: 1.6218e-04 - val_loss: 1.3505e-04 - val_mean_squared_error: 1.3505e-04\n",
      "Epoch 108/1000\n",
      "48/48 [==============================] - 0s 2ms/step - loss: 1.6330e-04 - mean_squared_error: 1.6330e-04 - val_loss: 1.4463e-04 - val_mean_squared_error: 1.4463e-04\n",
      "Epoch 109/1000\n",
      "48/48 [==============================] - 0s 2ms/step - loss: 1.6501e-04 - mean_squared_error: 1.6501e-04 - val_loss: 1.3254e-04 - val_mean_squared_error: 1.3254e-04\n",
      "Epoch 110/1000\n",
      "48/48 [==============================] - 0s 2ms/step - loss: 1.5557e-04 - mean_squared_error: 1.5557e-04 - val_loss: 1.3067e-04 - val_mean_squared_error: 1.3067e-04\n",
      "Epoch 111/1000\n",
      "48/48 [==============================] - 0s 2ms/step - loss: 1.6065e-04 - mean_squared_error: 1.6065e-04 - val_loss: 1.3966e-04 - val_mean_squared_error: 1.3966e-04\n",
      "Epoch 112/1000\n",
      "48/48 [==============================] - 0s 2ms/step - loss: 1.5899e-04 - mean_squared_error: 1.5899e-04 - val_loss: 1.4172e-04 - val_mean_squared_error: 1.4172e-04\n",
      "Epoch 113/1000\n",
      "48/48 [==============================] - 0s 2ms/step - loss: 1.5390e-04 - mean_squared_error: 1.5390e-04 - val_loss: 1.2827e-04 - val_mean_squared_error: 1.2827e-04\n",
      "Epoch 114/1000\n",
      "48/48 [==============================] - 0s 2ms/step - loss: 1.6528e-04 - mean_squared_error: 1.6528e-04 - val_loss: 1.5082e-04 - val_mean_squared_error: 1.5082e-04\n",
      "Epoch 115/1000\n",
      "48/48 [==============================] - 0s 2ms/step - loss: 1.5715e-04 - mean_squared_error: 1.5715e-04 - val_loss: 1.3796e-04 - val_mean_squared_error: 1.3796e-04\n",
      "Epoch 116/1000\n",
      "48/48 [==============================] - 0s 2ms/step - loss: 1.6099e-04 - mean_squared_error: 1.6099e-04 - val_loss: 1.3597e-04 - val_mean_squared_error: 1.3597e-04\n",
      "Epoch 117/1000\n",
      "48/48 [==============================] - 0s 2ms/step - loss: 1.5652e-04 - mean_squared_error: 1.5652e-04 - val_loss: 1.3059e-04 - val_mean_squared_error: 1.3059e-04\n",
      "Epoch 118/1000\n",
      "48/48 [==============================] - 0s 2ms/step - loss: 1.5579e-04 - mean_squared_error: 1.5579e-04 - val_loss: 1.2105e-04 - val_mean_squared_error: 1.2105e-04\n",
      "Epoch 119/1000\n",
      "48/48 [==============================] - 0s 2ms/step - loss: 1.5002e-04 - mean_squared_error: 1.5002e-04 - val_loss: 1.2731e-04 - val_mean_squared_error: 1.2731e-04\n",
      "Epoch 120/1000\n",
      "48/48 [==============================] - 0s 2ms/step - loss: 1.4641e-04 - mean_squared_error: 1.4641e-04 - val_loss: 1.1884e-04 - val_mean_squared_error: 1.1884e-04\n",
      "Epoch 121/1000\n",
      "48/48 [==============================] - 0s 3ms/step - loss: 1.4812e-04 - mean_squared_error: 1.4812e-04 - val_loss: 1.2072e-04 - val_mean_squared_error: 1.2072e-04\n",
      "Epoch 122/1000\n",
      "48/48 [==============================] - 0s 2ms/step - loss: 1.5551e-04 - mean_squared_error: 1.5551e-04 - val_loss: 1.2637e-04 - val_mean_squared_error: 1.2637e-04\n",
      "Epoch 123/1000\n",
      "48/48 [==============================] - 0s 3ms/step - loss: 1.5130e-04 - mean_squared_error: 1.5130e-04 - val_loss: 1.2066e-04 - val_mean_squared_error: 1.2066e-04\n",
      "Epoch 124/1000\n",
      "48/48 [==============================] - 0s 2ms/step - loss: 1.6139e-04 - mean_squared_error: 1.6139e-04 - val_loss: 1.1920e-04 - val_mean_squared_error: 1.1920e-04\n",
      "Epoch 125/1000\n",
      "48/48 [==============================] - 0s 3ms/step - loss: 1.4898e-04 - mean_squared_error: 1.4898e-04 - val_loss: 1.1505e-04 - val_mean_squared_error: 1.1505e-04\n",
      "Epoch 126/1000\n",
      "48/48 [==============================] - 0s 2ms/step - loss: 1.4115e-04 - mean_squared_error: 1.4115e-04 - val_loss: 1.1798e-04 - val_mean_squared_error: 1.1798e-04\n",
      "Epoch 127/1000\n",
      "48/48 [==============================] - 0s 2ms/step - loss: 1.3968e-04 - mean_squared_error: 1.3968e-04 - val_loss: 1.2686e-04 - val_mean_squared_error: 1.2686e-04\n",
      "Epoch 128/1000\n",
      "48/48 [==============================] - 0s 3ms/step - loss: 1.4490e-04 - mean_squared_error: 1.4490e-04 - val_loss: 1.5327e-04 - val_mean_squared_error: 1.5327e-04\n",
      "Epoch 129/1000\n",
      "48/48 [==============================] - 0s 2ms/step - loss: 1.5020e-04 - mean_squared_error: 1.5020e-04 - val_loss: 1.6502e-04 - val_mean_squared_error: 1.6502e-04\n",
      "Epoch 130/1000\n",
      "48/48 [==============================] - 0s 2ms/step - loss: 1.4405e-04 - mean_squared_error: 1.4405e-04 - val_loss: 1.1978e-04 - val_mean_squared_error: 1.1978e-04\n",
      "Epoch 131/1000\n",
      "48/48 [==============================] - 0s 2ms/step - loss: 1.5377e-04 - mean_squared_error: 1.5377e-04 - val_loss: 1.2788e-04 - val_mean_squared_error: 1.2788e-04\n",
      "Epoch 132/1000\n",
      "48/48 [==============================] - 0s 2ms/step - loss: 1.3814e-04 - mean_squared_error: 1.3814e-04 - val_loss: 1.2294e-04 - val_mean_squared_error: 1.2294e-04\n",
      "Epoch 133/1000\n",
      "48/48 [==============================] - 0s 3ms/step - loss: 1.3556e-04 - mean_squared_error: 1.3556e-04 - val_loss: 1.1400e-04 - val_mean_squared_error: 1.1400e-04\n",
      "Epoch 134/1000\n",
      "48/48 [==============================] - 0s 4ms/step - loss: 1.3422e-04 - mean_squared_error: 1.3422e-04 - val_loss: 1.1072e-04 - val_mean_squared_error: 1.1072e-04\n",
      "Epoch 135/1000\n",
      "48/48 [==============================] - 0s 2ms/step - loss: 1.3875e-04 - mean_squared_error: 1.3875e-04 - val_loss: 1.0929e-04 - val_mean_squared_error: 1.0929e-04\n",
      "Epoch 136/1000\n",
      "48/48 [==============================] - 0s 2ms/step - loss: 1.3466e-04 - mean_squared_error: 1.3466e-04 - val_loss: 1.1018e-04 - val_mean_squared_error: 1.1018e-04\n",
      "Epoch 137/1000\n",
      "48/48 [==============================] - 0s 2ms/step - loss: 1.2820e-04 - mean_squared_error: 1.2820e-04 - val_loss: 1.1239e-04 - val_mean_squared_error: 1.1239e-04\n",
      "Epoch 138/1000\n",
      "48/48 [==============================] - 0s 2ms/step - loss: 1.3385e-04 - mean_squared_error: 1.3385e-04 - val_loss: 1.0887e-04 - val_mean_squared_error: 1.0887e-04\n",
      "Epoch 139/1000\n",
      "48/48 [==============================] - 0s 3ms/step - loss: 1.3811e-04 - mean_squared_error: 1.3811e-04 - val_loss: 1.3770e-04 - val_mean_squared_error: 1.3770e-04\n",
      "Epoch 140/1000\n",
      "48/48 [==============================] - 0s 2ms/step - loss: 1.3437e-04 - mean_squared_error: 1.3437e-04 - val_loss: 1.1180e-04 - val_mean_squared_error: 1.1180e-04\n",
      "Epoch 141/1000\n",
      "48/48 [==============================] - 0s 2ms/step - loss: 1.2629e-04 - mean_squared_error: 1.2629e-04 - val_loss: 1.0611e-04 - val_mean_squared_error: 1.0611e-04\n",
      "Epoch 142/1000\n",
      "48/48 [==============================] - 0s 3ms/step - loss: 1.4581e-04 - mean_squared_error: 1.4581e-04 - val_loss: 1.0006e-04 - val_mean_squared_error: 1.0006e-04\n",
      "Epoch 143/1000\n",
      "48/48 [==============================] - 0s 2ms/step - loss: 1.4721e-04 - mean_squared_error: 1.4721e-04 - val_loss: 1.2465e-04 - val_mean_squared_error: 1.2465e-04\n",
      "Epoch 144/1000\n",
      "48/48 [==============================] - 0s 2ms/step - loss: 1.2915e-04 - mean_squared_error: 1.2915e-04 - val_loss: 1.1657e-04 - val_mean_squared_error: 1.1657e-04\n",
      "Epoch 145/1000\n",
      "48/48 [==============================] - 0s 2ms/step - loss: 1.3219e-04 - mean_squared_error: 1.3219e-04 - val_loss: 1.3287e-04 - val_mean_squared_error: 1.3287e-04\n",
      "Epoch 146/1000\n",
      "48/48 [==============================] - 0s 2ms/step - loss: 1.3224e-04 - mean_squared_error: 1.3224e-04 - val_loss: 9.6543e-05 - val_mean_squared_error: 9.6543e-05\n",
      "Epoch 147/1000\n",
      "48/48 [==============================] - 0s 2ms/step - loss: 1.2794e-04 - mean_squared_error: 1.2794e-04 - val_loss: 1.0717e-04 - val_mean_squared_error: 1.0717e-04\n",
      "Epoch 148/1000\n",
      "48/48 [==============================] - 0s 2ms/step - loss: 1.2560e-04 - mean_squared_error: 1.2560e-04 - val_loss: 1.2810e-04 - val_mean_squared_error: 1.2810e-04\n",
      "Epoch 149/1000\n",
      "48/48 [==============================] - 0s 2ms/step - loss: 1.3114e-04 - mean_squared_error: 1.3114e-04 - val_loss: 9.6159e-05 - val_mean_squared_error: 9.6159e-05\n",
      "Epoch 150/1000\n",
      "48/48 [==============================] - 0s 2ms/step - loss: 1.2735e-04 - mean_squared_error: 1.2735e-04 - val_loss: 1.0935e-04 - val_mean_squared_error: 1.0935e-04\n",
      "Epoch 151/1000\n",
      "48/48 [==============================] - 0s 2ms/step - loss: 1.2380e-04 - mean_squared_error: 1.2380e-04 - val_loss: 1.0122e-04 - val_mean_squared_error: 1.0122e-04\n",
      "Epoch 152/1000\n",
      "48/48 [==============================] - 0s 2ms/step - loss: 1.3789e-04 - mean_squared_error: 1.3789e-04 - val_loss: 9.3505e-05 - val_mean_squared_error: 9.3505e-05\n",
      "Epoch 153/1000\n",
      "48/48 [==============================] - 0s 2ms/step - loss: 1.2185e-04 - mean_squared_error: 1.2185e-04 - val_loss: 1.0018e-04 - val_mean_squared_error: 1.0018e-04\n",
      "Epoch 154/1000\n",
      "48/48 [==============================] - 0s 2ms/step - loss: 1.1914e-04 - mean_squared_error: 1.1914e-04 - val_loss: 1.0294e-04 - val_mean_squared_error: 1.0294e-04\n",
      "Epoch 155/1000\n",
      "48/48 [==============================] - 0s 2ms/step - loss: 1.2225e-04 - mean_squared_error: 1.2225e-04 - val_loss: 9.7692e-05 - val_mean_squared_error: 9.7692e-05\n",
      "Epoch 156/1000\n",
      "48/48 [==============================] - 0s 2ms/step - loss: 1.2085e-04 - mean_squared_error: 1.2085e-04 - val_loss: 1.1363e-04 - val_mean_squared_error: 1.1363e-04\n",
      "Epoch 157/1000\n",
      "48/48 [==============================] - 0s 2ms/step - loss: 1.1820e-04 - mean_squared_error: 1.1820e-04 - val_loss: 8.9317e-05 - val_mean_squared_error: 8.9317e-05\n",
      "Epoch 158/1000\n",
      "48/48 [==============================] - 0s 3ms/step - loss: 1.1829e-04 - mean_squared_error: 1.1829e-04 - val_loss: 1.2487e-04 - val_mean_squared_error: 1.2487e-04\n",
      "Epoch 159/1000\n",
      "48/48 [==============================] - 0s 2ms/step - loss: 1.3358e-04 - mean_squared_error: 1.3358e-04 - val_loss: 9.3350e-05 - val_mean_squared_error: 9.3350e-05\n",
      "Epoch 160/1000\n",
      "48/48 [==============================] - 0s 2ms/step - loss: 1.2127e-04 - mean_squared_error: 1.2127e-04 - val_loss: 9.8422e-05 - val_mean_squared_error: 9.8422e-05\n",
      "Epoch 161/1000\n",
      "48/48 [==============================] - 0s 2ms/step - loss: 1.1906e-04 - mean_squared_error: 1.1906e-04 - val_loss: 9.6322e-05 - val_mean_squared_error: 9.6322e-05\n",
      "Epoch 162/1000\n",
      "48/48 [==============================] - 0s 2ms/step - loss: 1.1965e-04 - mean_squared_error: 1.1965e-04 - val_loss: 9.2146e-05 - val_mean_squared_error: 9.2146e-05\n",
      "Epoch 163/1000\n",
      "48/48 [==============================] - 0s 2ms/step - loss: 1.1238e-04 - mean_squared_error: 1.1238e-04 - val_loss: 1.0952e-04 - val_mean_squared_error: 1.0952e-04\n",
      "Epoch 164/1000\n",
      "48/48 [==============================] - 0s 2ms/step - loss: 1.1711e-04 - mean_squared_error: 1.1711e-04 - val_loss: 9.6122e-05 - val_mean_squared_error: 9.6122e-05\n",
      "Epoch 165/1000\n",
      "48/48 [==============================] - 0s 2ms/step - loss: 1.1102e-04 - mean_squared_error: 1.1102e-04 - val_loss: 1.2506e-04 - val_mean_squared_error: 1.2506e-04\n",
      "Epoch 166/1000\n",
      "48/48 [==============================] - 0s 2ms/step - loss: 1.1194e-04 - mean_squared_error: 1.1194e-04 - val_loss: 1.0757e-04 - val_mean_squared_error: 1.0757e-04\n",
      "Epoch 167/1000\n",
      "48/48 [==============================] - 0s 2ms/step - loss: 1.1831e-04 - mean_squared_error: 1.1831e-04 - val_loss: 8.7748e-05 - val_mean_squared_error: 8.7748e-05\n",
      "Epoch 168/1000\n",
      "48/48 [==============================] - 0s 2ms/step - loss: 1.1504e-04 - mean_squared_error: 1.1504e-04 - val_loss: 8.5472e-05 - val_mean_squared_error: 8.5472e-05\n",
      "Epoch 169/1000\n",
      "48/48 [==============================] - 0s 2ms/step - loss: 1.1426e-04 - mean_squared_error: 1.1426e-04 - val_loss: 8.8621e-05 - val_mean_squared_error: 8.8621e-05\n",
      "Epoch 170/1000\n",
      "48/48 [==============================] - 0s 2ms/step - loss: 1.1056e-04 - mean_squared_error: 1.1056e-04 - val_loss: 8.5027e-05 - val_mean_squared_error: 8.5027e-05\n",
      "Epoch 171/1000\n",
      "48/48 [==============================] - 0s 2ms/step - loss: 1.0964e-04 - mean_squared_error: 1.0964e-04 - val_loss: 9.5090e-05 - val_mean_squared_error: 9.5090e-05\n",
      "Epoch 172/1000\n",
      "48/48 [==============================] - 0s 4ms/step - loss: 1.4841e-04 - mean_squared_error: 1.4841e-04 - val_loss: 8.9237e-05 - val_mean_squared_error: 8.9237e-05\n",
      "Epoch 173/1000\n",
      "48/48 [==============================] - 0s 2ms/step - loss: 1.0931e-04 - mean_squared_error: 1.0931e-04 - val_loss: 8.6657e-05 - val_mean_squared_error: 8.6657e-05\n",
      "Epoch 174/1000\n",
      "48/48 [==============================] - 0s 3ms/step - loss: 1.1270e-04 - mean_squared_error: 1.1270e-04 - val_loss: 8.8257e-05 - val_mean_squared_error: 8.8257e-05\n",
      "Epoch 175/1000\n",
      "48/48 [==============================] - 0s 2ms/step - loss: 1.1647e-04 - mean_squared_error: 1.1647e-04 - val_loss: 9.9169e-05 - val_mean_squared_error: 9.9169e-05\n",
      "Epoch 176/1000\n",
      "48/48 [==============================] - 0s 2ms/step - loss: 1.2740e-04 - mean_squared_error: 1.2740e-04 - val_loss: 1.0552e-04 - val_mean_squared_error: 1.0552e-04\n",
      "Epoch 177/1000\n",
      "48/48 [==============================] - 0s 2ms/step - loss: 1.1135e-04 - mean_squared_error: 1.1135e-04 - val_loss: 8.9864e-05 - val_mean_squared_error: 8.9864e-05\n",
      "Epoch 178/1000\n",
      "48/48 [==============================] - 0s 3ms/step - loss: 1.2269e-04 - mean_squared_error: 1.2269e-04 - val_loss: 8.2308e-05 - val_mean_squared_error: 8.2308e-05\n",
      "Epoch 179/1000\n",
      "48/48 [==============================] - 0s 2ms/step - loss: 1.2229e-04 - mean_squared_error: 1.2229e-04 - val_loss: 9.5500e-05 - val_mean_squared_error: 9.5500e-05\n",
      "Epoch 180/1000\n",
      "48/48 [==============================] - 0s 2ms/step - loss: 1.1669e-04 - mean_squared_error: 1.1669e-04 - val_loss: 1.0346e-04 - val_mean_squared_error: 1.0346e-04\n",
      "Epoch 181/1000\n",
      "48/48 [==============================] - 0s 2ms/step - loss: 1.2046e-04 - mean_squared_error: 1.2046e-04 - val_loss: 1.1833e-04 - val_mean_squared_error: 1.1833e-04\n",
      "Epoch 182/1000\n",
      "48/48 [==============================] - 0s 2ms/step - loss: 1.1134e-04 - mean_squared_error: 1.1134e-04 - val_loss: 7.8706e-05 - val_mean_squared_error: 7.8706e-05\n",
      "Epoch 183/1000\n",
      "48/48 [==============================] - 0s 2ms/step - loss: 1.1071e-04 - mean_squared_error: 1.1071e-04 - val_loss: 7.9764e-05 - val_mean_squared_error: 7.9764e-05\n",
      "Epoch 184/1000\n",
      "48/48 [==============================] - 0s 2ms/step - loss: 1.0620e-04 - mean_squared_error: 1.0620e-04 - val_loss: 8.2836e-05 - val_mean_squared_error: 8.2836e-05\n",
      "Epoch 185/1000\n",
      "48/48 [==============================] - 0s 2ms/step - loss: 1.0492e-04 - mean_squared_error: 1.0492e-04 - val_loss: 7.7956e-05 - val_mean_squared_error: 7.7956e-05\n",
      "Epoch 186/1000\n",
      "48/48 [==============================] - 0s 2ms/step - loss: 1.0861e-04 - mean_squared_error: 1.0861e-04 - val_loss: 8.8879e-05 - val_mean_squared_error: 8.8879e-05\n",
      "Epoch 187/1000\n",
      "48/48 [==============================] - 0s 2ms/step - loss: 1.0112e-04 - mean_squared_error: 1.0112e-04 - val_loss: 9.5627e-05 - val_mean_squared_error: 9.5627e-05\n",
      "Epoch 188/1000\n",
      "48/48 [==============================] - 0s 2ms/step - loss: 1.1064e-04 - mean_squared_error: 1.1064e-04 - val_loss: 8.2097e-05 - val_mean_squared_error: 8.2097e-05\n",
      "Epoch 189/1000\n",
      "48/48 [==============================] - 0s 3ms/step - loss: 1.0044e-04 - mean_squared_error: 1.0044e-04 - val_loss: 1.1149e-04 - val_mean_squared_error: 1.1149e-04\n",
      "Epoch 190/1000\n",
      "48/48 [==============================] - 0s 2ms/step - loss: 1.0521e-04 - mean_squared_error: 1.0521e-04 - val_loss: 7.9898e-05 - val_mean_squared_error: 7.9898e-05\n",
      "Epoch 191/1000\n",
      "48/48 [==============================] - 0s 2ms/step - loss: 1.0757e-04 - mean_squared_error: 1.0757e-04 - val_loss: 8.4766e-05 - val_mean_squared_error: 8.4766e-05\n",
      "Epoch 192/1000\n",
      "48/48 [==============================] - 0s 2ms/step - loss: 1.0458e-04 - mean_squared_error: 1.0458e-04 - val_loss: 7.9157e-05 - val_mean_squared_error: 7.9157e-05\n",
      "Epoch 193/1000\n",
      "48/48 [==============================] - 0s 2ms/step - loss: 1.0445e-04 - mean_squared_error: 1.0445e-04 - val_loss: 8.2295e-05 - val_mean_squared_error: 8.2295e-05\n",
      "Epoch 194/1000\n",
      "48/48 [==============================] - 0s 2ms/step - loss: 1.1329e-04 - mean_squared_error: 1.1329e-04 - val_loss: 8.7229e-05 - val_mean_squared_error: 8.7229e-05\n",
      "Epoch 195/1000\n",
      "48/48 [==============================] - 0s 3ms/step - loss: 1.0337e-04 - mean_squared_error: 1.0337e-04 - val_loss: 9.5097e-05 - val_mean_squared_error: 9.5097e-05\n"
     ]
    }
   ],
   "source": [
    "# Llama a la función para crear el modelo y lo guarda.\n",
    "model = my_model(learning_rate)\n",
    "# Invoca a la función de entrenamiento y guarda los resultados.\n",
    "history, mse = train_model(model, train_df, train_labels, epochs, batch_size)\n",
    "\n"
   ]
  },
  {
   "cell_type": "code",
   "execution_count": 16,
   "metadata": {},
   "outputs": [
    {
     "data": {
      "application/vnd.plotly.v1+json": {
       "config": {
        "plotlyServerURL": "https://plot.ly"
       },
       "data": [
        {
         "hovertemplate": "Curvas de Pérdida=Training Loss<br>Epoch=%{x}<br>Mean Square Error=%{y}<extra></extra>",
         "legendgroup": "Training Loss",
         "line": {
          "color": "#46039f",
          "dash": "solid"
         },
         "marker": {
          "symbol": "circle"
         },
         "mode": "lines",
         "name": "Training Loss",
         "orientation": "v",
         "showlegend": true,
         "type": "scatter",
         "x": [
          0,
          1,
          2,
          3,
          4,
          5,
          6,
          7,
          8,
          9,
          10,
          11,
          12,
          13,
          14,
          15,
          16,
          17,
          18,
          19,
          20,
          21,
          22,
          23,
          24,
          25,
          26,
          27,
          28,
          29,
          30,
          31,
          32,
          33,
          34,
          35,
          36,
          37,
          38,
          39,
          40,
          41,
          42,
          43,
          44,
          45,
          46,
          47,
          48,
          49,
          50,
          51,
          52,
          53,
          54,
          55,
          56,
          57,
          58,
          59,
          60,
          61,
          62,
          63,
          64,
          65,
          66,
          67,
          68,
          69,
          70,
          71,
          72,
          73,
          74,
          75,
          76,
          77,
          78,
          79,
          80,
          81,
          82,
          83,
          84,
          85,
          86,
          87,
          88,
          89,
          90,
          91,
          92,
          93,
          94,
          95,
          96,
          97,
          98,
          99,
          100,
          101,
          102,
          103,
          104,
          105,
          106,
          107,
          108,
          109,
          110,
          111,
          112,
          113,
          114,
          115,
          116,
          117,
          118,
          119,
          120,
          121,
          122,
          123,
          124,
          125,
          126,
          127,
          128,
          129,
          130,
          131,
          132,
          133,
          134,
          135,
          136,
          137,
          138,
          139,
          140,
          141,
          142,
          143,
          144,
          145,
          146,
          147,
          148,
          149,
          150,
          151,
          152,
          153,
          154,
          155,
          156,
          157,
          158,
          159,
          160,
          161,
          162,
          163,
          164,
          165,
          166,
          167,
          168,
          169,
          170,
          171,
          172,
          173,
          174,
          175,
          176,
          177,
          178,
          179,
          180,
          181,
          182,
          183,
          184,
          185,
          186,
          187,
          188,
          189,
          190,
          191,
          192,
          193,
          194
         ],
         "xaxis": "x",
         "y": [
          0.0594659149646759,
          0.05650883540511131,
          0.05224314704537392,
          0.04319775849580765,
          0.030875420197844505,
          0.020794816315174103,
          0.015137135982513428,
          0.012281827628612518,
          0.010616910643875599,
          0.00951317697763443,
          0.008702896535396576,
          0.00822373665869236,
          0.007440879475325346,
          0.0069446926936507225,
          0.006570372264832258,
          0.006151740439236164,
          0.005803022533655167,
          0.00532313110306859,
          0.004928276874125004,
          0.004551748279482126,
          0.0042447601445019245,
          0.003966260235756636,
          0.003641929477453232,
          0.0033693581353873014,
          0.0031368383206427097,
          0.002910174196586013,
          0.002731313230469823,
          0.0025396086275577545,
          0.0023463722318410873,
          0.0022218520753085613,
          0.0020496768411248922,
          0.0018937564454972744,
          0.0017762358766049147,
          0.0016677192179486156,
          0.0015829496551305056,
          0.0015524131013080478,
          0.001391764497384429,
          0.0013354328693822026,
          0.0012391761410981417,
          0.0011973322834819555,
          0.0011148271150887012,
          0.0010518456110730767,
          0.000989397056400776,
          0.0009431539219804108,
          0.0008761107455939054,
          0.0008427199209108949,
          0.0008433383773081005,
          0.0008030460448935628,
          0.0007503461092710495,
          0.0007010287954472005,
          0.0006750721950083971,
          0.000636527081951499,
          0.0006064272602088749,
          0.0005990916397422552,
          0.0005589479696936905,
          0.0005416201311163604,
          0.0005274133291095495,
          0.0005183287430554628,
          0.0004833160783164203,
          0.00045757583575323224,
          0.00044002177310176194,
          0.0004544190305750817,
          0.00041886980761773884,
          0.00041527871508151293,
          0.00038410985143855214,
          0.0003725892456714064,
          0.00036654985160566866,
          0.00035093698534183204,
          0.0003447004419285804,
          0.0003373806248418987,
          0.0003180795756634325,
          0.0003161126805935055,
          0.0003068863006774336,
          0.0003013504610862583,
          0.00028315544477663934,
          0.00028503077919594944,
          0.00028553715674206614,
          0.00026819543563760817,
          0.00025882659247145057,
          0.00025012416881509125,
          0.0002480291004758328,
          0.0002419246593490243,
          0.00023770755797158927,
          0.00023473547480534762,
          0.00022000609897077084,
          0.00022052091662772,
          0.0002194069093093276,
          0.0002171523228753358,
          0.00020996961393393576,
          0.00021005950111430138,
          0.00021830298646818846,
          0.0001979246299015358,
          0.00020144290465395898,
          0.00020473840413615108,
          0.0001876638416433707,
          0.00019173847977072,
          0.0001851944689406082,
          0.00018223024380858988,
          0.0001785488275345415,
          0.00017577322432771325,
          0.0001740012230584398,
          0.00017314004071522504,
          0.00017668552754912525,
          0.00017514287901576608,
          0.00017205800395458937,
          0.00016653421334922314,
          0.0001621817355044186,
          0.00016329735808540136,
          0.00016500755737069994,
          0.00015557033475488424,
          0.0001606511214049533,
          0.00015899044228717685,
          0.00015390444605145603,
          0.00016528381092939526,
          0.00015715115296188742,
          0.00016098922060336918,
          0.00015651776629965752,
          0.0001557917130412534,
          0.00015002369764260948,
          0.00014640546578448266,
          0.00014811680011916906,
          0.0001555060298414901,
          0.00015129616076592356,
          0.00016139497165568173,
          0.00014897601795382798,
          0.00014114745135884732,
          0.00013968335406389087,
          0.0001449034025426954,
          0.00015019542479421943,
          0.00014404996181838214,
          0.00015377275121863931,
          0.00013813698024023324,
          0.00013556124758906662,
          0.0001342195610050112,
          0.00013874779688194394,
          0.0001346626813756302,
          0.00012820200936403126,
          0.00013384701742324978,
          0.0001381133042741567,
          0.00013436510926112533,
          0.00012628942204173654,
          0.00014581008872482926,
          0.00014721413026563823,
          0.00012914693797938526,
          0.0001321868330705911,
          0.0001322394236922264,
          0.0001279421558137983,
          0.00012559950118884444,
          0.00013114263128954917,
          0.0001273503148695454,
          0.0001238004770129919,
          0.00013788662909064442,
          0.00012185490049887449,
          0.00011913586786249653,
          0.0001222500577569008,
          0.00012084913032595068,
          0.0001181962143164128,
          0.00011828621791210026,
          0.00013357927673496306,
          0.00012127366790082306,
          0.00011906040163012221,
          0.0001196493612951599,
          0.00011237984290346503,
          0.00011711409024428576,
          0.00011101581185357645,
          0.00011194159742444754,
          0.00011830664152512327,
          0.00011504346912261099,
          0.0001142620385508053,
          0.00011055575305363163,
          0.00010963976819766685,
          0.00014840601943433285,
          0.00010931242286460474,
          0.00011270133109064773,
          0.00011647112114587799,
          0.000127404389786534,
          0.00011134516535094008,
          0.00012269213038962334,
          0.00012229493586346507,
          0.00011669410741887987,
          0.00012046335177728906,
          0.00011133551015518606,
          0.00011070775508414954,
          0.00010619933891575783,
          0.00010491561988601461,
          0.00010860533075174317,
          0.00010111719166161492,
          0.00011064275167882442,
          0.00010044133523479104,
          0.00010520892101339996,
          0.00010757076961454004,
          0.00010457643656991422,
          0.00010444950021337718,
          0.0001132887919084169,
          0.00010336848208680749
         ],
         "yaxis": "y"
        },
        {
         "hovertemplate": "Curvas de Pérdida=Validation Loss<br>Epoch=%{x}<br>Mean Square Error=%{y}<extra></extra>",
         "legendgroup": "Validation Loss",
         "line": {
          "color": "#fb9f3a",
          "dash": "solid"
         },
         "marker": {
          "symbol": "circle"
         },
         "mode": "lines",
         "name": "Validation Loss",
         "orientation": "v",
         "showlegend": true,
         "type": "scatter",
         "x": [
          0,
          1,
          2,
          3,
          4,
          5,
          6,
          7,
          8,
          9,
          10,
          11,
          12,
          13,
          14,
          15,
          16,
          17,
          18,
          19,
          20,
          21,
          22,
          23,
          24,
          25,
          26,
          27,
          28,
          29,
          30,
          31,
          32,
          33,
          34,
          35,
          36,
          37,
          38,
          39,
          40,
          41,
          42,
          43,
          44,
          45,
          46,
          47,
          48,
          49,
          50,
          51,
          52,
          53,
          54,
          55,
          56,
          57,
          58,
          59,
          60,
          61,
          62,
          63,
          64,
          65,
          66,
          67,
          68,
          69,
          70,
          71,
          72,
          73,
          74,
          75,
          76,
          77,
          78,
          79,
          80,
          81,
          82,
          83,
          84,
          85,
          86,
          87,
          88,
          89,
          90,
          91,
          92,
          93,
          94,
          95,
          96,
          97,
          98,
          99,
          100,
          101,
          102,
          103,
          104,
          105,
          106,
          107,
          108,
          109,
          110,
          111,
          112,
          113,
          114,
          115,
          116,
          117,
          118,
          119,
          120,
          121,
          122,
          123,
          124,
          125,
          126,
          127,
          128,
          129,
          130,
          131,
          132,
          133,
          134,
          135,
          136,
          137,
          138,
          139,
          140,
          141,
          142,
          143,
          144,
          145,
          146,
          147,
          148,
          149,
          150,
          151,
          152,
          153,
          154,
          155,
          156,
          157,
          158,
          159,
          160,
          161,
          162,
          163,
          164,
          165,
          166,
          167,
          168,
          169,
          170,
          171,
          172,
          173,
          174,
          175,
          176,
          177,
          178,
          179,
          180,
          181,
          182,
          183,
          184,
          185,
          186,
          187,
          188,
          189,
          190,
          191,
          192,
          193,
          194
         ],
         "xaxis": "x",
         "y": [
          0.0641455203294754,
          0.061871711164712906,
          0.05478491261601448,
          0.042341675609350204,
          0.028520505875349045,
          0.01930251345038414,
          0.014129653573036194,
          0.01130901463329792,
          0.009710198268294334,
          0.008499708026647568,
          0.007743238937109709,
          0.007218954153358936,
          0.00668575381860137,
          0.006329189985990524,
          0.005914629437029362,
          0.0057401759549975395,
          0.005143286194652319,
          0.004845402203500271,
          0.004414125345647335,
          0.004092429764568806,
          0.0037700666580349207,
          0.0036009331233799458,
          0.00327119929715991,
          0.0030115994159132242,
          0.0027782695833593607,
          0.002675943076610565,
          0.0025251952465623617,
          0.002271222649142146,
          0.0021336397621780634,
          0.002106625121086836,
          0.001877891132608056,
          0.0017712449189275503,
          0.0016667208401486278,
          0.0015980707248672843,
          0.0016066560056060553,
          0.0014183485182002187,
          0.0014178702840581536,
          0.0012898111017420888,
          0.0012274751206859946,
          0.0012552571715787053,
          0.0011238688603043556,
          0.001033263048157096,
          0.0009900144068524241,
          0.000953893584664911,
          0.0009750555618666112,
          0.0009089187369681895,
          0.000817386491689831,
          0.0008369561401195824,
          0.0007912649889476597,
          0.0007551407325081527,
          0.0006764497375115752,
          0.0006496874266304076,
          0.0006235935725271702,
          0.0005967474426142871,
          0.000574057805351913,
          0.0005698290769942105,
          0.0005370225408114493,
          0.0005522085702978075,
          0.0005032113986089826,
          0.0004940295475535095,
          0.0004577357030939311,
          0.0004760015581268817,
          0.0004287808551453054,
          0.0004103535902686417,
          0.00039980679866857827,
          0.00038412315188907087,
          0.0003770049661397934,
          0.00037832328234799206,
          0.0003464650653768331,
          0.0003434562240727246,
          0.0003462843596935272,
          0.0003125550865661353,
          0.00029289748636074364,
          0.00030310777947306633,
          0.0002824770926963538,
          0.0003483275941107422,
          0.0002692658163141459,
          0.00026103973505087197,
          0.00024549823137931526,
          0.000255947292316705,
          0.00023984639847185463,
          0.00022883506608195603,
          0.00021984332124702632,
          0.00021915639808867127,
          0.0002014802594203502,
          0.00021649854897987098,
          0.0001943173847394064,
          0.00018834818911273032,
          0.00019140470249112695,
          0.00020687260257545859,
          0.00018759169324766845,
          0.00018532751710154116,
          0.00019147168495692313,
          0.00017111377383116633,
          0.00016438534657936543,
          0.00016145218978635967,
          0.00016116048209369183,
          0.00015370531764347106,
          0.00014958945394027978,
          0.0001465945242671296,
          0.00014957936946302652,
          0.0001440203341189772,
          0.00014510045002680272,
          0.00014224686310626566,
          0.0001385995274176821,
          0.00014776021998841316,
          0.0001350473758066073,
          0.00014463257684838027,
          0.000132544242660515,
          0.0001306655176449567,
          0.0001396613661199808,
          0.00014172036026138812,
          0.00012826742022298276,
          0.00015081778110470623,
          0.000137956187245436,
          0.00013596854114439338,
          0.00013059013872407377,
          0.00012104806955903769,
          0.00012730823073070496,
          0.00011884254490723833,
          0.00012071664241375402,
          0.00012637049076147377,
          0.0001206626184284687,
          0.00011920298857148737,
          0.00011505314614623785,
          0.00011797658225987107,
          0.0001268581982003525,
          0.00015327055007219315,
          0.00016501931531820446,
          0.00011977985559497029,
          0.0001278809504583478,
          0.0001229410117957741,
          0.00011400302173569798,
          0.00011071749759139493,
          0.00010929354903055355,
          0.00011017909127986059,
          0.0001123901383834891,
          0.00010887417738558725,
          0.0001377043518004939,
          0.00011180186265846714,
          0.00010611295147100464,
          0.0001000648335320875,
          0.00012465481995604932,
          0.00011656730930553749,
          0.000132871005916968,
          0.0000965433064266108,
          0.000107167950773146,
          0.0001280980504816398,
          0.00009615863382350653,
          0.00010934592137346044,
          0.00010122057574335486,
          0.00009350549953524023,
          0.00010018419561674818,
          0.00010294251842424273,
          0.0000976923547568731,
          0.00011362652730895206,
          0.00008931711636250839,
          0.00012487437925301492,
          0.0000933504052227363,
          0.00009842168947216123,
          0.00009632176079321653,
          0.00009214589226758108,
          0.00010952245065709576,
          0.00009612164285499603,
          0.00012506450002547354,
          0.00010756646952359006,
          0.00008774769958108664,
          0.00008547247853130102,
          0.00008862134563969448,
          0.00008502749551553279,
          0.00009509023220743984,
          0.00008923732821131125,
          0.00008665682253194973,
          0.00008825729310046881,
          0.00009916895214701071,
          0.00010552081221248955,
          0.00008986436296254396,
          0.00008230807725340128,
          0.00009549972310196608,
          0.00010345993359806016,
          0.00011833208554890007,
          0.00007870626723160967,
          0.00007976417691679671,
          0.00008283572969958186,
          0.00007795576675562188,
          0.00008887865260476246,
          0.00009562697960063815,
          0.0000820969435153529,
          0.00011149375495733693,
          0.00007989828736754134,
          0.00008476588118355721,
          0.00007915659807622433,
          0.00008229507511714473,
          0.00008722938218852505,
          0.00009509659139439464
         ],
         "yaxis": "y"
        }
       ],
       "layout": {
        "legend": {
         "title": {
          "text": "Curvas de Pérdida"
         },
         "tracegroupgap": 0
        },
        "template": {
         "data": {
          "bar": [
           {
            "error_x": {
             "color": "#2a3f5f"
            },
            "error_y": {
             "color": "#2a3f5f"
            },
            "marker": {
             "line": {
              "color": "white",
              "width": 0.5
             },
             "pattern": {
              "fillmode": "overlay",
              "size": 10,
              "solidity": 0.2
             }
            },
            "type": "bar"
           }
          ],
          "barpolar": [
           {
            "marker": {
             "line": {
              "color": "white",
              "width": 0.5
             },
             "pattern": {
              "fillmode": "overlay",
              "size": 10,
              "solidity": 0.2
             }
            },
            "type": "barpolar"
           }
          ],
          "carpet": [
           {
            "aaxis": {
             "endlinecolor": "#2a3f5f",
             "gridcolor": "#C8D4E3",
             "linecolor": "#C8D4E3",
             "minorgridcolor": "#C8D4E3",
             "startlinecolor": "#2a3f5f"
            },
            "baxis": {
             "endlinecolor": "#2a3f5f",
             "gridcolor": "#C8D4E3",
             "linecolor": "#C8D4E3",
             "minorgridcolor": "#C8D4E3",
             "startlinecolor": "#2a3f5f"
            },
            "type": "carpet"
           }
          ],
          "choropleth": [
           {
            "colorbar": {
             "outlinewidth": 0,
             "ticks": ""
            },
            "type": "choropleth"
           }
          ],
          "contour": [
           {
            "colorbar": {
             "outlinewidth": 0,
             "ticks": ""
            },
            "colorscale": [
             [
              0,
              "#0d0887"
             ],
             [
              0.1111111111111111,
              "#46039f"
             ],
             [
              0.2222222222222222,
              "#7201a8"
             ],
             [
              0.3333333333333333,
              "#9c179e"
             ],
             [
              0.4444444444444444,
              "#bd3786"
             ],
             [
              0.5555555555555556,
              "#d8576b"
             ],
             [
              0.6666666666666666,
              "#ed7953"
             ],
             [
              0.7777777777777778,
              "#fb9f3a"
             ],
             [
              0.8888888888888888,
              "#fdca26"
             ],
             [
              1,
              "#f0f921"
             ]
            ],
            "type": "contour"
           }
          ],
          "contourcarpet": [
           {
            "colorbar": {
             "outlinewidth": 0,
             "ticks": ""
            },
            "type": "contourcarpet"
           }
          ],
          "heatmap": [
           {
            "colorbar": {
             "outlinewidth": 0,
             "ticks": ""
            },
            "colorscale": [
             [
              0,
              "#0d0887"
             ],
             [
              0.1111111111111111,
              "#46039f"
             ],
             [
              0.2222222222222222,
              "#7201a8"
             ],
             [
              0.3333333333333333,
              "#9c179e"
             ],
             [
              0.4444444444444444,
              "#bd3786"
             ],
             [
              0.5555555555555556,
              "#d8576b"
             ],
             [
              0.6666666666666666,
              "#ed7953"
             ],
             [
              0.7777777777777778,
              "#fb9f3a"
             ],
             [
              0.8888888888888888,
              "#fdca26"
             ],
             [
              1,
              "#f0f921"
             ]
            ],
            "type": "heatmap"
           }
          ],
          "heatmapgl": [
           {
            "colorbar": {
             "outlinewidth": 0,
             "ticks": ""
            },
            "colorscale": [
             [
              0,
              "#0d0887"
             ],
             [
              0.1111111111111111,
              "#46039f"
             ],
             [
              0.2222222222222222,
              "#7201a8"
             ],
             [
              0.3333333333333333,
              "#9c179e"
             ],
             [
              0.4444444444444444,
              "#bd3786"
             ],
             [
              0.5555555555555556,
              "#d8576b"
             ],
             [
              0.6666666666666666,
              "#ed7953"
             ],
             [
              0.7777777777777778,
              "#fb9f3a"
             ],
             [
              0.8888888888888888,
              "#fdca26"
             ],
             [
              1,
              "#f0f921"
             ]
            ],
            "type": "heatmapgl"
           }
          ],
          "histogram": [
           {
            "marker": {
             "pattern": {
              "fillmode": "overlay",
              "size": 10,
              "solidity": 0.2
             }
            },
            "type": "histogram"
           }
          ],
          "histogram2d": [
           {
            "colorbar": {
             "outlinewidth": 0,
             "ticks": ""
            },
            "colorscale": [
             [
              0,
              "#0d0887"
             ],
             [
              0.1111111111111111,
              "#46039f"
             ],
             [
              0.2222222222222222,
              "#7201a8"
             ],
             [
              0.3333333333333333,
              "#9c179e"
             ],
             [
              0.4444444444444444,
              "#bd3786"
             ],
             [
              0.5555555555555556,
              "#d8576b"
             ],
             [
              0.6666666666666666,
              "#ed7953"
             ],
             [
              0.7777777777777778,
              "#fb9f3a"
             ],
             [
              0.8888888888888888,
              "#fdca26"
             ],
             [
              1,
              "#f0f921"
             ]
            ],
            "type": "histogram2d"
           }
          ],
          "histogram2dcontour": [
           {
            "colorbar": {
             "outlinewidth": 0,
             "ticks": ""
            },
            "colorscale": [
             [
              0,
              "#0d0887"
             ],
             [
              0.1111111111111111,
              "#46039f"
             ],
             [
              0.2222222222222222,
              "#7201a8"
             ],
             [
              0.3333333333333333,
              "#9c179e"
             ],
             [
              0.4444444444444444,
              "#bd3786"
             ],
             [
              0.5555555555555556,
              "#d8576b"
             ],
             [
              0.6666666666666666,
              "#ed7953"
             ],
             [
              0.7777777777777778,
              "#fb9f3a"
             ],
             [
              0.8888888888888888,
              "#fdca26"
             ],
             [
              1,
              "#f0f921"
             ]
            ],
            "type": "histogram2dcontour"
           }
          ],
          "mesh3d": [
           {
            "colorbar": {
             "outlinewidth": 0,
             "ticks": ""
            },
            "type": "mesh3d"
           }
          ],
          "parcoords": [
           {
            "line": {
             "colorbar": {
              "outlinewidth": 0,
              "ticks": ""
             }
            },
            "type": "parcoords"
           }
          ],
          "pie": [
           {
            "automargin": true,
            "type": "pie"
           }
          ],
          "scatter": [
           {
            "fillpattern": {
             "fillmode": "overlay",
             "size": 10,
             "solidity": 0.2
            },
            "type": "scatter"
           }
          ],
          "scatter3d": [
           {
            "line": {
             "colorbar": {
              "outlinewidth": 0,
              "ticks": ""
             }
            },
            "marker": {
             "colorbar": {
              "outlinewidth": 0,
              "ticks": ""
             }
            },
            "type": "scatter3d"
           }
          ],
          "scattercarpet": [
           {
            "marker": {
             "colorbar": {
              "outlinewidth": 0,
              "ticks": ""
             }
            },
            "type": "scattercarpet"
           }
          ],
          "scattergeo": [
           {
            "marker": {
             "colorbar": {
              "outlinewidth": 0,
              "ticks": ""
             }
            },
            "type": "scattergeo"
           }
          ],
          "scattergl": [
           {
            "marker": {
             "colorbar": {
              "outlinewidth": 0,
              "ticks": ""
             }
            },
            "type": "scattergl"
           }
          ],
          "scattermapbox": [
           {
            "marker": {
             "colorbar": {
              "outlinewidth": 0,
              "ticks": ""
             }
            },
            "type": "scattermapbox"
           }
          ],
          "scatterpolar": [
           {
            "marker": {
             "colorbar": {
              "outlinewidth": 0,
              "ticks": ""
             }
            },
            "type": "scatterpolar"
           }
          ],
          "scatterpolargl": [
           {
            "marker": {
             "colorbar": {
              "outlinewidth": 0,
              "ticks": ""
             }
            },
            "type": "scatterpolargl"
           }
          ],
          "scatterternary": [
           {
            "marker": {
             "colorbar": {
              "outlinewidth": 0,
              "ticks": ""
             }
            },
            "type": "scatterternary"
           }
          ],
          "surface": [
           {
            "colorbar": {
             "outlinewidth": 0,
             "ticks": ""
            },
            "colorscale": [
             [
              0,
              "#0d0887"
             ],
             [
              0.1111111111111111,
              "#46039f"
             ],
             [
              0.2222222222222222,
              "#7201a8"
             ],
             [
              0.3333333333333333,
              "#9c179e"
             ],
             [
              0.4444444444444444,
              "#bd3786"
             ],
             [
              0.5555555555555556,
              "#d8576b"
             ],
             [
              0.6666666666666666,
              "#ed7953"
             ],
             [
              0.7777777777777778,
              "#fb9f3a"
             ],
             [
              0.8888888888888888,
              "#fdca26"
             ],
             [
              1,
              "#f0f921"
             ]
            ],
            "type": "surface"
           }
          ],
          "table": [
           {
            "cells": {
             "fill": {
              "color": "#EBF0F8"
             },
             "line": {
              "color": "white"
             }
            },
            "header": {
             "fill": {
              "color": "#C8D4E3"
             },
             "line": {
              "color": "white"
             }
            },
            "type": "table"
           }
          ]
         },
         "layout": {
          "annotationdefaults": {
           "arrowcolor": "#2a3f5f",
           "arrowhead": 0,
           "arrowwidth": 1
          },
          "autotypenumbers": "strict",
          "coloraxis": {
           "colorbar": {
            "outlinewidth": 0,
            "ticks": ""
           }
          },
          "colorscale": {
           "diverging": [
            [
             0,
             "#8e0152"
            ],
            [
             0.1,
             "#c51b7d"
            ],
            [
             0.2,
             "#de77ae"
            ],
            [
             0.3,
             "#f1b6da"
            ],
            [
             0.4,
             "#fde0ef"
            ],
            [
             0.5,
             "#f7f7f7"
            ],
            [
             0.6,
             "#e6f5d0"
            ],
            [
             0.7,
             "#b8e186"
            ],
            [
             0.8,
             "#7fbc41"
            ],
            [
             0.9,
             "#4d9221"
            ],
            [
             1,
             "#276419"
            ]
           ],
           "sequential": [
            [
             0,
             "#0d0887"
            ],
            [
             0.1111111111111111,
             "#46039f"
            ],
            [
             0.2222222222222222,
             "#7201a8"
            ],
            [
             0.3333333333333333,
             "#9c179e"
            ],
            [
             0.4444444444444444,
             "#bd3786"
            ],
            [
             0.5555555555555556,
             "#d8576b"
            ],
            [
             0.6666666666666666,
             "#ed7953"
            ],
            [
             0.7777777777777778,
             "#fb9f3a"
            ],
            [
             0.8888888888888888,
             "#fdca26"
            ],
            [
             1,
             "#f0f921"
            ]
           ],
           "sequentialminus": [
            [
             0,
             "#0d0887"
            ],
            [
             0.1111111111111111,
             "#46039f"
            ],
            [
             0.2222222222222222,
             "#7201a8"
            ],
            [
             0.3333333333333333,
             "#9c179e"
            ],
            [
             0.4444444444444444,
             "#bd3786"
            ],
            [
             0.5555555555555556,
             "#d8576b"
            ],
            [
             0.6666666666666666,
             "#ed7953"
            ],
            [
             0.7777777777777778,
             "#fb9f3a"
            ],
            [
             0.8888888888888888,
             "#fdca26"
            ],
            [
             1,
             "#f0f921"
            ]
           ]
          },
          "colorway": [
           "#636efa",
           "#EF553B",
           "#00cc96",
           "#ab63fa",
           "#FFA15A",
           "#19d3f3",
           "#FF6692",
           "#B6E880",
           "#FF97FF",
           "#FECB52"
          ],
          "font": {
           "color": "#2a3f5f"
          },
          "geo": {
           "bgcolor": "white",
           "lakecolor": "white",
           "landcolor": "white",
           "showlakes": true,
           "showland": true,
           "subunitcolor": "#C8D4E3"
          },
          "hoverlabel": {
           "align": "left"
          },
          "hovermode": "closest",
          "mapbox": {
           "style": "light"
          },
          "paper_bgcolor": "white",
          "plot_bgcolor": "white",
          "polar": {
           "angularaxis": {
            "gridcolor": "#EBF0F8",
            "linecolor": "#EBF0F8",
            "ticks": ""
           },
           "bgcolor": "white",
           "radialaxis": {
            "gridcolor": "#EBF0F8",
            "linecolor": "#EBF0F8",
            "ticks": ""
           }
          },
          "scene": {
           "xaxis": {
            "backgroundcolor": "white",
            "gridcolor": "#DFE8F3",
            "gridwidth": 2,
            "linecolor": "#EBF0F8",
            "showbackground": true,
            "ticks": "",
            "zerolinecolor": "#EBF0F8"
           },
           "yaxis": {
            "backgroundcolor": "white",
            "gridcolor": "#DFE8F3",
            "gridwidth": 2,
            "linecolor": "#EBF0F8",
            "showbackground": true,
            "ticks": "",
            "zerolinecolor": "#EBF0F8"
           },
           "zaxis": {
            "backgroundcolor": "white",
            "gridcolor": "#DFE8F3",
            "gridwidth": 2,
            "linecolor": "#EBF0F8",
            "showbackground": true,
            "ticks": "",
            "zerolinecolor": "#EBF0F8"
           }
          },
          "shapedefaults": {
           "line": {
            "color": "#2a3f5f"
           }
          },
          "ternary": {
           "aaxis": {
            "gridcolor": "#DFE8F3",
            "linecolor": "#A2B1C6",
            "ticks": ""
           },
           "baxis": {
            "gridcolor": "#DFE8F3",
            "linecolor": "#A2B1C6",
            "ticks": ""
           },
           "bgcolor": "white",
           "caxis": {
            "gridcolor": "#DFE8F3",
            "linecolor": "#A2B1C6",
            "ticks": ""
           }
          },
          "title": {
           "x": 0.05
          },
          "xaxis": {
           "automargin": true,
           "gridcolor": "#EBF0F8",
           "linecolor": "#EBF0F8",
           "ticks": "",
           "title": {
            "standoff": 15
           },
           "zerolinecolor": "#EBF0F8",
           "zerolinewidth": 2
          },
          "yaxis": {
           "automargin": true,
           "gridcolor": "#EBF0F8",
           "linecolor": "#EBF0F8",
           "ticks": "",
           "title": {
            "standoff": 15
           },
           "zerolinecolor": "#EBF0F8",
           "zerolinewidth": 2
          }
         }
        },
        "title": {
         "text": "Gráficas de Pérdida de Entrenamiento y Evaluación"
        },
        "xaxis": {
         "anchor": "y",
         "domain": [
          0,
          1
         ],
         "title": {
          "text": "Epoch"
         }
        },
        "yaxis": {
         "anchor": "x",
         "domain": [
          0,
          1
         ],
         "title": {
          "text": "Mean Square Error"
         }
        }
       }
      }
     },
     "metadata": {},
     "output_type": "display_data"
    },
    {
     "data": {
      "text/html": [
       "<div>\n",
       "<style scoped>\n",
       "    .dataframe tbody tr th:only-of-type {\n",
       "        vertical-align: middle;\n",
       "    }\n",
       "\n",
       "    .dataframe tbody tr th {\n",
       "        vertical-align: top;\n",
       "    }\n",
       "\n",
       "    .dataframe thead th {\n",
       "        text-align: right;\n",
       "    }\n",
       "</style>\n",
       "<table border=\"1\" class=\"dataframe\">\n",
       "  <thead>\n",
       "    <tr style=\"text-align: right;\">\n",
       "      <th></th>\n",
       "      <th>loss</th>\n",
       "      <th>Training Loss</th>\n",
       "      <th>val_loss</th>\n",
       "      <th>Validation Loss</th>\n",
       "      <th>epoch</th>\n",
       "    </tr>\n",
       "  </thead>\n",
       "  <tbody>\n",
       "    <tr>\n",
       "      <th>0</th>\n",
       "      <td>0.059466</td>\n",
       "      <td>0.059466</td>\n",
       "      <td>0.064146</td>\n",
       "      <td>0.064146</td>\n",
       "      <td>0</td>\n",
       "    </tr>\n",
       "    <tr>\n",
       "      <th>1</th>\n",
       "      <td>0.056509</td>\n",
       "      <td>0.056509</td>\n",
       "      <td>0.061872</td>\n",
       "      <td>0.061872</td>\n",
       "      <td>1</td>\n",
       "    </tr>\n",
       "    <tr>\n",
       "      <th>2</th>\n",
       "      <td>0.052243</td>\n",
       "      <td>0.052243</td>\n",
       "      <td>0.054785</td>\n",
       "      <td>0.054785</td>\n",
       "      <td>2</td>\n",
       "    </tr>\n",
       "    <tr>\n",
       "      <th>3</th>\n",
       "      <td>0.043198</td>\n",
       "      <td>0.043198</td>\n",
       "      <td>0.042342</td>\n",
       "      <td>0.042342</td>\n",
       "      <td>3</td>\n",
       "    </tr>\n",
       "    <tr>\n",
       "      <th>4</th>\n",
       "      <td>0.030875</td>\n",
       "      <td>0.030875</td>\n",
       "      <td>0.028521</td>\n",
       "      <td>0.028521</td>\n",
       "      <td>4</td>\n",
       "    </tr>\n",
       "    <tr>\n",
       "      <th>...</th>\n",
       "      <td>...</td>\n",
       "      <td>...</td>\n",
       "      <td>...</td>\n",
       "      <td>...</td>\n",
       "      <td>...</td>\n",
       "    </tr>\n",
       "    <tr>\n",
       "      <th>190</th>\n",
       "      <td>0.000108</td>\n",
       "      <td>0.000108</td>\n",
       "      <td>0.000085</td>\n",
       "      <td>0.000085</td>\n",
       "      <td>190</td>\n",
       "    </tr>\n",
       "    <tr>\n",
       "      <th>191</th>\n",
       "      <td>0.000105</td>\n",
       "      <td>0.000105</td>\n",
       "      <td>0.000079</td>\n",
       "      <td>0.000079</td>\n",
       "      <td>191</td>\n",
       "    </tr>\n",
       "    <tr>\n",
       "      <th>192</th>\n",
       "      <td>0.000104</td>\n",
       "      <td>0.000104</td>\n",
       "      <td>0.000082</td>\n",
       "      <td>0.000082</td>\n",
       "      <td>192</td>\n",
       "    </tr>\n",
       "    <tr>\n",
       "      <th>193</th>\n",
       "      <td>0.000113</td>\n",
       "      <td>0.000113</td>\n",
       "      <td>0.000087</td>\n",
       "      <td>0.000087</td>\n",
       "      <td>193</td>\n",
       "    </tr>\n",
       "    <tr>\n",
       "      <th>194</th>\n",
       "      <td>0.000103</td>\n",
       "      <td>0.000103</td>\n",
       "      <td>0.000095</td>\n",
       "      <td>0.000095</td>\n",
       "      <td>194</td>\n",
       "    </tr>\n",
       "  </tbody>\n",
       "</table>\n",
       "<p>195 rows × 5 columns</p>\n",
       "</div>"
      ],
      "text/plain": [
       "         loss  Training Loss  val_loss  Validation Loss  epoch\n",
       "0    0.059466       0.059466  0.064146         0.064146      0\n",
       "1    0.056509       0.056509  0.061872         0.061872      1\n",
       "2    0.052243       0.052243  0.054785         0.054785      2\n",
       "3    0.043198       0.043198  0.042342         0.042342      3\n",
       "4    0.030875       0.030875  0.028521         0.028521      4\n",
       "..        ...            ...       ...              ...    ...\n",
       "190  0.000108       0.000108  0.000085         0.000085    190\n",
       "191  0.000105       0.000105  0.000079         0.000079    191\n",
       "192  0.000104       0.000104  0.000082         0.000082    192\n",
       "193  0.000113       0.000113  0.000087         0.000087    193\n",
       "194  0.000103       0.000103  0.000095         0.000095    194\n",
       "\n",
       "[195 rows x 5 columns]"
      ]
     },
     "metadata": {},
     "output_type": "display_data"
    }
   ],
   "source": [
    "# Llama a la función de las gráficas.\n",
    "plot_loss_curve(history)\n",
    "display(history)"
   ]
  },
  {
   "attachments": {},
   "cell_type": "markdown",
   "metadata": {},
   "source": [
    "# Predicciones"
   ]
  },
  {
   "cell_type": "code",
   "execution_count": 19,
   "metadata": {},
   "outputs": [
    {
     "name": "stdout",
     "output_type": "stream",
     "text": [
      "4/4 [==============================] - 0s 2ms/step\n"
     ]
    },
    {
     "name": "stderr",
     "output_type": "stream",
     "text": [
      "c:\\Users\\Alienware\\AppData\\Local\\Programs\\Python\\Python310\\lib\\site-packages\\plotly\\graph_objs\\_deprecations.py:378: DeprecationWarning:\n",
      "\n",
      "plotly.graph_objs.Line is deprecated.\n",
      "Please replace it with one of the following more specific types\n",
      "  - plotly.graph_objs.scatter.Line\n",
      "  - plotly.graph_objs.layout.shape.Line\n",
      "  - etc.\n",
      "\n",
      "\n"
     ]
    },
    {
     "data": {
      "application/vnd.plotly.v1+json": {
       "config": {
        "plotlyServerURL": "https://plot.ly"
       },
       "data": [
        {
         "mode": "markers",
         "name": "Predicciones",
         "type": "scatter",
         "x": [
          1.563,
          1.401,
          1.49,
          1.373,
          1.498,
          1.518,
          1.369,
          1.382,
          1.298,
          1.535,
          1.43,
          1.278,
          1.278,
          1.565,
          1.344,
          1.354,
          1.257,
          1.575,
          1.529,
          1.465,
          1.396,
          1.405,
          1.303,
          1.32,
          1.326,
          1.39,
          1.4,
          1.402,
          1.415,
          1.541,
          1.575,
          1.586,
          1.607,
          1.679,
          1.552,
          1.256,
          1.275,
          1.277,
          1.277,
          1.345,
          1.364,
          1.382,
          1.488,
          1.541,
          1.563,
          1.616,
          1.342,
          1.653,
          1.66,
          1.574,
          1.402,
          1.296,
          1.622,
          1.598,
          1.502,
          1.77,
          1.736,
          1.756,
          1.387,
          1.788,
          1.576,
          1.365,
          1.772,
          1.454,
          1.458,
          1.817,
          1.545,
          1.32,
          1.831,
          1.529,
          1.54,
          1.396,
          1.289,
          1.846,
          1.716,
          1.726,
          1.667,
          1.518,
          1.432,
          1.84,
          1.859,
          1.775,
          1.643,
          1.788,
          1.693,
          1.618,
          1.356,
          1.375,
          1.893,
          1.466,
          1.346,
          1.732,
          1.569,
          1.43,
          1.45,
          1.318,
          1.893,
          1.9,
          1.821,
          1.652,
          1.755,
          1.398,
          1.941,
          1.821,
          1.846,
          1.74,
          1.647,
          1.369,
          1.862,
          1.893,
          1.47
         ],
         "y": [
          1.560580983400345,
          1.3981935295462609,
          1.4918743723630907,
          1.3672245514988899,
          1.4998904261589052,
          1.519086057662964,
          1.3632512218356134,
          1.3780881454944611,
          1.2946099748909474,
          1.5346548082828522,
          1.4303725041151047,
          1.2788795947134495,
          1.2791243514716626,
          1.5623326647281648,
          1.3361328078508379,
          1.3474427319765092,
          1.2656671746373178,
          1.5715284245014192,
          1.5291480811834335,
          1.4669105137586596,
          1.3928027180433273,
          1.4032235596179963,
          1.2981680721342563,
          1.3144626123309135,
          1.3194842107892037,
          1.3874107176065447,
          1.3980607398152352,
          1.4011655696630478,
          1.4150783863067629,
          1.5403514157533647,
          1.5712919248342514,
          1.5813596857786179,
          1.6011378512382508,
          1.673100766658783,
          1.5503936527967452,
          1.2655260078310968,
          1.2768383916318418,
          1.2786986095309258,
          1.279187986701727,
          1.3378988763689996,
          1.3602185460925103,
          1.3789095024466516,
          1.4915067409276963,
          1.5404360809326172,
          1.5603331834077836,
          1.6089429728984834,
          1.3374072467684746,
          1.6452285358905794,
          1.652005720615387,
          1.5701911902427674,
          1.401174164891243,
          1.2930296200215818,
          1.6146850652694704,
          1.5918753802776338,
          1.5045822645425797,
          1.7734703876972198,
          1.7343050305843355,
          1.7565162782669068,
          1.386830823302269,
          1.7930128824710847,
          1.5717938730716705,
          1.3622155840992929,
          1.7751637785434724,
          1.4577369401454927,
          1.462064659357071,
          1.8220449018478395,
          1.5439855393171311,
          1.315335867881775,
          1.83478630232811,
          1.5295986325740816,
          1.5395797867774963,
          1.3953118484020233,
          1.2881695256829262,
          1.847354838371277,
          1.710333811759949,
          1.721150753736496,
          1.6571392097473145,
          1.5197672840356828,
          1.4365330357551576,
          1.842000360250473,
          1.8567648680210114,
          1.7770984466075896,
          1.633246613264084,
          1.7903327856063842,
          1.6849649739265442,
          1.609508250951767,
          1.3520763562321663,
          1.3743199778199195,
          1.8787744987010957,
          1.4703239537477493,
          1.3428866283893586,
          1.728466994524002,
          1.5652786028385164,
          1.4331057430505754,
          1.4543813761472704,
          1.3144338924884797,
          1.8776692919731142,
          1.8820366714000702,
          1.823682794570923,
          1.6418751316070557,
          1.7524976382255555,
          1.4003793244361877,
          1.8990713229179383,
          1.823068039417267,
          1.8449389247894288,
          1.7355022542476655,
          1.636424055337906,
          1.3680614082217217,
          1.8582223482131959,
          1.8778489191532137,
          1.4746668782234194
         ]
        },
        {
         "name": "Datos Reales",
         "type": "scatter",
         "x": [
          1.563,
          1.401,
          1.49,
          1.373,
          1.498,
          1.518,
          1.369,
          1.382,
          1.298,
          1.535,
          1.43,
          1.278,
          1.278,
          1.565,
          1.344,
          1.354,
          1.257,
          1.575,
          1.529,
          1.465,
          1.396,
          1.405,
          1.303,
          1.32,
          1.326,
          1.39,
          1.4,
          1.402,
          1.415,
          1.541,
          1.575,
          1.586,
          1.607,
          1.679,
          1.552,
          1.256,
          1.275,
          1.277,
          1.277,
          1.345,
          1.364,
          1.382,
          1.488,
          1.541,
          1.563,
          1.616,
          1.342,
          1.653,
          1.66,
          1.574,
          1.402,
          1.296,
          1.622,
          1.598,
          1.502,
          1.77,
          1.736,
          1.756,
          1.387,
          1.788,
          1.576,
          1.365,
          1.772,
          1.454,
          1.458,
          1.817,
          1.545,
          1.32,
          1.831,
          1.529,
          1.54,
          1.396,
          1.289,
          1.846,
          1.716,
          1.726,
          1.667,
          1.518,
          1.432,
          1.84,
          1.859,
          1.775,
          1.643,
          1.788,
          1.693,
          1.618,
          1.356,
          1.375,
          1.893,
          1.466,
          1.346,
          1.732,
          1.569,
          1.43,
          1.45,
          1.318,
          1.893,
          1.9,
          1.821,
          1.652,
          1.755,
          1.398,
          1.941,
          1.821,
          1.846,
          1.74,
          1.647,
          1.369,
          1.862,
          1.893,
          1.47
         ],
         "xaxis": "x",
         "y": [
          1.563,
          1.401,
          1.49,
          1.373,
          1.498,
          1.518,
          1.369,
          1.382,
          1.298,
          1.535,
          1.43,
          1.278,
          1.278,
          1.565,
          1.344,
          1.354,
          1.257,
          1.575,
          1.529,
          1.465,
          1.396,
          1.405,
          1.303,
          1.32,
          1.326,
          1.39,
          1.4,
          1.402,
          1.415,
          1.541,
          1.575,
          1.586,
          1.607,
          1.679,
          1.552,
          1.256,
          1.275,
          1.277,
          1.277,
          1.345,
          1.364,
          1.382,
          1.488,
          1.541,
          1.563,
          1.616,
          1.342,
          1.653,
          1.66,
          1.574,
          1.402,
          1.296,
          1.622,
          1.598,
          1.502,
          1.77,
          1.736,
          1.756,
          1.387,
          1.788,
          1.576,
          1.365,
          1.772,
          1.454,
          1.458,
          1.817,
          1.545,
          1.32,
          1.831,
          1.529,
          1.54,
          1.396,
          1.289,
          1.846,
          1.716,
          1.726,
          1.667,
          1.518,
          1.432,
          1.84,
          1.859,
          1.775,
          1.643,
          1.788,
          1.693,
          1.618,
          1.356,
          1.375,
          1.893,
          1.466,
          1.346,
          1.732,
          1.569,
          1.43,
          1.45,
          1.318,
          1.893,
          1.9,
          1.821,
          1.652,
          1.755,
          1.398,
          1.941,
          1.821,
          1.846,
          1.74,
          1.647,
          1.369,
          1.862,
          1.893,
          1.47
         ],
         "yaxis": "y"
        }
       ],
       "layout": {
        "annotations": [
         {
          "font": {
           "size": 16
          },
          "showarrow": false,
          "text": "If",
          "x": 0.47,
          "xanchor": "center",
          "xref": "paper",
          "y": 0,
          "yanchor": "top",
          "yref": "paper",
          "yshift": -30
         },
         {
          "font": {
           "size": 16
          },
          "showarrow": false,
          "text": "Predicción de If",
          "textangle": -90,
          "x": 0,
          "xanchor": "right",
          "xref": "paper",
          "xshift": -40,
          "y": 0.5,
          "yanchor": "middle",
          "yref": "paper"
         }
        ],
        "template": {
         "data": {
          "bar": [
           {
            "error_x": {
             "color": "#2a3f5f"
            },
            "error_y": {
             "color": "#2a3f5f"
            },
            "marker": {
             "line": {
              "color": "white",
              "width": 0.5
             },
             "pattern": {
              "fillmode": "overlay",
              "size": 10,
              "solidity": 0.2
             }
            },
            "type": "bar"
           }
          ],
          "barpolar": [
           {
            "marker": {
             "line": {
              "color": "white",
              "width": 0.5
             },
             "pattern": {
              "fillmode": "overlay",
              "size": 10,
              "solidity": 0.2
             }
            },
            "type": "barpolar"
           }
          ],
          "carpet": [
           {
            "aaxis": {
             "endlinecolor": "#2a3f5f",
             "gridcolor": "#C8D4E3",
             "linecolor": "#C8D4E3",
             "minorgridcolor": "#C8D4E3",
             "startlinecolor": "#2a3f5f"
            },
            "baxis": {
             "endlinecolor": "#2a3f5f",
             "gridcolor": "#C8D4E3",
             "linecolor": "#C8D4E3",
             "minorgridcolor": "#C8D4E3",
             "startlinecolor": "#2a3f5f"
            },
            "type": "carpet"
           }
          ],
          "choropleth": [
           {
            "colorbar": {
             "outlinewidth": 0,
             "ticks": ""
            },
            "type": "choropleth"
           }
          ],
          "contour": [
           {
            "colorbar": {
             "outlinewidth": 0,
             "ticks": ""
            },
            "colorscale": [
             [
              0,
              "#0d0887"
             ],
             [
              0.1111111111111111,
              "#46039f"
             ],
             [
              0.2222222222222222,
              "#7201a8"
             ],
             [
              0.3333333333333333,
              "#9c179e"
             ],
             [
              0.4444444444444444,
              "#bd3786"
             ],
             [
              0.5555555555555556,
              "#d8576b"
             ],
             [
              0.6666666666666666,
              "#ed7953"
             ],
             [
              0.7777777777777778,
              "#fb9f3a"
             ],
             [
              0.8888888888888888,
              "#fdca26"
             ],
             [
              1,
              "#f0f921"
             ]
            ],
            "type": "contour"
           }
          ],
          "contourcarpet": [
           {
            "colorbar": {
             "outlinewidth": 0,
             "ticks": ""
            },
            "type": "contourcarpet"
           }
          ],
          "heatmap": [
           {
            "colorbar": {
             "outlinewidth": 0,
             "ticks": ""
            },
            "colorscale": [
             [
              0,
              "#0d0887"
             ],
             [
              0.1111111111111111,
              "#46039f"
             ],
             [
              0.2222222222222222,
              "#7201a8"
             ],
             [
              0.3333333333333333,
              "#9c179e"
             ],
             [
              0.4444444444444444,
              "#bd3786"
             ],
             [
              0.5555555555555556,
              "#d8576b"
             ],
             [
              0.6666666666666666,
              "#ed7953"
             ],
             [
              0.7777777777777778,
              "#fb9f3a"
             ],
             [
              0.8888888888888888,
              "#fdca26"
             ],
             [
              1,
              "#f0f921"
             ]
            ],
            "type": "heatmap"
           }
          ],
          "heatmapgl": [
           {
            "colorbar": {
             "outlinewidth": 0,
             "ticks": ""
            },
            "colorscale": [
             [
              0,
              "#0d0887"
             ],
             [
              0.1111111111111111,
              "#46039f"
             ],
             [
              0.2222222222222222,
              "#7201a8"
             ],
             [
              0.3333333333333333,
              "#9c179e"
             ],
             [
              0.4444444444444444,
              "#bd3786"
             ],
             [
              0.5555555555555556,
              "#d8576b"
             ],
             [
              0.6666666666666666,
              "#ed7953"
             ],
             [
              0.7777777777777778,
              "#fb9f3a"
             ],
             [
              0.8888888888888888,
              "#fdca26"
             ],
             [
              1,
              "#f0f921"
             ]
            ],
            "type": "heatmapgl"
           }
          ],
          "histogram": [
           {
            "marker": {
             "pattern": {
              "fillmode": "overlay",
              "size": 10,
              "solidity": 0.2
             }
            },
            "type": "histogram"
           }
          ],
          "histogram2d": [
           {
            "colorbar": {
             "outlinewidth": 0,
             "ticks": ""
            },
            "colorscale": [
             [
              0,
              "#0d0887"
             ],
             [
              0.1111111111111111,
              "#46039f"
             ],
             [
              0.2222222222222222,
              "#7201a8"
             ],
             [
              0.3333333333333333,
              "#9c179e"
             ],
             [
              0.4444444444444444,
              "#bd3786"
             ],
             [
              0.5555555555555556,
              "#d8576b"
             ],
             [
              0.6666666666666666,
              "#ed7953"
             ],
             [
              0.7777777777777778,
              "#fb9f3a"
             ],
             [
              0.8888888888888888,
              "#fdca26"
             ],
             [
              1,
              "#f0f921"
             ]
            ],
            "type": "histogram2d"
           }
          ],
          "histogram2dcontour": [
           {
            "colorbar": {
             "outlinewidth": 0,
             "ticks": ""
            },
            "colorscale": [
             [
              0,
              "#0d0887"
             ],
             [
              0.1111111111111111,
              "#46039f"
             ],
             [
              0.2222222222222222,
              "#7201a8"
             ],
             [
              0.3333333333333333,
              "#9c179e"
             ],
             [
              0.4444444444444444,
              "#bd3786"
             ],
             [
              0.5555555555555556,
              "#d8576b"
             ],
             [
              0.6666666666666666,
              "#ed7953"
             ],
             [
              0.7777777777777778,
              "#fb9f3a"
             ],
             [
              0.8888888888888888,
              "#fdca26"
             ],
             [
              1,
              "#f0f921"
             ]
            ],
            "type": "histogram2dcontour"
           }
          ],
          "mesh3d": [
           {
            "colorbar": {
             "outlinewidth": 0,
             "ticks": ""
            },
            "type": "mesh3d"
           }
          ],
          "parcoords": [
           {
            "line": {
             "colorbar": {
              "outlinewidth": 0,
              "ticks": ""
             }
            },
            "type": "parcoords"
           }
          ],
          "pie": [
           {
            "automargin": true,
            "type": "pie"
           }
          ],
          "scatter": [
           {
            "fillpattern": {
             "fillmode": "overlay",
             "size": 10,
             "solidity": 0.2
            },
            "type": "scatter"
           }
          ],
          "scatter3d": [
           {
            "line": {
             "colorbar": {
              "outlinewidth": 0,
              "ticks": ""
             }
            },
            "marker": {
             "colorbar": {
              "outlinewidth": 0,
              "ticks": ""
             }
            },
            "type": "scatter3d"
           }
          ],
          "scattercarpet": [
           {
            "marker": {
             "colorbar": {
              "outlinewidth": 0,
              "ticks": ""
             }
            },
            "type": "scattercarpet"
           }
          ],
          "scattergeo": [
           {
            "marker": {
             "colorbar": {
              "outlinewidth": 0,
              "ticks": ""
             }
            },
            "type": "scattergeo"
           }
          ],
          "scattergl": [
           {
            "marker": {
             "colorbar": {
              "outlinewidth": 0,
              "ticks": ""
             }
            },
            "type": "scattergl"
           }
          ],
          "scattermapbox": [
           {
            "marker": {
             "colorbar": {
              "outlinewidth": 0,
              "ticks": ""
             }
            },
            "type": "scattermapbox"
           }
          ],
          "scatterpolar": [
           {
            "marker": {
             "colorbar": {
              "outlinewidth": 0,
              "ticks": ""
             }
            },
            "type": "scatterpolar"
           }
          ],
          "scatterpolargl": [
           {
            "marker": {
             "colorbar": {
              "outlinewidth": 0,
              "ticks": ""
             }
            },
            "type": "scatterpolargl"
           }
          ],
          "scatterternary": [
           {
            "marker": {
             "colorbar": {
              "outlinewidth": 0,
              "ticks": ""
             }
            },
            "type": "scatterternary"
           }
          ],
          "surface": [
           {
            "colorbar": {
             "outlinewidth": 0,
             "ticks": ""
            },
            "colorscale": [
             [
              0,
              "#0d0887"
             ],
             [
              0.1111111111111111,
              "#46039f"
             ],
             [
              0.2222222222222222,
              "#7201a8"
             ],
             [
              0.3333333333333333,
              "#9c179e"
             ],
             [
              0.4444444444444444,
              "#bd3786"
             ],
             [
              0.5555555555555556,
              "#d8576b"
             ],
             [
              0.6666666666666666,
              "#ed7953"
             ],
             [
              0.7777777777777778,
              "#fb9f3a"
             ],
             [
              0.8888888888888888,
              "#fdca26"
             ],
             [
              1,
              "#f0f921"
             ]
            ],
            "type": "surface"
           }
          ],
          "table": [
           {
            "cells": {
             "fill": {
              "color": "#EBF0F8"
             },
             "line": {
              "color": "white"
             }
            },
            "header": {
             "fill": {
              "color": "#C8D4E3"
             },
             "line": {
              "color": "white"
             }
            },
            "type": "table"
           }
          ]
         },
         "layout": {
          "annotationdefaults": {
           "arrowcolor": "#2a3f5f",
           "arrowhead": 0,
           "arrowwidth": 1
          },
          "autotypenumbers": "strict",
          "coloraxis": {
           "colorbar": {
            "outlinewidth": 0,
            "ticks": ""
           }
          },
          "colorscale": {
           "diverging": [
            [
             0,
             "#8e0152"
            ],
            [
             0.1,
             "#c51b7d"
            ],
            [
             0.2,
             "#de77ae"
            ],
            [
             0.3,
             "#f1b6da"
            ],
            [
             0.4,
             "#fde0ef"
            ],
            [
             0.5,
             "#f7f7f7"
            ],
            [
             0.6,
             "#e6f5d0"
            ],
            [
             0.7,
             "#b8e186"
            ],
            [
             0.8,
             "#7fbc41"
            ],
            [
             0.9,
             "#4d9221"
            ],
            [
             1,
             "#276419"
            ]
           ],
           "sequential": [
            [
             0,
             "#0d0887"
            ],
            [
             0.1111111111111111,
             "#46039f"
            ],
            [
             0.2222222222222222,
             "#7201a8"
            ],
            [
             0.3333333333333333,
             "#9c179e"
            ],
            [
             0.4444444444444444,
             "#bd3786"
            ],
            [
             0.5555555555555556,
             "#d8576b"
            ],
            [
             0.6666666666666666,
             "#ed7953"
            ],
            [
             0.7777777777777778,
             "#fb9f3a"
            ],
            [
             0.8888888888888888,
             "#fdca26"
            ],
            [
             1,
             "#f0f921"
            ]
           ],
           "sequentialminus": [
            [
             0,
             "#0d0887"
            ],
            [
             0.1111111111111111,
             "#46039f"
            ],
            [
             0.2222222222222222,
             "#7201a8"
            ],
            [
             0.3333333333333333,
             "#9c179e"
            ],
            [
             0.4444444444444444,
             "#bd3786"
            ],
            [
             0.5555555555555556,
             "#d8576b"
            ],
            [
             0.6666666666666666,
             "#ed7953"
            ],
            [
             0.7777777777777778,
             "#fb9f3a"
            ],
            [
             0.8888888888888888,
             "#fdca26"
            ],
            [
             1,
             "#f0f921"
            ]
           ]
          },
          "colorway": [
           "#636efa",
           "#EF553B",
           "#00cc96",
           "#ab63fa",
           "#FFA15A",
           "#19d3f3",
           "#FF6692",
           "#B6E880",
           "#FF97FF",
           "#FECB52"
          ],
          "font": {
           "color": "#2a3f5f"
          },
          "geo": {
           "bgcolor": "white",
           "lakecolor": "white",
           "landcolor": "white",
           "showlakes": true,
           "showland": true,
           "subunitcolor": "#C8D4E3"
          },
          "hoverlabel": {
           "align": "left"
          },
          "hovermode": "closest",
          "mapbox": {
           "style": "light"
          },
          "paper_bgcolor": "white",
          "plot_bgcolor": "white",
          "polar": {
           "angularaxis": {
            "gridcolor": "#EBF0F8",
            "linecolor": "#EBF0F8",
            "ticks": ""
           },
           "bgcolor": "white",
           "radialaxis": {
            "gridcolor": "#EBF0F8",
            "linecolor": "#EBF0F8",
            "ticks": ""
           }
          },
          "scene": {
           "xaxis": {
            "backgroundcolor": "white",
            "gridcolor": "#DFE8F3",
            "gridwidth": 2,
            "linecolor": "#EBF0F8",
            "showbackground": true,
            "ticks": "",
            "zerolinecolor": "#EBF0F8"
           },
           "yaxis": {
            "backgroundcolor": "white",
            "gridcolor": "#DFE8F3",
            "gridwidth": 2,
            "linecolor": "#EBF0F8",
            "showbackground": true,
            "ticks": "",
            "zerolinecolor": "#EBF0F8"
           },
           "zaxis": {
            "backgroundcolor": "white",
            "gridcolor": "#DFE8F3",
            "gridwidth": 2,
            "linecolor": "#EBF0F8",
            "showbackground": true,
            "ticks": "",
            "zerolinecolor": "#EBF0F8"
           }
          },
          "shapedefaults": {
           "line": {
            "color": "#2a3f5f"
           }
          },
          "ternary": {
           "aaxis": {
            "gridcolor": "#DFE8F3",
            "linecolor": "#A2B1C6",
            "ticks": ""
           },
           "baxis": {
            "gridcolor": "#DFE8F3",
            "linecolor": "#A2B1C6",
            "ticks": ""
           },
           "bgcolor": "white",
           "caxis": {
            "gridcolor": "#DFE8F3",
            "linecolor": "#A2B1C6",
            "ticks": ""
           }
          },
          "title": {
           "x": 0.05
          },
          "xaxis": {
           "automargin": true,
           "gridcolor": "#EBF0F8",
           "linecolor": "#EBF0F8",
           "ticks": "",
           "title": {
            "standoff": 15
           },
           "zerolinecolor": "#EBF0F8",
           "zerolinewidth": 2
          },
          "yaxis": {
           "automargin": true,
           "gridcolor": "#EBF0F8",
           "linecolor": "#EBF0F8",
           "ticks": "",
           "title": {
            "standoff": 15
           },
           "zerolinecolor": "#EBF0F8",
           "zerolinewidth": 2
          }
         }
        },
        "title": {
         "text": "Gráfica De Predicciones Contra Datos Reales"
        },
        "xaxis": {
         "anchor": "y",
         "domain": [
          0,
          0.94
         ]
        },
        "yaxis": {
         "anchor": "x",
         "domain": [
          0,
          1
         ]
        },
        "yaxis2": {
         "anchor": "x",
         "overlaying": "y",
         "side": "right"
        }
       }
      }
     },
     "metadata": {},
     "output_type": "display_data"
    },
    {
     "data": {
      "text/html": [
       "<div>\n",
       "<style scoped>\n",
       "    .dataframe tbody tr th:only-of-type {\n",
       "        vertical-align: middle;\n",
       "    }\n",
       "\n",
       "    .dataframe tbody tr th {\n",
       "        vertical-align: top;\n",
       "    }\n",
       "\n",
       "    .dataframe thead th {\n",
       "        text-align: right;\n",
       "    }\n",
       "</style>\n",
       "<table border=\"1\" class=\"dataframe\">\n",
       "  <thead>\n",
       "    <tr style=\"text-align: right;\">\n",
       "      <th></th>\n",
       "      <th>If</th>\n",
       "      <th>If Predictions</th>\n",
       "    </tr>\n",
       "  </thead>\n",
       "  <tbody>\n",
       "    <tr>\n",
       "      <th>0</th>\n",
       "      <td>1.563</td>\n",
       "      <td>1.560581</td>\n",
       "    </tr>\n",
       "    <tr>\n",
       "      <th>1</th>\n",
       "      <td>1.401</td>\n",
       "      <td>1.398194</td>\n",
       "    </tr>\n",
       "    <tr>\n",
       "      <th>2</th>\n",
       "      <td>1.490</td>\n",
       "      <td>1.491874</td>\n",
       "    </tr>\n",
       "    <tr>\n",
       "      <th>3</th>\n",
       "      <td>1.373</td>\n",
       "      <td>1.367225</td>\n",
       "    </tr>\n",
       "    <tr>\n",
       "      <th>4</th>\n",
       "      <td>1.498</td>\n",
       "      <td>1.499890</td>\n",
       "    </tr>\n",
       "    <tr>\n",
       "      <th>...</th>\n",
       "      <td>...</td>\n",
       "      <td>...</td>\n",
       "    </tr>\n",
       "    <tr>\n",
       "      <th>106</th>\n",
       "      <td>1.647</td>\n",
       "      <td>1.636424</td>\n",
       "    </tr>\n",
       "    <tr>\n",
       "      <th>107</th>\n",
       "      <td>1.369</td>\n",
       "      <td>1.368061</td>\n",
       "    </tr>\n",
       "    <tr>\n",
       "      <th>108</th>\n",
       "      <td>1.862</td>\n",
       "      <td>1.858222</td>\n",
       "    </tr>\n",
       "    <tr>\n",
       "      <th>109</th>\n",
       "      <td>1.893</td>\n",
       "      <td>1.877849</td>\n",
       "    </tr>\n",
       "    <tr>\n",
       "      <th>110</th>\n",
       "      <td>1.470</td>\n",
       "      <td>1.474667</td>\n",
       "    </tr>\n",
       "  </tbody>\n",
       "</table>\n",
       "<p>111 rows × 2 columns</p>\n",
       "</div>"
      ],
      "text/plain": [
       "        If  If Predictions\n",
       "0    1.563        1.560581\n",
       "1    1.401        1.398194\n",
       "2    1.490        1.491874\n",
       "3    1.373        1.367225\n",
       "4    1.498        1.499890\n",
       "..     ...             ...\n",
       "106  1.647        1.636424\n",
       "107  1.369        1.368061\n",
       "108  1.862        1.858222\n",
       "109  1.893        1.877849\n",
       "110  1.470        1.474667\n",
       "\n",
       "[111 rows x 2 columns]"
      ]
     },
     "metadata": {},
     "output_type": "display_data"
    },
    {
     "name": "stdout",
     "output_type": "stream",
     "text": [
      "4.3395355597681015e-05\n"
     ]
    }
   ],
   "source": [
    "# Hace predicciones usando el conjunto de datos de prueba.\n",
    "test_predictions = model.predict(test_df).flatten()\n",
    "\n",
    "pivot = np.zeros((111,4))\n",
    "pivot = np.insert(pivot, 4, test_labels, axis =1)\n",
    "pivot2 = np.zeros((111,5))\n",
    "for i in range(111):\n",
    "    for j in range(5):\n",
    "        pivot2[i,4] = test_predictions[i]\n",
    "\n",
    "# Guarda las predicciones en un DataFrame.\n",
    "test_predictions_df1 = pd.DataFrame(pivot, columns=['Iy', 'PF', 'e', 'dIf', 'If'])\n",
    "test_predictions_df2 = pd.DataFrame(pivot2, columns=['Iy', 'PF', 'e', 'dIf', 'If'])\n",
    "\n",
    "# Desnormaliza las predicciones y los labels.\n",
    "test_predictions_df1 = reverse_norm(test_predictions_df1)\n",
    "test_predictions_df2 = reverse_norm(test_predictions_df2)\n",
    "\n",
    "# Renombra la columna \"If\" por \"If Predictions\" en el dataframe de las predicciones\n",
    "test_predictions_df2.rename(columns = {'If':'If Predictions'}, inplace = True)\n",
    "test_predictions_df = pd.concat([test_predictions_df1['If'], test_predictions_df2['If Predictions']], axis= 1)\n",
    "\n",
    "# Llama a la función que grafica las predicciones sobre los datos.\n",
    "plot_predictions(test_predictions_df)\n",
    "\n",
    "display(test_predictions_df)\n",
    "rms= mean_squared_error(test_predictions_df1['If'],test_predictions_df2['If Predictions'])\n",
    "print(rms)"
   ]
  }
 ],
 "metadata": {
  "kernelspec": {
   "display_name": "Python 3",
   "language": "python",
   "name": "python3"
  },
  "language_info": {
   "codemirror_mode": {
    "name": "ipython",
    "version": 3
   },
   "file_extension": ".py",
   "mimetype": "text/x-python",
   "name": "python",
   "nbconvert_exporter": "python",
   "pygments_lexer": "ipython3",
   "version": "3.10.8"
  },
  "orig_nbformat": 4,
  "vscode": {
   "interpreter": {
    "hash": "b348c49d08ee7a97c598361ac32aefffc4242a551b47fcd1f9b5299b01841616"
   }
  }
 },
 "nbformat": 4,
 "nbformat_minor": 2
}
