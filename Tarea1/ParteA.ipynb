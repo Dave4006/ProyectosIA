{
 "cells": [
  {
   "attachments": {},
   "cell_type": "markdown",
   "metadata": {},
   "source": [
    "# Importación de módulos"
   ]
  },
  {
   "cell_type": "code",
   "execution_count": 38,
   "metadata": {},
   "outputs": [],
   "source": [
    "import pandas as pd\n",
    "import numpy as np\n",
    "import seaborn as sn\n",
    "import plotly.express as px\n",
    "import tensorflow as tf\n",
    "\n",
    "from matplotlib import pyplot as plt\n",
    "from sklearn import preprocessing\n",
    "from IPython.display import display"
   ]
  },
  {
   "attachments": {},
   "cell_type": "markdown",
   "metadata": {},
   "source": [
    "# Formateo de outputs en Jupyter"
   ]
  },
  {
   "cell_type": "code",
   "execution_count": 39,
   "metadata": {},
   "outputs": [],
   "source": [
    "pd.options.display.max_rows = 10\n",
    "pd.options.display.float_format = \"{:.3f}\".format"
   ]
  },
  {
   "attachments": {},
   "cell_type": "markdown",
   "metadata": {},
   "source": [
    "# Importación de datos"
   ]
  },
  {
   "cell_type": "code",
   "execution_count": 40,
   "metadata": {},
   "outputs": [
    {
     "data": {
      "text/html": [
       "<div>\n",
       "<style scoped>\n",
       "    .dataframe tbody tr th:only-of-type {\n",
       "        vertical-align: middle;\n",
       "    }\n",
       "\n",
       "    .dataframe tbody tr th {\n",
       "        vertical-align: top;\n",
       "    }\n",
       "\n",
       "    .dataframe thead th {\n",
       "        text-align: right;\n",
       "    }\n",
       "</style>\n",
       "<table border=\"1\" class=\"dataframe\">\n",
       "  <thead>\n",
       "    <tr style=\"text-align: right;\">\n",
       "      <th></th>\n",
       "      <th>Iy</th>\n",
       "      <th>PF</th>\n",
       "      <th>e</th>\n",
       "      <th>dIf</th>\n",
       "      <th>If</th>\n",
       "    </tr>\n",
       "  </thead>\n",
       "  <tbody>\n",
       "    <tr>\n",
       "      <th>0</th>\n",
       "      <td>3.000</td>\n",
       "      <td>0.660</td>\n",
       "      <td>0.340</td>\n",
       "      <td>0.383</td>\n",
       "      <td>1.563</td>\n",
       "    </tr>\n",
       "    <tr>\n",
       "      <th>1</th>\n",
       "      <td>3.000</td>\n",
       "      <td>0.680</td>\n",
       "      <td>0.320</td>\n",
       "      <td>0.372</td>\n",
       "      <td>1.552</td>\n",
       "    </tr>\n",
       "    <tr>\n",
       "      <th>2</th>\n",
       "      <td>3.000</td>\n",
       "      <td>0.700</td>\n",
       "      <td>0.300</td>\n",
       "      <td>0.360</td>\n",
       "      <td>1.540</td>\n",
       "    </tr>\n",
       "    <tr>\n",
       "      <th>3</th>\n",
       "      <td>3.000</td>\n",
       "      <td>0.720</td>\n",
       "      <td>0.280</td>\n",
       "      <td>0.338</td>\n",
       "      <td>1.518</td>\n",
       "    </tr>\n",
       "    <tr>\n",
       "      <th>4</th>\n",
       "      <td>3.000</td>\n",
       "      <td>0.740</td>\n",
       "      <td>0.260</td>\n",
       "      <td>0.317</td>\n",
       "      <td>1.497</td>\n",
       "    </tr>\n",
       "    <tr>\n",
       "      <th>...</th>\n",
       "      <td>...</td>\n",
       "      <td>...</td>\n",
       "      <td>...</td>\n",
       "      <td>...</td>\n",
       "      <td>...</td>\n",
       "    </tr>\n",
       "    <tr>\n",
       "      <th>552</th>\n",
       "      <td>6.000</td>\n",
       "      <td>0.910</td>\n",
       "      <td>0.090</td>\n",
       "      <td>0.142</td>\n",
       "      <td>1.322</td>\n",
       "    </tr>\n",
       "    <tr>\n",
       "      <th>553</th>\n",
       "      <td>6.000</td>\n",
       "      <td>0.930</td>\n",
       "      <td>0.070</td>\n",
       "      <td>0.151</td>\n",
       "      <td>1.331</td>\n",
       "    </tr>\n",
       "    <tr>\n",
       "      <th>554</th>\n",
       "      <td>6.000</td>\n",
       "      <td>0.950</td>\n",
       "      <td>0.050</td>\n",
       "      <td>0.160</td>\n",
       "      <td>1.340</td>\n",
       "    </tr>\n",
       "    <tr>\n",
       "      <th>555</th>\n",
       "      <td>6.000</td>\n",
       "      <td>0.970</td>\n",
       "      <td>0.030</td>\n",
       "      <td>0.160</td>\n",
       "      <td>1.340</td>\n",
       "    </tr>\n",
       "    <tr>\n",
       "      <th>556</th>\n",
       "      <td>6.000</td>\n",
       "      <td>0.990</td>\n",
       "      <td>0.010</td>\n",
       "      <td>0.160</td>\n",
       "      <td>1.340</td>\n",
       "    </tr>\n",
       "  </tbody>\n",
       "</table>\n",
       "<p>557 rows × 5 columns</p>\n",
       "</div>"
      ],
      "text/plain": [
       "       Iy    PF     e   dIf    If\n",
       "0   3.000 0.660 0.340 0.383 1.563\n",
       "1   3.000 0.680 0.320 0.372 1.552\n",
       "2   3.000 0.700 0.300 0.360 1.540\n",
       "3   3.000 0.720 0.280 0.338 1.518\n",
       "4   3.000 0.740 0.260 0.317 1.497\n",
       "..    ...   ...   ...   ...   ...\n",
       "552 6.000 0.910 0.090 0.142 1.322\n",
       "553 6.000 0.930 0.070 0.151 1.331\n",
       "554 6.000 0.950 0.050 0.160 1.340\n",
       "555 6.000 0.970 0.030 0.160 1.340\n",
       "556 6.000 0.990 0.010 0.160 1.340\n",
       "\n",
       "[557 rows x 5 columns]"
      ]
     },
     "execution_count": 40,
     "metadata": {},
     "output_type": "execute_result"
    }
   ],
   "source": [
    "data_df = pd.read_csv('synchronous_machine.csv')\n",
    "data_df"
   ]
  },
  {
   "attachments": {},
   "cell_type": "markdown",
   "metadata": {},
   "source": [
    "# Análisis de los datos"
   ]
  },
  {
   "cell_type": "code",
   "execution_count": 41,
   "metadata": {},
   "outputs": [
    {
     "data": {
      "text/html": [
       "<div>\n",
       "<style scoped>\n",
       "    .dataframe tbody tr th:only-of-type {\n",
       "        vertical-align: middle;\n",
       "    }\n",
       "\n",
       "    .dataframe tbody tr th {\n",
       "        vertical-align: top;\n",
       "    }\n",
       "\n",
       "    .dataframe thead th {\n",
       "        text-align: right;\n",
       "    }\n",
       "</style>\n",
       "<table border=\"1\" class=\"dataframe\">\n",
       "  <thead>\n",
       "    <tr style=\"text-align: right;\">\n",
       "      <th></th>\n",
       "      <th>Iy</th>\n",
       "      <th>PF</th>\n",
       "      <th>e</th>\n",
       "      <th>dIf</th>\n",
       "      <th>If</th>\n",
       "    </tr>\n",
       "  </thead>\n",
       "  <tbody>\n",
       "    <tr>\n",
       "      <th>count</th>\n",
       "      <td>557.000</td>\n",
       "      <td>557.000</td>\n",
       "      <td>557.000</td>\n",
       "      <td>557.000</td>\n",
       "      <td>557.000</td>\n",
       "    </tr>\n",
       "    <tr>\n",
       "      <th>mean</th>\n",
       "      <td>4.500</td>\n",
       "      <td>0.825</td>\n",
       "      <td>0.175</td>\n",
       "      <td>0.351</td>\n",
       "      <td>1.531</td>\n",
       "    </tr>\n",
       "    <tr>\n",
       "      <th>std</th>\n",
       "      <td>0.896</td>\n",
       "      <td>0.104</td>\n",
       "      <td>0.104</td>\n",
       "      <td>0.181</td>\n",
       "      <td>0.181</td>\n",
       "    </tr>\n",
       "    <tr>\n",
       "      <th>min</th>\n",
       "      <td>3.000</td>\n",
       "      <td>0.650</td>\n",
       "      <td>0.000</td>\n",
       "      <td>0.037</td>\n",
       "      <td>1.217</td>\n",
       "    </tr>\n",
       "    <tr>\n",
       "      <th>25%</th>\n",
       "      <td>3.700</td>\n",
       "      <td>0.740</td>\n",
       "      <td>0.080</td>\n",
       "      <td>0.189</td>\n",
       "      <td>1.369</td>\n",
       "    </tr>\n",
       "    <tr>\n",
       "      <th>50%</th>\n",
       "      <td>4.500</td>\n",
       "      <td>0.820</td>\n",
       "      <td>0.180</td>\n",
       "      <td>0.345</td>\n",
       "      <td>1.525</td>\n",
       "    </tr>\n",
       "    <tr>\n",
       "      <th>75%</th>\n",
       "      <td>5.300</td>\n",
       "      <td>0.920</td>\n",
       "      <td>0.260</td>\n",
       "      <td>0.486</td>\n",
       "      <td>1.666</td>\n",
       "    </tr>\n",
       "    <tr>\n",
       "      <th>max</th>\n",
       "      <td>6.000</td>\n",
       "      <td>1.000</td>\n",
       "      <td>0.350</td>\n",
       "      <td>0.769</td>\n",
       "      <td>1.949</td>\n",
       "    </tr>\n",
       "  </tbody>\n",
       "</table>\n",
       "</div>"
      ],
      "text/plain": [
       "           Iy      PF       e     dIf      If\n",
       "count 557.000 557.000 557.000 557.000 557.000\n",
       "mean    4.500   0.825   0.175   0.351   1.531\n",
       "std     0.896   0.104   0.104   0.181   0.181\n",
       "min     3.000   0.650   0.000   0.037   1.217\n",
       "25%     3.700   0.740   0.080   0.189   1.369\n",
       "50%     4.500   0.820   0.180   0.345   1.525\n",
       "75%     5.300   0.920   0.260   0.486   1.666\n",
       "max     6.000   1.000   0.350   0.769   1.949"
      ]
     },
     "metadata": {},
     "output_type": "display_data"
    },
    {
     "data": {
      "text/plain": [
       "Iy     0\n",
       "PF     0\n",
       "e      0\n",
       "dIf    0\n",
       "If     0\n",
       "dtype: int64"
      ]
     },
     "metadata": {},
     "output_type": "display_data"
    },
    {
     "data": {
      "application/vnd.plotly.v1+json": {
       "config": {
        "plotlyServerURL": "https://plot.ly"
       },
       "data": [
        {
         "alignmentgroup": "True",
         "hovertemplate": "Iy=%{y}<extra></extra>",
         "legendgroup": "",
         "marker": {
          "color": "#636efa"
         },
         "name": "",
         "notched": false,
         "offsetgroup": "",
         "orientation": "v",
         "showlegend": false,
         "type": "box",
         "x0": " ",
         "xaxis": "x",
         "y": [
          3,
          3,
          3,
          3,
          3,
          3,
          3,
          3,
          3,
          3,
          3,
          3,
          3,
          3,
          3,
          3,
          3,
          3,
          3.1,
          3.1,
          3.1,
          3.1,
          3.1,
          3.1,
          3.1,
          3.1,
          3.1,
          3.1,
          3.1,
          3.1,
          3.1,
          3.1,
          3.1,
          3.1,
          3.1,
          3.1,
          3.2,
          3.2,
          3.2,
          3.2,
          3.2,
          3.2,
          3.2,
          3.2,
          3.2,
          3.2,
          3.2,
          3.2,
          3.2,
          3.2,
          3.2,
          3.2,
          3.2,
          3.2,
          3.3,
          3.3,
          3.3,
          3.3,
          3.3,
          3.3,
          3.3,
          3.3,
          3.3,
          3.3,
          3.3,
          3.3,
          3.3,
          3.3,
          3.3,
          3.3,
          3.3,
          3.3,
          3.4,
          3.4,
          3.4,
          3.4,
          3.4,
          3.4,
          3.4,
          3.4,
          3.4,
          3.4,
          3.4,
          3.4,
          3.4,
          3.4,
          3.4,
          3.4,
          3.4,
          3.4,
          3.5,
          3.5,
          3.5,
          3.5,
          3.5,
          3.5,
          3.5,
          3.5,
          3.5,
          3.5,
          3.5,
          3.5,
          3.5,
          3.5,
          3.5,
          3.5,
          3.5,
          3.5,
          3.6,
          3.6,
          3.8,
          3.8,
          3.8,
          3.8,
          3.8,
          3.7,
          3.7,
          3.6,
          3.7,
          3.7,
          3.7,
          3.6,
          3.6,
          3.6,
          3.6,
          3.8,
          3.7,
          3.8,
          3.6,
          3.7,
          3.8,
          3.6,
          3.7,
          3.6,
          3.8,
          3.7,
          3.8,
          3.6,
          3.7,
          3.6,
          3.8,
          3.7,
          3.6,
          3.8,
          3.7,
          3.6,
          3.8,
          3.7,
          3.6,
          3.8,
          3.7,
          3.6,
          3.8,
          3.7,
          3.9,
          3.6,
          3.8,
          3.7,
          3.9,
          3.8,
          3.7,
          3.9,
          3.8,
          3.7,
          3.6,
          3.9,
          3.9,
          3.9,
          3.9,
          3.9,
          3.9,
          3.9,
          4,
          4,
          4,
          4,
          4,
          3.9,
          3.9,
          3.9,
          3.9,
          3.9,
          4.1,
          4,
          4.1,
          4,
          4,
          4.1,
          4.1,
          4.1,
          3.9,
          3.9,
          3.9,
          4,
          4.1,
          4,
          4.1,
          4.1,
          4,
          4,
          4,
          4.1,
          4.1,
          4,
          4,
          4.1,
          4,
          4.1,
          4,
          4.1,
          4,
          4.1,
          4.1,
          4.2,
          4.1,
          4.2,
          4.1,
          4.1,
          4.3,
          4.3,
          4.3,
          4.3,
          4.3,
          4.2,
          4.2,
          4.2,
          4.2,
          4.2,
          4.3,
          4.3,
          4.2,
          4.3,
          4.2,
          4.2,
          4.3,
          4.2,
          4.3,
          4.2,
          4.3,
          4.2,
          4.3,
          4.2,
          4.3,
          4.2,
          4.3,
          4.2,
          4.3,
          4.2,
          4.3,
          4.3,
          4.3,
          4.2,
          4.4,
          4.4,
          4.4,
          4.4,
          4.4,
          4.4,
          4.4,
          4.4,
          4.4,
          4.4,
          4.4,
          4.4,
          4.4,
          4.4,
          4.4,
          4.4,
          4.4,
          4.4,
          4.5,
          4.5,
          4.5,
          4.5,
          4.5,
          4.5,
          4.5,
          4.5,
          4.5,
          4.5,
          4.5,
          4.5,
          4.5,
          4.5,
          4.5,
          4.5,
          4.5,
          4.5,
          4.6,
          4.6,
          4.6,
          4.6,
          4.6,
          4.6,
          4.6,
          4.6,
          4.6,
          4.6,
          4.6,
          4.6,
          4.6,
          4.6,
          4.6,
          4.6,
          4.6,
          4.7,
          4.7,
          4.7,
          4.7,
          4.7,
          4.7,
          4.7,
          4.7,
          4.7,
          4.7,
          4.7,
          4.7,
          4.7,
          4.7,
          4.7,
          4.7,
          4.7,
          4.7,
          4.8,
          4.8,
          4.8,
          4.8,
          4.8,
          4.8,
          4.8,
          4.8,
          4.8,
          4.8,
          4.8,
          4.8,
          4.8,
          4.8,
          4.8,
          4.8,
          4.8,
          4.8,
          4.9,
          4.9,
          4.9,
          4.9,
          4.9,
          4.9,
          4.9,
          4.9,
          4.9,
          4.9,
          4.9,
          4.9,
          4.9,
          4.9,
          4.9,
          4.9,
          4.9,
          4.9,
          5,
          5,
          5,
          5,
          5,
          5,
          5,
          5,
          5,
          5,
          5,
          5,
          5,
          5,
          5,
          5,
          5,
          5,
          5.1,
          5.1,
          5.1,
          5.1,
          5.1,
          5.1,
          5.1,
          5.1,
          5.1,
          5.1,
          5.1,
          5.1,
          5.1,
          5.1,
          5.1,
          5.1,
          5.1,
          5.1,
          5.2,
          5.2,
          5.2,
          5.2,
          5.2,
          5.2,
          5.2,
          5.2,
          5.2,
          5.2,
          5.2,
          5.2,
          5.2,
          5.2,
          5.2,
          5.2,
          5.2,
          5.2,
          5.3,
          5.3,
          5.3,
          5.3,
          5.3,
          5.3,
          5.3,
          5.3,
          5.3,
          5.3,
          5.3,
          5.3,
          5.3,
          5.3,
          5.3,
          5.3,
          5.3,
          5.3,
          5.4,
          5.4,
          5.4,
          5.4,
          5.4,
          5.4,
          5.4,
          5.4,
          5.4,
          5.4,
          5.4,
          5.4,
          5.4,
          5.4,
          5.4,
          5.4,
          5.4,
          5.4,
          5.5,
          5.5,
          5.5,
          5.5,
          5.5,
          5.5,
          5.5,
          5.5,
          5.5,
          5.5,
          5.5,
          5.5,
          5.5,
          5.5,
          5.5,
          5.5,
          5.5,
          5.5,
          5.6,
          5.6,
          5.6,
          5.6,
          5.6,
          5.6,
          5.6,
          5.6,
          5.6,
          5.6,
          5.6,
          5.6,
          5.6,
          5.6,
          5.6,
          5.6,
          5.6,
          5.6,
          5.7,
          5.7,
          5.7,
          5.7,
          5.7,
          5.7,
          5.7,
          5.7,
          5.7,
          5.7,
          5.7,
          5.7,
          5.7,
          5.7,
          5.7,
          5.7,
          5.7,
          5.7,
          5.8,
          5.8,
          5.8,
          5.8,
          5.8,
          5.8,
          5.8,
          5.8,
          5.8,
          5.8,
          5.8,
          5.8,
          5.8,
          5.8,
          5.8,
          5.8,
          5.8,
          5.8,
          5.9,
          5.9,
          5.9,
          5.9,
          5.9,
          5.9,
          5.9,
          5.9,
          5.9,
          5.9,
          5.9,
          5.9,
          5.9,
          5.9,
          5.9,
          5.9,
          5.9,
          5.9,
          6,
          6,
          6,
          6,
          6,
          6,
          6,
          6,
          6,
          6,
          6,
          6,
          6,
          6,
          6,
          6,
          6,
          6
         ],
         "y0": " ",
         "yaxis": "y"
        }
       ],
       "layout": {
        "boxmode": "group",
        "legend": {
         "tracegroupgap": 0
        },
        "margin": {
         "t": 60
        },
        "template": {
         "data": {
          "bar": [
           {
            "error_x": {
             "color": "#2a3f5f"
            },
            "error_y": {
             "color": "#2a3f5f"
            },
            "marker": {
             "line": {
              "color": "#E5ECF6",
              "width": 0.5
             },
             "pattern": {
              "fillmode": "overlay",
              "size": 10,
              "solidity": 0.2
             }
            },
            "type": "bar"
           }
          ],
          "barpolar": [
           {
            "marker": {
             "line": {
              "color": "#E5ECF6",
              "width": 0.5
             },
             "pattern": {
              "fillmode": "overlay",
              "size": 10,
              "solidity": 0.2
             }
            },
            "type": "barpolar"
           }
          ],
          "carpet": [
           {
            "aaxis": {
             "endlinecolor": "#2a3f5f",
             "gridcolor": "white",
             "linecolor": "white",
             "minorgridcolor": "white",
             "startlinecolor": "#2a3f5f"
            },
            "baxis": {
             "endlinecolor": "#2a3f5f",
             "gridcolor": "white",
             "linecolor": "white",
             "minorgridcolor": "white",
             "startlinecolor": "#2a3f5f"
            },
            "type": "carpet"
           }
          ],
          "choropleth": [
           {
            "colorbar": {
             "outlinewidth": 0,
             "ticks": ""
            },
            "type": "choropleth"
           }
          ],
          "contour": [
           {
            "colorbar": {
             "outlinewidth": 0,
             "ticks": ""
            },
            "colorscale": [
             [
              0,
              "#0d0887"
             ],
             [
              0.1111111111111111,
              "#46039f"
             ],
             [
              0.2222222222222222,
              "#7201a8"
             ],
             [
              0.3333333333333333,
              "#9c179e"
             ],
             [
              0.4444444444444444,
              "#bd3786"
             ],
             [
              0.5555555555555556,
              "#d8576b"
             ],
             [
              0.6666666666666666,
              "#ed7953"
             ],
             [
              0.7777777777777778,
              "#fb9f3a"
             ],
             [
              0.8888888888888888,
              "#fdca26"
             ],
             [
              1,
              "#f0f921"
             ]
            ],
            "type": "contour"
           }
          ],
          "contourcarpet": [
           {
            "colorbar": {
             "outlinewidth": 0,
             "ticks": ""
            },
            "type": "contourcarpet"
           }
          ],
          "heatmap": [
           {
            "colorbar": {
             "outlinewidth": 0,
             "ticks": ""
            },
            "colorscale": [
             [
              0,
              "#0d0887"
             ],
             [
              0.1111111111111111,
              "#46039f"
             ],
             [
              0.2222222222222222,
              "#7201a8"
             ],
             [
              0.3333333333333333,
              "#9c179e"
             ],
             [
              0.4444444444444444,
              "#bd3786"
             ],
             [
              0.5555555555555556,
              "#d8576b"
             ],
             [
              0.6666666666666666,
              "#ed7953"
             ],
             [
              0.7777777777777778,
              "#fb9f3a"
             ],
             [
              0.8888888888888888,
              "#fdca26"
             ],
             [
              1,
              "#f0f921"
             ]
            ],
            "type": "heatmap"
           }
          ],
          "heatmapgl": [
           {
            "colorbar": {
             "outlinewidth": 0,
             "ticks": ""
            },
            "colorscale": [
             [
              0,
              "#0d0887"
             ],
             [
              0.1111111111111111,
              "#46039f"
             ],
             [
              0.2222222222222222,
              "#7201a8"
             ],
             [
              0.3333333333333333,
              "#9c179e"
             ],
             [
              0.4444444444444444,
              "#bd3786"
             ],
             [
              0.5555555555555556,
              "#d8576b"
             ],
             [
              0.6666666666666666,
              "#ed7953"
             ],
             [
              0.7777777777777778,
              "#fb9f3a"
             ],
             [
              0.8888888888888888,
              "#fdca26"
             ],
             [
              1,
              "#f0f921"
             ]
            ],
            "type": "heatmapgl"
           }
          ],
          "histogram": [
           {
            "marker": {
             "pattern": {
              "fillmode": "overlay",
              "size": 10,
              "solidity": 0.2
             }
            },
            "type": "histogram"
           }
          ],
          "histogram2d": [
           {
            "colorbar": {
             "outlinewidth": 0,
             "ticks": ""
            },
            "colorscale": [
             [
              0,
              "#0d0887"
             ],
             [
              0.1111111111111111,
              "#46039f"
             ],
             [
              0.2222222222222222,
              "#7201a8"
             ],
             [
              0.3333333333333333,
              "#9c179e"
             ],
             [
              0.4444444444444444,
              "#bd3786"
             ],
             [
              0.5555555555555556,
              "#d8576b"
             ],
             [
              0.6666666666666666,
              "#ed7953"
             ],
             [
              0.7777777777777778,
              "#fb9f3a"
             ],
             [
              0.8888888888888888,
              "#fdca26"
             ],
             [
              1,
              "#f0f921"
             ]
            ],
            "type": "histogram2d"
           }
          ],
          "histogram2dcontour": [
           {
            "colorbar": {
             "outlinewidth": 0,
             "ticks": ""
            },
            "colorscale": [
             [
              0,
              "#0d0887"
             ],
             [
              0.1111111111111111,
              "#46039f"
             ],
             [
              0.2222222222222222,
              "#7201a8"
             ],
             [
              0.3333333333333333,
              "#9c179e"
             ],
             [
              0.4444444444444444,
              "#bd3786"
             ],
             [
              0.5555555555555556,
              "#d8576b"
             ],
             [
              0.6666666666666666,
              "#ed7953"
             ],
             [
              0.7777777777777778,
              "#fb9f3a"
             ],
             [
              0.8888888888888888,
              "#fdca26"
             ],
             [
              1,
              "#f0f921"
             ]
            ],
            "type": "histogram2dcontour"
           }
          ],
          "mesh3d": [
           {
            "colorbar": {
             "outlinewidth": 0,
             "ticks": ""
            },
            "type": "mesh3d"
           }
          ],
          "parcoords": [
           {
            "line": {
             "colorbar": {
              "outlinewidth": 0,
              "ticks": ""
             }
            },
            "type": "parcoords"
           }
          ],
          "pie": [
           {
            "automargin": true,
            "type": "pie"
           }
          ],
          "scatter": [
           {
            "fillpattern": {
             "fillmode": "overlay",
             "size": 10,
             "solidity": 0.2
            },
            "type": "scatter"
           }
          ],
          "scatter3d": [
           {
            "line": {
             "colorbar": {
              "outlinewidth": 0,
              "ticks": ""
             }
            },
            "marker": {
             "colorbar": {
              "outlinewidth": 0,
              "ticks": ""
             }
            },
            "type": "scatter3d"
           }
          ],
          "scattercarpet": [
           {
            "marker": {
             "colorbar": {
              "outlinewidth": 0,
              "ticks": ""
             }
            },
            "type": "scattercarpet"
           }
          ],
          "scattergeo": [
           {
            "marker": {
             "colorbar": {
              "outlinewidth": 0,
              "ticks": ""
             }
            },
            "type": "scattergeo"
           }
          ],
          "scattergl": [
           {
            "marker": {
             "colorbar": {
              "outlinewidth": 0,
              "ticks": ""
             }
            },
            "type": "scattergl"
           }
          ],
          "scattermapbox": [
           {
            "marker": {
             "colorbar": {
              "outlinewidth": 0,
              "ticks": ""
             }
            },
            "type": "scattermapbox"
           }
          ],
          "scatterpolar": [
           {
            "marker": {
             "colorbar": {
              "outlinewidth": 0,
              "ticks": ""
             }
            },
            "type": "scatterpolar"
           }
          ],
          "scatterpolargl": [
           {
            "marker": {
             "colorbar": {
              "outlinewidth": 0,
              "ticks": ""
             }
            },
            "type": "scatterpolargl"
           }
          ],
          "scatterternary": [
           {
            "marker": {
             "colorbar": {
              "outlinewidth": 0,
              "ticks": ""
             }
            },
            "type": "scatterternary"
           }
          ],
          "surface": [
           {
            "colorbar": {
             "outlinewidth": 0,
             "ticks": ""
            },
            "colorscale": [
             [
              0,
              "#0d0887"
             ],
             [
              0.1111111111111111,
              "#46039f"
             ],
             [
              0.2222222222222222,
              "#7201a8"
             ],
             [
              0.3333333333333333,
              "#9c179e"
             ],
             [
              0.4444444444444444,
              "#bd3786"
             ],
             [
              0.5555555555555556,
              "#d8576b"
             ],
             [
              0.6666666666666666,
              "#ed7953"
             ],
             [
              0.7777777777777778,
              "#fb9f3a"
             ],
             [
              0.8888888888888888,
              "#fdca26"
             ],
             [
              1,
              "#f0f921"
             ]
            ],
            "type": "surface"
           }
          ],
          "table": [
           {
            "cells": {
             "fill": {
              "color": "#EBF0F8"
             },
             "line": {
              "color": "white"
             }
            },
            "header": {
             "fill": {
              "color": "#C8D4E3"
             },
             "line": {
              "color": "white"
             }
            },
            "type": "table"
           }
          ]
         },
         "layout": {
          "annotationdefaults": {
           "arrowcolor": "#2a3f5f",
           "arrowhead": 0,
           "arrowwidth": 1
          },
          "autotypenumbers": "strict",
          "coloraxis": {
           "colorbar": {
            "outlinewidth": 0,
            "ticks": ""
           }
          },
          "colorscale": {
           "diverging": [
            [
             0,
             "#8e0152"
            ],
            [
             0.1,
             "#c51b7d"
            ],
            [
             0.2,
             "#de77ae"
            ],
            [
             0.3,
             "#f1b6da"
            ],
            [
             0.4,
             "#fde0ef"
            ],
            [
             0.5,
             "#f7f7f7"
            ],
            [
             0.6,
             "#e6f5d0"
            ],
            [
             0.7,
             "#b8e186"
            ],
            [
             0.8,
             "#7fbc41"
            ],
            [
             0.9,
             "#4d9221"
            ],
            [
             1,
             "#276419"
            ]
           ],
           "sequential": [
            [
             0,
             "#0d0887"
            ],
            [
             0.1111111111111111,
             "#46039f"
            ],
            [
             0.2222222222222222,
             "#7201a8"
            ],
            [
             0.3333333333333333,
             "#9c179e"
            ],
            [
             0.4444444444444444,
             "#bd3786"
            ],
            [
             0.5555555555555556,
             "#d8576b"
            ],
            [
             0.6666666666666666,
             "#ed7953"
            ],
            [
             0.7777777777777778,
             "#fb9f3a"
            ],
            [
             0.8888888888888888,
             "#fdca26"
            ],
            [
             1,
             "#f0f921"
            ]
           ],
           "sequentialminus": [
            [
             0,
             "#0d0887"
            ],
            [
             0.1111111111111111,
             "#46039f"
            ],
            [
             0.2222222222222222,
             "#7201a8"
            ],
            [
             0.3333333333333333,
             "#9c179e"
            ],
            [
             0.4444444444444444,
             "#bd3786"
            ],
            [
             0.5555555555555556,
             "#d8576b"
            ],
            [
             0.6666666666666666,
             "#ed7953"
            ],
            [
             0.7777777777777778,
             "#fb9f3a"
            ],
            [
             0.8888888888888888,
             "#fdca26"
            ],
            [
             1,
             "#f0f921"
            ]
           ]
          },
          "colorway": [
           "#636efa",
           "#EF553B",
           "#00cc96",
           "#ab63fa",
           "#FFA15A",
           "#19d3f3",
           "#FF6692",
           "#B6E880",
           "#FF97FF",
           "#FECB52"
          ],
          "font": {
           "color": "#2a3f5f"
          },
          "geo": {
           "bgcolor": "white",
           "lakecolor": "white",
           "landcolor": "#E5ECF6",
           "showlakes": true,
           "showland": true,
           "subunitcolor": "white"
          },
          "hoverlabel": {
           "align": "left"
          },
          "hovermode": "closest",
          "mapbox": {
           "style": "light"
          },
          "paper_bgcolor": "white",
          "plot_bgcolor": "#E5ECF6",
          "polar": {
           "angularaxis": {
            "gridcolor": "white",
            "linecolor": "white",
            "ticks": ""
           },
           "bgcolor": "#E5ECF6",
           "radialaxis": {
            "gridcolor": "white",
            "linecolor": "white",
            "ticks": ""
           }
          },
          "scene": {
           "xaxis": {
            "backgroundcolor": "#E5ECF6",
            "gridcolor": "white",
            "gridwidth": 2,
            "linecolor": "white",
            "showbackground": true,
            "ticks": "",
            "zerolinecolor": "white"
           },
           "yaxis": {
            "backgroundcolor": "#E5ECF6",
            "gridcolor": "white",
            "gridwidth": 2,
            "linecolor": "white",
            "showbackground": true,
            "ticks": "",
            "zerolinecolor": "white"
           },
           "zaxis": {
            "backgroundcolor": "#E5ECF6",
            "gridcolor": "white",
            "gridwidth": 2,
            "linecolor": "white",
            "showbackground": true,
            "ticks": "",
            "zerolinecolor": "white"
           }
          },
          "shapedefaults": {
           "line": {
            "color": "#2a3f5f"
           }
          },
          "ternary": {
           "aaxis": {
            "gridcolor": "white",
            "linecolor": "white",
            "ticks": ""
           },
           "baxis": {
            "gridcolor": "white",
            "linecolor": "white",
            "ticks": ""
           },
           "bgcolor": "#E5ECF6",
           "caxis": {
            "gridcolor": "white",
            "linecolor": "white",
            "ticks": ""
           }
          },
          "title": {
           "x": 0.05
          },
          "xaxis": {
           "automargin": true,
           "gridcolor": "white",
           "linecolor": "white",
           "ticks": "",
           "title": {
            "standoff": 15
           },
           "zerolinecolor": "white",
           "zerolinewidth": 2
          },
          "yaxis": {
           "automargin": true,
           "gridcolor": "white",
           "linecolor": "white",
           "ticks": "",
           "title": {
            "standoff": 15
           },
           "zerolinecolor": "white",
           "zerolinewidth": 2
          }
         }
        },
        "xaxis": {
         "anchor": "y",
         "domain": [
          0,
          1
         ]
        },
        "yaxis": {
         "anchor": "x",
         "domain": [
          0,
          1
         ],
         "title": {
          "text": "Iy"
         }
        }
       }
      }
     },
     "metadata": {},
     "output_type": "display_data"
    },
    {
     "data": {
      "application/vnd.plotly.v1+json": {
       "config": {
        "plotlyServerURL": "https://plot.ly"
       },
       "data": [
        {
         "alignmentgroup": "True",
         "hovertemplate": "PF=%{y}<extra></extra>",
         "legendgroup": "",
         "marker": {
          "color": "#636efa"
         },
         "name": "",
         "notched": false,
         "offsetgroup": "",
         "orientation": "v",
         "showlegend": false,
         "type": "box",
         "x0": " ",
         "xaxis": "x",
         "y": [
          0.66,
          0.68,
          0.7,
          0.72,
          0.74,
          0.76,
          0.78,
          0.8,
          0.82,
          0.84,
          0.86,
          0.88,
          0.9,
          0.92,
          0.94,
          0.96,
          0.98,
          1,
          0.66,
          0.68,
          0.7,
          0.72,
          0.74,
          0.76,
          0.78,
          0.8,
          0.82,
          0.84,
          0.86,
          0.88,
          0.9,
          0.92,
          0.94,
          0.96,
          0.98,
          1,
          0.66,
          0.68,
          0.7,
          0.72,
          0.74,
          0.76,
          0.78,
          0.8,
          0.82,
          0.84,
          0.86,
          0.88,
          0.9,
          0.92,
          0.94,
          0.96,
          0.98,
          1,
          0.66,
          0.68,
          0.7,
          0.72,
          0.74,
          0.76,
          0.78,
          0.8,
          0.82,
          0.84,
          0.86,
          0.88,
          0.9,
          0.92,
          0.94,
          0.96,
          0.98,
          1,
          0.66,
          0.68,
          0.7,
          0.72,
          0.74,
          0.76,
          0.78,
          0.8,
          0.82,
          0.84,
          0.86,
          0.88,
          0.9,
          0.92,
          0.94,
          0.96,
          0.98,
          1,
          0.66,
          0.68,
          0.7,
          0.72,
          0.74,
          0.76,
          0.78,
          0.8,
          0.82,
          0.84,
          0.86,
          0.88,
          0.9,
          0.92,
          0.94,
          0.96,
          0.98,
          1,
          0.66,
          0.68,
          0.92,
          0.94,
          0.96,
          0.98,
          1,
          0.92,
          0.94,
          0.92,
          0.96,
          0.98,
          1,
          0.94,
          0.96,
          0.98,
          1,
          0.86,
          0.86,
          0.88,
          0.86,
          0.88,
          0.9,
          0.88,
          0.9,
          0.9,
          0.82,
          0.82,
          0.84,
          0.82,
          0.84,
          0.84,
          0.76,
          0.76,
          0.76,
          0.78,
          0.78,
          0.78,
          0.8,
          0.8,
          0.8,
          0.72,
          0.72,
          0.72,
          0.74,
          0.74,
          0.66,
          0.74,
          0.66,
          0.66,
          0.68,
          0.68,
          0.68,
          0.7,
          0.7,
          0.7,
          0.7,
          0.72,
          0.74,
          0.76,
          0.78,
          0.8,
          0.82,
          0.84,
          0.92,
          0.94,
          0.96,
          0.98,
          1,
          0.92,
          0.96,
          0.98,
          1,
          0.94,
          0.92,
          0.86,
          0.94,
          0.88,
          0.9,
          0.96,
          0.98,
          1,
          0.86,
          0.88,
          0.9,
          0.82,
          0.86,
          0.84,
          0.88,
          0.9,
          0.76,
          0.78,
          0.8,
          0.82,
          0.84,
          0.72,
          0.74,
          0.76,
          0.66,
          0.78,
          0.68,
          0.8,
          0.7,
          0.72,
          0.74,
          0.66,
          0.66,
          0.68,
          0.68,
          0.7,
          0.92,
          0.94,
          0.96,
          0.98,
          1,
          0.92,
          0.94,
          0.96,
          0.98,
          1,
          0.86,
          0.88,
          0.86,
          0.9,
          0.88,
          0.9,
          0.82,
          0.82,
          0.84,
          0.84,
          0.76,
          0.76,
          0.78,
          0.78,
          0.8,
          0.8,
          0.72,
          0.72,
          0.74,
          0.74,
          0.66,
          0.68,
          0.7,
          0.7,
          0.66,
          0.68,
          0.7,
          0.72,
          0.74,
          0.76,
          0.78,
          0.8,
          0.82,
          0.84,
          0.86,
          0.88,
          0.9,
          0.92,
          0.94,
          0.96,
          0.98,
          1,
          0.66,
          0.68,
          0.7,
          0.72,
          0.74,
          0.76,
          0.78,
          0.8,
          0.82,
          0.84,
          0.86,
          0.88,
          0.9,
          0.92,
          0.94,
          0.96,
          0.98,
          1,
          0.66,
          0.68,
          0.7,
          0.72,
          0.74,
          0.76,
          0.78,
          0.8,
          0.82,
          0.84,
          0.87,
          0.89,
          0.91,
          0.93,
          0.95,
          0.97,
          0.99,
          0.65,
          0.67,
          0.69,
          0.71,
          0.73,
          0.75,
          0.77,
          0.79,
          0.81,
          0.83,
          0.85,
          0.87,
          0.89,
          0.91,
          0.93,
          0.95,
          0.97,
          0.99,
          0.65,
          0.67,
          0.69,
          0.71,
          0.73,
          0.75,
          0.77,
          0.79,
          0.81,
          0.83,
          0.85,
          0.87,
          0.89,
          0.91,
          0.93,
          0.95,
          0.97,
          0.99,
          0.65,
          0.67,
          0.69,
          0.71,
          0.73,
          0.75,
          0.77,
          0.79,
          0.81,
          0.83,
          0.85,
          0.87,
          0.89,
          0.91,
          0.93,
          0.95,
          0.97,
          0.99,
          0.65,
          0.67,
          0.69,
          0.71,
          0.73,
          0.75,
          0.77,
          0.79,
          0.81,
          0.83,
          0.85,
          0.87,
          0.89,
          0.91,
          0.93,
          0.95,
          0.97,
          0.99,
          0.65,
          0.67,
          0.69,
          0.71,
          0.73,
          0.75,
          0.77,
          0.79,
          0.81,
          0.83,
          0.85,
          0.87,
          0.89,
          0.91,
          0.93,
          0.95,
          0.97,
          0.99,
          0.65,
          0.67,
          0.69,
          0.71,
          0.73,
          0.75,
          0.77,
          0.79,
          0.81,
          0.83,
          0.85,
          0.87,
          0.89,
          0.91,
          0.93,
          0.95,
          0.97,
          0.99,
          0.65,
          0.67,
          0.69,
          0.71,
          0.73,
          0.75,
          0.77,
          0.79,
          0.81,
          0.83,
          0.85,
          0.87,
          0.89,
          0.91,
          0.93,
          0.95,
          0.97,
          0.99,
          0.65,
          0.67,
          0.69,
          0.71,
          0.73,
          0.75,
          0.77,
          0.79,
          0.81,
          0.83,
          0.85,
          0.87,
          0.89,
          0.91,
          0.93,
          0.95,
          0.97,
          0.99,
          0.65,
          0.67,
          0.69,
          0.71,
          0.73,
          0.75,
          0.77,
          0.79,
          0.81,
          0.83,
          0.85,
          0.87,
          0.89,
          0.91,
          0.93,
          0.95,
          0.97,
          0.99,
          0.65,
          0.67,
          0.69,
          0.71,
          0.73,
          0.75,
          0.77,
          0.79,
          0.81,
          0.83,
          0.85,
          0.87,
          0.89,
          0.91,
          0.93,
          0.95,
          0.97,
          0.99,
          0.65,
          0.67,
          0.69,
          0.71,
          0.73,
          0.75,
          0.77,
          0.79,
          0.81,
          0.83,
          0.85,
          0.87,
          0.89,
          0.91,
          0.93,
          0.95,
          0.97,
          0.99,
          0.65,
          0.67,
          0.69,
          0.71,
          0.73,
          0.75,
          0.77,
          0.79,
          0.81,
          0.83,
          0.85,
          0.87,
          0.89,
          0.91,
          0.93,
          0.95,
          0.97,
          0.99,
          0.65,
          0.67,
          0.69,
          0.71,
          0.73,
          0.75,
          0.77,
          0.79,
          0.81,
          0.83,
          0.85,
          0.87,
          0.89,
          0.91,
          0.93,
          0.95,
          0.97,
          0.99,
          0.65,
          0.67,
          0.69,
          0.71,
          0.73,
          0.75,
          0.77,
          0.79,
          0.81,
          0.83,
          0.85,
          0.87,
          0.89,
          0.91,
          0.93,
          0.95,
          0.97,
          0.99
         ],
         "y0": " ",
         "yaxis": "y"
        }
       ],
       "layout": {
        "boxmode": "group",
        "legend": {
         "tracegroupgap": 0
        },
        "margin": {
         "t": 60
        },
        "template": {
         "data": {
          "bar": [
           {
            "error_x": {
             "color": "#2a3f5f"
            },
            "error_y": {
             "color": "#2a3f5f"
            },
            "marker": {
             "line": {
              "color": "#E5ECF6",
              "width": 0.5
             },
             "pattern": {
              "fillmode": "overlay",
              "size": 10,
              "solidity": 0.2
             }
            },
            "type": "bar"
           }
          ],
          "barpolar": [
           {
            "marker": {
             "line": {
              "color": "#E5ECF6",
              "width": 0.5
             },
             "pattern": {
              "fillmode": "overlay",
              "size": 10,
              "solidity": 0.2
             }
            },
            "type": "barpolar"
           }
          ],
          "carpet": [
           {
            "aaxis": {
             "endlinecolor": "#2a3f5f",
             "gridcolor": "white",
             "linecolor": "white",
             "minorgridcolor": "white",
             "startlinecolor": "#2a3f5f"
            },
            "baxis": {
             "endlinecolor": "#2a3f5f",
             "gridcolor": "white",
             "linecolor": "white",
             "minorgridcolor": "white",
             "startlinecolor": "#2a3f5f"
            },
            "type": "carpet"
           }
          ],
          "choropleth": [
           {
            "colorbar": {
             "outlinewidth": 0,
             "ticks": ""
            },
            "type": "choropleth"
           }
          ],
          "contour": [
           {
            "colorbar": {
             "outlinewidth": 0,
             "ticks": ""
            },
            "colorscale": [
             [
              0,
              "#0d0887"
             ],
             [
              0.1111111111111111,
              "#46039f"
             ],
             [
              0.2222222222222222,
              "#7201a8"
             ],
             [
              0.3333333333333333,
              "#9c179e"
             ],
             [
              0.4444444444444444,
              "#bd3786"
             ],
             [
              0.5555555555555556,
              "#d8576b"
             ],
             [
              0.6666666666666666,
              "#ed7953"
             ],
             [
              0.7777777777777778,
              "#fb9f3a"
             ],
             [
              0.8888888888888888,
              "#fdca26"
             ],
             [
              1,
              "#f0f921"
             ]
            ],
            "type": "contour"
           }
          ],
          "contourcarpet": [
           {
            "colorbar": {
             "outlinewidth": 0,
             "ticks": ""
            },
            "type": "contourcarpet"
           }
          ],
          "heatmap": [
           {
            "colorbar": {
             "outlinewidth": 0,
             "ticks": ""
            },
            "colorscale": [
             [
              0,
              "#0d0887"
             ],
             [
              0.1111111111111111,
              "#46039f"
             ],
             [
              0.2222222222222222,
              "#7201a8"
             ],
             [
              0.3333333333333333,
              "#9c179e"
             ],
             [
              0.4444444444444444,
              "#bd3786"
             ],
             [
              0.5555555555555556,
              "#d8576b"
             ],
             [
              0.6666666666666666,
              "#ed7953"
             ],
             [
              0.7777777777777778,
              "#fb9f3a"
             ],
             [
              0.8888888888888888,
              "#fdca26"
             ],
             [
              1,
              "#f0f921"
             ]
            ],
            "type": "heatmap"
           }
          ],
          "heatmapgl": [
           {
            "colorbar": {
             "outlinewidth": 0,
             "ticks": ""
            },
            "colorscale": [
             [
              0,
              "#0d0887"
             ],
             [
              0.1111111111111111,
              "#46039f"
             ],
             [
              0.2222222222222222,
              "#7201a8"
             ],
             [
              0.3333333333333333,
              "#9c179e"
             ],
             [
              0.4444444444444444,
              "#bd3786"
             ],
             [
              0.5555555555555556,
              "#d8576b"
             ],
             [
              0.6666666666666666,
              "#ed7953"
             ],
             [
              0.7777777777777778,
              "#fb9f3a"
             ],
             [
              0.8888888888888888,
              "#fdca26"
             ],
             [
              1,
              "#f0f921"
             ]
            ],
            "type": "heatmapgl"
           }
          ],
          "histogram": [
           {
            "marker": {
             "pattern": {
              "fillmode": "overlay",
              "size": 10,
              "solidity": 0.2
             }
            },
            "type": "histogram"
           }
          ],
          "histogram2d": [
           {
            "colorbar": {
             "outlinewidth": 0,
             "ticks": ""
            },
            "colorscale": [
             [
              0,
              "#0d0887"
             ],
             [
              0.1111111111111111,
              "#46039f"
             ],
             [
              0.2222222222222222,
              "#7201a8"
             ],
             [
              0.3333333333333333,
              "#9c179e"
             ],
             [
              0.4444444444444444,
              "#bd3786"
             ],
             [
              0.5555555555555556,
              "#d8576b"
             ],
             [
              0.6666666666666666,
              "#ed7953"
             ],
             [
              0.7777777777777778,
              "#fb9f3a"
             ],
             [
              0.8888888888888888,
              "#fdca26"
             ],
             [
              1,
              "#f0f921"
             ]
            ],
            "type": "histogram2d"
           }
          ],
          "histogram2dcontour": [
           {
            "colorbar": {
             "outlinewidth": 0,
             "ticks": ""
            },
            "colorscale": [
             [
              0,
              "#0d0887"
             ],
             [
              0.1111111111111111,
              "#46039f"
             ],
             [
              0.2222222222222222,
              "#7201a8"
             ],
             [
              0.3333333333333333,
              "#9c179e"
             ],
             [
              0.4444444444444444,
              "#bd3786"
             ],
             [
              0.5555555555555556,
              "#d8576b"
             ],
             [
              0.6666666666666666,
              "#ed7953"
             ],
             [
              0.7777777777777778,
              "#fb9f3a"
             ],
             [
              0.8888888888888888,
              "#fdca26"
             ],
             [
              1,
              "#f0f921"
             ]
            ],
            "type": "histogram2dcontour"
           }
          ],
          "mesh3d": [
           {
            "colorbar": {
             "outlinewidth": 0,
             "ticks": ""
            },
            "type": "mesh3d"
           }
          ],
          "parcoords": [
           {
            "line": {
             "colorbar": {
              "outlinewidth": 0,
              "ticks": ""
             }
            },
            "type": "parcoords"
           }
          ],
          "pie": [
           {
            "automargin": true,
            "type": "pie"
           }
          ],
          "scatter": [
           {
            "fillpattern": {
             "fillmode": "overlay",
             "size": 10,
             "solidity": 0.2
            },
            "type": "scatter"
           }
          ],
          "scatter3d": [
           {
            "line": {
             "colorbar": {
              "outlinewidth": 0,
              "ticks": ""
             }
            },
            "marker": {
             "colorbar": {
              "outlinewidth": 0,
              "ticks": ""
             }
            },
            "type": "scatter3d"
           }
          ],
          "scattercarpet": [
           {
            "marker": {
             "colorbar": {
              "outlinewidth": 0,
              "ticks": ""
             }
            },
            "type": "scattercarpet"
           }
          ],
          "scattergeo": [
           {
            "marker": {
             "colorbar": {
              "outlinewidth": 0,
              "ticks": ""
             }
            },
            "type": "scattergeo"
           }
          ],
          "scattergl": [
           {
            "marker": {
             "colorbar": {
              "outlinewidth": 0,
              "ticks": ""
             }
            },
            "type": "scattergl"
           }
          ],
          "scattermapbox": [
           {
            "marker": {
             "colorbar": {
              "outlinewidth": 0,
              "ticks": ""
             }
            },
            "type": "scattermapbox"
           }
          ],
          "scatterpolar": [
           {
            "marker": {
             "colorbar": {
              "outlinewidth": 0,
              "ticks": ""
             }
            },
            "type": "scatterpolar"
           }
          ],
          "scatterpolargl": [
           {
            "marker": {
             "colorbar": {
              "outlinewidth": 0,
              "ticks": ""
             }
            },
            "type": "scatterpolargl"
           }
          ],
          "scatterternary": [
           {
            "marker": {
             "colorbar": {
              "outlinewidth": 0,
              "ticks": ""
             }
            },
            "type": "scatterternary"
           }
          ],
          "surface": [
           {
            "colorbar": {
             "outlinewidth": 0,
             "ticks": ""
            },
            "colorscale": [
             [
              0,
              "#0d0887"
             ],
             [
              0.1111111111111111,
              "#46039f"
             ],
             [
              0.2222222222222222,
              "#7201a8"
             ],
             [
              0.3333333333333333,
              "#9c179e"
             ],
             [
              0.4444444444444444,
              "#bd3786"
             ],
             [
              0.5555555555555556,
              "#d8576b"
             ],
             [
              0.6666666666666666,
              "#ed7953"
             ],
             [
              0.7777777777777778,
              "#fb9f3a"
             ],
             [
              0.8888888888888888,
              "#fdca26"
             ],
             [
              1,
              "#f0f921"
             ]
            ],
            "type": "surface"
           }
          ],
          "table": [
           {
            "cells": {
             "fill": {
              "color": "#EBF0F8"
             },
             "line": {
              "color": "white"
             }
            },
            "header": {
             "fill": {
              "color": "#C8D4E3"
             },
             "line": {
              "color": "white"
             }
            },
            "type": "table"
           }
          ]
         },
         "layout": {
          "annotationdefaults": {
           "arrowcolor": "#2a3f5f",
           "arrowhead": 0,
           "arrowwidth": 1
          },
          "autotypenumbers": "strict",
          "coloraxis": {
           "colorbar": {
            "outlinewidth": 0,
            "ticks": ""
           }
          },
          "colorscale": {
           "diverging": [
            [
             0,
             "#8e0152"
            ],
            [
             0.1,
             "#c51b7d"
            ],
            [
             0.2,
             "#de77ae"
            ],
            [
             0.3,
             "#f1b6da"
            ],
            [
             0.4,
             "#fde0ef"
            ],
            [
             0.5,
             "#f7f7f7"
            ],
            [
             0.6,
             "#e6f5d0"
            ],
            [
             0.7,
             "#b8e186"
            ],
            [
             0.8,
             "#7fbc41"
            ],
            [
             0.9,
             "#4d9221"
            ],
            [
             1,
             "#276419"
            ]
           ],
           "sequential": [
            [
             0,
             "#0d0887"
            ],
            [
             0.1111111111111111,
             "#46039f"
            ],
            [
             0.2222222222222222,
             "#7201a8"
            ],
            [
             0.3333333333333333,
             "#9c179e"
            ],
            [
             0.4444444444444444,
             "#bd3786"
            ],
            [
             0.5555555555555556,
             "#d8576b"
            ],
            [
             0.6666666666666666,
             "#ed7953"
            ],
            [
             0.7777777777777778,
             "#fb9f3a"
            ],
            [
             0.8888888888888888,
             "#fdca26"
            ],
            [
             1,
             "#f0f921"
            ]
           ],
           "sequentialminus": [
            [
             0,
             "#0d0887"
            ],
            [
             0.1111111111111111,
             "#46039f"
            ],
            [
             0.2222222222222222,
             "#7201a8"
            ],
            [
             0.3333333333333333,
             "#9c179e"
            ],
            [
             0.4444444444444444,
             "#bd3786"
            ],
            [
             0.5555555555555556,
             "#d8576b"
            ],
            [
             0.6666666666666666,
             "#ed7953"
            ],
            [
             0.7777777777777778,
             "#fb9f3a"
            ],
            [
             0.8888888888888888,
             "#fdca26"
            ],
            [
             1,
             "#f0f921"
            ]
           ]
          },
          "colorway": [
           "#636efa",
           "#EF553B",
           "#00cc96",
           "#ab63fa",
           "#FFA15A",
           "#19d3f3",
           "#FF6692",
           "#B6E880",
           "#FF97FF",
           "#FECB52"
          ],
          "font": {
           "color": "#2a3f5f"
          },
          "geo": {
           "bgcolor": "white",
           "lakecolor": "white",
           "landcolor": "#E5ECF6",
           "showlakes": true,
           "showland": true,
           "subunitcolor": "white"
          },
          "hoverlabel": {
           "align": "left"
          },
          "hovermode": "closest",
          "mapbox": {
           "style": "light"
          },
          "paper_bgcolor": "white",
          "plot_bgcolor": "#E5ECF6",
          "polar": {
           "angularaxis": {
            "gridcolor": "white",
            "linecolor": "white",
            "ticks": ""
           },
           "bgcolor": "#E5ECF6",
           "radialaxis": {
            "gridcolor": "white",
            "linecolor": "white",
            "ticks": ""
           }
          },
          "scene": {
           "xaxis": {
            "backgroundcolor": "#E5ECF6",
            "gridcolor": "white",
            "gridwidth": 2,
            "linecolor": "white",
            "showbackground": true,
            "ticks": "",
            "zerolinecolor": "white"
           },
           "yaxis": {
            "backgroundcolor": "#E5ECF6",
            "gridcolor": "white",
            "gridwidth": 2,
            "linecolor": "white",
            "showbackground": true,
            "ticks": "",
            "zerolinecolor": "white"
           },
           "zaxis": {
            "backgroundcolor": "#E5ECF6",
            "gridcolor": "white",
            "gridwidth": 2,
            "linecolor": "white",
            "showbackground": true,
            "ticks": "",
            "zerolinecolor": "white"
           }
          },
          "shapedefaults": {
           "line": {
            "color": "#2a3f5f"
           }
          },
          "ternary": {
           "aaxis": {
            "gridcolor": "white",
            "linecolor": "white",
            "ticks": ""
           },
           "baxis": {
            "gridcolor": "white",
            "linecolor": "white",
            "ticks": ""
           },
           "bgcolor": "#E5ECF6",
           "caxis": {
            "gridcolor": "white",
            "linecolor": "white",
            "ticks": ""
           }
          },
          "title": {
           "x": 0.05
          },
          "xaxis": {
           "automargin": true,
           "gridcolor": "white",
           "linecolor": "white",
           "ticks": "",
           "title": {
            "standoff": 15
           },
           "zerolinecolor": "white",
           "zerolinewidth": 2
          },
          "yaxis": {
           "automargin": true,
           "gridcolor": "white",
           "linecolor": "white",
           "ticks": "",
           "title": {
            "standoff": 15
           },
           "zerolinecolor": "white",
           "zerolinewidth": 2
          }
         }
        },
        "xaxis": {
         "anchor": "y",
         "domain": [
          0,
          1
         ]
        },
        "yaxis": {
         "anchor": "x",
         "domain": [
          0,
          1
         ],
         "title": {
          "text": "PF"
         }
        }
       }
      }
     },
     "metadata": {},
     "output_type": "display_data"
    },
    {
     "data": {
      "application/vnd.plotly.v1+json": {
       "config": {
        "plotlyServerURL": "https://plot.ly"
       },
       "data": [
        {
         "alignmentgroup": "True",
         "hovertemplate": "e=%{y}<extra></extra>",
         "legendgroup": "",
         "marker": {
          "color": "#636efa"
         },
         "name": "",
         "notched": false,
         "offsetgroup": "",
         "orientation": "v",
         "showlegend": false,
         "type": "box",
         "x0": " ",
         "xaxis": "x",
         "y": [
          0.34,
          0.32,
          0.3,
          0.28,
          0.26,
          0.24,
          0.22,
          0.2,
          0.18,
          0.16,
          0.14,
          0.12,
          0.1,
          0.08,
          0.06,
          0.04,
          0.02,
          0,
          0.34,
          0.32,
          0.3,
          0.28,
          0.26,
          0.24,
          0.22,
          0.2,
          0.18,
          0.16,
          0.14,
          0.12,
          0.1,
          0.08,
          0.06,
          0.04,
          0.02,
          0,
          0.34,
          0.32,
          0.3,
          0.28,
          0.26,
          0.24,
          0.22,
          0.2,
          0.18,
          0.16,
          0.14,
          0.12,
          0.1,
          0.08,
          0.06,
          0.04,
          0.02,
          0,
          0.34,
          0.32,
          0.3,
          0.28,
          0.26,
          0.24,
          0.22,
          0.2,
          0.18,
          0.16,
          0.14,
          0.12,
          0.1,
          0.08,
          0.06,
          0.04,
          0.02,
          0,
          0.34,
          0.32,
          0.3,
          0.28,
          0.26,
          0.24,
          0.22,
          0.2,
          0.18,
          0.16,
          0.14,
          0.12,
          0.1,
          0.08,
          0.06,
          0.04,
          0.02,
          0,
          0.34,
          0.32,
          0.3,
          0.28,
          0.26,
          0.24,
          0.22,
          0.2,
          0.18,
          0.16,
          0.14,
          0.12,
          0.1,
          0.08,
          0.06,
          0.04,
          0.02,
          0,
          0.34,
          0.32,
          0.08,
          0.06,
          0.04,
          0.02,
          0,
          0.08,
          0.06,
          0.08,
          0.04,
          0.02,
          0,
          0.06,
          0.04,
          0.02,
          0,
          0.14,
          0.14,
          0.12,
          0.14,
          0.12,
          0.1,
          0.12,
          0.1,
          0.1,
          0.18,
          0.18,
          0.16,
          0.18,
          0.16,
          0.16,
          0.24,
          0.24,
          0.24,
          0.22,
          0.22,
          0.22,
          0.2,
          0.2,
          0.2,
          0.28,
          0.28,
          0.28,
          0.26,
          0.26,
          0.34,
          0.26,
          0.34,
          0.34,
          0.32,
          0.32,
          0.32,
          0.3,
          0.3,
          0.3,
          0.3,
          0.28,
          0.26,
          0.24,
          0.22,
          0.2,
          0.18,
          0.16,
          0.08,
          0.06,
          0.04,
          0.02,
          0,
          0.08,
          0.04,
          0.02,
          0,
          0.06,
          0.08,
          0.14,
          0.06,
          0.12,
          0.1,
          0.04,
          0.02,
          0,
          0.14,
          0.12,
          0.1,
          0.18,
          0.14,
          0.16,
          0.12,
          0.1,
          0.24,
          0.22,
          0.2,
          0.18,
          0.16,
          0.28,
          0.26,
          0.24,
          0.34,
          0.22,
          0.32,
          0.2,
          0.3,
          0.28,
          0.26,
          0.34,
          0.34,
          0.32,
          0.32,
          0.3,
          0.08,
          0.06,
          0.04,
          0.02,
          0,
          0.08,
          0.06,
          0.04,
          0.02,
          0,
          0.14,
          0.12,
          0.14,
          0.1,
          0.12,
          0.1,
          0.18,
          0.18,
          0.16,
          0.16,
          0.24,
          0.24,
          0.22,
          0.22,
          0.2,
          0.2,
          0.28,
          0.28,
          0.26,
          0.26,
          0.34,
          0.32,
          0.3,
          0.3,
          0.34,
          0.32,
          0.3,
          0.28,
          0.26,
          0.24,
          0.22,
          0.2,
          0.18,
          0.16,
          0.14,
          0.12,
          0.1,
          0.08,
          0.06,
          0.04,
          0.02,
          0,
          0.34,
          0.32,
          0.3,
          0.28,
          0.26,
          0.24,
          0.22,
          0.2,
          0.18,
          0.16,
          0.14,
          0.12,
          0.1,
          0.08,
          0.06,
          0.04,
          0.02,
          0,
          0.34,
          0.32,
          0.3,
          0.28,
          0.26,
          0.24,
          0.22,
          0.2,
          0.18,
          0.16,
          0.13,
          0.11,
          0.09,
          0.07,
          0.05,
          0.03,
          0.01,
          0.35,
          0.33,
          0.31,
          0.29,
          0.27,
          0.25,
          0.23,
          0.21,
          0.19,
          0.17,
          0.15,
          0.13,
          0.11,
          0.09,
          0.07,
          0.05,
          0.03,
          0.01,
          0.35,
          0.33,
          0.31,
          0.29,
          0.27,
          0.25,
          0.23,
          0.21,
          0.19,
          0.17,
          0.15,
          0.13,
          0.11,
          0.09,
          0.07,
          0.05,
          0.03,
          0.01,
          0.35,
          0.33,
          0.31,
          0.29,
          0.27,
          0.25,
          0.23,
          0.21,
          0.19,
          0.17,
          0.15,
          0.13,
          0.11,
          0.09,
          0.07,
          0.05,
          0.03,
          0.01,
          0.35,
          0.33,
          0.31,
          0.29,
          0.27,
          0.25,
          0.23,
          0.21,
          0.19,
          0.17,
          0.15,
          0.13,
          0.11,
          0.09,
          0.07,
          0.05,
          0.03,
          0.01,
          0.35,
          0.33,
          0.31,
          0.29,
          0.27,
          0.25,
          0.23,
          0.21,
          0.19,
          0.17,
          0.15,
          0.13,
          0.11,
          0.09,
          0.07,
          0.05,
          0.03,
          0.01,
          0.35,
          0.33,
          0.31,
          0.29,
          0.27,
          0.25,
          0.23,
          0.21,
          0.19,
          0.17,
          0.15,
          0.13,
          0.11,
          0.09,
          0.07,
          0.05,
          0.03,
          0.01,
          0.35,
          0.33,
          0.31,
          0.29,
          0.27,
          0.25,
          0.23,
          0.21,
          0.19,
          0.17,
          0.15,
          0.13,
          0.11,
          0.09,
          0.07,
          0.05,
          0.03,
          0.01,
          0.35,
          0.33,
          0.31,
          0.29,
          0.27,
          0.25,
          0.23,
          0.21,
          0.19,
          0.17,
          0.15,
          0.13,
          0.11,
          0.09,
          0.07,
          0.05,
          0.03,
          0.01,
          0.35,
          0.33,
          0.31,
          0.29,
          0.27,
          0.25,
          0.23,
          0.21,
          0.19,
          0.17,
          0.15,
          0.13,
          0.11,
          0.09,
          0.07,
          0.05,
          0.03,
          0.01,
          0.35,
          0.33,
          0.31,
          0.29,
          0.27,
          0.25,
          0.23,
          0.21,
          0.19,
          0.17,
          0.15,
          0.13,
          0.11,
          0.09,
          0.07,
          0.05,
          0.03,
          0.01,
          0.35,
          0.33,
          0.31,
          0.29,
          0.27,
          0.25,
          0.23,
          0.21,
          0.19,
          0.17,
          0.15,
          0.13,
          0.11,
          0.09,
          0.07,
          0.05,
          0.03,
          0.01,
          0.35,
          0.33,
          0.31,
          0.29,
          0.27,
          0.25,
          0.23,
          0.21,
          0.19,
          0.17,
          0.15,
          0.13,
          0.11,
          0.09,
          0.07,
          0.05,
          0.03,
          0.01,
          0.35,
          0.33,
          0.31,
          0.29,
          0.27,
          0.25,
          0.23,
          0.21,
          0.19,
          0.17,
          0.15,
          0.13,
          0.11,
          0.09,
          0.07,
          0.05,
          0.03,
          0.01,
          0.35,
          0.33,
          0.31,
          0.29,
          0.27,
          0.25,
          0.23,
          0.21,
          0.19,
          0.17,
          0.15,
          0.13,
          0.11,
          0.09,
          0.07,
          0.05,
          0.03,
          0.01
         ],
         "y0": " ",
         "yaxis": "y"
        }
       ],
       "layout": {
        "boxmode": "group",
        "legend": {
         "tracegroupgap": 0
        },
        "margin": {
         "t": 60
        },
        "template": {
         "data": {
          "bar": [
           {
            "error_x": {
             "color": "#2a3f5f"
            },
            "error_y": {
             "color": "#2a3f5f"
            },
            "marker": {
             "line": {
              "color": "#E5ECF6",
              "width": 0.5
             },
             "pattern": {
              "fillmode": "overlay",
              "size": 10,
              "solidity": 0.2
             }
            },
            "type": "bar"
           }
          ],
          "barpolar": [
           {
            "marker": {
             "line": {
              "color": "#E5ECF6",
              "width": 0.5
             },
             "pattern": {
              "fillmode": "overlay",
              "size": 10,
              "solidity": 0.2
             }
            },
            "type": "barpolar"
           }
          ],
          "carpet": [
           {
            "aaxis": {
             "endlinecolor": "#2a3f5f",
             "gridcolor": "white",
             "linecolor": "white",
             "minorgridcolor": "white",
             "startlinecolor": "#2a3f5f"
            },
            "baxis": {
             "endlinecolor": "#2a3f5f",
             "gridcolor": "white",
             "linecolor": "white",
             "minorgridcolor": "white",
             "startlinecolor": "#2a3f5f"
            },
            "type": "carpet"
           }
          ],
          "choropleth": [
           {
            "colorbar": {
             "outlinewidth": 0,
             "ticks": ""
            },
            "type": "choropleth"
           }
          ],
          "contour": [
           {
            "colorbar": {
             "outlinewidth": 0,
             "ticks": ""
            },
            "colorscale": [
             [
              0,
              "#0d0887"
             ],
             [
              0.1111111111111111,
              "#46039f"
             ],
             [
              0.2222222222222222,
              "#7201a8"
             ],
             [
              0.3333333333333333,
              "#9c179e"
             ],
             [
              0.4444444444444444,
              "#bd3786"
             ],
             [
              0.5555555555555556,
              "#d8576b"
             ],
             [
              0.6666666666666666,
              "#ed7953"
             ],
             [
              0.7777777777777778,
              "#fb9f3a"
             ],
             [
              0.8888888888888888,
              "#fdca26"
             ],
             [
              1,
              "#f0f921"
             ]
            ],
            "type": "contour"
           }
          ],
          "contourcarpet": [
           {
            "colorbar": {
             "outlinewidth": 0,
             "ticks": ""
            },
            "type": "contourcarpet"
           }
          ],
          "heatmap": [
           {
            "colorbar": {
             "outlinewidth": 0,
             "ticks": ""
            },
            "colorscale": [
             [
              0,
              "#0d0887"
             ],
             [
              0.1111111111111111,
              "#46039f"
             ],
             [
              0.2222222222222222,
              "#7201a8"
             ],
             [
              0.3333333333333333,
              "#9c179e"
             ],
             [
              0.4444444444444444,
              "#bd3786"
             ],
             [
              0.5555555555555556,
              "#d8576b"
             ],
             [
              0.6666666666666666,
              "#ed7953"
             ],
             [
              0.7777777777777778,
              "#fb9f3a"
             ],
             [
              0.8888888888888888,
              "#fdca26"
             ],
             [
              1,
              "#f0f921"
             ]
            ],
            "type": "heatmap"
           }
          ],
          "heatmapgl": [
           {
            "colorbar": {
             "outlinewidth": 0,
             "ticks": ""
            },
            "colorscale": [
             [
              0,
              "#0d0887"
             ],
             [
              0.1111111111111111,
              "#46039f"
             ],
             [
              0.2222222222222222,
              "#7201a8"
             ],
             [
              0.3333333333333333,
              "#9c179e"
             ],
             [
              0.4444444444444444,
              "#bd3786"
             ],
             [
              0.5555555555555556,
              "#d8576b"
             ],
             [
              0.6666666666666666,
              "#ed7953"
             ],
             [
              0.7777777777777778,
              "#fb9f3a"
             ],
             [
              0.8888888888888888,
              "#fdca26"
             ],
             [
              1,
              "#f0f921"
             ]
            ],
            "type": "heatmapgl"
           }
          ],
          "histogram": [
           {
            "marker": {
             "pattern": {
              "fillmode": "overlay",
              "size": 10,
              "solidity": 0.2
             }
            },
            "type": "histogram"
           }
          ],
          "histogram2d": [
           {
            "colorbar": {
             "outlinewidth": 0,
             "ticks": ""
            },
            "colorscale": [
             [
              0,
              "#0d0887"
             ],
             [
              0.1111111111111111,
              "#46039f"
             ],
             [
              0.2222222222222222,
              "#7201a8"
             ],
             [
              0.3333333333333333,
              "#9c179e"
             ],
             [
              0.4444444444444444,
              "#bd3786"
             ],
             [
              0.5555555555555556,
              "#d8576b"
             ],
             [
              0.6666666666666666,
              "#ed7953"
             ],
             [
              0.7777777777777778,
              "#fb9f3a"
             ],
             [
              0.8888888888888888,
              "#fdca26"
             ],
             [
              1,
              "#f0f921"
             ]
            ],
            "type": "histogram2d"
           }
          ],
          "histogram2dcontour": [
           {
            "colorbar": {
             "outlinewidth": 0,
             "ticks": ""
            },
            "colorscale": [
             [
              0,
              "#0d0887"
             ],
             [
              0.1111111111111111,
              "#46039f"
             ],
             [
              0.2222222222222222,
              "#7201a8"
             ],
             [
              0.3333333333333333,
              "#9c179e"
             ],
             [
              0.4444444444444444,
              "#bd3786"
             ],
             [
              0.5555555555555556,
              "#d8576b"
             ],
             [
              0.6666666666666666,
              "#ed7953"
             ],
             [
              0.7777777777777778,
              "#fb9f3a"
             ],
             [
              0.8888888888888888,
              "#fdca26"
             ],
             [
              1,
              "#f0f921"
             ]
            ],
            "type": "histogram2dcontour"
           }
          ],
          "mesh3d": [
           {
            "colorbar": {
             "outlinewidth": 0,
             "ticks": ""
            },
            "type": "mesh3d"
           }
          ],
          "parcoords": [
           {
            "line": {
             "colorbar": {
              "outlinewidth": 0,
              "ticks": ""
             }
            },
            "type": "parcoords"
           }
          ],
          "pie": [
           {
            "automargin": true,
            "type": "pie"
           }
          ],
          "scatter": [
           {
            "fillpattern": {
             "fillmode": "overlay",
             "size": 10,
             "solidity": 0.2
            },
            "type": "scatter"
           }
          ],
          "scatter3d": [
           {
            "line": {
             "colorbar": {
              "outlinewidth": 0,
              "ticks": ""
             }
            },
            "marker": {
             "colorbar": {
              "outlinewidth": 0,
              "ticks": ""
             }
            },
            "type": "scatter3d"
           }
          ],
          "scattercarpet": [
           {
            "marker": {
             "colorbar": {
              "outlinewidth": 0,
              "ticks": ""
             }
            },
            "type": "scattercarpet"
           }
          ],
          "scattergeo": [
           {
            "marker": {
             "colorbar": {
              "outlinewidth": 0,
              "ticks": ""
             }
            },
            "type": "scattergeo"
           }
          ],
          "scattergl": [
           {
            "marker": {
             "colorbar": {
              "outlinewidth": 0,
              "ticks": ""
             }
            },
            "type": "scattergl"
           }
          ],
          "scattermapbox": [
           {
            "marker": {
             "colorbar": {
              "outlinewidth": 0,
              "ticks": ""
             }
            },
            "type": "scattermapbox"
           }
          ],
          "scatterpolar": [
           {
            "marker": {
             "colorbar": {
              "outlinewidth": 0,
              "ticks": ""
             }
            },
            "type": "scatterpolar"
           }
          ],
          "scatterpolargl": [
           {
            "marker": {
             "colorbar": {
              "outlinewidth": 0,
              "ticks": ""
             }
            },
            "type": "scatterpolargl"
           }
          ],
          "scatterternary": [
           {
            "marker": {
             "colorbar": {
              "outlinewidth": 0,
              "ticks": ""
             }
            },
            "type": "scatterternary"
           }
          ],
          "surface": [
           {
            "colorbar": {
             "outlinewidth": 0,
             "ticks": ""
            },
            "colorscale": [
             [
              0,
              "#0d0887"
             ],
             [
              0.1111111111111111,
              "#46039f"
             ],
             [
              0.2222222222222222,
              "#7201a8"
             ],
             [
              0.3333333333333333,
              "#9c179e"
             ],
             [
              0.4444444444444444,
              "#bd3786"
             ],
             [
              0.5555555555555556,
              "#d8576b"
             ],
             [
              0.6666666666666666,
              "#ed7953"
             ],
             [
              0.7777777777777778,
              "#fb9f3a"
             ],
             [
              0.8888888888888888,
              "#fdca26"
             ],
             [
              1,
              "#f0f921"
             ]
            ],
            "type": "surface"
           }
          ],
          "table": [
           {
            "cells": {
             "fill": {
              "color": "#EBF0F8"
             },
             "line": {
              "color": "white"
             }
            },
            "header": {
             "fill": {
              "color": "#C8D4E3"
             },
             "line": {
              "color": "white"
             }
            },
            "type": "table"
           }
          ]
         },
         "layout": {
          "annotationdefaults": {
           "arrowcolor": "#2a3f5f",
           "arrowhead": 0,
           "arrowwidth": 1
          },
          "autotypenumbers": "strict",
          "coloraxis": {
           "colorbar": {
            "outlinewidth": 0,
            "ticks": ""
           }
          },
          "colorscale": {
           "diverging": [
            [
             0,
             "#8e0152"
            ],
            [
             0.1,
             "#c51b7d"
            ],
            [
             0.2,
             "#de77ae"
            ],
            [
             0.3,
             "#f1b6da"
            ],
            [
             0.4,
             "#fde0ef"
            ],
            [
             0.5,
             "#f7f7f7"
            ],
            [
             0.6,
             "#e6f5d0"
            ],
            [
             0.7,
             "#b8e186"
            ],
            [
             0.8,
             "#7fbc41"
            ],
            [
             0.9,
             "#4d9221"
            ],
            [
             1,
             "#276419"
            ]
           ],
           "sequential": [
            [
             0,
             "#0d0887"
            ],
            [
             0.1111111111111111,
             "#46039f"
            ],
            [
             0.2222222222222222,
             "#7201a8"
            ],
            [
             0.3333333333333333,
             "#9c179e"
            ],
            [
             0.4444444444444444,
             "#bd3786"
            ],
            [
             0.5555555555555556,
             "#d8576b"
            ],
            [
             0.6666666666666666,
             "#ed7953"
            ],
            [
             0.7777777777777778,
             "#fb9f3a"
            ],
            [
             0.8888888888888888,
             "#fdca26"
            ],
            [
             1,
             "#f0f921"
            ]
           ],
           "sequentialminus": [
            [
             0,
             "#0d0887"
            ],
            [
             0.1111111111111111,
             "#46039f"
            ],
            [
             0.2222222222222222,
             "#7201a8"
            ],
            [
             0.3333333333333333,
             "#9c179e"
            ],
            [
             0.4444444444444444,
             "#bd3786"
            ],
            [
             0.5555555555555556,
             "#d8576b"
            ],
            [
             0.6666666666666666,
             "#ed7953"
            ],
            [
             0.7777777777777778,
             "#fb9f3a"
            ],
            [
             0.8888888888888888,
             "#fdca26"
            ],
            [
             1,
             "#f0f921"
            ]
           ]
          },
          "colorway": [
           "#636efa",
           "#EF553B",
           "#00cc96",
           "#ab63fa",
           "#FFA15A",
           "#19d3f3",
           "#FF6692",
           "#B6E880",
           "#FF97FF",
           "#FECB52"
          ],
          "font": {
           "color": "#2a3f5f"
          },
          "geo": {
           "bgcolor": "white",
           "lakecolor": "white",
           "landcolor": "#E5ECF6",
           "showlakes": true,
           "showland": true,
           "subunitcolor": "white"
          },
          "hoverlabel": {
           "align": "left"
          },
          "hovermode": "closest",
          "mapbox": {
           "style": "light"
          },
          "paper_bgcolor": "white",
          "plot_bgcolor": "#E5ECF6",
          "polar": {
           "angularaxis": {
            "gridcolor": "white",
            "linecolor": "white",
            "ticks": ""
           },
           "bgcolor": "#E5ECF6",
           "radialaxis": {
            "gridcolor": "white",
            "linecolor": "white",
            "ticks": ""
           }
          },
          "scene": {
           "xaxis": {
            "backgroundcolor": "#E5ECF6",
            "gridcolor": "white",
            "gridwidth": 2,
            "linecolor": "white",
            "showbackground": true,
            "ticks": "",
            "zerolinecolor": "white"
           },
           "yaxis": {
            "backgroundcolor": "#E5ECF6",
            "gridcolor": "white",
            "gridwidth": 2,
            "linecolor": "white",
            "showbackground": true,
            "ticks": "",
            "zerolinecolor": "white"
           },
           "zaxis": {
            "backgroundcolor": "#E5ECF6",
            "gridcolor": "white",
            "gridwidth": 2,
            "linecolor": "white",
            "showbackground": true,
            "ticks": "",
            "zerolinecolor": "white"
           }
          },
          "shapedefaults": {
           "line": {
            "color": "#2a3f5f"
           }
          },
          "ternary": {
           "aaxis": {
            "gridcolor": "white",
            "linecolor": "white",
            "ticks": ""
           },
           "baxis": {
            "gridcolor": "white",
            "linecolor": "white",
            "ticks": ""
           },
           "bgcolor": "#E5ECF6",
           "caxis": {
            "gridcolor": "white",
            "linecolor": "white",
            "ticks": ""
           }
          },
          "title": {
           "x": 0.05
          },
          "xaxis": {
           "automargin": true,
           "gridcolor": "white",
           "linecolor": "white",
           "ticks": "",
           "title": {
            "standoff": 15
           },
           "zerolinecolor": "white",
           "zerolinewidth": 2
          },
          "yaxis": {
           "automargin": true,
           "gridcolor": "white",
           "linecolor": "white",
           "ticks": "",
           "title": {
            "standoff": 15
           },
           "zerolinecolor": "white",
           "zerolinewidth": 2
          }
         }
        },
        "xaxis": {
         "anchor": "y",
         "domain": [
          0,
          1
         ]
        },
        "yaxis": {
         "anchor": "x",
         "domain": [
          0,
          1
         ],
         "title": {
          "text": "e"
         }
        }
       }
      }
     },
     "metadata": {},
     "output_type": "display_data"
    },
    {
     "data": {
      "application/vnd.plotly.v1+json": {
       "config": {
        "plotlyServerURL": "https://plot.ly"
       },
       "data": [
        {
         "alignmentgroup": "True",
         "hovertemplate": "dIf=%{y}<extra></extra>",
         "legendgroup": "",
         "marker": {
          "color": "#636efa"
         },
         "name": "",
         "notched": false,
         "offsetgroup": "",
         "orientation": "v",
         "showlegend": false,
         "type": "box",
         "x0": " ",
         "xaxis": "x",
         "y": [
          0.383,
          0.372,
          0.36,
          0.338,
          0.317,
          0.301,
          0.29,
          0.28,
          0.25,
          0.221,
          0.192,
          0.165,
          0.138,
          0.098,
          0.057,
          0.037,
          0.037,
          0.037,
          0.397,
          0.414,
          0.442,
          0.369,
          0.385,
          0.31,
          0.325,
          0.349,
          0.27,
          0.277,
          0.193,
          0.2,
          0.216,
          0.118,
          0.124,
          0.139,
          0.139,
          0.139,
          0.393,
          0.409,
          0.436,
          0.361,
          0.377,
          0.306,
          0.318,
          0.338,
          0.258,
          0.266,
          0.183,
          0.189,
          0.202,
          0.102,
          0.11,
          0.118,
          0.118,
          0.118,
          0.389,
          0.405,
          0.43,
          0.355,
          0.369,
          0.303,
          0.312,
          0.328,
          0.25,
          0.255,
          0.174,
          0.181,
          0.188,
          0.091,
          0.095,
          0.098,
          0.098,
          0.098,
          0.385,
          0.402,
          0.424,
          0.345,
          0.361,
          0.299,
          0.306,
          0.317,
          0.238,
          0.245,
          0.164,
          0.17,
          0.174,
          0.074,
          0.08,
          0.077,
          0.077,
          0.077,
          0.372,
          0.395,
          0.418,
          0.328,
          0.349,
          0.285,
          0.296,
          0.306,
          0.216,
          0.225,
          0.142,
          0.151,
          0.16,
          0.045,
          0.052,
          0.056,
          0.056,
          0.056,
          0.457,
          0.476,
          0.112,
          0.116,
          0.119,
          0.119,
          0.119,
          0.123,
          0.131,
          0.14,
          0.14,
          0.14,
          0.14,
          0.146,
          0.162,
          0.162,
          0.162,
          0.2,
          0.21,
          0.21,
          0.22,
          0.221,
          0.222,
          0.235,
          0.241,
          0.261,
          0.287,
          0.295,
          0.299,
          0.307,
          0.311,
          0.322,
          0.345,
          0.353,
          0.361,
          0.361,
          0.367,
          0.377,
          0.383,
          0.395,
          0.406,
          0.412,
          0.419,
          0.427,
          0.427,
          0.436,
          0.444,
          0.445,
          0.449,
          0.453,
          0.462,
          0.466,
          0.47,
          0.486,
          0.492,
          0.499,
          0.505,
          0.402,
          0.418,
          0.337,
          0.353,
          0.372,
          0.274,
          0.288,
          0.064,
          0.072,
          0.076,
          0.076,
          0.076,
          0.095,
          0.097,
          0.097,
          0.097,
          0.1,
          0.162,
          0.165,
          0.168,
          0.174,
          0.183,
          0.184,
          0.184,
          0.184,
          0.19,
          0.197,
          0.202,
          0.25,
          0.263,
          0.27,
          0.278,
          0.308,
          0.317,
          0.338,
          0.36,
          0.361,
          0.378,
          0.383,
          0.406,
          0.418,
          0.43,
          0.436,
          0.455,
          0.467,
          0.479,
          0.489,
          0.508,
          0.517,
          0.522,
          0.534,
          0.541,
          0.572,
          0.133,
          0.137,
          0.14,
          0.14,
          0.14,
          0.145,
          0.153,
          0.162,
          0.162,
          0.162,
          0.235,
          0.246,
          0.249,
          0.257,
          0.26,
          0.282,
          0.34,
          0.349,
          0.354,
          0.366,
          0.402,
          0.41,
          0.419,
          0.425,
          0.442,
          0.455,
          0.473,
          0.48,
          0.489,
          0.499,
          0.512,
          0.531,
          0.559,
          0.565,
          0.507,
          0.526,
          0.552,
          0.462,
          0.48,
          0.394,
          0.41,
          0.43,
          0.326,
          0.341,
          0.222,
          0.228,
          0.231,
          0.116,
          0.121,
          0.118,
          0.118,
          0.118,
          0.492,
          0.519,
          0.545,
          0.442,
          0.467,
          0.372,
          0.395,
          0.418,
          0.301,
          0.322,
          0.188,
          0.197,
          0.206,
          0.084,
          0.092,
          0.096,
          0.096,
          0.096,
          0.59,
          0.61,
          0.644,
          0.556,
          0.576,
          0.475,
          0.494,
          0.526,
          0.406,
          0.415,
          0.308,
          0.316,
          0.181,
          0.188,
          0.207,
          0.207,
          0.207,
          0.608,
          0.595,
          0.615,
          0.536,
          0.554,
          0.587,
          0.473,
          0.49,
          0.39,
          0.396,
          0.413,
          0.288,
          0.297,
          0.165,
          0.17,
          0.185,
          0.185,
          0.185,
          0.622,
          0.592,
          0.61,
          0.527,
          0.546,
          0.573,
          0.466,
          0.476,
          0.378,
          0.386,
          0.395,
          0.274,
          0.278,
          0.15,
          0.157,
          0.162,
          0.162,
          0.162,
          0.637,
          0.585,
          0.605,
          0.517,
          0.536,
          0.559,
          0.453,
          0.462,
          0.365,
          0.373,
          0.378,
          0.253,
          0.26,
          0.134,
          0.14,
          0.14,
          0.14,
          0.14,
          0.651,
          0.573,
          0.601,
          0.492,
          0.519,
          0.545,
          0.43,
          0.442,
          0.338,
          0.349,
          0.36,
          0.216,
          0.225,
          0.1,
          0.109,
          0.117,
          0.117,
          0.117,
          0.666,
          0.668,
          0.69,
          0.605,
          0.615,
          0.637,
          0.536,
          0.546,
          0.436,
          0.454,
          0.487,
          0.338,
          0.347,
          0.208,
          0.222,
          0.252,
          0.252,
          0.252,
          0.682,
          0.66,
          0.679,
          0.595,
          0.603,
          0.622,
          0.524,
          0.536,
          0.424,
          0.437,
          0.463,
          0.32,
          0.331,
          0.192,
          0.201,
          0.223,
          0.223,
          0.223,
          0.697,
          0.656,
          0.668,
          0.585,
          0.595,
          0.608,
          0.513,
          0.527,
          0.411,
          0.423,
          0.438,
          0.305,
          0.315,
          0.176,
          0.185,
          0.195,
          0.195,
          0.195,
          0.713,
          0.647,
          0.657,
          0.575,
          0.585,
          0.593,
          0.499,
          0.517,
          0.398,
          0.407,
          0.414,
          0.286,
          0.3,
          0.159,
          0.165,
          0.166,
          0.166,
          0.166,
          0.728,
          0.629,
          0.644,
          0.552,
          0.565,
          0.579,
          0.474,
          0.499,
          0.366,
          0.377,
          0.389,
          0.25,
          0.27,
          0.121,
          0.13,
          0.138,
          0.138,
          0.138,
          0.736,
          0.729,
          0.74,
          0.652,
          0.674,
          0.713,
          0.585,
          0.606,
          0.49,
          0.499,
          0.526,
          0.378,
          0.395,
          0.246,
          0.254,
          0.277,
          0.277,
          0.277,
          0.744,
          0.72,
          0.735,
          0.641,
          0.661,
          0.697,
          0.573,
          0.591,
          0.472,
          0.481,
          0.506,
          0.359,
          0.375,
          0.226,
          0.23,
          0.248,
          0.248,
          0.248,
          0.753,
          0.711,
          0.729,
          0.631,
          0.652,
          0.682,
          0.565,
          0.575,
          0.455,
          0.471,
          0.487,
          0.347,
          0.355,
          0.206,
          0.214,
          0.218,
          0.218,
          0.218,
          0.761,
          0.701,
          0.723,
          0.621,
          0.641,
          0.666,
          0.551,
          0.56,
          0.437,
          0.454,
          0.467,
          0.327,
          0.334,
          0.185,
          0.192,
          0.189,
          0.189,
          0.189,
          0.769,
          0.682,
          0.713,
          0.593,
          0.622,
          0.651,
          0.525,
          0.538,
          0.401,
          0.424,
          0.448,
          0.29,
          0.301,
          0.142,
          0.151,
          0.16,
          0.16,
          0.16
         ],
         "y0": " ",
         "yaxis": "y"
        }
       ],
       "layout": {
        "boxmode": "group",
        "legend": {
         "tracegroupgap": 0
        },
        "margin": {
         "t": 60
        },
        "template": {
         "data": {
          "bar": [
           {
            "error_x": {
             "color": "#2a3f5f"
            },
            "error_y": {
             "color": "#2a3f5f"
            },
            "marker": {
             "line": {
              "color": "#E5ECF6",
              "width": 0.5
             },
             "pattern": {
              "fillmode": "overlay",
              "size": 10,
              "solidity": 0.2
             }
            },
            "type": "bar"
           }
          ],
          "barpolar": [
           {
            "marker": {
             "line": {
              "color": "#E5ECF6",
              "width": 0.5
             },
             "pattern": {
              "fillmode": "overlay",
              "size": 10,
              "solidity": 0.2
             }
            },
            "type": "barpolar"
           }
          ],
          "carpet": [
           {
            "aaxis": {
             "endlinecolor": "#2a3f5f",
             "gridcolor": "white",
             "linecolor": "white",
             "minorgridcolor": "white",
             "startlinecolor": "#2a3f5f"
            },
            "baxis": {
             "endlinecolor": "#2a3f5f",
             "gridcolor": "white",
             "linecolor": "white",
             "minorgridcolor": "white",
             "startlinecolor": "#2a3f5f"
            },
            "type": "carpet"
           }
          ],
          "choropleth": [
           {
            "colorbar": {
             "outlinewidth": 0,
             "ticks": ""
            },
            "type": "choropleth"
           }
          ],
          "contour": [
           {
            "colorbar": {
             "outlinewidth": 0,
             "ticks": ""
            },
            "colorscale": [
             [
              0,
              "#0d0887"
             ],
             [
              0.1111111111111111,
              "#46039f"
             ],
             [
              0.2222222222222222,
              "#7201a8"
             ],
             [
              0.3333333333333333,
              "#9c179e"
             ],
             [
              0.4444444444444444,
              "#bd3786"
             ],
             [
              0.5555555555555556,
              "#d8576b"
             ],
             [
              0.6666666666666666,
              "#ed7953"
             ],
             [
              0.7777777777777778,
              "#fb9f3a"
             ],
             [
              0.8888888888888888,
              "#fdca26"
             ],
             [
              1,
              "#f0f921"
             ]
            ],
            "type": "contour"
           }
          ],
          "contourcarpet": [
           {
            "colorbar": {
             "outlinewidth": 0,
             "ticks": ""
            },
            "type": "contourcarpet"
           }
          ],
          "heatmap": [
           {
            "colorbar": {
             "outlinewidth": 0,
             "ticks": ""
            },
            "colorscale": [
             [
              0,
              "#0d0887"
             ],
             [
              0.1111111111111111,
              "#46039f"
             ],
             [
              0.2222222222222222,
              "#7201a8"
             ],
             [
              0.3333333333333333,
              "#9c179e"
             ],
             [
              0.4444444444444444,
              "#bd3786"
             ],
             [
              0.5555555555555556,
              "#d8576b"
             ],
             [
              0.6666666666666666,
              "#ed7953"
             ],
             [
              0.7777777777777778,
              "#fb9f3a"
             ],
             [
              0.8888888888888888,
              "#fdca26"
             ],
             [
              1,
              "#f0f921"
             ]
            ],
            "type": "heatmap"
           }
          ],
          "heatmapgl": [
           {
            "colorbar": {
             "outlinewidth": 0,
             "ticks": ""
            },
            "colorscale": [
             [
              0,
              "#0d0887"
             ],
             [
              0.1111111111111111,
              "#46039f"
             ],
             [
              0.2222222222222222,
              "#7201a8"
             ],
             [
              0.3333333333333333,
              "#9c179e"
             ],
             [
              0.4444444444444444,
              "#bd3786"
             ],
             [
              0.5555555555555556,
              "#d8576b"
             ],
             [
              0.6666666666666666,
              "#ed7953"
             ],
             [
              0.7777777777777778,
              "#fb9f3a"
             ],
             [
              0.8888888888888888,
              "#fdca26"
             ],
             [
              1,
              "#f0f921"
             ]
            ],
            "type": "heatmapgl"
           }
          ],
          "histogram": [
           {
            "marker": {
             "pattern": {
              "fillmode": "overlay",
              "size": 10,
              "solidity": 0.2
             }
            },
            "type": "histogram"
           }
          ],
          "histogram2d": [
           {
            "colorbar": {
             "outlinewidth": 0,
             "ticks": ""
            },
            "colorscale": [
             [
              0,
              "#0d0887"
             ],
             [
              0.1111111111111111,
              "#46039f"
             ],
             [
              0.2222222222222222,
              "#7201a8"
             ],
             [
              0.3333333333333333,
              "#9c179e"
             ],
             [
              0.4444444444444444,
              "#bd3786"
             ],
             [
              0.5555555555555556,
              "#d8576b"
             ],
             [
              0.6666666666666666,
              "#ed7953"
             ],
             [
              0.7777777777777778,
              "#fb9f3a"
             ],
             [
              0.8888888888888888,
              "#fdca26"
             ],
             [
              1,
              "#f0f921"
             ]
            ],
            "type": "histogram2d"
           }
          ],
          "histogram2dcontour": [
           {
            "colorbar": {
             "outlinewidth": 0,
             "ticks": ""
            },
            "colorscale": [
             [
              0,
              "#0d0887"
             ],
             [
              0.1111111111111111,
              "#46039f"
             ],
             [
              0.2222222222222222,
              "#7201a8"
             ],
             [
              0.3333333333333333,
              "#9c179e"
             ],
             [
              0.4444444444444444,
              "#bd3786"
             ],
             [
              0.5555555555555556,
              "#d8576b"
             ],
             [
              0.6666666666666666,
              "#ed7953"
             ],
             [
              0.7777777777777778,
              "#fb9f3a"
             ],
             [
              0.8888888888888888,
              "#fdca26"
             ],
             [
              1,
              "#f0f921"
             ]
            ],
            "type": "histogram2dcontour"
           }
          ],
          "mesh3d": [
           {
            "colorbar": {
             "outlinewidth": 0,
             "ticks": ""
            },
            "type": "mesh3d"
           }
          ],
          "parcoords": [
           {
            "line": {
             "colorbar": {
              "outlinewidth": 0,
              "ticks": ""
             }
            },
            "type": "parcoords"
           }
          ],
          "pie": [
           {
            "automargin": true,
            "type": "pie"
           }
          ],
          "scatter": [
           {
            "fillpattern": {
             "fillmode": "overlay",
             "size": 10,
             "solidity": 0.2
            },
            "type": "scatter"
           }
          ],
          "scatter3d": [
           {
            "line": {
             "colorbar": {
              "outlinewidth": 0,
              "ticks": ""
             }
            },
            "marker": {
             "colorbar": {
              "outlinewidth": 0,
              "ticks": ""
             }
            },
            "type": "scatter3d"
           }
          ],
          "scattercarpet": [
           {
            "marker": {
             "colorbar": {
              "outlinewidth": 0,
              "ticks": ""
             }
            },
            "type": "scattercarpet"
           }
          ],
          "scattergeo": [
           {
            "marker": {
             "colorbar": {
              "outlinewidth": 0,
              "ticks": ""
             }
            },
            "type": "scattergeo"
           }
          ],
          "scattergl": [
           {
            "marker": {
             "colorbar": {
              "outlinewidth": 0,
              "ticks": ""
             }
            },
            "type": "scattergl"
           }
          ],
          "scattermapbox": [
           {
            "marker": {
             "colorbar": {
              "outlinewidth": 0,
              "ticks": ""
             }
            },
            "type": "scattermapbox"
           }
          ],
          "scatterpolar": [
           {
            "marker": {
             "colorbar": {
              "outlinewidth": 0,
              "ticks": ""
             }
            },
            "type": "scatterpolar"
           }
          ],
          "scatterpolargl": [
           {
            "marker": {
             "colorbar": {
              "outlinewidth": 0,
              "ticks": ""
             }
            },
            "type": "scatterpolargl"
           }
          ],
          "scatterternary": [
           {
            "marker": {
             "colorbar": {
              "outlinewidth": 0,
              "ticks": ""
             }
            },
            "type": "scatterternary"
           }
          ],
          "surface": [
           {
            "colorbar": {
             "outlinewidth": 0,
             "ticks": ""
            },
            "colorscale": [
             [
              0,
              "#0d0887"
             ],
             [
              0.1111111111111111,
              "#46039f"
             ],
             [
              0.2222222222222222,
              "#7201a8"
             ],
             [
              0.3333333333333333,
              "#9c179e"
             ],
             [
              0.4444444444444444,
              "#bd3786"
             ],
             [
              0.5555555555555556,
              "#d8576b"
             ],
             [
              0.6666666666666666,
              "#ed7953"
             ],
             [
              0.7777777777777778,
              "#fb9f3a"
             ],
             [
              0.8888888888888888,
              "#fdca26"
             ],
             [
              1,
              "#f0f921"
             ]
            ],
            "type": "surface"
           }
          ],
          "table": [
           {
            "cells": {
             "fill": {
              "color": "#EBF0F8"
             },
             "line": {
              "color": "white"
             }
            },
            "header": {
             "fill": {
              "color": "#C8D4E3"
             },
             "line": {
              "color": "white"
             }
            },
            "type": "table"
           }
          ]
         },
         "layout": {
          "annotationdefaults": {
           "arrowcolor": "#2a3f5f",
           "arrowhead": 0,
           "arrowwidth": 1
          },
          "autotypenumbers": "strict",
          "coloraxis": {
           "colorbar": {
            "outlinewidth": 0,
            "ticks": ""
           }
          },
          "colorscale": {
           "diverging": [
            [
             0,
             "#8e0152"
            ],
            [
             0.1,
             "#c51b7d"
            ],
            [
             0.2,
             "#de77ae"
            ],
            [
             0.3,
             "#f1b6da"
            ],
            [
             0.4,
             "#fde0ef"
            ],
            [
             0.5,
             "#f7f7f7"
            ],
            [
             0.6,
             "#e6f5d0"
            ],
            [
             0.7,
             "#b8e186"
            ],
            [
             0.8,
             "#7fbc41"
            ],
            [
             0.9,
             "#4d9221"
            ],
            [
             1,
             "#276419"
            ]
           ],
           "sequential": [
            [
             0,
             "#0d0887"
            ],
            [
             0.1111111111111111,
             "#46039f"
            ],
            [
             0.2222222222222222,
             "#7201a8"
            ],
            [
             0.3333333333333333,
             "#9c179e"
            ],
            [
             0.4444444444444444,
             "#bd3786"
            ],
            [
             0.5555555555555556,
             "#d8576b"
            ],
            [
             0.6666666666666666,
             "#ed7953"
            ],
            [
             0.7777777777777778,
             "#fb9f3a"
            ],
            [
             0.8888888888888888,
             "#fdca26"
            ],
            [
             1,
             "#f0f921"
            ]
           ],
           "sequentialminus": [
            [
             0,
             "#0d0887"
            ],
            [
             0.1111111111111111,
             "#46039f"
            ],
            [
             0.2222222222222222,
             "#7201a8"
            ],
            [
             0.3333333333333333,
             "#9c179e"
            ],
            [
             0.4444444444444444,
             "#bd3786"
            ],
            [
             0.5555555555555556,
             "#d8576b"
            ],
            [
             0.6666666666666666,
             "#ed7953"
            ],
            [
             0.7777777777777778,
             "#fb9f3a"
            ],
            [
             0.8888888888888888,
             "#fdca26"
            ],
            [
             1,
             "#f0f921"
            ]
           ]
          },
          "colorway": [
           "#636efa",
           "#EF553B",
           "#00cc96",
           "#ab63fa",
           "#FFA15A",
           "#19d3f3",
           "#FF6692",
           "#B6E880",
           "#FF97FF",
           "#FECB52"
          ],
          "font": {
           "color": "#2a3f5f"
          },
          "geo": {
           "bgcolor": "white",
           "lakecolor": "white",
           "landcolor": "#E5ECF6",
           "showlakes": true,
           "showland": true,
           "subunitcolor": "white"
          },
          "hoverlabel": {
           "align": "left"
          },
          "hovermode": "closest",
          "mapbox": {
           "style": "light"
          },
          "paper_bgcolor": "white",
          "plot_bgcolor": "#E5ECF6",
          "polar": {
           "angularaxis": {
            "gridcolor": "white",
            "linecolor": "white",
            "ticks": ""
           },
           "bgcolor": "#E5ECF6",
           "radialaxis": {
            "gridcolor": "white",
            "linecolor": "white",
            "ticks": ""
           }
          },
          "scene": {
           "xaxis": {
            "backgroundcolor": "#E5ECF6",
            "gridcolor": "white",
            "gridwidth": 2,
            "linecolor": "white",
            "showbackground": true,
            "ticks": "",
            "zerolinecolor": "white"
           },
           "yaxis": {
            "backgroundcolor": "#E5ECF6",
            "gridcolor": "white",
            "gridwidth": 2,
            "linecolor": "white",
            "showbackground": true,
            "ticks": "",
            "zerolinecolor": "white"
           },
           "zaxis": {
            "backgroundcolor": "#E5ECF6",
            "gridcolor": "white",
            "gridwidth": 2,
            "linecolor": "white",
            "showbackground": true,
            "ticks": "",
            "zerolinecolor": "white"
           }
          },
          "shapedefaults": {
           "line": {
            "color": "#2a3f5f"
           }
          },
          "ternary": {
           "aaxis": {
            "gridcolor": "white",
            "linecolor": "white",
            "ticks": ""
           },
           "baxis": {
            "gridcolor": "white",
            "linecolor": "white",
            "ticks": ""
           },
           "bgcolor": "#E5ECF6",
           "caxis": {
            "gridcolor": "white",
            "linecolor": "white",
            "ticks": ""
           }
          },
          "title": {
           "x": 0.05
          },
          "xaxis": {
           "automargin": true,
           "gridcolor": "white",
           "linecolor": "white",
           "ticks": "",
           "title": {
            "standoff": 15
           },
           "zerolinecolor": "white",
           "zerolinewidth": 2
          },
          "yaxis": {
           "automargin": true,
           "gridcolor": "white",
           "linecolor": "white",
           "ticks": "",
           "title": {
            "standoff": 15
           },
           "zerolinecolor": "white",
           "zerolinewidth": 2
          }
         }
        },
        "xaxis": {
         "anchor": "y",
         "domain": [
          0,
          1
         ]
        },
        "yaxis": {
         "anchor": "x",
         "domain": [
          0,
          1
         ],
         "title": {
          "text": "dIf"
         }
        }
       }
      }
     },
     "metadata": {},
     "output_type": "display_data"
    },
    {
     "data": {
      "application/vnd.plotly.v1+json": {
       "config": {
        "plotlyServerURL": "https://plot.ly"
       },
       "data": [
        {
         "alignmentgroup": "True",
         "hovertemplate": "If=%{y}<extra></extra>",
         "legendgroup": "",
         "marker": {
          "color": "#636efa"
         },
         "name": "",
         "notched": false,
         "offsetgroup": "",
         "orientation": "v",
         "showlegend": false,
         "type": "box",
         "x0": " ",
         "xaxis": "x",
         "y": [
          1.563,
          1.552,
          1.54,
          1.518,
          1.497,
          1.481,
          1.47,
          1.46,
          1.43,
          1.401,
          1.372,
          1.345,
          1.318,
          1.278,
          1.237,
          1.217,
          1.217,
          1.217,
          1.577,
          1.594,
          1.622,
          1.549,
          1.565,
          1.49,
          1.505,
          1.529,
          1.45,
          1.457,
          1.373,
          1.38,
          1.396,
          1.298,
          1.304,
          1.319,
          1.319,
          1.319,
          1.573,
          1.589,
          1.616,
          1.541,
          1.557,
          1.486,
          1.498,
          1.518,
          1.438,
          1.446,
          1.363,
          1.369,
          1.382,
          1.282,
          1.29,
          1.298,
          1.298,
          1.298,
          1.569,
          1.585,
          1.61,
          1.535,
          1.549,
          1.483,
          1.492,
          1.508,
          1.43,
          1.435,
          1.354,
          1.361,
          1.368,
          1.271,
          1.275,
          1.278,
          1.278,
          1.278,
          1.565,
          1.582,
          1.604,
          1.525,
          1.541,
          1.479,
          1.486,
          1.497,
          1.418,
          1.425,
          1.344,
          1.35,
          1.354,
          1.254,
          1.26,
          1.257,
          1.257,
          1.257,
          1.552,
          1.575,
          1.598,
          1.508,
          1.529,
          1.465,
          1.476,
          1.486,
          1.396,
          1.405,
          1.322,
          1.331,
          1.34,
          1.225,
          1.232,
          1.236,
          1.236,
          1.236,
          1.637,
          1.656,
          1.292,
          1.296,
          1.299,
          1.299,
          1.299,
          1.303,
          1.311,
          1.32,
          1.32,
          1.32,
          1.32,
          1.326,
          1.342,
          1.342,
          1.342,
          1.38,
          1.39,
          1.39,
          1.4,
          1.401,
          1.402,
          1.415,
          1.421,
          1.441,
          1.467,
          1.475,
          1.479,
          1.487,
          1.491,
          1.502,
          1.525,
          1.533,
          1.541,
          1.541,
          1.547,
          1.557,
          1.563,
          1.575,
          1.586,
          1.592,
          1.599,
          1.607,
          1.607,
          1.616,
          1.624,
          1.625,
          1.629,
          1.633,
          1.642,
          1.646,
          1.65,
          1.666,
          1.672,
          1.679,
          1.685,
          1.582,
          1.598,
          1.517,
          1.533,
          1.552,
          1.454,
          1.468,
          1.244,
          1.252,
          1.256,
          1.256,
          1.256,
          1.275,
          1.277,
          1.277,
          1.277,
          1.28,
          1.342,
          1.345,
          1.348,
          1.354,
          1.363,
          1.364,
          1.364,
          1.364,
          1.37,
          1.377,
          1.382,
          1.43,
          1.443,
          1.45,
          1.458,
          1.488,
          1.497,
          1.518,
          1.54,
          1.541,
          1.558,
          1.563,
          1.586,
          1.598,
          1.61,
          1.616,
          1.635,
          1.647,
          1.659,
          1.669,
          1.688,
          1.697,
          1.702,
          1.714,
          1.721,
          1.752,
          1.313,
          1.317,
          1.32,
          1.32,
          1.32,
          1.325,
          1.333,
          1.342,
          1.342,
          1.342,
          1.415,
          1.426,
          1.429,
          1.437,
          1.44,
          1.462,
          1.52,
          1.529,
          1.534,
          1.546,
          1.582,
          1.59,
          1.599,
          1.605,
          1.622,
          1.635,
          1.653,
          1.66,
          1.669,
          1.679,
          1.692,
          1.711,
          1.739,
          1.745,
          1.687,
          1.706,
          1.732,
          1.642,
          1.66,
          1.574,
          1.59,
          1.61,
          1.506,
          1.521,
          1.402,
          1.408,
          1.411,
          1.296,
          1.301,
          1.298,
          1.298,
          1.298,
          1.672,
          1.699,
          1.725,
          1.622,
          1.647,
          1.552,
          1.575,
          1.598,
          1.481,
          1.502,
          1.368,
          1.377,
          1.386,
          1.264,
          1.272,
          1.276,
          1.276,
          1.276,
          1.77,
          1.79,
          1.824,
          1.736,
          1.756,
          1.655,
          1.674,
          1.706,
          1.586,
          1.595,
          1.488,
          1.496,
          1.361,
          1.368,
          1.387,
          1.387,
          1.387,
          1.788,
          1.775,
          1.795,
          1.716,
          1.734,
          1.767,
          1.653,
          1.67,
          1.57,
          1.576,
          1.593,
          1.468,
          1.477,
          1.345,
          1.35,
          1.365,
          1.365,
          1.365,
          1.802,
          1.772,
          1.79,
          1.707,
          1.726,
          1.753,
          1.646,
          1.656,
          1.558,
          1.566,
          1.575,
          1.454,
          1.458,
          1.33,
          1.337,
          1.342,
          1.342,
          1.342,
          1.817,
          1.765,
          1.785,
          1.697,
          1.716,
          1.739,
          1.633,
          1.642,
          1.545,
          1.553,
          1.558,
          1.433,
          1.44,
          1.314,
          1.32,
          1.32,
          1.32,
          1.32,
          1.831,
          1.753,
          1.781,
          1.672,
          1.699,
          1.725,
          1.61,
          1.622,
          1.518,
          1.529,
          1.54,
          1.396,
          1.405,
          1.28,
          1.289,
          1.297,
          1.297,
          1.297,
          1.846,
          1.848,
          1.87,
          1.785,
          1.795,
          1.817,
          1.716,
          1.726,
          1.616,
          1.634,
          1.667,
          1.518,
          1.527,
          1.388,
          1.402,
          1.432,
          1.432,
          1.432,
          1.862,
          1.84,
          1.859,
          1.775,
          1.783,
          1.802,
          1.704,
          1.716,
          1.604,
          1.617,
          1.643,
          1.5,
          1.511,
          1.372,
          1.381,
          1.403,
          1.403,
          1.403,
          1.877,
          1.836,
          1.848,
          1.765,
          1.775,
          1.788,
          1.693,
          1.707,
          1.591,
          1.603,
          1.618,
          1.485,
          1.495,
          1.356,
          1.365,
          1.375,
          1.375,
          1.375,
          1.893,
          1.827,
          1.837,
          1.755,
          1.765,
          1.773,
          1.679,
          1.697,
          1.578,
          1.587,
          1.594,
          1.466,
          1.48,
          1.339,
          1.345,
          1.346,
          1.346,
          1.346,
          1.908,
          1.809,
          1.824,
          1.732,
          1.745,
          1.759,
          1.654,
          1.679,
          1.546,
          1.557,
          1.569,
          1.43,
          1.45,
          1.301,
          1.31,
          1.318,
          1.318,
          1.318,
          1.916,
          1.909,
          1.92,
          1.832,
          1.854,
          1.893,
          1.765,
          1.786,
          1.67,
          1.679,
          1.706,
          1.558,
          1.575,
          1.426,
          1.434,
          1.457,
          1.457,
          1.457,
          1.924,
          1.9,
          1.915,
          1.821,
          1.841,
          1.877,
          1.753,
          1.771,
          1.652,
          1.661,
          1.686,
          1.539,
          1.555,
          1.406,
          1.41,
          1.428,
          1.428,
          1.428,
          1.933,
          1.891,
          1.909,
          1.811,
          1.832,
          1.862,
          1.745,
          1.755,
          1.635,
          1.651,
          1.667,
          1.527,
          1.535,
          1.386,
          1.394,
          1.398,
          1.398,
          1.398,
          1.941,
          1.881,
          1.903,
          1.801,
          1.821,
          1.846,
          1.731,
          1.74,
          1.617,
          1.634,
          1.647,
          1.507,
          1.514,
          1.365,
          1.372,
          1.369,
          1.369,
          1.369,
          1.949,
          1.862,
          1.893,
          1.773,
          1.802,
          1.831,
          1.705,
          1.718,
          1.581,
          1.604,
          1.628,
          1.47,
          1.481,
          1.322,
          1.331,
          1.34,
          1.34,
          1.34
         ],
         "y0": " ",
         "yaxis": "y"
        }
       ],
       "layout": {
        "boxmode": "group",
        "legend": {
         "tracegroupgap": 0
        },
        "margin": {
         "t": 60
        },
        "template": {
         "data": {
          "bar": [
           {
            "error_x": {
             "color": "#2a3f5f"
            },
            "error_y": {
             "color": "#2a3f5f"
            },
            "marker": {
             "line": {
              "color": "#E5ECF6",
              "width": 0.5
             },
             "pattern": {
              "fillmode": "overlay",
              "size": 10,
              "solidity": 0.2
             }
            },
            "type": "bar"
           }
          ],
          "barpolar": [
           {
            "marker": {
             "line": {
              "color": "#E5ECF6",
              "width": 0.5
             },
             "pattern": {
              "fillmode": "overlay",
              "size": 10,
              "solidity": 0.2
             }
            },
            "type": "barpolar"
           }
          ],
          "carpet": [
           {
            "aaxis": {
             "endlinecolor": "#2a3f5f",
             "gridcolor": "white",
             "linecolor": "white",
             "minorgridcolor": "white",
             "startlinecolor": "#2a3f5f"
            },
            "baxis": {
             "endlinecolor": "#2a3f5f",
             "gridcolor": "white",
             "linecolor": "white",
             "minorgridcolor": "white",
             "startlinecolor": "#2a3f5f"
            },
            "type": "carpet"
           }
          ],
          "choropleth": [
           {
            "colorbar": {
             "outlinewidth": 0,
             "ticks": ""
            },
            "type": "choropleth"
           }
          ],
          "contour": [
           {
            "colorbar": {
             "outlinewidth": 0,
             "ticks": ""
            },
            "colorscale": [
             [
              0,
              "#0d0887"
             ],
             [
              0.1111111111111111,
              "#46039f"
             ],
             [
              0.2222222222222222,
              "#7201a8"
             ],
             [
              0.3333333333333333,
              "#9c179e"
             ],
             [
              0.4444444444444444,
              "#bd3786"
             ],
             [
              0.5555555555555556,
              "#d8576b"
             ],
             [
              0.6666666666666666,
              "#ed7953"
             ],
             [
              0.7777777777777778,
              "#fb9f3a"
             ],
             [
              0.8888888888888888,
              "#fdca26"
             ],
             [
              1,
              "#f0f921"
             ]
            ],
            "type": "contour"
           }
          ],
          "contourcarpet": [
           {
            "colorbar": {
             "outlinewidth": 0,
             "ticks": ""
            },
            "type": "contourcarpet"
           }
          ],
          "heatmap": [
           {
            "colorbar": {
             "outlinewidth": 0,
             "ticks": ""
            },
            "colorscale": [
             [
              0,
              "#0d0887"
             ],
             [
              0.1111111111111111,
              "#46039f"
             ],
             [
              0.2222222222222222,
              "#7201a8"
             ],
             [
              0.3333333333333333,
              "#9c179e"
             ],
             [
              0.4444444444444444,
              "#bd3786"
             ],
             [
              0.5555555555555556,
              "#d8576b"
             ],
             [
              0.6666666666666666,
              "#ed7953"
             ],
             [
              0.7777777777777778,
              "#fb9f3a"
             ],
             [
              0.8888888888888888,
              "#fdca26"
             ],
             [
              1,
              "#f0f921"
             ]
            ],
            "type": "heatmap"
           }
          ],
          "heatmapgl": [
           {
            "colorbar": {
             "outlinewidth": 0,
             "ticks": ""
            },
            "colorscale": [
             [
              0,
              "#0d0887"
             ],
             [
              0.1111111111111111,
              "#46039f"
             ],
             [
              0.2222222222222222,
              "#7201a8"
             ],
             [
              0.3333333333333333,
              "#9c179e"
             ],
             [
              0.4444444444444444,
              "#bd3786"
             ],
             [
              0.5555555555555556,
              "#d8576b"
             ],
             [
              0.6666666666666666,
              "#ed7953"
             ],
             [
              0.7777777777777778,
              "#fb9f3a"
             ],
             [
              0.8888888888888888,
              "#fdca26"
             ],
             [
              1,
              "#f0f921"
             ]
            ],
            "type": "heatmapgl"
           }
          ],
          "histogram": [
           {
            "marker": {
             "pattern": {
              "fillmode": "overlay",
              "size": 10,
              "solidity": 0.2
             }
            },
            "type": "histogram"
           }
          ],
          "histogram2d": [
           {
            "colorbar": {
             "outlinewidth": 0,
             "ticks": ""
            },
            "colorscale": [
             [
              0,
              "#0d0887"
             ],
             [
              0.1111111111111111,
              "#46039f"
             ],
             [
              0.2222222222222222,
              "#7201a8"
             ],
             [
              0.3333333333333333,
              "#9c179e"
             ],
             [
              0.4444444444444444,
              "#bd3786"
             ],
             [
              0.5555555555555556,
              "#d8576b"
             ],
             [
              0.6666666666666666,
              "#ed7953"
             ],
             [
              0.7777777777777778,
              "#fb9f3a"
             ],
             [
              0.8888888888888888,
              "#fdca26"
             ],
             [
              1,
              "#f0f921"
             ]
            ],
            "type": "histogram2d"
           }
          ],
          "histogram2dcontour": [
           {
            "colorbar": {
             "outlinewidth": 0,
             "ticks": ""
            },
            "colorscale": [
             [
              0,
              "#0d0887"
             ],
             [
              0.1111111111111111,
              "#46039f"
             ],
             [
              0.2222222222222222,
              "#7201a8"
             ],
             [
              0.3333333333333333,
              "#9c179e"
             ],
             [
              0.4444444444444444,
              "#bd3786"
             ],
             [
              0.5555555555555556,
              "#d8576b"
             ],
             [
              0.6666666666666666,
              "#ed7953"
             ],
             [
              0.7777777777777778,
              "#fb9f3a"
             ],
             [
              0.8888888888888888,
              "#fdca26"
             ],
             [
              1,
              "#f0f921"
             ]
            ],
            "type": "histogram2dcontour"
           }
          ],
          "mesh3d": [
           {
            "colorbar": {
             "outlinewidth": 0,
             "ticks": ""
            },
            "type": "mesh3d"
           }
          ],
          "parcoords": [
           {
            "line": {
             "colorbar": {
              "outlinewidth": 0,
              "ticks": ""
             }
            },
            "type": "parcoords"
           }
          ],
          "pie": [
           {
            "automargin": true,
            "type": "pie"
           }
          ],
          "scatter": [
           {
            "fillpattern": {
             "fillmode": "overlay",
             "size": 10,
             "solidity": 0.2
            },
            "type": "scatter"
           }
          ],
          "scatter3d": [
           {
            "line": {
             "colorbar": {
              "outlinewidth": 0,
              "ticks": ""
             }
            },
            "marker": {
             "colorbar": {
              "outlinewidth": 0,
              "ticks": ""
             }
            },
            "type": "scatter3d"
           }
          ],
          "scattercarpet": [
           {
            "marker": {
             "colorbar": {
              "outlinewidth": 0,
              "ticks": ""
             }
            },
            "type": "scattercarpet"
           }
          ],
          "scattergeo": [
           {
            "marker": {
             "colorbar": {
              "outlinewidth": 0,
              "ticks": ""
             }
            },
            "type": "scattergeo"
           }
          ],
          "scattergl": [
           {
            "marker": {
             "colorbar": {
              "outlinewidth": 0,
              "ticks": ""
             }
            },
            "type": "scattergl"
           }
          ],
          "scattermapbox": [
           {
            "marker": {
             "colorbar": {
              "outlinewidth": 0,
              "ticks": ""
             }
            },
            "type": "scattermapbox"
           }
          ],
          "scatterpolar": [
           {
            "marker": {
             "colorbar": {
              "outlinewidth": 0,
              "ticks": ""
             }
            },
            "type": "scatterpolar"
           }
          ],
          "scatterpolargl": [
           {
            "marker": {
             "colorbar": {
              "outlinewidth": 0,
              "ticks": ""
             }
            },
            "type": "scatterpolargl"
           }
          ],
          "scatterternary": [
           {
            "marker": {
             "colorbar": {
              "outlinewidth": 0,
              "ticks": ""
             }
            },
            "type": "scatterternary"
           }
          ],
          "surface": [
           {
            "colorbar": {
             "outlinewidth": 0,
             "ticks": ""
            },
            "colorscale": [
             [
              0,
              "#0d0887"
             ],
             [
              0.1111111111111111,
              "#46039f"
             ],
             [
              0.2222222222222222,
              "#7201a8"
             ],
             [
              0.3333333333333333,
              "#9c179e"
             ],
             [
              0.4444444444444444,
              "#bd3786"
             ],
             [
              0.5555555555555556,
              "#d8576b"
             ],
             [
              0.6666666666666666,
              "#ed7953"
             ],
             [
              0.7777777777777778,
              "#fb9f3a"
             ],
             [
              0.8888888888888888,
              "#fdca26"
             ],
             [
              1,
              "#f0f921"
             ]
            ],
            "type": "surface"
           }
          ],
          "table": [
           {
            "cells": {
             "fill": {
              "color": "#EBF0F8"
             },
             "line": {
              "color": "white"
             }
            },
            "header": {
             "fill": {
              "color": "#C8D4E3"
             },
             "line": {
              "color": "white"
             }
            },
            "type": "table"
           }
          ]
         },
         "layout": {
          "annotationdefaults": {
           "arrowcolor": "#2a3f5f",
           "arrowhead": 0,
           "arrowwidth": 1
          },
          "autotypenumbers": "strict",
          "coloraxis": {
           "colorbar": {
            "outlinewidth": 0,
            "ticks": ""
           }
          },
          "colorscale": {
           "diverging": [
            [
             0,
             "#8e0152"
            ],
            [
             0.1,
             "#c51b7d"
            ],
            [
             0.2,
             "#de77ae"
            ],
            [
             0.3,
             "#f1b6da"
            ],
            [
             0.4,
             "#fde0ef"
            ],
            [
             0.5,
             "#f7f7f7"
            ],
            [
             0.6,
             "#e6f5d0"
            ],
            [
             0.7,
             "#b8e186"
            ],
            [
             0.8,
             "#7fbc41"
            ],
            [
             0.9,
             "#4d9221"
            ],
            [
             1,
             "#276419"
            ]
           ],
           "sequential": [
            [
             0,
             "#0d0887"
            ],
            [
             0.1111111111111111,
             "#46039f"
            ],
            [
             0.2222222222222222,
             "#7201a8"
            ],
            [
             0.3333333333333333,
             "#9c179e"
            ],
            [
             0.4444444444444444,
             "#bd3786"
            ],
            [
             0.5555555555555556,
             "#d8576b"
            ],
            [
             0.6666666666666666,
             "#ed7953"
            ],
            [
             0.7777777777777778,
             "#fb9f3a"
            ],
            [
             0.8888888888888888,
             "#fdca26"
            ],
            [
             1,
             "#f0f921"
            ]
           ],
           "sequentialminus": [
            [
             0,
             "#0d0887"
            ],
            [
             0.1111111111111111,
             "#46039f"
            ],
            [
             0.2222222222222222,
             "#7201a8"
            ],
            [
             0.3333333333333333,
             "#9c179e"
            ],
            [
             0.4444444444444444,
             "#bd3786"
            ],
            [
             0.5555555555555556,
             "#d8576b"
            ],
            [
             0.6666666666666666,
             "#ed7953"
            ],
            [
             0.7777777777777778,
             "#fb9f3a"
            ],
            [
             0.8888888888888888,
             "#fdca26"
            ],
            [
             1,
             "#f0f921"
            ]
           ]
          },
          "colorway": [
           "#636efa",
           "#EF553B",
           "#00cc96",
           "#ab63fa",
           "#FFA15A",
           "#19d3f3",
           "#FF6692",
           "#B6E880",
           "#FF97FF",
           "#FECB52"
          ],
          "font": {
           "color": "#2a3f5f"
          },
          "geo": {
           "bgcolor": "white",
           "lakecolor": "white",
           "landcolor": "#E5ECF6",
           "showlakes": true,
           "showland": true,
           "subunitcolor": "white"
          },
          "hoverlabel": {
           "align": "left"
          },
          "hovermode": "closest",
          "mapbox": {
           "style": "light"
          },
          "paper_bgcolor": "white",
          "plot_bgcolor": "#E5ECF6",
          "polar": {
           "angularaxis": {
            "gridcolor": "white",
            "linecolor": "white",
            "ticks": ""
           },
           "bgcolor": "#E5ECF6",
           "radialaxis": {
            "gridcolor": "white",
            "linecolor": "white",
            "ticks": ""
           }
          },
          "scene": {
           "xaxis": {
            "backgroundcolor": "#E5ECF6",
            "gridcolor": "white",
            "gridwidth": 2,
            "linecolor": "white",
            "showbackground": true,
            "ticks": "",
            "zerolinecolor": "white"
           },
           "yaxis": {
            "backgroundcolor": "#E5ECF6",
            "gridcolor": "white",
            "gridwidth": 2,
            "linecolor": "white",
            "showbackground": true,
            "ticks": "",
            "zerolinecolor": "white"
           },
           "zaxis": {
            "backgroundcolor": "#E5ECF6",
            "gridcolor": "white",
            "gridwidth": 2,
            "linecolor": "white",
            "showbackground": true,
            "ticks": "",
            "zerolinecolor": "white"
           }
          },
          "shapedefaults": {
           "line": {
            "color": "#2a3f5f"
           }
          },
          "ternary": {
           "aaxis": {
            "gridcolor": "white",
            "linecolor": "white",
            "ticks": ""
           },
           "baxis": {
            "gridcolor": "white",
            "linecolor": "white",
            "ticks": ""
           },
           "bgcolor": "#E5ECF6",
           "caxis": {
            "gridcolor": "white",
            "linecolor": "white",
            "ticks": ""
           }
          },
          "title": {
           "x": 0.05
          },
          "xaxis": {
           "automargin": true,
           "gridcolor": "white",
           "linecolor": "white",
           "ticks": "",
           "title": {
            "standoff": 15
           },
           "zerolinecolor": "white",
           "zerolinewidth": 2
          },
          "yaxis": {
           "automargin": true,
           "gridcolor": "white",
           "linecolor": "white",
           "ticks": "",
           "title": {
            "standoff": 15
           },
           "zerolinecolor": "white",
           "zerolinewidth": 2
          }
         }
        },
        "xaxis": {
         "anchor": "y",
         "domain": [
          0,
          1
         ]
        },
        "yaxis": {
         "anchor": "x",
         "domain": [
          0,
          1
         ],
         "title": {
          "text": "If"
         }
        }
       }
      }
     },
     "metadata": {},
     "output_type": "display_data"
    },
    {
     "name": "stdout",
     "output_type": "stream",
     "text": [
      "Lower ceiling:\n",
      " Iy     1.300\n",
      "PF     0.470\n",
      "e     -0.190\n",
      "dIf   -0.257\n",
      "If     0.924\n",
      "dtype: float64\n",
      "Upper ceiling:\n",
      " Iy    7.700\n",
      "PF    1.190\n",
      "e     0.530\n",
      "dIf   0.931\n",
      "If    2.111\n",
      "dtype: float64\n",
      "     Iy  PF   e  dIf  If\n",
      "0   NaN NaN NaN  NaN NaN\n",
      "1   NaN NaN NaN  NaN NaN\n",
      "2   NaN NaN NaN  NaN NaN\n",
      "3   NaN NaN NaN  NaN NaN\n",
      "4   NaN NaN NaN  NaN NaN\n",
      "..   ..  ..  ..  ...  ..\n",
      "552 NaN NaN NaN  NaN NaN\n",
      "553 NaN NaN NaN  NaN NaN\n",
      "554 NaN NaN NaN  NaN NaN\n",
      "555 NaN NaN NaN  NaN NaN\n",
      "556 NaN NaN NaN  NaN NaN\n",
      "\n",
      "[557 rows x 5 columns]\n"
     ]
    }
   ],
   "source": [
    "display(data_df.describe())#da mean, std, min, cuantiles 25,50,75%, max\n",
    "display(data_df.isna().sum())#dice si hay valores en blanco o no numericos\n",
    "\n",
    "figIy = px.box(data_df, y='Iy')\n",
    "figIy.show()\n",
    "figPF = px.box(data_df, y='PF')\n",
    "figPF.show()\n",
    "fige = px.box(data_df, y='e')\n",
    "fige.show()\n",
    "figdIf = px.box(data_df, y='dIf')\n",
    "figdIf.show()\n",
    "figIf = px.box(data_df, y='If')\n",
    "figIf.show()\n",
    "\n",
    "def IQR_outlier(data_df):\n",
    "    q1 = data_df.quantile(0.25)\n",
    "    q3 = data_df.quantile(0.75)\n",
    "    \n",
    "    IQR = q3-q1\n",
    "    \n",
    "    print(\"Lower ceiling:\\n\", q1-1.5*IQR)\n",
    "    print(\"Upper ceiling:\\n\", q3+1.5*IQR)\n",
    "    \n",
    "    outliers = data_df[((data_df<(q1-1.5*IQR)) | (data_df>(q3+1.5*IQR)))]\n",
    "\n",
    "    return outliers\n",
    "\n",
    "print(IQR_outlier(data_df))"
   ]
  },
  {
   "attachments": {},
   "cell_type": "markdown",
   "metadata": {},
   "source": [
    "# Separación de los set de datos y normalizacón\n",
    "### Se va a usar una función de activación sigmoide"
   ]
  },
  {
   "cell_type": "code",
   "execution_count": 42,
   "metadata": {},
   "outputs": [
    {
     "data": {
      "text/html": [
       "<div>\n",
       "<style scoped>\n",
       "    .dataframe tbody tr th:only-of-type {\n",
       "        vertical-align: middle;\n",
       "    }\n",
       "\n",
       "    .dataframe tbody tr th {\n",
       "        vertical-align: top;\n",
       "    }\n",
       "\n",
       "    .dataframe thead th {\n",
       "        text-align: right;\n",
       "    }\n",
       "</style>\n",
       "<table border=\"1\" class=\"dataframe\">\n",
       "  <thead>\n",
       "    <tr style=\"text-align: right;\">\n",
       "      <th></th>\n",
       "      <th>Iy</th>\n",
       "      <th>PF</th>\n",
       "      <th>e</th>\n",
       "      <th>dIf</th>\n",
       "      <th>If</th>\n",
       "    </tr>\n",
       "  </thead>\n",
       "  <tbody>\n",
       "    <tr>\n",
       "      <th>153</th>\n",
       "      <td>3.700</td>\n",
       "      <td>0.740</td>\n",
       "      <td>0.260</td>\n",
       "      <td>0.436</td>\n",
       "      <td>1.616</td>\n",
       "    </tr>\n",
       "    <tr>\n",
       "      <th>492</th>\n",
       "      <td>5.700</td>\n",
       "      <td>0.790</td>\n",
       "      <td>0.210</td>\n",
       "      <td>0.591</td>\n",
       "      <td>1.771</td>\n",
       "    </tr>\n",
       "    <tr>\n",
       "      <th>206</th>\n",
       "      <td>4.000</td>\n",
       "      <td>0.660</td>\n",
       "      <td>0.340</td>\n",
       "      <td>0.430</td>\n",
       "      <td>1.610</td>\n",
       "    </tr>\n",
       "    <tr>\n",
       "      <th>353</th>\n",
       "      <td>4.900</td>\n",
       "      <td>0.890</td>\n",
       "      <td>0.110</td>\n",
       "      <td>0.260</td>\n",
       "      <td>1.440</td>\n",
       "    </tr>\n",
       "    <tr>\n",
       "      <th>479</th>\n",
       "      <td>5.600</td>\n",
       "      <td>0.890</td>\n",
       "      <td>0.110</td>\n",
       "      <td>0.395</td>\n",
       "      <td>1.575</td>\n",
       "    </tr>\n",
       "    <tr>\n",
       "      <th>...</th>\n",
       "      <td>...</td>\n",
       "      <td>...</td>\n",
       "      <td>...</td>\n",
       "      <td>...</td>\n",
       "      <td>...</td>\n",
       "    </tr>\n",
       "    <tr>\n",
       "      <th>489</th>\n",
       "      <td>5.700</td>\n",
       "      <td>0.730</td>\n",
       "      <td>0.270</td>\n",
       "      <td>0.661</td>\n",
       "      <td>1.841</td>\n",
       "    </tr>\n",
       "    <tr>\n",
       "      <th>514</th>\n",
       "      <td>5.800</td>\n",
       "      <td>0.870</td>\n",
       "      <td>0.130</td>\n",
       "      <td>0.347</td>\n",
       "      <td>1.527</td>\n",
       "    </tr>\n",
       "    <tr>\n",
       "      <th>513</th>\n",
       "      <td>5.800</td>\n",
       "      <td>0.850</td>\n",
       "      <td>0.150</td>\n",
       "      <td>0.487</td>\n",
       "      <td>1.667</td>\n",
       "    </tr>\n",
       "    <tr>\n",
       "      <th>123</th>\n",
       "      <td>3.600</td>\n",
       "      <td>0.980</td>\n",
       "      <td>0.020</td>\n",
       "      <td>0.162</td>\n",
       "      <td>1.342</td>\n",
       "    </tr>\n",
       "    <tr>\n",
       "      <th>222</th>\n",
       "      <td>4.300</td>\n",
       "      <td>1.000</td>\n",
       "      <td>0.000</td>\n",
       "      <td>0.140</td>\n",
       "      <td>1.320</td>\n",
       "    </tr>\n",
       "  </tbody>\n",
       "</table>\n",
       "<p>446 rows × 5 columns</p>\n",
       "</div>"
      ],
      "text/plain": [
       "       Iy    PF     e   dIf    If\n",
       "153 3.700 0.740 0.260 0.436 1.616\n",
       "492 5.700 0.790 0.210 0.591 1.771\n",
       "206 4.000 0.660 0.340 0.430 1.610\n",
       "353 4.900 0.890 0.110 0.260 1.440\n",
       "479 5.600 0.890 0.110 0.395 1.575\n",
       "..    ...   ...   ...   ...   ...\n",
       "489 5.700 0.730 0.270 0.661 1.841\n",
       "514 5.800 0.870 0.130 0.347 1.527\n",
       "513 5.800 0.850 0.150 0.487 1.667\n",
       "123 3.600 0.980 0.020 0.162 1.342\n",
       "222 4.300 1.000 0.000 0.140 1.320\n",
       "\n",
       "[446 rows x 5 columns]"
      ]
     },
     "metadata": {},
     "output_type": "display_data"
    },
    {
     "data": {
      "text/html": [
       "<div>\n",
       "<style scoped>\n",
       "    .dataframe tbody tr th:only-of-type {\n",
       "        vertical-align: middle;\n",
       "    }\n",
       "\n",
       "    .dataframe tbody tr th {\n",
       "        vertical-align: top;\n",
       "    }\n",
       "\n",
       "    .dataframe thead th {\n",
       "        text-align: right;\n",
       "    }\n",
       "</style>\n",
       "<table border=\"1\" class=\"dataframe\">\n",
       "  <thead>\n",
       "    <tr style=\"text-align: right;\">\n",
       "      <th></th>\n",
       "      <th>count</th>\n",
       "      <th>mean</th>\n",
       "      <th>std</th>\n",
       "      <th>min</th>\n",
       "      <th>25%</th>\n",
       "      <th>50%</th>\n",
       "      <th>75%</th>\n",
       "      <th>max</th>\n",
       "    </tr>\n",
       "  </thead>\n",
       "  <tbody>\n",
       "    <tr>\n",
       "      <th>Iy</th>\n",
       "      <td>446.000</td>\n",
       "      <td>4.498</td>\n",
       "      <td>0.897</td>\n",
       "      <td>3.000</td>\n",
       "      <td>3.700</td>\n",
       "      <td>4.500</td>\n",
       "      <td>5.300</td>\n",
       "      <td>6.000</td>\n",
       "    </tr>\n",
       "    <tr>\n",
       "      <th>PF</th>\n",
       "      <td>446.000</td>\n",
       "      <td>0.826</td>\n",
       "      <td>0.104</td>\n",
       "      <td>0.650</td>\n",
       "      <td>0.740</td>\n",
       "      <td>0.820</td>\n",
       "      <td>0.920</td>\n",
       "      <td>1.000</td>\n",
       "    </tr>\n",
       "    <tr>\n",
       "      <th>e</th>\n",
       "      <td>446.000</td>\n",
       "      <td>0.174</td>\n",
       "      <td>0.104</td>\n",
       "      <td>0.000</td>\n",
       "      <td>0.080</td>\n",
       "      <td>0.180</td>\n",
       "      <td>0.260</td>\n",
       "      <td>0.350</td>\n",
       "    </tr>\n",
       "    <tr>\n",
       "      <th>dIf</th>\n",
       "      <td>446.000</td>\n",
       "      <td>0.349</td>\n",
       "      <td>0.179</td>\n",
       "      <td>0.037</td>\n",
       "      <td>0.188</td>\n",
       "      <td>0.345</td>\n",
       "      <td>0.481</td>\n",
       "      <td>0.769</td>\n",
       "    </tr>\n",
       "  </tbody>\n",
       "</table>\n",
       "</div>"
      ],
      "text/plain": [
       "      count  mean   std   min   25%   50%   75%   max\n",
       "Iy  446.000 4.498 0.897 3.000 3.700 4.500 5.300 6.000\n",
       "PF  446.000 0.826 0.104 0.650 0.740 0.820 0.920 1.000\n",
       "e   446.000 0.174 0.104 0.000 0.080 0.180 0.260 0.350\n",
       "dIf 446.000 0.349 0.179 0.037 0.188 0.345 0.481 0.769"
      ]
     },
     "metadata": {},
     "output_type": "display_data"
    },
    {
     "data": {
      "text/html": [
       "<div>\n",
       "<style scoped>\n",
       "    .dataframe tbody tr th:only-of-type {\n",
       "        vertical-align: middle;\n",
       "    }\n",
       "\n",
       "    .dataframe tbody tr th {\n",
       "        vertical-align: top;\n",
       "    }\n",
       "\n",
       "    .dataframe thead th {\n",
       "        text-align: right;\n",
       "    }\n",
       "</style>\n",
       "<table border=\"1\" class=\"dataframe\">\n",
       "  <thead>\n",
       "    <tr style=\"text-align: right;\">\n",
       "      <th></th>\n",
       "      <th>Iy</th>\n",
       "      <th>PF</th>\n",
       "      <th>e</th>\n",
       "      <th>dIf</th>\n",
       "    </tr>\n",
       "  </thead>\n",
       "  <tbody>\n",
       "    <tr>\n",
       "      <th>153</th>\n",
       "      <td>0.233</td>\n",
       "      <td>0.257</td>\n",
       "      <td>0.743</td>\n",
       "      <td>0.545</td>\n",
       "    </tr>\n",
       "    <tr>\n",
       "      <th>492</th>\n",
       "      <td>0.900</td>\n",
       "      <td>0.400</td>\n",
       "      <td>0.600</td>\n",
       "      <td>0.757</td>\n",
       "    </tr>\n",
       "    <tr>\n",
       "      <th>206</th>\n",
       "      <td>0.333</td>\n",
       "      <td>0.029</td>\n",
       "      <td>0.971</td>\n",
       "      <td>0.537</td>\n",
       "    </tr>\n",
       "    <tr>\n",
       "      <th>353</th>\n",
       "      <td>0.633</td>\n",
       "      <td>0.686</td>\n",
       "      <td>0.314</td>\n",
       "      <td>0.305</td>\n",
       "    </tr>\n",
       "    <tr>\n",
       "      <th>479</th>\n",
       "      <td>0.867</td>\n",
       "      <td>0.686</td>\n",
       "      <td>0.314</td>\n",
       "      <td>0.489</td>\n",
       "    </tr>\n",
       "    <tr>\n",
       "      <th>...</th>\n",
       "      <td>...</td>\n",
       "      <td>...</td>\n",
       "      <td>...</td>\n",
       "      <td>...</td>\n",
       "    </tr>\n",
       "    <tr>\n",
       "      <th>489</th>\n",
       "      <td>0.900</td>\n",
       "      <td>0.229</td>\n",
       "      <td>0.771</td>\n",
       "      <td>0.852</td>\n",
       "    </tr>\n",
       "    <tr>\n",
       "      <th>514</th>\n",
       "      <td>0.933</td>\n",
       "      <td>0.629</td>\n",
       "      <td>0.371</td>\n",
       "      <td>0.423</td>\n",
       "    </tr>\n",
       "    <tr>\n",
       "      <th>513</th>\n",
       "      <td>0.933</td>\n",
       "      <td>0.571</td>\n",
       "      <td>0.429</td>\n",
       "      <td>0.615</td>\n",
       "    </tr>\n",
       "    <tr>\n",
       "      <th>123</th>\n",
       "      <td>0.200</td>\n",
       "      <td>0.943</td>\n",
       "      <td>0.057</td>\n",
       "      <td>0.171</td>\n",
       "    </tr>\n",
       "    <tr>\n",
       "      <th>222</th>\n",
       "      <td>0.433</td>\n",
       "      <td>1.000</td>\n",
       "      <td>0.000</td>\n",
       "      <td>0.141</td>\n",
       "    </tr>\n",
       "  </tbody>\n",
       "</table>\n",
       "<p>446 rows × 4 columns</p>\n",
       "</div>"
      ],
      "text/plain": [
       "       Iy    PF     e   dIf\n",
       "153 0.233 0.257 0.743 0.545\n",
       "492 0.900 0.400 0.600 0.757\n",
       "206 0.333 0.029 0.971 0.537\n",
       "353 0.633 0.686 0.314 0.305\n",
       "479 0.867 0.686 0.314 0.489\n",
       "..    ...   ...   ...   ...\n",
       "489 0.900 0.229 0.771 0.852\n",
       "514 0.933 0.629 0.371 0.423\n",
       "513 0.933 0.571 0.429 0.615\n",
       "123 0.200 0.943 0.057 0.171\n",
       "222 0.433 1.000 0.000 0.141\n",
       "\n",
       "[446 rows x 4 columns]"
      ]
     },
     "metadata": {},
     "output_type": "display_data"
    }
   ],
   "source": [
    "tarea_data = [[3, 0.64, 0.01, 0.031], [4.38, 0.78, 0.14, 0.402], [6, 1.01, 0.35,0.799]]\n",
    "tarea_data = pd.DataFrame(tarea_data, columns=['Iy', 'PF', 'e', 'dIf'])\n",
    "\n",
    "train_df = data_df.sample(frac=0.8, random_state=0)\n",
    "test_df = data_df.drop(train_df.index)\n",
    "display(train_df)\n",
    "\n",
    "train_stats = train_df.describe()\n",
    "train_stats.pop(\"If\")\n",
    "train_stats = train_stats.transpose()\n",
    "display(train_stats)\n",
    "\n",
    "train_labels = train_df.pop('If')\n",
    "test_labels = test_df.pop('If')\n",
    "\n",
    "\n",
    "#normalización\n",
    "\n",
    "def norm(x):\n",
    "    return((x-train_stats['min'])/(train_stats['max']-train_stats['min'])) #min-max norm\n",
    "\n",
    "normed_train_data = norm(train_df)\n",
    "normed_test_data = norm(test_df)\n",
    "normed_tarea_data = norm(tarea_data)\n",
    "display(normed_train_data)"
   ]
  },
  {
   "attachments": {},
   "cell_type": "markdown",
   "metadata": {},
   "source": [
    "# Creación del modelo"
   ]
  },
  {
   "cell_type": "code",
   "execution_count": 43,
   "metadata": {},
   "outputs": [
    {
     "name": "stdout",
     "output_type": "stream",
     "text": [
      "Model: \"sequential_6\"\n",
      "_________________________________________________________________\n",
      " Layer (type)                Output Shape              Param #   \n",
      "=================================================================\n",
      " dense_18 (Dense)            (None, 8)                 40        \n",
      "                                                                 \n",
      " dense_19 (Dense)            (None, 8)                 72        \n",
      "                                                                 \n",
      " dense_20 (Dense)            (None, 1)                 9         \n",
      "                                                                 \n",
      "=================================================================\n",
      "Total params: 121\n",
      "Trainable params: 121\n",
      "Non-trainable params: 0\n",
      "_________________________________________________________________\n",
      "WARNING:tensorflow:6 out of the last 15 calls to <function Model.make_predict_function.<locals>.predict_function at 0x00000292401968C0> triggered tf.function retracing. Tracing is expensive and the excessive number of tracings could be due to (1) creating @tf.function repeatedly in a loop, (2) passing tensors with different shapes, (3) passing Python objects instead of tensors. For (1), please define your @tf.function outside of the loop. For (2), @tf.function has reduce_retracing=True option that can avoid unnecessary retracing. For (3), please refer to https://www.tensorflow.org/guide/function#controlling_retracing and https://www.tensorflow.org/api_docs/python/tf/function for  more details.\n",
      "1/1 [==============================] - 0s 44ms/step\n"
     ]
    },
    {
     "data": {
      "text/plain": [
       "array([[0.48031035],\n",
       "       [0.46533638],\n",
       "       [0.4800086 ],\n",
       "       [0.47054064],\n",
       "       [0.46535516],\n",
       "       [0.48011762],\n",
       "       [0.48514313],\n",
       "       [0.4671359 ],\n",
       "       [0.47994643],\n",
       "       [0.4661125 ]], dtype=float32)"
      ]
     },
     "execution_count": 43,
     "metadata": {},
     "output_type": "execute_result"
    }
   ],
   "source": [
    "def my_model(my_learning_rate):\n",
    "    model = tf.keras.Sequential([\n",
    "        tf.keras.layers.Dense(8, input_shape=[len(train_df.keys())], activation='sigmoid'),\n",
    "        tf.keras.layers.Dense(8, activation='sigmoid'),#se hace una hidden layer de 3 neuronas con activacion sigmoid\n",
    "        tf.keras.layers.Dense(1) #capa de output\n",
    "    ])\n",
    "    \n",
    "    model.compile(optimizer=tf.keras.optimizers.Adam(learning_rate=my_learning_rate),\n",
    "                loss=\"mean_squared_error\", #funcion de perdida\n",
    "                metrics=[tf.keras.metrics.MeanSquaredError()] #funcion de metricas para evaluar\n",
    "                )\n",
    "    return model\n",
    "model = my_model(0.01)\n",
    "model.summary()\n",
    "\n",
    "example_batch = normed_train_data[:10]\n",
    "example_result = model.predict(example_batch)\n",
    "example_result"
   ]
  },
  {
   "attachments": {},
   "cell_type": "markdown",
   "metadata": {},
   "source": [
    "# Entrenamiento del modelo"
   ]
  },
  {
   "cell_type": "code",
   "execution_count": 44,
   "metadata": {},
   "outputs": [],
   "source": [
    "def train_model(model, features, labels, epochs, batch_size):\n",
    "    \n",
    "    #early_stop= tf.keras.callbacks.EarlyStopping(monitor='val_loss', patience=10) #patience es la cant de epochs antes de chequear el improvement\n",
    "    history = model.fit(\n",
    "        x=features,\n",
    "        y=labels,\n",
    "        epochs=epochs,\n",
    "        batch_size = batch_size,\n",
    "        validation_split=0.25,\n",
    "        #callbacks = early_stop\n",
    "    )\n",
    "    hist= pd.DataFrame(history.history) #se guardan los valores de errores y metricas en un diccionario\n",
    "    hist['epoch'] = history.epoch #los epochs se deben añadir aparte\n",
    "    mse = hist['mean_squared_error']\n",
    "    \n",
    "    return hist, mse"
   ]
  },
  {
   "attachments": {},
   "cell_type": "markdown",
   "metadata": {},
   "source": [
    "# Ploteo de gráficas"
   ]
  },
  {
   "cell_type": "code",
   "execution_count": 45,
   "metadata": {},
   "outputs": [],
   "source": [
    "def plot_loss_curve(history):\n",
    "    hist = history\n",
    "    labels = {\"mean_squared_error\":\"Training Loss\", \"val_mean_squared_error\":\"Validation Loss\"}\n",
    "    hist.rename(columns = labels, inplace = True)\n",
    "    \n",
    "    fig = px.line(hist, x='epoch', y=['Training Loss', 'Validation Loss'],\n",
    "                title='Gráficas de Pérdida de Entrenamiento y Evaluación',\n",
    "                labels={\"epoch\": \"Epoch\", \"value\":\"Mean Square Error\", \"variable\":\"Curvas de Pérdida\"},\n",
    "                color_discrete_map={ # replaces default color mapping by value\n",
    "                \"Training Loss\": \"#46039f\", \"Validation Loss\": \"#fb9f3a\"})\n",
    "    fig.update_layout(template='plotly_white')\n",
    "    fig.show()\n",
    "    "
   ]
  },
  {
   "attachments": {},
   "cell_type": "markdown",
   "metadata": {},
   "source": [
    "# Hyperparámetros"
   ]
  },
  {
   "cell_type": "code",
   "execution_count": 46,
   "metadata": {},
   "outputs": [],
   "source": [
    "learning_rate = 0.03\n",
    "epochs = 100\n",
    "batch_size = 5"
   ]
  },
  {
   "attachments": {},
   "cell_type": "markdown",
   "metadata": {},
   "source": [
    "# Llamado de funciones"
   ]
  },
  {
   "cell_type": "code",
   "execution_count": 47,
   "metadata": {},
   "outputs": [
    {
     "name": "stdout",
     "output_type": "stream",
     "text": [
      "Epoch 1/100\n",
      "67/67 [==============================] - 1s 3ms/step - loss: 0.3711 - mean_squared_error: 0.3711 - val_loss: 0.0323 - val_mean_squared_error: 0.0323\n",
      "Epoch 2/100\n",
      "67/67 [==============================] - 0s 1ms/step - loss: 0.0285 - mean_squared_error: 0.0285 - val_loss: 0.0285 - val_mean_squared_error: 0.0285\n",
      "Epoch 3/100\n",
      "67/67 [==============================] - 0s 1ms/step - loss: 0.0240 - mean_squared_error: 0.0240 - val_loss: 0.0225 - val_mean_squared_error: 0.0225\n",
      "Epoch 4/100\n",
      "67/67 [==============================] - 0s 1ms/step - loss: 0.0144 - mean_squared_error: 0.0144 - val_loss: 0.0086 - val_mean_squared_error: 0.0086\n",
      "Epoch 5/100\n",
      "67/67 [==============================] - 0s 1ms/step - loss: 0.0051 - mean_squared_error: 0.0051 - val_loss: 0.0035 - val_mean_squared_error: 0.0035\n",
      "Epoch 6/100\n",
      "67/67 [==============================] - 0s 1ms/step - loss: 0.0034 - mean_squared_error: 0.0034 - val_loss: 0.0028 - val_mean_squared_error: 0.0028\n",
      "Epoch 7/100\n",
      "67/67 [==============================] - 0s 2ms/step - loss: 0.0029 - mean_squared_error: 0.0029 - val_loss: 0.0023 - val_mean_squared_error: 0.0023\n",
      "Epoch 8/100\n",
      "67/67 [==============================] - 0s 2ms/step - loss: 0.0025 - mean_squared_error: 0.0025 - val_loss: 0.0026 - val_mean_squared_error: 0.0026\n",
      "Epoch 9/100\n",
      "67/67 [==============================] - 0s 2ms/step - loss: 0.0022 - mean_squared_error: 0.0022 - val_loss: 0.0021 - val_mean_squared_error: 0.0021\n",
      "Epoch 10/100\n",
      "67/67 [==============================] - 0s 3ms/step - loss: 0.0017 - mean_squared_error: 0.0017 - val_loss: 0.0012 - val_mean_squared_error: 0.0012\n",
      "Epoch 11/100\n",
      "67/67 [==============================] - 0s 2ms/step - loss: 0.0015 - mean_squared_error: 0.0015 - val_loss: 0.0016 - val_mean_squared_error: 0.0016\n",
      "Epoch 12/100\n",
      "67/67 [==============================] - 0s 2ms/step - loss: 0.0014 - mean_squared_error: 0.0014 - val_loss: 0.0010 - val_mean_squared_error: 0.0010\n",
      "Epoch 13/100\n",
      "67/67 [==============================] - 0s 1ms/step - loss: 9.4076e-04 - mean_squared_error: 9.4076e-04 - val_loss: 0.0011 - val_mean_squared_error: 0.0011\n",
      "Epoch 14/100\n",
      "67/67 [==============================] - 0s 1ms/step - loss: 8.9009e-04 - mean_squared_error: 8.9009e-04 - val_loss: 6.3011e-04 - val_mean_squared_error: 6.3011e-04\n",
      "Epoch 15/100\n",
      "67/67 [==============================] - 0s 1ms/step - loss: 6.4685e-04 - mean_squared_error: 6.4685e-04 - val_loss: 4.6397e-04 - val_mean_squared_error: 4.6397e-04\n",
      "Epoch 16/100\n",
      "67/67 [==============================] - 0s 1ms/step - loss: 4.7551e-04 - mean_squared_error: 4.7551e-04 - val_loss: 3.4544e-04 - val_mean_squared_error: 3.4544e-04\n",
      "Epoch 17/100\n",
      "67/67 [==============================] - 0s 2ms/step - loss: 3.5282e-04 - mean_squared_error: 3.5282e-04 - val_loss: 3.0556e-04 - val_mean_squared_error: 3.0556e-04\n",
      "Epoch 18/100\n",
      "67/67 [==============================] - 0s 2ms/step - loss: 2.6306e-04 - mean_squared_error: 2.6306e-04 - val_loss: 1.7356e-04 - val_mean_squared_error: 1.7356e-04\n",
      "Epoch 19/100\n",
      "67/67 [==============================] - 0s 2ms/step - loss: 1.8973e-04 - mean_squared_error: 1.8973e-04 - val_loss: 1.1418e-04 - val_mean_squared_error: 1.1418e-04\n",
      "Epoch 20/100\n",
      "67/67 [==============================] - 0s 2ms/step - loss: 1.2457e-04 - mean_squared_error: 1.2457e-04 - val_loss: 1.0153e-04 - val_mean_squared_error: 1.0153e-04\n",
      "Epoch 21/100\n",
      "67/67 [==============================] - 0s 2ms/step - loss: 7.5705e-05 - mean_squared_error: 7.5705e-05 - val_loss: 6.4442e-05 - val_mean_squared_error: 6.4442e-05\n",
      "Epoch 22/100\n",
      "67/67 [==============================] - 0s 1ms/step - loss: 6.0627e-05 - mean_squared_error: 6.0627e-05 - val_loss: 1.1602e-04 - val_mean_squared_error: 1.1602e-04\n",
      "Epoch 23/100\n",
      "67/67 [==============================] - 0s 1ms/step - loss: 5.3992e-05 - mean_squared_error: 5.3992e-05 - val_loss: 5.7215e-05 - val_mean_squared_error: 5.7215e-05\n",
      "Epoch 24/100\n",
      "67/67 [==============================] - 0s 1ms/step - loss: 4.7596e-05 - mean_squared_error: 4.7596e-05 - val_loss: 4.4495e-05 - val_mean_squared_error: 4.4495e-05\n",
      "Epoch 25/100\n",
      "67/67 [==============================] - 0s 1ms/step - loss: 7.3338e-05 - mean_squared_error: 7.3338e-05 - val_loss: 4.4831e-05 - val_mean_squared_error: 4.4831e-05\n",
      "Epoch 26/100\n",
      "67/67 [==============================] - 0s 1ms/step - loss: 4.2017e-05 - mean_squared_error: 4.2017e-05 - val_loss: 6.9551e-05 - val_mean_squared_error: 6.9551e-05\n",
      "Epoch 27/100\n",
      "67/67 [==============================] - 0s 1ms/step - loss: 5.2287e-05 - mean_squared_error: 5.2287e-05 - val_loss: 3.5252e-05 - val_mean_squared_error: 3.5252e-05\n",
      "Epoch 28/100\n",
      "67/67 [==============================] - 0s 1ms/step - loss: 4.0817e-05 - mean_squared_error: 4.0817e-05 - val_loss: 3.3241e-05 - val_mean_squared_error: 3.3241e-05\n",
      "Epoch 29/100\n",
      "67/67 [==============================] - 0s 1ms/step - loss: 4.6911e-05 - mean_squared_error: 4.6911e-05 - val_loss: 3.2423e-05 - val_mean_squared_error: 3.2423e-05\n",
      "Epoch 30/100\n",
      "67/67 [==============================] - 0s 1ms/step - loss: 3.3438e-05 - mean_squared_error: 3.3438e-05 - val_loss: 3.3786e-05 - val_mean_squared_error: 3.3786e-05\n",
      "Epoch 31/100\n",
      "67/67 [==============================] - 0s 1ms/step - loss: 3.4523e-05 - mean_squared_error: 3.4523e-05 - val_loss: 2.6825e-05 - val_mean_squared_error: 2.6825e-05\n",
      "Epoch 32/100\n",
      "67/67 [==============================] - 0s 1ms/step - loss: 3.1686e-05 - mean_squared_error: 3.1686e-05 - val_loss: 2.8990e-05 - val_mean_squared_error: 2.8990e-05\n",
      "Epoch 33/100\n",
      "67/67 [==============================] - 0s 1ms/step - loss: 3.9754e-05 - mean_squared_error: 3.9754e-05 - val_loss: 2.6475e-05 - val_mean_squared_error: 2.6475e-05\n",
      "Epoch 34/100\n",
      "67/67 [==============================] - 0s 1ms/step - loss: 3.4034e-05 - mean_squared_error: 3.4034e-05 - val_loss: 2.4644e-05 - val_mean_squared_error: 2.4644e-05\n",
      "Epoch 35/100\n",
      "67/67 [==============================] - 0s 1ms/step - loss: 3.8353e-05 - mean_squared_error: 3.8353e-05 - val_loss: 2.3231e-05 - val_mean_squared_error: 2.3231e-05\n",
      "Epoch 36/100\n",
      "67/67 [==============================] - 0s 1ms/step - loss: 3.0846e-05 - mean_squared_error: 3.0846e-05 - val_loss: 8.9022e-05 - val_mean_squared_error: 8.9022e-05\n",
      "Epoch 37/100\n",
      "67/67 [==============================] - 0s 1ms/step - loss: 3.6029e-05 - mean_squared_error: 3.6029e-05 - val_loss: 6.0377e-05 - val_mean_squared_error: 6.0377e-05\n",
      "Epoch 38/100\n",
      "67/67 [==============================] - 0s 1ms/step - loss: 4.7539e-05 - mean_squared_error: 4.7539e-05 - val_loss: 4.2956e-05 - val_mean_squared_error: 4.2956e-05\n",
      "Epoch 39/100\n",
      "67/67 [==============================] - 0s 1ms/step - loss: 3.8493e-05 - mean_squared_error: 3.8493e-05 - val_loss: 9.0059e-05 - val_mean_squared_error: 9.0059e-05\n",
      "Epoch 40/100\n",
      "67/67 [==============================] - 0s 1ms/step - loss: 4.4255e-05 - mean_squared_error: 4.4255e-05 - val_loss: 2.1665e-05 - val_mean_squared_error: 2.1665e-05\n",
      "Epoch 41/100\n",
      "67/67 [==============================] - 0s 1ms/step - loss: 5.2349e-05 - mean_squared_error: 5.2349e-05 - val_loss: 4.3278e-05 - val_mean_squared_error: 4.3278e-05\n",
      "Epoch 42/100\n",
      "67/67 [==============================] - 0s 1ms/step - loss: 4.5000e-05 - mean_squared_error: 4.5000e-05 - val_loss: 5.1177e-05 - val_mean_squared_error: 5.1177e-05\n",
      "Epoch 43/100\n",
      "67/67 [==============================] - 0s 2ms/step - loss: 2.8724e-05 - mean_squared_error: 2.8724e-05 - val_loss: 1.7924e-05 - val_mean_squared_error: 1.7924e-05\n",
      "Epoch 44/100\n",
      "67/67 [==============================] - 0s 1ms/step - loss: 2.9541e-05 - mean_squared_error: 2.9541e-05 - val_loss: 7.9329e-05 - val_mean_squared_error: 7.9329e-05\n",
      "Epoch 45/100\n",
      "67/67 [==============================] - 0s 1ms/step - loss: 4.5002e-05 - mean_squared_error: 4.5002e-05 - val_loss: 3.1777e-05 - val_mean_squared_error: 3.1777e-05\n",
      "Epoch 46/100\n",
      "67/67 [==============================] - 0s 1ms/step - loss: 2.2174e-05 - mean_squared_error: 2.2174e-05 - val_loss: 1.8105e-05 - val_mean_squared_error: 1.8105e-05\n",
      "Epoch 47/100\n",
      "67/67 [==============================] - 0s 1ms/step - loss: 3.1633e-05 - mean_squared_error: 3.1633e-05 - val_loss: 2.4610e-05 - val_mean_squared_error: 2.4610e-05\n",
      "Epoch 48/100\n",
      "67/67 [==============================] - 0s 1ms/step - loss: 3.7817e-05 - mean_squared_error: 3.7817e-05 - val_loss: 1.9364e-05 - val_mean_squared_error: 1.9364e-05\n",
      "Epoch 49/100\n",
      "67/67 [==============================] - 0s 1ms/step - loss: 2.5490e-05 - mean_squared_error: 2.5490e-05 - val_loss: 1.6496e-05 - val_mean_squared_error: 1.6496e-05\n",
      "Epoch 50/100\n",
      "67/67 [==============================] - 0s 1ms/step - loss: 2.7019e-05 - mean_squared_error: 2.7019e-05 - val_loss: 2.7174e-05 - val_mean_squared_error: 2.7174e-05\n",
      "Epoch 51/100\n",
      "67/67 [==============================] - 0s 1ms/step - loss: 4.8795e-05 - mean_squared_error: 4.8795e-05 - val_loss: 3.1066e-05 - val_mean_squared_error: 3.1066e-05\n",
      "Epoch 52/100\n",
      "67/67 [==============================] - 0s 1ms/step - loss: 2.5942e-05 - mean_squared_error: 2.5942e-05 - val_loss: 2.1425e-05 - val_mean_squared_error: 2.1425e-05\n",
      "Epoch 53/100\n",
      "67/67 [==============================] - 0s 1ms/step - loss: 3.0936e-05 - mean_squared_error: 3.0936e-05 - val_loss: 1.9278e-05 - val_mean_squared_error: 1.9278e-05\n",
      "Epoch 54/100\n",
      "67/67 [==============================] - 0s 1ms/step - loss: 3.2286e-05 - mean_squared_error: 3.2286e-05 - val_loss: 1.7701e-05 - val_mean_squared_error: 1.7701e-05\n",
      "Epoch 55/100\n",
      "67/67 [==============================] - 0s 1ms/step - loss: 2.8068e-05 - mean_squared_error: 2.8068e-05 - val_loss: 3.6311e-05 - val_mean_squared_error: 3.6311e-05\n",
      "Epoch 56/100\n",
      "67/67 [==============================] - 0s 1ms/step - loss: 2.8767e-05 - mean_squared_error: 2.8767e-05 - val_loss: 1.2157e-05 - val_mean_squared_error: 1.2157e-05\n",
      "Epoch 57/100\n",
      "67/67 [==============================] - 0s 1ms/step - loss: 2.0421e-05 - mean_squared_error: 2.0421e-05 - val_loss: 2.8713e-05 - val_mean_squared_error: 2.8713e-05\n",
      "Epoch 58/100\n",
      "67/67 [==============================] - 0s 1ms/step - loss: 3.9590e-05 - mean_squared_error: 3.9590e-05 - val_loss: 1.3940e-04 - val_mean_squared_error: 1.3940e-04\n",
      "Epoch 59/100\n",
      "67/67 [==============================] - 0s 1ms/step - loss: 7.9273e-05 - mean_squared_error: 7.9273e-05 - val_loss: 3.0637e-05 - val_mean_squared_error: 3.0637e-05\n",
      "Epoch 60/100\n",
      "67/67 [==============================] - 0s 1ms/step - loss: 3.1026e-05 - mean_squared_error: 3.1026e-05 - val_loss: 4.1700e-05 - val_mean_squared_error: 4.1700e-05\n",
      "Epoch 61/100\n",
      "67/67 [==============================] - 0s 1ms/step - loss: 5.4577e-05 - mean_squared_error: 5.4577e-05 - val_loss: 1.2213e-04 - val_mean_squared_error: 1.2213e-04\n",
      "Epoch 62/100\n",
      "67/67 [==============================] - 0s 1ms/step - loss: 3.0363e-05 - mean_squared_error: 3.0363e-05 - val_loss: 7.8430e-06 - val_mean_squared_error: 7.8430e-06\n",
      "Epoch 63/100\n",
      "67/67 [==============================] - 0s 1ms/step - loss: 2.1024e-05 - mean_squared_error: 2.1024e-05 - val_loss: 2.3451e-05 - val_mean_squared_error: 2.3451e-05\n",
      "Epoch 64/100\n",
      "67/67 [==============================] - 0s 2ms/step - loss: 5.5989e-05 - mean_squared_error: 5.5989e-05 - val_loss: 8.2477e-05 - val_mean_squared_error: 8.2477e-05\n",
      "Epoch 65/100\n",
      "67/67 [==============================] - 0s 1ms/step - loss: 3.3376e-05 - mean_squared_error: 3.3376e-05 - val_loss: 8.1131e-05 - val_mean_squared_error: 8.1131e-05\n",
      "Epoch 66/100\n",
      "67/67 [==============================] - 0s 1ms/step - loss: 1.9389e-05 - mean_squared_error: 1.9389e-05 - val_loss: 1.1970e-05 - val_mean_squared_error: 1.1970e-05\n",
      "Epoch 67/100\n",
      "67/67 [==============================] - 0s 1ms/step - loss: 1.4990e-05 - mean_squared_error: 1.4990e-05 - val_loss: 7.7108e-05 - val_mean_squared_error: 7.7108e-05\n",
      "Epoch 68/100\n",
      "67/67 [==============================] - 0s 1ms/step - loss: 4.0323e-05 - mean_squared_error: 4.0323e-05 - val_loss: 3.3987e-05 - val_mean_squared_error: 3.3987e-05\n",
      "Epoch 69/100\n",
      "67/67 [==============================] - 0s 1ms/step - loss: 2.0961e-05 - mean_squared_error: 2.0961e-05 - val_loss: 7.1652e-06 - val_mean_squared_error: 7.1652e-06\n",
      "Epoch 70/100\n",
      "67/67 [==============================] - 0s 1ms/step - loss: 2.2524e-05 - mean_squared_error: 2.2524e-05 - val_loss: 9.9629e-06 - val_mean_squared_error: 9.9629e-06\n",
      "Epoch 71/100\n",
      "67/67 [==============================] - 0s 1ms/step - loss: 3.0185e-05 - mean_squared_error: 3.0185e-05 - val_loss: 8.8763e-06 - val_mean_squared_error: 8.8763e-06\n",
      "Epoch 72/100\n",
      "67/67 [==============================] - 0s 1ms/step - loss: 1.7362e-05 - mean_squared_error: 1.7362e-05 - val_loss: 2.4667e-05 - val_mean_squared_error: 2.4667e-05\n",
      "Epoch 73/100\n",
      "67/67 [==============================] - 0s 1ms/step - loss: 3.2500e-05 - mean_squared_error: 3.2500e-05 - val_loss: 8.4303e-06 - val_mean_squared_error: 8.4303e-06\n",
      "Epoch 74/100\n",
      "67/67 [==============================] - 0s 1ms/step - loss: 2.0191e-05 - mean_squared_error: 2.0191e-05 - val_loss: 2.1625e-05 - val_mean_squared_error: 2.1625e-05\n",
      "Epoch 75/100\n",
      "67/67 [==============================] - 0s 1ms/step - loss: 3.9336e-05 - mean_squared_error: 3.9336e-05 - val_loss: 2.0065e-05 - val_mean_squared_error: 2.0065e-05\n",
      "Epoch 76/100\n",
      "67/67 [==============================] - 0s 1ms/step - loss: 3.5801e-05 - mean_squared_error: 3.5801e-05 - val_loss: 3.1272e-05 - val_mean_squared_error: 3.1272e-05\n",
      "Epoch 77/100\n",
      "67/67 [==============================] - 0s 1ms/step - loss: 2.1302e-05 - mean_squared_error: 2.1302e-05 - val_loss: 2.9492e-05 - val_mean_squared_error: 2.9492e-05\n",
      "Epoch 78/100\n",
      "67/67 [==============================] - 0s 1ms/step - loss: 2.8913e-05 - mean_squared_error: 2.8913e-05 - val_loss: 3.5136e-05 - val_mean_squared_error: 3.5136e-05\n",
      "Epoch 79/100\n",
      "67/67 [==============================] - 0s 1ms/step - loss: 1.6260e-04 - mean_squared_error: 1.6260e-04 - val_loss: 2.0429e-04 - val_mean_squared_error: 2.0429e-04\n",
      "Epoch 80/100\n",
      "67/67 [==============================] - 0s 1ms/step - loss: 1.4539e-04 - mean_squared_error: 1.4539e-04 - val_loss: 2.0519e-05 - val_mean_squared_error: 2.0519e-05\n",
      "Epoch 81/100\n",
      "67/67 [==============================] - 0s 1ms/step - loss: 8.6598e-06 - mean_squared_error: 8.6598e-06 - val_loss: 4.9047e-06 - val_mean_squared_error: 4.9047e-06\n",
      "Epoch 82/100\n",
      "67/67 [==============================] - 0s 1ms/step - loss: 1.0971e-05 - mean_squared_error: 1.0971e-05 - val_loss: 3.3431e-06 - val_mean_squared_error: 3.3431e-06\n",
      "Epoch 83/100\n",
      "67/67 [==============================] - 0s 1ms/step - loss: 1.2824e-05 - mean_squared_error: 1.2824e-05 - val_loss: 1.3793e-05 - val_mean_squared_error: 1.3793e-05\n",
      "Epoch 84/100\n",
      "67/67 [==============================] - 0s 1ms/step - loss: 5.0229e-05 - mean_squared_error: 5.0229e-05 - val_loss: 3.4830e-05 - val_mean_squared_error: 3.4830e-05\n",
      "Epoch 85/100\n",
      "67/67 [==============================] - 0s 1ms/step - loss: 2.5105e-05 - mean_squared_error: 2.5105e-05 - val_loss: 2.7236e-05 - val_mean_squared_error: 2.7236e-05\n",
      "Epoch 86/100\n",
      "67/67 [==============================] - 0s 1ms/step - loss: 2.2388e-05 - mean_squared_error: 2.2388e-05 - val_loss: 8.7630e-06 - val_mean_squared_error: 8.7630e-06\n",
      "Epoch 87/100\n",
      "67/67 [==============================] - 0s 1ms/step - loss: 8.5017e-05 - mean_squared_error: 8.5017e-05 - val_loss: 1.9341e-04 - val_mean_squared_error: 1.9341e-04\n",
      "Epoch 88/100\n",
      "67/67 [==============================] - 0s 1ms/step - loss: 5.0361e-05 - mean_squared_error: 5.0361e-05 - val_loss: 3.7761e-05 - val_mean_squared_error: 3.7761e-05\n",
      "Epoch 89/100\n",
      "67/67 [==============================] - 0s 1ms/step - loss: 3.8732e-05 - mean_squared_error: 3.8732e-05 - val_loss: 3.7322e-05 - val_mean_squared_error: 3.7322e-05\n",
      "Epoch 90/100\n",
      "67/67 [==============================] - 0s 1ms/step - loss: 1.8663e-05 - mean_squared_error: 1.8663e-05 - val_loss: 1.1472e-05 - val_mean_squared_error: 1.1472e-05\n",
      "Epoch 91/100\n",
      "67/67 [==============================] - 0s 1ms/step - loss: 5.9176e-06 - mean_squared_error: 5.9176e-06 - val_loss: 2.0169e-06 - val_mean_squared_error: 2.0169e-06\n",
      "Epoch 92/100\n",
      "67/67 [==============================] - 0s 2ms/step - loss: 1.0974e-05 - mean_squared_error: 1.0974e-05 - val_loss: 4.4352e-06 - val_mean_squared_error: 4.4352e-06\n",
      "Epoch 93/100\n",
      "67/67 [==============================] - 0s 1ms/step - loss: 1.4508e-05 - mean_squared_error: 1.4508e-05 - val_loss: 2.7586e-06 - val_mean_squared_error: 2.7586e-06\n",
      "Epoch 94/100\n",
      "67/67 [==============================] - 0s 1ms/step - loss: 4.1268e-06 - mean_squared_error: 4.1268e-06 - val_loss: 1.5572e-05 - val_mean_squared_error: 1.5572e-05\n",
      "Epoch 95/100\n",
      "67/67 [==============================] - 0s 1ms/step - loss: 8.4177e-05 - mean_squared_error: 8.4177e-05 - val_loss: 1.9440e-04 - val_mean_squared_error: 1.9440e-04\n",
      "Epoch 96/100\n",
      "67/67 [==============================] - 0s 1ms/step - loss: 1.8385e-04 - mean_squared_error: 1.8385e-04 - val_loss: 6.4351e-05 - val_mean_squared_error: 6.4351e-05\n",
      "Epoch 97/100\n",
      "67/67 [==============================] - 0s 1ms/step - loss: 3.0449e-05 - mean_squared_error: 3.0449e-05 - val_loss: 5.9608e-05 - val_mean_squared_error: 5.9608e-05\n",
      "Epoch 98/100\n",
      "67/67 [==============================] - 0s 1ms/step - loss: 1.0788e-05 - mean_squared_error: 1.0788e-05 - val_loss: 2.5938e-06 - val_mean_squared_error: 2.5938e-06\n",
      "Epoch 99/100\n",
      "67/67 [==============================] - 0s 2ms/step - loss: 7.1851e-06 - mean_squared_error: 7.1851e-06 - val_loss: 1.9721e-05 - val_mean_squared_error: 1.9721e-05\n",
      "Epoch 100/100\n",
      "67/67 [==============================] - 0s 2ms/step - loss: 2.2583e-05 - mean_squared_error: 2.2583e-05 - val_loss: 2.2778e-05 - val_mean_squared_error: 2.2778e-05\n"
     ]
    },
    {
     "data": {
      "application/vnd.plotly.v1+json": {
       "config": {
        "plotlyServerURL": "https://plot.ly"
       },
       "data": [
        {
         "hovertemplate": "Curvas de Pérdida=Training Loss<br>Epoch=%{x}<br>Mean Square Error=%{y}<extra></extra>",
         "legendgroup": "Training Loss",
         "line": {
          "color": "#46039f",
          "dash": "solid"
         },
         "marker": {
          "symbol": "circle"
         },
         "mode": "lines",
         "name": "Training Loss",
         "orientation": "v",
         "showlegend": true,
         "type": "scatter",
         "x": [
          0,
          1,
          2,
          3,
          4,
          5,
          6,
          7,
          8,
          9,
          10,
          11,
          12,
          13,
          14,
          15,
          16,
          17,
          18,
          19,
          20,
          21,
          22,
          23,
          24,
          25,
          26,
          27,
          28,
          29,
          30,
          31,
          32,
          33,
          34,
          35,
          36,
          37,
          38,
          39,
          40,
          41,
          42,
          43,
          44,
          45,
          46,
          47,
          48,
          49,
          50,
          51,
          52,
          53,
          54,
          55,
          56,
          57,
          58,
          59,
          60,
          61,
          62,
          63,
          64,
          65,
          66,
          67,
          68,
          69,
          70,
          71,
          72,
          73,
          74,
          75,
          76,
          77,
          78,
          79,
          80,
          81,
          82,
          83,
          84,
          85,
          86,
          87,
          88,
          89,
          90,
          91,
          92,
          93,
          94,
          95,
          96,
          97,
          98,
          99
         ],
         "xaxis": "x",
         "y": [
          0.37105125188827515,
          0.028492718935012817,
          0.02403036318719387,
          0.014411313459277153,
          0.005101476795971394,
          0.003433733247220516,
          0.002933148993179202,
          0.002460068091750145,
          0.0022490250412374735,
          0.0017174232052639127,
          0.001499753212556243,
          0.0014218766009435058,
          0.0009407579782418907,
          0.0008900851826183498,
          0.0006468463689088821,
          0.00047550557064823806,
          0.0003528220986481756,
          0.00026306291692890227,
          0.0001897326292237267,
          0.0001245737075805664,
          0.00007570473826490343,
          0.00006062664033379406,
          0.00005399228393798694,
          0.000047596222430001944,
          0.00007333836401812732,
          0.000042017440136987716,
          0.00005228697045822628,
          0.00004081661609234288,
          0.000046911376557545736,
          0.00003343795833643526,
          0.0000345232620020397,
          0.0000316861187457107,
          0.00003975420258939266,
          0.000034034179407171905,
          0.000038352991396095604,
          0.00003084618583670817,
          0.000036029141483595595,
          0.00004753908797283657,
          0.000038492951716762036,
          0.00004425533188623376,
          0.00005234903801465407,
          0.000044999625970376655,
          0.0000287238053715555,
          0.000029541028197854757,
          0.00004500185968936421,
          0.00002217393739556428,
          0.000031633313483325765,
          0.00003781698615057394,
          0.000025490378902759403,
          0.000027019315893994644,
          0.00004879461630480364,
          0.000025942135835066438,
          0.00003093595296377316,
          0.00003228571222280152,
          0.00002806768134178128,
          0.000028767221010639332,
          0.00002042110099864658,
          0.000039589918742422014,
          0.00007927259866846725,
          0.00003102596019743942,
          0.00005457727093016729,
          0.00003036322959815152,
          0.000021023779481765814,
          0.00005598895950242877,
          0.000033376243663951755,
          0.00001938937566592358,
          0.000014989611372584477,
          0.000040322796849068254,
          0.00002096076605084818,
          0.000022523972802446224,
          0.000030185128707671538,
          0.00001736192098178435,
          0.00003250024747103453,
          0.000020191329895169474,
          0.00003933603875339031,
          0.00003580136035452597,
          0.000021302072127582505,
          0.000028912552807014436,
          0.00016260244592558593,
          0.00014539386029355228,
          0.000008659835657454096,
          0.000010970746188831981,
          0.000012823566066799685,
          0.00005022890763939358,
          0.0000251053261308698,
          0.000022387814169633202,
          0.00008501650154357776,
          0.00005036144648329355,
          0.0000387315776606556,
          0.000018663271475816146,
          0.0000059176036302233115,
          0.00001097433141694637,
          0.000014507912965200376,
          0.000004126846306462539,
          0.00008417662320425734,
          0.00018385480507276952,
          0.000030449094992945902,
          0.00001078819786926033,
          0.000007185117283370346,
          0.000022583484678762034
         ],
         "yaxis": "y"
        },
        {
         "hovertemplate": "Curvas de Pérdida=Validation Loss<br>Epoch=%{x}<br>Mean Square Error=%{y}<extra></extra>",
         "legendgroup": "Validation Loss",
         "line": {
          "color": "#fb9f3a",
          "dash": "solid"
         },
         "marker": {
          "symbol": "circle"
         },
         "mode": "lines",
         "name": "Validation Loss",
         "orientation": "v",
         "showlegend": true,
         "type": "scatter",
         "x": [
          0,
          1,
          2,
          3,
          4,
          5,
          6,
          7,
          8,
          9,
          10,
          11,
          12,
          13,
          14,
          15,
          16,
          17,
          18,
          19,
          20,
          21,
          22,
          23,
          24,
          25,
          26,
          27,
          28,
          29,
          30,
          31,
          32,
          33,
          34,
          35,
          36,
          37,
          38,
          39,
          40,
          41,
          42,
          43,
          44,
          45,
          46,
          47,
          48,
          49,
          50,
          51,
          52,
          53,
          54,
          55,
          56,
          57,
          58,
          59,
          60,
          61,
          62,
          63,
          64,
          65,
          66,
          67,
          68,
          69,
          70,
          71,
          72,
          73,
          74,
          75,
          76,
          77,
          78,
          79,
          80,
          81,
          82,
          83,
          84,
          85,
          86,
          87,
          88,
          89,
          90,
          91,
          92,
          93,
          94,
          95,
          96,
          97,
          98,
          99
         ],
         "xaxis": "x",
         "y": [
          0.03234028443694115,
          0.028527913615107536,
          0.022505640983581543,
          0.008551468141376972,
          0.003542256308719516,
          0.002768650185316801,
          0.0022797503042966127,
          0.0025845703203231096,
          0.002072629053145647,
          0.0011946946615353227,
          0.0015872509684413671,
          0.0010120689403265715,
          0.0011376632610335946,
          0.0006301136454567313,
          0.00046396744437515736,
          0.00034544384106993675,
          0.0003055573033634573,
          0.00017355509044136852,
          0.00011418499343562871,
          0.00010153010225621983,
          0.00006444209429901093,
          0.00011601841833908111,
          0.000057215100241592154,
          0.000044495074689621106,
          0.00004483138400246389,
          0.00006955127173569053,
          0.000035251545341452584,
          0.000033241369237657636,
          0.00003242329694330692,
          0.000033786240237532184,
          0.0000268245621555252,
          0.00002898953971453011,
          0.000026475463528186083,
          0.000024643772121635266,
          0.00002323131775483489,
          0.00008902221452444792,
          0.000060376951296348125,
          0.000042956329707521945,
          0.00009005893662106246,
          0.00002166495323763229,
          0.00004327803253545426,
          0.000051176761189708486,
          0.000017923743143910542,
          0.00007932926382636651,
          0.00003177698818035424,
          0.000018105254639522173,
          0.00002461036274326034,
          0.000019364186300663278,
          0.000016495750969625078,
          0.000027174104616278782,
          0.00003106639633188024,
          0.000021424601072794758,
          0.0000192784264072543,
          0.000017700618627713993,
          0.000036310655559645966,
          0.000012157274795754347,
          0.000028713373467326164,
          0.0001393979327986017,
          0.00003063667463720776,
          0.00004169950989307836,
          0.00012212868023198098,
          0.000007842974810046144,
          0.000023450922526535578,
          0.00008247706136899069,
          0.00008113146031973884,
          0.000011970128980465233,
          0.00007710828504059464,
          0.00003398673652554862,
          0.000007165186161728343,
          0.000009962890544557013,
          0.000008876274478097912,
          0.0000246672334469622,
          0.000008430273737758398,
          0.000021625090084853582,
          0.00002006499926210381,
          0.00003127178206341341,
          0.000029491902751033194,
          0.00003513603223836981,
          0.00020429228607099503,
          0.000020518686142168008,
          0.000004904715751763433,
          0.000003343061280247639,
          0.000013793319340038579,
          0.00003482981992419809,
          0.000027235848392592743,
          0.000008763040568737779,
          0.00019340506696607918,
          0.00003776084849960171,
          0.00003732190452865325,
          0.000011471507605165243,
          0.000002016929556702962,
          0.000004435234586708248,
          0.0000027585517727857223,
          0.00001557230825710576,
          0.00019440466712694615,
          0.00006435137038351968,
          0.00005960812632110901,
          0.0000025938302314898465,
          0.000019720961063285358,
          0.000022778363927500322
         ],
         "yaxis": "y"
        }
       ],
       "layout": {
        "legend": {
         "title": {
          "text": "Curvas de Pérdida"
         },
         "tracegroupgap": 0
        },
        "template": {
         "data": {
          "bar": [
           {
            "error_x": {
             "color": "#2a3f5f"
            },
            "error_y": {
             "color": "#2a3f5f"
            },
            "marker": {
             "line": {
              "color": "white",
              "width": 0.5
             },
             "pattern": {
              "fillmode": "overlay",
              "size": 10,
              "solidity": 0.2
             }
            },
            "type": "bar"
           }
          ],
          "barpolar": [
           {
            "marker": {
             "line": {
              "color": "white",
              "width": 0.5
             },
             "pattern": {
              "fillmode": "overlay",
              "size": 10,
              "solidity": 0.2
             }
            },
            "type": "barpolar"
           }
          ],
          "carpet": [
           {
            "aaxis": {
             "endlinecolor": "#2a3f5f",
             "gridcolor": "#C8D4E3",
             "linecolor": "#C8D4E3",
             "minorgridcolor": "#C8D4E3",
             "startlinecolor": "#2a3f5f"
            },
            "baxis": {
             "endlinecolor": "#2a3f5f",
             "gridcolor": "#C8D4E3",
             "linecolor": "#C8D4E3",
             "minorgridcolor": "#C8D4E3",
             "startlinecolor": "#2a3f5f"
            },
            "type": "carpet"
           }
          ],
          "choropleth": [
           {
            "colorbar": {
             "outlinewidth": 0,
             "ticks": ""
            },
            "type": "choropleth"
           }
          ],
          "contour": [
           {
            "colorbar": {
             "outlinewidth": 0,
             "ticks": ""
            },
            "colorscale": [
             [
              0,
              "#0d0887"
             ],
             [
              0.1111111111111111,
              "#46039f"
             ],
             [
              0.2222222222222222,
              "#7201a8"
             ],
             [
              0.3333333333333333,
              "#9c179e"
             ],
             [
              0.4444444444444444,
              "#bd3786"
             ],
             [
              0.5555555555555556,
              "#d8576b"
             ],
             [
              0.6666666666666666,
              "#ed7953"
             ],
             [
              0.7777777777777778,
              "#fb9f3a"
             ],
             [
              0.8888888888888888,
              "#fdca26"
             ],
             [
              1,
              "#f0f921"
             ]
            ],
            "type": "contour"
           }
          ],
          "contourcarpet": [
           {
            "colorbar": {
             "outlinewidth": 0,
             "ticks": ""
            },
            "type": "contourcarpet"
           }
          ],
          "heatmap": [
           {
            "colorbar": {
             "outlinewidth": 0,
             "ticks": ""
            },
            "colorscale": [
             [
              0,
              "#0d0887"
             ],
             [
              0.1111111111111111,
              "#46039f"
             ],
             [
              0.2222222222222222,
              "#7201a8"
             ],
             [
              0.3333333333333333,
              "#9c179e"
             ],
             [
              0.4444444444444444,
              "#bd3786"
             ],
             [
              0.5555555555555556,
              "#d8576b"
             ],
             [
              0.6666666666666666,
              "#ed7953"
             ],
             [
              0.7777777777777778,
              "#fb9f3a"
             ],
             [
              0.8888888888888888,
              "#fdca26"
             ],
             [
              1,
              "#f0f921"
             ]
            ],
            "type": "heatmap"
           }
          ],
          "heatmapgl": [
           {
            "colorbar": {
             "outlinewidth": 0,
             "ticks": ""
            },
            "colorscale": [
             [
              0,
              "#0d0887"
             ],
             [
              0.1111111111111111,
              "#46039f"
             ],
             [
              0.2222222222222222,
              "#7201a8"
             ],
             [
              0.3333333333333333,
              "#9c179e"
             ],
             [
              0.4444444444444444,
              "#bd3786"
             ],
             [
              0.5555555555555556,
              "#d8576b"
             ],
             [
              0.6666666666666666,
              "#ed7953"
             ],
             [
              0.7777777777777778,
              "#fb9f3a"
             ],
             [
              0.8888888888888888,
              "#fdca26"
             ],
             [
              1,
              "#f0f921"
             ]
            ],
            "type": "heatmapgl"
           }
          ],
          "histogram": [
           {
            "marker": {
             "pattern": {
              "fillmode": "overlay",
              "size": 10,
              "solidity": 0.2
             }
            },
            "type": "histogram"
           }
          ],
          "histogram2d": [
           {
            "colorbar": {
             "outlinewidth": 0,
             "ticks": ""
            },
            "colorscale": [
             [
              0,
              "#0d0887"
             ],
             [
              0.1111111111111111,
              "#46039f"
             ],
             [
              0.2222222222222222,
              "#7201a8"
             ],
             [
              0.3333333333333333,
              "#9c179e"
             ],
             [
              0.4444444444444444,
              "#bd3786"
             ],
             [
              0.5555555555555556,
              "#d8576b"
             ],
             [
              0.6666666666666666,
              "#ed7953"
             ],
             [
              0.7777777777777778,
              "#fb9f3a"
             ],
             [
              0.8888888888888888,
              "#fdca26"
             ],
             [
              1,
              "#f0f921"
             ]
            ],
            "type": "histogram2d"
           }
          ],
          "histogram2dcontour": [
           {
            "colorbar": {
             "outlinewidth": 0,
             "ticks": ""
            },
            "colorscale": [
             [
              0,
              "#0d0887"
             ],
             [
              0.1111111111111111,
              "#46039f"
             ],
             [
              0.2222222222222222,
              "#7201a8"
             ],
             [
              0.3333333333333333,
              "#9c179e"
             ],
             [
              0.4444444444444444,
              "#bd3786"
             ],
             [
              0.5555555555555556,
              "#d8576b"
             ],
             [
              0.6666666666666666,
              "#ed7953"
             ],
             [
              0.7777777777777778,
              "#fb9f3a"
             ],
             [
              0.8888888888888888,
              "#fdca26"
             ],
             [
              1,
              "#f0f921"
             ]
            ],
            "type": "histogram2dcontour"
           }
          ],
          "mesh3d": [
           {
            "colorbar": {
             "outlinewidth": 0,
             "ticks": ""
            },
            "type": "mesh3d"
           }
          ],
          "parcoords": [
           {
            "line": {
             "colorbar": {
              "outlinewidth": 0,
              "ticks": ""
             }
            },
            "type": "parcoords"
           }
          ],
          "pie": [
           {
            "automargin": true,
            "type": "pie"
           }
          ],
          "scatter": [
           {
            "fillpattern": {
             "fillmode": "overlay",
             "size": 10,
             "solidity": 0.2
            },
            "type": "scatter"
           }
          ],
          "scatter3d": [
           {
            "line": {
             "colorbar": {
              "outlinewidth": 0,
              "ticks": ""
             }
            },
            "marker": {
             "colorbar": {
              "outlinewidth": 0,
              "ticks": ""
             }
            },
            "type": "scatter3d"
           }
          ],
          "scattercarpet": [
           {
            "marker": {
             "colorbar": {
              "outlinewidth": 0,
              "ticks": ""
             }
            },
            "type": "scattercarpet"
           }
          ],
          "scattergeo": [
           {
            "marker": {
             "colorbar": {
              "outlinewidth": 0,
              "ticks": ""
             }
            },
            "type": "scattergeo"
           }
          ],
          "scattergl": [
           {
            "marker": {
             "colorbar": {
              "outlinewidth": 0,
              "ticks": ""
             }
            },
            "type": "scattergl"
           }
          ],
          "scattermapbox": [
           {
            "marker": {
             "colorbar": {
              "outlinewidth": 0,
              "ticks": ""
             }
            },
            "type": "scattermapbox"
           }
          ],
          "scatterpolar": [
           {
            "marker": {
             "colorbar": {
              "outlinewidth": 0,
              "ticks": ""
             }
            },
            "type": "scatterpolar"
           }
          ],
          "scatterpolargl": [
           {
            "marker": {
             "colorbar": {
              "outlinewidth": 0,
              "ticks": ""
             }
            },
            "type": "scatterpolargl"
           }
          ],
          "scatterternary": [
           {
            "marker": {
             "colorbar": {
              "outlinewidth": 0,
              "ticks": ""
             }
            },
            "type": "scatterternary"
           }
          ],
          "surface": [
           {
            "colorbar": {
             "outlinewidth": 0,
             "ticks": ""
            },
            "colorscale": [
             [
              0,
              "#0d0887"
             ],
             [
              0.1111111111111111,
              "#46039f"
             ],
             [
              0.2222222222222222,
              "#7201a8"
             ],
             [
              0.3333333333333333,
              "#9c179e"
             ],
             [
              0.4444444444444444,
              "#bd3786"
             ],
             [
              0.5555555555555556,
              "#d8576b"
             ],
             [
              0.6666666666666666,
              "#ed7953"
             ],
             [
              0.7777777777777778,
              "#fb9f3a"
             ],
             [
              0.8888888888888888,
              "#fdca26"
             ],
             [
              1,
              "#f0f921"
             ]
            ],
            "type": "surface"
           }
          ],
          "table": [
           {
            "cells": {
             "fill": {
              "color": "#EBF0F8"
             },
             "line": {
              "color": "white"
             }
            },
            "header": {
             "fill": {
              "color": "#C8D4E3"
             },
             "line": {
              "color": "white"
             }
            },
            "type": "table"
           }
          ]
         },
         "layout": {
          "annotationdefaults": {
           "arrowcolor": "#2a3f5f",
           "arrowhead": 0,
           "arrowwidth": 1
          },
          "autotypenumbers": "strict",
          "coloraxis": {
           "colorbar": {
            "outlinewidth": 0,
            "ticks": ""
           }
          },
          "colorscale": {
           "diverging": [
            [
             0,
             "#8e0152"
            ],
            [
             0.1,
             "#c51b7d"
            ],
            [
             0.2,
             "#de77ae"
            ],
            [
             0.3,
             "#f1b6da"
            ],
            [
             0.4,
             "#fde0ef"
            ],
            [
             0.5,
             "#f7f7f7"
            ],
            [
             0.6,
             "#e6f5d0"
            ],
            [
             0.7,
             "#b8e186"
            ],
            [
             0.8,
             "#7fbc41"
            ],
            [
             0.9,
             "#4d9221"
            ],
            [
             1,
             "#276419"
            ]
           ],
           "sequential": [
            [
             0,
             "#0d0887"
            ],
            [
             0.1111111111111111,
             "#46039f"
            ],
            [
             0.2222222222222222,
             "#7201a8"
            ],
            [
             0.3333333333333333,
             "#9c179e"
            ],
            [
             0.4444444444444444,
             "#bd3786"
            ],
            [
             0.5555555555555556,
             "#d8576b"
            ],
            [
             0.6666666666666666,
             "#ed7953"
            ],
            [
             0.7777777777777778,
             "#fb9f3a"
            ],
            [
             0.8888888888888888,
             "#fdca26"
            ],
            [
             1,
             "#f0f921"
            ]
           ],
           "sequentialminus": [
            [
             0,
             "#0d0887"
            ],
            [
             0.1111111111111111,
             "#46039f"
            ],
            [
             0.2222222222222222,
             "#7201a8"
            ],
            [
             0.3333333333333333,
             "#9c179e"
            ],
            [
             0.4444444444444444,
             "#bd3786"
            ],
            [
             0.5555555555555556,
             "#d8576b"
            ],
            [
             0.6666666666666666,
             "#ed7953"
            ],
            [
             0.7777777777777778,
             "#fb9f3a"
            ],
            [
             0.8888888888888888,
             "#fdca26"
            ],
            [
             1,
             "#f0f921"
            ]
           ]
          },
          "colorway": [
           "#636efa",
           "#EF553B",
           "#00cc96",
           "#ab63fa",
           "#FFA15A",
           "#19d3f3",
           "#FF6692",
           "#B6E880",
           "#FF97FF",
           "#FECB52"
          ],
          "font": {
           "color": "#2a3f5f"
          },
          "geo": {
           "bgcolor": "white",
           "lakecolor": "white",
           "landcolor": "white",
           "showlakes": true,
           "showland": true,
           "subunitcolor": "#C8D4E3"
          },
          "hoverlabel": {
           "align": "left"
          },
          "hovermode": "closest",
          "mapbox": {
           "style": "light"
          },
          "paper_bgcolor": "white",
          "plot_bgcolor": "white",
          "polar": {
           "angularaxis": {
            "gridcolor": "#EBF0F8",
            "linecolor": "#EBF0F8",
            "ticks": ""
           },
           "bgcolor": "white",
           "radialaxis": {
            "gridcolor": "#EBF0F8",
            "linecolor": "#EBF0F8",
            "ticks": ""
           }
          },
          "scene": {
           "xaxis": {
            "backgroundcolor": "white",
            "gridcolor": "#DFE8F3",
            "gridwidth": 2,
            "linecolor": "#EBF0F8",
            "showbackground": true,
            "ticks": "",
            "zerolinecolor": "#EBF0F8"
           },
           "yaxis": {
            "backgroundcolor": "white",
            "gridcolor": "#DFE8F3",
            "gridwidth": 2,
            "linecolor": "#EBF0F8",
            "showbackground": true,
            "ticks": "",
            "zerolinecolor": "#EBF0F8"
           },
           "zaxis": {
            "backgroundcolor": "white",
            "gridcolor": "#DFE8F3",
            "gridwidth": 2,
            "linecolor": "#EBF0F8",
            "showbackground": true,
            "ticks": "",
            "zerolinecolor": "#EBF0F8"
           }
          },
          "shapedefaults": {
           "line": {
            "color": "#2a3f5f"
           }
          },
          "ternary": {
           "aaxis": {
            "gridcolor": "#DFE8F3",
            "linecolor": "#A2B1C6",
            "ticks": ""
           },
           "baxis": {
            "gridcolor": "#DFE8F3",
            "linecolor": "#A2B1C6",
            "ticks": ""
           },
           "bgcolor": "white",
           "caxis": {
            "gridcolor": "#DFE8F3",
            "linecolor": "#A2B1C6",
            "ticks": ""
           }
          },
          "title": {
           "x": 0.05
          },
          "xaxis": {
           "automargin": true,
           "gridcolor": "#EBF0F8",
           "linecolor": "#EBF0F8",
           "ticks": "",
           "title": {
            "standoff": 15
           },
           "zerolinecolor": "#EBF0F8",
           "zerolinewidth": 2
          },
          "yaxis": {
           "automargin": true,
           "gridcolor": "#EBF0F8",
           "linecolor": "#EBF0F8",
           "ticks": "",
           "title": {
            "standoff": 15
           },
           "zerolinecolor": "#EBF0F8",
           "zerolinewidth": 2
          }
         }
        },
        "title": {
         "text": "Gráficas de Pérdida de Entrenamiento y Evaluación"
        },
        "xaxis": {
         "anchor": "y",
         "domain": [
          0,
          1
         ],
         "title": {
          "text": "Epoch"
         }
        },
        "yaxis": {
         "anchor": "x",
         "domain": [
          0,
          1
         ],
         "title": {
          "text": "Mean Square Error"
         }
        }
       }
      }
     },
     "metadata": {},
     "output_type": "display_data"
    },
    {
     "data": {
      "text/html": [
       "<div>\n",
       "<style scoped>\n",
       "    .dataframe tbody tr th:only-of-type {\n",
       "        vertical-align: middle;\n",
       "    }\n",
       "\n",
       "    .dataframe tbody tr th {\n",
       "        vertical-align: top;\n",
       "    }\n",
       "\n",
       "    .dataframe thead th {\n",
       "        text-align: right;\n",
       "    }\n",
       "</style>\n",
       "<table border=\"1\" class=\"dataframe\">\n",
       "  <thead>\n",
       "    <tr style=\"text-align: right;\">\n",
       "      <th></th>\n",
       "      <th>loss</th>\n",
       "      <th>Training Loss</th>\n",
       "      <th>val_loss</th>\n",
       "      <th>Validation Loss</th>\n",
       "      <th>epoch</th>\n",
       "    </tr>\n",
       "  </thead>\n",
       "  <tbody>\n",
       "    <tr>\n",
       "      <th>0</th>\n",
       "      <td>0.371</td>\n",
       "      <td>0.371</td>\n",
       "      <td>0.032</td>\n",
       "      <td>0.032</td>\n",
       "      <td>0</td>\n",
       "    </tr>\n",
       "    <tr>\n",
       "      <th>1</th>\n",
       "      <td>0.028</td>\n",
       "      <td>0.028</td>\n",
       "      <td>0.029</td>\n",
       "      <td>0.029</td>\n",
       "      <td>1</td>\n",
       "    </tr>\n",
       "    <tr>\n",
       "      <th>2</th>\n",
       "      <td>0.024</td>\n",
       "      <td>0.024</td>\n",
       "      <td>0.023</td>\n",
       "      <td>0.023</td>\n",
       "      <td>2</td>\n",
       "    </tr>\n",
       "    <tr>\n",
       "      <th>3</th>\n",
       "      <td>0.014</td>\n",
       "      <td>0.014</td>\n",
       "      <td>0.009</td>\n",
       "      <td>0.009</td>\n",
       "      <td>3</td>\n",
       "    </tr>\n",
       "    <tr>\n",
       "      <th>4</th>\n",
       "      <td>0.005</td>\n",
       "      <td>0.005</td>\n",
       "      <td>0.004</td>\n",
       "      <td>0.004</td>\n",
       "      <td>4</td>\n",
       "    </tr>\n",
       "    <tr>\n",
       "      <th>...</th>\n",
       "      <td>...</td>\n",
       "      <td>...</td>\n",
       "      <td>...</td>\n",
       "      <td>...</td>\n",
       "      <td>...</td>\n",
       "    </tr>\n",
       "    <tr>\n",
       "      <th>95</th>\n",
       "      <td>0.000</td>\n",
       "      <td>0.000</td>\n",
       "      <td>0.000</td>\n",
       "      <td>0.000</td>\n",
       "      <td>95</td>\n",
       "    </tr>\n",
       "    <tr>\n",
       "      <th>96</th>\n",
       "      <td>0.000</td>\n",
       "      <td>0.000</td>\n",
       "      <td>0.000</td>\n",
       "      <td>0.000</td>\n",
       "      <td>96</td>\n",
       "    </tr>\n",
       "    <tr>\n",
       "      <th>97</th>\n",
       "      <td>0.000</td>\n",
       "      <td>0.000</td>\n",
       "      <td>0.000</td>\n",
       "      <td>0.000</td>\n",
       "      <td>97</td>\n",
       "    </tr>\n",
       "    <tr>\n",
       "      <th>98</th>\n",
       "      <td>0.000</td>\n",
       "      <td>0.000</td>\n",
       "      <td>0.000</td>\n",
       "      <td>0.000</td>\n",
       "      <td>98</td>\n",
       "    </tr>\n",
       "    <tr>\n",
       "      <th>99</th>\n",
       "      <td>0.000</td>\n",
       "      <td>0.000</td>\n",
       "      <td>0.000</td>\n",
       "      <td>0.000</td>\n",
       "      <td>99</td>\n",
       "    </tr>\n",
       "  </tbody>\n",
       "</table>\n",
       "<p>100 rows × 5 columns</p>\n",
       "</div>"
      ],
      "text/plain": [
       "    loss  Training Loss  val_loss  Validation Loss  epoch\n",
       "0  0.371          0.371     0.032            0.032      0\n",
       "1  0.028          0.028     0.029            0.029      1\n",
       "2  0.024          0.024     0.023            0.023      2\n",
       "3  0.014          0.014     0.009            0.009      3\n",
       "4  0.005          0.005     0.004            0.004      4\n",
       "..   ...            ...       ...              ...    ...\n",
       "95 0.000          0.000     0.000            0.000     95\n",
       "96 0.000          0.000     0.000            0.000     96\n",
       "97 0.000          0.000     0.000            0.000     97\n",
       "98 0.000          0.000     0.000            0.000     98\n",
       "99 0.000          0.000     0.000            0.000     99\n",
       "\n",
       "[100 rows x 5 columns]"
      ]
     },
     "metadata": {},
     "output_type": "display_data"
    }
   ],
   "source": [
    "model = my_model(learning_rate)\n",
    "history, mse = train_model(model, normed_train_data, train_labels, epochs, batch_size)\n",
    "plot_loss_curve(history)\n",
    "display(history)"
   ]
  },
  {
   "attachments": {},
   "cell_type": "markdown",
   "metadata": {},
   "source": [
    "# Predicciones"
   ]
  },
  {
   "cell_type": "code",
   "execution_count": 48,
   "metadata": {},
   "outputs": [
    {
     "name": "stdout",
     "output_type": "stream",
     "text": [
      "4/4 [==============================] - 0s 2ms/step\n"
     ]
    },
    {
     "data": {
      "text/html": [
       "<div>\n",
       "<style scoped>\n",
       "    .dataframe tbody tr th:only-of-type {\n",
       "        vertical-align: middle;\n",
       "    }\n",
       "\n",
       "    .dataframe tbody tr th {\n",
       "        vertical-align: top;\n",
       "    }\n",
       "\n",
       "    .dataframe thead th {\n",
       "        text-align: right;\n",
       "    }\n",
       "</style>\n",
       "<table border=\"1\" class=\"dataframe\">\n",
       "  <thead>\n",
       "    <tr style=\"text-align: right;\">\n",
       "      <th></th>\n",
       "      <th>Iy</th>\n",
       "      <th>PF</th>\n",
       "      <th>e</th>\n",
       "      <th>dIf</th>\n",
       "      <th>If</th>\n",
       "      <th>If Prediction</th>\n",
       "    </tr>\n",
       "  </thead>\n",
       "  <tbody>\n",
       "    <tr>\n",
       "      <th>0</th>\n",
       "      <td>3.000</td>\n",
       "      <td>0.660</td>\n",
       "      <td>0.340</td>\n",
       "      <td>0.383</td>\n",
       "      <td>1.563</td>\n",
       "      <td>1.566</td>\n",
       "    </tr>\n",
       "    <tr>\n",
       "      <th>9</th>\n",
       "      <td>3.000</td>\n",
       "      <td>0.840</td>\n",
       "      <td>0.160</td>\n",
       "      <td>0.221</td>\n",
       "      <td>1.401</td>\n",
       "      <td>1.538</td>\n",
       "    </tr>\n",
       "    <tr>\n",
       "      <th>23</th>\n",
       "      <td>3.100</td>\n",
       "      <td>0.760</td>\n",
       "      <td>0.240</td>\n",
       "      <td>0.310</td>\n",
       "      <td>1.490</td>\n",
       "      <td>1.325</td>\n",
       "    </tr>\n",
       "    <tr>\n",
       "      <th>28</th>\n",
       "      <td>3.100</td>\n",
       "      <td>0.860</td>\n",
       "      <td>0.140</td>\n",
       "      <td>0.193</td>\n",
       "      <td>1.373</td>\n",
       "      <td>1.421</td>\n",
       "    </tr>\n",
       "    <tr>\n",
       "      <th>42</th>\n",
       "      <td>3.200</td>\n",
       "      <td>0.780</td>\n",
       "      <td>0.220</td>\n",
       "      <td>0.318</td>\n",
       "      <td>1.498</td>\n",
       "      <td>1.495</td>\n",
       "    </tr>\n",
       "    <tr>\n",
       "      <th>...</th>\n",
       "      <td>...</td>\n",
       "      <td>...</td>\n",
       "      <td>...</td>\n",
       "      <td>...</td>\n",
       "      <td>...</td>\n",
       "      <td>...</td>\n",
       "    </tr>\n",
       "    <tr>\n",
       "      <th>91</th>\n",
       "      <td>3.500</td>\n",
       "      <td>0.680</td>\n",
       "      <td>0.320</td>\n",
       "      <td>0.395</td>\n",
       "      <td>1.575</td>\n",
       "      <td>1.736</td>\n",
       "    </tr>\n",
       "    <tr>\n",
       "      <th>94</th>\n",
       "      <td>3.500</td>\n",
       "      <td>0.740</td>\n",
       "      <td>0.260</td>\n",
       "      <td>0.349</td>\n",
       "      <td>1.529</td>\n",
       "      <td>1.456</td>\n",
       "    </tr>\n",
       "    <tr>\n",
       "      <th>95</th>\n",
       "      <td>3.500</td>\n",
       "      <td>0.760</td>\n",
       "      <td>0.240</td>\n",
       "      <td>0.285</td>\n",
       "      <td>1.465</td>\n",
       "      <td>1.326</td>\n",
       "    </tr>\n",
       "    <tr>\n",
       "      <th>98</th>\n",
       "      <td>3.500</td>\n",
       "      <td>0.820</td>\n",
       "      <td>0.180</td>\n",
       "      <td>0.216</td>\n",
       "      <td>1.396</td>\n",
       "      <td>1.823</td>\n",
       "    </tr>\n",
       "    <tr>\n",
       "      <th>99</th>\n",
       "      <td>3.500</td>\n",
       "      <td>0.840</td>\n",
       "      <td>0.160</td>\n",
       "      <td>0.225</td>\n",
       "      <td>1.405</td>\n",
       "      <td>1.657</td>\n",
       "    </tr>\n",
       "  </tbody>\n",
       "</table>\n",
       "<p>22 rows × 6 columns</p>\n",
       "</div>"
      ],
      "text/plain": [
       "      Iy    PF     e   dIf    If  If Prediction\n",
       "0  3.000 0.660 0.340 0.383 1.563          1.566\n",
       "9  3.000 0.840 0.160 0.221 1.401          1.538\n",
       "23 3.100 0.760 0.240 0.310 1.490          1.325\n",
       "28 3.100 0.860 0.140 0.193 1.373          1.421\n",
       "42 3.200 0.780 0.220 0.318 1.498          1.495\n",
       "..   ...   ...   ...   ...   ...            ...\n",
       "91 3.500 0.680 0.320 0.395 1.575          1.736\n",
       "94 3.500 0.740 0.260 0.349 1.529          1.456\n",
       "95 3.500 0.760 0.240 0.285 1.465          1.326\n",
       "98 3.500 0.820 0.180 0.216 1.396          1.823\n",
       "99 3.500 0.840 0.160 0.225 1.405          1.657\n",
       "\n",
       "[22 rows x 6 columns]"
      ]
     },
     "metadata": {},
     "output_type": "display_data"
    },
    {
     "data": {
      "application/vnd.plotly.v1+json": {
       "config": {
        "plotlyServerURL": "https://plot.ly"
       },
       "data": [
        {
         "alignmentgroup": "True",
         "bingroup": "x",
         "hovertemplate": "x=%{x}<br>count=%{y}<extra></extra>",
         "legendgroup": "",
         "marker": {
          "color": "#636efa",
          "pattern": {
           "shape": ""
          }
         },
         "name": "",
         "offsetgroup": "",
         "orientation": "v",
         "showlegend": false,
         "type": "histogram",
         "x": [
          0.0028435821533203676,
          0.005198263168334938,
          0.004223833084106454,
          0.005200411796569826,
          0.004302885055541994,
          0.004402524948120101,
          0.005196052551269537,
          0.005344717979431257,
          0.003703453063964801,
          0.003444995880127033,
          0.005208201408386293,
          0.004294034957885717,
          0.003951308250427221,
          0.0036721801757813033,
          0.005481225013732827,
          0.005201669692993072,
          0.004711597442627058,
          0.0030823230743408647,
          0.003759666442871179,
          0.004918251037597576,
          0.0054935493469239205,
          0.0054106426239013405,
          0.005415889739990298,
          0.004950218200683532,
          0.0050487270355223934,
          0.005633697509765723,
          0.005496835708618253,
          0.0058671932220459855,
          0.005717000961303675,
          0.004089721679687575,
          0.004158782958984419,
          0.0039980068206786346,
          0.002104156494140641,
          0.0005029640197753427,
          0.004421518325805618,
          0.006139081954956049,
          0.006219959259033292,
          0.005486319541931239,
          0.004927824020385829,
          0.006047754287719753,
          0.0061026439666747034,
          0.005735128402710066,
          0.007232582092285167,
          0.005023607254028395,
          0.003630840301513727,
          0.003457244873046772,
          0.006159551620483317,
          0.0024265022277831783,
          0.002565469741821369,
          0.0037993202209472,
          0.0058623056411744034,
          0.006770853042602498,
          0.0032236366271971573,
          0.004352142333984288,
          0.005500171661376951,
          0.0017669010162353338,
          0.0015988960266113406,
          0.0010140361785888619,
          0.007575357437133778,
          0.0019270057678222319,
          0.005318616867065362,
          0.006883988380432138,
          0.002203300476074199,
          0.005975123405456584,
          0.0064107818603516,
          0.0016628818511963406,
          0.004782514572143626,
          0.007115297317504821,
          0.0014284553527832422,
          0.005196615219116296,
          0.005765399932861293,
          0.006271509170532319,
          0.008194719314575272,
          0.0010265865325926882,
          0.0032256450653076474,
          0.003352951049804709,
          0.006178911209106408,
          0.006231433868408187,
          0.009175460815429748,
          0.0010162925720214044,
          -0.001128467559814439,
          0.0024991989135743076,
          0.006224519729614242,
          0.0017012233734130522,
          0.0037561244964599005,
          0.00612023544311513,
          0.007211512565612699,
          0.008088111877441406,
          -0.001350992202758805,
          0.005941590309143097,
          0.008092836380004798,
          0.004097574234008805,
          0.005716806411743214,
          0.0061395835876465465,
          0.006351161003112837,
          0.008444864273071229,
          -0.005803459167480485,
          -0.0017520427703856534,
          0.0024250545501709464,
          0.004818389892578212,
          0.0036658000946045988,
          0.00888621997833261,
          -0.005088344573974668,
          0.002365211486816454,
          0.00007577323913565692,
          0.004111299514770517,
          0.006052806854248027,
          0.008472877502441412,
          0.0029609088897704083,
          -0.0008369617462158363,
          0.005842475891113308
         ],
         "xaxis": "x",
         "yaxis": "y"
        }
       ],
       "layout": {
        "barmode": "relative",
        "legend": {
         "tracegroupgap": 0
        },
        "margin": {
         "t": 60
        },
        "template": {
         "data": {
          "bar": [
           {
            "error_x": {
             "color": "#2a3f5f"
            },
            "error_y": {
             "color": "#2a3f5f"
            },
            "marker": {
             "line": {
              "color": "#E5ECF6",
              "width": 0.5
             },
             "pattern": {
              "fillmode": "overlay",
              "size": 10,
              "solidity": 0.2
             }
            },
            "type": "bar"
           }
          ],
          "barpolar": [
           {
            "marker": {
             "line": {
              "color": "#E5ECF6",
              "width": 0.5
             },
             "pattern": {
              "fillmode": "overlay",
              "size": 10,
              "solidity": 0.2
             }
            },
            "type": "barpolar"
           }
          ],
          "carpet": [
           {
            "aaxis": {
             "endlinecolor": "#2a3f5f",
             "gridcolor": "white",
             "linecolor": "white",
             "minorgridcolor": "white",
             "startlinecolor": "#2a3f5f"
            },
            "baxis": {
             "endlinecolor": "#2a3f5f",
             "gridcolor": "white",
             "linecolor": "white",
             "minorgridcolor": "white",
             "startlinecolor": "#2a3f5f"
            },
            "type": "carpet"
           }
          ],
          "choropleth": [
           {
            "colorbar": {
             "outlinewidth": 0,
             "ticks": ""
            },
            "type": "choropleth"
           }
          ],
          "contour": [
           {
            "colorbar": {
             "outlinewidth": 0,
             "ticks": ""
            },
            "colorscale": [
             [
              0,
              "#0d0887"
             ],
             [
              0.1111111111111111,
              "#46039f"
             ],
             [
              0.2222222222222222,
              "#7201a8"
             ],
             [
              0.3333333333333333,
              "#9c179e"
             ],
             [
              0.4444444444444444,
              "#bd3786"
             ],
             [
              0.5555555555555556,
              "#d8576b"
             ],
             [
              0.6666666666666666,
              "#ed7953"
             ],
             [
              0.7777777777777778,
              "#fb9f3a"
             ],
             [
              0.8888888888888888,
              "#fdca26"
             ],
             [
              1,
              "#f0f921"
             ]
            ],
            "type": "contour"
           }
          ],
          "contourcarpet": [
           {
            "colorbar": {
             "outlinewidth": 0,
             "ticks": ""
            },
            "type": "contourcarpet"
           }
          ],
          "heatmap": [
           {
            "colorbar": {
             "outlinewidth": 0,
             "ticks": ""
            },
            "colorscale": [
             [
              0,
              "#0d0887"
             ],
             [
              0.1111111111111111,
              "#46039f"
             ],
             [
              0.2222222222222222,
              "#7201a8"
             ],
             [
              0.3333333333333333,
              "#9c179e"
             ],
             [
              0.4444444444444444,
              "#bd3786"
             ],
             [
              0.5555555555555556,
              "#d8576b"
             ],
             [
              0.6666666666666666,
              "#ed7953"
             ],
             [
              0.7777777777777778,
              "#fb9f3a"
             ],
             [
              0.8888888888888888,
              "#fdca26"
             ],
             [
              1,
              "#f0f921"
             ]
            ],
            "type": "heatmap"
           }
          ],
          "heatmapgl": [
           {
            "colorbar": {
             "outlinewidth": 0,
             "ticks": ""
            },
            "colorscale": [
             [
              0,
              "#0d0887"
             ],
             [
              0.1111111111111111,
              "#46039f"
             ],
             [
              0.2222222222222222,
              "#7201a8"
             ],
             [
              0.3333333333333333,
              "#9c179e"
             ],
             [
              0.4444444444444444,
              "#bd3786"
             ],
             [
              0.5555555555555556,
              "#d8576b"
             ],
             [
              0.6666666666666666,
              "#ed7953"
             ],
             [
              0.7777777777777778,
              "#fb9f3a"
             ],
             [
              0.8888888888888888,
              "#fdca26"
             ],
             [
              1,
              "#f0f921"
             ]
            ],
            "type": "heatmapgl"
           }
          ],
          "histogram": [
           {
            "marker": {
             "pattern": {
              "fillmode": "overlay",
              "size": 10,
              "solidity": 0.2
             }
            },
            "type": "histogram"
           }
          ],
          "histogram2d": [
           {
            "colorbar": {
             "outlinewidth": 0,
             "ticks": ""
            },
            "colorscale": [
             [
              0,
              "#0d0887"
             ],
             [
              0.1111111111111111,
              "#46039f"
             ],
             [
              0.2222222222222222,
              "#7201a8"
             ],
             [
              0.3333333333333333,
              "#9c179e"
             ],
             [
              0.4444444444444444,
              "#bd3786"
             ],
             [
              0.5555555555555556,
              "#d8576b"
             ],
             [
              0.6666666666666666,
              "#ed7953"
             ],
             [
              0.7777777777777778,
              "#fb9f3a"
             ],
             [
              0.8888888888888888,
              "#fdca26"
             ],
             [
              1,
              "#f0f921"
             ]
            ],
            "type": "histogram2d"
           }
          ],
          "histogram2dcontour": [
           {
            "colorbar": {
             "outlinewidth": 0,
             "ticks": ""
            },
            "colorscale": [
             [
              0,
              "#0d0887"
             ],
             [
              0.1111111111111111,
              "#46039f"
             ],
             [
              0.2222222222222222,
              "#7201a8"
             ],
             [
              0.3333333333333333,
              "#9c179e"
             ],
             [
              0.4444444444444444,
              "#bd3786"
             ],
             [
              0.5555555555555556,
              "#d8576b"
             ],
             [
              0.6666666666666666,
              "#ed7953"
             ],
             [
              0.7777777777777778,
              "#fb9f3a"
             ],
             [
              0.8888888888888888,
              "#fdca26"
             ],
             [
              1,
              "#f0f921"
             ]
            ],
            "type": "histogram2dcontour"
           }
          ],
          "mesh3d": [
           {
            "colorbar": {
             "outlinewidth": 0,
             "ticks": ""
            },
            "type": "mesh3d"
           }
          ],
          "parcoords": [
           {
            "line": {
             "colorbar": {
              "outlinewidth": 0,
              "ticks": ""
             }
            },
            "type": "parcoords"
           }
          ],
          "pie": [
           {
            "automargin": true,
            "type": "pie"
           }
          ],
          "scatter": [
           {
            "fillpattern": {
             "fillmode": "overlay",
             "size": 10,
             "solidity": 0.2
            },
            "type": "scatter"
           }
          ],
          "scatter3d": [
           {
            "line": {
             "colorbar": {
              "outlinewidth": 0,
              "ticks": ""
             }
            },
            "marker": {
             "colorbar": {
              "outlinewidth": 0,
              "ticks": ""
             }
            },
            "type": "scatter3d"
           }
          ],
          "scattercarpet": [
           {
            "marker": {
             "colorbar": {
              "outlinewidth": 0,
              "ticks": ""
             }
            },
            "type": "scattercarpet"
           }
          ],
          "scattergeo": [
           {
            "marker": {
             "colorbar": {
              "outlinewidth": 0,
              "ticks": ""
             }
            },
            "type": "scattergeo"
           }
          ],
          "scattergl": [
           {
            "marker": {
             "colorbar": {
              "outlinewidth": 0,
              "ticks": ""
             }
            },
            "type": "scattergl"
           }
          ],
          "scattermapbox": [
           {
            "marker": {
             "colorbar": {
              "outlinewidth": 0,
              "ticks": ""
             }
            },
            "type": "scattermapbox"
           }
          ],
          "scatterpolar": [
           {
            "marker": {
             "colorbar": {
              "outlinewidth": 0,
              "ticks": ""
             }
            },
            "type": "scatterpolar"
           }
          ],
          "scatterpolargl": [
           {
            "marker": {
             "colorbar": {
              "outlinewidth": 0,
              "ticks": ""
             }
            },
            "type": "scatterpolargl"
           }
          ],
          "scatterternary": [
           {
            "marker": {
             "colorbar": {
              "outlinewidth": 0,
              "ticks": ""
             }
            },
            "type": "scatterternary"
           }
          ],
          "surface": [
           {
            "colorbar": {
             "outlinewidth": 0,
             "ticks": ""
            },
            "colorscale": [
             [
              0,
              "#0d0887"
             ],
             [
              0.1111111111111111,
              "#46039f"
             ],
             [
              0.2222222222222222,
              "#7201a8"
             ],
             [
              0.3333333333333333,
              "#9c179e"
             ],
             [
              0.4444444444444444,
              "#bd3786"
             ],
             [
              0.5555555555555556,
              "#d8576b"
             ],
             [
              0.6666666666666666,
              "#ed7953"
             ],
             [
              0.7777777777777778,
              "#fb9f3a"
             ],
             [
              0.8888888888888888,
              "#fdca26"
             ],
             [
              1,
              "#f0f921"
             ]
            ],
            "type": "surface"
           }
          ],
          "table": [
           {
            "cells": {
             "fill": {
              "color": "#EBF0F8"
             },
             "line": {
              "color": "white"
             }
            },
            "header": {
             "fill": {
              "color": "#C8D4E3"
             },
             "line": {
              "color": "white"
             }
            },
            "type": "table"
           }
          ]
         },
         "layout": {
          "annotationdefaults": {
           "arrowcolor": "#2a3f5f",
           "arrowhead": 0,
           "arrowwidth": 1
          },
          "autotypenumbers": "strict",
          "coloraxis": {
           "colorbar": {
            "outlinewidth": 0,
            "ticks": ""
           }
          },
          "colorscale": {
           "diverging": [
            [
             0,
             "#8e0152"
            ],
            [
             0.1,
             "#c51b7d"
            ],
            [
             0.2,
             "#de77ae"
            ],
            [
             0.3,
             "#f1b6da"
            ],
            [
             0.4,
             "#fde0ef"
            ],
            [
             0.5,
             "#f7f7f7"
            ],
            [
             0.6,
             "#e6f5d0"
            ],
            [
             0.7,
             "#b8e186"
            ],
            [
             0.8,
             "#7fbc41"
            ],
            [
             0.9,
             "#4d9221"
            ],
            [
             1,
             "#276419"
            ]
           ],
           "sequential": [
            [
             0,
             "#0d0887"
            ],
            [
             0.1111111111111111,
             "#46039f"
            ],
            [
             0.2222222222222222,
             "#7201a8"
            ],
            [
             0.3333333333333333,
             "#9c179e"
            ],
            [
             0.4444444444444444,
             "#bd3786"
            ],
            [
             0.5555555555555556,
             "#d8576b"
            ],
            [
             0.6666666666666666,
             "#ed7953"
            ],
            [
             0.7777777777777778,
             "#fb9f3a"
            ],
            [
             0.8888888888888888,
             "#fdca26"
            ],
            [
             1,
             "#f0f921"
            ]
           ],
           "sequentialminus": [
            [
             0,
             "#0d0887"
            ],
            [
             0.1111111111111111,
             "#46039f"
            ],
            [
             0.2222222222222222,
             "#7201a8"
            ],
            [
             0.3333333333333333,
             "#9c179e"
            ],
            [
             0.4444444444444444,
             "#bd3786"
            ],
            [
             0.5555555555555556,
             "#d8576b"
            ],
            [
             0.6666666666666666,
             "#ed7953"
            ],
            [
             0.7777777777777778,
             "#fb9f3a"
            ],
            [
             0.8888888888888888,
             "#fdca26"
            ],
            [
             1,
             "#f0f921"
            ]
           ]
          },
          "colorway": [
           "#636efa",
           "#EF553B",
           "#00cc96",
           "#ab63fa",
           "#FFA15A",
           "#19d3f3",
           "#FF6692",
           "#B6E880",
           "#FF97FF",
           "#FECB52"
          ],
          "font": {
           "color": "#2a3f5f"
          },
          "geo": {
           "bgcolor": "white",
           "lakecolor": "white",
           "landcolor": "#E5ECF6",
           "showlakes": true,
           "showland": true,
           "subunitcolor": "white"
          },
          "hoverlabel": {
           "align": "left"
          },
          "hovermode": "closest",
          "mapbox": {
           "style": "light"
          },
          "paper_bgcolor": "white",
          "plot_bgcolor": "#E5ECF6",
          "polar": {
           "angularaxis": {
            "gridcolor": "white",
            "linecolor": "white",
            "ticks": ""
           },
           "bgcolor": "#E5ECF6",
           "radialaxis": {
            "gridcolor": "white",
            "linecolor": "white",
            "ticks": ""
           }
          },
          "scene": {
           "xaxis": {
            "backgroundcolor": "#E5ECF6",
            "gridcolor": "white",
            "gridwidth": 2,
            "linecolor": "white",
            "showbackground": true,
            "ticks": "",
            "zerolinecolor": "white"
           },
           "yaxis": {
            "backgroundcolor": "#E5ECF6",
            "gridcolor": "white",
            "gridwidth": 2,
            "linecolor": "white",
            "showbackground": true,
            "ticks": "",
            "zerolinecolor": "white"
           },
           "zaxis": {
            "backgroundcolor": "#E5ECF6",
            "gridcolor": "white",
            "gridwidth": 2,
            "linecolor": "white",
            "showbackground": true,
            "ticks": "",
            "zerolinecolor": "white"
           }
          },
          "shapedefaults": {
           "line": {
            "color": "#2a3f5f"
           }
          },
          "ternary": {
           "aaxis": {
            "gridcolor": "white",
            "linecolor": "white",
            "ticks": ""
           },
           "baxis": {
            "gridcolor": "white",
            "linecolor": "white",
            "ticks": ""
           },
           "bgcolor": "#E5ECF6",
           "caxis": {
            "gridcolor": "white",
            "linecolor": "white",
            "ticks": ""
           }
          },
          "title": {
           "x": 0.05
          },
          "xaxis": {
           "automargin": true,
           "gridcolor": "white",
           "linecolor": "white",
           "ticks": "",
           "title": {
            "standoff": 15
           },
           "zerolinecolor": "white",
           "zerolinewidth": 2
          },
          "yaxis": {
           "automargin": true,
           "gridcolor": "white",
           "linecolor": "white",
           "ticks": "",
           "title": {
            "standoff": 15
           },
           "zerolinecolor": "white",
           "zerolinewidth": 2
          }
         }
        },
        "xaxis": {
         "anchor": "y",
         "domain": [
          0,
          1
         ],
         "title": {
          "text": "x"
         }
        },
        "yaxis": {
         "anchor": "x",
         "domain": [
          0,
          1
         ],
         "title": {
          "text": "count"
         }
        }
       }
      }
     },
     "metadata": {},
     "output_type": "display_data"
    },
    {
     "data": {
      "image/png": "[encoded data removed]",
      "text/plain": [
       "<Figure size 640x480 with 1 Axes>"
      ]
     },
     "metadata": {},
     "output_type": "display_data"
    }
   ],
   "source": [
    "test_predictions = model.predict(normed_test_data).flatten()\n",
    "plt.scatter(test_labels, test_predictions)\n",
    "plt.xlabel('True Values [If]')\n",
    "plt.ylabel('Predictions [If]')\n",
    "plt.axis('equal')\n",
    "plt.axis('square')\n",
    "plt.xlim([1.2,plt.xlim()[1]])\n",
    "plt.ylim([1.2,plt.ylim()[1]])\n",
    "_ = plt.plot([-100, 100], [-100, 100])\n",
    "\n",
    "test_predictions_df = pd.DataFrame(test_predictions, columns=['If Prediction'])\n",
    "test_predictions_df\n",
    "\n",
    "results = pd.concat([test_df, test_labels, test_predictions_df], axis=1, join='inner')\n",
    "display(results)\n",
    "\n",
    "error = test_predictions - test_labels\n",
    "px.histogram(x=error).show()\n"
   ]
  }
 ],
 "metadata": {
  "kernelspec": {
   "display_name": "Python 3",
   "language": "python",
   "name": "python3"
  },
  "language_info": {
   "codemirror_mode": {
    "name": "ipython",
    "version": 3
   },
   "file_extension": ".py",
   "mimetype": "text/x-python",
   "name": "python",
   "nbconvert_exporter": "python",
   "pygments_lexer": "ipython3",
   "version": "3.10.11"
  },
  "orig_nbformat": 4,
  "vscode": {
   "interpreter": {
    "hash": "b348c49d08ee7a97c598361ac32aefffc4242a551b47fcd1f9b5299b01841616"
   }
  }
 },
 "nbformat": 4,
 "nbformat_minor": 2
}
