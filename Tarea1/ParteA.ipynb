{
 "cells": [
  {
   "attachments": {},
   "cell_type": "markdown",
   "metadata": {},
   "source": [
    "# Importación de módulos"
   ]
  },
  {
   "cell_type": "code",
   "execution_count": 348,
   "metadata": {},
   "outputs": [],
   "source": [
    "import pandas as pd\n",
    "import numpy as np\n",
    "import plotly.express as px\n",
    "import tensorflow as tf\n",
    "\n",
    "from IPython.display import display\n",
    "import plotly.graph_objects as go\n",
    "from plotly.subplots import make_subplots"
   ]
  },
  {
   "attachments": {},
   "cell_type": "markdown",
   "metadata": {},
   "source": [
    "# Importación de datos"
   ]
  },
  {
   "cell_type": "code",
   "execution_count": 349,
   "metadata": {},
   "outputs": [
    {
     "data": {
      "text/html": [
       "<div>\n",
       "<style scoped>\n",
       "    .dataframe tbody tr th:only-of-type {\n",
       "        vertical-align: middle;\n",
       "    }\n",
       "\n",
       "    .dataframe tbody tr th {\n",
       "        vertical-align: top;\n",
       "    }\n",
       "\n",
       "    .dataframe thead th {\n",
       "        text-align: right;\n",
       "    }\n",
       "</style>\n",
       "<table border=\"1\" class=\"dataframe\">\n",
       "  <thead>\n",
       "    <tr style=\"text-align: right;\">\n",
       "      <th></th>\n",
       "      <th>Iy</th>\n",
       "      <th>PF</th>\n",
       "      <th>e</th>\n",
       "      <th>dIf</th>\n",
       "      <th>If</th>\n",
       "    </tr>\n",
       "  </thead>\n",
       "  <tbody>\n",
       "    <tr>\n",
       "      <th>0</th>\n",
       "      <td>3.0</td>\n",
       "      <td>0.66</td>\n",
       "      <td>0.34</td>\n",
       "      <td>0.383</td>\n",
       "      <td>1.563</td>\n",
       "    </tr>\n",
       "    <tr>\n",
       "      <th>1</th>\n",
       "      <td>3.0</td>\n",
       "      <td>0.68</td>\n",
       "      <td>0.32</td>\n",
       "      <td>0.372</td>\n",
       "      <td>1.552</td>\n",
       "    </tr>\n",
       "    <tr>\n",
       "      <th>2</th>\n",
       "      <td>3.0</td>\n",
       "      <td>0.70</td>\n",
       "      <td>0.30</td>\n",
       "      <td>0.360</td>\n",
       "      <td>1.540</td>\n",
       "    </tr>\n",
       "    <tr>\n",
       "      <th>3</th>\n",
       "      <td>3.0</td>\n",
       "      <td>0.72</td>\n",
       "      <td>0.28</td>\n",
       "      <td>0.338</td>\n",
       "      <td>1.518</td>\n",
       "    </tr>\n",
       "    <tr>\n",
       "      <th>4</th>\n",
       "      <td>3.0</td>\n",
       "      <td>0.74</td>\n",
       "      <td>0.26</td>\n",
       "      <td>0.317</td>\n",
       "      <td>1.497</td>\n",
       "    </tr>\n",
       "    <tr>\n",
       "      <th>...</th>\n",
       "      <td>...</td>\n",
       "      <td>...</td>\n",
       "      <td>...</td>\n",
       "      <td>...</td>\n",
       "      <td>...</td>\n",
       "    </tr>\n",
       "    <tr>\n",
       "      <th>552</th>\n",
       "      <td>6.0</td>\n",
       "      <td>0.91</td>\n",
       "      <td>0.09</td>\n",
       "      <td>0.142</td>\n",
       "      <td>1.322</td>\n",
       "    </tr>\n",
       "    <tr>\n",
       "      <th>553</th>\n",
       "      <td>6.0</td>\n",
       "      <td>0.93</td>\n",
       "      <td>0.07</td>\n",
       "      <td>0.151</td>\n",
       "      <td>1.331</td>\n",
       "    </tr>\n",
       "    <tr>\n",
       "      <th>554</th>\n",
       "      <td>6.0</td>\n",
       "      <td>0.95</td>\n",
       "      <td>0.05</td>\n",
       "      <td>0.160</td>\n",
       "      <td>1.340</td>\n",
       "    </tr>\n",
       "    <tr>\n",
       "      <th>555</th>\n",
       "      <td>6.0</td>\n",
       "      <td>0.97</td>\n",
       "      <td>0.03</td>\n",
       "      <td>0.160</td>\n",
       "      <td>1.340</td>\n",
       "    </tr>\n",
       "    <tr>\n",
       "      <th>556</th>\n",
       "      <td>6.0</td>\n",
       "      <td>0.99</td>\n",
       "      <td>0.01</td>\n",
       "      <td>0.160</td>\n",
       "      <td>1.340</td>\n",
       "    </tr>\n",
       "  </tbody>\n",
       "</table>\n",
       "<p>557 rows × 5 columns</p>\n",
       "</div>"
      ],
      "text/plain": [
       "      Iy    PF     e    dIf     If\n",
       "0    3.0  0.66  0.34  0.383  1.563\n",
       "1    3.0  0.68  0.32  0.372  1.552\n",
       "2    3.0  0.70  0.30  0.360  1.540\n",
       "3    3.0  0.72  0.28  0.338  1.518\n",
       "4    3.0  0.74  0.26  0.317  1.497\n",
       "..   ...   ...   ...    ...    ...\n",
       "552  6.0  0.91  0.09  0.142  1.322\n",
       "553  6.0  0.93  0.07  0.151  1.331\n",
       "554  6.0  0.95  0.05  0.160  1.340\n",
       "555  6.0  0.97  0.03  0.160  1.340\n",
       "556  6.0  0.99  0.01  0.160  1.340\n",
       "\n",
       "[557 rows x 5 columns]"
      ]
     },
     "execution_count": 349,
     "metadata": {},
     "output_type": "execute_result"
    }
   ],
   "source": [
    "# Copia los datos de un documento CSV en un DataFrame.\n",
    "data_df = pd.read_csv('synchronous_machine.csv')\n",
    "data_df"
   ]
  },
  {
   "attachments": {},
   "cell_type": "markdown",
   "metadata": {},
   "source": [
    "# Análisis de los datos"
   ]
  },
  {
   "cell_type": "code",
   "execution_count": 350,
   "metadata": {},
   "outputs": [
    {
     "data": {
      "text/html": [
       "<div>\n",
       "<style scoped>\n",
       "    .dataframe tbody tr th:only-of-type {\n",
       "        vertical-align: middle;\n",
       "    }\n",
       "\n",
       "    .dataframe tbody tr th {\n",
       "        vertical-align: top;\n",
       "    }\n",
       "\n",
       "    .dataframe thead th {\n",
       "        text-align: right;\n",
       "    }\n",
       "</style>\n",
       "<table border=\"1\" class=\"dataframe\">\n",
       "  <thead>\n",
       "    <tr style=\"text-align: right;\">\n",
       "      <th></th>\n",
       "      <th>Iy</th>\n",
       "      <th>PF</th>\n",
       "      <th>e</th>\n",
       "      <th>dIf</th>\n",
       "      <th>If</th>\n",
       "    </tr>\n",
       "  </thead>\n",
       "  <tbody>\n",
       "    <tr>\n",
       "      <th>count</th>\n",
       "      <td>557.000000</td>\n",
       "      <td>557.000000</td>\n",
       "      <td>557.000000</td>\n",
       "      <td>557.000000</td>\n",
       "      <td>557.000000</td>\n",
       "    </tr>\n",
       "    <tr>\n",
       "      <th>mean</th>\n",
       "      <td>4.499820</td>\n",
       "      <td>0.825296</td>\n",
       "      <td>0.174704</td>\n",
       "      <td>0.350659</td>\n",
       "      <td>1.530659</td>\n",
       "    </tr>\n",
       "    <tr>\n",
       "      <th>std</th>\n",
       "      <td>0.896024</td>\n",
       "      <td>0.103925</td>\n",
       "      <td>0.103925</td>\n",
       "      <td>0.180566</td>\n",
       "      <td>0.180566</td>\n",
       "    </tr>\n",
       "    <tr>\n",
       "      <th>min</th>\n",
       "      <td>3.000000</td>\n",
       "      <td>0.650000</td>\n",
       "      <td>0.000000</td>\n",
       "      <td>0.037000</td>\n",
       "      <td>1.217000</td>\n",
       "    </tr>\n",
       "    <tr>\n",
       "      <th>25%</th>\n",
       "      <td>3.700000</td>\n",
       "      <td>0.740000</td>\n",
       "      <td>0.080000</td>\n",
       "      <td>0.189000</td>\n",
       "      <td>1.369000</td>\n",
       "    </tr>\n",
       "    <tr>\n",
       "      <th>50%</th>\n",
       "      <td>4.500000</td>\n",
       "      <td>0.820000</td>\n",
       "      <td>0.180000</td>\n",
       "      <td>0.345000</td>\n",
       "      <td>1.525000</td>\n",
       "    </tr>\n",
       "    <tr>\n",
       "      <th>75%</th>\n",
       "      <td>5.300000</td>\n",
       "      <td>0.920000</td>\n",
       "      <td>0.260000</td>\n",
       "      <td>0.486000</td>\n",
       "      <td>1.666000</td>\n",
       "    </tr>\n",
       "    <tr>\n",
       "      <th>max</th>\n",
       "      <td>6.000000</td>\n",
       "      <td>1.000000</td>\n",
       "      <td>0.350000</td>\n",
       "      <td>0.769000</td>\n",
       "      <td>1.949000</td>\n",
       "    </tr>\n",
       "  </tbody>\n",
       "</table>\n",
       "</div>"
      ],
      "text/plain": [
       "               Iy          PF           e         dIf          If\n",
       "count  557.000000  557.000000  557.000000  557.000000  557.000000\n",
       "mean     4.499820    0.825296    0.174704    0.350659    1.530659\n",
       "std      0.896024    0.103925    0.103925    0.180566    0.180566\n",
       "min      3.000000    0.650000    0.000000    0.037000    1.217000\n",
       "25%      3.700000    0.740000    0.080000    0.189000    1.369000\n",
       "50%      4.500000    0.820000    0.180000    0.345000    1.525000\n",
       "75%      5.300000    0.920000    0.260000    0.486000    1.666000\n",
       "max      6.000000    1.000000    0.350000    0.769000    1.949000"
      ]
     },
     "metadata": {},
     "output_type": "display_data"
    },
    {
     "data": {
      "text/plain": [
       "Iy     0\n",
       "PF     0\n",
       "e      0\n",
       "dIf    0\n",
       "If     0\n",
       "dtype: int64"
      ]
     },
     "metadata": {},
     "output_type": "display_data"
    },
    {
     "data": {
      "application/vnd.plotly.v1+json": {
       "config": {
        "plotlyServerURL": "https://plot.ly"
       },
       "data": [
        {
         "alignmentgroup": "True",
         "hovertemplate": "Iy=%{y}<extra></extra>",
         "legendgroup": "",
         "marker": {
          "color": "#636efa"
         },
         "name": "",
         "notched": false,
         "offsetgroup": "",
         "orientation": "v",
         "showlegend": false,
         "type": "box",
         "x0": " ",
         "xaxis": "x",
         "y": [
          3,
          3,
          3,
          3,
          3,
          3,
          3,
          3,
          3,
          3,
          3,
          3,
          3,
          3,
          3,
          3,
          3,
          3,
          3.1,
          3.1,
          3.1,
          3.1,
          3.1,
          3.1,
          3.1,
          3.1,
          3.1,
          3.1,
          3.1,
          3.1,
          3.1,
          3.1,
          3.1,
          3.1,
          3.1,
          3.1,
          3.2,
          3.2,
          3.2,
          3.2,
          3.2,
          3.2,
          3.2,
          3.2,
          3.2,
          3.2,
          3.2,
          3.2,
          3.2,
          3.2,
          3.2,
          3.2,
          3.2,
          3.2,
          3.3,
          3.3,
          3.3,
          3.3,
          3.3,
          3.3,
          3.3,
          3.3,
          3.3,
          3.3,
          3.3,
          3.3,
          3.3,
          3.3,
          3.3,
          3.3,
          3.3,
          3.3,
          3.4,
          3.4,
          3.4,
          3.4,
          3.4,
          3.4,
          3.4,
          3.4,
          3.4,
          3.4,
          3.4,
          3.4,
          3.4,
          3.4,
          3.4,
          3.4,
          3.4,
          3.4,
          3.5,
          3.5,
          3.5,
          3.5,
          3.5,
          3.5,
          3.5,
          3.5,
          3.5,
          3.5,
          3.5,
          3.5,
          3.5,
          3.5,
          3.5,
          3.5,
          3.5,
          3.5,
          3.6,
          3.6,
          3.8,
          3.8,
          3.8,
          3.8,
          3.8,
          3.7,
          3.7,
          3.6,
          3.7,
          3.7,
          3.7,
          3.6,
          3.6,
          3.6,
          3.6,
          3.8,
          3.7,
          3.8,
          3.6,
          3.7,
          3.8,
          3.6,
          3.7,
          3.6,
          3.8,
          3.7,
          3.8,
          3.6,
          3.7,
          3.6,
          3.8,
          3.7,
          3.6,
          3.8,
          3.7,
          3.6,
          3.8,
          3.7,
          3.6,
          3.8,
          3.7,
          3.6,
          3.8,
          3.7,
          3.9,
          3.6,
          3.8,
          3.7,
          3.9,
          3.8,
          3.7,
          3.9,
          3.8,
          3.7,
          3.6,
          3.9,
          3.9,
          3.9,
          3.9,
          3.9,
          3.9,
          3.9,
          4,
          4,
          4,
          4,
          4,
          3.9,
          3.9,
          3.9,
          3.9,
          3.9,
          4.1,
          4,
          4.1,
          4,
          4,
          4.1,
          4.1,
          4.1,
          3.9,
          3.9,
          3.9,
          4,
          4.1,
          4,
          4.1,
          4.1,
          4,
          4,
          4,
          4.1,
          4.1,
          4,
          4,
          4.1,
          4,
          4.1,
          4,
          4.1,
          4,
          4.1,
          4.1,
          4.2,
          4.1,
          4.2,
          4.1,
          4.1,
          4.3,
          4.3,
          4.3,
          4.3,
          4.3,
          4.2,
          4.2,
          4.2,
          4.2,
          4.2,
          4.3,
          4.3,
          4.2,
          4.3,
          4.2,
          4.2,
          4.3,
          4.2,
          4.3,
          4.2,
          4.3,
          4.2,
          4.3,
          4.2,
          4.3,
          4.2,
          4.3,
          4.2,
          4.3,
          4.2,
          4.3,
          4.3,
          4.3,
          4.2,
          4.4,
          4.4,
          4.4,
          4.4,
          4.4,
          4.4,
          4.4,
          4.4,
          4.4,
          4.4,
          4.4,
          4.4,
          4.4,
          4.4,
          4.4,
          4.4,
          4.4,
          4.4,
          4.5,
          4.5,
          4.5,
          4.5,
          4.5,
          4.5,
          4.5,
          4.5,
          4.5,
          4.5,
          4.5,
          4.5,
          4.5,
          4.5,
          4.5,
          4.5,
          4.5,
          4.5,
          4.6,
          4.6,
          4.6,
          4.6,
          4.6,
          4.6,
          4.6,
          4.6,
          4.6,
          4.6,
          4.6,
          4.6,
          4.6,
          4.6,
          4.6,
          4.6,
          4.6,
          4.7,
          4.7,
          4.7,
          4.7,
          4.7,
          4.7,
          4.7,
          4.7,
          4.7,
          4.7,
          4.7,
          4.7,
          4.7,
          4.7,
          4.7,
          4.7,
          4.7,
          4.7,
          4.8,
          4.8,
          4.8,
          4.8,
          4.8,
          4.8,
          4.8,
          4.8,
          4.8,
          4.8,
          4.8,
          4.8,
          4.8,
          4.8,
          4.8,
          4.8,
          4.8,
          4.8,
          4.9,
          4.9,
          4.9,
          4.9,
          4.9,
          4.9,
          4.9,
          4.9,
          4.9,
          4.9,
          4.9,
          4.9,
          4.9,
          4.9,
          4.9,
          4.9,
          4.9,
          4.9,
          5,
          5,
          5,
          5,
          5,
          5,
          5,
          5,
          5,
          5,
          5,
          5,
          5,
          5,
          5,
          5,
          5,
          5,
          5.1,
          5.1,
          5.1,
          5.1,
          5.1,
          5.1,
          5.1,
          5.1,
          5.1,
          5.1,
          5.1,
          5.1,
          5.1,
          5.1,
          5.1,
          5.1,
          5.1,
          5.1,
          5.2,
          5.2,
          5.2,
          5.2,
          5.2,
          5.2,
          5.2,
          5.2,
          5.2,
          5.2,
          5.2,
          5.2,
          5.2,
          5.2,
          5.2,
          5.2,
          5.2,
          5.2,
          5.3,
          5.3,
          5.3,
          5.3,
          5.3,
          5.3,
          5.3,
          5.3,
          5.3,
          5.3,
          5.3,
          5.3,
          5.3,
          5.3,
          5.3,
          5.3,
          5.3,
          5.3,
          5.4,
          5.4,
          5.4,
          5.4,
          5.4,
          5.4,
          5.4,
          5.4,
          5.4,
          5.4,
          5.4,
          5.4,
          5.4,
          5.4,
          5.4,
          5.4,
          5.4,
          5.4,
          5.5,
          5.5,
          5.5,
          5.5,
          5.5,
          5.5,
          5.5,
          5.5,
          5.5,
          5.5,
          5.5,
          5.5,
          5.5,
          5.5,
          5.5,
          5.5,
          5.5,
          5.5,
          5.6,
          5.6,
          5.6,
          5.6,
          5.6,
          5.6,
          5.6,
          5.6,
          5.6,
          5.6,
          5.6,
          5.6,
          5.6,
          5.6,
          5.6,
          5.6,
          5.6,
          5.6,
          5.7,
          5.7,
          5.7,
          5.7,
          5.7,
          5.7,
          5.7,
          5.7,
          5.7,
          5.7,
          5.7,
          5.7,
          5.7,
          5.7,
          5.7,
          5.7,
          5.7,
          5.7,
          5.8,
          5.8,
          5.8,
          5.8,
          5.8,
          5.8,
          5.8,
          5.8,
          5.8,
          5.8,
          5.8,
          5.8,
          5.8,
          5.8,
          5.8,
          5.8,
          5.8,
          5.8,
          5.9,
          5.9,
          5.9,
          5.9,
          5.9,
          5.9,
          5.9,
          5.9,
          5.9,
          5.9,
          5.9,
          5.9,
          5.9,
          5.9,
          5.9,
          5.9,
          5.9,
          5.9,
          6,
          6,
          6,
          6,
          6,
          6,
          6,
          6,
          6,
          6,
          6,
          6,
          6,
          6,
          6,
          6,
          6,
          6
         ],
         "y0": " ",
         "yaxis": "y"
        }
       ],
       "layout": {
        "boxmode": "group",
        "legend": {
         "tracegroupgap": 0
        },
        "margin": {
         "t": 60
        },
        "template": {
         "data": {
          "bar": [
           {
            "error_x": {
             "color": "#2a3f5f"
            },
            "error_y": {
             "color": "#2a3f5f"
            },
            "marker": {
             "line": {
              "color": "#E5ECF6",
              "width": 0.5
             },
             "pattern": {
              "fillmode": "overlay",
              "size": 10,
              "solidity": 0.2
             }
            },
            "type": "bar"
           }
          ],
          "barpolar": [
           {
            "marker": {
             "line": {
              "color": "#E5ECF6",
              "width": 0.5
             },
             "pattern": {
              "fillmode": "overlay",
              "size": 10,
              "solidity": 0.2
             }
            },
            "type": "barpolar"
           }
          ],
          "carpet": [
           {
            "aaxis": {
             "endlinecolor": "#2a3f5f",
             "gridcolor": "white",
             "linecolor": "white",
             "minorgridcolor": "white",
             "startlinecolor": "#2a3f5f"
            },
            "baxis": {
             "endlinecolor": "#2a3f5f",
             "gridcolor": "white",
             "linecolor": "white",
             "minorgridcolor": "white",
             "startlinecolor": "#2a3f5f"
            },
            "type": "carpet"
           }
          ],
          "choropleth": [
           {
            "colorbar": {
             "outlinewidth": 0,
             "ticks": ""
            },
            "type": "choropleth"
           }
          ],
          "contour": [
           {
            "colorbar": {
             "outlinewidth": 0,
             "ticks": ""
            },
            "colorscale": [
             [
              0,
              "#0d0887"
             ],
             [
              0.1111111111111111,
              "#46039f"
             ],
             [
              0.2222222222222222,
              "#7201a8"
             ],
             [
              0.3333333333333333,
              "#9c179e"
             ],
             [
              0.4444444444444444,
              "#bd3786"
             ],
             [
              0.5555555555555556,
              "#d8576b"
             ],
             [
              0.6666666666666666,
              "#ed7953"
             ],
             [
              0.7777777777777778,
              "#fb9f3a"
             ],
             [
              0.8888888888888888,
              "#fdca26"
             ],
             [
              1,
              "#f0f921"
             ]
            ],
            "type": "contour"
           }
          ],
          "contourcarpet": [
           {
            "colorbar": {
             "outlinewidth": 0,
             "ticks": ""
            },
            "type": "contourcarpet"
           }
          ],
          "heatmap": [
           {
            "colorbar": {
             "outlinewidth": 0,
             "ticks": ""
            },
            "colorscale": [
             [
              0,
              "#0d0887"
             ],
             [
              0.1111111111111111,
              "#46039f"
             ],
             [
              0.2222222222222222,
              "#7201a8"
             ],
             [
              0.3333333333333333,
              "#9c179e"
             ],
             [
              0.4444444444444444,
              "#bd3786"
             ],
             [
              0.5555555555555556,
              "#d8576b"
             ],
             [
              0.6666666666666666,
              "#ed7953"
             ],
             [
              0.7777777777777778,
              "#fb9f3a"
             ],
             [
              0.8888888888888888,
              "#fdca26"
             ],
             [
              1,
              "#f0f921"
             ]
            ],
            "type": "heatmap"
           }
          ],
          "heatmapgl": [
           {
            "colorbar": {
             "outlinewidth": 0,
             "ticks": ""
            },
            "colorscale": [
             [
              0,
              "#0d0887"
             ],
             [
              0.1111111111111111,
              "#46039f"
             ],
             [
              0.2222222222222222,
              "#7201a8"
             ],
             [
              0.3333333333333333,
              "#9c179e"
             ],
             [
              0.4444444444444444,
              "#bd3786"
             ],
             [
              0.5555555555555556,
              "#d8576b"
             ],
             [
              0.6666666666666666,
              "#ed7953"
             ],
             [
              0.7777777777777778,
              "#fb9f3a"
             ],
             [
              0.8888888888888888,
              "#fdca26"
             ],
             [
              1,
              "#f0f921"
             ]
            ],
            "type": "heatmapgl"
           }
          ],
          "histogram": [
           {
            "marker": {
             "pattern": {
              "fillmode": "overlay",
              "size": 10,
              "solidity": 0.2
             }
            },
            "type": "histogram"
           }
          ],
          "histogram2d": [
           {
            "colorbar": {
             "outlinewidth": 0,
             "ticks": ""
            },
            "colorscale": [
             [
              0,
              "#0d0887"
             ],
             [
              0.1111111111111111,
              "#46039f"
             ],
             [
              0.2222222222222222,
              "#7201a8"
             ],
             [
              0.3333333333333333,
              "#9c179e"
             ],
             [
              0.4444444444444444,
              "#bd3786"
             ],
             [
              0.5555555555555556,
              "#d8576b"
             ],
             [
              0.6666666666666666,
              "#ed7953"
             ],
             [
              0.7777777777777778,
              "#fb9f3a"
             ],
             [
              0.8888888888888888,
              "#fdca26"
             ],
             [
              1,
              "#f0f921"
             ]
            ],
            "type": "histogram2d"
           }
          ],
          "histogram2dcontour": [
           {
            "colorbar": {
             "outlinewidth": 0,
             "ticks": ""
            },
            "colorscale": [
             [
              0,
              "#0d0887"
             ],
             [
              0.1111111111111111,
              "#46039f"
             ],
             [
              0.2222222222222222,
              "#7201a8"
             ],
             [
              0.3333333333333333,
              "#9c179e"
             ],
             [
              0.4444444444444444,
              "#bd3786"
             ],
             [
              0.5555555555555556,
              "#d8576b"
             ],
             [
              0.6666666666666666,
              "#ed7953"
             ],
             [
              0.7777777777777778,
              "#fb9f3a"
             ],
             [
              0.8888888888888888,
              "#fdca26"
             ],
             [
              1,
              "#f0f921"
             ]
            ],
            "type": "histogram2dcontour"
           }
          ],
          "mesh3d": [
           {
            "colorbar": {
             "outlinewidth": 0,
             "ticks": ""
            },
            "type": "mesh3d"
           }
          ],
          "parcoords": [
           {
            "line": {
             "colorbar": {
              "outlinewidth": 0,
              "ticks": ""
             }
            },
            "type": "parcoords"
           }
          ],
          "pie": [
           {
            "automargin": true,
            "type": "pie"
           }
          ],
          "scatter": [
           {
            "fillpattern": {
             "fillmode": "overlay",
             "size": 10,
             "solidity": 0.2
            },
            "type": "scatter"
           }
          ],
          "scatter3d": [
           {
            "line": {
             "colorbar": {
              "outlinewidth": 0,
              "ticks": ""
             }
            },
            "marker": {
             "colorbar": {
              "outlinewidth": 0,
              "ticks": ""
             }
            },
            "type": "scatter3d"
           }
          ],
          "scattercarpet": [
           {
            "marker": {
             "colorbar": {
              "outlinewidth": 0,
              "ticks": ""
             }
            },
            "type": "scattercarpet"
           }
          ],
          "scattergeo": [
           {
            "marker": {
             "colorbar": {
              "outlinewidth": 0,
              "ticks": ""
             }
            },
            "type": "scattergeo"
           }
          ],
          "scattergl": [
           {
            "marker": {
             "colorbar": {
              "outlinewidth": 0,
              "ticks": ""
             }
            },
            "type": "scattergl"
           }
          ],
          "scattermapbox": [
           {
            "marker": {
             "colorbar": {
              "outlinewidth": 0,
              "ticks": ""
             }
            },
            "type": "scattermapbox"
           }
          ],
          "scatterpolar": [
           {
            "marker": {
             "colorbar": {
              "outlinewidth": 0,
              "ticks": ""
             }
            },
            "type": "scatterpolar"
           }
          ],
          "scatterpolargl": [
           {
            "marker": {
             "colorbar": {
              "outlinewidth": 0,
              "ticks": ""
             }
            },
            "type": "scatterpolargl"
           }
          ],
          "scatterternary": [
           {
            "marker": {
             "colorbar": {
              "outlinewidth": 0,
              "ticks": ""
             }
            },
            "type": "scatterternary"
           }
          ],
          "surface": [
           {
            "colorbar": {
             "outlinewidth": 0,
             "ticks": ""
            },
            "colorscale": [
             [
              0,
              "#0d0887"
             ],
             [
              0.1111111111111111,
              "#46039f"
             ],
             [
              0.2222222222222222,
              "#7201a8"
             ],
             [
              0.3333333333333333,
              "#9c179e"
             ],
             [
              0.4444444444444444,
              "#bd3786"
             ],
             [
              0.5555555555555556,
              "#d8576b"
             ],
             [
              0.6666666666666666,
              "#ed7953"
             ],
             [
              0.7777777777777778,
              "#fb9f3a"
             ],
             [
              0.8888888888888888,
              "#fdca26"
             ],
             [
              1,
              "#f0f921"
             ]
            ],
            "type": "surface"
           }
          ],
          "table": [
           {
            "cells": {
             "fill": {
              "color": "#EBF0F8"
             },
             "line": {
              "color": "white"
             }
            },
            "header": {
             "fill": {
              "color": "#C8D4E3"
             },
             "line": {
              "color": "white"
             }
            },
            "type": "table"
           }
          ]
         },
         "layout": {
          "annotationdefaults": {
           "arrowcolor": "#2a3f5f",
           "arrowhead": 0,
           "arrowwidth": 1
          },
          "autotypenumbers": "strict",
          "coloraxis": {
           "colorbar": {
            "outlinewidth": 0,
            "ticks": ""
           }
          },
          "colorscale": {
           "diverging": [
            [
             0,
             "#8e0152"
            ],
            [
             0.1,
             "#c51b7d"
            ],
            [
             0.2,
             "#de77ae"
            ],
            [
             0.3,
             "#f1b6da"
            ],
            [
             0.4,
             "#fde0ef"
            ],
            [
             0.5,
             "#f7f7f7"
            ],
            [
             0.6,
             "#e6f5d0"
            ],
            [
             0.7,
             "#b8e186"
            ],
            [
             0.8,
             "#7fbc41"
            ],
            [
             0.9,
             "#4d9221"
            ],
            [
             1,
             "#276419"
            ]
           ],
           "sequential": [
            [
             0,
             "#0d0887"
            ],
            [
             0.1111111111111111,
             "#46039f"
            ],
            [
             0.2222222222222222,
             "#7201a8"
            ],
            [
             0.3333333333333333,
             "#9c179e"
            ],
            [
             0.4444444444444444,
             "#bd3786"
            ],
            [
             0.5555555555555556,
             "#d8576b"
            ],
            [
             0.6666666666666666,
             "#ed7953"
            ],
            [
             0.7777777777777778,
             "#fb9f3a"
            ],
            [
             0.8888888888888888,
             "#fdca26"
            ],
            [
             1,
             "#f0f921"
            ]
           ],
           "sequentialminus": [
            [
             0,
             "#0d0887"
            ],
            [
             0.1111111111111111,
             "#46039f"
            ],
            [
             0.2222222222222222,
             "#7201a8"
            ],
            [
             0.3333333333333333,
             "#9c179e"
            ],
            [
             0.4444444444444444,
             "#bd3786"
            ],
            [
             0.5555555555555556,
             "#d8576b"
            ],
            [
             0.6666666666666666,
             "#ed7953"
            ],
            [
             0.7777777777777778,
             "#fb9f3a"
            ],
            [
             0.8888888888888888,
             "#fdca26"
            ],
            [
             1,
             "#f0f921"
            ]
           ]
          },
          "colorway": [
           "#636efa",
           "#EF553B",
           "#00cc96",
           "#ab63fa",
           "#FFA15A",
           "#19d3f3",
           "#FF6692",
           "#B6E880",
           "#FF97FF",
           "#FECB52"
          ],
          "font": {
           "color": "#2a3f5f"
          },
          "geo": {
           "bgcolor": "white",
           "lakecolor": "white",
           "landcolor": "#E5ECF6",
           "showlakes": true,
           "showland": true,
           "subunitcolor": "white"
          },
          "hoverlabel": {
           "align": "left"
          },
          "hovermode": "closest",
          "mapbox": {
           "style": "light"
          },
          "paper_bgcolor": "white",
          "plot_bgcolor": "#E5ECF6",
          "polar": {
           "angularaxis": {
            "gridcolor": "white",
            "linecolor": "white",
            "ticks": ""
           },
           "bgcolor": "#E5ECF6",
           "radialaxis": {
            "gridcolor": "white",
            "linecolor": "white",
            "ticks": ""
           }
          },
          "scene": {
           "xaxis": {
            "backgroundcolor": "#E5ECF6",
            "gridcolor": "white",
            "gridwidth": 2,
            "linecolor": "white",
            "showbackground": true,
            "ticks": "",
            "zerolinecolor": "white"
           },
           "yaxis": {
            "backgroundcolor": "#E5ECF6",
            "gridcolor": "white",
            "gridwidth": 2,
            "linecolor": "white",
            "showbackground": true,
            "ticks": "",
            "zerolinecolor": "white"
           },
           "zaxis": {
            "backgroundcolor": "#E5ECF6",
            "gridcolor": "white",
            "gridwidth": 2,
            "linecolor": "white",
            "showbackground": true,
            "ticks": "",
            "zerolinecolor": "white"
           }
          },
          "shapedefaults": {
           "line": {
            "color": "#2a3f5f"
           }
          },
          "ternary": {
           "aaxis": {
            "gridcolor": "white",
            "linecolor": "white",
            "ticks": ""
           },
           "baxis": {
            "gridcolor": "white",
            "linecolor": "white",
            "ticks": ""
           },
           "bgcolor": "#E5ECF6",
           "caxis": {
            "gridcolor": "white",
            "linecolor": "white",
            "ticks": ""
           }
          },
          "title": {
           "x": 0.05
          },
          "xaxis": {
           "automargin": true,
           "gridcolor": "white",
           "linecolor": "white",
           "ticks": "",
           "title": {
            "standoff": 15
           },
           "zerolinecolor": "white",
           "zerolinewidth": 2
          },
          "yaxis": {
           "automargin": true,
           "gridcolor": "white",
           "linecolor": "white",
           "ticks": "",
           "title": {
            "standoff": 15
           },
           "zerolinecolor": "white",
           "zerolinewidth": 2
          }
         }
        },
        "xaxis": {
         "anchor": "y",
         "domain": [
          0,
          1
         ]
        },
        "yaxis": {
         "anchor": "x",
         "domain": [
          0,
          1
         ],
         "title": {
          "text": "Iy"
         }
        }
       }
      }
     },
     "metadata": {},
     "output_type": "display_data"
    },
    {
     "data": {
      "application/vnd.plotly.v1+json": {
       "config": {
        "plotlyServerURL": "https://plot.ly"
       },
       "data": [
        {
         "alignmentgroup": "True",
         "hovertemplate": "PF=%{y}<extra></extra>",
         "legendgroup": "",
         "marker": {
          "color": "#636efa"
         },
         "name": "",
         "notched": false,
         "offsetgroup": "",
         "orientation": "v",
         "showlegend": false,
         "type": "box",
         "x0": " ",
         "xaxis": "x",
         "y": [
          0.66,
          0.68,
          0.7,
          0.72,
          0.74,
          0.76,
          0.78,
          0.8,
          0.82,
          0.84,
          0.86,
          0.88,
          0.9,
          0.92,
          0.94,
          0.96,
          0.98,
          1,
          0.66,
          0.68,
          0.7,
          0.72,
          0.74,
          0.76,
          0.78,
          0.8,
          0.82,
          0.84,
          0.86,
          0.88,
          0.9,
          0.92,
          0.94,
          0.96,
          0.98,
          1,
          0.66,
          0.68,
          0.7,
          0.72,
          0.74,
          0.76,
          0.78,
          0.8,
          0.82,
          0.84,
          0.86,
          0.88,
          0.9,
          0.92,
          0.94,
          0.96,
          0.98,
          1,
          0.66,
          0.68,
          0.7,
          0.72,
          0.74,
          0.76,
          0.78,
          0.8,
          0.82,
          0.84,
          0.86,
          0.88,
          0.9,
          0.92,
          0.94,
          0.96,
          0.98,
          1,
          0.66,
          0.68,
          0.7,
          0.72,
          0.74,
          0.76,
          0.78,
          0.8,
          0.82,
          0.84,
          0.86,
          0.88,
          0.9,
          0.92,
          0.94,
          0.96,
          0.98,
          1,
          0.66,
          0.68,
          0.7,
          0.72,
          0.74,
          0.76,
          0.78,
          0.8,
          0.82,
          0.84,
          0.86,
          0.88,
          0.9,
          0.92,
          0.94,
          0.96,
          0.98,
          1,
          0.66,
          0.68,
          0.92,
          0.94,
          0.96,
          0.98,
          1,
          0.92,
          0.94,
          0.92,
          0.96,
          0.98,
          1,
          0.94,
          0.96,
          0.98,
          1,
          0.86,
          0.86,
          0.88,
          0.86,
          0.88,
          0.9,
          0.88,
          0.9,
          0.9,
          0.82,
          0.82,
          0.84,
          0.82,
          0.84,
          0.84,
          0.76,
          0.76,
          0.76,
          0.78,
          0.78,
          0.78,
          0.8,
          0.8,
          0.8,
          0.72,
          0.72,
          0.72,
          0.74,
          0.74,
          0.66,
          0.74,
          0.66,
          0.66,
          0.68,
          0.68,
          0.68,
          0.7,
          0.7,
          0.7,
          0.7,
          0.72,
          0.74,
          0.76,
          0.78,
          0.8,
          0.82,
          0.84,
          0.92,
          0.94,
          0.96,
          0.98,
          1,
          0.92,
          0.96,
          0.98,
          1,
          0.94,
          0.92,
          0.86,
          0.94,
          0.88,
          0.9,
          0.96,
          0.98,
          1,
          0.86,
          0.88,
          0.9,
          0.82,
          0.86,
          0.84,
          0.88,
          0.9,
          0.76,
          0.78,
          0.8,
          0.82,
          0.84,
          0.72,
          0.74,
          0.76,
          0.66,
          0.78,
          0.68,
          0.8,
          0.7,
          0.72,
          0.74,
          0.66,
          0.66,
          0.68,
          0.68,
          0.7,
          0.92,
          0.94,
          0.96,
          0.98,
          1,
          0.92,
          0.94,
          0.96,
          0.98,
          1,
          0.86,
          0.88,
          0.86,
          0.9,
          0.88,
          0.9,
          0.82,
          0.82,
          0.84,
          0.84,
          0.76,
          0.76,
          0.78,
          0.78,
          0.8,
          0.8,
          0.72,
          0.72,
          0.74,
          0.74,
          0.66,
          0.68,
          0.7,
          0.7,
          0.66,
          0.68,
          0.7,
          0.72,
          0.74,
          0.76,
          0.78,
          0.8,
          0.82,
          0.84,
          0.86,
          0.88,
          0.9,
          0.92,
          0.94,
          0.96,
          0.98,
          1,
          0.66,
          0.68,
          0.7,
          0.72,
          0.74,
          0.76,
          0.78,
          0.8,
          0.82,
          0.84,
          0.86,
          0.88,
          0.9,
          0.92,
          0.94,
          0.96,
          0.98,
          1,
          0.66,
          0.68,
          0.7,
          0.72,
          0.74,
          0.76,
          0.78,
          0.8,
          0.82,
          0.84,
          0.87,
          0.89,
          0.91,
          0.93,
          0.95,
          0.97,
          0.99,
          0.65,
          0.67,
          0.69,
          0.71,
          0.73,
          0.75,
          0.77,
          0.79,
          0.81,
          0.83,
          0.85,
          0.87,
          0.89,
          0.91,
          0.93,
          0.95,
          0.97,
          0.99,
          0.65,
          0.67,
          0.69,
          0.71,
          0.73,
          0.75,
          0.77,
          0.79,
          0.81,
          0.83,
          0.85,
          0.87,
          0.89,
          0.91,
          0.93,
          0.95,
          0.97,
          0.99,
          0.65,
          0.67,
          0.69,
          0.71,
          0.73,
          0.75,
          0.77,
          0.79,
          0.81,
          0.83,
          0.85,
          0.87,
          0.89,
          0.91,
          0.93,
          0.95,
          0.97,
          0.99,
          0.65,
          0.67,
          0.69,
          0.71,
          0.73,
          0.75,
          0.77,
          0.79,
          0.81,
          0.83,
          0.85,
          0.87,
          0.89,
          0.91,
          0.93,
          0.95,
          0.97,
          0.99,
          0.65,
          0.67,
          0.69,
          0.71,
          0.73,
          0.75,
          0.77,
          0.79,
          0.81,
          0.83,
          0.85,
          0.87,
          0.89,
          0.91,
          0.93,
          0.95,
          0.97,
          0.99,
          0.65,
          0.67,
          0.69,
          0.71,
          0.73,
          0.75,
          0.77,
          0.79,
          0.81,
          0.83,
          0.85,
          0.87,
          0.89,
          0.91,
          0.93,
          0.95,
          0.97,
          0.99,
          0.65,
          0.67,
          0.69,
          0.71,
          0.73,
          0.75,
          0.77,
          0.79,
          0.81,
          0.83,
          0.85,
          0.87,
          0.89,
          0.91,
          0.93,
          0.95,
          0.97,
          0.99,
          0.65,
          0.67,
          0.69,
          0.71,
          0.73,
          0.75,
          0.77,
          0.79,
          0.81,
          0.83,
          0.85,
          0.87,
          0.89,
          0.91,
          0.93,
          0.95,
          0.97,
          0.99,
          0.65,
          0.67,
          0.69,
          0.71,
          0.73,
          0.75,
          0.77,
          0.79,
          0.81,
          0.83,
          0.85,
          0.87,
          0.89,
          0.91,
          0.93,
          0.95,
          0.97,
          0.99,
          0.65,
          0.67,
          0.69,
          0.71,
          0.73,
          0.75,
          0.77,
          0.79,
          0.81,
          0.83,
          0.85,
          0.87,
          0.89,
          0.91,
          0.93,
          0.95,
          0.97,
          0.99,
          0.65,
          0.67,
          0.69,
          0.71,
          0.73,
          0.75,
          0.77,
          0.79,
          0.81,
          0.83,
          0.85,
          0.87,
          0.89,
          0.91,
          0.93,
          0.95,
          0.97,
          0.99,
          0.65,
          0.67,
          0.69,
          0.71,
          0.73,
          0.75,
          0.77,
          0.79,
          0.81,
          0.83,
          0.85,
          0.87,
          0.89,
          0.91,
          0.93,
          0.95,
          0.97,
          0.99,
          0.65,
          0.67,
          0.69,
          0.71,
          0.73,
          0.75,
          0.77,
          0.79,
          0.81,
          0.83,
          0.85,
          0.87,
          0.89,
          0.91,
          0.93,
          0.95,
          0.97,
          0.99,
          0.65,
          0.67,
          0.69,
          0.71,
          0.73,
          0.75,
          0.77,
          0.79,
          0.81,
          0.83,
          0.85,
          0.87,
          0.89,
          0.91,
          0.93,
          0.95,
          0.97,
          0.99
         ],
         "y0": " ",
         "yaxis": "y"
        }
       ],
       "layout": {
        "boxmode": "group",
        "legend": {
         "tracegroupgap": 0
        },
        "margin": {
         "t": 60
        },
        "template": {
         "data": {
          "bar": [
           {
            "error_x": {
             "color": "#2a3f5f"
            },
            "error_y": {
             "color": "#2a3f5f"
            },
            "marker": {
             "line": {
              "color": "#E5ECF6",
              "width": 0.5
             },
             "pattern": {
              "fillmode": "overlay",
              "size": 10,
              "solidity": 0.2
             }
            },
            "type": "bar"
           }
          ],
          "barpolar": [
           {
            "marker": {
             "line": {
              "color": "#E5ECF6",
              "width": 0.5
             },
             "pattern": {
              "fillmode": "overlay",
              "size": 10,
              "solidity": 0.2
             }
            },
            "type": "barpolar"
           }
          ],
          "carpet": [
           {
            "aaxis": {
             "endlinecolor": "#2a3f5f",
             "gridcolor": "white",
             "linecolor": "white",
             "minorgridcolor": "white",
             "startlinecolor": "#2a3f5f"
            },
            "baxis": {
             "endlinecolor": "#2a3f5f",
             "gridcolor": "white",
             "linecolor": "white",
             "minorgridcolor": "white",
             "startlinecolor": "#2a3f5f"
            },
            "type": "carpet"
           }
          ],
          "choropleth": [
           {
            "colorbar": {
             "outlinewidth": 0,
             "ticks": ""
            },
            "type": "choropleth"
           }
          ],
          "contour": [
           {
            "colorbar": {
             "outlinewidth": 0,
             "ticks": ""
            },
            "colorscale": [
             [
              0,
              "#0d0887"
             ],
             [
              0.1111111111111111,
              "#46039f"
             ],
             [
              0.2222222222222222,
              "#7201a8"
             ],
             [
              0.3333333333333333,
              "#9c179e"
             ],
             [
              0.4444444444444444,
              "#bd3786"
             ],
             [
              0.5555555555555556,
              "#d8576b"
             ],
             [
              0.6666666666666666,
              "#ed7953"
             ],
             [
              0.7777777777777778,
              "#fb9f3a"
             ],
             [
              0.8888888888888888,
              "#fdca26"
             ],
             [
              1,
              "#f0f921"
             ]
            ],
            "type": "contour"
           }
          ],
          "contourcarpet": [
           {
            "colorbar": {
             "outlinewidth": 0,
             "ticks": ""
            },
            "type": "contourcarpet"
           }
          ],
          "heatmap": [
           {
            "colorbar": {
             "outlinewidth": 0,
             "ticks": ""
            },
            "colorscale": [
             [
              0,
              "#0d0887"
             ],
             [
              0.1111111111111111,
              "#46039f"
             ],
             [
              0.2222222222222222,
              "#7201a8"
             ],
             [
              0.3333333333333333,
              "#9c179e"
             ],
             [
              0.4444444444444444,
              "#bd3786"
             ],
             [
              0.5555555555555556,
              "#d8576b"
             ],
             [
              0.6666666666666666,
              "#ed7953"
             ],
             [
              0.7777777777777778,
              "#fb9f3a"
             ],
             [
              0.8888888888888888,
              "#fdca26"
             ],
             [
              1,
              "#f0f921"
             ]
            ],
            "type": "heatmap"
           }
          ],
          "heatmapgl": [
           {
            "colorbar": {
             "outlinewidth": 0,
             "ticks": ""
            },
            "colorscale": [
             [
              0,
              "#0d0887"
             ],
             [
              0.1111111111111111,
              "#46039f"
             ],
             [
              0.2222222222222222,
              "#7201a8"
             ],
             [
              0.3333333333333333,
              "#9c179e"
             ],
             [
              0.4444444444444444,
              "#bd3786"
             ],
             [
              0.5555555555555556,
              "#d8576b"
             ],
             [
              0.6666666666666666,
              "#ed7953"
             ],
             [
              0.7777777777777778,
              "#fb9f3a"
             ],
             [
              0.8888888888888888,
              "#fdca26"
             ],
             [
              1,
              "#f0f921"
             ]
            ],
            "type": "heatmapgl"
           }
          ],
          "histogram": [
           {
            "marker": {
             "pattern": {
              "fillmode": "overlay",
              "size": 10,
              "solidity": 0.2
             }
            },
            "type": "histogram"
           }
          ],
          "histogram2d": [
           {
            "colorbar": {
             "outlinewidth": 0,
             "ticks": ""
            },
            "colorscale": [
             [
              0,
              "#0d0887"
             ],
             [
              0.1111111111111111,
              "#46039f"
             ],
             [
              0.2222222222222222,
              "#7201a8"
             ],
             [
              0.3333333333333333,
              "#9c179e"
             ],
             [
              0.4444444444444444,
              "#bd3786"
             ],
             [
              0.5555555555555556,
              "#d8576b"
             ],
             [
              0.6666666666666666,
              "#ed7953"
             ],
             [
              0.7777777777777778,
              "#fb9f3a"
             ],
             [
              0.8888888888888888,
              "#fdca26"
             ],
             [
              1,
              "#f0f921"
             ]
            ],
            "type": "histogram2d"
           }
          ],
          "histogram2dcontour": [
           {
            "colorbar": {
             "outlinewidth": 0,
             "ticks": ""
            },
            "colorscale": [
             [
              0,
              "#0d0887"
             ],
             [
              0.1111111111111111,
              "#46039f"
             ],
             [
              0.2222222222222222,
              "#7201a8"
             ],
             [
              0.3333333333333333,
              "#9c179e"
             ],
             [
              0.4444444444444444,
              "#bd3786"
             ],
             [
              0.5555555555555556,
              "#d8576b"
             ],
             [
              0.6666666666666666,
              "#ed7953"
             ],
             [
              0.7777777777777778,
              "#fb9f3a"
             ],
             [
              0.8888888888888888,
              "#fdca26"
             ],
             [
              1,
              "#f0f921"
             ]
            ],
            "type": "histogram2dcontour"
           }
          ],
          "mesh3d": [
           {
            "colorbar": {
             "outlinewidth": 0,
             "ticks": ""
            },
            "type": "mesh3d"
           }
          ],
          "parcoords": [
           {
            "line": {
             "colorbar": {
              "outlinewidth": 0,
              "ticks": ""
             }
            },
            "type": "parcoords"
           }
          ],
          "pie": [
           {
            "automargin": true,
            "type": "pie"
           }
          ],
          "scatter": [
           {
            "fillpattern": {
             "fillmode": "overlay",
             "size": 10,
             "solidity": 0.2
            },
            "type": "scatter"
           }
          ],
          "scatter3d": [
           {
            "line": {
             "colorbar": {
              "outlinewidth": 0,
              "ticks": ""
             }
            },
            "marker": {
             "colorbar": {
              "outlinewidth": 0,
              "ticks": ""
             }
            },
            "type": "scatter3d"
           }
          ],
          "scattercarpet": [
           {
            "marker": {
             "colorbar": {
              "outlinewidth": 0,
              "ticks": ""
             }
            },
            "type": "scattercarpet"
           }
          ],
          "scattergeo": [
           {
            "marker": {
             "colorbar": {
              "outlinewidth": 0,
              "ticks": ""
             }
            },
            "type": "scattergeo"
           }
          ],
          "scattergl": [
           {
            "marker": {
             "colorbar": {
              "outlinewidth": 0,
              "ticks": ""
             }
            },
            "type": "scattergl"
           }
          ],
          "scattermapbox": [
           {
            "marker": {
             "colorbar": {
              "outlinewidth": 0,
              "ticks": ""
             }
            },
            "type": "scattermapbox"
           }
          ],
          "scatterpolar": [
           {
            "marker": {
             "colorbar": {
              "outlinewidth": 0,
              "ticks": ""
             }
            },
            "type": "scatterpolar"
           }
          ],
          "scatterpolargl": [
           {
            "marker": {
             "colorbar": {
              "outlinewidth": 0,
              "ticks": ""
             }
            },
            "type": "scatterpolargl"
           }
          ],
          "scatterternary": [
           {
            "marker": {
             "colorbar": {
              "outlinewidth": 0,
              "ticks": ""
             }
            },
            "type": "scatterternary"
           }
          ],
          "surface": [
           {
            "colorbar": {
             "outlinewidth": 0,
             "ticks": ""
            },
            "colorscale": [
             [
              0,
              "#0d0887"
             ],
             [
              0.1111111111111111,
              "#46039f"
             ],
             [
              0.2222222222222222,
              "#7201a8"
             ],
             [
              0.3333333333333333,
              "#9c179e"
             ],
             [
              0.4444444444444444,
              "#bd3786"
             ],
             [
              0.5555555555555556,
              "#d8576b"
             ],
             [
              0.6666666666666666,
              "#ed7953"
             ],
             [
              0.7777777777777778,
              "#fb9f3a"
             ],
             [
              0.8888888888888888,
              "#fdca26"
             ],
             [
              1,
              "#f0f921"
             ]
            ],
            "type": "surface"
           }
          ],
          "table": [
           {
            "cells": {
             "fill": {
              "color": "#EBF0F8"
             },
             "line": {
              "color": "white"
             }
            },
            "header": {
             "fill": {
              "color": "#C8D4E3"
             },
             "line": {
              "color": "white"
             }
            },
            "type": "table"
           }
          ]
         },
         "layout": {
          "annotationdefaults": {
           "arrowcolor": "#2a3f5f",
           "arrowhead": 0,
           "arrowwidth": 1
          },
          "autotypenumbers": "strict",
          "coloraxis": {
           "colorbar": {
            "outlinewidth": 0,
            "ticks": ""
           }
          },
          "colorscale": {
           "diverging": [
            [
             0,
             "#8e0152"
            ],
            [
             0.1,
             "#c51b7d"
            ],
            [
             0.2,
             "#de77ae"
            ],
            [
             0.3,
             "#f1b6da"
            ],
            [
             0.4,
             "#fde0ef"
            ],
            [
             0.5,
             "#f7f7f7"
            ],
            [
             0.6,
             "#e6f5d0"
            ],
            [
             0.7,
             "#b8e186"
            ],
            [
             0.8,
             "#7fbc41"
            ],
            [
             0.9,
             "#4d9221"
            ],
            [
             1,
             "#276419"
            ]
           ],
           "sequential": [
            [
             0,
             "#0d0887"
            ],
            [
             0.1111111111111111,
             "#46039f"
            ],
            [
             0.2222222222222222,
             "#7201a8"
            ],
            [
             0.3333333333333333,
             "#9c179e"
            ],
            [
             0.4444444444444444,
             "#bd3786"
            ],
            [
             0.5555555555555556,
             "#d8576b"
            ],
            [
             0.6666666666666666,
             "#ed7953"
            ],
            [
             0.7777777777777778,
             "#fb9f3a"
            ],
            [
             0.8888888888888888,
             "#fdca26"
            ],
            [
             1,
             "#f0f921"
            ]
           ],
           "sequentialminus": [
            [
             0,
             "#0d0887"
            ],
            [
             0.1111111111111111,
             "#46039f"
            ],
            [
             0.2222222222222222,
             "#7201a8"
            ],
            [
             0.3333333333333333,
             "#9c179e"
            ],
            [
             0.4444444444444444,
             "#bd3786"
            ],
            [
             0.5555555555555556,
             "#d8576b"
            ],
            [
             0.6666666666666666,
             "#ed7953"
            ],
            [
             0.7777777777777778,
             "#fb9f3a"
            ],
            [
             0.8888888888888888,
             "#fdca26"
            ],
            [
             1,
             "#f0f921"
            ]
           ]
          },
          "colorway": [
           "#636efa",
           "#EF553B",
           "#00cc96",
           "#ab63fa",
           "#FFA15A",
           "#19d3f3",
           "#FF6692",
           "#B6E880",
           "#FF97FF",
           "#FECB52"
          ],
          "font": {
           "color": "#2a3f5f"
          },
          "geo": {
           "bgcolor": "white",
           "lakecolor": "white",
           "landcolor": "#E5ECF6",
           "showlakes": true,
           "showland": true,
           "subunitcolor": "white"
          },
          "hoverlabel": {
           "align": "left"
          },
          "hovermode": "closest",
          "mapbox": {
           "style": "light"
          },
          "paper_bgcolor": "white",
          "plot_bgcolor": "#E5ECF6",
          "polar": {
           "angularaxis": {
            "gridcolor": "white",
            "linecolor": "white",
            "ticks": ""
           },
           "bgcolor": "#E5ECF6",
           "radialaxis": {
            "gridcolor": "white",
            "linecolor": "white",
            "ticks": ""
           }
          },
          "scene": {
           "xaxis": {
            "backgroundcolor": "#E5ECF6",
            "gridcolor": "white",
            "gridwidth": 2,
            "linecolor": "white",
            "showbackground": true,
            "ticks": "",
            "zerolinecolor": "white"
           },
           "yaxis": {
            "backgroundcolor": "#E5ECF6",
            "gridcolor": "white",
            "gridwidth": 2,
            "linecolor": "white",
            "showbackground": true,
            "ticks": "",
            "zerolinecolor": "white"
           },
           "zaxis": {
            "backgroundcolor": "#E5ECF6",
            "gridcolor": "white",
            "gridwidth": 2,
            "linecolor": "white",
            "showbackground": true,
            "ticks": "",
            "zerolinecolor": "white"
           }
          },
          "shapedefaults": {
           "line": {
            "color": "#2a3f5f"
           }
          },
          "ternary": {
           "aaxis": {
            "gridcolor": "white",
            "linecolor": "white",
            "ticks": ""
           },
           "baxis": {
            "gridcolor": "white",
            "linecolor": "white",
            "ticks": ""
           },
           "bgcolor": "#E5ECF6",
           "caxis": {
            "gridcolor": "white",
            "linecolor": "white",
            "ticks": ""
           }
          },
          "title": {
           "x": 0.05
          },
          "xaxis": {
           "automargin": true,
           "gridcolor": "white",
           "linecolor": "white",
           "ticks": "",
           "title": {
            "standoff": 15
           },
           "zerolinecolor": "white",
           "zerolinewidth": 2
          },
          "yaxis": {
           "automargin": true,
           "gridcolor": "white",
           "linecolor": "white",
           "ticks": "",
           "title": {
            "standoff": 15
           },
           "zerolinecolor": "white",
           "zerolinewidth": 2
          }
         }
        },
        "xaxis": {
         "anchor": "y",
         "domain": [
          0,
          1
         ]
        },
        "yaxis": {
         "anchor": "x",
         "domain": [
          0,
          1
         ],
         "title": {
          "text": "PF"
         }
        }
       }
      }
     },
     "metadata": {},
     "output_type": "display_data"
    },
    {
     "data": {
      "application/vnd.plotly.v1+json": {
       "config": {
        "plotlyServerURL": "https://plot.ly"
       },
       "data": [
        {
         "alignmentgroup": "True",
         "hovertemplate": "e=%{y}<extra></extra>",
         "legendgroup": "",
         "marker": {
          "color": "#636efa"
         },
         "name": "",
         "notched": false,
         "offsetgroup": "",
         "orientation": "v",
         "showlegend": false,
         "type": "box",
         "x0": " ",
         "xaxis": "x",
         "y": [
          0.34,
          0.32,
          0.3,
          0.28,
          0.26,
          0.24,
          0.22,
          0.2,
          0.18,
          0.16,
          0.14,
          0.12,
          0.1,
          0.08,
          0.06,
          0.04,
          0.02,
          0,
          0.34,
          0.32,
          0.3,
          0.28,
          0.26,
          0.24,
          0.22,
          0.2,
          0.18,
          0.16,
          0.14,
          0.12,
          0.1,
          0.08,
          0.06,
          0.04,
          0.02,
          0,
          0.34,
          0.32,
          0.3,
          0.28,
          0.26,
          0.24,
          0.22,
          0.2,
          0.18,
          0.16,
          0.14,
          0.12,
          0.1,
          0.08,
          0.06,
          0.04,
          0.02,
          0,
          0.34,
          0.32,
          0.3,
          0.28,
          0.26,
          0.24,
          0.22,
          0.2,
          0.18,
          0.16,
          0.14,
          0.12,
          0.1,
          0.08,
          0.06,
          0.04,
          0.02,
          0,
          0.34,
          0.32,
          0.3,
          0.28,
          0.26,
          0.24,
          0.22,
          0.2,
          0.18,
          0.16,
          0.14,
          0.12,
          0.1,
          0.08,
          0.06,
          0.04,
          0.02,
          0,
          0.34,
          0.32,
          0.3,
          0.28,
          0.26,
          0.24,
          0.22,
          0.2,
          0.18,
          0.16,
          0.14,
          0.12,
          0.1,
          0.08,
          0.06,
          0.04,
          0.02,
          0,
          0.34,
          0.32,
          0.08,
          0.06,
          0.04,
          0.02,
          0,
          0.08,
          0.06,
          0.08,
          0.04,
          0.02,
          0,
          0.06,
          0.04,
          0.02,
          0,
          0.14,
          0.14,
          0.12,
          0.14,
          0.12,
          0.1,
          0.12,
          0.1,
          0.1,
          0.18,
          0.18,
          0.16,
          0.18,
          0.16,
          0.16,
          0.24,
          0.24,
          0.24,
          0.22,
          0.22,
          0.22,
          0.2,
          0.2,
          0.2,
          0.28,
          0.28,
          0.28,
          0.26,
          0.26,
          0.34,
          0.26,
          0.34,
          0.34,
          0.32,
          0.32,
          0.32,
          0.3,
          0.3,
          0.3,
          0.3,
          0.28,
          0.26,
          0.24,
          0.22,
          0.2,
          0.18,
          0.16,
          0.08,
          0.06,
          0.04,
          0.02,
          0,
          0.08,
          0.04,
          0.02,
          0,
          0.06,
          0.08,
          0.14,
          0.06,
          0.12,
          0.1,
          0.04,
          0.02,
          0,
          0.14,
          0.12,
          0.1,
          0.18,
          0.14,
          0.16,
          0.12,
          0.1,
          0.24,
          0.22,
          0.2,
          0.18,
          0.16,
          0.28,
          0.26,
          0.24,
          0.34,
          0.22,
          0.32,
          0.2,
          0.3,
          0.28,
          0.26,
          0.34,
          0.34,
          0.32,
          0.32,
          0.3,
          0.08,
          0.06,
          0.04,
          0.02,
          0,
          0.08,
          0.06,
          0.04,
          0.02,
          0,
          0.14,
          0.12,
          0.14,
          0.1,
          0.12,
          0.1,
          0.18,
          0.18,
          0.16,
          0.16,
          0.24,
          0.24,
          0.22,
          0.22,
          0.2,
          0.2,
          0.28,
          0.28,
          0.26,
          0.26,
          0.34,
          0.32,
          0.3,
          0.3,
          0.34,
          0.32,
          0.3,
          0.28,
          0.26,
          0.24,
          0.22,
          0.2,
          0.18,
          0.16,
          0.14,
          0.12,
          0.1,
          0.08,
          0.06,
          0.04,
          0.02,
          0,
          0.34,
          0.32,
          0.3,
          0.28,
          0.26,
          0.24,
          0.22,
          0.2,
          0.18,
          0.16,
          0.14,
          0.12,
          0.1,
          0.08,
          0.06,
          0.04,
          0.02,
          0,
          0.34,
          0.32,
          0.3,
          0.28,
          0.26,
          0.24,
          0.22,
          0.2,
          0.18,
          0.16,
          0.13,
          0.11,
          0.09,
          0.07,
          0.05,
          0.03,
          0.01,
          0.35,
          0.33,
          0.31,
          0.29,
          0.27,
          0.25,
          0.23,
          0.21,
          0.19,
          0.17,
          0.15,
          0.13,
          0.11,
          0.09,
          0.07,
          0.05,
          0.03,
          0.01,
          0.35,
          0.33,
          0.31,
          0.29,
          0.27,
          0.25,
          0.23,
          0.21,
          0.19,
          0.17,
          0.15,
          0.13,
          0.11,
          0.09,
          0.07,
          0.05,
          0.03,
          0.01,
          0.35,
          0.33,
          0.31,
          0.29,
          0.27,
          0.25,
          0.23,
          0.21,
          0.19,
          0.17,
          0.15,
          0.13,
          0.11,
          0.09,
          0.07,
          0.05,
          0.03,
          0.01,
          0.35,
          0.33,
          0.31,
          0.29,
          0.27,
          0.25,
          0.23,
          0.21,
          0.19,
          0.17,
          0.15,
          0.13,
          0.11,
          0.09,
          0.07,
          0.05,
          0.03,
          0.01,
          0.35,
          0.33,
          0.31,
          0.29,
          0.27,
          0.25,
          0.23,
          0.21,
          0.19,
          0.17,
          0.15,
          0.13,
          0.11,
          0.09,
          0.07,
          0.05,
          0.03,
          0.01,
          0.35,
          0.33,
          0.31,
          0.29,
          0.27,
          0.25,
          0.23,
          0.21,
          0.19,
          0.17,
          0.15,
          0.13,
          0.11,
          0.09,
          0.07,
          0.05,
          0.03,
          0.01,
          0.35,
          0.33,
          0.31,
          0.29,
          0.27,
          0.25,
          0.23,
          0.21,
          0.19,
          0.17,
          0.15,
          0.13,
          0.11,
          0.09,
          0.07,
          0.05,
          0.03,
          0.01,
          0.35,
          0.33,
          0.31,
          0.29,
          0.27,
          0.25,
          0.23,
          0.21,
          0.19,
          0.17,
          0.15,
          0.13,
          0.11,
          0.09,
          0.07,
          0.05,
          0.03,
          0.01,
          0.35,
          0.33,
          0.31,
          0.29,
          0.27,
          0.25,
          0.23,
          0.21,
          0.19,
          0.17,
          0.15,
          0.13,
          0.11,
          0.09,
          0.07,
          0.05,
          0.03,
          0.01,
          0.35,
          0.33,
          0.31,
          0.29,
          0.27,
          0.25,
          0.23,
          0.21,
          0.19,
          0.17,
          0.15,
          0.13,
          0.11,
          0.09,
          0.07,
          0.05,
          0.03,
          0.01,
          0.35,
          0.33,
          0.31,
          0.29,
          0.27,
          0.25,
          0.23,
          0.21,
          0.19,
          0.17,
          0.15,
          0.13,
          0.11,
          0.09,
          0.07,
          0.05,
          0.03,
          0.01,
          0.35,
          0.33,
          0.31,
          0.29,
          0.27,
          0.25,
          0.23,
          0.21,
          0.19,
          0.17,
          0.15,
          0.13,
          0.11,
          0.09,
          0.07,
          0.05,
          0.03,
          0.01,
          0.35,
          0.33,
          0.31,
          0.29,
          0.27,
          0.25,
          0.23,
          0.21,
          0.19,
          0.17,
          0.15,
          0.13,
          0.11,
          0.09,
          0.07,
          0.05,
          0.03,
          0.01,
          0.35,
          0.33,
          0.31,
          0.29,
          0.27,
          0.25,
          0.23,
          0.21,
          0.19,
          0.17,
          0.15,
          0.13,
          0.11,
          0.09,
          0.07,
          0.05,
          0.03,
          0.01
         ],
         "y0": " ",
         "yaxis": "y"
        }
       ],
       "layout": {
        "boxmode": "group",
        "legend": {
         "tracegroupgap": 0
        },
        "margin": {
         "t": 60
        },
        "template": {
         "data": {
          "bar": [
           {
            "error_x": {
             "color": "#2a3f5f"
            },
            "error_y": {
             "color": "#2a3f5f"
            },
            "marker": {
             "line": {
              "color": "#E5ECF6",
              "width": 0.5
             },
             "pattern": {
              "fillmode": "overlay",
              "size": 10,
              "solidity": 0.2
             }
            },
            "type": "bar"
           }
          ],
          "barpolar": [
           {
            "marker": {
             "line": {
              "color": "#E5ECF6",
              "width": 0.5
             },
             "pattern": {
              "fillmode": "overlay",
              "size": 10,
              "solidity": 0.2
             }
            },
            "type": "barpolar"
           }
          ],
          "carpet": [
           {
            "aaxis": {
             "endlinecolor": "#2a3f5f",
             "gridcolor": "white",
             "linecolor": "white",
             "minorgridcolor": "white",
             "startlinecolor": "#2a3f5f"
            },
            "baxis": {
             "endlinecolor": "#2a3f5f",
             "gridcolor": "white",
             "linecolor": "white",
             "minorgridcolor": "white",
             "startlinecolor": "#2a3f5f"
            },
            "type": "carpet"
           }
          ],
          "choropleth": [
           {
            "colorbar": {
             "outlinewidth": 0,
             "ticks": ""
            },
            "type": "choropleth"
           }
          ],
          "contour": [
           {
            "colorbar": {
             "outlinewidth": 0,
             "ticks": ""
            },
            "colorscale": [
             [
              0,
              "#0d0887"
             ],
             [
              0.1111111111111111,
              "#46039f"
             ],
             [
              0.2222222222222222,
              "#7201a8"
             ],
             [
              0.3333333333333333,
              "#9c179e"
             ],
             [
              0.4444444444444444,
              "#bd3786"
             ],
             [
              0.5555555555555556,
              "#d8576b"
             ],
             [
              0.6666666666666666,
              "#ed7953"
             ],
             [
              0.7777777777777778,
              "#fb9f3a"
             ],
             [
              0.8888888888888888,
              "#fdca26"
             ],
             [
              1,
              "#f0f921"
             ]
            ],
            "type": "contour"
           }
          ],
          "contourcarpet": [
           {
            "colorbar": {
             "outlinewidth": 0,
             "ticks": ""
            },
            "type": "contourcarpet"
           }
          ],
          "heatmap": [
           {
            "colorbar": {
             "outlinewidth": 0,
             "ticks": ""
            },
            "colorscale": [
             [
              0,
              "#0d0887"
             ],
             [
              0.1111111111111111,
              "#46039f"
             ],
             [
              0.2222222222222222,
              "#7201a8"
             ],
             [
              0.3333333333333333,
              "#9c179e"
             ],
             [
              0.4444444444444444,
              "#bd3786"
             ],
             [
              0.5555555555555556,
              "#d8576b"
             ],
             [
              0.6666666666666666,
              "#ed7953"
             ],
             [
              0.7777777777777778,
              "#fb9f3a"
             ],
             [
              0.8888888888888888,
              "#fdca26"
             ],
             [
              1,
              "#f0f921"
             ]
            ],
            "type": "heatmap"
           }
          ],
          "heatmapgl": [
           {
            "colorbar": {
             "outlinewidth": 0,
             "ticks": ""
            },
            "colorscale": [
             [
              0,
              "#0d0887"
             ],
             [
              0.1111111111111111,
              "#46039f"
             ],
             [
              0.2222222222222222,
              "#7201a8"
             ],
             [
              0.3333333333333333,
              "#9c179e"
             ],
             [
              0.4444444444444444,
              "#bd3786"
             ],
             [
              0.5555555555555556,
              "#d8576b"
             ],
             [
              0.6666666666666666,
              "#ed7953"
             ],
             [
              0.7777777777777778,
              "#fb9f3a"
             ],
             [
              0.8888888888888888,
              "#fdca26"
             ],
             [
              1,
              "#f0f921"
             ]
            ],
            "type": "heatmapgl"
           }
          ],
          "histogram": [
           {
            "marker": {
             "pattern": {
              "fillmode": "overlay",
              "size": 10,
              "solidity": 0.2
             }
            },
            "type": "histogram"
           }
          ],
          "histogram2d": [
           {
            "colorbar": {
             "outlinewidth": 0,
             "ticks": ""
            },
            "colorscale": [
             [
              0,
              "#0d0887"
             ],
             [
              0.1111111111111111,
              "#46039f"
             ],
             [
              0.2222222222222222,
              "#7201a8"
             ],
             [
              0.3333333333333333,
              "#9c179e"
             ],
             [
              0.4444444444444444,
              "#bd3786"
             ],
             [
              0.5555555555555556,
              "#d8576b"
             ],
             [
              0.6666666666666666,
              "#ed7953"
             ],
             [
              0.7777777777777778,
              "#fb9f3a"
             ],
             [
              0.8888888888888888,
              "#fdca26"
             ],
             [
              1,
              "#f0f921"
             ]
            ],
            "type": "histogram2d"
           }
          ],
          "histogram2dcontour": [
           {
            "colorbar": {
             "outlinewidth": 0,
             "ticks": ""
            },
            "colorscale": [
             [
              0,
              "#0d0887"
             ],
             [
              0.1111111111111111,
              "#46039f"
             ],
             [
              0.2222222222222222,
              "#7201a8"
             ],
             [
              0.3333333333333333,
              "#9c179e"
             ],
             [
              0.4444444444444444,
              "#bd3786"
             ],
             [
              0.5555555555555556,
              "#d8576b"
             ],
             [
              0.6666666666666666,
              "#ed7953"
             ],
             [
              0.7777777777777778,
              "#fb9f3a"
             ],
             [
              0.8888888888888888,
              "#fdca26"
             ],
             [
              1,
              "#f0f921"
             ]
            ],
            "type": "histogram2dcontour"
           }
          ],
          "mesh3d": [
           {
            "colorbar": {
             "outlinewidth": 0,
             "ticks": ""
            },
            "type": "mesh3d"
           }
          ],
          "parcoords": [
           {
            "line": {
             "colorbar": {
              "outlinewidth": 0,
              "ticks": ""
             }
            },
            "type": "parcoords"
           }
          ],
          "pie": [
           {
            "automargin": true,
            "type": "pie"
           }
          ],
          "scatter": [
           {
            "fillpattern": {
             "fillmode": "overlay",
             "size": 10,
             "solidity": 0.2
            },
            "type": "scatter"
           }
          ],
          "scatter3d": [
           {
            "line": {
             "colorbar": {
              "outlinewidth": 0,
              "ticks": ""
             }
            },
            "marker": {
             "colorbar": {
              "outlinewidth": 0,
              "ticks": ""
             }
            },
            "type": "scatter3d"
           }
          ],
          "scattercarpet": [
           {
            "marker": {
             "colorbar": {
              "outlinewidth": 0,
              "ticks": ""
             }
            },
            "type": "scattercarpet"
           }
          ],
          "scattergeo": [
           {
            "marker": {
             "colorbar": {
              "outlinewidth": 0,
              "ticks": ""
             }
            },
            "type": "scattergeo"
           }
          ],
          "scattergl": [
           {
            "marker": {
             "colorbar": {
              "outlinewidth": 0,
              "ticks": ""
             }
            },
            "type": "scattergl"
           }
          ],
          "scattermapbox": [
           {
            "marker": {
             "colorbar": {
              "outlinewidth": 0,
              "ticks": ""
             }
            },
            "type": "scattermapbox"
           }
          ],
          "scatterpolar": [
           {
            "marker": {
             "colorbar": {
              "outlinewidth": 0,
              "ticks": ""
             }
            },
            "type": "scatterpolar"
           }
          ],
          "scatterpolargl": [
           {
            "marker": {
             "colorbar": {
              "outlinewidth": 0,
              "ticks": ""
             }
            },
            "type": "scatterpolargl"
           }
          ],
          "scatterternary": [
           {
            "marker": {
             "colorbar": {
              "outlinewidth": 0,
              "ticks": ""
             }
            },
            "type": "scatterternary"
           }
          ],
          "surface": [
           {
            "colorbar": {
             "outlinewidth": 0,
             "ticks": ""
            },
            "colorscale": [
             [
              0,
              "#0d0887"
             ],
             [
              0.1111111111111111,
              "#46039f"
             ],
             [
              0.2222222222222222,
              "#7201a8"
             ],
             [
              0.3333333333333333,
              "#9c179e"
             ],
             [
              0.4444444444444444,
              "#bd3786"
             ],
             [
              0.5555555555555556,
              "#d8576b"
             ],
             [
              0.6666666666666666,
              "#ed7953"
             ],
             [
              0.7777777777777778,
              "#fb9f3a"
             ],
             [
              0.8888888888888888,
              "#fdca26"
             ],
             [
              1,
              "#f0f921"
             ]
            ],
            "type": "surface"
           }
          ],
          "table": [
           {
            "cells": {
             "fill": {
              "color": "#EBF0F8"
             },
             "line": {
              "color": "white"
             }
            },
            "header": {
             "fill": {
              "color": "#C8D4E3"
             },
             "line": {
              "color": "white"
             }
            },
            "type": "table"
           }
          ]
         },
         "layout": {
          "annotationdefaults": {
           "arrowcolor": "#2a3f5f",
           "arrowhead": 0,
           "arrowwidth": 1
          },
          "autotypenumbers": "strict",
          "coloraxis": {
           "colorbar": {
            "outlinewidth": 0,
            "ticks": ""
           }
          },
          "colorscale": {
           "diverging": [
            [
             0,
             "#8e0152"
            ],
            [
             0.1,
             "#c51b7d"
            ],
            [
             0.2,
             "#de77ae"
            ],
            [
             0.3,
             "#f1b6da"
            ],
            [
             0.4,
             "#fde0ef"
            ],
            [
             0.5,
             "#f7f7f7"
            ],
            [
             0.6,
             "#e6f5d0"
            ],
            [
             0.7,
             "#b8e186"
            ],
            [
             0.8,
             "#7fbc41"
            ],
            [
             0.9,
             "#4d9221"
            ],
            [
             1,
             "#276419"
            ]
           ],
           "sequential": [
            [
             0,
             "#0d0887"
            ],
            [
             0.1111111111111111,
             "#46039f"
            ],
            [
             0.2222222222222222,
             "#7201a8"
            ],
            [
             0.3333333333333333,
             "#9c179e"
            ],
            [
             0.4444444444444444,
             "#bd3786"
            ],
            [
             0.5555555555555556,
             "#d8576b"
            ],
            [
             0.6666666666666666,
             "#ed7953"
            ],
            [
             0.7777777777777778,
             "#fb9f3a"
            ],
            [
             0.8888888888888888,
             "#fdca26"
            ],
            [
             1,
             "#f0f921"
            ]
           ],
           "sequentialminus": [
            [
             0,
             "#0d0887"
            ],
            [
             0.1111111111111111,
             "#46039f"
            ],
            [
             0.2222222222222222,
             "#7201a8"
            ],
            [
             0.3333333333333333,
             "#9c179e"
            ],
            [
             0.4444444444444444,
             "#bd3786"
            ],
            [
             0.5555555555555556,
             "#d8576b"
            ],
            [
             0.6666666666666666,
             "#ed7953"
            ],
            [
             0.7777777777777778,
             "#fb9f3a"
            ],
            [
             0.8888888888888888,
             "#fdca26"
            ],
            [
             1,
             "#f0f921"
            ]
           ]
          },
          "colorway": [
           "#636efa",
           "#EF553B",
           "#00cc96",
           "#ab63fa",
           "#FFA15A",
           "#19d3f3",
           "#FF6692",
           "#B6E880",
           "#FF97FF",
           "#FECB52"
          ],
          "font": {
           "color": "#2a3f5f"
          },
          "geo": {
           "bgcolor": "white",
           "lakecolor": "white",
           "landcolor": "#E5ECF6",
           "showlakes": true,
           "showland": true,
           "subunitcolor": "white"
          },
          "hoverlabel": {
           "align": "left"
          },
          "hovermode": "closest",
          "mapbox": {
           "style": "light"
          },
          "paper_bgcolor": "white",
          "plot_bgcolor": "#E5ECF6",
          "polar": {
           "angularaxis": {
            "gridcolor": "white",
            "linecolor": "white",
            "ticks": ""
           },
           "bgcolor": "#E5ECF6",
           "radialaxis": {
            "gridcolor": "white",
            "linecolor": "white",
            "ticks": ""
           }
          },
          "scene": {
           "xaxis": {
            "backgroundcolor": "#E5ECF6",
            "gridcolor": "white",
            "gridwidth": 2,
            "linecolor": "white",
            "showbackground": true,
            "ticks": "",
            "zerolinecolor": "white"
           },
           "yaxis": {
            "backgroundcolor": "#E5ECF6",
            "gridcolor": "white",
            "gridwidth": 2,
            "linecolor": "white",
            "showbackground": true,
            "ticks": "",
            "zerolinecolor": "white"
           },
           "zaxis": {
            "backgroundcolor": "#E5ECF6",
            "gridcolor": "white",
            "gridwidth": 2,
            "linecolor": "white",
            "showbackground": true,
            "ticks": "",
            "zerolinecolor": "white"
           }
          },
          "shapedefaults": {
           "line": {
            "color": "#2a3f5f"
           }
          },
          "ternary": {
           "aaxis": {
            "gridcolor": "white",
            "linecolor": "white",
            "ticks": ""
           },
           "baxis": {
            "gridcolor": "white",
            "linecolor": "white",
            "ticks": ""
           },
           "bgcolor": "#E5ECF6",
           "caxis": {
            "gridcolor": "white",
            "linecolor": "white",
            "ticks": ""
           }
          },
          "title": {
           "x": 0.05
          },
          "xaxis": {
           "automargin": true,
           "gridcolor": "white",
           "linecolor": "white",
           "ticks": "",
           "title": {
            "standoff": 15
           },
           "zerolinecolor": "white",
           "zerolinewidth": 2
          },
          "yaxis": {
           "automargin": true,
           "gridcolor": "white",
           "linecolor": "white",
           "ticks": "",
           "title": {
            "standoff": 15
           },
           "zerolinecolor": "white",
           "zerolinewidth": 2
          }
         }
        },
        "xaxis": {
         "anchor": "y",
         "domain": [
          0,
          1
         ]
        },
        "yaxis": {
         "anchor": "x",
         "domain": [
          0,
          1
         ],
         "title": {
          "text": "e"
         }
        }
       }
      }
     },
     "metadata": {},
     "output_type": "display_data"
    },
    {
     "data": {
      "application/vnd.plotly.v1+json": {
       "config": {
        "plotlyServerURL": "https://plot.ly"
       },
       "data": [
        {
         "alignmentgroup": "True",
         "hovertemplate": "dIf=%{y}<extra></extra>",
         "legendgroup": "",
         "marker": {
          "color": "#636efa"
         },
         "name": "",
         "notched": false,
         "offsetgroup": "",
         "orientation": "v",
         "showlegend": false,
         "type": "box",
         "x0": " ",
         "xaxis": "x",
         "y": [
          0.383,
          0.372,
          0.36,
          0.338,
          0.317,
          0.301,
          0.29,
          0.28,
          0.25,
          0.221,
          0.192,
          0.165,
          0.138,
          0.098,
          0.057,
          0.037,
          0.037,
          0.037,
          0.397,
          0.414,
          0.442,
          0.369,
          0.385,
          0.31,
          0.325,
          0.349,
          0.27,
          0.277,
          0.193,
          0.2,
          0.216,
          0.118,
          0.124,
          0.139,
          0.139,
          0.139,
          0.393,
          0.409,
          0.436,
          0.361,
          0.377,
          0.306,
          0.318,
          0.338,
          0.258,
          0.266,
          0.183,
          0.189,
          0.202,
          0.102,
          0.11,
          0.118,
          0.118,
          0.118,
          0.389,
          0.405,
          0.43,
          0.355,
          0.369,
          0.303,
          0.312,
          0.328,
          0.25,
          0.255,
          0.174,
          0.181,
          0.188,
          0.091,
          0.095,
          0.098,
          0.098,
          0.098,
          0.385,
          0.402,
          0.424,
          0.345,
          0.361,
          0.299,
          0.306,
          0.317,
          0.238,
          0.245,
          0.164,
          0.17,
          0.174,
          0.074,
          0.08,
          0.077,
          0.077,
          0.077,
          0.372,
          0.395,
          0.418,
          0.328,
          0.349,
          0.285,
          0.296,
          0.306,
          0.216,
          0.225,
          0.142,
          0.151,
          0.16,
          0.045,
          0.052,
          0.056,
          0.056,
          0.056,
          0.457,
          0.476,
          0.112,
          0.116,
          0.119,
          0.119,
          0.119,
          0.123,
          0.131,
          0.14,
          0.14,
          0.14,
          0.14,
          0.146,
          0.162,
          0.162,
          0.162,
          0.2,
          0.21,
          0.21,
          0.22,
          0.221,
          0.222,
          0.235,
          0.241,
          0.261,
          0.287,
          0.295,
          0.299,
          0.307,
          0.311,
          0.322,
          0.345,
          0.353,
          0.361,
          0.361,
          0.367,
          0.377,
          0.383,
          0.395,
          0.406,
          0.412,
          0.419,
          0.427,
          0.427,
          0.436,
          0.444,
          0.445,
          0.449,
          0.453,
          0.462,
          0.466,
          0.47,
          0.486,
          0.492,
          0.499,
          0.505,
          0.402,
          0.418,
          0.337,
          0.353,
          0.372,
          0.274,
          0.288,
          0.064,
          0.072,
          0.076,
          0.076,
          0.076,
          0.095,
          0.097,
          0.097,
          0.097,
          0.1,
          0.162,
          0.165,
          0.168,
          0.174,
          0.183,
          0.184,
          0.184,
          0.184,
          0.19,
          0.197,
          0.202,
          0.25,
          0.263,
          0.27,
          0.278,
          0.308,
          0.317,
          0.338,
          0.36,
          0.361,
          0.378,
          0.383,
          0.406,
          0.418,
          0.43,
          0.436,
          0.455,
          0.467,
          0.479,
          0.489,
          0.508,
          0.517,
          0.522,
          0.534,
          0.541,
          0.572,
          0.133,
          0.137,
          0.14,
          0.14,
          0.14,
          0.145,
          0.153,
          0.162,
          0.162,
          0.162,
          0.235,
          0.246,
          0.249,
          0.257,
          0.26,
          0.282,
          0.34,
          0.349,
          0.354,
          0.366,
          0.402,
          0.41,
          0.419,
          0.425,
          0.442,
          0.455,
          0.473,
          0.48,
          0.489,
          0.499,
          0.512,
          0.531,
          0.559,
          0.565,
          0.507,
          0.526,
          0.552,
          0.462,
          0.48,
          0.394,
          0.41,
          0.43,
          0.326,
          0.341,
          0.222,
          0.228,
          0.231,
          0.116,
          0.121,
          0.118,
          0.118,
          0.118,
          0.492,
          0.519,
          0.545,
          0.442,
          0.467,
          0.372,
          0.395,
          0.418,
          0.301,
          0.322,
          0.188,
          0.197,
          0.206,
          0.084,
          0.092,
          0.096,
          0.096,
          0.096,
          0.59,
          0.61,
          0.644,
          0.556,
          0.576,
          0.475,
          0.494,
          0.526,
          0.406,
          0.415,
          0.308,
          0.316,
          0.181,
          0.188,
          0.207,
          0.207,
          0.207,
          0.608,
          0.595,
          0.615,
          0.536,
          0.554,
          0.587,
          0.473,
          0.49,
          0.39,
          0.396,
          0.413,
          0.288,
          0.297,
          0.165,
          0.17,
          0.185,
          0.185,
          0.185,
          0.622,
          0.592,
          0.61,
          0.527,
          0.546,
          0.573,
          0.466,
          0.476,
          0.378,
          0.386,
          0.395,
          0.274,
          0.278,
          0.15,
          0.157,
          0.162,
          0.162,
          0.162,
          0.637,
          0.585,
          0.605,
          0.517,
          0.536,
          0.559,
          0.453,
          0.462,
          0.365,
          0.373,
          0.378,
          0.253,
          0.26,
          0.134,
          0.14,
          0.14,
          0.14,
          0.14,
          0.651,
          0.573,
          0.601,
          0.492,
          0.519,
          0.545,
          0.43,
          0.442,
          0.338,
          0.349,
          0.36,
          0.216,
          0.225,
          0.1,
          0.109,
          0.117,
          0.117,
          0.117,
          0.666,
          0.668,
          0.69,
          0.605,
          0.615,
          0.637,
          0.536,
          0.546,
          0.436,
          0.454,
          0.487,
          0.338,
          0.347,
          0.208,
          0.222,
          0.252,
          0.252,
          0.252,
          0.682,
          0.66,
          0.679,
          0.595,
          0.603,
          0.622,
          0.524,
          0.536,
          0.424,
          0.437,
          0.463,
          0.32,
          0.331,
          0.192,
          0.201,
          0.223,
          0.223,
          0.223,
          0.697,
          0.656,
          0.668,
          0.585,
          0.595,
          0.608,
          0.513,
          0.527,
          0.411,
          0.423,
          0.438,
          0.305,
          0.315,
          0.176,
          0.185,
          0.195,
          0.195,
          0.195,
          0.713,
          0.647,
          0.657,
          0.575,
          0.585,
          0.593,
          0.499,
          0.517,
          0.398,
          0.407,
          0.414,
          0.286,
          0.3,
          0.159,
          0.165,
          0.166,
          0.166,
          0.166,
          0.728,
          0.629,
          0.644,
          0.552,
          0.565,
          0.579,
          0.474,
          0.499,
          0.366,
          0.377,
          0.389,
          0.25,
          0.27,
          0.121,
          0.13,
          0.138,
          0.138,
          0.138,
          0.736,
          0.729,
          0.74,
          0.652,
          0.674,
          0.713,
          0.585,
          0.606,
          0.49,
          0.499,
          0.526,
          0.378,
          0.395,
          0.246,
          0.254,
          0.277,
          0.277,
          0.277,
          0.744,
          0.72,
          0.735,
          0.641,
          0.661,
          0.697,
          0.573,
          0.591,
          0.472,
          0.481,
          0.506,
          0.359,
          0.375,
          0.226,
          0.23,
          0.248,
          0.248,
          0.248,
          0.753,
          0.711,
          0.729,
          0.631,
          0.652,
          0.682,
          0.565,
          0.575,
          0.455,
          0.471,
          0.487,
          0.347,
          0.355,
          0.206,
          0.214,
          0.218,
          0.218,
          0.218,
          0.761,
          0.701,
          0.723,
          0.621,
          0.641,
          0.666,
          0.551,
          0.56,
          0.437,
          0.454,
          0.467,
          0.327,
          0.334,
          0.185,
          0.192,
          0.189,
          0.189,
          0.189,
          0.769,
          0.682,
          0.713,
          0.593,
          0.622,
          0.651,
          0.525,
          0.538,
          0.401,
          0.424,
          0.448,
          0.29,
          0.301,
          0.142,
          0.151,
          0.16,
          0.16,
          0.16
         ],
         "y0": " ",
         "yaxis": "y"
        }
       ],
       "layout": {
        "boxmode": "group",
        "legend": {
         "tracegroupgap": 0
        },
        "margin": {
         "t": 60
        },
        "template": {
         "data": {
          "bar": [
           {
            "error_x": {
             "color": "#2a3f5f"
            },
            "error_y": {
             "color": "#2a3f5f"
            },
            "marker": {
             "line": {
              "color": "#E5ECF6",
              "width": 0.5
             },
             "pattern": {
              "fillmode": "overlay",
              "size": 10,
              "solidity": 0.2
             }
            },
            "type": "bar"
           }
          ],
          "barpolar": [
           {
            "marker": {
             "line": {
              "color": "#E5ECF6",
              "width": 0.5
             },
             "pattern": {
              "fillmode": "overlay",
              "size": 10,
              "solidity": 0.2
             }
            },
            "type": "barpolar"
           }
          ],
          "carpet": [
           {
            "aaxis": {
             "endlinecolor": "#2a3f5f",
             "gridcolor": "white",
             "linecolor": "white",
             "minorgridcolor": "white",
             "startlinecolor": "#2a3f5f"
            },
            "baxis": {
             "endlinecolor": "#2a3f5f",
             "gridcolor": "white",
             "linecolor": "white",
             "minorgridcolor": "white",
             "startlinecolor": "#2a3f5f"
            },
            "type": "carpet"
           }
          ],
          "choropleth": [
           {
            "colorbar": {
             "outlinewidth": 0,
             "ticks": ""
            },
            "type": "choropleth"
           }
          ],
          "contour": [
           {
            "colorbar": {
             "outlinewidth": 0,
             "ticks": ""
            },
            "colorscale": [
             [
              0,
              "#0d0887"
             ],
             [
              0.1111111111111111,
              "#46039f"
             ],
             [
              0.2222222222222222,
              "#7201a8"
             ],
             [
              0.3333333333333333,
              "#9c179e"
             ],
             [
              0.4444444444444444,
              "#bd3786"
             ],
             [
              0.5555555555555556,
              "#d8576b"
             ],
             [
              0.6666666666666666,
              "#ed7953"
             ],
             [
              0.7777777777777778,
              "#fb9f3a"
             ],
             [
              0.8888888888888888,
              "#fdca26"
             ],
             [
              1,
              "#f0f921"
             ]
            ],
            "type": "contour"
           }
          ],
          "contourcarpet": [
           {
            "colorbar": {
             "outlinewidth": 0,
             "ticks": ""
            },
            "type": "contourcarpet"
           }
          ],
          "heatmap": [
           {
            "colorbar": {
             "outlinewidth": 0,
             "ticks": ""
            },
            "colorscale": [
             [
              0,
              "#0d0887"
             ],
             [
              0.1111111111111111,
              "#46039f"
             ],
             [
              0.2222222222222222,
              "#7201a8"
             ],
             [
              0.3333333333333333,
              "#9c179e"
             ],
             [
              0.4444444444444444,
              "#bd3786"
             ],
             [
              0.5555555555555556,
              "#d8576b"
             ],
             [
              0.6666666666666666,
              "#ed7953"
             ],
             [
              0.7777777777777778,
              "#fb9f3a"
             ],
             [
              0.8888888888888888,
              "#fdca26"
             ],
             [
              1,
              "#f0f921"
             ]
            ],
            "type": "heatmap"
           }
          ],
          "heatmapgl": [
           {
            "colorbar": {
             "outlinewidth": 0,
             "ticks": ""
            },
            "colorscale": [
             [
              0,
              "#0d0887"
             ],
             [
              0.1111111111111111,
              "#46039f"
             ],
             [
              0.2222222222222222,
              "#7201a8"
             ],
             [
              0.3333333333333333,
              "#9c179e"
             ],
             [
              0.4444444444444444,
              "#bd3786"
             ],
             [
              0.5555555555555556,
              "#d8576b"
             ],
             [
              0.6666666666666666,
              "#ed7953"
             ],
             [
              0.7777777777777778,
              "#fb9f3a"
             ],
             [
              0.8888888888888888,
              "#fdca26"
             ],
             [
              1,
              "#f0f921"
             ]
            ],
            "type": "heatmapgl"
           }
          ],
          "histogram": [
           {
            "marker": {
             "pattern": {
              "fillmode": "overlay",
              "size": 10,
              "solidity": 0.2
             }
            },
            "type": "histogram"
           }
          ],
          "histogram2d": [
           {
            "colorbar": {
             "outlinewidth": 0,
             "ticks": ""
            },
            "colorscale": [
             [
              0,
              "#0d0887"
             ],
             [
              0.1111111111111111,
              "#46039f"
             ],
             [
              0.2222222222222222,
              "#7201a8"
             ],
             [
              0.3333333333333333,
              "#9c179e"
             ],
             [
              0.4444444444444444,
              "#bd3786"
             ],
             [
              0.5555555555555556,
              "#d8576b"
             ],
             [
              0.6666666666666666,
              "#ed7953"
             ],
             [
              0.7777777777777778,
              "#fb9f3a"
             ],
             [
              0.8888888888888888,
              "#fdca26"
             ],
             [
              1,
              "#f0f921"
             ]
            ],
            "type": "histogram2d"
           }
          ],
          "histogram2dcontour": [
           {
            "colorbar": {
             "outlinewidth": 0,
             "ticks": ""
            },
            "colorscale": [
             [
              0,
              "#0d0887"
             ],
             [
              0.1111111111111111,
              "#46039f"
             ],
             [
              0.2222222222222222,
              "#7201a8"
             ],
             [
              0.3333333333333333,
              "#9c179e"
             ],
             [
              0.4444444444444444,
              "#bd3786"
             ],
             [
              0.5555555555555556,
              "#d8576b"
             ],
             [
              0.6666666666666666,
              "#ed7953"
             ],
             [
              0.7777777777777778,
              "#fb9f3a"
             ],
             [
              0.8888888888888888,
              "#fdca26"
             ],
             [
              1,
              "#f0f921"
             ]
            ],
            "type": "histogram2dcontour"
           }
          ],
          "mesh3d": [
           {
            "colorbar": {
             "outlinewidth": 0,
             "ticks": ""
            },
            "type": "mesh3d"
           }
          ],
          "parcoords": [
           {
            "line": {
             "colorbar": {
              "outlinewidth": 0,
              "ticks": ""
             }
            },
            "type": "parcoords"
           }
          ],
          "pie": [
           {
            "automargin": true,
            "type": "pie"
           }
          ],
          "scatter": [
           {
            "fillpattern": {
             "fillmode": "overlay",
             "size": 10,
             "solidity": 0.2
            },
            "type": "scatter"
           }
          ],
          "scatter3d": [
           {
            "line": {
             "colorbar": {
              "outlinewidth": 0,
              "ticks": ""
             }
            },
            "marker": {
             "colorbar": {
              "outlinewidth": 0,
              "ticks": ""
             }
            },
            "type": "scatter3d"
           }
          ],
          "scattercarpet": [
           {
            "marker": {
             "colorbar": {
              "outlinewidth": 0,
              "ticks": ""
             }
            },
            "type": "scattercarpet"
           }
          ],
          "scattergeo": [
           {
            "marker": {
             "colorbar": {
              "outlinewidth": 0,
              "ticks": ""
             }
            },
            "type": "scattergeo"
           }
          ],
          "scattergl": [
           {
            "marker": {
             "colorbar": {
              "outlinewidth": 0,
              "ticks": ""
             }
            },
            "type": "scattergl"
           }
          ],
          "scattermapbox": [
           {
            "marker": {
             "colorbar": {
              "outlinewidth": 0,
              "ticks": ""
             }
            },
            "type": "scattermapbox"
           }
          ],
          "scatterpolar": [
           {
            "marker": {
             "colorbar": {
              "outlinewidth": 0,
              "ticks": ""
             }
            },
            "type": "scatterpolar"
           }
          ],
          "scatterpolargl": [
           {
            "marker": {
             "colorbar": {
              "outlinewidth": 0,
              "ticks": ""
             }
            },
            "type": "scatterpolargl"
           }
          ],
          "scatterternary": [
           {
            "marker": {
             "colorbar": {
              "outlinewidth": 0,
              "ticks": ""
             }
            },
            "type": "scatterternary"
           }
          ],
          "surface": [
           {
            "colorbar": {
             "outlinewidth": 0,
             "ticks": ""
            },
            "colorscale": [
             [
              0,
              "#0d0887"
             ],
             [
              0.1111111111111111,
              "#46039f"
             ],
             [
              0.2222222222222222,
              "#7201a8"
             ],
             [
              0.3333333333333333,
              "#9c179e"
             ],
             [
              0.4444444444444444,
              "#bd3786"
             ],
             [
              0.5555555555555556,
              "#d8576b"
             ],
             [
              0.6666666666666666,
              "#ed7953"
             ],
             [
              0.7777777777777778,
              "#fb9f3a"
             ],
             [
              0.8888888888888888,
              "#fdca26"
             ],
             [
              1,
              "#f0f921"
             ]
            ],
            "type": "surface"
           }
          ],
          "table": [
           {
            "cells": {
             "fill": {
              "color": "#EBF0F8"
             },
             "line": {
              "color": "white"
             }
            },
            "header": {
             "fill": {
              "color": "#C8D4E3"
             },
             "line": {
              "color": "white"
             }
            },
            "type": "table"
           }
          ]
         },
         "layout": {
          "annotationdefaults": {
           "arrowcolor": "#2a3f5f",
           "arrowhead": 0,
           "arrowwidth": 1
          },
          "autotypenumbers": "strict",
          "coloraxis": {
           "colorbar": {
            "outlinewidth": 0,
            "ticks": ""
           }
          },
          "colorscale": {
           "diverging": [
            [
             0,
             "#8e0152"
            ],
            [
             0.1,
             "#c51b7d"
            ],
            [
             0.2,
             "#de77ae"
            ],
            [
             0.3,
             "#f1b6da"
            ],
            [
             0.4,
             "#fde0ef"
            ],
            [
             0.5,
             "#f7f7f7"
            ],
            [
             0.6,
             "#e6f5d0"
            ],
            [
             0.7,
             "#b8e186"
            ],
            [
             0.8,
             "#7fbc41"
            ],
            [
             0.9,
             "#4d9221"
            ],
            [
             1,
             "#276419"
            ]
           ],
           "sequential": [
            [
             0,
             "#0d0887"
            ],
            [
             0.1111111111111111,
             "#46039f"
            ],
            [
             0.2222222222222222,
             "#7201a8"
            ],
            [
             0.3333333333333333,
             "#9c179e"
            ],
            [
             0.4444444444444444,
             "#bd3786"
            ],
            [
             0.5555555555555556,
             "#d8576b"
            ],
            [
             0.6666666666666666,
             "#ed7953"
            ],
            [
             0.7777777777777778,
             "#fb9f3a"
            ],
            [
             0.8888888888888888,
             "#fdca26"
            ],
            [
             1,
             "#f0f921"
            ]
           ],
           "sequentialminus": [
            [
             0,
             "#0d0887"
            ],
            [
             0.1111111111111111,
             "#46039f"
            ],
            [
             0.2222222222222222,
             "#7201a8"
            ],
            [
             0.3333333333333333,
             "#9c179e"
            ],
            [
             0.4444444444444444,
             "#bd3786"
            ],
            [
             0.5555555555555556,
             "#d8576b"
            ],
            [
             0.6666666666666666,
             "#ed7953"
            ],
            [
             0.7777777777777778,
             "#fb9f3a"
            ],
            [
             0.8888888888888888,
             "#fdca26"
            ],
            [
             1,
             "#f0f921"
            ]
           ]
          },
          "colorway": [
           "#636efa",
           "#EF553B",
           "#00cc96",
           "#ab63fa",
           "#FFA15A",
           "#19d3f3",
           "#FF6692",
           "#B6E880",
           "#FF97FF",
           "#FECB52"
          ],
          "font": {
           "color": "#2a3f5f"
          },
          "geo": {
           "bgcolor": "white",
           "lakecolor": "white",
           "landcolor": "#E5ECF6",
           "showlakes": true,
           "showland": true,
           "subunitcolor": "white"
          },
          "hoverlabel": {
           "align": "left"
          },
          "hovermode": "closest",
          "mapbox": {
           "style": "light"
          },
          "paper_bgcolor": "white",
          "plot_bgcolor": "#E5ECF6",
          "polar": {
           "angularaxis": {
            "gridcolor": "white",
            "linecolor": "white",
            "ticks": ""
           },
           "bgcolor": "#E5ECF6",
           "radialaxis": {
            "gridcolor": "white",
            "linecolor": "white",
            "ticks": ""
           }
          },
          "scene": {
           "xaxis": {
            "backgroundcolor": "#E5ECF6",
            "gridcolor": "white",
            "gridwidth": 2,
            "linecolor": "white",
            "showbackground": true,
            "ticks": "",
            "zerolinecolor": "white"
           },
           "yaxis": {
            "backgroundcolor": "#E5ECF6",
            "gridcolor": "white",
            "gridwidth": 2,
            "linecolor": "white",
            "showbackground": true,
            "ticks": "",
            "zerolinecolor": "white"
           },
           "zaxis": {
            "backgroundcolor": "#E5ECF6",
            "gridcolor": "white",
            "gridwidth": 2,
            "linecolor": "white",
            "showbackground": true,
            "ticks": "",
            "zerolinecolor": "white"
           }
          },
          "shapedefaults": {
           "line": {
            "color": "#2a3f5f"
           }
          },
          "ternary": {
           "aaxis": {
            "gridcolor": "white",
            "linecolor": "white",
            "ticks": ""
           },
           "baxis": {
            "gridcolor": "white",
            "linecolor": "white",
            "ticks": ""
           },
           "bgcolor": "#E5ECF6",
           "caxis": {
            "gridcolor": "white",
            "linecolor": "white",
            "ticks": ""
           }
          },
          "title": {
           "x": 0.05
          },
          "xaxis": {
           "automargin": true,
           "gridcolor": "white",
           "linecolor": "white",
           "ticks": "",
           "title": {
            "standoff": 15
           },
           "zerolinecolor": "white",
           "zerolinewidth": 2
          },
          "yaxis": {
           "automargin": true,
           "gridcolor": "white",
           "linecolor": "white",
           "ticks": "",
           "title": {
            "standoff": 15
           },
           "zerolinecolor": "white",
           "zerolinewidth": 2
          }
         }
        },
        "xaxis": {
         "anchor": "y",
         "domain": [
          0,
          1
         ]
        },
        "yaxis": {
         "anchor": "x",
         "domain": [
          0,
          1
         ],
         "title": {
          "text": "dIf"
         }
        }
       }
      }
     },
     "metadata": {},
     "output_type": "display_data"
    },
    {
     "data": {
      "application/vnd.plotly.v1+json": {
       "config": {
        "plotlyServerURL": "https://plot.ly"
       },
       "data": [
        {
         "alignmentgroup": "True",
         "hovertemplate": "If=%{y}<extra></extra>",
         "legendgroup": "",
         "marker": {
          "color": "#636efa"
         },
         "name": "",
         "notched": false,
         "offsetgroup": "",
         "orientation": "v",
         "showlegend": false,
         "type": "box",
         "x0": " ",
         "xaxis": "x",
         "y": [
          1.563,
          1.552,
          1.54,
          1.518,
          1.497,
          1.481,
          1.47,
          1.46,
          1.43,
          1.401,
          1.372,
          1.345,
          1.318,
          1.278,
          1.237,
          1.217,
          1.217,
          1.217,
          1.577,
          1.594,
          1.622,
          1.549,
          1.565,
          1.49,
          1.505,
          1.529,
          1.45,
          1.457,
          1.373,
          1.38,
          1.396,
          1.298,
          1.304,
          1.319,
          1.319,
          1.319,
          1.573,
          1.589,
          1.616,
          1.541,
          1.557,
          1.486,
          1.498,
          1.518,
          1.438,
          1.446,
          1.363,
          1.369,
          1.382,
          1.282,
          1.29,
          1.298,
          1.298,
          1.298,
          1.569,
          1.585,
          1.61,
          1.535,
          1.549,
          1.483,
          1.492,
          1.508,
          1.43,
          1.435,
          1.354,
          1.361,
          1.368,
          1.271,
          1.275,
          1.278,
          1.278,
          1.278,
          1.565,
          1.582,
          1.604,
          1.525,
          1.541,
          1.479,
          1.486,
          1.497,
          1.418,
          1.425,
          1.344,
          1.35,
          1.354,
          1.254,
          1.26,
          1.257,
          1.257,
          1.257,
          1.552,
          1.575,
          1.598,
          1.508,
          1.529,
          1.465,
          1.476,
          1.486,
          1.396,
          1.405,
          1.322,
          1.331,
          1.34,
          1.225,
          1.232,
          1.236,
          1.236,
          1.236,
          1.637,
          1.656,
          1.292,
          1.296,
          1.299,
          1.299,
          1.299,
          1.303,
          1.311,
          1.32,
          1.32,
          1.32,
          1.32,
          1.326,
          1.342,
          1.342,
          1.342,
          1.38,
          1.39,
          1.39,
          1.4,
          1.401,
          1.402,
          1.415,
          1.421,
          1.441,
          1.467,
          1.475,
          1.479,
          1.487,
          1.491,
          1.502,
          1.525,
          1.533,
          1.541,
          1.541,
          1.547,
          1.557,
          1.563,
          1.575,
          1.586,
          1.592,
          1.599,
          1.607,
          1.607,
          1.616,
          1.624,
          1.625,
          1.629,
          1.633,
          1.642,
          1.646,
          1.65,
          1.666,
          1.672,
          1.679,
          1.685,
          1.582,
          1.598,
          1.517,
          1.533,
          1.552,
          1.454,
          1.468,
          1.244,
          1.252,
          1.256,
          1.256,
          1.256,
          1.275,
          1.277,
          1.277,
          1.277,
          1.28,
          1.342,
          1.345,
          1.348,
          1.354,
          1.363,
          1.364,
          1.364,
          1.364,
          1.37,
          1.377,
          1.382,
          1.43,
          1.443,
          1.45,
          1.458,
          1.488,
          1.497,
          1.518,
          1.54,
          1.541,
          1.558,
          1.563,
          1.586,
          1.598,
          1.61,
          1.616,
          1.635,
          1.647,
          1.659,
          1.669,
          1.688,
          1.697,
          1.702,
          1.714,
          1.721,
          1.752,
          1.313,
          1.317,
          1.32,
          1.32,
          1.32,
          1.325,
          1.333,
          1.342,
          1.342,
          1.342,
          1.415,
          1.426,
          1.429,
          1.437,
          1.44,
          1.462,
          1.52,
          1.529,
          1.534,
          1.546,
          1.582,
          1.59,
          1.599,
          1.605,
          1.622,
          1.635,
          1.653,
          1.66,
          1.669,
          1.679,
          1.692,
          1.711,
          1.739,
          1.745,
          1.687,
          1.706,
          1.732,
          1.642,
          1.66,
          1.574,
          1.59,
          1.61,
          1.506,
          1.521,
          1.402,
          1.408,
          1.411,
          1.296,
          1.301,
          1.298,
          1.298,
          1.298,
          1.672,
          1.699,
          1.725,
          1.622,
          1.647,
          1.552,
          1.575,
          1.598,
          1.481,
          1.502,
          1.368,
          1.377,
          1.386,
          1.264,
          1.272,
          1.276,
          1.276,
          1.276,
          1.77,
          1.79,
          1.824,
          1.736,
          1.756,
          1.655,
          1.674,
          1.706,
          1.586,
          1.595,
          1.488,
          1.496,
          1.361,
          1.368,
          1.387,
          1.387,
          1.387,
          1.788,
          1.775,
          1.795,
          1.716,
          1.734,
          1.767,
          1.653,
          1.67,
          1.57,
          1.576,
          1.593,
          1.468,
          1.477,
          1.345,
          1.35,
          1.365,
          1.365,
          1.365,
          1.802,
          1.772,
          1.79,
          1.707,
          1.726,
          1.753,
          1.646,
          1.656,
          1.558,
          1.566,
          1.575,
          1.454,
          1.458,
          1.33,
          1.337,
          1.342,
          1.342,
          1.342,
          1.817,
          1.765,
          1.785,
          1.697,
          1.716,
          1.739,
          1.633,
          1.642,
          1.545,
          1.553,
          1.558,
          1.433,
          1.44,
          1.314,
          1.32,
          1.32,
          1.32,
          1.32,
          1.831,
          1.753,
          1.781,
          1.672,
          1.699,
          1.725,
          1.61,
          1.622,
          1.518,
          1.529,
          1.54,
          1.396,
          1.405,
          1.28,
          1.289,
          1.297,
          1.297,
          1.297,
          1.846,
          1.848,
          1.87,
          1.785,
          1.795,
          1.817,
          1.716,
          1.726,
          1.616,
          1.634,
          1.667,
          1.518,
          1.527,
          1.388,
          1.402,
          1.432,
          1.432,
          1.432,
          1.862,
          1.84,
          1.859,
          1.775,
          1.783,
          1.802,
          1.704,
          1.716,
          1.604,
          1.617,
          1.643,
          1.5,
          1.511,
          1.372,
          1.381,
          1.403,
          1.403,
          1.403,
          1.877,
          1.836,
          1.848,
          1.765,
          1.775,
          1.788,
          1.693,
          1.707,
          1.591,
          1.603,
          1.618,
          1.485,
          1.495,
          1.356,
          1.365,
          1.375,
          1.375,
          1.375,
          1.893,
          1.827,
          1.837,
          1.755,
          1.765,
          1.773,
          1.679,
          1.697,
          1.578,
          1.587,
          1.594,
          1.466,
          1.48,
          1.339,
          1.345,
          1.346,
          1.346,
          1.346,
          1.908,
          1.809,
          1.824,
          1.732,
          1.745,
          1.759,
          1.654,
          1.679,
          1.546,
          1.557,
          1.569,
          1.43,
          1.45,
          1.301,
          1.31,
          1.318,
          1.318,
          1.318,
          1.916,
          1.909,
          1.92,
          1.832,
          1.854,
          1.893,
          1.765,
          1.786,
          1.67,
          1.679,
          1.706,
          1.558,
          1.575,
          1.426,
          1.434,
          1.457,
          1.457,
          1.457,
          1.924,
          1.9,
          1.915,
          1.821,
          1.841,
          1.877,
          1.753,
          1.771,
          1.652,
          1.661,
          1.686,
          1.539,
          1.555,
          1.406,
          1.41,
          1.428,
          1.428,
          1.428,
          1.933,
          1.891,
          1.909,
          1.811,
          1.832,
          1.862,
          1.745,
          1.755,
          1.635,
          1.651,
          1.667,
          1.527,
          1.535,
          1.386,
          1.394,
          1.398,
          1.398,
          1.398,
          1.941,
          1.881,
          1.903,
          1.801,
          1.821,
          1.846,
          1.731,
          1.74,
          1.617,
          1.634,
          1.647,
          1.507,
          1.514,
          1.365,
          1.372,
          1.369,
          1.369,
          1.369,
          1.949,
          1.862,
          1.893,
          1.773,
          1.802,
          1.831,
          1.705,
          1.718,
          1.581,
          1.604,
          1.628,
          1.47,
          1.481,
          1.322,
          1.331,
          1.34,
          1.34,
          1.34
         ],
         "y0": " ",
         "yaxis": "y"
        }
       ],
       "layout": {
        "boxmode": "group",
        "legend": {
         "tracegroupgap": 0
        },
        "margin": {
         "t": 60
        },
        "template": {
         "data": {
          "bar": [
           {
            "error_x": {
             "color": "#2a3f5f"
            },
            "error_y": {
             "color": "#2a3f5f"
            },
            "marker": {
             "line": {
              "color": "#E5ECF6",
              "width": 0.5
             },
             "pattern": {
              "fillmode": "overlay",
              "size": 10,
              "solidity": 0.2
             }
            },
            "type": "bar"
           }
          ],
          "barpolar": [
           {
            "marker": {
             "line": {
              "color": "#E5ECF6",
              "width": 0.5
             },
             "pattern": {
              "fillmode": "overlay",
              "size": 10,
              "solidity": 0.2
             }
            },
            "type": "barpolar"
           }
          ],
          "carpet": [
           {
            "aaxis": {
             "endlinecolor": "#2a3f5f",
             "gridcolor": "white",
             "linecolor": "white",
             "minorgridcolor": "white",
             "startlinecolor": "#2a3f5f"
            },
            "baxis": {
             "endlinecolor": "#2a3f5f",
             "gridcolor": "white",
             "linecolor": "white",
             "minorgridcolor": "white",
             "startlinecolor": "#2a3f5f"
            },
            "type": "carpet"
           }
          ],
          "choropleth": [
           {
            "colorbar": {
             "outlinewidth": 0,
             "ticks": ""
            },
            "type": "choropleth"
           }
          ],
          "contour": [
           {
            "colorbar": {
             "outlinewidth": 0,
             "ticks": ""
            },
            "colorscale": [
             [
              0,
              "#0d0887"
             ],
             [
              0.1111111111111111,
              "#46039f"
             ],
             [
              0.2222222222222222,
              "#7201a8"
             ],
             [
              0.3333333333333333,
              "#9c179e"
             ],
             [
              0.4444444444444444,
              "#bd3786"
             ],
             [
              0.5555555555555556,
              "#d8576b"
             ],
             [
              0.6666666666666666,
              "#ed7953"
             ],
             [
              0.7777777777777778,
              "#fb9f3a"
             ],
             [
              0.8888888888888888,
              "#fdca26"
             ],
             [
              1,
              "#f0f921"
             ]
            ],
            "type": "contour"
           }
          ],
          "contourcarpet": [
           {
            "colorbar": {
             "outlinewidth": 0,
             "ticks": ""
            },
            "type": "contourcarpet"
           }
          ],
          "heatmap": [
           {
            "colorbar": {
             "outlinewidth": 0,
             "ticks": ""
            },
            "colorscale": [
             [
              0,
              "#0d0887"
             ],
             [
              0.1111111111111111,
              "#46039f"
             ],
             [
              0.2222222222222222,
              "#7201a8"
             ],
             [
              0.3333333333333333,
              "#9c179e"
             ],
             [
              0.4444444444444444,
              "#bd3786"
             ],
             [
              0.5555555555555556,
              "#d8576b"
             ],
             [
              0.6666666666666666,
              "#ed7953"
             ],
             [
              0.7777777777777778,
              "#fb9f3a"
             ],
             [
              0.8888888888888888,
              "#fdca26"
             ],
             [
              1,
              "#f0f921"
             ]
            ],
            "type": "heatmap"
           }
          ],
          "heatmapgl": [
           {
            "colorbar": {
             "outlinewidth": 0,
             "ticks": ""
            },
            "colorscale": [
             [
              0,
              "#0d0887"
             ],
             [
              0.1111111111111111,
              "#46039f"
             ],
             [
              0.2222222222222222,
              "#7201a8"
             ],
             [
              0.3333333333333333,
              "#9c179e"
             ],
             [
              0.4444444444444444,
              "#bd3786"
             ],
             [
              0.5555555555555556,
              "#d8576b"
             ],
             [
              0.6666666666666666,
              "#ed7953"
             ],
             [
              0.7777777777777778,
              "#fb9f3a"
             ],
             [
              0.8888888888888888,
              "#fdca26"
             ],
             [
              1,
              "#f0f921"
             ]
            ],
            "type": "heatmapgl"
           }
          ],
          "histogram": [
           {
            "marker": {
             "pattern": {
              "fillmode": "overlay",
              "size": 10,
              "solidity": 0.2
             }
            },
            "type": "histogram"
           }
          ],
          "histogram2d": [
           {
            "colorbar": {
             "outlinewidth": 0,
             "ticks": ""
            },
            "colorscale": [
             [
              0,
              "#0d0887"
             ],
             [
              0.1111111111111111,
              "#46039f"
             ],
             [
              0.2222222222222222,
              "#7201a8"
             ],
             [
              0.3333333333333333,
              "#9c179e"
             ],
             [
              0.4444444444444444,
              "#bd3786"
             ],
             [
              0.5555555555555556,
              "#d8576b"
             ],
             [
              0.6666666666666666,
              "#ed7953"
             ],
             [
              0.7777777777777778,
              "#fb9f3a"
             ],
             [
              0.8888888888888888,
              "#fdca26"
             ],
             [
              1,
              "#f0f921"
             ]
            ],
            "type": "histogram2d"
           }
          ],
          "histogram2dcontour": [
           {
            "colorbar": {
             "outlinewidth": 0,
             "ticks": ""
            },
            "colorscale": [
             [
              0,
              "#0d0887"
             ],
             [
              0.1111111111111111,
              "#46039f"
             ],
             [
              0.2222222222222222,
              "#7201a8"
             ],
             [
              0.3333333333333333,
              "#9c179e"
             ],
             [
              0.4444444444444444,
              "#bd3786"
             ],
             [
              0.5555555555555556,
              "#d8576b"
             ],
             [
              0.6666666666666666,
              "#ed7953"
             ],
             [
              0.7777777777777778,
              "#fb9f3a"
             ],
             [
              0.8888888888888888,
              "#fdca26"
             ],
             [
              1,
              "#f0f921"
             ]
            ],
            "type": "histogram2dcontour"
           }
          ],
          "mesh3d": [
           {
            "colorbar": {
             "outlinewidth": 0,
             "ticks": ""
            },
            "type": "mesh3d"
           }
          ],
          "parcoords": [
           {
            "line": {
             "colorbar": {
              "outlinewidth": 0,
              "ticks": ""
             }
            },
            "type": "parcoords"
           }
          ],
          "pie": [
           {
            "automargin": true,
            "type": "pie"
           }
          ],
          "scatter": [
           {
            "fillpattern": {
             "fillmode": "overlay",
             "size": 10,
             "solidity": 0.2
            },
            "type": "scatter"
           }
          ],
          "scatter3d": [
           {
            "line": {
             "colorbar": {
              "outlinewidth": 0,
              "ticks": ""
             }
            },
            "marker": {
             "colorbar": {
              "outlinewidth": 0,
              "ticks": ""
             }
            },
            "type": "scatter3d"
           }
          ],
          "scattercarpet": [
           {
            "marker": {
             "colorbar": {
              "outlinewidth": 0,
              "ticks": ""
             }
            },
            "type": "scattercarpet"
           }
          ],
          "scattergeo": [
           {
            "marker": {
             "colorbar": {
              "outlinewidth": 0,
              "ticks": ""
             }
            },
            "type": "scattergeo"
           }
          ],
          "scattergl": [
           {
            "marker": {
             "colorbar": {
              "outlinewidth": 0,
              "ticks": ""
             }
            },
            "type": "scattergl"
           }
          ],
          "scattermapbox": [
           {
            "marker": {
             "colorbar": {
              "outlinewidth": 0,
              "ticks": ""
             }
            },
            "type": "scattermapbox"
           }
          ],
          "scatterpolar": [
           {
            "marker": {
             "colorbar": {
              "outlinewidth": 0,
              "ticks": ""
             }
            },
            "type": "scatterpolar"
           }
          ],
          "scatterpolargl": [
           {
            "marker": {
             "colorbar": {
              "outlinewidth": 0,
              "ticks": ""
             }
            },
            "type": "scatterpolargl"
           }
          ],
          "scatterternary": [
           {
            "marker": {
             "colorbar": {
              "outlinewidth": 0,
              "ticks": ""
             }
            },
            "type": "scatterternary"
           }
          ],
          "surface": [
           {
            "colorbar": {
             "outlinewidth": 0,
             "ticks": ""
            },
            "colorscale": [
             [
              0,
              "#0d0887"
             ],
             [
              0.1111111111111111,
              "#46039f"
             ],
             [
              0.2222222222222222,
              "#7201a8"
             ],
             [
              0.3333333333333333,
              "#9c179e"
             ],
             [
              0.4444444444444444,
              "#bd3786"
             ],
             [
              0.5555555555555556,
              "#d8576b"
             ],
             [
              0.6666666666666666,
              "#ed7953"
             ],
             [
              0.7777777777777778,
              "#fb9f3a"
             ],
             [
              0.8888888888888888,
              "#fdca26"
             ],
             [
              1,
              "#f0f921"
             ]
            ],
            "type": "surface"
           }
          ],
          "table": [
           {
            "cells": {
             "fill": {
              "color": "#EBF0F8"
             },
             "line": {
              "color": "white"
             }
            },
            "header": {
             "fill": {
              "color": "#C8D4E3"
             },
             "line": {
              "color": "white"
             }
            },
            "type": "table"
           }
          ]
         },
         "layout": {
          "annotationdefaults": {
           "arrowcolor": "#2a3f5f",
           "arrowhead": 0,
           "arrowwidth": 1
          },
          "autotypenumbers": "strict",
          "coloraxis": {
           "colorbar": {
            "outlinewidth": 0,
            "ticks": ""
           }
          },
          "colorscale": {
           "diverging": [
            [
             0,
             "#8e0152"
            ],
            [
             0.1,
             "#c51b7d"
            ],
            [
             0.2,
             "#de77ae"
            ],
            [
             0.3,
             "#f1b6da"
            ],
            [
             0.4,
             "#fde0ef"
            ],
            [
             0.5,
             "#f7f7f7"
            ],
            [
             0.6,
             "#e6f5d0"
            ],
            [
             0.7,
             "#b8e186"
            ],
            [
             0.8,
             "#7fbc41"
            ],
            [
             0.9,
             "#4d9221"
            ],
            [
             1,
             "#276419"
            ]
           ],
           "sequential": [
            [
             0,
             "#0d0887"
            ],
            [
             0.1111111111111111,
             "#46039f"
            ],
            [
             0.2222222222222222,
             "#7201a8"
            ],
            [
             0.3333333333333333,
             "#9c179e"
            ],
            [
             0.4444444444444444,
             "#bd3786"
            ],
            [
             0.5555555555555556,
             "#d8576b"
            ],
            [
             0.6666666666666666,
             "#ed7953"
            ],
            [
             0.7777777777777778,
             "#fb9f3a"
            ],
            [
             0.8888888888888888,
             "#fdca26"
            ],
            [
             1,
             "#f0f921"
            ]
           ],
           "sequentialminus": [
            [
             0,
             "#0d0887"
            ],
            [
             0.1111111111111111,
             "#46039f"
            ],
            [
             0.2222222222222222,
             "#7201a8"
            ],
            [
             0.3333333333333333,
             "#9c179e"
            ],
            [
             0.4444444444444444,
             "#bd3786"
            ],
            [
             0.5555555555555556,
             "#d8576b"
            ],
            [
             0.6666666666666666,
             "#ed7953"
            ],
            [
             0.7777777777777778,
             "#fb9f3a"
            ],
            [
             0.8888888888888888,
             "#fdca26"
            ],
            [
             1,
             "#f0f921"
            ]
           ]
          },
          "colorway": [
           "#636efa",
           "#EF553B",
           "#00cc96",
           "#ab63fa",
           "#FFA15A",
           "#19d3f3",
           "#FF6692",
           "#B6E880",
           "#FF97FF",
           "#FECB52"
          ],
          "font": {
           "color": "#2a3f5f"
          },
          "geo": {
           "bgcolor": "white",
           "lakecolor": "white",
           "landcolor": "#E5ECF6",
           "showlakes": true,
           "showland": true,
           "subunitcolor": "white"
          },
          "hoverlabel": {
           "align": "left"
          },
          "hovermode": "closest",
          "mapbox": {
           "style": "light"
          },
          "paper_bgcolor": "white",
          "plot_bgcolor": "#E5ECF6",
          "polar": {
           "angularaxis": {
            "gridcolor": "white",
            "linecolor": "white",
            "ticks": ""
           },
           "bgcolor": "#E5ECF6",
           "radialaxis": {
            "gridcolor": "white",
            "linecolor": "white",
            "ticks": ""
           }
          },
          "scene": {
           "xaxis": {
            "backgroundcolor": "#E5ECF6",
            "gridcolor": "white",
            "gridwidth": 2,
            "linecolor": "white",
            "showbackground": true,
            "ticks": "",
            "zerolinecolor": "white"
           },
           "yaxis": {
            "backgroundcolor": "#E5ECF6",
            "gridcolor": "white",
            "gridwidth": 2,
            "linecolor": "white",
            "showbackground": true,
            "ticks": "",
            "zerolinecolor": "white"
           },
           "zaxis": {
            "backgroundcolor": "#E5ECF6",
            "gridcolor": "white",
            "gridwidth": 2,
            "linecolor": "white",
            "showbackground": true,
            "ticks": "",
            "zerolinecolor": "white"
           }
          },
          "shapedefaults": {
           "line": {
            "color": "#2a3f5f"
           }
          },
          "ternary": {
           "aaxis": {
            "gridcolor": "white",
            "linecolor": "white",
            "ticks": ""
           },
           "baxis": {
            "gridcolor": "white",
            "linecolor": "white",
            "ticks": ""
           },
           "bgcolor": "#E5ECF6",
           "caxis": {
            "gridcolor": "white",
            "linecolor": "white",
            "ticks": ""
           }
          },
          "title": {
           "x": 0.05
          },
          "xaxis": {
           "automargin": true,
           "gridcolor": "white",
           "linecolor": "white",
           "ticks": "",
           "title": {
            "standoff": 15
           },
           "zerolinecolor": "white",
           "zerolinewidth": 2
          },
          "yaxis": {
           "automargin": true,
           "gridcolor": "white",
           "linecolor": "white",
           "ticks": "",
           "title": {
            "standoff": 15
           },
           "zerolinecolor": "white",
           "zerolinewidth": 2
          }
         }
        },
        "xaxis": {
         "anchor": "y",
         "domain": [
          0,
          1
         ]
        },
        "yaxis": {
         "anchor": "x",
         "domain": [
          0,
          1
         ],
         "title": {
          "text": "If"
         }
        }
       }
      }
     },
     "metadata": {},
     "output_type": "display_data"
    },
    {
     "name": "stdout",
     "output_type": "stream",
     "text": [
      "     Iy  PF   e  dIf  If\n",
      "0   NaN NaN NaN  NaN NaN\n",
      "1   NaN NaN NaN  NaN NaN\n",
      "2   NaN NaN NaN  NaN NaN\n",
      "3   NaN NaN NaN  NaN NaN\n",
      "4   NaN NaN NaN  NaN NaN\n",
      "..   ..  ..  ..  ...  ..\n",
      "552 NaN NaN NaN  NaN NaN\n",
      "553 NaN NaN NaN  NaN NaN\n",
      "554 NaN NaN NaN  NaN NaN\n",
      "555 NaN NaN NaN  NaN NaN\n",
      "556 NaN NaN NaN  NaN NaN\n",
      "\n",
      "[557 rows x 5 columns]\n"
     ]
    }
   ],
   "source": [
    "'''/* \n",
    "Recopila y muestra la información necesaria para conocer si hay outliers.\n",
    "*/'''\n",
    "\n",
    "# Retorna media, desviación estándar, min, cuantiles 25,50,75% y max.\n",
    "display(data_df.describe())\n",
    "# Retorna si hay valores en blanco o no numericos.\n",
    "display(data_df.isna().sum())\n",
    "\n",
    "# Establece los datos necesarios y títulos de eje para mostrar varias gráficas de caja.\n",
    "figIy = px.box(data_df, y='Iy')\n",
    "figIy.show()\n",
    "figPF = px.box(data_df, y='PF')\n",
    "figPF.show()\n",
    "fige = px.box(data_df, y='e')\n",
    "fige.show()\n",
    "figdIf = px.box(data_df, y='dIf')\n",
    "figdIf.show()\n",
    "figIf = px.box(data_df, y='If')\n",
    "figIf.show()\n",
    "\n",
    "'''/* \n",
    "Function: IQR_outlier\n",
    "\n",
    "Confirma de manera numérica la existencia de outliers.\n",
    "\n",
    "Parameters:\n",
    "\n",
    "    data_df - Datos recopilados del CSV.\n",
    "    \n",
    "Returns:\n",
    "\n",
    "    Un DataFrame que contiene si un dato se sale de los límites calculados.\n",
    "    Si un valor es igual a NaN significa que no es un outliers.\n",
    "*/'''\n",
    "\n",
    "def IQR_outlier(data_df):\n",
    "    \n",
    "    # Guarda el resultado del cuantil del 25%\n",
    "    q1 = data_df.quantile(0.25)\n",
    "    # Guarda el resultado del cuantil del 75%\n",
    "    q3 = data_df.quantile(0.75)\n",
    "    \n",
    "    # Calcula el rango entre cuantiles\n",
    "    IQR = q3-q1 \n",
    "    \n",
    "    ''' \n",
    "    Revisa si hay datos afuera de cada límite.\n",
    "    Los limites se calculan de la siguiente manera: \n",
    "        Límite superior: q3 + (1.5*IQR)\n",
    "        Límite inferior: q1 - (1.5*IQR)\n",
    "    '''\n",
    "    \n",
    "    outliers = data_df[((data_df<(q1-1.5*IQR)) | (data_df>(q3+1.5*IQR)))]\n",
    "\n",
    "    return outliers\n",
    "\n",
    "# Iprime el resultado de la función anterior.\n",
    "print(IQR_outlier(data_df))"
   ]
  },
  {
   "attachments": {},
   "cell_type": "markdown",
   "metadata": {},
   "source": [
    "# Separación de los set de datos y normalizacón\n",
    "### Se va a usar una función de activación sigmoide"
   ]
  },
  {
   "cell_type": "code",
   "execution_count": 351,
   "metadata": {},
   "outputs": [
    {
     "data": {
      "text/html": [
       "<div>\n",
       "<style scoped>\n",
       "    .dataframe tbody tr th:only-of-type {\n",
       "        vertical-align: middle;\n",
       "    }\n",
       "\n",
       "    .dataframe tbody tr th {\n",
       "        vertical-align: top;\n",
       "    }\n",
       "\n",
       "    .dataframe thead th {\n",
       "        text-align: right;\n",
       "    }\n",
       "</style>\n",
       "<table border=\"1\" class=\"dataframe\">\n",
       "  <thead>\n",
       "    <tr style=\"text-align: right;\">\n",
       "      <th></th>\n",
       "      <th>count</th>\n",
       "      <th>mean</th>\n",
       "      <th>std</th>\n",
       "      <th>min</th>\n",
       "      <th>25%</th>\n",
       "      <th>50%</th>\n",
       "      <th>75%</th>\n",
       "      <th>max</th>\n",
       "    </tr>\n",
       "  </thead>\n",
       "  <tbody>\n",
       "    <tr>\n",
       "      <th>Iy</th>\n",
       "      <td>557.0</td>\n",
       "      <td>4.499820</td>\n",
       "      <td>0.896024</td>\n",
       "      <td>3.000</td>\n",
       "      <td>3.700</td>\n",
       "      <td>4.500</td>\n",
       "      <td>5.300</td>\n",
       "      <td>6.000</td>\n",
       "    </tr>\n",
       "    <tr>\n",
       "      <th>PF</th>\n",
       "      <td>557.0</td>\n",
       "      <td>0.825296</td>\n",
       "      <td>0.103925</td>\n",
       "      <td>0.650</td>\n",
       "      <td>0.740</td>\n",
       "      <td>0.820</td>\n",
       "      <td>0.920</td>\n",
       "      <td>1.000</td>\n",
       "    </tr>\n",
       "    <tr>\n",
       "      <th>e</th>\n",
       "      <td>557.0</td>\n",
       "      <td>0.174704</td>\n",
       "      <td>0.103925</td>\n",
       "      <td>0.000</td>\n",
       "      <td>0.080</td>\n",
       "      <td>0.180</td>\n",
       "      <td>0.260</td>\n",
       "      <td>0.350</td>\n",
       "    </tr>\n",
       "    <tr>\n",
       "      <th>dIf</th>\n",
       "      <td>557.0</td>\n",
       "      <td>0.350659</td>\n",
       "      <td>0.180566</td>\n",
       "      <td>0.037</td>\n",
       "      <td>0.189</td>\n",
       "      <td>0.345</td>\n",
       "      <td>0.486</td>\n",
       "      <td>0.769</td>\n",
       "    </tr>\n",
       "    <tr>\n",
       "      <th>If</th>\n",
       "      <td>557.0</td>\n",
       "      <td>1.530659</td>\n",
       "      <td>0.180566</td>\n",
       "      <td>1.217</td>\n",
       "      <td>1.369</td>\n",
       "      <td>1.525</td>\n",
       "      <td>1.666</td>\n",
       "      <td>1.949</td>\n",
       "    </tr>\n",
       "  </tbody>\n",
       "</table>\n",
       "</div>"
      ],
      "text/plain": [
       "     count      mean       std    min    25%    50%    75%    max\n",
       "Iy   557.0  4.499820  0.896024  3.000  3.700  4.500  5.300  6.000\n",
       "PF   557.0  0.825296  0.103925  0.650  0.740  0.820  0.920  1.000\n",
       "e    557.0  0.174704  0.103925  0.000  0.080  0.180  0.260  0.350\n",
       "dIf  557.0  0.350659  0.180566  0.037  0.189  0.345  0.486  0.769\n",
       "If   557.0  1.530659  0.180566  1.217  1.369  1.525  1.666  1.949"
      ]
     },
     "metadata": {},
     "output_type": "display_data"
    }
   ],
   "source": [
    "'''/* \n",
    "Esta sección prepara los datos recopilados anteriormente en subsecciones para entrenamieto y prueba.\n",
    "Además de esto, normaliza los datos para poder ser ingresados a una función sigmoide.\n",
    "*/'''\n",
    "\n",
    "# Arreglo que contiene los datos de prueba dados por el profresor.\n",
    "tarea_data = [[3, 0.64, 0.01, 0.031], [4.38, 0.78, 0.14, 0.402], [6, 1.01, 0.35,0.799]]\n",
    "# Convierte un arreglo en DataFrame con las columnas llamadas: 'Iy', 'PF', 'e', 'dIf'.\n",
    "tarea_data = pd.DataFrame(tarea_data, columns=['Iy', 'PF', 'e', 'dIf'])\n",
    "\n",
    "# Guarda las características del conjunto de datos antes de normalizar.\n",
    "train_stats = data_df.describe()\n",
    "\n",
    "# Se transpone el DataFrame para que las columnas y filas se inviertan entre ellas.\n",
    "train_stats = train_stats.transpose()\n",
    "display(train_stats)\n",
    "\n",
    "'''/* \n",
    "Function: norm\n",
    "\n",
    "Normaliza los datos a través de una función min-max entre 0 y 1 para ser alimentados a una función sigmoide.\n",
    "\n",
    "Parameters:\n",
    "\n",
    "    x - Datos a normalizar.\n",
    "    \n",
    "Returns:\n",
    "\n",
    "    Los datos alimentados ya normalizados.\n",
    "*/'''\n",
    "\n",
    "def norm(x):\n",
    "    return((x-train_stats['min'])/(train_stats['max']-train_stats['min'])) #min-max norm\n",
    "\n",
    "'''/* \n",
    "Function: reverse_norm\n",
    "\n",
    "Desnormaliza los datos a través de la funcion inversa de la min-max.\n",
    "\n",
    "Parameters:\n",
    "\n",
    "    x - Datos normalizados a revertir.\n",
    "    \n",
    "Returns:\n",
    "\n",
    "    Los datos alimentados ya desnormalizados.\n",
    "*/'''\n",
    "\n",
    "def reverse_norm(x):\n",
    "    return(x*(train_stats['max']-train_stats['min'])+train_stats['min'])\n",
    "\n",
    "# Normaliza todo el conjunto de datos\n",
    "data_df = norm(data_df)\n",
    "\n",
    "# Mueve 80% de los datos en un subconjuto de entrenamiento y los aleatoriza.\n",
    "train_df = data_df.sample(frac=0.8, random_state=0)\n",
    "# Mueve el restante de los datos en un subconjuto de prueba y los aleatoriza.\n",
    "test_df = data_df.drop(train_df.index)\n",
    "# Guarda los datos de la comlumna If en una variable para las etiquetas de entrenamiento.\n",
    "train_labels = train_df.pop('If')\n",
    "# Guarda los datos de la comlumna If en una variable para las etiquetas de prueba.\n",
    "test_labels = test_df.pop('If')\n"
   ]
  },
  {
   "attachments": {},
   "cell_type": "markdown",
   "metadata": {},
   "source": [
    "# Creación del modelo"
   ]
  },
  {
   "cell_type": "code",
   "execution_count": 352,
   "metadata": {},
   "outputs": [
    {
     "name": "stdout",
     "output_type": "stream",
     "text": [
      "Model: \"sequential_43\"\n",
      "_________________________________________________________________\n",
      " Layer (type)                Output Shape              Param #   \n",
      "=================================================================\n",
      " dense_129 (Dense)           (None, 8)                 40        \n",
      "                                                                 \n",
      " dense_130 (Dense)           (None, 8)                 72        \n",
      "                                                                 \n",
      " dense_131 (Dense)           (None, 1)                 9         \n",
      "                                                                 \n",
      "=================================================================\n",
      "Total params: 121\n",
      "Trainable params: 121\n",
      "Non-trainable params: 0\n",
      "_________________________________________________________________\n",
      "1/1 [==============================] - 0s 53ms/step\n"
     ]
    },
    {
     "data": {
      "text/plain": [
       "array([[0.52233136],\n",
       "       [0.51694584],\n",
       "       [0.522241  ],\n",
       "       [0.5209971 ],\n",
       "       [0.51829505],\n",
       "       [0.52505094],\n",
       "       [0.5239299 ],\n",
       "       [0.5181203 ],\n",
       "       [0.52298224],\n",
       "       [0.51660174]], dtype=float32)"
      ]
     },
     "execution_count": 352,
     "metadata": {},
     "output_type": "execute_result"
    }
   ],
   "source": [
    "'''/* \n",
    "Function: my_model\n",
    "\n",
    "Genera el modelo de regresión MLP y lo compila. El modelo consiste de lo siguiente:\n",
    "    - Una capa de entradas de forma train_df.keys() que es igual a la cantidad de características.\n",
    "    - Una capa oculta con ocho neuronas y como función de activación una función sigmoide.\n",
    "    - Una capa oculta con ocho neuronas y como función de activación una función sigmoide.\n",
    "    - Una capa de salida con una neurona y como función de activación una función sigmoide.\n",
    "    - Utiliza ADAM como optimizador.\n",
    "    - La función de pérdida es la Suma Cuadrática del Error.\n",
    "    \n",
    "Parameters:\n",
    "\n",
    "    my_learning_rate - Razón de aprendizaje.\n",
    "    \n",
    "Returns:\n",
    "\n",
    "    El modelo neuronal ya creado.\n",
    "*/'''\n",
    "\n",
    "def my_model(my_learning_rate):\n",
    "    model = tf.keras.Sequential([\n",
    "        tf.keras.layers.Dense(8, input_shape=[len(train_df.keys())], activation='sigmoid'),\n",
    "        tf.keras.layers.Dense(8, activation='sigmoid'),#se hace una hidden layer de 3 neuronas con activacion sigmoid\n",
    "        tf.keras.layers.Dense(1, activation='sigmoid') #capa de output\n",
    "    ])\n",
    "    \n",
    "    model.compile(optimizer=tf.keras.optimizers.Adam(learning_rate=my_learning_rate),\n",
    "                loss=\"mean_squared_error\", #funcion de perdida\n",
    "                metrics=[tf.keras.metrics.MeanSquaredError()] #funcion de metricas para evaluar\n",
    "                )\n",
    "    \n",
    "    return model\n",
    "\n",
    "model = my_model(0.01)\n",
    "model.summary()\n",
    "\n",
    "example_batch = train_df[:10]\n",
    "example_result = model.predict(example_batch)\n",
    "example_result"
   ]
  },
  {
   "attachments": {},
   "cell_type": "markdown",
   "metadata": {},
   "source": [
    "# Entrenamiento del modelo"
   ]
  },
  {
   "cell_type": "code",
   "execution_count": 353,
   "metadata": {},
   "outputs": [],
   "source": [
    "'''/* \n",
    "Function: train_model\n",
    "\n",
    "Alimenta los datos correspondientes a las características y etiquetas al modelo y conduce el proceso de entrenamiento y validación.\n",
    "Además de esto, también le establece al modelo la cantidad de ciclos de entrenamiento y el tamaño del batch.\n",
    "Por último crea un subconjunto de validación con un 25% de los datos de entrenamiento.\n",
    "    \n",
    "Parameters:\n",
    "\n",
    "    model - El modelo creado anteriormente.\n",
    "    features - Conjunto que contiene las características.\n",
    "    labels - Conjunto que contiene las etiquetas.\n",
    "    epochs - Cantidad de ciclos de entrenamiento\n",
    "    batch_size - Tamaño del batch.\n",
    "    \n",
    "Returns:\n",
    "\n",
    "    Los resultados del entrenamiento.\n",
    "*/'''\n",
    "\n",
    "def train_model(model, features, labels, epochs, batch_size):\n",
    "    \n",
    "    history = model.fit(\n",
    "        x=features,\n",
    "        y=labels,\n",
    "        epochs=epochs,\n",
    "        batch_size = batch_size,\n",
    "        validation_split=0.25,\n",
    "    )\n",
    "    \n",
    "    # Guarda los resultados obtenidos del proceso de entrenamiento y validación en un DataFrame.\n",
    "    # Estos resultados son las pérdidas y el número del ciclo correspondiente.\n",
    "    hist= pd.DataFrame(history.history) #se guardan los valores de errores y metricas en un diccionario\n",
    "    # Añade al DataFrame la información sobre los ciclos.\n",
    "    hist['epoch'] = history.epoch\n",
    "    # Guarda los datos de error en una variable para uso futuro.\n",
    "    mse = hist['mean_squared_error']\n",
    "    \n",
    "    return hist, mse"
   ]
  },
  {
   "attachments": {},
   "cell_type": "markdown",
   "metadata": {},
   "source": [
    "# Ploteo de gráficas"
   ]
  },
  {
   "cell_type": "code",
   "execution_count": 358,
   "metadata": {},
   "outputs": [],
   "source": [
    "'''/* \n",
    "Function: plot_loss_curve\n",
    "\n",
    "Grafica las curvas de pérdida correspondientes al entrenamiento y la validación.\n",
    "    \n",
    "Parameters:\n",
    "\n",
    "    history - Resultados provenientes del proceso de entrenamiento.\n",
    "    \n",
    "Returns:\n",
    "\n",
    "    Las gráficas ya creadas.\n",
    "*/'''\n",
    "\n",
    "def plot_loss_curve(history):\n",
    "    hist = history\n",
    "    # Cambia los títulos de cada columna que contiene los pérdida por una versión más legible.  \n",
    "    labels = {\"mean_squared_error\":\"Training Loss\", \"val_mean_squared_error\":\"Validation Loss\"}\n",
    "    hist.rename(columns = labels, inplace = True)\n",
    "    \n",
    "    # Crea la figura, establece los títulos de eje y la paleta de colors\n",
    "    fig = px.line(hist, x='epoch', y=['Training Loss', 'Validation Loss'],\n",
    "                title='Gráficas de Pérdida de Entrenamiento y Evaluación',\n",
    "                labels={\"epoch\": \"Epoch\", \"value\":\"Mean Square Error\", \"variable\":\"Curvas de Pérdida\"},\n",
    "                color_discrete_map={ # replaces default color mapping by value\n",
    "                \"Training Loss\": \"#46039f\", \"Validation Loss\": \"#fb9f3a\"})\n",
    "    # Actualiza el tema de la gráfica.\n",
    "    fig.update_layout(template='plotly_white')\n",
    "    fig.show()\n",
    "\n",
    "'''/* \n",
    "Function: plot_predictions\n",
    "\n",
    "Grafica las etiquetas de prueba contra las predicciones hechas por la red neuronal.\n",
    "    \n",
    "Parameters:\n",
    "\n",
    "    predictions - Datos por graficar.\n",
    "    \n",
    "Returns:\n",
    "\n",
    "    La gráfica ya creada.\n",
    "*/'''\n",
    "\n",
    "def plot_predictions(predictions):\n",
    "    \n",
    "    # Se crea una traza de puntos.\n",
    "    trace1 = go.Scatter(\n",
    "        x = predictions['If'],\n",
    "        y = predictions['If Predictions'],\n",
    "        name = 'Predicciones',\n",
    "        mode='markers',\n",
    "    )\n",
    "    \n",
    "    # Se crea una traza de línea.\n",
    "    trace2 = go.Line(\n",
    "        x= predictions['If'],\n",
    "        y = predictions['If'],\n",
    "        name = 'Datos Reales',\n",
    "        yaxis='y2'\n",
    "    )\n",
    "    \n",
    "    # Se crea la figura \n",
    "    fig = make_subplots(specs=[[{\"secondary_y\": True}]], x_title='If', y_title='Predicción de If')\n",
    "    # Se le agrega un título.\n",
    "    fig.update_layout(title_text=\"Gráfica De Predicciones Contra Datos Reales\")\n",
    "    # Se le agrega la primera traza.\n",
    "    fig.add_trace(trace1)\n",
    "    # Se le agrega la segunda traza.\n",
    "    fig.add_trace(trace2,secondary_y=False)\n",
    "    fig.update_layout(template='plotly_white')\n",
    "    \n",
    "    fig.show()\n",
    "    "
   ]
  },
  {
   "attachments": {},
   "cell_type": "markdown",
   "metadata": {},
   "source": [
    "# Hyperparámetros"
   ]
  },
  {
   "cell_type": "code",
   "execution_count": 355,
   "metadata": {},
   "outputs": [],
   "source": [
    "learning_rate = 0.03\n",
    "epochs = 70\n",
    "batch_size = 7"
   ]
  },
  {
   "attachments": {},
   "cell_type": "markdown",
   "metadata": {},
   "source": [
    "# Llamado de funciones"
   ]
  },
  {
   "cell_type": "code",
   "execution_count": 356,
   "metadata": {},
   "outputs": [
    {
     "name": "stdout",
     "output_type": "stream",
     "text": [
      "Epoch 1/70\n",
      "48/48 [==============================] - 1s 3ms/step - loss: 0.0449 - mean_squared_error: 0.0449 - val_loss: 0.0167 - val_mean_squared_error: 0.0167\n",
      "Epoch 2/70\n",
      "48/48 [==============================] - 0s 1ms/step - loss: 0.0084 - mean_squared_error: 0.0084 - val_loss: 0.0049 - val_mean_squared_error: 0.0049\n",
      "Epoch 3/70\n",
      "48/48 [==============================] - 0s 1ms/step - loss: 0.0051 - mean_squared_error: 0.0051 - val_loss: 0.0039 - val_mean_squared_error: 0.0039\n",
      "Epoch 4/70\n",
      "48/48 [==============================] - 0s 1ms/step - loss: 0.0040 - mean_squared_error: 0.0040 - val_loss: 0.0030 - val_mean_squared_error: 0.0030\n",
      "Epoch 5/70\n",
      "48/48 [==============================] - 0s 1ms/step - loss: 0.0034 - mean_squared_error: 0.0034 - val_loss: 0.0028 - val_mean_squared_error: 0.0028\n",
      "Epoch 6/70\n",
      "48/48 [==============================] - 0s 1ms/step - loss: 0.0029 - mean_squared_error: 0.0029 - val_loss: 0.0023 - val_mean_squared_error: 0.0023\n",
      "Epoch 7/70\n",
      "48/48 [==============================] - 0s 1ms/step - loss: 0.0024 - mean_squared_error: 0.0024 - val_loss: 0.0019 - val_mean_squared_error: 0.0019\n",
      "Epoch 8/70\n",
      "48/48 [==============================] - 0s 1ms/step - loss: 0.0020 - mean_squared_error: 0.0020 - val_loss: 0.0015 - val_mean_squared_error: 0.0015\n",
      "Epoch 9/70\n",
      "48/48 [==============================] - 0s 1ms/step - loss: 0.0017 - mean_squared_error: 0.0017 - val_loss: 0.0013 - val_mean_squared_error: 0.0013\n",
      "Epoch 10/70\n",
      "48/48 [==============================] - 0s 1ms/step - loss: 0.0013 - mean_squared_error: 0.0013 - val_loss: 0.0010 - val_mean_squared_error: 0.0010\n",
      "Epoch 11/70\n",
      "48/48 [==============================] - 0s 1ms/step - loss: 0.0010 - mean_squared_error: 0.0010 - val_loss: 9.3556e-04 - val_mean_squared_error: 9.3556e-04\n",
      "Epoch 12/70\n",
      "48/48 [==============================] - 0s 1ms/step - loss: 9.3392e-04 - mean_squared_error: 9.3392e-04 - val_loss: 9.8426e-04 - val_mean_squared_error: 9.8426e-04\n",
      "Epoch 13/70\n",
      "48/48 [==============================] - 0s 1ms/step - loss: 7.6400e-04 - mean_squared_error: 7.6400e-04 - val_loss: 7.6291e-04 - val_mean_squared_error: 7.6291e-04\n",
      "Epoch 14/70\n",
      "48/48 [==============================] - 0s 1ms/step - loss: 7.0783e-04 - mean_squared_error: 7.0783e-04 - val_loss: 8.1103e-04 - val_mean_squared_error: 8.1103e-04\n",
      "Epoch 15/70\n",
      "48/48 [==============================] - 0s 1ms/step - loss: 5.4211e-04 - mean_squared_error: 5.4211e-04 - val_loss: 4.9597e-04 - val_mean_squared_error: 4.9597e-04\n",
      "Epoch 16/70\n",
      "48/48 [==============================] - 0s 1ms/step - loss: 4.9677e-04 - mean_squared_error: 4.9677e-04 - val_loss: 5.3566e-04 - val_mean_squared_error: 5.3566e-04\n",
      "Epoch 17/70\n",
      "48/48 [==============================] - 0s 1ms/step - loss: 4.0862e-04 - mean_squared_error: 4.0862e-04 - val_loss: 3.7805e-04 - val_mean_squared_error: 3.7805e-04\n",
      "Epoch 18/70\n",
      "48/48 [==============================] - 0s 1ms/step - loss: 3.5047e-04 - mean_squared_error: 3.5047e-04 - val_loss: 3.2421e-04 - val_mean_squared_error: 3.2421e-04\n",
      "Epoch 19/70\n",
      "48/48 [==============================] - 0s 1ms/step - loss: 2.9949e-04 - mean_squared_error: 2.9949e-04 - val_loss: 2.5039e-04 - val_mean_squared_error: 2.5039e-04\n",
      "Epoch 20/70\n",
      "48/48 [==============================] - 0s 1ms/step - loss: 2.5934e-04 - mean_squared_error: 2.5934e-04 - val_loss: 2.2660e-04 - val_mean_squared_error: 2.2660e-04\n",
      "Epoch 21/70\n",
      "48/48 [==============================] - 0s 1ms/step - loss: 2.4315e-04 - mean_squared_error: 2.4315e-04 - val_loss: 1.9855e-04 - val_mean_squared_error: 1.9855e-04\n",
      "Epoch 22/70\n",
      "48/48 [==============================] - 0s 1ms/step - loss: 2.1345e-04 - mean_squared_error: 2.1345e-04 - val_loss: 1.8152e-04 - val_mean_squared_error: 1.8152e-04\n",
      "Epoch 23/70\n",
      "48/48 [==============================] - 0s 2ms/step - loss: 1.8665e-04 - mean_squared_error: 1.8665e-04 - val_loss: 1.9204e-04 - val_mean_squared_error: 1.9204e-04\n",
      "Epoch 24/70\n",
      "48/48 [==============================] - 0s 1ms/step - loss: 2.0234e-04 - mean_squared_error: 2.0234e-04 - val_loss: 2.4427e-04 - val_mean_squared_error: 2.4427e-04\n",
      "Epoch 25/70\n",
      "48/48 [==============================] - 0s 1ms/step - loss: 1.9757e-04 - mean_squared_error: 1.9757e-04 - val_loss: 1.7762e-04 - val_mean_squared_error: 1.7762e-04\n",
      "Epoch 26/70\n",
      "48/48 [==============================] - 0s 1ms/step - loss: 1.8039e-04 - mean_squared_error: 1.8039e-04 - val_loss: 1.6521e-04 - val_mean_squared_error: 1.6521e-04\n",
      "Epoch 27/70\n",
      "48/48 [==============================] - 0s 1ms/step - loss: 1.5966e-04 - mean_squared_error: 1.5966e-04 - val_loss: 1.7024e-04 - val_mean_squared_error: 1.7024e-04\n",
      "Epoch 28/70\n",
      "48/48 [==============================] - 0s 1ms/step - loss: 1.7564e-04 - mean_squared_error: 1.7564e-04 - val_loss: 1.2193e-04 - val_mean_squared_error: 1.2193e-04\n",
      "Epoch 29/70\n",
      "48/48 [==============================] - 0s 1ms/step - loss: 1.7311e-04 - mean_squared_error: 1.7311e-04 - val_loss: 1.2783e-04 - val_mean_squared_error: 1.2783e-04\n",
      "Epoch 30/70\n",
      "48/48 [==============================] - 0s 1ms/step - loss: 1.3158e-04 - mean_squared_error: 1.3158e-04 - val_loss: 1.2192e-04 - val_mean_squared_error: 1.2192e-04\n",
      "Epoch 31/70\n",
      "48/48 [==============================] - 0s 1ms/step - loss: 1.3994e-04 - mean_squared_error: 1.3994e-04 - val_loss: 1.1353e-04 - val_mean_squared_error: 1.1353e-04\n",
      "Epoch 32/70\n",
      "48/48 [==============================] - 0s 1ms/step - loss: 1.5266e-04 - mean_squared_error: 1.5266e-04 - val_loss: 1.0255e-04 - val_mean_squared_error: 1.0255e-04\n",
      "Epoch 33/70\n",
      "48/48 [==============================] - 0s 1ms/step - loss: 1.2937e-04 - mean_squared_error: 1.2937e-04 - val_loss: 1.2579e-04 - val_mean_squared_error: 1.2579e-04\n",
      "Epoch 34/70\n",
      "48/48 [==============================] - 0s 1ms/step - loss: 1.4147e-04 - mean_squared_error: 1.4147e-04 - val_loss: 1.0329e-04 - val_mean_squared_error: 1.0329e-04\n",
      "Epoch 35/70\n",
      "48/48 [==============================] - 0s 1ms/step - loss: 1.3603e-04 - mean_squared_error: 1.3603e-04 - val_loss: 1.0163e-04 - val_mean_squared_error: 1.0163e-04\n",
      "Epoch 36/70\n",
      "48/48 [==============================] - 0s 1ms/step - loss: 1.1968e-04 - mean_squared_error: 1.1968e-04 - val_loss: 9.1617e-05 - val_mean_squared_error: 9.1617e-05\n",
      "Epoch 37/70\n",
      "48/48 [==============================] - 0s 1ms/step - loss: 1.0551e-04 - mean_squared_error: 1.0551e-04 - val_loss: 8.6365e-05 - val_mean_squared_error: 8.6365e-05\n",
      "Epoch 38/70\n",
      "48/48 [==============================] - 0s 2ms/step - loss: 1.1294e-04 - mean_squared_error: 1.1294e-04 - val_loss: 8.8338e-05 - val_mean_squared_error: 8.8338e-05\n",
      "Epoch 39/70\n",
      "48/48 [==============================] - 0s 1ms/step - loss: 1.2228e-04 - mean_squared_error: 1.2228e-04 - val_loss: 9.7262e-05 - val_mean_squared_error: 9.7262e-05\n",
      "Epoch 40/70\n",
      "48/48 [==============================] - 0s 1ms/step - loss: 1.1537e-04 - mean_squared_error: 1.1537e-04 - val_loss: 1.0732e-04 - val_mean_squared_error: 1.0732e-04\n",
      "Epoch 41/70\n",
      "48/48 [==============================] - 0s 1ms/step - loss: 1.0734e-04 - mean_squared_error: 1.0734e-04 - val_loss: 7.6281e-05 - val_mean_squared_error: 7.6281e-05\n",
      "Epoch 42/70\n",
      "48/48 [==============================] - 0s 1ms/step - loss: 1.3030e-04 - mean_squared_error: 1.3030e-04 - val_loss: 1.0154e-04 - val_mean_squared_error: 1.0154e-04\n",
      "Epoch 43/70\n",
      "48/48 [==============================] - 0s 1ms/step - loss: 1.5395e-04 - mean_squared_error: 1.5395e-04 - val_loss: 2.2835e-04 - val_mean_squared_error: 2.2835e-04\n",
      "Epoch 44/70\n",
      "48/48 [==============================] - 0s 1ms/step - loss: 2.5314e-04 - mean_squared_error: 2.5314e-04 - val_loss: 1.0484e-04 - val_mean_squared_error: 1.0484e-04\n",
      "Epoch 45/70\n",
      "48/48 [==============================] - 0s 1ms/step - loss: 1.0951e-04 - mean_squared_error: 1.0951e-04 - val_loss: 6.7160e-05 - val_mean_squared_error: 6.7160e-05\n",
      "Epoch 46/70\n",
      "48/48 [==============================] - 0s 1ms/step - loss: 9.3736e-05 - mean_squared_error: 9.3736e-05 - val_loss: 7.9421e-05 - val_mean_squared_error: 7.9421e-05\n",
      "Epoch 47/70\n",
      "48/48 [==============================] - 0s 1ms/step - loss: 9.7026e-05 - mean_squared_error: 9.7026e-05 - val_loss: 6.2499e-05 - val_mean_squared_error: 6.2499e-05\n",
      "Epoch 48/70\n",
      "48/48 [==============================] - 0s 1ms/step - loss: 9.2321e-05 - mean_squared_error: 9.2321e-05 - val_loss: 1.4611e-04 - val_mean_squared_error: 1.4611e-04\n",
      "Epoch 49/70\n",
      "48/48 [==============================] - 0s 1ms/step - loss: 1.1383e-04 - mean_squared_error: 1.1383e-04 - val_loss: 1.3385e-04 - val_mean_squared_error: 1.3385e-04\n",
      "Epoch 50/70\n",
      "48/48 [==============================] - 0s 1ms/step - loss: 1.0505e-04 - mean_squared_error: 1.0505e-04 - val_loss: 6.9844e-05 - val_mean_squared_error: 6.9844e-05\n",
      "Epoch 51/70\n",
      "48/48 [==============================] - 0s 1ms/step - loss: 9.2172e-05 - mean_squared_error: 9.2172e-05 - val_loss: 5.4489e-05 - val_mean_squared_error: 5.4489e-05\n",
      "Epoch 52/70\n",
      "48/48 [==============================] - 0s 1ms/step - loss: 1.4021e-04 - mean_squared_error: 1.4021e-04 - val_loss: 2.1614e-04 - val_mean_squared_error: 2.1614e-04\n",
      "Epoch 53/70\n",
      "48/48 [==============================] - 0s 1ms/step - loss: 1.8578e-04 - mean_squared_error: 1.8578e-04 - val_loss: 5.4902e-05 - val_mean_squared_error: 5.4902e-05\n",
      "Epoch 54/70\n",
      "48/48 [==============================] - 0s 1ms/step - loss: 9.9334e-05 - mean_squared_error: 9.9334e-05 - val_loss: 7.3605e-05 - val_mean_squared_error: 7.3605e-05\n",
      "Epoch 55/70\n",
      "48/48 [==============================] - 0s 1ms/step - loss: 1.2376e-04 - mean_squared_error: 1.2376e-04 - val_loss: 1.1268e-04 - val_mean_squared_error: 1.1268e-04\n",
      "Epoch 56/70\n",
      "48/48 [==============================] - 0s 1ms/step - loss: 9.2455e-05 - mean_squared_error: 9.2455e-05 - val_loss: 6.3637e-05 - val_mean_squared_error: 6.3637e-05\n",
      "Epoch 57/70\n",
      "48/48 [==============================] - 0s 1ms/step - loss: 7.3873e-05 - mean_squared_error: 7.3873e-05 - val_loss: 5.3092e-05 - val_mean_squared_error: 5.3092e-05\n",
      "Epoch 58/70\n",
      "48/48 [==============================] - 0s 1ms/step - loss: 7.9999e-05 - mean_squared_error: 7.9999e-05 - val_loss: 7.3427e-05 - val_mean_squared_error: 7.3427e-05\n",
      "Epoch 59/70\n",
      "48/48 [==============================] - 0s 1ms/step - loss: 1.0161e-04 - mean_squared_error: 1.0161e-04 - val_loss: 4.6378e-05 - val_mean_squared_error: 4.6378e-05\n",
      "Epoch 60/70\n",
      "48/48 [==============================] - 0s 1ms/step - loss: 8.7606e-05 - mean_squared_error: 8.7606e-05 - val_loss: 5.4713e-05 - val_mean_squared_error: 5.4713e-05\n",
      "Epoch 61/70\n",
      "48/48 [==============================] - 0s 1ms/step - loss: 1.2106e-04 - mean_squared_error: 1.2106e-04 - val_loss: 1.5405e-04 - val_mean_squared_error: 1.5405e-04\n",
      "Epoch 62/70\n",
      "48/48 [==============================] - 0s 1ms/step - loss: 1.5150e-04 - mean_squared_error: 1.5150e-04 - val_loss: 3.6758e-04 - val_mean_squared_error: 3.6758e-04\n",
      "Epoch 63/70\n",
      "48/48 [==============================] - 0s 1ms/step - loss: 7.9784e-05 - mean_squared_error: 7.9784e-05 - val_loss: 1.0182e-04 - val_mean_squared_error: 1.0182e-04\n",
      "Epoch 64/70\n",
      "48/48 [==============================] - 0s 1ms/step - loss: 1.5672e-04 - mean_squared_error: 1.5672e-04 - val_loss: 6.2502e-05 - val_mean_squared_error: 6.2502e-05\n",
      "Epoch 65/70\n",
      "48/48 [==============================] - 0s 2ms/step - loss: 1.0796e-04 - mean_squared_error: 1.0796e-04 - val_loss: 1.3966e-04 - val_mean_squared_error: 1.3966e-04\n",
      "Epoch 66/70\n",
      "48/48 [==============================] - 0s 1ms/step - loss: 7.0503e-05 - mean_squared_error: 7.0503e-05 - val_loss: 5.8104e-05 - val_mean_squared_error: 5.8104e-05\n",
      "Epoch 67/70\n",
      "48/48 [==============================] - 0s 1ms/step - loss: 6.7551e-05 - mean_squared_error: 6.7551e-05 - val_loss: 4.4930e-05 - val_mean_squared_error: 4.4930e-05\n",
      "Epoch 68/70\n",
      "48/48 [==============================] - 0s 1ms/step - loss: 5.5451e-05 - mean_squared_error: 5.5451e-05 - val_loss: 7.0269e-05 - val_mean_squared_error: 7.0269e-05\n",
      "Epoch 69/70\n",
      "48/48 [==============================] - 0s 1ms/step - loss: 5.8568e-05 - mean_squared_error: 5.8568e-05 - val_loss: 4.7451e-05 - val_mean_squared_error: 4.7451e-05\n",
      "Epoch 70/70\n",
      "48/48 [==============================] - 0s 1ms/step - loss: 5.2980e-05 - mean_squared_error: 5.2980e-05 - val_loss: 4.2687e-05 - val_mean_squared_error: 4.2687e-05\n"
     ]
    },
    {
     "data": {
      "application/vnd.plotly.v1+json": {
       "config": {
        "plotlyServerURL": "https://plot.ly"
       },
       "data": [
        {
         "hovertemplate": "Curvas de Pérdida=Training Loss<br>Epoch=%{x}<br>Mean Square Error=%{y}<extra></extra>",
         "legendgroup": "Training Loss",
         "line": {
          "color": "#46039f",
          "dash": "solid"
         },
         "marker": {
          "symbol": "circle"
         },
         "mode": "lines",
         "name": "Training Loss",
         "orientation": "v",
         "showlegend": true,
         "type": "scatter",
         "x": [
          0,
          1,
          2,
          3,
          4,
          5,
          6,
          7,
          8,
          9,
          10,
          11,
          12,
          13,
          14,
          15,
          16,
          17,
          18,
          19,
          20,
          21,
          22,
          23,
          24,
          25,
          26,
          27,
          28,
          29,
          30,
          31,
          32,
          33,
          34,
          35,
          36,
          37,
          38,
          39,
          40,
          41,
          42,
          43,
          44,
          45,
          46,
          47,
          48,
          49,
          50,
          51,
          52,
          53,
          54,
          55,
          56,
          57,
          58,
          59,
          60,
          61,
          62,
          63,
          64,
          65,
          66,
          67,
          68,
          69
         ],
         "xaxis": "x",
         "y": [
          0.04490594565868378,
          0.008446627296507359,
          0.005062485579401255,
          0.00398658262565732,
          0.0034097826573997736,
          0.0028805879410356283,
          0.0023576163221150637,
          0.001984136179089546,
          0.0017193113453686237,
          0.0012976055731996894,
          0.0010141631355509162,
          0.0009339198586530983,
          0.0007639994146302342,
          0.0007078315829858184,
          0.0005421079113148153,
          0.0004967692657373846,
          0.00040862441528588533,
          0.0003504744381643832,
          0.00029948909650556743,
          0.0002593385288491845,
          0.00024314633628819138,
          0.0002134465321432799,
          0.00018665283278096467,
          0.00020234279509168118,
          0.00019757291011046618,
          0.0001803874911274761,
          0.00015966138744261116,
          0.00017564235895406455,
          0.00017311100964434445,
          0.00013157696230337024,
          0.00013993977336212993,
          0.00015266276022884995,
          0.00012937263818457723,
          0.00014147430192679167,
          0.0001360261521767825,
          0.00011967585305683315,
          0.00010550890146987513,
          0.00011293707939330488,
          0.00012227747356519103,
          0.0001153665070887655,
          0.00010733982344390824,
          0.0001303006283706054,
          0.00015394932415802032,
          0.0002531421196181327,
          0.00010950532305287197,
          0.00009373616921948269,
          0.00009702610259409994,
          0.00009232086449628696,
          0.00011383048695279285,
          0.0001050489372573793,
          0.00009217193291988224,
          0.00014020998787600547,
          0.000185775279533118,
          0.00009933419642038643,
          0.00012375674850773066,
          0.0000924547275644727,
          0.00007387329242192209,
          0.0000799992194515653,
          0.00010160740202991292,
          0.00008760632772464305,
          0.00012105665518902242,
          0.00015149987302720547,
          0.00007978354551596567,
          0.00015671820438001305,
          0.000107955391285941,
          0.00007050251588225365,
          0.00006755139474989846,
          0.00005545112435356714,
          0.00005856841744389385,
          0.00005298015457810834
         ],
         "yaxis": "y"
        },
        {
         "hovertemplate": "Curvas de Pérdida=Validation Loss<br>Epoch=%{x}<br>Mean Square Error=%{y}<extra></extra>",
         "legendgroup": "Validation Loss",
         "line": {
          "color": "#fb9f3a",
          "dash": "solid"
         },
         "marker": {
          "symbol": "circle"
         },
         "mode": "lines",
         "name": "Validation Loss",
         "orientation": "v",
         "showlegend": true,
         "type": "scatter",
         "x": [
          0,
          1,
          2,
          3,
          4,
          5,
          6,
          7,
          8,
          9,
          10,
          11,
          12,
          13,
          14,
          15,
          16,
          17,
          18,
          19,
          20,
          21,
          22,
          23,
          24,
          25,
          26,
          27,
          28,
          29,
          30,
          31,
          32,
          33,
          34,
          35,
          36,
          37,
          38,
          39,
          40,
          41,
          42,
          43,
          44,
          45,
          46,
          47,
          48,
          49,
          50,
          51,
          52,
          53,
          54,
          55,
          56,
          57,
          58,
          59,
          60,
          61,
          62,
          63,
          64,
          65,
          66,
          67,
          68,
          69
         ],
         "xaxis": "x",
         "y": [
          0.016692396253347397,
          0.004906273912638426,
          0.003925797529518604,
          0.00295124645344913,
          0.0027648615650832653,
          0.002273228485137224,
          0.001887214952148497,
          0.0015096738934516907,
          0.001302784075960517,
          0.0010195556096732616,
          0.0009355639340355992,
          0.0009842592990025878,
          0.0007629149476997554,
          0.0008110297494567931,
          0.0004959733923897147,
          0.0005356607143767178,
          0.00037804534076713026,
          0.0003242068341933191,
          0.00025039067259058356,
          0.00022659868409391493,
          0.00019855213759001344,
          0.00018151554104406387,
          0.00019204213458579034,
          0.00024426725576631725,
          0.00017761783965397626,
          0.00016520849021617323,
          0.00017023981490638107,
          0.00012193182919872925,
          0.00012782680278178304,
          0.00012191581481602043,
          0.00011352942237863317,
          0.00010254676453769207,
          0.000125790829770267,
          0.00010329101496608928,
          0.00010163106344407424,
          0.00009161746129393578,
          0.00008636519487481564,
          0.00008833793981466442,
          0.0000972622656263411,
          0.00010732469672802836,
          0.00007628121966263279,
          0.00010153622861253098,
          0.00022835226263850927,
          0.00010484449012437835,
          0.00006715951894875616,
          0.00007942146476125345,
          0.00006249859870877117,
          0.00014610809739679098,
          0.00013384874910116196,
          0.00006984368519624695,
          0.00005448934462037869,
          0.00021613578428514302,
          0.000054901996918488294,
          0.00007360463496297598,
          0.00011267639638390392,
          0.00006363725697156042,
          0.00005309223706717603,
          0.00007342664321186021,
          0.00004637808524421416,
          0.000054713447752874345,
          0.0001540540106361732,
          0.00036758463829755783,
          0.00010182157711824402,
          0.00006250177830224857,
          0.0001396553561789915,
          0.00005810396032757126,
          0.00004492980588111095,
          0.00007026852836133912,
          0.00004745052501675673,
          0.00004268670818419196
         ],
         "yaxis": "y"
        }
       ],
       "layout": {
        "legend": {
         "title": {
          "text": "Curvas de Pérdida"
         },
         "tracegroupgap": 0
        },
        "template": {
         "data": {
          "bar": [
           {
            "error_x": {
             "color": "#2a3f5f"
            },
            "error_y": {
             "color": "#2a3f5f"
            },
            "marker": {
             "line": {
              "color": "white",
              "width": 0.5
             },
             "pattern": {
              "fillmode": "overlay",
              "size": 10,
              "solidity": 0.2
             }
            },
            "type": "bar"
           }
          ],
          "barpolar": [
           {
            "marker": {
             "line": {
              "color": "white",
              "width": 0.5
             },
             "pattern": {
              "fillmode": "overlay",
              "size": 10,
              "solidity": 0.2
             }
            },
            "type": "barpolar"
           }
          ],
          "carpet": [
           {
            "aaxis": {
             "endlinecolor": "#2a3f5f",
             "gridcolor": "#C8D4E3",
             "linecolor": "#C8D4E3",
             "minorgridcolor": "#C8D4E3",
             "startlinecolor": "#2a3f5f"
            },
            "baxis": {
             "endlinecolor": "#2a3f5f",
             "gridcolor": "#C8D4E3",
             "linecolor": "#C8D4E3",
             "minorgridcolor": "#C8D4E3",
             "startlinecolor": "#2a3f5f"
            },
            "type": "carpet"
           }
          ],
          "choropleth": [
           {
            "colorbar": {
             "outlinewidth": 0,
             "ticks": ""
            },
            "type": "choropleth"
           }
          ],
          "contour": [
           {
            "colorbar": {
             "outlinewidth": 0,
             "ticks": ""
            },
            "colorscale": [
             [
              0,
              "#0d0887"
             ],
             [
              0.1111111111111111,
              "#46039f"
             ],
             [
              0.2222222222222222,
              "#7201a8"
             ],
             [
              0.3333333333333333,
              "#9c179e"
             ],
             [
              0.4444444444444444,
              "#bd3786"
             ],
             [
              0.5555555555555556,
              "#d8576b"
             ],
             [
              0.6666666666666666,
              "#ed7953"
             ],
             [
              0.7777777777777778,
              "#fb9f3a"
             ],
             [
              0.8888888888888888,
              "#fdca26"
             ],
             [
              1,
              "#f0f921"
             ]
            ],
            "type": "contour"
           }
          ],
          "contourcarpet": [
           {
            "colorbar": {
             "outlinewidth": 0,
             "ticks": ""
            },
            "type": "contourcarpet"
           }
          ],
          "heatmap": [
           {
            "colorbar": {
             "outlinewidth": 0,
             "ticks": ""
            },
            "colorscale": [
             [
              0,
              "#0d0887"
             ],
             [
              0.1111111111111111,
              "#46039f"
             ],
             [
              0.2222222222222222,
              "#7201a8"
             ],
             [
              0.3333333333333333,
              "#9c179e"
             ],
             [
              0.4444444444444444,
              "#bd3786"
             ],
             [
              0.5555555555555556,
              "#d8576b"
             ],
             [
              0.6666666666666666,
              "#ed7953"
             ],
             [
              0.7777777777777778,
              "#fb9f3a"
             ],
             [
              0.8888888888888888,
              "#fdca26"
             ],
             [
              1,
              "#f0f921"
             ]
            ],
            "type": "heatmap"
           }
          ],
          "heatmapgl": [
           {
            "colorbar": {
             "outlinewidth": 0,
             "ticks": ""
            },
            "colorscale": [
             [
              0,
              "#0d0887"
             ],
             [
              0.1111111111111111,
              "#46039f"
             ],
             [
              0.2222222222222222,
              "#7201a8"
             ],
             [
              0.3333333333333333,
              "#9c179e"
             ],
             [
              0.4444444444444444,
              "#bd3786"
             ],
             [
              0.5555555555555556,
              "#d8576b"
             ],
             [
              0.6666666666666666,
              "#ed7953"
             ],
             [
              0.7777777777777778,
              "#fb9f3a"
             ],
             [
              0.8888888888888888,
              "#fdca26"
             ],
             [
              1,
              "#f0f921"
             ]
            ],
            "type": "heatmapgl"
           }
          ],
          "histogram": [
           {
            "marker": {
             "pattern": {
              "fillmode": "overlay",
              "size": 10,
              "solidity": 0.2
             }
            },
            "type": "histogram"
           }
          ],
          "histogram2d": [
           {
            "colorbar": {
             "outlinewidth": 0,
             "ticks": ""
            },
            "colorscale": [
             [
              0,
              "#0d0887"
             ],
             [
              0.1111111111111111,
              "#46039f"
             ],
             [
              0.2222222222222222,
              "#7201a8"
             ],
             [
              0.3333333333333333,
              "#9c179e"
             ],
             [
              0.4444444444444444,
              "#bd3786"
             ],
             [
              0.5555555555555556,
              "#d8576b"
             ],
             [
              0.6666666666666666,
              "#ed7953"
             ],
             [
              0.7777777777777778,
              "#fb9f3a"
             ],
             [
              0.8888888888888888,
              "#fdca26"
             ],
             [
              1,
              "#f0f921"
             ]
            ],
            "type": "histogram2d"
           }
          ],
          "histogram2dcontour": [
           {
            "colorbar": {
             "outlinewidth": 0,
             "ticks": ""
            },
            "colorscale": [
             [
              0,
              "#0d0887"
             ],
             [
              0.1111111111111111,
              "#46039f"
             ],
             [
              0.2222222222222222,
              "#7201a8"
             ],
             [
              0.3333333333333333,
              "#9c179e"
             ],
             [
              0.4444444444444444,
              "#bd3786"
             ],
             [
              0.5555555555555556,
              "#d8576b"
             ],
             [
              0.6666666666666666,
              "#ed7953"
             ],
             [
              0.7777777777777778,
              "#fb9f3a"
             ],
             [
              0.8888888888888888,
              "#fdca26"
             ],
             [
              1,
              "#f0f921"
             ]
            ],
            "type": "histogram2dcontour"
           }
          ],
          "mesh3d": [
           {
            "colorbar": {
             "outlinewidth": 0,
             "ticks": ""
            },
            "type": "mesh3d"
           }
          ],
          "parcoords": [
           {
            "line": {
             "colorbar": {
              "outlinewidth": 0,
              "ticks": ""
             }
            },
            "type": "parcoords"
           }
          ],
          "pie": [
           {
            "automargin": true,
            "type": "pie"
           }
          ],
          "scatter": [
           {
            "fillpattern": {
             "fillmode": "overlay",
             "size": 10,
             "solidity": 0.2
            },
            "type": "scatter"
           }
          ],
          "scatter3d": [
           {
            "line": {
             "colorbar": {
              "outlinewidth": 0,
              "ticks": ""
             }
            },
            "marker": {
             "colorbar": {
              "outlinewidth": 0,
              "ticks": ""
             }
            },
            "type": "scatter3d"
           }
          ],
          "scattercarpet": [
           {
            "marker": {
             "colorbar": {
              "outlinewidth": 0,
              "ticks": ""
             }
            },
            "type": "scattercarpet"
           }
          ],
          "scattergeo": [
           {
            "marker": {
             "colorbar": {
              "outlinewidth": 0,
              "ticks": ""
             }
            },
            "type": "scattergeo"
           }
          ],
          "scattergl": [
           {
            "marker": {
             "colorbar": {
              "outlinewidth": 0,
              "ticks": ""
             }
            },
            "type": "scattergl"
           }
          ],
          "scattermapbox": [
           {
            "marker": {
             "colorbar": {
              "outlinewidth": 0,
              "ticks": ""
             }
            },
            "type": "scattermapbox"
           }
          ],
          "scatterpolar": [
           {
            "marker": {
             "colorbar": {
              "outlinewidth": 0,
              "ticks": ""
             }
            },
            "type": "scatterpolar"
           }
          ],
          "scatterpolargl": [
           {
            "marker": {
             "colorbar": {
              "outlinewidth": 0,
              "ticks": ""
             }
            },
            "type": "scatterpolargl"
           }
          ],
          "scatterternary": [
           {
            "marker": {
             "colorbar": {
              "outlinewidth": 0,
              "ticks": ""
             }
            },
            "type": "scatterternary"
           }
          ],
          "surface": [
           {
            "colorbar": {
             "outlinewidth": 0,
             "ticks": ""
            },
            "colorscale": [
             [
              0,
              "#0d0887"
             ],
             [
              0.1111111111111111,
              "#46039f"
             ],
             [
              0.2222222222222222,
              "#7201a8"
             ],
             [
              0.3333333333333333,
              "#9c179e"
             ],
             [
              0.4444444444444444,
              "#bd3786"
             ],
             [
              0.5555555555555556,
              "#d8576b"
             ],
             [
              0.6666666666666666,
              "#ed7953"
             ],
             [
              0.7777777777777778,
              "#fb9f3a"
             ],
             [
              0.8888888888888888,
              "#fdca26"
             ],
             [
              1,
              "#f0f921"
             ]
            ],
            "type": "surface"
           }
          ],
          "table": [
           {
            "cells": {
             "fill": {
              "color": "#EBF0F8"
             },
             "line": {
              "color": "white"
             }
            },
            "header": {
             "fill": {
              "color": "#C8D4E3"
             },
             "line": {
              "color": "white"
             }
            },
            "type": "table"
           }
          ]
         },
         "layout": {
          "annotationdefaults": {
           "arrowcolor": "#2a3f5f",
           "arrowhead": 0,
           "arrowwidth": 1
          },
          "autotypenumbers": "strict",
          "coloraxis": {
           "colorbar": {
            "outlinewidth": 0,
            "ticks": ""
           }
          },
          "colorscale": {
           "diverging": [
            [
             0,
             "#8e0152"
            ],
            [
             0.1,
             "#c51b7d"
            ],
            [
             0.2,
             "#de77ae"
            ],
            [
             0.3,
             "#f1b6da"
            ],
            [
             0.4,
             "#fde0ef"
            ],
            [
             0.5,
             "#f7f7f7"
            ],
            [
             0.6,
             "#e6f5d0"
            ],
            [
             0.7,
             "#b8e186"
            ],
            [
             0.8,
             "#7fbc41"
            ],
            [
             0.9,
             "#4d9221"
            ],
            [
             1,
             "#276419"
            ]
           ],
           "sequential": [
            [
             0,
             "#0d0887"
            ],
            [
             0.1111111111111111,
             "#46039f"
            ],
            [
             0.2222222222222222,
             "#7201a8"
            ],
            [
             0.3333333333333333,
             "#9c179e"
            ],
            [
             0.4444444444444444,
             "#bd3786"
            ],
            [
             0.5555555555555556,
             "#d8576b"
            ],
            [
             0.6666666666666666,
             "#ed7953"
            ],
            [
             0.7777777777777778,
             "#fb9f3a"
            ],
            [
             0.8888888888888888,
             "#fdca26"
            ],
            [
             1,
             "#f0f921"
            ]
           ],
           "sequentialminus": [
            [
             0,
             "#0d0887"
            ],
            [
             0.1111111111111111,
             "#46039f"
            ],
            [
             0.2222222222222222,
             "#7201a8"
            ],
            [
             0.3333333333333333,
             "#9c179e"
            ],
            [
             0.4444444444444444,
             "#bd3786"
            ],
            [
             0.5555555555555556,
             "#d8576b"
            ],
            [
             0.6666666666666666,
             "#ed7953"
            ],
            [
             0.7777777777777778,
             "#fb9f3a"
            ],
            [
             0.8888888888888888,
             "#fdca26"
            ],
            [
             1,
             "#f0f921"
            ]
           ]
          },
          "colorway": [
           "#636efa",
           "#EF553B",
           "#00cc96",
           "#ab63fa",
           "#FFA15A",
           "#19d3f3",
           "#FF6692",
           "#B6E880",
           "#FF97FF",
           "#FECB52"
          ],
          "font": {
           "color": "#2a3f5f"
          },
          "geo": {
           "bgcolor": "white",
           "lakecolor": "white",
           "landcolor": "white",
           "showlakes": true,
           "showland": true,
           "subunitcolor": "#C8D4E3"
          },
          "hoverlabel": {
           "align": "left"
          },
          "hovermode": "closest",
          "mapbox": {
           "style": "light"
          },
          "paper_bgcolor": "white",
          "plot_bgcolor": "white",
          "polar": {
           "angularaxis": {
            "gridcolor": "#EBF0F8",
            "linecolor": "#EBF0F8",
            "ticks": ""
           },
           "bgcolor": "white",
           "radialaxis": {
            "gridcolor": "#EBF0F8",
            "linecolor": "#EBF0F8",
            "ticks": ""
           }
          },
          "scene": {
           "xaxis": {
            "backgroundcolor": "white",
            "gridcolor": "#DFE8F3",
            "gridwidth": 2,
            "linecolor": "#EBF0F8",
            "showbackground": true,
            "ticks": "",
            "zerolinecolor": "#EBF0F8"
           },
           "yaxis": {
            "backgroundcolor": "white",
            "gridcolor": "#DFE8F3",
            "gridwidth": 2,
            "linecolor": "#EBF0F8",
            "showbackground": true,
            "ticks": "",
            "zerolinecolor": "#EBF0F8"
           },
           "zaxis": {
            "backgroundcolor": "white",
            "gridcolor": "#DFE8F3",
            "gridwidth": 2,
            "linecolor": "#EBF0F8",
            "showbackground": true,
            "ticks": "",
            "zerolinecolor": "#EBF0F8"
           }
          },
          "shapedefaults": {
           "line": {
            "color": "#2a3f5f"
           }
          },
          "ternary": {
           "aaxis": {
            "gridcolor": "#DFE8F3",
            "linecolor": "#A2B1C6",
            "ticks": ""
           },
           "baxis": {
            "gridcolor": "#DFE8F3",
            "linecolor": "#A2B1C6",
            "ticks": ""
           },
           "bgcolor": "white",
           "caxis": {
            "gridcolor": "#DFE8F3",
            "linecolor": "#A2B1C6",
            "ticks": ""
           }
          },
          "title": {
           "x": 0.05
          },
          "xaxis": {
           "automargin": true,
           "gridcolor": "#EBF0F8",
           "linecolor": "#EBF0F8",
           "ticks": "",
           "title": {
            "standoff": 15
           },
           "zerolinecolor": "#EBF0F8",
           "zerolinewidth": 2
          },
          "yaxis": {
           "automargin": true,
           "gridcolor": "#EBF0F8",
           "linecolor": "#EBF0F8",
           "ticks": "",
           "title": {
            "standoff": 15
           },
           "zerolinecolor": "#EBF0F8",
           "zerolinewidth": 2
          }
         }
        },
        "title": {
         "text": "Gráficas de Pérdida de Entrenamiento y Evaluación"
        },
        "xaxis": {
         "anchor": "y",
         "domain": [
          0,
          1
         ],
         "title": {
          "text": "Epoch"
         }
        },
        "yaxis": {
         "anchor": "x",
         "domain": [
          0,
          1
         ],
         "title": {
          "text": "Mean Square Error"
         }
        }
       }
      }
     },
     "metadata": {},
     "output_type": "display_data"
    },
    {
     "data": {
      "text/html": [
       "<div>\n",
       "<style scoped>\n",
       "    .dataframe tbody tr th:only-of-type {\n",
       "        vertical-align: middle;\n",
       "    }\n",
       "\n",
       "    .dataframe tbody tr th {\n",
       "        vertical-align: top;\n",
       "    }\n",
       "\n",
       "    .dataframe thead th {\n",
       "        text-align: right;\n",
       "    }\n",
       "</style>\n",
       "<table border=\"1\" class=\"dataframe\">\n",
       "  <thead>\n",
       "    <tr style=\"text-align: right;\">\n",
       "      <th></th>\n",
       "      <th>loss</th>\n",
       "      <th>Training Loss</th>\n",
       "      <th>val_loss</th>\n",
       "      <th>Validation Loss</th>\n",
       "      <th>epoch</th>\n",
       "    </tr>\n",
       "  </thead>\n",
       "  <tbody>\n",
       "    <tr>\n",
       "      <th>0</th>\n",
       "      <td>0.044906</td>\n",
       "      <td>0.044906</td>\n",
       "      <td>0.016692</td>\n",
       "      <td>0.016692</td>\n",
       "      <td>0</td>\n",
       "    </tr>\n",
       "    <tr>\n",
       "      <th>1</th>\n",
       "      <td>0.008447</td>\n",
       "      <td>0.008447</td>\n",
       "      <td>0.004906</td>\n",
       "      <td>0.004906</td>\n",
       "      <td>1</td>\n",
       "    </tr>\n",
       "    <tr>\n",
       "      <th>2</th>\n",
       "      <td>0.005062</td>\n",
       "      <td>0.005062</td>\n",
       "      <td>0.003926</td>\n",
       "      <td>0.003926</td>\n",
       "      <td>2</td>\n",
       "    </tr>\n",
       "    <tr>\n",
       "      <th>3</th>\n",
       "      <td>0.003987</td>\n",
       "      <td>0.003987</td>\n",
       "      <td>0.002951</td>\n",
       "      <td>0.002951</td>\n",
       "      <td>3</td>\n",
       "    </tr>\n",
       "    <tr>\n",
       "      <th>4</th>\n",
       "      <td>0.003410</td>\n",
       "      <td>0.003410</td>\n",
       "      <td>0.002765</td>\n",
       "      <td>0.002765</td>\n",
       "      <td>4</td>\n",
       "    </tr>\n",
       "    <tr>\n",
       "      <th>...</th>\n",
       "      <td>...</td>\n",
       "      <td>...</td>\n",
       "      <td>...</td>\n",
       "      <td>...</td>\n",
       "      <td>...</td>\n",
       "    </tr>\n",
       "    <tr>\n",
       "      <th>65</th>\n",
       "      <td>0.000071</td>\n",
       "      <td>0.000071</td>\n",
       "      <td>0.000058</td>\n",
       "      <td>0.000058</td>\n",
       "      <td>65</td>\n",
       "    </tr>\n",
       "    <tr>\n",
       "      <th>66</th>\n",
       "      <td>0.000068</td>\n",
       "      <td>0.000068</td>\n",
       "      <td>0.000045</td>\n",
       "      <td>0.000045</td>\n",
       "      <td>66</td>\n",
       "    </tr>\n",
       "    <tr>\n",
       "      <th>67</th>\n",
       "      <td>0.000055</td>\n",
       "      <td>0.000055</td>\n",
       "      <td>0.000070</td>\n",
       "      <td>0.000070</td>\n",
       "      <td>67</td>\n",
       "    </tr>\n",
       "    <tr>\n",
       "      <th>68</th>\n",
       "      <td>0.000059</td>\n",
       "      <td>0.000059</td>\n",
       "      <td>0.000047</td>\n",
       "      <td>0.000047</td>\n",
       "      <td>68</td>\n",
       "    </tr>\n",
       "    <tr>\n",
       "      <th>69</th>\n",
       "      <td>0.000053</td>\n",
       "      <td>0.000053</td>\n",
       "      <td>0.000043</td>\n",
       "      <td>0.000043</td>\n",
       "      <td>69</td>\n",
       "    </tr>\n",
       "  </tbody>\n",
       "</table>\n",
       "<p>70 rows × 5 columns</p>\n",
       "</div>"
      ],
      "text/plain": [
       "        loss  Training Loss  val_loss  Validation Loss  epoch\n",
       "0   0.044906       0.044906  0.016692         0.016692      0\n",
       "1   0.008447       0.008447  0.004906         0.004906      1\n",
       "2   0.005062       0.005062  0.003926         0.003926      2\n",
       "3   0.003987       0.003987  0.002951         0.002951      3\n",
       "4   0.003410       0.003410  0.002765         0.002765      4\n",
       "..       ...            ...       ...              ...    ...\n",
       "65  0.000071       0.000071  0.000058         0.000058     65\n",
       "66  0.000068       0.000068  0.000045         0.000045     66\n",
       "67  0.000055       0.000055  0.000070         0.000070     67\n",
       "68  0.000059       0.000059  0.000047         0.000047     68\n",
       "69  0.000053       0.000053  0.000043         0.000043     69\n",
       "\n",
       "[70 rows x 5 columns]"
      ]
     },
     "metadata": {},
     "output_type": "display_data"
    }
   ],
   "source": [
    "# Llama a la función para crear el modelo y lo guarda.\n",
    "model = my_model(learning_rate)\n",
    "# Invoca a la función de entrenamiento y guarda los resultados.\n",
    "history, mse = train_model(model, train_df, train_labels, epochs, batch_size)\n",
    "# Llama a la función de las gráficas.\n",
    "plot_loss_curve(history)\n",
    "display(history)"
   ]
  },
  {
   "attachments": {},
   "cell_type": "markdown",
   "metadata": {},
   "source": [
    "# Predicciones"
   ]
  },
  {
   "cell_type": "code",
   "execution_count": 359,
   "metadata": {},
   "outputs": [
    {
     "name": "stdout",
     "output_type": "stream",
     "text": [
      "4/4 [==============================] - 0s 1ms/step\n"
     ]
    },
    {
     "name": "stderr",
     "output_type": "stream",
     "text": [
      "C:\\Users\\dave4\\AppData\\Local\\Packages\\PythonSoftwareFoundation.Python.3.10_qbz5n2kfra8p0\\LocalCache\\local-packages\\Python310\\site-packages\\plotly\\graph_objs\\_deprecations.py:378: DeprecationWarning:\n",
      "\n",
      "plotly.graph_objs.Line is deprecated.\n",
      "Please replace it with one of the following more specific types\n",
      "  - plotly.graph_objs.scatter.Line\n",
      "  - plotly.graph_objs.layout.shape.Line\n",
      "  - etc.\n",
      "\n",
      "\n"
     ]
    },
    {
     "data": {
      "application/vnd.plotly.v1+json": {
       "config": {
        "plotlyServerURL": "https://plot.ly"
       },
       "data": [
        {
         "mode": "markers",
         "name": "Predicciones",
         "type": "scatter",
         "x": [
          1.563,
          1.401,
          1.49,
          1.373,
          1.498,
          1.518,
          1.369,
          1.382,
          1.298,
          1.535,
          1.43,
          1.278,
          1.278,
          1.565,
          1.344,
          1.354,
          1.257,
          1.575,
          1.529,
          1.465,
          1.396,
          1.405,
          1.303,
          1.32,
          1.326,
          1.39,
          1.4,
          1.402,
          1.415,
          1.541,
          1.575,
          1.586,
          1.607,
          1.679,
          1.552,
          1.256,
          1.275,
          1.277,
          1.277,
          1.345,
          1.364,
          1.382,
          1.488,
          1.541,
          1.563,
          1.616,
          1.342,
          1.653,
          1.66,
          1.574,
          1.402,
          1.296,
          1.622,
          1.598,
          1.502,
          1.77,
          1.736,
          1.756,
          1.387,
          1.788,
          1.576,
          1.365,
          1.772,
          1.454,
          1.458,
          1.817,
          1.545,
          1.32,
          1.831,
          1.529,
          1.54,
          1.396,
          1.289,
          1.846,
          1.716,
          1.726,
          1.667,
          1.518,
          1.432,
          1.84,
          1.859,
          1.775,
          1.643,
          1.788,
          1.693,
          1.618,
          1.356,
          1.375,
          1.893,
          1.466,
          1.346,
          1.732,
          1.569,
          1.43,
          1.45,
          1.318,
          1.893,
          1.9,
          1.821,
          1.652,
          1.755,
          1.398,
          1.941,
          1.821,
          1.846,
          1.74,
          1.647,
          1.369,
          1.862,
          1.893,
          1.47
         ],
         "y": [
          1.568035009622574,
          1.4034801729917528,
          1.494207715034485,
          1.3733640095591546,
          1.5027641119956971,
          1.5240191078186036,
          1.3693877021074297,
          1.3845294945836069,
          1.2925066363811495,
          1.5388561078310015,
          1.4324977942705155,
          1.275329541862011,
          1.2747297683656216,
          1.5691509931087495,
          1.341849419951439,
          1.3532361230254173,
          1.2595898929089309,
          1.57885384953022,
          1.5323416883945467,
          1.466035414814949,
          1.3954228773713113,
          1.4058664832115175,
          1.3005300310254098,
          1.3174863219857216,
          1.3235899920463563,
          1.3906742101311684,
          1.4010958915948868,
          1.4047315640449525,
          1.4183640540838243,
          1.5445777374505998,
          1.5792451287508011,
          1.5901094753742218,
          1.61014634847641,
          1.6804751234054567,
          1.5559803984165193,
          1.2612334603369237,
          1.2762831268012524,
          1.2768348030149936,
          1.2758190117478372,
          1.34243738591671,
          1.365676941394806,
          1.3827732865810396,
          1.4950444190502168,
          1.5449773719310762,
          1.5655641433000564,
          1.6184981179237368,
          1.3428029667139054,
          1.6555678536891938,
          1.6621009252071381,
          1.5763566739559174,
          1.4002488689422607,
          1.2958102745115758,
          1.6249351148605347,
          1.6007891991138459,
          1.5042533770799638,
          1.7775076143741608,
          1.7389437923431397,
          1.7577659895420075,
          1.3920055760741235,
          1.7970931725502015,
          1.5792232698202133,
          1.3665658276081085,
          1.7799456923007966,
          1.45413170003891,
          1.4597992713451386,
          1.8266230607032776,
          1.546538060307503,
          1.3193477342724802,
          1.8400674374103547,
          1.5303187992572784,
          1.5426626377105714,
          1.3924165217876436,
          1.2911354357004166,
          1.8535597205162049,
          1.7184157259464263,
          1.7274070763587952,
          1.6682307190895083,
          1.5205256711244584,
          1.4393351674079895,
          1.847536996126175,
          1.861412006855011,
          1.7823083329200746,
          1.6452757878303528,
          1.7928487441539764,
          1.6961678721904756,
          1.6209392499923707,
          1.3534034900069238,
          1.3775866662859917,
          1.8882442586421968,
          1.4643283894062042,
          1.3470271614193918,
          1.7397630441188814,
          1.5715335947275162,
          1.4257837430238725,
          1.4483587826490403,
          1.318527817130089,
          1.8824745044708253,
          1.8922609353065492,
          1.8304153451919556,
          1.655179759502411,
          1.759786609888077,
          1.4007670913934709,
          1.9115456168651581,
          1.8299812207221986,
          1.850180094242096,
          1.7451421735286714,
          1.650193785429001,
          1.3688583756685258,
          1.8696468899250032,
          1.8884607536792757,
          1.4662082574367523
         ]
        },
        {
         "name": "Datos Reales",
         "type": "scatter",
         "x": [
          1.563,
          1.401,
          1.49,
          1.373,
          1.498,
          1.518,
          1.369,
          1.382,
          1.298,
          1.535,
          1.43,
          1.278,
          1.278,
          1.565,
          1.344,
          1.354,
          1.257,
          1.575,
          1.529,
          1.465,
          1.396,
          1.405,
          1.303,
          1.32,
          1.326,
          1.39,
          1.4,
          1.402,
          1.415,
          1.541,
          1.575,
          1.586,
          1.607,
          1.679,
          1.552,
          1.256,
          1.275,
          1.277,
          1.277,
          1.345,
          1.364,
          1.382,
          1.488,
          1.541,
          1.563,
          1.616,
          1.342,
          1.653,
          1.66,
          1.574,
          1.402,
          1.296,
          1.622,
          1.598,
          1.502,
          1.77,
          1.736,
          1.756,
          1.387,
          1.788,
          1.576,
          1.365,
          1.772,
          1.454,
          1.458,
          1.817,
          1.545,
          1.32,
          1.831,
          1.529,
          1.54,
          1.396,
          1.289,
          1.846,
          1.716,
          1.726,
          1.667,
          1.518,
          1.432,
          1.84,
          1.859,
          1.775,
          1.643,
          1.788,
          1.693,
          1.618,
          1.356,
          1.375,
          1.893,
          1.466,
          1.346,
          1.732,
          1.569,
          1.43,
          1.45,
          1.318,
          1.893,
          1.9,
          1.821,
          1.652,
          1.755,
          1.398,
          1.941,
          1.821,
          1.846,
          1.74,
          1.647,
          1.369,
          1.862,
          1.893,
          1.47
         ],
         "xaxis": "x",
         "y": [
          1.563,
          1.401,
          1.49,
          1.373,
          1.498,
          1.518,
          1.369,
          1.382,
          1.298,
          1.535,
          1.43,
          1.278,
          1.278,
          1.565,
          1.344,
          1.354,
          1.257,
          1.575,
          1.529,
          1.465,
          1.396,
          1.405,
          1.303,
          1.32,
          1.326,
          1.39,
          1.4,
          1.402,
          1.415,
          1.541,
          1.575,
          1.586,
          1.607,
          1.679,
          1.552,
          1.256,
          1.275,
          1.277,
          1.277,
          1.345,
          1.364,
          1.382,
          1.488,
          1.541,
          1.563,
          1.616,
          1.342,
          1.653,
          1.66,
          1.574,
          1.402,
          1.296,
          1.622,
          1.598,
          1.502,
          1.77,
          1.736,
          1.756,
          1.387,
          1.788,
          1.576,
          1.365,
          1.772,
          1.454,
          1.458,
          1.817,
          1.545,
          1.32,
          1.831,
          1.529,
          1.54,
          1.396,
          1.289,
          1.846,
          1.716,
          1.726,
          1.667,
          1.518,
          1.432,
          1.84,
          1.859,
          1.775,
          1.643,
          1.788,
          1.693,
          1.618,
          1.356,
          1.375,
          1.893,
          1.466,
          1.346,
          1.732,
          1.569,
          1.43,
          1.45,
          1.318,
          1.893,
          1.9,
          1.821,
          1.652,
          1.755,
          1.398,
          1.941,
          1.821,
          1.846,
          1.74,
          1.647,
          1.369,
          1.862,
          1.893,
          1.47
         ],
         "yaxis": "y"
        }
       ],
       "layout": {
        "annotations": [
         {
          "font": {
           "size": 16
          },
          "showarrow": false,
          "text": "If",
          "x": 0.47,
          "xanchor": "center",
          "xref": "paper",
          "y": 0,
          "yanchor": "top",
          "yref": "paper",
          "yshift": -30
         },
         {
          "font": {
           "size": 16
          },
          "showarrow": false,
          "text": "Predicción de If",
          "textangle": -90,
          "x": 0,
          "xanchor": "right",
          "xref": "paper",
          "xshift": -40,
          "y": 0.5,
          "yanchor": "middle",
          "yref": "paper"
         }
        ],
        "template": {
         "data": {
          "bar": [
           {
            "error_x": {
             "color": "#2a3f5f"
            },
            "error_y": {
             "color": "#2a3f5f"
            },
            "marker": {
             "line": {
              "color": "white",
              "width": 0.5
             },
             "pattern": {
              "fillmode": "overlay",
              "size": 10,
              "solidity": 0.2
             }
            },
            "type": "bar"
           }
          ],
          "barpolar": [
           {
            "marker": {
             "line": {
              "color": "white",
              "width": 0.5
             },
             "pattern": {
              "fillmode": "overlay",
              "size": 10,
              "solidity": 0.2
             }
            },
            "type": "barpolar"
           }
          ],
          "carpet": [
           {
            "aaxis": {
             "endlinecolor": "#2a3f5f",
             "gridcolor": "#C8D4E3",
             "linecolor": "#C8D4E3",
             "minorgridcolor": "#C8D4E3",
             "startlinecolor": "#2a3f5f"
            },
            "baxis": {
             "endlinecolor": "#2a3f5f",
             "gridcolor": "#C8D4E3",
             "linecolor": "#C8D4E3",
             "minorgridcolor": "#C8D4E3",
             "startlinecolor": "#2a3f5f"
            },
            "type": "carpet"
           }
          ],
          "choropleth": [
           {
            "colorbar": {
             "outlinewidth": 0,
             "ticks": ""
            },
            "type": "choropleth"
           }
          ],
          "contour": [
           {
            "colorbar": {
             "outlinewidth": 0,
             "ticks": ""
            },
            "colorscale": [
             [
              0,
              "#0d0887"
             ],
             [
              0.1111111111111111,
              "#46039f"
             ],
             [
              0.2222222222222222,
              "#7201a8"
             ],
             [
              0.3333333333333333,
              "#9c179e"
             ],
             [
              0.4444444444444444,
              "#bd3786"
             ],
             [
              0.5555555555555556,
              "#d8576b"
             ],
             [
              0.6666666666666666,
              "#ed7953"
             ],
             [
              0.7777777777777778,
              "#fb9f3a"
             ],
             [
              0.8888888888888888,
              "#fdca26"
             ],
             [
              1,
              "#f0f921"
             ]
            ],
            "type": "contour"
           }
          ],
          "contourcarpet": [
           {
            "colorbar": {
             "outlinewidth": 0,
             "ticks": ""
            },
            "type": "contourcarpet"
           }
          ],
          "heatmap": [
           {
            "colorbar": {
             "outlinewidth": 0,
             "ticks": ""
            },
            "colorscale": [
             [
              0,
              "#0d0887"
             ],
             [
              0.1111111111111111,
              "#46039f"
             ],
             [
              0.2222222222222222,
              "#7201a8"
             ],
             [
              0.3333333333333333,
              "#9c179e"
             ],
             [
              0.4444444444444444,
              "#bd3786"
             ],
             [
              0.5555555555555556,
              "#d8576b"
             ],
             [
              0.6666666666666666,
              "#ed7953"
             ],
             [
              0.7777777777777778,
              "#fb9f3a"
             ],
             [
              0.8888888888888888,
              "#fdca26"
             ],
             [
              1,
              "#f0f921"
             ]
            ],
            "type": "heatmap"
           }
          ],
          "heatmapgl": [
           {
            "colorbar": {
             "outlinewidth": 0,
             "ticks": ""
            },
            "colorscale": [
             [
              0,
              "#0d0887"
             ],
             [
              0.1111111111111111,
              "#46039f"
             ],
             [
              0.2222222222222222,
              "#7201a8"
             ],
             [
              0.3333333333333333,
              "#9c179e"
             ],
             [
              0.4444444444444444,
              "#bd3786"
             ],
             [
              0.5555555555555556,
              "#d8576b"
             ],
             [
              0.6666666666666666,
              "#ed7953"
             ],
             [
              0.7777777777777778,
              "#fb9f3a"
             ],
             [
              0.8888888888888888,
              "#fdca26"
             ],
             [
              1,
              "#f0f921"
             ]
            ],
            "type": "heatmapgl"
           }
          ],
          "histogram": [
           {
            "marker": {
             "pattern": {
              "fillmode": "overlay",
              "size": 10,
              "solidity": 0.2
             }
            },
            "type": "histogram"
           }
          ],
          "histogram2d": [
           {
            "colorbar": {
             "outlinewidth": 0,
             "ticks": ""
            },
            "colorscale": [
             [
              0,
              "#0d0887"
             ],
             [
              0.1111111111111111,
              "#46039f"
             ],
             [
              0.2222222222222222,
              "#7201a8"
             ],
             [
              0.3333333333333333,
              "#9c179e"
             ],
             [
              0.4444444444444444,
              "#bd3786"
             ],
             [
              0.5555555555555556,
              "#d8576b"
             ],
             [
              0.6666666666666666,
              "#ed7953"
             ],
             [
              0.7777777777777778,
              "#fb9f3a"
             ],
             [
              0.8888888888888888,
              "#fdca26"
             ],
             [
              1,
              "#f0f921"
             ]
            ],
            "type": "histogram2d"
           }
          ],
          "histogram2dcontour": [
           {
            "colorbar": {
             "outlinewidth": 0,
             "ticks": ""
            },
            "colorscale": [
             [
              0,
              "#0d0887"
             ],
             [
              0.1111111111111111,
              "#46039f"
             ],
             [
              0.2222222222222222,
              "#7201a8"
             ],
             [
              0.3333333333333333,
              "#9c179e"
             ],
             [
              0.4444444444444444,
              "#bd3786"
             ],
             [
              0.5555555555555556,
              "#d8576b"
             ],
             [
              0.6666666666666666,
              "#ed7953"
             ],
             [
              0.7777777777777778,
              "#fb9f3a"
             ],
             [
              0.8888888888888888,
              "#fdca26"
             ],
             [
              1,
              "#f0f921"
             ]
            ],
            "type": "histogram2dcontour"
           }
          ],
          "mesh3d": [
           {
            "colorbar": {
             "outlinewidth": 0,
             "ticks": ""
            },
            "type": "mesh3d"
           }
          ],
          "parcoords": [
           {
            "line": {
             "colorbar": {
              "outlinewidth": 0,
              "ticks": ""
             }
            },
            "type": "parcoords"
           }
          ],
          "pie": [
           {
            "automargin": true,
            "type": "pie"
           }
          ],
          "scatter": [
           {
            "fillpattern": {
             "fillmode": "overlay",
             "size": 10,
             "solidity": 0.2
            },
            "type": "scatter"
           }
          ],
          "scatter3d": [
           {
            "line": {
             "colorbar": {
              "outlinewidth": 0,
              "ticks": ""
             }
            },
            "marker": {
             "colorbar": {
              "outlinewidth": 0,
              "ticks": ""
             }
            },
            "type": "scatter3d"
           }
          ],
          "scattercarpet": [
           {
            "marker": {
             "colorbar": {
              "outlinewidth": 0,
              "ticks": ""
             }
            },
            "type": "scattercarpet"
           }
          ],
          "scattergeo": [
           {
            "marker": {
             "colorbar": {
              "outlinewidth": 0,
              "ticks": ""
             }
            },
            "type": "scattergeo"
           }
          ],
          "scattergl": [
           {
            "marker": {
             "colorbar": {
              "outlinewidth": 0,
              "ticks": ""
             }
            },
            "type": "scattergl"
           }
          ],
          "scattermapbox": [
           {
            "marker": {
             "colorbar": {
              "outlinewidth": 0,
              "ticks": ""
             }
            },
            "type": "scattermapbox"
           }
          ],
          "scatterpolar": [
           {
            "marker": {
             "colorbar": {
              "outlinewidth": 0,
              "ticks": ""
             }
            },
            "type": "scatterpolar"
           }
          ],
          "scatterpolargl": [
           {
            "marker": {
             "colorbar": {
              "outlinewidth": 0,
              "ticks": ""
             }
            },
            "type": "scatterpolargl"
           }
          ],
          "scatterternary": [
           {
            "marker": {
             "colorbar": {
              "outlinewidth": 0,
              "ticks": ""
             }
            },
            "type": "scatterternary"
           }
          ],
          "surface": [
           {
            "colorbar": {
             "outlinewidth": 0,
             "ticks": ""
            },
            "colorscale": [
             [
              0,
              "#0d0887"
             ],
             [
              0.1111111111111111,
              "#46039f"
             ],
             [
              0.2222222222222222,
              "#7201a8"
             ],
             [
              0.3333333333333333,
              "#9c179e"
             ],
             [
              0.4444444444444444,
              "#bd3786"
             ],
             [
              0.5555555555555556,
              "#d8576b"
             ],
             [
              0.6666666666666666,
              "#ed7953"
             ],
             [
              0.7777777777777778,
              "#fb9f3a"
             ],
             [
              0.8888888888888888,
              "#fdca26"
             ],
             [
              1,
              "#f0f921"
             ]
            ],
            "type": "surface"
           }
          ],
          "table": [
           {
            "cells": {
             "fill": {
              "color": "#EBF0F8"
             },
             "line": {
              "color": "white"
             }
            },
            "header": {
             "fill": {
              "color": "#C8D4E3"
             },
             "line": {
              "color": "white"
             }
            },
            "type": "table"
           }
          ]
         },
         "layout": {
          "annotationdefaults": {
           "arrowcolor": "#2a3f5f",
           "arrowhead": 0,
           "arrowwidth": 1
          },
          "autotypenumbers": "strict",
          "coloraxis": {
           "colorbar": {
            "outlinewidth": 0,
            "ticks": ""
           }
          },
          "colorscale": {
           "diverging": [
            [
             0,
             "#8e0152"
            ],
            [
             0.1,
             "#c51b7d"
            ],
            [
             0.2,
             "#de77ae"
            ],
            [
             0.3,
             "#f1b6da"
            ],
            [
             0.4,
             "#fde0ef"
            ],
            [
             0.5,
             "#f7f7f7"
            ],
            [
             0.6,
             "#e6f5d0"
            ],
            [
             0.7,
             "#b8e186"
            ],
            [
             0.8,
             "#7fbc41"
            ],
            [
             0.9,
             "#4d9221"
            ],
            [
             1,
             "#276419"
            ]
           ],
           "sequential": [
            [
             0,
             "#0d0887"
            ],
            [
             0.1111111111111111,
             "#46039f"
            ],
            [
             0.2222222222222222,
             "#7201a8"
            ],
            [
             0.3333333333333333,
             "#9c179e"
            ],
            [
             0.4444444444444444,
             "#bd3786"
            ],
            [
             0.5555555555555556,
             "#d8576b"
            ],
            [
             0.6666666666666666,
             "#ed7953"
            ],
            [
             0.7777777777777778,
             "#fb9f3a"
            ],
            [
             0.8888888888888888,
             "#fdca26"
            ],
            [
             1,
             "#f0f921"
            ]
           ],
           "sequentialminus": [
            [
             0,
             "#0d0887"
            ],
            [
             0.1111111111111111,
             "#46039f"
            ],
            [
             0.2222222222222222,
             "#7201a8"
            ],
            [
             0.3333333333333333,
             "#9c179e"
            ],
            [
             0.4444444444444444,
             "#bd3786"
            ],
            [
             0.5555555555555556,
             "#d8576b"
            ],
            [
             0.6666666666666666,
             "#ed7953"
            ],
            [
             0.7777777777777778,
             "#fb9f3a"
            ],
            [
             0.8888888888888888,
             "#fdca26"
            ],
            [
             1,
             "#f0f921"
            ]
           ]
          },
          "colorway": [
           "#636efa",
           "#EF553B",
           "#00cc96",
           "#ab63fa",
           "#FFA15A",
           "#19d3f3",
           "#FF6692",
           "#B6E880",
           "#FF97FF",
           "#FECB52"
          ],
          "font": {
           "color": "#2a3f5f"
          },
          "geo": {
           "bgcolor": "white",
           "lakecolor": "white",
           "landcolor": "white",
           "showlakes": true,
           "showland": true,
           "subunitcolor": "#C8D4E3"
          },
          "hoverlabel": {
           "align": "left"
          },
          "hovermode": "closest",
          "mapbox": {
           "style": "light"
          },
          "paper_bgcolor": "white",
          "plot_bgcolor": "white",
          "polar": {
           "angularaxis": {
            "gridcolor": "#EBF0F8",
            "linecolor": "#EBF0F8",
            "ticks": ""
           },
           "bgcolor": "white",
           "radialaxis": {
            "gridcolor": "#EBF0F8",
            "linecolor": "#EBF0F8",
            "ticks": ""
           }
          },
          "scene": {
           "xaxis": {
            "backgroundcolor": "white",
            "gridcolor": "#DFE8F3",
            "gridwidth": 2,
            "linecolor": "#EBF0F8",
            "showbackground": true,
            "ticks": "",
            "zerolinecolor": "#EBF0F8"
           },
           "yaxis": {
            "backgroundcolor": "white",
            "gridcolor": "#DFE8F3",
            "gridwidth": 2,
            "linecolor": "#EBF0F8",
            "showbackground": true,
            "ticks": "",
            "zerolinecolor": "#EBF0F8"
           },
           "zaxis": {
            "backgroundcolor": "white",
            "gridcolor": "#DFE8F3",
            "gridwidth": 2,
            "linecolor": "#EBF0F8",
            "showbackground": true,
            "ticks": "",
            "zerolinecolor": "#EBF0F8"
           }
          },
          "shapedefaults": {
           "line": {
            "color": "#2a3f5f"
           }
          },
          "ternary": {
           "aaxis": {
            "gridcolor": "#DFE8F3",
            "linecolor": "#A2B1C6",
            "ticks": ""
           },
           "baxis": {
            "gridcolor": "#DFE8F3",
            "linecolor": "#A2B1C6",
            "ticks": ""
           },
           "bgcolor": "white",
           "caxis": {
            "gridcolor": "#DFE8F3",
            "linecolor": "#A2B1C6",
            "ticks": ""
           }
          },
          "title": {
           "x": 0.05
          },
          "xaxis": {
           "automargin": true,
           "gridcolor": "#EBF0F8",
           "linecolor": "#EBF0F8",
           "ticks": "",
           "title": {
            "standoff": 15
           },
           "zerolinecolor": "#EBF0F8",
           "zerolinewidth": 2
          },
          "yaxis": {
           "automargin": true,
           "gridcolor": "#EBF0F8",
           "linecolor": "#EBF0F8",
           "ticks": "",
           "title": {
            "standoff": 15
           },
           "zerolinecolor": "#EBF0F8",
           "zerolinewidth": 2
          }
         }
        },
        "title": {
         "text": "Gráfica De Predicciones Contra Datos Reales"
        },
        "xaxis": {
         "anchor": "y",
         "domain": [
          0,
          0.94
         ]
        },
        "yaxis": {
         "anchor": "x",
         "domain": [
          0,
          1
         ]
        },
        "yaxis2": {
         "anchor": "x",
         "overlaying": "y",
         "side": "right"
        }
       }
      }
     },
     "metadata": {},
     "output_type": "display_data"
    },
    {
     "data": {
      "text/html": [
       "<div>\n",
       "<style scoped>\n",
       "    .dataframe tbody tr th:only-of-type {\n",
       "        vertical-align: middle;\n",
       "    }\n",
       "\n",
       "    .dataframe tbody tr th {\n",
       "        vertical-align: top;\n",
       "    }\n",
       "\n",
       "    .dataframe thead th {\n",
       "        text-align: right;\n",
       "    }\n",
       "</style>\n",
       "<table border=\"1\" class=\"dataframe\">\n",
       "  <thead>\n",
       "    <tr style=\"text-align: right;\">\n",
       "      <th></th>\n",
       "      <th>If</th>\n",
       "      <th>If Predictions</th>\n",
       "    </tr>\n",
       "  </thead>\n",
       "  <tbody>\n",
       "    <tr>\n",
       "      <th>0</th>\n",
       "      <td>1.563</td>\n",
       "      <td>1.568035</td>\n",
       "    </tr>\n",
       "    <tr>\n",
       "      <th>1</th>\n",
       "      <td>1.401</td>\n",
       "      <td>1.403480</td>\n",
       "    </tr>\n",
       "    <tr>\n",
       "      <th>2</th>\n",
       "      <td>1.490</td>\n",
       "      <td>1.494208</td>\n",
       "    </tr>\n",
       "    <tr>\n",
       "      <th>3</th>\n",
       "      <td>1.373</td>\n",
       "      <td>1.373364</td>\n",
       "    </tr>\n",
       "    <tr>\n",
       "      <th>4</th>\n",
       "      <td>1.498</td>\n",
       "      <td>1.502764</td>\n",
       "    </tr>\n",
       "    <tr>\n",
       "      <th>...</th>\n",
       "      <td>...</td>\n",
       "      <td>...</td>\n",
       "    </tr>\n",
       "    <tr>\n",
       "      <th>106</th>\n",
       "      <td>1.647</td>\n",
       "      <td>1.650194</td>\n",
       "    </tr>\n",
       "    <tr>\n",
       "      <th>107</th>\n",
       "      <td>1.369</td>\n",
       "      <td>1.368858</td>\n",
       "    </tr>\n",
       "    <tr>\n",
       "      <th>108</th>\n",
       "      <td>1.862</td>\n",
       "      <td>1.869647</td>\n",
       "    </tr>\n",
       "    <tr>\n",
       "      <th>109</th>\n",
       "      <td>1.893</td>\n",
       "      <td>1.888461</td>\n",
       "    </tr>\n",
       "    <tr>\n",
       "      <th>110</th>\n",
       "      <td>1.470</td>\n",
       "      <td>1.466208</td>\n",
       "    </tr>\n",
       "  </tbody>\n",
       "</table>\n",
       "<p>111 rows × 2 columns</p>\n",
       "</div>"
      ],
      "text/plain": [
       "        If  If Predictions\n",
       "0    1.563        1.568035\n",
       "1    1.401        1.403480\n",
       "2    1.490        1.494208\n",
       "3    1.373        1.373364\n",
       "4    1.498        1.502764\n",
       "..     ...             ...\n",
       "106  1.647        1.650194\n",
       "107  1.369        1.368858\n",
       "108  1.862        1.869647\n",
       "109  1.893        1.888461\n",
       "110  1.470        1.466208\n",
       "\n",
       "[111 rows x 2 columns]"
      ]
     },
     "metadata": {},
     "output_type": "display_data"
    }
   ],
   "source": [
    "# Hace predicciones usando el conjunto de datos de prueba.\n",
    "test_predictions = model.predict(test_df).flatten()\n",
    "\n",
    "pivot = np.zeros((111,4))\n",
    "pivot = np.insert(pivot, 4, test_labels, axis =1)\n",
    "pivot2 = np.zeros((111,5))\n",
    "for i in range(111):\n",
    "    for j in range(5):\n",
    "        pivot2[i,4] = test_predictions[i]\n",
    "\n",
    "# Guarda las predicciones en un DataFrame.\n",
    "test_predictions_df1 = pd.DataFrame(pivot, columns=['Iy', 'PF', 'e', 'dIf', 'If'])\n",
    "test_predictions_df2 = pd.DataFrame(pivot2, columns=['Iy', 'PF', 'e', 'dIf', 'If'])\n",
    "\n",
    "# Desnormaliza las predicciones y los labels.\n",
    "test_predictions_df1 = reverse_norm(test_predictions_df1)\n",
    "test_predictions_df2 = reverse_norm(test_predictions_df2)\n",
    "\n",
    "# Renombra la columna \"If\" por \"If Predictions\" en el dataframe de las predicciones\n",
    "test_predictions_df2.rename(columns = {'If':'If Predictions'}, inplace = True)\n",
    "test_predictions_df = pd.concat([test_predictions_df1['If'], test_predictions_df2['If Predictions']], axis= 1)\n",
    "\n",
    "# Llama a la función que grafica las predicciones sobre los datos.\n",
    "plot_predictions(test_predictions_df)\n",
    "\n",
    "display(test_predictions_df)"
   ]
  }
 ],
 "metadata": {
  "kernelspec": {
   "display_name": "Python 3",
   "language": "python",
   "name": "python3"
  },
  "language_info": {
   "codemirror_mode": {
    "name": "ipython",
    "version": 3
   },
   "file_extension": ".py",
   "mimetype": "text/x-python",
   "name": "python",
   "nbconvert_exporter": "python",
   "pygments_lexer": "ipython3",
   "version": "3.10.11"
  },
  "orig_nbformat": 4,
  "vscode": {
   "interpreter": {
    "hash": "b348c49d08ee7a97c598361ac32aefffc4242a551b47fcd1f9b5299b01841616"
   }
  }
 },
 "nbformat": 4,
 "nbformat_minor": 2
}
