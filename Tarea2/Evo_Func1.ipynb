{
 "cells": [
  {
   "cell_type": "code",
   "execution_count": 215,
   "metadata": {},
   "outputs": [],
   "source": [
    "from deap import base, creator, tools  # deap utilities\n",
    "import random\n",
    "import numpy as np  # numerical computation\n",
    "import matplotlib.pyplot as plt   # plotting\n"
   ]
  },
  {
   "cell_type": "code",
   "execution_count": 221,
   "metadata": {},
   "outputs": [
    {
     "name": "stderr",
     "output_type": "stream",
     "text": [
      "c:\\Users\\Alienware\\AppData\\Local\\Programs\\Python\\Python310\\lib\\site-packages\\deap\\creator.py:138: RuntimeWarning: A class named 'FitnessMin' has already been created and it will be overwritten. Consider deleting previous creation of that class or rename it.\n",
      "  warnings.warn(\"A class named '{0}' has already been created and it \"\n",
      "c:\\Users\\Alienware\\AppData\\Local\\Programs\\Python\\Python310\\lib\\site-packages\\deap\\creator.py:138: RuntimeWarning: A class named 'Individual' has already been created and it will be overwritten. Consider deleting previous creation of that class or rename it.\n",
      "  warnings.warn(\"A class named '{0}' has already been created and it \"\n"
     ]
    }
   ],
   "source": [
    "creator.create(\"FitnessMin\", base.Fitness, weights=(-1.0,))\n",
    "creator.create(\"Individual\", np.ndarray, fitness=creator.FitnessMin)\n",
    "\n"
   ]
  },
  {
   "cell_type": "code",
   "execution_count": 242,
   "metadata": {},
   "outputs": [],
   "source": [
    "IND_SIZE = 3  # chromosome length\n",
    "\n",
    "toolbox = base.Toolbox()\n",
    "toolbox.register(\"attribute\", random.randint,0, 20)\n",
    "toolbox.register(\"individual\", tools.initRepeat, creator.Individual,\n",
    "                 toolbox.attribute, n=IND_SIZE)\n",
    "toolbox.register(\"population\", tools.initRepeat, list,toolbox.individual)\n",
    "\n"
   ]
  },
  {
   "cell_type": "code",
   "execution_count": 243,
   "metadata": {},
   "outputs": [],
   "source": [
    "def evaluate(ind):\n",
    "    \"\"\" Returns the fitness of an individual.\n",
    "    This is your objective function.\"\"\"\n",
    "    F=4*ind[0]+8*ind[1]+12*ind[2]-10*((6*ind[0]+3*ind[1]+12*ind[2])/120)**11\n",
    "    lista=[]\n",
    "    lista.append(F)\n",
    "    return sum(lista),  #  must return a tuple\n",
    "\n",
    "# Operators\n",
    "toolbox.register(\"cross\", tools.cxTwoPoint)  \n",
    "toolbox.register(\"mutate\", tools.mutGaussian, mu=0, sigma=1, indpb=0.1) \n",
    "toolbox.register(\"select\", tools.selTournament, tournsize=3)\n",
    "toolbox.register(\"evaluate\", evaluate)\n",
    "\n"
   ]
  },
  {
   "cell_type": "code",
   "execution_count": 247,
   "metadata": {},
   "outputs": [],
   "source": [
    "def evaluate(ind):\n",
    "    \"\"\" Returns the fitness of an individual.\n",
    "    This is your objective function.\"\"\"\n",
    "    F=abs(ind[0]-ind[1])+abs(ind[0]-ind[2])+abs(ind[1]-ind[2])\n",
    "    lista=[]\n",
    "    lista.append(F)\n",
    "    return sum(lista),  #  must return a tuple\n",
    "\n",
    "# Operators\n",
    "toolbox.register(\"cross\", tools.cxTwoPoint)  \n",
    "toolbox.register(\"mutate\", tools.mutUniformInt, low=0, up=20, indpb=1.0) \n",
    "toolbox.register(\"select\", tools.selTournament, tournsize=3)\n",
    "toolbox.register(\"evaluate\", evaluate)"
   ]
  },
  {
   "cell_type": "code",
   "execution_count": 225,
   "metadata": {},
   "outputs": [],
   "source": [
    "def generationalGA():\n",
    "    pop = toolbox.population(n=50)  # Registered as a list\n",
    "    CXPB = 0.5  # Crossover probability\n",
    "    MUTPB = 0.2  # Mutation probability\n",
    "    NGEN = 40 # Number of generations\n",
    "    \n",
    "    # Evaluate all population first\n",
    "    fitnesses = map(toolbox.evaluate, pop)\n",
    "    for ind, fit in zip(pop, fitnesses):\n",
    "        ind.fitness.values = fit\n",
    "    \n",
    "    # Generate offspring\n",
    "    for __ in range(NGEN):\n",
    "        offspring = toolbox.select(pop, len(pop))\n",
    "        offspring = list(map(toolbox.clone, offspring))  # Generate a deep copy\n",
    "        \n",
    "        # Apply crossover\n",
    "        for c1, c2 in zip(offspring[::2], offspring[1::2]):\n",
    "            if random.random() < CXPB:\n",
    "                toolbox.cross(c1, c2)\n",
    "                # Reset their fitness values\n",
    "                del c1.fitness.values\n",
    "                del c2.fitness.values\n",
    "\n",
    "        # Mutate those selected\n",
    "        for mutant in offspring:\n",
    "            if random.random() < MUTPB:\n",
    "                toolbox.mutate(mutant)\n",
    "                # Reset fitness values\n",
    "                del mutant.fitness.values\n",
    "\n",
    "        # Evaluate non-evaluated individuals in offspring\n",
    "        invalid_inds = [ind for ind in offspring if not ind.fitness.valid]\n",
    "        fitnesses = map(toolbox.evaluate, invalid_inds)\n",
    "        for ind, fit in zip(invalid_inds, fitnesses):\n",
    "            ind.fitness.values = fit\n",
    "\n",
    "        # Replace entire population by the offspring\n",
    "        pop[:] = offspring\n",
    "    \n",
    "    return pop\n"
   ]
  },
  {
   "cell_type": "code",
   "execution_count": 258,
   "metadata": {},
   "outputs": [
    {
     "name": "stdout",
     "output_type": "stream",
     "text": [
      "Individual: [10 10  9]\n",
      "\n",
      "Fitness: 2.0\n"
     ]
    }
   ],
   "source": [
    "results = generationalGA()\n",
    "fitnesses = [i.fitness.getValues()[0] for i in results]\n",
    "\n",
    "bestpos = fitnesses.index(min(fitnesses))\n",
    "print(\"Individual: {0}\\n\\nFitness: {1}\".format(\n",
    "        results[bestpos], results[bestpos].fitness.getValues()[0]))\n"
   ]
  }
 ],
 "metadata": {
  "kernelspec": {
   "display_name": "Python 3",
   "language": "python",
   "name": "python3"
  },
  "language_info": {
   "codemirror_mode": {
    "name": "ipython",
    "version": 3
   },
   "file_extension": ".py",
   "mimetype": "text/x-python",
   "name": "python",
   "nbconvert_exporter": "python",
   "pygments_lexer": "ipython3",
   "version": "3.10.8"
  },
  "orig_nbformat": 4
 },
 "nbformat": 4,
 "nbformat_minor": 2
}
