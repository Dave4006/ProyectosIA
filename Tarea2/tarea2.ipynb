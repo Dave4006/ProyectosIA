{
 "cells": [
  {
   "attachments": {},
   "cell_type": "markdown",
   "metadata": {},
   "source": [
    "# Tarea 2\n",
    "## Importación de módulos"
   ]
  },
  {
   "cell_type": "code",
   "execution_count": 110,
   "metadata": {},
   "outputs": [],
   "source": [
    "import numpy as np\n",
    "from pymoo.core.problem import ElementwiseProblem\n",
    "from IPython.display import display\n",
    "import matplotlib.pyplot as plt\n"
   ]
  },
  {
   "attachments": {},
   "cell_type": "markdown",
   "metadata": {},
   "source": [
    "## Clase del problema"
   ]
  },
  {
   "cell_type": "code",
   "execution_count": 111,
   "metadata": {},
   "outputs": [],
   "source": [
    "class MyProblem(ElementwiseProblem):\n",
    "    def __init__(self):\n",
    "        super().__init__(n_var=3,#Cantidad de genes por cromosoma\n",
    "                        n_obj=2,#cantidad de funciones objetivo\n",
    "                        xl=0,#Limite inferior del valor del gen\n",
    "                        xu=200)#Limite superior del valor de gen\n",
    "        \n",
    "    def _evaluate(self, x, out, *args, **kwargs):\n",
    "        \n",
    "        # Cantidad de tornos\n",
    "        T = x[0]\n",
    "        # Cantidad de fresadoras\n",
    "        F = x[1]\n",
    "        # Cantidad de multiproposito\n",
    "        M = x[2]\n",
    "        \n",
    "        #Se definen las penalizaciones por el sobrepaso de material \n",
    "        penCab = 280 - (2*T+F+5*M)#Cableado\n",
    "        penM  = 120 - (6*T+3*F+12*M)#Motores\n",
    "        penCar = 670 - (2*T+8*F+4*M)#Carcasas\n",
    "        penA = 250 - (2*T+6*F+6*M)#Actuadores\n",
    "        \n",
    "        penalizaciones = [penCab, penM, penCar, penA] #Vector con las penalizaciones\n",
    "        \n",
    "        pen = 0\n",
    "        #Sumatoria de penalizaciones\n",
    "        for i in range(4):\n",
    "            if penalizaciones[i] < 0:\n",
    "                pen = pen + penalizaciones[i]\n",
    "        \n",
    "        #Funciones objetivo\n",
    "        f1 = -(4*T+8*F+12*M)+15*pen**2 #Funcion que busca la mayor ganancia\n",
    "        f2 = (abs(T-F)+abs(T-M)+abs(F-M))**2#Funcion que busca la cantidad de unidades sea uniforme\n",
    "        \n",
    "        out[\"F\"] = [f1, f2]\n",
    "        \n",
    "problem = MyProblem()    "
   ]
  },
  {
   "attachments": {},
   "cell_type": "markdown",
   "metadata": {},
   "source": [
    "## Inicialización del algoritmo"
   ]
  },
  {
   "cell_type": "code",
   "execution_count": 112,
   "metadata": {},
   "outputs": [],
   "source": [
    "from pymoo.algorithms.moo.nsga2 import NSGA2\n",
    "from pymoo.operators.mutation.pm import PM\n",
    "from pymoo.operators.sampling.rnd import IntegerRandomSampling\n",
    "from pymoo.operators.repair.rounding import RoundingRepair\n",
    "from pymoo.operators.crossover.pntx import SinglePointCrossover\n",
    "\n",
    "# Se utiliza el algoritmo NSGA2 \n",
    "#Automaticamente se utiliza un el algoritmo de torneo para la selección del cruzamiento\n",
    "algorithm = NSGA2(pop_size=100,#Numero de la poblacion inicial \n",
    "                sampling=IntegerRandomSampling(),\n",
    "                crossover=SinglePointCrossover(),\n",
    "                mutation=PM(prob=0.05, vtype=float, repair=RoundingRepair()),#Mutacion\n",
    "                eliminate_duplicates = True)"
   ]
  },
  {
   "attachments": {},
   "cell_type": "markdown",
   "metadata": {},
   "source": [
    "## Criterio de parada"
   ]
  },
  {
   "cell_type": "code",
   "execution_count": 113,
   "metadata": {},
   "outputs": [],
   "source": [
    "from pymoo.termination import get_termination\n",
    "\n",
    "termination = get_termination(\"n_gen\", 100)#Cantidad de generaciones"
   ]
  },
  {
   "attachments": {},
   "cell_type": "markdown",
   "metadata": {},
   "source": [
    "## Optimización"
   ]
  },
  {
   "cell_type": "code",
   "execution_count": 114,
   "metadata": {},
   "outputs": [
    {
     "name": "stdout",
     "output_type": "stream",
     "text": [
      "==========================================================\n",
      "n_gen  |  n_eval  | n_nds  |      eps      |   indicator  \n",
      "==========================================================\n",
      "     1 |      100 |      1 |             - |             -\n",
      "     2 |      200 |      1 |  0.000000E+00 |             f\n",
      "     3 |      300 |      1 |  0.000000E+00 |             f\n",
      "     4 |      400 |      2 |  1.0000000000 |         ideal\n",
      "     5 |      500 |      2 |  0.1111111111 |         ideal\n",
      "     6 |      600 |      3 |  0.6538461538 |         ideal\n",
      "     7 |      700 |      4 |  0.0198282690 |             f\n",
      "     8 |      800 |      6 |  0.1875000000 |         ideal\n",
      "     9 |      900 |     10 |  0.0051020408 |         ideal\n",
      "    10 |     1000 |     11 |  0.0101877831 |             f\n",
      "    11 |     1100 |     11 |  0.0167548254 |             f\n",
      "    12 |     1200 |     13 |  0.0328835831 |             f\n",
      "    13 |     1300 |     13 |  0.0161896828 |             f\n",
      "    14 |     1400 |     13 |  0.0212765957 |         ideal\n",
      "    15 |     1500 |     14 |  0.0784313725 |         ideal\n",
      "    16 |     1600 |     16 |  0.0086723137 |             f\n",
      "    17 |     1700 |     17 |  0.000000E+00 |             f\n",
      "    18 |     1800 |     17 |  0.000000E+00 |             f\n",
      "    19 |     1900 |     17 |  0.000000E+00 |             f\n",
      "    20 |     2000 |     20 |  0.0555555556 |         ideal\n",
      "    21 |     2100 |     19 |  0.0012179656 |             f\n",
      "    22 |     2200 |     19 |  0.0012179656 |             f\n",
      "    23 |     2300 |     20 |  0.0031976676 |             f\n",
      "    24 |     2400 |     21 |  0.0035879828 |             f\n",
      "    25 |     2500 |     22 |  0.0009055762 |             f\n",
      "    26 |     2600 |     23 |  0.0181818182 |         ideal\n",
      "    27 |     2700 |     23 |  0.0007905138 |             f\n",
      "    28 |     2800 |     23 |  0.0022110062 |             f\n",
      "    29 |     2900 |     23 |  0.0022110062 |             f\n",
      "    30 |     3000 |     21 |  0.0055299800 |             f\n",
      "    31 |     3100 |     21 |  0.000000E+00 |             f\n",
      "    32 |     3200 |     21 |  0.000000E+00 |             f\n",
      "    33 |     3300 |     21 |  0.000000E+00 |             f\n",
      "    34 |     3400 |     22 |  0.0009569216 |             f\n",
      "    35 |     3500 |     22 |  0.0009569216 |             f\n",
      "    36 |     3600 |     22 |  0.2790697674 |         nadir\n",
      "    37 |     3700 |     23 |  0.000000E+00 |             f\n",
      "    38 |     3800 |     23 |  0.000000E+00 |             f\n",
      "    39 |     3900 |     21 |  0.0011135431 |             f\n",
      "    40 |     4000 |     21 |  0.0011135431 |             f\n",
      "    41 |     4100 |     21 |  0.0011135431 |             f\n",
      "    42 |     4200 |     21 |  0.0011135431 |             f\n",
      "    43 |     4300 |     22 |  0.0010629275 |             f\n",
      "    44 |     4400 |     22 |  0.0010629275 |             f\n",
      "    45 |     4500 |     23 |  0.0010167132 |             f\n",
      "    46 |     4600 |     23 |  0.0010167132 |             f\n",
      "    47 |     4700 |     23 |  0.0010167132 |             f\n",
      "    48 |     4800 |     23 |  0.0020278356 |             f\n",
      "    49 |     4900 |     23 |  0.0020278356 |             f\n",
      "    50 |     5000 |     23 |  0.0020278356 |             f\n",
      "    51 |     5100 |     23 |  0.0020278356 |             f\n",
      "    52 |     5200 |     23 |  0.0020278356 |             f\n",
      "    53 |     5300 |     23 |  0.0020278356 |             f\n",
      "    54 |     5400 |     24 |  0.0041829129 |             f\n",
      "    55 |     5500 |     24 |  0.000000E+00 |             f\n",
      "    56 |     5600 |     25 |  0.0652173913 |         ideal\n",
      "    57 |     5700 |     26 |  0.000000E+00 |             f\n",
      "    58 |     5800 |     26 |  0.000000E+00 |             f\n",
      "    59 |     5900 |     26 |  0.000000E+00 |             f\n",
      "    60 |     6000 |     26 |  0.000000E+00 |             f\n",
      "    61 |     6100 |     26 |  0.000000E+00 |             f\n",
      "    62 |     6200 |     26 |  0.0212765957 |         ideal\n",
      "    63 |     6300 |     26 |  0.000000E+00 |             f\n",
      "    64 |     6400 |     26 |  0.000000E+00 |             f\n",
      "    65 |     6500 |     26 |  0.000000E+00 |             f\n",
      "    66 |     6600 |     26 |  0.000000E+00 |             f\n",
      "    67 |     6700 |     26 |  0.000000E+00 |             f\n",
      "    68 |     6800 |     26 |  0.000000E+00 |             f\n",
      "    69 |     6900 |     27 |  0.000000E+00 |             f\n",
      "    70 |     7000 |     27 |  0.000000E+00 |             f\n",
      "    71 |     7100 |     27 |  0.000000E+00 |             f\n",
      "    72 |     7200 |     27 |  0.000000E+00 |             f\n",
      "    73 |     7300 |     27 |  0.000000E+00 |             f\n",
      "    74 |     7400 |     27 |  0.000000E+00 |             f\n",
      "    75 |     7500 |     27 |  0.000000E+00 |             f\n",
      "    76 |     7600 |     28 |  0.0022851781 |             f\n",
      "    77 |     7700 |     28 |  0.0022851781 |             f\n",
      "    78 |     7800 |     28 |  0.0022851781 |             f\n",
      "    79 |     7900 |     28 |  0.0022851781 |             f\n",
      "    80 |     8000 |     28 |  0.0022851781 |             f\n",
      "    81 |     8100 |     29 |  0.0044127576 |             f\n",
      "    82 |     8200 |     28 |  0.0018230213 |             f\n",
      "    83 |     8300 |     28 |  0.0018230213 |             f\n",
      "    84 |     8400 |     28 |  0.0018230213 |             f\n",
      "    85 |     8500 |     28 |  0.0018230213 |             f\n",
      "    86 |     8600 |     28 |  0.0018230213 |             f\n",
      "    87 |     8700 |     28 |  0.0018230213 |             f\n",
      "    88 |     8800 |     28 |  0.0018230213 |             f\n",
      "    89 |     8900 |     28 |  0.0018230213 |             f\n",
      "    90 |     9000 |     28 |  0.0018230213 |             f\n",
      "    91 |     9100 |     28 |  0.0018230213 |             f\n",
      "    92 |     9200 |     28 |  0.0018230213 |             f\n",
      "    93 |     9300 |     28 |  0.0018230213 |             f\n",
      "    94 |     9400 |     28 |  0.0018230213 |             f\n",
      "    95 |     9500 |     28 |  0.0018230213 |             f\n",
      "    96 |     9600 |     28 |  0.0018230213 |             f\n",
      "    97 |     9700 |     29 |  0.0040401332 |             f\n",
      "    98 |     9800 |     31 |  0.0031316361 |             f\n",
      "    99 |     9900 |     32 |  0.000000E+00 |             f\n",
      "   100 |    10000 |     30 |  0.0011460766 |             f\n"
     ]
    },
    {
     "data": {
      "text/plain": [
       "30"
      ]
     },
     "execution_count": 114,
     "metadata": {},
     "output_type": "execute_result"
    }
   ],
   "source": [
    "from pymoo.optimize import minimize\n",
    "#Se utiliza una funcion de minimización para minimizar las funciones objetivo\n",
    "res = minimize(problem,\n",
    "            algorithm,\n",
    "            termination,\n",
    "            seed=1,\n",
    "            save_history=True,\n",
    "            verbose=True)\n",
    "X = res.X #Vector de soluciones\n",
    "F = res.F #Vector con las calidades de cada individuo\n",
    "hist = res.history\n",
    "len(X)\n"
   ]
  },
  {
   "attachments": {},
   "cell_type": "markdown",
   "metadata": {},
   "source": [
    "## Convergencia de Cada Objetivo"
   ]
  },
  {
   "cell_type": "code",
   "execution_count": 176,
   "metadata": {},
   "outputs": [
    {
     "data": {
      "text/plain": [
       "array([[-192.,  576.],\n",
       "       [-184.,  484.],\n",
       "       [-256., 2704.],\n",
       "       [-204., 1024.],\n",
       "       [-280., 4096.]])"
      ]
     },
     "metadata": {},
     "output_type": "display_data"
    },
    {
     "name": "stdout",
     "output_type": "stream",
     "text": [
      "HV 0.00000\n"
     ]
    }
   ],
   "source": [
    "\n",
    "#n_evals = np.array([e.evaluator.n_eval for e in res.history])\n",
    "#opt = np.array([e.opt[0].F for e in res.history])\n",
    "#plt.title(\"Convergencia\")\n",
    "#plt.plot(n_evals, opt, \"--\")\n",
    "#plt.show()\n",
    "\n",
    "from pymoo.indicators.hv import HV\n",
    "\n",
    "pf = res.F # se guarda el frente de pareto\n",
    "A = pf[::7] # se toma una muestra del frente cada 7 soluciones\n",
    "display(A)\n",
    "ref_point = np.array([-120, 6000]) # se pone el punto de referencia (un punto muy malo) como -120 para f1 y 6000 para f2 \n",
    "\n",
    "ind = HV(ref_point=ref_point) # se calcula el indicador del hypervolumen\n",
    "print(\"HV\", '%.5f' % ind(A)) # se imprime el indicador con cinco decimales\n"
   ]
  },
  {
   "attachments": {},
   "cell_type": "markdown",
   "metadata": {},
   "source": [
    "## Visualización de Resultados"
   ]
  },
  {
   "cell_type": "code",
   "execution_count": 144,
   "metadata": {},
   "outputs": [
    {
     "data": {
      "text/plain": [
       "array([[-1.920e+02,  5.760e+02],\n",
       "       [-2.440e+02,  2.304e+03],\n",
       "       [-2.480e+02,  2.500e+03],\n",
       "       [-2.120e+02,  1.156e+03],\n",
       "       [-2.600e+02,  3.136e+03],\n",
       "       [-2.760e+02,  3.844e+03],\n",
       "       [-2.160e+02,  1.296e+03],\n",
       "       [-1.840e+02,  4.840e+02],\n",
       "       [-2.920e+02,  4.900e+03],\n",
       "       [-2.160e+02,  1.296e+03],\n",
       "       [-2.360e+02,  1.936e+03],\n",
       "       [-1.720e+02,  2.560e+02],\n",
       "       [-1.480e+02,  3.600e+01],\n",
       "       [-1.520e+02,  6.400e+01],\n",
       "       [-2.560e+02,  2.704e+03],\n",
       "       [-1.560e+02,  1.440e+02],\n",
       "       [-1.200e+02,  0.000e+00],\n",
       "       [-1.400e+02,  4.000e+00],\n",
       "       [-2.600e+02,  3.136e+03],\n",
       "       [-2.480e+02,  2.500e+03],\n",
       "       [-1.800e+02,  4.000e+02],\n",
       "       [-2.040e+02,  1.024e+03],\n",
       "       [-1.840e+02,  4.840e+02],\n",
       "       [-3.080e+02,  5.776e+03],\n",
       "       [-2.880e+02,  4.356e+03],\n",
       "       [-1.640e+02,  1.960e+02],\n",
       "       [-2.640e+02,  3.364e+03],\n",
       "       [-2.800e+02,  4.096e+03],\n",
       "       [-2.800e+02,  4.096e+03],\n",
       "       [-2.240e+02,  1.444e+03]])"
      ]
     },
     "metadata": {},
     "output_type": "display_data"
    },
    {
     "data": {
      "text/plain": [
       "<pymoo.visualization.scatter.Scatter at 0x16607a07910>"
      ]
     },
     "execution_count": 144,
     "metadata": {},
     "output_type": "execute_result"
    },
    {
     "data": {
      "image/png": "[encoded data removed]",
      "text/plain": [
       "<Figure size 800x600 with 1 Axes>"
      ]
     },
     "metadata": {},
     "output_type": "display_data"
    }
   ],
   "source": [
    "from pymoo.visualization.scatter import Scatter\n",
    "plot = Scatter(title=\"Pareto Front\")\n",
    "plot.add(res.F, color=\"red\")\n",
    "display(res.F)\n",
    "plot.show()"
   ]
  },
  {
   "cell_type": "code",
   "execution_count": 117,
   "metadata": {},
   "outputs": [
    {
     "data": {
      "text/plain": [
       "30"
      ]
     },
     "execution_count": 117,
     "metadata": {},
     "output_type": "execute_result"
    }
   ],
   "source": [
    "len(X)"
   ]
  },
  {
   "cell_type": "code",
   "execution_count": 118,
   "metadata": {},
   "outputs": [
    {
     "data": {
      "text/plain": [
       "array([[ 4, 16,  4],\n",
       "       [ 3, 26,  2],\n",
       "       [ 1, 26,  3],\n",
       "       [ 4, 20,  3],\n",
       "       [ 1, 29,  2],\n",
       "       [ 2, 32,  1],\n",
       "       [ 2, 20,  4],\n",
       "       [ 4, 15,  4],\n",
       "       [ 0, 35,  1],\n",
       "       [ 3, 21,  3],\n",
       "       [ 2, 24,  3],\n",
       "       [ 4, 12,  5],\n",
       "       [ 6,  8,  5],\n",
       "       [ 4,  8,  6],\n",
       "       [ 2, 28,  2],\n",
       "       [ 2,  8,  7],\n",
       "       [ 5,  5,  5],\n",
       "       [ 5,  6,  6],\n",
       "       [ 0, 28,  3],\n",
       "       [ 2, 27,  2],\n",
       "       [ 5, 14,  4],\n",
       "       [ 4, 19,  3],\n",
       "       [ 3, 14,  5],\n",
       "       [ 1, 38,  0],\n",
       "       [ 1, 34,  1],\n",
       "       [ 4, 11,  5],\n",
       "       [ 3, 30,  1],\n",
       "       [ 0, 32,  2],\n",
       "       [ 1, 33,  1],\n",
       "       [ 3, 22,  3]])"
      ]
     },
     "execution_count": 118,
     "metadata": {},
     "output_type": "execute_result"
    }
   ],
   "source": [
    "X[:]"
   ]
  },
  {
   "cell_type": "code",
   "execution_count": 119,
   "metadata": {},
   "outputs": [
    {
     "data": {
      "image/png": "[encoded data removed]",
      "text/plain": [
       "<Figure size 700x500 with 1 Axes>"
      ]
     },
     "metadata": {},
     "output_type": "display_data"
    }
   ],
   "source": [
    "approx_ideal = F.min(axis=0)\n",
    "approx_nadir = F.max(axis=0)\n",
    "nF = (F - approx_ideal) / (approx_nadir - approx_ideal)#Normalización del frente de Pareto\n",
    "plt.figure(figsize=(7, 5))\n",
    "plt.scatter(nF[:, 0], nF[:, 1], s=30, facecolors='none', edgecolors='blue')\n",
    "plt.title(\"Fente de Pareto Normalizado\")\n",
    "plt.show()"
   ]
  },
  {
   "attachments": {},
   "cell_type": "markdown",
   "metadata": {},
   "source": [
    "## Mejor resultado por medio de Compromise Programing "
   ]
  },
  {
   "cell_type": "code",
   "execution_count": 120,
   "metadata": {},
   "outputs": [
    {
     "name": "stdout",
     "output_type": "stream",
     "text": [
      "Best regarding ASF: Point \n",
      "i = 10\n",
      "F = [-236. 1936.]\n",
      "X = [ 2 24  3]\n"
     ]
    },
    {
     "data": {
      "image/png": "[encoded data removed]",
      "text/plain": [
       "<Figure size 700x500 with 1 Axes>"
      ]
     },
     "metadata": {},
     "output_type": "display_data"
    }
   ],
   "source": [
    "from pymoo.decomposition.asf import ASF\n",
    "\n",
    "\n",
    "weights = np.array([0.5, 0.5])#Peso que determina la importacia de las soluciones\n",
    "decomp = ASF()\n",
    "i = decomp.do(nF, 1/weights).argmin()\n",
    "print(\"Best regarding ASF: Point \\ni = %s\\nF = %s\\nX = %s\" % (i, F[i], X[i]))\n",
    "\n",
    "#Se grafica el resultado\n",
    "plt.figure(figsize=(7, 5))\n",
    "plt.scatter(nF[:, 0], nF[:, 1], s=30, facecolors='none', edgecolors='blue')\n",
    "plt.scatter(nF[i, 0], nF[i, 1], marker=\"x\", color=\"red\", s=200)\n",
    "plt.title(\"Frente de Pareto\")\n",
    "plt.show()"
   ]
  },
  {
   "attachments": {},
   "cell_type": "markdown",
   "metadata": {},
   "source": [
    "# Referencias\n",
    "\n",
    "#### https://pymoo.org/getting_started/index.html\n",
    "#### https://pymoo.org/customization/discrete.html\n",
    "#### https://pymoo.org/interface/problem.html\n"
   ]
  }
 ],
 "metadata": {
  "kernelspec": {
   "display_name": "Python 3",
   "language": "python",
   "name": "python3"
  },
  "language_info": {
   "codemirror_mode": {
    "name": "ipython",
    "version": 3
   },
   "file_extension": ".py",
   "mimetype": "text/x-python",
   "name": "python",
   "nbconvert_exporter": "python",
   "pygments_lexer": "ipython3",
   "version": "3.10.11"
  },
  "orig_nbformat": 4
 },
 "nbformat": 4,
 "nbformat_minor": 2
}
