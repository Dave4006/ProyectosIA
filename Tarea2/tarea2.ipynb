{
 "cells": [
  {
   "attachments": {},
   "cell_type": "markdown",
   "metadata": {},
   "source": [
    "# Tarea 2\n",
    "## Importación de módulos"
   ]
  },
  {
   "cell_type": "code",
   "execution_count": 331,
   "metadata": {},
   "outputs": [],
   "source": [
    "import numpy as np\n",
    "from pymoo.core.problem import ElementwiseProblem\n",
    "from IPython.display import display\n",
    "import matplotlib.pyplot as plt\n"
   ]
  },
  {
   "attachments": {},
   "cell_type": "markdown",
   "metadata": {},
   "source": [
    "## Clase del problema"
   ]
  },
  {
   "cell_type": "code",
   "execution_count": 332,
   "metadata": {},
   "outputs": [],
   "source": [
    "class MyProblem(ElementwiseProblem):\n",
    "    def __init__(self):\n",
    "        super().__init__(n_var=3,#Cantidad de genes por cromosoma\n",
    "                        n_obj=2,#cantidad de funciones objetivo\n",
    "                        xl=0,#Limite inferior del valor del gen\n",
    "                        xu=200)#Limite superior del valor de gen\n",
    "        \n",
    "    def _evaluate(self, x, out, *args, **kwargs):\n",
    "        \n",
    "        # Cantidad de tornos\n",
    "        T = x[0]\n",
    "        # Cantidad de fresadoras\n",
    "        F = x[1]\n",
    "        # Cantidad de multiproposito\n",
    "        M = x[2]\n",
    "        \n",
    "        #Se definen las penalizaciones por el sobrepaso de material \n",
    "        penCab = 280 - (2*T+F+5*M)#Cableado\n",
    "        penM  = 120 - (6*T+3*F+12*M)#Motores\n",
    "        penCar = 670 - (2*T+8*F+4*M)#Carcasas\n",
    "        penA = 250 - (2*T+6*F+6*M)#Actuadores\n",
    "        \n",
    "        penalizaciones = [penCab, penM, penCar, penA] #Vector con las penalizaciones\n",
    "        \n",
    "        pen = 0\n",
    "        #Sumatoria de penalizaciones\n",
    "        for i in range(4):\n",
    "            if penalizaciones[i] < 0:\n",
    "                pen = pen + penalizaciones[i]\n",
    "        \n",
    "        #Funciones objetivo\n",
    "        f1 = -(4*T+8*F+12*M)+15*pen**2 #Funcion que busca la mayor ganancia\n",
    "        f2 = (abs(T-F)+abs(T-M)+abs(F-M))**2#Funcion que busca la cantidad de unidades sea uniforme\n",
    "        \n",
    "        out[\"F\"] = [f1, f2]\n",
    "        \n",
    "problem = MyProblem()    "
   ]
  },
  {
   "attachments": {},
   "cell_type": "markdown",
   "metadata": {},
   "source": [
    "## Inicialización del algoritmo"
   ]
  },
  {
   "cell_type": "code",
   "execution_count": 333,
   "metadata": {},
   "outputs": [],
   "source": [
    "from pymoo.algorithms.moo.nsga2 import NSGA2\n",
    "from pymoo.operators.mutation.pm import PM\n",
    "from pymoo.operators.sampling.rnd import IntegerRandomSampling\n",
    "from pymoo.operators.repair.rounding import RoundingRepair\n",
    "from pymoo.operators.crossover.pntx import SinglePointCrossover\n",
    "\n",
    "# Se utiliza el algoritmo NSGA2 \n",
    "#Automaticamente se utiliza un el algoritmo de torneo para la selección del cruzamiento\n",
    "algorithm = NSGA2(pop_size=200,#Numero de la poblacion inicial \n",
    "                sampling=IntegerRandomSampling(),\n",
    "                crossover=SinglePointCrossover(),\n",
    "                mutation=PM(prob=0.05, vtype=float, repair=RoundingRepair()),#Mutacion\n",
    "                eliminate_duplicates = True)"
   ]
  },
  {
   "attachments": {},
   "cell_type": "markdown",
   "metadata": {},
   "source": [
    "## Criterio de parada"
   ]
  },
  {
   "cell_type": "code",
   "execution_count": 334,
   "metadata": {},
   "outputs": [],
   "source": [
    "from pymoo.termination import get_termination\n",
    "\n",
    "termination = get_termination(\"n_gen\", 100)#Cantidad de generaciones"
   ]
  },
  {
   "attachments": {},
   "cell_type": "markdown",
   "metadata": {},
   "source": [
    "## Optimización"
   ]
  },
  {
   "cell_type": "code",
   "execution_count": 335,
   "metadata": {},
   "outputs": [
    {
     "name": "stdout",
     "output_type": "stream",
     "text": [
      "==========================================================\n",
      "n_gen  |  n_eval  | n_nds  |      eps      |   indicator  \n",
      "==========================================================\n",
      "     1 |      200 |      3 |             - |             -\n",
      "     2 |      400 |      6 |  0.1512585029 |             f\n",
      "     3 |      600 |      5 |  0.0177441802 |         ideal\n",
      "     4 |      800 |      4 |  0.9396825397 |         nadir\n",
      "     5 |     1000 |      4 |  0.0857142857 |         ideal\n",
      "     6 |     1200 |      5 |  0.8537095089 |         nadir\n",
      "     7 |     1400 |      7 |  0.0420458870 |             f\n",
      "     8 |     1600 |      9 |  0.2989010989 |         nadir\n",
      "     9 |     1800 |     15 |  0.2142214104 |         nadir\n",
      "    10 |     2000 |     14 |  0.0082464029 |             f\n",
      "    11 |     2200 |     14 |  0.0070195592 |             f\n",
      "    12 |     2400 |     16 |  5.412810E+01 |         nadir\n",
      "    13 |     2600 |     17 |  0.0036549825 |             f\n",
      "    14 |     2800 |     20 |  0.0080821214 |             f\n",
      "    15 |     3000 |     19 |  0.0028066057 |             f\n",
      "    16 |     3200 |     18 |  0.0025591425 |             f\n",
      "    17 |     3400 |     21 |  1.949683E+03 |         nadir\n",
      "    18 |     3600 |     24 |  0.0087498963 |             f\n",
      "    19 |     3800 |     27 |  0.0066982284 |             f\n",
      "    20 |     4000 |     29 |  0.0027377592 |             f\n",
      "    21 |     4200 |     30 |  0.0023173013 |             f\n",
      "    22 |     4400 |     32 |  0.0425531915 |         ideal\n",
      "    23 |     4600 |     30 |  0.0016424500 |             f\n",
      "    24 |     4800 |     30 |  0.0016424500 |             f\n",
      "    25 |     5000 |     31 |  0.0031467382 |             f\n",
      "    26 |     5200 |     32 |  0.0006648936 |             f\n",
      "    27 |     5400 |     30 |  0.0049990361 |             f\n",
      "    28 |     5600 |     28 |  0.0012279392 |             f\n",
      "    29 |     5800 |     29 |  0.0011855964 |             f\n",
      "    30 |     6000 |     29 |  0.0011855964 |             f\n",
      "    31 |     6200 |     28 |  0.0019878176 |             f\n",
      "    32 |     6400 |     28 |  0.0019878176 |             f\n",
      "    33 |     6600 |     28 |  0.0019878176 |             f\n",
      "    34 |     6800 |     28 |  0.0019878176 |             f\n",
      "    35 |     7000 |     28 |  0.0019878176 |             f\n",
      "    36 |     7200 |     29 |  0.0019192722 |             f\n",
      "    37 |     7400 |     30 |  0.0018552964 |             f\n",
      "    38 |     7600 |     31 |  0.0032419860 |             f\n",
      "    39 |     7800 |     32 |  0.0029330057 |             f\n",
      "    40 |     8000 |     32 |  0.000000E+00 |             f\n",
      "    41 |     8200 |     33 |  0.0019389390 |             f\n",
      "    42 |     8400 |     33 |  0.0019389390 |             f\n",
      "    43 |     8600 |     33 |  0.0019389390 |             f\n",
      "    44 |     8800 |     33 |  0.0019389390 |             f\n",
      "    45 |     9000 |     32 |  0.0026644244 |             f\n",
      "    46 |     9200 |     34 |  0.0010764249 |             f\n",
      "    47 |     9400 |     34 |  0.0010764249 |             f\n",
      "    48 |     9600 |     35 |  0.0010456699 |             f\n",
      "    49 |     9800 |     37 |  0.0015641903 |             f\n",
      "    50 |    10000 |     37 |  0.0015641903 |             f\n",
      "    51 |    10200 |     38 |  0.0015230274 |             f\n",
      "    52 |    10400 |     37 |  0.0019923413 |             f\n",
      "    53 |    10600 |     36 |  0.0034655895 |             f\n",
      "    54 |    10800 |     36 |  0.000000E+00 |             f\n",
      "    55 |    11000 |     37 |  0.000000E+00 |             f\n",
      "    56 |    11200 |     37 |  0.000000E+00 |             f\n",
      "    57 |    11400 |     35 |  0.0006079027 |             f\n",
      "    58 |    11600 |     35 |  0.0006079027 |             f\n",
      "    59 |    11800 |     35 |  0.0006079027 |             f\n",
      "    60 |    12000 |     35 |  0.0006079027 |             f\n",
      "    61 |    12200 |     35 |  0.0006079027 |             f\n",
      "    62 |    12400 |     35 |  0.0006079027 |             f\n",
      "    63 |    12600 |     36 |  0.0005910165 |             f\n",
      "    64 |    12800 |     36 |  0.0005910165 |             f\n",
      "    65 |    13000 |     36 |  0.0005910165 |             f\n",
      "    66 |    13200 |     36 |  0.0005910165 |             f\n",
      "    67 |    13400 |     36 |  0.0005910165 |             f\n",
      "    68 |    13600 |     36 |  0.0005910165 |             f\n",
      "    69 |    13800 |     36 |  0.0005910165 |             f\n",
      "    70 |    14000 |     36 |  0.0005910165 |             f\n",
      "    71 |    14200 |     36 |  0.0005910165 |             f\n",
      "    72 |    14400 |     36 |  0.0005910165 |             f\n",
      "    73 |    14600 |     36 |  0.0005910165 |             f\n",
      "    74 |    14800 |     36 |  0.0005910165 |             f\n",
      "    75 |    15000 |     36 |  0.0005910165 |             f\n",
      "    76 |    15200 |     36 |  0.0005910165 |             f\n",
      "    77 |    15400 |     36 |  0.0005910165 |             f\n",
      "    78 |    15600 |     36 |  0.0005910165 |             f\n",
      "    79 |    15800 |     36 |  0.0005910165 |             f\n",
      "    80 |    16000 |     36 |  0.0005910165 |             f\n",
      "    81 |    16200 |     36 |  0.0005910165 |             f\n",
      "    82 |    16400 |     36 |  0.0005910165 |             f\n",
      "    83 |    16600 |     36 |  0.0005910165 |             f\n",
      "    84 |    16800 |     36 |  0.0005910165 |             f\n",
      "    85 |    17000 |     36 |  0.0005910165 |             f\n",
      "    86 |    17200 |     36 |  0.0005910165 |             f\n",
      "    87 |    17400 |     36 |  0.0005910165 |             f\n",
      "    88 |    17600 |     36 |  0.0005910165 |             f\n",
      "    89 |    17800 |     36 |  0.0005910165 |             f\n",
      "    90 |    18000 |     36 |  0.0005910165 |             f\n",
      "    91 |    18200 |     36 |  0.0005910165 |             f\n",
      "    92 |    18400 |     36 |  0.0005910165 |             f\n",
      "    93 |    18600 |     36 |  0.0005910165 |             f\n",
      "    94 |    18800 |     36 |  0.0005910165 |             f\n",
      "    95 |    19000 |     36 |  0.0005910165 |             f\n",
      "    96 |    19200 |     36 |  0.0005910165 |             f\n",
      "    97 |    19400 |     36 |  0.0005910165 |             f\n",
      "    98 |    19600 |     36 |  0.0005910165 |             f\n",
      "    99 |    19800 |     36 |  0.0005910165 |             f\n",
      "   100 |    20000 |     36 |  0.0005910165 |             f\n"
     ]
    },
    {
     "data": {
      "text/plain": [
       "36"
      ]
     },
     "execution_count": 335,
     "metadata": {},
     "output_type": "execute_result"
    }
   ],
   "source": [
    "from pymoo.optimize import minimize\n",
    "#Se utiliza una funcion de minimización para minimizar las funciones objetivo\n",
    "res = minimize(problem,\n",
    "            algorithm,\n",
    "            termination,\n",
    "            save_history=True,\n",
    "            verbose=True)\n",
    "X = res.X #Vector de soluciones\n",
    "F = res.F #Vector con las calidades de cada individuo\n",
    "hist = res.history\n",
    "len(X)\n"
   ]
  },
  {
   "attachments": {},
   "cell_type": "markdown",
   "metadata": {},
   "source": [
    "## Convergencia de Cada Objetivo"
   ]
  },
  {
   "cell_type": "code",
   "execution_count": 336,
   "metadata": {},
   "outputs": [
    {
     "data": {
      "text/plain": [
       "array([[-228., 1764.],\n",
       "       [-172.,  256.],\n",
       "       [-248., 2500.],\n",
       "       [-204.,  900.],\n",
       "       [-276., 3844.],\n",
       "       [-216., 1296.]])"
      ]
     },
     "metadata": {},
     "output_type": "display_data"
    },
    {
     "name": "stdout",
     "output_type": "stream",
     "text": [
      "HV 699536.00000\n"
     ]
    }
   ],
   "source": [
    "\n",
    "#n_evals = np.array([e.evaluator.n_eval for e in res.history])\n",
    "#opt = np.array([e.opt[0].F for e in res.history])\n",
    "#plt.title(\"Convergencia\")\n",
    "#plt.plot(n_evals, opt, \"--\")\n",
    "#plt.show()\n",
    "\n",
    "from pymoo.indicators.hv import HV\n",
    "\n",
    "pf = res.F # se guarda el frente de pareto\n",
    "A = pf[::7] # se toma una muestra del frente cada 7 soluciones\n",
    "display(A)\n",
    "ref_point = np.array([-120, 6000]) # se pone el punto de referencia (un punto muy malo) como -120 para f1 y 6000 para f2 \n",
    "\n",
    "ind = HV(ref_point=ref_point) # se calcula el indicador del hypervolumen\n",
    "print(\"HV\", '%.5f' % ind(A)) # se imprime el indicador con cinco decimales\n"
   ]
  },
  {
   "attachments": {},
   "cell_type": "markdown",
   "metadata": {},
   "source": [
    "## Visualización de Resultados"
   ]
  },
  {
   "cell_type": "code",
   "execution_count": 337,
   "metadata": {},
   "outputs": [
    {
     "data": {
      "text/plain": [
       "array([[-2.280e+02,  1.764e+03],\n",
       "       [-1.960e+02,  7.840e+02],\n",
       "       [-2.800e+02,  4.096e+03],\n",
       "       [-1.200e+02,  0.000e+00],\n",
       "       [-1.840e+02,  4.840e+02],\n",
       "       [-2.480e+02,  2.500e+03],\n",
       "       [-2.160e+02,  1.296e+03],\n",
       "       [-1.720e+02,  2.560e+02],\n",
       "       [-1.600e+02,  1.000e+02],\n",
       "       [-3.080e+02,  5.776e+03],\n",
       "       [-1.920e+02,  5.760e+02],\n",
       "       [-2.600e+02,  3.136e+03],\n",
       "       [-1.400e+02,  4.000e+00],\n",
       "       [-1.640e+02,  1.960e+02],\n",
       "       [-2.480e+02,  2.500e+03],\n",
       "       [-3.000e+02,  5.184e+03],\n",
       "       [-2.440e+02,  2.304e+03],\n",
       "       [-1.520e+02,  6.400e+01],\n",
       "       [-2.120e+02,  1.156e+03],\n",
       "       [-2.560e+02,  2.704e+03],\n",
       "       [-2.240e+02,  1.444e+03],\n",
       "       [-2.040e+02,  9.000e+02],\n",
       "       [-1.520e+02,  6.400e+01],\n",
       "       [-2.600e+02,  3.136e+03],\n",
       "       [-2.920e+02,  4.900e+03],\n",
       "       [-2.680e+02,  3.364e+03],\n",
       "       [-2.280e+02,  1.764e+03],\n",
       "       [-2.800e+02,  4.096e+03],\n",
       "       [-2.760e+02,  3.844e+03],\n",
       "       [-1.960e+02,  7.840e+02],\n",
       "       [-1.840e+02,  4.840e+02],\n",
       "       [-2.360e+02,  1.936e+03],\n",
       "       [-1.480e+02,  3.600e+01],\n",
       "       [-2.880e+02,  4.356e+03],\n",
       "       [-1.800e+02,  4.000e+02],\n",
       "       [-2.160e+02,  1.296e+03]])"
      ]
     },
     "metadata": {},
     "output_type": "display_data"
    },
    {
     "data": {
      "text/plain": [
       "<pymoo.visualization.scatter.Scatter at 0x16607a22260>"
      ]
     },
     "execution_count": 337,
     "metadata": {},
     "output_type": "execute_result"
    },
    {
     "data": {
      "image/png": "[encoded data removed]",
      "text/plain": [
       "<Figure size 800x600 with 1 Axes>"
      ]
     },
     "metadata": {},
     "output_type": "display_data"
    }
   ],
   "source": [
    "from pymoo.visualization.scatter import Scatter\n",
    "plot = Scatter(title=\"Pareto Front\")\n",
    "plot.add(res.F, color=\"red\")\n",
    "display(res.F)\n",
    "plot.show()"
   ]
  },
  {
   "cell_type": "code",
   "execution_count": 338,
   "metadata": {},
   "outputs": [
    {
     "data": {
      "text/plain": [
       "36"
      ]
     },
     "execution_count": 338,
     "metadata": {},
     "output_type": "execute_result"
    }
   ],
   "source": [
    "len(X)"
   ]
  },
  {
   "cell_type": "code",
   "execution_count": 339,
   "metadata": {},
   "outputs": [
    {
     "data": {
      "text/plain": [
       "array([[ 1, 22,  4],\n",
       "       [ 2, 16,  5],\n",
       "       [ 1, 33,  1],\n",
       "       [ 5,  5,  5],\n",
       "       [ 4, 15,  4],\n",
       "       [ 2, 27,  2],\n",
       "       [ 3, 21,  3],\n",
       "       [ 4, 12,  5],\n",
       "       [ 5, 10,  5],\n",
       "       [ 1, 38,  0],\n",
       "       [ 4, 16,  4],\n",
       "       [ 0, 28,  3],\n",
       "       [ 5,  6,  6],\n",
       "       [ 4, 11,  5],\n",
       "       [ 1, 26,  3],\n",
       "       [ 0, 36,  1],\n",
       "       [ 3, 26,  2],\n",
       "       [ 5,  9,  5],\n",
       "       [ 4, 20,  3],\n",
       "       [ 2, 28,  2],\n",
       "       [ 3, 22,  3],\n",
       "       [ 3, 18,  4],\n",
       "       [ 4,  8,  6],\n",
       "       [ 1, 29,  2],\n",
       "       [ 0, 35,  1],\n",
       "       [ 1, 30,  2],\n",
       "       [ 2, 23,  3],\n",
       "       [ 0, 32,  2],\n",
       "       [ 2, 32,  1],\n",
       "       [ 3, 17,  4],\n",
       "       [ 3, 14,  5],\n",
       "       [ 2, 24,  3],\n",
       "       [ 6,  8,  5],\n",
       "       [ 1, 34,  1],\n",
       "       [ 5, 14,  4],\n",
       "       [ 2, 20,  4]])"
      ]
     },
     "execution_count": 339,
     "metadata": {},
     "output_type": "execute_result"
    }
   ],
   "source": [
    "X[:]"
   ]
  },
  {
   "cell_type": "code",
   "execution_count": 340,
   "metadata": {},
   "outputs": [
    {
     "data": {
      "image/png": "[encoded data removed]",
      "text/plain": [
       "<Figure size 700x500 with 1 Axes>"
      ]
     },
     "metadata": {},
     "output_type": "display_data"
    }
   ],
   "source": [
    "approx_ideal = F.min(axis=0)\n",
    "approx_nadir = F.max(axis=0)\n",
    "nF = (F - approx_ideal) / (approx_nadir - approx_ideal)#Normalización del frente de Pareto\n",
    "plt.figure(figsize=(7, 5))\n",
    "plt.scatter(nF[:, 0], nF[:, 1], s=30, facecolors='none', edgecolors='blue')\n",
    "plt.title(\"Fente de Pareto Normalizado\")\n",
    "plt.show()"
   ]
  },
  {
   "attachments": {},
   "cell_type": "markdown",
   "metadata": {},
   "source": [
    "## Mejor resultado por medio de Compromise Programing "
   ]
  },
  {
   "cell_type": "code",
   "execution_count": 341,
   "metadata": {},
   "outputs": [
    {
     "name": "stdout",
     "output_type": "stream",
     "text": [
      "Best regarding ASF: Point \n",
      "i = 31\n",
      "F = [-236. 1936.]\n",
      "X = [ 2 24  3]\n"
     ]
    },
    {
     "data": {
      "image/png": "[encoded data removed]",
      "text/plain": [
       "<Figure size 700x500 with 1 Axes>"
      ]
     },
     "metadata": {},
     "output_type": "display_data"
    }
   ],
   "source": [
    "from pymoo.decomposition.asf import ASF\n",
    "\n",
    "\n",
    "weights = np.array([0.5, 0.5])#Peso que determina la importacia de las soluciones\n",
    "decomp = ASF()\n",
    "i = decomp.do(nF, 1/weights).argmin()\n",
    "print(\"Best regarding ASF: Point \\ni = %s\\nF = %s\\nX = %s\" % (i, F[i], X[i]))\n",
    "\n",
    "#Se grafica el resultado\n",
    "plt.figure(figsize=(7, 5))\n",
    "plt.scatter(nF[:, 0], nF[:, 1], s=30, facecolors='none', edgecolors='blue')\n",
    "plt.scatter(nF[i, 0], nF[i, 1], marker=\"x\", color=\"red\", s=200)\n",
    "plt.title(\"Frente de Pareto\")\n",
    "plt.show()"
   ]
  },
  {
   "attachments": {},
   "cell_type": "markdown",
   "metadata": {},
   "source": [
    "# Referencias\n",
    "\n",
    "#### https://pymoo.org/getting_started/index.html\n",
    "#### https://pymoo.org/customization/discrete.html\n",
    "#### https://pymoo.org/interface/problem.html\n"
   ]
  }
 ],
 "metadata": {
  "kernelspec": {
   "display_name": "Python 3",
   "language": "python",
   "name": "python3"
  },
  "language_info": {
   "codemirror_mode": {
    "name": "ipython",
    "version": 3
   },
   "file_extension": ".py",
   "mimetype": "text/x-python",
   "name": "python",
   "nbconvert_exporter": "python",
   "pygments_lexer": "ipython3",
   "version": "3.10.11"
  },
  "orig_nbformat": 4
 },
 "nbformat": 4,
 "nbformat_minor": 2
}
