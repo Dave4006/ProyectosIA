{
 "cells": [
  {
   "attachments": {},
   "cell_type": "markdown",
   "metadata": {},
   "source": [
    "# Tarea 2\n",
    "## Importación de módulos"
   ]
  },
  {
   "cell_type": "code",
   "execution_count": 1325,
   "metadata": {},
   "outputs": [],
   "source": [
    "import numpy as np\n",
    "from pymoo.core.problem import ElementwiseProblem\n",
    "from IPython.display import display\n",
    "import matplotlib.pyplot as plt"
   ]
  },
  {
   "attachments": {},
   "cell_type": "markdown",
   "metadata": {},
   "source": [
    "## Clase del problema"
   ]
  },
  {
   "cell_type": "code",
   "execution_count": 1326,
   "metadata": {},
   "outputs": [],
   "source": [
    "class MyProblem(ElementwiseProblem):\n",
    "    def __init__(self):\n",
    "        super().__init__(n_var=3,#Cantidad de genes por cromosoma\n",
    "                        n_obj=2,#cantidad de funciones objetivo\n",
    "                        xl=0,#Limite inferior del valor del gen\n",
    "                        xu=200)#Limite superior del valor de gen\n",
    "        \n",
    "    def _evaluate(self, x, out, *args, **kwargs):\n",
    "        \n",
    "        # Cantidad de tornos\n",
    "        T = x[0]\n",
    "        # Cantidad de fresadoras\n",
    "        F = x[1]\n",
    "        # Cantidad de multiproposito\n",
    "        M = x[2]\n",
    "        \n",
    "        #Se definen las penalizaciones por el sobrepaso de material \n",
    "        penCab = 280 - (2*T+F+5*M)#Cableado\n",
    "        penM  = 120 - (6*T+3*F+12*M)#Motores\n",
    "        penCar = 670 - (2*T+8*F+4*M)#Carcasas\n",
    "        penA = 250 - (2*T+6*F+6*M)#Actuadores\n",
    "        \n",
    "        penalizaciones = [penCab, penM, penCar, penA] #Vector con las penalizaciones\n",
    "        \n",
    "        pen = 0\n",
    "        #Sumatoria de penalizaciones\n",
    "        for i in range(4):\n",
    "            if penalizaciones[i] < 0:\n",
    "                pen = pen + penalizaciones[i]\n",
    "        \n",
    "        #Funciones objetivo\n",
    "        f1 = -(4*T+8*F+12*M)+pen**2 #Funcion que busca la mayor ganancia\n",
    "        f2 = (abs(T-F)+abs(T-M)+abs(F-M))**3 #Funcion que busca la cantidad de unidades sea uniforme\n",
    "        out[\"F\"] = [f1, f2]\n",
    "        \n",
    "problem = MyProblem()    "
   ]
  },
  {
   "attachments": {},
   "cell_type": "markdown",
   "metadata": {},
   "source": [
    "## Inicialización del algoritmo"
   ]
  },
  {
   "cell_type": "code",
   "execution_count": 1327,
   "metadata": {},
   "outputs": [],
   "source": [
    "from pymoo.algorithms.moo.nsga2 import NSGA2\n",
    "from pymoo.operators.mutation.pm import PM\n",
    "from pymoo.operators.sampling.rnd import IntegerRandomSampling\n",
    "from pymoo.operators.repair.rounding import RoundingRepair\n",
    "from pymoo.operators.crossover.pntx import SinglePointCrossover\n",
    "\n",
    "# Se utiliza el algoritmo NSGA2 \n",
    "#Automaticamente se utiliza un el algoritmo de torneo para la selección del cruzamiento\n",
    "algorithm = NSGA2(pop_size=200,#Numero de la poblacion inicial \n",
    "                sampling=IntegerRandomSampling(),\n",
    "                crossover=SinglePointCrossover(),\n",
    "                mutation=PM(prob=0.05, vtype=float, repair=RoundingRepair()),#Mutacion\n",
    "                eliminate_duplicates = True)"
   ]
  },
  {
   "attachments": {},
   "cell_type": "markdown",
   "metadata": {},
   "source": [
    "## Criterio de parada"
   ]
  },
  {
   "cell_type": "code",
   "execution_count": 1328,
   "metadata": {},
   "outputs": [],
   "source": [
    "from pymoo.termination import get_termination\n",
    "\n",
    "termination = get_termination(\"n_gen\", 100)#Cantidad de generaciones"
   ]
  },
  {
   "attachments": {},
   "cell_type": "markdown",
   "metadata": {},
   "source": [
    "## Optimización y Normalización"
   ]
  },
  {
   "cell_type": "code",
   "execution_count": 1329,
   "metadata": {},
   "outputs": [
    {
     "name": "stdout",
     "output_type": "stream",
     "text": [
      "==========================================================\n",
      "n_gen  |  n_eval  | n_nds  |      eps      |   indicator  \n",
      "==========================================================\n",
      "     1 |      200 |      3 |             - |             -\n",
      "     2 |      400 |      5 |  0.0139442439 |         ideal\n",
      "     3 |      600 |      3 |  0.0534490635 |         ideal\n",
      "     4 |      800 |      6 |  0.1452305000 |             f\n",
      "     5 |     1000 |      6 |  0.6545729403 |         nadir\n",
      "     6 |     1200 |      5 |  0.0052631579 |         ideal\n",
      "     7 |     1400 |      6 |  0.0253146013 |             f\n",
      "     8 |     1600 |      7 |  5.523701E+01 |         nadir\n",
      "     9 |     1800 |      8 |  0.0079320113 |         ideal\n",
      "    10 |     2000 |     10 |  0.0033242756 |             f\n",
      "    11 |     2200 |      9 |  3.360784E+01 |         nadir\n",
      "    12 |     2400 |     10 |  0.0882352941 |         ideal\n",
      "    13 |     2600 |     13 |  0.3333333333 |         nadir\n",
      "    14 |     2800 |     15 |  0.0084357998 |             f\n",
      "    15 |     3000 |     14 |  0.0377358491 |         ideal\n",
      "    16 |     3200 |     15 |  0.0025252084 |             f\n",
      "    17 |     3400 |     15 |  0.0119413587 |             f\n",
      "    18 |     3600 |     14 |  0.5142857143 |         nadir\n",
      "    19 |     3800 |     16 |  0.0540540541 |         ideal\n",
      "    20 |     4000 |     16 |  0.0016891892 |             f\n",
      "    21 |     4200 |     17 |  0.0049186213 |             f\n",
      "    22 |     4400 |     17 |  0.000000E+00 |             f\n",
      "    23 |     4600 |     16 |  0.0016891892 |             f\n",
      "    24 |     4800 |     18 |  0.0175821443 |             f\n",
      "    25 |     5000 |     19 |  0.0691823899 |         ideal\n",
      "    26 |     5200 |     20 |  0.0062500000 |         ideal\n",
      "    27 |     5400 |     20 |  0.000000E+00 |             f\n",
      "    28 |     5600 |     21 |  0.000000E+00 |             f\n",
      "    29 |     5800 |     22 |  0.1061452514 |         ideal\n",
      "    30 |     6000 |     22 |  0.000000E+00 |             f\n",
      "    31 |     6200 |     22 |  0.000000E+00 |             f\n",
      "    32 |     6400 |     23 |  0.000000E+00 |             f\n",
      "    33 |     6600 |     22 |  0.0014422581 |             f\n",
      "    34 |     6800 |     22 |  0.0014422581 |             f\n",
      "    35 |     7000 |     23 |  0.0045897781 |             f\n",
      "    36 |     7200 |     24 |  0.000000E+00 |             f\n",
      "    37 |     7400 |     26 |  0.0023717687 |             f\n",
      "    38 |     7600 |     26 |  0.0055555556 |         ideal\n",
      "    39 |     7800 |     26 |  0.000000E+00 |             f\n",
      "    40 |     8000 |     28 |  0.0018004615 |             f\n",
      "    41 |     8200 |     28 |  0.0018004615 |             f\n",
      "    42 |     8400 |     28 |  0.0018004615 |             f\n",
      "    43 |     8600 |     28 |  0.0018004615 |             f\n",
      "    44 |     8800 |     28 |  0.0018004615 |             f\n",
      "    45 |     9000 |     29 |  0.0053004881 |             f\n",
      "    46 |     9200 |     29 |  0.0015325670 |             f\n",
      "    47 |     9400 |     27 |  0.0856695816 |         nadir\n",
      "    48 |     9600 |     27 |  0.000000E+00 |             f\n",
      "    49 |     9800 |     28 |  0.000000E+00 |             f\n",
      "    50 |    10000 |     28 |  0.000000E+00 |             f\n",
      "    51 |    10200 |     28 |  0.000000E+00 |             f\n",
      "    52 |    10400 |     28 |  0.000000E+00 |             f\n",
      "    53 |    10600 |     28 |  0.000000E+00 |             f\n",
      "    54 |    10800 |     29 |  0.0018438044 |             f\n",
      "    55 |    11000 |     29 |  0.0018438044 |             f\n",
      "    56 |    11200 |     29 |  0.0018438044 |             f\n",
      "    57 |    11400 |     29 |  0.0018438044 |             f\n",
      "    58 |    11600 |     30 |  0.0017823442 |             f\n",
      "    59 |    11800 |     30 |  0.0017823442 |             f\n",
      "    60 |    12000 |     30 |  0.0017823442 |             f\n",
      "    61 |    12200 |     30 |  0.0017823442 |             f\n",
      "    62 |    12400 |     30 |  0.0017823442 |             f\n",
      "    63 |    12600 |     30 |  0.0017823442 |             f\n",
      "    64 |    12800 |     30 |  0.0017823442 |             f\n",
      "    65 |    13000 |     30 |  0.0017823442 |             f\n",
      "    66 |    13200 |     30 |  0.0017823442 |             f\n",
      "    67 |    13400 |     30 |  0.0017823442 |             f\n",
      "    68 |    13600 |     30 |  0.0017823442 |             f\n",
      "    69 |    13800 |     31 |  0.0017248493 |             f\n",
      "    70 |    14000 |     31 |  0.0017248493 |             f\n",
      "    71 |    14200 |     32 |  0.0054298835 |             f\n",
      "    72 |    14400 |     32 |  0.0024478914 |             f\n",
      "    73 |    14600 |     32 |  0.0024478914 |             f\n",
      "    74 |    14800 |     33 |  0.0030471136 |             f\n",
      "    75 |    15000 |     33 |  0.000000E+00 |             f\n",
      "    76 |    15200 |     33 |  0.000000E+00 |             f\n",
      "    77 |    15400 |     33 |  0.0006734007 |             f\n",
      "    78 |    15600 |     33 |  0.0006734007 |             f\n",
      "    79 |    15800 |     33 |  0.0006734007 |             f\n",
      "    80 |    16000 |     33 |  0.0006734007 |             f\n",
      "    81 |    16200 |     33 |  0.0006734007 |             f\n",
      "    82 |    16400 |     33 |  0.0006734007 |             f\n",
      "    83 |    16600 |     33 |  0.0006734007 |             f\n",
      "    84 |    16800 |     33 |  0.0006734007 |             f\n",
      "    85 |    17000 |     33 |  0.0006734007 |             f\n",
      "    86 |    17200 |     33 |  0.0006734007 |             f\n",
      "    87 |    17400 |     33 |  0.0006734007 |             f\n",
      "    88 |    17600 |     33 |  0.0006734007 |             f\n",
      "    89 |    17800 |     33 |  0.0006734007 |             f\n",
      "    90 |    18000 |     33 |  0.0006734007 |             f\n",
      "    91 |    18200 |     34 |  0.0217391304 |         ideal\n",
      "    92 |    18400 |     34 |  0.000000E+00 |             f\n",
      "    93 |    18600 |     34 |  0.000000E+00 |             f\n",
      "    94 |    18800 |     34 |  0.000000E+00 |             f\n",
      "    95 |    19000 |     34 |  0.000000E+00 |             f\n",
      "    96 |    19200 |     34 |  0.000000E+00 |             f\n",
      "    97 |    19400 |     34 |  0.0006393862 |             f\n",
      "    98 |    19600 |     34 |  0.0006393862 |             f\n",
      "    99 |    19800 |     34 |  0.0006393862 |             f\n",
      "   100 |    20000 |     34 |  0.0006393862 |             f\n"
     ]
    }
   ],
   "source": [
    "from pymoo.optimize import minimize\n",
    "#Se utiliza una funcion de minimización para minimizar las funciones objetivo\n",
    "res = minimize(problem,\n",
    "            algorithm,\n",
    "            termination,\n",
    "            save_history=True,\n",
    "            verbose=True)\n",
    "\n",
    "X = res.X #Vector de soluciones\n",
    "res.F = res.F*-1\n",
    "F = res.F #Vector con las calidades de cada individuo\n",
    "hist = res.history\n",
    "\n",
    "#Normalización del resultado\n",
    "\n",
    "approx_ideal = F.min(axis=0)\n",
    "approx_nadir = F.max(axis=0)\n",
    "nF = (F - approx_ideal) / (approx_nadir - approx_ideal)#Normalización del frente de Pareto"
   ]
  },
  {
   "attachments": {},
   "cell_type": "markdown",
   "metadata": {},
   "source": [
    "## Convergencia de Cada Objetivo"
   ]
  },
  {
   "cell_type": "code",
   "execution_count": 1330,
   "metadata": {},
   "outputs": [
    {
     "name": "stdout",
     "output_type": "stream",
     "text": [
      "HV 0.41323\n"
     ]
    }
   ],
   "source": [
    "from pymoo.indicators.hv import HV\n",
    "\n",
    "A = nF[::7] # se toma una muestra del frente cada 7 soluciones\n",
    "ref_point = np.array([1.2, 1.2]) # se pone el punto de referencia (un punto muy malo) como -120 para f1 y 6000 para f2 \n",
    "ind = HV(ref_point=ref_point) # se calcula el indicador del hypervolumen\n",
    "\n",
    "print(\"HV\", '%.5f' % ind(A)) # se imprime el indicador con cinco decimales\n"
   ]
  },
  {
   "attachments": {},
   "cell_type": "markdown",
   "metadata": {},
   "source": [
    "## Visualización de Resultados y Mejor resultado por medio de Compromise Programing "
   ]
  },
  {
   "cell_type": "code",
   "execution_count": 1345,
   "metadata": {},
   "outputs": [
    {
     "name": "stdout",
     "output_type": "stream",
     "text": [
      "Best regarding ASF: Point \n",
      "i = 23\n",
      "F = [    248. -125000.]\n",
      "X = [ 2 27  2]\n"
     ]
    },
    {
     "data": {
      "image/png": "[encoded data removed]",
      "text/plain": [
       "<Figure size 640x480 with 1 Axes>"
      ]
     },
     "metadata": {},
     "output_type": "display_data"
    },
    {
     "data": {
      "text/plain": [
       "<pymoo.visualization.scatter.Scatter at 0x16615c61a80>"
      ]
     },
     "execution_count": 1345,
     "metadata": {},
     "output_type": "execute_result"
    },
    {
     "data": {
      "image/png": "[encoded data removed]",
      "text/plain": [
       "<Figure size 800x600 with 1 Axes>"
      ]
     },
     "metadata": {},
     "output_type": "display_data"
    }
   ],
   "source": [
    "\n",
    "from pymoo.visualization.scatter import Scatter\n",
    "from pymoo.decomposition.asf import ASF\n",
    "\n",
    "weights = np.array([0.5, 0.5])#Peso que determina la importacia de las soluciones\n",
    "decomp = ASF()\n",
    "i = decomp.do(nF, 1/weights).argmin()\n",
    "\n",
    "print(\"Best regarding ASF: Point \\ni = %s\\nF = %s\\nX = %s\" % (i, F[i], X[i]))\n",
    "\n",
    "\n",
    "def ParetoFrontGraph(pf, title, color, nF, i, x):\n",
    "    if x is True:\n",
    "        plt.scatter(nF[:, 0], nF[:, 1], s=30, facecolors='none', edgecolors=color)\n",
    "        plt.scatter(nF[i, 0], nF[i, 1], marker=\"x\", color='red', s=200)\n",
    "        plt.title(title)\n",
    "        plt.show()\n",
    "    else:\n",
    "        plot = Scatter(title=title)\n",
    "        plot.add(res.F, color=color)\n",
    "        return plot\n",
    "    \n",
    "ParetoFrontGraph(F, \"Frente de Pareto Normalizado\", \"blue\", nF, i, True)\n",
    "ParetoFrontGraph(F, \"Frente de Pareto\", \"red\", nF, i, False).show()"
   ]
  },
  {
   "attachments": {},
   "cell_type": "markdown",
   "metadata": {},
   "source": [
    "# Referencias\n",
    "\n",
    "#### https://pymoo.org/getting_started/index.html\n",
    "#### https://pymoo.org/customization/discrete.html\n",
    "#### https://pymoo.org/interface/problem.html\n"
   ]
  }
 ],
 "metadata": {
  "kernelspec": {
   "display_name": "Python 3",
   "language": "python",
   "name": "python3"
  },
  "language_info": {
   "codemirror_mode": {
    "name": "ipython",
    "version": 3
   },
   "file_extension": ".py",
   "mimetype": "text/x-python",
   "name": "python",
   "nbconvert_exporter": "python",
   "pygments_lexer": "ipython3",
   "version": "3.10.11"
  },
  "orig_nbformat": 4
 },
 "nbformat": 4,
 "nbformat_minor": 2
}
