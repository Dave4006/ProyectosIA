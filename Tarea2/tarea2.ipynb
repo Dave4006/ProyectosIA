{
 "cells": [
  {
   "attachments": {},
   "cell_type": "markdown",
   "metadata": {},
   "source": [
    "# Tarea 2\n",
    "## Importación de módulos"
   ]
  },
  {
   "cell_type": "code",
   "execution_count": 97,
   "metadata": {},
   "outputs": [],
   "source": [
    "import numpy as np\n",
    "from pymoo.core.problem import ElementwiseProblem\n",
    "from IPython.display import display\n",
    "import matplotlib.pyplot as plt"
   ]
  },
  {
   "attachments": {},
   "cell_type": "markdown",
   "metadata": {},
   "source": [
    "## Clase del problema"
   ]
  },
  {
   "cell_type": "code",
   "execution_count": 98,
   "metadata": {},
   "outputs": [],
   "source": [
    "# Se crea una clase para definir el problema ya que pymoo funciona con POO. \n",
    "# Se usa un problema ElementWise para que se califique cada solución y no se haga en conjuntos.\n",
    "class MyProblem(ElementwiseProblem):\n",
    "    # constructor de la clase, recibe la cantidad de genes del cromosoma (n_var), \n",
    "    # la cantidad de funciones objetivo (n_obj), \n",
    "    # límite inferior de los genes (xl) y el límite superior (xu)\n",
    "    def __init__(self):\n",
    "        super().__init__(n_var=3,\n",
    "                        n_obj=2,\n",
    "                        xl=0,\n",
    "                        xu=200)\n",
    "    # Esta función guarda la definición del cromosoma y las funciones objetivo\n",
    "    def _evaluate(self, x, out, *args, **kwargs):\n",
    "        \n",
    "        # Cantidad de tornos\n",
    "        T = x[0]\n",
    "        # Cantidad de fresadoras\n",
    "        F = x[1]\n",
    "        # Cantidad de multiproposito\n",
    "        M = x[2]\n",
    "        \n",
    "        #Se definen las penalizaciones por el sobrepaso de material\n",
    "\n",
    "        #Cableado\n",
    "        penCab = 280 - (2*T+F+5*M)\n",
    "        #Motores\n",
    "        penM  = 120 - (6*T+3*F+12*M)\n",
    "        #Carcasas\n",
    "        penCar = 670 - (2*T+8*F+4*M)\n",
    "        #Actuadores\n",
    "        penA = 250 - (2*T+6*F+6*M)\n",
    "        \n",
    "        #Vector con las penalizaciones\n",
    "        penalizaciones = [penCab, penM, penCar, penA] \n",
    "        \n",
    "        pen = 0\n",
    "        \n",
    "        #Sumatoria de penalizaciones y se filtran aquellas que sean números naturales o cero.\n",
    "        for i in range(4):\n",
    "            if penalizaciones[i] < 0:\n",
    "                pen = pen + penalizaciones[i]\n",
    "        \n",
    "        #Funcion objetivo de la ganancia\n",
    "        f1 = -(4*T+8*F+12*M)+15*pen**2 \n",
    "        #Funcion objetivo de la producción\n",
    "        f2 = (abs(T-F)+abs(T-M)+abs(F-M))**3\n",
    "        \n",
    "        out[\"F\"] = [f1, f2]\n",
    "        \n",
    "problem = MyProblem()    "
   ]
  },
  {
   "attachments": {},
   "cell_type": "markdown",
   "metadata": {},
   "source": [
    "## Inicialización del algoritmo"
   ]
  },
  {
   "cell_type": "code",
   "execution_count": 153,
   "metadata": {},
   "outputs": [],
   "source": [
    "from pymoo.algorithms.moo.nsga2 import NSGA2\n",
    "from pymoo.operators.mutation.pm import PM\n",
    "from pymoo.operators.sampling.rnd import IntegerRandomSampling\n",
    "from pymoo.operators.repair.rounding import RoundingRepair\n",
    "from pymoo.operators.crossover.pntx import SinglePointCrossover\n",
    "\n",
    "# Se utiliza el algoritmo NSGA2, para la selección de individuos para el cruce se usa por defecto un algoritmo de torneo binario\n",
    "# La población es de 200\n",
    "algorithm = NSGA2(pop_size=400, \n",
    "                # Se escogen solo números enteros para los genes\n",
    "                sampling=IntegerRandomSampling(),\n",
    "                # Se usa como algoritmo de cruce un punto variable con un corte.\n",
    "                crossover=SinglePointCrossover(),\n",
    "                # La mutación es un algoritmo de mutación polinómica con una probabilidd de 5%.\n",
    "                mutation=PM(prob=0.1, vtype=float, repair=RoundingRepair()),\n",
    "                # Se eliminan las soluciones dobles.\n",
    "                eliminate_duplicates = True)"
   ]
  },
  {
   "attachments": {},
   "cell_type": "markdown",
   "metadata": {},
   "source": [
    "## Criterio de parada"
   ]
  },
  {
   "cell_type": "code",
   "execution_count": 154,
   "metadata": {},
   "outputs": [],
   "source": [
    "from pymoo.termination import get_termination\n",
    "# El agoritmo para cuando ya ha corrido 100 generaciones\n",
    "termination = get_termination(\"n_gen\", 200)"
   ]
  },
  {
   "attachments": {},
   "cell_type": "markdown",
   "metadata": {},
   "source": [
    "## Optimización y Normalización"
   ]
  },
  {
   "cell_type": "code",
   "execution_count": 155,
   "metadata": {},
   "outputs": [
    {
     "name": "stdout",
     "output_type": "stream",
     "text": [
      "==========================================================\n",
      "n_gen  |  n_eval  | n_nds  |      eps      |   indicator  \n",
      "==========================================================\n",
      "     1 |      400 |      3 |             - |             -\n",
      "     2 |      800 |      5 |  0.0082864421 |         ideal\n",
      "     3 |     1200 |      4 |  0.3896907216 |         ideal\n",
      "     4 |     1600 |      3 |  0.8551373955 |         nadir\n",
      "     5 |     2000 |      6 |  3.002881E+01 |         nadir\n",
      "     6 |     2400 |      7 |  6.566384E+01 |         nadir\n",
      "     7 |     2800 |      7 |  0.0087502795 |             f\n",
      "     8 |     3200 |     11 |  0.2280701754 |         ideal\n",
      "     9 |     3600 |     13 |  0.0101090235 |             f\n",
      "    10 |     4000 |     16 |  0.0491803279 |         ideal\n",
      "    11 |     4400 |     19 |  0.0317460317 |         ideal\n",
      "    12 |     4800 |     20 |  0.0155945412 |             f\n",
      "    13 |     5200 |     19 |  0.4000000000 |         nadir\n",
      "    14 |     5600 |     25 |  0.0044521839 |             f\n",
      "    15 |     6000 |     32 |  0.0625000000 |         ideal\n",
      "    16 |     6400 |     35 |  0.0017859810 |             f\n",
      "    17 |     6800 |     36 |  0.0035435535 |             f\n",
      "    18 |     7200 |     38 |  0.0022716662 |             f\n",
      "    19 |     7600 |     39 |  0.0044201353 |             f\n",
      "    20 |     8000 |     34 |  0.0012681320 |             f\n",
      "    21 |     8400 |     34 |  0.0024792702 |             f\n",
      "    22 |     8800 |     35 |  0.0024084339 |             f\n",
      "    23 |     9200 |     35 |  0.0024084339 |             f\n",
      "    24 |     9600 |     35 |  0.0024084339 |             f\n",
      "    25 |    10000 |     35 |  0.0030036720 |             f\n",
      "    26 |    10400 |     35 |  0.0001045196 |             f\n",
      "    27 |    10800 |     35 |  0.0001045196 |             f\n",
      "    28 |    11200 |     36 |  0.0024840761 |             f\n",
      "    29 |    11600 |     37 |  0.0024169389 |             f\n",
      "    30 |    12000 |     37 |  0.0024169389 |             f\n",
      "    31 |    12400 |     37 |  0.0024169389 |             f\n",
      "    32 |    12800 |     37 |  0.0024169389 |             f\n",
      "    33 |    13200 |     37 |  0.0024169389 |             f\n",
      "    34 |    13600 |     38 |  0.0023533352 |             f\n",
      "    35 |    14000 |     38 |  0.0021438599 |             f\n",
      "    36 |    14400 |     39 |  0.0020888892 |             f\n",
      "    37 |    14800 |     40 |  0.0020366669 |             f\n",
      "    38 |    15200 |     40 |  0.0020366669 |             f\n",
      "    39 |    15600 |     40 |  0.0020366669 |             f\n",
      "    40 |    16000 |     40 |  0.0020366669 |             f\n",
      "    41 |    16400 |     40 |  0.0020366669 |             f\n",
      "    42 |    16800 |     40 |  0.0020366669 |             f\n",
      "    43 |    17200 |     40 |  0.0020366669 |             f\n",
      "    44 |    17600 |     40 |  0.0020366669 |             f\n",
      "    45 |    18000 |     40 |  0.0020366669 |             f\n",
      "    46 |    18400 |     40 |  0.0020366669 |             f\n",
      "    47 |    18800 |     40 |  0.0020366669 |             f\n",
      "    48 |    19200 |     40 |  0.0020366669 |             f\n",
      "    49 |    19600 |     40 |  0.0020366669 |             f\n",
      "    50 |    20000 |     38 |  0.0021469653 |             f\n",
      "    51 |    20400 |     38 |  0.0021469653 |             f\n",
      "    52 |    20800 |     38 |  0.0021469653 |             f\n",
      "    53 |    21200 |     38 |  0.0021469653 |             f\n",
      "    54 |    21600 |     38 |  0.0021469653 |             f\n",
      "    55 |    22000 |     38 |  0.0021469653 |             f\n",
      "    56 |    22400 |     38 |  0.0021469653 |             f\n",
      "    57 |    22800 |     38 |  0.0021469653 |             f\n",
      "    58 |    23200 |     38 |  0.0021469653 |             f\n",
      "    59 |    23600 |     38 |  0.0021469653 |             f\n",
      "    60 |    24000 |     38 |  0.0021469653 |             f\n",
      "    61 |    24400 |     38 |  0.0021469653 |             f\n",
      "    62 |    24800 |     38 |  0.0021469653 |             f\n",
      "    63 |    25200 |     38 |  0.0021469653 |             f\n",
      "    64 |    25600 |     38 |  0.0021469653 |             f\n",
      "    65 |    26000 |     38 |  0.0021469653 |             f\n",
      "    66 |    26400 |     38 |  0.0021469653 |             f\n",
      "    67 |    26800 |     38 |  0.0021469653 |             f\n",
      "    68 |    27200 |     38 |  0.0021469653 |             f\n",
      "    69 |    27600 |     38 |  0.0021469653 |             f\n",
      "    70 |    28000 |     38 |  0.0021469653 |             f\n",
      "    71 |    28400 |     38 |  0.0021469653 |             f\n",
      "    72 |    28800 |     38 |  0.0021469653 |             f\n",
      "    73 |    29200 |     38 |  0.0021469653 |             f\n",
      "    74 |    29600 |     38 |  0.0021469653 |             f\n",
      "    75 |    30000 |     38 |  0.0021469653 |             f\n",
      "    76 |    30400 |     38 |  0.0021469653 |             f\n",
      "    77 |    30800 |     38 |  0.0021469653 |             f\n",
      "    78 |    31200 |     38 |  0.0021469653 |             f\n",
      "    79 |    31600 |     38 |  0.0021469653 |             f\n",
      "    80 |    32000 |     38 |  0.0021469653 |             f\n",
      "    81 |    32400 |     38 |  0.0021469653 |             f\n",
      "    82 |    32800 |     38 |  0.0021469653 |             f\n",
      "    83 |    33200 |     38 |  0.0021469653 |             f\n",
      "    84 |    33600 |     38 |  0.0021469653 |             f\n",
      "    85 |    34000 |     38 |  0.0021469653 |             f\n",
      "    86 |    34400 |     38 |  0.0021469653 |             f\n",
      "    87 |    34800 |     38 |  0.0021469653 |             f\n",
      "    88 |    35200 |     38 |  0.0021469653 |             f\n",
      "    89 |    35600 |     38 |  0.0021469653 |             f\n",
      "    90 |    36000 |     38 |  0.0021469653 |             f\n",
      "    91 |    36400 |     38 |  0.0021469653 |             f\n",
      "    92 |    36800 |     38 |  0.0021469653 |             f\n",
      "    93 |    37200 |     39 |  0.0400000000 |         ideal\n",
      "    94 |    37600 |     39 |  0.000000E+00 |             f\n",
      "    95 |    38000 |     39 |  0.000000E+00 |             f\n",
      "    96 |    38400 |     39 |  0.000000E+00 |             f\n",
      "    97 |    38800 |     39 |  0.000000E+00 |             f\n",
      "    98 |    39200 |     39 |  0.000000E+00 |             f\n",
      "    99 |    39600 |     39 |  0.000000E+00 |             f\n",
      "   100 |    40000 |     39 |  0.000000E+00 |             f\n",
      "   101 |    40400 |     39 |  0.000000E+00 |             f\n",
      "   102 |    40800 |     39 |  0.000000E+00 |             f\n",
      "   103 |    41200 |     39 |  0.000000E+00 |             f\n",
      "   104 |    41600 |     39 |  0.000000E+00 |             f\n",
      "   105 |    42000 |     39 |  0.000000E+00 |             f\n",
      "   106 |    42400 |     39 |  0.000000E+00 |             f\n",
      "   107 |    42800 |     39 |  0.000000E+00 |             f\n",
      "   108 |    43200 |     39 |  0.000000E+00 |             f\n",
      "   109 |    43600 |     39 |  0.000000E+00 |             f\n",
      "   110 |    44000 |     39 |  0.000000E+00 |             f\n",
      "   111 |    44400 |     39 |  0.000000E+00 |             f\n",
      "   112 |    44800 |     39 |  0.000000E+00 |             f\n",
      "   113 |    45200 |     39 |  0.000000E+00 |             f\n",
      "   114 |    45600 |     39 |  0.000000E+00 |             f\n",
      "   115 |    46000 |     39 |  0.000000E+00 |             f\n",
      "   116 |    46400 |     39 |  0.000000E+00 |             f\n",
      "   117 |    46800 |     39 |  0.000000E+00 |             f\n",
      "   118 |    47200 |     39 |  0.000000E+00 |             f\n",
      "   119 |    47600 |     39 |  0.000000E+00 |             f\n",
      "   120 |    48000 |     39 |  0.000000E+00 |             f\n",
      "   121 |    48400 |     39 |  0.000000E+00 |             f\n",
      "   122 |    48800 |     39 |  0.000000E+00 |             f\n",
      "   123 |    49200 |     39 |  0.000000E+00 |             f\n",
      "   124 |    49600 |     39 |  0.000000E+00 |             f\n",
      "   125 |    50000 |     39 |  0.000000E+00 |             f\n",
      "   126 |    50400 |     39 |  0.000000E+00 |             f\n",
      "   127 |    50800 |     39 |  0.000000E+00 |             f\n",
      "   128 |    51200 |     39 |  0.000000E+00 |             f\n",
      "   129 |    51600 |     39 |  0.000000E+00 |             f\n",
      "   130 |    52000 |     39 |  0.000000E+00 |             f\n",
      "   131 |    52400 |     39 |  0.000000E+00 |             f\n",
      "   132 |    52800 |     39 |  0.000000E+00 |             f\n",
      "   133 |    53200 |     39 |  0.000000E+00 |             f\n",
      "   134 |    53600 |     39 |  0.000000E+00 |             f\n",
      "   135 |    54000 |     39 |  0.000000E+00 |             f\n",
      "   136 |    54400 |     39 |  0.000000E+00 |             f\n",
      "   137 |    54800 |     39 |  0.000000E+00 |             f\n",
      "   138 |    55200 |     39 |  0.000000E+00 |             f\n",
      "   139 |    55600 |     39 |  0.000000E+00 |             f\n",
      "   140 |    56000 |     39 |  0.000000E+00 |             f\n",
      "   141 |    56400 |     39 |  0.000000E+00 |             f\n",
      "   142 |    56800 |     39 |  0.000000E+00 |             f\n",
      "   143 |    57200 |     39 |  0.000000E+00 |             f\n",
      "   144 |    57600 |     39 |  0.000000E+00 |             f\n",
      "   145 |    58000 |     39 |  0.000000E+00 |             f\n",
      "   146 |    58400 |     39 |  0.000000E+00 |             f\n",
      "   147 |    58800 |     39 |  0.000000E+00 |             f\n",
      "   148 |    59200 |     39 |  0.000000E+00 |             f\n",
      "   149 |    59600 |     39 |  0.000000E+00 |             f\n",
      "   150 |    60000 |     39 |  0.000000E+00 |             f\n",
      "   151 |    60400 |     39 |  0.000000E+00 |             f\n",
      "   152 |    60800 |     39 |  0.000000E+00 |             f\n",
      "   153 |    61200 |     39 |  0.000000E+00 |             f\n",
      "   154 |    61600 |     39 |  0.000000E+00 |             f\n",
      "   155 |    62000 |     39 |  0.000000E+00 |             f\n",
      "   156 |    62400 |     39 |  0.000000E+00 |             f\n",
      "   157 |    62800 |     39 |  0.000000E+00 |             f\n",
      "   158 |    63200 |     39 |  0.000000E+00 |             f\n",
      "   159 |    63600 |     39 |  0.000000E+00 |             f\n",
      "   160 |    64000 |     39 |  0.000000E+00 |             f\n",
      "   161 |    64400 |     39 |  0.000000E+00 |             f\n",
      "   162 |    64800 |     39 |  0.000000E+00 |             f\n",
      "   163 |    65200 |     39 |  0.000000E+00 |             f\n",
      "   164 |    65600 |     39 |  0.000000E+00 |             f\n",
      "   165 |    66000 |     39 |  0.000000E+00 |             f\n",
      "   166 |    66400 |     39 |  0.000000E+00 |             f\n",
      "   167 |    66800 |     39 |  0.000000E+00 |             f\n",
      "   168 |    67200 |     39 |  0.000000E+00 |             f\n",
      "   169 |    67600 |     39 |  0.000000E+00 |             f\n",
      "   170 |    68000 |     39 |  0.000000E+00 |             f\n",
      "   171 |    68400 |     39 |  0.000000E+00 |             f\n",
      "   172 |    68800 |     39 |  0.000000E+00 |             f\n",
      "   173 |    69200 |     39 |  0.000000E+00 |             f\n",
      "   174 |    69600 |     39 |  0.000000E+00 |             f\n",
      "   175 |    70000 |     39 |  0.000000E+00 |             f\n",
      "   176 |    70400 |     39 |  0.000000E+00 |             f\n",
      "   177 |    70800 |     39 |  0.000000E+00 |             f\n",
      "   178 |    71200 |     39 |  0.000000E+00 |             f\n",
      "   179 |    71600 |     39 |  0.000000E+00 |             f\n",
      "   180 |    72000 |     39 |  0.000000E+00 |             f\n",
      "   181 |    72400 |     39 |  0.000000E+00 |             f\n",
      "   182 |    72800 |     39 |  0.000000E+00 |             f\n",
      "   183 |    73200 |     39 |  0.000000E+00 |             f\n",
      "   184 |    73600 |     39 |  0.000000E+00 |             f\n",
      "   185 |    74000 |     39 |  0.000000E+00 |             f\n",
      "   186 |    74400 |     39 |  0.000000E+00 |             f\n",
      "   187 |    74800 |     39 |  0.000000E+00 |             f\n",
      "   188 |    75200 |     39 |  0.000000E+00 |             f\n",
      "   189 |    75600 |     39 |  0.000000E+00 |             f\n",
      "   190 |    76000 |     39 |  0.000000E+00 |             f\n",
      "   191 |    76400 |     39 |  0.000000E+00 |             f\n",
      "   192 |    76800 |     39 |  0.000000E+00 |             f\n",
      "   193 |    77200 |     39 |  0.000000E+00 |             f\n",
      "   194 |    77600 |     39 |  0.000000E+00 |             f\n",
      "   195 |    78000 |     39 |  0.000000E+00 |             f\n",
      "   196 |    78400 |     39 |  0.000000E+00 |             f\n",
      "   197 |    78800 |     39 |  0.000000E+00 |             f\n",
      "   198 |    79200 |     39 |  0.000000E+00 |             f\n",
      "   199 |    79600 |     39 |  0.000000E+00 |             f\n",
      "   200 |    80000 |     39 |  0.000000E+00 |             f\n"
     ]
    }
   ],
   "source": [
    "from pymoo.optimize import minimize\n",
    "#Se utiliza una funcion de minimización para minimizar las funciones objetivo\n",
    "res = minimize(problem,\n",
    "            algorithm,\n",
    "            termination,\n",
    "            save_history=True,\n",
    "            verbose=True)\n",
    "\n",
    "# Vector que guarda la mejor solución por generación\n",
    "X = res.X\n",
    "# Se cambia el signo de los resultados de las funciones para que la gráfica quede con los datos reales\n",
    "res.F = res.F*-1\n",
    "# Vector que guarda el frente de pareto\n",
    "F = res.F\n",
    "\n",
    "#Normalización del resultado\n",
    "\n",
    "approx_ideal = F.min(axis=0)\n",
    "approx_nadir = F.max(axis=0)\n",
    "#Normalización del frente de Pareto, con una normalización min-max\n",
    "nF = (F - approx_ideal) / (approx_nadir - approx_ideal)"
   ]
  },
  {
   "attachments": {},
   "cell_type": "markdown",
   "metadata": {},
   "source": [
    "## Convergencia de Cada Objetivo"
   ]
  },
  {
   "cell_type": "code",
   "execution_count": 156,
   "metadata": {},
   "outputs": [
    {
     "name": "stdout",
     "output_type": "stream",
     "text": [
      "HV 0.52219\n"
     ]
    }
   ],
   "source": [
    "from pymoo.indicators.hv import HV\n",
    "\n",
    "# Se toma una muestra del frente cada 7 soluciones\n",
    "A = nF[::7] \n",
    "# Se pone el punto de referencia (un punto muy malo) como -120 para f1 y 6000 para f2 \n",
    "ref_point = np.array([1.2, 1.2])\n",
    "# Se calcula el indicador del hipervolumen\n",
    "ind = HV(ref_point=ref_point)\n",
    "# Se imprime el indicador con cinco decimales\n",
    "print(\"HV\", '%.5f' % ind(A)) \n"
   ]
  },
  {
   "attachments": {},
   "cell_type": "markdown",
   "metadata": {},
   "source": [
    "## Visualización de Resultados y Mejor resultado por medio de Compromise Programing "
   ]
  },
  {
   "cell_type": "code",
   "execution_count": 159,
   "metadata": {},
   "outputs": [
    {
     "name": "stderr",
     "output_type": "stream",
     "text": [
      "C:\\Users\\Alienware\\AppData\\Local\\Temp\\ipykernel_9732\\2515914426.py:9: RuntimeWarning: divide by zero encountered in divide\n",
      "  i = decomp.do(nF, 1/weights).argmin()\n"
     ]
    },
    {
     "name": "stdout",
     "output_type": "stream",
     "text": [
      "Best regarding ASF: Point \n",
      "i = 10\n",
      "F = [120.  -0.]\n",
      "X = [5 5 5]\n"
     ]
    },
    {
     "data": {
      "image/png": "[encoded data removed]",
      "text/plain": [
       "<Figure size 640x480 with 1 Axes>"
      ]
     },
     "metadata": {},
     "output_type": "display_data"
    },
    {
     "data": {
      "text/plain": [
       "<pymoo.visualization.scatter.Scatter at 0x1db213aa4a0>"
      ]
     },
     "execution_count": 159,
     "metadata": {},
     "output_type": "execute_result"
    },
    {
     "data": {
      "image/png": "[encoded data removed]",
      "text/plain": [
       "<Figure size 800x600 with 1 Axes>"
      ]
     },
     "metadata": {},
     "output_type": "display_data"
    }
   ],
   "source": [
    "\n",
    "from pymoo.visualization.scatter import Scatter\n",
    "from pymoo.decomposition.asf import ASF\n",
    "\n",
    "#Peso que determina la importacia de las soluciones\n",
    "weights = np.array([1, 0])\n",
    "#Se utiliza un algoritmo de Achievement Scalarization Function para implemetar los pesos\n",
    "decomp = ASF()\n",
    "#Se obtiene el indice de la mejor solución\n",
    "i = decomp.do(nF, 1/weights).argmin()\n",
    "\n",
    "print(\"Best regarding ASF: Point \\ni = %s\\nF = %s\\nX = %s\" % (i, F[i], X[i]))\n",
    "\n",
    "# Funcion que genera ambas gráficas del frente de Pareto.\n",
    "def ParetoFrontGraph(pf, title, color, nF, i, x):\n",
    "    # Si el parámetro x es verdadero se imprime la gráfica con el frente normalizado y la \"mejor\" solución\n",
    "    if x is True:\n",
    "        plt.scatter(nF[:, 0], nF[:, 1], color=color)\n",
    "        plt.scatter(nF[i, 0], nF[i, 1], marker=\"x\", color='red', s=200)\n",
    "        plt.title(title)\n",
    "        plt.show()\n",
    "    # Si no se imprime el frente normal.\n",
    "    else:\n",
    "        plot = Scatter(title=title)\n",
    "        plot.add(pf, color=color)\n",
    "        return plot\n",
    "    \n",
    "ParetoFrontGraph(F, \"Frente de Pareto Normalizado\", \"blue\", nF, i, True)\n",
    "ParetoFrontGraph(F, \"Frente de Pareto\", \"red\", nF, i, False).show()"
   ]
  },
  {
   "attachments": {},
   "cell_type": "markdown",
   "metadata": {},
   "source": [
    "# Referencias\n",
    "\n",
    "#### https://pymoo.org/getting_started/index.html\n",
    "#### https://pymoo.org/customization/discrete.html\n",
    "#### https://pymoo.org/interface/problem.html\n",
    "#### https://ai.vub.ac.be/sites/default/files/EMO_2013_1.pdf\n",
    "#### https://pymoo.org/misc/indicators.html"
   ]
  }
 ],
 "metadata": {
  "kernelspec": {
   "display_name": "Python 3",
   "language": "python",
   "name": "python3"
  },
  "language_info": {
   "codemirror_mode": {
    "name": "ipython",
    "version": 3
   },
   "file_extension": ".py",
   "mimetype": "text/x-python",
   "name": "python",
   "nbconvert_exporter": "python",
   "pygments_lexer": "ipython3",
   "version": "3.10.11"
  },
  "orig_nbformat": 4
 },
 "nbformat": 4,
 "nbformat_minor": 2
}
