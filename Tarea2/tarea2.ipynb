{
 "cells": [
  {
   "attachments": {},
   "cell_type": "markdown",
   "metadata": {},
   "source": [
    "# Tarea 2\n",
    "## Importación de módulos"
   ]
  },
  {
   "cell_type": "code",
   "execution_count": 1050,
   "metadata": {},
   "outputs": [],
   "source": [
    "import numpy as np\n",
    "from pymoo.core.problem import ElementwiseProblem\n",
    "from IPython.display import display\n",
    "import matplotlib.pyplot as plt\n"
   ]
  },
  {
   "attachments": {},
   "cell_type": "markdown",
   "metadata": {},
   "source": [
    "## Clase del problema"
   ]
  },
  {
   "cell_type": "code",
   "execution_count": 1051,
   "metadata": {},
   "outputs": [],
   "source": [
    "class MyProblem(ElementwiseProblem):\n",
    "    def __init__(self):\n",
    "        super().__init__(n_var=3,#Cantidad de genes por cromosoma\n",
    "                        n_obj=2,#cantidad de funciones objetivo\n",
    "                        xl=0,#Limite inferior del valor del gen\n",
    "                        xu=200)#Limite superior del valor de gen\n",
    "        \n",
    "    def _evaluate(self, x, out, *args, **kwargs):\n",
    "        \n",
    "        # Cantidad de tornos\n",
    "        T = x[0]\n",
    "        # Cantidad de fresadoras\n",
    "        F = x[1]\n",
    "        # Cantidad de multiproposito\n",
    "        M = x[2]\n",
    "        \n",
    "        #Se definen las penalizaciones por el sobrepaso de material \n",
    "        penCab = 280 - (2*T+F+5*M)#Cableado\n",
    "        penM  = 120 - (6*T+3*F+12*M)#Motores\n",
    "        penCar = 670 - (2*T+8*F+4*M)#Carcasas\n",
    "        penA = 250 - (2*T+6*F+6*M)#Actuadores\n",
    "        \n",
    "        penalizaciones = [penCab, penM, penCar, penA] #Vector con las penalizaciones\n",
    "        \n",
    "        pen = 0\n",
    "        #Sumatoria de penalizaciones\n",
    "        for i in range(4):\n",
    "            if penalizaciones[i] < 0:\n",
    "                pen = pen + penalizaciones[i]\n",
    "        \n",
    "        #Funciones objetivo\n",
    "        f1 = -(4*T+8*F+12*M)+pen**2 #Funcion que busca la mayor ganancia\n",
    "        f2 = (abs(T-F)+abs(T-M)+abs(F-M))**3 #Funcion que busca la cantidad de unidades sea uniforme\n",
    "        out[\"F\"] = [f1, f2]\n",
    "        \n",
    "problem = MyProblem()    "
   ]
  },
  {
   "attachments": {},
   "cell_type": "markdown",
   "metadata": {},
   "source": [
    "## Inicialización del algoritmo"
   ]
  },
  {
   "cell_type": "code",
   "execution_count": 1052,
   "metadata": {},
   "outputs": [],
   "source": [
    "from pymoo.algorithms.moo.nsga2 import NSGA2\n",
    "from pymoo.operators.mutation.pm import PM\n",
    "from pymoo.operators.sampling.rnd import IntegerRandomSampling\n",
    "from pymoo.operators.repair.rounding import RoundingRepair\n",
    "from pymoo.operators.crossover.pntx import SinglePointCrossover\n",
    "\n",
    "# Se utiliza el algoritmo NSGA2 \n",
    "#Automaticamente se utiliza un el algoritmo de torneo para la selección del cruzamiento\n",
    "algorithm = NSGA2(pop_size=200,#Numero de la poblacion inicial \n",
    "                sampling=IntegerRandomSampling(),\n",
    "                crossover=SinglePointCrossover(),\n",
    "                mutation=PM(prob=0.05, vtype=float, repair=RoundingRepair()),#Mutacion\n",
    "                eliminate_duplicates = True)"
   ]
  },
  {
   "attachments": {},
   "cell_type": "markdown",
   "metadata": {},
   "source": [
    "## Criterio de parada"
   ]
  },
  {
   "cell_type": "code",
   "execution_count": 1053,
   "metadata": {},
   "outputs": [],
   "source": [
    "from pymoo.termination import get_termination\n",
    "\n",
    "termination = get_termination(\"n_gen\", 100)#Cantidad de generaciones"
   ]
  },
  {
   "attachments": {},
   "cell_type": "markdown",
   "metadata": {},
   "source": [
    "## Optimización"
   ]
  },
  {
   "cell_type": "code",
   "execution_count": 1054,
   "metadata": {},
   "outputs": [
    {
     "name": "stdout",
     "output_type": "stream",
     "text": [
      "==========================================================\n",
      "n_gen  |  n_eval  | n_nds  |      eps      |   indicator  \n",
      "==========================================================\n",
      "     1 |      200 |      4 |             - |             -\n",
      "     2 |      400 |      2 |  4.5412186380 |         ideal\n",
      "     3 |      600 |      3 |  0.1517329467 |             f\n",
      "     4 |      800 |      3 |  0.1087216407 |             f\n",
      "     5 |     1000 |      3 |  0.000000E+00 |             f\n",
      "     6 |     1200 |      2 |  0.4786324786 |         ideal\n",
      "     7 |     1400 |      3 |  0.0564516129 |         ideal\n",
      "     8 |     1600 |      5 |  0.3823529412 |         ideal\n",
      "     9 |     1800 |      6 |  0.1707317073 |         ideal\n",
      "    10 |     2000 |      6 |  0.1111111111 |         ideal\n",
      "    11 |     2200 |      7 |  0.0127069417 |             f\n",
      "    12 |     2400 |      7 |  0.0629921260 |         nadir\n",
      "    13 |     2600 |      8 |  0.0592592593 |         ideal\n",
      "    14 |     2800 |      8 |  0.0124400143 |             f\n",
      "    15 |     3000 |     12 |  0.3798882682 |         ideal\n",
      "    16 |     3200 |     14 |  0.0041666667 |         ideal\n",
      "    17 |     3400 |     14 |  0.0279034873 |             f\n",
      "    18 |     3600 |     18 |  0.0909090909 |         ideal\n",
      "    19 |     3800 |     21 |  0.0064200734 |             f\n",
      "    20 |     4000 |     22 |  0.0013774314 |             f\n",
      "    21 |     4200 |     23 |  0.0025285599 |             f\n",
      "    22 |     4400 |     25 |  0.0002232000 |             f\n",
      "    23 |     4600 |     25 |  0.0002232000 |             f\n",
      "    24 |     4800 |     25 |  0.0024986861 |             f\n",
      "    25 |     5000 |     22 |  0.3750000000 |         nadir\n",
      "    26 |     5200 |     21 |  0.0068079666 |             f\n",
      "    27 |     5400 |     22 |  0.0009469697 |             f\n",
      "    28 |     5600 |     24 |  0.0019498217 |             f\n",
      "    29 |     5800 |     27 |  0.0085143777 |             f\n",
      "    30 |     6000 |     27 |  0.000000E+00 |             f\n",
      "    31 |     6200 |     27 |  0.0010073336 |             f\n",
      "    32 |     6400 |     28 |  0.0063416154 |             f\n",
      "    33 |     6600 |     30 |  0.0036484628 |             f\n",
      "    34 |     6800 |     31 |  0.0011877953 |             f\n",
      "    35 |     7000 |     31 |  0.0013629425 |             f\n",
      "    36 |     7200 |     32 |  0.0013203505 |             f\n",
      "    37 |     7400 |     31 |  0.0020349855 |             f\n",
      "    38 |     7600 |     31 |  0.0020349855 |             f\n",
      "    39 |     7800 |     31 |  0.0020349855 |             f\n",
      "    40 |     8000 |     31 |  0.0020349855 |             f\n",
      "    41 |     8200 |     31 |  0.0020349855 |             f\n",
      "    42 |     8400 |     31 |  0.0020349855 |             f\n",
      "    43 |     8600 |     30 |  0.0025079724 |             f\n",
      "    44 |     8800 |     30 |  0.000000E+00 |             f\n",
      "    45 |     9000 |     31 |  0.000000E+00 |             f\n",
      "    46 |     9200 |     31 |  0.000000E+00 |             f\n",
      "    47 |     9400 |     31 |  0.000000E+00 |             f\n",
      "    48 |     9600 |     31 |  0.000000E+00 |             f\n",
      "    49 |     9800 |     32 |  0.0023797062 |             f\n",
      "    50 |    10000 |     34 |  0.0047623279 |             f\n",
      "    51 |    10200 |     34 |  0.000000E+00 |             f\n",
      "    52 |    10400 |     35 |  0.000000E+00 |             f\n",
      "    53 |    10600 |     36 |  0.0014787553 |             f\n",
      "    54 |    10800 |     36 |  0.0020574590 |             f\n",
      "    55 |    11000 |     36 |  0.0020574590 |             f\n",
      "    56 |    11200 |     36 |  0.0020574590 |             f\n",
      "    57 |    11400 |     36 |  0.0020574590 |             f\n",
      "    58 |    11600 |     36 |  0.0020574590 |             f\n",
      "    59 |    11800 |     36 |  0.0020574590 |             f\n",
      "    60 |    12000 |     36 |  0.0020574590 |             f\n",
      "    61 |    12200 |     36 |  0.0020574590 |             f\n",
      "    62 |    12400 |     36 |  0.0020574590 |             f\n",
      "    63 |    12600 |     36 |  0.0020574590 |             f\n",
      "    64 |    12800 |     36 |  0.0020574590 |             f\n",
      "    65 |    13000 |     36 |  0.0020574590 |             f\n",
      "    66 |    13200 |     36 |  0.0020574590 |             f\n",
      "    67 |    13400 |     36 |  0.0020944538 |             f\n",
      "    68 |    13600 |     36 |  0.0020944538 |             f\n",
      "    69 |    13800 |     37 |  0.0020378470 |             f\n",
      "    70 |    14000 |     37 |  0.0020378470 |             f\n",
      "    71 |    14200 |     37 |  0.0020378470 |             f\n",
      "    72 |    14400 |     37 |  0.0020378470 |             f\n",
      "    73 |    14600 |     37 |  0.0019188405 |             f\n",
      "    74 |    14800 |     37 |  0.0019188405 |             f\n",
      "    75 |    15000 |     37 |  0.0019188405 |             f\n",
      "    76 |    15200 |     37 |  0.0019188405 |             f\n",
      "    77 |    15400 |     37 |  0.0019188405 |             f\n",
      "    78 |    15600 |     37 |  0.0019188405 |             f\n",
      "    79 |    15800 |     37 |  0.0028891011 |             f\n",
      "    80 |    16000 |     37 |  0.000000E+00 |             f\n",
      "    81 |    16200 |     37 |  0.000000E+00 |             f\n",
      "    82 |    16400 |     37 |  0.000000E+00 |             f\n",
      "    83 |    16600 |     37 |  0.000000E+00 |             f\n",
      "    84 |    16800 |     37 |  0.000000E+00 |             f\n",
      "    85 |    17000 |     37 |  0.0006920894 |             f\n",
      "    86 |    17200 |     37 |  0.0006920894 |             f\n",
      "    87 |    17400 |     37 |  0.0006920894 |             f\n",
      "    88 |    17600 |     37 |  0.0006920894 |             f\n",
      "    89 |    17800 |     37 |  0.0006920894 |             f\n",
      "    90 |    18000 |     37 |  0.0006920894 |             f\n",
      "    91 |    18200 |     37 |  0.0006920894 |             f\n",
      "    92 |    18400 |     37 |  0.0006920894 |             f\n",
      "    93 |    18600 |     37 |  0.0006920894 |             f\n",
      "    94 |    18800 |     37 |  0.0006920894 |             f\n",
      "    95 |    19000 |     38 |  0.0006738766 |             f\n",
      "    96 |    19200 |     38 |  0.0006738766 |             f\n",
      "    97 |    19400 |     38 |  0.0006738766 |             f\n",
      "    98 |    19600 |     38 |  0.0006738766 |             f\n",
      "    99 |    19800 |     38 |  0.0006738766 |             f\n",
      "   100 |    20000 |     38 |  0.0006738766 |             f\n"
     ]
    },
    {
     "data": {
      "text/plain": [
       "array([[ 4,  8,  6],\n",
       "       [ 4, 11,  5],\n",
       "       [ 4, 20,  3],\n",
       "       [ 6,  8,  5],\n",
       "       [ 1, 29,  2],\n",
       "       [ 0, 39,  0],\n",
       "       [ 2, 16,  5],\n",
       "       [ 0, 35,  1],\n",
       "       [ 1, 34,  1],\n",
       "       [ 5,  6,  6],\n",
       "       [ 1, 22,  4],\n",
       "       [ 5,  5,  5],\n",
       "       [ 2, 23,  3],\n",
       "       [ 4, 16,  4],\n",
       "       [ 3, 22,  3],\n",
       "       [ 3, 21,  3],\n",
       "       [ 5,  9,  5],\n",
       "       [ 3, 14,  5],\n",
       "       [ 2, 20,  4],\n",
       "       [ 4, 12,  5],\n",
       "       [ 1, 30,  2],\n",
       "       [ 1, 26,  3],\n",
       "       [ 0, 32,  2],\n",
       "       [ 2, 32,  1],\n",
       "       [ 3, 26,  2],\n",
       "       [ 5, 10,  5],\n",
       "       [ 3, 17,  4],\n",
       "       [ 5, 14,  4],\n",
       "       [ 3, 18,  4],\n",
       "       [ 4, 15,  4],\n",
       "       [ 0, 36,  1],\n",
       "       [ 1, 33,  1],\n",
       "       [ 3, 10,  6],\n",
       "       [ 1, 38,  0],\n",
       "       [ 0, 28,  3],\n",
       "       [ 2, 28,  2],\n",
       "       [ 2, 24,  3],\n",
       "       [ 2, 27,  2]])"
      ]
     },
     "execution_count": 1054,
     "metadata": {},
     "output_type": "execute_result"
    }
   ],
   "source": [
    "from pymoo.optimize import minimize\n",
    "#Se utiliza una funcion de minimización para minimizar las funciones objetivo\n",
    "res = minimize(problem,\n",
    "            algorithm,\n",
    "            termination,\n",
    "            save_history=True,\n",
    "            verbose=True)\n",
    "\n",
    "X = res.X #Vector de soluciones\n",
    "res.F = res.F*-1\n",
    "F = res.F #Vector con las calidades de cada individuo\n",
    "hist = res.history\n",
    "#len(F)\n",
    "X\n"
   ]
  },
  {
   "attachments": {},
   "cell_type": "markdown",
   "metadata": {},
   "source": [
    "## Convergencia de Cada Objetivo"
   ]
  },
  {
   "cell_type": "code",
   "execution_count": 1055,
   "metadata": {},
   "outputs": [
    {
     "data": {
      "text/plain": [
       "array([[ 1.52000e+02, -5.12000e+02],\n",
       "       [ 2.92000e+02, -3.43000e+05],\n",
       "       [ 2.24000e+02, -5.48720e+04],\n",
       "       [ 2.48000e+02, -1.25000e+05],\n",
       "       [ 2.04000e+02, -2.70000e+04],\n",
       "       [ 2.56000e+02, -1.40608e+05]])"
      ]
     },
     "metadata": {},
     "output_type": "display_data"
    },
    {
     "name": "stdout",
     "output_type": "stream",
     "text": [
      "HV 0.00000\n"
     ]
    }
   ],
   "source": [
    "from pymoo.indicators.hv import HV\n",
    "\n",
    "pf = res.F # se guarda el frente de pareto\n",
    "A = pf[::7] # se toma una muestra del frente cada 7 soluciones\n",
    "display(A)\n",
    "ref_point = np.array([-120, 6000]) # se pone el punto de referencia (un punto muy malo) como -120 para f1 y 6000 para f2 \n",
    "\n",
    "ind = HV(ref_point=ref_point) # se calcula el indicador del hypervolumen\n",
    "print(\"HV\", '%.5f' % ind(A)) # se imprime el indicador con cinco decimales\n"
   ]
  },
  {
   "attachments": {},
   "cell_type": "markdown",
   "metadata": {},
   "source": [
    "## Visualización de Resultados"
   ]
  },
  {
   "cell_type": "code",
   "execution_count": 1056,
   "metadata": {},
   "outputs": [
    {
     "data": {
      "text/plain": [
       "array([[ 1.52000e+02, -5.12000e+02],\n",
       "       [ 1.64000e+02, -2.74400e+03],\n",
       "       [ 2.12000e+02, -3.93040e+04],\n",
       "       [ 1.48000e+02, -2.16000e+02],\n",
       "       [ 2.60000e+02, -1.75616e+05],\n",
       "       [ 3.12000e+02, -4.74552e+05],\n",
       "       [ 1.96000e+02, -2.19520e+04],\n",
       "       [ 2.92000e+02, -3.43000e+05],\n",
       "       [ 2.88000e+02, -2.87496e+05],\n",
       "       [ 1.40000e+02, -8.00000e+00],\n",
       "       [ 2.28000e+02, -7.40880e+04],\n",
       "       [ 1.20000e+02, -0.00000e+00],\n",
       "       [ 2.28000e+02, -7.40880e+04],\n",
       "       [ 1.92000e+02, -1.38240e+04],\n",
       "       [ 2.24000e+02, -5.48720e+04],\n",
       "       [ 2.16000e+02, -4.66560e+04],\n",
       "       [ 1.52000e+02, -5.12000e+02],\n",
       "       [ 1.84000e+02, -1.06480e+04],\n",
       "       [ 2.16000e+02, -4.66560e+04],\n",
       "       [ 1.72000e+02, -4.09600e+03],\n",
       "       [ 2.68000e+02, -1.95112e+05],\n",
       "       [ 2.48000e+02, -1.25000e+05],\n",
       "       [ 2.80000e+02, -2.62144e+05],\n",
       "       [ 2.76000e+02, -2.38328e+05],\n",
       "       [ 2.44000e+02, -1.10592e+05],\n",
       "       [ 1.60000e+02, -1.00000e+03],\n",
       "       [ 1.96000e+02, -2.19520e+04],\n",
       "       [ 1.80000e+02, -8.00000e+03],\n",
       "       [ 2.04000e+02, -2.70000e+04],\n",
       "       [ 1.84000e+02, -1.06480e+04],\n",
       "       [ 3.00000e+02, -3.73248e+05],\n",
       "       [ 2.80000e+02, -2.62144e+05],\n",
       "       [ 1.64000e+02, -2.74400e+03],\n",
       "       [ 3.08000e+02, -4.38976e+05],\n",
       "       [ 2.60000e+02, -1.75616e+05],\n",
       "       [ 2.56000e+02, -1.40608e+05],\n",
       "       [ 2.36000e+02, -8.51840e+04],\n",
       "       [ 2.48000e+02, -1.25000e+05]])"
      ]
     },
     "metadata": {},
     "output_type": "display_data"
    },
    {
     "data": {
      "text/plain": [
       "<pymoo.visualization.scatter.Scatter at 0x16618900fd0>"
      ]
     },
     "execution_count": 1056,
     "metadata": {},
     "output_type": "execute_result"
    },
    {
     "data": {
      "image/png": "[encoded data removed]",
      "text/plain": [
       "<Figure size 800x600 with 1 Axes>"
      ]
     },
     "metadata": {},
     "output_type": "display_data"
    }
   ],
   "source": [
    "\n",
    "from pymoo.visualization.scatter import Scatter\n",
    "plot = Scatter(title=\"Pareto Front\")\n",
    "plot.add(res.F, color=\"red\")\n",
    "display(res.F)\n",
    "plot.show()"
   ]
  },
  {
   "cell_type": "code",
   "execution_count": 1057,
   "metadata": {},
   "outputs": [
    {
     "data": {
      "text/plain": [
       "38"
      ]
     },
     "execution_count": 1057,
     "metadata": {},
     "output_type": "execute_result"
    }
   ],
   "source": [
    "len(X)"
   ]
  },
  {
   "cell_type": "code",
   "execution_count": 1058,
   "metadata": {},
   "outputs": [
    {
     "data": {
      "text/plain": [
       "array([[ 4,  8,  6],\n",
       "       [ 4, 11,  5],\n",
       "       [ 4, 20,  3],\n",
       "       [ 6,  8,  5],\n",
       "       [ 1, 29,  2],\n",
       "       [ 0, 39,  0],\n",
       "       [ 2, 16,  5],\n",
       "       [ 0, 35,  1],\n",
       "       [ 1, 34,  1],\n",
       "       [ 5,  6,  6],\n",
       "       [ 1, 22,  4],\n",
       "       [ 5,  5,  5],\n",
       "       [ 2, 23,  3],\n",
       "       [ 4, 16,  4],\n",
       "       [ 3, 22,  3],\n",
       "       [ 3, 21,  3],\n",
       "       [ 5,  9,  5],\n",
       "       [ 3, 14,  5],\n",
       "       [ 2, 20,  4],\n",
       "       [ 4, 12,  5],\n",
       "       [ 1, 30,  2],\n",
       "       [ 1, 26,  3],\n",
       "       [ 0, 32,  2],\n",
       "       [ 2, 32,  1],\n",
       "       [ 3, 26,  2],\n",
       "       [ 5, 10,  5],\n",
       "       [ 3, 17,  4],\n",
       "       [ 5, 14,  4],\n",
       "       [ 3, 18,  4],\n",
       "       [ 4, 15,  4],\n",
       "       [ 0, 36,  1],\n",
       "       [ 1, 33,  1],\n",
       "       [ 3, 10,  6],\n",
       "       [ 1, 38,  0],\n",
       "       [ 0, 28,  3],\n",
       "       [ 2, 28,  2],\n",
       "       [ 2, 24,  3],\n",
       "       [ 2, 27,  2]])"
      ]
     },
     "execution_count": 1058,
     "metadata": {},
     "output_type": "execute_result"
    }
   ],
   "source": [
    "X[:]"
   ]
  },
  {
   "cell_type": "code",
   "execution_count": 1059,
   "metadata": {},
   "outputs": [
    {
     "data": {
      "image/png": "[encoded data removed]",
      "text/plain": [
       "<Figure size 700x500 with 1 Axes>"
      ]
     },
     "metadata": {},
     "output_type": "display_data"
    }
   ],
   "source": [
    "approx_ideal = F.min(axis=0)\n",
    "approx_nadir = F.max(axis=0)\n",
    "nF = (F - approx_ideal) / (approx_nadir - approx_ideal)#Normalización del frente de Pareto\n",
    "plt.figure(figsize=(7, 5))\n",
    "plt.scatter(nF[:, 0], nF[:, 1], s=30, facecolors='none', edgecolors='blue')\n",
    "plt.title(\"Fente de Pareto Normalizado\")\n",
    "plt.show()"
   ]
  },
  {
   "attachments": {},
   "cell_type": "markdown",
   "metadata": {},
   "source": [
    "## Mejor resultado por medio de Compromise Programing "
   ]
  },
  {
   "cell_type": "code",
   "execution_count": 1060,
   "metadata": {},
   "outputs": [
    {
     "name": "stdout",
     "output_type": "stream",
     "text": [
      "Best regarding ASF: Point \n",
      "i = 35\n",
      "F = [    256. -140608.]\n",
      "X = [ 2 28  2]\n"
     ]
    },
    {
     "data": {
      "image/png": "[encoded data removed]",
      "text/plain": [
       "<Figure size 700x500 with 1 Axes>"
      ]
     },
     "metadata": {},
     "output_type": "display_data"
    }
   ],
   "source": [
    "from pymoo.decomposition.asf import ASF\n",
    "\n",
    "\n",
    "weights = np.array([0.5, 0.5])#Peso que determina la importacia de las soluciones\n",
    "decomp = ASF()\n",
    "i = decomp.do(nF, 1/weights).argmin()\n",
    "print(\"Best regarding ASF: Point \\ni = %s\\nF = %s\\nX = %s\" % (i, F[i], X[i]))\n",
    "\n",
    "#Se grafica el resultado\n",
    "plt.figure(figsize=(7, 5))\n",
    "plt.scatter(nF[:, 0], nF[:, 1], s=30, facecolors='none', edgecolors='blue')\n",
    "plt.scatter(nF[i, 0], nF[i, 1], marker=\"x\", color=\"red\", s=200)\n",
    "plt.title(\"Frente de Pareto\")\n",
    "plt.show()"
   ]
  },
  {
   "attachments": {},
   "cell_type": "markdown",
   "metadata": {},
   "source": [
    "# Referencias\n",
    "\n",
    "#### https://pymoo.org/getting_started/index.html\n",
    "#### https://pymoo.org/customization/discrete.html\n",
    "#### https://pymoo.org/interface/problem.html\n"
   ]
  }
 ],
 "metadata": {
  "kernelspec": {
   "display_name": "Python 3",
   "language": "python",
   "name": "python3"
  },
  "language_info": {
   "codemirror_mode": {
    "name": "ipython",
    "version": 3
   },
   "file_extension": ".py",
   "mimetype": "text/x-python",
   "name": "python",
   "nbconvert_exporter": "python",
   "pygments_lexer": "ipython3",
   "version": "3.10.11"
  },
  "orig_nbformat": 4
 },
 "nbformat": 4,
 "nbformat_minor": 2
}
