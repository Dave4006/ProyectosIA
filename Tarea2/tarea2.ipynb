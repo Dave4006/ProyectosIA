{
 "cells": [
  {
   "attachments": {},
   "cell_type": "markdown",
   "metadata": {},
   "source": [
    "# Tarea 2\n",
    "## Importación de módulos"
   ]
  },
  {
   "cell_type": "code",
   "execution_count": 1117,
   "metadata": {},
   "outputs": [],
   "source": [
    "import numpy as np\n",
    "from pymoo.core.problem import ElementwiseProblem\n",
    "from IPython.display import display\n",
    "import matplotlib.pyplot as plt\n"
   ]
  },
  {
   "attachments": {},
   "cell_type": "markdown",
   "metadata": {},
   "source": [
    "## Clase del problema"
   ]
  },
  {
   "cell_type": "code",
   "execution_count": 1118,
   "metadata": {},
   "outputs": [],
   "source": [
    "class MyProblem(ElementwiseProblem):\n",
    "    def __init__(self):\n",
    "        super().__init__(n_var=3,#Cantidad de genes por cromosoma\n",
    "                        n_obj=2,#cantidad de funciones objetivo\n",
    "                        xl=0,#Limite inferior del valor del gen\n",
    "                        xu=200)#Limite superior del valor de gen\n",
    "        \n",
    "    def _evaluate(self, x, out, *args, **kwargs):\n",
    "        \n",
    "        # Cantidad de tornos\n",
    "        T = x[0]\n",
    "        # Cantidad de fresadoras\n",
    "        F = x[1]\n",
    "        # Cantidad de multiproposito\n",
    "        M = x[2]\n",
    "        \n",
    "        #Se definen las penalizaciones por el sobrepaso de material \n",
    "        penCab = 280 - (2*T+F+5*M)#Cableado\n",
    "        penM  = 120 - (6*T+3*F+12*M)#Motores\n",
    "        penCar = 670 - (2*T+8*F+4*M)#Carcasas\n",
    "        penA = 250 - (2*T+6*F+6*M)#Actuadores\n",
    "        \n",
    "        penalizaciones = [penCab, penM, penCar, penA] #Vector con las penalizaciones\n",
    "        \n",
    "        pen = 0\n",
    "        #Sumatoria de penalizaciones\n",
    "        for i in range(4):\n",
    "            if penalizaciones[i] < 0:\n",
    "                pen = pen + penalizaciones[i]\n",
    "        \n",
    "        #Funciones objetivo\n",
    "        f1 = -(4*T+8*F+12*M)+pen**2 #Funcion que busca la mayor ganancia\n",
    "        f2 = (abs(T-F)+abs(T-M)+abs(F-M))**3 #Funcion que busca la cantidad de unidades sea uniforme\n",
    "        out[\"F\"] = [f1, f2]\n",
    "        \n",
    "problem = MyProblem()    "
   ]
  },
  {
   "attachments": {},
   "cell_type": "markdown",
   "metadata": {},
   "source": [
    "## Inicialización del algoritmo"
   ]
  },
  {
   "cell_type": "code",
   "execution_count": 1119,
   "metadata": {},
   "outputs": [],
   "source": [
    "from pymoo.algorithms.moo.nsga2 import NSGA2\n",
    "from pymoo.operators.mutation.pm import PM\n",
    "from pymoo.operators.sampling.rnd import IntegerRandomSampling\n",
    "from pymoo.operators.repair.rounding import RoundingRepair\n",
    "from pymoo.operators.crossover.pntx import SinglePointCrossover\n",
    "\n",
    "# Se utiliza el algoritmo NSGA2 \n",
    "#Automaticamente se utiliza un el algoritmo de torneo para la selección del cruzamiento\n",
    "algorithm = NSGA2(pop_size=200,#Numero de la poblacion inicial \n",
    "                sampling=IntegerRandomSampling(),\n",
    "                crossover=SinglePointCrossover(),\n",
    "                mutation=PM(prob=0.05, vtype=float, repair=RoundingRepair()),#Mutacion\n",
    "                eliminate_duplicates = True)"
   ]
  },
  {
   "attachments": {},
   "cell_type": "markdown",
   "metadata": {},
   "source": [
    "## Criterio de parada"
   ]
  },
  {
   "cell_type": "code",
   "execution_count": 1120,
   "metadata": {},
   "outputs": [],
   "source": [
    "from pymoo.termination import get_termination\n",
    "\n",
    "termination = get_termination(\"n_gen\", 100)#Cantidad de generaciones"
   ]
  },
  {
   "attachments": {},
   "cell_type": "markdown",
   "metadata": {},
   "source": [
    "## Optimización"
   ]
  },
  {
   "cell_type": "code",
   "execution_count": 1121,
   "metadata": {},
   "outputs": [
    {
     "name": "stdout",
     "output_type": "stream",
     "text": [
      "==========================================================\n",
      "n_gen  |  n_eval  | n_nds  |      eps      |   indicator  \n",
      "==========================================================\n",
      "     1 |      200 |      4 |             - |             -\n",
      "     2 |      400 |      3 |  0.1750599520 |         ideal\n",
      "     3 |      600 |      5 |  0.0073156682 |         ideal\n",
      "     4 |      800 |      6 |  0.0118397086 |         ideal\n",
      "     5 |     1000 |      3 |  0.0714285714 |         ideal\n",
      "     6 |     1200 |      5 |  0.2222222222 |         ideal\n",
      "     7 |     1400 |      8 |  0.0270270270 |         nadir\n",
      "     8 |     1600 |     10 |  0.0136860658 |             f\n",
      "     9 |     1800 |     10 |  0.0136340581 |             f\n",
      "    10 |     2000 |     13 |  0.0263435546 |             f\n",
      "    11 |     2200 |     16 |  0.9880035665 |         nadir\n",
      "    12 |     2400 |     18 |  5.831250E+01 |         nadir\n",
      "    13 |     2600 |     22 |  0.0055697199 |             f\n",
      "    14 |     2800 |     23 |  0.0116047926 |             f\n",
      "    15 |     3000 |     24 |  0.0002003205 |             f\n",
      "    16 |     3200 |     24 |  0.0021374719 |             f\n",
      "    17 |     3400 |     26 |  0.0034525090 |             f\n",
      "    18 |     3600 |     28 |  0.0035234570 |             f\n",
      "    19 |     3800 |     27 |  0.1034482759 |         ideal\n",
      "    20 |     4000 |     27 |  0.0061214412 |             f\n",
      "    21 |     4200 |     29 |  0.0169491525 |         ideal\n",
      "    22 |     4400 |     28 |  0.0004539952 |             f\n",
      "    23 |     4600 |     30 |  0.2553191489 |         nadir\n",
      "    24 |     4800 |     31 |  0.0013923829 |             f\n",
      "    25 |     5000 |     31 |  0.0034873856 |             f\n",
      "    26 |     5200 |     31 |  0.000000E+00 |             f\n",
      "    27 |     5400 |     31 |  0.000000E+00 |             f\n",
      "    28 |     5600 |     31 |  0.000000E+00 |             f\n",
      "    29 |     5800 |     31 |  0.000000E+00 |             f\n",
      "    30 |     6000 |     32 |  0.0006648936 |             f\n",
      "    31 |     6200 |     32 |  0.0006648936 |             f\n",
      "    32 |     6400 |     32 |  0.0006648936 |             f\n",
      "    33 |     6600 |     32 |  0.0006648936 |             f\n",
      "    34 |     6800 |     32 |  0.0006648936 |             f\n",
      "    35 |     7000 |     32 |  0.0006648936 |             f\n",
      "    36 |     7200 |     32 |  0.0006648936 |             f\n",
      "    37 |     7400 |     32 |  0.0006648936 |             f\n",
      "    38 |     7600 |     32 |  0.0006648936 |             f\n",
      "    39 |     7800 |     32 |  0.0013356248 |             f\n",
      "    40 |     8000 |     32 |  0.0013356248 |             f\n",
      "    41 |     8200 |     32 |  0.0013356248 |             f\n",
      "    42 |     8400 |     32 |  0.0013356248 |             f\n",
      "    43 |     8600 |     32 |  0.0013356248 |             f\n",
      "    44 |     8800 |     32 |  0.0013356248 |             f\n",
      "    45 |     9000 |     32 |  0.0013356248 |             f\n",
      "    46 |     9200 |     33 |  0.0025975337 |             f\n",
      "    47 |     9400 |     33 |  0.000000E+00 |             f\n",
      "    48 |     9600 |     34 |  0.0030414303 |             f\n",
      "    49 |     9800 |     34 |  0.000000E+00 |             f\n",
      "    50 |    10000 |     34 |  0.000000E+00 |             f\n",
      "    51 |    10200 |     34 |  0.000000E+00 |             f\n",
      "    52 |    10400 |     34 |  0.000000E+00 |             f\n",
      "    53 |    10600 |     34 |  0.0007822278 |             f\n",
      "    54 |    10800 |     34 |  0.0007822278 |             f\n",
      "    55 |    11000 |     34 |  0.0007822278 |             f\n",
      "    56 |    11200 |     34 |  0.0007822278 |             f\n",
      "    57 |    11400 |     34 |  0.0007822278 |             f\n",
      "    58 |    11600 |     33 |  0.0020957576 |             f\n",
      "    59 |    11800 |     33 |  0.0020957576 |             f\n",
      "    60 |    12000 |     33 |  0.0020957576 |             f\n",
      "    61 |    12200 |     33 |  0.0020957576 |             f\n",
      "    62 |    12400 |     33 |  0.0020957576 |             f\n",
      "    63 |    12600 |     34 |  0.0042273429 |             f\n",
      "    64 |    12800 |     32 |  0.0006648936 |             f\n",
      "    65 |    13000 |     32 |  0.0013297872 |             f\n",
      "    66 |    13200 |     32 |  0.0013297872 |             f\n",
      "    67 |    13400 |     31 |  0.0020590254 |             f\n",
      "    68 |    13600 |     31 |  0.0020590254 |             f\n",
      "    69 |    13800 |     31 |  0.0020590254 |             f\n",
      "    70 |    14000 |     31 |  0.0020590254 |             f\n",
      "    71 |    14200 |     31 |  0.0020590254 |             f\n",
      "    72 |    14400 |     31 |  0.0020590254 |             f\n",
      "    73 |    14600 |     31 |  0.0020590254 |             f\n",
      "    74 |    14800 |     31 |  0.0020590254 |             f\n",
      "    75 |    15000 |     31 |  0.0020590254 |             f\n",
      "    76 |    15200 |     31 |  0.0020590254 |             f\n",
      "    77 |    15400 |     31 |  0.0020590254 |             f\n",
      "    78 |    15600 |     31 |  0.0020590254 |             f\n",
      "    79 |    15800 |     31 |  0.0020590254 |             f\n",
      "    80 |    16000 |     31 |  0.0020590254 |             f\n",
      "    81 |    16200 |     31 |  0.0020590254 |             f\n",
      "    82 |    16400 |     31 |  0.0020590254 |             f\n",
      "    83 |    16600 |     32 |  0.0600000000 |         ideal\n",
      "    84 |    16800 |     32 |  0.000000E+00 |             f\n",
      "    85 |    17000 |     32 |  0.000000E+00 |             f\n",
      "    86 |    17200 |     32 |  0.000000E+00 |             f\n",
      "    87 |    17400 |     32 |  0.000000E+00 |             f\n",
      "    88 |    17600 |     32 |  0.000000E+00 |             f\n",
      "    89 |    17800 |     32 |  0.000000E+00 |             f\n",
      "    90 |    18000 |     32 |  0.000000E+00 |             f\n",
      "    91 |    18200 |     32 |  0.000000E+00 |             f\n",
      "    92 |    18400 |     32 |  0.000000E+00 |             f\n",
      "    93 |    18600 |     32 |  0.000000E+00 |             f\n",
      "    94 |    18800 |     33 |  0.000000E+00 |             f\n",
      "    95 |    19000 |     33 |  0.000000E+00 |             f\n",
      "    96 |    19200 |     34 |  0.000000E+00 |             f\n",
      "    97 |    19400 |     34 |  0.000000E+00 |             f\n",
      "    98 |    19600 |     34 |  0.000000E+00 |             f\n",
      "    99 |    19800 |     35 |  0.000000E+00 |             f\n",
      "   100 |    20000 |     35 |  0.000000E+00 |             f\n"
     ]
    },
    {
     "data": {
      "text/plain": [
       "array([[ 2.48000e+02, -1.25000e+05],\n",
       "       [ 2.80000e+02, -2.62144e+05],\n",
       "       [ 2.56000e+02, -1.40608e+05],\n",
       "       [ 2.04000e+02, -2.70000e+04],\n",
       "       [ 1.96000e+02, -2.19520e+04],\n",
       "       [ 2.60000e+02, -1.75616e+05],\n",
       "       [ 2.16000e+02, -4.66560e+04],\n",
       "       [ 1.96000e+02, -2.19520e+04],\n",
       "       [ 2.60000e+02, -1.75616e+05],\n",
       "       [ 2.68000e+02, -1.95112e+05],\n",
       "       [ 1.92000e+02, -1.38240e+04],\n",
       "       [ 2.28000e+02, -7.40880e+04],\n",
       "       [ 2.72000e+02, -2.38328e+05],\n",
       "       [ 1.60000e+02, -1.00000e+03],\n",
       "       [ 2.36000e+02, -8.51840e+04],\n",
       "       [ 2.12000e+02, -3.93040e+04],\n",
       "       [ 1.48000e+02, -2.16000e+02],\n",
       "       [ 3.08000e+02, -4.38976e+05],\n",
       "       [ 1.64000e+02, -2.74400e+03],\n",
       "       [ 2.16000e+02, -4.66560e+04],\n",
       "       [ 1.20000e+02, -0.00000e+00],\n",
       "       [ 2.28000e+02, -7.40880e+04],\n",
       "       [ 1.84000e+02, -1.06480e+04],\n",
       "       [ 2.88000e+02, -2.87496e+05],\n",
       "       [ 1.72000e+02, -4.09600e+03],\n",
       "       [ 2.24000e+02, -5.48720e+04],\n",
       "       [ 1.76000e+02, -8.00000e+03],\n",
       "       [ 1.52000e+02, -5.12000e+02],\n",
       "       [ 1.40000e+02, -8.00000e+00],\n",
       "       [ 2.44000e+02, -1.10592e+05],\n",
       "       [ 3.00000e+02, -3.73248e+05],\n",
       "       [ 3.20000e+02, -5.12000e+05],\n",
       "       [ 1.76000e+02, -8.00000e+03],\n",
       "       [ 1.52000e+02, -5.12000e+02],\n",
       "       [ 2.72000e+02, -2.38328e+05]])"
      ]
     },
     "execution_count": 1121,
     "metadata": {},
     "output_type": "execute_result"
    }
   ],
   "source": [
    "from pymoo.optimize import minimize\n",
    "#Se utiliza una funcion de minimización para minimizar las funciones objetivo\n",
    "res = minimize(problem,\n",
    "            algorithm,\n",
    "            termination,\n",
    "            save_history=True,\n",
    "            verbose=True)\n",
    "\n",
    "X = res.X #Vector de soluciones\n",
    "res.F = res.F*-1\n",
    "F = res.F #Vector con las calidades de cada individuo\n",
    "hist = res.history\n",
    "#len(F)\n",
    "F\n"
   ]
  },
  {
   "attachments": {},
   "cell_type": "markdown",
   "metadata": {},
   "source": [
    "## Convergencia de Cada Objetivo"
   ]
  },
  {
   "cell_type": "code",
   "execution_count": 1122,
   "metadata": {},
   "outputs": [
    {
     "data": {
      "text/plain": [
       "array([[0.64      , 0.75585938],\n",
       "       [0.38      , 0.957125  ],\n",
       "       [0.58      , 0.833625  ],\n",
       "       [0.54      , 0.85529687],\n",
       "       [0.1       , 0.99998438]])"
      ]
     },
     "metadata": {},
     "output_type": "display_data"
    },
    {
     "name": "stdout",
     "output_type": "stream",
     "text": [
      "HV 0.37935\n"
     ]
    }
   ],
   "source": [
    "from pymoo.indicators.hv import HV\n",
    "approx_ideal = F.min(axis=0)\n",
    "approx_nadir = F.max(axis=0)\n",
    "nF = (F - approx_ideal) / (approx_nadir - approx_ideal)#Normalización del frente de Pareto\n",
    "A = nF[::7] # se toma una muestra del frente cada 7 soluciones\n",
    "display(A)\n",
    "ref_point = np.array([1.2, 1.2]) # se pone el punto de referencia (un punto muy malo) como -120 para f1 y 6000 para f2 \n",
    "\n",
    "ind = HV(ref_point=ref_point) # se calcula el indicador del hypervolumen\n",
    "print(\"HV\", '%.5f' % ind(A)) # se imprime el indicador con cinco decimales\n"
   ]
  },
  {
   "attachments": {},
   "cell_type": "markdown",
   "metadata": {},
   "source": [
    "## Visualización de Resultados"
   ]
  },
  {
   "cell_type": "code",
   "execution_count": 1123,
   "metadata": {},
   "outputs": [
    {
     "data": {
      "text/plain": [
       "array([[ 2.48000e+02, -1.25000e+05],\n",
       "       [ 2.80000e+02, -2.62144e+05],\n",
       "       [ 2.56000e+02, -1.40608e+05],\n",
       "       [ 2.04000e+02, -2.70000e+04],\n",
       "       [ 1.96000e+02, -2.19520e+04],\n",
       "       [ 2.60000e+02, -1.75616e+05],\n",
       "       [ 2.16000e+02, -4.66560e+04],\n",
       "       [ 1.96000e+02, -2.19520e+04],\n",
       "       [ 2.60000e+02, -1.75616e+05],\n",
       "       [ 2.68000e+02, -1.95112e+05],\n",
       "       [ 1.92000e+02, -1.38240e+04],\n",
       "       [ 2.28000e+02, -7.40880e+04],\n",
       "       [ 2.72000e+02, -2.38328e+05],\n",
       "       [ 1.60000e+02, -1.00000e+03],\n",
       "       [ 2.36000e+02, -8.51840e+04],\n",
       "       [ 2.12000e+02, -3.93040e+04],\n",
       "       [ 1.48000e+02, -2.16000e+02],\n",
       "       [ 3.08000e+02, -4.38976e+05],\n",
       "       [ 1.64000e+02, -2.74400e+03],\n",
       "       [ 2.16000e+02, -4.66560e+04],\n",
       "       [ 1.20000e+02, -0.00000e+00],\n",
       "       [ 2.28000e+02, -7.40880e+04],\n",
       "       [ 1.84000e+02, -1.06480e+04],\n",
       "       [ 2.88000e+02, -2.87496e+05],\n",
       "       [ 1.72000e+02, -4.09600e+03],\n",
       "       [ 2.24000e+02, -5.48720e+04],\n",
       "       [ 1.76000e+02, -8.00000e+03],\n",
       "       [ 1.52000e+02, -5.12000e+02],\n",
       "       [ 1.40000e+02, -8.00000e+00],\n",
       "       [ 2.44000e+02, -1.10592e+05],\n",
       "       [ 3.00000e+02, -3.73248e+05],\n",
       "       [ 3.20000e+02, -5.12000e+05],\n",
       "       [ 1.76000e+02, -8.00000e+03],\n",
       "       [ 1.52000e+02, -5.12000e+02],\n",
       "       [ 2.72000e+02, -2.38328e+05]])"
      ]
     },
     "metadata": {},
     "output_type": "display_data"
    },
    {
     "data": {
      "text/plain": [
       "<pymoo.visualization.scatter.Scatter at 0x16602371f90>"
      ]
     },
     "execution_count": 1123,
     "metadata": {},
     "output_type": "execute_result"
    },
    {
     "data": {
      "image/png": "[encoded data removed]",
      "text/plain": [
       "<Figure size 800x600 with 1 Axes>"
      ]
     },
     "metadata": {},
     "output_type": "display_data"
    }
   ],
   "source": [
    "\n",
    "from pymoo.visualization.scatter import Scatter\n",
    "plot = Scatter(title=\"Pareto Front\")\n",
    "plot.add(res.F, color=\"red\")\n",
    "display(res.F)\n",
    "plot.show()"
   ]
  },
  {
   "cell_type": "code",
   "execution_count": 1124,
   "metadata": {},
   "outputs": [
    {
     "data": {
      "text/plain": [
       "35"
      ]
     },
     "execution_count": 1124,
     "metadata": {},
     "output_type": "execute_result"
    }
   ],
   "source": [
    "len(X)"
   ]
  },
  {
   "cell_type": "code",
   "execution_count": 1125,
   "metadata": {},
   "outputs": [
    {
     "data": {
      "text/plain": [
       "array([[ 2, 27,  2],\n",
       "       [ 1, 33,  1],\n",
       "       [ 2, 28,  2],\n",
       "       [ 3, 18,  4],\n",
       "       [ 3, 17,  4],\n",
       "       [ 0, 28,  3],\n",
       "       [ 2, 20,  4],\n",
       "       [ 2, 16,  5],\n",
       "       [ 1, 29,  2],\n",
       "       [ 1, 30,  2],\n",
       "       [ 4, 16,  4],\n",
       "       [ 1, 22,  4],\n",
       "       [ 0, 31,  2],\n",
       "       [ 5, 10,  5],\n",
       "       [ 2, 24,  3],\n",
       "       [ 4, 20,  3],\n",
       "       [ 6,  8,  5],\n",
       "       [ 1, 38,  0],\n",
       "       [ 4, 11,  5],\n",
       "       [ 3, 21,  3],\n",
       "       [ 5,  5,  5],\n",
       "       [ 2, 23,  3],\n",
       "       [ 4, 15,  4],\n",
       "       [ 1, 34,  1],\n",
       "       [ 4, 12,  5],\n",
       "       [ 3, 22,  3],\n",
       "       [ 2, 12,  6],\n",
       "       [ 5,  9,  5],\n",
       "       [ 5,  6,  6],\n",
       "       [ 3, 26,  2],\n",
       "       [ 0, 36,  1],\n",
       "       [ 0, 40,  0],\n",
       "       [ 3, 13,  5],\n",
       "       [ 4,  8,  6],\n",
       "       [ 1, 32,  1]])"
      ]
     },
     "execution_count": 1125,
     "metadata": {},
     "output_type": "execute_result"
    }
   ],
   "source": [
    "X[:]"
   ]
  },
  {
   "cell_type": "code",
   "execution_count": 1126,
   "metadata": {},
   "outputs": [
    {
     "data": {
      "image/png": "[encoded data removed]",
      "text/plain": [
       "<Figure size 700x500 with 1 Axes>"
      ]
     },
     "metadata": {},
     "output_type": "display_data"
    }
   ],
   "source": [
    "approx_ideal = F.min(axis=0)\n",
    "approx_nadir = F.max(axis=0)\n",
    "nF = (F - approx_ideal) / (approx_nadir - approx_ideal)#Normalización del frente de Pareto\n",
    "plt.figure(figsize=(7, 5))\n",
    "plt.scatter(nF[:, 0], nF[:, 1], s=30, facecolors='none', edgecolors='blue')\n",
    "plt.title(\"Fente de Pareto Normalizado\")\n",
    "plt.show()"
   ]
  },
  {
   "attachments": {},
   "cell_type": "markdown",
   "metadata": {},
   "source": [
    "## Mejor resultado por medio de Compromise Programing "
   ]
  },
  {
   "cell_type": "code",
   "execution_count": 1127,
   "metadata": {},
   "outputs": [
    {
     "name": "stdout",
     "output_type": "stream",
     "text": [
      "Best regarding ASF: Point \n",
      "i = 5\n",
      "F = [    260. -175616.]\n",
      "X = [ 0 28  3]\n"
     ]
    },
    {
     "data": {
      "image/png": "[encoded data removed]",
      "text/plain": [
       "<Figure size 700x500 with 1 Axes>"
      ]
     },
     "metadata": {},
     "output_type": "display_data"
    }
   ],
   "source": [
    "from pymoo.decomposition.asf import ASF\n",
    "\n",
    "\n",
    "weights = np.array([0.5, 0.5])#Peso que determina la importacia de las soluciones\n",
    "decomp = ASF()\n",
    "i = decomp.do(nF, 1/weights).argmin()\n",
    "print(\"Best regarding ASF: Point \\ni = %s\\nF = %s\\nX = %s\" % (i, F[i], X[i]))\n",
    "\n",
    "#Se grafica el resultado\n",
    "plt.figure(figsize=(7, 5))\n",
    "plt.scatter(nF[:, 0], nF[:, 1], s=30, facecolors='none', edgecolors='blue')\n",
    "plt.scatter(nF[i, 0], nF[i, 1], marker=\"x\", color=\"red\", s=200)\n",
    "plt.title(\"Frente de Pareto\")\n",
    "plt.show()"
   ]
  },
  {
   "attachments": {},
   "cell_type": "markdown",
   "metadata": {},
   "source": [
    "# Referencias\n",
    "\n",
    "#### https://pymoo.org/getting_started/index.html\n",
    "#### https://pymoo.org/customization/discrete.html\n",
    "#### https://pymoo.org/interface/problem.html\n"
   ]
  }
 ],
 "metadata": {
  "kernelspec": {
   "display_name": "Python 3",
   "language": "python",
   "name": "python3"
  },
  "language_info": {
   "codemirror_mode": {
    "name": "ipython",
    "version": 3
   },
   "file_extension": ".py",
   "mimetype": "text/x-python",
   "name": "python",
   "nbconvert_exporter": "python",
   "pygments_lexer": "ipython3",
   "version": "3.10.11"
  },
  "orig_nbformat": 4
 },
 "nbformat": 4,
 "nbformat_minor": 2
}
