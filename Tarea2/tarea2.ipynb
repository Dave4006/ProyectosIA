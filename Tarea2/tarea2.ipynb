{
 "cells": [
  {
   "attachments": {},
   "cell_type": "markdown",
   "metadata": {},
   "source": [
    "# Tarea 2\n",
    "## Importación de módulos"
   ]
  },
  {
   "cell_type": "code",
   "execution_count": 9,
   "metadata": {},
   "outputs": [],
   "source": [
    "import numpy as np\n",
    "from pymoo.core.problem import ElementwiseProblem\n",
    "from IPython.display import display\n",
    "import matplotlib.pyplot as plt"
   ]
  },
  {
   "attachments": {},
   "cell_type": "markdown",
   "metadata": {},
   "source": [
    "## Clase del problema"
   ]
  },
  {
   "cell_type": "code",
   "execution_count": 10,
   "metadata": {},
   "outputs": [],
   "source": [
    "# Se crea una clase para definir el problema ya que pymoo funciona con POO. \n",
    "# Se usa un problema ElementWise para que se califique cada solución y no se haga en conjuntos.\n",
    "class MyProblem(ElementwiseProblem):\n",
    "    # constructor de la clase, recibe la cantidad de genes del cromosoma (n_var), \n",
    "    # la cantidad de funciones objetivo (n_obj), \n",
    "    # límite inferior de los genes (xl) y el límite superior (xu)\n",
    "    def __init__(self):\n",
    "        super().__init__(n_var=3,\n",
    "                        n_obj=2,\n",
    "                        xl=0,\n",
    "                        xu=200)\n",
    "    # Esta función guarda la definición del cromosoma y las funciones objetivo\n",
    "    def _evaluate(self, x, out, *args, **kwargs):\n",
    "        \n",
    "        # Cantidad de tornos\n",
    "        T = x[0]\n",
    "        # Cantidad de fresadoras\n",
    "        F = x[1]\n",
    "        # Cantidad de multiproposito\n",
    "        M = x[2]\n",
    "        \n",
    "        #Se definen las penalizaciones por el sobrepaso de material\n",
    "\n",
    "        #Cableado\n",
    "        penCab = 280 - (2*T+F+5*M)\n",
    "        #Motores\n",
    "        penM  = 120 - (6*T+3*F+12*M)\n",
    "        #Carcasas\n",
    "        penCar = 670 - (2*T+8*F+4*M)\n",
    "        #Actuadores\n",
    "        penA = 250 - (2*T+6*F+6*M)\n",
    "        \n",
    "        #Vector con las penalizaciones\n",
    "        penalizaciones = [penCab, penM, penCar, penA] \n",
    "        \n",
    "        pen = 0\n",
    "        \n",
    "        #Sumatoria de penalizaciones y se filtran aquellas que sean números naturales o cero.\n",
    "        for i in range(4):\n",
    "            if penalizaciones[i] < 0:\n",
    "                pen = pen + penalizaciones[i]\n",
    "        \n",
    "        #Funcion objetivo de la ganancia\n",
    "        f1 = -(4*T+8*F+12*M)+15*pen**2 \n",
    "        #Funcion objetivo de la producción\n",
    "        f2 = (abs(T-F)+abs(T-M)+abs(F-M))**3\n",
    "        \n",
    "        out[\"F\"] = [f1, f2]\n",
    "        \n",
    "problem = MyProblem()    "
   ]
  },
  {
   "attachments": {},
   "cell_type": "markdown",
   "metadata": {},
   "source": [
    "## Inicialización del algoritmo"
   ]
  },
  {
   "cell_type": "code",
   "execution_count": 11,
   "metadata": {},
   "outputs": [],
   "source": [
    "from pymoo.algorithms.moo.nsga2 import NSGA2\n",
    "from pymoo.operators.mutation.pm import PM\n",
    "from pymoo.operators.sampling.rnd import IntegerRandomSampling\n",
    "from pymoo.operators.repair.rounding import RoundingRepair\n",
    "from pymoo.operators.crossover.pntx import SinglePointCrossover\n",
    "\n",
    "# Se utiliza el algoritmo NSGA2, para la selección de individuos para el cruce se usa por defecto un algoritmo de torneo binario\n",
    "# La población es de 200\n",
    "algorithm = NSGA2(pop_size=200, \n",
    "                # Se escogen solo números enteros para los genes\n",
    "                sampling=IntegerRandomSampling(),\n",
    "                # Se usa como algoritmo de cruce un punto variable con un corte.\n",
    "                crossover=SinglePointCrossover(),\n",
    "                # La mutación es un algoritmo de mutación polinómica con una probabilidd de 5%.\n",
    "                mutation=PM(prob=0.05, vtype=float, repair=RoundingRepair()),\n",
    "                # Se eliminan las soluciones dobles.\n",
    "                eliminate_duplicates = True)"
   ]
  },
  {
   "attachments": {},
   "cell_type": "markdown",
   "metadata": {},
   "source": [
    "## Criterio de parada"
   ]
  },
  {
   "cell_type": "code",
   "execution_count": 12,
   "metadata": {},
   "outputs": [],
   "source": [
    "from pymoo.termination import get_termination\n",
    "# El agoritmo para cuando ya ha corrido 100 generaciones\n",
    "termination = get_termination(\"n_gen\", 100)"
   ]
  },
  {
   "attachments": {},
   "cell_type": "markdown",
   "metadata": {},
   "source": [
    "## Optimización y Normalización"
   ]
  },
  {
   "cell_type": "code",
   "execution_count": 13,
   "metadata": {},
   "outputs": [
    {
     "name": "stdout",
     "output_type": "stream",
     "text": [
      "==========================================================\n",
      "n_gen  |  n_eval  | n_nds  |      eps      |   indicator  \n",
      "==========================================================\n",
      "     1 |      200 |      4 |             - |             -\n",
      "     2 |      400 |      7 |  0.2984962406 |         nadir\n",
      "     3 |      600 |      6 |  0.5530579477 |         nadir\n",
      "     4 |      800 |      6 |  0.0668987074 |             f\n",
      "     5 |     1000 |      6 |  0.0550902392 |             f\n",
      "     6 |     1200 |      3 |  5.755556E+01 |         nadir\n",
      "     7 |     1400 |      3 |  0.0096153846 |         ideal\n",
      "     8 |     1600 |      3 |  0.000000E+00 |             f\n",
      "     9 |     1800 |      4 |  0.0402276464 |             f\n",
      "    10 |     2000 |      6 |  0.8222222222 |         nadir\n",
      "    11 |     2200 |      8 |  0.6153846154 |         nadir\n",
      "    12 |     2400 |      9 |  9.8609961573 |         nadir\n",
      "    13 |     2600 |     10 |  0.8885961735 |         nadir\n",
      "    14 |     2800 |     10 |  0.0132823041 |             f\n",
      "    15 |     3000 |     11 |  0.7009086709 |         nadir\n",
      "    16 |     3200 |     11 |  0.000000E+00 |             f\n",
      "    17 |     3400 |     11 |  0.0001994706 |             f\n",
      "    18 |     3600 |     13 |  0.0053467303 |             f\n",
      "    19 |     3800 |     13 |  3.958167E+02 |         nadir\n",
      "    20 |     4000 |     13 |  0.0034188034 |             f\n",
      "    21 |     4200 |     15 |  0.3137890077 |         nadir\n",
      "    22 |     4400 |     16 |  0.0816326531 |         ideal\n",
      "    23 |     4600 |     16 |  0.000000E+00 |             f\n",
      "    24 |     4800 |     19 |  0.0179214686 |             f\n",
      "    25 |     5000 |     19 |  0.0010741139 |             f\n",
      "    26 |     5200 |     19 |  0.2714120370 |         nadir\n",
      "    27 |     5400 |     19 |  0.000000E+00 |             f\n",
      "    28 |     5600 |     19 |  0.3243243243 |         nadir\n",
      "    29 |     5800 |     21 |  0.0263157895 |         ideal\n",
      "    30 |     6000 |     21 |  0.000000E+00 |             f\n",
      "    31 |     6200 |     22 |  0.0500000000 |         ideal\n",
      "    32 |     6400 |     24 |  0.1666666667 |         ideal\n",
      "    33 |     6600 |     24 |  0.000000E+00 |             f\n",
      "    34 |     6800 |     26 |  0.0062476667 |             f\n",
      "    35 |     7000 |     26 |  0.0588235294 |         ideal\n",
      "    36 |     7200 |     26 |  0.000000E+00 |             f\n",
      "    37 |     7400 |     26 |  0.000000E+00 |             f\n",
      "    38 |     7600 |     26 |  0.0008474782 |             f\n",
      "    39 |     7800 |     26 |  0.0008474782 |             f\n",
      "    40 |     8000 |     27 |  0.0085558570 |             f\n",
      "    41 |     8200 |     27 |  0.000000E+00 |             f\n",
      "    42 |     8400 |     27 |  0.000000E+00 |             f\n",
      "    43 |     8600 |     28 |  0.0021008403 |             f\n",
      "    44 |     8800 |     28 |  0.0021008403 |             f\n",
      "    45 |     9000 |     28 |  0.0021008403 |             f\n",
      "    46 |     9200 |     24 |  0.0025385004 |             f\n",
      "    47 |     9400 |     24 |  0.000000E+00 |             f\n",
      "    48 |     9600 |     24 |  0.000000E+00 |             f\n",
      "    49 |     9800 |     25 |  0.000000E+00 |             f\n",
      "    50 |    10000 |     25 |  0.000000E+00 |             f\n",
      "    51 |    10200 |     25 |  0.000000E+00 |             f\n",
      "    52 |    10400 |     26 |  0.0007547644 |             f\n",
      "    53 |    10600 |     27 |  0.0014991004 |             f\n",
      "    54 |    10800 |     27 |  0.0014991004 |             f\n",
      "    55 |    11000 |     28 |  0.0021464138 |             f\n",
      "    56 |    11200 |     27 |  0.0049956447 |             f\n",
      "    57 |    11400 |     27 |  0.000000E+00 |             f\n",
      "    58 |    11600 |     25 |  0.0007881845 |             f\n",
      "    59 |    11800 |     25 |  0.0007881845 |             f\n",
      "    60 |    12000 |     25 |  0.0007881845 |             f\n",
      "    61 |    12200 |     25 |  0.1333333333 |         nadir\n",
      "    62 |    12400 |     26 |  0.0031219772 |             f\n",
      "    63 |    12600 |     26 |  0.000000E+00 |             f\n",
      "    64 |    12800 |     26 |  0.000000E+00 |             f\n",
      "    65 |    13000 |     26 |  0.000000E+00 |             f\n",
      "    66 |    13200 |     26 |  0.000000E+00 |             f\n",
      "    67 |    13400 |     26 |  0.000000E+00 |             f\n",
      "    68 |    13600 |     26 |  0.000000E+00 |             f\n",
      "    69 |    13800 |     28 |  0.0022791080 |             f\n",
      "    70 |    14000 |     28 |  0.0022791080 |             f\n",
      "    71 |    14200 |     28 |  0.0022791080 |             f\n",
      "    72 |    14400 |     28 |  0.0022791080 |             f\n",
      "    73 |    14600 |     28 |  0.0022791080 |             f\n",
      "    74 |    14800 |     29 |  0.0044723099 |             f\n",
      "    75 |    15000 |     29 |  0.000000E+00 |             f\n",
      "    76 |    15200 |     29 |  0.000000E+00 |             f\n",
      "    77 |    15400 |     29 |  0.0007662835 |             f\n",
      "    78 |    15600 |     29 |  0.0007662835 |             f\n",
      "    79 |    15800 |     29 |  0.0007662835 |             f\n",
      "    80 |    16000 |     29 |  0.0025018600 |             f\n",
      "    81 |    16200 |     29 |  0.000000E+00 |             f\n",
      "    82 |    16400 |     29 |  0.000000E+00 |             f\n",
      "    83 |    16600 |     29 |  0.000000E+00 |             f\n",
      "    84 |    16800 |     29 |  0.000000E+00 |             f\n",
      "    85 |    17000 |     30 |  0.000000E+00 |             f\n",
      "    86 |    17200 |     30 |  0.000000E+00 |             f\n",
      "    87 |    17400 |     30 |  0.000000E+00 |             f\n",
      "    88 |    17600 |     30 |  0.000000E+00 |             f\n",
      "    89 |    17800 |     30 |  0.000000E+00 |             f\n",
      "    90 |    18000 |     30 |  0.000000E+00 |             f\n",
      "    91 |    18200 |     30 |  0.0007407407 |             f\n",
      "    92 |    18400 |     31 |  0.0425531915 |         ideal\n",
      "    93 |    18600 |     32 |  0.000000E+00 |             f\n",
      "    94 |    18800 |     33 |  0.000000E+00 |             f\n",
      "    95 |    19000 |     35 |  0.000000E+00 |             f\n",
      "    96 |    19200 |     35 |  0.000000E+00 |             f\n",
      "    97 |    19400 |     35 |  0.000000E+00 |             f\n",
      "    98 |    19600 |     35 |  0.000000E+00 |             f\n",
      "    99 |    19800 |     35 |  0.000000E+00 |             f\n",
      "   100 |    20000 |     35 |  0.000000E+00 |             f\n"
     ]
    }
   ],
   "source": [
    "from pymoo.optimize import minimize\n",
    "#Se utiliza una funcion de minimización para minimizar las funciones objetivo\n",
    "res = minimize(problem,\n",
    "            algorithm,\n",
    "            termination,\n",
    "            save_history=True,\n",
    "            verbose=True)\n",
    "\n",
    "# Vector que guarda la mejor solución por generación\n",
    "X = res.X\n",
    "# Se cambia el signo de los resultados de las funciones para que la gráfica quede con los datos reales\n",
    "res.F = res.F*-1\n",
    "# Vector que guarda el frente de pareto\n",
    "F = res.F\n",
    "\n",
    "#Normalización del resultado\n",
    "\n",
    "approx_ideal = F.min(axis=0)\n",
    "approx_nadir = F.max(axis=0)\n",
    "#Normalización del frente de Pareto, con una normalización min-max\n",
    "nF = (F - approx_ideal) / (approx_nadir - approx_ideal)"
   ]
  },
  {
   "attachments": {},
   "cell_type": "markdown",
   "metadata": {},
   "source": [
    "## Convergencia de Cada Objetivo"
   ]
  },
  {
   "cell_type": "code",
   "execution_count": 14,
   "metadata": {},
   "outputs": [
    {
     "name": "stdout",
     "output_type": "stream",
     "text": [
      "HV 0.43273\n"
     ]
    }
   ],
   "source": [
    "from pymoo.indicators.hv import HV\n",
    "\n",
    "# Se toma una muestra del frente cada 7 soluciones\n",
    "A = nF[::7] \n",
    "# Se pone el punto de referencia (un punto muy malo) como -120 para f1 y 6000 para f2 \n",
    "ref_point = np.array([1.2, 1.2])\n",
    "# Se calcula el indicador del hipervolumen\n",
    "ind = HV(ref_point=ref_point)\n",
    "# Se imprime el indicador con cinco decimales\n",
    "print(\"HV\", '%.5f' % ind(A)) \n"
   ]
  },
  {
   "attachments": {},
   "cell_type": "markdown",
   "metadata": {},
   "source": [
    "## Visualización de Resultados y Mejor resultado por medio de Compromise Programing "
   ]
  },
  {
   "cell_type": "code",
   "execution_count": 19,
   "metadata": {},
   "outputs": [
    {
     "name": "stdout",
     "output_type": "stream",
     "text": [
      "Best regarding ASF: Point \n",
      "i = 8\n",
      "F = [    248. -125000.]\n",
      "X = [ 1 26  3]\n"
     ]
    },
    {
     "data": {
      "image/png": "[encoded data removed]",
      "text/plain": [
       "<Figure size 640x480 with 1 Axes>"
      ]
     },
     "metadata": {},
     "output_type": "display_data"
    },
    {
     "data": {
      "text/plain": [
       "<pymoo.visualization.scatter.Scatter at 0x1f688186a70>"
      ]
     },
     "execution_count": 19,
     "metadata": {},
     "output_type": "execute_result"
    },
    {
     "data": {
      "image/png": "[encoded data removed]",
      "text/plain": [
       "<Figure size 800x600 with 1 Axes>"
      ]
     },
     "metadata": {},
     "output_type": "display_data"
    }
   ],
   "source": [
    "\n",
    "from pymoo.visualization.scatter import Scatter\n",
    "from pymoo.decomposition.asf import ASF\n",
    "\n",
    "#Peso que determina la importacia de las soluciones\n",
    "weights = np.array([0.5, 0.5])\n",
    "#????\n",
    "decomp = ASF()\n",
    "#????\n",
    "i = decomp.do(nF, 1/weights).argmin()\n",
    "\n",
    "print(\"Best regarding ASF: Point \\ni = %s\\nF = %s\\nX = %s\" % (i, F[i], X[i]))\n",
    "\n",
    "# Funcion que genera ambas gráficas del frente de Pareto.\n",
    "def ParetoFrontGraph(pf, title, color, nF, i, x):\n",
    "    # Si el parámetro x es verdadero se imprime la gráfica con el frente normalizado y la \"mejor\" solución\n",
    "    if x is True:\n",
    "        plt.scatter(nF[:, 0], nF[:, 1], color=color)\n",
    "        plt.scatter(nF[i, 0], nF[i, 1], marker=\"x\", color='red', s=200)\n",
    "        plt.title(title)\n",
    "        plt.show()\n",
    "    # Si no se imprime el frente normal.\n",
    "    else:\n",
    "        plot = Scatter(title=title)\n",
    "        plot.add(pf, color=color)\n",
    "        return plot\n",
    "    \n",
    "ParetoFrontGraph(F, \"Frente de Pareto Normalizado\", \"blue\", nF, i, True)\n",
    "ParetoFrontGraph(F, \"Frente de Pareto\", \"red\", nF, i, False).show()"
   ]
  },
  {
   "attachments": {},
   "cell_type": "markdown",
   "metadata": {},
   "source": [
    "# Referencias\n",
    "\n",
    "#### https://pymoo.org/getting_started/index.html\n",
    "#### https://pymoo.org/customization/discrete.html\n",
    "#### https://pymoo.org/interface/problem.html\n",
    "#### https://ai.vub.ac.be/sites/default/files/EMO_2013_1.pdf\n",
    "#### https://pymoo.org/misc/indicators.html"
   ]
  }
 ],
 "metadata": {
  "kernelspec": {
   "display_name": "Python 3",
   "language": "python",
   "name": "python3"
  },
  "language_info": {
   "codemirror_mode": {
    "name": "ipython",
    "version": 3
   },
   "file_extension": ".py",
   "mimetype": "text/x-python",
   "name": "python",
   "nbconvert_exporter": "python",
   "pygments_lexer": "ipython3",
   "version": "3.10.11"
  },
  "orig_nbformat": 4
 },
 "nbformat": 4,
 "nbformat_minor": 2
}
