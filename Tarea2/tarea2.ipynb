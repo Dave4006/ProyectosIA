{
 "cells": [
  {
   "attachments": {},
   "cell_type": "markdown",
   "metadata": {},
   "source": [
    "# Tarea 2\n",
    "## Importación de módulos"
   ]
  },
  {
   "cell_type": "code",
   "execution_count": 7,
   "metadata": {},
   "outputs": [],
   "source": [
    "import numpy as np\n",
    "from pymoo.core.problem import ElementwiseProblem\n",
    "from IPython.display import display"
   ]
  },
  {
   "attachments": {},
   "cell_type": "markdown",
   "metadata": {},
   "source": [
    "## Clase del problema"
   ]
  },
  {
   "cell_type": "code",
   "execution_count": 14,
   "metadata": {},
   "outputs": [],
   "source": [
    "class MyProblem(ElementwiseProblem):\n",
    "    def __init__(self):\n",
    "        super().__init__(n_var=3,#Cantidad de genes por cromosoma\n",
    "                        n_obj=2,#cantidad de funciones objetivo\n",
    "                        xl=0,#Limite inferior del valor del gen\n",
    "                        xu=50)#Limite superior del valor de gen\n",
    "        \n",
    "    def _evaluate(self, x, out, *args, **kwargs):\n",
    "        \n",
    "        # Cantidad de tornos\n",
    "        T = x[0]\n",
    "        # Cantidad de fresadoras\n",
    "        F = x[1]\n",
    "        # Cantidad de multiproposito\n",
    "        M = x[2]\n",
    "        \n",
    "        #Se definen las penalizaciones por el sobrepaso de material \n",
    "        penCab = 280 - (2*T+F+5*M)#Cableado\n",
    "        penM  = 120 - (6*T+3*F+12*M)#Motores\n",
    "        penCar = 670 - (2*T+8*F+4*M)#Carcasas\n",
    "        penA = 250 - (2*T+6*F+6*M)#Actuadores\n",
    "        \n",
    "        penalizaciones = [penCab, penM, penCar, penA] #Vector con las penalizaciones\n",
    "        \n",
    "        pen = 0\n",
    "        #Sumatoria de penalizaciones\n",
    "        for i in range(4):\n",
    "            if penalizaciones[i] < 0:\n",
    "                pen = pen + penalizaciones[i]\n",
    "        \n",
    "        #Funciones objetivo\n",
    "        f1 = -(4*T+8*F+12*M)+15*pen**2 #Funcion que busca la mayor ganancia\n",
    "        f2 = (abs(T-F)+abs(T-M)+abs(F-M))#Funcion que busca la cantidad de unidades sea uniforme\n",
    "        \n",
    "        out[\"F\"] = [f1, f2]\n",
    "        \n",
    "problem = MyProblem()    "
   ]
  },
  {
   "attachments": {},
   "cell_type": "markdown",
   "metadata": {},
   "source": [
    "## Inicialización del algoritmo"
   ]
  },
  {
   "cell_type": "code",
   "execution_count": 20,
   "metadata": {},
   "outputs": [],
   "source": [
    "from pymoo.algorithms.moo.nsga2 import NSGA2\n",
    "from pymoo.operators.mutation.pm import PM\n",
    "from pymoo.operators.crossover.sbx import SBX\n",
    "from pymoo.operators.sampling.rnd import IntegerRandomSampling\n",
    "from pymoo.operators.repair.rounding import RoundingRepair\n",
    "\n",
    "# Se utiliza el algoritmo NSGA2 \n",
    "#Automaticamente se utiliza un el algoritmo de torneo para la selección del cruzamiento\n",
    "algorithm = NSGA2(pop_size=200,#Numero de la poblacion inicial \n",
    "                sampling=IntegerRandomSampling(),\n",
    "                crossover=SBX(prob=1.0, vtype=float, repair=RoundingRepair()),#Algoritmo de cruce\n",
    "                mutation=PM(prob=0.05, vtype=float, repair=RoundingRepair()),#Mutacion\n",
    "                eliminate_duplicates = True)"
   ]
  },
  {
   "attachments": {},
   "cell_type": "markdown",
   "metadata": {},
   "source": [
    "## Criterio de parada"
   ]
  },
  {
   "cell_type": "code",
   "execution_count": 21,
   "metadata": {},
   "outputs": [],
   "source": [
    "from pymoo.termination import get_termination\n",
    "\n",
    "termination = get_termination(\"n_gen\", 100)#Cantidad de generaciones"
   ]
  },
  {
   "attachments": {},
   "cell_type": "markdown",
   "metadata": {},
   "source": [
    "## Optimización"
   ]
  },
  {
   "cell_type": "code",
   "execution_count": 22,
   "metadata": {},
   "outputs": [
    {
     "name": "stdout",
     "output_type": "stream",
     "text": [
      "==========================================================\n",
      "n_gen  |  n_eval  | n_nds  |      eps      |   indicator  \n",
      "==========================================================\n",
      "     1 |      200 |      5 |             - |             -\n",
      "     2 |      400 |      5 |  0.0802132889 |             f\n",
      "     3 |      600 |      8 |  0.0534340953 |             f\n",
      "     4 |      800 |     10 |  0.1777777778 |         ideal\n",
      "     5 |     1000 |     15 |  0.1964285714 |         ideal\n",
      "     6 |     1200 |     19 |  0.0167414883 |             f\n",
      "     7 |     1400 |     23 |  0.0344827586 |         ideal\n",
      "     8 |     1600 |     28 |  0.0077071328 |             f\n",
      "     9 |     1800 |     30 |  0.0050161661 |             f\n",
      "    10 |     2000 |     30 |  0.1153846154 |         nadir\n",
      "    11 |     2200 |     30 |  0.1304347826 |         nadir\n",
      "    12 |     2400 |     32 |  0.0416666667 |         ideal\n",
      "    13 |     2600 |     33 |  0.0014825503 |             f\n",
      "    14 |     2800 |     31 |  0.0058003284 |             f\n",
      "    15 |     3000 |     31 |  0.0021314649 |             f\n",
      "    16 |     3200 |     31 |  0.0036306377 |             f\n",
      "    17 |     3400 |     33 |  0.0006313131 |             f\n",
      "    18 |     3600 |     33 |  0.0006313131 |             f\n",
      "    19 |     3800 |     34 |  0.0012254902 |             f\n",
      "    20 |     4000 |     35 |  0.0021344106 |             f\n",
      "    21 |     4200 |     36 |  0.0400000000 |         ideal\n",
      "    22 |     4400 |     35 |  0.0009147320 |             f\n",
      "    23 |     4600 |     36 |  0.0008893228 |             f\n",
      "    24 |     4800 |     36 |  0.0008893228 |             f\n",
      "    25 |     5000 |     37 |  0.0021401494 |             f\n",
      "    26 |     5200 |     37 |  0.0021401494 |             f\n",
      "    27 |     5400 |     37 |  0.0021401494 |             f\n",
      "    28 |     5600 |     37 |  0.0021401494 |             f\n",
      "    29 |     5800 |     38 |  0.0020838297 |             f\n",
      "    30 |     6000 |     38 |  0.0020838297 |             f\n",
      "    31 |     6200 |     39 |  0.0032398829 |             f\n",
      "    32 |     6400 |     39 |  0.000000E+00 |             f\n",
      "    33 |     6600 |     39 |  0.000000E+00 |             f\n",
      "    34 |     6800 |     39 |  0.000000E+00 |             f\n",
      "    35 |     7000 |     39 |  0.000000E+00 |             f\n",
      "    36 |     7200 |     38 |  0.0005263158 |             f\n",
      "    37 |     7400 |     38 |  0.0005263158 |             f\n",
      "    38 |     7600 |     38 |  0.0005263158 |             f\n",
      "    39 |     7800 |     38 |  0.0005263158 |             f\n",
      "    40 |     8000 |     38 |  0.0005263158 |             f\n",
      "    41 |     8200 |     38 |  0.0005263158 |             f\n",
      "    42 |     8400 |     38 |  0.0005263158 |             f\n",
      "    43 |     8600 |     38 |  0.0005263158 |             f\n",
      "    44 |     8800 |     38 |  0.0005263158 |             f\n",
      "    45 |     9000 |     38 |  0.0005263158 |             f\n",
      "    46 |     9200 |     38 |  0.0005263158 |             f\n",
      "    47 |     9400 |     38 |  0.0005263158 |             f\n",
      "    48 |     9600 |     38 |  0.0005263158 |             f\n",
      "    49 |     9800 |     38 |  0.0005263158 |             f\n",
      "    50 |    10000 |     38 |  0.0005263158 |             f\n",
      "    51 |    10200 |     38 |  0.0005263158 |             f\n",
      "    52 |    10400 |     38 |  0.0005263158 |             f\n",
      "    53 |    10600 |     38 |  0.0005263158 |             f\n",
      "    54 |    10800 |     38 |  0.0005263158 |             f\n",
      "    55 |    11000 |     38 |  0.0005263158 |             f\n",
      "    56 |    11200 |     38 |  0.0005263158 |             f\n",
      "    57 |    11400 |     38 |  0.0005263158 |             f\n",
      "    58 |    11600 |     38 |  0.0005263158 |             f\n",
      "    59 |    11800 |     38 |  0.0005263158 |             f\n",
      "    60 |    12000 |     38 |  0.0005263158 |             f\n",
      "    61 |    12200 |     38 |  0.0005263158 |             f\n",
      "    62 |    12400 |     38 |  0.0005263158 |             f\n",
      "    63 |    12600 |     38 |  0.0005263158 |             f\n",
      "    64 |    12800 |     38 |  0.0005263158 |             f\n",
      "    65 |    13000 |     38 |  0.0005263158 |             f\n",
      "    66 |    13200 |     38 |  0.0005263158 |             f\n",
      "    67 |    13400 |     38 |  0.0005263158 |             f\n",
      "    68 |    13600 |     38 |  0.0005263158 |             f\n",
      "    69 |    13800 |     38 |  0.0005263158 |             f\n",
      "    70 |    14000 |     38 |  0.0005263158 |             f\n",
      "    71 |    14200 |     38 |  0.0005263158 |             f\n",
      "    72 |    14400 |     38 |  0.0005263158 |             f\n",
      "    73 |    14600 |     38 |  0.0005263158 |             f\n",
      "    74 |    14800 |     39 |  0.0005128205 |             f\n",
      "    75 |    15000 |     39 |  0.0005128205 |             f\n",
      "    76 |    15200 |     39 |  0.0005128205 |             f\n",
      "    77 |    15400 |     39 |  0.0005128205 |             f\n",
      "    78 |    15600 |     39 |  0.0005128205 |             f\n",
      "    79 |    15800 |     39 |  0.0005128205 |             f\n",
      "    80 |    16000 |     39 |  0.0005128205 |             f\n",
      "    81 |    16200 |     39 |  0.0005128205 |             f\n",
      "    82 |    16400 |     39 |  0.0005128205 |             f\n",
      "    83 |    16600 |     39 |  0.0005128205 |             f\n",
      "    84 |    16800 |     39 |  0.0005128205 |             f\n",
      "    85 |    17000 |     39 |  0.0005128205 |             f\n",
      "    86 |    17200 |     39 |  0.0005128205 |             f\n",
      "    87 |    17400 |     39 |  0.0005128205 |             f\n",
      "    88 |    17600 |     39 |  0.0005128205 |             f\n",
      "    89 |    17800 |     39 |  0.0005128205 |             f\n",
      "    90 |    18000 |     39 |  0.0005128205 |             f\n",
      "    91 |    18200 |     39 |  0.0005128205 |             f\n",
      "    92 |    18400 |     39 |  0.0005128205 |             f\n",
      "    93 |    18600 |     39 |  0.0005128205 |             f\n",
      "    94 |    18800 |     39 |  0.0005128205 |             f\n",
      "    95 |    19000 |     39 |  0.0005128205 |             f\n",
      "    96 |    19200 |     39 |  0.0005128205 |             f\n",
      "    97 |    19400 |     39 |  0.0005128205 |             f\n",
      "    98 |    19600 |     39 |  0.0005128205 |             f\n",
      "    99 |    19800 |     39 |  0.0005128205 |             f\n",
      "   100 |    20000 |     39 |  0.0005128205 |             f\n"
     ]
    }
   ],
   "source": [
    "from pymoo.optimize import minimize\n",
    "#Se utiliza una funcion de minimización para minimizar las funciones objetivo\n",
    "res = minimize(problem,\n",
    "            algorithm,\n",
    "            termination,\n",
    "            seed=1,\n",
    "            save_history=True,\n",
    "            verbose=True)\n",
    "X = res.X #Vector de soluciones\n",
    "F = res.F #Vector con las calidades de cada individuo"
   ]
  },
  {
   "attachments": {},
   "cell_type": "markdown",
   "metadata": {},
   "source": [
    "## Visualización de Resultados"
   ]
  },
  {
   "cell_type": "code",
   "execution_count": 23,
   "metadata": {},
   "outputs": [
    {
     "data": {
      "image/png": "[encoded data removed]",
      "text/plain": [
       "<Figure size 700x500 with 1 Axes>"
      ]
     },
     "metadata": {},
     "output_type": "display_data"
    }
   ],
   "source": [
    "import matplotlib.pyplot as plt\n",
    "\n",
    "\n",
    "plt.figure(figsize=(7, 5))\n",
    "plt.scatter(F[:, 0], F[:, 1], s=30, facecolors='none', edgecolors='blue')\n",
    "plt.title(\"Fente de Pareto\")\n",
    "plt.show()"
   ]
  },
  {
   "attachments": {},
   "cell_type": "markdown",
   "metadata": {},
   "source": [
    "## Mejor resultado por medio de Compromise Programing "
   ]
  },
  {
   "cell_type": "code",
   "execution_count": 24,
   "metadata": {},
   "outputs": [
    {
     "name": "stdout",
     "output_type": "stream",
     "text": [
      "Best regarding ASF: Point \n",
      "i = 16\n",
      "F = [-224.   38.]\n",
      "X = [ 3 22  3]\n"
     ]
    },
    {
     "data": {
      "image/png": "[encoded data removed]",
      "text/plain": [
       "<Figure size 700x500 with 1 Axes>"
      ]
     },
     "metadata": {},
     "output_type": "display_data"
    }
   ],
   "source": [
    "from pymoo.decomposition.asf import ASF\n",
    "approx_ideal = F.min(axis=0)\n",
    "approx_nadir = F.max(axis=0)\n",
    "nF = (F - approx_ideal) / (approx_nadir - approx_ideal)\n",
    "\n",
    "weights = np.array([0.5, 0.5])#Peso que determina la importacia de las soluciones\n",
    "decomp = ASF()\n",
    "i = decomp.do(nF, 1/weights).argmin()\n",
    "print(\"Best regarding ASF: Point \\ni = %s\\nF = %s\\nX = %s\" % (i, F[i], X[i]))\n",
    "\n",
    "#Se grafica el resultado\n",
    "plt.figure(figsize=(7, 5))\n",
    "plt.scatter(F[:, 0], F[:, 1], s=30, facecolors='none', edgecolors='blue')\n",
    "plt.scatter(F[i, 0], F[i, 1], marker=\"x\", color=\"red\", s=200)\n",
    "plt.title(\"Objective Space\")\n",
    "plt.show()"
   ]
  },
  {
   "attachments": {},
   "cell_type": "markdown",
   "metadata": {},
   "source": [
    "# Referencias\n",
    "\n",
    "#### https://pymoo.org/getting_started/index.html\n",
    "#### https://pymoo.org/customization/discrete.html\n",
    "#### https://pymoo.org/interface/problem.html\n"
   ]
  }
 ],
 "metadata": {
  "kernelspec": {
   "display_name": "Python 3",
   "language": "python",
   "name": "python3"
  },
  "language_info": {
   "codemirror_mode": {
    "name": "ipython",
    "version": 3
   },
   "file_extension": ".py",
   "mimetype": "text/x-python",
   "name": "python",
   "nbconvert_exporter": "python",
   "pygments_lexer": "ipython3",
   "version": "3.10.8"
  },
  "orig_nbformat": 4
 },
 "nbformat": 4,
 "nbformat_minor": 2
}
