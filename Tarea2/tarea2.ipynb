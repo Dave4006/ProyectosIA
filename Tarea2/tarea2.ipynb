{
 "cells": [
  {
   "attachments": {},
   "cell_type": "markdown",
   "metadata": {},
   "source": [
    "# Tarea 2\n",
    "## Importación de módulos"
   ]
  },
  {
   "cell_type": "code",
   "execution_count": 1106,
   "metadata": {},
   "outputs": [],
   "source": [
    "import numpy as np\n",
    "from pymoo.core.problem import ElementwiseProblem\n",
    "from IPython.display import display\n",
    "import matplotlib.pyplot as plt\n"
   ]
  },
  {
   "attachments": {},
   "cell_type": "markdown",
   "metadata": {},
   "source": [
    "## Clase del problema"
   ]
  },
  {
   "cell_type": "code",
   "execution_count": 1107,
   "metadata": {},
   "outputs": [],
   "source": [
    "class MyProblem(ElementwiseProblem):\n",
    "    def __init__(self):\n",
    "        super().__init__(n_var=3,#Cantidad de genes por cromosoma\n",
    "                        n_obj=2,#cantidad de funciones objetivo\n",
    "                        xl=0,#Limite inferior del valor del gen\n",
    "                        xu=200)#Limite superior del valor de gen\n",
    "        \n",
    "    def _evaluate(self, x, out, *args, **kwargs):\n",
    "        \n",
    "        # Cantidad de tornos\n",
    "        T = x[0]\n",
    "        # Cantidad de fresadoras\n",
    "        F = x[1]\n",
    "        # Cantidad de multiproposito\n",
    "        M = x[2]\n",
    "        \n",
    "        #Se definen las penalizaciones por el sobrepaso de material \n",
    "        penCab = 280 - (2*T+F+5*M)#Cableado\n",
    "        penM  = 120 - (6*T+3*F+12*M)#Motores\n",
    "        penCar = 670 - (2*T+8*F+4*M)#Carcasas\n",
    "        penA = 250 - (2*T+6*F+6*M)#Actuadores\n",
    "        \n",
    "        penalizaciones = [penCab, penM, penCar, penA] #Vector con las penalizaciones\n",
    "        \n",
    "        pen = 0\n",
    "        #Sumatoria de penalizaciones\n",
    "        for i in range(4):\n",
    "            if penalizaciones[i] < 0:\n",
    "                pen = pen + penalizaciones[i]\n",
    "        \n",
    "        #Funciones objetivo\n",
    "        f1 = -(4*T+8*F+12*M)+pen**2 #Funcion que busca la mayor ganancia\n",
    "        f2 = (abs(T-F)+abs(T-M)+abs(F-M))**3 #Funcion que busca la cantidad de unidades sea uniforme\n",
    "        out[\"F\"] = [f1, f2]\n",
    "        \n",
    "problem = MyProblem()    "
   ]
  },
  {
   "attachments": {},
   "cell_type": "markdown",
   "metadata": {},
   "source": [
    "## Inicialización del algoritmo"
   ]
  },
  {
   "cell_type": "code",
   "execution_count": 1108,
   "metadata": {},
   "outputs": [],
   "source": [
    "from pymoo.algorithms.moo.nsga2 import NSGA2\n",
    "from pymoo.operators.mutation.pm import PM\n",
    "from pymoo.operators.sampling.rnd import IntegerRandomSampling\n",
    "from pymoo.operators.repair.rounding import RoundingRepair\n",
    "from pymoo.operators.crossover.pntx import SinglePointCrossover\n",
    "\n",
    "# Se utiliza el algoritmo NSGA2 \n",
    "#Automaticamente se utiliza un el algoritmo de torneo para la selección del cruzamiento\n",
    "algorithm = NSGA2(pop_size=200,#Numero de la poblacion inicial \n",
    "                sampling=IntegerRandomSampling(),\n",
    "                crossover=SinglePointCrossover(),\n",
    "                mutation=PM(prob=0.05, vtype=float, repair=RoundingRepair()),#Mutacion\n",
    "                eliminate_duplicates = True)"
   ]
  },
  {
   "attachments": {},
   "cell_type": "markdown",
   "metadata": {},
   "source": [
    "## Criterio de parada"
   ]
  },
  {
   "cell_type": "code",
   "execution_count": 1109,
   "metadata": {},
   "outputs": [],
   "source": [
    "from pymoo.termination import get_termination\n",
    "\n",
    "termination = get_termination(\"n_gen\", 100)#Cantidad de generaciones"
   ]
  },
  {
   "attachments": {},
   "cell_type": "markdown",
   "metadata": {},
   "source": [
    "## Optimización"
   ]
  },
  {
   "cell_type": "code",
   "execution_count": 1110,
   "metadata": {},
   "outputs": [
    {
     "name": "stdout",
     "output_type": "stream",
     "text": [
      "==========================================================\n",
      "n_gen  |  n_eval  | n_nds  |      eps      |   indicator  \n",
      "==========================================================\n",
      "     1 |      200 |      5 |             - |             -\n",
      "     2 |      400 |      5 |  4.4285714286 |         nadir\n",
      "     3 |      600 |      5 |  0.1400044830 |             f\n",
      "     4 |      800 |      4 |  4.3829113924 |         nadir\n",
      "     5 |     1000 |      5 |  0.0783813343 |         ideal\n",
      "     6 |     1200 |      4 |  0.1870183758 |         nadir\n",
      "     7 |     1400 |      3 |  0.1760683761 |         nadir\n",
      "     8 |     1600 |      5 |  0.1832460733 |         ideal\n",
      "     9 |     1800 |      5 |  0.0052083333 |         ideal\n",
      "    10 |     2000 |      9 |  0.2500000000 |         ideal\n",
      "    11 |     2200 |     10 |  0.0058618667 |             f\n",
      "    12 |     2400 |     12 |  0.0211482146 |             f\n",
      "    13 |     2600 |     13 |  0.0081717396 |             f\n",
      "    14 |     2800 |     13 |  0.2307692308 |         nadir\n",
      "    15 |     3000 |     15 |  0.0024401625 |             f\n",
      "    16 |     3200 |     17 |  0.0139638506 |             f\n",
      "    17 |     3400 |     18 |  0.0064410721 |             f\n",
      "    18 |     3600 |     18 |  0.0021367521 |             f\n",
      "    19 |     3800 |     20 |  0.0060011892 |             f\n",
      "    20 |     4000 |     21 |  0.0009685269 |             f\n",
      "    21 |     4200 |     19 |  0.0199526531 |             f\n",
      "    22 |     4400 |     19 |  0.000000E+00 |             f\n",
      "    23 |     4600 |     19 |  0.000000E+00 |             f\n",
      "    24 |     4800 |     19 |  0.0028019145 |             f\n",
      "    25 |     5000 |     19 |  0.0030364372 |             f\n",
      "    26 |     5200 |     20 |  0.0045056452 |             f\n",
      "    27 |     5400 |     21 |  0.1186440678 |         ideal\n",
      "    28 |     5600 |     22 |  0.0007912977 |             f\n",
      "    29 |     5800 |     23 |  0.0007568934 |             f\n",
      "    30 |     6000 |     23 |  0.0014938131 |             f\n",
      "    31 |     6200 |     23 |  0.0014938131 |             f\n",
      "    32 |     6400 |     23 |  0.0014938131 |             f\n",
      "    33 |     6600 |     23 |  0.0014938131 |             f\n",
      "    34 |     6800 |     23 |  0.0014938131 |             f\n",
      "    35 |     7000 |     23 |  0.1132075472 |         nadir\n",
      "    36 |     7200 |     23 |  0.000000E+00 |             f\n",
      "    37 |     7400 |     23 |  0.000000E+00 |             f\n",
      "    38 |     7600 |     23 |  0.000000E+00 |             f\n",
      "    39 |     7800 |     23 |  0.000000E+00 |             f\n",
      "    40 |     8000 |     23 |  0.000000E+00 |             f\n",
      "    41 |     8200 |     24 |  0.0007866654 |             f\n",
      "    42 |     8400 |     24 |  0.0007866654 |             f\n",
      "    43 |     8600 |     25 |  0.0035147221 |             f\n",
      "    44 |     8800 |     25 |  0.000000E+00 |             f\n",
      "    45 |     9000 |     25 |  0.000000E+00 |             f\n",
      "    46 |     9200 |     25 |  0.000000E+00 |             f\n",
      "    47 |     9400 |     25 |  0.0003904949 |             f\n",
      "    48 |     9600 |     25 |  0.0003904949 |             f\n",
      "    49 |     9800 |     25 |  0.0003904949 |             f\n",
      "    50 |    10000 |     26 |  0.0003754759 |             f\n",
      "    51 |    10200 |     27 |  0.0050963747 |             f\n",
      "    52 |    10400 |     27 |  0.000000E+00 |             f\n",
      "    53 |    10600 |     29 |  0.0020096261 |             f\n",
      "    54 |    10800 |     29 |  0.0020096261 |             f\n",
      "    55 |    11000 |     29 |  0.0020096261 |             f\n",
      "    56 |    11200 |     29 |  0.0020096261 |             f\n",
      "    57 |    11400 |     29 |  0.0020096261 |             f\n",
      "    58 |    11600 |     29 |  0.0020096261 |             f\n",
      "    59 |    11800 |     29 |  0.0020096261 |             f\n",
      "    60 |    12000 |     29 |  0.0020096261 |             f\n",
      "    61 |    12200 |     29 |  0.0020096261 |             f\n",
      "    62 |    12400 |     29 |  0.0020096261 |             f\n",
      "    63 |    12600 |     29 |  0.0020096261 |             f\n",
      "    64 |    12800 |     29 |  0.0020096261 |             f\n",
      "    65 |    13000 |     29 |  0.0020096261 |             f\n",
      "    66 |    13200 |     29 |  0.0020096261 |             f\n",
      "    67 |    13400 |     29 |  0.0020096261 |             f\n",
      "    68 |    13600 |     29 |  0.0020096261 |             f\n",
      "    69 |    13800 |     29 |  0.0020096261 |             f\n",
      "    70 |    14000 |     29 |  0.0020096261 |             f\n",
      "    71 |    14200 |     29 |  0.0020096261 |             f\n",
      "    72 |    14400 |     29 |  0.0020096261 |             f\n",
      "    73 |    14600 |     29 |  0.0020096261 |             f\n",
      "    74 |    14800 |     29 |  0.0020096261 |             f\n",
      "    75 |    15000 |     29 |  0.0600000000 |         nadir\n",
      "    76 |    15200 |     30 |  0.0028890154 |             f\n",
      "    77 |    15400 |     30 |  0.000000E+00 |             f\n",
      "    78 |    15600 |     30 |  0.000000E+00 |             f\n",
      "    79 |    15800 |     30 |  0.000000E+00 |             f\n",
      "    80 |    16000 |     30 |  0.000000E+00 |             f\n",
      "    81 |    16200 |     30 |  0.000000E+00 |             f\n",
      "    82 |    16400 |     30 |  0.000000E+00 |             f\n",
      "    83 |    16600 |     30 |  0.000000E+00 |             f\n",
      "    84 |    16800 |     30 |  0.000000E+00 |             f\n",
      "    85 |    17000 |     30 |  0.000000E+00 |             f\n",
      "    86 |    17200 |     30 |  0.000000E+00 |             f\n",
      "    87 |    17400 |     30 |  0.000000E+00 |             f\n",
      "    88 |    17600 |     30 |  0.000000E+00 |             f\n",
      "    89 |    17800 |     31 |  0.0021743577 |             f\n",
      "    90 |    18000 |     31 |  0.0021743577 |             f\n",
      "    91 |    18200 |     31 |  0.0021743577 |             f\n",
      "    92 |    18400 |     31 |  0.0021743577 |             f\n",
      "    93 |    18600 |     31 |  0.0021743577 |             f\n",
      "    94 |    18800 |     31 |  0.0021743577 |             f\n",
      "    95 |    19000 |     31 |  0.0021743577 |             f\n",
      "    96 |    19200 |     31 |  0.0021743577 |             f\n",
      "    97 |    19400 |     31 |  0.0021743577 |             f\n",
      "    98 |    19600 |     31 |  0.0021743577 |             f\n",
      "    99 |    19800 |     31 |  0.0021743577 |             f\n",
      "   100 |    20000 |     31 |  0.0021743577 |             f\n"
     ]
    },
    {
     "data": {
      "text/plain": [
       "array([[ 2.80000e+02, -2.62144e+05],\n",
       "       [ 2.44000e+02, -1.10592e+05],\n",
       "       [ 2.48000e+02, -1.25000e+05],\n",
       "       [ 1.96000e+02, -2.19520e+04],\n",
       "       [ 2.04000e+02, -2.70000e+04],\n",
       "       [ 1.48000e+02, -2.16000e+02],\n",
       "       [ 1.84000e+02, -1.06480e+04],\n",
       "       [ 1.60000e+02, -1.00000e+03],\n",
       "       [ 2.24000e+02, -5.48720e+04],\n",
       "       [ 2.12000e+02, -3.93040e+04],\n",
       "       [ 2.28000e+02, -7.40880e+04],\n",
       "       [ 1.72000e+02, -4.09600e+03],\n",
       "       [ 2.16000e+02, -4.66560e+04],\n",
       "       [ 2.36000e+02, -8.51840e+04],\n",
       "       [ 2.56000e+02, -1.40608e+05],\n",
       "       [ 2.68000e+02, -1.95112e+05],\n",
       "       [ 3.08000e+02, -4.38976e+05],\n",
       "       [ 1.40000e+02, -8.00000e+00],\n",
       "       [ 1.64000e+02, -2.74400e+03],\n",
       "       [ 1.84000e+02, -1.06480e+04],\n",
       "       [ 1.80000e+02, -8.00000e+03],\n",
       "       [ 1.52000e+02, -5.12000e+02],\n",
       "       [ 2.88000e+02, -2.87496e+05],\n",
       "       [ 1.92000e+02, -1.38240e+04],\n",
       "       [ 2.16000e+02, -4.66560e+04],\n",
       "       [ 2.92000e+02, -3.43000e+05],\n",
       "       [ 2.60000e+02, -1.75616e+05],\n",
       "       [ 2.48000e+02, -1.25000e+05],\n",
       "       [ 1.08000e+02, -0.00000e+00],\n",
       "       [ 3.00000e+02, -4.05224e+05],\n",
       "       [ 2.72000e+02, -2.38328e+05]])"
      ]
     },
     "execution_count": 1110,
     "metadata": {},
     "output_type": "execute_result"
    }
   ],
   "source": [
    "from pymoo.optimize import minimize\n",
    "#Se utiliza una funcion de minimización para minimizar las funciones objetivo\n",
    "res = minimize(problem,\n",
    "            algorithm,\n",
    "            termination,\n",
    "            save_history=True,\n",
    "            verbose=True)\n",
    "\n",
    "X = res.X #Vector de soluciones\n",
    "res.F = res.F*-1\n",
    "F = res.F #Vector con las calidades de cada individuo\n",
    "hist = res.history\n",
    "#len(F)\n",
    "F\n"
   ]
  },
  {
   "attachments": {},
   "cell_type": "markdown",
   "metadata": {},
   "source": [
    "## Convergencia de Cada Objetivo"
   ]
  },
  {
   "cell_type": "code",
   "execution_count": 1111,
   "metadata": {},
   "outputs": [
    {
     "data": {
      "text/plain": [
       "array([[ 0.88888889,  0.29766804],\n",
       "       [ 0.22222222,  0.99732082],\n",
       "       [ 0.75555556,  0.62328532],\n",
       "       [ 0.17777778,  0.99862826],\n",
       "       [-0.06666667,  1.        ]])"
      ]
     },
     "metadata": {},
     "output_type": "display_data"
    },
    {
     "name": "stdout",
     "output_type": "stream",
     "text": [
      "HV 0.52356\n"
     ]
    }
   ],
   "source": [
    "from pymoo.indicators.hv import HV\n",
    "nF = (F - approx_ideal) / (approx_nadir - approx_ideal)#Normalización del frente de Pareto\n",
    "A = nF[::7] # se toma una muestra del frente cada 7 soluciones\n",
    "display(A)\n",
    "ref_point = np.array([1.2, 1.2]) # se pone el punto de referencia (un punto muy malo) como -120 para f1 y 6000 para f2 \n",
    "\n",
    "ind = HV(ref_point=ref_point) # se calcula el indicador del hypervolumen\n",
    "print(\"HV\", '%.5f' % ind(A)) # se imprime el indicador con cinco decimales\n"
   ]
  },
  {
   "attachments": {},
   "cell_type": "markdown",
   "metadata": {},
   "source": [
    "## Visualización de Resultados"
   ]
  },
  {
   "cell_type": "code",
   "execution_count": 1112,
   "metadata": {},
   "outputs": [
    {
     "data": {
      "text/plain": [
       "array([[ 2.80000e+02, -2.62144e+05],\n",
       "       [ 2.44000e+02, -1.10592e+05],\n",
       "       [ 2.48000e+02, -1.25000e+05],\n",
       "       [ 1.96000e+02, -2.19520e+04],\n",
       "       [ 2.04000e+02, -2.70000e+04],\n",
       "       [ 1.48000e+02, -2.16000e+02],\n",
       "       [ 1.84000e+02, -1.06480e+04],\n",
       "       [ 1.60000e+02, -1.00000e+03],\n",
       "       [ 2.24000e+02, -5.48720e+04],\n",
       "       [ 2.12000e+02, -3.93040e+04],\n",
       "       [ 2.28000e+02, -7.40880e+04],\n",
       "       [ 1.72000e+02, -4.09600e+03],\n",
       "       [ 2.16000e+02, -4.66560e+04],\n",
       "       [ 2.36000e+02, -8.51840e+04],\n",
       "       [ 2.56000e+02, -1.40608e+05],\n",
       "       [ 2.68000e+02, -1.95112e+05],\n",
       "       [ 3.08000e+02, -4.38976e+05],\n",
       "       [ 1.40000e+02, -8.00000e+00],\n",
       "       [ 1.64000e+02, -2.74400e+03],\n",
       "       [ 1.84000e+02, -1.06480e+04],\n",
       "       [ 1.80000e+02, -8.00000e+03],\n",
       "       [ 1.52000e+02, -5.12000e+02],\n",
       "       [ 2.88000e+02, -2.87496e+05],\n",
       "       [ 1.92000e+02, -1.38240e+04],\n",
       "       [ 2.16000e+02, -4.66560e+04],\n",
       "       [ 2.92000e+02, -3.43000e+05],\n",
       "       [ 2.60000e+02, -1.75616e+05],\n",
       "       [ 2.48000e+02, -1.25000e+05],\n",
       "       [ 1.08000e+02, -0.00000e+00],\n",
       "       [ 3.00000e+02, -4.05224e+05],\n",
       "       [ 2.72000e+02, -2.38328e+05]])"
      ]
     },
     "metadata": {},
     "output_type": "display_data"
    },
    {
     "data": {
      "text/plain": [
       "<pymoo.visualization.scatter.Scatter at 0x1660ef4d7e0>"
      ]
     },
     "execution_count": 1112,
     "metadata": {},
     "output_type": "execute_result"
    },
    {
     "data": {
      "image/png": "[encoded data removed]",
      "text/plain": [
       "<Figure size 800x600 with 1 Axes>"
      ]
     },
     "metadata": {},
     "output_type": "display_data"
    }
   ],
   "source": [
    "\n",
    "from pymoo.visualization.scatter import Scatter\n",
    "plot = Scatter(title=\"Pareto Front\")\n",
    "plot.add(res.F, color=\"red\")\n",
    "display(res.F)\n",
    "plot.show()"
   ]
  },
  {
   "cell_type": "code",
   "execution_count": 1113,
   "metadata": {},
   "outputs": [
    {
     "data": {
      "text/plain": [
       "31"
      ]
     },
     "execution_count": 1113,
     "metadata": {},
     "output_type": "execute_result"
    }
   ],
   "source": [
    "len(X)"
   ]
  },
  {
   "cell_type": "code",
   "execution_count": 1114,
   "metadata": {},
   "outputs": [
    {
     "data": {
      "text/plain": [
       "array([[ 1, 33,  1],\n",
       "       [ 3, 26,  2],\n",
       "       [ 1, 26,  3],\n",
       "       [ 3, 17,  4],\n",
       "       [ 3, 18,  4],\n",
       "       [ 6,  8,  5],\n",
       "       [ 4, 15,  4],\n",
       "       [ 5, 10,  5],\n",
       "       [ 3, 22,  3],\n",
       "       [ 4, 20,  3],\n",
       "       [ 2, 23,  3],\n",
       "       [ 4, 12,  5],\n",
       "       [ 2, 20,  4],\n",
       "       [ 2, 24,  3],\n",
       "       [ 2, 28,  2],\n",
       "       [ 1, 30,  2],\n",
       "       [ 1, 38,  0],\n",
       "       [ 5,  6,  6],\n",
       "       [ 3, 10,  6],\n",
       "       [ 3, 14,  5],\n",
       "       [ 5, 14,  4],\n",
       "       [ 4,  8,  6],\n",
       "       [ 1, 34,  1],\n",
       "       [ 4, 16,  4],\n",
       "       [ 3, 21,  3],\n",
       "       [ 0, 35,  1],\n",
       "       [ 1, 29,  2],\n",
       "       [ 2, 27,  2],\n",
       "       [ 6,  6,  6],\n",
       "       [ 1, 37,  0],\n",
       "       [ 0, 31,  2]])"
      ]
     },
     "execution_count": 1114,
     "metadata": {},
     "output_type": "execute_result"
    }
   ],
   "source": [
    "X[:]"
   ]
  },
  {
   "cell_type": "code",
   "execution_count": 1115,
   "metadata": {},
   "outputs": [
    {
     "data": {
      "image/png": "[encoded data removed]",
      "text/plain": [
       "<Figure size 700x500 with 1 Axes>"
      ]
     },
     "metadata": {},
     "output_type": "display_data"
    }
   ],
   "source": [
    "approx_ideal = F.min(axis=0)\n",
    "approx_nadir = F.max(axis=0)\n",
    "nF = (F - approx_ideal) / (approx_nadir - approx_ideal)#Normalización del frente de Pareto\n",
    "plt.figure(figsize=(7, 5))\n",
    "plt.scatter(nF[:, 0], nF[:, 1], s=30, facecolors='none', edgecolors='blue')\n",
    "plt.title(\"Fente de Pareto Normalizado\")\n",
    "plt.show()"
   ]
  },
  {
   "attachments": {},
   "cell_type": "markdown",
   "metadata": {},
   "source": [
    "## Mejor resultado por medio de Compromise Programing "
   ]
  },
  {
   "cell_type": "code",
   "execution_count": 1116,
   "metadata": {},
   "outputs": [
    {
     "name": "stdout",
     "output_type": "stream",
     "text": [
      "Best regarding ASF: Point \n",
      "i = 2\n",
      "F = [    248. -125000.]\n",
      "X = [ 1 26  3]\n"
     ]
    },
    {
     "data": {
      "image/png": "[encoded data removed]",
      "text/plain": [
       "<Figure size 700x500 with 1 Axes>"
      ]
     },
     "metadata": {},
     "output_type": "display_data"
    }
   ],
   "source": [
    "from pymoo.decomposition.asf import ASF\n",
    "\n",
    "\n",
    "weights = np.array([0.5, 0.5])#Peso que determina la importacia de las soluciones\n",
    "decomp = ASF()\n",
    "i = decomp.do(nF, 1/weights).argmin()\n",
    "print(\"Best regarding ASF: Point \\ni = %s\\nF = %s\\nX = %s\" % (i, F[i], X[i]))\n",
    "\n",
    "#Se grafica el resultado\n",
    "plt.figure(figsize=(7, 5))\n",
    "plt.scatter(nF[:, 0], nF[:, 1], s=30, facecolors='none', edgecolors='blue')\n",
    "plt.scatter(nF[i, 0], nF[i, 1], marker=\"x\", color=\"red\", s=200)\n",
    "plt.title(\"Frente de Pareto\")\n",
    "plt.show()"
   ]
  },
  {
   "attachments": {},
   "cell_type": "markdown",
   "metadata": {},
   "source": [
    "# Referencias\n",
    "\n",
    "#### https://pymoo.org/getting_started/index.html\n",
    "#### https://pymoo.org/customization/discrete.html\n",
    "#### https://pymoo.org/interface/problem.html\n"
   ]
  }
 ],
 "metadata": {
  "kernelspec": {
   "display_name": "Python 3",
   "language": "python",
   "name": "python3"
  },
  "language_info": {
   "codemirror_mode": {
    "name": "ipython",
    "version": 3
   },
   "file_extension": ".py",
   "mimetype": "text/x-python",
   "name": "python",
   "nbconvert_exporter": "python",
   "pygments_lexer": "ipython3",
   "version": "3.10.11"
  },
  "orig_nbformat": 4
 },
 "nbformat": 4,
 "nbformat_minor": 2
}
