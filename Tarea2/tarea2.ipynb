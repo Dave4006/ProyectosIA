{
 "cells": [
  {
   "attachments": {},
   "cell_type": "markdown",
   "metadata": {},
   "source": [
    "# Tarea 2\n",
    "## Importación de módulos"
   ]
  },
  {
   "cell_type": "code",
   "execution_count": 92,
   "metadata": {},
   "outputs": [],
   "source": [
    "import numpy as np\n",
    "from pymoo.core.problem import ElementwiseProblem\n",
    "from IPython.display import display"
   ]
  },
  {
   "attachments": {},
   "cell_type": "markdown",
   "metadata": {},
   "source": [
    "## Clase del problema"
   ]
  },
  {
   "cell_type": "code",
   "execution_count": 93,
   "metadata": {},
   "outputs": [],
   "source": [
    "class MyProblem(ElementwiseProblem):\n",
    "    def __init__(self):\n",
    "        super().__init__(n_var=3,\n",
    "                        n_obj=2,\n",
    "                        xl=0,\n",
    "                        xu=500)\n",
    "        \n",
    "    def _evaluate(self, x, out, *args, **kwargs):\n",
    "        \n",
    "        # Cantidad de tornos\n",
    "        T = x[0]\n",
    "        # Cantidad de fresadoras\n",
    "        F = x[1]\n",
    "        # Cantidad de multiproposito\n",
    "        M = x[2]\n",
    "        \n",
    "        penCab = 280 - (2*T+F+5*M)\n",
    "        penM  = 120 - (6*T+3*F+12*M)\n",
    "        penCar = 670 - (2*T+8*F+4*M)\n",
    "        penA = 250 - (2*T+6*F+6*M)\n",
    "        \n",
    "        penalizaciones = [penCab, penM, penCar, penA]\n",
    "        \n",
    "        pen = 0\n",
    "        \n",
    "        for i in range(4):\n",
    "            if penalizaciones[i] < 0:\n",
    "                pen = pen + penalizaciones[i]\n",
    "        \n",
    "        #f1 = -(4*T+8*F+12*M)+((6*T+3*F+12*M)/(120))**5\n",
    "        f1 = -(4*T+8*F+12*M)-pen\n",
    "        f2 = -100+(abs(T-F)+abs(T-M)+abs(F-M))\n",
    "        \n",
    "        out[\"F\"] = [f1, f2]\n",
    "        \n",
    "problem = MyProblem()    "
   ]
  },
  {
   "attachments": {},
   "cell_type": "markdown",
   "metadata": {},
   "source": [
    "## Inicialización del algoritmo"
   ]
  },
  {
   "cell_type": "code",
   "execution_count": 94,
   "metadata": {},
   "outputs": [],
   "source": [
    "from pymoo.algorithms.moo.nsga2 import NSGA2\n",
    "from pymoo.operators.mutation.pm import PM\n",
    "from pymoo.operators.crossover.sbx import SBX\n",
    "from pymoo.operators.sampling.rnd import IntegerRandomSampling\n",
    "from pymoo.operators.repair.rounding import RoundingRepair\n",
    "\n",
    "algorithm = NSGA2(pop_size=200, \n",
    "                sampling=IntegerRandomSampling(),\n",
    "                crossover=SBX(prob=1.0, vtype=float, repair=RoundingRepair()),\n",
    "                mutation=PM(prob=1.0, vtype=float, repair=RoundingRepair()),\n",
    "                eliminate_duplicates = True)"
   ]
  },
  {
   "attachments": {},
   "cell_type": "markdown",
   "metadata": {},
   "source": [
    "## Criterio de parada"
   ]
  },
  {
   "cell_type": "code",
   "execution_count": 95,
   "metadata": {},
   "outputs": [],
   "source": [
    "from pymoo.termination import get_termination\n",
    "\n",
    "termination = get_termination(\"n_gen\", 100)"
   ]
  },
  {
   "attachments": {},
   "cell_type": "markdown",
   "metadata": {},
   "source": [
    "## Optimización"
   ]
  },
  {
   "cell_type": "code",
   "execution_count": 96,
   "metadata": {},
   "outputs": [
    {
     "name": "stdout",
     "output_type": "stream",
     "text": [
      "==========================================================\n",
      "n_gen  |  n_eval  | n_nds  |      eps      |   indicator  \n",
      "==========================================================\n",
      "     1 |      200 |      1 |             - |             -\n",
      "     2 |      400 |      1 |  2.0000000000 |         ideal\n",
      "     3 |      600 |      2 |  1.0000000000 |         ideal\n",
      "     4 |      800 |      4 |  0.1842105263 |         nadir\n",
      "     5 |     1000 |      8 |  0.0731707317 |         ideal\n",
      "     6 |     1200 |     14 |  0.1347517730 |         ideal\n",
      "     7 |     1400 |     16 |  0.0275862069 |         ideal\n",
      "     8 |     1600 |     18 |  0.0522875817 |         ideal\n",
      "     9 |     1800 |     22 |  0.0160771704 |         ideal\n",
      "    10 |     2000 |     26 |  0.0153042185 |             f\n",
      "    11 |     2200 |     30 |  0.0199203187 |         ideal\n",
      "    12 |     2400 |     30 |  0.5304878049 |         nadir\n",
      "    13 |     2600 |     32 |  0.0120481928 |         ideal\n",
      "    14 |     2800 |     35 |  0.0023317483 |             f\n",
      "    15 |     3000 |     37 |  0.0049154548 |             f\n",
      "    16 |     3200 |     39 |  0.0028863555 |             f\n",
      "    17 |     3400 |     45 |  0.0119047619 |         ideal\n",
      "    18 |     3600 |     48 |  0.0059171598 |         ideal\n",
      "    19 |     3800 |     50 |  0.0007100592 |             f\n",
      "    20 |     4000 |     47 |  0.0019068624 |             f\n",
      "    21 |     4200 |     47 |  0.0038479458 |             f\n",
      "    22 |     4400 |     47 |  0.0021928774 |             f\n",
      "    23 |     4600 |     47 |  0.0028844856 |             f\n",
      "    24 |     4800 |     53 |  0.0020066739 |             f\n",
      "    25 |     5000 |     55 |  0.0019337039 |             f\n",
      "    26 |     5200 |     56 |  0.0015300437 |             f\n",
      "    27 |     5400 |     59 |  0.0017531174 |             f\n",
      "    28 |     5600 |     63 |  0.0018296547 |             f\n",
      "    29 |     5800 |     63 |  0.0027213091 |             f\n",
      "    30 |     6000 |     59 |  0.0023510013 |             f\n",
      "    31 |     6200 |     59 |  0.0023510013 |             f\n",
      "    32 |     6400 |     58 |  0.0026975958 |             f\n",
      "    33 |     6600 |     57 |  0.0007778931 |             f\n",
      "    34 |     6800 |     58 |  0.0009685212 |             f\n",
      "    35 |     7000 |     57 |  0.0012969422 |             f\n",
      "    36 |     7200 |     59 |  0.0017036294 |             f\n",
      "    37 |     7400 |     60 |  0.0016752356 |             f\n",
      "    38 |     7600 |     60 |  0.0016752356 |             f\n",
      "    39 |     7800 |     61 |  0.0016477727 |             f\n",
      "    40 |     8000 |     61 |  0.0016477727 |             f\n",
      "    41 |     8200 |     61 |  0.0018417780 |             f\n",
      "    42 |     8400 |     62 |  0.0020983860 |             f\n",
      "    43 |     8600 |     62 |  0.0020983860 |             f\n",
      "    44 |     8800 |     62 |  0.0368098160 |         nadir\n",
      "    45 |     9000 |     62 |  0.000000E+00 |             f\n",
      "    46 |     9200 |     62 |  0.000000E+00 |             f\n",
      "    47 |     9400 |     61 |  0.0005028663 |             f\n",
      "    48 |     9600 |     62 |  0.0006926578 |             f\n",
      "    49 |     9800 |     62 |  0.0006926578 |             f\n",
      "    50 |    10000 |     59 |  0.0010398253 |             f\n",
      "    51 |    10200 |     57 |  0.0015068346 |             f\n",
      "    52 |    10400 |     56 |  0.0018624014 |             f\n",
      "    53 |    10600 |     54 |  0.0021586003 |             f\n",
      "    54 |    10800 |     54 |  0.0021586003 |             f\n",
      "    55 |    11000 |     55 |  0.0021193530 |             f\n",
      "    56 |    11200 |     56 |  0.0020815074 |             f\n",
      "    57 |    11400 |     56 |  0.0020815074 |             f\n",
      "    58 |    11600 |     54 |  0.0024994319 |             f\n",
      "    59 |    11800 |     54 |  0.0187500000 |         nadir\n",
      "    60 |    12000 |     56 |  0.0004802023 |             f\n",
      "    61 |    12200 |     56 |  0.0004802023 |             f\n",
      "    62 |    12400 |     56 |  0.0007034165 |             f\n",
      "    63 |    12600 |     57 |  0.0006910759 |             f\n",
      "    64 |    12800 |     57 |  0.0006910759 |             f\n",
      "    65 |    13000 |     57 |  0.0006910759 |             f\n",
      "    66 |    13200 |     57 |  0.0006910759 |             f\n",
      "    67 |    13400 |     57 |  0.0006910759 |             f\n",
      "    68 |    13600 |     57 |  0.0006910759 |             f\n",
      "    69 |    13800 |     57 |  0.0006910759 |             f\n",
      "    70 |    14000 |     59 |  0.0006676496 |             f\n",
      "    71 |    14200 |     59 |  0.0006676496 |             f\n",
      "    72 |    14400 |     59 |  0.0006676496 |             f\n",
      "    73 |    14600 |     59 |  0.0006676496 |             f\n",
      "    74 |    14800 |     59 |  0.0006676496 |             f\n",
      "    75 |    15000 |     59 |  0.0006676496 |             f\n",
      "    76 |    15200 |     59 |  0.0006676496 |             f\n",
      "    77 |    15400 |     59 |  0.0006676496 |             f\n",
      "    78 |    15600 |     59 |  0.0006676496 |             f\n",
      "    79 |    15800 |     59 |  0.0006676496 |             f\n",
      "    80 |    16000 |     59 |  0.0006676496 |             f\n",
      "    81 |    16200 |     59 |  0.0006676496 |             f\n",
      "    82 |    16400 |     59 |  0.0006676496 |             f\n",
      "    83 |    16600 |     59 |  0.0006676496 |             f\n",
      "    84 |    16800 |     59 |  0.0006676496 |             f\n",
      "    85 |    17000 |     59 |  0.0006676496 |             f\n",
      "    86 |    17200 |     59 |  0.0006676496 |             f\n",
      "    87 |    17400 |     59 |  0.0006676496 |             f\n",
      "    88 |    17600 |     59 |  0.0006676496 |             f\n",
      "    89 |    17800 |     59 |  0.0006676496 |             f\n",
      "    90 |    18000 |     59 |  0.0006676496 |             f\n",
      "    91 |    18200 |     59 |  0.0006676496 |             f\n",
      "    92 |    18400 |     60 |  0.0006565221 |             f\n",
      "    93 |    18600 |     60 |  0.0006565221 |             f\n",
      "    94 |    18800 |     60 |  0.0006565221 |             f\n",
      "    95 |    19000 |     60 |  0.0006565221 |             f\n",
      "    96 |    19200 |     60 |  0.0006565221 |             f\n",
      "    97 |    19400 |     60 |  0.0006565221 |             f\n",
      "    98 |    19600 |     60 |  0.0006565221 |             f\n",
      "    99 |    19800 |     60 |  0.0006565221 |             f\n",
      "   100 |    20000 |     60 |  0.0006565221 |             f\n"
     ]
    }
   ],
   "source": [
    "from pymoo.optimize import minimize\n",
    "\n",
    "res = minimize(problem,\n",
    "            algorithm,\n",
    "            termination,\n",
    "            seed=1,\n",
    "            save_history=True,\n",
    "            verbose=True)\n",
    "X = res.X\n",
    "F = res.F"
   ]
  },
  {
   "attachments": {},
   "cell_type": "markdown",
   "metadata": {},
   "source": [
    "## Visualización de Resultados"
   ]
  },
  {
   "cell_type": "code",
   "execution_count": 97,
   "metadata": {},
   "outputs": [
    {
     "data": {
      "image/png": "[encoded data removed]",
      "text/plain": [
       "<Figure size 700x500 with 1 Axes>"
      ]
     },
     "metadata": {},
     "output_type": "display_data"
    }
   ],
   "source": [
    "import matplotlib.pyplot as plt\n",
    "\n",
    "#xl, xu = problem.bounds()\n",
    "#plt.figure(figsize=(7, 5))\n",
    "#plt.scatter(X[:, 0], X[:, 1], s=30, facecolors='none', edgecolors='r')\n",
    "#plt.xlim(xl[0], xu[0])\n",
    "#plt.ylim(xl[1], xu[1])\n",
    "#plt.title(\"Design Space\")\n",
    "#plt.show()\n",
    "\n",
    "plt.figure(figsize=(7, 5))\n",
    "plt.scatter(F[:, 0], F[:, 1], s=30, facecolors='none', edgecolors='blue')\n",
    "plt.title(\"Objective Space\")\n",
    "plt.show()"
   ]
  },
  {
   "attachments": {},
   "cell_type": "markdown",
   "metadata": {},
   "source": [
    "# Referencias\n",
    "\n",
    "#### https://pymoo.org/getting_started/index.html\n",
    "#### https://pymoo.org/customization/discrete.html\n",
    "#### https://pymoo.org/interface/problem.html\n"
   ]
  }
 ],
 "metadata": {
  "kernelspec": {
   "display_name": "Python 3",
   "language": "python",
   "name": "python3"
  },
  "language_info": {
   "codemirror_mode": {
    "name": "ipython",
    "version": 3
   },
   "file_extension": ".py",
   "mimetype": "text/x-python",
   "name": "python",
   "nbconvert_exporter": "python",
   "pygments_lexer": "ipython3",
   "version": "3.10.11"
  },
  "orig_nbformat": 4
 },
 "nbformat": 4,
 "nbformat_minor": 2
}
