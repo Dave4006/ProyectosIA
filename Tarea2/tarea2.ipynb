{
 "cells": [
  {
   "attachments": {},
   "cell_type": "markdown",
   "metadata": {},
   "source": [
    "# Tarea 2\n",
    "## Importación de módulos"
   ]
  },
  {
   "cell_type": "code",
   "execution_count": 104,
   "metadata": {},
   "outputs": [],
   "source": [
    "import numpy as np\n",
    "from pymoo.core.problem import ElementwiseProblem\n",
    "from IPython.display import display"
   ]
  },
  {
   "attachments": {},
   "cell_type": "markdown",
   "metadata": {},
   "source": [
    "## Clase del problema"
   ]
  },
  {
   "cell_type": "code",
   "execution_count": 105,
   "metadata": {},
   "outputs": [],
   "source": [
    "class MyProblem(ElementwiseProblem):\n",
    "    def __init__(self):\n",
    "        super().__init__(n_var=3,\n",
    "                        n_obj=2,\n",
    "                        xl=0,\n",
    "                        xu=500)\n",
    "        \n",
    "    def _evaluate(self, x, out, *args, **kwargs):\n",
    "        \n",
    "        # Cantidad de tornos\n",
    "        T = x[0]\n",
    "        # Cantidad de fresadoras\n",
    "        F = x[1]\n",
    "        # Cantidad de multiproposito\n",
    "        M = x[2]\n",
    "        \n",
    "        penCab = 280 - (2*T+F+5*M)\n",
    "        penM  = 120 - (6*T+3*F+12*M)\n",
    "        penCar = 670 - (2*T+8*F+4*M)\n",
    "        penA = 250 - (2*T+6*F+6*M)\n",
    "        \n",
    "        penalizaciones = [penCab, penM, penCar, penA]\n",
    "        \n",
    "        pen = 0\n",
    "        \n",
    "        for i in range(4):\n",
    "            if penalizaciones[i] < 0:\n",
    "                pen = pen + penalizaciones[i]\n",
    "        \n",
    "        #f1 = -(4*T+8*F+12*M)+((6*T+3*F+12*M)/(120))**5\n",
    "        f1 = -(4*T+8*F+12*M)+pen**2\n",
    "        f2 = -100+(abs(T-F)+abs(T-M)+abs(F-M))\n",
    "        \n",
    "        out[\"F\"] = [f1, f2]\n",
    "        \n",
    "problem = MyProblem()    "
   ]
  },
  {
   "attachments": {},
   "cell_type": "markdown",
   "metadata": {},
   "source": [
    "## Inicialización del algoritmo"
   ]
  },
  {
   "cell_type": "code",
   "execution_count": 106,
   "metadata": {},
   "outputs": [],
   "source": [
    "from pymoo.algorithms.moo.nsga2 import NSGA2\n",
    "from pymoo.operators.mutation.pm import PM\n",
    "from pymoo.operators.crossover.sbx import SBX\n",
    "from pymoo.operators.sampling.rnd import IntegerRandomSampling\n",
    "from pymoo.operators.repair.rounding import RoundingRepair\n",
    "\n",
    "algorithm = NSGA2(pop_size=200, \n",
    "                sampling=IntegerRandomSampling(),\n",
    "                crossover=SBX(prob=1.0, vtype=float, repair=RoundingRepair()),\n",
    "                mutation=PM(prob=1.0, vtype=float, repair=RoundingRepair()),\n",
    "                eliminate_duplicates = True)"
   ]
  },
  {
   "attachments": {},
   "cell_type": "markdown",
   "metadata": {},
   "source": [
    "## Criterio de parada"
   ]
  },
  {
   "cell_type": "code",
   "execution_count": 107,
   "metadata": {},
   "outputs": [],
   "source": [
    "from pymoo.termination import get_termination\n",
    "\n",
    "termination = get_termination(\"n_gen\", 100)"
   ]
  },
  {
   "attachments": {},
   "cell_type": "markdown",
   "metadata": {},
   "source": [
    "## Optimización"
   ]
  },
  {
   "cell_type": "code",
   "execution_count": 108,
   "metadata": {},
   "outputs": [
    {
     "name": "stdout",
     "output_type": "stream",
     "text": [
      "==========================================================\n",
      "n_gen  |  n_eval  | n_nds  |      eps      |   indicator  \n",
      "==========================================================\n",
      "     1 |      200 |      1 |             - |             -\n",
      "     2 |      400 |      1 |  3.372000E+03 |         ideal\n",
      "     3 |      600 |      1 |  0.000000E+00 |             f\n",
      "     4 |      800 |      3 |  1.0000000000 |         ideal\n",
      "     5 |     1000 |      7 |  0.0315655869 |         ideal\n",
      "     6 |     1200 |      8 |  0.0555555556 |         ideal\n",
      "     7 |     1400 |      8 |  0.0310358383 |             f\n",
      "     8 |     1600 |     15 |  0.0029410824 |         ideal\n",
      "     9 |     1800 |     14 |  0.0285714286 |         ideal\n",
      "    10 |     2000 |     14 |  1.026471E+02 |         nadir\n",
      "    11 |     2200 |     17 |  0.0149253731 |         nadir\n",
      "    12 |     2400 |     21 |  0.0277777778 |         ideal\n",
      "    13 |     2600 |     20 |  0.0083260331 |             f\n",
      "    14 |     2800 |     22 |  0.3529411765 |         nadir\n",
      "    15 |     3000 |     23 |  0.0090127994 |             f\n",
      "    16 |     3200 |     25 |  0.0095893853 |             f\n",
      "    17 |     3400 |     25 |  0.0013600426 |             f\n",
      "    18 |     3600 |     26 |  0.1333333333 |         nadir\n",
      "    19 |     3800 |     28 |  0.0425531915 |         ideal\n",
      "    20 |     4000 |     29 |  0.0020927240 |             f\n",
      "    21 |     4200 |     29 |  0.0020927240 |             f\n",
      "    22 |     4400 |     29 |  0.0057186050 |             f\n",
      "    23 |     4600 |     30 |  0.0032556934 |             f\n",
      "    24 |     4800 |     31 |  0.0016791153 |             f\n",
      "    25 |     5000 |     32 |  0.0016266430 |             f\n",
      "    26 |     5200 |     34 |  0.0039978391 |             f\n",
      "    27 |     5400 |     34 |  0.0006257822 |             f\n",
      "    28 |     5600 |     37 |  0.0552763819 |         ideal\n",
      "    29 |     5800 |     37 |  0.000000E+00 |             f\n",
      "    30 |     6000 |     37 |  0.000000E+00 |             f\n",
      "    31 |     6200 |     36 |  0.0005583473 |             f\n",
      "    32 |     6400 |     36 |  0.0012358541 |             f\n",
      "    33 |     6600 |     35 |  0.0018454643 |             f\n",
      "    34 |     6800 |     35 |  0.0018454643 |             f\n",
      "    35 |     7000 |     33 |  0.0024141402 |             f\n",
      "    36 |     7200 |     33 |  0.0024141402 |             f\n",
      "    37 |     7400 |     33 |  0.0031532385 |             f\n",
      "    38 |     7600 |     33 |  0.0007546221 |             f\n",
      "    39 |     7800 |     33 |  0.0007546221 |             f\n",
      "    40 |     8000 |     33 |  0.0007546221 |             f\n",
      "    41 |     8200 |     33 |  0.0007546221 |             f\n",
      "    42 |     8400 |     34 |  0.0007324273 |             f\n",
      "    43 |     8600 |     34 |  0.0007324273 |             f\n",
      "    44 |     8800 |     34 |  0.0007324273 |             f\n",
      "    45 |     9000 |     35 |  0.0016145180 |             f\n",
      "    46 |     9200 |     35 |  0.0016145180 |             f\n",
      "    47 |     9400 |     35 |  0.0016145180 |             f\n",
      "    48 |     9600 |     37 |  0.0015272468 |             f\n",
      "    49 |     9800 |     37 |  0.0015272468 |             f\n",
      "    50 |    10000 |     37 |  0.0015272468 |             f\n",
      "    51 |    10200 |     37 |  0.0022002881 |             f\n",
      "    52 |    10400 |     37 |  0.0022002881 |             f\n",
      "    53 |    10600 |     37 |  0.0022002881 |             f\n",
      "    54 |    10800 |     37 |  0.0022002881 |             f\n",
      "    55 |    11000 |     38 |  0.0050000000 |         ideal\n",
      "    56 |    11200 |     38 |  0.000000E+00 |             f\n",
      "    57 |    11400 |     38 |  0.000000E+00 |             f\n",
      "    58 |    11600 |     38 |  0.000000E+00 |             f\n",
      "    59 |    11800 |     38 |  0.000000E+00 |             f\n",
      "    60 |    12000 |     39 |  0.0006537205 |             f\n",
      "    61 |    12200 |     39 |  0.0006537205 |             f\n",
      "    62 |    12400 |     39 |  0.0006537205 |             f\n",
      "    63 |    12600 |     39 |  0.0006537205 |             f\n",
      "    64 |    12800 |     39 |  0.0006537205 |             f\n",
      "    65 |    13000 |     39 |  0.0006537205 |             f\n",
      "    66 |    13200 |     39 |  0.0006537205 |             f\n",
      "    67 |    13400 |     39 |  0.0006537205 |             f\n",
      "    68 |    13600 |     39 |  0.0006537205 |             f\n",
      "    69 |    13800 |     39 |  0.0006537205 |             f\n",
      "    70 |    14000 |     39 |  0.0006537205 |             f\n",
      "    71 |    14200 |     39 |  0.0006537205 |             f\n",
      "    72 |    14400 |     39 |  0.0006537205 |             f\n",
      "    73 |    14600 |     39 |  0.0006537205 |             f\n",
      "    74 |    14800 |     39 |  0.0006537205 |             f\n",
      "    75 |    15000 |     39 |  0.0006537205 |             f\n",
      "    76 |    15200 |     37 |  0.0013647324 |             f\n",
      "    77 |    15400 |     37 |  0.0013647324 |             f\n",
      "    78 |    15600 |     37 |  0.0013647324 |             f\n",
      "    79 |    15800 |     37 |  0.0013647324 |             f\n",
      "    80 |    16000 |     37 |  0.0013647324 |             f\n",
      "    81 |    16200 |     37 |  0.0013647324 |             f\n",
      "    82 |    16400 |     38 |  0.0013288184 |             f\n",
      "    83 |    16600 |     38 |  0.0013288184 |             f\n",
      "    84 |    16800 |     38 |  0.0013288184 |             f\n",
      "    85 |    17000 |     38 |  0.0013288184 |             f\n",
      "    86 |    17200 |     38 |  0.0013288184 |             f\n",
      "    87 |    17400 |     38 |  0.0013288184 |             f\n",
      "    88 |    17600 |     38 |  0.0013288184 |             f\n",
      "    89 |    17800 |     38 |  0.0013288184 |             f\n",
      "    90 |    18000 |     38 |  0.0013288184 |             f\n",
      "    91 |    18200 |     39 |  0.0012947461 |             f\n",
      "    92 |    18400 |     39 |  0.0012947461 |             f\n",
      "    93 |    18600 |     39 |  0.0012947461 |             f\n",
      "    94 |    18800 |     39 |  0.0012947461 |             f\n",
      "    95 |    19000 |     39 |  0.0012947461 |             f\n",
      "    96 |    19200 |     39 |  0.0012947461 |             f\n",
      "    97 |    19400 |     39 |  0.0012947461 |             f\n",
      "    98 |    19600 |     39 |  0.0012947461 |             f\n",
      "    99 |    19800 |     39 |  0.0012947461 |             f\n",
      "   100 |    20000 |     39 |  0.0012947461 |             f\n"
     ]
    }
   ],
   "source": [
    "from pymoo.optimize import minimize\n",
    "\n",
    "res = minimize(problem,\n",
    "            algorithm,\n",
    "            termination,\n",
    "            seed=1,\n",
    "            save_history=True,\n",
    "            verbose=True)\n",
    "X = res.X\n",
    "F = res.F"
   ]
  },
  {
   "attachments": {},
   "cell_type": "markdown",
   "metadata": {},
   "source": [
    "## Visualización de Resultados"
   ]
  },
  {
   "cell_type": "code",
   "execution_count": 109,
   "metadata": {},
   "outputs": [
    {
     "data": {
      "image/png": "[encoded data removed]",
      "text/plain": [
       "<Figure size 700x500 with 1 Axes>"
      ]
     },
     "metadata": {},
     "output_type": "display_data"
    }
   ],
   "source": [
    "import matplotlib.pyplot as plt\n",
    "\n",
    "#xl, xu = problem.bounds()\n",
    "#plt.figure(figsize=(7, 5))\n",
    "#plt.scatter(X[:, 0], X[:, 1], s=30, facecolors='none', edgecolors='r')\n",
    "#plt.xlim(xl[0], xu[0])\n",
    "#plt.ylim(xl[1], xu[1])\n",
    "#plt.title(\"Design Space\")\n",
    "#plt.show()\n",
    "\n",
    "plt.figure(figsize=(7, 5))\n",
    "plt.scatter(F[:, 0], F[:, 1], s=30, facecolors='none', edgecolors='blue')\n",
    "plt.title(\"Objective Space\")\n",
    "plt.show()"
   ]
  },
  {
   "attachments": {},
   "cell_type": "markdown",
   "metadata": {},
   "source": [
    "# Referencias\n",
    "\n",
    "#### https://pymoo.org/getting_started/index.html\n",
    "#### https://pymoo.org/customization/discrete.html\n",
    "#### https://pymoo.org/interface/problem.html\n"
   ]
  }
 ],
 "metadata": {
  "kernelspec": {
   "display_name": "Python 3",
   "language": "python",
   "name": "python3"
  },
  "language_info": {
   "codemirror_mode": {
    "name": "ipython",
    "version": 3
   },
   "file_extension": ".py",
   "mimetype": "text/x-python",
   "name": "python",
   "nbconvert_exporter": "python",
   "pygments_lexer": "ipython3",
   "version": "3.10.11"
  },
  "orig_nbformat": 4
 },
 "nbformat": 4,
 "nbformat_minor": 2
}
