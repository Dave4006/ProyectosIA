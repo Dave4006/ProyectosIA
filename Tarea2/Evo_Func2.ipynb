{
 "cells": [
  {
   "cell_type": "code",
   "execution_count": 1,
   "metadata": {},
   "outputs": [],
   "source": [
    "from deap import base, creator, tools  # deap utilitieso\n",
    "import random\n",
    "import numpy as np  # numerical computation\n",
    "import matplotlib.pyplot as plt   # plotting"
   ]
  },
  {
   "cell_type": "code",
   "execution_count": 2,
   "metadata": {},
   "outputs": [],
   "source": [
    "creator.create(\"FitnessMax\", base.Fitness, weights=(1.0,))\n",
    "creator.create(\"Individual\", np.ndarray, fitness=creator.FitnessMax)"
   ]
  },
  {
   "cell_type": "code",
   "execution_count": 3,
   "metadata": {},
   "outputs": [],
   "source": [
    "IND_SIZE = 3  # chromosome length\n",
    "\n",
    "toolbox = base.Toolbox()\n",
    "toolbox.register(\"attribute\", random.randint,0, 20)\n",
    "toolbox.register(\"individual\", tools.initRepeat, creator.Individual,\n",
    "                 toolbox.attribute, n=IND_SIZE)\n",
    "toolbox.register(\"population\", tools.initRepeat, list,toolbox.individual)\n"
   ]
  },
  {
   "cell_type": "code",
   "execution_count": 28,
   "metadata": {},
   "outputs": [],
   "source": [
    "def evaluate(ind):\n",
    "    \"\"\" Returns the fitness of an individual.\n",
    "    This is your objective function.\"\"\"\n",
    "    F=4*ind[0]+8*ind[1]+12*ind[2]-15*((6*ind[0]+3*ind[1]+12*ind[2])/120)**10\n",
    "    lista=[]\n",
    "    lista.append(F)\n",
    "    return sum(lista),  #  must return a tuple\n",
    "\n",
    "# Operators\n",
    "toolbox.register(\"cross\", tools.cxTwoPoint)  \n",
    "toolbox.register(\"mutate\", tools.mutUniformInt, low=0, up=20, indpb=1.0)\n",
    "toolbox.register(\"select\", tools.selTournament, tournsize=3)\n",
    "toolbox.register(\"evaluate\", evaluate)"
   ]
  },
  {
   "cell_type": "code",
   "execution_count": 46,
   "metadata": {},
   "outputs": [],
   "source": [
    "def generationalGA():\n",
    "    pop = toolbox.population(n=1000)  # Registered as a list\n",
    "    CXPB = 0.5  # Crossover probability\n",
    "    MUTPB = 0.2  # Mutation probability\n",
    "    NGEN = 100 # Number of generations\n",
    "    \n",
    "    # Evaluate all population first\n",
    "    fitnesses = map(toolbox.evaluate, pop)\n",
    "    for ind, fit in zip(pop, fitnesses):\n",
    "        ind.fitness.values = fit\n",
    "    \n",
    "    # Generate offspring\n",
    "    for __ in range(NGEN):\n",
    "        offspring = toolbox.select(pop, len(pop))\n",
    "        offspring = list(map(toolbox.clone, offspring))  # Generate a deep copy\n",
    "        \n",
    "        # Apply crossover\n",
    "        for c1, c2 in zip(offspring[::2], offspring[1::2]):\n",
    "            if random.random() < CXPB:\n",
    "                toolbox.cross(c1, c2)\n",
    "                # Reset their fitness values\n",
    "                del c1.fitness.values\n",
    "                del c2.fitness.values\n",
    "\n",
    "        # Mutate those selected\n",
    "        for mutant in offspring:\n",
    "            if random.random() < MUTPB:\n",
    "                toolbox.mutate(mutant)\n",
    "                # Reset fitness values\n",
    "                del mutant.fitness.values\n",
    "\n",
    "        # Evaluate non-evaluated individuals in offspring\n",
    "        invalid_inds = [ind for ind in offspring if not ind.fitness.valid]\n",
    "        fitnesses = map(toolbox.evaluate, invalid_inds)\n",
    "        for ind, fit in zip(invalid_inds, fitnesses):\n",
    "            ind.fitness.values = fit\n",
    "\n",
    "        # Replace entire population by the offspring\n",
    "        pop[:] = offspring\n",
    "    \n",
    "    return pop"
   ]
  },
  {
   "cell_type": "code",
   "execution_count": 47,
   "metadata": {},
   "outputs": [
    {
     "name": "stdout",
     "output_type": "stream",
     "text": [
      "Individual: [ 0 20  5]\n",
      "\n",
      "Fitness: 205.0\n",
      "120\n"
     ]
    }
   ],
   "source": [
    "results = generationalGA()\n",
    "fitnesses = [i.fitness.getValues()[0] for i in results]\n",
    "\n",
    "bestpos = fitnesses.index(max(fitnesses))\n",
    "print(\"Individual: {0}\\n\\nFitness: {1}\".format(\n",
    "        results[bestpos], results[bestpos].fitness.getValues()[0]))\n",
    "motores=6*results[bestpos][0]+3*results[bestpos][1]+12*results[bestpos][2]\n",
    "print(motores)\n"
   ]
  }
 ],
 "metadata": {
  "kernelspec": {
   "display_name": "Python 3",
   "language": "python",
   "name": "python3"
  },
  "language_info": {
   "codemirror_mode": {
    "name": "ipython",
    "version": 3
   },
   "file_extension": ".py",
   "mimetype": "text/x-python",
   "name": "python",
   "nbconvert_exporter": "python",
   "pygments_lexer": "ipython3",
   "version": "3.10.8"
  },
  "orig_nbformat": 4
 },
 "nbformat": 4,
 "nbformat_minor": 2
}
